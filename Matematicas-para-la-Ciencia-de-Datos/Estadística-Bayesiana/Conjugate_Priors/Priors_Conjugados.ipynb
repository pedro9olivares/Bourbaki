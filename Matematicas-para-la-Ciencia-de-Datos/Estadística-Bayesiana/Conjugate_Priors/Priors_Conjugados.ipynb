{
  "cells": [
    {
      "cell_type": "markdown",
      "metadata": {
        "id": "h0rJOxyaO8bn"
      },
      "source": [
        "# Galletas evolved: La moneda de 1 euro"
      ]
    },
    {
      "cell_type": "markdown",
      "metadata": {
        "id": "SejYZYpRQ67u"
      },
      "source": [
        "Una declaración estadística apareció en The Guardian el viernes 4 de enero de 2002:\n",
        "\n",
        "Cuando se giró de canto 250 veces, una moneda belga de 1 euro salió cara 140 veces y cruz 110 veces. \"Me parece muy sospechoso\", dijo Barry Blight, profesor de estadística en la London School of Economics. \"Si la moneda no estuviera sesgada, la probabilidad de obtener un resultado tan extremo sería menos del 7%\".\n",
        "\n",
        "Pero **¿estos datos dan suficiente evidencia de que la moneda está sesgada en lugar de ser justa?**"
      ]
    },
    {
      "cell_type": "markdown",
      "metadata": {
        "id": "aSyR1X5QRPEK"
      },
      "source": [
        "Para responder a esa pregunta, procederemos en dos pasos. Primero usaremos la distribución binomial para ver de dónde proviene ese 7%; luego utilizaremos el Teorema de Bayes para estimar la probabilidad de que esta moneda salga cara."
      ]
    },
    {
      "cell_type": "code",
      "execution_count": 1,
      "metadata": {
        "colab": {
          "base_uri": "https://localhost:8080/"
        },
        "id": "TSLA6HIGO-_Y",
        "outputId": "0b15b64e-1674-424a-a2cf-d10cfd05f6d9"
      },
      "outputs": [
        {
          "data": {
            "text/plain": [
              "0.5000000000000002"
            ]
          },
          "execution_count": 1,
          "metadata": {},
          "output_type": "execute_result"
        }
      ],
      "source": [
        "from scipy.stats import binom\n",
        "\n",
        "n = 2\n",
        "p = 0.5\n",
        "k = 1\n",
        "\n",
        "binom.pmf(k, n, p)"
      ]
    },
    {
      "cell_type": "code",
      "execution_count": 3,
      "metadata": {
        "colab": {
          "base_uri": "https://localhost:8080/"
        },
        "id": "wf11V-tGPF0z",
        "outputId": "02dd65f5-ec9a-461c-e122-7ccd7005ec4a"
      },
      "outputs": [
        {
          "data": {
            "text/plain": [
              "(array([0, 1, 2]), array([0.25, 0.5 , 0.25]))"
            ]
          },
          "execution_count": 3,
          "metadata": {},
          "output_type": "execute_result"
        }
      ],
      "source": [
        "import numpy as np\n",
        "\n",
        "ks = np.arange(n+1)\n",
        "\n",
        "ps = binom.pmf(ks, n, p)\n",
        "ks, ps"
      ]
    },
    {
      "cell_type": "code",
      "execution_count": null,
      "metadata": {},
      "outputs": [],
      "source": [
        "!pip3 install empiricaldist"
      ]
    },
    {
      "cell_type": "code",
      "execution_count": 6,
      "metadata": {
        "colab": {
          "base_uri": "https://localhost:8080/",
          "height": 143
        },
        "id": "d-WBcEcHPIN6",
        "outputId": "9b309808-ae93-47d4-c07a-d5324dbdc9e6"
      },
      "outputs": [
        {
          "data": {
            "text/html": [
              "<div>\n",
              "<style scoped>\n",
              "    .dataframe tbody tr th:only-of-type {\n",
              "        vertical-align: middle;\n",
              "    }\n",
              "\n",
              "    .dataframe tbody tr th {\n",
              "        vertical-align: top;\n",
              "    }\n",
              "\n",
              "    .dataframe thead th {\n",
              "        text-align: right;\n",
              "    }\n",
              "</style>\n",
              "<table border=\"1\" class=\"dataframe\">\n",
              "  <thead>\n",
              "    <tr style=\"text-align: right;\">\n",
              "      <th></th>\n",
              "      <th>probs</th>\n",
              "    </tr>\n",
              "  </thead>\n",
              "  <tbody>\n",
              "    <tr>\n",
              "      <th>0</th>\n",
              "      <td>0.25</td>\n",
              "    </tr>\n",
              "    <tr>\n",
              "      <th>1</th>\n",
              "      <td>0.50</td>\n",
              "    </tr>\n",
              "    <tr>\n",
              "      <th>2</th>\n",
              "      <td>0.25</td>\n",
              "    </tr>\n",
              "  </tbody>\n",
              "</table>\n",
              "</div>"
            ],
            "text/plain": [
              "0    0.25\n",
              "1    0.50\n",
              "2    0.25\n",
              "dtype: float64"
            ]
          },
          "execution_count": 6,
          "metadata": {},
          "output_type": "execute_result"
        }
      ],
      "source": [
        "from empiricaldist import Pmf\n",
        "\n",
        "pmf_k = Pmf(ps, ks)\n",
        "pmf_k"
      ]
    },
    {
      "cell_type": "code",
      "execution_count": 7,
      "metadata": {
        "id": "125IFyVxPNrg"
      },
      "outputs": [],
      "source": [
        "def make_binomial(n, p):\n",
        "    \"\"\"Make a binomial Pmf.\"\"\"\n",
        "    ks = np.arange(n+1)\n",
        "    ps = binom.pmf(ks, n, p)\n",
        "    return Pmf(ps, ks)"
      ]
    },
    {
      "cell_type": "code",
      "execution_count": 8,
      "metadata": {
        "id": "e1kDxndHPRt0"
      },
      "outputs": [],
      "source": [
        "pmf_k = make_binomial(n=250, p=0.5)"
      ]
    },
    {
      "cell_type": "code",
      "execution_count": 9,
      "metadata": {
        "colab": {
          "base_uri": "https://localhost:8080/",
          "height": 470
        },
        "id": "lGfSW7tgPTU1",
        "outputId": "5baaae12-f437-41bd-8e6c-372cbc2b87ac"
      },
      "outputs": [
        {
          "data": {
            "text/plain": [
              "<Axes: title={'center': 'FMP Binomial'}>"
            ]
          },
          "execution_count": 9,
          "metadata": {},
          "output_type": "execute_result"
        },
        {
          "data": {
            "image/png": "[encoded data removed]",
            "text/plain": [
              "<Figure size 640x480 with 1 Axes>"
            ]
          },
          "metadata": {},
          "output_type": "display_data"
        }
      ],
      "source": [
        "pmf_k.plot(label='n=250, p=0.5', title='FMP Binomial', legend='true')"
      ]
    },
    {
      "cell_type": "code",
      "execution_count": 10,
      "metadata": {
        "colab": {
          "base_uri": "https://localhost:8080/"
        },
        "id": "9B1MyLnoPWFU",
        "outputId": "b6ace4d9-7ca9-452f-d23c-6fafd522f510"
      },
      "outputs": [
        {
          "data": {
            "text/plain": [
              "125"
            ]
          },
          "execution_count": 10,
          "metadata": {},
          "output_type": "execute_result"
        }
      ],
      "source": [
        "pmf_k.max_prob()"
      ]
    },
    {
      "cell_type": "code",
      "execution_count": 11,
      "metadata": {
        "colab": {
          "base_uri": "https://localhost:8080/"
        },
        "id": "PZz_SmyvPYqN",
        "outputId": "678501f8-198b-44b1-fbdf-c3c4951028fc"
      },
      "outputs": [
        {
          "data": {
            "text/plain": [
              "0.050412213147309655"
            ]
          },
          "execution_count": 11,
          "metadata": {},
          "output_type": "execute_result"
        }
      ],
      "source": [
        "pmf_k[125]"
      ]
    },
    {
      "cell_type": "code",
      "execution_count": 12,
      "metadata": {
        "id": "2DpxwJjjPa0H"
      },
      "outputs": [],
      "source": [
        "def prob_ge(pmf, threshold):\n",
        "    \"\"\"Probability of quantities greater than threshold.\"\"\"\n",
        "    ge = (pmf.qs >= threshold)\n",
        "    total = pmf[ge].sum()\n",
        "    return total"
      ]
    },
    {
      "cell_type": "code",
      "execution_count": 13,
      "metadata": {
        "colab": {
          "base_uri": "https://localhost:8080/"
        },
        "id": "wuSlyPyUPkzi",
        "outputId": "d065b82d-d1f7-49d2-c5e8-ae740111a368"
      },
      "outputs": [
        {
          "data": {
            "text/plain": [
              "0.033210575620021665"
            ]
          },
          "execution_count": 13,
          "metadata": {},
          "output_type": "execute_result"
        }
      ],
      "source": [
        "prob_ge(pmf_k, 140)"
      ]
    },
    {
      "cell_type": "code",
      "execution_count": 14,
      "metadata": {
        "colab": {
          "base_uri": "https://localhost:8080/"
        },
        "id": "HsFCHGFxPm2Z",
        "outputId": "333e0d4d-d334-4e7f-ae98-a1ff6a9ebba9"
      },
      "outputs": [
        {
          "data": {
            "text/plain": [
              "0.033210575620021665"
            ]
          },
          "execution_count": 14,
          "metadata": {},
          "output_type": "execute_result"
        }
      ],
      "source": [
        "pmf_k.prob_ge(140)"
      ]
    },
    {
      "cell_type": "code",
      "execution_count": 15,
      "metadata": {
        "colab": {
          "base_uri": "https://localhost:8080/",
          "height": 470
        },
        "id": "PKydShr4PpS1",
        "outputId": "ee3c4e1d-c0df-4ac1-f10e-23aae807974f"
      },
      "outputs": [
        {
          "data": {
            "text/plain": [
              "<Axes: title={'center': 'FMP Binomial'}>"
            ]
          },
          "execution_count": 15,
          "metadata": {},
          "output_type": "execute_result"
        },
        {
          "data": {
            "image/png": "[encoded data removed]",
            "text/plain": [
              "<Figure size 640x480 with 1 Axes>"
            ]
          },
          "metadata": {},
          "output_type": "display_data"
        }
      ],
      "source": [
        "import matplotlib.pyplot as plt\n",
        "\n",
        "def fill_below(pmf):\n",
        "    qs = pmf.index\n",
        "    ps = pmf.values\n",
        "    plt.fill_between(qs, ps, 0, color='C5', alpha=0.4)\n",
        "\n",
        "qs = pmf_k.index\n",
        "fill_below(pmf_k[qs>=140])\n",
        "fill_below(pmf_k[qs<=110])\n",
        "pmf_k.plot(label='n=250, p=0.5', title='FMP Binomial', legend='true')"
      ]
    },
    {
      "cell_type": "code",
      "execution_count": 16,
      "metadata": {
        "colab": {
          "base_uri": "https://localhost:8080/"
        },
        "id": "tmoptCViPuB3",
        "outputId": "6d4f505d-124e-43f5-aa6c-9213ec5db8a9"
      },
      "outputs": [
        {
          "data": {
            "text/plain": [
              "0.033210575620021665"
            ]
          },
          "execution_count": 16,
          "metadata": {},
          "output_type": "execute_result"
        }
      ],
      "source": [
        "pmf_k.prob_le(110)"
      ]
    },
    {
      "cell_type": "markdown",
      "metadata": {
        "id": "LeszViLlaI8Q"
      },
      "source": [
        "De sumar estos .033, obtenemos el 7%."
      ]
    },
    {
      "cell_type": "markdown",
      "metadata": {
        "id": "Yyb5ecVza4eC"
      },
      "source": [
        "## Estimación Bayesiana"
      ]
    },
    {
      "cell_type": "markdown",
      "metadata": {
        "id": "5huHA2PScBkZ"
      },
      "source": [
        "\n",
        "Cualquier moneda tiene una cierta probabilidad de caer con la cara hacia arriba cuando se hace girar sobre su borde; llamaremos a esta probabilidad x. Parece razonable creer que x depende de las características físicas de la moneda, como la distribución del peso. Si una moneda está perfectamente equilibrada, esperamos que x esté cerca del 50%, pero para una moneda desequilibrada, x podría ser sustancialmente diferente. Podemos usar el teorema de Bayes y los datos observados para estimar x.\n",
        "\n",
        "\n",
        "\n",
        "\n",
        "\n",
        "\n"
      ]
    },
    {
      "cell_type": "code",
      "execution_count": 124,
      "metadata": {
        "id": "R-y9oPD7Pw2M"
      },
      "outputs": [],
      "source": [
        "hypos = np.linspace(0, 1, 101)\n",
        "prior = Pmf(1, hypos)"
      ]
    },
    {
      "cell_type": "code",
      "execution_count": 125,
      "metadata": {
        "id": "DQrsfO2OP1Lr"
      },
      "outputs": [],
      "source": [
        "likelihood_heads = hypos\n",
        "likelihood_tails = 1 - hypos"
      ]
    },
    {
      "cell_type": "code",
      "execution_count": 106,
      "metadata": {
        "id": "t1QpsfnJP3QG"
      },
      "outputs": [],
      "source": [
        "likelihood = {\n",
        "    'H': likelihood_heads,\n",
        "    'T': likelihood_tails\n",
        "}"
      ]
    },
    {
      "cell_type": "code",
      "execution_count": 107,
      "metadata": {
        "id": "ldCgFO5sP44C"
      },
      "outputs": [],
      "source": [
        "dataset = 'H' * 140 + 'T' * 110"
      ]
    },
    {
      "cell_type": "code",
      "execution_count": 126,
      "metadata": {
        "id": "SF6GvDQXP6rn"
      },
      "outputs": [],
      "source": [
        "def update_euro(pmf, dataset):\n",
        "    \"\"\"Update pmf with a given sequence of H and T.\"\"\"\n",
        "    for data in dataset:\n",
        "        pmf *= likelihood[data]\n",
        "\n",
        "    pmf.normalize()"
      ]
    },
    {
      "cell_type": "code",
      "execution_count": 127,
      "metadata": {
        "id": "2XZhdNqZP88B"
      },
      "outputs": [],
      "source": [
        "posterior = prior.copy()\n",
        "update_euro(posterior, dataset)"
      ]
    },
    {
      "cell_type": "code",
      "execution_count": 133,
      "metadata": {
        "colab": {
          "base_uri": "https://localhost:8080/",
          "height": 471
        },
        "id": "z4_0dt9wQEJa",
        "outputId": "e00b1792-6213-489e-93a8-1d407beeeb94"
      },
      "outputs": [
        {
          "data": {
            "text/plain": [
              "<Axes: title={'center': 'Distribución posterior'}>"
            ]
          },
          "execution_count": 133,
          "metadata": {},
          "output_type": "execute_result"
        },
        {
          "data": {
            "image/png": "[encoded data removed]",
            "text/plain": [
              "<Figure size 640x480 with 1 Axes>"
            ]
          },
          "metadata": {},
          "output_type": "display_data"
        }
      ],
      "source": [
        "posterior.plot(label='140 heads out of 250', color='C4', legend=True, title='Distribución posterior')"
      ]
    },
    {
      "cell_type": "code",
      "execution_count": 112,
      "metadata": {
        "colab": {
          "base_uri": "https://localhost:8080/"
        },
        "id": "zWzHCRflQJOP",
        "outputId": "c0f34ac7-d236-4c05-821a-855c3f034a6b"
      },
      "outputs": [
        {
          "data": {
            "text/plain": [
              "0.56"
            ]
          },
          "execution_count": 112,
          "metadata": {},
          "output_type": "execute_result"
        }
      ],
      "source": [
        "posterior.max_prob()"
      ]
    },
    {
      "cell_type": "markdown",
      "metadata": {
        "id": "LNPmaO9-cOVe"
      },
      "source": [
        "Notar que 140/250 = .56"
      ]
    },
    {
      "cell_type": "markdown",
      "metadata": {
        "id": "7mH4Ol34cU4x"
      },
      "source": [
        "¿Que pasaría si utilizaramos un prior que no fuera la distribución uniforme?"
      ]
    },
    {
      "cell_type": "markdown",
      "metadata": {
        "id": "fjPN5L0t56cM"
      },
      "source": [
        "# Priors Conjugados o Conjugate Priors"
      ]
    },
    {
      "cell_type": "markdown",
      "metadata": {
        "id": "gxEqPep_59uO"
      },
      "source": [
        "Existe una manera más sencilla de realizar actualizaciones bayesianas."
      ]
    },
    {
      "cell_type": "markdown",
      "metadata": {
        "id": "8EabXV556HDB"
      },
      "source": [
        "Cuando las distribuciones prior y posterior pertenecen a la misma familia de distribuciones de probabilidad, la distribución prior se llama una prior conjugado a la función de verosimilitud."
      ]
    },
    {
      "cell_type": "markdown",
      "metadata": {
        "id": "dvbVU5N6jJbT"
      },
      "source": [
        "Esta propiedad simplifica el proceso de actualizar creencias en presencia de nuevos datos, ya que asegura que la distribución posterior esté en la misma familia que la distribución previa."
      ]
    },
    {
      "cell_type": "code",
      "execution_count": 18,
      "metadata": {
        "id": "Nx5VhTCM83u7"
      },
      "outputs": [],
      "source": [
        "from empiricaldist import Pmf\n",
        "\n",
        "def pmf_from_dist(dist, low, high):\n",
        "    \"\"\"Make a discrete approximation of a continuous distribution.\n",
        "\n",
        "    dist: SciPy dist object\n",
        "    low: low end of range\n",
        "    high: high end of range\n",
        "\n",
        "    returns: normalized Pmf\n",
        "    \"\"\"\n",
        "    qs = np.linspace(low, high, 101)\n",
        "    ps = dist.pdf(qs)\n",
        "    pmf = Pmf(ps, qs)\n",
        "    pmf.normalize()\n",
        "    return pmf"
      ]
    },
    {
      "cell_type": "markdown",
      "metadata": {
        "id": "z2yzqMua8FvZ"
      },
      "source": [
        "## Gamma y Poisson"
      ]
    },
    {
      "cell_type": "markdown",
      "metadata": {
        "id": "pIIo9TeQjfwv"
      },
      "source": [
        "La distribución Gamma es el prior conjugate de la distribución Poisson"
      ]
    },
    {
      "cell_type": "markdown",
      "metadata": {
        "id": "_9MLzF5Dj2Iz"
      },
      "source": [
        "Esto nos va a dar una manera muy sencilla de obtener la distribución posterior"
      ]
    },
    {
      "cell_type": "code",
      "execution_count": 19,
      "metadata": {
        "id": "IhcGnIeI50b5"
      },
      "outputs": [],
      "source": [
        "from scipy.stats import gamma\n",
        "from scipy.stats import poisson\n",
        "import numpy as np"
      ]
    },
    {
      "cell_type": "code",
      "execution_count": 20,
      "metadata": {
        "id": "ro5E8BeG8Pnz"
      },
      "outputs": [],
      "source": [
        "def make_gamma_dist(alpha, beta):\n",
        "    \"\"\"Makes a gamma object.\"\"\"\n",
        "    dist = gamma(alpha, scale=1/beta)\n",
        "    dist.alpha = alpha\n",
        "    dist.beta = beta\n",
        "    return dist"
      ]
    },
    {
      "cell_type": "code",
      "execution_count": 21,
      "metadata": {
        "colab": {
          "base_uri": "https://localhost:8080/"
        },
        "id": "5pIFz9I18Uy7",
        "outputId": "64fc1be6-9a0b-4d7a-b881-58abfc888bf1"
      },
      "outputs": [
        {
          "data": {
            "text/plain": [
              "1.4"
            ]
          },
          "execution_count": 21,
          "metadata": {},
          "output_type": "execute_result"
        }
      ],
      "source": [
        "alpha = 1.4\n",
        "beta = 1\n",
        "\n",
        "prior_gamma = make_gamma_dist(alpha, beta)\n",
        "prior_gamma.mean()"
      ]
    },
    {
      "cell_type": "markdown",
      "metadata": {
        "id": "w5TNvrBkkGc5"
      },
      "source": [
        "Afirmamos sin demostrar que podemos hacer una actualización bayesiana de k goles/galletas/spins simplemente creando una distribución gamma con parámetros alfa+k y beta+1."
      ]
    },
    {
      "cell_type": "code",
      "execution_count": 22,
      "metadata": {
        "id": "TBNr2poT8XAl"
      },
      "outputs": [],
      "source": [
        "def update_gamma(prior, data):\n",
        "    \"\"\"Update a gamma prior.\"\"\"\n",
        "    k, t = data\n",
        "    alpha = prior.alpha + k\n",
        "    beta = prior.beta + t\n",
        "    return make_gamma_dist(alpha, beta)"
      ]
    },
    {
      "cell_type": "markdown",
      "metadata": {
        "id": "w5B6dyePkSa1"
      },
      "source": [
        "Por ejemplo, para 4 goles en 1 partido:"
      ]
    },
    {
      "cell_type": "code",
      "execution_count": 23,
      "metadata": {
        "id": "n77LV0gT8Zm9"
      },
      "outputs": [],
      "source": [
        "data = 4, 1\n",
        "posterior_gamma = update_gamma(prior_gamma, data)"
      ]
    },
    {
      "cell_type": "code",
      "execution_count": 24,
      "metadata": {
        "id": "2sWY-PL08b1h"
      },
      "outputs": [],
      "source": [
        "#lams = np.linspace(0, 10, 101)\n",
        "posterior_conjugate = pmf_from_dist(posterior_gamma, 0, 10)"
      ]
    },
    {
      "cell_type": "code",
      "execution_count": 25,
      "metadata": {
        "colab": {
          "base_uri": "https://localhost:8080/",
          "height": 448
        },
        "id": "LR2ul9N7-IxP",
        "outputId": "271ec200-1b82-4716-c6d7-d14ee052e7d4"
      },
      "outputs": [
        {
          "data": {
            "text/plain": [
              "<Axes: >"
            ]
          },
          "execution_count": 25,
          "metadata": {},
          "output_type": "execute_result"
        },
        {
          "data": {
            "image/png": "[encoded data removed]",
            "text/plain": [
              "<Figure size 640x480 with 1 Axes>"
            ]
          },
          "metadata": {},
          "output_type": "display_data"
        }
      ],
      "source": [
        "posterior_conjugate.plot(label='conjugate posterior',\n",
        "                         color='C4', ls=':', legend=True)"
      ]
    },
    {
      "cell_type": "markdown",
      "metadata": {
        "id": "o9kytifg-cpx"
      },
      "source": [
        "## Binomial y Beta"
      ]
    },
    {
      "cell_type": "markdown",
      "metadata": {
        "id": "sO71SWOulLxY"
      },
      "source": [
        "La distribución beta es el prior conjugado de la distribución binomial"
      ]
    },
    {
      "cell_type": "markdown",
      "metadata": {
        "id": "BxBo7B23lbTK"
      },
      "source": [
        "De hecho, la distribución uniforme es una instancia de la distribución beta cuando sus parámetros son igual a 1"
      ]
    },
    {
      "cell_type": "code",
      "execution_count": 26,
      "metadata": {
        "id": "GIYCidQC-h5W"
      },
      "outputs": [],
      "source": [
        "import scipy.stats\n",
        "\n",
        "def make_beta(alpha, beta):\n",
        "    \"\"\"Makes a beta object.\"\"\"\n",
        "    dist = scipy.stats.beta(alpha, beta)\n",
        "    dist.alpha = alpha\n",
        "    dist.beta = beta\n",
        "    return dist"
      ]
    },
    {
      "cell_type": "markdown",
      "metadata": {
        "id": "IZO71lsJlzV7"
      },
      "source": [
        "La distribución beta está limitada entre 0 y 1, por lo que funciona bien para representar la distribución de una probabilidad como x. Tiene dos parámetros, llamados alfa y beta, que determinan la forma de la distribución.\n",
        "\n",
        "\n",
        "\n",
        "\n",
        "\n",
        "\n"
      ]
    },
    {
      "cell_type": "code",
      "execution_count": 27,
      "metadata": {
        "id": "yDapsedW-41g"
      },
      "outputs": [],
      "source": [
        "alpha = 1\n",
        "beta = 1\n",
        "\n",
        "prior_beta = make_beta(alpha, beta) # Beta/Uniforme"
      ]
    },
    {
      "cell_type": "markdown",
      "metadata": {
        "id": "WDqcMJCql97u"
      },
      "source": [
        "En este caso, la actualización bayesiana se reduce a sumar $k$ y $n-k$ en alfa y beta respectivamente."
      ]
    },
    {
      "cell_type": "code",
      "execution_count": 28,
      "metadata": {
        "id": "YMH0QEr_-8T9"
      },
      "outputs": [],
      "source": [
        "def update_beta(prior, data):\n",
        "    \"\"\"Update a beta distribution.\"\"\"\n",
        "    k, n = data\n",
        "    alpha = prior.alpha + k\n",
        "    beta = prior.beta + n - k\n",
        "    return make_beta(alpha, beta)"
      ]
    },
    {
      "cell_type": "code",
      "execution_count": 29,
      "metadata": {
        "id": "uLnHXikb--db"
      },
      "outputs": [],
      "source": [
        "data = 140, 250\n",
        "posterior_beta = update_beta(prior_beta, data)"
      ]
    },
    {
      "cell_type": "code",
      "execution_count": 30,
      "metadata": {
        "id": "911J-j5K_AeI"
      },
      "outputs": [],
      "source": [
        "posterior_conjugate = pmf_from_dist(posterior_beta, 0, 1)"
      ]
    },
    {
      "cell_type": "code",
      "execution_count": 31,
      "metadata": {
        "colab": {
          "base_uri": "https://localhost:8080/",
          "height": 448
        },
        "id": "_a1qJsCB_NUT",
        "outputId": "dd580b27-979a-43cd-a0bf-0a1a6d4c9c0c"
      },
      "outputs": [
        {
          "data": {
            "text/plain": [
              "<Axes: >"
            ]
          },
          "execution_count": 31,
          "metadata": {},
          "output_type": "execute_result"
        },
        {
          "data": {
            "image/png": "[encoded data removed]",
            "text/plain": [
              "<Figure size 640x480 with 1 Axes>"
            ]
          },
          "metadata": {},
          "output_type": "display_data"
        }
      ],
      "source": [
        "posterior_conjugate.plot(label='conjugate posterior',\n",
        "                        color='C4', ls=':')"
      ]
    },
    {
      "cell_type": "markdown",
      "metadata": {
        "id": "1T5l1-39_Vx2"
      },
      "source": [
        "## Multinomial y Dirichlet"
      ]
    },
    {
      "cell_type": "markdown",
      "metadata": {
        "id": "FHUDg475mms8"
      },
      "source": [
        "Supongamos que visitamos una reserva de animales salvajes donde sabemos que los únicos animales son leones, tigres y osos, pero no sabemos cuántos hay de cada uno. Durante el recorrido, vemos 3 leones, 2 tigres y 1 oso. Suponiendo que cada animal tenía igual probabilidad de aparecer en nuestra muestra, ¿cuál es la probabilidad de que el próximo animal que veamos sea un oso?"
      ]
    },
    {
      "cell_type": "markdown",
      "metadata": {
        "id": "v_8wZ2f_myRr"
      },
      "source": [
        "Para responder a esta pregunta, utilizaremos los datos para estimar la prevalencia de cada especie, es decir, qué fracción de los animales pertenece a cada especie. Si conocemos las prevalencias, podemos usar la distribución multinomial para calcular la probabilidad de los datos. Por ejemplo, supongamos que sabemos que la fracción de leones, tigres y osos es 0.4, 0.3 y 0.3, respectivamente."
      ]
    },
    {
      "cell_type": "code",
      "execution_count": 32,
      "metadata": {
        "colab": {
          "base_uri": "https://localhost:8080/"
        },
        "id": "gZR6KawXMfvj",
        "outputId": "cf57e506-c58d-4221-8d98-736832cddfdc"
      },
      "outputs": [
        {
          "data": {
            "text/plain": [
              "0.10368"
            ]
          },
          "execution_count": 32,
          "metadata": {},
          "output_type": "execute_result"
        }
      ],
      "source": [
        "from scipy.stats import multinomial\n",
        "\n",
        "data = 3, 2, 1\n",
        "n = np.sum(data)\n",
        "ps = 0.4, 0.3, 0.3\n",
        "\n",
        "multinomial.pmf(data, n, ps)"
      ]
    },
    {
      "cell_type": "markdown",
      "metadata": {
        "id": "4eWzhP9bm9VF"
      },
      "source": [
        "Ahora podríamos elegir un prior para las prevalencias y hacer una actualización bayesiana usando la distribución multinomial para calcular la probabilidad de los datos.\n",
        "\n",
        "Pero hay una manera más fácil, porque la distribución multinomial tiene un prior conjugado: la distribución de Dirichlet."
      ]
    },
    {
      "cell_type": "code",
      "execution_count": 33,
      "metadata": {
        "id": "M7bgQTcxMgth"
      },
      "outputs": [],
      "source": [
        "from scipy.stats import dirichlet\n",
        "\n",
        "alpha = 1, 2, 3\n",
        "dist = dirichlet(alpha)"
      ]
    },
    {
      "cell_type": "code",
      "execution_count": 34,
      "metadata": {
        "colab": {
          "base_uri": "https://localhost:8080/"
        },
        "id": "DFsGkXfOMky2",
        "outputId": "a2213e6e-9936-435a-9224-005a46fa5911"
      },
      "outputs": [
        {
          "data": {
            "text/plain": [
              "array([[0.39276324, 0.01560653, 0.59163023]])"
            ]
          },
          "execution_count": 34,
          "metadata": {},
          "output_type": "execute_result"
        }
      ],
      "source": [
        "dist.rvs()"
      ]
    },
    {
      "cell_type": "code",
      "execution_count": 35,
      "metadata": {
        "colab": {
          "base_uri": "https://localhost:8080/"
        },
        "id": "a6fgDwwKMm-8",
        "outputId": "f7ea9fe4-09c7-403a-a317-f9052d0f4893"
      },
      "outputs": [
        {
          "data": {
            "text/plain": [
              "1.0"
            ]
          },
          "execution_count": 35,
          "metadata": {},
          "output_type": "execute_result"
        }
      ],
      "source": [
        "dist.rvs().sum()"
      ]
    },
    {
      "cell_type": "code",
      "execution_count": 36,
      "metadata": {
        "id": "GvMAvLSEMq5e"
      },
      "outputs": [],
      "source": [
        "sample = dist.rvs(1000)"
      ]
    },
    {
      "cell_type": "code",
      "execution_count": 37,
      "metadata": {
        "colab": {
          "base_uri": "https://localhost:8080/"
        },
        "id": "scxmKZO5Mtko",
        "outputId": "d6ac9165-2fab-4014-bc86-e4e814b5b2a0"
      },
      "outputs": [
        {
          "data": {
            "text/plain": [
              "(1000, 3)"
            ]
          },
          "execution_count": 37,
          "metadata": {},
          "output_type": "execute_result"
        }
      ],
      "source": [
        "sample.shape"
      ]
    },
    {
      "cell_type": "code",
      "execution_count": 38,
      "metadata": {
        "id": "RJzicGi2MyJH"
      },
      "outputs": [],
      "source": [
        "from empiricaldist import Cdf\n",
        "\n",
        "cdfs = [Cdf.from_seq(col)\n",
        "        for col in sample.transpose()]"
      ]
    },
    {
      "cell_type": "code",
      "execution_count": 39,
      "metadata": {
        "colab": {
          "base_uri": "https://localhost:8080/",
          "height": 430
        },
        "id": "Bl-SxlW4M0oC",
        "outputId": "f96f50c0-8a09-4c00-a229-256ba08c35eb"
      },
      "outputs": [
        {
          "data": {
            "image/png": "[encoded data removed]",
            "text/plain": [
              "<Figure size 640x480 with 1 Axes>"
            ]
          },
          "metadata": {},
          "output_type": "display_data"
        }
      ],
      "source": [
        "for i, cdf in enumerate(cdfs):\n",
        "    label = f'Column {i}'\n",
        "    cdf.plot(label=label)"
      ]
    },
    {
      "cell_type": "markdown",
      "metadata": {
        "id": "KJtho_udnKh_"
      },
      "source": [
        "\n",
        "Resulta que estas distribuciones marginales son distribuciones beta. La siguiente función toma una secuencia de parámetros, alpha, y calcula la distribución marginal de la variable i:"
      ]
    },
    {
      "cell_type": "code",
      "execution_count": 40,
      "metadata": {
        "id": "vrEIYjZvM44X"
      },
      "outputs": [],
      "source": [
        "def marginal_beta(alpha, i):\n",
        "    \"\"\"Compute the ith marginal of a Dirichlet distribution.\"\"\"\n",
        "    total = np.sum(alpha)\n",
        "    return make_beta(alpha[i], total-alpha[i])"
      ]
    },
    {
      "cell_type": "code",
      "execution_count": 41,
      "metadata": {
        "id": "198xWQp8M7oA"
      },
      "outputs": [],
      "source": [
        "marginals = [marginal_beta(alpha, i)\n",
        "             for i in range(len(alpha))]"
      ]
    },
    {
      "cell_type": "markdown",
      "metadata": {
        "id": "IBeIvLeynZQS"
      },
      "source": [
        "Comparamos las marginales obtenidas de los datos contra las marginales teóricas:"
      ]
    },
    {
      "cell_type": "code",
      "execution_count": 42,
      "metadata": {
        "colab": {
          "base_uri": "https://localhost:8080/",
          "height": 430
        },
        "id": "ZbRNzx_ONQfl",
        "outputId": "96a6a853-82ed-463f-b9de-8de8f8ff3e67"
      },
      "outputs": [
        {
          "data": {
            "image/png": "[encoded data removed]",
            "text/plain": [
              "<Figure size 640x480 with 1 Axes>"
            ]
          },
          "metadata": {},
          "output_type": "display_data"
        }
      ],
      "source": [
        "xs = np.linspace(0, 1, 101)\n",
        "\n",
        "for i in range(len(alpha)):\n",
        "    label = f'Column {i}'\n",
        "\n",
        "    pmf = pmf_from_dist(marginals[i], 0, 1)\n",
        "    pmf.make_cdf().plot(color='C5')\n",
        "\n",
        "    cdf = cdfs[i]\n",
        "    cdf.plot(label=label, ls=':')"
      ]
    },
    {
      "cell_type": "markdown",
      "metadata": {
        "id": "L7zhOuRunhIt"
      },
      "source": [
        "De donde obtenemos confirmación visual de que las distribuciones marginales de una distribucipon de Dirichlet (multivariada) son efectivamente distribuciones Beta."
      ]
    },
    {
      "cell_type": "markdown",
      "metadata": {
        "id": "liemvcq9ntYn"
      },
      "source": [
        "Así, podemos contestar la pregunta ayudándonos de los priors conjugados:"
      ]
    },
    {
      "cell_type": "code",
      "execution_count": 44,
      "metadata": {
        "id": "2X2nfFuuNmP8"
      },
      "outputs": [],
      "source": [
        "prior_alpha = np.array([1, 1, 1]) # alpha para el prior (Dirichlet)\n",
        "data = 3, 2, 1"
      ]
    },
    {
      "cell_type": "code",
      "execution_count": 45,
      "metadata": {
        "colab": {
          "base_uri": "https://localhost:8080/"
        },
        "id": "A9OjfqhaNm2P",
        "outputId": "6f6398f5-5183-41b8-d088-419ba46db992"
      },
      "outputs": [
        {
          "data": {
            "text/plain": [
              "array([4, 3, 2])"
            ]
          },
          "execution_count": 45,
          "metadata": {},
          "output_type": "execute_result"
        }
      ],
      "source": [
        "posterior_alpha = prior_alpha + data # La actualización es una suma en alpha\n",
        "posterior_alpha"
      ]
    },
    {
      "cell_type": "code",
      "execution_count": 46,
      "metadata": {
        "colab": {
          "base_uri": "https://localhost:8080/"
        },
        "id": "6gvKQszxNpH3",
        "outputId": "7d974c4a-c742-4ea5-ffc9-f3cb54a5bd00"
      },
      "outputs": [
        {
          "data": {
            "text/plain": [
              "0.2222222222222222"
            ]
          },
          "execution_count": 46,
          "metadata": {},
          "output_type": "execute_result"
        }
      ],
      "source": [
        "marginal_bear = marginal_beta(posterior_alpha, 2) # Visto marginalmente\n",
        "marginal_bear.mean()"
      ]
    },
    {
      "cell_type": "code",
      "execution_count": 47,
      "metadata": {
        "id": "lx7VkeQuNrGr"
      },
      "outputs": [],
      "source": [
        "dist = dirichlet(posterior_alpha) # Visto conjuntamente"
      ]
    },
    {
      "cell_type": "code",
      "execution_count": 48,
      "metadata": {
        "colab": {
          "base_uri": "https://localhost:8080/",
          "height": 143
        },
        "id": "9UmQGx03NttL",
        "outputId": "eb054a7a-8dcd-4b01-e1bf-fbbf3cddc203"
      },
      "outputs": [
        {
          "data": {
            "text/html": [
              "<div>\n",
              "<style scoped>\n",
              "    .dataframe tbody tr th:only-of-type {\n",
              "        vertical-align: middle;\n",
              "    }\n",
              "\n",
              "    .dataframe tbody tr th {\n",
              "        vertical-align: top;\n",
              "    }\n",
              "\n",
              "    .dataframe thead th {\n",
              "        text-align: right;\n",
              "    }\n",
              "</style>\n",
              "<table border=\"1\" class=\"dataframe\">\n",
              "  <thead>\n",
              "    <tr style=\"text-align: right;\">\n",
              "      <th></th>\n",
              "      <th>prob</th>\n",
              "    </tr>\n",
              "  </thead>\n",
              "  <tbody>\n",
              "    <tr>\n",
              "      <th>lion</th>\n",
              "      <td>0.444444</td>\n",
              "    </tr>\n",
              "    <tr>\n",
              "      <th>tiger</th>\n",
              "      <td>0.333333</td>\n",
              "    </tr>\n",
              "    <tr>\n",
              "      <th>bear</th>\n",
              "      <td>0.222222</td>\n",
              "    </tr>\n",
              "  </tbody>\n",
              "</table>\n",
              "</div>"
            ],
            "text/plain": [
              "           prob\n",
              "lion   0.444444\n",
              "tiger  0.333333\n",
              "bear   0.222222"
            ]
          },
          "execution_count": 48,
          "metadata": {},
          "output_type": "execute_result"
        }
      ],
      "source": [
        "import pandas as pd\n",
        "\n",
        "index = ['lion', 'tiger', 'bear']\n",
        "pd.DataFrame(dist.mean(), index, columns=['prob'])"
      ]
    },
    {
      "cell_type": "markdown",
      "metadata": {
        "id": "olhl5Cby_YZo"
      },
      "source": [
        "## Los reviewers de 3Blue1Brown"
      ]
    },
    {
      "cell_type": "markdown",
      "metadata": {
        "id": "KkbnnGmioeiy"
      },
      "source": [
        "3Blue1Brown plante el siguiente problema en uno de sus videos:"
      ]
    },
    {
      "cell_type": "markdown",
      "metadata": {
        "id": "oExw4YoYo1pW"
      },
      "source": [
        "> Estás comprando un producto en línea y ves que tres vendedores ofrecen el mismo producto al mismo precio. Uno de ellos tiene una calificación positiva del 100%, pero con solo 10 reseñas. Otro tiene una calificación positiva del 96% con un total de 50 reseñas. Y otro más tiene una calificación positiva del 93%, pero con 200 reseñas en total.\n",
        "\n",
        "> ¿De cuál vendedor deberías comprar?\n",
        "\n",
        "\n",
        "\n",
        "\n",
        "\n",
        "\n"
      ]
    },
    {
      "cell_type": "markdown",
      "metadata": {
        "id": "jqO-lD3IphhL"
      },
      "source": [
        "Supongamos que cada vendedor tiene una probabilidad desconocida x de proporcionar un servicio satisfactorio y obtener una calificación positiva, y queremos elegir al vendedor con el valor más alto de x."
      ]
    },
    {
      "cell_type": "code",
      "execution_count": 49,
      "metadata": {
        "colab": {
          "base_uri": "https://localhost:8080/",
          "height": 448
        },
        "id": "gOCG7DbJNV-i",
        "outputId": "7812d7d3-899b-4cda-d007-6c8e7d52ff9e"
      },
      "outputs": [
        {
          "data": {
            "text/plain": [
              "<Axes: >"
            ]
          },
          "execution_count": 49,
          "metadata": {},
          "output_type": "execute_result"
        },
        {
          "data": {
            "image/png": "[encoded data removed]",
            "text/plain": [
              "<Figure size 640x480 with 1 Axes>"
            ]
          },
          "metadata": {},
          "output_type": "display_data"
        }
      ],
      "source": [
        "# Utilicemos un beta de prior con parámetros 8 y 2\n",
        "# De esta forma, estamos suponiendo que los vendedores son buenos la mayoría de las veces\n",
        "\n",
        "prior = make_beta(8, 2)\n",
        "\n",
        "prior_pmf = pmf_from_dist(prior, .005, .995)\n",
        "prior_pmf.plot(color='C5', label='prior', legend=True)"
      ]
    },
    {
      "cell_type": "code",
      "execution_count": 50,
      "metadata": {
        "id": "1YZr_ullOMWu"
      },
      "outputs": [],
      "source": [
        "# Datos\n",
        "data1 = 10, 10 # --> 100%\n",
        "data2 = 48, 50 # --> 96%\n",
        "data3 = 186, 200 # --> 93%"
      ]
    },
    {
      "cell_type": "code",
      "execution_count": 51,
      "metadata": {
        "id": "sEn4XDszOUae"
      },
      "outputs": [],
      "source": [
        "# Actualización\n",
        "seller1 = update_beta(prior, data1)\n",
        "seller2 = update_beta(prior, data2)\n",
        "seller3 = update_beta(prior, data3)"
      ]
    },
    {
      "cell_type": "code",
      "execution_count": 52,
      "metadata": {
        "id": "TKhc38oAObcw"
      },
      "outputs": [],
      "source": [
        "seller1_pmf = pmf_from_dist(seller1, .005, .995)\n",
        "seller2_pmf = pmf_from_dist(seller2, .005, .995)\n",
        "seller3_pmf = pmf_from_dist(seller3, .005, .995)"
      ]
    },
    {
      "cell_type": "code",
      "execution_count": 53,
      "metadata": {
        "colab": {
          "base_uri": "https://localhost:8080/",
          "height": 448
        },
        "id": "Gx2Ciou7Oi2O",
        "outputId": "f0bac32a-6e86-48fd-8535-e3c897ed9123"
      },
      "outputs": [
        {
          "data": {
            "text/plain": [
              "<Axes: >"
            ]
          },
          "execution_count": 53,
          "metadata": {},
          "output_type": "execute_result"
        },
        {
          "data": {
            "image/png": "[encoded data removed]",
            "text/plain": [
              "<Figure size 640x480 with 1 Axes>"
            ]
          },
          "metadata": {},
          "output_type": "display_data"
        }
      ],
      "source": [
        "seller1_pmf.plot(label='seller 1', legend=True)\n",
        "seller2_pmf.plot(label='seller 2', legend=True)\n",
        "seller3_pmf.plot(label='seller 3', legend=True)"
      ]
    },
    {
      "cell_type": "code",
      "execution_count": 54,
      "metadata": {
        "colab": {
          "base_uri": "https://localhost:8080/"
        },
        "id": "uTQFb11sOnQw",
        "outputId": "26a52805-c6fe-4a37-e0c0-231960b23609"
      },
      "outputs": [
        {
          "data": {
            "text/plain": [
              "(0.9, 0.9333333333333333, 0.9238095238095239)"
            ]
          },
          "execution_count": 54,
          "metadata": {},
          "output_type": "execute_result"
        }
      ],
      "source": [
        "seller1.mean(), seller2.mean(), seller3.mean()"
      ]
    }
  ],
  "metadata": {
    "colab": {
      "provenance": []
    },
    "kernelspec": {
      "display_name": "Python 3",
      "name": "python3"
    },
    "language_info": {
      "codemirror_mode": {
        "name": "ipython",
        "version": 3
      },
      "file_extension": ".py",
      "mimetype": "text/x-python",
      "name": "python",
      "nbconvert_exporter": "python",
      "pygments_lexer": "ipython3",
      "version": "3.9.6"
    }
  },
  "nbformat": 4,
  "nbformat_minor": 0
}
