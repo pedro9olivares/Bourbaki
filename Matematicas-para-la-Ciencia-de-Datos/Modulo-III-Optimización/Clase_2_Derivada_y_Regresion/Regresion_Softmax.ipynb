{
  "cells": [
    {
      "cell_type": "markdown",
      "metadata": {
        "id": "4oifWcjIiD7g"
      },
      "source": [
        "# Gradient Descent\n",
        "\n",
        "Se verá como funciona el algoritmo de Gradiente Descendiente aplicado a una regresión logística (softmax, en realidad). Esta regresión asignará probabilidades de ser un High-Frequency-Trader (HFT)."
      ]
    },
    {
      "cell_type": "markdown",
      "metadata": {},
      "source": [
        "<img src='./imgs/gd.jpeg' height='300'>"
      ]
    },
    {
      "cell_type": "code",
      "execution_count": null,
      "metadata": {
        "id": "PBpjrBycDrRq"
      },
      "outputs": [],
      "source": [
        "import numpy as np\n",
        "import pandas as pd\n",
        "import matplotlib.pyplot as plt\n",
        "\n",
        "np.set_printoptions(legacy=125)"
      ]
    },
    {
      "cell_type": "markdown",
      "metadata": {
        "id": "oXC7fZc5UCdu"
      },
      "source": [
        "## Carga de datos\n"
      ]
    },
    {
      "cell_type": "code",
      "execution_count": 2,
      "metadata": {
        "id": "iHs4VEOGT90s"
      },
      "outputs": [],
      "source": [
        "df = pd.read_csv('pruebas_datos.csv')"
      ]
    },
    {
      "cell_type": "code",
      "execution_count": 3,
      "metadata": {
        "colab": {
          "base_uri": "https://localhost:8080/",
          "height": 487
        },
        "id": "FK5Uw7BZU8s4",
        "outputId": "aa9f4f7c-ce08-4aec-ba76-eb410ba214d7"
      },
      "outputs": [
        {
          "data": {
            "text/html": [
              "<div>\n",
              "<style scoped>\n",
              "    .dataframe tbody tr th:only-of-type {\n",
              "        vertical-align: middle;\n",
              "    }\n",
              "\n",
              "    .dataframe tbody tr th {\n",
              "        vertical-align: top;\n",
              "    }\n",
              "\n",
              "    .dataframe thead th {\n",
              "        text-align: right;\n",
              "    }\n",
              "</style>\n",
              "<table border=\"1\" class=\"dataframe\">\n",
              "  <thead>\n",
              "    <tr style=\"text-align: right;\">\n",
              "      <th></th>\n",
              "      <th>OTR</th>\n",
              "      <th>OCR</th>\n",
              "      <th>min_time_two_events</th>\n",
              "      <th>mean_time_two_events</th>\n",
              "      <th>10_p_time_two_events</th>\n",
              "      <th>med_time_two_events</th>\n",
              "      <th>25_p_time_two_events</th>\n",
              "      <th>75_p_time_two_events</th>\n",
              "      <th>90_p_time_two_events</th>\n",
              "      <th>max_time_two_events</th>\n",
              "      <th>...</th>\n",
              "      <th>90_p_lifetime_cancel</th>\n",
              "      <th>max_lifetime_cancel</th>\n",
              "      <th>NbTradeVenueMic</th>\n",
              "      <th>MaxNbTradesBySecond</th>\n",
              "      <th>MeanNbTradesBySecond</th>\n",
              "      <th>min_dt_TV1</th>\n",
              "      <th>mean_dt_TV1</th>\n",
              "      <th>med_dt_TV1</th>\n",
              "      <th>NbSecondWithAtLeatOneTrade</th>\n",
              "      <th>type</th>\n",
              "    </tr>\n",
              "  </thead>\n",
              "  <tbody>\n",
              "    <tr>\n",
              "      <th>0</th>\n",
              "      <td>-0.264140</td>\n",
              "      <td>-0.171596</td>\n",
              "      <td>-0.034334</td>\n",
              "      <td>0.173848</td>\n",
              "      <td>-0.051861</td>\n",
              "      <td>-0.194635</td>\n",
              "      <td>-0.103174</td>\n",
              "      <td>-0.493894</td>\n",
              "      <td>0.669772</td>\n",
              "      <td>0.113391</td>\n",
              "      <td>...</td>\n",
              "      <td>0.446317</td>\n",
              "      <td>0.159271</td>\n",
              "      <td>-0.989267</td>\n",
              "      <td>-0.459192</td>\n",
              "      <td>0.414463</td>\n",
              "      <td>-0.068166</td>\n",
              "      <td>2.257305</td>\n",
              "      <td>0.215650</td>\n",
              "      <td>-0.430203</td>\n",
              "      <td>1</td>\n",
              "    </tr>\n",
              "    <tr>\n",
              "      <th>1</th>\n",
              "      <td>-0.267371</td>\n",
              "      <td>0.071957</td>\n",
              "      <td>-0.034334</td>\n",
              "      <td>-0.394632</td>\n",
              "      <td>-0.051861</td>\n",
              "      <td>-0.261262</td>\n",
              "      <td>-0.107967</td>\n",
              "      <td>-0.578826</td>\n",
              "      <td>-0.714095</td>\n",
              "      <td>0.478099</td>\n",
              "      <td>...</td>\n",
              "      <td>0.341803</td>\n",
              "      <td>0.053125</td>\n",
              "      <td>-0.989267</td>\n",
              "      <td>0.065955</td>\n",
              "      <td>2.493944</td>\n",
              "      <td>-0.174906</td>\n",
              "      <td>-0.259542</td>\n",
              "      <td>-0.257432</td>\n",
              "      <td>-0.415533</td>\n",
              "      <td>1</td>\n",
              "    </tr>\n",
              "    <tr>\n",
              "      <th>2</th>\n",
              "      <td>-0.268571</td>\n",
              "      <td>0.392193</td>\n",
              "      <td>-0.034334</td>\n",
              "      <td>-0.596358</td>\n",
              "      <td>-0.051861</td>\n",
              "      <td>-0.261262</td>\n",
              "      <td>-0.107967</td>\n",
              "      <td>-0.579091</td>\n",
              "      <td>-0.864277</td>\n",
              "      <td>0.449648</td>\n",
              "      <td>...</td>\n",
              "      <td>-0.843156</td>\n",
              "      <td>-0.601191</td>\n",
              "      <td>-0.989267</td>\n",
              "      <td>0.223500</td>\n",
              "      <td>1.925729</td>\n",
              "      <td>-0.174906</td>\n",
              "      <td>-0.350248</td>\n",
              "      <td>-0.257432</td>\n",
              "      <td>-0.351515</td>\n",
              "      <td>1</td>\n",
              "    </tr>\n",
              "    <tr>\n",
              "      <th>3</th>\n",
              "      <td>-0.267320</td>\n",
              "      <td>-0.082373</td>\n",
              "      <td>-0.034334</td>\n",
              "      <td>-0.337735</td>\n",
              "      <td>-0.051861</td>\n",
              "      <td>-0.260286</td>\n",
              "      <td>-0.107966</td>\n",
              "      <td>-0.574153</td>\n",
              "      <td>0.401915</td>\n",
              "      <td>-0.240214</td>\n",
              "      <td>...</td>\n",
              "      <td>0.205183</td>\n",
              "      <td>-0.085628</td>\n",
              "      <td>-0.989267</td>\n",
              "      <td>-0.406677</td>\n",
              "      <td>1.394323</td>\n",
              "      <td>-0.174906</td>\n",
              "      <td>-0.056171</td>\n",
              "      <td>-0.257431</td>\n",
              "      <td>-0.430203</td>\n",
              "      <td>1</td>\n",
              "    </tr>\n",
              "    <tr>\n",
              "      <th>4</th>\n",
              "      <td>-0.268375</td>\n",
              "      <td>0.094866</td>\n",
              "      <td>-0.034334</td>\n",
              "      <td>-0.551568</td>\n",
              "      <td>-0.051861</td>\n",
              "      <td>-0.261262</td>\n",
              "      <td>-0.107967</td>\n",
              "      <td>-0.579396</td>\n",
              "      <td>-0.876131</td>\n",
              "      <td>-0.003950</td>\n",
              "      <td>...</td>\n",
              "      <td>0.447088</td>\n",
              "      <td>0.160054</td>\n",
              "      <td>-0.989267</td>\n",
              "      <td>0.170985</td>\n",
              "      <td>1.041917</td>\n",
              "      <td>-0.174906</td>\n",
              "      <td>-0.327099</td>\n",
              "      <td>-0.257432</td>\n",
              "      <td>-0.384858</td>\n",
              "      <td>1</td>\n",
              "    </tr>\n",
              "    <tr>\n",
              "      <th>...</th>\n",
              "      <td>...</td>\n",
              "      <td>...</td>\n",
              "      <td>...</td>\n",
              "      <td>...</td>\n",
              "      <td>...</td>\n",
              "      <td>...</td>\n",
              "      <td>...</td>\n",
              "      <td>...</td>\n",
              "      <td>...</td>\n",
              "      <td>...</td>\n",
              "      <td>...</td>\n",
              "      <td>...</td>\n",
              "      <td>...</td>\n",
              "      <td>...</td>\n",
              "      <td>...</td>\n",
              "      <td>...</td>\n",
              "      <td>...</td>\n",
              "      <td>...</td>\n",
              "      <td>...</td>\n",
              "      <td>...</td>\n",
              "      <td>...</td>\n",
              "    </tr>\n",
              "    <tr>\n",
              "      <th>50577</th>\n",
              "      <td>-0.270438</td>\n",
              "      <td>0.040609</td>\n",
              "      <td>-0.034334</td>\n",
              "      <td>-0.587633</td>\n",
              "      <td>-0.051861</td>\n",
              "      <td>-0.261262</td>\n",
              "      <td>-0.107967</td>\n",
              "      <td>-0.579589</td>\n",
              "      <td>-0.811629</td>\n",
              "      <td>-0.928057</td>\n",
              "      <td>...</td>\n",
              "      <td>-0.499086</td>\n",
              "      <td>-0.800893</td>\n",
              "      <td>-0.989267</td>\n",
              "      <td>-0.039074</td>\n",
              "      <td>2.972986</td>\n",
              "      <td>-0.174905</td>\n",
              "      <td>-0.139995</td>\n",
              "      <td>-0.257431</td>\n",
              "      <td>-0.431537</td>\n",
              "      <td>1</td>\n",
              "    </tr>\n",
              "    <tr>\n",
              "      <th>50578</th>\n",
              "      <td>-0.269299</td>\n",
              "      <td>0.040609</td>\n",
              "      <td>-0.034334</td>\n",
              "      <td>-0.704571</td>\n",
              "      <td>-0.051861</td>\n",
              "      <td>-0.261262</td>\n",
              "      <td>-0.107967</td>\n",
              "      <td>-0.573424</td>\n",
              "      <td>-0.873859</td>\n",
              "      <td>-1.356834</td>\n",
              "      <td>...</td>\n",
              "      <td>-0.927494</td>\n",
              "      <td>-1.235990</td>\n",
              "      <td>-0.989267</td>\n",
              "      <td>-0.616736</td>\n",
              "      <td>0.204493</td>\n",
              "      <td>-0.174905</td>\n",
              "      <td>-0.355996</td>\n",
              "      <td>-0.257262</td>\n",
              "      <td>-0.426202</td>\n",
              "      <td>1</td>\n",
              "    </tr>\n",
              "    <tr>\n",
              "      <th>50579</th>\n",
              "      <td>-0.270456</td>\n",
              "      <td>0.952123</td>\n",
              "      <td>-0.034334</td>\n",
              "      <td>-0.592510</td>\n",
              "      <td>-0.051861</td>\n",
              "      <td>-0.261262</td>\n",
              "      <td>-0.107967</td>\n",
              "      <td>-0.579500</td>\n",
              "      <td>-0.894274</td>\n",
              "      <td>0.012924</td>\n",
              "      <td>...</td>\n",
              "      <td>0.464365</td>\n",
              "      <td>0.177600</td>\n",
              "      <td>-0.989267</td>\n",
              "      <td>0.276014</td>\n",
              "      <td>1.680116</td>\n",
              "      <td>-0.174905</td>\n",
              "      <td>-0.076802</td>\n",
              "      <td>-0.256689</td>\n",
              "      <td>-0.414199</td>\n",
              "      <td>1</td>\n",
              "    </tr>\n",
              "    <tr>\n",
              "      <th>50580</th>\n",
              "      <td>-0.270274</td>\n",
              "      <td>2.659404</td>\n",
              "      <td>-0.034334</td>\n",
              "      <td>-0.648742</td>\n",
              "      <td>-0.051861</td>\n",
              "      <td>-0.261262</td>\n",
              "      <td>-0.107967</td>\n",
              "      <td>-0.579477</td>\n",
              "      <td>-0.886564</td>\n",
              "      <td>-0.241991</td>\n",
              "      <td>...</td>\n",
              "      <td>0.203363</td>\n",
              "      <td>-0.087476</td>\n",
              "      <td>-0.989267</td>\n",
              "      <td>0.748647</td>\n",
              "      <td>1.846925</td>\n",
              "      <td>-0.174905</td>\n",
              "      <td>-0.275480</td>\n",
              "      <td>-0.257133</td>\n",
              "      <td>-0.388859</td>\n",
              "      <td>1</td>\n",
              "    </tr>\n",
              "    <tr>\n",
              "      <th>50581</th>\n",
              "      <td>-0.270277</td>\n",
              "      <td>0.662754</td>\n",
              "      <td>-0.034334</td>\n",
              "      <td>-0.694323</td>\n",
              "      <td>-0.051861</td>\n",
              "      <td>-0.261262</td>\n",
              "      <td>-0.107967</td>\n",
              "      <td>-0.578331</td>\n",
              "      <td>-0.879211</td>\n",
              "      <td>-1.284239</td>\n",
              "      <td>...</td>\n",
              "      <td>-0.921142</td>\n",
              "      <td>-1.229538</td>\n",
              "      <td>-0.989267</td>\n",
              "      <td>0.696132</td>\n",
              "      <td>2.682657</td>\n",
              "      <td>-0.174905</td>\n",
              "      <td>0.289331</td>\n",
              "      <td>-0.253120</td>\n",
              "      <td>-0.423535</td>\n",
              "      <td>1</td>\n",
              "    </tr>\n",
              "  </tbody>\n",
              "</table>\n",
              "<p>50582 rows × 26 columns</p>\n",
              "</div>"
            ],
            "text/plain": [
              "            OTR       OCR  min_time_two_events  mean_time_two_events  \\\n",
              "0     -0.264140 -0.171596            -0.034334              0.173848   \n",
              "1     -0.267371  0.071957            -0.034334             -0.394632   \n",
              "2     -0.268571  0.392193            -0.034334             -0.596358   \n",
              "3     -0.267320 -0.082373            -0.034334             -0.337735   \n",
              "4     -0.268375  0.094866            -0.034334             -0.551568   \n",
              "...         ...       ...                  ...                   ...   \n",
              "50577 -0.270438  0.040609            -0.034334             -0.587633   \n",
              "50578 -0.269299  0.040609            -0.034334             -0.704571   \n",
              "50579 -0.270456  0.952123            -0.034334             -0.592510   \n",
              "50580 -0.270274  2.659404            -0.034334             -0.648742   \n",
              "50581 -0.270277  0.662754            -0.034334             -0.694323   \n",
              "\n",
              "       10_p_time_two_events  med_time_two_events  25_p_time_two_events  \\\n",
              "0                 -0.051861            -0.194635             -0.103174   \n",
              "1                 -0.051861            -0.261262             -0.107967   \n",
              "2                 -0.051861            -0.261262             -0.107967   \n",
              "3                 -0.051861            -0.260286             -0.107966   \n",
              "4                 -0.051861            -0.261262             -0.107967   \n",
              "...                     ...                  ...                   ...   \n",
              "50577             -0.051861            -0.261262             -0.107967   \n",
              "50578             -0.051861            -0.261262             -0.107967   \n",
              "50579             -0.051861            -0.261262             -0.107967   \n",
              "50580             -0.051861            -0.261262             -0.107967   \n",
              "50581             -0.051861            -0.261262             -0.107967   \n",
              "\n",
              "       75_p_time_two_events  90_p_time_two_events  max_time_two_events  ...  \\\n",
              "0                 -0.493894              0.669772             0.113391  ...   \n",
              "1                 -0.578826             -0.714095             0.478099  ...   \n",
              "2                 -0.579091             -0.864277             0.449648  ...   \n",
              "3                 -0.574153              0.401915            -0.240214  ...   \n",
              "4                 -0.579396             -0.876131            -0.003950  ...   \n",
              "...                     ...                   ...                  ...  ...   \n",
              "50577             -0.579589             -0.811629            -0.928057  ...   \n",
              "50578             -0.573424             -0.873859            -1.356834  ...   \n",
              "50579             -0.579500             -0.894274             0.012924  ...   \n",
              "50580             -0.579477             -0.886564            -0.241991  ...   \n",
              "50581             -0.578331             -0.879211            -1.284239  ...   \n",
              "\n",
              "       90_p_lifetime_cancel  max_lifetime_cancel  NbTradeVenueMic  \\\n",
              "0                  0.446317             0.159271        -0.989267   \n",
              "1                  0.341803             0.053125        -0.989267   \n",
              "2                 -0.843156            -0.601191        -0.989267   \n",
              "3                  0.205183            -0.085628        -0.989267   \n",
              "4                  0.447088             0.160054        -0.989267   \n",
              "...                     ...                  ...              ...   \n",
              "50577             -0.499086            -0.800893        -0.989267   \n",
              "50578             -0.927494            -1.235990        -0.989267   \n",
              "50579              0.464365             0.177600        -0.989267   \n",
              "50580              0.203363            -0.087476        -0.989267   \n",
              "50581             -0.921142            -1.229538        -0.989267   \n",
              "\n",
              "       MaxNbTradesBySecond  MeanNbTradesBySecond  min_dt_TV1  mean_dt_TV1  \\\n",
              "0                -0.459192              0.414463   -0.068166     2.257305   \n",
              "1                 0.065955              2.493944   -0.174906    -0.259542   \n",
              "2                 0.223500              1.925729   -0.174906    -0.350248   \n",
              "3                -0.406677              1.394323   -0.174906    -0.056171   \n",
              "4                 0.170985              1.041917   -0.174906    -0.327099   \n",
              "...                    ...                   ...         ...          ...   \n",
              "50577            -0.039074              2.972986   -0.174905    -0.139995   \n",
              "50578            -0.616736              0.204493   -0.174905    -0.355996   \n",
              "50579             0.276014              1.680116   -0.174905    -0.076802   \n",
              "50580             0.748647              1.846925   -0.174905    -0.275480   \n",
              "50581             0.696132              2.682657   -0.174905     0.289331   \n",
              "\n",
              "       med_dt_TV1  NbSecondWithAtLeatOneTrade  type  \n",
              "0        0.215650                   -0.430203     1  \n",
              "1       -0.257432                   -0.415533     1  \n",
              "2       -0.257432                   -0.351515     1  \n",
              "3       -0.257431                   -0.430203     1  \n",
              "4       -0.257432                   -0.384858     1  \n",
              "...           ...                         ...   ...  \n",
              "50577   -0.257431                   -0.431537     1  \n",
              "50578   -0.257262                   -0.426202     1  \n",
              "50579   -0.256689                   -0.414199     1  \n",
              "50580   -0.257133                   -0.388859     1  \n",
              "50581   -0.253120                   -0.423535     1  \n",
              "\n",
              "[50582 rows x 26 columns]"
            ]
          },
          "execution_count": 3,
          "metadata": {},
          "output_type": "execute_result"
        }
      ],
      "source": [
        "df"
      ]
    },
    {
      "cell_type": "code",
      "execution_count": 4,
      "metadata": {
        "colab": {
          "base_uri": "https://localhost:8080/"
        },
        "id": "iU7IEu3FVEjn",
        "outputId": "7ac7c8a9-d2fe-4f9f-b6f6-5a40142faa86"
      },
      "outputs": [
        {
          "data": {
            "text/plain": [
              "type\n",
              "0    30522\n",
              "1    20060\n",
              "Name: count, dtype: int64"
            ]
          },
          "execution_count": 4,
          "metadata": {},
          "output_type": "execute_result"
        }
      ],
      "source": [
        "# Los valores 1 son NON-HFT y los 0 son HFT\n",
        "df.type.value_counts()"
      ]
    },
    {
      "cell_type": "code",
      "execution_count": 7,
      "metadata": {
        "colab": {
          "base_uri": "https://localhost:8080/"
        },
        "id": "jU9HDQM8VTfo",
        "outputId": "11a14d23-4598-4811-817f-e78b507ceb30"
      },
      "outputs": [
        {
          "data": {
            "text/plain": [
              "(50582, 26)"
            ]
          },
          "execution_count": 7,
          "metadata": {},
          "output_type": "execute_result"
        }
      ],
      "source": [
        "df.shape"
      ]
    },
    {
      "cell_type": "markdown",
      "metadata": {
        "id": "SCtqgR4MZsTv"
      },
      "source": [
        "\n",
        "Los datos fueron utilizados en una competencia que pueden consultar [aquí](https://challengedata.ens.fr/participants/challenges/50/).\n",
        "\n",
        "Es de gran interés tratar de estudiar el impacto que tienen los HFT en los mercados, ya que lo que hacen es realizar intercambios dando ordenes de intercambio a un mecanismo llamado Limit Order Book (LOB), al cual le ordenan realizar compras o ventas a precios que ellos deseen."
      ]
    },
    {
      "cell_type": "markdown",
      "metadata": {},
      "source": [
        "#### Diccionario de datos\n",
        "\n"
      ]
    },
    {
      "cell_type": "markdown",
      "metadata": {},
      "source": [
        "1. NbTradeVenueMic (23) : Número de centros de negociación en los que opera el jugador del mercado\n",
        "\n",
        "De todos los centros de negociación, estadísticas sobre el número de operaciones observadas por segundo\n",
        "\n",
        "2. MaxNbTradesBySecond (24)\n",
        "3. MeanNbTradesBySecond (25)\n",
        "\n",
        "Estadísticas sobre el delta de tiempo observado entre dos operaciones en la plataforma de negociación TV_1[1]:\n",
        "\n",
        "4. min_dt_TV1 (26)\n",
        "5. med_dt_TV1 (28)\n",
        "6. mean_dt_TV1 (27)\n",
        "\n",
        "Estadísticas sobre el delta de tiempo observado entre dos operaciones que se producen en la plataforma de negociación TV_1 y luego en la plataforma de negociación TV_2:\n",
        "\n",
        "7. min_dt_TV1_TV2 (29)\n",
        "8. med_dt_TV1_TV2 (31)\n",
        "9. mean_dt_TV1_TV2 (30)\n",
        "\n",
        "Estadísticas sobre el delta de tiempo observado entre dos operaciones que se producen en la plataforma de negociación TV_1 y luego en la plataforma de negociación TV_3:\n",
        "\n",
        "10. min_dt_TV1_TV3 (32)\n",
        "11. med_dt_TV1_TV3 (34)\n",
        "12. mean_dt_TV1_TV3 (33)\n",
        "\n",
        "Estadísticas sobre el delta de tiempo observado entre dos operaciones que se producen en la plataforma de negociación TV_1 y luego en la plataforma de negociación TV_4 :\n",
        "\n",
        "13. min_dt_TV1_TV4 (35)\n",
        "14. med_dt_TV1_TV4 (37)\n",
        "15. mean_dt_TV1_TV4(36)\n",
        "\n",
        "De todos los centros de negociación, número de segundos durante el día de negociación donde se observa al menos una operación del jugador del mercado i\n",
        "\n",
        "16. NbSecondWithAtLeatOneTrade(38)\n",
        "\n",
        "En la plataforma de negociación TV_1, tres proporciones entre el número de todo tipo de eventos[2] enviados a la LOB y:\n",
        "\n",
        "17. el número de operaciones (OTR) (4)\n",
        "18. el número de eventos de tipo cancelación (OCR) (5)\n",
        "19. el número de eventos de tipo de modificación (OMR) (6)\n",
        "\n",
        "En el centro de negociación TV_1, estadísticas durante el delta de tiempo observado entre dos eventos de todo tipo enviados:\n",
        "\n",
        "20. min_time_two_events (7)\n",
        "21. mean_time_two_events (8)\n",
        "22. 10_p_time_two_events (9)\n",
        "23. med_time_two_events (10)\n",
        "24. 25_p_time_two_events (11)\n",
        "25. 75_p_time_two_events (12)\n",
        "26. 90_p_time_two_events (13)\n",
        "27. max_time_two_events (14)\n",
        "\n",
        "En la plataforma de negociación TV_1, estadísticas a lo largo de la vida útil observada de las órdenes canceladas:\n",
        "\n",
        "28. min_lifetime_cancel (15)\n",
        "29. mean_lifetime_cancel (16)\n",
        "30. 10_p_lifetime_cancel (17)\n",
        "31. med_lifetime_cancel (18)\n",
        "32. 25_p_lifetime_cancel (19)\n",
        "33. 75_p_lifetime_cancel (20)\n",
        "34. 90_p_lifetime_cancel (21)\n",
        "35. max_lifetime_cancel (22)\n",
        "\n",
        "Extra variables\n",
        "\n",
        "36. Type: HF, Non HFT (39)\n",
        "37. Day\n",
        "38. Share\n",
        "39. Trader\n",
        "40. Index"
      ]
    },
    {
      "cell_type": "markdown",
      "metadata": {},
      "source": [
        "## Regresión lineal vs. regresión logística"
      ]
    },
    {
      "cell_type": "markdown",
      "metadata": {},
      "source": [
        "**Regresión Lineal**\n",
        "$$\n",
        "y = \\beta_0 + \\beta_1x_1 + \\beta_2x_2 + \\cdots + \\beta_nx_n + \\epsilon\n",
        "$$\n",
        "\n",
        "**Regresión logística**\n",
        "$$\n",
        "\\frac{1}{1 + e^{-(\\beta_0 + \\beta_1x_1 + \\beta_2x_2 + \\cdots + \\beta_nx_n)}}\n",
        "$$\n",
        "note la función sigmoide:\n",
        "$$\n",
        "\\sigma(z) = \\frac{1}{1 + e^{-z}}\n",
        "$$"
      ]
    },
    {
      "cell_type": "markdown",
      "metadata": {},
      "source": [
        "<img src='./imgs/lrlr.png'>"
      ]
    },
    {
      "cell_type": "code",
      "execution_count": 109,
      "metadata": {
        "colab": {
          "base_uri": "https://localhost:8080/"
        },
        "id": "FIcEwUB_WMlG",
        "outputId": "5f5de895-dbdf-48e7-ae4d-fdac079c57a0"
      },
      "outputs": [
        {
          "data": {
            "text/plain": [
              "array([[-0.26413997, -0.17159563, -0.03433358, ...,  2.25730527,\n",
              "         0.21564981, -0.43020348],\n",
              "       [-0.26737141,  0.07195718, -0.03433358, ..., -0.25954205,\n",
              "        -0.25743172, -0.41553282],\n",
              "       [-0.26857105,  0.39219296, -0.03433358, ..., -0.35024783,\n",
              "        -0.25743176, -0.35151541],\n",
              "       ...,\n",
              "       [-0.27045626,  0.9521233 , -0.03433358, ..., -0.07680184,\n",
              "        -0.25668942, -0.41419912],\n",
              "       [-0.27027382,  2.65940442, -0.03433358, ..., -0.27547952,\n",
              "        -0.25713323, -0.3888589 ],\n",
              "       [-0.2702773 ,  0.66275362, -0.03433358, ...,  0.28933079,\n",
              "        -0.25311955, -0.423535  ]])"
            ]
          },
          "execution_count": 109,
          "metadata": {},
          "output_type": "execute_result"
        }
      ],
      "source": [
        "X = np.array(df.drop(['type'], axis=1))\n",
        "X"
      ]
    },
    {
      "cell_type": "code",
      "execution_count": 110,
      "metadata": {
        "colab": {
          "base_uri": "https://localhost:8080/"
        },
        "id": "ysTvZku2ILgN",
        "outputId": "2be4148f-276c-4892-f98f-b28346e60589"
      },
      "outputs": [
        {
          "data": {
            "text/plain": [
              "(50582, 25)"
            ]
          },
          "execution_count": 110,
          "metadata": {},
          "output_type": "execute_result"
        }
      ],
      "source": [
        "X.shape"
      ]
    },
    {
      "cell_type": "code",
      "execution_count": 111,
      "metadata": {
        "colab": {
          "base_uri": "https://localhost:8080/"
        },
        "id": "UpZPlZlnWARR",
        "outputId": "e646d94c-6132-4db8-e7f5-4233ce05a38a"
      },
      "outputs": [
        {
          "data": {
            "text/plain": [
              "array([1, 1, 1, ..., 1, 1, 1])"
            ]
          },
          "execution_count": 111,
          "metadata": {},
          "output_type": "execute_result"
        }
      ],
      "source": [
        "y = np.array(df['type'])\n",
        "y"
      ]
    },
    {
      "cell_type": "code",
      "execution_count": 112,
      "metadata": {
        "colab": {
          "base_uri": "https://localhost:8080/"
        },
        "id": "GyU40YXb0dIy",
        "outputId": "df875a16-54fb-4eea-a476-2d57803796aa"
      },
      "outputs": [
        {
          "data": {
            "text/plain": [
              "(50582,)"
            ]
          },
          "execution_count": 112,
          "metadata": {},
          "output_type": "execute_result"
        }
      ],
      "source": [
        "y.shape"
      ]
    },
    {
      "cell_type": "code",
      "execution_count": 113,
      "metadata": {
        "id": "HgYtgbebimh0"
      },
      "outputs": [],
      "source": [
        "num_inputs = 25\n",
        "num_outputs = 2\n",
        "\n",
        "W = np.random.normal(0, 0.1, (num_inputs, num_outputs)) # Jugaremos con este parametro\n",
        "B = np.zeros(num_outputs) # Jugaremos con este parametro"
      ]
    },
    {
      "cell_type": "code",
      "execution_count": 115,
      "metadata": {
        "colab": {
          "base_uri": "https://localhost:8080/"
        },
        "id": "gDLgt_L3VZNa",
        "outputId": "cbbef093-b621-4d98-f315-2c7943a3235a"
      },
      "outputs": [
        {
          "name": "stdout",
          "output_type": "stream",
          "text": [
            "[[-5.90346502e-02 -4.94250453e-02]\n",
            " [-6.68505289e-02  5.40087313e-02]\n",
            " [ 1.86685720e-01  5.16214135e-02]\n",
            " [ 1.69818067e-02  1.87063697e-02]\n",
            " [-1.50749925e-01 -1.17429304e-01]\n",
            " [-1.45534048e-01 -3.59787287e-02]\n",
            " [ 2.25258347e-02  1.46060270e-04]\n",
            " [-9.01139696e-02 -1.96854271e-01]\n",
            " [-2.44560283e-02 -1.76850703e-02]\n",
            " [ 9.13779728e-02  6.69545929e-02]\n",
            " [-1.15850931e-01 -1.33094001e-02]\n",
            " [ 3.98229449e-02  3.37053869e-02]\n",
            " [-3.23606440e-02 -9.48744817e-02]\n",
            " [ 1.09432487e-01  7.69679806e-02]\n",
            " [-9.20190668e-02 -2.83386619e-02]\n",
            " [-1.14577089e-01 -1.95693434e-01]\n",
            " [-5.84004813e-02  7.58394144e-02]\n",
            " [ 3.51575636e-02 -7.47587799e-02]\n",
            " [ 1.85333222e-02 -3.46339416e-02]\n",
            " [-4.70914751e-02  6.80831722e-02]\n",
            " [-7.45864357e-02 -1.80957339e-01]\n",
            " [-1.23946267e-01 -4.16916017e-02]\n",
            " [-1.10446746e-01  1.70389234e-01]\n",
            " [ 4.14929984e-02 -1.66360296e-02]\n",
            " [ 6.87919361e-02 -6.71876769e-02]]\n",
            "[0. 0.]\n"
          ]
        }
      ],
      "source": [
        "print(W)\n",
        "print(B)"
      ]
    },
    {
      "cell_type": "markdown",
      "metadata": {
        "id": "yLTx9XpmoPuA"
      },
      "source": [
        "## Regresión softmax\n",
        "La función softmax generaliza a la función sigmoide.\n",
        "\n",
        "Antes, notemos que dado un arreglo de numpy, nosotros podemos realizar sumas de diferentes formas utilizando el método \"sum()\".\n",
        "\n",
        "Si no pasamos ningún parámetro a \"sum()\", lo que obtendremos será la suma de todas las entradas de nuestra matriz (o arreglo o tensor).\n",
        "\n",
        "Si damos como parámetro el \"0\", lo que nos regresará será la suma por columnas (es decir, en el eje 0)\n",
        "\n",
        "Si damos como parámetro el \"1\", nos regresará la suma por filas (es decir, en el eje 1)"
      ]
    },
    {
      "cell_type": "code",
      "execution_count": 116,
      "metadata": {
        "colab": {
          "base_uri": "https://localhost:8080/"
        },
        "id": "c1tKKzybKRFB",
        "outputId": "b04c3a87-2199-4ebc-8665-f933df60ef21"
      },
      "outputs": [
        {
          "data": {
            "text/plain": [
              "array([[1., 2., 3.],\n",
              "       [4., 5., 6.]])"
            ]
          },
          "execution_count": 116,
          "metadata": {},
          "output_type": "execute_result"
        }
      ],
      "source": [
        "X_ejemplo = np.array([[1.0, 2.0, 3.0], [4.0, 5.0, 6.0]])\n",
        "X_ejemplo"
      ]
    },
    {
      "cell_type": "code",
      "execution_count": 118,
      "metadata": {
        "colab": {
          "base_uri": "https://localhost:8080/"
        },
        "id": "0prrE4B7ixOn",
        "outputId": "e1748516-8c01-4bcb-8c8f-fa23d9a0e6ea"
      },
      "outputs": [
        {
          "data": {
            "text/plain": [
              "(array([[21.]]),\n",
              " array([[5., 7., 9.]]),\n",
              " array([[ 6.],\n",
              "        [15.]]))"
            ]
          },
          "execution_count": 118,
          "metadata": {},
          "output_type": "execute_result"
        }
      ],
      "source": [
        "X_ejemplo.sum(keepdims=True), X_ejemplo.sum(0, keepdims=True), X_ejemplo.sum(1, keepdims=True)"
      ]
    },
    {
      "cell_type": "markdown",
      "metadata": {
        "id": "1qKW7Pn2C55P"
      },
      "source": [
        "Con esto podemos implementar de modo vectorizado la función softmax:\n",
        "\n",
        "1. Obtenemos la exponencial evaluada en cada uno de nuestros elementos\n",
        "2. Tomamos la suma de los elementos de su fila y normalizamos\n",
        "\n",
        "La expresión matemática de la función SoftMax es la siguiente:\n",
        "\n",
        "\n",
        "$$ \\mathrm{softmax}(\\mathbf{X})_{ij} = \\frac{\\exp(\\mathbf{X}_{ij})}{\\sum_k \\exp(\\mathbf{X}_{ik})}. $$"
      ]
    },
    {
      "cell_type": "code",
      "execution_count": 119,
      "metadata": {
        "id": "nPCYu0LHnqxi"
      },
      "outputs": [],
      "source": [
        "def softmax(X):\n",
        "    X_exp = np.exp(X)\n",
        "    partition = X_exp.sum(1, keepdims=True)\n",
        "    return X_exp / partition"
      ]
    },
    {
      "cell_type": "markdown",
      "metadata": {
        "id": "qNDcmahzEwGH"
      },
      "source": [
        "Veamos un ejemplo con la matriz de 2X3 creada anteriormente."
      ]
    },
    {
      "cell_type": "code",
      "execution_count": 120,
      "metadata": {
        "id": "TSArEtp4tKOg"
      },
      "outputs": [
        {
          "data": {
            "text/plain": [
              "(array([[-0.04108858, -0.03752228, -0.27815253, -0.06234583],\n",
              "        [-0.08598108,  0.00083005, -0.19041933, -0.08349394],\n",
              "        [-0.03207807,  0.15653328,  0.05274124,  0.14551983]]),\n",
              " array([0., 0., 0., 0.]))"
            ]
          },
          "execution_count": 120,
          "metadata": {},
          "output_type": "execute_result"
        }
      ],
      "source": [
        "# Supongamos que tenemos 4 clases\n",
        "W_ejemplo = np.random.normal(0, 0.1, (3, 4)) # Jugaremos con este parametro\n",
        "B_ejemplo = np.zeros(4) # Jugaremos con este parametro\n",
        "\n",
        "W_ejemplo, B_ejemplo"
      ]
    },
    {
      "cell_type": "code",
      "execution_count": 121,
      "metadata": {
        "colab": {
          "base_uri": "https://localhost:8080/"
        },
        "id": "5GKWNzOptgyO",
        "outputId": "02a7f635-55e7-4dc5-99e2-a5e447a2e760"
      },
      "outputs": [
        {
          "data": {
            "text/plain": [
              "array([[-0.30928496,  0.43373766, -0.50076748,  0.20722578],\n",
              "       [-0.78672815,  0.79326083, -1.74825934,  0.20626595]])"
            ]
          },
          "execution_count": 121,
          "metadata": {},
          "output_type": "execute_result"
        }
      ],
      "source": [
        "X_ejemplo @ W_ejemplo + B_ejemplo"
      ]
    },
    {
      "cell_type": "code",
      "execution_count": 122,
      "metadata": {
        "colab": {
          "base_uri": "https://localhost:8080/"
        },
        "id": "0fL_0uvtntuS",
        "outputId": "78290266-74d3-44c8-9359-552838167e7c"
      },
      "outputs": [
        {
          "data": {
            "text/plain": [
              "array([[0.17843813, 0.37512698, 0.14734245, 0.29909244],\n",
              "       [0.11190046, 0.5432658 , 0.04278033, 0.3020534 ]])"
            ]
          },
          "execution_count": 122,
          "metadata": {},
          "output_type": "execute_result"
        }
      ],
      "source": [
        "softmax(X_ejemplo @ W_ejemplo + B_ejemplo)"
      ]
    },
    {
      "cell_type": "markdown",
      "metadata": {
        "id": "CqHlJW4-E71h"
      },
      "source": [
        "Si observamos con cuidado, podemos ver que con esta operación estamos transformando todas nuestras entradas en números positivos. Mas aún, cada fila suma 1, es decir, la convertimos en una distribución de probabilidad."
      ]
    },
    {
      "cell_type": "code",
      "execution_count": 123,
      "metadata": {
        "colab": {
          "base_uri": "https://localhost:8080/"
        },
        "id": "27w0BqwBpPm2",
        "outputId": "4eaacb77-2f6c-45c6-cb90-c3c94da72632"
      },
      "outputs": [
        {
          "data": {
            "text/plain": [
              "(array([[0.17843813, 0.37512698, 0.14734245, 0.29909244],\n",
              "        [0.11190046, 0.5432658 , 0.04278033, 0.3020534 ]]),\n",
              " array([1., 1.]))"
            ]
          },
          "execution_count": 123,
          "metadata": {},
          "output_type": "execute_result"
        }
      ],
      "source": [
        "x_prob = softmax(X_ejemplo @ W_ejemplo + B_ejemplo)\n",
        "x_prob, x_prob.sum(1)"
      ]
    },
    {
      "cell_type": "markdown",
      "metadata": {},
      "source": [
        "### Softmax estable"
      ]
    },
    {
      "cell_type": "code",
      "execution_count": 124,
      "metadata": {},
      "outputs": [],
      "source": [
        "# Softmax Estable\n",
        "def stable_softmax(X):\n",
        "    X_exp = np.exp(X - np.max(X, axis=1, keepdims=True))\n",
        "    partition = X_exp.sum(1, keepdims=True)\n",
        "    return X_exp / partition\n",
        "\n",
        "\n",
        "prueba = np.array([[99999, 99995, 99993],[9, 5, 3]])"
      ]
    },
    {
      "cell_type": "code",
      "execution_count": 125,
      "metadata": {},
      "outputs": [
        {
          "name": "stderr",
          "output_type": "stream",
          "text": [
            "/var/folders/_2/ssn9p4gn1zq96vptrk6db0940000gn/T/ipykernel_14862/3306521330.py:2: RuntimeWarning: overflow encountered in exp\n",
            "  X_exp = np.exp(X)\n",
            "/var/folders/_2/ssn9p4gn1zq96vptrk6db0940000gn/T/ipykernel_14862/3306521330.py:4: RuntimeWarning: invalid value encountered in divide\n",
            "  return X_exp / partition\n"
          ]
        },
        {
          "data": {
            "text/plain": [
              "array([[       nan,        nan,        nan],\n",
              "       [0.97962921, 0.01794253, 0.00242826]])"
            ]
          },
          "execution_count": 125,
          "metadata": {},
          "output_type": "execute_result"
        }
      ],
      "source": [
        "softmax(prueba)"
      ]
    },
    {
      "cell_type": "code",
      "execution_count": 126,
      "metadata": {},
      "outputs": [
        {
          "data": {
            "text/plain": [
              "array([[0.97962921, 0.01794253, 0.00242826],\n",
              "       [0.97962921, 0.01794253, 0.00242826]])"
            ]
          },
          "execution_count": 126,
          "metadata": {},
          "output_type": "execute_result"
        }
      ],
      "source": [
        "stable_softmax(prueba)"
      ]
    },
    {
      "cell_type": "markdown",
      "metadata": {
        "id": "cyDAzg-TplBX"
      },
      "source": [
        "## Definiendo el modelo\n",
        "\n",
        "Implementemos una regresión softmax."
      ]
    },
    {
      "cell_type": "code",
      "execution_count": 127,
      "metadata": {
        "id": "Xt5hs-R5pmzH"
      },
      "outputs": [],
      "source": [
        "def net(X, W, b):\n",
        "    return softmax(np.dot(X.reshape((-1, W.shape[0])), W) + b)\n",
        "\n",
        "def net_s(X,W,b):\n",
        "    return stable_softmax(np.dot(X.reshape((-1, W.shape[0])), W) + b)"
      ]
    },
    {
      "cell_type": "markdown",
      "metadata": {
        "id": "v-lGeJHLptUV"
      },
      "source": [
        "## Función de pérdida"
      ]
    },
    {
      "cell_type": "markdown",
      "metadata": {
        "id": "-aIVnMDipv8z"
      },
      "source": [
        "Usaremos la función Cross-Entropy, una de las más populares para problemas de clasficación."
      ]
    },
    {
      "cell_type": "markdown",
      "metadata": {
        "id": "5W2-3hHaHLOb"
      },
      "source": [
        "La función, para una sola observación, es la siguiente:\n",
        "$$ -\\sum_{c=1}^My_{c}\\log(p_{c}), $$\n",
        "\n",
        "donde $M$ es la cantidad de clases que tenemos, $log$ la función de logaritmo natural, $y$ es $0$ o $1$ dependiendo de la etiqueta real de la clase $c$ y por último $p_{c}$ es la probabilidad predicha de que la observación pertenezca a la clase $c$."
      ]
    },
    {
      "cell_type": "markdown",
      "metadata": {
        "id": "p8VFVTHVHKCS"
      },
      "source": [
        "Para calcular esto, en lugar de utilizar un ciclo \"for\", utilizaremos funciones de numpy."
      ]
    },
    {
      "cell_type": "code",
      "execution_count": 128,
      "metadata": {
        "id": "pHEEjhW3qqgJ"
      },
      "outputs": [],
      "source": [
        "def cross_entropy(y_hat, y):\n",
        "    return np.sum( - np.log(y_hat[range(len(y_hat)), y]) ) / y.shape[0]"
      ]
    },
    {
      "cell_type": "code",
      "execution_count": 130,
      "metadata": {
        "colab": {
          "base_uri": "https://localhost:8080/"
        },
        "id": "VSkWQRm1p1h6",
        "outputId": "7924be8b-6da6-4619-8abc-e4bd2dc1cc38"
      },
      "outputs": [
        {
          "data": {
            "text/plain": [
              "array([0.1, 0.5])"
            ]
          },
          "execution_count": 130,
          "metadata": {},
          "output_type": "execute_result"
        }
      ],
      "source": [
        "y_ejemplo = np.array([0, \n",
        "              2])\n",
        "\n",
        "y_hat_ejemplo = np.array([[0.1, 0.3, 0.6], \n",
        "                  [0.3, 0.2, 0.5]])\n",
        "\n",
        "y_hat_ejemplo[[0, 1], y_ejemplo]"
      ]
    },
    {
      "cell_type": "code",
      "execution_count": 131,
      "metadata": {
        "colab": {
          "base_uri": "https://localhost:8080/"
        },
        "id": "-C9idG4Lsk3W",
        "outputId": "ce748f58-3258-43f9-e4ea-7b29c7b5052e"
      },
      "outputs": [
        {
          "data": {
            "text/plain": [
              "1.4978661367769954"
            ]
          },
          "execution_count": 131,
          "metadata": {},
          "output_type": "execute_result"
        }
      ],
      "source": [
        "cross_entropy(y_hat_ejemplo, y_ejemplo)"
      ]
    },
    {
      "cell_type": "markdown",
      "metadata": {
        "id": "y0C0Wio7s5Mh"
      },
      "source": [
        "## Precisión de la clasificación"
      ]
    },
    {
      "cell_type": "markdown",
      "metadata": {
        "id": "kST4BHoWMH4b"
      },
      "source": [
        "Este es un problema de clasificación multi-clase, es decir, un problema en el que observemos varias caracteristicas de un elemento y decidamos a que clase pertenece dicho elemento.\n",
        "\n",
        "Por ejemplo: Un algoritmo de clasificación de imagenes que intente saber si algo es un perro, un gato o un ratón. Si introdujeramos características y al final diera un vector $(0.2, 0.38, 0.42)$, el algoritmo lo clasificaría como un ratón (lo marcaría como perteneciente a la tercer clase)\n",
        "\n",
        "Cuando las predicciones son consistentes con las etiquetas verdaderas, decimos que son correctas. La precisión de la clasificación son la cantidad de predicciones correctas entre todas las predicciones. Sin embargo, es muy difícil optimizar esto directamente (pues no es una función diferenciable), pero será útil para ver el rendimiento de nuestro modelo."
      ]
    },
    {
      "cell_type": "markdown",
      "metadata": {
        "id": "AbMsjaRTMHNQ"
      },
      "source": [
        "Lo que hacemos para ver la precisión es encontrar el valor mas grande en el vector de probabilidades, convertirlo en entero y compararlo con las etiquetas verdaderas de nuestros datos."
      ]
    },
    {
      "cell_type": "code",
      "execution_count": 132,
      "metadata": {
        "colab": {
          "base_uri": "https://localhost:8080/"
        },
        "id": "ULYR_9RjPljp",
        "outputId": "4295b428-80f4-420d-f2dd-c3137facbe2a"
      },
      "outputs": [
        {
          "data": {
            "text/plain": [
              "array([2])"
            ]
          },
          "execution_count": 132,
          "metadata": {},
          "output_type": "execute_result"
        }
      ],
      "source": [
        "# ARGMAX regresa la posicion del elemento con mayor valor\n",
        "np.array([[0.2,0.38, 0.42]]).argmax(axis=1)"
      ]
    },
    {
      "cell_type": "code",
      "execution_count": 133,
      "metadata": {
        "id": "6WRt_0Ics488"
      },
      "outputs": [],
      "source": [
        "def accuracy(y_hat, y):\n",
        "    \"\"\"Calcula la cantidad de predicciones correctas.\"\"\"\n",
        "    if len(y_hat.shape) > 1 and y_hat.shape[1] > 1:\n",
        "        y_hat = y_hat.argmax(axis=1)\n",
        "    cmp = y_hat.astype(y.dtype) == y\n",
        "    return float(cmp.sum())/ len(y)"
      ]
    },
    {
      "cell_type": "code",
      "execution_count": 134,
      "metadata": {
        "colab": {
          "base_uri": "https://localhost:8080/"
        },
        "id": "ZMF7OSNCtGVC",
        "outputId": "6b122c87-c286-4c73-cbe6-4c4fbfe8aadd"
      },
      "outputs": [
        {
          "data": {
            "text/plain": [
              "0.5"
            ]
          },
          "execution_count": 134,
          "metadata": {},
          "output_type": "execute_result"
        }
      ],
      "source": [
        "accuracy(y_hat_ejemplo, y_ejemplo)"
      ]
    },
    {
      "cell_type": "markdown",
      "metadata": {
        "id": "vx7hIiLYYy6l"
      },
      "source": [
        "### Accuracy en nuestro modelo con pesos al azar"
      ]
    },
    {
      "cell_type": "code",
      "execution_count": 135,
      "metadata": {
        "colab": {
          "base_uri": "https://localhost:8080/"
        },
        "id": "1Bx9EcuoQT10",
        "outputId": "69663691-c9c0-45c1-eec4-b82bb13f483e"
      },
      "outputs": [
        {
          "data": {
            "text/plain": [
              "array([[-0.26413997, -0.17159563, -0.03433358, ...,  2.25730527,\n",
              "         0.21564981, -0.43020348],\n",
              "       [-0.26737141,  0.07195718, -0.03433358, ..., -0.25954205,\n",
              "        -0.25743172, -0.41553282],\n",
              "       [-0.26857105,  0.39219296, -0.03433358, ..., -0.35024783,\n",
              "        -0.25743176, -0.35151541],\n",
              "       ...,\n",
              "       [-0.27045626,  0.9521233 , -0.03433358, ..., -0.07680184,\n",
              "        -0.25668942, -0.41419912],\n",
              "       [-0.27027382,  2.65940442, -0.03433358, ..., -0.27547952,\n",
              "        -0.25713323, -0.3888589 ],\n",
              "       [-0.2702773 ,  0.66275362, -0.03433358, ...,  0.28933079,\n",
              "        -0.25311955, -0.423535  ]])"
            ]
          },
          "execution_count": 135,
          "metadata": {},
          "output_type": "execute_result"
        }
      ],
      "source": [
        "X"
      ]
    },
    {
      "cell_type": "code",
      "execution_count": 136,
      "metadata": {
        "colab": {
          "base_uri": "https://localhost:8080/"
        },
        "id": "Jxzc1dXTYoaL",
        "outputId": "766daa4d-6360-4516-fe54-62220bdb7e36"
      },
      "outputs": [
        {
          "data": {
            "text/plain": [
              "0.6899885334704045"
            ]
          },
          "execution_count": 136,
          "metadata": {},
          "output_type": "execute_result"
        }
      ],
      "source": [
        "accuracy(net(X, W, B), y)"
      ]
    },
    {
      "cell_type": "code",
      "execution_count": 137,
      "metadata": {
        "id": "BWjrsx5tZEFf"
      },
      "outputs": [],
      "source": [
        "W = np.random.normal(0, 0.1, (num_inputs, num_outputs)) # Jugaremos con este parametro\n",
        "B = np.zeros(num_outputs) # Jugaremos con este parametro"
      ]
    },
    {
      "cell_type": "code",
      "execution_count": 138,
      "metadata": {
        "colab": {
          "base_uri": "https://localhost:8080/"
        },
        "id": "1p1t9fb0YNxG",
        "outputId": "f1304124-945e-46d1-81ef-b2770c09a276"
      },
      "outputs": [
        {
          "data": {
            "text/plain": [
              "array([[0.6807059 , 0.3192941 ],\n",
              "       [0.63407146, 0.36592854],\n",
              "       [0.67168373, 0.32831627],\n",
              "       ...,\n",
              "       [0.43835373, 0.56164627],\n",
              "       [0.50468993, 0.49531007],\n",
              "       [0.70258568, 0.29741432]])"
            ]
          },
          "execution_count": 138,
          "metadata": {},
          "output_type": "execute_result"
        }
      ],
      "source": [
        "# Las probabilidades que predecimos para cada fila de nuestros datos\n",
        "net(X, W, B)"
      ]
    },
    {
      "cell_type": "code",
      "execution_count": 139,
      "metadata": {
        "colab": {
          "base_uri": "https://localhost:8080/"
        },
        "id": "WlBh3aN-Y4GG",
        "outputId": "75034eaa-8331-4cdf-9de7-ef6b1c170113"
      },
      "outputs": [
        {
          "data": {
            "text/plain": [
              "array([1, 1, 1, ..., 1, 1, 1])"
            ]
          },
          "execution_count": 139,
          "metadata": {},
          "output_type": "execute_result"
        }
      ],
      "source": [
        "# La etiqueta verdadera de nuestros datos\n",
        "y"
      ]
    },
    {
      "cell_type": "markdown",
      "metadata": {},
      "source": [
        "## Descenso por gradiente"
      ]
    },
    {
      "cell_type": "code",
      "execution_count": 140,
      "metadata": {
        "id": "bdaasRLfu3cI"
      },
      "outputs": [],
      "source": [
        "def grad_for_w(X, y_true, w, b):\n",
        "    pred = net_s(X,w,b)\n",
        "\n",
        "    ones_true_class = np.zeros_like(pred) # Matriz de ceros que tiene la forma de las probabilidades\n",
        "\n",
        "    ones_true_class[np.arange(len(pred)), y_true] = 1 # Genera 1 si está en la clasificacion correcta\n",
        "\n",
        "    aux = pred - ones_true_class\n",
        "\n",
        "    return X.T @ aux / X.shape[0]"
      ]
    },
    {
      "cell_type": "code",
      "execution_count": 141,
      "metadata": {
        "id": "vPmuEewJvWyR"
      },
      "outputs": [],
      "source": [
        "def grad_for_b(X, y_true, w, b):\n",
        "    pred = net_s(X,w,b)\n",
        "\n",
        "    ones_true_class = np.zeros_like(pred) # Matriz de ceros que tiene la forma de las probabilidades (logits.shape), si alimento todos los datos es 50000X2\n",
        "\n",
        "    ones_true_class[np.arange(len(pred)),y_true] = 1 # Genera 1 si está en la clasificacion correcta\n",
        "\n",
        "    aux = pred - ones_true_class\n",
        "\n",
        "    return aux.sum(axis=0, keepdims=True) / X.shape[0]"
      ]
    },
    {
      "cell_type": "markdown",
      "metadata": {
        "id": "Iqm6FZHOv5kh"
      },
      "source": [
        "Ahora podemos implementar Gradient Descent"
      ]
    },
    {
      "cell_type": "code",
      "execution_count": 142,
      "metadata": {
        "id": "xaj_uBU4LxfB"
      },
      "outputs": [],
      "source": [
        "def gradient_descent(x, y, w, b, learning_rate=0.1, num_epochs=10):\n",
        "\t# La función de pérdida suele ser denotada por J(.)\n",
        "\tJ_all = []\n",
        "\n",
        "\tfor _ in range(num_epochs):\n",
        "\t\ty_probs = net_s(x, w, b)\n",
        "\n",
        "\t\tgradient_w = grad_for_w(x,y,w,b)\n",
        "\t\tgradient_b = grad_for_b(x,y,w,b)\n",
        "\n",
        "\t    # Actualización de los parámetros\n",
        "\t\tw = w - (learning_rate) * gradient_w\n",
        "\t\tb = b - (learning_rate) * gradient_b\n",
        "\n",
        "\t\tJ_all.append(cross_entropy(y_probs, y))\n",
        "\n",
        "\treturn J_all, w, b"
      ]
    },
    {
      "cell_type": "code",
      "execution_count": 143,
      "metadata": {
        "id": "VyLdbdMdNmAp"
      },
      "outputs": [],
      "source": [
        "W = np.random.normal(0, 0.1, (num_inputs, num_outputs)) # Jugaremos con este parametro\n",
        "B = np.zeros(num_outputs) # Jugaremos con este parametro"
      ]
    },
    {
      "cell_type": "code",
      "execution_count": 144,
      "metadata": {
        "id": "fdtOu8Gv4phz"
      },
      "outputs": [],
      "source": [
        "learning_rate = 0.01\n",
        "num_epochs = 1000"
      ]
    },
    {
      "cell_type": "code",
      "execution_count": 145,
      "metadata": {
        "colab": {
          "base_uri": "https://localhost:8080/"
        },
        "id": "TWTzZZQcBSEb",
        "outputId": "ad9001cf-0bce-4535-ba40-958d93aa9e08"
      },
      "outputs": [
        {
          "name": "stdout",
          "output_type": "stream",
          "text": [
            "Cost:  0.2464349518462393\n",
            "Parameters:  [[ 0.23383334 -0.32983761]\n",
            " [-0.09709126 -0.01171173]\n",
            " [-0.12918514 -0.04978253]\n",
            " [ 0.08406003  0.17539642]\n",
            " [-0.20018892  0.04090267]\n",
            " [ 0.20888931  0.14968745]\n",
            " [-0.10343747  0.0646666 ]\n",
            " [ 0.09680573 -0.13122954]\n",
            " [ 0.00527889  0.1124071 ]\n",
            " [-0.39262115  0.46555162]\n",
            " [-0.15755435  0.19970089]\n",
            " [-0.09101549  0.04888557]\n",
            " [ 0.04088553  0.04104844]\n",
            " [ 0.23865799 -0.0583797 ]\n",
            " [ 0.06273197  0.05873688]\n",
            " [-0.0735033  -0.16656626]\n",
            " [-0.022484    0.1342296 ]\n",
            " [-0.09880918 -0.00815625]\n",
            " [ 0.87181564 -0.87205717]\n",
            " [ 0.07214527  0.07577383]\n",
            " [-0.04993354 -0.1057494 ]\n",
            " [-0.02549273  0.00885707]\n",
            " [-0.04838411  0.07617534]\n",
            " [ 0.12274743 -0.0920072 ]\n",
            " [ 0.13901294  0.02120281]]\n",
            "Intercepto:  [[ 0.39722949 -0.39722949]]\n"
          ]
        }
      ],
      "source": [
        "# Entrenamiento\n",
        "J_all, W, B = gradient_descent(X, y, W, B, learning_rate, num_epochs)\n",
        "\n",
        "# Predicción\n",
        "y_hat = net(X, W, B)\n",
        "\n",
        "# Pérdida final\n",
        "J = cross_entropy(y_hat, y)\n",
        "\n",
        "print(\"Cost: \", J)\n",
        "print(\"Parameters: \", W)\n",
        "print(\"Intercepto: \", B)"
      ]
    },
    {
      "cell_type": "code",
      "execution_count": 146,
      "metadata": {
        "colab": {
          "base_uri": "https://localhost:8080/",
          "height": 430
        },
        "id": "hvlLiqkyQOXF",
        "outputId": "77266dca-a558-46e1-daf7-115396d370d9"
      },
      "outputs": [
        {
          "data": {
            "image/png": "[encoded data removed]",
            "text/plain": [
              "<Figure size 1000x600 with 1 Axes>"
            ]
          },
          "metadata": {},
          "output_type": "display_data"
        }
      ],
      "source": [
        "perdida_por_epoca = np.array(J_all)\n",
        "\n",
        "# Flatten for plotting\n",
        "y_vals = perdida_por_epoca.flatten()\n",
        "x_vals = np.arange(1, len(y_vals) + 1)\n",
        "\n",
        "# Choose a nice color\n",
        "color = '#598D9F'\n",
        "\n",
        "plt.figure(figsize=(10, 6))\n",
        "plt.plot(x_vals, y_vals, color=color, label='Pérdida por época')\n",
        "\n",
        "# Annotate first and last points\n",
        "for i in [0, -1]:\n",
        "    plt.annotate(f'{y_vals[i]:.4f}',\n",
        "                 (x_vals[i], y_vals[i]),\n",
        "                 textcoords=\"offset points\",\n",
        "                 xytext=(0, 10 if i == 0 else -15),\n",
        "                 ha='center',\n",
        "                 color='white',\n",
        "                 bbox=dict(boxstyle=\"round,pad=0.3\", edgecolor=color, facecolor=color))\n",
        "\n",
        "# Decorate\n",
        "plt.xlabel(\"Épocas\")\n",
        "plt.ylabel(\"Pérdida (Loss)\")\n",
        "plt.title(\"Evolución de la pérdida\")\n",
        "plt.grid(True)\n",
        "plt.legend()\n",
        "plt.tight_layout()\n",
        "plt.show()"
      ]
    },
    {
      "cell_type": "code",
      "execution_count": 147,
      "metadata": {
        "colab": {
          "base_uri": "https://localhost:8080/"
        },
        "id": "ipkiKHVyNZ8y",
        "outputId": "7f0cd506-2503-4b6b-cde0-4da4385a7a4c"
      },
      "outputs": [
        {
          "data": {
            "text/plain": [
              "0.9155233086868847"
            ]
          },
          "execution_count": 147,
          "metadata": {},
          "output_type": "execute_result"
        }
      ],
      "source": [
        "accuracy(net(X, W, B), y)"
      ]
    },
    {
      "cell_type": "markdown",
      "metadata": {
        "id": "ABi5C3Kg4kkj"
      },
      "source": [
        "## SGD: Stochastic Gradient Descent\n",
        "\n",
        "En este caso, el algoritmo entrenara de modo un poco distinto, tomando muestras al azar de nuestros datos."
      ]
    },
    {
      "cell_type": "code",
      "execution_count": 148,
      "metadata": {
        "id": "t2x4Fyr16myj"
      },
      "outputs": [],
      "source": [
        "# Tamaño de la muestra o batch\n",
        "batch_size = 200"
      ]
    },
    {
      "cell_type": "code",
      "execution_count": 149,
      "metadata": {
        "id": "a1pc7Mns468G"
      },
      "outputs": [],
      "source": [
        "number_of_rows = X.shape[0]\n",
        "random_indices = np.random.choice(number_of_rows, size=batch_size, replace=False)\n",
        "X_prima = X[random_indices, :].copy()"
      ]
    },
    {
      "cell_type": "code",
      "execution_count": 150,
      "metadata": {
        "colab": {
          "base_uri": "https://localhost:8080/"
        },
        "id": "mS-sbE2r8Oul",
        "outputId": "c84b8e6c-2d18-49a5-a0fa-17471a9fefd5"
      },
      "outputs": [
        {
          "data": {
            "text/plain": [
              "array([[ 0.71650234, -0.26289212, -0.03433358, ..., -0.35412749,\n",
              "        -0.25287859, -0.25815668],\n",
              "       [-0.26883391, -0.08960756, -0.03433358, ..., -0.05826987,\n",
              "        -0.17339837, -0.40886434],\n",
              "       [-0.23818474, -0.14954842, -0.03433357, ...,  0.65457146,\n",
              "        -0.06769679, -0.42486869],\n",
              "       ...,\n",
              "       [-0.24552768, -0.2147914 , -0.03433358, ...,  0.45530835,\n",
              "         0.01407171, -0.4208676 ],\n",
              "       [-0.23112898,  0.45537201, -0.03433358, ..., -0.29836096,\n",
              "        -0.23803213, -0.43153717],\n",
              "       [-0.21331736,  0.19976213, -0.03433358, ..., -0.28416718,\n",
              "        -0.13683143, -0.42620239]])"
            ]
          },
          "execution_count": 150,
          "metadata": {},
          "output_type": "execute_result"
        }
      ],
      "source": [
        "X_prima"
      ]
    },
    {
      "cell_type": "code",
      "execution_count": 151,
      "metadata": {
        "id": "9hmnUV6W5aBQ"
      },
      "outputs": [],
      "source": [
        "y_prima = y[random_indices].copy()"
      ]
    },
    {
      "cell_type": "code",
      "execution_count": 152,
      "metadata": {
        "colab": {
          "base_uri": "https://localhost:8080/"
        },
        "id": "uS3OZYk_8Sbv",
        "outputId": "7ba07d34-73ed-4e58-cbbf-34a257542188"
      },
      "outputs": [
        {
          "data": {
            "text/plain": [
              "array([0, 1, 1, 0, 0, 1, 0, 0, 0, 1, 0, 1, 0, 0, 1, 0, 0, 1, 1, 0, 0, 0,\n",
              "       0, 1, 1, 0, 0, 0, 0, 1, 1, 0, 0, 0, 1, 0, 0, 1, 0, 1, 1, 0, 1, 0,\n",
              "       0, 0, 0, 0, 0, 1, 0, 0, 1, 1, 1, 0, 0, 0, 0, 0, 1, 0, 0, 0, 0, 0,\n",
              "       0, 0, 0, 1, 1, 1, 0, 1, 1, 1, 0, 0, 0, 1, 1, 1, 0, 1, 0, 0, 1, 1,\n",
              "       0, 1, 0, 0, 0, 0, 0, 1, 0, 1, 0, 1, 0, 0, 0, 1, 0, 0, 1, 0, 0, 0,\n",
              "       0, 0, 0, 1, 1, 0, 0, 0, 0, 1, 1, 0, 0, 1, 0, 0, 1, 1, 1, 0, 0, 1,\n",
              "       0, 1, 0, 0, 0, 0, 0, 1, 0, 0, 1, 0, 1, 0, 0, 1, 0, 0, 1, 0, 0, 0,\n",
              "       1, 0, 1, 0, 1, 0, 1, 0, 0, 0, 1, 0, 0, 0, 0, 0, 0, 1, 0, 0, 1, 0,\n",
              "       0, 1, 0, 0, 1, 0, 0, 0, 0, 1, 0, 0, 0, 1, 0, 0, 0, 0, 0, 0, 0, 1,\n",
              "       0, 1])"
            ]
          },
          "execution_count": 152,
          "metadata": {},
          "output_type": "execute_result"
        }
      ],
      "source": [
        "y_prima"
      ]
    },
    {
      "cell_type": "code",
      "execution_count": 153,
      "metadata": {
        "id": "wkEVafDv6zSS"
      },
      "outputs": [],
      "source": [
        "def batch_gradient_descent(x, y, w, b, batch_size, learning_rate=0.1, num_epochs=10):\n",
        "  m = x.shape[0]\n",
        "  J_all = []\n",
        "\n",
        "  for _ in range(num_epochs):\n",
        "    random_indices = np.random.choice(m, size=batch_size, replace=False)\n",
        "    x_batch = x[random_indices, :].copy()\n",
        "    y_batch = y[random_indices].copy()\n",
        "\n",
        "    y_probs = net_s(x_batch, w, b)\n",
        "\n",
        "    gradient_w = grad_for_w(x_batch,y_batch,w,b)\n",
        "    gradient_b = grad_for_b(x_batch,y_batch,w,b)\n",
        "\n",
        "    #Actualizamos los paramentros\n",
        "    w = w - (learning_rate) * gradient_w\n",
        "    b = b - (learning_rate) * gradient_b\n",
        "\n",
        "    J_all.append(cross_entropy(y_probs, y_batch))\n",
        "\n",
        "  return J_all, w, b"
      ]
    },
    {
      "cell_type": "code",
      "execution_count": 154,
      "metadata": {
        "id": "tCHpmpEL76dJ"
      },
      "outputs": [],
      "source": [
        "W = np.random.normal(0, 0.1, (num_inputs, num_outputs)) # Jugaremos con este parametro\n",
        "B = np.zeros(num_outputs) # Jugaremos con este parametro"
      ]
    },
    {
      "cell_type": "code",
      "execution_count": 155,
      "metadata": {
        "id": "577ys26F8ECc"
      },
      "outputs": [],
      "source": [
        "learning_rate = 0.01\n",
        "num_epochs = 1000"
      ]
    },
    {
      "cell_type": "code",
      "execution_count": 156,
      "metadata": {
        "colab": {
          "base_uri": "https://localhost:8080/"
        },
        "id": "mI0orbzN8ECc",
        "outputId": "8b23c97c-c709-46a3-c0a6-3ae5f617fd4d"
      },
      "outputs": [
        {
          "name": "stdout",
          "output_type": "stream",
          "text": [
            "Cost:  0.25231341415901815\n",
            "Parameters:  [[ 0.24241449 -0.23301584]\n",
            " [-0.12705754  0.08288855]\n",
            " [-0.05913589 -0.1084498 ]\n",
            " [-0.01995018  0.08684479]\n",
            " [-0.02742437  0.15035933]\n",
            " [ 0.13534636  0.01359483]\n",
            " [-0.14960328 -0.00419117]\n",
            " [ 0.12254035 -0.02355859]\n",
            " [-0.01578084  0.10955188]\n",
            " [-0.31290236  0.42244594]\n",
            " [-0.08004089  0.10530507]\n",
            " [-0.04945168 -0.0080182 ]\n",
            " [-0.14441862  0.02305014]\n",
            " [ 0.17845285 -0.06772354]\n",
            " [ 0.08344117  0.03162056]\n",
            " [-0.15523924 -0.24446738]\n",
            " [-0.09676462  0.068562  ]\n",
            " [-0.16827613 -0.00741367]\n",
            " [ 0.74273404 -0.99385342]\n",
            " [ 0.04882471  0.11436501]\n",
            " [ 0.01259485 -0.08055812]\n",
            " [-0.08138207 -0.12852135]\n",
            " [ 0.00177078  0.16438015]\n",
            " [ 0.12591666 -0.05664576]\n",
            " [ 0.0121008  -0.12753006]]\n",
            "Intercepto:  [[ 0.39348214 -0.39348214]]\n"
          ]
        }
      ],
      "source": [
        "J_all, W, B = batch_gradient_descent(X, y, W, B, batch_size, learning_rate, num_epochs)\n",
        "\n",
        "Y_hat = net(X, W, B)\n",
        "\n",
        "J = cross_entropy(Y_hat, y)\n",
        "\n",
        "print(\"Cost: \", J)\n",
        "print(\"Parameters: \", W)\n",
        "print(\"Intercepto: \", B)"
      ]
    },
    {
      "cell_type": "code",
      "execution_count": 157,
      "metadata": {
        "colab": {
          "base_uri": "https://localhost:8080/"
        },
        "id": "FM4kNcrD8ECd",
        "outputId": "bcde8699-7847-434d-8baf-9781bb38a42e"
      },
      "outputs": [
        {
          "name": "stdout",
          "output_type": "stream",
          "text": [
            "[0.7187567966724059, 0.7028188538122937, 0.6652439742088885, 0.6954996837426464, 0.6588498452510763, 0.6781754065271812, 0.6352482856324364, 0.6386560507562413, 0.6197598370772532, 0.6238467890998983, 0.6175240940709142, 0.6479811135684418, 0.6456003053295615, 0.6105817729055907, 0.6169451377483913, 0.6106190377775543, 0.560481634521014, 0.5523090360048569, 0.5834274010576102, 0.5918432490293699, 0.5292155313669413, 0.5455617296033057, 0.5090348634012595, 0.4982797421008971, 0.5738443525269189, 0.5439767021291256, 0.5551153402716832, 0.5172491428501802, 0.5214438310201569, 0.5509427809339906, 0.516435569119808, 0.5054219698153127, 0.5136188926315248, 0.532514001751558, 0.5727453654426442, 0.5014199593660399, 0.49686567179702584, 0.5369742937917009, 0.4981549626660488, 0.5593876864425884, 0.5397225052820797, 0.4958856552614439, 0.4931043392429251, 0.475699315076599, 0.5065035777240398, 0.5069887256925262, 0.4746383178336103, 0.4806975358287714, 0.5394908861663643, 0.4747646634645652, 0.4832973799673617, 0.4716446198061153, 0.4538436610698302, 0.4858762892667681, 0.4690642086124591, 0.503766606296163, 0.46119378942356165, 0.5077797033210903, 0.5152343653209498, 0.41844487018408716, 0.4778204902815272, 0.4928714605140159, 0.4669457632050941, 0.48228932912402445, 0.42200106416221206, 0.5247842423108218, 0.4607970829805729, 0.44886396328584766, 0.4620413498924611, 0.45946607184326976, 0.45024184819925445, 0.5137298105045418, 0.4769121882669991, 0.5301286636891743, 0.4668201717084666, 0.4566711463195574, 0.43036139170896476, 0.45541026899895504, 0.45167890902501723, 0.43723571974345604, 0.5954084372962882, 0.44244230309718774, 0.4290328802842012, 0.4850871740610968, 0.5018038649391835, 0.5096487144475863, 0.471309603421977, 0.4308514119400864, 0.4361460859241811, 0.40542810917651784, 0.42977208450840654, 0.41518887621071116, 0.5033199820138762, 0.4494030675028627, 0.4279584804784598, 0.45000692450428076, 0.4747418716125527, 0.46440653255660824, 0.4561934419235415, 0.41407053308760405, 0.4459565263364388, 0.49285989064716695, 0.42250849413861596, 0.47226949937794627, 0.4063104216476898, 0.4377768943347307, 0.4326622344080651, 0.4603960921874935, 0.3862408747179188, 0.40947808637581595, 0.4885822364815132, 0.4987217269204654, 0.4061371809130277, 0.43430416276158906, 0.49258229755979405, 0.40394379146527415, 0.4383832384494818, 0.4105894736552122, 0.39817774206912887, 0.4061990119769653, 0.45212823946523756, 0.44525866748616394, 0.40860358574198796, 0.44915621081594964, 0.4070832655616705, 0.4361333949683959, 0.4232148610741911, 0.4899725866259822, 0.41829680949876596, 0.3969784381757661, 0.4330109004503793, 0.4277500564086627, 0.37429134963617194, 0.36007147957814795, 0.44295251752477344, 0.4072749128055744, 0.4357598264493795, 0.4209606339429575, 0.34997786715429796, 0.4164493727379453, 0.40243228112692264, 0.38668995042576254, 0.3818810567096307, 0.41995799850160354, 0.45022318572619136, 0.38661161996380694, 0.4194394796506847, 0.42893123285164836, 0.3689076142984505, 0.3892810134616911, 0.35894695608770905, 0.38721594560777456, 0.4287111720931202, 0.42371873563387347, 0.46111704619886296, 0.4018121920674949, 0.3830135844785589, 0.4481291035877857, 0.3817502091726355, 0.3782114782850515, 0.3698457858093542, 0.38399076786432135, 0.39507416897440206, 0.45858666961813477, 0.44002208252575215, 0.4102393371435123, 0.41181610405466074, 0.41736185461035885, 0.3648625788760505, 0.35264344632991734, 0.4192717618758094, 0.3668763727286792, 0.41495551570777633, 0.3843510141990956, 0.3544168755601686, 0.41690975198332536, 0.38608652986635134, 0.39932686037126414, 0.3533981886407788, 0.39372438421174266, 0.36265270570651054, 0.32127932305162415, 0.357168971155407, 0.4150913815171016, 0.40961498356398335, 0.3718973701977707, 0.35765527361665245, 0.38447643239779433, 0.4018839768910577, 0.39293016882678045, 0.41131738463302064, 0.38260176558778836, 0.40775576566169436, 0.42294991110220453, 0.33537516876542833, 0.39015115511472204, 0.361505702370422, 0.3836772188548444, 0.40224573187664164, 0.3372902012527048, 0.330360670161278, 0.3552528698079172, 0.3841205699357036, 0.3695853693106376, 0.34299397362920453, 0.36160431648853364, 0.3562573195265877, 0.4013851696352356, 0.32843251706068577, 0.3978449299086659, 0.4231209367663601, 0.38089831911454064, 0.4233211891130222, 0.35445647160216665, 0.44815825031651824, 0.3856514130597415, 0.4006906121496961, 0.37552943605481476, 0.3631166329179807, 0.3538445149795057, 0.3466547314353064, 0.32855738866103884, 0.42757320896167916, 0.3270557983648034, 0.31122657746731947, 0.38066350761937606, 0.366570571796614, 0.38254020445400544, 0.3926649494869096, 0.4074691630130028, 0.313780770736325, 0.42492173479398543, 0.37980821438282386, 0.36515123761039187, 0.3465396576275539, 0.34636910000733495, 0.3922188773038174, 0.4080227746953797, 0.3573653464899382, 0.4060907230611651, 0.3476511663222428, 0.3720830317243396, 0.32522714166577343, 0.36403497656713724, 0.3249180376827055, 0.4290760693327917, 0.3760182824673269, 0.37889574379231816, 0.3261524870374774, 0.35517058888514647, 0.3559814185971684, 0.35483098032079313, 0.41730506535083556, 0.3384759662011176, 0.34623980073896216, 0.40233341471695966, 0.35247364887064303, 0.4068074290026682, 0.32654290199473707, 0.4099212484731735, 0.3314581157879267, 0.39378800028715416, 0.317265565459788, 0.3466318095308714, 0.35102054440653957, 0.3613505611375591, 0.3548060808927467, 0.33307839586711796, 0.36712126238985204, 0.322855154456491, 0.327582789661368, 0.35036832444274535, 0.35781743459950877, 0.320968439861211, 0.3719997737495339, 0.3497510383881018, 0.3403688635958491, 0.37485041188693075, 0.3131791051926939, 0.3624014282253154, 0.3096488689573753, 0.27595675875129977, 0.34279933928140843, 0.34453259670394815, 0.3555399105120472, 0.420826428244105, 0.3305874843566203, 0.373672476959086, 0.352151168129673, 0.3502972697792097, 0.3323997894278146, 0.3543372630296254, 0.35127982443849587, 0.40837932377387864, 0.3192167651895116, 0.3331061790586844, 0.35376281959161715, 0.3975676175453417, 0.4596703050524847, 0.33739570319837425, 0.3787386936730897, 0.39408468127643603, 0.40920751221308904, 0.32348918904007284, 0.3717949612047127, 0.3195797844396978, 0.36477563035792526, 0.30207896066414386, 0.32966254030537223, 0.30417207691473735, 0.36512082908009746, 0.3599136143719366, 0.3671978450056902, 0.3579350747829099, 0.37076467017553, 0.34277242309343164, 0.34910283830496547, 0.3456371829396978, 0.3242131668670308, 0.38356947819468296, 0.36145957865749456, 0.3231668432678399, 0.3774037126694779, 0.307488021465112, 0.34575208584240336, 0.3194566103917767, 0.33152235379738487, 0.35593063032473893, 0.34312555932692873, 0.27169758241921393, 0.4041239741539895, 0.38693856185872216, 0.3559077019664821, 0.3179253639131523, 0.2789272780355379, 0.3021809096155368, 0.33831280180281625, 0.3714095522469745, 0.33506371314283456, 0.31924888851121963, 0.33916474146295916, 0.34633553658462574, 0.31047840008229677, 0.333745656873465, 0.3486820765134382, 0.34775204545334665, 0.3539687721644269, 0.3409693600061739, 0.41319356070143926, 0.37278255491132906, 0.34758980703840037, 0.3187377555340386, 0.3416159974015791, 0.3627473627176109, 0.34409936400409036, 0.3176378497353115, 0.34506835905005173, 0.32651195000592914, 0.3545081189997484, 0.2859580363283337, 0.37184400298825815, 0.30853675260519386, 0.3219812857835098, 0.3121259269618686, 0.33659529652266346, 0.31034597184986784, 0.2835491812792592, 0.30127310703991045, 0.3352476928149445, 0.315501276845424, 0.261508456497078, 0.29240694692502556, 0.28885701148782805, 0.3978544074806439, 0.3055143180407525, 0.3391059100760356, 0.355714398832011, 0.275315226659985, 0.3015773380879235, 0.3603580501008436, 0.31752421900581945, 0.29150969712834285, 0.3034232385829987, 0.3147306332264837, 0.2903890099990922, 0.31429945167924694, 0.32718311529956245, 0.308299698840685, 0.3473256452439441, 0.2667558572008051, 0.40714785752203314, 0.33598827447818436, 0.28920075751284513, 0.39242041306720266, 0.3402065941061478, 0.27853350111686515, 0.32519799597289684, 0.3173050972470668, 0.3540182621852829, 0.2829515605791701, 0.28288650610278493, 0.2600203076786693, 0.28934347892732937, 0.30920407859714827, 0.3275205757336128, 0.2815597579482653, 0.3180747340601837, 0.3253194910369251, 0.30568950650108895, 0.34332967514951457, 0.37138111986593514, 0.2925531318877412, 0.289281631818059, 0.3308508315859227, 0.3489601249413279, 0.3253430892514615, 0.3234508830992995, 0.3077060796105918, 0.38629170555221265, 0.37276143832564274, 0.3105678095472913, 0.32444872437327876, 0.30986038560343987, 0.3264049345548882, 0.3498099227300277, 0.3373778181841469, 0.32818806213278096, 0.3178851880911132, 0.3467918314677704, 0.32825778055262284, 0.3178596840032131, 0.34482449415732075, 0.2951841063230421, 0.2824313184504065, 0.3008387729287664, 0.2886973563362677, 0.38626270478681307, 0.2922239636123641, 0.3306410495597925, 0.2794623955760612, 0.3033007604414172, 0.3659521162859321, 0.3229888663364974, 0.3173127354741083, 0.31018506967659515, 0.31081503225673457, 0.32242430056606297, 0.30871001677891563, 0.3711143476229905, 0.3366830230192733, 0.3262360667923106, 0.3409484783713059, 0.3319859480538392, 0.25869935203695255, 0.30857712845616414, 0.31174310987773246, 0.30060135326846055, 0.33847183080310744, 0.3249780338055922, 0.24347129279187016, 0.30979009133245206, 0.2744642784881641, 0.28994784710056437, 0.30584347132358825, 0.2645511856208396, 0.2661865320955991, 0.3352555651565791, 0.27011443551497577, 0.3129333446054667, 0.29864898981945326, 0.3029178277079996, 0.305360766259971, 0.3223335633403386, 0.28147770788890003, 0.28572322788563975, 0.34634180418847565, 0.2464490970158024, 0.29305008926751586, 0.260399083735104, 0.31461760976416675, 0.35704376763383877, 0.3003117125575728, 0.3159201173974338, 0.2900035708302154, 0.3141468758365544, 0.26137141883746046, 0.31867118248930737, 0.3501879658227797, 0.27632947124494295, 0.2757781221102276, 0.3724236813805707, 0.25295588627948706, 0.2800294614757707, 0.33175119667359854, 0.32095322057800746, 0.2613935012645106, 0.27850392631026155, 0.2550881803760806, 0.3263020349101292, 0.30732845499737316, 0.32855254247284094, 0.29388106271254516, 0.2836544366612775, 0.2942244295621069, 0.2885459665119059, 0.2972504337384644, 0.2824162172284097, 0.2994467618569969, 0.3105579080865195, 0.32375956828597113, 0.30902917513103834, 0.2728310522056781, 0.2779739588910429, 0.257705451683143, 0.3115836526277463, 0.3613895594932009, 0.33027356331044466, 0.26452279680559143, 0.3498595166147585, 0.30632870584727967, 0.2787902888267453, 0.2654707651350079, 0.3192576018337342, 0.3122624442032792, 0.2809834815255524, 0.316063002653301, 0.257033287186029, 0.32753967735551265, 0.3226706590005454, 0.2818732410906774, 0.29480870637104006, 0.30426647767915344, 0.334240113880706, 0.32880960158240724, 0.2637372585480769, 0.28954900011857276, 0.2985960860495742, 0.2809833966065507, 0.34007497791974167, 0.26661040069879527, 0.2560054356403782, 0.2909561359631076, 0.24955697846820063, 0.3116438306834686, 0.3195365722719131, 0.32807987994165166, 0.24441596912549798, 0.2765674885501691, 0.2629850714120693, 0.26269646247340206, 0.3081181137530218, 0.29931645786837224, 0.332304609559387, 0.3208688737551473, 0.33997069332576063, 0.24821656299488062, 0.28403925932423746, 0.28428647346508795, 0.32386376921686444, 0.2560308797014752, 0.28654799506512, 0.2783365569166352, 0.2906883049519924, 0.2708035576010706, 0.3191012689981229, 0.2852121750476968, 0.29177031511514956, 0.2616150921129234, 0.2581399826729031, 0.29075269387852837, 0.30073485667250643, 0.27975420749516977, 0.30079155536883373, 0.3133739157750694, 0.25048666931632163, 0.29758895754572134, 0.2874574727728662, 0.3066504280653775, 0.3089367909481639, 0.2924616733709058, 0.24774715063537112, 0.2730928819358184, 0.2934718556699218, 0.30211146122631966, 0.28919856118268533, 0.2793198665691673, 0.2909127397882024, 0.25009905621993467, 0.29572054245041784, 0.28920056318683157, 0.3265473960624139, 0.290041915550085, 0.2980462856557508, 0.26130009201088045, 0.32603464364942275, 0.3074186426054246, 0.26963755878939977, 0.3095450547281889, 0.26870229075255714, 0.272857301384222, 0.31257552966732044, 0.3480987779635146, 0.30187260786179015, 0.3209673467393678, 0.3189857585070284, 0.28444603794663903, 0.3036868202567328, 0.24942495468325415, 0.3199691428820565, 0.28853183007357197, 0.3173548463332252, 0.2760240829751175, 0.32737105870705613, 0.27205296520242145, 0.27472438109121633, 0.3447340553287952, 0.24018957923725373, 0.30208944588068914, 0.28454270490700745, 0.26162962570448695, 0.2774532151499748, 0.28544633805994374, 0.2892770992237137, 0.25847844523839536, 0.2858097905963468, 0.29835953761991163, 0.28402979582954613, 0.27093180360063795, 0.37494340698315315, 0.3023149344561135, 0.2725306710155668, 0.3135658653234515, 0.2712780350219682, 0.2969332405460841, 0.3324353086554783, 0.30603917762307487, 0.28256744580391413, 0.3381758799073972, 0.26009442248834386, 0.2963532248945949, 0.2925581228607245, 0.28523351534538405, 0.24909682925940055, 0.2681910365179683, 0.26301675021735826, 0.25103370234830824, 0.2571485361447332, 0.29998805343628043, 0.24654896867676418, 0.23103528248111083, 0.27508965376787053, 0.31218174451650726, 0.3160217419523514, 0.3069903449826822, 0.2946638099333711, 0.27749662217338, 0.281499644187903, 0.22323972552757307, 0.2409075668184385, 0.2528644315224388, 0.2929776386698948, 0.27888617968646073, 0.2829112473238478, 0.2840539412959513, 0.30597253333459556, 0.23171458258408018, 0.2535205414104761, 0.22293899268931733, 0.24872583760480702, 0.31023266907473174, 0.2340830990331708, 0.23477965158101044, 0.3082176367502899, 0.2629369506749961, 0.31427290358028626, 0.27344158490193543, 0.34349696126472024, 0.3179999728265652, 0.25177325899148484, 0.29214909364226294, 0.30381350076899843, 0.2892655252856828, 0.2512172086465931, 0.3298693529336368, 0.26034717807019814, 0.23884747924318195, 0.2771623970492707, 0.36367603963670236, 0.3243711400736264, 0.2889965368476402, 0.2843392135689221, 0.29423101508847077, 0.30206013130900605, 0.25228096010600437, 0.2800719510592159, 0.27562730795580515, 0.2550339822858431, 0.24947645574842114, 0.298746485826347, 0.3247889498473227, 0.2815195998586647, 0.3266946380775257, 0.2829937286752259, 0.23821676122447732, 0.28791065334759613, 0.28149126559745985, 0.24428422788858903, 0.2432529295221747, 0.2717583369212334, 0.23735642713998245, 0.25353463549610855, 0.27013347830546364, 0.2914349745760909, 0.23404807086355067, 0.2177027463614409, 0.31945491654808367, 0.30275762685035185, 0.21921920702377057, 0.3268739720651499, 0.2818529899654336, 0.2534005529383961, 0.29107726216162677, 0.2673461411250469, 0.24571351207114908, 0.24344154301533777, 0.25733903335007896, 0.2440333337049135, 0.2951070685883177, 0.294044600836048, 0.2730015061545614, 0.31425958077075766, 0.28313652243656284, 0.25904581139175986, 0.2459060514444738, 0.2613271579523018, 0.3548198894761309, 0.284319937076831, 0.25879929449115735, 0.2985150651497131, 0.26478025565296287, 0.2858346506737697, 0.2785955725671228, 0.28041190765186913, 0.2821159686854052, 0.2576566396429477, 0.2751785232592993, 0.27597541819637167, 0.2586813429897407, 0.2273340435797463, 0.30011948157436086, 0.3283294597121821, 0.3116894441573937, 0.2709813017098906, 0.23213278743762736, 0.24599419344177556, 0.28241407645902933, 0.31625929857569945, 0.2770618744774921, 0.2755870751774983, 0.2840927204575879, 0.24115831907923174, 0.25043478230126015, 0.2385803919505986, 0.3015742394959061, 0.27504294998869044, 0.2593434499596723, 0.21711034015009975, 0.2494972372660082, 0.20784281620684675, 0.2626926760684692, 0.259250814165737, 0.2823569764137605, 0.2578140194960957, 0.34473737491935114, 0.2957245892253843, 0.2716501499826511, 0.30987878871061425, 0.23667056078751236, 0.26428276894227887, 0.25308557030795714, 0.27143900959480116, 0.26157632869062475, 0.308311714541653, 0.27317024108200927, 0.2324435444093352, 0.22731561997518435, 0.32927240100706245, 0.23623028124522044, 0.26752351330030183, 0.27480543166352567, 0.24121599957723802, 0.24840016396160927, 0.29534554743264957, 0.2566496705173633, 0.2693708019628507, 0.25656745888083626, 0.23898558710199005, 0.2758058416900423, 0.3244249075847117, 0.2904806290443833, 0.28384063753394495, 0.22911924049662247, 0.25349959233235253, 0.2078837918262374, 0.27961805569271386, 0.24300194991188917, 0.309126890510903, 0.2425750603746652, 0.29128321639798216, 0.3104239662717182, 0.25215904879009765, 0.29561320263763996, 0.23617182438962217, 0.21142280218802106, 0.21902515032661676, 0.24765340183304552, 0.2811003748980646, 0.3001705608646406, 0.2702639729966887, 0.2613231609504268, 0.20956045610557184, 0.26902100619668645, 0.25419977899200086, 0.30506999275473135, 0.2718714244765727, 0.2970925927597263, 0.2294298927330263, 0.25112294421899056, 0.27824719347387344, 0.2350281896344348, 0.2534112352635398, 0.24225918038141192, 0.22961309545797426, 0.2763199429754557, 0.25992404297045674, 0.27494775571825975, 0.250641221400259, 0.23719762982642834, 0.25617268947224786, 0.23936757201850725, 0.2888303010473285, 0.2459891717572065, 0.2462115844910818, 0.2464742020091615, 0.31892380565644, 0.2653667511914915, 0.3049474434445536, 0.28913765771604544, 0.2489265761487429, 0.2472925762259979, 0.2294321686784933, 0.2470642038454306, 0.3365462427061195, 0.3025222115340916, 0.23735513012753695, 0.25834892745041543, 0.33899458952771894, 0.25218409442041656, 0.2826896884489288, 0.23618760342653417, 0.26870272378907123, 0.2755947089856582, 0.22891598119847884, 0.2615546172613513, 0.27979149256809965, 0.247683317866017, 0.24683021836525335, 0.2661371478313334, 0.2990541480531779, 0.2998297811481709, 0.22676907746993877, 0.2693495289767985, 0.2584310871551625, 0.26588451680905545, 0.23790543906791214, 0.26593854502330105, 0.2889661875308237, 0.2457458334676078, 0.27020247004538134, 0.2722092509254888, 0.26215404032803846, 0.236744147471603, 0.26257137816131393, 0.23563886035670026, 0.24068592467583635, 0.25863026695961044, 0.3162485744494771, 0.2576888979511465, 0.252547537253994, 0.24454200557397118, 0.22086763715797525, 0.2316702163730222, 0.22516928886158294, 0.2220126794911433, 0.23551459730501356, 0.2807440188995147, 0.23857138498356192, 0.29695800506072384, 0.21844219952879698, 0.26414168488943474, 0.2257172467645471, 0.28002127323885356, 0.26487847668060027, 0.25322208499274323, 0.2376262214630279, 0.2736081268818735, 0.2928805309017448, 0.2607482273166225, 0.21664305060524247, 0.2907659346158616, 0.3083420903210574, 0.23093560799058627, 0.25084525462850993, 0.2599673115997174, 0.27621277667059546, 0.24708982626294734, 0.2960611365210595, 0.2588406053122733, 0.22764677817117357, 0.267029065230433, 0.24790745735074288, 0.31746515927741664, 0.22723628240625474, 0.3071142308605726, 0.23793538976632853, 0.28590482278661317, 0.25684621690294485, 0.2607529148241688, 0.22128546895107526, 0.24682148584587132, 0.25803006003973566, 0.2203264848108203, 0.25435374998969473, 0.2813405750372809, 0.27908352249072527, 0.2406371831968982, 0.2674030181243143, 0.2993793701434379, 0.29825112574848783, 0.24082332789137822, 0.28176878870146416, 0.2671115688568102, 0.263346270740897, 0.287161265514055, 0.3115064816785758, 0.25016292081913855, 0.258238099531112, 0.2568683602912566, 0.2312049721084798, 0.23653489672054598, 0.23258384593157955, 0.2443069350119368, 0.28198095294473974, 0.25876898413084426, 0.25212516112141065, 0.21531546322234166, 0.1788655277920434, 0.25680293174290364, 0.3051158726286964, 0.21422437679058454, 0.2607115456736541, 0.24581291859076765, 0.20085268466627262, 0.21172026329138524, 0.26800795963807356, 0.2740332259224407, 0.28378272108279273, 0.2282815291539623, 0.2700493189222077, 0.30696080386998953, 0.21698357502199714, 0.22729648936822902, 0.2344704015173702, 0.22714013206207312, 0.2485670825158922, 0.2844611295679734, 0.24067033335734536, 0.2065754094154161, 0.22741974803315085, 0.2580842207352887, 0.26148009245985454, 0.23754129185755257, 0.25291895194684033, 0.267100917657281, 0.3065236290512026, 0.22471452510100345, 0.24499768890511625, 0.2346548228649276, 0.2962947160584081, 0.266333540539204, 0.2590461777795362, 0.2296183352089951, 0.30298154566713115, 0.2927019783410052, 0.23085397045650333, 0.23088723258213695, 0.29087332760108714, 0.26181256455968727, 0.24056195278397155, 0.23935891007478216]\n"
          ]
        }
      ],
      "source": [
        "print(J_all)"
      ]
    },
    {
      "cell_type": "code",
      "execution_count": 158,
      "metadata": {
        "colab": {
          "base_uri": "https://localhost:8080/",
          "height": 430
        },
        "id": "B7WbR8pv8ECd",
        "outputId": "8924ae65-f658-4724-a84d-c93471d6f1ac"
      },
      "outputs": [
        {
          "data": {
            "image/png": "[encoded data removed]",
            "text/plain": [
              "<Figure size 1000x600 with 1 Axes>"
            ]
          },
          "metadata": {},
          "output_type": "display_data"
        }
      ],
      "source": [
        "perdida_por_epoca = np.array(J_all)\n",
        "\n",
        "# Define x and y values\n",
        "y_vals = perdida_por_epoca\n",
        "x_vals = np.arange(1, len(y_vals) + 1)\n",
        "\n",
        "# Choose color\n",
        "color = '#205781'\n",
        "\n",
        "plt.figure(figsize=(10, 6))\n",
        "plt.plot(x_vals, y_vals, color=color, label='Pérdida por época')\n",
        "\n",
        "# Annotate first and last epochs\n",
        "for i in [0, -1]:\n",
        "    plt.annotate(f'{y_vals[i]:.4f}',\n",
        "                 (x_vals[i], y_vals[i]),\n",
        "                 textcoords=\"offset points\",\n",
        "                 xytext=(0, 10 if i == 0 else -15),\n",
        "                 ha='center',\n",
        "                 color='white',\n",
        "                 bbox=dict(boxstyle=\"round,pad=0.3\", edgecolor=color, facecolor=color))\n",
        "\n",
        "# Labels and grid\n",
        "plt.xlabel(\"Épocas\")\n",
        "plt.ylabel(\"Pérdida\")\n",
        "plt.title(\"Evolución de la pérdida por época\")\n",
        "plt.grid(True)\n",
        "plt.legend()\n",
        "plt.tight_layout()\n",
        "plt.show()"
      ]
    },
    {
      "cell_type": "code",
      "execution_count": 159,
      "metadata": {
        "colab": {
          "base_uri": "https://localhost:8080/"
        },
        "id": "8jsZGmHu8ECd",
        "outputId": "3a99cf65-c8ab-4b40-dc3d-20d32cbe8a80"
      },
      "outputs": [
        {
          "data": {
            "text/plain": [
              "0.9131509232533312"
            ]
          },
          "execution_count": 159,
          "metadata": {},
          "output_type": "execute_result"
        }
      ],
      "source": [
        "accuracy(net(X, W, B), y)"
      ]
    }
  ],
  "metadata": {
    "colab": {
      "include_colab_link": true,
      "provenance": []
    },
    "kernelspec": {
      "display_name": "Python 3",
      "name": "python3"
    },
    "language_info": {
      "codemirror_mode": {
        "name": "ipython",
        "version": 3
      },
      "file_extension": ".py",
      "mimetype": "text/x-python",
      "name": "python",
      "nbconvert_exporter": "python",
      "pygments_lexer": "ipython3",
      "version": "3.9.6"
    }
  },
  "nbformat": 4,
  "nbformat_minor": 0
}
