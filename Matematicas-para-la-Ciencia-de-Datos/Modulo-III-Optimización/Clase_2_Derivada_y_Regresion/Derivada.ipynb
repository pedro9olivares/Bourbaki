{
  "cells": [
    {
      "cell_type": "markdown",
      "metadata": {
        "id": "T_5475og8tE1"
      },
      "source": [
        "# La derivada (warm-up para descenso por gradiente)"
      ]
    },
    {
      "cell_type": "markdown",
      "metadata": {
        "id": "s6MULV_a8vJr"
      },
      "source": [
        "Objetivos:\n",
        "1. Derivar funciones en python usando la definición de límite\n",
        "2. Dar una breve introducción a [sympy](https://www.sympy.org/en/index.html)\n",
        "3. Obtener la matriz Jacobiana con sympy\n",
        "4. Obtener la matriz Hessiana con sympy\n",
        "5. Obtener la solución de una ecuación diferencial parcial"
      ]
    },
    {
      "cell_type": "markdown",
      "metadata": {
        "id": "G6Gahdrx8s_q"
      },
      "source": [
        "# Introducción"
      ]
    },
    {
      "cell_type": "markdown",
      "metadata": {
        "id": "lWxVLQqS46IH"
      },
      "source": [
        "**Definición:** La función $f$ es diferenciable en a si el siguiente límite existe: $$  lim_{h\\rightarrow 0} \\frac{f(a+ h) - f(a)}{h}$$\n",
        "En este caso, dicho límite se representa mediante **$f'(a)$** y se denomina **la derivada de f en a**.\n",
        "\n",
        "También, $f$ es diferenciable si $f$ es diferenciable en $a$ para todo $a$ en el dominio de $f$. (Michael Spivak. (2012). Derivadas e integrales. En Calculus(151). Barcelona: Reverté.)"
      ]
    },
    {
      "cell_type": "code",
      "execution_count": 1,
      "metadata": {
        "id": "n9CiM1zX4aUP"
      },
      "outputs": [],
      "source": [
        "def derivada(func, a, h = 1e-7):\n",
        "    return (func(a + h) - func(a))/h"
      ]
    },
    {
      "cell_type": "markdown",
      "metadata": {
        "id": "G_RNoZjrBCTW"
      },
      "source": [
        "# Ejemplos\n",
        "\n",
        "Para cada ejemplo, se dará la función, $f$, y su derivada, $f'$, para evaluar la derivada en algún punto arbitrario en su dominio."
      ]
    },
    {
      "cell_type": "code",
      "execution_count": 22,
      "metadata": {
        "id": "V72EJi5WCj-V"
      },
      "outputs": [
        {
          "name": "stderr",
          "output_type": "stream",
          "text": [
            "/var/folders/_2/ssn9p4gn1zq96vptrk6db0940000gn/T/ipykernel_12298/1091321881.py:2: UserWarning: legacy printing option can currently only be '1.13', '1.21', or `False`\n",
            "  np.set_printoptions(legacy=125)\n"
          ]
        }
      ],
      "source": [
        "import numpy as np\n",
        "np.set_printoptions(legacy=125)"
      ]
    },
    {
      "cell_type": "markdown",
      "metadata": {
        "id": "KH9loslZBFAs"
      },
      "source": [
        "1. Sea $f(x) = x^2$, su derivada es $f'(x) = 2x$.\n",
        "\n"
      ]
    },
    {
      "cell_type": "code",
      "execution_count": 23,
      "metadata": {
        "id": "QGh53yhb86JY"
      },
      "outputs": [
        {
          "name": "stdout",
          "output_type": "stream",
          "text": [
            "Aproximación: 6.000000087880153\n",
            "Real: 6\n",
            "\n",
            "Diferencia: 8.788015293248463e-08\n"
          ]
        }
      ],
      "source": [
        "a = 3\n",
        "f = lambda x: x**2\n",
        "aprox = derivada(f, a)\n",
        "real = 2*a\n",
        "print(f'Aproximación: {aprox}')\n",
        "print(f\"Real: {real}\\n\")\n",
        "print(f'Diferencia: {np.abs(real - aprox)}')"
      ]
    },
    {
      "cell_type": "code",
      "execution_count": 24,
      "metadata": {
        "id": "kCmdFSLHCghn"
      },
      "outputs": [],
      "source": [
        "def compara_derivada(func, derivative, a):\n",
        "    aprox = derivada(func, a)\n",
        "    real = derivative(a)\n",
        "    print(f'Aproximación: {aprox}')\n",
        "    print(f\"Real: {real}\\n\")\n",
        "    print(f'Diferencia: {np.abs(real - aprox)}')"
      ]
    },
    {
      "cell_type": "markdown",
      "metadata": {
        "id": "IFfbrmNCBWUY"
      },
      "source": [
        "2. Sea $f(x) = x^3$, su derivada es $f'(x) = 3x^2$."
      ]
    },
    {
      "cell_type": "code",
      "execution_count": 25,
      "metadata": {
        "id": "96FagbV9ESCa"
      },
      "outputs": [
        {
          "name": "stdout",
          "output_type": "stream",
          "text": [
            "Aproximación: 27.000000848431682\n",
            "Real: 27\n",
            "\n",
            "Diferencia: 8.484316822432447e-07\n"
          ]
        }
      ],
      "source": [
        "compara_derivada(lambda x: x**3, lambda x: 3*x**2, 3)"
      ]
    },
    {
      "cell_type": "code",
      "execution_count": 26,
      "metadata": {},
      "outputs": [
        {
          "data": {
            "text/plain": [
              "10"
            ]
          },
          "execution_count": 26,
          "metadata": {},
          "output_type": "execute_result"
        }
      ],
      "source": [
        "# Es común hacer lo siguiente...\n",
        "f = lambda x: x+1\n",
        "\n",
        "x = 9\n",
        "f(x)"
      ]
    },
    {
      "cell_type": "markdown",
      "metadata": {
        "id": "FgoqHzIWCUmG"
      },
      "source": [
        "3. Sea $f(x) = sin(x)$, su derivada es $f'(x) = cos(x)$."
      ]
    },
    {
      "cell_type": "code",
      "execution_count": 27,
      "metadata": {
        "id": "po10m8_xCM0N"
      },
      "outputs": [
        {
          "name": "stdout",
          "output_type": "stream",
          "text": [
            "Aproximación: -0.9999999983634196\n",
            "Real: -1.0\n",
            "\n",
            "Diferencia: 1.636580426733758e-09\n"
          ]
        }
      ],
      "source": [
        "compara_derivada(lambda x: np.sin(x), lambda x: np.cos(x), np.pi)"
      ]
    },
    {
      "cell_type": "markdown",
      "metadata": {
        "id": "DDL-LPmdVg0b"
      },
      "source": [
        "# Sympy"
      ]
    },
    {
      "cell_type": "markdown",
      "metadata": {
        "id": "B9CRofk0Vi6X"
      },
      "source": [
        "Es una libreria para álgebra computacional escrita completamente en python."
      ]
    },
    {
      "cell_type": "markdown",
      "metadata": {
        "id": "9g2EI50hWnCL"
      },
      "source": [
        "Para los ejemplos que vimos en la sección pasada, podemos calcular su derivada y evaluarla en diferentes puntos porque el resultado que tendremos será una función, no un escalar."
      ]
    },
    {
      "cell_type": "code",
      "execution_count": 28,
      "metadata": {
        "id": "r4H0UsMpX4g1"
      },
      "outputs": [],
      "source": [
        "from sympy import symbols, diff, lambdify"
      ]
    },
    {
      "cell_type": "code",
      "execution_count": 29,
      "metadata": {
        "id": "Ovu0Lw2OXbSu"
      },
      "outputs": [
        {
          "name": "stdout",
          "output_type": "stream",
          "text": [
            "<class 'sympy.core.symbol.Symbol'>\n"
          ]
        },
        {
          "data": {
            "text/latex": [
              "$\\displaystyle x^{2}$"
            ],
            "text/plain": [
              "x**2"
            ]
          },
          "execution_count": 29,
          "metadata": {},
          "output_type": "execute_result"
        }
      ],
      "source": [
        "# Definimos las variables que vamos a usar\n",
        "x = symbols('x')\n",
        "print(type(x))\n",
        "f = x**2\n",
        "f"
      ]
    },
    {
      "cell_type": "code",
      "execution_count": 30,
      "metadata": {
        "id": "TSt00Pg3XusI"
      },
      "outputs": [
        {
          "data": {
            "text/latex": [
              "$\\displaystyle 2 x$"
            ],
            "text/plain": [
              "2*x"
            ]
          },
          "execution_count": 30,
          "metadata": {},
          "output_type": "execute_result"
        }
      ],
      "source": [
        "f_prima = diff(f)\n",
        "f_prima"
      ]
    },
    {
      "cell_type": "code",
      "execution_count": 31,
      "metadata": {
        "id": "drOtcP5vyodU"
      },
      "outputs": [
        {
          "ename": "TypeError",
          "evalue": "'Mul' object is not callable",
          "output_type": "error",
          "traceback": [
            "\u001b[0;31m---------------------------------------------------------------------------\u001b[0m",
            "\u001b[0;31mTypeError\u001b[0m                                 Traceback (most recent call last)",
            "Cell \u001b[0;32mIn[31], line 2\u001b[0m\n\u001b[1;32m      1\u001b[0m \u001b[38;5;66;03m# Esto no es una función normal, es un objeto de sympy\u001b[39;00m\n\u001b[0;32m----> 2\u001b[0m \u001b[43mf_prima\u001b[49m\u001b[43m(\u001b[49m\u001b[38;5;241;43m2\u001b[39;49m\u001b[43m)\u001b[49m\n",
            "\u001b[0;31mTypeError\u001b[0m: 'Mul' object is not callable"
          ]
        }
      ],
      "source": [
        "# Esto no es una función normal, es un objeto de sympy\n",
        "f_prima(2)"
      ]
    },
    {
      "cell_type": "markdown",
      "metadata": {
        "id": "eGWpEO-hYGfv"
      },
      "source": [
        "Para evaluar las funciones (expresiones) usaremos los métodos [```subs```](https://docs.sympy.org/latest/tutorial/basic_operations.html#substitution) o la función [```evalf```](https://docs.sympy.org/latest/tutorial/basic_operations.html#evalf). La segunda es para que el resultado sea un valor de punto flotante."
      ]
    },
    {
      "cell_type": "code",
      "execution_count": 32,
      "metadata": {
        "id": "nOAD3F40ZW2y"
      },
      "outputs": [
        {
          "name": "stdout",
          "output_type": "stream",
          "text": [
            "<class 'sympy.core.numbers.Float'>\n"
          ]
        },
        {
          "data": {
            "text/latex": [
              "$\\displaystyle 1.0$"
            ],
            "text/plain": [
              "1.00000000000000"
            ]
          },
          "execution_count": 32,
          "metadata": {},
          "output_type": "execute_result"
        }
      ],
      "source": [
        "res = f_prima.subs(x, 0.5)\n",
        "print(type(res))\n",
        "res"
      ]
    },
    {
      "cell_type": "code",
      "execution_count": 33,
      "metadata": {
        "id": "QCHbTle10T4w"
      },
      "outputs": [
        {
          "data": {
            "text/plain": [
              "1"
            ]
          },
          "execution_count": 33,
          "metadata": {},
          "output_type": "execute_result"
        }
      ],
      "source": [
        "int(res)"
      ]
    },
    {
      "cell_type": "code",
      "execution_count": 34,
      "metadata": {
        "id": "L7jsknwgZhUB"
      },
      "outputs": [
        {
          "name": "stdout",
          "output_type": "stream",
          "text": [
            "<class 'sympy.core.numbers.Float'>\n"
          ]
        },
        {
          "data": {
            "text/latex": [
              "$\\displaystyle 6.0$"
            ],
            "text/plain": [
              "6.00000000000000"
            ]
          },
          "execution_count": 34,
          "metadata": {},
          "output_type": "execute_result"
        }
      ],
      "source": [
        "res = f_prima.evalf(subs = {x: 3})\n",
        "print(type(res))\n",
        "res"
      ]
    },
    {
      "cell_type": "code",
      "execution_count": 35,
      "metadata": {
        "id": "h_MsQIm-0dwd"
      },
      "outputs": [
        {
          "data": {
            "text/plain": [
              "6.0"
            ]
          },
          "execution_count": 35,
          "metadata": {},
          "output_type": "execute_result"
        }
      ],
      "source": [
        "float(res)"
      ]
    },
    {
      "cell_type": "code",
      "execution_count": 36,
      "metadata": {
        "id": "xIbRHJpSaD8p"
      },
      "outputs": [
        {
          "data": {
            "text/plain": [
              "1.0"
            ]
          },
          "execution_count": 36,
          "metadata": {},
          "output_type": "execute_result"
        }
      ],
      "source": [
        "f = lambdify(x, f_prima, \"math\")\n",
        "\n",
        "f(0.5)"
      ]
    },
    {
      "cell_type": "code",
      "execution_count": 37,
      "metadata": {
        "id": "Qee3lCpgH4uF"
      },
      "outputs": [
        {
          "data": {
            "text/plain": [
              "10.46"
            ]
          },
          "execution_count": 37,
          "metadata": {},
          "output_type": "execute_result"
        }
      ],
      "source": [
        "f(5.23)"
      ]
    },
    {
      "cell_type": "markdown",
      "metadata": {
        "id": "ts-FJQmFfkzY"
      },
      "source": [
        "# Gradiente\n"
      ]
    },
    {
      "cell_type": "markdown",
      "metadata": {
        "id": "MPcvVVjPfn_d"
      },
      "source": [
        "Para $f : \\mathbb{R}^n \\to \\mathbb{R}$, su **gradiente**, $\\nabla f: \\mathbb{R}^n \\to \\mathbb{R}^n$, está definido en el punto $p = (x_1, \\dots, x_n)$ como el vector (columna):\n",
        "\n",
        "\\begin{align}\n",
        "\\nabla f(p) = \\left[\n",
        "    \\begin{matrix}\n",
        "    \\frac{\\partial f}{\\partial x_1}(p) \\\\\n",
        "    \\vdots \\\\\n",
        "    \\frac{\\partial f}{\\partial x_n}(p)\n",
        "    \\end{matrix}\n",
        "    \\right]\n",
        "\\end{align}"
      ]
    },
    {
      "cell_type": "markdown",
      "metadata": {
        "id": "-42x-6_PjhID"
      },
      "source": [
        "**Sea** $f(x, y) = \\frac{x}{y}$. Su gradiente es\n",
        "\n",
        "\\begin{align}\n",
        "    \\nabla f = \\left[\n",
        "        \\begin{matrix}\n",
        "        \\frac{\\partial g}{\\partial x} \\\\\n",
        "        \\frac{\\partial g}{\\partial y}\n",
        "        \\end{matrix}\n",
        "        \\right] = \\left[\n",
        "        \\begin{matrix}\n",
        "        \\frac{1}{y} \\\\\n",
        "        -\\frac{x}{y^2}\n",
        "        \\end{matrix}\n",
        "        \\right]\n",
        "\\end{align}"
      ]
    },
    {
      "cell_type": "code",
      "execution_count": 38,
      "metadata": {
        "id": "PNj03dcqfqYd"
      },
      "outputs": [],
      "source": [
        "f = lambda x, y: x/y"
      ]
    },
    {
      "cell_type": "markdown",
      "metadata": {
        "id": "uSU9TpAIm80h"
      },
      "source": [
        "Evaluaremos el gradiente en el punto $(1, 2)$."
      ]
    },
    {
      "cell_type": "code",
      "execution_count": 39,
      "metadata": {
        "id": "tXild1m4l8v4"
      },
      "outputs": [],
      "source": [
        "a = 1\n",
        "b = 2\n",
        "\n",
        "fx = lambda x: x/b\n",
        "fy = lambda y: a/y\n",
        "\n",
        "grad = np.zeros((2, 1))"
      ]
    },
    {
      "cell_type": "code",
      "execution_count": 40,
      "metadata": {
        "id": "BSS-6RN9nfgK"
      },
      "outputs": [
        {
          "data": {
            "text/plain": [
              "array([[ 0.5       ],\n",
              "       [-0.24999999]])"
            ]
          },
          "execution_count": 40,
          "metadata": {},
          "output_type": "execute_result"
        }
      ],
      "source": [
        "grad[0] = derivada(fx, a)\n",
        "grad[1] = derivada(fy, b)\n",
        "grad"
      ]
    },
    {
      "cell_type": "markdown",
      "metadata": {
        "id": "Pw3OlJOvoxSx"
      },
      "source": [
        "Ahora, lo haremos con ```sympy```"
      ]
    },
    {
      "cell_type": "code",
      "execution_count": 41,
      "metadata": {
        "id": "qs3EBppNozYI"
      },
      "outputs": [
        {
          "data": {
            "text/latex": [
              "$\\displaystyle \\frac{x}{y}$"
            ],
            "text/plain": [
              "x/y"
            ]
          },
          "execution_count": 41,
          "metadata": {},
          "output_type": "execute_result"
        }
      ],
      "source": [
        "from sympy import symbols\n",
        "x, y = symbols('x y')\n",
        "f = x/y\n",
        "f"
      ]
    },
    {
      "cell_type": "code",
      "execution_count": 42,
      "metadata": {
        "id": "Zo36hSN2o7Dm"
      },
      "outputs": [
        {
          "data": {
            "text/latex": [
              "$\\displaystyle \\left[\\begin{matrix}\\frac{1}{y}\\\\- \\frac{x}{y^{2}}\\end{matrix}\\right]$"
            ],
            "text/plain": [
              "Matrix([\n",
              "[    1/y],\n",
              "[-x/y**2]])"
            ]
          },
          "execution_count": 42,
          "metadata": {},
          "output_type": "execute_result"
        }
      ],
      "source": [
        "from sympy import Matrix\n",
        "grad = Matrix([f.diff(x), f.diff(y)])\n",
        "grad"
      ]
    },
    {
      "cell_type": "code",
      "execution_count": 45,
      "metadata": {
        "id": "PMj2zqmzpd3-"
      },
      "outputs": [
        {
          "data": {
            "text/latex": [
              "$\\displaystyle \\left[\\begin{matrix}\\frac{1}{2}\\\\- \\frac{1}{4}\\end{matrix}\\right]$"
            ],
            "text/plain": [
              "Matrix([\n",
              "[ 1/2],\n",
              "[-1/4]])"
            ]
          },
          "execution_count": 45,
          "metadata": {},
          "output_type": "execute_result"
        }
      ],
      "source": [
        "grad.subs([(x, a), \n",
        "           (y, b)])"
      ]
    },
    {
      "cell_type": "code",
      "execution_count": 46,
      "metadata": {
        "id": "U1hcyG-mpv_T"
      },
      "outputs": [
        {
          "data": {
            "text/latex": [
              "$\\displaystyle \\left[\\begin{matrix}0.5\\\\-0.25\\end{matrix}\\right]$"
            ],
            "text/plain": [
              "Matrix([\n",
              "[  0.5],\n",
              "[-0.25]])"
            ]
          },
          "execution_count": 46,
          "metadata": {},
          "output_type": "execute_result"
        }
      ],
      "source": [
        "grad.evalf(subs = {x: a, y: b})"
      ]
    },
    {
      "cell_type": "code",
      "execution_count": 47,
      "metadata": {
        "id": "ZbcgKt_6wy_U"
      },
      "outputs": [
        {
          "data": {
            "text/latex": [
              "$\\displaystyle \\left[\\begin{matrix}\\frac{1}{y}\\\\- \\frac{x}{y^{2}}\\end{matrix}\\right]$"
            ],
            "text/plain": [
              "Matrix([\n",
              "[    1/y],\n",
              "[-x/y**2]])"
            ]
          },
          "execution_count": 47,
          "metadata": {},
          "output_type": "execute_result"
        }
      ],
      "source": [
        "X = [x, y]\n",
        "Matrix([f.diff(var) for var in X])"
      ]
    },
    {
      "cell_type": "markdown",
      "metadata": {
        "id": "l9IRuNxZEKRS"
      },
      "source": [
        "# Matriz Jacobiana"
      ]
    },
    {
      "cell_type": "markdown",
      "metadata": {
        "id": "G1GgPXguEPTO"
      },
      "source": [
        "Suponga que $\\mathbf {F} :\\mathbb {R} ^{n}\\to \\mathbb {R} ^{m}$ es una función tal que sus derivadas parciales de primer orden existen en $\\mathbb {R} ^{n}$. La **matriz Jacobiana** de $\\mathbf {F} $, denotada por $\\mathbf {J}\n",
        "$, está definida como una matriz de tamaño $m\\times n$ cuya $(i,j)$-ésima entrada es $J_{i,j} = \\frac{\\partial f_i}{ \\partial x_j}$. O en su forma explícita,\n",
        "\n",
        "\\begin{align}\n",
        "J = \\left[ \\frac{\\partial \\mathbf{F}}{\\partial x_1} \\dots \\frac{\\partial \\mathbf{F}}{\\partial x_n} \\right] = \\left[\n",
        "    \\begin{matrix}\n",
        "    \\nabla^T f_1 \\\\\n",
        "    \\vdots \\\\\n",
        "    \\nabla^T f_m\n",
        "    \\end{matrix}\n",
        "    \\right] =\n",
        "    \\left[\n",
        "        \\begin{matrix}\n",
        "        \\frac{\\partial f_1}{\\partial x_1}& \\dots& \\frac{\\partial f_1}{\\partial x_n} \\\\\n",
        "        \\vdots& \\ddots&\\vdots\\\\\n",
        "        \\frac{\\partial f_m}{\\partial x_1} &\\dots& \\frac{\\partial f_m}{\\partial x_n} \\\\\n",
        "        \\end{matrix}\n",
        "    \\right]\n",
        "\\end{align}"
      ]
    },
    {
      "cell_type": "markdown",
      "metadata": {
        "id": "qiZt_JcPq_IY"
      },
      "source": [
        "Obtendremos la matriz Jacobiana de la función $h(x, y, z) = (x^2z, \\frac{x}{y}, 2x + 3y + 2z)$"
      ]
    },
    {
      "cell_type": "code",
      "execution_count": 49,
      "metadata": {
        "id": "b-4osx70rQiI"
      },
      "outputs": [
        {
          "data": {
            "text/latex": [
              "$\\displaystyle \\left[\\begin{matrix}2 x z & 0 & x^{2}\\\\\\frac{1}{y} & - \\frac{x}{y^{2}} & 0\\\\2 & 3 & 2\\end{matrix}\\right]$"
            ],
            "text/plain": [
              "Matrix([\n",
              "[2*x*z,       0, x**2],\n",
              "[  1/y, -x/y**2,    0],\n",
              "[    2,       3,    2]])"
            ]
          },
          "execution_count": 49,
          "metadata": {},
          "output_type": "execute_result"
        }
      ],
      "source": [
        "x, y, z = symbols('x y z') # Aunque yaa no es necesario definirlos, pues están definidos arriba\n",
        "A = Matrix([\n",
        "            z*x**2,\n",
        "            x/y,\n",
        "            2*x + 3*y + 2*z\n",
        "            ])\n",
        "jac = A.jacobian([x, y, z])\n",
        "jac"
      ]
    },
    {
      "cell_type": "code",
      "execution_count": 50,
      "metadata": {
        "id": "z5BMk8S_8hXx"
      },
      "outputs": [
        {
          "data": {
            "text/latex": [
              "$\\displaystyle \\left[\\begin{matrix}8 & 0 & 1\\\\\\frac{1}{2} & - \\frac{1}{4} & 0\\\\2 & 3 & 2\\end{matrix}\\right]$"
            ],
            "text/plain": [
              "Matrix([\n",
              "[  8,    0, 1],\n",
              "[1/2, -1/4, 0],\n",
              "[  2,    3, 2]])"
            ]
          },
          "execution_count": 50,
          "metadata": {},
          "output_type": "execute_result"
        }
      ],
      "source": [
        "jac.subs([(x,1), (y,2), (z,4)])"
      ]
    },
    {
      "cell_type": "markdown",
      "metadata": {
        "id": "bF5YGpefyDhL"
      },
      "source": [
        "# Matriz Hessiana"
      ]
    },
    {
      "cell_type": "markdown",
      "metadata": {
        "id": "inBKsKgpyNAn"
      },
      "source": [
        "La matriz Hessiana es una matriz cuadrada con las derivadas parciales de segundo orden de una función.\n",
        "\n",
        "Sea $f : \\mathbb{R}^n \\to \\mathbb{R}$. Si todas las derivadas parciales de segundo orden existen y son continuas en el dominio de la función, entonces la matriz **Hessiana** de $f$ es una matriz cuadrada de $n\\times n$, de la siguiente manera:\n",
        "\n",
        "\\begin{align}\n",
        "H_f = \\left[\n",
        "    \\begin{matrix}\n",
        "    \\frac{\\partial^2 f}{\\partial x_1^2} & \\frac{\\partial^2 f}{\\partial x_1 \\partial x_2} & \\dots & \\frac{\\partial^2 f}{\\partial x_1 \\partial x_n} \\\\\n",
        "    \\frac{\\partial^2 f}{\\partial x_2 \\partial x_1} & \\frac{\\partial^2 f}{\\partial x_2^2} & \\dots & \\frac{\\partial^2 f}{\\partial x_2 \\partial x_n} \\\\\n",
        "    \\vdots & \\vdots & \\ddots & \\vdots \\\\\n",
        "    \\frac{\\partial^2 f}{\\partial x_n \\partial x_1} & \\frac{\\partial^2 f}{\\partial x_n \\partial x_2} & \\dots & \\frac{\\partial^2 f}{\\partial x_n^2} \\\\\n",
        "    \\end{matrix}\n",
        "    \\right]\n",
        "\\end{align}"
      ]
    },
    {
      "cell_type": "markdown",
      "metadata": {
        "id": "VeYC9kBwyGAs"
      },
      "source": [
        "Obtendremos la matriz hessiana de $f(x, y, z) = x^6y^4 + z^3$."
      ]
    },
    {
      "cell_type": "code",
      "execution_count": 51,
      "metadata": {
        "id": "GRsIk32u1RXT"
      },
      "outputs": [
        {
          "data": {
            "text/latex": [
              "$\\displaystyle x^{6} y^{4} + z^{3}$"
            ],
            "text/plain": [
              "x**6*y**4 + z**3"
            ]
          },
          "execution_count": 51,
          "metadata": {},
          "output_type": "execute_result"
        }
      ],
      "source": [
        "from sympy import hessian\n",
        "x, y, z = symbols(\"x y z\")\n",
        "f = x**6 * y**4 + z**3\n",
        "f"
      ]
    },
    {
      "cell_type": "code",
      "execution_count": 52,
      "metadata": {
        "id": "RiZRAL8t1VT2"
      },
      "outputs": [
        {
          "data": {
            "text/latex": [
              "$\\displaystyle \\left[\\begin{matrix}30 x^{4} y^{4} & 24 x^{5} y^{3} & 0\\\\24 x^{5} y^{3} & 12 x^{6} y^{2} & 0\\\\0 & 0 & 6 z\\end{matrix}\\right]$"
            ],
            "text/plain": [
              "Matrix([\n",
              "[30*x**4*y**4, 24*x**5*y**3,   0],\n",
              "[24*x**5*y**3, 12*x**6*y**2,   0],\n",
              "[           0,            0, 6*z]])"
            ]
          },
          "execution_count": 52,
          "metadata": {},
          "output_type": "execute_result"
        }
      ],
      "source": [
        "h = hessian(f, (x, y, z))\n",
        "h"
      ]
    },
    {
      "cell_type": "code",
      "execution_count": 53,
      "metadata": {
        "id": "KgwbOotc8cr9"
      },
      "outputs": [
        {
          "data": {
            "text/latex": [
              "$\\displaystyle \\left[\\begin{matrix}480 & 192 & 0\\\\192 & 48 & 0\\\\0 & 0 & 18\\end{matrix}\\right]$"
            ],
            "text/plain": [
              "Matrix([\n",
              "[480, 192,  0],\n",
              "[192,  48,  0],\n",
              "[  0,   0, 18]])"
            ]
          },
          "execution_count": 53,
          "metadata": {},
          "output_type": "execute_result"
        }
      ],
      "source": [
        "h.subs([(x,1), (y,2), (z,3)])"
      ]
    },
    {
      "cell_type": "markdown",
      "metadata": {
        "id": "LSCROFgL1SIM"
      },
      "source": [
        "# Ecuaciones en derivadas parciales"
      ]
    },
    {
      "cell_type": "code",
      "execution_count": 54,
      "metadata": {
        "id": "AFmmJmM4_Hyz"
      },
      "outputs": [],
      "source": [
        "from sympy import Function, Eq, pdsolve\n",
        "x, y, u, z = symbols('x y u z')\n",
        "f = Function('f')"
      ]
    },
    {
      "cell_type": "code",
      "execution_count": 55,
      "metadata": {
        "id": "UAp6Se-y_cHl"
      },
      "outputs": [
        {
          "data": {
            "text/latex": [
              "$\\displaystyle 4 \\frac{\\partial}{\\partial x} f{\\left(x,y \\right)} - 3 \\frac{\\partial}{\\partial y} f{\\left(x,y \\right)} = 0$"
            ],
            "text/plain": [
              "Eq(4*Derivative(f(x, y), x) - 3*Derivative(f(x, y), y), 0)"
            ]
          },
          "execution_count": 55,
          "metadata": {},
          "output_type": "execute_result"
        }
      ],
      "source": [
        "u = f(x, y)\n",
        "u_x = u.diff(x)\n",
        "u_y = u.diff(y)\n",
        "eq = Eq(4*u_x - 3*u_y, 0)\n",
        "eq"
      ]
    },
    {
      "cell_type": "code",
      "execution_count": 56,
      "metadata": {
        "id": "_-ki38B8_t4i"
      },
      "outputs": [
        {
          "data": {
            "text/latex": [
              "$\\displaystyle f{\\left(x,y \\right)} = F{\\left(- 3 x - 4 y \\right)}$"
            ],
            "text/plain": [
              "Eq(f(x, y), F(-3*x - 4*y))"
            ]
          },
          "execution_count": 56,
          "metadata": {},
          "output_type": "execute_result"
        }
      ],
      "source": [
        "pdsolve(eq)"
      ]
    },
    {
      "cell_type": "markdown",
      "metadata": {
        "id": "eN4NZzn4ADhD"
      },
      "source": [
        "Otro ejemplo"
      ]
    },
    {
      "cell_type": "code",
      "execution_count": 57,
      "metadata": {
        "id": "c3nYTNkFAGOA"
      },
      "outputs": [
        {
          "data": {
            "text/latex": [
              "$\\displaystyle y \\frac{\\partial}{\\partial y} f{\\left(x,y \\right)} + \\frac{\\partial}{\\partial x} f{\\left(x,y \\right)} = 0$"
            ],
            "text/plain": [
              "Eq(y*Derivative(f(x, y), y) + Derivative(f(x, y), x), 0)"
            ]
          },
          "execution_count": 57,
          "metadata": {},
          "output_type": "execute_result"
        }
      ],
      "source": [
        "u = f(x, y)\n",
        "u_x = u.diff(x)\n",
        "u_y = u.diff(y)\n",
        "eq2 = Eq(u_x + y*u_y, 0)\n",
        "eq2"
      ]
    },
    {
      "cell_type": "code",
      "execution_count": 58,
      "metadata": {
        "id": "mzenjSKTARYz"
      },
      "outputs": [
        {
          "data": {
            "text/latex": [
              "$\\displaystyle f{\\left(x,y \\right)} = F{\\left(y e^{- x} \\right)}$"
            ],
            "text/plain": [
              "Eq(f(x, y), F(y*exp(-x)))"
            ]
          },
          "execution_count": 58,
          "metadata": {},
          "output_type": "execute_result"
        }
      ],
      "source": [
        "res = pdsolve(eq2)\n",
        "res"
      ]
    },
    {
      "cell_type": "code",
      "execution_count": 59,
      "metadata": {
        "id": "Uc7XDyWgAcJt"
      },
      "outputs": [
        {
          "data": {
            "text/latex": [
              "$\\displaystyle f{\\left(1,2 \\right)} = F{\\left(\\frac{2}{e} \\right)}$"
            ],
            "text/plain": [
              "Eq(f(1, 2), F(2*exp(-1)))"
            ]
          },
          "execution_count": 59,
          "metadata": {},
          "output_type": "execute_result"
        }
      ],
      "source": [
        "res.subs([(x,1), (y,2)])"
      ]
    }
  ],
  "metadata": {
    "colab": {
      "include_colab_link": true,
      "provenance": []
    },
    "kernelspec": {
      "display_name": "Python 3",
      "name": "python3"
    },
    "language_info": {
      "codemirror_mode": {
        "name": "ipython",
        "version": 3
      },
      "file_extension": ".py",
      "mimetype": "text/x-python",
      "name": "python",
      "nbconvert_exporter": "python",
      "pygments_lexer": "ipython3",
      "version": "3.9.6"
    }
  },
  "nbformat": 4,
  "nbformat_minor": 0
}
