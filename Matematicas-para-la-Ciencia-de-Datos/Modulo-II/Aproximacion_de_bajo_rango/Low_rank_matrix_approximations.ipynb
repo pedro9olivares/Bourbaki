{
  "cells": [
    {
      "cell_type": "markdown",
      "metadata": {
        "colab_type": "text",
        "id": "view-in-github"
      },
      "source": [
        "<a href=\"https://colab.research.google.com/github/anelglvz/Matematicas_Ciencia_Datos/blob/main/%C3%81lgebra/Low_rank_Matrix_Approximations.ipynb\" target=\"_parent\"><img src=\"https://colab.research.google.com/assets/colab-badge.svg\" alt=\"Open In Colab\"/></a>"
      ]
    },
    {
      "cell_type": "markdown",
      "metadata": {
        "id": "Q-rCZpLZoE8c"
      },
      "source": [
        "# Título: RSVD (Randomized Singular Value Decomposition)"
      ]
    },
    {
      "cell_type": "markdown",
      "metadata": {
        "id": "mtYtl8kxxD3O"
      },
      "source": [
        "# Carga de datos y Limpieza"
      ]
    },
    {
      "cell_type": "markdown",
      "metadata": {
        "id": "rzwKE50VnhWD"
      },
      "source": [
        "### Introducción"
      ]
    },
    {
      "cell_type": "markdown",
      "metadata": {
        "id": "wiK6D6Yqnksc"
      },
      "source": [
        "En este ejemplo utilizaremos los datos de la [competencia de Netflix](https://www.kaggle.com/datasets/netflix-inc/netflix-prize-data?select=combined_data_1.txt) en Kaggle. El objetivo de esta competencia era mejorar el algoritmo de recomendación 10%. Nosotros no seremos tan avariciosos. Por lo que los objetivos de esta clase son:\n",
        "\n",
        "\n",
        "\n",
        "*   Análisis exploratorio de matriz y por qué es dispersa.\n",
        "*   Implementación de Singular Value Decomposition.\n",
        "\n",
        "Después, podríamos: \n",
        "*   Implementar de un modelo de sistema de recomendación de filtro colaborativo.\n",
        "*   Generar la predicción de recomendaciones con buen resultado."
      ]
    },
    {
      "cell_type": "code",
      "execution_count": 1,
      "metadata": {
        "id": "ZKG5oiH9uVqD"
      },
      "outputs": [],
      "source": [
        "import math\n",
        "import re\n",
        "\n",
        "import numpy as np\n",
        "import pandas as pd\n",
        "import scipy.stats as ss\n",
        "\n",
        "import matplotlib.pyplot as plt\n",
        "import seaborn as sns\n",
        "\n",
        "#from scipy.sparse import csr_matrix\n",
        "#from surprise import Reader, Dataset, SVD   # Simple Python RecommendatIon System Engine\n",
        "#from surprise.model_selection import cross_validate"
      ]
    },
    {
      "cell_type": "markdown",
      "metadata": {
        "id": "7TYrz9I3o-yu"
      },
      "source": [
        "En este caso cargar los datos nos llevará un rato por la gran cantidad de registros que tenemos. Sólo cargaremos un archivo, pero la competencia tiene un total de 3 archivos."
      ]
    },
    {
      "cell_type": "code",
      "execution_count": 2,
      "metadata": {
        "id": "CVU93kE7sIHJ"
      },
      "outputs": [],
      "source": [
        "# Recuerde, pueden conseguir la dirección del archivo en su Drive y copiarla en la dirección\n",
        "df = pd.read_csv('combined_data_1.txt',\n",
        "                 names=['Client_Id', 'Rating', 'Date'], low_memory=True, nrows=12*(10**6))"
      ]
    },
    {
      "cell_type": "markdown",
      "metadata": {
        "id": "9Nbk2HaZpH9C"
      },
      "source": [
        "En este dataset tenemos sólo tres columnas"
      ]
    },
    {
      "cell_type": "code",
      "execution_count": 3,
      "metadata": {
        "colab": {
          "base_uri": "https://localhost:8080/",
          "height": 423
        },
        "id": "di99RloCwVxM",
        "outputId": "65056252-06b9-40e2-ec09-73de3a4cdea1"
      },
      "outputs": [
        {
          "data": {
            "text/html": [
              "<div>\n",
              "<style scoped>\n",
              "    .dataframe tbody tr th:only-of-type {\n",
              "        vertical-align: middle;\n",
              "    }\n",
              "\n",
              "    .dataframe tbody tr th {\n",
              "        vertical-align: top;\n",
              "    }\n",
              "\n",
              "    .dataframe thead th {\n",
              "        text-align: right;\n",
              "    }\n",
              "</style>\n",
              "<table border=\"1\" class=\"dataframe\">\n",
              "  <thead>\n",
              "    <tr style=\"text-align: right;\">\n",
              "      <th></th>\n",
              "      <th>Client_Id</th>\n",
              "      <th>Rating</th>\n",
              "      <th>Date</th>\n",
              "    </tr>\n",
              "  </thead>\n",
              "  <tbody>\n",
              "    <tr>\n",
              "      <th>0</th>\n",
              "      <td>1:</td>\n",
              "      <td>NaN</td>\n",
              "      <td>NaN</td>\n",
              "    </tr>\n",
              "    <tr>\n",
              "      <th>1</th>\n",
              "      <td>1488844</td>\n",
              "      <td>3.0</td>\n",
              "      <td>2005-09-06</td>\n",
              "    </tr>\n",
              "    <tr>\n",
              "      <th>2</th>\n",
              "      <td>822109</td>\n",
              "      <td>5.0</td>\n",
              "      <td>2005-05-13</td>\n",
              "    </tr>\n",
              "    <tr>\n",
              "      <th>3</th>\n",
              "      <td>885013</td>\n",
              "      <td>4.0</td>\n",
              "      <td>2005-10-19</td>\n",
              "    </tr>\n",
              "    <tr>\n",
              "      <th>4</th>\n",
              "      <td>30878</td>\n",
              "      <td>4.0</td>\n",
              "      <td>2005-12-26</td>\n",
              "    </tr>\n",
              "    <tr>\n",
              "      <th>...</th>\n",
              "      <td>...</td>\n",
              "      <td>...</td>\n",
              "      <td>...</td>\n",
              "    </tr>\n",
              "    <tr>\n",
              "      <th>11999995</th>\n",
              "      <td>2000580</td>\n",
              "      <td>2.0</td>\n",
              "      <td>2002-10-13</td>\n",
              "    </tr>\n",
              "    <tr>\n",
              "      <th>11999996</th>\n",
              "      <td>1809161</td>\n",
              "      <td>4.0</td>\n",
              "      <td>2003-06-19</td>\n",
              "    </tr>\n",
              "    <tr>\n",
              "      <th>11999997</th>\n",
              "      <td>1547886</td>\n",
              "      <td>2.0</td>\n",
              "      <td>2002-10-27</td>\n",
              "    </tr>\n",
              "    <tr>\n",
              "      <th>11999998</th>\n",
              "      <td>2905</td>\n",
              "      <td>2.0</td>\n",
              "      <td>2002-05-18</td>\n",
              "    </tr>\n",
              "    <tr>\n",
              "      <th>11999999</th>\n",
              "      <td>1876520</td>\n",
              "      <td>1.0</td>\n",
              "      <td>2002-05-03</td>\n",
              "    </tr>\n",
              "  </tbody>\n",
              "</table>\n",
              "<p>12000000 rows × 3 columns</p>\n",
              "</div>"
            ],
            "text/plain": [
              "         Client_Id  Rating        Date\n",
              "0               1:     NaN         NaN\n",
              "1          1488844     3.0  2005-09-06\n",
              "2           822109     5.0  2005-05-13\n",
              "3           885013     4.0  2005-10-19\n",
              "4            30878     4.0  2005-12-26\n",
              "...            ...     ...         ...\n",
              "11999995   2000580     2.0  2002-10-13\n",
              "11999996   1809161     4.0  2003-06-19\n",
              "11999997   1547886     2.0  2002-10-27\n",
              "11999998      2905     2.0  2002-05-18\n",
              "11999999   1876520     1.0  2002-05-03\n",
              "\n",
              "[12000000 rows x 3 columns]"
            ]
          },
          "execution_count": 3,
          "metadata": {},
          "output_type": "execute_result"
        }
      ],
      "source": [
        "df"
      ]
    },
    {
      "cell_type": "code",
      "execution_count": 4,
      "metadata": {
        "colab": {
          "base_uri": "https://localhost:8080/"
        },
        "id": "vVR_TP-mxvRy",
        "outputId": "e62e1ce4-35a3-44cf-8189-7e3a6b58727a"
      },
      "outputs": [
        {
          "name": "stdout",
          "output_type": "stream",
          "text": [
            "<class 'pandas.core.frame.DataFrame'>\n",
            "RangeIndex: 12000000 entries, 0 to 11999999\n",
            "Data columns (total 3 columns):\n",
            " #   Column     Dtype  \n",
            "---  ------     -----  \n",
            " 0   Client_Id  object \n",
            " 1   Rating     float64\n",
            " 2   Date       object \n",
            "dtypes: float64(1), object(2)\n",
            "memory usage: 274.7+ MB\n"
          ]
        }
      ],
      "source": [
        "df.info()"
      ]
    },
    {
      "cell_type": "code",
      "execution_count": 5,
      "metadata": {
        "colab": {
          "base_uri": "https://localhost:8080/"
        },
        "id": "U9AqZk4Ux6dI",
        "outputId": "84e832ac-a483-4bdd-87ca-4b158366a895"
      },
      "outputs": [
        {
          "data": {
            "text/plain": [
              "Client_Id       0\n",
              "Rating       2340\n",
              "Date         2340\n",
              "dtype: int64"
            ]
          },
          "execution_count": 5,
          "metadata": {},
          "output_type": "execute_result"
        }
      ],
      "source": [
        "# Revisamos los nulos\n",
        "df.isnull().sum()"
      ]
    },
    {
      "cell_type": "markdown",
      "metadata": {
        "id": "WitjZlKzpwTB"
      },
      "source": [
        "En este caso los registros que tenemos con valores nulos corresponden al Id de las películas. Si observamos los registros nulos están ordenados del 1 al 2,340."
      ]
    },
    {
      "cell_type": "code",
      "execution_count": 6,
      "metadata": {
        "colab": {
          "base_uri": "https://localhost:8080/"
        },
        "id": "NsUbxRh-2zWb",
        "outputId": "477f80f6-a5fb-4f0d-8633-a590432291d1"
      },
      "outputs": [
        {
          "data": {
            "text/plain": [
              "(2340, 3)"
            ]
          },
          "execution_count": 6,
          "metadata": {},
          "output_type": "execute_result"
        }
      ],
      "source": [
        "df[df['Rating'].isnull()].shape"
      ]
    },
    {
      "cell_type": "code",
      "execution_count": 7,
      "metadata": {
        "colab": {
          "base_uri": "https://localhost:8080/",
          "height": 423
        },
        "id": "8HXymoc-2n6I",
        "outputId": "45d3c647-8e75-4568-97ec-f7e604b6a5a8"
      },
      "outputs": [
        {
          "data": {
            "text/html": [
              "<div>\n",
              "<style scoped>\n",
              "    .dataframe tbody tr th:only-of-type {\n",
              "        vertical-align: middle;\n",
              "    }\n",
              "\n",
              "    .dataframe tbody tr th {\n",
              "        vertical-align: top;\n",
              "    }\n",
              "\n",
              "    .dataframe thead th {\n",
              "        text-align: right;\n",
              "    }\n",
              "</style>\n",
              "<table border=\"1\" class=\"dataframe\">\n",
              "  <thead>\n",
              "    <tr style=\"text-align: right;\">\n",
              "      <th></th>\n",
              "      <th>Client_Id</th>\n",
              "      <th>Rating</th>\n",
              "      <th>Date</th>\n",
              "    </tr>\n",
              "  </thead>\n",
              "  <tbody>\n",
              "    <tr>\n",
              "      <th>0</th>\n",
              "      <td>1:</td>\n",
              "      <td>NaN</td>\n",
              "      <td>NaN</td>\n",
              "    </tr>\n",
              "    <tr>\n",
              "      <th>548</th>\n",
              "      <td>2:</td>\n",
              "      <td>NaN</td>\n",
              "      <td>NaN</td>\n",
              "    </tr>\n",
              "    <tr>\n",
              "      <th>694</th>\n",
              "      <td>3:</td>\n",
              "      <td>NaN</td>\n",
              "      <td>NaN</td>\n",
              "    </tr>\n",
              "    <tr>\n",
              "      <th>2707</th>\n",
              "      <td>4:</td>\n",
              "      <td>NaN</td>\n",
              "      <td>NaN</td>\n",
              "    </tr>\n",
              "    <tr>\n",
              "      <th>2850</th>\n",
              "      <td>5:</td>\n",
              "      <td>NaN</td>\n",
              "      <td>NaN</td>\n",
              "    </tr>\n",
              "    <tr>\n",
              "      <th>...</th>\n",
              "      <td>...</td>\n",
              "      <td>...</td>\n",
              "      <td>...</td>\n",
              "    </tr>\n",
              "    <tr>\n",
              "      <th>11987100</th>\n",
              "      <td>2336:</td>\n",
              "      <td>NaN</td>\n",
              "      <td>NaN</td>\n",
              "    </tr>\n",
              "    <tr>\n",
              "      <th>11987192</th>\n",
              "      <td>2337:</td>\n",
              "      <td>NaN</td>\n",
              "      <td>NaN</td>\n",
              "    </tr>\n",
              "    <tr>\n",
              "      <th>11989727</th>\n",
              "      <td>2338:</td>\n",
              "      <td>NaN</td>\n",
              "      <td>NaN</td>\n",
              "    </tr>\n",
              "    <tr>\n",
              "      <th>11993647</th>\n",
              "      <td>2339:</td>\n",
              "      <td>NaN</td>\n",
              "      <td>NaN</td>\n",
              "    </tr>\n",
              "    <tr>\n",
              "      <th>11996066</th>\n",
              "      <td>2340:</td>\n",
              "      <td>NaN</td>\n",
              "      <td>NaN</td>\n",
              "    </tr>\n",
              "  </tbody>\n",
              "</table>\n",
              "<p>2340 rows × 3 columns</p>\n",
              "</div>"
            ],
            "text/plain": [
              "         Client_Id  Rating Date\n",
              "0               1:     NaN  NaN\n",
              "548             2:     NaN  NaN\n",
              "694             3:     NaN  NaN\n",
              "2707            4:     NaN  NaN\n",
              "2850            5:     NaN  NaN\n",
              "...            ...     ...  ...\n",
              "11987100     2336:     NaN  NaN\n",
              "11987192     2337:     NaN  NaN\n",
              "11989727     2338:     NaN  NaN\n",
              "11993647     2339:     NaN  NaN\n",
              "11996066     2340:     NaN  NaN\n",
              "\n",
              "[2340 rows x 3 columns]"
            ]
          },
          "execution_count": 7,
          "metadata": {},
          "output_type": "execute_result"
        }
      ],
      "source": [
        "df[df['Rating'].isnull()]"
      ]
    },
    {
      "cell_type": "code",
      "execution_count": 8,
      "metadata": {
        "colab": {
          "base_uri": "https://localhost:8080/"
        },
        "id": "2lfgyTUltlM4",
        "outputId": "c81ddb31-8daa-41ad-ff0b-5d1febf14583"
      },
      "outputs": [
        {
          "name": "stdout",
          "output_type": "stream",
          "text": [
            "Este es el número de películas que tenemos en este archivo: 2340\n"
          ]
        }
      ],
      "source": [
        "movies = df['Rating'].isnull().sum()\n",
        "print(f'Este es el número de películas que tenemos en este archivo: {movies}')"
      ]
    },
    {
      "cell_type": "code",
      "execution_count": 9,
      "metadata": {
        "colab": {
          "base_uri": "https://localhost:8080/"
        },
        "id": "uMdjYPTGsk1h",
        "outputId": "e9889cfe-3128-4585-8539-73247c5b9383"
      },
      "outputs": [
        {
          "name": "stdout",
          "output_type": "stream",
          "text": [
            "Este es el número de calificaciones: 11997660\n"
          ]
        }
      ],
      "source": [
        "reviews = df[df['Rating'].isnull()==False]['Client_Id'].count()\n",
        "print(f'Este es el número de calificaciones: {reviews}')"
      ]
    },
    {
      "cell_type": "code",
      "execution_count": 10,
      "metadata": {
        "colab": {
          "base_uri": "https://localhost:8080/"
        },
        "id": "OCDMu35Js1xh",
        "outputId": "c50a86b7-6dbd-42fe-9ac2-f4bf4b4c9817"
      },
      "outputs": [
        {
          "name": "stdout",
          "output_type": "stream",
          "text": [
            "Esta es la cantidad de usuarios que tenemos: 455716\n"
          ]
        }
      ],
      "source": [
        "users = df['Client_Id'].nunique() - movies\n",
        "print(f'Esta es la cantidad de usuarios que tenemos: {users}')"
      ]
    },
    {
      "cell_type": "markdown",
      "metadata": {
        "id": "EQ-zljpEvE56"
      },
      "source": [
        "En este caso no estaremos trabajando con las fechas. Por lo tanto haremos un subconjunto de nuestro DF original."
      ]
    },
    {
      "cell_type": "code",
      "execution_count": 11,
      "metadata": {
        "id": "YGk9bj0PuzvR"
      },
      "outputs": [],
      "source": [
        "df_sub = df[['Client_Id', 'Rating']]"
      ]
    },
    {
      "cell_type": "markdown",
      "metadata": {
        "id": "_EO4wSbpvbJ_"
      },
      "source": [
        "Ahora observemos como se distribuye la frecuencia para la columna de rating."
      ]
    },
    {
      "cell_type": "code",
      "execution_count": 12,
      "metadata": {
        "colab": {
          "base_uri": "https://localhost:8080/",
          "height": 449
        },
        "id": "u2d4FB8wvTeB",
        "outputId": "ab0e0db9-e2a9-47d9-a758-ef36d121ed20"
      },
      "outputs": [
        {
          "name": "stderr",
          "output_type": "stream",
          "text": [
            "/var/folders/_2/ssn9p4gn1zq96vptrk6db0940000gn/T/ipykernel_1053/2081549906.py:1: FutureWarning: \n",
            "\n",
            "Passing `palette` without assigning `hue` is deprecated and will be removed in v0.14.0. Assign the `y` variable to `hue` and set `legend=False` for the same effect.\n",
            "\n",
            "  sns.countplot(y=df_sub['Rating'], orient='v', palette='Blues')\n"
          ]
        },
        {
          "data": {
            "text/plain": [
              "<Axes: xlabel='count', ylabel='Rating'>"
            ]
          },
          "execution_count": 12,
          "metadata": {},
          "output_type": "execute_result"
        },
        {
          "data": {
            "image/png": "[encoded data removed]",
            "text/plain": [
              "<Figure size 640x480 with 1 Axes>"
            ]
          },
          "metadata": {},
          "output_type": "display_data"
        }
      ],
      "source": [
        "sns.countplot(y=df_sub['Rating'], orient='v', palette='Blues')"
      ]
    },
    {
      "cell_type": "code",
      "execution_count": 13,
      "metadata": {
        "colab": {
          "base_uri": "https://localhost:8080/"
        },
        "id": "ljIWZVF6vnQy",
        "outputId": "0fbdfcb1-ebe6-4119-aab5-1045c7cd74a4"
      },
      "outputs": [
        {
          "data": {
            "text/plain": [
              "Rating\n",
              "4.0    34.239052\n",
              "3.0    28.693037\n",
              "5.0    22.638765\n",
              "2.0     9.925744\n",
              "1.0     4.503403\n",
              "Name: count, dtype: float64"
            ]
          },
          "execution_count": 13,
          "metadata": {},
          "output_type": "execute_result"
        }
      ],
      "source": [
        "df_sub['Rating'].value_counts()/ df_sub['Rating'].count() * 100"
      ]
    },
    {
      "cell_type": "markdown",
      "metadata": {
        "id": "AcEuWTQF0YlR"
      },
      "source": [
        "La mayor parte de nuestros valores se distribuyen en los ratings de 3 y 4 estrellas. La mayoría de los rating son positivos."
      ]
    },
    {
      "cell_type": "markdown",
      "metadata": {
        "id": "LHFOcjEr2SmR"
      },
      "source": [
        "### Hora de la limpieza"
      ]
    },
    {
      "cell_type": "markdown",
      "metadata": {
        "id": "JasuhT_a2WaQ"
      },
      "source": [
        "En este caso los valores nulos que tenemos hacen referencia a **Id** de 'clientes' con rating vacíos. En realidad esta información es el **Id** de la película. Lo que debemos hacer ahora es quitar estos registros y añadir los **Id's** de película como una nueva columna."
      ]
    },
    {
      "cell_type": "code",
      "execution_count": 14,
      "metadata": {
        "colab": {
          "base_uri": "https://localhost:8080/"
        },
        "id": "5uIg-NmE3WrD",
        "outputId": "3affbebf-7efb-418b-dfe7-e1441498279c"
      },
      "outputs": [
        {
          "data": {
            "text/plain": [
              "0      True\n",
              "1     False\n",
              "2     False\n",
              "3     False\n",
              "4     False\n",
              "      ...  \n",
              "95    False\n",
              "96    False\n",
              "97    False\n",
              "98    False\n",
              "99    False\n",
              "Name: Rating, Length: 100, dtype: bool"
            ]
          },
          "execution_count": 14,
          "metadata": {},
          "output_type": "execute_result"
        }
      ],
      "source": [
        "# Generamos una serie con valores booleanos. Donde Verdadero será igual al lugar\n",
        "# donde hay un Id de película.\n",
        "pd.isnull(df_sub['Rating'][:100])"
      ]
    },
    {
      "cell_type": "code",
      "execution_count": 15,
      "metadata": {
        "colab": {
          "base_uri": "https://localhost:8080/",
          "height": 206
        },
        "id": "y7d38-Dtyk0y",
        "outputId": "4fe3f083-a3db-4d9c-87a3-c8414c8053fe"
      },
      "outputs": [
        {
          "data": {
            "text/html": [
              "<div>\n",
              "<style scoped>\n",
              "    .dataframe tbody tr th:only-of-type {\n",
              "        vertical-align: middle;\n",
              "    }\n",
              "\n",
              "    .dataframe tbody tr th {\n",
              "        vertical-align: top;\n",
              "    }\n",
              "\n",
              "    .dataframe thead th {\n",
              "        text-align: right;\n",
              "    }\n",
              "</style>\n",
              "<table border=\"1\" class=\"dataframe\">\n",
              "  <thead>\n",
              "    <tr style=\"text-align: right;\">\n",
              "      <th></th>\n",
              "      <th>Rating</th>\n",
              "    </tr>\n",
              "  </thead>\n",
              "  <tbody>\n",
              "    <tr>\n",
              "      <th>0</th>\n",
              "      <td>True</td>\n",
              "    </tr>\n",
              "    <tr>\n",
              "      <th>1</th>\n",
              "      <td>False</td>\n",
              "    </tr>\n",
              "    <tr>\n",
              "      <th>2</th>\n",
              "      <td>False</td>\n",
              "    </tr>\n",
              "    <tr>\n",
              "      <th>3</th>\n",
              "      <td>False</td>\n",
              "    </tr>\n",
              "    <tr>\n",
              "      <th>4</th>\n",
              "      <td>False</td>\n",
              "    </tr>\n",
              "  </tbody>\n",
              "</table>\n",
              "</div>"
            ],
            "text/plain": [
              "   Rating\n",
              "0    True\n",
              "1   False\n",
              "2   False\n",
              "3   False\n",
              "4   False"
            ]
          },
          "execution_count": 15,
          "metadata": {},
          "output_type": "execute_result"
        }
      ],
      "source": [
        "# Colocamos la serie como un DataFrame\n",
        "df_null = pd.DataFrame(pd.isnull(df_sub['Rating']))\n",
        "df_null.head()"
      ]
    },
    {
      "cell_type": "code",
      "execution_count": 17,
      "metadata": {
        "colab": {
          "base_uri": "https://localhost:8080/",
          "height": 206
        },
        "id": "1hCwtVGx4hBo",
        "outputId": "9973089e-96bb-4405-9c2f-93745f2ee089"
      },
      "outputs": [
        {
          "data": {
            "text/html": [
              "<div>\n",
              "<style scoped>\n",
              "    .dataframe tbody tr th:only-of-type {\n",
              "        vertical-align: middle;\n",
              "    }\n",
              "\n",
              "    .dataframe tbody tr th {\n",
              "        vertical-align: top;\n",
              "    }\n",
              "\n",
              "    .dataframe thead th {\n",
              "        text-align: right;\n",
              "    }\n",
              "</style>\n",
              "<table border=\"1\" class=\"dataframe\">\n",
              "  <thead>\n",
              "    <tr style=\"text-align: right;\">\n",
              "      <th></th>\n",
              "      <th>index</th>\n",
              "      <th>Rating</th>\n",
              "    </tr>\n",
              "  </thead>\n",
              "  <tbody>\n",
              "    <tr>\n",
              "      <th>0</th>\n",
              "      <td>0</td>\n",
              "      <td>True</td>\n",
              "    </tr>\n",
              "    <tr>\n",
              "      <th>548</th>\n",
              "      <td>548</td>\n",
              "      <td>True</td>\n",
              "    </tr>\n",
              "    <tr>\n",
              "      <th>694</th>\n",
              "      <td>694</td>\n",
              "      <td>True</td>\n",
              "    </tr>\n",
              "    <tr>\n",
              "      <th>2707</th>\n",
              "      <td>2707</td>\n",
              "      <td>True</td>\n",
              "    </tr>\n",
              "    <tr>\n",
              "      <th>2850</th>\n",
              "      <td>2850</td>\n",
              "      <td>True</td>\n",
              "    </tr>\n",
              "  </tbody>\n",
              "</table>\n",
              "</div>"
            ],
            "text/plain": [
              "      index  Rating\n",
              "0         0    True\n",
              "548     548    True\n",
              "694     694    True\n",
              "2707   2707    True\n",
              "2850   2850    True"
            ]
          },
          "execution_count": 17,
          "metadata": {},
          "output_type": "execute_result"
        }
      ],
      "source": [
        "# Obtenemos sólo los registros de películas junto con índice hasta donde llega\n",
        "# los rating para esa película.\n",
        "df_null = df_null[df_null['Rating'] == True]\n",
        "df_null.head()"
      ]
    },
    {
      "cell_type": "code",
      "execution_count": 16,
      "metadata": {
        "colab": {
          "base_uri": "https://localhost:8080/",
          "height": 206
        },
        "id": "E7ecC_Lo4369",
        "outputId": "47a95de2-1c73-4b5e-90b4-f84322569003"
      },
      "outputs": [
        {
          "data": {
            "text/html": [
              "<div>\n",
              "<style scoped>\n",
              "    .dataframe tbody tr th:only-of-type {\n",
              "        vertical-align: middle;\n",
              "    }\n",
              "\n",
              "    .dataframe tbody tr th {\n",
              "        vertical-align: top;\n",
              "    }\n",
              "\n",
              "    .dataframe thead th {\n",
              "        text-align: right;\n",
              "    }\n",
              "</style>\n",
              "<table border=\"1\" class=\"dataframe\">\n",
              "  <thead>\n",
              "    <tr style=\"text-align: right;\">\n",
              "      <th></th>\n",
              "      <th>index</th>\n",
              "      <th>Rating</th>\n",
              "    </tr>\n",
              "  </thead>\n",
              "  <tbody>\n",
              "    <tr>\n",
              "      <th>0</th>\n",
              "      <td>0</td>\n",
              "      <td>True</td>\n",
              "    </tr>\n",
              "    <tr>\n",
              "      <th>1</th>\n",
              "      <td>1</td>\n",
              "      <td>False</td>\n",
              "    </tr>\n",
              "    <tr>\n",
              "      <th>2</th>\n",
              "      <td>2</td>\n",
              "      <td>False</td>\n",
              "    </tr>\n",
              "    <tr>\n",
              "      <th>3</th>\n",
              "      <td>3</td>\n",
              "      <td>False</td>\n",
              "    </tr>\n",
              "    <tr>\n",
              "      <th>4</th>\n",
              "      <td>4</td>\n",
              "      <td>False</td>\n",
              "    </tr>\n",
              "  </tbody>\n",
              "</table>\n",
              "</div>"
            ],
            "text/plain": [
              "   index  Rating\n",
              "0      0    True\n",
              "1      1   False\n",
              "2      2   False\n",
              "3      3   False\n",
              "4      4   False"
            ]
          },
          "execution_count": 16,
          "metadata": {},
          "output_type": "execute_result"
        }
      ],
      "source": [
        "# Colocamos el índice como columna para tener la ubicación para hasta donde repetir\n",
        "# nuestros valores de Id para esa película.\n",
        "df_null = df_null.reset_index()\n",
        "df_null.head()"
      ]
    },
    {
      "cell_type": "code",
      "execution_count": 19,
      "metadata": {
        "colab": {
          "base_uri": "https://localhost:8080/"
        },
        "id": "HskJTyNC3c19",
        "outputId": "e004f5c3-d71b-4cd1-e76e-6d785ab7850b"
      },
      "outputs": [
        {
          "name": "stdout",
          "output_type": "stream",
          "text": [
            "548 0\n",
            "694 548\n"
          ]
        }
      ],
      "source": [
        "movie_id_array = [] # Generamos una lista vacía donde colocaremos el Id de la película las veces que se repita.\n",
        "movie_id = 1 # Inicializamos un contador\n",
        "\n",
        "for i, j in zip(df_null['index'][1:3], df_null['index'][:-1]): # Iteramos sobre los valores de la columna 'index'\n",
        "                                                               # empezando por el valor n+1 y en segundo lugar desde n hasta el penúltimo valor de la serie.\n",
        "  print(i, j)\n",
        "  temporary = np.full((1, i-j-1), fill_value=movie_id) # Creamos una matriz llena de valores con la forma de 1x(la diferencia del valor (n+1)-n-1).\n",
        "                                                       # Esto nos da una matriz llena con el Id repetido el número de reviews para esa película.\n",
        "  movie_id_array = np.append(movie_id_array, temporary) # Lo añadimos a una lista.\n",
        "  movie_id += 1                                         # Aumentamos el Id para la siguiente película.\n",
        "\n",
        "\n"
      ]
    },
    {
      "cell_type": "code",
      "execution_count": 20,
      "metadata": {
        "id": "D7f9zMuI545k"
      },
      "outputs": [],
      "source": [
        "movie_id_array = [] # Generamos una lista vacía donde colocaremos el Id de la película las veces que se repita.\n",
        "movie_id = 1 # Inicializamos un contador\n",
        "\n",
        "for i, j in zip(df_null['index'][1:], df_null['index'][:-1]): # Iteramos sobre los valores de la columna 'index'\n",
        "                                                               # empezando por el valor n+1 y en segundo lugar desde n hasta el penúltimo valor de la serie.\n",
        "  temporary = np.full((1, i-j-1), fill_value=movie_id) # Creamos una matriz llena de valores con la forma de 1x(la diferencia del valor (n+1)-n-1).\n",
        "                                                       # Esto nos da una matriz llena con el Id repetido el número de reviews para esa película.\n",
        "  movie_id_array = np.append(movie_id_array, temporary) # Lo añadimos a una lista.\n",
        "  movie_id += 1                                         # Aumentamos el Id para la siguiente película."
      ]
    },
    {
      "cell_type": "code",
      "execution_count": 21,
      "metadata": {
        "colab": {
          "base_uri": "https://localhost:8080/"
        },
        "id": "pNZFblX1A9EC",
        "outputId": "acd5943a-eeaa-4c42-af79-ba82255076d3"
      },
      "outputs": [
        {
          "data": {
            "text/plain": [
              "2340"
            ]
          },
          "execution_count": 21,
          "metadata": {},
          "output_type": "execute_result"
        }
      ],
      "source": [
        "movie_id"
      ]
    },
    {
      "cell_type": "code",
      "execution_count": 22,
      "metadata": {
        "id": "FwNO7EvuAUGD"
      },
      "outputs": [],
      "source": [
        "# Generamos los Id's para la última película que no está contemplada en nuestro loop.\n",
        "last_movie = np.full((1, len(df_sub) - df_null.iloc[-1, 0] - 1), movie_id)\n",
        "movie_id_array = np.append(movie_id_array, last_movie)"
      ]
    },
    {
      "cell_type": "code",
      "execution_count": 23,
      "metadata": {
        "colab": {
          "base_uri": "https://localhost:8080/"
        },
        "id": "wqyZbsQmA0CZ",
        "outputId": "447f3ac8-942a-45f6-fad3-d982f78d25bc"
      },
      "outputs": [
        {
          "data": {
            "text/plain": [
              "(11997660,)"
            ]
          },
          "execution_count": 23,
          "metadata": {},
          "output_type": "execute_result"
        }
      ],
      "source": [
        "movie_id_array.shape # la cantidad de Id's corresponde con la cantidad de películas."
      ]
    },
    {
      "cell_type": "code",
      "execution_count": 24,
      "metadata": {
        "colab": {
          "base_uri": "https://localhost:8080/"
        },
        "id": "8Qpzgf33Ofk0",
        "outputId": "8ef15453-0131-433a-85b8-d8e6deed5e31"
      },
      "outputs": [
        {
          "data": {
            "text/plain": [
              "array([1.00e+00, 1.00e+00, 1.00e+00, ..., 2.34e+03, 2.34e+03, 2.34e+03])"
            ]
          },
          "execution_count": 24,
          "metadata": {},
          "output_type": "execute_result"
        }
      ],
      "source": [
        "movie_id_array"
      ]
    },
    {
      "cell_type": "markdown",
      "metadata": {
        "id": "yxcX00TXCSym"
      },
      "source": [
        "Ahora para tener todo en orden es necesario que quitemos los registros nulos de nuestro df y añadamos los Id's que generamos."
      ]
    },
    {
      "cell_type": "code",
      "execution_count": 25,
      "metadata": {
        "id": "Qr_9t1ieAxR9"
      },
      "outputs": [],
      "source": [
        "df_clean = df_sub[pd.notnull(df_sub['Rating'])]"
      ]
    },
    {
      "cell_type": "code",
      "execution_count": 26,
      "metadata": {
        "id": "uGfiai45C0L1"
      },
      "outputs": [],
      "source": [
        "df_clean = df_clean.copy()\n",
        "df_clean['Movie_Id'] = movie_id_array.astype('int16')"
      ]
    },
    {
      "cell_type": "code",
      "execution_count": 27,
      "metadata": {
        "id": "M1-sR3-jDneA"
      },
      "outputs": [],
      "source": [
        "df_clean['Client_Id'] = df_clean['Client_Id'].astype('int32')"
      ]
    },
    {
      "cell_type": "code",
      "execution_count": 28,
      "metadata": {
        "colab": {
          "base_uri": "https://localhost:8080/",
          "height": 423
        },
        "id": "KrLl0IsRDG6n",
        "outputId": "8c34f9b4-3469-44b2-d894-31a5f5c26b57"
      },
      "outputs": [
        {
          "data": {
            "text/html": [
              "<div>\n",
              "<style scoped>\n",
              "    .dataframe tbody tr th:only-of-type {\n",
              "        vertical-align: middle;\n",
              "    }\n",
              "\n",
              "    .dataframe tbody tr th {\n",
              "        vertical-align: top;\n",
              "    }\n",
              "\n",
              "    .dataframe thead th {\n",
              "        text-align: right;\n",
              "    }\n",
              "</style>\n",
              "<table border=\"1\" class=\"dataframe\">\n",
              "  <thead>\n",
              "    <tr style=\"text-align: right;\">\n",
              "      <th></th>\n",
              "      <th>Client_Id</th>\n",
              "      <th>Rating</th>\n",
              "      <th>Movie_Id</th>\n",
              "    </tr>\n",
              "  </thead>\n",
              "  <tbody>\n",
              "    <tr>\n",
              "      <th>1</th>\n",
              "      <td>1488844</td>\n",
              "      <td>3.0</td>\n",
              "      <td>1</td>\n",
              "    </tr>\n",
              "    <tr>\n",
              "      <th>2</th>\n",
              "      <td>822109</td>\n",
              "      <td>5.0</td>\n",
              "      <td>1</td>\n",
              "    </tr>\n",
              "    <tr>\n",
              "      <th>3</th>\n",
              "      <td>885013</td>\n",
              "      <td>4.0</td>\n",
              "      <td>1</td>\n",
              "    </tr>\n",
              "    <tr>\n",
              "      <th>4</th>\n",
              "      <td>30878</td>\n",
              "      <td>4.0</td>\n",
              "      <td>1</td>\n",
              "    </tr>\n",
              "    <tr>\n",
              "      <th>5</th>\n",
              "      <td>823519</td>\n",
              "      <td>3.0</td>\n",
              "      <td>1</td>\n",
              "    </tr>\n",
              "    <tr>\n",
              "      <th>...</th>\n",
              "      <td>...</td>\n",
              "      <td>...</td>\n",
              "      <td>...</td>\n",
              "    </tr>\n",
              "    <tr>\n",
              "      <th>11999995</th>\n",
              "      <td>2000580</td>\n",
              "      <td>2.0</td>\n",
              "      <td>2340</td>\n",
              "    </tr>\n",
              "    <tr>\n",
              "      <th>11999996</th>\n",
              "      <td>1809161</td>\n",
              "      <td>4.0</td>\n",
              "      <td>2340</td>\n",
              "    </tr>\n",
              "    <tr>\n",
              "      <th>11999997</th>\n",
              "      <td>1547886</td>\n",
              "      <td>2.0</td>\n",
              "      <td>2340</td>\n",
              "    </tr>\n",
              "    <tr>\n",
              "      <th>11999998</th>\n",
              "      <td>2905</td>\n",
              "      <td>2.0</td>\n",
              "      <td>2340</td>\n",
              "    </tr>\n",
              "    <tr>\n",
              "      <th>11999999</th>\n",
              "      <td>1876520</td>\n",
              "      <td>1.0</td>\n",
              "      <td>2340</td>\n",
              "    </tr>\n",
              "  </tbody>\n",
              "</table>\n",
              "<p>11997660 rows × 3 columns</p>\n",
              "</div>"
            ],
            "text/plain": [
              "          Client_Id  Rating  Movie_Id\n",
              "1           1488844     3.0         1\n",
              "2            822109     5.0         1\n",
              "3            885013     4.0         1\n",
              "4             30878     4.0         1\n",
              "5            823519     3.0         1\n",
              "...             ...     ...       ...\n",
              "11999995    2000580     2.0      2340\n",
              "11999996    1809161     4.0      2340\n",
              "11999997    1547886     2.0      2340\n",
              "11999998       2905     2.0      2340\n",
              "11999999    1876520     1.0      2340\n",
              "\n",
              "[11997660 rows x 3 columns]"
            ]
          },
          "execution_count": 28,
          "metadata": {},
          "output_type": "execute_result"
        }
      ],
      "source": [
        "df_clean"
      ]
    },
    {
      "cell_type": "code",
      "execution_count": 29,
      "metadata": {
        "colab": {
          "base_uri": "https://localhost:8080/",
          "height": 206
        },
        "id": "lvAUFHy6EgsA",
        "outputId": "ee0cbe44-e2d9-4506-f116-1af3a1f51d97"
      },
      "outputs": [
        {
          "data": {
            "text/html": [
              "<div>\n",
              "<style scoped>\n",
              "    .dataframe tbody tr th:only-of-type {\n",
              "        vertical-align: middle;\n",
              "    }\n",
              "\n",
              "    .dataframe tbody tr th {\n",
              "        vertical-align: top;\n",
              "    }\n",
              "\n",
              "    .dataframe thead th {\n",
              "        text-align: right;\n",
              "    }\n",
              "</style>\n",
              "<table border=\"1\" class=\"dataframe\">\n",
              "  <thead>\n",
              "    <tr style=\"text-align: right;\">\n",
              "      <th></th>\n",
              "      <th>Client_Id</th>\n",
              "      <th>Rating</th>\n",
              "      <th>Movie_Id</th>\n",
              "    </tr>\n",
              "  </thead>\n",
              "  <tbody>\n",
              "    <tr>\n",
              "      <th>11999995</th>\n",
              "      <td>2000580</td>\n",
              "      <td>2.0</td>\n",
              "      <td>2340</td>\n",
              "    </tr>\n",
              "    <tr>\n",
              "      <th>11999996</th>\n",
              "      <td>1809161</td>\n",
              "      <td>4.0</td>\n",
              "      <td>2340</td>\n",
              "    </tr>\n",
              "    <tr>\n",
              "      <th>11999997</th>\n",
              "      <td>1547886</td>\n",
              "      <td>2.0</td>\n",
              "      <td>2340</td>\n",
              "    </tr>\n",
              "    <tr>\n",
              "      <th>11999998</th>\n",
              "      <td>2905</td>\n",
              "      <td>2.0</td>\n",
              "      <td>2340</td>\n",
              "    </tr>\n",
              "    <tr>\n",
              "      <th>11999999</th>\n",
              "      <td>1876520</td>\n",
              "      <td>1.0</td>\n",
              "      <td>2340</td>\n",
              "    </tr>\n",
              "  </tbody>\n",
              "</table>\n",
              "</div>"
            ],
            "text/plain": [
              "          Client_Id  Rating  Movie_Id\n",
              "11999995    2000580     2.0      2340\n",
              "11999996    1809161     4.0      2340\n",
              "11999997    1547886     2.0      2340\n",
              "11999998       2905     2.0      2340\n",
              "11999999    1876520     1.0      2340"
            ]
          },
          "execution_count": 29,
          "metadata": {},
          "output_type": "execute_result"
        }
      ],
      "source": [
        "df_clean.tail()"
      ]
    },
    {
      "cell_type": "code",
      "execution_count": 30,
      "metadata": {
        "colab": {
          "base_uri": "https://localhost:8080/"
        },
        "id": "owdAxOwADV73",
        "outputId": "f22d02b1-519b-4b74-c2dc-baba0869ff98"
      },
      "outputs": [
        {
          "name": "stdout",
          "output_type": "stream",
          "text": [
            "<class 'pandas.core.frame.DataFrame'>\n",
            "Index: 11997660 entries, 1 to 11999999\n",
            "Data columns (total 3 columns):\n",
            " #   Column     Dtype  \n",
            "---  ------     -----  \n",
            " 0   Client_Id  int32  \n",
            " 1   Rating     float64\n",
            " 2   Movie_Id   int16  \n",
            "dtypes: float64(1), int16(1), int32(1)\n",
            "memory usage: 251.7 MB\n"
          ]
        }
      ],
      "source": [
        "df_clean.info()"
      ]
    },
    {
      "cell_type": "code",
      "execution_count": 31,
      "metadata": {
        "colab": {
          "base_uri": "https://localhost:8080/"
        },
        "id": "b3au2B8t-bL3",
        "outputId": "86242939-9708-44ff-e202-b0a983628db3"
      },
      "outputs": [
        {
          "name": "stdout",
          "output_type": "stream",
          "text": [
            "0\n"
          ]
        }
      ],
      "source": [
        "print(df_clean.isnull().sum().sum())"
      ]
    },
    {
      "cell_type": "markdown",
      "metadata": {
        "id": "ejLMd_Q8GoEH"
      },
      "source": [
        "### Removiendo datos con poco valor informativo"
      ]
    },
    {
      "cell_type": "markdown",
      "metadata": {
        "id": "jRUs0Nj_E1SL"
      },
      "source": [
        "Nuestros datos se encuentran en el formato correcto. Sin embargo, existen muchos datos que no ayudan a nuestra predicción. ¿Por qué sucede esto? En esto momento no parece que tenemos valores nulos, sin embargo no todos los usuarios han calificado las 4,499 películas que tenemos. De aquí va a provenir nuestra matriz dispersa.\n",
        "\n",
        "Pero antes de pasar a la matriz intentemos reducir la cantidad de datos que tenemos removiendo dos casos de nuestro dataset:\n",
        "1. Las películas que tiene pocas calificaciones.\n",
        "2. Usuarios que han calificado muy pocas películas."
      ]
    },
    {
      "cell_type": "code",
      "execution_count": 32,
      "metadata": {
        "colab": {
          "base_uri": "https://localhost:8080/",
          "height": 486
        },
        "id": "wxJHrBRIDgzY",
        "outputId": "1d78091e-00c1-4a44-e332-0d393ee8c440"
      },
      "outputs": [
        {
          "data": {
            "text/html": [
              "<div>\n",
              "<style scoped>\n",
              "    .dataframe tbody tr th:only-of-type {\n",
              "        vertical-align: middle;\n",
              "    }\n",
              "\n",
              "    .dataframe tbody tr th {\n",
              "        vertical-align: top;\n",
              "    }\n",
              "\n",
              "    .dataframe thead tr th {\n",
              "        text-align: left;\n",
              "    }\n",
              "\n",
              "    .dataframe thead tr:last-of-type th {\n",
              "        text-align: right;\n",
              "    }\n",
              "</style>\n",
              "<table border=\"1\" class=\"dataframe\">\n",
              "  <thead>\n",
              "    <tr>\n",
              "      <th></th>\n",
              "      <th colspan=\"2\" halign=\"left\">Rating</th>\n",
              "    </tr>\n",
              "    <tr>\n",
              "      <th></th>\n",
              "      <th>count</th>\n",
              "      <th>mean</th>\n",
              "    </tr>\n",
              "    <tr>\n",
              "      <th>Movie_Id</th>\n",
              "      <th></th>\n",
              "      <th></th>\n",
              "    </tr>\n",
              "  </thead>\n",
              "  <tbody>\n",
              "    <tr>\n",
              "      <th>1</th>\n",
              "      <td>547</td>\n",
              "      <td>3.749543</td>\n",
              "    </tr>\n",
              "    <tr>\n",
              "      <th>2</th>\n",
              "      <td>145</td>\n",
              "      <td>3.558621</td>\n",
              "    </tr>\n",
              "    <tr>\n",
              "      <th>3</th>\n",
              "      <td>2012</td>\n",
              "      <td>3.641153</td>\n",
              "    </tr>\n",
              "    <tr>\n",
              "      <th>4</th>\n",
              "      <td>142</td>\n",
              "      <td>2.739437</td>\n",
              "    </tr>\n",
              "    <tr>\n",
              "      <th>5</th>\n",
              "      <td>1140</td>\n",
              "      <td>3.919298</td>\n",
              "    </tr>\n",
              "    <tr>\n",
              "      <th>...</th>\n",
              "      <td>...</td>\n",
              "      <td>...</td>\n",
              "    </tr>\n",
              "    <tr>\n",
              "      <th>2336</th>\n",
              "      <td>91</td>\n",
              "      <td>3.219780</td>\n",
              "    </tr>\n",
              "    <tr>\n",
              "      <th>2337</th>\n",
              "      <td>2534</td>\n",
              "      <td>2.426598</td>\n",
              "    </tr>\n",
              "    <tr>\n",
              "      <th>2338</th>\n",
              "      <td>3919</td>\n",
              "      <td>3.046696</td>\n",
              "    </tr>\n",
              "    <tr>\n",
              "      <th>2339</th>\n",
              "      <td>2418</td>\n",
              "      <td>3.468983</td>\n",
              "    </tr>\n",
              "    <tr>\n",
              "      <th>2340</th>\n",
              "      <td>3933</td>\n",
              "      <td>2.954488</td>\n",
              "    </tr>\n",
              "  </tbody>\n",
              "</table>\n",
              "<p>2340 rows × 2 columns</p>\n",
              "</div>"
            ],
            "text/plain": [
              "         Rating          \n",
              "          count      mean\n",
              "Movie_Id                 \n",
              "1           547  3.749543\n",
              "2           145  3.558621\n",
              "3          2012  3.641153\n",
              "4           142  2.739437\n",
              "5          1140  3.919298\n",
              "...         ...       ...\n",
              "2336         91  3.219780\n",
              "2337       2534  2.426598\n",
              "2338       3919  3.046696\n",
              "2339       2418  3.468983\n",
              "2340       3933  2.954488\n",
              "\n",
              "[2340 rows x 2 columns]"
            ]
          },
          "execution_count": 32,
          "metadata": {},
          "output_type": "execute_result"
        }
      ],
      "source": [
        "# Agregamos a nivel película para revisar el conteo y valor promedio para cada una.\n",
        "movie_agg = df_clean.groupby('Movie_Id').agg({'Rating': ['count', 'mean']})\n",
        "movie_agg"
      ]
    },
    {
      "cell_type": "code",
      "execution_count": 33,
      "metadata": {
        "colab": {
          "base_uri": "https://localhost:8080/"
        },
        "id": "P5ND1fTYHPuI",
        "outputId": "3f7efed3-c4eb-425a-b6d9-ff7f864b9f17"
      },
      "outputs": [
        {
          "name": "stdout",
          "output_type": "stream",
          "text": [
            "<class 'pandas.core.frame.DataFrame'>\n",
            "Index: 2340 entries, 1 to 2340\n",
            "Data columns (total 2 columns):\n",
            " #   Column           Non-Null Count  Dtype  \n",
            "---  ------           --------------  -----  \n",
            " 0   (Rating, count)  2340 non-null   int64  \n",
            " 1   (Rating, mean)   2340 non-null   float64\n",
            "dtypes: float64(1), int64(1)\n",
            "memory usage: 41.1 KB\n"
          ]
        }
      ],
      "source": [
        "movie_agg.info()"
      ]
    },
    {
      "cell_type": "code",
      "execution_count": 34,
      "metadata": {
        "colab": {
          "base_uri": "https://localhost:8080/",
          "height": 331
        },
        "id": "wpwEpULrHiV3",
        "outputId": "41f3bab6-5e0c-41cb-c1e5-e3bafc7bef22"
      },
      "outputs": [
        {
          "data": {
            "text/html": [
              "<div>\n",
              "<style scoped>\n",
              "    .dataframe tbody tr th:only-of-type {\n",
              "        vertical-align: middle;\n",
              "    }\n",
              "\n",
              "    .dataframe tbody tr th {\n",
              "        vertical-align: top;\n",
              "    }\n",
              "\n",
              "    .dataframe thead tr th {\n",
              "        text-align: left;\n",
              "    }\n",
              "</style>\n",
              "<table border=\"1\" class=\"dataframe\">\n",
              "  <thead>\n",
              "    <tr>\n",
              "      <th></th>\n",
              "      <th colspan=\"2\" halign=\"left\">Rating</th>\n",
              "    </tr>\n",
              "    <tr>\n",
              "      <th></th>\n",
              "      <th>count</th>\n",
              "      <th>mean</th>\n",
              "    </tr>\n",
              "  </thead>\n",
              "  <tbody>\n",
              "    <tr>\n",
              "      <th>count</th>\n",
              "      <td>2340.000000</td>\n",
              "      <td>2340.000000</td>\n",
              "    </tr>\n",
              "    <tr>\n",
              "      <th>mean</th>\n",
              "      <td>5127.205128</td>\n",
              "      <td>3.226168</td>\n",
              "    </tr>\n",
              "    <tr>\n",
              "      <th>std</th>\n",
              "      <td>15580.298039</td>\n",
              "      <td>0.525592</td>\n",
              "    </tr>\n",
              "    <tr>\n",
              "      <th>min</th>\n",
              "      <td>43.000000</td>\n",
              "      <td>1.287879</td>\n",
              "    </tr>\n",
              "    <tr>\n",
              "      <th>25%</th>\n",
              "      <td>192.000000</td>\n",
              "      <td>2.894154</td>\n",
              "    </tr>\n",
              "    <tr>\n",
              "      <th>50%</th>\n",
              "      <td>569.500000</td>\n",
              "      <td>3.244315</td>\n",
              "    </tr>\n",
              "    <tr>\n",
              "      <th>75%</th>\n",
              "      <td>2517.750000</td>\n",
              "      <td>3.612134</td>\n",
              "    </tr>\n",
              "    <tr>\n",
              "      <th>max</th>\n",
              "      <td>193941.000000</td>\n",
              "      <td>4.581296</td>\n",
              "    </tr>\n",
              "  </tbody>\n",
              "</table>\n",
              "</div>"
            ],
            "text/plain": [
              "              Rating             \n",
              "               count         mean\n",
              "count    2340.000000  2340.000000\n",
              "mean     5127.205128     3.226168\n",
              "std     15580.298039     0.525592\n",
              "min        43.000000     1.287879\n",
              "25%       192.000000     2.894154\n",
              "50%       569.500000     3.244315\n",
              "75%      2517.750000     3.612134\n",
              "max    193941.000000     4.581296"
            ]
          },
          "execution_count": 34,
          "metadata": {},
          "output_type": "execute_result"
        }
      ],
      "source": [
        "movie_agg.describe()"
      ]
    },
    {
      "cell_type": "markdown",
      "metadata": {
        "id": "ME_cGoxHJM3c"
      },
      "source": [
        "Observamos el comportamiento de la distribución del conteo."
      ]
    },
    {
      "cell_type": "code",
      "execution_count": 35,
      "metadata": {
        "colab": {
          "base_uri": "https://localhost:8080/",
          "height": 449
        },
        "id": "c2-mr-u6Hvco",
        "outputId": "72ebf6d9-4a7e-4f2b-89ef-3807d4181f69"
      },
      "outputs": [
        {
          "data": {
            "text/plain": [
              "<Axes: xlabel=\"('Rating', 'count')\">"
            ]
          },
          "execution_count": 35,
          "metadata": {},
          "output_type": "execute_result"
        },
        {
          "data": {
            "image/png": "[encoded data removed]",
            "text/plain": [
              "<Figure size 640x480 with 1 Axes>"
            ]
          },
          "metadata": {},
          "output_type": "display_data"
        }
      ],
      "source": [
        "sns.boxplot(x=movie_agg[('Rating', 'count')])"
      ]
    },
    {
      "cell_type": "markdown",
      "metadata": {
        "id": "fkrWh4UQJ6wU"
      },
      "source": [
        "Por el comportamiento de la distribución del conteo de nuestros ratings observamos que hay un número considerable de películas con un muy pocas calificaciones. Revisemos cuántas son."
      ]
    },
    {
      "cell_type": "code",
      "execution_count": 36,
      "metadata": {
        "colab": {
          "base_uri": "https://localhost:8080/"
        },
        "id": "8m0TPq5LIYtw",
        "outputId": "57c4c2f5-b5de-425a-81fa-2994e5b6d498"
      },
      "outputs": [
        {
          "name": "stdout",
          "output_type": "stream",
          "text": [
            "2517.75\n"
          ]
        }
      ],
      "source": [
        "# Tomamos el valor del tercer cuartil.\n",
        "movies_low_rating = movie_agg[('Rating', 'count')].quantile(0.75)\n",
        "print(movies_low_rating)"
      ]
    },
    {
      "cell_type": "code",
      "execution_count": 37,
      "metadata": {
        "colab": {
          "base_uri": "https://localhost:8080/"
        },
        "id": "VAWPADK0K2z4",
        "outputId": "130b86f6-b202-49d9-e12e-b20e5ed7cd9d"
      },
      "outputs": [
        {
          "name": "stdout",
          "output_type": "stream",
          "text": [
            "(1755,)\n"
          ]
        }
      ],
      "source": [
        "# Seleccionamos todas las películas que están por debajo del valor del cuartil\n",
        "movies_to_drop = movie_agg[movie_agg[('Rating', 'count')] < movies_low_rating].index\n",
        "print(movies_to_drop.shape)"
      ]
    },
    {
      "cell_type": "code",
      "execution_count": 38,
      "metadata": {
        "colab": {
          "base_uri": "https://localhost:8080/"
        },
        "id": "6aQbF5a3QR_m",
        "outputId": "28b6747e-67ef-48b9-c706-f04183d89d29"
      },
      "outputs": [
        {
          "data": {
            "text/plain": [
              "Index([   1,    2,    3,    4,    5,    6,    7,    9,   10,   11,\n",
              "       ...\n",
              "       2324, 2325, 2327, 2328, 2330, 2333, 2334, 2335, 2336, 2339],\n",
              "      dtype='int16', name='Movie_Id', length=1755)"
            ]
          },
          "execution_count": 38,
          "metadata": {},
          "output_type": "execute_result"
        }
      ],
      "source": [
        "movies_to_drop"
      ]
    },
    {
      "cell_type": "markdown",
      "metadata": {
        "id": "NnUeR1NlRp3a"
      },
      "source": [
        "Ahora observemos el caso del conteo para los usuarios."
      ]
    },
    {
      "cell_type": "code",
      "execution_count": 39,
      "metadata": {
        "colab": {
          "base_uri": "https://localhost:8080/",
          "height": 237
        },
        "id": "a_6QgrWKMYBI",
        "outputId": "8a74f2a3-ddb4-4a31-d031-d423ad652c6d"
      },
      "outputs": [
        {
          "data": {
            "text/html": [
              "<div>\n",
              "<style scoped>\n",
              "    .dataframe tbody tr th:only-of-type {\n",
              "        vertical-align: middle;\n",
              "    }\n",
              "\n",
              "    .dataframe tbody tr th {\n",
              "        vertical-align: top;\n",
              "    }\n",
              "\n",
              "    .dataframe thead th {\n",
              "        text-align: right;\n",
              "    }\n",
              "</style>\n",
              "<table border=\"1\" class=\"dataframe\">\n",
              "  <thead>\n",
              "    <tr style=\"text-align: right;\">\n",
              "      <th></th>\n",
              "      <th>count</th>\n",
              "      <th>mean</th>\n",
              "    </tr>\n",
              "    <tr>\n",
              "      <th>Client_Id</th>\n",
              "      <th></th>\n",
              "      <th></th>\n",
              "    </tr>\n",
              "  </thead>\n",
              "  <tbody>\n",
              "    <tr>\n",
              "      <th>6</th>\n",
              "      <td>76</td>\n",
              "      <td>3.289474</td>\n",
              "    </tr>\n",
              "    <tr>\n",
              "      <th>7</th>\n",
              "      <td>93</td>\n",
              "      <td>4.107527</td>\n",
              "    </tr>\n",
              "    <tr>\n",
              "      <th>8</th>\n",
              "      <td>11</td>\n",
              "      <td>3.909091</td>\n",
              "    </tr>\n",
              "    <tr>\n",
              "      <th>10</th>\n",
              "      <td>26</td>\n",
              "      <td>3.384615</td>\n",
              "    </tr>\n",
              "    <tr>\n",
              "      <th>25</th>\n",
              "      <td>2</td>\n",
              "      <td>3.500000</td>\n",
              "    </tr>\n",
              "  </tbody>\n",
              "</table>\n",
              "</div>"
            ],
            "text/plain": [
              "           count      mean\n",
              "Client_Id                 \n",
              "6             76  3.289474\n",
              "7             93  4.107527\n",
              "8             11  3.909091\n",
              "10            26  3.384615\n",
              "25             2  3.500000"
            ]
          },
          "execution_count": 39,
          "metadata": {},
          "output_type": "execute_result"
        }
      ],
      "source": [
        "user_agg = df_clean.groupby('Client_Id').agg({'Rating': ['count', 'mean']})['Rating']\n",
        "user_agg.head()"
      ]
    },
    {
      "cell_type": "code",
      "execution_count": 40,
      "metadata": {
        "colab": {
          "base_uri": "https://localhost:8080/"
        },
        "id": "kiZAoJdsSGYY",
        "outputId": "1b43ec39-4345-4952-cb7a-b6d077d1716d"
      },
      "outputs": [
        {
          "name": "stdout",
          "output_type": "stream",
          "text": [
            "<class 'pandas.core.frame.DataFrame'>\n",
            "Index: 455716 entries, 6 to 2649429\n",
            "Data columns (total 2 columns):\n",
            " #   Column  Non-Null Count   Dtype  \n",
            "---  ------  --------------   -----  \n",
            " 0   count   455716 non-null  int64  \n",
            " 1   mean    455716 non-null  float64\n",
            "dtypes: float64(1), int64(1)\n",
            "memory usage: 8.7 MB\n"
          ]
        }
      ],
      "source": [
        "user_agg.info()"
      ]
    },
    {
      "cell_type": "code",
      "execution_count": 41,
      "metadata": {
        "colab": {
          "base_uri": "https://localhost:8080/",
          "height": 300
        },
        "id": "SqVQm5msS-8S",
        "outputId": "90a0d3d6-f10e-4ac3-b47c-88a84ef7f0b6"
      },
      "outputs": [
        {
          "data": {
            "text/html": [
              "<div>\n",
              "<style scoped>\n",
              "    .dataframe tbody tr th:only-of-type {\n",
              "        vertical-align: middle;\n",
              "    }\n",
              "\n",
              "    .dataframe tbody tr th {\n",
              "        vertical-align: top;\n",
              "    }\n",
              "\n",
              "    .dataframe thead th {\n",
              "        text-align: right;\n",
              "    }\n",
              "</style>\n",
              "<table border=\"1\" class=\"dataframe\">\n",
              "  <thead>\n",
              "    <tr style=\"text-align: right;\">\n",
              "      <th></th>\n",
              "      <th>count</th>\n",
              "      <th>mean</th>\n",
              "    </tr>\n",
              "  </thead>\n",
              "  <tbody>\n",
              "    <tr>\n",
              "      <th>count</th>\n",
              "      <td>455716.000000</td>\n",
              "      <td>455716.000000</td>\n",
              "    </tr>\n",
              "    <tr>\n",
              "      <th>mean</th>\n",
              "      <td>26.327055</td>\n",
              "      <td>3.680549</td>\n",
              "    </tr>\n",
              "    <tr>\n",
              "      <th>std</th>\n",
              "      <td>38.074139</td>\n",
              "      <td>0.627960</td>\n",
              "    </tr>\n",
              "    <tr>\n",
              "      <th>min</th>\n",
              "      <td>1.000000</td>\n",
              "      <td>1.000000</td>\n",
              "    </tr>\n",
              "    <tr>\n",
              "      <th>25%</th>\n",
              "      <td>5.000000</td>\n",
              "      <td>3.333333</td>\n",
              "    </tr>\n",
              "    <tr>\n",
              "      <th>50%</th>\n",
              "      <td>13.000000</td>\n",
              "      <td>3.691489</td>\n",
              "    </tr>\n",
              "    <tr>\n",
              "      <th>75%</th>\n",
              "      <td>33.000000</td>\n",
              "      <td>4.000000</td>\n",
              "    </tr>\n",
              "    <tr>\n",
              "      <th>max</th>\n",
              "      <td>2327.000000</td>\n",
              "      <td>5.000000</td>\n",
              "    </tr>\n",
              "  </tbody>\n",
              "</table>\n",
              "</div>"
            ],
            "text/plain": [
              "               count           mean\n",
              "count  455716.000000  455716.000000\n",
              "mean       26.327055       3.680549\n",
              "std        38.074139       0.627960\n",
              "min         1.000000       1.000000\n",
              "25%         5.000000       3.333333\n",
              "50%        13.000000       3.691489\n",
              "75%        33.000000       4.000000\n",
              "max      2327.000000       5.000000"
            ]
          },
          "execution_count": 41,
          "metadata": {},
          "output_type": "execute_result"
        }
      ],
      "source": [
        "user_agg.describe()"
      ]
    },
    {
      "cell_type": "code",
      "execution_count": 42,
      "metadata": {
        "colab": {
          "base_uri": "https://localhost:8080/",
          "height": 449
        },
        "id": "ppr8ojFGSK97",
        "outputId": "fe2d9976-1397-4a41-da0c-c7141710dbed"
      },
      "outputs": [
        {
          "data": {
            "text/plain": [
              "<Axes: xlabel='count'>"
            ]
          },
          "execution_count": 42,
          "metadata": {},
          "output_type": "execute_result"
        },
        {
          "data": {
            "image/png": "[encoded data removed]",
            "text/plain": [
              "<Figure size 640x480 with 1 Axes>"
            ]
          },
          "metadata": {},
          "output_type": "display_data"
        }
      ],
      "source": [
        "sns.boxplot(x=user_agg['count'])"
      ]
    },
    {
      "cell_type": "code",
      "execution_count": 43,
      "metadata": {
        "colab": {
          "base_uri": "https://localhost:8080/"
        },
        "id": "F31HD5iJSdTs",
        "outputId": "67d7166c-bbad-4039-c7eb-bb281ce6479c"
      },
      "outputs": [
        {
          "name": "stdout",
          "output_type": "stream",
          "text": [
            "97.0\n"
          ]
        }
      ],
      "source": [
        "user_low_rating = user_agg['count'].quantile(0.95)\n",
        "print(user_low_rating)"
      ]
    },
    {
      "cell_type": "code",
      "execution_count": 44,
      "metadata": {},
      "outputs": [
        {
          "data": {
            "text/plain": [
              "(432909,)"
            ]
          },
          "execution_count": 44,
          "metadata": {},
          "output_type": "execute_result"
        }
      ],
      "source": [
        "users_to_drop = user_agg[user_agg['count'] < user_low_rating].index\n",
        "users_to_drop.shape"
      ]
    },
    {
      "cell_type": "markdown",
      "metadata": {
        "id": "_6h1546mW6qr"
      },
      "source": [
        "Removamos las películas con bajo número de calificaciones tanto los usuarios con pocas películas calificadas."
      ]
    },
    {
      "cell_type": "code",
      "execution_count": 45,
      "metadata": {
        "id": "WRV5Th6ET8DA"
      },
      "outputs": [],
      "source": [
        "df_trim = df_clean[~df_clean['Movie_Id'].isin(movies_to_drop)]"
      ]
    },
    {
      "cell_type": "code",
      "execution_count": 46,
      "metadata": {
        "colab": {
          "base_uri": "https://localhost:8080/"
        },
        "id": "ploVZf-QXoZ8",
        "outputId": "6ffd64f3-6622-41e6-b2fa-a6e6a90e8ab6"
      },
      "outputs": [
        {
          "data": {
            "text/plain": [
              "((11997660, 3), (11000284, 3))"
            ]
          },
          "execution_count": 46,
          "metadata": {},
          "output_type": "execute_result"
        }
      ],
      "source": [
        "df_clean.shape, df_trim.shape"
      ]
    },
    {
      "cell_type": "code",
      "execution_count": 47,
      "metadata": {
        "id": "Jl3qyWsNXsMV"
      },
      "outputs": [],
      "source": [
        "df_trim = df_trim[~df_trim['Client_Id'].isin(users_to_drop)]"
      ]
    },
    {
      "cell_type": "code",
      "execution_count": 48,
      "metadata": {
        "colab": {
          "base_uri": "https://localhost:8080/"
        },
        "id": "_Ew_O7UlX8uV",
        "outputId": "289ac7d3-0132-4814-bb09-4cb6b76eede2"
      },
      "outputs": [
        {
          "data": {
            "text/plain": [
              "((11997660, 3), (2950702, 3))"
            ]
          },
          "execution_count": 48,
          "metadata": {},
          "output_type": "execute_result"
        }
      ],
      "source": [
        "df_clean.shape, df_trim.shape"
      ]
    },
    {
      "cell_type": "code",
      "execution_count": 49,
      "metadata": {
        "colab": {
          "base_uri": "https://localhost:8080/"
        },
        "id": "qMY9EkG2X9sd",
        "outputId": "9c034d06-1f8f-406f-e2b3-648f370f0edc"
      },
      "outputs": [
        {
          "data": {
            "text/plain": [
              "0.2459397915926939"
            ]
          },
          "execution_count": 49,
          "metadata": {},
          "output_type": "execute_result"
        }
      ],
      "source": [
        "df_trim.shape[0] / df_clean.shape[0]"
      ]
    },
    {
      "cell_type": "code",
      "execution_count": 50,
      "metadata": {
        "colab": {
          "base_uri": "https://localhost:8080/"
        },
        "id": "tX2zl_cf9-Pt",
        "outputId": "87360b9a-8168-40e0-9933-1f6053459f3c"
      },
      "outputs": [
        {
          "data": {
            "text/plain": [
              "(2950702, 3)"
            ]
          },
          "execution_count": 50,
          "metadata": {},
          "output_type": "execute_result"
        }
      ],
      "source": [
        "df_trim.shape"
      ]
    },
    {
      "cell_type": "code",
      "execution_count": 51,
      "metadata": {
        "colab": {
          "base_uri": "https://localhost:8080/",
          "height": 423
        },
        "id": "bP7QuRaV7JLt",
        "outputId": "cfcb4d1e-6908-489c-ef21-bf5e1c32a847"
      },
      "outputs": [
        {
          "data": {
            "text/html": [
              "<div>\n",
              "<style scoped>\n",
              "    .dataframe tbody tr th:only-of-type {\n",
              "        vertical-align: middle;\n",
              "    }\n",
              "\n",
              "    .dataframe tbody tr th {\n",
              "        vertical-align: top;\n",
              "    }\n",
              "\n",
              "    .dataframe thead th {\n",
              "        text-align: right;\n",
              "    }\n",
              "</style>\n",
              "<table border=\"1\" class=\"dataframe\">\n",
              "  <thead>\n",
              "    <tr style=\"text-align: right;\">\n",
              "      <th></th>\n",
              "      <th>Client_Id</th>\n",
              "      <th>Rating</th>\n",
              "      <th>Movie_Id</th>\n",
              "    </tr>\n",
              "  </thead>\n",
              "  <tbody>\n",
              "    <tr>\n",
              "      <th>5119</th>\n",
              "      <td>1744889</td>\n",
              "      <td>1.0</td>\n",
              "      <td>8</td>\n",
              "    </tr>\n",
              "    <tr>\n",
              "      <th>5154</th>\n",
              "      <td>1205593</td>\n",
              "      <td>4.0</td>\n",
              "      <td>8</td>\n",
              "    </tr>\n",
              "    <tr>\n",
              "      <th>5157</th>\n",
              "      <td>1488844</td>\n",
              "      <td>4.0</td>\n",
              "      <td>8</td>\n",
              "    </tr>\n",
              "    <tr>\n",
              "      <th>5175</th>\n",
              "      <td>306466</td>\n",
              "      <td>4.0</td>\n",
              "      <td>8</td>\n",
              "    </tr>\n",
              "    <tr>\n",
              "      <th>5178</th>\n",
              "      <td>1331154</td>\n",
              "      <td>4.0</td>\n",
              "      <td>8</td>\n",
              "    </tr>\n",
              "    <tr>\n",
              "      <th>...</th>\n",
              "      <td>...</td>\n",
              "      <td>...</td>\n",
              "      <td>...</td>\n",
              "    </tr>\n",
              "    <tr>\n",
              "      <th>11999994</th>\n",
              "      <td>1946601</td>\n",
              "      <td>4.0</td>\n",
              "      <td>2340</td>\n",
              "    </tr>\n",
              "    <tr>\n",
              "      <th>11999996</th>\n",
              "      <td>1809161</td>\n",
              "      <td>4.0</td>\n",
              "      <td>2340</td>\n",
              "    </tr>\n",
              "    <tr>\n",
              "      <th>11999997</th>\n",
              "      <td>1547886</td>\n",
              "      <td>2.0</td>\n",
              "      <td>2340</td>\n",
              "    </tr>\n",
              "    <tr>\n",
              "      <th>11999998</th>\n",
              "      <td>2905</td>\n",
              "      <td>2.0</td>\n",
              "      <td>2340</td>\n",
              "    </tr>\n",
              "    <tr>\n",
              "      <th>11999999</th>\n",
              "      <td>1876520</td>\n",
              "      <td>1.0</td>\n",
              "      <td>2340</td>\n",
              "    </tr>\n",
              "  </tbody>\n",
              "</table>\n",
              "<p>2950702 rows × 3 columns</p>\n",
              "</div>"
            ],
            "text/plain": [
              "          Client_Id  Rating  Movie_Id\n",
              "5119        1744889     1.0         8\n",
              "5154        1205593     4.0         8\n",
              "5157        1488844     4.0         8\n",
              "5175         306466     4.0         8\n",
              "5178        1331154     4.0         8\n",
              "...             ...     ...       ...\n",
              "11999994    1946601     4.0      2340\n",
              "11999996    1809161     4.0      2340\n",
              "11999997    1547886     2.0      2340\n",
              "11999998       2905     2.0      2340\n",
              "11999999    1876520     1.0      2340\n",
              "\n",
              "[2950702 rows x 3 columns]"
            ]
          },
          "execution_count": 51,
          "metadata": {},
          "output_type": "execute_result"
        }
      ],
      "source": [
        "df_trim"
      ]
    },
    {
      "cell_type": "code",
      "execution_count": 52,
      "metadata": {
        "colab": {
          "base_uri": "https://localhost:8080/"
        },
        "id": "yjY8SuaY7o7I",
        "outputId": "3e144149-5ca9-4991-9b58-ff0865bf4585"
      },
      "outputs": [
        {
          "data": {
            "text/plain": [
              "22807"
            ]
          },
          "execution_count": 52,
          "metadata": {},
          "output_type": "execute_result"
        }
      ],
      "source": [
        "len(df_trim['Client_Id'].unique())"
      ]
    },
    {
      "cell_type": "code",
      "execution_count": 53,
      "metadata": {
        "colab": {
          "base_uri": "https://localhost:8080/"
        },
        "id": "HGB_sqjf719c",
        "outputId": "c62a0c92-c625-46da-d7d3-8ad731060507"
      },
      "outputs": [
        {
          "data": {
            "text/plain": [
              "585"
            ]
          },
          "execution_count": 53,
          "metadata": {},
          "output_type": "execute_result"
        }
      ],
      "source": [
        "len(df_trim['Movie_Id'].unique())"
      ]
    },
    {
      "cell_type": "markdown",
      "metadata": {
        "id": "heGjQcN4Yqts"
      },
      "source": [
        "# Convirtiendo a matriz dispersa o generando nuestra tabla Usuario-Item"
      ]
    },
    {
      "cell_type": "code",
      "execution_count": 54,
      "metadata": {
        "colab": {
          "base_uri": "https://localhost:8080/"
        },
        "id": "DZJkg_m4oLry",
        "outputId": "6b3dd85c-b9bf-42cf-eb92-5892cd333a9f"
      },
      "outputs": [],
      "source": [
        "pivot_user_item = df_trim.pivot(index='Movie_Id', columns='Client_Id', values='Rating').fillna(0)"
      ]
    },
    {
      "cell_type": "code",
      "execution_count": 55,
      "metadata": {
        "colab": {
          "base_uri": "https://localhost:8080/",
          "height": 499
        },
        "id": "ZFP5RAzz9wMw",
        "outputId": "77e7da05-845c-49d6-b0f5-d9fa7be7eb0c"
      },
      "outputs": [
        {
          "data": {
            "text/html": [
              "<div>\n",
              "<style scoped>\n",
              "    .dataframe tbody tr th:only-of-type {\n",
              "        vertical-align: middle;\n",
              "    }\n",
              "\n",
              "    .dataframe tbody tr th {\n",
              "        vertical-align: top;\n",
              "    }\n",
              "\n",
              "    .dataframe thead th {\n",
              "        text-align: right;\n",
              "    }\n",
              "</style>\n",
              "<table border=\"1\" class=\"dataframe\">\n",
              "  <thead>\n",
              "    <tr style=\"text-align: right;\">\n",
              "      <th>Client_Id</th>\n",
              "      <th>769</th>\n",
              "      <th>1333</th>\n",
              "      <th>1427</th>\n",
              "      <th>1442</th>\n",
              "      <th>1500</th>\n",
              "      <th>1527</th>\n",
              "      <th>2000</th>\n",
              "      <th>2128</th>\n",
              "      <th>2213</th>\n",
              "      <th>2225</th>\n",
              "      <th>...</th>\n",
              "      <th>2648465</th>\n",
              "      <th>2648502</th>\n",
              "      <th>2648589</th>\n",
              "      <th>2648730</th>\n",
              "      <th>2648734</th>\n",
              "      <th>2648853</th>\n",
              "      <th>2648869</th>\n",
              "      <th>2648885</th>\n",
              "      <th>2649267</th>\n",
              "      <th>2649285</th>\n",
              "    </tr>\n",
              "    <tr>\n",
              "      <th>Movie_Id</th>\n",
              "      <th></th>\n",
              "      <th></th>\n",
              "      <th></th>\n",
              "      <th></th>\n",
              "      <th></th>\n",
              "      <th></th>\n",
              "      <th></th>\n",
              "      <th></th>\n",
              "      <th></th>\n",
              "      <th></th>\n",
              "      <th></th>\n",
              "      <th></th>\n",
              "      <th></th>\n",
              "      <th></th>\n",
              "      <th></th>\n",
              "      <th></th>\n",
              "      <th></th>\n",
              "      <th></th>\n",
              "      <th></th>\n",
              "      <th></th>\n",
              "      <th></th>\n",
              "    </tr>\n",
              "  </thead>\n",
              "  <tbody>\n",
              "    <tr>\n",
              "      <th>8</th>\n",
              "      <td>0.0</td>\n",
              "      <td>3.0</td>\n",
              "      <td>0.0</td>\n",
              "      <td>0.0</td>\n",
              "      <td>0.0</td>\n",
              "      <td>0.0</td>\n",
              "      <td>0.0</td>\n",
              "      <td>0.0</td>\n",
              "      <td>0.0</td>\n",
              "      <td>0.0</td>\n",
              "      <td>...</td>\n",
              "      <td>0.0</td>\n",
              "      <td>0.0</td>\n",
              "      <td>0.0</td>\n",
              "      <td>0.0</td>\n",
              "      <td>0.0</td>\n",
              "      <td>0.0</td>\n",
              "      <td>0.0</td>\n",
              "      <td>0.0</td>\n",
              "      <td>0.0</td>\n",
              "      <td>0.0</td>\n",
              "    </tr>\n",
              "    <tr>\n",
              "      <th>16</th>\n",
              "      <td>0.0</td>\n",
              "      <td>0.0</td>\n",
              "      <td>0.0</td>\n",
              "      <td>0.0</td>\n",
              "      <td>0.0</td>\n",
              "      <td>0.0</td>\n",
              "      <td>0.0</td>\n",
              "      <td>0.0</td>\n",
              "      <td>3.0</td>\n",
              "      <td>0.0</td>\n",
              "      <td>...</td>\n",
              "      <td>0.0</td>\n",
              "      <td>0.0</td>\n",
              "      <td>0.0</td>\n",
              "      <td>0.0</td>\n",
              "      <td>0.0</td>\n",
              "      <td>0.0</td>\n",
              "      <td>0.0</td>\n",
              "      <td>0.0</td>\n",
              "      <td>0.0</td>\n",
              "      <td>0.0</td>\n",
              "    </tr>\n",
              "    <tr>\n",
              "      <th>17</th>\n",
              "      <td>0.0</td>\n",
              "      <td>0.0</td>\n",
              "      <td>0.0</td>\n",
              "      <td>0.0</td>\n",
              "      <td>0.0</td>\n",
              "      <td>0.0</td>\n",
              "      <td>0.0</td>\n",
              "      <td>0.0</td>\n",
              "      <td>0.0</td>\n",
              "      <td>0.0</td>\n",
              "      <td>...</td>\n",
              "      <td>0.0</td>\n",
              "      <td>0.0</td>\n",
              "      <td>0.0</td>\n",
              "      <td>0.0</td>\n",
              "      <td>0.0</td>\n",
              "      <td>0.0</td>\n",
              "      <td>0.0</td>\n",
              "      <td>0.0</td>\n",
              "      <td>0.0</td>\n",
              "      <td>0.0</td>\n",
              "    </tr>\n",
              "    <tr>\n",
              "      <th>18</th>\n",
              "      <td>0.0</td>\n",
              "      <td>4.0</td>\n",
              "      <td>0.0</td>\n",
              "      <td>0.0</td>\n",
              "      <td>0.0</td>\n",
              "      <td>0.0</td>\n",
              "      <td>3.0</td>\n",
              "      <td>0.0</td>\n",
              "      <td>0.0</td>\n",
              "      <td>3.0</td>\n",
              "      <td>...</td>\n",
              "      <td>0.0</td>\n",
              "      <td>0.0</td>\n",
              "      <td>4.0</td>\n",
              "      <td>0.0</td>\n",
              "      <td>0.0</td>\n",
              "      <td>4.0</td>\n",
              "      <td>0.0</td>\n",
              "      <td>0.0</td>\n",
              "      <td>0.0</td>\n",
              "      <td>0.0</td>\n",
              "    </tr>\n",
              "    <tr>\n",
              "      <th>26</th>\n",
              "      <td>0.0</td>\n",
              "      <td>3.0</td>\n",
              "      <td>0.0</td>\n",
              "      <td>0.0</td>\n",
              "      <td>0.0</td>\n",
              "      <td>0.0</td>\n",
              "      <td>0.0</td>\n",
              "      <td>0.0</td>\n",
              "      <td>0.0</td>\n",
              "      <td>0.0</td>\n",
              "      <td>...</td>\n",
              "      <td>0.0</td>\n",
              "      <td>0.0</td>\n",
              "      <td>0.0</td>\n",
              "      <td>0.0</td>\n",
              "      <td>0.0</td>\n",
              "      <td>0.0</td>\n",
              "      <td>0.0</td>\n",
              "      <td>0.0</td>\n",
              "      <td>0.0</td>\n",
              "      <td>0.0</td>\n",
              "    </tr>\n",
              "    <tr>\n",
              "      <th>...</th>\n",
              "      <td>...</td>\n",
              "      <td>...</td>\n",
              "      <td>...</td>\n",
              "      <td>...</td>\n",
              "      <td>...</td>\n",
              "      <td>...</td>\n",
              "      <td>...</td>\n",
              "      <td>...</td>\n",
              "      <td>...</td>\n",
              "      <td>...</td>\n",
              "      <td>...</td>\n",
              "      <td>...</td>\n",
              "      <td>...</td>\n",
              "      <td>...</td>\n",
              "      <td>...</td>\n",
              "      <td>...</td>\n",
              "      <td>...</td>\n",
              "      <td>...</td>\n",
              "      <td>...</td>\n",
              "      <td>...</td>\n",
              "      <td>...</td>\n",
              "    </tr>\n",
              "    <tr>\n",
              "      <th>2331</th>\n",
              "      <td>0.0</td>\n",
              "      <td>3.0</td>\n",
              "      <td>0.0</td>\n",
              "      <td>0.0</td>\n",
              "      <td>0.0</td>\n",
              "      <td>0.0</td>\n",
              "      <td>0.0</td>\n",
              "      <td>0.0</td>\n",
              "      <td>0.0</td>\n",
              "      <td>0.0</td>\n",
              "      <td>...</td>\n",
              "      <td>0.0</td>\n",
              "      <td>0.0</td>\n",
              "      <td>0.0</td>\n",
              "      <td>0.0</td>\n",
              "      <td>0.0</td>\n",
              "      <td>0.0</td>\n",
              "      <td>4.0</td>\n",
              "      <td>0.0</td>\n",
              "      <td>0.0</td>\n",
              "      <td>0.0</td>\n",
              "    </tr>\n",
              "    <tr>\n",
              "      <th>2332</th>\n",
              "      <td>0.0</td>\n",
              "      <td>3.0</td>\n",
              "      <td>0.0</td>\n",
              "      <td>0.0</td>\n",
              "      <td>0.0</td>\n",
              "      <td>0.0</td>\n",
              "      <td>5.0</td>\n",
              "      <td>0.0</td>\n",
              "      <td>0.0</td>\n",
              "      <td>0.0</td>\n",
              "      <td>...</td>\n",
              "      <td>0.0</td>\n",
              "      <td>0.0</td>\n",
              "      <td>0.0</td>\n",
              "      <td>4.0</td>\n",
              "      <td>0.0</td>\n",
              "      <td>0.0</td>\n",
              "      <td>0.0</td>\n",
              "      <td>0.0</td>\n",
              "      <td>0.0</td>\n",
              "      <td>0.0</td>\n",
              "    </tr>\n",
              "    <tr>\n",
              "      <th>2337</th>\n",
              "      <td>1.0</td>\n",
              "      <td>1.0</td>\n",
              "      <td>0.0</td>\n",
              "      <td>0.0</td>\n",
              "      <td>0.0</td>\n",
              "      <td>0.0</td>\n",
              "      <td>0.0</td>\n",
              "      <td>0.0</td>\n",
              "      <td>0.0</td>\n",
              "      <td>0.0</td>\n",
              "      <td>...</td>\n",
              "      <td>0.0</td>\n",
              "      <td>0.0</td>\n",
              "      <td>0.0</td>\n",
              "      <td>0.0</td>\n",
              "      <td>0.0</td>\n",
              "      <td>0.0</td>\n",
              "      <td>0.0</td>\n",
              "      <td>0.0</td>\n",
              "      <td>0.0</td>\n",
              "      <td>3.0</td>\n",
              "    </tr>\n",
              "    <tr>\n",
              "      <th>2338</th>\n",
              "      <td>0.0</td>\n",
              "      <td>0.0</td>\n",
              "      <td>0.0</td>\n",
              "      <td>0.0</td>\n",
              "      <td>0.0</td>\n",
              "      <td>0.0</td>\n",
              "      <td>0.0</td>\n",
              "      <td>0.0</td>\n",
              "      <td>0.0</td>\n",
              "      <td>0.0</td>\n",
              "      <td>...</td>\n",
              "      <td>0.0</td>\n",
              "      <td>0.0</td>\n",
              "      <td>0.0</td>\n",
              "      <td>0.0</td>\n",
              "      <td>0.0</td>\n",
              "      <td>0.0</td>\n",
              "      <td>0.0</td>\n",
              "      <td>0.0</td>\n",
              "      <td>0.0</td>\n",
              "      <td>0.0</td>\n",
              "    </tr>\n",
              "    <tr>\n",
              "      <th>2340</th>\n",
              "      <td>0.0</td>\n",
              "      <td>0.0</td>\n",
              "      <td>0.0</td>\n",
              "      <td>0.0</td>\n",
              "      <td>0.0</td>\n",
              "      <td>0.0</td>\n",
              "      <td>0.0</td>\n",
              "      <td>0.0</td>\n",
              "      <td>0.0</td>\n",
              "      <td>0.0</td>\n",
              "      <td>...</td>\n",
              "      <td>0.0</td>\n",
              "      <td>3.0</td>\n",
              "      <td>0.0</td>\n",
              "      <td>0.0</td>\n",
              "      <td>4.0</td>\n",
              "      <td>0.0</td>\n",
              "      <td>0.0</td>\n",
              "      <td>0.0</td>\n",
              "      <td>0.0</td>\n",
              "      <td>0.0</td>\n",
              "    </tr>\n",
              "  </tbody>\n",
              "</table>\n",
              "<p>585 rows × 22807 columns</p>\n",
              "</div>"
            ],
            "text/plain": [
              "Client_Id  769      1333     1427     1442     1500     1527     2000     \\\n",
              "Movie_Id                                                                   \n",
              "8              0.0      3.0      0.0      0.0      0.0      0.0      0.0   \n",
              "16             0.0      0.0      0.0      0.0      0.0      0.0      0.0   \n",
              "17             0.0      0.0      0.0      0.0      0.0      0.0      0.0   \n",
              "18             0.0      4.0      0.0      0.0      0.0      0.0      3.0   \n",
              "26             0.0      3.0      0.0      0.0      0.0      0.0      0.0   \n",
              "...            ...      ...      ...      ...      ...      ...      ...   \n",
              "2331           0.0      3.0      0.0      0.0      0.0      0.0      0.0   \n",
              "2332           0.0      3.0      0.0      0.0      0.0      0.0      5.0   \n",
              "2337           1.0      1.0      0.0      0.0      0.0      0.0      0.0   \n",
              "2338           0.0      0.0      0.0      0.0      0.0      0.0      0.0   \n",
              "2340           0.0      0.0      0.0      0.0      0.0      0.0      0.0   \n",
              "\n",
              "Client_Id  2128     2213     2225     ...  2648465  2648502  2648589  2648730  \\\n",
              "Movie_Id                              ...                                       \n",
              "8              0.0      0.0      0.0  ...      0.0      0.0      0.0      0.0   \n",
              "16             0.0      3.0      0.0  ...      0.0      0.0      0.0      0.0   \n",
              "17             0.0      0.0      0.0  ...      0.0      0.0      0.0      0.0   \n",
              "18             0.0      0.0      3.0  ...      0.0      0.0      4.0      0.0   \n",
              "26             0.0      0.0      0.0  ...      0.0      0.0      0.0      0.0   \n",
              "...            ...      ...      ...  ...      ...      ...      ...      ...   \n",
              "2331           0.0      0.0      0.0  ...      0.0      0.0      0.0      0.0   \n",
              "2332           0.0      0.0      0.0  ...      0.0      0.0      0.0      4.0   \n",
              "2337           0.0      0.0      0.0  ...      0.0      0.0      0.0      0.0   \n",
              "2338           0.0      0.0      0.0  ...      0.0      0.0      0.0      0.0   \n",
              "2340           0.0      0.0      0.0  ...      0.0      3.0      0.0      0.0   \n",
              "\n",
              "Client_Id  2648734  2648853  2648869  2648885  2649267  2649285  \n",
              "Movie_Id                                                         \n",
              "8              0.0      0.0      0.0      0.0      0.0      0.0  \n",
              "16             0.0      0.0      0.0      0.0      0.0      0.0  \n",
              "17             0.0      0.0      0.0      0.0      0.0      0.0  \n",
              "18             0.0      4.0      0.0      0.0      0.0      0.0  \n",
              "26             0.0      0.0      0.0      0.0      0.0      0.0  \n",
              "...            ...      ...      ...      ...      ...      ...  \n",
              "2331           0.0      0.0      4.0      0.0      0.0      0.0  \n",
              "2332           0.0      0.0      0.0      0.0      0.0      0.0  \n",
              "2337           0.0      0.0      0.0      0.0      0.0      3.0  \n",
              "2338           0.0      0.0      0.0      0.0      0.0      0.0  \n",
              "2340           4.0      0.0      0.0      0.0      0.0      0.0  \n",
              "\n",
              "[585 rows x 22807 columns]"
            ]
          },
          "execution_count": 55,
          "metadata": {},
          "output_type": "execute_result"
        }
      ],
      "source": [
        "pivot_user_item"
      ]
    },
    {
      "cell_type": "code",
      "execution_count": 57,
      "metadata": {
        "colab": {
          "base_uri": "https://localhost:8080/"
        },
        "id": "WU6jJO78bdMA",
        "outputId": "806a529f-08e3-4ad1-af11-a29eadfff318"
      },
      "outputs": [
        {
          "name": "stdout",
          "output_type": "stream",
          "text": [
            "10391393\n"
          ]
        }
      ],
      "source": [
        "print(pivot_user_item[pivot_user_item == 0].count().sum())"
      ]
    },
    {
      "cell_type": "code",
      "execution_count": 58,
      "metadata": {
        "colab": {
          "base_uri": "https://localhost:8080/"
        },
        "id": "fUY7ZDyf9zcz",
        "outputId": "16cf1549-dc76-4254-8b4d-962012b09009"
      },
      "outputs": [
        {
          "data": {
            "text/plain": [
              "(585, 22807)"
            ]
          },
          "execution_count": 58,
          "metadata": {},
          "output_type": "execute_result"
        }
      ],
      "source": [
        "pivot_user_item.shape"
      ]
    },
    {
      "cell_type": "markdown",
      "metadata": {
        "id": "Bne_7QfC7q5n"
      },
      "source": [
        "Simplemente, al crear esta matriz dispersa la cantidad de RAM que utilizamos en el notebook sube de 2.04 Gb a 4.15 Gb aproximadamente"
      ]
    },
    {
      "cell_type": "code",
      "execution_count": 59,
      "metadata": {
        "colab": {
          "base_uri": "https://localhost:8080/",
          "height": 267
        },
        "id": "-BfopnnhZuLV",
        "outputId": "a9d20699-0acd-4632-8aaf-13dfedf7ff0a"
      },
      "outputs": [
        {
          "data": {
            "text/html": [
              "<div>\n",
              "<style scoped>\n",
              "    .dataframe tbody tr th:only-of-type {\n",
              "        vertical-align: middle;\n",
              "    }\n",
              "\n",
              "    .dataframe tbody tr th {\n",
              "        vertical-align: top;\n",
              "    }\n",
              "\n",
              "    .dataframe thead th {\n",
              "        text-align: right;\n",
              "    }\n",
              "</style>\n",
              "<table border=\"1\" class=\"dataframe\">\n",
              "  <thead>\n",
              "    <tr style=\"text-align: right;\">\n",
              "      <th>Client_Id</th>\n",
              "      <th>769</th>\n",
              "      <th>1333</th>\n",
              "      <th>1427</th>\n",
              "      <th>1442</th>\n",
              "      <th>1500</th>\n",
              "      <th>1527</th>\n",
              "      <th>2000</th>\n",
              "      <th>2128</th>\n",
              "      <th>2213</th>\n",
              "      <th>2225</th>\n",
              "      <th>...</th>\n",
              "      <th>2648465</th>\n",
              "      <th>2648502</th>\n",
              "      <th>2648589</th>\n",
              "      <th>2648730</th>\n",
              "      <th>2648734</th>\n",
              "      <th>2648853</th>\n",
              "      <th>2648869</th>\n",
              "      <th>2648885</th>\n",
              "      <th>2649267</th>\n",
              "      <th>2649285</th>\n",
              "    </tr>\n",
              "    <tr>\n",
              "      <th>Movie_Id</th>\n",
              "      <th></th>\n",
              "      <th></th>\n",
              "      <th></th>\n",
              "      <th></th>\n",
              "      <th></th>\n",
              "      <th></th>\n",
              "      <th></th>\n",
              "      <th></th>\n",
              "      <th></th>\n",
              "      <th></th>\n",
              "      <th></th>\n",
              "      <th></th>\n",
              "      <th></th>\n",
              "      <th></th>\n",
              "      <th></th>\n",
              "      <th></th>\n",
              "      <th></th>\n",
              "      <th></th>\n",
              "      <th></th>\n",
              "      <th></th>\n",
              "      <th></th>\n",
              "    </tr>\n",
              "  </thead>\n",
              "  <tbody>\n",
              "    <tr>\n",
              "      <th>8</th>\n",
              "      <td>0.0</td>\n",
              "      <td>3.0</td>\n",
              "      <td>0.0</td>\n",
              "      <td>0.0</td>\n",
              "      <td>0.0</td>\n",
              "      <td>0.0</td>\n",
              "      <td>0.0</td>\n",
              "      <td>0.0</td>\n",
              "      <td>0.0</td>\n",
              "      <td>0.0</td>\n",
              "      <td>...</td>\n",
              "      <td>0.0</td>\n",
              "      <td>0.0</td>\n",
              "      <td>0.0</td>\n",
              "      <td>0.0</td>\n",
              "      <td>0.0</td>\n",
              "      <td>0.0</td>\n",
              "      <td>0.0</td>\n",
              "      <td>0.0</td>\n",
              "      <td>0.0</td>\n",
              "      <td>0.0</td>\n",
              "    </tr>\n",
              "    <tr>\n",
              "      <th>16</th>\n",
              "      <td>0.0</td>\n",
              "      <td>0.0</td>\n",
              "      <td>0.0</td>\n",
              "      <td>0.0</td>\n",
              "      <td>0.0</td>\n",
              "      <td>0.0</td>\n",
              "      <td>0.0</td>\n",
              "      <td>0.0</td>\n",
              "      <td>3.0</td>\n",
              "      <td>0.0</td>\n",
              "      <td>...</td>\n",
              "      <td>0.0</td>\n",
              "      <td>0.0</td>\n",
              "      <td>0.0</td>\n",
              "      <td>0.0</td>\n",
              "      <td>0.0</td>\n",
              "      <td>0.0</td>\n",
              "      <td>0.0</td>\n",
              "      <td>0.0</td>\n",
              "      <td>0.0</td>\n",
              "      <td>0.0</td>\n",
              "    </tr>\n",
              "    <tr>\n",
              "      <th>17</th>\n",
              "      <td>0.0</td>\n",
              "      <td>0.0</td>\n",
              "      <td>0.0</td>\n",
              "      <td>0.0</td>\n",
              "      <td>0.0</td>\n",
              "      <td>0.0</td>\n",
              "      <td>0.0</td>\n",
              "      <td>0.0</td>\n",
              "      <td>0.0</td>\n",
              "      <td>0.0</td>\n",
              "      <td>...</td>\n",
              "      <td>0.0</td>\n",
              "      <td>0.0</td>\n",
              "      <td>0.0</td>\n",
              "      <td>0.0</td>\n",
              "      <td>0.0</td>\n",
              "      <td>0.0</td>\n",
              "      <td>0.0</td>\n",
              "      <td>0.0</td>\n",
              "      <td>0.0</td>\n",
              "      <td>0.0</td>\n",
              "    </tr>\n",
              "    <tr>\n",
              "      <th>18</th>\n",
              "      <td>0.0</td>\n",
              "      <td>4.0</td>\n",
              "      <td>0.0</td>\n",
              "      <td>0.0</td>\n",
              "      <td>0.0</td>\n",
              "      <td>0.0</td>\n",
              "      <td>3.0</td>\n",
              "      <td>0.0</td>\n",
              "      <td>0.0</td>\n",
              "      <td>3.0</td>\n",
              "      <td>...</td>\n",
              "      <td>0.0</td>\n",
              "      <td>0.0</td>\n",
              "      <td>4.0</td>\n",
              "      <td>0.0</td>\n",
              "      <td>0.0</td>\n",
              "      <td>4.0</td>\n",
              "      <td>0.0</td>\n",
              "      <td>0.0</td>\n",
              "      <td>0.0</td>\n",
              "      <td>0.0</td>\n",
              "    </tr>\n",
              "    <tr>\n",
              "      <th>26</th>\n",
              "      <td>0.0</td>\n",
              "      <td>3.0</td>\n",
              "      <td>0.0</td>\n",
              "      <td>0.0</td>\n",
              "      <td>0.0</td>\n",
              "      <td>0.0</td>\n",
              "      <td>0.0</td>\n",
              "      <td>0.0</td>\n",
              "      <td>0.0</td>\n",
              "      <td>0.0</td>\n",
              "      <td>...</td>\n",
              "      <td>0.0</td>\n",
              "      <td>0.0</td>\n",
              "      <td>0.0</td>\n",
              "      <td>0.0</td>\n",
              "      <td>0.0</td>\n",
              "      <td>0.0</td>\n",
              "      <td>0.0</td>\n",
              "      <td>0.0</td>\n",
              "      <td>0.0</td>\n",
              "      <td>0.0</td>\n",
              "    </tr>\n",
              "  </tbody>\n",
              "</table>\n",
              "<p>5 rows × 22807 columns</p>\n",
              "</div>"
            ],
            "text/plain": [
              "Client_Id  769      1333     1427     1442     1500     1527     2000     \\\n",
              "Movie_Id                                                                   \n",
              "8              0.0      3.0      0.0      0.0      0.0      0.0      0.0   \n",
              "16             0.0      0.0      0.0      0.0      0.0      0.0      0.0   \n",
              "17             0.0      0.0      0.0      0.0      0.0      0.0      0.0   \n",
              "18             0.0      4.0      0.0      0.0      0.0      0.0      3.0   \n",
              "26             0.0      3.0      0.0      0.0      0.0      0.0      0.0   \n",
              "\n",
              "Client_Id  2128     2213     2225     ...  2648465  2648502  2648589  2648730  \\\n",
              "Movie_Id                              ...                                       \n",
              "8              0.0      0.0      0.0  ...      0.0      0.0      0.0      0.0   \n",
              "16             0.0      3.0      0.0  ...      0.0      0.0      0.0      0.0   \n",
              "17             0.0      0.0      0.0  ...      0.0      0.0      0.0      0.0   \n",
              "18             0.0      0.0      3.0  ...      0.0      0.0      4.0      0.0   \n",
              "26             0.0      0.0      0.0  ...      0.0      0.0      0.0      0.0   \n",
              "\n",
              "Client_Id  2648734  2648853  2648869  2648885  2649267  2649285  \n",
              "Movie_Id                                                         \n",
              "8              0.0      0.0      0.0      0.0      0.0      0.0  \n",
              "16             0.0      0.0      0.0      0.0      0.0      0.0  \n",
              "17             0.0      0.0      0.0      0.0      0.0      0.0  \n",
              "18             0.0      4.0      0.0      0.0      0.0      0.0  \n",
              "26             0.0      0.0      0.0      0.0      0.0      0.0  \n",
              "\n",
              "[5 rows x 22807 columns]"
            ]
          },
          "execution_count": 59,
          "metadata": {},
          "output_type": "execute_result"
        }
      ],
      "source": [
        "pivot_user_item.head()"
      ]
    },
    {
      "cell_type": "markdown",
      "metadata": {
        "id": "is5J6WidxiMJ"
      },
      "source": [
        "# RSVD"
      ]
    },
    {
      "cell_type": "markdown",
      "metadata": {
        "id": "mstQpEsNnkJf"
      },
      "source": [
        "Para información mas detallada sobre el algoritmo, consultar el artículo [Finding structure with randomness: Probabilistic algorithms for constructing\n",
        "approximate matrix decompositions](https://arxiv.org/abs/0909.4061), de Halko, Martinsson y Tropp (2011)\n",
        "\n",
        "Dicho artículo emplea métodos probabilistas para tratar de optimizar el cálculo de ciertas descomposiciones matriciales de un modo mas eficiente (computacionalmente hablando)"
      ]
    },
    {
      "cell_type": "markdown",
      "metadata": {
        "id": "J63sXOsdyfr1"
      },
      "source": [
        "Con algunas matrices menos grandes (o pesadas), podríamos utilizar el algoritmo SVD de scipy, o el del módulo \"Surprise\" pero dado el tamaño de la matriz, estos ocuparán mucha RAM y podrían causar problemas (Por ser una matriz dispersa tan grande)"
      ]
    },
    {
      "cell_type": "markdown",
      "metadata": {
        "id": "5Pabh3PeE0uL"
      },
      "source": [
        "El algoritmo consta de 2 pasos importantes:\n",
        "\n",
        "1. Calcula una base aproximada para el rango de $A$. Queremos una matriz $Q$ con $l$ columnas ortonormales ($k \\leqslant l \\leqslant n$) que capture la acción de A.\n",
        "\n",
        "2. Dada dicha matriz $Q$, de tamaño mas pequeño, calcular SVD.\n",
        "\n",
        "La parte aleatoria se utiliza en el paso 1."
      ]
    },
    {
      "cell_type": "markdown",
      "metadata": {
        "id": "P817Z1ilAW1X"
      },
      "source": [
        "La lógica detrás del paso 2 es la siguiente:\n",
        "\n",
        "Dada una matriz ortonormal $Q$ tal que $A \\approx Q Q^{*} A$:\n",
        "\n",
        "- Hacer $B = Q^{*} A$\n",
        "\n",
        "- Calcular SVD de $B$, es decir $B = \\hat{U}\\Sigma V^{*}$\n",
        "\n",
        "- Toma $U = Q \\hat{U}$\n",
        "\n",
        "- Regresa $U$, $\\Sigma$, $V^{*}$"
      ]
    },
    {
      "cell_type": "code",
      "execution_count": 60,
      "metadata": {
        "id": "gBBcJEpgBxCE"
      },
      "outputs": [],
      "source": [
        "def rsvd(A, rank, n_oversamples=None, n_subspace_iters=None,\n",
        "         return_range=False):\n",
        "    \"\"\"Randomized SVD (p. 227 of Halko et al).\n",
        "    :param A:                matriz (m x n) que queremos descomponer.\n",
        "    :param rank:             Rango de aproximación deseado.\n",
        "    :param n_oversamples:    Parametro de sobremuestreo para las muestras aleatorias Gaussianas.\n",
        "    :param n_subspace_iters: Número de power iterations.\n",
        "    :param return_range:     Si `True`, regresa la base aproximada del rango de A, la Q auxiliar.\n",
        "    :return:                 U, S, and Vt como en el SVD truncado.\n",
        "    \"\"\"\n",
        "    if n_oversamples is None:\n",
        "        # This is the default used in the paper.\n",
        "        n_samples = 2 * rank\n",
        "    else:\n",
        "        n_samples = rank + n_oversamples\n",
        "\n",
        "    # Stage A.\n",
        "    Q = find_range(A, n_samples, n_subspace_iters)\n",
        "\n",
        "    # Stage B.\n",
        "    B = Q.T @ A\n",
        "    U_tilde, S, Vt = np.linalg.svd(B)\n",
        "    U = Q @ U_tilde\n",
        "\n",
        "\n",
        "    # Esto es util para calcular el error de nuestra aproximación.\n",
        "    if return_range:\n",
        "        return U, S, Vt, Q\n",
        "    return U, S, Vt"
      ]
    },
    {
      "cell_type": "markdown",
      "metadata": {
        "id": "XbnD5uQ3Ejg4"
      },
      "source": [
        "Sea $l$ la cantidad de vectores Gaussianos aleatorios a tomar de $\\Omega$:\n",
        "\n",
        "- Se toma una matriz Gaussiana de $n\\times l$, $\\Omega$.\n",
        "\n",
        "- Se genera una matriz de $m\\times l$, $Y=A\\Omega$\n",
        "\n",
        "- Se genera una matriz ortonormal $Q$ (utilizando factorización QR) tal que $Y= QR$"
      ]
    },
    {
      "cell_type": "code",
      "execution_count": 61,
      "metadata": {
        "id": "wH65HWGxnXd_"
      },
      "outputs": [],
      "source": [
        "def find_range(A, n_samples, n_subspace_iters=None):\n",
        "    \"\"\"Algoritmo 4.1: Randomized range finder (p. 240 of Halko et al).\n",
        "    Dada una matriz A y un número de muestras, calcula una matriz ortonormal\n",
        "    que aproxime el rango de A.\n",
        "\n",
        "    :param A:                Matriz (m x n).\n",
        "    :param n_samples:        Número de muestras aleatorias Gaussianas.\n",
        "    :param n_subspace_iters: Número de iteraciones de subespacio.\n",
        "    :return:                 Base ortonormal para el rango aproximado de A.\n",
        "    \"\"\"\n",
        "    m, n = A.shape\n",
        "    O = ss.norm.rvs(0, 1, (n, n_samples))\n",
        "    Y = A @ O\n",
        "\n",
        "    if n_subspace_iters:\n",
        "        return subspace_iter(A, Y, n_subspace_iters)\n",
        "    else:\n",
        "        return ortho_basis(Y)"
      ]
    },
    {
      "cell_type": "code",
      "execution_count": 62,
      "metadata": {
        "id": "7C2WA2yunXcD"
      },
      "outputs": [],
      "source": [
        "def subspace_iter(A, Y0, n_iters):\n",
        "    \"\"\"Algorithm 4.4: Randomized subspace iteration (p. 244 of Halko et al).\n",
        "    Usa un algoritmo estable de iteración del subespacio para reducir\n",
        "    los valores (número) de los valores singulares mas pequeños.\n",
        "\n",
        "    :param A:       Matriz (m x n).\n",
        "    :param Y0:      Rango inicial aprixmado de A\n",
        "    :param n_iters: Número de iteracions de subespacio.\n",
        "\n",
        "    :return:        Orthonormalized approximate range of A after power\n",
        "                    iterations.\n",
        "    \"\"\"\n",
        "    Q = ortho_basis(Y0)\n",
        "    for _ in range(n_iters):\n",
        "        Z = ortho_basis(A.T @ Q)\n",
        "        Q = ortho_basis(A @ Z)\n",
        "    return Q"
      ]
    },
    {
      "cell_type": "code",
      "execution_count": 63,
      "metadata": {
        "id": "aRg0D3mFnXZk"
      },
      "outputs": [],
      "source": [
        "def ortho_basis(M):\n",
        "    \"\"\"Calcula la base ortonormal de una matriz.\n",
        "\n",
        "    :param M: Matriz (m x n).\n",
        "    :return:  Base ortonormal de M\n",
        "    \"\"\"\n",
        "    Q, _ = np.linalg.qr(M)  # Compute the qr factorization of a matrix.\n",
        "\n",
        "\n",
        "    return Q"
      ]
    },
    {
      "cell_type": "markdown",
      "metadata": {
        "id": "VoObX3bs0JHY"
      },
      "source": [
        "Nuestra matriz \"pivot_user_item\" tiene dimensiones $m\\times n$, $U$ dimensión $m\\times k$, $S$ la matriz diagonal con los eigenvalores de dimensión $k\\times k$ y $V^{T}$ de dimensión $k\\times n$."
      ]
    },
    {
      "cell_type": "code",
      "execution_count": 64,
      "metadata": {
        "id": "z-8ntbcxnXW8"
      },
      "outputs": [],
      "source": [
        "U, S, Vt = rsvd(np.array(pivot_user_item), rank=100, n_oversamples=None, n_subspace_iters=4)"
      ]
    },
    {
      "cell_type": "code",
      "execution_count": 65,
      "metadata": {
        "colab": {
          "base_uri": "https://localhost:8080/"
        },
        "id": "499Dtg6Y-sLS",
        "outputId": "90c8e255-a19d-480c-b4d8-665d788a93a6"
      },
      "outputs": [
        {
          "data": {
            "text/plain": [
              "((585, 200), (200,), (22807, 22807))"
            ]
          },
          "execution_count": 65,
          "metadata": {},
          "output_type": "execute_result"
        }
      ],
      "source": [
        "U.shape, S.shape, Vt.shape"
      ]
    },
    {
      "cell_type": "code",
      "execution_count": 66,
      "metadata": {
        "colab": {
          "base_uri": "https://localhost:8080/",
          "height": 519
        },
        "id": "HXAfuz2AAlbQ",
        "outputId": "90cb994c-49e0-4459-da22-ed21ee43ed78"
      },
      "outputs": [
        {
          "data": {
            "text/html": [
              "<div>\n",
              "<style scoped>\n",
              "    .dataframe tbody tr th:only-of-type {\n",
              "        vertical-align: middle;\n",
              "    }\n",
              "\n",
              "    .dataframe tbody tr th {\n",
              "        vertical-align: top;\n",
              "    }\n",
              "\n",
              "    .dataframe thead th {\n",
              "        text-align: right;\n",
              "    }\n",
              "</style>\n",
              "<table border=\"1\" class=\"dataframe\">\n",
              "  <thead>\n",
              "    <tr style=\"text-align: right;\">\n",
              "      <th></th>\n",
              "      <th>0</th>\n",
              "      <th>1</th>\n",
              "      <th>2</th>\n",
              "      <th>3</th>\n",
              "      <th>4</th>\n",
              "      <th>5</th>\n",
              "      <th>6</th>\n",
              "      <th>7</th>\n",
              "      <th>8</th>\n",
              "      <th>9</th>\n",
              "      <th>...</th>\n",
              "      <th>190</th>\n",
              "      <th>191</th>\n",
              "      <th>192</th>\n",
              "      <th>193</th>\n",
              "      <th>194</th>\n",
              "      <th>195</th>\n",
              "      <th>196</th>\n",
              "      <th>197</th>\n",
              "      <th>198</th>\n",
              "      <th>199</th>\n",
              "    </tr>\n",
              "    <tr>\n",
              "      <th>Movie_Id</th>\n",
              "      <th></th>\n",
              "      <th></th>\n",
              "      <th></th>\n",
              "      <th></th>\n",
              "      <th></th>\n",
              "      <th></th>\n",
              "      <th></th>\n",
              "      <th></th>\n",
              "      <th></th>\n",
              "      <th></th>\n",
              "      <th></th>\n",
              "      <th></th>\n",
              "      <th></th>\n",
              "      <th></th>\n",
              "      <th></th>\n",
              "      <th></th>\n",
              "      <th></th>\n",
              "      <th></th>\n",
              "      <th></th>\n",
              "      <th></th>\n",
              "      <th></th>\n",
              "    </tr>\n",
              "  </thead>\n",
              "  <tbody>\n",
              "    <tr>\n",
              "      <th>8</th>\n",
              "      <td>0.012124</td>\n",
              "      <td>-0.026558</td>\n",
              "      <td>0.003268</td>\n",
              "      <td>0.009401</td>\n",
              "      <td>-0.000786</td>\n",
              "      <td>0.005864</td>\n",
              "      <td>0.027804</td>\n",
              "      <td>-0.001042</td>\n",
              "      <td>-0.005992</td>\n",
              "      <td>0.003869</td>\n",
              "      <td>...</td>\n",
              "      <td>0.026689</td>\n",
              "      <td>-0.011472</td>\n",
              "      <td>0.003541</td>\n",
              "      <td>0.022136</td>\n",
              "      <td>-0.023279</td>\n",
              "      <td>-0.054461</td>\n",
              "      <td>0.045948</td>\n",
              "      <td>-0.007796</td>\n",
              "      <td>-0.031055</td>\n",
              "      <td>0.015619</td>\n",
              "    </tr>\n",
              "    <tr>\n",
              "      <th>16</th>\n",
              "      <td>0.009674</td>\n",
              "      <td>0.004042</td>\n",
              "      <td>-0.027959</td>\n",
              "      <td>-0.031169</td>\n",
              "      <td>-0.013202</td>\n",
              "      <td>0.001221</td>\n",
              "      <td>0.038187</td>\n",
              "      <td>0.034753</td>\n",
              "      <td>0.002545</td>\n",
              "      <td>-0.003251</td>\n",
              "      <td>...</td>\n",
              "      <td>0.002552</td>\n",
              "      <td>-0.006303</td>\n",
              "      <td>-0.010703</td>\n",
              "      <td>-0.021058</td>\n",
              "      <td>0.001277</td>\n",
              "      <td>0.007115</td>\n",
              "      <td>-0.001842</td>\n",
              "      <td>-0.004818</td>\n",
              "      <td>-0.019025</td>\n",
              "      <td>-0.007905</td>\n",
              "    </tr>\n",
              "    <tr>\n",
              "      <th>17</th>\n",
              "      <td>0.006756</td>\n",
              "      <td>0.014550</td>\n",
              "      <td>-0.000869</td>\n",
              "      <td>-0.015098</td>\n",
              "      <td>0.021418</td>\n",
              "      <td>0.001982</td>\n",
              "      <td>0.022268</td>\n",
              "      <td>-0.013697</td>\n",
              "      <td>-0.025677</td>\n",
              "      <td>0.002335</td>\n",
              "      <td>...</td>\n",
              "      <td>-0.001173</td>\n",
              "      <td>0.001413</td>\n",
              "      <td>-0.007026</td>\n",
              "      <td>-0.003347</td>\n",
              "      <td>-0.002957</td>\n",
              "      <td>-0.004229</td>\n",
              "      <td>0.011865</td>\n",
              "      <td>-0.010290</td>\n",
              "      <td>-0.004715</td>\n",
              "      <td>-0.001062</td>\n",
              "    </tr>\n",
              "    <tr>\n",
              "      <th>18</th>\n",
              "      <td>0.028792</td>\n",
              "      <td>-0.062815</td>\n",
              "      <td>0.020533</td>\n",
              "      <td>-0.014614</td>\n",
              "      <td>-0.031495</td>\n",
              "      <td>-0.026505</td>\n",
              "      <td>0.027940</td>\n",
              "      <td>0.070660</td>\n",
              "      <td>0.007254</td>\n",
              "      <td>0.000666</td>\n",
              "      <td>...</td>\n",
              "      <td>-0.075344</td>\n",
              "      <td>0.009936</td>\n",
              "      <td>0.000746</td>\n",
              "      <td>0.085864</td>\n",
              "      <td>-0.029994</td>\n",
              "      <td>-0.039339</td>\n",
              "      <td>0.022649</td>\n",
              "      <td>-0.013869</td>\n",
              "      <td>-0.040191</td>\n",
              "      <td>-0.049286</td>\n",
              "    </tr>\n",
              "    <tr>\n",
              "      <th>26</th>\n",
              "      <td>0.008027</td>\n",
              "      <td>0.012271</td>\n",
              "      <td>-0.005896</td>\n",
              "      <td>-0.006735</td>\n",
              "      <td>0.025632</td>\n",
              "      <td>-0.016181</td>\n",
              "      <td>0.029959</td>\n",
              "      <td>-0.014521</td>\n",
              "      <td>-0.040319</td>\n",
              "      <td>0.000803</td>\n",
              "      <td>...</td>\n",
              "      <td>0.004881</td>\n",
              "      <td>0.015354</td>\n",
              "      <td>-0.006547</td>\n",
              "      <td>0.007418</td>\n",
              "      <td>0.006764</td>\n",
              "      <td>-0.008830</td>\n",
              "      <td>0.001431</td>\n",
              "      <td>-0.002012</td>\n",
              "      <td>-0.004056</td>\n",
              "      <td>0.008972</td>\n",
              "    </tr>\n",
              "    <tr>\n",
              "      <th>...</th>\n",
              "      <td>...</td>\n",
              "      <td>...</td>\n",
              "      <td>...</td>\n",
              "      <td>...</td>\n",
              "      <td>...</td>\n",
              "      <td>...</td>\n",
              "      <td>...</td>\n",
              "      <td>...</td>\n",
              "      <td>...</td>\n",
              "      <td>...</td>\n",
              "      <td>...</td>\n",
              "      <td>...</td>\n",
              "      <td>...</td>\n",
              "      <td>...</td>\n",
              "      <td>...</td>\n",
              "      <td>...</td>\n",
              "      <td>...</td>\n",
              "      <td>...</td>\n",
              "      <td>...</td>\n",
              "      <td>...</td>\n",
              "      <td>...</td>\n",
              "    </tr>\n",
              "    <tr>\n",
              "      <th>2331</th>\n",
              "      <td>0.004796</td>\n",
              "      <td>-0.013219</td>\n",
              "      <td>0.011325</td>\n",
              "      <td>0.000203</td>\n",
              "      <td>-0.008654</td>\n",
              "      <td>-0.011612</td>\n",
              "      <td>0.021823</td>\n",
              "      <td>0.007464</td>\n",
              "      <td>0.000911</td>\n",
              "      <td>0.010067</td>\n",
              "      <td>...</td>\n",
              "      <td>0.016019</td>\n",
              "      <td>-0.005294</td>\n",
              "      <td>0.005474</td>\n",
              "      <td>-0.031036</td>\n",
              "      <td>-0.010484</td>\n",
              "      <td>0.005153</td>\n",
              "      <td>-0.019169</td>\n",
              "      <td>0.012900</td>\n",
              "      <td>0.000107</td>\n",
              "      <td>0.004038</td>\n",
              "    </tr>\n",
              "    <tr>\n",
              "      <th>2332</th>\n",
              "      <td>0.024078</td>\n",
              "      <td>-0.059355</td>\n",
              "      <td>0.053143</td>\n",
              "      <td>-0.064695</td>\n",
              "      <td>-0.030074</td>\n",
              "      <td>-0.017460</td>\n",
              "      <td>-0.014205</td>\n",
              "      <td>-0.051748</td>\n",
              "      <td>-0.032886</td>\n",
              "      <td>-0.006268</td>\n",
              "      <td>...</td>\n",
              "      <td>-0.021655</td>\n",
              "      <td>-0.039245</td>\n",
              "      <td>-0.111172</td>\n",
              "      <td>-0.011492</td>\n",
              "      <td>-0.023181</td>\n",
              "      <td>-0.013483</td>\n",
              "      <td>0.050435</td>\n",
              "      <td>-0.068301</td>\n",
              "      <td>0.031402</td>\n",
              "      <td>-0.072976</td>\n",
              "    </tr>\n",
              "    <tr>\n",
              "      <th>2337</th>\n",
              "      <td>0.007953</td>\n",
              "      <td>0.015430</td>\n",
              "      <td>-0.015913</td>\n",
              "      <td>-0.013199</td>\n",
              "      <td>-0.002623</td>\n",
              "      <td>-0.007919</td>\n",
              "      <td>0.012737</td>\n",
              "      <td>0.015849</td>\n",
              "      <td>-0.038082</td>\n",
              "      <td>-0.014059</td>\n",
              "      <td>...</td>\n",
              "      <td>0.021139</td>\n",
              "      <td>0.000134</td>\n",
              "      <td>-0.005573</td>\n",
              "      <td>-0.015193</td>\n",
              "      <td>-0.003866</td>\n",
              "      <td>-0.004120</td>\n",
              "      <td>-0.001136</td>\n",
              "      <td>-0.011606</td>\n",
              "      <td>-0.009431</td>\n",
              "      <td>-0.011641</td>\n",
              "    </tr>\n",
              "    <tr>\n",
              "      <th>2338</th>\n",
              "      <td>0.007453</td>\n",
              "      <td>0.000827</td>\n",
              "      <td>-0.007204</td>\n",
              "      <td>-0.000040</td>\n",
              "      <td>0.006682</td>\n",
              "      <td>-0.022045</td>\n",
              "      <td>0.037694</td>\n",
              "      <td>0.001724</td>\n",
              "      <td>-0.005497</td>\n",
              "      <td>0.007737</td>\n",
              "      <td>...</td>\n",
              "      <td>0.006869</td>\n",
              "      <td>0.004124</td>\n",
              "      <td>0.014451</td>\n",
              "      <td>-0.005776</td>\n",
              "      <td>-0.006667</td>\n",
              "      <td>0.000641</td>\n",
              "      <td>-0.010587</td>\n",
              "      <td>0.007176</td>\n",
              "      <td>-0.014767</td>\n",
              "      <td>0.001716</td>\n",
              "    </tr>\n",
              "    <tr>\n",
              "      <th>2340</th>\n",
              "      <td>0.011180</td>\n",
              "      <td>0.002138</td>\n",
              "      <td>-0.000543</td>\n",
              "      <td>0.000157</td>\n",
              "      <td>-0.018542</td>\n",
              "      <td>-0.009575</td>\n",
              "      <td>-0.011099</td>\n",
              "      <td>0.024120</td>\n",
              "      <td>-0.010830</td>\n",
              "      <td>-0.008674</td>\n",
              "      <td>...</td>\n",
              "      <td>-0.015913</td>\n",
              "      <td>0.010822</td>\n",
              "      <td>0.002453</td>\n",
              "      <td>0.009307</td>\n",
              "      <td>-0.027326</td>\n",
              "      <td>-0.019139</td>\n",
              "      <td>-0.011093</td>\n",
              "      <td>0.007946</td>\n",
              "      <td>0.021811</td>\n",
              "      <td>0.013057</td>\n",
              "    </tr>\n",
              "  </tbody>\n",
              "</table>\n",
              "<p>585 rows × 200 columns</p>\n",
              "</div>"
            ],
            "text/plain": [
              "               0         1         2         3         4         5    \\\n",
              "Movie_Id                                                               \n",
              "8         0.012124 -0.026558  0.003268  0.009401 -0.000786  0.005864   \n",
              "16        0.009674  0.004042 -0.027959 -0.031169 -0.013202  0.001221   \n",
              "17        0.006756  0.014550 -0.000869 -0.015098  0.021418  0.001982   \n",
              "18        0.028792 -0.062815  0.020533 -0.014614 -0.031495 -0.026505   \n",
              "26        0.008027  0.012271 -0.005896 -0.006735  0.025632 -0.016181   \n",
              "...            ...       ...       ...       ...       ...       ...   \n",
              "2331      0.004796 -0.013219  0.011325  0.000203 -0.008654 -0.011612   \n",
              "2332      0.024078 -0.059355  0.053143 -0.064695 -0.030074 -0.017460   \n",
              "2337      0.007953  0.015430 -0.015913 -0.013199 -0.002623 -0.007919   \n",
              "2338      0.007453  0.000827 -0.007204 -0.000040  0.006682 -0.022045   \n",
              "2340      0.011180  0.002138 -0.000543  0.000157 -0.018542 -0.009575   \n",
              "\n",
              "               6         7         8         9    ...       190       191  \\\n",
              "Movie_Id                                          ...                       \n",
              "8         0.027804 -0.001042 -0.005992  0.003869  ...  0.026689 -0.011472   \n",
              "16        0.038187  0.034753  0.002545 -0.003251  ...  0.002552 -0.006303   \n",
              "17        0.022268 -0.013697 -0.025677  0.002335  ... -0.001173  0.001413   \n",
              "18        0.027940  0.070660  0.007254  0.000666  ... -0.075344  0.009936   \n",
              "26        0.029959 -0.014521 -0.040319  0.000803  ...  0.004881  0.015354   \n",
              "...            ...       ...       ...       ...  ...       ...       ...   \n",
              "2331      0.021823  0.007464  0.000911  0.010067  ...  0.016019 -0.005294   \n",
              "2332     -0.014205 -0.051748 -0.032886 -0.006268  ... -0.021655 -0.039245   \n",
              "2337      0.012737  0.015849 -0.038082 -0.014059  ...  0.021139  0.000134   \n",
              "2338      0.037694  0.001724 -0.005497  0.007737  ...  0.006869  0.004124   \n",
              "2340     -0.011099  0.024120 -0.010830 -0.008674  ... -0.015913  0.010822   \n",
              "\n",
              "               192       193       194       195       196       197  \\\n",
              "Movie_Id                                                               \n",
              "8         0.003541  0.022136 -0.023279 -0.054461  0.045948 -0.007796   \n",
              "16       -0.010703 -0.021058  0.001277  0.007115 -0.001842 -0.004818   \n",
              "17       -0.007026 -0.003347 -0.002957 -0.004229  0.011865 -0.010290   \n",
              "18        0.000746  0.085864 -0.029994 -0.039339  0.022649 -0.013869   \n",
              "26       -0.006547  0.007418  0.006764 -0.008830  0.001431 -0.002012   \n",
              "...            ...       ...       ...       ...       ...       ...   \n",
              "2331      0.005474 -0.031036 -0.010484  0.005153 -0.019169  0.012900   \n",
              "2332     -0.111172 -0.011492 -0.023181 -0.013483  0.050435 -0.068301   \n",
              "2337     -0.005573 -0.015193 -0.003866 -0.004120 -0.001136 -0.011606   \n",
              "2338      0.014451 -0.005776 -0.006667  0.000641 -0.010587  0.007176   \n",
              "2340      0.002453  0.009307 -0.027326 -0.019139 -0.011093  0.007946   \n",
              "\n",
              "               198       199  \n",
              "Movie_Id                      \n",
              "8        -0.031055  0.015619  \n",
              "16       -0.019025 -0.007905  \n",
              "17       -0.004715 -0.001062  \n",
              "18       -0.040191 -0.049286  \n",
              "26       -0.004056  0.008972  \n",
              "...            ...       ...  \n",
              "2331      0.000107  0.004038  \n",
              "2332      0.031402 -0.072976  \n",
              "2337     -0.009431 -0.011641  \n",
              "2338     -0.014767  0.001716  \n",
              "2340      0.021811  0.013057  \n",
              "\n",
              "[585 rows x 200 columns]"
            ]
          },
          "execution_count": 66,
          "metadata": {},
          "output_type": "execute_result"
        }
      ],
      "source": [
        "U_df = pd.DataFrame(U, index=pivot_user_item.index)\n",
        "U_df"
      ]
    },
    {
      "cell_type": "markdown",
      "metadata": {
        "id": "1IqwwHU8BZL4"
      },
      "source": [
        "Matriz de distancias entre peliculas"
      ]
    },
    {
      "cell_type": "code",
      "execution_count": 67,
      "metadata": {
        "id": "MksP-lQSB7yd"
      },
      "outputs": [],
      "source": [
        "from sklearn.metrics.pairwise import cosine_similarity"
      ]
    },
    {
      "cell_type": "code",
      "execution_count": 68,
      "metadata": {
        "colab": {
          "base_uri": "https://localhost:8080/"
        },
        "id": "Flk-TC11CRgP",
        "outputId": "6d7fb31c-b722-486e-8904-9ff31a87ee35"
      },
      "outputs": [
        {
          "name": "stdout",
          "output_type": "stream",
          "text": [
            "[[ 1.          0.03121001  0.07142552 ...  0.08510785  0.18463526\n",
            "  -0.05000057]\n",
            " [ 0.03121001  1.          0.02529877 ...  0.22563486  0.16738458\n",
            "   0.04155152]\n",
            " [ 0.07142552  0.02529877  1.         ...  0.23716005  0.12752823\n",
            "  -0.16177948]\n",
            " ...\n",
            " [ 0.08510785  0.22563486  0.23716005 ...  1.          0.072267\n",
            "   0.10915262]\n",
            " [ 0.18463526  0.16738458  0.12752823 ...  0.072267    1.\n",
            "  -0.07868217]\n",
            " [-0.05000057  0.04155152 -0.16177948 ...  0.10915262 -0.07868217\n",
            "   1.        ]]\n",
            "CPU times: user 24.7 s, sys: 434 ms, total: 25.1 s\n",
            "Wall time: 25.1 s\n"
          ]
        }
      ],
      "source": [
        "%%time\n",
        "n,m = pivot_user_item.shape\n",
        "MU = np.zeros([n,n])\n",
        "for i in range(n):\n",
        "  for j in range(i,n):\n",
        "    MU[i,j] = MU[j,i] = cosine_similarity([U_df.iloc[i,:], U_df.iloc[j,:]])[1][0]\n",
        "\n",
        "print(MU)"
      ]
    },
    {
      "cell_type": "code",
      "execution_count": 69,
      "metadata": {
        "id": "QdB2xUAP4H4Y"
      },
      "outputs": [],
      "source": [
        "from numpy.linalg import matrix_rank"
      ]
    },
    {
      "cell_type": "code",
      "execution_count": 70,
      "metadata": {
        "colab": {
          "base_uri": "https://localhost:8080/"
        },
        "id": "kfe1lA294LSQ",
        "outputId": "0015dce1-8705-4dc0-9a3a-af1e2c8ba43b"
      },
      "outputs": [
        {
          "name": "stdout",
          "output_type": "stream",
          "text": [
            "585\n"
          ]
        }
      ],
      "source": [
        "print(matrix_rank(np.array(pivot_user_item)))"
      ]
    },
    {
      "cell_type": "code",
      "execution_count": 71,
      "metadata": {
        "colab": {
          "base_uri": "https://localhost:8080/"
        },
        "id": "p8xwpQPx4WEZ",
        "outputId": "17d804fe-4a52-4b74-8e66-78281d1ce231"
      },
      "outputs": [
        {
          "name": "stdout",
          "output_type": "stream",
          "text": [
            "200\n"
          ]
        }
      ],
      "source": [
        "print(matrix_rank(U))"
      ]
    }
  ],
  "metadata": {
    "colab": {
      "include_colab_link": true,
      "provenance": []
    },
    "kernelspec": {
      "display_name": "Python 3",
      "name": "python3"
    },
    "language_info": {
      "codemirror_mode": {
        "name": "ipython",
        "version": 3
      },
      "file_extension": ".py",
      "mimetype": "text/x-python",
      "name": "python",
      "nbconvert_exporter": "python",
      "pygments_lexer": "ipython3",
      "version": "3.9.6"
    }
  },
  "nbformat": 4,
  "nbformat_minor": 0
}
