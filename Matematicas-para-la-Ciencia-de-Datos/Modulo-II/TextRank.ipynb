{
  "cells": [
    {
      "cell_type": "markdown",
      "metadata": {
        "colab_type": "text",
        "id": "view-in-github"
      },
      "source": [
        "<a href=\"https://colab.research.google.com/github/anelglvz/Matematicas_Ciencia_Datos/blob/main/%C3%81lgebra/Textrank.ipynb\" target=\"_parent\"><img src=\"https://colab.research.google.com/assets/colab-badge.svg\" alt=\"Open In Colab\"/></a>"
      ]
    },
    {
      "cell_type": "markdown",
      "metadata": {
        "id": "ccYq5VAqlz-T"
      },
      "source": [
        "## Implementación de TextRank para la obtención de resúmenes"
      ]
    },
    {
      "cell_type": "markdown",
      "metadata": {
        "id": "QkXRhT3nlsuC"
      },
      "source": [
        "En este Notebook se implementará TextRank para obtener un resumen con las oraciones clave de todo un texto."
      ]
    },
    {
      "cell_type": "markdown",
      "metadata": {
        "id": "CDdVl3jFU6pW"
      },
      "source": [
        "# Dependencias"
      ]
    },
    {
      "cell_type": "code",
      "execution_count": null,
      "metadata": {
        "id": "m5panRZIU04F"
      },
      "outputs": [],
      "source": [
        "!pip3 install wikipedia"
      ]
    },
    {
      "cell_type": "code",
      "execution_count": null,
      "metadata": {},
      "outputs": [],
      "source": [
        "!pip3 install 'txtai[pipeline]'"
      ]
    },
    {
      "cell_type": "code",
      "execution_count": null,
      "metadata": {},
      "outputs": [],
      "source": [
        "!pip3 install huggingface_hub==0.24.1"
      ]
    },
    {
      "cell_type": "code",
      "execution_count": 5,
      "metadata": {
        "colab": {
          "base_uri": "https://localhost:8080/"
        },
        "id": "S_urJE6MrUmm",
        "outputId": "f9857373-d1b1-4b5d-9c1c-da369f60b073"
      },
      "outputs": [
        {
          "name": "stderr",
          "output_type": "stream",
          "text": [
            "/Users/pedrom2/Library/Python/3.9/lib/python/site-packages/urllib3/__init__.py:35: NotOpenSSLWarning: urllib3 v2 only supports OpenSSL 1.1.1+, currently the 'ssl' module is compiled with 'LibreSSL 2.8.3'. See: https://github.com/urllib3/urllib3/issues/3020\n",
            "  warnings.warn(\n"
          ]
        }
      ],
      "source": [
        "import re\n",
        "\n",
        "import numpy as np\n",
        "import scipy.linalg as splinalg\n",
        "\n",
        "import nltk\n",
        "from nltk.tokenize import sent_tokenize, word_tokenize\n",
        "from nltk.corpus import stopwords\n",
        "from nltk.stem import PorterStemmer\n",
        "\n",
        "import wikipedia\n",
        "\n",
        "from txtai.pipeline import Translation"
      ]
    },
    {
      "cell_type": "code",
      "execution_count": 6,
      "metadata": {
        "colab": {
          "base_uri": "https://localhost:8080/"
        },
        "id": "UxckIS4y1EMR",
        "outputId": "09eec1de-33a1-44d6-9295-528c91d448c7"
      },
      "outputs": [
        {
          "name": "stderr",
          "output_type": "stream",
          "text": [
            "[nltk_data] Downloading package punkt to /Users/pedrom2/nltk_data...\n",
            "[nltk_data]   Package punkt is already up-to-date!\n",
            "[nltk_data] Downloading package stopwords to\n",
            "[nltk_data]     /Users/pedrom2/nltk_data...\n",
            "[nltk_data]   Package stopwords is already up-to-date!\n",
            "[nltk_data] Downloading package punkt_tab to\n",
            "[nltk_data]     /Users/pedrom2/nltk_data...\n",
            "[nltk_data]   Package punkt_tab is already up-to-date!\n"
          ]
        },
        {
          "data": {
            "text/plain": [
              "True"
            ]
          },
          "execution_count": 6,
          "metadata": {},
          "output_type": "execute_result"
        }
      ],
      "source": [
        "nltk.download(\"punkt\")\n",
        "nltk.download('stopwords')\n",
        "nltk.download('punkt_tab')"
      ]
    },
    {
      "cell_type": "code",
      "execution_count": 7,
      "metadata": {
        "colab": {
          "base_uri": "https://localhost:8080/"
        },
        "id": "Ov9GnghY7iv1",
        "outputId": "3561c146-3d7c-4bcc-cc09-7f4cbd051e19"
      },
      "outputs": [
        {
          "name": "stdout",
          "output_type": "stream",
          "text": [
            "['i', 'me', 'my', 'myself', 'we', 'our', 'ours', 'ourselves', 'you', \"you're\"]\n"
          ]
        }
      ],
      "source": [
        "# Radicalizador\n",
        "stemmer = PorterStemmer()\n",
        "\n",
        "# Palabras de paro\n",
        "cached_stopwords = stopwords.words('english')\n",
        "print(cached_stopwords[:10])\n",
        "\n",
        "# Traductor\n",
        "translate = Translation()"
      ]
    },
    {
      "cell_type": "code",
      "execution_count": 8,
      "metadata": {
        "colab": {
          "base_uri": "https://localhost:8080/"
        },
        "id": "IhjOZlBJ6CoE",
        "outputId": "1107fba1-4ecb-48a8-b7a4-c44a68e8f25b"
      },
      "outputs": [
        {
          "name": "stdout",
          "output_type": "stream",
          "text": [
            "['Hola', 'Hola', 'Hola', 'Hola', 'Hola', 'Hola', 'Hola', 'Hola', 'Hola']\n",
            "['Hola', 'Hola', 'Hola', 'Hola', 'Hola', 'Hola', 'Hola', 'Hola', 'Hola']\n"
          ]
        }
      ],
      "source": [
        "# Ejemplo lista por comprension\n",
        "lista = []\n",
        "for i in range(9):\n",
        "  lista.append('Hola')\n",
        "\n",
        "print(lista)\n",
        "\n",
        "# Otro modo de crearla\n",
        "otra_lista = ['Hola' for i in range(9)]\n",
        "\n",
        "print(otra_lista)"
      ]
    },
    {
      "cell_type": "markdown",
      "metadata": {
        "id": "WyYn_meLU_SE"
      },
      "source": [
        "# Datos"
      ]
    },
    {
      "cell_type": "markdown",
      "metadata": {
        "id": "rxh6OST4lp95"
      },
      "source": [
        "Los datos que ocuparemos serán el texto de páginas de Wikipedia. Descargaremos el texto ocupando el módulo [```wikipedia```](https://pypi.org/project/wikipedia/) que es un \"wrapper\" del API de Wikipedia. A este texto lo dividiremos en oraciones, procesaremos cada oración, radicalizaremos cada palabra, y aplicaremos TextRank para obtener las oraciones más importantes de todo el documento."
      ]
    },
    {
      "cell_type": "markdown",
      "metadata": {
        "id": "qpg8u735nGUj"
      },
      "source": [
        "## Lectura de los datos"
      ]
    },
    {
      "cell_type": "markdown",
      "metadata": {
        "id": "ADUkdhJmnQK0"
      },
      "source": [
        "Descargamos artículos de Wikipedia."
      ]
    },
    {
      "cell_type": "code",
      "execution_count": 9,
      "metadata": {
        "colab": {
          "base_uri": "https://localhost:8080/"
        },
        "id": "JXH8g08gSHAO",
        "outputId": "775c9fbd-a175-4cac-faa8-ac34f4fa5c63"
      },
      "outputs": [
        {
          "name": "stdout",
          "output_type": "stream",
          "text": [
            "The Mexican oil expropriation (Spanish: expropiación petrolera) was the nationalization of all petroleum reserves, facilities, and foreign oil companies in Mexico on March 18, 1938.  In accordance with Article 27 of the Constitution of 1917, President Lázaro Cárdenas declared that all mineral and oil reserves found within Mexico belong to \"the nation\", i.e., the federal government. The Mexican government established a state-owned petroleum company, Petróleos Mexicanos, or PEMEX.  For a short period, this measure caused an international boycott of Mexican products in the following years, especially by the United States, the United Kingdom, and the Netherlands, but with the outbreak of World War II and the alliance between Mexico and the Allies, the disputes with private companies over compensation were resolved. The anniversary, March 18, is now a Mexican civic holiday.\n",
            "\n",
            "\n",
            "== Background ==\n",
            "\n",
            "On August 16, 1935, the Petroleum Workers Union of Mexico (Sindicato de Trabajadores Petroleros de la República Mexicana) was formed and one of the first actions was the writing of a lengthy draft contract transmitted to the petroleum companies demanding a 40-hour working week, a full salary paid in the event of sickness, and the payment of 65 million pesos towards benefits and wages. The foreign oil companies refused to sign the agreement, and counter offered with a payment of 14 million pesos toward wages and benefits.\n",
            "On November 3, 1937, the union demanded that the companies sign the collective agreement and on May 17, the union summoned a strike in case their demands were not met. On May 28 the strike became effective throughout the country.\n",
            "The petroleum workers' struggle was well regarded by the President and the population despite problems caused by the petroleum shortage. Due to these problems, the union accepted a lift of the strike on June 9, after the president urged them to present their case before the General Arbitration and Conciliation Board (Junta General de Conciliación y Arbitraje). In July, as instructed by the arbitration board, a commission of financial experts was formed that investigated the petroleum companies' finances, concluding that their profits easily permitted them to cover the demands of the workers. The report stated that just one company (El Aguila) had received annual profits of over 55 million pesos. The arbitration board concluded that the oil companies should pay 26 million pesos for wages and benefits to the workers. \n",
            "The companies, however, insisted the demands would cripple production and bankrupt them, and refused to pay. The president once again intervened to mediate between the parties, and met with oil company representatives at the National Palace on September 2. In this meeting, one of the El Aguila representatives took issue with the description of it being a foreign company, and stated that El Aguila was a Mexican company. In response, Jesus Silva Herzog (present in the meeting) responded with a financial newspaper from London that cited a report from the Royal Dutch Shell of 1928: \"Our Mexican subsidiary, Oil Company El Aguila, has obtained good returns during the last fiscal cycle.\" It was also explained that El Aguila de Mexico would set the price of an oil barrel at 1.96 when sold to The Eagle Shipping company. This price was below the market value of US$3.19 per barrel. This way profits would be hidden to the Mexican treasury, and taxes were saved.\n",
            "\n",
            "But, on December 8, the companies hired other unemployed workers and had not responded to the arbitration board. On December 18, 1937, the board gave a verdict in favor of the union by means of a \"laudo\" (binding judgment in arbitration) which demanded that the companies fulfil the requirements of the petitions and pay 26 million pesos in lost salaries. The petroleum companies initiated a lawsuit on January 2, 1938 before the Mexican Supreme Court to protect their property from the labor union and arbitration board, which denied the request.\n",
            "Consequently, the foreign companies rebelled against the imposed contract, and the maximum Judicial Authority responded by rendering a decision on March 1, giving the companies until March 7 to pay the 26 million pesos penalty.\n",
            "In 1935, all companies in the business of extraction, processing, and exporting of oil in Mexico were foreign companies with foreign capital. These companies attempted to block the creation of labor unions and used legal and illegal tactics to do so. However, the creation of individual unions within each company was made possible, but work conditions differed from one another.\n",
            "On December 27, 1935, the Sindicato Único de Trabajadores Petroleros was created, despite the legal opposition in the states of Tamaulipas and Veracruz. On January 29, 1936, this union joined the Comité de Defensa Proletaria (\"Committee of Proletarian Defense\") which would become in February the Confederation of Mexican Workers (CTM). On July 20, the union celebrated its first convention, in which it was proposed a project of general contracts for each oil company and it was decided on a strike to push towards an agreement.\n",
            "Lázaro Cárdenas intervened between the union and the oil companies in order to force an agreement on the contract. The strike was delayed for six months, but the companies never agreed to the contract and on May 28, the strike took place. The entire country was paralyzed for 12 days, with consumers unable to buy gasoline. Cárdenas convinced the union to end the strike until a decision by the companies could be made. However, the companies declared themselves unable to meet the demands because of financial problems. Cárdenas ordered an investigation and on August 3, and the findings were that the Mexican oil industry produced higher returns than the U.S. oil industry.\n",
            "\n",
            "\n",
            "== Legal conflicts ==\n",
            "After the publication of the findings, the oil companies threatened to leave Mexico and take all of their capital with them. The government entity in charge of the conflict between these companies and the union, the Junta Federal de Conciliación y Arbitraje (Federal Conciliation and Arbitration Board), was not able to make a decision quickly and the union declared a 24-hour strike in protest on December 8.\n",
            "On December 18, the Arbitration Board declared in favor of the union. The oil companies had to pay 26 million pesos of wages lost because of the strike, but they appealed to the Supreme Court. The Supreme Court then rejected the appeal and ordered them to raise salaries and improve working conditions for the union members. The oil companies protested this decision and President Cárdenas mediated a compromise; the union would accept 26 million pesos. Cárdenas offered to end the strike if the oil companies paid the sum. According to witnesses of this meeting, representatives of the oil companies asked the President \"Who can guarantee that the strike will be over\", to which the President replied \"I, the President of the Republic.\" After the businessmen asked with sarcasm \"You?\" President Cárdenas ended the meeting saying \"Sirs, we are finished!\". Cárdenas moved to expropriate the oil industry and create a national oil company, PEMEX.\n",
            "\n",
            "\n",
            "== Oil Expropriation Day, March 18, 1938 ==\n",
            "On March 18, 1938 President Cárdenas embarked on the expropriation of all oil resources and facilities by the state, nationalizing the U.S. and Anglo-Dutch (Mexican Eagle Petroleum Company) operating companies. Two hours before informing his cabinet of his decision, he made the announcement on the radio to the rest of the country. Five days later, a crowd of 200,000 (according to the press) rallied in the zócalo in support of Cárdenas's action. On April 12, 1938, a crowd of thousands of all classes gathered in front of the Palacio de Bellas Artes to make donations to pay the debt to foreign companies. Donations varied from chickens to jewelry. (see photo).\n",
            "On June 7, 1938, President Cárdenas issued a decree creating Petróleos Mexicanos (PEMEX), with exclusive rights over exploration, extraction, refining, and commercialization of oil in Mexico. On June 20, PEMEX started operations.\n",
            "\n",
            "\n",
            "== Opposition ==\n",
            "\n",
            "\n",
            "=== International ===\n",
            "In retaliation, the oil companies initiated a public relations campaign against Mexico, urging people to stop buying Mexican goods and lobbying to embargo U.S. technology to Mexico. Many foreign governments closed their markets to Mexican oil, hoping that PEMEX would drown in its own oil. However, the U.S. government of Franklin Delano Roosevelt had issued the Good Neighbor Policy, aiming to recalibrate U.S.-Latin American relations; the U.S. government did not intervene to aid U.S. oil companies affected by the Mexican  expropriation. Mexican finances suffered due to the boycott, the Mexican peso was devalued, and an immediate 20% increase in prices was suffered by the Mexican population. In a trip to New York to negotiate with oil companies,  Mexican treasury minister, Suarez, serendipitously met an American intermediate, William Rhodes Davis from Davis Oil Company, who had a refinery in Europe, and asked for a collaboration. Davis mediated between Mexico and Germany to a barter agreement where Mexico would give crude oil to Davis, who then would provide refined oil products to Germany in exchange for machinery to Mexico. By 1940, Mexico had an agreement with the American Sinclair Oil Corporation to sell crude oil to the U.S, and the full-scale war in Europe guaranteed that Mexican oil would have international customers. PEMEX developed into one of the largest oil companies in the world and helped Mexico become the world's seventh-largest oil exporter.\n",
            "\n",
            "\n",
            "=== Domestic ===\n",
            "Saturnino Cedillo, a cacique from San Luis Potosí and former Secretary of Agriculture, showed the strongest opposition to Cárdenas's measures. Cedillo had in the past supported Cárdenas in a conflict with ex-President Plutarco Elías Calles, but disagreed with his plan of reforms. On May 15 of the same year, the state congress of San Luis Potosí issued a decree where it refused to recognize Cárdenas as President and declared that the expropiación petrolera did not benefit the economy of Mexico. Cárdenas did not consider this a serious threat and minimized efforts to suppress the rebellion, instead choosing persuasion. The US government did not support the rebellion because it was more concerned that fascist and communist movements from Europe would spread to Mexico.\n",
            "The key to the success of the measures taken by Cárdenas was not just to control the opposition, but to develop and train qualified domestic personnel who could keep afloat an industry that had been maintained thus far by foreign management. The government relied on the Sindicato de Trabajadores Petroleros de la República Mexicana (STPRM, or the Union of Oil Workers of the Mexican Republic) to resolve disagreements over the management of oil resources, and deal with threats of strikes and sabotage. In spite of technical challenges, the local workers who replaced the foreign technicians succeeded in making the new nationalized oil industry work. Josephus Daniels, U.S. ambassador to Mexico, explained to President Franklin D. Roosevelt and Secretary of State Cordell Hull that Cárdenas' reforms could not be undone, since his position as president and the position of PEMEX were secure. PEMEX was and remains a source of collective national pride, and is an international symbol of Mexico.\n",
            "Critics of the expropriation argue that since PEMEX took control of the nation's petroleum, it has suffered from corruption in administrations since that of Cárdenas, and point to its political use by PRI (Partido Revolucionario Institucional) and the PAN (Partido Accion Nacional). In addition, the casus belli of the expropriation was a wage hike of 26 million pesos. In fact, in the short run following nationalization, not only was the promised wage hike postponed indefinitely, wages were actually cut. A tug of war continues between capitalist strategists who favor privatization and popular support for PEMEX as a nationalization success and the backbone of Mexico's economic independence from manipulation by foreign owners and investors. In 2013 a series of privatization measures were undertaken by the President Peña Nieto; in 2019 attempts to walk back such measures and regain Mexican national control over PEMEX were begun by the populist left government of López Obrador.\n",
            "\n",
            "\n",
            "== See also ==\n",
            "\n",
            "Nationalization of oil supplies\n",
            "Economic nationalism\n",
            "Petroleum industry in Mexico\n",
            "\n",
            "\n",
            "== References ==\n",
            "\n",
            "\n",
            "== Further reading ==\n",
            "Brown, Jonathan C. Oil and Revolution in Mexico. Berkeley: University of California Press 1993.\n",
            "Brown, Jonathan C. and Alan Knight, eds.  The Mexican Petroleum Industry in the Twentieth Century. Austin: University of Texas Press 1992.\n",
            "Gordon, Wendell. The Expropriation of Foreign-Owned Property in Mexico (1941)\n",
            "Hall, Linda B. Oil, Banks, and Politics: the United States and Postrevolutionary Mexico, 1917-1924. Austin: University of Texas Press 1995.\n",
            "Jayne, Catherine E. Oil, war, and Anglo-American relations: American and British reactions to Mexico's expropriation of foreign oil properties, 1937-1941 (Praeger, 2001)\n",
            "Maurer, Noel. \"The empire struck back: sanctions and compensation in the Mexican oil expropriation of 1938.\" Journal of Economic History 71.03 (2011): 590–615. online\n",
            "Meyer, Lorenzo. Mexico and the United States in the oil controversy, 1917–1942 (University of Texas Press, 2014)\n",
            "Rippy, Merrill. Oil and the Mexican Revolution. Leiden: Brill 1972.\n",
            "Wirth, John D., ed. Latin American Oil Companies and the Politics of Energy. Lincoln: University of Nebraska Press 1985.\n"
          ]
        }
      ],
      "source": [
        "wiki = wikipedia.page('Expropiación del petróleo en México')\n",
        "book = wiki.content\n",
        "print(book)"
      ]
    },
    {
      "cell_type": "markdown",
      "metadata": {
        "id": "V9o2M4-23kIo"
      },
      "source": [
        "## Procesamiento"
      ]
    },
    {
      "cell_type": "markdown",
      "metadata": {
        "id": "cQTst86Zm5Ew"
      },
      "source": [
        "Dividimos el texto en oraciones."
      ]
    },
    {
      "cell_type": "code",
      "execution_count": 10,
      "metadata": {
        "colab": {
          "base_uri": "https://localhost:8080/"
        },
        "id": "UudewwgC0npT",
        "outputId": "10cbe31f-e670-4548-9ad3-1a9b5fd9d477"
      },
      "outputs": [
        {
          "name": "stdout",
          "output_type": "stream",
          "text": [
            "# oraciones: 98\n",
            "The Mexican oil expropriation (Spanish: expropiación petrolera) was the nationalization of all petroleum reserves, facilities, and foreign oil companies in Mexico on March 18, 1938.\n",
            "\n",
            "...Fin de la oración...\n",
            "\n",
            "In accordance with Article 27 of the Constitution of 1917, President Lázaro Cárdenas declared that all mineral and oil reserves found within Mexico belong to \"the nation\", i.e., the federal government.\n",
            "\n",
            "...Fin de la oración...\n",
            "\n",
            "The Mexican government established a state-owned petroleum company, Petróleos Mexicanos, or PEMEX.\n",
            "\n",
            "...Fin de la oración...\n",
            "\n"
          ]
        }
      ],
      "source": [
        "sentences = [x for x in sent_tokenize(book)]\n",
        "print(f\"# oraciones: {len(sentences)}\")\n",
        "for sentence in sentences[:3]:\n",
        "    print(sentence)\n",
        "    print()\n",
        "    print(\"...Fin de la oración...\")\n",
        "    print()\n"
      ]
    },
    {
      "cell_type": "markdown",
      "metadata": {
        "id": "VX8wBpNYnUV1"
      },
      "source": [
        "convertimos a minúsculas, eliminamos stopwords, eliminamos signos de puntuación y radicalizamos."
      ]
    },
    {
      "cell_type": "code",
      "execution_count": 11,
      "metadata": {
        "colab": {
          "base_uri": "https://localhost:8080/"
        },
        "id": "HhJPqlaB5fh6",
        "outputId": "2530a311-5a66-47cb-a24b-6647eb58bb25"
      },
      "outputs": [
        {
          "data": {
            "text/plain": [
              "['the',\n",
              " 'mexican',\n",
              " 'oil',\n",
              " 'expropri',\n",
              " 'spanish',\n",
              " 'expropiacin',\n",
              " 'petrolera',\n",
              " 'nation',\n",
              " 'petroleum',\n",
              " 'reserv',\n",
              " 'facil',\n",
              " 'foreign',\n",
              " 'oil',\n",
              " 'compani',\n",
              " 'mexico',\n",
              " 'march',\n",
              " '']"
            ]
          },
          "execution_count": 11,
          "metadata": {},
          "output_type": "execute_result"
        }
      ],
      "source": [
        "sent_low = [[stemmer.stem(re.sub('[^a-z]', \"\", word.lower())) for word in word_tokenize(sentence) if word not in cached_stopwords and len(word) > 2] for sentence in sentences]\n",
        "sent_low[0]"
      ]
    },
    {
      "cell_type": "markdown",
      "metadata": {
        "id": "NuWhLrCHngIg"
      },
      "source": [
        "# TextRank"
      ]
    },
    {
      "cell_type": "markdown",
      "metadata": {
        "id": "7FqpDqoADzub"
      },
      "source": [
        "Construimos la matriz de adyacencias/similitud A entre las oraciones, tomando el número de palabras que están en ambas como la similitud entre las dos oraciones."
      ]
    },
    {
      "cell_type": "code",
      "execution_count": 12,
      "metadata": {
        "colab": {
          "base_uri": "https://localhost:8080/"
        },
        "id": "S12INj9QZnwZ",
        "outputId": "33bd7206-01b4-4f98-a564-98bfd911fe19"
      },
      "outputs": [
        {
          "name": "stdout",
          "output_type": "stream",
          "text": [
            "0, \n"
          ]
        }
      ],
      "source": [
        "A = np.zeros((len(sent_low), len(sent_low)))\n",
        "\n",
        "for i in range(len(sentences)):\n",
        "    if i % 100 == 0:\n",
        "        print(i, end=\", \")\n",
        "        if i % 1000 == 0:\n",
        "            print()\n",
        "    for j in range(i+1, len(sentences)):\n",
        "        # La simillitud entre oraciones va a ser el número de palabras que tienen en común\n",
        "        A[i][j] = A[j][i] = len([x for x in sent_low[i] if x in sent_low[j]])"
      ]
    },
    {
      "cell_type": "code",
      "execution_count": 13,
      "metadata": {
        "colab": {
          "base_uri": "https://localhost:8080/"
        },
        "id": "Qaz0n9pa2BuG",
        "outputId": "e99bcf61-6b10-484d-d8bb-6a9c2ba83019"
      },
      "outputs": [
        {
          "data": {
            "text/plain": [
              "['oil', 'nation', 'reserv', 'oil', 'mexico', '']"
            ]
          },
          "execution_count": 13,
          "metadata": {},
          "output_type": "execute_result"
        }
      ],
      "source": [
        "[x for x in sent_low[0] if x in sent_low[1]]"
      ]
    },
    {
      "cell_type": "markdown",
      "metadata": {
        "id": "p9s5rI9roNPv"
      },
      "source": [
        "Así es como se ve un fragmento de la matriz A."
      ]
    },
    {
      "cell_type": "code",
      "execution_count": 14,
      "metadata": {
        "colab": {
          "base_uri": "https://localhost:8080/"
        },
        "id": "uvFYbKI48tdr",
        "outputId": "d3532001-66fd-45d9-ef46-fa858bbefbe3"
      },
      "outputs": [
        {
          "data": {
            "text/plain": [
              "array([[0., 6., 4., 3., 3.],\n",
              "       [6., 0., 1., 1., 0.],\n",
              "       [4., 1., 0., 2., 2.],\n",
              "       [3., 1., 2., 0., 1.],\n",
              "       [3., 0., 2., 1., 0.]])"
            ]
          },
          "execution_count": 14,
          "metadata": {},
          "output_type": "execute_result"
        }
      ],
      "source": [
        "A[:5, :5]"
      ]
    },
    {
      "cell_type": "markdown",
      "metadata": {
        "id": "OoJlPw_ToUdh"
      },
      "source": [
        "Normalizamos las columnas de A"
      ]
    },
    {
      "cell_type": "code",
      "execution_count": 15,
      "metadata": {
        "colab": {
          "base_uri": "https://localhost:8080/"
        },
        "id": "2GvyVdD-cErU",
        "outputId": "15c0e457-552f-4c8f-9b4a-9cafd31f7ef7"
      },
      "outputs": [
        {
          "data": {
            "text/plain": [
              "array([[0.        , 0.02439024, 0.01626016, 0.01219512, 0.01219512],\n",
              "       [0.04225352, 0.        , 0.00704225, 0.00704225, 0.        ],\n",
              "       [0.03636364, 0.00909091, 0.        , 0.01818182, 0.01818182],\n",
              "       [0.02631579, 0.00877193, 0.01754386, 0.        , 0.00877193],\n",
              "       [0.06521739, 0.        , 0.04347826, 0.02173913, 0.        ]])"
            ]
          },
          "execution_count": 15,
          "metadata": {},
          "output_type": "execute_result"
        }
      ],
      "source": [
        "# Comparamos las oraciones unas con otras, pero no consigo mismas\n",
        "suma = np.sum(A, axis=0)\n",
        "A_norm = A.copy()\n",
        "suma = np.sum(A, axis=0)\n",
        "for i in range(len(sentences)):\n",
        "  if suma[i] != 0:\n",
        "    A_norm[i,:] = A[i,:]/suma[i]\n",
        "A_norm[:5, :5]"
      ]
    },
    {
      "cell_type": "code",
      "execution_count": 16,
      "metadata": {
        "colab": {
          "base_uri": "https://localhost:8080/"
        },
        "id": "6kJddZjNqgSp",
        "outputId": "7ba7f85c-d304-4864-bbe5-62785096e9e6"
      },
      "outputs": [
        {
          "name": "stdout",
          "output_type": "stream",
          "text": [
            "0.9999999999999999\n"
          ]
        }
      ],
      "source": [
        "print(A_norm[0,:].sum())"
      ]
    },
    {
      "cell_type": "markdown",
      "metadata": {
        "id": "YIdFEIv2KlDT"
      },
      "source": [
        "Se crea el vector de TextRank con unos y se itera hasta que converja. Es decir, hasta que obtengamos $\\Pi$ tal que $$\\Pi = A~\\Pi$$"
      ]
    },
    {
      "cell_type": "code",
      "execution_count": 17,
      "metadata": {
        "id": "wSg8un2uxyz3"
      },
      "outputs": [],
      "source": [
        "# Para impresiones mas bonitas\n",
        "np.set_printoptions(suppress=True)"
      ]
    },
    {
      "cell_type": "code",
      "execution_count": 18,
      "metadata": {
        "colab": {
          "base_uri": "https://localhost:8080/"
        },
        "id": "LUfmpayQKaCA",
        "outputId": "17770e5c-602a-4d79-ea03-1ac5c03581e7"
      },
      "outputs": [
        {
          "name": "stdout",
          "output_type": "stream",
          "text": [
            "0 47.27840454716925\n",
            "1 10.542090208594786\n",
            "2 1.612491930081298\n",
            "3 0.46520495436131315\n",
            "4 0.15736201861660912\n",
            "5 0.06604752393501309\n",
            "6 0.029370904712919164\n",
            "7 0.01365881111745884\n",
            "8 0.006367634061440166\n",
            "9 0.0029863167393567834\n",
            "10 0.0014033473511069466\n",
            "11 0.0006594154849675401\n",
            "12 0.00030961130939013114\n",
            "13 0.00014528251738793983\n",
            "14 6.813716316123042e-05\n",
            "15 3.194296757432283e-05\n",
            "16 1.4969970471977179e-05\n",
            "17 7.0137690248300855e-06\n",
            "18 3.2854181728370763e-06\n",
            "19 1.5387144829629579e-06\n"
          ]
        }
      ],
      "source": [
        "# Tolerancia para la diferencia al comparar\n",
        "tol = 1e-7\n",
        "\n",
        "PI_ = np.ones(A_norm.shape[1])\n",
        "A_norm_a = A_norm.T.copy()\n",
        "\n",
        "i = 0\n",
        "while True:\n",
        "    pi_ = A_norm_a @ PI_\n",
        "    print(i, abs(PI_- pi_).sum())\n",
        "    if np.allclose(PI_, pi_, tol):\n",
        "        break\n",
        "    i += 1\n",
        "    PI_ = pi_"
      ]
    },
    {
      "cell_type": "code",
      "execution_count": 19,
      "metadata": {
        "colab": {
          "base_uri": "https://localhost:8080/"
        },
        "id": "049iSn9I_Lid",
        "outputId": "0d47371c-d78f-4dd2-c0a7-9f66ff075d17"
      },
      "outputs": [
        {
          "data": {
            "text/plain": [
              "array([2.63531801, 1.52119984, 1.17839422, 1.22124493, 0.49278304,\n",
              "       2.02469551, 1.53191247, 1.3926477 , 0.16069012, 0.65347315,\n",
              "       0.70703651, 0.92129001, 1.02841676, 1.58547584, 0.93200269,\n",
              "       1.34979701, 1.34979701, 1.53191249, 1.77830402, 0.37494363,\n",
              "       0.35351827, 0.71774919, 1.46763642, 1.74616597, 1.16768153,\n",
              "       1.7890167 , 0.68561117, 0.78202524, 0.5999098 , 0.89986469,\n",
              "       1.2640956 , 1.32837166, 0.95342803, 0.29995489, 1.02841676,\n",
              "       0.68561117, 1.26409563, 1.1462562 , 1.49977443, 0.43921965,\n",
              "       1.54262514, 0.55705907, 1.90685609, 1.17839421, 1.32837166,\n",
              "       0.03213802, 0.38565629, 1.60690122, 2.78529547, 0.10712674,\n",
              "       0.66418586, 1.00699143, 0.01071267, 0.01071268, 1.52119984,\n",
              "       0.13926477, 2.14253498, 1.17839424, 1.59618854, 0.55705909,\n",
              "       1.42478574, 1.29623367, 1.87471812, 1.47834912, 0.78202529,\n",
              "       0.2571042 , 0.89986469, 0.20354082, 0.73917456, 0.74988724,\n",
              "       1.63903923, 0.92129003, 0.9427154 , 0.52492108, 0.72846189,\n",
              "       0.34280559, 0.20354082, 0.73917457, 1.27480833, 1.22124494,\n",
              "       0.46064504, 0.02142535, 0.66418583, 0.49278307, 0.        ,\n",
              "       0.9855661 , 1.26409565, 0.49278307, 1.55333788, 1.47834914,\n",
              "       0.46064504, 0.        , 1.42478579, 0.76059992, 0.40708166,\n",
              "       0.        , 1.03912945, 0.50349574])"
            ]
          },
          "execution_count": 19,
          "metadata": {},
          "output_type": "execute_result"
        }
      ],
      "source": [
        "pi_"
      ]
    },
    {
      "cell_type": "markdown",
      "metadata": {
        "id": "QnTTffzbv2G0"
      },
      "source": [
        "Alternativamente, podemos obtener los eigenvectores izquierdos de nuestra matriz A_norm. Los valores de PageRank corresponden al vector de probabilidades del estado estacionario de la matriz A que a su vez es el eigenvector izquierdo con eigenvalor asociado 1.\n",
        "\n",
        "$$\\Pi = \\Pi A$$"
      ]
    },
    {
      "cell_type": "code",
      "execution_count": 20,
      "metadata": {
        "id": "2fjuQ_v_vE-O"
      },
      "outputs": [],
      "source": [
        "D, vecs = splinalg.eig(A_norm, left=True, right=False)"
      ]
    },
    {
      "cell_type": "code",
      "execution_count": 21,
      "metadata": {
        "colab": {
          "base_uri": "https://localhost:8080/"
        },
        "id": "JQGky-yU_jNr",
        "outputId": "8daec8c0-260a-455a-8489-1881020a6195"
      },
      "outputs": [
        {
          "data": {
            "text/plain": [
              "array([ 1.        +0.j,  0.46807032+0.j,  0.36330176+0.j,  0.28687607+0.j,\n",
              "        0.22964   +0.j,  0.19934271+0.j,  0.19239694+0.j,  0.17251149+0.j,\n",
              "       -0.18571612+0.j,  0.15108567+0.j,  0.13043256+0.j,  0.12501392+0.j,\n",
              "        0.1148962 +0.j,  0.09107226+0.j,  0.09167755+0.j,  0.07738138+0.j,\n",
              "       -0.15432295+0.j,  0.07356221+0.j,  0.06757776+0.j,  0.06233724+0.j,\n",
              "        0.05354638+0.j, -0.13339054+0.j, -0.12835692+0.j,  0.04999122+0.j,\n",
              "        0.05162979+0.j, -0.1238126 +0.j,  0.04289975+0.j, -0.1208941 +0.j,\n",
              "        0.03253336+0.j, -0.11878348+0.j,  0.02461691+0.j,  0.02145452+0.j,\n",
              "       -0.11474704+0.j, -0.11010073+0.j, -0.11082583+0.j,  0.01702951+0.j,\n",
              "       -0.10522701+0.j,  0.01349817+0.j, -0.10197328+0.j,  0.01149895+0.j,\n",
              "       -0.09833783+0.j,  0.00967066+0.j,  0.00271149+0.j, -0.0943705 +0.j,\n",
              "       -0.09184081+0.j, -0.0912115 +0.j, -0.10869565+0.j, -0.00405074+0.j,\n",
              "       -0.08618278+0.j, -0.00282857+0.j, -0.00810469+0.j, -0.00892544+0.j,\n",
              "       -0.01108322+0.j, -0.08430808+0.j, -0.08202511+0.j, -0.08338061+0.j,\n",
              "       -0.07958547+0.j, -0.01645323+0.j, -0.01996843+0.j, -0.07601541+0.j,\n",
              "       -0.07518712+0.j, -0.02174811+0.j, -0.02092346+0.j, -0.07262773+0.j,\n",
              "       -0.07159743+0.j, -0.02668472+0.j, -0.02789562+0.j, -0.06968806+0.j,\n",
              "       -0.07072084+0.j, -0.06686731+0.j, -0.02923107+0.j, -0.06539676+0.j,\n",
              "       -0.03287236+0.j, -0.03513811+0.j, -0.03157055+0.j, -0.03823156+0.j,\n",
              "       -0.06254214+0.j, -0.06372845+0.j, -0.06066611+0.j, -0.04295848+0.j,\n",
              "       -0.04845527+0.j, -0.04698726+0.j, -0.0308288 +0.j, -0.05089655+0.j,\n",
              "       -0.04468379+0.j, -0.05861569+0.j, -0.05622768+0.j,  0.        +0.j,\n",
              "       -0.04111313+0.j, -0.05519967+0.j, -0.05830672+0.j, -0.04562883+0.j,\n",
              "       -0.04090924+0.j, -0.05385785+0.j, -0.05475157+0.j,  0.        +0.j,\n",
              "        0.        +0.j,  0.        +0.j])"
            ]
          },
          "execution_count": 21,
          "metadata": {},
          "output_type": "execute_result"
        }
      ],
      "source": [
        "D"
      ]
    },
    {
      "cell_type": "code",
      "execution_count": 22,
      "metadata": {
        "colab": {
          "base_uri": "https://localhost:8080/"
        },
        "id": "quf7Tyn7-yK_",
        "outputId": "9c437273-74fc-4444-b9d9-1f328934a4c6"
      },
      "outputs": [
        {
          "data": {
            "text/plain": [
              "(98, 98)"
            ]
          },
          "execution_count": 22,
          "metadata": {},
          "output_type": "execute_result"
        }
      ],
      "source": [
        "vecs.shape"
      ]
    },
    {
      "cell_type": "code",
      "execution_count": 23,
      "metadata": {
        "colab": {
          "base_uri": "https://localhost:8080/"
        },
        "id": "OTRv8mVf_D5R",
        "outputId": "bfe35a84-ea6b-4aa1-da06-b296b2039dd5"
      },
      "outputs": [
        {
          "data": {
            "text/plain": [
              "array([[ 0.23427339, -0.0632663 ,  0.12907107, ...,  0.        ,\n",
              "         0.        ,  0.        ],\n",
              "       [ 0.13523098, -0.12351332,  0.03516766, ...,  0.        ,\n",
              "         0.        ,  0.        ],\n",
              "       [ 0.10475639,  0.05801119,  0.06806941, ...,  0.        ,\n",
              "         0.        ,  0.        ],\n",
              "       ...,\n",
              "       [ 0.        ,  0.        ,  0.        , ...,  0.        ,\n",
              "         0.        ,  1.        ],\n",
              "       [ 0.09237609,  0.02665773,  0.09291842, ...,  0.        ,\n",
              "         0.        ,  0.        ],\n",
              "       [ 0.04475955, -0.14749318, -0.19657137, ...,  0.        ,\n",
              "         0.        ,  0.        ]])"
            ]
          },
          "execution_count": 23,
          "metadata": {},
          "output_type": "execute_result"
        }
      ],
      "source": [
        "vecs"
      ]
    },
    {
      "cell_type": "code",
      "execution_count": 24,
      "metadata": {
        "colab": {
          "base_uri": "https://localhost:8080/"
        },
        "id": "Qn60EkbGzARy",
        "outputId": "82c9bea0-12fd-4a49-94b9-4375622151ab"
      },
      "outputs": [
        {
          "data": {
            "text/plain": [
              "array([0.23427339, 0.13523098, 0.10475639, 0.10856572, 0.04380722,\n",
              "       0.17999053, 0.13618331, 0.12380301, 0.01428496, 0.05809218,\n",
              "       0.06285384, 0.08190045, 0.09142376, 0.14094497, 0.08285278,\n",
              "       0.11999369, 0.11999369, 0.13618331, 0.15808692, 0.03333158,\n",
              "       0.03142692, 0.06380617, 0.13046933, 0.15522993, 0.10380406,\n",
              "       0.15903925, 0.06094917, 0.06952015, 0.05333053, 0.07999579,\n",
              "       0.11237504, 0.11808903, 0.08475745, 0.02666526, 0.09142376,\n",
              "       0.06094917, 0.11237504, 0.1018994 , 0.13332632, 0.03904557,\n",
              "       0.13713564, 0.0495212 , 0.16951489, 0.10475639, 0.11808903,\n",
              "       0.00285699, 0.03428391, 0.14284963, 0.24760602, 0.00952331,\n",
              "       0.05904451, 0.0895191 , 0.00095233, 0.00095233, 0.13523098,\n",
              "       0.0123803 , 0.19046617, 0.10475639, 0.1418973 , 0.0495212 ,\n",
              "       0.12666   , 0.11523203, 0.1666579 , 0.13142166, 0.06952015,\n",
              "       0.02285594, 0.07999579, 0.01809429, 0.06571083, 0.06666316,\n",
              "       0.14570662, 0.08190045, 0.08380512, 0.04666421, 0.0647585 ,\n",
              "       0.03047459, 0.01809429, 0.06571083, 0.11332737, 0.10856572,\n",
              "       0.04095023, 0.00190466, 0.05904451, 0.04380722, 0.        ,\n",
              "       0.08761444, 0.11237504, 0.04380722, 0.13808797, 0.13142166,\n",
              "       0.04095023, 0.        , 0.12666   , 0.06761549, 0.03618857,\n",
              "       0.        , 0.09237609, 0.04475955])"
            ]
          },
          "execution_count": 24,
          "metadata": {},
          "output_type": "execute_result"
        }
      ],
      "source": [
        "pi2_ = vecs[:, 0]\n",
        "pi2_"
      ]
    },
    {
      "cell_type": "markdown",
      "metadata": {
        "id": "Y4XCjrheqzkz"
      },
      "source": [
        "Obtenemos los índices de los k valores más grandes en $\\Pi$ y los usamos para obtener las oraciones más relevantes."
      ]
    },
    {
      "cell_type": "code",
      "execution_count": 42,
      "metadata": {
        "colab": {
          "base_uri": "https://localhost:8080/"
        },
        "id": "4nzzWurm0_O2",
        "outputId": "9ff68eed-ba98-42f3-ca1d-ae937f8b01a3"
      },
      "outputs": [
        {
          "data": {
            "text/plain": [
              "array([48,  0, 56,  5])"
            ]
          },
          "execution_count": 42,
          "metadata": {},
          "output_type": "execute_result"
        }
      ],
      "source": [
        "k = 4\n",
        "pi_.argsort()[-k:][::-1]"
      ]
    },
    {
      "cell_type": "code",
      "execution_count": 43,
      "metadata": {
        "colab": {
          "base_uri": "https://localhost:8080/"
        },
        "id": "66EFi5uomLdt",
        "outputId": "76dab1ff-f227-4d32-ba73-0921ee5bfc2b"
      },
      "outputs": [
        {
          "data": {
            "text/plain": [
              "array([48,  0, 56,  5])"
            ]
          },
          "execution_count": 43,
          "metadata": {},
          "output_type": "execute_result"
        }
      ],
      "source": [
        "k = 4\n",
        "pi2_.argsort()[-k:][::-1]"
      ]
    },
    {
      "cell_type": "code",
      "execution_count": 27,
      "metadata": {
        "id": "RryDhNr5OfJ5"
      },
      "outputs": [],
      "source": [
        "summary = [sentences[idx] for idx in pi_.argsort()[-k:][::-1]]"
      ]
    },
    {
      "cell_type": "code",
      "execution_count": 28,
      "metadata": {
        "colab": {
          "base_uri": "https://localhost:8080/"
        },
        "id": "iACleNaJDRHu",
        "outputId": "b416dd60-ee94-43ff-cc20-b1825a93ed68"
      },
      "outputs": [
        {
          "data": {
            "text/plain": [
              "['== Oil Expropriation Day, March 18, 1938 ==\\nOn March 18, 1938 President Cárdenas embarked on the expropriation of all oil resources and facilities by the state, nationalizing the U.S. and Anglo-Dutch (Mexican Eagle Petroleum Company) operating companies.',\n",
              " 'The Mexican oil expropriation (Spanish: expropiación petrolera) was the nationalization of all petroleum reserves, facilities, and foreign oil companies in Mexico on March 18, 1938.',\n",
              " '== Opposition ==\\n\\n\\n=== International ===\\nIn retaliation, the oil companies initiated a public relations campaign against Mexico, urging people to stop buying Mexican goods and lobbying to embargo U.S. technology to Mexico.',\n",
              " '== Background ==\\n\\nOn August 16, 1935, the Petroleum Workers Union of Mexico (Sindicato de Trabajadores Petroleros de la República Mexicana) was formed and one of the first actions was the writing of a lengthy draft contract transmitted to the petroleum companies demanding a 40-hour working week, a full salary paid in the event of sickness, and the payment of 65 million pesos towards benefits and wages.']"
            ]
          },
          "execution_count": 28,
          "metadata": {},
          "output_type": "execute_result"
        }
      ],
      "source": [
        "summary"
      ]
    },
    {
      "cell_type": "markdown",
      "metadata": {
        "id": "DpekkaIIrFbJ"
      },
      "source": [
        "Por último, sólo queda ver qué considero TextRank como las oraciones más importantes."
      ]
    },
    {
      "cell_type": "code",
      "execution_count": 29,
      "metadata": {
        "colab": {
          "base_uri": "https://localhost:8080/"
        },
        "id": "wAqh4QdWOh1r",
        "outputId": "0be78ff2-2526-4d20-eda0-61104ffd4f19"
      },
      "outputs": [
        {
          "name": "stdout",
          "output_type": "stream",
          "text": [
            "___________\n",
            "== Oil Expropriation Day, March 18, 1938 ==\n",
            "On March 18, 1938 President Cárdenas embarked on the expropriation of all oil resources and facilities by the state, nationalizing the U.S. and Anglo-Dutch (Mexican Eagle Petroleum Company) operating companies.\n",
            "___________\n",
            "The Mexican oil expropriation (Spanish: expropiación petrolera) was the nationalization of all petroleum reserves, facilities, and foreign oil companies in Mexico on March 18, 1938.\n",
            "___________\n",
            "== Opposition ==\n",
            "\n",
            "\n",
            "=== International ===\n",
            "In retaliation, the oil companies initiated a public relations campaign against Mexico, urging people to stop buying Mexican goods and lobbying to embargo U.S. technology to Mexico.\n",
            "___________\n",
            "== Background ==\n",
            "\n",
            "On August 16, 1935, the Petroleum Workers Union of Mexico (Sindicato de Trabajadores Petroleros de la República Mexicana) was formed and one of the first actions was the writing of a lengthy draft contract transmitted to the petroleum companies demanding a 40-hour working week, a full salary paid in the event of sickness, and the payment of 65 million pesos towards benefits and wages.\n"
          ]
        }
      ],
      "source": [
        "for bullet in summary:\n",
        "    print('___________')\n",
        "    print(bullet)"
      ]
    },
    {
      "cell_type": "markdown",
      "metadata": {
        "id": "xN21ZGHrrKY4"
      },
      "source": [
        "(Ahorita no) podemos traducir la salida."
      ]
    },
    {
      "cell_type": "code",
      "execution_count": null,
      "metadata": {
        "colab": {
          "base_uri": "https://localhost:8080/"
        },
        "id": "h8R-ruMABp37",
        "outputId": "710fe52d-da52-400e-9b18-73a5a4f3fd6a"
      },
      "outputs": [],
      "source": [
        "!pip3 install sacremoses"
      ]
    },
    {
      "cell_type": "code",
      "execution_count": 31,
      "metadata": {
        "colab": {
          "base_uri": "https://localhost:8080/"
        },
        "id": "7vpw3FScPo2L",
        "outputId": "488fecf6-b7ac-48a2-d1aa-54da02bb3e16"
      },
      "outputs": [
        {
          "name": "stdout",
          "output_type": "stream",
          "text": [
            "\n",
            "\n",
            "\n",
            "\n"
          ]
        }
      ],
      "source": [
        "# Aprox 34 seg las primeras 10 oraciones\n",
        "for bullet in summary:\n",
        "    print()\n",
        "    #print(translate(bullet, \"es\"))"
      ]
    },
    {
      "cell_type": "markdown",
      "metadata": {
        "id": "sroGaAJSrNER"
      },
      "source": [
        "# Función para crear resúmenes"
      ]
    },
    {
      "cell_type": "markdown",
      "metadata": {
        "id": "o8TBd5q7rSmS"
      },
      "source": [
        "Podemos condensar todo lo anterior en una función que reciba texto y nos regrese las oraciones más relevantes de acuerdo a TextRank."
      ]
    },
    {
      "cell_type": "code",
      "execution_count": 32,
      "metadata": {
        "id": "ACFufGGmXwCP"
      },
      "outputs": [],
      "source": [
        "def summary(text, k, to_spanish = False, tol = 1e-5, d = .15, eig = False):\n",
        "    print(\"Paso 1. Obteniendo oraciones\")\n",
        "    sentences = [x for x in sent_tokenize(text)]\n",
        "\n",
        "    print(f\"# oraciones: {len(sentences)}\")\n",
        "\n",
        "    print(\"Paso 2. Procesando texto\")\n",
        "    sent_low = [[stemmer.stem(re.sub('[^a-z]', \"\", word.lower())) for word in word_tokenize(sentence) if word not in cached_stopwords and len(word) > 2] for sentence in sentences]\n",
        "    \n",
        "    print(\"Paso 3. Creando matriz de similitud\")\n",
        "    A = np.zeros((len(sent_low), len(sent_low)))\n",
        "\n",
        "    for i in range(len(sentences)):\n",
        "        for j in range(i+1, len(sentences)):\n",
        "            # La simillitud entre oraciones va a ser el número de palabras que tienen en común\n",
        "            A[i][j] = A[j][i] = len([x for x in sent_low[i] if x in sent_low[j]])\n",
        "\n",
        "    print(\"Paso 4. Normalizando matriz de similitud\")\n",
        "    suma = np.sum(A, axis=0)\n",
        "    A_norm = A.copy()\n",
        "    suma = np.sum(A, axis=0)\n",
        "    for i in range(len(sentences)):\n",
        "      if suma[i] != 0:\n",
        "        A_norm[i,:] = A[i,:]/suma[i]\n",
        "\n",
        "    print(\"Paso 5. Ejecutando TextRank\")\n",
        "    if eig:\n",
        "        vals, vecs = splinalg.eig(A_norm, left=True, right=False)\n",
        "        pi_ = vecs[:, 0]\n",
        "    else:\n",
        "        A_norm_a = A_norm.T.copy()\n",
        "        PI_ = np.ones(A_norm.shape[1])\n",
        "\n",
        "        while True:\n",
        "            pi_ = A_norm_a.dot(PI_)\n",
        "            if np.allclose(PI_, pi_, tol):\n",
        "                break\n",
        "            PI_ = pi_\n",
        "\n",
        "    print(\"\\tPaso 5. Terminado\")\n",
        "\n",
        "    if not to_spanish:\n",
        "        return [sentences[idx] for idx in pi_.argsort()[-k:][::-1]]\n",
        "\n",
        "    print(\"Paso 6. Traduciendo\")\n",
        "    return [translate(sentences[idx], \"es\") for idx in pi_.argsort()[-k:][::-1]]\n",
        "\n",
        "def print_bullet_points(bullet_points):\n",
        "    for point in bullet_points:\n",
        "        print(f\"- {point}\\n\")\n"
      ]
    },
    {
      "cell_type": "code",
      "execution_count": 33,
      "metadata": {
        "colab": {
          "base_uri": "https://localhost:8080/"
        },
        "id": "ShmZc9RaYuh3",
        "outputId": "bef53e40-8e0a-431b-9df3-2fc0f792d4e0"
      },
      "outputs": [
        {
          "name": "stdout",
          "output_type": "stream",
          "text": [
            "Paso 1. Obteniendo oraciones\n",
            "# oraciones: 329\n",
            "Paso 2. Procesando texto\n",
            "Paso 3. Creando matriz de similitud\n",
            "Paso 4. Normalizando matriz de similitud\n",
            "Paso 5. Ejecutando TextRank\n",
            "\tPaso 5. Terminado\n"
          ]
        }
      ],
      "source": [
        "wiki = wikipedia.page('Automatic Summarization')\n",
        "text = wiki.content\n",
        "bullet_points = summary(text, 5, False, eig = False)"
      ]
    },
    {
      "cell_type": "code",
      "execution_count": 34,
      "metadata": {
        "colab": {
          "base_uri": "https://localhost:8080/"
        },
        "id": "14--hdHdZNkW",
        "outputId": "6e8640e6-0e25-49fb-dcaa-3a60f4d59936"
      },
      "outputs": [
        {
          "name": "stdout",
          "output_type": "stream",
          "text": [
            "- ==== Maximum entropy-based summarization ====\n",
            "During the DUC 2001 and 2002 evaluation workshops, TNO developed a sentence extraction system for multi-document summarization in the news domain.\n",
            "\n",
            "- === Document summarization ===\n",
            "Like keyphrase extraction, document summarization aims to identify the essence of a text.\n",
            "\n",
            "- ==== TextRank and LexRank ====\n",
            "The unsupervised approach to summarization is also quite similar in spirit to unsupervised keyphrase extraction and gets around the issue of costly training data.\n",
            "\n",
            "- The main difficulty in supervised extractive summarization is that the known summaries must be manually created by extracting sentences so the sentences in an original training document can be labeled as \"in summary\" or \"not in summary\".\n",
            "\n",
            "- === Submodular functions as generic tools for summarization ===\n",
            "The idea of a submodular set function has recently emerged as a powerful modeling tool for various summarization problems.\n",
            "\n"
          ]
        }
      ],
      "source": [
        "print_bullet_points(bullet_points)"
      ]
    },
    {
      "cell_type": "code",
      "execution_count": 35,
      "metadata": {
        "colab": {
          "base_uri": "https://localhost:8080/"
        },
        "id": "z6PnPJkMZ_E9",
        "outputId": "01a925f4-1ac0-4ef5-e702-30040a76689a"
      },
      "outputs": [
        {
          "name": "stdout",
          "output_type": "stream",
          "text": [
            "--2024-10-24 22:00:39--  https://www.gutenberg.org/files/84/84-0.txt\n",
            "Resolving www.gutenberg.org (www.gutenberg.org)... 152.19.134.47, 2610:28:3090:3000:0:bad:cafe:47\n",
            "Connecting to www.gutenberg.org (www.gutenberg.org)|152.19.134.47|:443... connected.\n",
            "HTTP request sent, awaiting response... 200 OK\n",
            "Length: 448642 (438K) [text/plain]\n",
            "Saving to: ‘book.txt’\n",
            "\n",
            "book.txt            100%[===================>] 438.13K  2.04MB/s    in 0.2s    \n",
            "\n",
            "2024-10-24 22:00:40 (2.04 MB/s) - ‘book.txt’ saved [448642/448642]\n",
            "\n"
          ]
        }
      ],
      "source": [
        "!wget https://www.gutenberg.org/files/84/84-0.txt -O book.txt"
      ]
    },
    {
      "cell_type": "code",
      "execution_count": 36,
      "metadata": {
        "colab": {
          "base_uri": "https://localhost:8080/"
        },
        "id": "meluoUwsaDSK",
        "outputId": "48213a05-b23a-43e6-8c7c-713351925f67"
      },
      "outputs": [
        {
          "name": "stdout",
          "output_type": "stream",
          "text": [
            "The Project Gutenberg eBook of Frankenstein, by Mary Wollstonecraft Shelley\n",
            "\n",
            "This eBook is for the use of anyone anywhere in the United States and\n",
            "most other parts of the world at no cost and with almost no restrictions\n",
            "whatsoever. You may copy it, give it away or re-use it under the terms\n",
            "of the Project Gutenberg License included with this eBook or online at\n",
            "www.gutenberg.org. If you are not located in the United States, you\n",
            "will have to check the laws of the country where you are located before\n",
            "using this eBook.\n",
            "\n",
            "Title: Frankenstein\n",
            "       or, The Modern Prometheus\n",
            "\n",
            "Author: Mary Wollstonecraft Shelley\n",
            "\n",
            "Release Date: October 31, 1993 [eBook #84]\n",
            "[Most recently updated: December 2, 2022]\n",
            "\n",
            "Language: English\n",
            "\n",
            "Character set encoding: UTF-8\n",
            "\n",
            "Produced by: Judith Boss, Christy Phillips, Lynn Hanninen and David Meltzer. HTML version by Al Haines.\n",
            "Further corrections by Menno de Leeuw.\n",
            "\n",
            "*** START OF THE PROJECT GUTENBERG EBOOK FRANKENSTEIN ***\n",
            "\n",
            "\n",
            "\n",
            "\n",
            "Frankenstein;\n",
            "\n",
            "or, the Modern Prometheus\n",
            "\n",
            "by \n"
          ]
        }
      ],
      "source": [
        "with open(\"book.txt\") as f:\n",
        "    book_raw = f.read()\n",
        "\n",
        "print(book_raw[0:1000])"
      ]
    },
    {
      "cell_type": "code",
      "execution_count": 37,
      "metadata": {
        "id": "DymBfakBWb9G"
      },
      "outputs": [],
      "source": [
        "start = book_raw.rfind(\"Chapter 1\\n\")\n",
        "end = book_raw.rfind('Chapter 2\\n')"
      ]
    },
    {
      "cell_type": "code",
      "execution_count": 38,
      "metadata": {
        "id": "hGk5g4H6Xo8l"
      },
      "outputs": [],
      "source": [
        "chapter_n = book_raw[start + len(\"Chapter 5\\n\"): end]"
      ]
    },
    {
      "cell_type": "code",
      "execution_count": 39,
      "metadata": {
        "colab": {
          "base_uri": "https://localhost:8080/",
          "height": 139
        },
        "id": "-UWfUSwEGagL",
        "outputId": "5b4c79bc-b9b2-4464-9924-355c7afba1fb"
      },
      "outputs": [
        {
          "data": {
            "text/plain": [
              "'\\n\\nI am by birth a Genevese, and my family is one of the most\\ndistinguished of that republic. My ancestors had been for many years\\ncounsellors and syndics, and my father had filled several public\\nsituations with honour and reputation. He was respected by all who\\nknew him for his integrity and indefatigable attention to public\\nbusiness. He passed his younger days perpetually occupied by the\\naffairs of his country; a variety of circumstances had prevented his\\nmarrying early, nor was it until the decline of life that he became a\\nhusband and the father of a family.\\n\\nAs the circumstances of his marriage illustrate his character, I cannot\\nrefrain from relating them. One of his most intimate friends was a\\nmerchant who, from a flourishing state, fell, through numerous\\nmischances, into poverty. This man, whose name was Beaufort, was of a\\nproud and unbending disposition and could not bear to live in poverty\\nand oblivion in the same country where he had formerly been\\ndistinguished for his rank and magnificence. Having paid his debts,\\ntherefore, in the most honourable manner, he retreated with his\\ndaughter to the town of Lucerne, where he lived unknown and in\\nwretchedness. My father loved Beaufort with the truest friendship and\\nwas deeply grieved by his retreat in these unfortunate circumstances.\\nHe bitterly deplored the false pride which led his friend to a conduct\\nso little worthy of the affection that united them. He lost no time in\\nendeavouring to seek him out, with the hope of persuading him to begin\\nthe world again through his credit and assistance.\\n\\nBeaufort had taken effectual measures to conceal himself, and it was ten\\nmonths before my father discovered his abode. Overjoyed at this discovery,\\nhe hastened to the house, which was situated in a mean street near the\\nReuss. But when he entered, misery and despair alone welcomed him. Beaufort\\nhad saved but a very small sum of money from the wreck of his fortunes, but\\nit was sufficient to provide him with sustenance for some months, and in\\nthe meantime he hoped to procure some respectable employment in a\\nmerchant’s house. The interval was, consequently, spent in inaction;\\nhis grief only became more deep and rankling when he had leisure for\\nreflection, and at length it took so fast hold of his mind that at the end\\nof three months he lay on a bed of sickness, incapable of any exertion.\\n\\nHis daughter attended him with the greatest tenderness, but she saw\\nwith despair that their little fund was rapidly decreasing and that\\nthere was no other prospect of support. But Caroline Beaufort\\npossessed a mind of an uncommon mould, and her courage rose to support\\nher in her adversity. She procured plain work; she plaited straw and\\nby various means contrived to earn a pittance scarcely sufficient to\\nsupport life.\\n\\nSeveral months passed in this manner. Her father grew worse; her time\\nwas more entirely occupied in attending him; her means of subsistence\\ndecreased; and in the tenth month her father died in her arms, leaving\\nher an orphan and a beggar. This last blow overcame her, and she knelt\\nby Beaufort’s coffin weeping bitterly, when my father entered the\\nchamber. He came like a protecting spirit to the poor girl, who\\ncommitted herself to his care; and after the interment of his friend he\\nconducted her to Geneva and placed her under the protection of a\\nrelation. Two years after this event Caroline became his wife.\\n\\nThere was a considerable difference between the ages of my parents, but\\nthis circumstance seemed to unite them only closer in bonds of devoted\\naffection. There was a sense of justice in my father’s upright mind\\nwhich rendered it necessary that he should approve highly to love\\nstrongly. Perhaps during former years he had suffered from the\\nlate-discovered unworthiness of one beloved and so was disposed to set\\na greater value on tried worth. There was a show of gratitude and\\nworship in his attachment to my mother, differing wholly from the\\ndoting fondness of age, for it was inspired by reverence for her\\nvirtues and a desire to be the means of, in some degree, recompensing\\nher for the sorrows she had endured, but which gave inexpressible grace\\nto his behaviour to her. Everything was made to yield to her wishes\\nand her convenience. He strove to shelter her, as a fair exotic is\\nsheltered by the gardener, from every rougher wind and to surround her\\nwith all that could tend to excite pleasurable emotion in her soft and\\nbenevolent mind. Her health, and even the tranquillity of her hitherto\\nconstant spirit, had been shaken by what she had gone through. During\\nthe two years that had elapsed previous to their marriage my father had\\ngradually relinquished all his public functions; and immediately after\\ntheir union they sought the pleasant climate of Italy, and the change\\nof scene and interest attendant on a tour through that land of wonders,\\nas a restorative for her weakened frame.\\n\\nFrom Italy they visited Germany and France. I, their eldest child, was born\\nat Naples, and as an infant accompanied them in their rambles. I remained\\nfor several years their only child. Much as they were attached to each\\nother, they seemed to draw inexhaustible stores of affection from a very\\nmine of love to bestow them upon me. My mother’s tender caresses and\\nmy father’s smile of benevolent pleasure while regarding me are my\\nfirst recollections. I was their plaything and their idol, and something\\nbetter—their child, the innocent and helpless creature bestowed on\\nthem by Heaven, whom to bring up to good, and whose future lot it was in\\ntheir hands to direct to happiness or misery, according as they fulfilled\\ntheir duties towards me. With this deep consciousness of what they owed\\ntowards the being to which they had given life, added to the active spirit\\nof tenderness that animated both, it may be imagined that while during\\nevery hour of my infant life I received a lesson of patience, of charity,\\nand of self-control, I was so guided by a silken cord that all seemed but\\none train of enjoyment to me.\\n\\nFor a long time I was their only care. My mother had much desired to have a\\ndaughter, but I continued their single offspring. When I was about five\\nyears old, while making an excursion beyond the frontiers of Italy, they\\npassed a week on the shores of the Lake of Como. Their benevolent\\ndisposition often made them enter the cottages of the poor. This, to my\\nmother, was more than a duty; it was a necessity, a\\npassion—remembering what she had suffered, and how she had been\\nrelieved—for her to act in her turn the guardian angel to the\\nafflicted. During one of their walks a poor cot in the foldings of a vale\\nattracted their notice as being singularly disconsolate, while the number\\nof half-clothed children gathered about it spoke of penury in its worst\\nshape. One day, when my father had gone by himself to Milan, my mother,\\naccompanied by me, visited this abode. She found a peasant and his wife,\\nhard working, bent down by care and labour, distributing a scanty meal to\\nfive hungry babes. Among these there was one which attracted my mother far\\nabove all the rest. She appeared of a different stock. The four others were\\ndark-eyed, hardy little vagrants; this child was thin and very fair. Her\\nhair was the brightest living gold, and despite the poverty of her\\nclothing, seemed to set a crown of distinction on her head. Her brow was\\nclear and ample, her blue eyes cloudless, and her lips and the moulding of\\nher face so expressive of sensibility and sweetness that none could behold\\nher without looking on her as of a distinct species, a being heaven-sent,\\nand bearing a celestial stamp in all her features.\\n\\nThe peasant woman, perceiving that my mother fixed eyes of wonder and\\nadmiration on this lovely girl, eagerly communicated her history. She was\\nnot her child, but the daughter of a Milanese nobleman. Her mother was a\\nGerman and had died on giving her birth. The infant had been placed with\\nthese good people to nurse: they were better off then. They had not been\\nlong married, and their eldest child was but just born. The father of their\\ncharge was one of those Italians nursed in the memory of the antique glory\\nof Italy—one among the _schiavi ognor frementi,_ who exerted\\nhimself to obtain the liberty of his country. He became the victim of its\\nweakness. Whether he had died or still lingered in the dungeons of Austria\\nwas not known. His property was confiscated; his child became an orphan and\\na beggar. She continued with her foster parents and bloomed in their rude\\nabode, fairer than a garden rose among dark-leaved brambles.\\n\\nWhen my father returned from Milan, he found playing with me in the hall of\\nour villa a child fairer than pictured cherub—a creature who seemed\\nto shed radiance from her looks and whose form and motions were lighter\\nthan the chamois of the hills. The apparition was soon explained. With his\\npermission my mother prevailed on her rustic guardians to yield their\\ncharge to her. They were fond of the sweet orphan. Her presence had seemed\\na blessing to them, but it would be unfair to her to keep her in poverty\\nand want when Providence afforded her such powerful protection. They\\nconsulted their village priest, and the result was that Elizabeth Lavenza\\nbecame the inmate of my parents’ house—my more than\\nsister—the beautiful and adored companion of all my occupations and\\nmy pleasures.\\n\\nEveryone loved Elizabeth. The passionate and almost reverential\\nattachment with which all regarded her became, while I shared it, my\\npride and my delight. On the evening previous to her being brought to\\nmy home, my mother had said playfully, “I have a pretty present for my\\nVictor—tomorrow he shall have it.” And when, on the morrow, she\\npresented Elizabeth to me as her promised gift, I, with childish\\nseriousness, interpreted her words literally and looked upon Elizabeth\\nas mine—mine to protect, love, and cherish. All praises bestowed on\\nher I received as made to a possession of my own. We called each other\\nfamiliarly by the name of cousin. No word, no expression could body\\nforth the kind of relation in which she stood to me—my more than\\nsister, since till death she was to be mine only.\\n\\n\\n\\n\\n'"
            ]
          },
          "execution_count": 39,
          "metadata": {},
          "output_type": "execute_result"
        }
      ],
      "source": [
        "chapter_n"
      ]
    },
    {
      "cell_type": "code",
      "execution_count": 40,
      "metadata": {
        "colab": {
          "base_uri": "https://localhost:8080/"
        },
        "id": "ghILIorhaQWp",
        "outputId": "df46ed09-2fd3-403a-9a8a-94073cca4d03"
      },
      "outputs": [
        {
          "name": "stdout",
          "output_type": "stream",
          "text": [
            "Paso 1. Obteniendo oraciones\n",
            "# oraciones: 74\n",
            "Paso 2. Procesando texto\n",
            "Paso 3. Creando matriz de similitud\n",
            "Paso 4. Normalizando matriz de similitud\n",
            "Paso 5. Ejecutando TextRank\n",
            "\tPaso 5. Terminado\n"
          ]
        }
      ],
      "source": [
        "bullet_points = summary(chapter_n, 5, False, eig = False)"
      ]
    },
    {
      "cell_type": "code",
      "execution_count": 41,
      "metadata": {
        "colab": {
          "base_uri": "https://localhost:8080/"
        },
        "id": "7xh7Q-Cnagx5",
        "outputId": "8fa384d9-95cb-4048-ef85-5b5cf1cdc75f"
      },
      "outputs": [
        {
          "name": "stdout",
          "output_type": "stream",
          "text": [
            "- Her father grew worse; her time\n",
            "was more entirely occupied in attending him; her means of subsistence\n",
            "decreased; and in the tenth month her father died in her arms, leaving\n",
            "her an orphan and a beggar.\n",
            "\n",
            "- One day, when my father had gone by himself to Milan, my mother,\n",
            "accompanied by me, visited this abode.\n",
            "\n",
            "- When my father returned from Milan, he found playing with me in the hall of\n",
            "our villa a child fairer than pictured cherub—a creature who seemed\n",
            "to shed radiance from her looks and whose form and motions were lighter\n",
            "than the chamois of the hills.\n",
            "\n",
            "- The father of their\n",
            "charge was one of those Italians nursed in the memory of the antique glory\n",
            "of Italy—one among the _schiavi ognor frementi,_ who exerted\n",
            "himself to obtain the liberty of his country.\n",
            "\n",
            "- He passed his younger days perpetually occupied by the\n",
            "affairs of his country; a variety of circumstances had prevented his\n",
            "marrying early, nor was it until the decline of life that he became a\n",
            "husband and the father of a family.\n",
            "\n"
          ]
        }
      ],
      "source": [
        "print_bullet_points(bullet_points)"
      ]
    },
    {
      "cell_type": "markdown",
      "metadata": {
        "id": "FZkOKPyqbPUy"
      },
      "source": [
        "# Ejercicios"
      ]
    },
    {
      "cell_type": "markdown",
      "metadata": {
        "id": "8FceaxoTbVgN"
      },
      "source": [
        "## Matriz de similitud entre oraciones\n",
        "\n",
        "Para la similitud entre las oraciones se uso el número de palabras que aparecen en ambas. **Reemplazar por similitud coseno** y comparar los resultados.\n",
        "\n",
        "Un muy buen primer acercamiento podría ser usando Latent Semantic Analysis y calcular la similitud coseno entre todos los documentos.\n",
        "\n",
        "Si tienen una DataFrame con las columnas ```[id_documento_1, id_documento_2, similitud]```, usar la función [```pandas.DataFrame.pivot```](https://pandas.pydata.org/docs/reference/api/pandas.DataFrame.pivot.html) puede ayudar a crear la matriz de similitud, dicha función toma como argumentos \"index\", \"columns\" y \"values\".\n",
        "\n",
        "\n"
      ]
    },
    {
      "cell_type": "markdown",
      "metadata": {
        "id": "zJt0u90fgAWH"
      },
      "source": [
        "## Oraciones vs. Palabras\n",
        "\n",
        "En este Notebook utilizamos las oraciones para obtener el resumen, de haber utilizado las palabras, de TextRank obtendríamos las palabras clave del texto.\n",
        "\n",
        "Implementar TextRank con palabras. Para la matriz de similitud (o adyacencias), se pueden ligar las palabras que son consecutivas o definir una ventana de k palabras consecutivas en cada oración (parecido a skip-gram) y ligar todas estas palabras. En este caso, la matriz A tendría la dimensión del vocabulario (lista de palabras únicas) y tendría un 1 si las palabras están ligadas.\n",
        "\n",
        "Una alternativa más sería ocupar un embedding de palabras (e.g. word2vec) y calcular la similitud coseno entre los vectores de cada palabra para llenas a A.\n",
        "\n",
        "Después de eso, todo sería lo mismo."
      ]
    },
    {
      "cell_type": "markdown",
      "metadata": {
        "id": "HqBKwF5MfShn"
      },
      "source": [
        "## Idioma *\n",
        "\n",
        "Este ejemplo esta hecho para texto en inglés por las stopwords que se usan y el radicalizador (PorterStemmer). Hacer los cambios necesarios para que reciba textos en español.\n",
        "\n",
        "Esto es, cambiar las stopwords (nltk tiene stopwords en español) y el radicalizador (Pista: ```nltk.stemmer``` tiene más radicalizadores y uno de ellos tienen un algoritmo para el español)"
      ]
    },
    {
      "cell_type": "markdown",
      "metadata": {
        "id": "LdXDlhlAkkPt"
      },
      "source": [
        "## Resumen sobre un tema *\n",
        "\n",
        "Aquí usamos sólo un documento para aplicarle TextRank. Podemos tener un corpus de documentos del mismo tema (e.g. noticias sobre el AIFA, etc) y aplicarlo para obtener los puntos importantes de todo el corpus.\n",
        "\n",
        "A la implementación actual no se le tiene que cambiar nada, sólo concatenar en una sola cadena de texto todo el corpus.\n",
        "\n",
        "Ejercicio: Construir un corpus con 4 artículos sobre un tema de interés, concatenarlos y pasarlo como parámetro a la función ```summary```."
      ]
    },
    {
      "cell_type": "markdown",
      "metadata": {
        "id": "sRPeC_Mjre7_"
      },
      "source": [
        "## Mejorar la función ```summary```\n",
        "\n",
        "Podemos dividir el código de la función para que funcionen como módulos y permita cierta libertad a la hora de ejecutarse. Por ejemplo, podríamos tener varias funciones que calculen la matriz A de diferentes maneras y que dentro de ```summary``` se ejecute una de tantas de acuerdo a un parámetro de la función.\n",
        "\n",
        "Ejercicio: Crear funciones para cada paso de ```summary```"
      ]
    },
    {
      "cell_type": "markdown",
      "metadata": {
        "id": "flM_zk_I0HAW"
      },
      "source": [
        "# Sobre la obtención de los valores de PageRank\n",
        "\n",
        "https://nlp.stanford.edu/IR-book/html/htmledition/the-pagerank-computation-1.html\n",
        "\n",
        "https://nlp.stanford.edu/IR-book/html/htmledition/markov-chains-1.html"
      ]
    }
  ],
  "metadata": {
    "colab": {
      "include_colab_link": true,
      "provenance": []
    },
    "kernelspec": {
      "display_name": "Python 3",
      "name": "python3"
    },
    "language_info": {
      "codemirror_mode": {
        "name": "ipython",
        "version": 3
      },
      "file_extension": ".py",
      "mimetype": "text/x-python",
      "name": "python",
      "nbconvert_exporter": "python",
      "pygments_lexer": "ipython3",
      "version": "3.9.6"
    }
  },
  "nbformat": 4,
  "nbformat_minor": 0
}
