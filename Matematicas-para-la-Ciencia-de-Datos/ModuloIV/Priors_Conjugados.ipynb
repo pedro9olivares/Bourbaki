{
  "cells": [
    {
      "cell_type": "markdown",
      "source": [
        "# Galletas evolved: La moneda de 1 euro"
      ],
      "metadata": {
        "id": "h0rJOxyaO8bn"
      }
    },
    {
      "cell_type": "markdown",
      "source": [
        "Una declaración estadística apareció en The Guardian el viernes 4 de enero de 2002:\n",
        "\n",
        "Cuando se giró de canto 250 veces, una moneda belga de 1 euro salió cara 140 veces y cruz 110 veces. \"Me parece muy sospechoso\", dijo Barry Blight, profesor de estadística en la London School of Economics. \"Si la moneda no estuviera sesgada, la probabilidad de obtener un resultado tan extremo sería menos del 7%\".\n",
        "\n",
        "Pero **¿estos datos dan suficiente evidencia de que la moneda está sesgada en lugar de ser justa?**"
      ],
      "metadata": {
        "id": "SejYZYpRQ67u"
      }
    },
    {
      "cell_type": "markdown",
      "source": [
        "Para responder a esa pregunta, procederemos en dos pasos. Primero usaremos la distribución binomial para ver de dónde proviene ese 7%; luego utilizaremos el Teorema de Bayes para estimar la probabilidad de que esta moneda salga cara."
      ],
      "metadata": {
        "id": "aSyR1X5QRPEK"
      }
    },
    {
      "cell_type": "code",
      "source": [
        "from scipy.stats import binom\n",
        "\n",
        "n = 2\n",
        "p = 0.5\n",
        "k = 1\n",
        "\n",
        "binom.pmf(k, n, p)"
      ],
      "metadata": {
        "colab": {
          "base_uri": "https://localhost:8080/"
        },
        "id": "TSLA6HIGO-_Y",
        "outputId": "0b15b64e-1674-424a-a2cf-d10cfd05f6d9"
      },
      "execution_count": 89,
      "outputs": [
        {
          "output_type": "execute_result",
          "data": {
            "text/plain": [
              "0.5000000000000002"
            ]
          },
          "metadata": {},
          "execution_count": 89
        }
      ]
    },
    {
      "cell_type": "code",
      "source": [
        "import numpy as np\n",
        "\n",
        "ks = np.arange(n+1)\n",
        "\n",
        "ps = binom.pmf(ks, n, p)\n",
        "ps"
      ],
      "metadata": {
        "colab": {
          "base_uri": "https://localhost:8080/"
        },
        "id": "wf11V-tGPF0z",
        "outputId": "02dd65f5-ec9a-461c-e122-7ccd7005ec4a"
      },
      "execution_count": 90,
      "outputs": [
        {
          "output_type": "execute_result",
          "data": {
            "text/plain": [
              "array([0.25, 0.5 , 0.25])"
            ]
          },
          "metadata": {},
          "execution_count": 90
        }
      ]
    },
    {
      "cell_type": "code",
      "source": [
        "from empiricaldist import Pmf\n",
        "\n",
        "pmf_k = Pmf(ps, ks)\n",
        "pmf_k"
      ],
      "metadata": {
        "colab": {
          "base_uri": "https://localhost:8080/",
          "height": 143
        },
        "id": "d-WBcEcHPIN6",
        "outputId": "9b309808-ae93-47d4-c07a-d5324dbdc9e6"
      },
      "execution_count": 91,
      "outputs": [
        {
          "output_type": "execute_result",
          "data": {
            "text/plain": [
              "0    0.25\n",
              "1    0.50\n",
              "2    0.25\n",
              "dtype: float64"
            ],
            "text/html": [
              "<div>\n",
              "<style scoped>\n",
              "    .dataframe tbody tr th:only-of-type {\n",
              "        vertical-align: middle;\n",
              "    }\n",
              "\n",
              "    .dataframe tbody tr th {\n",
              "        vertical-align: top;\n",
              "    }\n",
              "\n",
              "    .dataframe thead th {\n",
              "        text-align: right;\n",
              "    }\n",
              "</style>\n",
              "<table border=\"1\" class=\"dataframe\">\n",
              "  <thead>\n",
              "    <tr style=\"text-align: right;\">\n",
              "      <th></th>\n",
              "      <th>probs</th>\n",
              "    </tr>\n",
              "  </thead>\n",
              "  <tbody>\n",
              "    <tr>\n",
              "      <th>0</th>\n",
              "      <td>0.25</td>\n",
              "    </tr>\n",
              "    <tr>\n",
              "      <th>1</th>\n",
              "      <td>0.50</td>\n",
              "    </tr>\n",
              "    <tr>\n",
              "      <th>2</th>\n",
              "      <td>0.25</td>\n",
              "    </tr>\n",
              "  </tbody>\n",
              "</table>\n",
              "</div>"
            ]
          },
          "metadata": {},
          "execution_count": 91
        }
      ]
    },
    {
      "cell_type": "code",
      "source": [
        "def make_binomial(n, p):\n",
        "    \"\"\"Make a binomial Pmf.\"\"\"\n",
        "    ks = np.arange(n+1)\n",
        "    ps = binom.pmf(ks, n, p)\n",
        "    return Pmf(ps, ks)"
      ],
      "metadata": {
        "id": "125IFyVxPNrg"
      },
      "execution_count": 92,
      "outputs": []
    },
    {
      "cell_type": "code",
      "source": [
        "pmf_k = make_binomial(n=250, p=0.5)"
      ],
      "metadata": {
        "id": "e1kDxndHPRt0"
      },
      "execution_count": 94,
      "outputs": []
    },
    {
      "cell_type": "code",
      "source": [
        "pmf_k.plot(label='n=250, p=0.5', title='FMP Binomial', legend='true')"
      ],
      "metadata": {
        "colab": {
          "base_uri": "https://localhost:8080/",
          "height": 470
        },
        "id": "lGfSW7tgPTU1",
        "outputId": "5baaae12-f437-41bd-8e6c-372cbc2b87ac"
      },
      "execution_count": 131,
      "outputs": [
        {
          "output_type": "execute_result",
          "data": {
            "text/plain": [
              "<Axes: title={'center': 'FMP Binomial'}>"
            ]
          },
          "metadata": {},
          "execution_count": 131
        },
        {
          "output_type": "display_data",
          "data": {
            "text/plain": [
              "<Figure size 640x480 with 1 Axes>"
            ],
            "image/png": "[encoded data removed]"
          },
          "metadata": {}
        }
      ]
    },
    {
      "cell_type": "code",
      "source": [
        "pmf_k.max_prob()"
      ],
      "metadata": {
        "colab": {
          "base_uri": "https://localhost:8080/"
        },
        "id": "9B1MyLnoPWFU",
        "outputId": "b6ace4d9-7ca9-452f-d23c-6fafd522f510"
      },
      "execution_count": 117,
      "outputs": [
        {
          "output_type": "execute_result",
          "data": {
            "text/plain": [
              "125"
            ]
          },
          "metadata": {},
          "execution_count": 117
        }
      ]
    },
    {
      "cell_type": "code",
      "source": [
        "pmf_k[125]"
      ],
      "metadata": {
        "colab": {
          "base_uri": "https://localhost:8080/"
        },
        "id": "PZz_SmyvPYqN",
        "outputId": "678501f8-198b-44b1-fbdf-c3c4951028fc"
      },
      "execution_count": 118,
      "outputs": [
        {
          "output_type": "execute_result",
          "data": {
            "text/plain": [
              "0.050412213147309655"
            ]
          },
          "metadata": {},
          "execution_count": 118
        }
      ]
    },
    {
      "cell_type": "code",
      "source": [
        "def prob_ge(pmf, threshold):\n",
        "    \"\"\"Probability of quantities greater than threshold.\"\"\"\n",
        "    ge = (pmf.qs >= threshold)\n",
        "    total = pmf[ge].sum()\n",
        "    return total"
      ],
      "metadata": {
        "id": "2DpxwJjjPa0H"
      },
      "execution_count": 119,
      "outputs": []
    },
    {
      "cell_type": "code",
      "source": [
        "prob_ge(pmf_k, 140)"
      ],
      "metadata": {
        "colab": {
          "base_uri": "https://localhost:8080/"
        },
        "id": "wuSlyPyUPkzi",
        "outputId": "d065b82d-d1f7-49d2-c5e8-ae740111a368"
      },
      "execution_count": 120,
      "outputs": [
        {
          "output_type": "execute_result",
          "data": {
            "text/plain": [
              "0.03321057562002166"
            ]
          },
          "metadata": {},
          "execution_count": 120
        }
      ]
    },
    {
      "cell_type": "code",
      "source": [
        "pmf_k.prob_ge(140)"
      ],
      "metadata": {
        "colab": {
          "base_uri": "https://localhost:8080/"
        },
        "id": "HsFCHGFxPm2Z",
        "outputId": "333e0d4d-d334-4e7f-ae98-a1ff6a9ebba9"
      },
      "execution_count": 121,
      "outputs": [
        {
          "output_type": "execute_result",
          "data": {
            "text/plain": [
              "0.03321057562002166"
            ]
          },
          "metadata": {},
          "execution_count": 121
        }
      ]
    },
    {
      "cell_type": "code",
      "source": [
        "import matplotlib.pyplot as plt\n",
        "\n",
        "def fill_below(pmf):\n",
        "    qs = pmf.index\n",
        "    ps = pmf.values\n",
        "    plt.fill_between(qs, ps, 0, color='C5', alpha=0.4)\n",
        "\n",
        "qs = pmf_k.index\n",
        "fill_below(pmf_k[qs>=140])\n",
        "fill_below(pmf_k[qs<=110])\n",
        "pmf_k.plot(label='n=250, p=0.5', title='FMP Binomial', legend='true')"
      ],
      "metadata": {
        "colab": {
          "base_uri": "https://localhost:8080/",
          "height": 470
        },
        "id": "PKydShr4PpS1",
        "outputId": "ee3c4e1d-c0df-4ac1-f10e-23aae807974f"
      },
      "execution_count": 132,
      "outputs": [
        {
          "output_type": "execute_result",
          "data": {
            "text/plain": [
              "<Axes: title={'center': 'FMP Binomial'}>"
            ]
          },
          "metadata": {},
          "execution_count": 132
        },
        {
          "output_type": "display_data",
          "data": {
            "text/plain": [
              "<Figure size 640x480 with 1 Axes>"
            ],
            "image/png": "[encoded data removed]"
          },
          "metadata": {}
        }
      ]
    },
    {
      "cell_type": "code",
      "source": [
        "pmf_k.prob_le(110)"
      ],
      "metadata": {
        "colab": {
          "base_uri": "https://localhost:8080/"
        },
        "id": "tmoptCViPuB3",
        "outputId": "6d4f505d-124e-43f5-aa6c-9213ec5db8a9"
      },
      "execution_count": 123,
      "outputs": [
        {
          "output_type": "execute_result",
          "data": {
            "text/plain": [
              "0.033210575620021665"
            ]
          },
          "metadata": {},
          "execution_count": 123
        }
      ]
    },
    {
      "cell_type": "markdown",
      "source": [
        "De sumar estos .033, obtenemos el 7%."
      ],
      "metadata": {
        "id": "LeszViLlaI8Q"
      }
    },
    {
      "cell_type": "markdown",
      "source": [
        "## Estimación Bayesiana"
      ],
      "metadata": {
        "id": "Yyb5ecVza4eC"
      }
    },
    {
      "cell_type": "markdown",
      "source": [
        "\n",
        "Cualquier moneda tiene una cierta probabilidad de caer con la cara hacia arriba cuando se hace girar sobre su borde; llamaremos a esta probabilidad x. Parece razonable creer que x depende de las características físicas de la moneda, como la distribución del peso. Si una moneda está perfectamente equilibrada, esperamos que x esté cerca del 50%, pero para una moneda desequilibrada, x podría ser sustancialmente diferente. Podemos usar el teorema de Bayes y los datos observados para estimar x.\n",
        "\n",
        "\n",
        "\n",
        "\n",
        "\n",
        "\n"
      ],
      "metadata": {
        "id": "5huHA2PScBkZ"
      }
    },
    {
      "cell_type": "code",
      "source": [
        "hypos = np.linspace(0, 1, 101)\n",
        "prior = Pmf(1, hypos)"
      ],
      "metadata": {
        "id": "R-y9oPD7Pw2M"
      },
      "execution_count": 124,
      "outputs": []
    },
    {
      "cell_type": "code",
      "source": [
        "likelihood_heads = hypos\n",
        "likelihood_tails = 1 - hypos"
      ],
      "metadata": {
        "id": "DQrsfO2OP1Lr"
      },
      "execution_count": 125,
      "outputs": []
    },
    {
      "cell_type": "code",
      "source": [
        "likelihood = {\n",
        "    'H': likelihood_heads,\n",
        "    'T': likelihood_tails\n",
        "}"
      ],
      "metadata": {
        "id": "t1QpsfnJP3QG"
      },
      "execution_count": 106,
      "outputs": []
    },
    {
      "cell_type": "code",
      "source": [
        "dataset = 'H' * 140 + 'T' * 110"
      ],
      "metadata": {
        "id": "ldCgFO5sP44C"
      },
      "execution_count": 107,
      "outputs": []
    },
    {
      "cell_type": "code",
      "source": [
        "def update_euro(pmf, dataset):\n",
        "    \"\"\"Update pmf with a given sequence of H and T.\"\"\"\n",
        "    for data in dataset:\n",
        "        pmf *= likelihood[data]\n",
        "\n",
        "    pmf.normalize()"
      ],
      "metadata": {
        "id": "SF6GvDQXP6rn"
      },
      "execution_count": 126,
      "outputs": []
    },
    {
      "cell_type": "code",
      "source": [
        "posterior = prior.copy()\n",
        "update_euro(posterior, dataset)"
      ],
      "metadata": {
        "id": "2XZhdNqZP88B"
      },
      "execution_count": 127,
      "outputs": []
    },
    {
      "cell_type": "code",
      "source": [
        "posterior.plot(label='140 heads out of 250', color='C4', legend=True, title='Distribución posterior')"
      ],
      "metadata": {
        "colab": {
          "base_uri": "https://localhost:8080/",
          "height": 471
        },
        "id": "z4_0dt9wQEJa",
        "outputId": "e00b1792-6213-489e-93a8-1d407beeeb94"
      },
      "execution_count": 133,
      "outputs": [
        {
          "output_type": "execute_result",
          "data": {
            "text/plain": [
              "<Axes: title={'center': 'Distribución posterior'}>"
            ]
          },
          "metadata": {},
          "execution_count": 133
        },
        {
          "output_type": "display_data",
          "data": {
            "text/plain": [
              "<Figure size 640x480 with 1 Axes>"
            ],
            "image/png": "[encoded data removed]"
          },
          "metadata": {}
        }
      ]
    },
    {
      "cell_type": "code",
      "source": [
        "posterior.max_prob()"
      ],
      "metadata": {
        "colab": {
          "base_uri": "https://localhost:8080/"
        },
        "id": "zWzHCRflQJOP",
        "outputId": "c0f34ac7-d236-4c05-821a-855c3f034a6b"
      },
      "execution_count": 112,
      "outputs": [
        {
          "output_type": "execute_result",
          "data": {
            "text/plain": [
              "0.56"
            ]
          },
          "metadata": {},
          "execution_count": 112
        }
      ]
    },
    {
      "cell_type": "markdown",
      "source": [
        "Notar que 140/250 = .56"
      ],
      "metadata": {
        "id": "LNPmaO9-cOVe"
      }
    },
    {
      "cell_type": "markdown",
      "source": [
        "¿Que pasaría si utilizaramos un prior que no fuera la distribución uniforme?"
      ],
      "metadata": {
        "id": "7mH4Ol34cU4x"
      }
    },
    {
      "cell_type": "markdown",
      "metadata": {
        "id": "fjPN5L0t56cM"
      },
      "source": [
        "# Priors Conjugados o Conjugate Priors"
      ]
    },
    {
      "cell_type": "markdown",
      "metadata": {
        "id": "gxEqPep_59uO"
      },
      "source": [
        "Existe una manera más sencilla de realizar actualizaciones bayesianas."
      ]
    },
    {
      "cell_type": "markdown",
      "metadata": {
        "id": "8EabXV556HDB"
      },
      "source": [
        "Cuando las distribuciones prior y posterior pertenecen a la misma familia de distribuciones de probabilidad, la distribución prior se llama una prior conjugado a la función de verosimilitud."
      ]
    },
    {
      "cell_type": "markdown",
      "source": [
        "Esta propiedad simplifica el proceso de actualizar creencias en presencia de nuevos datos, ya que asegura que la distribución posterior esté en la misma familia que la distribución previa."
      ],
      "metadata": {
        "id": "dvbVU5N6jJbT"
      }
    },
    {
      "cell_type": "code",
      "execution_count": 41,
      "metadata": {
        "colab": {
          "base_uri": "https://localhost:8080/"
        },
        "id": "yDu9FdiJ9QmM",
        "outputId": "cbb2636e-5cf1-4734-aa79-33c4233e66d9"
      },
      "outputs": [
        {
          "output_type": "stream",
          "name": "stdout",
          "text": [
            "Requirement already satisfied: empiricaldist in /usr/local/lib/python3.10/dist-packages (0.7.2)\n"
          ]
        }
      ],
      "source": [
        "!pip install empiricaldist"
      ]
    },
    {
      "cell_type": "code",
      "execution_count": 42,
      "metadata": {
        "id": "Nx5VhTCM83u7"
      },
      "outputs": [],
      "source": [
        "from empiricaldist import Pmf\n",
        "\n",
        "def pmf_from_dist(dist, low, high):\n",
        "    \"\"\"Make a discrete approximation of a continuous distribution.\n",
        "\n",
        "    dist: SciPy dist object\n",
        "    low: low end of range\n",
        "    high: high end of range\n",
        "\n",
        "    returns: normalized Pmf\n",
        "    \"\"\"\n",
        "    qs = np.linspace(low, high, 101)\n",
        "    ps = dist.pdf(qs)\n",
        "    pmf = Pmf(ps, qs)\n",
        "    pmf.normalize()\n",
        "    return pmf"
      ]
    },
    {
      "cell_type": "markdown",
      "metadata": {
        "id": "z2yzqMua8FvZ"
      },
      "source": [
        "## Gamma y Poisson"
      ]
    },
    {
      "cell_type": "markdown",
      "source": [
        "La distribución Gamma es el prior conjugate de la distribución Poisson"
      ],
      "metadata": {
        "id": "pIIo9TeQjfwv"
      }
    },
    {
      "cell_type": "markdown",
      "source": [
        "Esto nos va a dar una manera muy sencilla de obtener la distribución posterior"
      ],
      "metadata": {
        "id": "_9MLzF5Dj2Iz"
      }
    },
    {
      "cell_type": "code",
      "execution_count": 43,
      "metadata": {
        "id": "IhcGnIeI50b5"
      },
      "outputs": [],
      "source": [
        "from scipy.stats import gamma\n",
        "from scipy.stats import poisson\n",
        "import numpy as np"
      ]
    },
    {
      "cell_type": "code",
      "execution_count": 44,
      "metadata": {
        "id": "ro5E8BeG8Pnz"
      },
      "outputs": [],
      "source": [
        "def make_gamma_dist(alpha, beta):\n",
        "    \"\"\"Makes a gamma object.\"\"\"\n",
        "    dist = gamma(alpha, scale=1/beta)\n",
        "    dist.alpha = alpha\n",
        "    dist.beta = beta\n",
        "    return dist"
      ]
    },
    {
      "cell_type": "code",
      "execution_count": 45,
      "metadata": {
        "colab": {
          "base_uri": "https://localhost:8080/"
        },
        "id": "5pIFz9I18Uy7",
        "outputId": "64fc1be6-9a0b-4d7a-b881-58abfc888bf1"
      },
      "outputs": [
        {
          "output_type": "execute_result",
          "data": {
            "text/plain": [
              "1.4"
            ]
          },
          "metadata": {},
          "execution_count": 45
        }
      ],
      "source": [
        "alpha = 1.4\n",
        "beta = 1\n",
        "\n",
        "prior_gamma = make_gamma_dist(alpha, beta)\n",
        "prior_gamma.mean()"
      ]
    },
    {
      "cell_type": "markdown",
      "source": [
        "Afirmamos sin demostrar que podemos hacer una actualización bayesiana de k goles/galletas/spins simplemente creando una distribución gamma con parámetros alfa+k y beta+1."
      ],
      "metadata": {
        "id": "w5TNvrBkkGc5"
      }
    },
    {
      "cell_type": "code",
      "execution_count": 46,
      "metadata": {
        "id": "TBNr2poT8XAl"
      },
      "outputs": [],
      "source": [
        "def update_gamma(prior, data):\n",
        "    \"\"\"Update a gamma prior.\"\"\"\n",
        "    k, t = data\n",
        "    alpha = prior.alpha + k\n",
        "    beta = prior.beta + t\n",
        "    return make_gamma_dist(alpha, beta)"
      ]
    },
    {
      "cell_type": "markdown",
      "source": [
        "Por ejemplo, para 4 goles en 1 partido:"
      ],
      "metadata": {
        "id": "w5B6dyePkSa1"
      }
    },
    {
      "cell_type": "code",
      "execution_count": 135,
      "metadata": {
        "id": "n77LV0gT8Zm9"
      },
      "outputs": [],
      "source": [
        "data = 4, 1\n",
        "posterior_gamma = update_gamma(prior_gamma, data)"
      ]
    },
    {
      "cell_type": "code",
      "execution_count": 136,
      "metadata": {
        "id": "2sWY-PL08b1h"
      },
      "outputs": [],
      "source": [
        "#lams = np.linspace(0, 10, 101)\n",
        "posterior_conjugate = pmf_from_dist(posterior_gamma, 0, 10)"
      ]
    },
    {
      "cell_type": "code",
      "execution_count": 137,
      "metadata": {
        "colab": {
          "base_uri": "https://localhost:8080/",
          "height": 448
        },
        "id": "LR2ul9N7-IxP",
        "outputId": "271ec200-1b82-4716-c6d7-d14ee052e7d4"
      },
      "outputs": [
        {
          "output_type": "execute_result",
          "data": {
            "text/plain": [
              "<Axes: >"
            ]
          },
          "metadata": {},
          "execution_count": 137
        },
        {
          "output_type": "display_data",
          "data": {
            "text/plain": [
              "<Figure size 640x480 with 1 Axes>"
            ],
            "image/png": "[encoded data removed]"
          },
          "metadata": {}
        }
      ],
      "source": [
        "posterior_conjugate.plot(label='conjugate posterior',\n",
        "                         color='C4', ls=':', legend=True)"
      ]
    },
    {
      "cell_type": "markdown",
      "metadata": {
        "id": "o9kytifg-cpx"
      },
      "source": [
        "## Binomial y Beta"
      ]
    },
    {
      "cell_type": "markdown",
      "source": [
        "La distribución beta es el prior conjugado de la distribución binomial"
      ],
      "metadata": {
        "id": "sO71SWOulLxY"
      }
    },
    {
      "cell_type": "markdown",
      "source": [
        "De hecho, la distribución uniforme es una instancia de la distribución beta cuando sus parámetros son igual a 1"
      ],
      "metadata": {
        "id": "BxBo7B23lbTK"
      }
    },
    {
      "cell_type": "code",
      "execution_count": 50,
      "metadata": {
        "id": "GIYCidQC-h5W"
      },
      "outputs": [],
      "source": [
        "import scipy.stats\n",
        "\n",
        "def make_beta(alpha, beta):\n",
        "    \"\"\"Makes a beta object.\"\"\"\n",
        "    dist = scipy.stats.beta(alpha, beta)\n",
        "    dist.alpha = alpha\n",
        "    dist.beta = beta\n",
        "    return dist"
      ]
    },
    {
      "cell_type": "markdown",
      "source": [
        "La distribución beta está limitada entre 0 y 1, por lo que funciona bien para representar la distribución de una probabilidad como x. Tiene dos parámetros, llamados alfa y beta, que determinan la forma de la distribución.\n",
        "\n",
        "\n",
        "\n",
        "\n",
        "\n",
        "\n"
      ],
      "metadata": {
        "id": "IZO71lsJlzV7"
      }
    },
    {
      "cell_type": "code",
      "execution_count": 51,
      "metadata": {
        "id": "yDapsedW-41g"
      },
      "outputs": [],
      "source": [
        "alpha = 1\n",
        "beta = 1\n",
        "\n",
        "prior_beta = make_beta(alpha, beta) # Beta/Uniforme"
      ]
    },
    {
      "cell_type": "markdown",
      "source": [
        "En este caso, la actualización bayesiana se reduce a sumar $k$ y $n-k$ en alfa y beta respectivamente."
      ],
      "metadata": {
        "id": "WDqcMJCql97u"
      }
    },
    {
      "cell_type": "code",
      "execution_count": 52,
      "metadata": {
        "id": "YMH0QEr_-8T9"
      },
      "outputs": [],
      "source": [
        "def update_beta(prior, data):\n",
        "    \"\"\"Update a beta distribution.\"\"\"\n",
        "    k, n = data\n",
        "    alpha = prior.alpha + k\n",
        "    beta = prior.beta + n - k\n",
        "    return make_beta(alpha, beta)"
      ]
    },
    {
      "cell_type": "code",
      "execution_count": 53,
      "metadata": {
        "id": "uLnHXikb--db"
      },
      "outputs": [],
      "source": [
        "data = 140, 250\n",
        "posterior_beta = update_beta(prior_beta, data)"
      ]
    },
    {
      "cell_type": "code",
      "execution_count": 54,
      "metadata": {
        "id": "911J-j5K_AeI"
      },
      "outputs": [],
      "source": [
        "posterior_conjugate = pmf_from_dist(posterior_beta, 0, 1)"
      ]
    },
    {
      "cell_type": "code",
      "execution_count": 55,
      "metadata": {
        "colab": {
          "base_uri": "https://localhost:8080/",
          "height": 448
        },
        "id": "_a1qJsCB_NUT",
        "outputId": "dd580b27-979a-43cd-a0bf-0a1a6d4c9c0c"
      },
      "outputs": [
        {
          "output_type": "execute_result",
          "data": {
            "text/plain": [
              "<Axes: >"
            ]
          },
          "metadata": {},
          "execution_count": 55
        },
        {
          "output_type": "display_data",
          "data": {
            "text/plain": [
              "<Figure size 640x480 with 1 Axes>"
            ],
            "image/png": "[encoded data removed]"
          },
          "metadata": {}
        }
      ],
      "source": [
        "posterior_conjugate.plot(label='conjugate posterior',\n",
        "                        color='C4', ls=':')"
      ]
    },
    {
      "cell_type": "markdown",
      "metadata": {
        "id": "1T5l1-39_Vx2"
      },
      "source": [
        "## Multinomial y Dirichlet"
      ]
    },
    {
      "cell_type": "markdown",
      "source": [
        "Supongamos que visitamos una reserva de animales salvajes donde sabemos que los únicos animales son leones, tigres y osos, pero no sabemos cuántos hay de cada uno. Durante el recorrido, vemos 3 leones, 2 tigres y 1 oso. Suponiendo que cada animal tenía igual probabilidad de aparecer en nuestra muestra, ¿cuál es la probabilidad de que el próximo animal que veamos sea un oso?"
      ],
      "metadata": {
        "id": "FHUDg475mms8"
      }
    },
    {
      "cell_type": "markdown",
      "source": [
        "Para responder a esta pregunta, utilizaremos los datos para estimar la prevalencia de cada especie, es decir, qué fracción de los animales pertenece a cada especie. Si conocemos las prevalencias, podemos usar la distribución multinomial para calcular la probabilidad de los datos. Por ejemplo, supongamos que sabemos que la fracción de leones, tigres y osos es 0.4, 0.3 y 0.3, respectivamente."
      ],
      "metadata": {
        "id": "v_8wZ2f_myRr"
      }
    },
    {
      "cell_type": "code",
      "execution_count": 56,
      "metadata": {
        "colab": {
          "base_uri": "https://localhost:8080/"
        },
        "id": "gZR6KawXMfvj",
        "outputId": "cf57e506-c58d-4221-8d98-736832cddfdc"
      },
      "outputs": [
        {
          "output_type": "execute_result",
          "data": {
            "text/plain": [
              "0.10368"
            ]
          },
          "metadata": {},
          "execution_count": 56
        }
      ],
      "source": [
        "from scipy.stats import multinomial\n",
        "\n",
        "data = 3, 2, 1\n",
        "n = np.sum(data)\n",
        "ps = 0.4, 0.3, 0.3\n",
        "\n",
        "multinomial.pmf(data, n, ps)"
      ]
    },
    {
      "cell_type": "markdown",
      "source": [
        "Ahora podríamos elegir un prior para las prevalencias y hacer una actualización bayesiana usando la distribución multinomial para calcular la probabilidad de los datos.\n",
        "\n",
        "Pero hay una manera más fácil, porque la distribución multinomial tiene un prior conjugado: la distribución de Dirichlet."
      ],
      "metadata": {
        "id": "4eWzhP9bm9VF"
      }
    },
    {
      "cell_type": "code",
      "execution_count": 57,
      "metadata": {
        "id": "M7bgQTcxMgth"
      },
      "outputs": [],
      "source": [
        "from scipy.stats import dirichlet\n",
        "\n",
        "alpha = 1, 2, 3\n",
        "dist = dirichlet(alpha)"
      ]
    },
    {
      "cell_type": "code",
      "execution_count": 58,
      "metadata": {
        "colab": {
          "base_uri": "https://localhost:8080/"
        },
        "id": "DFsGkXfOMky2",
        "outputId": "a2213e6e-9936-435a-9224-005a46fa5911"
      },
      "outputs": [
        {
          "output_type": "execute_result",
          "data": {
            "text/plain": [
              "array([[0.05147568, 0.39042444, 0.55809988]])"
            ]
          },
          "metadata": {},
          "execution_count": 58
        }
      ],
      "source": [
        "dist.rvs()"
      ]
    },
    {
      "cell_type": "code",
      "execution_count": 59,
      "metadata": {
        "colab": {
          "base_uri": "https://localhost:8080/"
        },
        "id": "a6fgDwwKMm-8",
        "outputId": "f7ea9fe4-09c7-403a-a317-f9052d0f4893"
      },
      "outputs": [
        {
          "output_type": "execute_result",
          "data": {
            "text/plain": [
              "1.0"
            ]
          },
          "metadata": {},
          "execution_count": 59
        }
      ],
      "source": [
        "dist.rvs().sum()"
      ]
    },
    {
      "cell_type": "code",
      "execution_count": 60,
      "metadata": {
        "id": "GvMAvLSEMq5e"
      },
      "outputs": [],
      "source": [
        "sample = dist.rvs(1000)"
      ]
    },
    {
      "cell_type": "code",
      "execution_count": 61,
      "metadata": {
        "colab": {
          "base_uri": "https://localhost:8080/"
        },
        "id": "scxmKZO5Mtko",
        "outputId": "d6ac9165-2fab-4014-bc86-e4e814b5b2a0"
      },
      "outputs": [
        {
          "output_type": "execute_result",
          "data": {
            "text/plain": [
              "(1000, 3)"
            ]
          },
          "metadata": {},
          "execution_count": 61
        }
      ],
      "source": [
        "sample.shape"
      ]
    },
    {
      "cell_type": "code",
      "execution_count": 62,
      "metadata": {
        "id": "RJzicGi2MyJH"
      },
      "outputs": [],
      "source": [
        "from empiricaldist import Cdf\n",
        "\n",
        "cdfs = [Cdf.from_seq(col)\n",
        "        for col in sample.transpose()]"
      ]
    },
    {
      "cell_type": "code",
      "execution_count": 63,
      "metadata": {
        "colab": {
          "base_uri": "https://localhost:8080/",
          "height": 430
        },
        "id": "Bl-SxlW4M0oC",
        "outputId": "f96f50c0-8a09-4c00-a229-256ba08c35eb"
      },
      "outputs": [
        {
          "output_type": "display_data",
          "data": {
            "text/plain": [
              "<Figure size 640x480 with 1 Axes>"
            ],
            "image/png": "[encoded data removed]"
          },
          "metadata": {}
        }
      ],
      "source": [
        "for i, cdf in enumerate(cdfs):\n",
        "    label = f'Column {i}'\n",
        "    cdf.plot(label=label)"
      ]
    },
    {
      "cell_type": "markdown",
      "source": [
        "\n",
        "Resulta que estas distribuciones marginales son distribuciones beta. La siguiente función toma una secuencia de parámetros, alpha, y calcula la distribución marginal de la variable i:"
      ],
      "metadata": {
        "id": "KJtho_udnKh_"
      }
    },
    {
      "cell_type": "code",
      "execution_count": 64,
      "metadata": {
        "id": "vrEIYjZvM44X"
      },
      "outputs": [],
      "source": [
        "def marginal_beta(alpha, i):\n",
        "    \"\"\"Compute the ith marginal of a Dirichlet distribution.\"\"\"\n",
        "    total = np.sum(alpha)\n",
        "    return make_beta(alpha[i], total-alpha[i])"
      ]
    },
    {
      "cell_type": "code",
      "execution_count": 65,
      "metadata": {
        "id": "198xWQp8M7oA"
      },
      "outputs": [],
      "source": [
        "marginals = [marginal_beta(alpha, i)\n",
        "             for i in range(len(alpha))]"
      ]
    },
    {
      "cell_type": "markdown",
      "source": [
        "Comparamos las marginales obtenidas de los datos contra las marginales teóricas:"
      ],
      "metadata": {
        "id": "IBeIvLeynZQS"
      }
    },
    {
      "cell_type": "code",
      "source": [
        "xs = np.linspace(0, 1, 101)\n",
        "\n",
        "for i in range(len(alpha)):\n",
        "    label = f'Column {i}'\n",
        "\n",
        "    pmf = pmf_from_dist(marginals[i], 0, 1)\n",
        "    pmf.make_cdf().plot(color='C5')\n",
        "\n",
        "    cdf = cdfs[i]\n",
        "    cdf.plot(label=label, ls=':')"
      ],
      "metadata": {
        "colab": {
          "base_uri": "https://localhost:8080/",
          "height": 430
        },
        "id": "ZbRNzx_ONQfl",
        "outputId": "96a6a853-82ed-463f-b9de-8de8f8ff3e67"
      },
      "execution_count": 66,
      "outputs": [
        {
          "output_type": "display_data",
          "data": {
            "text/plain": [
              "<Figure size 640x480 with 1 Axes>"
            ],
            "image/png": "[encoded data removed]"
          },
          "metadata": {}
        }
      ]
    },
    {
      "cell_type": "markdown",
      "source": [
        "De donde obtenemos confirmación visual de que las distribuciones marginales de una distribucipon de Dirichlet (multivariada) son efectivamente distribuciones Beta."
      ],
      "metadata": {
        "id": "L7zhOuRunhIt"
      }
    },
    {
      "cell_type": "markdown",
      "source": [
        "Así, podemos contestar la pregunta ayudándonos de los priors conjugados:"
      ],
      "metadata": {
        "id": "liemvcq9ntYn"
      }
    },
    {
      "cell_type": "code",
      "source": [
        "prior_alpha = np.array([1, 1, 1]) # alpha para el prior (Dirichlet)\n",
        "data = 3, 2, 1"
      ],
      "metadata": {
        "id": "2X2nfFuuNmP8"
      },
      "execution_count": 138,
      "outputs": []
    },
    {
      "cell_type": "code",
      "source": [
        "posterior_alpha = prior_alpha + data # La actualización es una suma en alpha\n",
        "posterior_alpha"
      ],
      "metadata": {
        "colab": {
          "base_uri": "https://localhost:8080/"
        },
        "id": "A9OjfqhaNm2P",
        "outputId": "6f6398f5-5183-41b8-d088-419ba46db992"
      },
      "execution_count": 141,
      "outputs": [
        {
          "output_type": "execute_result",
          "data": {
            "text/plain": [
              "array([4, 3, 2])"
            ]
          },
          "metadata": {},
          "execution_count": 141
        }
      ]
    },
    {
      "cell_type": "code",
      "source": [
        "marginal_bear = marginal_beta(posterior_alpha, 2) # Visto marginalmente\n",
        "marginal_bear.mean()"
      ],
      "metadata": {
        "colab": {
          "base_uri": "https://localhost:8080/"
        },
        "id": "6gvKQszxNpH3",
        "outputId": "7d974c4a-c742-4ea5-ffc9-f3cb54a5bd00"
      },
      "execution_count": 75,
      "outputs": [
        {
          "output_type": "execute_result",
          "data": {
            "text/plain": [
              "0.2222222222222222"
            ]
          },
          "metadata": {},
          "execution_count": 75
        }
      ]
    },
    {
      "cell_type": "code",
      "source": [
        "dist = dirichlet(posterior_alpha) # Visto conjuntamente"
      ],
      "metadata": {
        "id": "lx7VkeQuNrGr"
      },
      "execution_count": 142,
      "outputs": []
    },
    {
      "cell_type": "code",
      "source": [
        "import pandas as pd\n",
        "\n",
        "index = ['lion', 'tiger', 'bear']\n",
        "pd.DataFrame(dist.mean(), index, columns=['prob'])"
      ],
      "metadata": {
        "colab": {
          "base_uri": "https://localhost:8080/",
          "height": 143
        },
        "id": "9UmQGx03NttL",
        "outputId": "eb054a7a-8dcd-4b01-e1bf-fbbf3cddc203"
      },
      "execution_count": 143,
      "outputs": [
        {
          "output_type": "execute_result",
          "data": {
            "text/plain": [
              "           prob\n",
              "lion   0.444444\n",
              "tiger  0.333333\n",
              "bear   0.222222"
            ],
            "text/html": [
              "\n",
              "  <div id=\"df-f31d352f-27c6-4f69-90a3-cbcac8abefde\" class=\"colab-df-container\">\n",
              "    <div>\n",
              "<style scoped>\n",
              "    .dataframe tbody tr th:only-of-type {\n",
              "        vertical-align: middle;\n",
              "    }\n",
              "\n",
              "    .dataframe tbody tr th {\n",
              "        vertical-align: top;\n",
              "    }\n",
              "\n",
              "    .dataframe thead th {\n",
              "        text-align: right;\n",
              "    }\n",
              "</style>\n",
              "<table border=\"1\" class=\"dataframe\">\n",
              "  <thead>\n",
              "    <tr style=\"text-align: right;\">\n",
              "      <th></th>\n",
              "      <th>prob</th>\n",
              "    </tr>\n",
              "  </thead>\n",
              "  <tbody>\n",
              "    <tr>\n",
              "      <th>lion</th>\n",
              "      <td>0.444444</td>\n",
              "    </tr>\n",
              "    <tr>\n",
              "      <th>tiger</th>\n",
              "      <td>0.333333</td>\n",
              "    </tr>\n",
              "    <tr>\n",
              "      <th>bear</th>\n",
              "      <td>0.222222</td>\n",
              "    </tr>\n",
              "  </tbody>\n",
              "</table>\n",
              "</div>\n",
              "    <div class=\"colab-df-buttons\">\n",
              "\n",
              "  <div class=\"colab-df-container\">\n",
              "    <button class=\"colab-df-convert\" onclick=\"convertToInteractive('df-f31d352f-27c6-4f69-90a3-cbcac8abefde')\"\n",
              "            title=\"Convert this dataframe to an interactive table.\"\n",
              "            style=\"display:none;\">\n",
              "\n",
              "  <svg xmlns=\"http://www.w3.org/2000/svg\" height=\"24px\" viewBox=\"0 -960 960 960\">\n",
              "    <path d=\"M120-120v-720h720v720H120Zm60-500h600v-160H180v160Zm220 220h160v-160H400v160Zm0 220h160v-160H400v160ZM180-400h160v-160H180v160Zm440 0h160v-160H620v160ZM180-180h160v-160H180v160Zm440 0h160v-160H620v160Z\"/>\n",
              "  </svg>\n",
              "    </button>\n",
              "\n",
              "  <style>\n",
              "    .colab-df-container {\n",
              "      display:flex;\n",
              "      gap: 12px;\n",
              "    }\n",
              "\n",
              "    .colab-df-convert {\n",
              "      background-color: #E8F0FE;\n",
              "      border: none;\n",
              "      border-radius: 50%;\n",
              "      cursor: pointer;\n",
              "      display: none;\n",
              "      fill: #1967D2;\n",
              "      height: 32px;\n",
              "      padding: 0 0 0 0;\n",
              "      width: 32px;\n",
              "    }\n",
              "\n",
              "    .colab-df-convert:hover {\n",
              "      background-color: #E2EBFA;\n",
              "      box-shadow: 0px 1px 2px rgba(60, 64, 67, 0.3), 0px 1px 3px 1px rgba(60, 64, 67, 0.15);\n",
              "      fill: #174EA6;\n",
              "    }\n",
              "\n",
              "    .colab-df-buttons div {\n",
              "      margin-bottom: 4px;\n",
              "    }\n",
              "\n",
              "    [theme=dark] .colab-df-convert {\n",
              "      background-color: #3B4455;\n",
              "      fill: #D2E3FC;\n",
              "    }\n",
              "\n",
              "    [theme=dark] .colab-df-convert:hover {\n",
              "      background-color: #434B5C;\n",
              "      box-shadow: 0px 1px 3px 1px rgba(0, 0, 0, 0.15);\n",
              "      filter: drop-shadow(0px 1px 2px rgba(0, 0, 0, 0.3));\n",
              "      fill: #FFFFFF;\n",
              "    }\n",
              "  </style>\n",
              "\n",
              "    <script>\n",
              "      const buttonEl =\n",
              "        document.querySelector('#df-f31d352f-27c6-4f69-90a3-cbcac8abefde button.colab-df-convert');\n",
              "      buttonEl.style.display =\n",
              "        google.colab.kernel.accessAllowed ? 'block' : 'none';\n",
              "\n",
              "      async function convertToInteractive(key) {\n",
              "        const element = document.querySelector('#df-f31d352f-27c6-4f69-90a3-cbcac8abefde');\n",
              "        const dataTable =\n",
              "          await google.colab.kernel.invokeFunction('convertToInteractive',\n",
              "                                                    [key], {});\n",
              "        if (!dataTable) return;\n",
              "\n",
              "        const docLinkHtml = 'Like what you see? Visit the ' +\n",
              "          '<a target=\"_blank\" href=https://colab.research.google.com/notebooks/data_table.ipynb>data table notebook</a>'\n",
              "          + ' to learn more about interactive tables.';\n",
              "        element.innerHTML = '';\n",
              "        dataTable['output_type'] = 'display_data';\n",
              "        await google.colab.output.renderOutput(dataTable, element);\n",
              "        const docLink = document.createElement('div');\n",
              "        docLink.innerHTML = docLinkHtml;\n",
              "        element.appendChild(docLink);\n",
              "      }\n",
              "    </script>\n",
              "  </div>\n",
              "\n",
              "\n",
              "<div id=\"df-91323afb-bf27-4eb5-8748-1c409d21cd6b\">\n",
              "  <button class=\"colab-df-quickchart\" onclick=\"quickchart('df-91323afb-bf27-4eb5-8748-1c409d21cd6b')\"\n",
              "            title=\"Suggest charts\"\n",
              "            style=\"display:none;\">\n",
              "\n",
              "<svg xmlns=\"http://www.w3.org/2000/svg\" height=\"24px\"viewBox=\"0 0 24 24\"\n",
              "     width=\"24px\">\n",
              "    <g>\n",
              "        <path d=\"M19 3H5c-1.1 0-2 .9-2 2v14c0 1.1.9 2 2 2h14c1.1 0 2-.9 2-2V5c0-1.1-.9-2-2-2zM9 17H7v-7h2v7zm4 0h-2V7h2v10zm4 0h-2v-4h2v4z\"/>\n",
              "    </g>\n",
              "</svg>\n",
              "  </button>\n",
              "\n",
              "<style>\n",
              "  .colab-df-quickchart {\n",
              "      --bg-color: #E8F0FE;\n",
              "      --fill-color: #1967D2;\n",
              "      --hover-bg-color: #E2EBFA;\n",
              "      --hover-fill-color: #174EA6;\n",
              "      --disabled-fill-color: #AAA;\n",
              "      --disabled-bg-color: #DDD;\n",
              "  }\n",
              "\n",
              "  [theme=dark] .colab-df-quickchart {\n",
              "      --bg-color: #3B4455;\n",
              "      --fill-color: #D2E3FC;\n",
              "      --hover-bg-color: #434B5C;\n",
              "      --hover-fill-color: #FFFFFF;\n",
              "      --disabled-bg-color: #3B4455;\n",
              "      --disabled-fill-color: #666;\n",
              "  }\n",
              "\n",
              "  .colab-df-quickchart {\n",
              "    background-color: var(--bg-color);\n",
              "    border: none;\n",
              "    border-radius: 50%;\n",
              "    cursor: pointer;\n",
              "    display: none;\n",
              "    fill: var(--fill-color);\n",
              "    height: 32px;\n",
              "    padding: 0;\n",
              "    width: 32px;\n",
              "  }\n",
              "\n",
              "  .colab-df-quickchart:hover {\n",
              "    background-color: var(--hover-bg-color);\n",
              "    box-shadow: 0 1px 2px rgba(60, 64, 67, 0.3), 0 1px 3px 1px rgba(60, 64, 67, 0.15);\n",
              "    fill: var(--button-hover-fill-color);\n",
              "  }\n",
              "\n",
              "  .colab-df-quickchart-complete:disabled,\n",
              "  .colab-df-quickchart-complete:disabled:hover {\n",
              "    background-color: var(--disabled-bg-color);\n",
              "    fill: var(--disabled-fill-color);\n",
              "    box-shadow: none;\n",
              "  }\n",
              "\n",
              "  .colab-df-spinner {\n",
              "    border: 2px solid var(--fill-color);\n",
              "    border-color: transparent;\n",
              "    border-bottom-color: var(--fill-color);\n",
              "    animation:\n",
              "      spin 1s steps(1) infinite;\n",
              "  }\n",
              "\n",
              "  @keyframes spin {\n",
              "    0% {\n",
              "      border-color: transparent;\n",
              "      border-bottom-color: var(--fill-color);\n",
              "      border-left-color: var(--fill-color);\n",
              "    }\n",
              "    20% {\n",
              "      border-color: transparent;\n",
              "      border-left-color: var(--fill-color);\n",
              "      border-top-color: var(--fill-color);\n",
              "    }\n",
              "    30% {\n",
              "      border-color: transparent;\n",
              "      border-left-color: var(--fill-color);\n",
              "      border-top-color: var(--fill-color);\n",
              "      border-right-color: var(--fill-color);\n",
              "    }\n",
              "    40% {\n",
              "      border-color: transparent;\n",
              "      border-right-color: var(--fill-color);\n",
              "      border-top-color: var(--fill-color);\n",
              "    }\n",
              "    60% {\n",
              "      border-color: transparent;\n",
              "      border-right-color: var(--fill-color);\n",
              "    }\n",
              "    80% {\n",
              "      border-color: transparent;\n",
              "      border-right-color: var(--fill-color);\n",
              "      border-bottom-color: var(--fill-color);\n",
              "    }\n",
              "    90% {\n",
              "      border-color: transparent;\n",
              "      border-bottom-color: var(--fill-color);\n",
              "    }\n",
              "  }\n",
              "</style>\n",
              "\n",
              "  <script>\n",
              "    async function quickchart(key) {\n",
              "      const quickchartButtonEl =\n",
              "        document.querySelector('#' + key + ' button');\n",
              "      quickchartButtonEl.disabled = true;  // To prevent multiple clicks.\n",
              "      quickchartButtonEl.classList.add('colab-df-spinner');\n",
              "      try {\n",
              "        const charts = await google.colab.kernel.invokeFunction(\n",
              "            'suggestCharts', [key], {});\n",
              "      } catch (error) {\n",
              "        console.error('Error during call to suggestCharts:', error);\n",
              "      }\n",
              "      quickchartButtonEl.classList.remove('colab-df-spinner');\n",
              "      quickchartButtonEl.classList.add('colab-df-quickchart-complete');\n",
              "    }\n",
              "    (() => {\n",
              "      let quickchartButtonEl =\n",
              "        document.querySelector('#df-91323afb-bf27-4eb5-8748-1c409d21cd6b button');\n",
              "      quickchartButtonEl.style.display =\n",
              "        google.colab.kernel.accessAllowed ? 'block' : 'none';\n",
              "    })();\n",
              "  </script>\n",
              "</div>\n",
              "\n",
              "    </div>\n",
              "  </div>\n"
            ],
            "application/vnd.google.colaboratory.intrinsic+json": {
              "type": "dataframe",
              "summary": "{\n  \"name\": \"pd\",\n  \"rows\": 3,\n  \"fields\": [\n    {\n      \"column\": \"prob\",\n      \"properties\": {\n        \"dtype\": \"number\",\n        \"std\": 0.1111111111111111,\n        \"min\": 0.2222222222222222,\n        \"max\": 0.4444444444444444,\n        \"num_unique_values\": 3,\n        \"samples\": [\n          0.4444444444444444,\n          0.3333333333333333,\n          0.2222222222222222\n        ],\n        \"semantic_type\": \"\",\n        \"description\": \"\"\n      }\n    }\n  ]\n}"
            }
          },
          "metadata": {},
          "execution_count": 143
        }
      ]
    },
    {
      "cell_type": "markdown",
      "metadata": {
        "id": "olhl5Cby_YZo"
      },
      "source": [
        "## Los reviewers de 3Blue1Brown"
      ]
    },
    {
      "cell_type": "markdown",
      "source": [
        "3Blue1Brown plante el siguiente problema en uno de sus videos:"
      ],
      "metadata": {
        "id": "KkbnnGmioeiy"
      }
    },
    {
      "cell_type": "markdown",
      "source": [
        "> Estás comprando un producto en línea y ves que tres vendedores ofrecen el mismo producto al mismo precio. Uno de ellos tiene una calificación positiva del 100%, pero con solo 10 reseñas. Otro tiene una calificación positiva del 96% con un total de 50 reseñas. Y otro más tiene una calificación positiva del 93%, pero con 200 reseñas en total.\n",
        "\n",
        "> ¿De cuál vendedor deberías comprar?\n",
        "\n",
        "\n",
        "\n",
        "\n",
        "\n",
        "\n"
      ],
      "metadata": {
        "id": "oExw4YoYo1pW"
      }
    },
    {
      "cell_type": "markdown",
      "source": [
        "Supongamos que cada vendedor tiene una probabilidad desconocida x de proporcionar un servicio satisfactorio y obtener una calificación positiva, y queremos elegir al vendedor con el valor más alto de x."
      ],
      "metadata": {
        "id": "jqO-lD3IphhL"
      }
    },
    {
      "cell_type": "code",
      "source": [
        "# Utilicemos un beta de prior con parámetros 8 y 2\n",
        "# De esta forma, estamos suponiendo que los vendedores son buenos la mayoría de las veces\n",
        "\n",
        "prior = make_beta(8, 2)\n",
        "\n",
        "prior_pmf = pmf_from_dist(prior, .005, .995)\n",
        "prior_pmf.plot(color='C5', label='prior', legend=True)"
      ],
      "metadata": {
        "colab": {
          "base_uri": "https://localhost:8080/",
          "height": 448
        },
        "id": "gOCG7DbJNV-i",
        "outputId": "7812d7d3-899b-4cda-d007-6c8e7d52ff9e"
      },
      "execution_count": 145,
      "outputs": [
        {
          "output_type": "execute_result",
          "data": {
            "text/plain": [
              "<Axes: >"
            ]
          },
          "metadata": {},
          "execution_count": 145
        },
        {
          "output_type": "display_data",
          "data": {
            "text/plain": [
              "<Figure size 640x480 with 1 Axes>"
            ],
            "image/png": "[encoded data removed]"
          },
          "metadata": {}
        }
      ]
    },
    {
      "cell_type": "code",
      "source": [
        "# Datos\n",
        "data1 = 10, 10 # --> 100%\n",
        "data2 = 48, 50 # --> 96%\n",
        "data3 = 186, 200 # --> 93%"
      ],
      "metadata": {
        "id": "1YZr_ullOMWu"
      },
      "execution_count": 154,
      "outputs": []
    },
    {
      "cell_type": "code",
      "source": [
        "# Actualización\n",
        "seller1 = update_beta(prior, data1)\n",
        "seller2 = update_beta(prior, data2)\n",
        "seller3 = update_beta(prior, data3)"
      ],
      "metadata": {
        "id": "sEn4XDszOUae"
      },
      "execution_count": 147,
      "outputs": []
    },
    {
      "cell_type": "code",
      "source": [
        "seller1_pmf = pmf_from_dist(seller1, .005, .995)\n",
        "seller2_pmf = pmf_from_dist(seller2, .005, .995)\n",
        "seller3_pmf = pmf_from_dist(seller3, .005, .995)"
      ],
      "metadata": {
        "id": "TKhc38oAObcw"
      },
      "execution_count": 148,
      "outputs": []
    },
    {
      "cell_type": "code",
      "source": [
        "seller1_pmf.plot(label='seller 1', legend=True)\n",
        "seller2_pmf.plot(label='seller 2', legend=True)\n",
        "seller3_pmf.plot(label='seller 3', legend=True)"
      ],
      "metadata": {
        "colab": {
          "base_uri": "https://localhost:8080/",
          "height": 448
        },
        "id": "Gx2Ciou7Oi2O",
        "outputId": "f0bac32a-6e86-48fd-8535-e3c897ed9123"
      },
      "execution_count": 150,
      "outputs": [
        {
          "output_type": "execute_result",
          "data": {
            "text/plain": [
              "<Axes: >"
            ]
          },
          "metadata": {},
          "execution_count": 150
        },
        {
          "output_type": "display_data",
          "data": {
            "text/plain": [
              "<Figure size 640x480 with 1 Axes>"
            ],
            "image/png": "[encoded data removed]"
          },
          "metadata": {}
        }
      ]
    },
    {
      "cell_type": "code",
      "source": [
        "seller1.mean(), seller2.mean(), seller3.mean()"
      ],
      "metadata": {
        "colab": {
          "base_uri": "https://localhost:8080/"
        },
        "id": "uTQFb11sOnQw",
        "outputId": "26a52805-c6fe-4a37-e0c0-231960b23609"
      },
      "execution_count": 151,
      "outputs": [
        {
          "output_type": "execute_result",
          "data": {
            "text/plain": [
              "(0.9, 0.9333333333333333, 0.9238095238095239)"
            ]
          },
          "metadata": {},
          "execution_count": 151
        }
      ]
    }
  ],
  "metadata": {
    "colab": {
      "provenance": []
    },
    "kernelspec": {
      "display_name": "Python 3",
      "name": "python3"
    },
    "language_info": {
      "name": "python"
    }
  },
  "nbformat": 4,
  "nbformat_minor": 0
}