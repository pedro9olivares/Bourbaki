{
  "nbformat": 4,
  "nbformat_minor": 0,
  "metadata": {
    "colab": {
      "provenance": [],
      "authorship_tag": "ABX9TyPhtDhNnVQISB5oG/Xp24LJ",
      "include_colab_link": true
    },
    "kernelspec": {
      "name": "python3",
      "display_name": "Python 3"
    },
    "language_info": {
      "name": "python"
    }
  },
  "cells": [
    {
      "cell_type": "markdown",
      "metadata": {
        "id": "view-in-github",
        "colab_type": "text"
      },
      "source": [
        "<a href=\"https://colab.research.google.com/github/anelglvz/Matematicas_Ciencia_Datos/blob/main/Optimizaci%C3%B3n/AdaGrad.ipynb\" target=\"_parent\"><img src=\"https://colab.research.google.com/assets/colab-badge.svg\" alt=\"Open In Colab\"/></a>"
      ]
    },
    {
      "cell_type": "markdown",
      "source": [
        "# The adaptive subgradient method"
      ],
      "metadata": {
        "id": "wIGxgO710MCd"
      }
    },
    {
      "cell_type": "markdown",
      "source": [
        "Adaptive Gradients, o AdaGrad para abreviar, es una extensión del algoritmo de optimización de descenso de gradiente que permite que el tamaño de paso en cada dimensión utilizada por el algoritmo de optimización se adapte automáticamente en función de los gradientes vistos para la variable (derivadas parciales) vistas durante el curso de la busqueda.\n"
      ],
      "metadata": {
        "id": "vN0oop3K0hCs"
      }
    },
    {
      "cell_type": "code",
      "execution_count": null,
      "metadata": {
        "id": "qce7Nc3IzK1W"
      },
      "outputs": [],
      "source": [
        "import numpy as np\n",
        "import matplotlib.pyplot as plt\n",
        "import pandas as pd"
      ]
    },
    {
      "cell_type": "code",
      "source": [
        "# Solo para que al mostrarnos los arreglos no nos de los valores grandes en notación científica\n",
        "np.set_printoptions(suppress=True)"
      ],
      "metadata": {
        "id": "xkvriNof5vV1"
      },
      "execution_count": null,
      "outputs": []
    },
    {
      "cell_type": "code",
      "source": [
        "def gradient_descent(gradient, start, learn_rate, n_iter=50):\n",
        "    vector = start\n",
        "    vectoraux = [start]\n",
        "    for _ in range(n_iter):\n",
        "        vector = vector - learn_rate * gradient(vector)\n",
        "        vectoraux.append(vector)\n",
        "    return np.array(vectoraux)"
      ],
      "metadata": {
        "id": "j6dcQ0hqrrzK"
      },
      "execution_count": null,
      "outputs": []
    },
    {
      "cell_type": "code",
      "source": [
        "fun1 = lambda x: x**2"
      ],
      "metadata": {
        "id": "nCPSxbZX0ODa"
      },
      "execution_count": null,
      "outputs": []
    },
    {
      "cell_type": "code",
      "source": [
        "res = gradient_descent(\n",
        "    gradient=lambda v: 2 * v, start=10.0, learn_rate=0.2\n",
        ")\n",
        "res"
      ],
      "metadata": {
        "colab": {
          "base_uri": "https://localhost:8080/"
        },
        "id": "AtqNhZjXr2RY",
        "outputId": "048b9ff5-6b4d-4ea8-8e2b-b631b9f4e9da"
      },
      "execution_count": null,
      "outputs": [
        {
          "output_type": "execute_result",
          "data": {
            "text/plain": [
              "array([10.        ,  6.        ,  3.6       ,  2.16      ,  1.296     ,\n",
              "        0.7776    ,  0.46656   ,  0.279936  ,  0.1679616 ,  0.10077696,\n",
              "        0.06046618,  0.03627971,  0.02176782,  0.01306069,  0.00783642,\n",
              "        0.00470185,  0.00282111,  0.00169267,  0.0010156 ,  0.00060936,\n",
              "        0.00036562,  0.00021937,  0.00013162,  0.00007897,  0.00004738,\n",
              "        0.00002843,  0.00001706,  0.00001023,  0.00000614,  0.00000368,\n",
              "        0.00000221,  0.00000133,  0.0000008 ,  0.00000048,  0.00000029,\n",
              "        0.00000017,  0.0000001 ,  0.00000006,  0.00000004,  0.00000002,\n",
              "        0.00000001,  0.00000001,  0.        ,  0.        ,  0.        ,\n",
              "        0.        ,  0.        ,  0.        ,  0.        ,  0.        ,\n",
              "        0.        ])"
            ]
          },
          "metadata": {},
          "execution_count": 5
        }
      ]
    },
    {
      "cell_type": "code",
      "source": [
        "xaux = np.linspace(-15,15,1000)\n",
        "yaux = fun1(xaux)\n",
        "\n",
        "plt.plot(xaux,yaux)\n",
        "plt.scatter(res,fun1(res), s = 30, c='green')\n",
        "plt.plot(res,fun1(res), color='green')\n",
        "plt.show()"
      ],
      "metadata": {
        "colab": {
          "base_uri": "https://localhost:8080/",
          "height": 430
        },
        "id": "LgH7Mtq7s9JL",
        "outputId": "2d8e7e78-92e6-438f-9ae7-edc42d4015e6"
      },
      "execution_count": null,
      "outputs": [
        {
          "output_type": "display_data",
          "data": {
            "text/plain": [
              "<Figure size 640x480 with 1 Axes>"
            ],
            "image/png": "[encoded data removed]"
          },
          "metadata": {}
        }
      ]
    },
    {
      "cell_type": "code",
      "source": [
        "res = gradient_descent(\n",
        "    gradient=lambda v: 2 * v, start=10.0, learn_rate=0.8\n",
        ")\n",
        "res"
      ],
      "metadata": {
        "colab": {
          "base_uri": "https://localhost:8080/"
        },
        "id": "6mAynejVxk7K",
        "outputId": "4c7e33af-1786-4439-b759-088ee8009cbd"
      },
      "execution_count": null,
      "outputs": [
        {
          "output_type": "execute_result",
          "data": {
            "text/plain": [
              "array([10.        , -6.        ,  3.6       , -2.16      ,  1.296     ,\n",
              "       -0.7776    ,  0.46656   , -0.279936  ,  0.1679616 , -0.10077696,\n",
              "        0.06046618, -0.03627971,  0.02176782, -0.01306069,  0.00783642,\n",
              "       -0.00470185,  0.00282111, -0.00169267,  0.0010156 , -0.00060936,\n",
              "        0.00036562, -0.00021937,  0.00013162, -0.00007897,  0.00004738,\n",
              "       -0.00002843,  0.00001706, -0.00001023,  0.00000614, -0.00000368,\n",
              "        0.00000221, -0.00000133,  0.0000008 , -0.00000048,  0.00000029,\n",
              "       -0.00000017,  0.0000001 , -0.00000006,  0.00000004, -0.00000002,\n",
              "        0.00000001, -0.00000001,  0.        , -0.        ,  0.        ,\n",
              "       -0.        ,  0.        , -0.        ,  0.        , -0.        ,\n",
              "        0.        ])"
            ]
          },
          "metadata": {},
          "execution_count": 7
        }
      ]
    },
    {
      "cell_type": "code",
      "source": [
        "xaux = np.linspace(-15,15,1000)\n",
        "yaux = fun1(xaux)\n",
        "\n",
        "plt.plot(xaux,yaux)\n",
        "plt.scatter(res,fun1(res), s = 30, c='green')\n",
        "plt.plot(res,fun1(res), color='green')\n",
        "plt.show()"
      ],
      "metadata": {
        "colab": {
          "base_uri": "https://localhost:8080/",
          "height": 430
        },
        "id": "8-8Ed62rxop-",
        "outputId": "c0c019b5-4181-495e-da6d-48ca40a8057d"
      },
      "execution_count": null,
      "outputs": [
        {
          "output_type": "display_data",
          "data": {
            "text/plain": [
              "<Figure size 640x480 with 1 Axes>"
            ],
            "image/png": "[encoded data removed]"
          },
          "metadata": {}
        }
      ]
    },
    {
      "cell_type": "code",
      "source": [
        "res = gradient_descent(\n",
        "    gradient=lambda v: 2 * v, start=10.0, learn_rate=0.005\n",
        ")\n",
        "res"
      ],
      "metadata": {
        "colab": {
          "base_uri": "https://localhost:8080/"
        },
        "id": "G_aswzx8xuvw",
        "outputId": "97186f31-df8f-44f1-eb2c-7dddcb67b157"
      },
      "execution_count": null,
      "outputs": [
        {
          "output_type": "execute_result",
          "data": {
            "text/plain": [
              "array([10.        ,  9.9       ,  9.801     ,  9.70299   ,  9.6059601 ,\n",
              "        9.5099005 ,  9.41480149,  9.32065348,  9.22744694,  9.13517247,\n",
              "        9.04382075,  8.95338254,  8.86384872,  8.77521023,  8.68745813,\n",
              "        8.60058355,  8.51457771,  8.42943193,  8.34513761,  8.26168624,\n",
              "        8.17906938,  8.09727868,  8.0163059 ,  7.93614284,  7.85678141,\n",
              "        7.77821359,  7.70043146,  7.62342714,  7.54719287,  7.47172094,\n",
              "        7.39700373,  7.3230337 ,  7.24980336,  7.17730533,  7.10553227,\n",
              "        7.03447695,  6.96413218,  6.89449086,  6.82554595,  6.75729049,\n",
              "        6.68971759,  6.62282041,  6.55659221,  6.49102628,  6.42611602,\n",
              "        6.36185486,  6.29823631,  6.23525395,  6.17290141,  6.1111724 ,\n",
              "        6.05006067])"
            ]
          },
          "metadata": {},
          "execution_count": 9
        }
      ]
    },
    {
      "cell_type": "code",
      "source": [
        "xaux = np.linspace(-15,15,1000)\n",
        "yaux = fun1(xaux)\n",
        "\n",
        "plt.plot(xaux,yaux)\n",
        "plt.scatter(res,fun1(res), s = 30, c='green')\n",
        "plt.plot(res,fun1(res), color='green')\n",
        "plt.show()"
      ],
      "metadata": {
        "colab": {
          "base_uri": "https://localhost:8080/",
          "height": 430
        },
        "id": "I_vyU3Yzx0ad",
        "outputId": "b7ac38fe-6b68-4a53-daf4-b51bbc3f0f61"
      },
      "execution_count": null,
      "outputs": [
        {
          "output_type": "display_data",
          "data": {
            "text/plain": [
              "<Figure size 640x480 with 1 Axes>"
            ],
            "image/png": "[encoded data removed]"
          },
          "metadata": {}
        }
      ]
    },
    {
      "cell_type": "markdown",
      "source": [
        "Otro ejemplo"
      ],
      "metadata": {
        "id": "Jlm5UvaV02vB"
      }
    },
    {
      "cell_type": "code",
      "source": [
        "fun2 = lambda x: x**4-5*x**2-3*x"
      ],
      "metadata": {
        "id": "-jyKiFOR04l_"
      },
      "execution_count": null,
      "outputs": []
    },
    {
      "cell_type": "code",
      "source": [
        "res = gradient_descent(\n",
        "    gradient=lambda v: 4 * v**3 - 10 * v - 3, start=0,\n",
        "    learn_rate=0.2\n",
        ")\n",
        "res"
      ],
      "metadata": {
        "colab": {
          "base_uri": "https://localhost:8080/"
        },
        "id": "gGk5XERSyZYP",
        "outputId": "ecdc62b1-0a20-4103-c65a-98372e9bf820"
      },
      "execution_count": null,
      "outputs": [
        {
          "output_type": "execute_result",
          "data": {
            "text/plain": [
              "array([ 0.        ,  0.6       ,  2.2272    , -1.55667765, -1.05226349,\n",
              "       -1.62468836, -0.84322723, -1.45003235, -1.31103381, -1.53036738,\n",
              "       -1.12377604, -1.63597936, -0.80507271, -1.39777694, -1.4085715 ,\n",
              "       -1.38994681, -1.42159187, -1.36643294, -1.45824266, -1.29399864,\n",
              "       -1.54862524, -1.07469555, -1.6310933 , -0.82170612, -1.42126496,\n",
              "       -1.36703744, -1.45734612, -1.29588172, -1.54669604, -1.07999818,\n",
              "       -1.63223003, -0.81785309, -1.41592041, -1.37681677, -1.44250831,\n",
              "       -1.32623301, -1.5125364 , -1.16934528, -1.62889523, -0.82912795,\n",
              "       -1.43139455, -1.34796725, -1.48447962, -1.23638473, -1.59715734,\n",
              "       -0.9321063 , -1.54845122, -1.07517501, -1.63120206, -0.82133791,\n",
              "       -1.42075674])"
            ]
          },
          "metadata": {},
          "execution_count": 12
        }
      ]
    },
    {
      "cell_type": "code",
      "source": [
        "xaux = np.linspace(-3,3,1000)\n",
        "yaux = fun2(xaux)\n",
        "\n",
        "plt.plot(xaux,yaux)\n",
        "plt.scatter(res,fun2(res), s = 30, c='green')\n",
        "plt.plot(res,fun2(res), color='green')\n",
        "plt.show()"
      ],
      "metadata": {
        "colab": {
          "base_uri": "https://localhost:8080/",
          "height": 430
        },
        "id": "nA5OqlUiyc_F",
        "outputId": "2143d472-34de-4aec-e358-3301a902e9ef"
      },
      "execution_count": null,
      "outputs": [
        {
          "output_type": "display_data",
          "data": {
            "text/plain": [
              "<Figure size 640x480 with 1 Axes>"
            ],
            "image/png": "[encoded data removed]"
          },
          "metadata": {}
        }
      ]
    },
    {
      "cell_type": "code",
      "source": [
        "res = gradient_descent(\n",
        "    gradient=lambda v: 4 * v**3 - 10 * v - 3, start=0,\n",
        "    learn_rate=0.1\n",
        ")\n",
        "res"
      ],
      "metadata": {
        "colab": {
          "base_uri": "https://localhost:8080/"
        },
        "id": "PQTYUn5M1Lfk",
        "outputId": "a6d60eac-2d50-427e-dccc-3d51ae6df816"
      },
      "execution_count": null,
      "outputs": [
        {
          "output_type": "execute_result",
          "data": {
            "text/plain": [
              "array([0.        , 0.3       , 0.8892    , 1.79717213, 1.57252175,\n",
              "       1.88961528, 1.38037174, 2.00866492, 1.07555776, 1.9534229 ,\n",
              "       1.22524968, 2.01474341, 1.05819549, 1.9424135 , 1.2533597 ,\n",
              "       2.01915302, 1.04548833, 1.93386999, 1.27478408, 2.02092054,\n",
              "       1.04036841, 1.93031288, 1.28360419, 2.02124148, 1.03943713,\n",
              "       1.92965883, 1.28521959, 2.02127434, 1.03934175, 1.92959171,\n",
              "       1.28538523, 2.02127726, 1.03933329, 1.92958576, 1.28539992,\n",
              "       2.02127751, 1.03933255, 1.92958524, 1.28540121, 2.02127754,\n",
              "       1.03933249, 1.9295852 , 1.28540132, 2.02127754, 1.03933248,\n",
              "       1.92958519, 1.28540133, 2.02127754, 1.03933248, 1.92958519,\n",
              "       1.28540133])"
            ]
          },
          "metadata": {},
          "execution_count": 14
        }
      ]
    },
    {
      "cell_type": "code",
      "source": [
        "xaux = np.linspace(-3,3,1000)\n",
        "yaux = fun2(xaux)\n",
        "\n",
        "plt.plot(xaux,yaux)\n",
        "plt.scatter(res,fun2(res), s = 30, c='green')\n",
        "plt.plot(res,fun2(res), color='green')\n",
        "plt.show()"
      ],
      "metadata": {
        "colab": {
          "base_uri": "https://localhost:8080/",
          "height": 430
        },
        "id": "5XfetzXq1VKb",
        "outputId": "06d1cb40-737e-488c-b014-b7723b873a30"
      },
      "execution_count": null,
      "outputs": [
        {
          "output_type": "display_data",
          "data": {
            "text/plain": [
              "<Figure size 640x480 with 1 Axes>"
            ],
            "image/png": "[encoded data removed]"
          },
          "metadata": {}
        }
      ]
    },
    {
      "cell_type": "markdown",
      "source": [
        "Ajustar la tasa de aprendizaje es complicado. No se puede saber el mejor valor por adelantado. Hay muchas técnicas y heurísticas que intentan ayudar con esto, una es AdaGrad."
      ],
      "metadata": {
        "id": "-wIn80ji37gm"
      }
    },
    {
      "cell_type": "markdown",
      "source": [
        "AdaGrad se implementa con:\n",
        "$$ g_t = \\frac{\\partial L}{∂ \\omega} $$\n",
        "$$ s_{t} = s_{t-1} + g_t^2$$\n",
        "actualizamos los parámetros:\n",
        "$$ \\omega_t = \\omega_{t-1} - \\frac{\\eta}{\\epsilon + \\sqrt{s_t}} g_t $$\n"
      ],
      "metadata": {
        "id": "80IKJ_aDZb_g"
      }
    },
    {
      "cell_type": "code",
      "source": [
        "epsilon = 1e-7"
      ],
      "metadata": {
        "id": "TMs63z75bVpH"
      },
      "execution_count": null,
      "outputs": []
    },
    {
      "cell_type": "code",
      "source": [
        "# Ejercicio: Implementar AdaGrad\n",
        "def adagrad_gradient_descent(gradient, start, learn_rate, n_iter=50):\n",
        "    vector = start\n",
        "    vectoraux = [start]\n",
        "    suma = 0\n",
        "    for _ in range(n_iter):\n",
        "        suma += gradient(vector)**2\n",
        "        vector = vector - learn_rate /(epsilon + np.sqrt(suma)) * gradient(vector)\n",
        "        vectoraux.append(vector)\n",
        "    return np.array(vectoraux)"
      ],
      "metadata": {
        "id": "YZ9Jvtswcdhr"
      },
      "execution_count": null,
      "outputs": []
    },
    {
      "cell_type": "code",
      "source": [
        "res = adagrad_gradient_descent(\n",
        "    gradient=lambda v: 4 * v**3 - 10 * v - 3, start=0,\n",
        "    learn_rate=0.2\n",
        ")\n",
        "res"
      ],
      "metadata": {
        "colab": {
          "base_uri": "https://localhost:8080/"
        },
        "id": "yrO4ssm5c8Vd",
        "outputId": "7ad2791e-fea2-4eea-ef22-ea5525a28932"
      },
      "execution_count": null,
      "outputs": [
        {
          "output_type": "execute_result",
          "data": {
            "text/plain": [
              "array([0.        , 0.19999999, 0.37120597, 0.52046979, 0.65228068,\n",
              "       0.76974213, 0.87506252, 0.96986148, 1.0553635 , 1.13252314,\n",
              "       1.20210861, 1.2647591 , 1.3210251 , 1.37139687, 1.41632448,\n",
              "       1.45623142, 1.4915231 , 1.52259149, 1.54981661, 1.57356601,\n",
              "       1.59419279, 1.61203301, 1.62740308, 1.6405975 , 1.65188721,\n",
              "       1.66151876, 1.66971413, 1.67667132, 1.6825654 , 1.68755   ,\n",
              "       1.69175899, 1.69530839, 1.69829818, 1.70081415, 1.70292965,\n",
              "       1.70470719, 1.70619987, 1.70745271, 1.70850382, 1.70938535,\n",
              "       1.71012444, 1.71074395, 1.71126313, 1.71169813, 1.71206256,\n",
              "       1.71236782, 1.7126235 , 1.71283763, 1.71301694, 1.7131671 ,\n",
              "       1.71329283])"
            ]
          },
          "metadata": {},
          "execution_count": 18
        }
      ]
    },
    {
      "cell_type": "code",
      "source": [
        "xaux = np.linspace(-3,3,1000)\n",
        "yaux = fun2(xaux)\n",
        "\n",
        "plt.plot(xaux,yaux)\n",
        "plt.scatter(res,fun2(res), s = 30, c='green')\n",
        "plt.plot(res,fun2(res), color='green')\n",
        "plt.show()"
      ],
      "metadata": {
        "colab": {
          "base_uri": "https://localhost:8080/",
          "height": 430
        },
        "id": "ZA5dX1a6dEFU",
        "outputId": "db4dbc69-2f5c-46ed-9df6-8e64de1801d3"
      },
      "execution_count": null,
      "outputs": [
        {
          "output_type": "display_data",
          "data": {
            "text/plain": [
              "<Figure size 640x480 with 1 Axes>"
            ],
            "image/png": "[encoded data removed]"
          },
          "metadata": {}
        }
      ]
    },
    {
      "cell_type": "markdown",
      "source": [
        "## SGD: Stochastic Gradient Descent\n"
      ],
      "metadata": {
        "id": "UhOfGlnM5OB8"
      }
    },
    {
      "cell_type": "markdown",
      "source": [
        "### Datos"
      ],
      "metadata": {
        "id": "XlvEeFtT50TS"
      }
    },
    {
      "cell_type": "code",
      "source": [
        "from google.colab import drive\n",
        "drive.mount('/content/drive')"
      ],
      "metadata": {
        "colab": {
          "base_uri": "https://localhost:8080/"
        },
        "id": "bjDcv2744B2o",
        "outputId": "160f8881-fff9-4ea7-f982-615e5fb3a17e"
      },
      "execution_count": null,
      "outputs": [
        {
          "output_type": "stream",
          "name": "stdout",
          "text": [
            "Mounted at /content/drive\n"
          ]
        }
      ]
    },
    {
      "cell_type": "code",
      "source": [
        "df = pd.read_csv('/content/drive/MyDrive/Curso-Algebra/semana10/pruebas_datos.csv')\n",
        "df"
      ],
      "metadata": {
        "id": "OCwpSqJj56PN",
        "colab": {
          "base_uri": "https://localhost:8080/",
          "height": 487
        },
        "outputId": "747b473d-6177-4c12-ad02-36a9dd7b09d9"
      },
      "execution_count": null,
      "outputs": [
        {
          "output_type": "execute_result",
          "data": {
            "text/plain": [
              "            OTR       OCR  min_time_two_events  mean_time_two_events  \\\n",
              "0     -0.264140 -0.171596            -0.034334              0.173848   \n",
              "1     -0.267371  0.071957            -0.034334             -0.394632   \n",
              "2     -0.268571  0.392193            -0.034334             -0.596358   \n",
              "3     -0.267320 -0.082373            -0.034334             -0.337735   \n",
              "4     -0.268375  0.094866            -0.034334             -0.551568   \n",
              "...         ...       ...                  ...                   ...   \n",
              "50577 -0.270438  0.040609            -0.034334             -0.587633   \n",
              "50578 -0.269299  0.040609            -0.034334             -0.704571   \n",
              "50579 -0.270456  0.952123            -0.034334             -0.592510   \n",
              "50580 -0.270274  2.659404            -0.034334             -0.648742   \n",
              "50581 -0.270277  0.662754            -0.034334             -0.694323   \n",
              "\n",
              "       10_p_time_two_events  med_time_two_events  25_p_time_two_events  \\\n",
              "0                 -0.051861            -0.194635             -0.103174   \n",
              "1                 -0.051861            -0.261262             -0.107967   \n",
              "2                 -0.051861            -0.261262             -0.107967   \n",
              "3                 -0.051861            -0.260286             -0.107966   \n",
              "4                 -0.051861            -0.261262             -0.107967   \n",
              "...                     ...                  ...                   ...   \n",
              "50577             -0.051861            -0.261262             -0.107967   \n",
              "50578             -0.051861            -0.261262             -0.107967   \n",
              "50579             -0.051861            -0.261262             -0.107967   \n",
              "50580             -0.051861            -0.261262             -0.107967   \n",
              "50581             -0.051861            -0.261262             -0.107967   \n",
              "\n",
              "       75_p_time_two_events  90_p_time_two_events  max_time_two_events  ...  \\\n",
              "0                 -0.493894              0.669772             0.113391  ...   \n",
              "1                 -0.578826             -0.714095             0.478099  ...   \n",
              "2                 -0.579091             -0.864277             0.449648  ...   \n",
              "3                 -0.574153              0.401915            -0.240214  ...   \n",
              "4                 -0.579396             -0.876131            -0.003950  ...   \n",
              "...                     ...                   ...                  ...  ...   \n",
              "50577             -0.579589             -0.811629            -0.928057  ...   \n",
              "50578             -0.573424             -0.873859            -1.356834  ...   \n",
              "50579             -0.579500             -0.894274             0.012924  ...   \n",
              "50580             -0.579477             -0.886564            -0.241991  ...   \n",
              "50581             -0.578331             -0.879211            -1.284239  ...   \n",
              "\n",
              "       90_p_lifetime_cancel  max_lifetime_cancel  NbTradeVenueMic  \\\n",
              "0                  0.446317             0.159271        -0.989267   \n",
              "1                  0.341803             0.053125        -0.989267   \n",
              "2                 -0.843156            -0.601191        -0.989267   \n",
              "3                  0.205183            -0.085628        -0.989267   \n",
              "4                  0.447088             0.160054        -0.989267   \n",
              "...                     ...                  ...              ...   \n",
              "50577             -0.499086            -0.800893        -0.989267   \n",
              "50578             -0.927494            -1.235990        -0.989267   \n",
              "50579              0.464365             0.177600        -0.989267   \n",
              "50580              0.203363            -0.087476        -0.989267   \n",
              "50581             -0.921142            -1.229538        -0.989267   \n",
              "\n",
              "       MaxNbTradesBySecond  MeanNbTradesBySecond  min_dt_TV1  mean_dt_TV1  \\\n",
              "0                -0.459192              0.414463   -0.068166     2.257305   \n",
              "1                 0.065955              2.493944   -0.174906    -0.259542   \n",
              "2                 0.223500              1.925729   -0.174906    -0.350248   \n",
              "3                -0.406677              1.394323   -0.174906    -0.056171   \n",
              "4                 0.170985              1.041917   -0.174906    -0.327099   \n",
              "...                    ...                   ...         ...          ...   \n",
              "50577            -0.039074              2.972986   -0.174905    -0.139995   \n",
              "50578            -0.616736              0.204493   -0.174905    -0.355996   \n",
              "50579             0.276014              1.680116   -0.174905    -0.076802   \n",
              "50580             0.748647              1.846925   -0.174905    -0.275480   \n",
              "50581             0.696132              2.682657   -0.174905     0.289331   \n",
              "\n",
              "       med_dt_TV1  NbSecondWithAtLeatOneTrade  type  \n",
              "0        0.215650                   -0.430203     1  \n",
              "1       -0.257432                   -0.415533     1  \n",
              "2       -0.257432                   -0.351515     1  \n",
              "3       -0.257431                   -0.430203     1  \n",
              "4       -0.257432                   -0.384858     1  \n",
              "...           ...                         ...   ...  \n",
              "50577   -0.257431                   -0.431537     1  \n",
              "50578   -0.257262                   -0.426202     1  \n",
              "50579   -0.256689                   -0.414199     1  \n",
              "50580   -0.257133                   -0.388859     1  \n",
              "50581   -0.253120                   -0.423535     1  \n",
              "\n",
              "[50582 rows x 26 columns]"
            ],
            "text/html": [
              "\n",
              "\n",
              "  <div id=\"df-1420270f-e0b9-4cdd-b664-ecc81afc4b41\">\n",
              "    <div class=\"colab-df-container\">\n",
              "      <div>\n",
              "<style scoped>\n",
              "    .dataframe tbody tr th:only-of-type {\n",
              "        vertical-align: middle;\n",
              "    }\n",
              "\n",
              "    .dataframe tbody tr th {\n",
              "        vertical-align: top;\n",
              "    }\n",
              "\n",
              "    .dataframe thead th {\n",
              "        text-align: right;\n",
              "    }\n",
              "</style>\n",
              "<table border=\"1\" class=\"dataframe\">\n",
              "  <thead>\n",
              "    <tr style=\"text-align: right;\">\n",
              "      <th></th>\n",
              "      <th>OTR</th>\n",
              "      <th>OCR</th>\n",
              "      <th>min_time_two_events</th>\n",
              "      <th>mean_time_two_events</th>\n",
              "      <th>10_p_time_two_events</th>\n",
              "      <th>med_time_two_events</th>\n",
              "      <th>25_p_time_two_events</th>\n",
              "      <th>75_p_time_two_events</th>\n",
              "      <th>90_p_time_two_events</th>\n",
              "      <th>max_time_two_events</th>\n",
              "      <th>...</th>\n",
              "      <th>90_p_lifetime_cancel</th>\n",
              "      <th>max_lifetime_cancel</th>\n",
              "      <th>NbTradeVenueMic</th>\n",
              "      <th>MaxNbTradesBySecond</th>\n",
              "      <th>MeanNbTradesBySecond</th>\n",
              "      <th>min_dt_TV1</th>\n",
              "      <th>mean_dt_TV1</th>\n",
              "      <th>med_dt_TV1</th>\n",
              "      <th>NbSecondWithAtLeatOneTrade</th>\n",
              "      <th>type</th>\n",
              "    </tr>\n",
              "  </thead>\n",
              "  <tbody>\n",
              "    <tr>\n",
              "      <th>0</th>\n",
              "      <td>-0.264140</td>\n",
              "      <td>-0.171596</td>\n",
              "      <td>-0.034334</td>\n",
              "      <td>0.173848</td>\n",
              "      <td>-0.051861</td>\n",
              "      <td>-0.194635</td>\n",
              "      <td>-0.103174</td>\n",
              "      <td>-0.493894</td>\n",
              "      <td>0.669772</td>\n",
              "      <td>0.113391</td>\n",
              "      <td>...</td>\n",
              "      <td>0.446317</td>\n",
              "      <td>0.159271</td>\n",
              "      <td>-0.989267</td>\n",
              "      <td>-0.459192</td>\n",
              "      <td>0.414463</td>\n",
              "      <td>-0.068166</td>\n",
              "      <td>2.257305</td>\n",
              "      <td>0.215650</td>\n",
              "      <td>-0.430203</td>\n",
              "      <td>1</td>\n",
              "    </tr>\n",
              "    <tr>\n",
              "      <th>1</th>\n",
              "      <td>-0.267371</td>\n",
              "      <td>0.071957</td>\n",
              "      <td>-0.034334</td>\n",
              "      <td>-0.394632</td>\n",
              "      <td>-0.051861</td>\n",
              "      <td>-0.261262</td>\n",
              "      <td>-0.107967</td>\n",
              "      <td>-0.578826</td>\n",
              "      <td>-0.714095</td>\n",
              "      <td>0.478099</td>\n",
              "      <td>...</td>\n",
              "      <td>0.341803</td>\n",
              "      <td>0.053125</td>\n",
              "      <td>-0.989267</td>\n",
              "      <td>0.065955</td>\n",
              "      <td>2.493944</td>\n",
              "      <td>-0.174906</td>\n",
              "      <td>-0.259542</td>\n",
              "      <td>-0.257432</td>\n",
              "      <td>-0.415533</td>\n",
              "      <td>1</td>\n",
              "    </tr>\n",
              "    <tr>\n",
              "      <th>2</th>\n",
              "      <td>-0.268571</td>\n",
              "      <td>0.392193</td>\n",
              "      <td>-0.034334</td>\n",
              "      <td>-0.596358</td>\n",
              "      <td>-0.051861</td>\n",
              "      <td>-0.261262</td>\n",
              "      <td>-0.107967</td>\n",
              "      <td>-0.579091</td>\n",
              "      <td>-0.864277</td>\n",
              "      <td>0.449648</td>\n",
              "      <td>...</td>\n",
              "      <td>-0.843156</td>\n",
              "      <td>-0.601191</td>\n",
              "      <td>-0.989267</td>\n",
              "      <td>0.223500</td>\n",
              "      <td>1.925729</td>\n",
              "      <td>-0.174906</td>\n",
              "      <td>-0.350248</td>\n",
              "      <td>-0.257432</td>\n",
              "      <td>-0.351515</td>\n",
              "      <td>1</td>\n",
              "    </tr>\n",
              "    <tr>\n",
              "      <th>3</th>\n",
              "      <td>-0.267320</td>\n",
              "      <td>-0.082373</td>\n",
              "      <td>-0.034334</td>\n",
              "      <td>-0.337735</td>\n",
              "      <td>-0.051861</td>\n",
              "      <td>-0.260286</td>\n",
              "      <td>-0.107966</td>\n",
              "      <td>-0.574153</td>\n",
              "      <td>0.401915</td>\n",
              "      <td>-0.240214</td>\n",
              "      <td>...</td>\n",
              "      <td>0.205183</td>\n",
              "      <td>-0.085628</td>\n",
              "      <td>-0.989267</td>\n",
              "      <td>-0.406677</td>\n",
              "      <td>1.394323</td>\n",
              "      <td>-0.174906</td>\n",
              "      <td>-0.056171</td>\n",
              "      <td>-0.257431</td>\n",
              "      <td>-0.430203</td>\n",
              "      <td>1</td>\n",
              "    </tr>\n",
              "    <tr>\n",
              "      <th>4</th>\n",
              "      <td>-0.268375</td>\n",
              "      <td>0.094866</td>\n",
              "      <td>-0.034334</td>\n",
              "      <td>-0.551568</td>\n",
              "      <td>-0.051861</td>\n",
              "      <td>-0.261262</td>\n",
              "      <td>-0.107967</td>\n",
              "      <td>-0.579396</td>\n",
              "      <td>-0.876131</td>\n",
              "      <td>-0.003950</td>\n",
              "      <td>...</td>\n",
              "      <td>0.447088</td>\n",
              "      <td>0.160054</td>\n",
              "      <td>-0.989267</td>\n",
              "      <td>0.170985</td>\n",
              "      <td>1.041917</td>\n",
              "      <td>-0.174906</td>\n",
              "      <td>-0.327099</td>\n",
              "      <td>-0.257432</td>\n",
              "      <td>-0.384858</td>\n",
              "      <td>1</td>\n",
              "    </tr>\n",
              "    <tr>\n",
              "      <th>...</th>\n",
              "      <td>...</td>\n",
              "      <td>...</td>\n",
              "      <td>...</td>\n",
              "      <td>...</td>\n",
              "      <td>...</td>\n",
              "      <td>...</td>\n",
              "      <td>...</td>\n",
              "      <td>...</td>\n",
              "      <td>...</td>\n",
              "      <td>...</td>\n",
              "      <td>...</td>\n",
              "      <td>...</td>\n",
              "      <td>...</td>\n",
              "      <td>...</td>\n",
              "      <td>...</td>\n",
              "      <td>...</td>\n",
              "      <td>...</td>\n",
              "      <td>...</td>\n",
              "      <td>...</td>\n",
              "      <td>...</td>\n",
              "      <td>...</td>\n",
              "    </tr>\n",
              "    <tr>\n",
              "      <th>50577</th>\n",
              "      <td>-0.270438</td>\n",
              "      <td>0.040609</td>\n",
              "      <td>-0.034334</td>\n",
              "      <td>-0.587633</td>\n",
              "      <td>-0.051861</td>\n",
              "      <td>-0.261262</td>\n",
              "      <td>-0.107967</td>\n",
              "      <td>-0.579589</td>\n",
              "      <td>-0.811629</td>\n",
              "      <td>-0.928057</td>\n",
              "      <td>...</td>\n",
              "      <td>-0.499086</td>\n",
              "      <td>-0.800893</td>\n",
              "      <td>-0.989267</td>\n",
              "      <td>-0.039074</td>\n",
              "      <td>2.972986</td>\n",
              "      <td>-0.174905</td>\n",
              "      <td>-0.139995</td>\n",
              "      <td>-0.257431</td>\n",
              "      <td>-0.431537</td>\n",
              "      <td>1</td>\n",
              "    </tr>\n",
              "    <tr>\n",
              "      <th>50578</th>\n",
              "      <td>-0.269299</td>\n",
              "      <td>0.040609</td>\n",
              "      <td>-0.034334</td>\n",
              "      <td>-0.704571</td>\n",
              "      <td>-0.051861</td>\n",
              "      <td>-0.261262</td>\n",
              "      <td>-0.107967</td>\n",
              "      <td>-0.573424</td>\n",
              "      <td>-0.873859</td>\n",
              "      <td>-1.356834</td>\n",
              "      <td>...</td>\n",
              "      <td>-0.927494</td>\n",
              "      <td>-1.235990</td>\n",
              "      <td>-0.989267</td>\n",
              "      <td>-0.616736</td>\n",
              "      <td>0.204493</td>\n",
              "      <td>-0.174905</td>\n",
              "      <td>-0.355996</td>\n",
              "      <td>-0.257262</td>\n",
              "      <td>-0.426202</td>\n",
              "      <td>1</td>\n",
              "    </tr>\n",
              "    <tr>\n",
              "      <th>50579</th>\n",
              "      <td>-0.270456</td>\n",
              "      <td>0.952123</td>\n",
              "      <td>-0.034334</td>\n",
              "      <td>-0.592510</td>\n",
              "      <td>-0.051861</td>\n",
              "      <td>-0.261262</td>\n",
              "      <td>-0.107967</td>\n",
              "      <td>-0.579500</td>\n",
              "      <td>-0.894274</td>\n",
              "      <td>0.012924</td>\n",
              "      <td>...</td>\n",
              "      <td>0.464365</td>\n",
              "      <td>0.177600</td>\n",
              "      <td>-0.989267</td>\n",
              "      <td>0.276014</td>\n",
              "      <td>1.680116</td>\n",
              "      <td>-0.174905</td>\n",
              "      <td>-0.076802</td>\n",
              "      <td>-0.256689</td>\n",
              "      <td>-0.414199</td>\n",
              "      <td>1</td>\n",
              "    </tr>\n",
              "    <tr>\n",
              "      <th>50580</th>\n",
              "      <td>-0.270274</td>\n",
              "      <td>2.659404</td>\n",
              "      <td>-0.034334</td>\n",
              "      <td>-0.648742</td>\n",
              "      <td>-0.051861</td>\n",
              "      <td>-0.261262</td>\n",
              "      <td>-0.107967</td>\n",
              "      <td>-0.579477</td>\n",
              "      <td>-0.886564</td>\n",
              "      <td>-0.241991</td>\n",
              "      <td>...</td>\n",
              "      <td>0.203363</td>\n",
              "      <td>-0.087476</td>\n",
              "      <td>-0.989267</td>\n",
              "      <td>0.748647</td>\n",
              "      <td>1.846925</td>\n",
              "      <td>-0.174905</td>\n",
              "      <td>-0.275480</td>\n",
              "      <td>-0.257133</td>\n",
              "      <td>-0.388859</td>\n",
              "      <td>1</td>\n",
              "    </tr>\n",
              "    <tr>\n",
              "      <th>50581</th>\n",
              "      <td>-0.270277</td>\n",
              "      <td>0.662754</td>\n",
              "      <td>-0.034334</td>\n",
              "      <td>-0.694323</td>\n",
              "      <td>-0.051861</td>\n",
              "      <td>-0.261262</td>\n",
              "      <td>-0.107967</td>\n",
              "      <td>-0.578331</td>\n",
              "      <td>-0.879211</td>\n",
              "      <td>-1.284239</td>\n",
              "      <td>...</td>\n",
              "      <td>-0.921142</td>\n",
              "      <td>-1.229538</td>\n",
              "      <td>-0.989267</td>\n",
              "      <td>0.696132</td>\n",
              "      <td>2.682657</td>\n",
              "      <td>-0.174905</td>\n",
              "      <td>0.289331</td>\n",
              "      <td>-0.253120</td>\n",
              "      <td>-0.423535</td>\n",
              "      <td>1</td>\n",
              "    </tr>\n",
              "  </tbody>\n",
              "</table>\n",
              "<p>50582 rows × 26 columns</p>\n",
              "</div>\n",
              "      <button class=\"colab-df-convert\" onclick=\"convertToInteractive('df-1420270f-e0b9-4cdd-b664-ecc81afc4b41')\"\n",
              "              title=\"Convert this dataframe to an interactive table.\"\n",
              "              style=\"display:none;\">\n",
              "\n",
              "  <svg xmlns=\"http://www.w3.org/2000/svg\" height=\"24px\"viewBox=\"0 0 24 24\"\n",
              "       width=\"24px\">\n",
              "    <path d=\"M0 0h24v24H0V0z\" fill=\"none\"/>\n",
              "    <path d=\"M18.56 5.44l.94 2.06.94-2.06 2.06-.94-2.06-.94-.94-2.06-.94 2.06-2.06.94zm-11 1L8.5 8.5l.94-2.06 2.06-.94-2.06-.94L8.5 2.5l-.94 2.06-2.06.94zm10 10l.94 2.06.94-2.06 2.06-.94-2.06-.94-.94-2.06-.94 2.06-2.06.94z\"/><path d=\"M17.41 7.96l-1.37-1.37c-.4-.4-.92-.59-1.43-.59-.52 0-1.04.2-1.43.59L10.3 9.45l-7.72 7.72c-.78.78-.78 2.05 0 2.83L4 21.41c.39.39.9.59 1.41.59.51 0 1.02-.2 1.41-.59l7.78-7.78 2.81-2.81c.8-.78.8-2.07 0-2.86zM5.41 20L4 18.59l7.72-7.72 1.47 1.35L5.41 20z\"/>\n",
              "  </svg>\n",
              "      </button>\n",
              "\n",
              "\n",
              "\n",
              "    <div id=\"df-11bc4511-f1d1-4e6a-8b9a-e81d9d010750\">\n",
              "      <button class=\"colab-df-quickchart\" onclick=\"quickchart('df-11bc4511-f1d1-4e6a-8b9a-e81d9d010750')\"\n",
              "              title=\"Suggest charts.\"\n",
              "              style=\"display:none;\">\n",
              "\n",
              "<svg xmlns=\"http://www.w3.org/2000/svg\" height=\"24px\"viewBox=\"0 0 24 24\"\n",
              "     width=\"24px\">\n",
              "    <g>\n",
              "        <path d=\"M19 3H5c-1.1 0-2 .9-2 2v14c0 1.1.9 2 2 2h14c1.1 0 2-.9 2-2V5c0-1.1-.9-2-2-2zM9 17H7v-7h2v7zm4 0h-2V7h2v10zm4 0h-2v-4h2v4z\"/>\n",
              "    </g>\n",
              "</svg>\n",
              "      </button>\n",
              "    </div>\n",
              "\n",
              "<style>\n",
              "  .colab-df-quickchart {\n",
              "    background-color: #E8F0FE;\n",
              "    border: none;\n",
              "    border-radius: 50%;\n",
              "    cursor: pointer;\n",
              "    display: none;\n",
              "    fill: #1967D2;\n",
              "    height: 32px;\n",
              "    padding: 0 0 0 0;\n",
              "    width: 32px;\n",
              "  }\n",
              "\n",
              "  .colab-df-quickchart:hover {\n",
              "    background-color: #E2EBFA;\n",
              "    box-shadow: 0px 1px 2px rgba(60, 64, 67, 0.3), 0px 1px 3px 1px rgba(60, 64, 67, 0.15);\n",
              "    fill: #174EA6;\n",
              "  }\n",
              "\n",
              "  [theme=dark] .colab-df-quickchart {\n",
              "    background-color: #3B4455;\n",
              "    fill: #D2E3FC;\n",
              "  }\n",
              "\n",
              "  [theme=dark] .colab-df-quickchart:hover {\n",
              "    background-color: #434B5C;\n",
              "    box-shadow: 0px 1px 3px 1px rgba(0, 0, 0, 0.15);\n",
              "    filter: drop-shadow(0px 1px 2px rgba(0, 0, 0, 0.3));\n",
              "    fill: #FFFFFF;\n",
              "  }\n",
              "</style>\n",
              "\n",
              "    <script>\n",
              "      async function quickchart(key) {\n",
              "        const containerElement = document.querySelector('#' + key);\n",
              "        const charts = await google.colab.kernel.invokeFunction(\n",
              "            'suggestCharts', [key], {});\n",
              "      }\n",
              "    </script>\n",
              "\n",
              "      <script>\n",
              "\n",
              "function displayQuickchartButton(domScope) {\n",
              "  let quickchartButtonEl =\n",
              "    domScope.querySelector('#df-11bc4511-f1d1-4e6a-8b9a-e81d9d010750 button.colab-df-quickchart');\n",
              "  quickchartButtonEl.style.display =\n",
              "    google.colab.kernel.accessAllowed ? 'block' : 'none';\n",
              "}\n",
              "\n",
              "        displayQuickchartButton(document);\n",
              "      </script>\n",
              "      <style>\n",
              "    .colab-df-container {\n",
              "      display:flex;\n",
              "      flex-wrap:wrap;\n",
              "      gap: 12px;\n",
              "    }\n",
              "\n",
              "    .colab-df-convert {\n",
              "      background-color: #E8F0FE;\n",
              "      border: none;\n",
              "      border-radius: 50%;\n",
              "      cursor: pointer;\n",
              "      display: none;\n",
              "      fill: #1967D2;\n",
              "      height: 32px;\n",
              "      padding: 0 0 0 0;\n",
              "      width: 32px;\n",
              "    }\n",
              "\n",
              "    .colab-df-convert:hover {\n",
              "      background-color: #E2EBFA;\n",
              "      box-shadow: 0px 1px 2px rgba(60, 64, 67, 0.3), 0px 1px 3px 1px rgba(60, 64, 67, 0.15);\n",
              "      fill: #174EA6;\n",
              "    }\n",
              "\n",
              "    [theme=dark] .colab-df-convert {\n",
              "      background-color: #3B4455;\n",
              "      fill: #D2E3FC;\n",
              "    }\n",
              "\n",
              "    [theme=dark] .colab-df-convert:hover {\n",
              "      background-color: #434B5C;\n",
              "      box-shadow: 0px 1px 3px 1px rgba(0, 0, 0, 0.15);\n",
              "      filter: drop-shadow(0px 1px 2px rgba(0, 0, 0, 0.3));\n",
              "      fill: #FFFFFF;\n",
              "    }\n",
              "  </style>\n",
              "\n",
              "      <script>\n",
              "        const buttonEl =\n",
              "          document.querySelector('#df-1420270f-e0b9-4cdd-b664-ecc81afc4b41 button.colab-df-convert');\n",
              "        buttonEl.style.display =\n",
              "          google.colab.kernel.accessAllowed ? 'block' : 'none';\n",
              "\n",
              "        async function convertToInteractive(key) {\n",
              "          const element = document.querySelector('#df-1420270f-e0b9-4cdd-b664-ecc81afc4b41');\n",
              "          const dataTable =\n",
              "            await google.colab.kernel.invokeFunction('convertToInteractive',\n",
              "                                                     [key], {});\n",
              "          if (!dataTable) return;\n",
              "\n",
              "          const docLinkHtml = 'Like what you see? Visit the ' +\n",
              "            '<a target=\"_blank\" href=https://colab.research.google.com/notebooks/data_table.ipynb>data table notebook</a>'\n",
              "            + ' to learn more about interactive tables.';\n",
              "          element.innerHTML = '';\n",
              "          dataTable['output_type'] = 'display_data';\n",
              "          await google.colab.output.renderOutput(dataTable, element);\n",
              "          const docLink = document.createElement('div');\n",
              "          docLink.innerHTML = docLinkHtml;\n",
              "          element.appendChild(docLink);\n",
              "        }\n",
              "      </script>\n",
              "    </div>\n",
              "  </div>\n"
            ]
          },
          "metadata": {},
          "execution_count": 21
        }
      ]
    },
    {
      "cell_type": "code",
      "source": [
        "df.shape"
      ],
      "metadata": {
        "colab": {
          "base_uri": "https://localhost:8080/"
        },
        "id": "ij1PZWzI6NmB",
        "outputId": "b5dbb9ff-1f3c-4708-fd04-919ee0411d60"
      },
      "execution_count": null,
      "outputs": [
        {
          "output_type": "execute_result",
          "data": {
            "text/plain": [
              "(50582, 26)"
            ]
          },
          "metadata": {},
          "execution_count": 22
        }
      ]
    },
    {
      "cell_type": "markdown",
      "source": [
        "## Agregando descripción a los datos\n",
        "\n",
        "Los datos son públicos, fueron utilizados en una competencia que pueden consultar [AQUÍ](https://challengedata.ens.fr/participants/challenges/50/) (para poder ingresar necesitarán registrarse y luego copiar la dirección en su navegador). En esta competencia registraron muchas características de \"traders\", para tratar de clasificarlos en HFT (High Frequency Traders) o NON-HFT, esto porque es de gran interes tratar de estudiar el impacto que tienen los HFT en los mercados, ya que lo que hacen es realizar intercambios dando ordenes de intercambio a un mecanismo llamado Limit Order Book (LOB), al cual le ordenan realizar compras o ventas a precios que ellos deseen.\n",
        "\n",
        "## Descripción de las variables\n",
        "1. NbTradeVenueMic (23) : Número de centros de negociación en los que opera el jugador del mercado\n",
        "\n",
        "De todos los centros de negociación, estadísticas sobre el número de operaciones observadas por segundo\n",
        "\n",
        "2. MaxNbTradesBySecond (24)\n",
        "3. MeanNbTradesBySecond (25)\n",
        "\n",
        "Estadísticas sobre el delta de tiempo observado entre dos operaciones en la plataforma de negociación TV_1[1]:\n",
        "\n",
        "4. min_dt_TV1 (26)\n",
        "5. med_dt_TV1 (28)\n",
        "6. mean_dt_TV1 (27)\n",
        "\n",
        "Estadísticas sobre el delta de tiempo observado entre dos operaciones que se producen en la plataforma de negociación TV_1 y luego en la plataforma de negociación TV_2:\n",
        "\n",
        "7. min_dt_TV1_TV2 (29)\n",
        "8. med_dt_TV1_TV2 (31)\n",
        "9. mean_dt_TV1_TV2 (30)\n",
        "\n",
        "Estadísticas sobre el delta de tiempo observado entre dos operaciones que se producen en la plataforma de negociación TV_1 y luego en la plataforma de negociación TV_3:\n",
        "\n",
        "10. min_dt_TV1_TV3 (32)\n",
        "11. med_dt_TV1_TV3 (34)\n",
        "12. mean_dt_TV1_TV3 (33)\n",
        "\n",
        "Estadísticas sobre el delta de tiempo observado entre dos operaciones que se producen en la plataforma de negociación TV_1 y luego en la plataforma de negociación TV_4 :\n",
        "\n",
        "13. min_dt_TV1_TV4 (35)\n",
        "14. med_dt_TV1_TV4 (37)\n",
        "15. mean_dt_TV1_TV4(36)\n",
        "\n",
        "De todos los centros de negociación, número de segundos durante el día de negociación donde se observa al menos una operación del jugador del mercado i\n",
        "\n",
        "16. NbSecondWithAtLeatOneTrade(38)\n",
        "\n",
        "En la plataforma de negociación TV_1, tres proporciones entre el número de todo tipo de eventos[2] enviados a la LOB y:\n",
        "\n",
        "17. el número de operaciones (OTR) (4)\n",
        "18. el número de eventos de tipo cancelación (OCR) (5)\n",
        "19. el número de eventos de tipo de modificación (OMR) (6)\n",
        "\n",
        "En el centro de negociación TV_1, estadísticas durante el delta de tiempo observado entre dos eventos de todo tipo enviados:\n",
        "\n",
        "20. min_time_two_events (7)\n",
        "21. mean_time_two_events (8)\n",
        "22. 10_p_time_two_events (9)\n",
        "23. med_time_two_events (10)\n",
        "24. 25_p_time_two_events (11)\n",
        "25. 75_p_time_two_events (12)\n",
        "26. 90_p_time_two_events (13)\n",
        "27. max_time_two_events (14)\n",
        "\n",
        "En la plataforma de negociación TV_1, estadísticas a lo largo de la vida útil observada de las órdenes canceladas:\n",
        "\n",
        "28. min_lifetime_cancel (15)\n",
        "29. mean_lifetime_cancel (16)\n",
        "30. 10_p_lifetime_cancel (17)\n",
        "31. med_lifetime_cancel (18)\n",
        "32. 25_p_lifetime_cancel (19)\n",
        "33. 75_p_lifetime_cancel (20)\n",
        "34. 90_p_lifetime_cancel (21)\n",
        "35. max_lifetime_cancel (22)\n",
        "\n",
        "Extra variables\n",
        "\n",
        "36. Type: HF, Non HFT (39)\n",
        "37. Day\n",
        "38. Share\n",
        "39. Trader\n",
        "40. Index"
      ],
      "metadata": {
        "id": "duwtE_o06JhG"
      }
    },
    {
      "cell_type": "code",
      "source": [
        "# Los valores 1 son NON-HFT y los 0 son HFT\n",
        "df.type.value_counts()"
      ],
      "metadata": {
        "colab": {
          "base_uri": "https://localhost:8080/"
        },
        "id": "H3Jlzp0E6AOn",
        "outputId": "0052ecc1-3444-4381-d04e-5645ea55d5e2"
      },
      "execution_count": null,
      "outputs": [
        {
          "output_type": "execute_result",
          "data": {
            "text/plain": [
              "0    30522\n",
              "1    20060\n",
              "Name: type, dtype: int64"
            ]
          },
          "metadata": {},
          "execution_count": 23
        }
      ]
    },
    {
      "cell_type": "code",
      "source": [
        "X_prob = np.array(df.drop(['type'], axis=1))\n",
        "X_prob"
      ],
      "metadata": {
        "colab": {
          "base_uri": "https://localhost:8080/"
        },
        "id": "mlAtiXCx6R0n",
        "outputId": "ff9d7539-0bfa-4dde-c226-5a85cae53420"
      },
      "execution_count": null,
      "outputs": [
        {
          "output_type": "execute_result",
          "data": {
            "text/plain": [
              "array([[-0.26413997, -0.17159563, -0.03433358, ...,  2.25730527,\n",
              "         0.21564981, -0.43020348],\n",
              "       [-0.26737141,  0.07195718, -0.03433358, ..., -0.25954205,\n",
              "        -0.25743172, -0.41553282],\n",
              "       [-0.26857105,  0.39219296, -0.03433358, ..., -0.35024783,\n",
              "        -0.25743176, -0.35151541],\n",
              "       ...,\n",
              "       [-0.27045626,  0.9521233 , -0.03433358, ..., -0.07680184,\n",
              "        -0.25668942, -0.41419912],\n",
              "       [-0.27027382,  2.65940442, -0.03433358, ..., -0.27547952,\n",
              "        -0.25713323, -0.3888589 ],\n",
              "       [-0.2702773 ,  0.66275362, -0.03433358, ...,  0.28933079,\n",
              "        -0.25311955, -0.423535  ]])"
            ]
          },
          "metadata": {},
          "execution_count": 24
        }
      ]
    },
    {
      "cell_type": "code",
      "source": [
        "Y_prob = np.array(df['type'])\n",
        "Y_prob"
      ],
      "metadata": {
        "colab": {
          "base_uri": "https://localhost:8080/"
        },
        "id": "YYqf8Fka6Vvr",
        "outputId": "bebd570d-3e7e-4ea8-ec3c-c0ad800d3f70"
      },
      "execution_count": null,
      "outputs": [
        {
          "output_type": "execute_result",
          "data": {
            "text/plain": [
              "array([1, 1, 1, ..., 1, 1, 1])"
            ]
          },
          "metadata": {},
          "execution_count": 25
        }
      ]
    },
    {
      "cell_type": "code",
      "source": [
        "num_inputs = 25\n",
        "num_outputs = 2\n",
        "\n",
        "W = np.random.normal(0, 0.1, (num_inputs, num_outputs)) # Jugaremos con este parametro\n",
        "B = np.zeros(num_outputs) # Jugaremos con este parametro"
      ],
      "metadata": {
        "id": "zVLF4C1I6YqV"
      },
      "execution_count": null,
      "outputs": []
    },
    {
      "cell_type": "markdown",
      "source": [
        "La expresión matemática de la función SoftMax es la siguiente:\n",
        "\n",
        "\n",
        "$$ \\mathrm{softmax}(\\mathbf{X})_{ij} = \\frac{\\exp(\\mathbf{X}_{ij})}{\\sum_k \\exp(\\mathbf{X}_{ik})}. $$"
      ],
      "metadata": {
        "id": "1ALGjy406ge4"
      }
    },
    {
      "cell_type": "code",
      "source": [
        "def softmax(X):\n",
        "    X_exp = np.exp(X)\n",
        "    partition = X_exp.sum(1, keepdims=True)\n",
        "    return X_exp / partition"
      ],
      "metadata": {
        "id": "pudTtGHU6fsE"
      },
      "execution_count": null,
      "outputs": []
    },
    {
      "cell_type": "markdown",
      "source": [
        "Si observan con cuidado, pueden ver que con esta operación estamos transformando todas nuestras entradas en números positivos. Mas aún, cada fila suma 1, es decir, la convertimos en una distribución de probabilidad."
      ],
      "metadata": {
        "id": "lifvl_Jf6t8i"
      }
    },
    {
      "cell_type": "code",
      "source": [
        "x = np.random.normal(0, 1, (4, 3))\n",
        "x_prob = softmax(x)\n",
        "x_prob, x_prob.sum(1)"
      ],
      "metadata": {
        "colab": {
          "base_uri": "https://localhost:8080/"
        },
        "id": "8PCT6MMe6p-9",
        "outputId": "eec7e682-d872-4c80-c356-360d250488a3"
      },
      "execution_count": null,
      "outputs": [
        {
          "output_type": "execute_result",
          "data": {
            "text/plain": [
              "(array([[0.80996743, 0.148273  , 0.04175957],\n",
              "        [0.04130705, 0.24120581, 0.71748713],\n",
              "        [0.71517234, 0.07648566, 0.20834201],\n",
              "        [0.14202401, 0.54838478, 0.30959121]]),\n",
              " array([1., 1., 1., 1.]))"
            ]
          },
          "metadata": {},
          "execution_count": 28
        }
      ]
    },
    {
      "cell_type": "markdown",
      "source": [
        "Ahora podemos definir el modelo como:"
      ],
      "metadata": {
        "id": "56dbWCCq7HGa"
      }
    },
    {
      "cell_type": "code",
      "source": [
        "def net(X,W,b):\n",
        "    return softmax(np.dot(X.reshape((-1, W.shape[0])), W) + b)"
      ],
      "metadata": {
        "id": "5TaehdGc7K7_"
      },
      "execution_count": null,
      "outputs": []
    },
    {
      "cell_type": "markdown",
      "source": [
        "### Función de perdida\n",
        "\n",
        "La función es la Cross-Entropy:\n",
        "$$ -\\sum_{c=1}^My_{o,c}\\log(p_{o,c}), $$\n",
        "\n",
        "donde $M$ es la cantidad de clases que tenemos, $log$ la función de logaritmo natural, $y$ es $0$ o $1$ dependiendo de la etiqueta real de la clase $c$ y por último $p_{o,c}$ es la probabilidad predicha de que la observación $o$ pertenezca a la clase $c$."
      ],
      "metadata": {
        "id": "fYxe7wt-7OyC"
      }
    },
    {
      "cell_type": "code",
      "source": [
        "def cross_entropy(y_hat, y):\n",
        "    return np.sum(- np.log(y_hat[range(len(y_hat)), y])) / y.shape[0]"
      ],
      "metadata": {
        "id": "H2jS2fup7fR4"
      },
      "execution_count": null,
      "outputs": []
    },
    {
      "cell_type": "code",
      "source": [
        "# El resultado final es lo que alimentará a la cross-entropy, es decir etiqueta\n",
        "# de que pertenece a la clase 1 por la probabilidad de pertenecer a la clase 1\n",
        "y = np.array([0, 2])\n",
        "y_hat = np.array([[0.1, 0.3, 0.6], [0.3, 0.2, 0.5]])\n",
        "y_hat[[0, 1], y]"
      ],
      "metadata": {
        "colab": {
          "base_uri": "https://localhost:8080/"
        },
        "id": "YGkN5dbw7pis",
        "outputId": "b5f3dd7e-e042-4128-9ef1-48b20dadbe87"
      },
      "execution_count": null,
      "outputs": [
        {
          "output_type": "execute_result",
          "data": {
            "text/plain": [
              "array([0.1, 0.5])"
            ]
          },
          "metadata": {},
          "execution_count": 31
        }
      ]
    },
    {
      "cell_type": "code",
      "source": [
        "cross_entropy(y_hat, y)"
      ],
      "metadata": {
        "colab": {
          "base_uri": "https://localhost:8080/"
        },
        "id": "aotKD31Y-_9u",
        "outputId": "efda798b-bc26-48af-ddf8-1233baa4d238"
      },
      "execution_count": null,
      "outputs": [
        {
          "output_type": "execute_result",
          "data": {
            "text/plain": [
              "1.4978661367769954"
            ]
          },
          "metadata": {},
          "execution_count": 32
        }
      ]
    },
    {
      "cell_type": "markdown",
      "source": [
        "También podemos considerar el accuracy"
      ],
      "metadata": {
        "id": "gykMzp2d7zn-"
      }
    },
    {
      "cell_type": "code",
      "source": [
        "def accuracy(y_hat, y):\n",
        "    \"\"\"Calcula la cantidad de predicciones correctas.\"\"\"\n",
        "    if len(y_hat.shape) > 1 and y_hat.shape[1] > 1:\n",
        "        y_hat = y_hat.argmax(axis=1)\n",
        "    cmp = y_hat.astype(y.dtype) == y\n",
        "    return float(cmp.astype(y.dtype).sum())/ len(y)"
      ],
      "metadata": {
        "id": "TgG1KaIC74st"
      },
      "execution_count": null,
      "outputs": []
    },
    {
      "cell_type": "code",
      "source": [
        "accuracy(y_hat, y)"
      ],
      "metadata": {
        "colab": {
          "base_uri": "https://localhost:8080/"
        },
        "id": "VuLhJ0cQ777X",
        "outputId": "888a7baf-fb8f-431c-b335-e01370f02eba"
      },
      "execution_count": null,
      "outputs": [
        {
          "output_type": "execute_result",
          "data": {
            "text/plain": [
              "0.5"
            ]
          },
          "metadata": {},
          "execution_count": 34
        }
      ]
    },
    {
      "cell_type": "markdown",
      "source": [
        "Podemos utilizar Softmax para no tener problemas de tipo overflow"
      ],
      "metadata": {
        "id": "LY9a0hse8HfO"
      }
    },
    {
      "cell_type": "code",
      "source": [
        "# Softmax Estable\n",
        "def stable_softmax(Z):\n",
        "    expZ = np.exp(Z - np.max(Z))\n",
        "    return expZ / expZ.sum(axis=1, keepdims=True)"
      ],
      "metadata": {
        "id": "oOrIX3p98QK8"
      },
      "execution_count": null,
      "outputs": []
    },
    {
      "cell_type": "code",
      "source": [
        "def net_s(X,W,b):\n",
        "    return stable_softmax(np.dot(X.reshape((-1, W.shape[0])), W) + b)"
      ],
      "metadata": {
        "id": "OWiHaYhzznVX"
      },
      "execution_count": null,
      "outputs": []
    },
    {
      "cell_type": "markdown",
      "source": [
        "Para la optimización al minimizar la función de perdida se necesita el gradiente de la misma. ¿Como seria el gradiente de mi función compuesta?\n",
        "\n",
        "$$ \\frac{∂ L}{∂ \\omega_{i_j}} = (\\hat{y_i} - y_i ) x_j $$\n",
        "$$ \\frac{\\partial L}{\\partial b_i} = (\\hat{y_i} - y_i ) $$\n",
        "entonces los pesos se actualizan con\n",
        "\n",
        "$$ \\omega_{ij} = \\omega_{ij} - \\alpha (\\hat{y_i} - y_i ) x_j $$\n",
        "$$ b = b - \\alpha \\frac{1}{n} \\sum_{i=1}^n (\\hat{y_i} - y_i ) $$\n"
      ],
      "metadata": {
        "id": "zYELY9078mqf"
      }
    },
    {
      "cell_type": "code",
      "source": [
        "def grad_softmax_cross_entropy_for_w(X, y_true, w, b):\n",
        "    netaux = net_s(X,w,b)\n",
        "\n",
        "    ones_true_class = np.zeros_like(netaux) # Matriz de ceros que tiene la forma de las probabilidades (logits.shape), si alimento todos los datos es 50000X2\n",
        "\n",
        "    ones_true_class[np.arange(len(netaux)),y_true] = 1 # Genera 1 o cero si esta en la clasificacion correcta\n",
        "\n",
        "    softmax_ = netaux # softmax aplicado a mis probabilidades\n",
        "\n",
        "    aux1 = softmax_ - ones_true_class\n",
        "\n",
        "    return X.T @ aux1/X.shape[0]"
      ],
      "metadata": {
        "id": "sgE5Jjmp2Ggf"
      },
      "execution_count": null,
      "outputs": []
    },
    {
      "cell_type": "code",
      "source": [
        "def grad_softmax_cross_entropy_for_b(X, y_true, w, b):\n",
        "    netaux = net_s(X,w,b)\n",
        "\n",
        "    ones_true_class = np.zeros_like(netaux) # Matriz de ceros que tiene la forma de las probabilidades (logits.shape), si alimento todos los datos es 50000X2\n",
        "\n",
        "    ones_true_class[np.arange(len(netaux)),y_true] = 1 # Genera 1 o cero si esta en la clasificacion correcta\n",
        "\n",
        "    softmax_ = netaux # softmax aplicado a mis probabilidades\n",
        "\n",
        "    aux1 = softmax_ - ones_true_class\n",
        "\n",
        "    return aux1.sum(axis=0, keepdims=True)/X.shape[0]"
      ],
      "metadata": {
        "id": "f6a6z5VswVd3"
      },
      "execution_count": null,
      "outputs": []
    },
    {
      "cell_type": "markdown",
      "source": [
        "Veamos un ejemplo"
      ],
      "metadata": {
        "id": "c6PjGQ1QML98"
      }
    },
    {
      "cell_type": "code",
      "source": [
        "x = np.random.normal(0, 1, (2, 5))\n",
        "\n",
        "w = np.random.normal(0, 0.1, (5, 3)) # Jugaremos con este parametro\n",
        "b = np.zeros(3) # Jugaremos con este parametro\n",
        "\n",
        "net_s(x,w,b)"
      ],
      "metadata": {
        "colab": {
          "base_uri": "https://localhost:8080/"
        },
        "id": "3nKqDrfkEtts",
        "outputId": "471d9433-2fe8-4552-b03b-edf7151fea64"
      },
      "execution_count": null,
      "outputs": [
        {
          "output_type": "execute_result",
          "data": {
            "text/plain": [
              "array([[0.3714134 , 0.34699831, 0.28158829],\n",
              "       [0.39398558, 0.33503774, 0.27097667]])"
            ]
          },
          "metadata": {},
          "execution_count": 39
        }
      ]
    },
    {
      "cell_type": "code",
      "source": [
        "w"
      ],
      "metadata": {
        "id": "NqEb6uTuEWb5",
        "colab": {
          "base_uri": "https://localhost:8080/"
        },
        "outputId": "44017c03-6445-4a75-e0a5-9467085e7390"
      },
      "execution_count": null,
      "outputs": [
        {
          "output_type": "execute_result",
          "data": {
            "text/plain": [
              "array([[ 0.01083536, -0.03843881, -0.30951673],\n",
              "       [ 0.10055291,  0.26782983, -0.14708592],\n",
              "       [ 0.00109679, -0.15453779,  0.03296105],\n",
              "       [ 0.07322007, -0.01199815, -0.02832502],\n",
              "       [-0.05040993,  0.04922372, -0.07774603]])"
            ]
          },
          "metadata": {},
          "execution_count": 40
        }
      ]
    },
    {
      "cell_type": "code",
      "source": [
        "yaux = [1,2]"
      ],
      "metadata": {
        "id": "xFMBnz8JE8aA"
      },
      "execution_count": null,
      "outputs": []
    },
    {
      "cell_type": "code",
      "source": [
        "netaux = net_s(x[0],w,b)\n",
        "\n",
        "ones_true_class = np.zeros_like(netaux) # Matriz de ceros que tiene la forma de las probabilidades (logits.shape), si alimento todos los datos es 50000X2\n",
        "\n",
        "ones_true_class[np.arange(len(netaux)),yaux[0]] = 1 # Genera 1 o cero si esta en la clasificacion correcta\n",
        "\n",
        "softmax_ = netaux # softmax aplicado a mis probabilidades\n",
        "\n",
        "aux1 = softmax_ - ones_true_class\n"
      ],
      "metadata": {
        "id": "BsUHjnCgeQmM"
      },
      "execution_count": null,
      "outputs": []
    },
    {
      "cell_type": "code",
      "source": [
        "#gradiente para w\n",
        "x[0].reshape(-1,1) @ aux1 / x.shape[0]"
      ],
      "metadata": {
        "colab": {
          "base_uri": "https://localhost:8080/"
        },
        "id": "Gga7LhnNfFdZ",
        "outputId": "fbe174bc-5de6-492b-c5e7-fd189e7c8f8f"
      },
      "execution_count": null,
      "outputs": [
        {
          "output_type": "execute_result",
          "data": {
            "text/plain": [
              "array([[ 0.15196636, -0.26718016,  0.1152138 ],\n",
              "       [ 0.04267378, -0.07502705,  0.03235327],\n",
              "       [ 0.14883093, -0.26166759,  0.11283666],\n",
              "       [-0.04865387,  0.08554097, -0.0368871 ],\n",
              "       [ 0.06764222, -0.11892539,  0.05128317]])"
            ]
          },
          "metadata": {},
          "execution_count": 43
        }
      ]
    },
    {
      "cell_type": "code",
      "source": [
        "grad_softmax_cross_entropy_for_w(x,yaux,w,b)"
      ],
      "metadata": {
        "colab": {
          "base_uri": "https://localhost:8080/"
        },
        "id": "U2jPQsutve7C",
        "outputId": "dc575ebc-d8af-4c0d-cdbb-f9bf3dedeb07"
      },
      "execution_count": null,
      "outputs": [
        {
          "output_type": "execute_result",
          "data": {
            "text/plain": [
              "array([[ 0.16586105, -0.25536439,  0.08950335],\n",
              "       [ 0.33673072,  0.17503329, -0.51176401],\n",
              "       [ 0.43415402, -0.01903433, -0.41511968],\n",
              "       [ 0.0749017 ,  0.19061025, -0.26551194],\n",
              "       [-0.18825332, -0.33653402,  0.52478734]])"
            ]
          },
          "metadata": {},
          "execution_count": 46
        }
      ]
    },
    {
      "cell_type": "code",
      "source": [
        "#gradiente para b\n",
        "aux1/ x.shape[0]"
      ],
      "metadata": {
        "colab": {
          "base_uri": "https://localhost:8080/"
        },
        "id": "WNElzQKuQzHB",
        "outputId": "bf231b2a-25d1-45d0-ae8d-6d28ef89e94a"
      },
      "execution_count": null,
      "outputs": [
        {
          "output_type": "execute_result",
          "data": {
            "text/plain": [
              "array([[ 0.1857067 , -0.32650085,  0.14079415]])"
            ]
          },
          "metadata": {},
          "execution_count": 47
        }
      ]
    },
    {
      "cell_type": "code",
      "source": [
        "grad_softmax_cross_entropy_for_b(x,yaux,w,b)"
      ],
      "metadata": {
        "colab": {
          "base_uri": "https://localhost:8080/"
        },
        "id": "xIXl_-O2xF0o",
        "outputId": "b41c93c0-de3f-40ec-8910-2f5069a20c3f"
      },
      "execution_count": null,
      "outputs": [
        {
          "output_type": "execute_result",
          "data": {
            "text/plain": [
              "array([[ 0.38269949, -0.15898197, -0.22371752]])"
            ]
          },
          "metadata": {},
          "execution_count": 48
        }
      ]
    },
    {
      "cell_type": "markdown",
      "source": [
        "Finalmente podemos implementar SGD: Stochastic Gradient Descent"
      ],
      "metadata": {
        "id": "AcE-veot9Myj"
      }
    },
    {
      "cell_type": "code",
      "source": [
        "batch_size = 200"
      ],
      "metadata": {
        "id": "DQ2GHGI780yj"
      },
      "execution_count": null,
      "outputs": []
    },
    {
      "cell_type": "code",
      "source": [
        "def batch_gradient_descent(x, y, w, b, net, batch_size, learning_rate=0.1, num_epochs=10):\n",
        "  m = x.shape[0]\n",
        "  J_all = []\n",
        "\n",
        "  for _ in range(num_epochs):\n",
        "    random_indices = np.random.choice(m, size=batch_size, replace=False)\n",
        "    x_batch = x[random_indices, :].copy()\n",
        "    y_batch = y[random_indices].copy()\n",
        "\n",
        "    y_probs = net_s(x_batch, w, b)\n",
        "    #y_hat = y_probs.argmax(axis=1)\n",
        "    gradient_w = grad_softmax_cross_entropy_for_w(x_batch,y_batch,w,b)\n",
        "    gradient_b = grad_softmax_cross_entropy_for_b(x_batch,y_batch,w,b)\n",
        "\n",
        "    w = w - learning_rate*gradient_w\n",
        "    b = b - learning_rate*gradient_b\n",
        "\n",
        "    J_all.append(cross_entropy(y_probs, y_batch))\n",
        "\n",
        "  return J_all, w, b"
      ],
      "metadata": {
        "id": "eF5RD0kxdWEK"
      },
      "execution_count": null,
      "outputs": []
    },
    {
      "cell_type": "code",
      "source": [
        "np.random.seed(4)\n",
        "W = np.random.normal(0, 0.1, (num_inputs, num_outputs)) # Jugaremos con este parametro\n",
        "B = np.zeros(num_outputs) # Jugaremos con este parametro"
      ],
      "metadata": {
        "id": "W8YQngXk_hul"
      },
      "execution_count": null,
      "outputs": []
    },
    {
      "cell_type": "code",
      "source": [
        "learning_rate = 0.5\n",
        "num_epochs = 100"
      ],
      "metadata": {
        "id": "8m-glGpg_rIG"
      },
      "execution_count": null,
      "outputs": []
    },
    {
      "cell_type": "code",
      "source": [
        "J_all, W, B = batch_gradient_descent(X_prob, Y_prob, W, B, net, batch_size, learning_rate, num_epochs)\n",
        "Y_hat = net_s(X_prob, W, B)\n",
        "J = cross_entropy(Y_hat, Y_prob)\n",
        "print(\"Cost: \", J)\n",
        "print(\"Parameters: \", W)\n",
        "print(\"Intercepto: \", B)"
      ],
      "metadata": {
        "colab": {
          "base_uri": "https://localhost:8080/"
        },
        "id": "XQzaa3Rh_t1g",
        "outputId": "29173e1c-9640-414d-aa26-ec787a2ae56a"
      },
      "execution_count": null,
      "outputs": [
        {
          "output_type": "stream",
          "name": "stdout",
          "text": [
            "Cost:  0.1939517527372499\n",
            "Parameters:  [[ 0.60710666 -0.55205536]\n",
            " [-0.00448148 -0.02574956]\n",
            " [-0.14509015 -0.05519773]\n",
            " [-0.18036458  0.17545143]\n",
            " [-0.12951288  0.04799022]\n",
            " [ 0.05979465 -0.00672637]\n",
            " [ 0.04847903  0.02725352]\n",
            " [ 0.1164914  -0.19707331]\n",
            " [ 0.02559381  0.06841539]\n",
            " [-0.60340437  0.68035209]\n",
            " [-0.38287662  0.29002072]\n",
            " [-0.1442361   0.03933058]\n",
            " [ 0.13780665  0.12395889]\n",
            " [ 0.24122567 -0.18327111]\n",
            " [ 0.14732551 -0.11984732]\n",
            " [ 0.06042775 -0.0713052 ]\n",
            " [-0.20204341 -0.02896333]\n",
            " [ 0.02983141 -0.05660618]\n",
            " [ 1.72533872 -1.42506754]\n",
            " [-0.18028747  0.23231832]\n",
            " [-0.00595529 -0.05743259]\n",
            " [ 0.04632288 -0.18200492]\n",
            " [ 0.02238098  0.04475722]\n",
            " [ 0.01670839  0.07319547]\n",
            " [ 0.11237078 -0.04839244]]\n",
            "Intercepto:  [[ 0.82872359 -0.82872359]]\n"
          ]
        }
      ]
    },
    {
      "cell_type": "code",
      "source": [
        "perdida_por_epoca = np.array(J_all).reshape(-1,1)\n",
        "plt.plot(perdida_por_epoca)\n",
        "plt.show()"
      ],
      "metadata": {
        "colab": {
          "base_uri": "https://localhost:8080/",
          "height": 430
        },
        "id": "ii29aoq8_ze_",
        "outputId": "be87bcce-56ba-47bd-b781-cf80e0a095c1"
      },
      "execution_count": null,
      "outputs": [
        {
          "output_type": "display_data",
          "data": {
            "text/plain": [
              "<Figure size 640x480 with 1 Axes>"
            ],
            "image/png": "[encoded data removed]"
          },
          "metadata": {}
        }
      ]
    },
    {
      "cell_type": "code",
      "source": [
        "# Las probabilidades que predecimos para cada fila de nuestros datos\n",
        "net_s(X_prob, W, B)"
      ],
      "metadata": {
        "colab": {
          "base_uri": "https://localhost:8080/"
        },
        "id": "GCWjnf0O_9FB",
        "outputId": "96ac661c-9450-4d56-cf23-61e396c58adc"
      },
      "execution_count": null,
      "outputs": [
        {
          "output_type": "execute_result",
          "data": {
            "text/plain": [
              "array([[0.09881965, 0.90118035],\n",
              "       [0.06902742, 0.93097258],\n",
              "       [0.08502179, 0.91497821],\n",
              "       ...,\n",
              "       [0.06609291, 0.93390709],\n",
              "       [0.0909438 , 0.9090562 ],\n",
              "       [0.41618004, 0.58381996]])"
            ]
          },
          "metadata": {},
          "execution_count": 76
        }
      ]
    },
    {
      "cell_type": "code",
      "source": [
        "# La etiqueta verdadera de nuestros datos\n",
        "Y_prob"
      ],
      "metadata": {
        "colab": {
          "base_uri": "https://localhost:8080/"
        },
        "id": "gLKlVBFxAAcm",
        "outputId": "12481fdd-7cf4-40b0-e767-41d35fb9b179"
      },
      "execution_count": null,
      "outputs": [
        {
          "output_type": "execute_result",
          "data": {
            "text/plain": [
              "array([1, 1, 1, ..., 1, 1, 1])"
            ]
          },
          "metadata": {},
          "execution_count": 77
        }
      ]
    },
    {
      "cell_type": "code",
      "source": [
        "accuracy(net_s(X_prob, W, B),Y_prob)"
      ],
      "metadata": {
        "colab": {
          "base_uri": "https://localhost:8080/"
        },
        "id": "AG8eQq2RACkn",
        "outputId": "d5d34576-16fc-45fb-b2fb-7ceb541f2bdf"
      },
      "execution_count": null,
      "outputs": [
        {
          "output_type": "execute_result",
          "data": {
            "text/plain": [
              "0.9311612826697244"
            ]
          },
          "metadata": {},
          "execution_count": 78
        }
      ]
    },
    {
      "cell_type": "markdown",
      "source": [
        "## AdaGrad"
      ],
      "metadata": {
        "id": "_iQhER8yAEeS"
      }
    },
    {
      "cell_type": "code",
      "source": [
        "def adagrad(x, y, w, b, net, batch_size, eta=0.1, epsilon=1e-7, num_epochs=10):\n",
        "  m = x.shape[0]\n",
        "  J_all = []\n",
        "  sum_w = 0\n",
        "  sum_b = 0\n",
        "\n",
        "  for _ in range(num_epochs):\n",
        "    random_indices = np.random.choice(m, size=batch_size, replace=False)\n",
        "    x_batch = x[random_indices, :].copy()\n",
        "    y_batch = y[random_indices].copy()\n",
        "\n",
        "    y_probs = net_s(x_batch, w, b)\n",
        "    #y_hat = y_probs.argmax(axis=1)\n",
        "    gradient_w = grad_softmax_cross_entropy_for_w(x_batch,y_batch,w,b)\n",
        "    gradient_b = grad_softmax_cross_entropy_for_b(x_batch,y_batch,w,b)\n",
        "\n",
        "    sum_w = sum_w + gradient_w**2\n",
        "    sum_b = sum_b + gradient_b**2\n",
        "\n",
        "    w = w - (eta/(epsilon + np.sqrt(sum_w))) * gradient_w\n",
        "    b = b - (eta/(epsilon + np.sqrt(sum_b))) * gradient_b\n",
        "\n",
        "    J_all.append(cross_entropy(y_probs, y_batch))\n",
        "\n",
        "  return J_all, w, b"
      ],
      "metadata": {
        "id": "H7Ek5Fv5ry5B"
      },
      "execution_count": null,
      "outputs": []
    },
    {
      "cell_type": "code",
      "source": [
        "np.random.seed(4)\n",
        "W = np.random.normal(0, 0.1, (num_inputs, num_outputs)) # Jugaremos con este parametro\n",
        "B = np.zeros(num_outputs) # Jugaremos con este parametro\n",
        "\n",
        "eta = 0.5\n",
        "epsilon = 1e-7\n",
        "num_epochs = 100"
      ],
      "metadata": {
        "id": "-3MJnCBhwNK_"
      },
      "execution_count": null,
      "outputs": []
    },
    {
      "cell_type": "code",
      "source": [
        "J_all, W, B = adagrad(X_prob, Y_prob, W, B, net, batch_size, eta, epsilon, num_epochs)\n",
        "Y_hat = net_s(X_prob, W, B)\n",
        "J = cross_entropy(Y_hat, Y_prob)\n",
        "print(\"Cost: \", J)\n",
        "print(\"Parameters: \", W)\n",
        "print(\"Intercepto: \", B)"
      ],
      "metadata": {
        "colab": {
          "base_uri": "https://localhost:8080/"
        },
        "id": "DbuOfUYKwTH3",
        "outputId": "c854d29b-b716-4e48-b181-60793864ff39"
      },
      "execution_count": null,
      "outputs": [
        {
          "output_type": "stream",
          "name": "stdout",
          "text": [
            "Cost:  0.18875819347927958\n",
            "Parameters:  [[ 1.51662557 -1.46157427]\n",
            " [ 0.00401916 -0.0342502 ]\n",
            " [-0.88185983  0.68157196]\n",
            " [-0.20840555  0.20349239]\n",
            " [-0.56324812  0.48172546]\n",
            " [ 0.07058758 -0.0175193 ]\n",
            " [ 0.1049447  -0.02921215]\n",
            " [ 0.08877728 -0.16935919]\n",
            " [ 0.13713352 -0.04312432]\n",
            " [-0.78384034  0.86078805]\n",
            " [-0.54955392  0.45669803]\n",
            " [-0.18741977  0.08251424]\n",
            " [ 0.24106845  0.02069709]\n",
            " [ 0.26873645 -0.21078189]\n",
            " [ 0.20689846 -0.17942027]\n",
            " [ 0.11046434 -0.12134179]\n",
            " [-0.32004567  0.08903893]\n",
            " [ 0.1182962  -0.14507097]\n",
            " [ 2.10918033 -1.80890915]\n",
            " [-0.42390466  0.47593551]\n",
            " [ 0.04113443 -0.10452231]\n",
            " [-0.00505458 -0.13062746]\n",
            " [ 0.05038669  0.01675151]\n",
            " [ 0.09945452 -0.00955066]\n",
            " [ 0.27443114 -0.2104528 ]]\n",
            "Intercepto:  [[ 1.27418202 -1.27418202]]\n"
          ]
        }
      ]
    },
    {
      "cell_type": "code",
      "source": [
        "perdida_por_epoca = np.array(J_all).reshape(-1,1)\n",
        "plt.plot(perdida_por_epoca)\n",
        "plt.show()"
      ],
      "metadata": {
        "colab": {
          "base_uri": "https://localhost:8080/",
          "height": 430
        },
        "id": "tqO9JVp2w4Le",
        "outputId": "de680062-826d-4c1f-f9e2-3307a5d55f44"
      },
      "execution_count": null,
      "outputs": [
        {
          "output_type": "display_data",
          "data": {
            "text/plain": [
              "<Figure size 640x480 with 1 Axes>"
            ],
            "image/png": "[encoded data removed]"
          },
          "metadata": {}
        }
      ]
    },
    {
      "cell_type": "code",
      "source": [
        "accuracy(net_s(X_prob, W, B),Y_prob)"
      ],
      "metadata": {
        "colab": {
          "base_uri": "https://localhost:8080/"
        },
        "id": "PvRFCnPA40tl",
        "outputId": "95420587-897c-45ed-d343-24abb21281c2"
      },
      "execution_count": null,
      "outputs": [
        {
          "output_type": "execute_result",
          "data": {
            "text/plain": [
              "0.9308845043691432"
            ]
          },
          "metadata": {},
          "execution_count": 83
        }
      ]
    },
    {
      "cell_type": "markdown",
      "source": [
        "Tarea: Adaptación de AdaGrad para Backpropagation"
      ],
      "metadata": {
        "id": "KLvihi1Cf8a9"
      }
    },
    {
      "cell_type": "markdown",
      "source": [
        "Referencias:\n",
        "\n",
        "* https://www.jmlr.org/papers/volume12/duchi11a/duchi11a.pdf\n",
        "* https://arxiv.org/pdf/1806.01811.pdf"
      ],
      "metadata": {
        "id": "F1G5qP7e4z19"
      }
    }
  ]
}