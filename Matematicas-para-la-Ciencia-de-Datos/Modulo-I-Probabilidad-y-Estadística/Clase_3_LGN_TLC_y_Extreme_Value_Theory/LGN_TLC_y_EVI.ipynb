{
 "cells": [
  {
   "cell_type": "markdown",
   "id": "9c19d12c",
   "metadata": {},
   "source": [
    "# LGN, TLC y EVI"
   ]
  },
  {
   "cell_type": "code",
   "execution_count": null,
   "id": "68c8e712",
   "metadata": {},
   "outputs": [],
   "source": []
  },
  {
   "cell_type": "markdown",
   "id": "706b98a7",
   "metadata": {},
   "source": [
    "## La ley de los grandes números (LGN)"
   ]
  },
  {
   "cell_type": "code",
   "execution_count": null,
   "id": "d30b249a",
   "metadata": {},
   "outputs": [],
   "source": []
  },
  {
   "cell_type": "markdown",
   "id": "48730b7e",
   "metadata": {},
   "source": [
    "## El teorema del límite central (TLC)"
   ]
  },
  {
   "cell_type": "code",
   "execution_count": null,
   "id": "88fcc517",
   "metadata": {},
   "outputs": [],
   "source": []
  },
  {
   "cell_type": "markdown",
   "id": "374af0db",
   "metadata": {},
   "source": [
    "## Extreme Value Theory (EVI)"
   ]
  }
 ],
 "metadata": {
  "kernelspec": {
   "display_name": "Python 3",
   "language": "python",
   "name": "python3"
  },
  "language_info": {
   "name": "python",
   "version": "3.9.6"
  }
 },
 "nbformat": 4,
 "nbformat_minor": 5
}
