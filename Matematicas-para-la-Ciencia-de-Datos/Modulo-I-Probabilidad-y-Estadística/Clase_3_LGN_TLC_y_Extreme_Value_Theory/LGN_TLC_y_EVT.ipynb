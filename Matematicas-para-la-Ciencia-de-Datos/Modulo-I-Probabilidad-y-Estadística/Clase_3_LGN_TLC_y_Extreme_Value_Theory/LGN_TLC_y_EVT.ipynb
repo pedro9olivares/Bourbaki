{
 "cells": [
  {
   "cell_type": "markdown",
   "id": "9c19d12c",
   "metadata": {},
   "source": [
    "# LGN, TLC y EVT"
   ]
  },
  {
   "cell_type": "markdown",
   "id": "8573c750",
   "metadata": {},
   "source": [
    "La **Ley de los Grandes Números** es uno de los pocos resultados matemáticos que garantiza que una **base de datos**, obtenida a partir de observaciones aleatorias, puede ser una buena aproximación a un resultado general.\n",
    "\n",
    "A su vez, el **Teorema del Límite Central** nos dice que aunque las variables originales no sean normales, sus sumas y promedios sí tienden a seguir una distribución normal, a medida que aumentamos el tamaño de la muestra.\n",
    "\n",
    "Finalmente, exploraremos la **Teoría de Valores Extremos (Extreme Value Theory)**, una herramienta útil cuando la hipótesis de varianza finita no se cumple."
   ]
  },
  {
   "cell_type": "code",
   "execution_count": 161,
   "id": "68c8e712",
   "metadata": {},
   "outputs": [],
   "source": [
    "import matplotlib.pyplot as plt\n",
    "import seaborn as sns\n",
    "\n",
    "# Podemos utilizar numpy para simular distribuciones...\n",
    "import numpy as np\n",
    "\n",
    "# ... o scipy.\n",
    "from scipy.stats import uniform\n",
    "from scipy.stats import norm\n",
    "from scipy.stats import kurtosis\n",
    "\n",
    "import pandas as pd\n",
    "import json"
   ]
  },
  {
   "cell_type": "markdown",
   "id": "706b98a7",
   "metadata": {},
   "source": [
    "## La ley de los grandes números (LGN)"
   ]
  },
  {
   "cell_type": "markdown",
   "id": "1d9fa047",
   "metadata": {},
   "source": [
    "La Ley de los Grandes Números nos dice que el **promedio empírico** de una secuencia de variables aleatorias i.i.d., con media finita, converge al **promedio teórico**:\n",
    "\n",
    "$$\n",
    "\\frac{X_1 + X_2 + \\cdots + X_N}{N} \\;\\; \\longrightarrow \\;\\; \\mathbb{E}[X_i] \\quad \\text{cuando } N \\to \\infty\n",
    "$$\n"
   ]
  },
  {
   "cell_type": "code",
   "execution_count": 162,
   "id": "d30b249a",
   "metadata": {},
   "outputs": [
    {
     "name": "stdout",
     "output_type": "stream",
     "text": [
      "Parámetro teórico λ = 5\n",
      "Media teórica de la distribución = 5\n",
      "\n",
      "\tPara n=10, la media muestral simulada fue: 5.40 (diferencia de 0.40)\n",
      "\n",
      "\tPara n=50, la media muestral simulada fue: 5.24 (diferencia de 0.24)\n",
      "\n",
      "\tPara n=100, la media muestral simulada fue: 5.12 (diferencia de 0.12)\n",
      "\n",
      "\tPara n=500, la media muestral simulada fue: 4.96 (diferencia de 0.04)\n",
      "\n",
      "\tPara n=50000, la media muestral simulada fue: 5.01 (diferencia de 0.01)\n"
     ]
    }
   ],
   "source": [
    "# Ejemplo con la distribución de Poisson\n",
    "#                       X ~ Poi(λ)\n",
    "# Esta distribución sirve para modelar conteos de eventos\n",
    "\n",
    "lam = 5  # tasa de ocurrencia de eventos\n",
    "print(\"Parámetro teórico λ =\", lam)\n",
    "\n",
    "# La media teórica de una variable Poisson es igual a λ\n",
    "media_teorica = lam\n",
    "print(\"Media teórica de la distribución =\", media_teorica)\n",
    "\n",
    "# Consigamos n muestras y calculemos el promedio empírico\n",
    "n_list = [10, 50, 100, 500, 50_000]\n",
    "\n",
    "for n in n_list:\n",
    "    X = np.random.poisson(lam=lam, size=n)\n",
    "    media_muestral = np.sum(X) / n\n",
    "    print(f\"\\n\\tPara n={n}, la media muestral simulada fue: {media_muestral:.2f} (diferencia de {abs(media_teorica - media_muestral):.2f})\")\n"
   ]
  },
  {
   "cell_type": "code",
   "execution_count": 163,
   "id": "a13eb71d",
   "metadata": {},
   "outputs": [
    {
     "name": "stdout",
     "output_type": "stream",
     "text": [
      "Parámetros teóricos a = 0 , b = 1\n",
      "Media teórica de la distribución = 0.5\n",
      "\n",
      "\tPara n=10, la media muestral simulada fue: 0.57 (diferencia de 0.07)\n",
      "\n",
      "\tPara n=50, la media muestral simulada fue: 0.49 (diferencia de 0.01)\n",
      "\n",
      "\tPara n=100, la media muestral simulada fue: 0.51 (diferencia de 0.01)\n",
      "\n",
      "\tPara n=500, la media muestral simulada fue: 0.50 (diferencia de 0.00)\n",
      "\n",
      "\tPara n=50000, la media muestral simulada fue: 0.50 (diferencia de 0.00)\n"
     ]
    }
   ],
   "source": [
    "# Ejemplo con la distribución Uniforme\n",
    "#                       X ~ U(a, b)\n",
    "# Esta distribución sirve para modelar fenómenos equiprobables\n",
    "\n",
    "a = 0   # límite inferior\n",
    "b = 1   # límite superior\n",
    "print(\"Parámetros teóricos a =\", a, \", b =\", b)\n",
    "\n",
    "# La media teórica de una variable Uniforme es (a + b) / 2\n",
    "media_teorica = (a + b) / 2\n",
    "print(\"Media teórica de la distribución =\", media_teorica)\n",
    "\n",
    "n_list = [10, 50, 100, 500, 50_000]\n",
    "\n",
    "for n in n_list:\n",
    "    X = np.random.uniform(low=a, high=b, size=n)\n",
    "    media_muestral = np.sum(X) / n\n",
    "    print(f\"\\n\\tPara n={n}, la media muestral simulada fue: {media_muestral:.2f} (diferencia de {abs(media_teorica - media_muestral):.2f})\")\n"
   ]
  },
  {
   "cell_type": "code",
   "execution_count": 164,
   "id": "2af1a390",
   "metadata": {},
   "outputs": [
    {
     "name": "stdout",
     "output_type": "stream",
     "text": [
      "Parámetros teóricos α = 2 , x_m = 1\n",
      "Media teórica de la distribución = 2.0\n",
      "\n",
      "\tPara n=10, la media muestral simulada fue: 1.57 (diferencia de 0.43)\n",
      "\n",
      "\tPara n=50, la media muestral simulada fue: 2.07 (diferencia de 0.07)\n",
      "\n",
      "\tPara n=100, la media muestral simulada fue: 2.24 (diferencia de 0.24)\n",
      "\n",
      "\tPara n=500, la media muestral simulada fue: 1.95 (diferencia de 0.05)\n",
      "\n",
      "\tPara n=50000, la media muestral simulada fue: 1.99 (diferencia de 0.01)\n"
     ]
    }
   ],
   "source": [
    "# Ejemplo 1 con la distribución Pareto (α > 1, media finita)\n",
    "#                       X ~ Pareto(α, x_m)\n",
    "# Esta distribución sirve para modelar fenómenos tipo 80:20 (colas pesadas)\n",
    "\n",
    "alpha = 2  # parámetro de forma\n",
    "x_m = 1      # valor mínimo posible\n",
    "print(\"Parámetros teóricos α =\", alpha, \", x_m =\", x_m)\n",
    "\n",
    "# La media teórica de una variable Pareto es (α * x_m) / (α - 1), solo si α > 1\n",
    "media_teorica = (alpha * x_m) / (alpha - 1)\n",
    "print(\"Media teórica de la distribución =\", media_teorica)\n",
    "\n",
    "n_list = [10, 50, 100, 500, 50_000]\n",
    "\n",
    "for n in n_list:\n",
    "    X = (np.random.pareto(a=alpha, size=n) + 1) * x_m  # ajustamos pues numpy hace x_m = 1 por defecto\n",
    "    media_muestral = np.sum(X) / n\n",
    "    print(f\"\\n\\tPara n={n}, la media muestral simulada fue: {media_muestral:.2f} (diferencia de {abs(media_teorica - media_muestral):.2f})\")\n"
   ]
  },
  {
   "cell_type": "code",
   "execution_count": 173,
   "id": "84df6926",
   "metadata": {},
   "outputs": [
    {
     "name": "stdout",
     "output_type": "stream",
     "text": [
      "Parámetros teóricos α = 0.5 , x_m = 1\n",
      "Media teórica de la distribución = -1.0\n",
      "\n",
      "\tPara n=10, la media muestral simulada fue: 37.64 (diferencia de 38.64)\n",
      "\n",
      "\tPara n=50, la media muestral simulada fue: 96.34 (diferencia de 97.34)\n",
      "\n",
      "\tPara n=100, la media muestral simulada fue: 53.52 (diferencia de 54.52)\n",
      "\n",
      "\tPara n=500, la media muestral simulada fue: 38765000.05 (diferencia de 38765001.05)\n",
      "\n",
      "\tPara n=50000, la media muestral simulada fue: 37560.90 (diferencia de 37561.90)\n"
     ]
    }
   ],
   "source": [
    "# Ejemplo 2 con la distribución Pareto (α < 1, media infinita)\n",
    "\n",
    "alpha = .5  # parámetro de forma\n",
    "x_m = 1      # valor mínimo posible\n",
    "print(\"Parámetros teóricos α =\", alpha, \", x_m =\", x_m)\n",
    "\n",
    "media_teorica = (alpha * x_m) / (alpha - 1)\n",
    "print(\"Media teórica de la distribución =\", media_teorica)\n",
    "\n",
    "n_list = [10, 50, 100, 500, 50_000]\n",
    "\n",
    "for n in n_list:\n",
    "    X = (np.random.pareto(a=alpha, size=n) + 1) * x_m\n",
    "    media_muestral = np.sum(X) / n\n",
    "    print(f\"\\n\\tPara n={n}, la media muestral simulada fue: {media_muestral:.2f} (diferencia de {abs(media_teorica - media_muestral):.2f})\")\n"
   ]
  },
  {
   "cell_type": "markdown",
   "id": "85ddeed3",
   "metadata": {},
   "source": [
    "**Comentario:**\n",
    "\n",
    "Existen dos tipos de ley de los grandes números: **débil** y **fuerte**, dependiendo del tipo de convergencia usado.  \n",
    "La ley débil utiliza convergencia en probabilidad, mientras que la ley fuerte utiliza convergencia casi segura.\n",
    "\n",
    "Convergencia en probabilidad:  \n",
    "$$\n",
    "X_n \\xrightarrow{P} X \\quad\\iff\\quad \\forall \\,\\varepsilon > 0,\\; \\lim_{n\\to\\infty} P(|X_n - X| > \\varepsilon) = 0\n",
    "$$\n",
    "\n",
    "Convergencia casi segura:  \n",
    "$$\n",
    "X_n \\xrightarrow{\\text{c.s.}} X \\quad\\iff\\quad P\\left( \\lim_{n\\to\\infty} X_n = X \\right) = 1\n",
    "$$\n",
    "\n",
    "Más en: https://en.wikipedia.org/wiki/Convergence_of_random_variables\n"
   ]
  },
  {
   "cell_type": "markdown",
   "id": "de32a6d2",
   "metadata": {},
   "source": [
    "<img src=\"./Convergence_in_distribution_(sum_of_uniform_rvs).gif\">"
   ]
  },
  {
   "cell_type": "code",
   "execution_count": 7,
   "id": "73582bc7",
   "metadata": {},
   "outputs": [
    {
     "name": "stdout",
     "output_type": "stream",
     "text": [
      "Parámetro teórico p = 0.5\n",
      "Media teórica de la distribución = 0.5\n",
      "\n",
      "\tPara n=10, la media muestral simulada fue: 0.60 (diferencia de 0.10)\n",
      "\n",
      "\tPara n=50, la media muestral simulada fue: 0.54 (diferencia de 0.04)\n",
      "\n",
      "\tPara n=100, la media muestral simulada fue: 0.55 (diferencia de 0.05)\n",
      "\n",
      "\tPara n=500, la media muestral simulada fue: 0.56 (diferencia de 0.06)\n",
      "\n",
      "\tPara n=50000, la media muestral simulada fue: 0.50 (diferencia de 0.00)\n"
     ]
    }
   ],
   "source": [
    "# Ejemplo con la distribución Bernoulli\n",
    "#                       X ~ Bern(p)\n",
    "# Esta distribución sirve para modelar eventos binarios (éxito/fracaso)\n",
    "\n",
    "p = 0.5  # probabilidad de éxito\n",
    "print(\"Parámetro teórico p =\", p)\n",
    "\n",
    "# La media teórica de una variable Bernoulli es igual a p\n",
    "media_teorica = p\n",
    "print(\"Media teórica de la distribución =\", media_teorica)\n",
    "\n",
    "# Consigamos n muestras y calculemos el promedio empírico\n",
    "n_list = [10, 50, 100, 500, 50_000]\n",
    "\n",
    "for n in n_list:\n",
    "    X = np.random.binomial(n=1, p=p, size=n)\n",
    "    media_muestral = np.sum(X) / n\n",
    "    print(f\"\\n\\tPara n={n}, la media muestral simulada fue: {media_muestral:.2f} (diferencia de {abs(media_teorica - media_muestral):.2f})\")\n"
   ]
  },
  {
   "cell_type": "markdown",
   "id": "2daa518c",
   "metadata": {},
   "source": [
    "**Comentario**\n",
    "\n",
    "Para $X \\sim \\text{Bern}(p)$, por definición:\n",
    "\n",
    "$$\n",
    "P(X=1) = p\n",
    "$$\n",
    "\n",
    "Por la Ley de los Grandes Números:\n",
    "\n",
    "$$\n",
    "\\overline{X} \\;\\longrightarrow\\; \\mathbb{E}[X] = p \\quad \\text{cuando } n \\to \\infty.\n",
    "$$\n",
    "\n",
    "En otras, palabras:\n",
    "$$\n",
    "\\overline{X} \\;\\longrightarrow\\; P(X=1)\n",
    "$$\n",
    "\n",
    "\n",
    "\n"
   ]
  },
  {
   "cell_type": "markdown",
   "id": "48730b7e",
   "metadata": {},
   "source": [
    "## El teorema del límite central (TLC)"
   ]
  },
  {
   "cell_type": "markdown",
   "id": "e53f0f00",
   "metadata": {},
   "source": [
    "El **Teorema del Límite Central** establece que, bajo ciertas condiciones, la suma o promedio de un gran número de variables aleatorias independientes e idénticamente distribuidas se aproxima a una **distribución normal**, sin importar la distribución original de las variables.\n",
    "\n",
    "Sean $ X_1, X_2, \\dots, X_n$ i.i.d. con media $\\mu = \\mathbb{E}[X_i]$ y varianza $\\sigma^2 = \\text{Var}(X_i) < \\infty$. Definimos la suma estandarizada:\n",
    "\n",
    "$$\n",
    "S_n = \\frac{\\sum_{i=1}^{n} X_i - n\\mu}{\\sigma \\sqrt{n}}\n",
    "$$\n",
    "\n",
    "El TLC dice que cuando $n \\to \\infty$:\n",
    "\n",
    "$$\n",
    "S_n \\;\\;\\xrightarrow{d}\\;\\; \\mathcal{N}(0,1)\n",
    "$$"
   ]
  },
  {
   "cell_type": "markdown",
   "id": "0038c5d1",
   "metadata": {},
   "source": [
    "Este teorema es crucial porque permite usar la distribución normal para aproximar sumas de variables aleatorias, incluso cuando estas no siguen una distribución normal."
   ]
  },
  {
   "cell_type": "code",
   "execution_count": 174,
   "id": "6bb673fc",
   "metadata": {},
   "outputs": [
    {
     "name": "stdout",
     "output_type": "stream",
     "text": [
      "Promedios de las muestras: [0.53967128 0.41590875 0.54127681 ... 0.50911333 0.47312064 0.56214556]\n"
     ]
    },
    {
     "data": {
      "image/png": "[encoded data removed]",
      "text/plain": [
       "<Figure size 640x480 with 1 Axes>"
      ]
     },
     "metadata": {},
     "output_type": "display_data"
    }
   ],
   "source": [
    "# TLC para suma de uniformes\n",
    "\n",
    "# Generamos 10,000 muestras aleatorias de tamaño 50 de una distribución uniforme [0, 1]\n",
    "n_samples = 10_000\n",
    "sample_size = 50\n",
    "uniform_samples = uniform.rvs(size=(n_samples, sample_size))\n",
    "\n",
    "# Calculamos los promedios de cada conjunto de muestras\n",
    "sample_means = uniform_samples.mean(axis=1)\n",
    "print('Promedios de las muestras:',sample_means)\n",
    "\n",
    "# Graficamos los promedios y comparamos contra una distribución normal\n",
    "x = np.linspace(0, 1, 1000)\n",
    "normal_fit = norm.pdf(x, loc=0.5, scale=1 / (12 * sample_size)**0.5)  # Parámetros teóricos\n",
    "\n",
    "plt.hist(sample_means, bins=50, density=True, alpha=0.6, color='skyblue', label=\"Promedios\")\n",
    "plt.plot(x, normal_fit, label=\"Ajuste Normal\")\n",
    "plt.title(\"Teorema del Límite Central (Promedios de Uniformes)\")\n",
    "plt.xlabel(\"Valor promedio\")\n",
    "plt.legend()\n",
    "plt.show()"
   ]
  },
  {
   "cell_type": "markdown",
   "id": "84e5a818",
   "metadata": {},
   "source": [
    "<img src=\"./IllustrationCentralTheorem.png\">"
   ]
  },
  {
   "cell_type": "code",
   "execution_count": 176,
   "id": "88fcc517",
   "metadata": {},
   "outputs": [
    {
     "data": {
      "text/html": [
       "<div>\n",
       "<style scoped>\n",
       "    .dataframe tbody tr th:only-of-type {\n",
       "        vertical-align: middle;\n",
       "    }\n",
       "\n",
       "    .dataframe tbody tr th {\n",
       "        vertical-align: top;\n",
       "    }\n",
       "\n",
       "    .dataframe thead th {\n",
       "        text-align: right;\n",
       "    }\n",
       "</style>\n",
       "<table border=\"1\" class=\"dataframe\">\n",
       "  <thead>\n",
       "    <tr style=\"text-align: right;\">\n",
       "      <th></th>\n",
       "      <th>MedInc</th>\n",
       "      <th>HouseAge</th>\n",
       "      <th>AveRooms</th>\n",
       "      <th>AveBedrms</th>\n",
       "      <th>Population</th>\n",
       "      <th>AveOccup</th>\n",
       "      <th>Latitude</th>\n",
       "      <th>Longitude</th>\n",
       "      <th>MedHouseVal</th>\n",
       "    </tr>\n",
       "  </thead>\n",
       "  <tbody>\n",
       "    <tr>\n",
       "      <th>0</th>\n",
       "      <td>8.3252</td>\n",
       "      <td>41.0</td>\n",
       "      <td>6.984127</td>\n",
       "      <td>1.023810</td>\n",
       "      <td>322.0</td>\n",
       "      <td>2.555556</td>\n",
       "      <td>37.88</td>\n",
       "      <td>-122.23</td>\n",
       "      <td>4.526</td>\n",
       "    </tr>\n",
       "    <tr>\n",
       "      <th>1</th>\n",
       "      <td>8.3014</td>\n",
       "      <td>21.0</td>\n",
       "      <td>6.238137</td>\n",
       "      <td>0.971880</td>\n",
       "      <td>2401.0</td>\n",
       "      <td>2.109842</td>\n",
       "      <td>37.86</td>\n",
       "      <td>-122.22</td>\n",
       "      <td>3.585</td>\n",
       "    </tr>\n",
       "    <tr>\n",
       "      <th>2</th>\n",
       "      <td>7.2574</td>\n",
       "      <td>52.0</td>\n",
       "      <td>8.288136</td>\n",
       "      <td>1.073446</td>\n",
       "      <td>496.0</td>\n",
       "      <td>2.802260</td>\n",
       "      <td>37.85</td>\n",
       "      <td>-122.24</td>\n",
       "      <td>3.521</td>\n",
       "    </tr>\n",
       "    <tr>\n",
       "      <th>3</th>\n",
       "      <td>5.6431</td>\n",
       "      <td>52.0</td>\n",
       "      <td>5.817352</td>\n",
       "      <td>1.073059</td>\n",
       "      <td>558.0</td>\n",
       "      <td>2.547945</td>\n",
       "      <td>37.85</td>\n",
       "      <td>-122.25</td>\n",
       "      <td>3.413</td>\n",
       "    </tr>\n",
       "    <tr>\n",
       "      <th>4</th>\n",
       "      <td>3.8462</td>\n",
       "      <td>52.0</td>\n",
       "      <td>6.281853</td>\n",
       "      <td>1.081081</td>\n",
       "      <td>565.0</td>\n",
       "      <td>2.181467</td>\n",
       "      <td>37.85</td>\n",
       "      <td>-122.25</td>\n",
       "      <td>3.422</td>\n",
       "    </tr>\n",
       "    <tr>\n",
       "      <th>...</th>\n",
       "      <td>...</td>\n",
       "      <td>...</td>\n",
       "      <td>...</td>\n",
       "      <td>...</td>\n",
       "      <td>...</td>\n",
       "      <td>...</td>\n",
       "      <td>...</td>\n",
       "      <td>...</td>\n",
       "      <td>...</td>\n",
       "    </tr>\n",
       "    <tr>\n",
       "      <th>20635</th>\n",
       "      <td>1.5603</td>\n",
       "      <td>25.0</td>\n",
       "      <td>5.045455</td>\n",
       "      <td>1.133333</td>\n",
       "      <td>845.0</td>\n",
       "      <td>2.560606</td>\n",
       "      <td>39.48</td>\n",
       "      <td>-121.09</td>\n",
       "      <td>0.781</td>\n",
       "    </tr>\n",
       "    <tr>\n",
       "      <th>20636</th>\n",
       "      <td>2.5568</td>\n",
       "      <td>18.0</td>\n",
       "      <td>6.114035</td>\n",
       "      <td>1.315789</td>\n",
       "      <td>356.0</td>\n",
       "      <td>3.122807</td>\n",
       "      <td>39.49</td>\n",
       "      <td>-121.21</td>\n",
       "      <td>0.771</td>\n",
       "    </tr>\n",
       "    <tr>\n",
       "      <th>20637</th>\n",
       "      <td>1.7000</td>\n",
       "      <td>17.0</td>\n",
       "      <td>5.205543</td>\n",
       "      <td>1.120092</td>\n",
       "      <td>1007.0</td>\n",
       "      <td>2.325635</td>\n",
       "      <td>39.43</td>\n",
       "      <td>-121.22</td>\n",
       "      <td>0.923</td>\n",
       "    </tr>\n",
       "    <tr>\n",
       "      <th>20638</th>\n",
       "      <td>1.8672</td>\n",
       "      <td>18.0</td>\n",
       "      <td>5.329513</td>\n",
       "      <td>1.171920</td>\n",
       "      <td>741.0</td>\n",
       "      <td>2.123209</td>\n",
       "      <td>39.43</td>\n",
       "      <td>-121.32</td>\n",
       "      <td>0.847</td>\n",
       "    </tr>\n",
       "    <tr>\n",
       "      <th>20639</th>\n",
       "      <td>2.3886</td>\n",
       "      <td>16.0</td>\n",
       "      <td>5.254717</td>\n",
       "      <td>1.162264</td>\n",
       "      <td>1387.0</td>\n",
       "      <td>2.616981</td>\n",
       "      <td>39.37</td>\n",
       "      <td>-121.24</td>\n",
       "      <td>0.894</td>\n",
       "    </tr>\n",
       "  </tbody>\n",
       "</table>\n",
       "<p>20640 rows × 9 columns</p>\n",
       "</div>"
      ],
      "text/plain": [
       "       MedInc  HouseAge  AveRooms  AveBedrms  Population  AveOccup  Latitude  \\\n",
       "0      8.3252      41.0  6.984127   1.023810       322.0  2.555556     37.88   \n",
       "1      8.3014      21.0  6.238137   0.971880      2401.0  2.109842     37.86   \n",
       "2      7.2574      52.0  8.288136   1.073446       496.0  2.802260     37.85   \n",
       "3      5.6431      52.0  5.817352   1.073059       558.0  2.547945     37.85   \n",
       "4      3.8462      52.0  6.281853   1.081081       565.0  2.181467     37.85   \n",
       "...       ...       ...       ...        ...         ...       ...       ...   \n",
       "20635  1.5603      25.0  5.045455   1.133333       845.0  2.560606     39.48   \n",
       "20636  2.5568      18.0  6.114035   1.315789       356.0  3.122807     39.49   \n",
       "20637  1.7000      17.0  5.205543   1.120092      1007.0  2.325635     39.43   \n",
       "20638  1.8672      18.0  5.329513   1.171920       741.0  2.123209     39.43   \n",
       "20639  2.3886      16.0  5.254717   1.162264      1387.0  2.616981     39.37   \n",
       "\n",
       "       Longitude  MedHouseVal  \n",
       "0        -122.23        4.526  \n",
       "1        -122.22        3.585  \n",
       "2        -122.24        3.521  \n",
       "3        -122.25        3.413  \n",
       "4        -122.25        3.422  \n",
       "...          ...          ...  \n",
       "20635    -121.09        0.781  \n",
       "20636    -121.21        0.771  \n",
       "20637    -121.22        0.923  \n",
       "20638    -121.32        0.847  \n",
       "20639    -121.24        0.894  \n",
       "\n",
       "[20640 rows x 9 columns]"
      ]
     },
     "execution_count": 176,
     "metadata": {},
     "output_type": "execute_result"
    }
   ],
   "source": [
    "# TLC en un dataset real\n",
    "from sklearn.datasets import fetch_california_housing\n",
    "\n",
    "# Supongamos que este dataset es toda nuestra población\n",
    "data = fetch_california_housing(as_frame=True).frame\n",
    "data"
   ]
  },
  {
   "cell_type": "code",
   "execution_count": 177,
   "id": "d2853f91",
   "metadata": {},
   "outputs": [
    {
     "name": "stdout",
     "output_type": "stream",
     "text": [
      "Media 'teórica' de MedInc:  3.8706710029069766\n"
     ]
    }
   ],
   "source": [
    "# Seleccionamos una variable en la cual concentrarnos\n",
    "variable = 'MedInc'\n",
    "values = data[variable].values\n",
    "print(f\"Media 'teórica' de {variable}: \", values.mean())"
   ]
  },
  {
   "cell_type": "code",
   "execution_count": 179,
   "id": "2a8a4c33",
   "metadata": {},
   "outputs": [
    {
     "name": "stdout",
     "output_type": "stream",
     "text": [
      "Número de muestras de tamaño 300: 68\n",
      "\n",
      "Primeras 5 medias muestrales: [3.1752266666666666, 3.7895543333333337, 4.004885333333333, 3.630898666666667, 3.862944333333334]\n"
     ]
    }
   ],
   "source": [
    "# Particionemos en muestras de tamaño 300\n",
    "sample_size = 300\n",
    "\n",
    "# Número de submuestras que podemos extraer (floor division)\n",
    "num_samples = len(values) // sample_size\n",
    "\n",
    "# Dividimos la columna en muestras de tamaño 50\n",
    "samples = np.array_split(values[:num_samples*sample_size], num_samples)\n",
    "\n",
    "print(f\"Número de muestras de tamaño {sample_size}: {len(samples)}\")\n",
    "print(f\"\\nPrimeras 5 medias muestrales:\", [np.mean(s) for s in samples[:5]])"
   ]
  },
  {
   "cell_type": "code",
   "execution_count": 180,
   "id": "3ef894eb",
   "metadata": {},
   "outputs": [
    {
     "data": {
      "image/png": "[encoded data removed]",
      "text/plain": [
       "<Figure size 1500x400 with 5 Axes>"
      ]
     },
     "metadata": {},
     "output_type": "display_data"
    }
   ],
   "source": [
    "num_to_plot = 5\n",
    "fig, axes = plt.subplots(1, num_to_plot, figsize=(15, 4), sharey=True)\n",
    "\n",
    "for i, sample in enumerate(samples[:num_to_plot]):\n",
    "    axes[i].hist(sample, bins='fd', color='#5A677D')\n",
    "    axes[i].set_title(f\"Muestra {i+1}\")\n",
    "    axes[i].set_xlabel(variable)\n",
    "    if i == 0:\n",
    "        axes[i].set_ylabel(\"Frecuencia\")\n",
    "\n",
    "plt.suptitle(f\"Histogramas de las primeras {num_to_plot} muestras de tamaño {sample_size}\")\n",
    "plt.tight_layout(rect=[0, 0, 1, 0.95])\n",
    "plt.show()"
   ]
  },
  {
   "cell_type": "code",
   "execution_count": 181,
   "id": "04dd2de7",
   "metadata": {},
   "outputs": [
    {
     "data": {
      "image/png": "[encoded data removed]",
      "text/plain": [
       "<Figure size 640x480 with 1 Axes>"
      ]
     },
     "metadata": {},
     "output_type": "display_data"
    }
   ],
   "source": [
    "sample_means = np.array([np.mean(s) for s in samples])\n",
    "plt.hist(sample_means, bins='fd', density=True, color='#D5C18B')\n",
    "plt.title(f\"Distribución de medias muestrales\")\n",
    "plt.xlabel(\"Media muestral\")\n",
    "plt.ylabel(\"Densidad\")\n",
    "plt.show()"
   ]
  },
  {
   "cell_type": "markdown",
   "id": "4d8077ce",
   "metadata": {},
   "source": [
    "# ¿Utilidad práctica?"
   ]
  },
  {
   "cell_type": "markdown",
   "id": "5e0cdcc2",
   "metadata": {},
   "source": [
    "La LGN y el TLC proporcionan la base teórica para inferir **propiedades poblacionales** a partir de **muestras**."
   ]
  },
  {
   "cell_type": "markdown",
   "id": "b5c0f52c",
   "metadata": {},
   "source": [
    "*LGN*\n",
    "\n",
    "- **Encuestas de opinión o sondeos electorales:** si tomamos una muestra representativa grande de la población, la proporción de respuestas observadas se aproxima al valor real de toda la población.\n",
    "- **Bases de datos financieras:** al calcular la media de rendimientos diarios de un activo a partir de muchas observaciones, podemos aproximar el rendimiento esperado del activo.\n",
    "- **Control de calidad:** al medir defectos en una línea de producción con suficientes unidades muestreadas, la proporción de defectuosos converge al verdadero porcentaje de defectos.\n",
    "\n",
    "La LGN justifica el uso de **estadísticos muestrales como estimadores consistentes**, porque sabemos que con más datos nos acercamos al parámetro poblacional.\n",
    "\n",
    "---\n",
    "\n",
    "*TLC*\n",
    "\n",
    "- **Intervalos de confianza y pruebas de hipótesis:** al calcular la media de una muestra grande, podemos usar la aproximación normal para construir intervalos de confianza o realizar tests.\n",
    "- **Machine learning:** al sumar errores o gradientes en algoritmos estocásticos, la distribución de esos promedios tiende a normal, facilitando el análisis y ajuste de parámetros.\n",
    "\n",
    "El TLC respalda la **aplicación de técnicas paramétricas** basadas en normalidad, incluso cuando la población original no es normal, siempre que la muestra sea suficientemente grande."
   ]
  },
  {
   "cell_type": "markdown",
   "id": "86d2e9e5",
   "metadata": {},
   "source": [
    "# TLC generalizado"
   ]
  },
  {
   "cell_type": "markdown",
   "id": "aa68a58f",
   "metadata": {},
   "source": [
    "Cuando no hay varianza finita, está el **Teorema del Límite Central Generalizado** que establece que la suma normalizada de variables i.i.d converge en distribución a una **distribución estable** en lugar de una normal.\n",
    "\n",
    "Estas distribuciones estables incluyen a la **normal** como un caso particular ($ \\alpha = 2 $), pero también pueden tener **colas muy pesadas** y **varianza infinita** ($ \\alpha < 2 $).\n"
   ]
  },
  {
   "cell_type": "markdown",
   "id": "374af0db",
   "metadata": {},
   "source": [
    "## Más allá del TLC: Extreme Value Theory (EVT)"
   ]
  },
  {
   "cell_type": "markdown",
   "id": "b5c78b9d",
   "metadata": {},
   "source": [
    "*\"In cauda venenum\"* (Extreme Value Theory: An Introduction, Laurens de Haan)"
   ]
  },
  {
   "cell_type": "markdown",
   "id": "c7197415",
   "metadata": {},
   "source": [
    "La Kurtosis puede ser útil, pero está limitada."
   ]
  },
  {
   "cell_type": "markdown",
   "id": "a247a53a",
   "metadata": {},
   "source": [
    "**Algunas aplicaciones de EVT**\n",
    "1. Límite de la esperanza de vida humana  \n",
    "2. Récords máximos en deportes  \n",
    "3. Altura de diques  \n",
    "4. Rascacielos  \n",
    "5. Gestión de riesgos\n"
   ]
  },
  {
   "cell_type": "markdown",
   "id": "0809739d",
   "metadata": {},
   "source": [
    "## Teoría"
   ]
  },
  {
   "cell_type": "markdown",
   "id": "eeda230d",
   "metadata": {},
   "source": [
    "Como ejemplo, en finanzas, cuando queremos estudiar el impacto de pérdidas grandes y su probabilidad de ocurrencia, la distribución normal falla porque estos eventos son raros y quedan ignorados. \n",
    "\n",
    "La **Teoría de Valores Extremos (EVT)** permite modelar por separado los eventos extremos, destacando su comportamiento y respondiendo preguntas de interés sobre estos casos poco frecuentes.\n"
   ]
  },
  {
   "cell_type": "markdown",
   "id": "84d6078e",
   "metadata": {},
   "source": [
    "Según la **Teoría de Valores Extremos (EVT)**, para que un conjunto de datos pueda analizarse como datos extremos, el máximo muestral debe tener una **distribución límite**.  \n",
    "\n",
    "Es decir, si $ X_1, \\dots, X_n$ es una muestra aleatoria de una función de distribución $F$, existen sucesiones $a_n > 0$ y $b_n \\in \\mathbb{R}$ tales que\n",
    "\n",
    "$$\n",
    "\\frac{\\max(X_1, \\dots, X_n) - b_n}{a_n}\n",
    "$$\n",
    "\n",
    "tiene una **distribución límite no degenerada** cuando $ n \\to \\infty$. "
   ]
  },
  {
   "cell_type": "markdown",
   "id": "adefa317",
   "metadata": {},
   "source": [
    "Se sabe que las distribuciones límite no degeneradas pertenecen a la familia Generalized Extreme Value (GEV):\n",
    "\n",
    "$$\n",
    "G_\\gamma(x) =\n",
    "\\begin{cases}\n",
    "\\exp\\!\\left(-(1+\\gamma x)^{-1/\\gamma}\\right), & \\gamma \\neq 0, \\\\\n",
    "\\exp\\!\\left(-e^{-x}\\right), & \\gamma = 0.\n",
    "\\end{cases}\n",
    "$$"
   ]
  },
  {
   "cell_type": "markdown",
   "id": "5f08f51f",
   "metadata": {},
   "source": [
    "Y el valor del parámetro $\\gamma$, también conocido como *Extreme Value Index*, nos da información de las colas:\n",
    "- $\\gamma$ positiva indica una distribución con extremo infinito, lo que significa que se trata de una distribución de cola pesada.  \n",
    "- $\\gamma$ cero significa que el extremo de la distribución es infinito, lo que corresponde a una distribución de cola ligera.  \n",
    "- $\\gamma$ negativa se refiere a una distribución con extremo finito, lo que indica una distribución de cola corta.\n"
   ]
  },
  {
   "cell_type": "markdown",
   "id": "61edd4b3",
   "metadata": {},
   "source": [
    "## Práctica"
   ]
  },
  {
   "cell_type": "markdown",
   "id": "6c68b4ef",
   "metadata": {},
   "source": [
    "Por lo general, el análisis de extremos comienza con un conjunto de datos grande y luego se reduce para analizar solo las observaciones extremas. Existen dos métodos principales para seleccionar estas observaciones:  \n",
    "\n",
    "- **Máximos por bloques**: divide los datos en bloques y toma el máximo de cada bloque. Requiere un conjunto de datos muy grande para tener suficientes bloques.  \n",
    "- **Peaks over Treshold (POT)**: enfoque más moderno, considera todas las observaciones por encima de un umbral alto especificado. Elegir el umbral es crítico.\n"
   ]
  },
  {
   "cell_type": "markdown",
   "id": "6f5b4e1b",
   "metadata": {},
   "source": [
    "Después de seleccionar los extremos mediante *block maxima* o POT, estimamos el parámetro $\\gamma$ (EVI) sobre ese conjunto. La estimación se realiza, por ejemplo, con el **Hill estimator** en POT o mediante **máxima verosimilitud** en block maxima.\n"
   ]
  },
  {
   "cell_type": "code",
   "execution_count": null,
   "id": "2beeecd8",
   "metadata": {},
   "outputs": [],
   "source": [
    "mx_data = pd.read_csv(\"datos/MXvideos.csv\", encoding='latin1')\n",
    "uk_data = pd.read_csv(\"datos/GBvideos.csv\", encoding='latin1')\n",
    "jp_data = pd.read_csv(\"datos/JPvideos.csv\", encoding='latin1')"
   ]
  },
  {
   "cell_type": "code",
   "execution_count": 148,
   "id": "1c2ebacc",
   "metadata": {},
   "outputs": [
    {
     "data": {
      "text/html": [
       "<div>\n",
       "<style scoped>\n",
       "    .dataframe tbody tr th:only-of-type {\n",
       "        vertical-align: middle;\n",
       "    }\n",
       "\n",
       "    .dataframe tbody tr th {\n",
       "        vertical-align: top;\n",
       "    }\n",
       "\n",
       "    .dataframe thead th {\n",
       "        text-align: right;\n",
       "    }\n",
       "</style>\n",
       "<table border=\"1\" class=\"dataframe\">\n",
       "  <thead>\n",
       "    <tr style=\"text-align: right;\">\n",
       "      <th></th>\n",
       "      <th>video_id</th>\n",
       "      <th>trending_date</th>\n",
       "      <th>title</th>\n",
       "      <th>channel_title</th>\n",
       "      <th>category_id</th>\n",
       "      <th>publish_time</th>\n",
       "      <th>tags</th>\n",
       "      <th>views</th>\n",
       "      <th>likes</th>\n",
       "      <th>dislikes</th>\n",
       "      <th>comment_count</th>\n",
       "      <th>thumbnail_link</th>\n",
       "      <th>comments_disabled</th>\n",
       "      <th>ratings_disabled</th>\n",
       "      <th>video_error_or_removed</th>\n",
       "      <th>description</th>\n",
       "    </tr>\n",
       "  </thead>\n",
       "  <tbody>\n",
       "    <tr>\n",
       "      <th>0</th>\n",
       "      <td>SbOwzAl9ZfQ</td>\n",
       "      <td>17.14.11</td>\n",
       "      <td>CapÃ­tulo 12 | MasterChef 2017</td>\n",
       "      <td>MasterChef 2017</td>\n",
       "      <td>24</td>\n",
       "      <td>2017-11-13T06:06:22.000Z</td>\n",
       "      <td>MasterChef Junior 2017|\"TV Azteca\"|\"recetas\"|\"...</td>\n",
       "      <td>310130</td>\n",
       "      <td>4182</td>\n",
       "      <td>361</td>\n",
       "      <td>1836</td>\n",
       "      <td>https://i.ytimg.com/vi/SbOwzAl9ZfQ/default.jpg</td>\n",
       "      <td>False</td>\n",
       "      <td>False</td>\n",
       "      <td>False</td>\n",
       "      <td>Disfruta la presencia del Chef Torreblanca en ...</td>\n",
       "    </tr>\n",
       "    <tr>\n",
       "      <th>1</th>\n",
       "      <td>klOV6Xh-DnI</td>\n",
       "      <td>17.14.11</td>\n",
       "      <td>ALEXA EX-INTEGRANTE DEL GRUPO TIMBIRICHE RENUN...</td>\n",
       "      <td>Micky Contreras Martinez</td>\n",
       "      <td>22</td>\n",
       "      <td>2017-11-13T05:11:58.000Z</td>\n",
       "      <td>La Voz Mexico 7</td>\n",
       "      <td>104972</td>\n",
       "      <td>271</td>\n",
       "      <td>174</td>\n",
       "      <td>369</td>\n",
       "      <td>https://i.ytimg.com/vi/klOV6Xh-DnI/default.jpg</td>\n",
       "      <td>False</td>\n",
       "      <td>False</td>\n",
       "      <td>False</td>\n",
       "      <td>ALEXA EX-INTEGRANTE DEL GRUPO TIMBIRICHE RENUN...</td>\n",
       "    </tr>\n",
       "    <tr>\n",
       "      <th>2</th>\n",
       "      <td>6L2ZF7Qzsbk</td>\n",
       "      <td>17.14.11</td>\n",
       "      <td>LOUIS CKAGÃ - EL PULSO DE LA REPÃBLICA</td>\n",
       "      <td>El Pulso De La RepÃºblica</td>\n",
       "      <td>25</td>\n",
       "      <td>2017-11-13T17:00:02.000Z</td>\n",
       "      <td>Chumel Torres|\"El Pulso de la Republica\"|\"noti...</td>\n",
       "      <td>136064</td>\n",
       "      <td>10105</td>\n",
       "      <td>266</td>\n",
       "      <td>607</td>\n",
       "      <td>https://i.ytimg.com/vi/6L2ZF7Qzsbk/default.jpg</td>\n",
       "      <td>False</td>\n",
       "      <td>False</td>\n",
       "      <td>False</td>\n",
       "      <td>La canciÃ³n del principio se llama âEste esp...</td>\n",
       "    </tr>\n",
       "    <tr>\n",
       "      <th>3</th>\n",
       "      <td>hcY52MFWMDM</td>\n",
       "      <td>17.14.11</td>\n",
       "      <td>Sismo de 6.7 sacude Costa Rica 12 Noviembre 2017</td>\n",
       "      <td>Casanare</td>\n",
       "      <td>25</td>\n",
       "      <td>2017-11-13T03:47:10.000Z</td>\n",
       "      <td>temblor|\"costa rica\"|\"sismo en costa rica\"</td>\n",
       "      <td>96153</td>\n",
       "      <td>378</td>\n",
       "      <td>171</td>\n",
       "      <td>208</td>\n",
       "      <td>https://i.ytimg.com/vi/hcY52MFWMDM/default.jpg</td>\n",
       "      <td>False</td>\n",
       "      <td>False</td>\n",
       "      <td>False</td>\n",
       "      <td>El video es de un Walmart en el pais centroame...</td>\n",
       "    </tr>\n",
       "    <tr>\n",
       "      <th>4</th>\n",
       "      <td>_OXDcGPVAa4</td>\n",
       "      <td>17.14.11</td>\n",
       "      <td>DOG HACKS | MUSAS LESSLIE LOS POLINESIOS</td>\n",
       "      <td>Musas</td>\n",
       "      <td>26</td>\n",
       "      <td>2017-11-13T19:17:48.000Z</td>\n",
       "      <td>MUSAS|\"lesslie\"|\"karen\"|\"hacks\"|\"perros\"|\"dogs...</td>\n",
       "      <td>499965</td>\n",
       "      <td>57781</td>\n",
       "      <td>681</td>\n",
       "      <td>7428</td>\n",
       "      <td>https://i.ytimg.com/vi/_OXDcGPVAa4/default.jpg</td>\n",
       "      <td>False</td>\n",
       "      <td>False</td>\n",
       "      <td>False</td>\n",
       "      <td>MI HERMANO NARRA MI RUTINA DE MAQUILLAJE\\nhttp...</td>\n",
       "    </tr>\n",
       "  </tbody>\n",
       "</table>\n",
       "</div>"
      ],
      "text/plain": [
       "      video_id trending_date  \\\n",
       "0  SbOwzAl9ZfQ      17.14.11   \n",
       "1  klOV6Xh-DnI      17.14.11   \n",
       "2  6L2ZF7Qzsbk      17.14.11   \n",
       "3  hcY52MFWMDM      17.14.11   \n",
       "4  _OXDcGPVAa4      17.14.11   \n",
       "\n",
       "                                               title  \\\n",
       "0                     CapÃ­tulo 12 | MasterChef 2017   \n",
       "1  ALEXA EX-INTEGRANTE DEL GRUPO TIMBIRICHE RENUN...   \n",
       "2           LOUIS CKAGÃ - EL PULSO DE LA REPÃBLICA   \n",
       "3   Sismo de 6.7 sacude Costa Rica 12 Noviembre 2017   \n",
       "4           DOG HACKS | MUSAS LESSLIE LOS POLINESIOS   \n",
       "\n",
       "               channel_title  category_id              publish_time  \\\n",
       "0            MasterChef 2017           24  2017-11-13T06:06:22.000Z   \n",
       "1   Micky Contreras Martinez           22  2017-11-13T05:11:58.000Z   \n",
       "2  El Pulso De La RepÃºblica           25  2017-11-13T17:00:02.000Z   \n",
       "3                   Casanare           25  2017-11-13T03:47:10.000Z   \n",
       "4                      Musas           26  2017-11-13T19:17:48.000Z   \n",
       "\n",
       "                                                tags   views  likes  dislikes  \\\n",
       "0  MasterChef Junior 2017|\"TV Azteca\"|\"recetas\"|\"...  310130   4182       361   \n",
       "1                                    La Voz Mexico 7  104972    271       174   \n",
       "2  Chumel Torres|\"El Pulso de la Republica\"|\"noti...  136064  10105       266   \n",
       "3         temblor|\"costa rica\"|\"sismo en costa rica\"   96153    378       171   \n",
       "4  MUSAS|\"lesslie\"|\"karen\"|\"hacks\"|\"perros\"|\"dogs...  499965  57781       681   \n",
       "\n",
       "   comment_count                                  thumbnail_link  \\\n",
       "0           1836  https://i.ytimg.com/vi/SbOwzAl9ZfQ/default.jpg   \n",
       "1            369  https://i.ytimg.com/vi/klOV6Xh-DnI/default.jpg   \n",
       "2            607  https://i.ytimg.com/vi/6L2ZF7Qzsbk/default.jpg   \n",
       "3            208  https://i.ytimg.com/vi/hcY52MFWMDM/default.jpg   \n",
       "4           7428  https://i.ytimg.com/vi/_OXDcGPVAa4/default.jpg   \n",
       "\n",
       "   comments_disabled  ratings_disabled  video_error_or_removed  \\\n",
       "0              False             False                   False   \n",
       "1              False             False                   False   \n",
       "2              False             False                   False   \n",
       "3              False             False                   False   \n",
       "4              False             False                   False   \n",
       "\n",
       "                                         description  \n",
       "0  Disfruta la presencia del Chef Torreblanca en ...  \n",
       "1  ALEXA EX-INTEGRANTE DEL GRUPO TIMBIRICHE RENUN...  \n",
       "2  La canciÃ³n del principio se llama âEste esp...  \n",
       "3  El video es de un Walmart en el pais centroame...  \n",
       "4  MI HERMANO NARRA MI RUTINA DE MAQUILLAJE\\nhttp...  "
      ]
     },
     "execution_count": 148,
     "metadata": {},
     "output_type": "execute_result"
    }
   ],
   "source": [
    "mx_data.head()"
   ]
  },
  {
   "cell_type": "code",
   "execution_count": 149,
   "id": "7d936d74",
   "metadata": {},
   "outputs": [],
   "source": [
    "views_data = {\n",
    "    \"MX\": mx_data[\"views\"],\n",
    "    \"UK\": uk_data[\"views\"],\n",
    "    \"JP\": jp_data[\"views\"]\n",
    "}"
   ]
  },
  {
   "cell_type": "code",
   "execution_count": null,
   "id": "27e4cccc",
   "metadata": {},
   "outputs": [
    {
     "data": {
      "image/png": "[encoded data removed]",
      "text/plain": [
       "<Figure size 1800x500 with 3 Axes>"
      ]
     },
     "metadata": {},
     "output_type": "display_data"
    }
   ],
   "source": [
    "# Veamos las densidades\n",
    "fig, axes = plt.subplots(1, 3, figsize=(18, 5))\n",
    "\n",
    "for ax, (region, views) in zip(axes, views_data.items()):\n",
    "    sns.kdeplot(views, ax=ax, fill=True, color='#5A677D') # Kernel Density Estimate: un histograma suavizada\n",
    "    ax.set_title(f\"{region} Views Density\")\n",
    "    ax.set_xlabel(\"Views\")\n",
    "    ax.set_ylabel(\"Density\")\n",
    "\n",
    "plt.tight_layout()\n",
    "plt.show()"
   ]
  },
  {
   "cell_type": "code",
   "execution_count": null,
   "id": "48b8241e",
   "metadata": {},
   "outputs": [
    {
     "name": "stdout",
     "output_type": "stream",
     "text": [
      "MX Views Kurtosis: 812.914\n",
      "UK Views Kurtosis: 115.412\n",
      "JP Views Kurtosis: 1182.716\n"
     ]
    }
   ],
   "source": [
    "# Revisemos kurtosis\n",
    "for region, views in views_data.items():\n",
    "    k = kurtosis(views, fisher=True, bias=False)  # Fisher=True gives excess kurtosis\n",
    "    print(f\"{region} Views Kurtosis: {k:.3f}\")"
   ]
  },
  {
   "cell_type": "code",
   "execution_count": 159,
   "id": "fa4e375e",
   "metadata": {},
   "outputs": [
    {
     "name": "stdout",
     "output_type": "stream",
     "text": [
      "MX EVI (POT): 0.7627\n",
      "UK EVI (POT): 0.5333\n",
      "JP EVI (POT): 0.6925\n"
     ]
    }
   ],
   "source": [
    "def hill_estimator(exceedances):\n",
    "    \"\"\"\n",
    "    Hill estimator for the extreme value index (EVI)\n",
    "    exceedances: array of values above threshold\n",
    "    \"\"\"\n",
    "    n = len(exceedances)\n",
    "    sorted_exc = np.sort(exceedances)[::-1]  # descending order\n",
    "\n",
    "    # Standard Hill formula\n",
    "    logs = np.log(sorted_exc / sorted_exc[-1])  # log(x_i / x_k)\n",
    "\n",
    "    gamma = np.mean(logs)\n",
    "    \n",
    "    return gamma\n",
    "\n",
    "evi_results = {}\n",
    "\n",
    "for region, views in views_data.items():\n",
    "    # Choose threshold (99th percentile)\n",
    "    threshold = np.percentile(views, 99)\n",
    "    \n",
    "    # Get exceedances above threshold\n",
    "    exceedances = views[views > threshold]\n",
    "    \n",
    "    # Calculate EVI using Hill estimator\n",
    "    gamma = hill_estimator(exceedances)\n",
    "    evi_results[region] = gamma\n",
    "\n",
    "for region, gamma in evi_results.items():\n",
    "    print(f\"{region} EVI (POT): {gamma:.4f}\")\n"
   ]
  },
  {
   "cell_type": "code",
   "execution_count": 157,
   "id": "42dad292",
   "metadata": {},
   "outputs": [
    {
     "name": "stdout",
     "output_type": "stream",
     "text": [
      "MX Expected Shortfall (99th percentile): 12109331.14\n",
      "UK Expected Shortfall (99th percentile): 151374326.72\n",
      "JP Expected Shortfall (99th percentile): 8237904.58\n"
     ]
    }
   ],
   "source": [
    "# Expected shortfall\n",
    "es_results = {}\n",
    "\n",
    "for region, views in views_data.items():\n",
    "    # Calculate 99th percentile (VaR)\n",
    "    var_99 = np.percentile(views, 99)\n",
    "    \n",
    "    # Get exceedances above 99th percentile\n",
    "    exceedances = views[views > var_99]\n",
    "    \n",
    "    # Calculate Expected Shortfall (average of exceedances)\n",
    "    es = exceedances.mean()\n",
    "    es_results[region] = es\n",
    "\n",
    "for region, es in es_results.items():\n",
    "    print(f\"{region} Expected Shortfall (99th percentile): {es:.2f}\")"
   ]
  },
  {
   "cell_type": "code",
   "execution_count": 160,
   "id": "75104002",
   "metadata": {},
   "outputs": [
    {
     "name": "stdout",
     "output_type": "stream",
     "text": [
      "       Kurtosis  EVI (POT)  Expected Shortfall (99%)\n",
      "MX   812.914440   0.762650              1.210933e+07\n",
      "UK   115.411991   0.533288              1.513743e+08\n",
      "JP  1182.715625   0.692482              8.237905e+06\n"
     ]
    }
   ],
   "source": [
    "# Initialize a dictionary to store all results\n",
    "results = {}\n",
    "\n",
    "for region, views in views_data.items():\n",
    "    results[region] = {\n",
    "        \"Kurtosis\": kurtosis(views, fisher=True, bias=False),\n",
    "        \"EVI (POT)\": evi_results.get(region, None),\n",
    "        \"Expected Shortfall (99%)\": es_results.get(region, None)\n",
    "    }\n",
    "\n",
    "# Convert to DataFrame\n",
    "results_df = pd.DataFrame.from_dict(results, orient='index')\n",
    "results_df = results_df[[\"Kurtosis\", \"EVI (POT)\", \"Expected Shortfall (99%)\"]]\n",
    "\n",
    "# Display\n",
    "print(results_df)"
   ]
  },
  {
   "cell_type": "markdown",
   "id": "9bec0c45",
   "metadata": {},
   "source": [
    "**En resumen:** La curtosis indica la presencia de valores atípicos en toda la distribución, mientras que el índice de valor extremo (EVI) mide específicamente qué tan pesada es la cola de los eventos extremos.\n"
   ]
  },
  {
   "cell_type": "markdown",
   "id": "b59c8b10",
   "metadata": {},
   "source": [
    "Datos: https://www.kaggle.com/datasets/datasnaek/youtube-new"
   ]
  }
 ],
 "metadata": {
  "kernelspec": {
   "display_name": "Python 3",
   "language": "python",
   "name": "python3"
  },
  "language_info": {
   "codemirror_mode": {
    "name": "ipython",
    "version": 3
   },
   "file_extension": ".py",
   "mimetype": "text/x-python",
   "name": "python",
   "nbconvert_exporter": "python",
   "pygments_lexer": "ipython3",
   "version": "3.9.6"
  }
 },
 "nbformat": 4,
 "nbformat_minor": 5
}
