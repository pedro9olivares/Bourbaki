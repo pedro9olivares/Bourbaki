{
  "cells": [
    {
      "cell_type": "markdown",
      "metadata": {
        "id": "9MyRjlSgS_6C"
      },
      "source": [
        "# Teorema de Bayes"
      ]
    },
    {
      "cell_type": "markdown",
      "metadata": {
        "id": "EmZ4UFjSTB6q"
      },
      "source": [
        "$\n",
        "P(A|B) = \\frac{P(B|A) \\cdot P(A)}{P(B)}\n",
        "$"
      ]
    },
    {
      "cell_type": "markdown",
      "metadata": {
        "id": "xWuzhLMkTRcd"
      },
      "source": [
        "Podemos utilizar el Teorema de Bayes para calcular probabilidades condicionales. Cuando uno tiene un dataset completo, realmente no se necesita. El lado izquierdo de la ecuación es fácilmente calculable, y el lado derecho lo es también."
      ]
    },
    {
      "cell_type": "markdown",
      "metadata": {
        "id": "S789CrNyUAhX"
      },
      "source": [
        "Pero a menudo no tenemos un dataset completo, y en ese caso el Teorema de Bayes es más útil. En este notebook, lo usaremos para resolver varios problemas más desafiantes relacionados con la probabilidad condicional."
      ]
    },
    {
      "cell_type": "markdown",
      "metadata": {
        "id": "jJKaVR5qUHNn"
      },
      "source": [
        "## El problema de las galletas"
      ]
    },
    {
      "cell_type": "markdown",
      "metadata": {
        "id": "2N_YYy4WUJFE"
      },
      "source": [
        "Supón que cuentas con dos bowls llenos de galletas:\n",
        "\n",
        "\n",
        "*   El bowl 1 cuenta con 30 galletas de vainilla y 10 de chocolate.\n",
        "*   El bowl 2 cuenta con 20 galletas de vainilla y 20 de chocolate.\n",
        "\n"
      ]
    },
    {
      "cell_type": "markdown",
      "metadata": {
        "id": "PlbmFyIkUdgC"
      },
      "source": [
        "Supón ahora que eliges un bowl al azar, y extraes una galleta. Si la galleta extraída fue de vainilla, ¿cuál es la probabilidad de que hayamos elegido el bowl 1?"
      ]
    },
    {
      "cell_type": "markdown",
      "metadata": {
        "id": "AqdioLt9VALH"
      },
      "source": [
        "En otras palabras, estamos buscando $P(B_1|V)$"
      ]
    },
    {
      "cell_type": "markdown",
      "metadata": {
        "id": "PWHob8LRgsh3"
      },
      "source": [
        "Lo que nos da el enunciado del problema es:\n",
        "\n",
        "\n",
        "*   $P(B_1)$ y $ P(B_2)$\n",
        "*   $P(V|B_1)$\n",
        "*   $P(V)$, obtenido usando la ley de probabilidad total: $P(V) = P(B_1)P(V|B_1) + P(B_2)P(V|B_2)$\n",
        "\n"
      ]
    },
    {
      "cell_type": "markdown",
      "metadata": {
        "id": "rGy7iORahZc_"
      },
      "source": [
        "Así pues, podemos obtener que $P(B_1|V)$ = 3/5"
      ]
    },
    {
      "cell_type": "markdown",
      "metadata": {
        "id": "5QD6mWknhkTg"
      },
      "source": [
        "Este ejemplo demuestra un uso del teorema de Bayes: proporciona una manera de pasar de\n",
        "$P(B∣A)$ a\n",
        "$P(A∣B)$."
      ]
    },
    {
      "cell_type": "markdown",
      "metadata": {
        "id": "vXrPJT6siGvr"
      },
      "source": [
        "## Bayes Diacrónico"
      ]
    },
    {
      "cell_type": "markdown",
      "metadata": {
        "id": "6-A6QcA0iLOe"
      },
      "source": [
        "Notas..."
      ]
    },
    {
      "cell_type": "markdown",
      "metadata": {
        "id": "acv_Flf4iSwV"
      },
      "source": [
        "## Tablas de Bayes"
      ]
    },
    {
      "cell_type": "markdown",
      "metadata": {
        "id": "0gogzWBAibHD"
      },
      "source": [
        "Una herramienta conveniente para hacer una actualización bayesiana es una tabla de Bayes. Uno puede escribir una tabla de Bayes en papel o usar una hoja de cálculo, pero en esta sección usaremos DataFrames de Pandas.\n",
        "\n",
        "Primero, crearemos un DataFrame vacío con una fila para cada hipótesis:"
      ]
    },
    {
      "cell_type": "code",
      "execution_count": 1,
      "metadata": {
        "id": "1feO-R7ou8Rl"
      },
      "outputs": [],
      "source": [
        "import pandas as pd\n",
        "\n",
        "table = pd.DataFrame(index=['Bowl 1', 'Bowl 2'])"
      ]
    },
    {
      "cell_type": "markdown",
      "metadata": {
        "id": "3VSoxJppijjI"
      },
      "source": [
        "Ahora, agregaremos una columna para representar las probabilidades a priori:"
      ]
    },
    {
      "cell_type": "code",
      "execution_count": 2,
      "metadata": {
        "colab": {
          "base_uri": "https://localhost:8080/",
          "height": 125
        },
        "id": "3wKYQh0Xipip",
        "outputId": "668293f2-d3a9-4e82-c325-1a7ab5920621"
      },
      "outputs": [
        {
          "data": {
            "text/html": [
              "<div>\n",
              "<style scoped>\n",
              "    .dataframe tbody tr th:only-of-type {\n",
              "        vertical-align: middle;\n",
              "    }\n",
              "\n",
              "    .dataframe tbody tr th {\n",
              "        vertical-align: top;\n",
              "    }\n",
              "\n",
              "    .dataframe thead th {\n",
              "        text-align: right;\n",
              "    }\n",
              "</style>\n",
              "<table border=\"1\" class=\"dataframe\">\n",
              "  <thead>\n",
              "    <tr style=\"text-align: right;\">\n",
              "      <th></th>\n",
              "      <th>prior</th>\n",
              "    </tr>\n",
              "  </thead>\n",
              "  <tbody>\n",
              "    <tr>\n",
              "      <th>Bowl 1</th>\n",
              "      <td>0.5</td>\n",
              "    </tr>\n",
              "    <tr>\n",
              "      <th>Bowl 2</th>\n",
              "      <td>0.5</td>\n",
              "    </tr>\n",
              "  </tbody>\n",
              "</table>\n",
              "</div>"
            ],
            "text/plain": [
              "        prior\n",
              "Bowl 1    0.5\n",
              "Bowl 2    0.5"
            ]
          },
          "execution_count": 2,
          "metadata": {},
          "output_type": "execute_result"
        }
      ],
      "source": [
        "table['prior'] = 1/2, 1/2\n",
        "table"
      ]
    },
    {
      "cell_type": "markdown",
      "metadata": {
        "id": "PrvFM6Oyitgc"
      },
      "source": [
        "Y una columna para los likelihoods o verosimilitudes:"
      ]
    },
    {
      "cell_type": "code",
      "execution_count": 3,
      "metadata": {
        "colab": {
          "base_uri": "https://localhost:8080/",
          "height": 125
        },
        "id": "Dv77hrCRirsG",
        "outputId": "a09aab63-eabf-49f0-e7ff-3edb49bb280e"
      },
      "outputs": [
        {
          "data": {
            "text/html": [
              "<div>\n",
              "<style scoped>\n",
              "    .dataframe tbody tr th:only-of-type {\n",
              "        vertical-align: middle;\n",
              "    }\n",
              "\n",
              "    .dataframe tbody tr th {\n",
              "        vertical-align: top;\n",
              "    }\n",
              "\n",
              "    .dataframe thead th {\n",
              "        text-align: right;\n",
              "    }\n",
              "</style>\n",
              "<table border=\"1\" class=\"dataframe\">\n",
              "  <thead>\n",
              "    <tr style=\"text-align: right;\">\n",
              "      <th></th>\n",
              "      <th>prior</th>\n",
              "      <th>likelihood</th>\n",
              "    </tr>\n",
              "  </thead>\n",
              "  <tbody>\n",
              "    <tr>\n",
              "      <th>Bowl 1</th>\n",
              "      <td>0.5</td>\n",
              "      <td>0.75</td>\n",
              "    </tr>\n",
              "    <tr>\n",
              "      <th>Bowl 2</th>\n",
              "      <td>0.5</td>\n",
              "      <td>0.50</td>\n",
              "    </tr>\n",
              "  </tbody>\n",
              "</table>\n",
              "</div>"
            ],
            "text/plain": [
              "        prior  likelihood\n",
              "Bowl 1    0.5        0.75\n",
              "Bowl 2    0.5        0.50"
            ]
          },
          "execution_count": 3,
          "metadata": {},
          "output_type": "execute_result"
        }
      ],
      "source": [
        "table['likelihood'] = 3/4, 1/2\n",
        "table"
      ]
    },
    {
      "cell_type": "markdown",
      "metadata": {
        "id": "ITDkVs4OjJE3"
      },
      "source": [
        "Aquí vemos una diferencia con el método anterior, calculamos verosimilitudes para ambas hipótesis, no solo para el Bowl 1:\n",
        "\n",
        "* La probabilidad de obtener una galleta de vainilla del Bowl 1 es 3/4.\n",
        "\n",
        "* La probabilidad de obtener una galleta de vainilla del Bowl 2 es 1/2.\n",
        "\n",
        "Notar que las verosimilitudes no suman 1. Esto está bien; cada una de ellas es una probabilidad condicionada a una hipótesis diferente. No hay razón para que sumen 1 y no hay problema si no lo hacen."
      ]
    },
    {
      "cell_type": "markdown",
      "metadata": {
        "id": "uMRRkzwZjWOw"
      },
      "source": [
        "El siguiente paso es similar a lo que hicimos con el Teorema de Bayes; multiplicamos las probabilidades a priori por las verosimilitudes:\n",
        "\n",
        "\n",
        "\n",
        "\n",
        "\n"
      ]
    },
    {
      "cell_type": "code",
      "execution_count": 4,
      "metadata": {
        "colab": {
          "base_uri": "https://localhost:8080/",
          "height": 125
        },
        "id": "vHYN2GUIiytZ",
        "outputId": "9eeb0880-6da9-4e51-899a-7c8b87ac99d3"
      },
      "outputs": [
        {
          "data": {
            "text/html": [
              "<div>\n",
              "<style scoped>\n",
              "    .dataframe tbody tr th:only-of-type {\n",
              "        vertical-align: middle;\n",
              "    }\n",
              "\n",
              "    .dataframe tbody tr th {\n",
              "        vertical-align: top;\n",
              "    }\n",
              "\n",
              "    .dataframe thead th {\n",
              "        text-align: right;\n",
              "    }\n",
              "</style>\n",
              "<table border=\"1\" class=\"dataframe\">\n",
              "  <thead>\n",
              "    <tr style=\"text-align: right;\">\n",
              "      <th></th>\n",
              "      <th>prior</th>\n",
              "      <th>likelihood</th>\n",
              "      <th>unnorm</th>\n",
              "    </tr>\n",
              "  </thead>\n",
              "  <tbody>\n",
              "    <tr>\n",
              "      <th>Bowl 1</th>\n",
              "      <td>0.5</td>\n",
              "      <td>0.75</td>\n",
              "      <td>0.375</td>\n",
              "    </tr>\n",
              "    <tr>\n",
              "      <th>Bowl 2</th>\n",
              "      <td>0.5</td>\n",
              "      <td>0.50</td>\n",
              "      <td>0.250</td>\n",
              "    </tr>\n",
              "  </tbody>\n",
              "</table>\n",
              "</div>"
            ],
            "text/plain": [
              "        prior  likelihood  unnorm\n",
              "Bowl 1    0.5        0.75   0.375\n",
              "Bowl 2    0.5        0.50   0.250"
            ]
          },
          "execution_count": 4,
          "metadata": {},
          "output_type": "execute_result"
        }
      ],
      "source": [
        "table['unnorm'] = table['prior'] * table['likelihood']\n",
        "table"
      ]
    },
    {
      "cell_type": "markdown",
      "metadata": {
        "id": "J48M2tBcjim_"
      },
      "source": [
        "Llamamos al resultado \"unnorm\" porque estos valores son los \"posteriores no normalizados\". Cada uno de ellos es el producto de una probabilidad a priori y una verosimilitud:\n",
        "\n",
        "$P(A∣B)∝P(B∣A)⋅P(A)$\n",
        "\n",
        "lo cual es el numerador del Teorema de Bayes.\n",
        "\n",
        "Si los sumamos, tenemos:\n",
        "\n",
        "$P(B)=∑P(B∣A_i)⋅P(A_i) $\n",
        "\n",
        "lo cual es el denominador del Teorema de Bayes, $P(B)$.\n",
        "\n",
        "\n",
        "\n",
        "\n",
        "\n"
      ]
    },
    {
      "cell_type": "markdown",
      "metadata": {
        "id": "F2jFtY41j6NP"
      },
      "source": [
        "Así que podemos calcular la probabilidad total de los datos de esta manera:"
      ]
    },
    {
      "cell_type": "code",
      "execution_count": 5,
      "metadata": {
        "colab": {
          "base_uri": "https://localhost:8080/"
        },
        "id": "W0URQZDzjaTT",
        "outputId": "65fcf91e-dc82-4669-f8f6-cc0016bb71fe"
      },
      "outputs": [
        {
          "data": {
            "text/plain": [
              "0.625"
            ]
          },
          "execution_count": 5,
          "metadata": {},
          "output_type": "execute_result"
        }
      ],
      "source": [
        "prob_data = table['unnorm'].sum()\n",
        "prob_data # 5/8"
      ]
    },
    {
      "cell_type": "markdown",
      "metadata": {
        "id": "ZqbtzwUQkFuW"
      },
      "source": [
        "Y podemos calcular las probabilidades posteriores de esta manera:"
      ]
    },
    {
      "cell_type": "code",
      "execution_count": 6,
      "metadata": {
        "colab": {
          "base_uri": "https://localhost:8080/",
          "height": 125
        },
        "id": "qnznWltdkCU6",
        "outputId": "b1a0e251-488e-419e-817a-db875650bc1a"
      },
      "outputs": [
        {
          "data": {
            "text/html": [
              "<div>\n",
              "<style scoped>\n",
              "    .dataframe tbody tr th:only-of-type {\n",
              "        vertical-align: middle;\n",
              "    }\n",
              "\n",
              "    .dataframe tbody tr th {\n",
              "        vertical-align: top;\n",
              "    }\n",
              "\n",
              "    .dataframe thead th {\n",
              "        text-align: right;\n",
              "    }\n",
              "</style>\n",
              "<table border=\"1\" class=\"dataframe\">\n",
              "  <thead>\n",
              "    <tr style=\"text-align: right;\">\n",
              "      <th></th>\n",
              "      <th>prior</th>\n",
              "      <th>likelihood</th>\n",
              "      <th>unnorm</th>\n",
              "      <th>posterior</th>\n",
              "    </tr>\n",
              "  </thead>\n",
              "  <tbody>\n",
              "    <tr>\n",
              "      <th>Bowl 1</th>\n",
              "      <td>0.5</td>\n",
              "      <td>0.75</td>\n",
              "      <td>0.375</td>\n",
              "      <td>0.6</td>\n",
              "    </tr>\n",
              "    <tr>\n",
              "      <th>Bowl 2</th>\n",
              "      <td>0.5</td>\n",
              "      <td>0.50</td>\n",
              "      <td>0.250</td>\n",
              "      <td>0.4</td>\n",
              "    </tr>\n",
              "  </tbody>\n",
              "</table>\n",
              "</div>"
            ],
            "text/plain": [
              "        prior  likelihood  unnorm  posterior\n",
              "Bowl 1    0.5        0.75   0.375        0.6\n",
              "Bowl 2    0.5        0.50   0.250        0.4"
            ]
          },
          "execution_count": 6,
          "metadata": {},
          "output_type": "execute_result"
        }
      ],
      "source": [
        "table['posterior'] = table['unnorm'] / prob_data\n",
        "table"
      ]
    },
    {
      "cell_type": "markdown",
      "metadata": {
        "id": "8mnSq6g_kSkt"
      },
      "source": [
        "La probabilidad posterior para el Bowl 1 es 0.6, que es lo que obtuvimos usando explícitamente el Teorema de Bayes. Como beneficio adicional, también obtenemos la probabilidad posterior del Bowl 2, que es 0.4.\n",
        "\n",
        "Cuando sumamos los posteriores no normalizados y dividimos, forzamos a que los posteriores sumen 1. Este proceso se llama \"normalización\", por lo que la probabilidad total de los datos también se llama la \"constante de normalización\"."
      ]
    },
    {
      "cell_type": "markdown",
      "metadata": {
        "id": "eQrV57pEke2H"
      },
      "source": [
        "## El problema de los dados"
      ]
    },
    {
      "cell_type": "markdown",
      "metadata": {
        "id": "jnxhsubskgqs"
      },
      "source": [
        "Supongamos que tengo una caja con un dado de 6 caras, un dado de 8 caras y un dado de 12 caras. Elijo uno de los dados al azar, lo lanzo y reporto que el resultado es un 1. ¿Cuál es la probabilidad de que haya elegido el dado de 6 caras?"
      ]
    },
    {
      "cell_type": "code",
      "execution_count": 7,
      "metadata": {
        "id": "vfUpAcYPkMLJ"
      },
      "outputs": [],
      "source": [
        "table2 = pd.DataFrame(index=[6, 8, 12])"
      ]
    },
    {
      "cell_type": "markdown",
      "metadata": {
        "id": "-JJ-vD_Mk5tR"
      },
      "source": [
        "Creamos nuestra tabla:"
      ]
    },
    {
      "cell_type": "code",
      "execution_count": 8,
      "metadata": {
        "colab": {
          "base_uri": "https://localhost:8080/",
          "height": 143
        },
        "id": "0dhSsCnaktEk",
        "outputId": "d0e07a6b-e8b0-429a-b0ce-bdbfe965964b"
      },
      "outputs": [
        {
          "data": {
            "text/html": [
              "<div>\n",
              "<style scoped>\n",
              "    .dataframe tbody tr th:only-of-type {\n",
              "        vertical-align: middle;\n",
              "    }\n",
              "\n",
              "    .dataframe tbody tr th {\n",
              "        vertical-align: top;\n",
              "    }\n",
              "\n",
              "    .dataframe thead th {\n",
              "        text-align: right;\n",
              "    }\n",
              "</style>\n",
              "<table border=\"1\" class=\"dataframe\">\n",
              "  <thead>\n",
              "    <tr style=\"text-align: right;\">\n",
              "      <th></th>\n",
              "      <th>prior</th>\n",
              "      <th>likelihood</th>\n",
              "    </tr>\n",
              "  </thead>\n",
              "  <tbody>\n",
              "    <tr>\n",
              "      <th>6</th>\n",
              "      <td>1/3</td>\n",
              "      <td>1/6</td>\n",
              "    </tr>\n",
              "    <tr>\n",
              "      <th>8</th>\n",
              "      <td>1/3</td>\n",
              "      <td>1/8</td>\n",
              "    </tr>\n",
              "    <tr>\n",
              "      <th>12</th>\n",
              "      <td>1/3</td>\n",
              "      <td>1/12</td>\n",
              "    </tr>\n",
              "  </tbody>\n",
              "</table>\n",
              "</div>"
            ],
            "text/plain": [
              "   prior likelihood\n",
              "6    1/3        1/6\n",
              "8    1/3        1/8\n",
              "12   1/3       1/12"
            ]
          },
          "execution_count": 8,
          "metadata": {},
          "output_type": "execute_result"
        }
      ],
      "source": [
        "from fractions import Fraction\n",
        "\n",
        "table2['prior'] = Fraction(1, 3)\n",
        "table2['likelihood'] = Fraction(1, 6), Fraction(1, 8), Fraction(1, 12)\n",
        "table2"
      ]
    },
    {
      "cell_type": "markdown",
      "metadata": {
        "id": "_Y1e9wPfk7v6"
      },
      "source": [
        "Y definimos una función que agrupa nuestros pasos anteriores:"
      ]
    },
    {
      "cell_type": "code",
      "execution_count": 10,
      "metadata": {
        "id": "WfCmvxSXkxOz"
      },
      "outputs": [],
      "source": [
        "def update(table):\n",
        "    \"\"\"Compute the posterior probabilities.\"\"\"\n",
        "    table['unnorm'] = table['prior'] * table['likelihood']\n",
        "    prob_data = table['unnorm'].sum()\n",
        "    table['posterior'] = table['unnorm'] / prob_data\n",
        "    return prob_data"
      ]
    },
    {
      "cell_type": "code",
      "execution_count": 11,
      "metadata": {
        "id": "kOSyu89Pk1zz"
      },
      "outputs": [],
      "source": [
        "prob_data = update(table2)"
      ]
    },
    {
      "cell_type": "code",
      "execution_count": 12,
      "metadata": {
        "colab": {
          "base_uri": "https://localhost:8080/",
          "height": 143
        },
        "id": "Z5xsIahDk4GK",
        "outputId": "5ca8171e-6d8b-4cae-e492-335de53c6bf8"
      },
      "outputs": [
        {
          "data": {
            "text/html": [
              "<div>\n",
              "<style scoped>\n",
              "    .dataframe tbody tr th:only-of-type {\n",
              "        vertical-align: middle;\n",
              "    }\n",
              "\n",
              "    .dataframe tbody tr th {\n",
              "        vertical-align: top;\n",
              "    }\n",
              "\n",
              "    .dataframe thead th {\n",
              "        text-align: right;\n",
              "    }\n",
              "</style>\n",
              "<table border=\"1\" class=\"dataframe\">\n",
              "  <thead>\n",
              "    <tr style=\"text-align: right;\">\n",
              "      <th></th>\n",
              "      <th>prior</th>\n",
              "      <th>likelihood</th>\n",
              "      <th>unnorm</th>\n",
              "      <th>posterior</th>\n",
              "    </tr>\n",
              "  </thead>\n",
              "  <tbody>\n",
              "    <tr>\n",
              "      <th>6</th>\n",
              "      <td>1/3</td>\n",
              "      <td>1/6</td>\n",
              "      <td>1/18</td>\n",
              "      <td>4/9</td>\n",
              "    </tr>\n",
              "    <tr>\n",
              "      <th>8</th>\n",
              "      <td>1/3</td>\n",
              "      <td>1/8</td>\n",
              "      <td>1/24</td>\n",
              "      <td>1/3</td>\n",
              "    </tr>\n",
              "    <tr>\n",
              "      <th>12</th>\n",
              "      <td>1/3</td>\n",
              "      <td>1/12</td>\n",
              "      <td>1/36</td>\n",
              "      <td>2/9</td>\n",
              "    </tr>\n",
              "  </tbody>\n",
              "</table>\n",
              "</div>"
            ],
            "text/plain": [
              "   prior likelihood unnorm posterior\n",
              "6    1/3        1/6   1/18       4/9\n",
              "8    1/3        1/8   1/24       1/3\n",
              "12   1/3       1/12   1/36       2/9"
            ]
          },
          "execution_count": 12,
          "metadata": {},
          "output_type": "execute_result"
        }
      ],
      "source": [
        "table2"
      ]
    },
    {
      "cell_type": "markdown",
      "metadata": {
        "id": "XGboeyuhlEaf"
      },
      "source": [
        "La probabilidad posterior del dado de 6 caras es 4/9, lo cual es un poco más que las probabilidades para los otros dados, que son 3/9 y 2/9. Intuitivamente, el dado de 6 caras es el más probable porque tenía la mayor verosimilitud de producir el resultado que observamos."
      ]
    },
    {
      "cell_type": "markdown",
      "metadata": {
        "id": "YkMMq6oelK3m"
      },
      "source": [
        "## El problema de Monty Hall"
      ]
    },
    {
      "cell_type": "markdown",
      "metadata": {
        "id": "HLYoEsEzlgLW"
      },
      "source": [
        "A continuación, usaremos una tabla de Bayes para resolver uno de los problemas más controversiales en probabilidad.\n",
        "\n",
        "El problema de Monty Hall se basa en un programa de televisión llamado \"Let's Make a Deal\". Si eres un concursante en el programa, así es cómo funciona el juego:\n",
        "\n",
        "El presentador, Monty Hall, te muestra tres puertas cerradas, numeradas como 1, 2 y 3, y te dice que hay un premio detrás de cada puerta.\n",
        "\n",
        "Uno de los premios es valioso (tradicionalmente un coche), y los otros dos son menos valiosos (tradicionalmente cabras).\n",
        "\n",
        "El objetivo del juego es adivinar detrás de qué puerta está el coche. Si aciertas, te llevas el coche.\n",
        "\n",
        "Supongamos que eliges la Puerta 1. Antes de abrir la puerta que elegiste, Monty abre la Puerta 3 y revela una cabra. Luego, Monty te ofrece la opción de quedarte con tu elección original o cambiar a la otra puerta que no ha sido abierta.\n",
        "\n",
        "Para maximizar tus posibilidades de ganar el coche, ¿deberías quedarte con la Puerta 1 o cambiar a la Puerta 2?\n"
      ]
    },
    {
      "cell_type": "markdown",
      "metadata": {
        "id": "aL-eLjIUlwOp"
      },
      "source": [
        "Para responder a esta pregunta, tenemos que hacer algunas suposiciones sobre el comportamiento del presentador:\n",
        "\n",
        "- Monty siempre abre una puerta y te ofrece la opción de cambiar.\n",
        "- Nunca abre la puerta que elegiste originalmente ni la puerta con el coche.\n",
        "- Si eliges la puerta con el coche, elige una de las otras puertas al azar.\n",
        "\n",
        "Bajo estas suposiciones, es mejor cambiar. Si te quedas, ganas $\\frac{1}{3}$ del tiempo. Si cambias, ganas $\\frac{2}{3}$ del tiempo.\n",
        "\n",
        "Si no has encontrado este problema antes, podrías encontrar sorprendente esa respuesta. No estarías solo; muchas personas tienen la fuerte intuición de que no importa si te quedas o cambias. Hay dos puertas restantes, razonan, así que la probabilidad de que el coche esté detrás de la Puerta 1 es del 50%. Pero eso es incorrecto.\n",
        "\n",
        "Para entender por qué, puede ser útil usar una tabla de Bayes. Comenzamos con tres hipótesis: el coche podría estar detrás de la Puerta 1, 2 o 3. Según el enunciado del problema, la probabilidad a priori para cada puerta es $\\frac{1}{3} $."
      ]
    },
    {
      "cell_type": "code",
      "execution_count": 14,
      "metadata": {
        "colab": {
          "base_uri": "https://localhost:8080/",
          "height": 143
        },
        "id": "DUd3_9QAlR-9",
        "outputId": "ebf936dd-3183-43a3-a879-e3eea52b0c30"
      },
      "outputs": [
        {
          "data": {
            "text/html": [
              "<div>\n",
              "<style scoped>\n",
              "    .dataframe tbody tr th:only-of-type {\n",
              "        vertical-align: middle;\n",
              "    }\n",
              "\n",
              "    .dataframe tbody tr th {\n",
              "        vertical-align: top;\n",
              "    }\n",
              "\n",
              "    .dataframe thead th {\n",
              "        text-align: right;\n",
              "    }\n",
              "</style>\n",
              "<table border=\"1\" class=\"dataframe\">\n",
              "  <thead>\n",
              "    <tr style=\"text-align: right;\">\n",
              "      <th></th>\n",
              "      <th>prior</th>\n",
              "    </tr>\n",
              "  </thead>\n",
              "  <tbody>\n",
              "    <tr>\n",
              "      <th>Door 1</th>\n",
              "      <td>1/3</td>\n",
              "    </tr>\n",
              "    <tr>\n",
              "      <th>Door 2</th>\n",
              "      <td>1/3</td>\n",
              "    </tr>\n",
              "    <tr>\n",
              "      <th>Door 3</th>\n",
              "      <td>1/3</td>\n",
              "    </tr>\n",
              "  </tbody>\n",
              "</table>\n",
              "</div>"
            ],
            "text/plain": [
              "       prior\n",
              "Door 1   1/3\n",
              "Door 2   1/3\n",
              "Door 3   1/3"
            ]
          },
          "execution_count": 14,
          "metadata": {},
          "output_type": "execute_result"
        }
      ],
      "source": [
        "table3 = pd.DataFrame(index=['Door 1', 'Door 2', 'Door 3'])\n",
        "table3['prior'] = Fraction(1, 3)\n",
        "table3"
      ]
    },
    {
      "cell_type": "markdown",
      "metadata": {
        "id": "fBRR2jRPmHoX"
      },
      "source": [
        "Los datos indican que Monty abrió la Puerta 3 y reveló una cabra. Así que consideremos la probabilidad de los datos bajo cada hipótesis:\n",
        "\n",
        "- Si el coche está detrás de la Puerta 1, Monty elige la Puerta 2 o 3 al azar, por lo tanto, la probabilidad de que abra la Puerta 3 es $\\frac{1}{2} $.\n",
        "\n",
        "- Si el coche está detrás de la Puerta 2, Monty debe abrir la Puerta 3, por lo tanto, la probabilidad de los datos bajo esta hipótesis es 1.\n",
        "\n",
        "- Si el coche está detrás de la Puerta 3, Monty no la abre, por lo tanto, la probabilidad de los datos bajo esta hipótesis es 0.\n",
        "\n",
        "Aquí están las verosimilitudes.\n"
      ]
    },
    {
      "cell_type": "code",
      "execution_count": 15,
      "metadata": {
        "colab": {
          "base_uri": "https://localhost:8080/",
          "height": 143
        },
        "id": "2lnSKedymCDk",
        "outputId": "9ff7bac8-a1e7-4490-a654-f0b17c3d9071"
      },
      "outputs": [
        {
          "data": {
            "text/html": [
              "<div>\n",
              "<style scoped>\n",
              "    .dataframe tbody tr th:only-of-type {\n",
              "        vertical-align: middle;\n",
              "    }\n",
              "\n",
              "    .dataframe tbody tr th {\n",
              "        vertical-align: top;\n",
              "    }\n",
              "\n",
              "    .dataframe thead th {\n",
              "        text-align: right;\n",
              "    }\n",
              "</style>\n",
              "<table border=\"1\" class=\"dataframe\">\n",
              "  <thead>\n",
              "    <tr style=\"text-align: right;\">\n",
              "      <th></th>\n",
              "      <th>prior</th>\n",
              "      <th>likelihood</th>\n",
              "    </tr>\n",
              "  </thead>\n",
              "  <tbody>\n",
              "    <tr>\n",
              "      <th>Door 1</th>\n",
              "      <td>1/3</td>\n",
              "      <td>1/2</td>\n",
              "    </tr>\n",
              "    <tr>\n",
              "      <th>Door 2</th>\n",
              "      <td>1/3</td>\n",
              "      <td>1</td>\n",
              "    </tr>\n",
              "    <tr>\n",
              "      <th>Door 3</th>\n",
              "      <td>1/3</td>\n",
              "      <td>0</td>\n",
              "    </tr>\n",
              "  </tbody>\n",
              "</table>\n",
              "</div>"
            ],
            "text/plain": [
              "       prior likelihood\n",
              "Door 1   1/3        1/2\n",
              "Door 2   1/3          1\n",
              "Door 3   1/3          0"
            ]
          },
          "execution_count": 15,
          "metadata": {},
          "output_type": "execute_result"
        }
      ],
      "source": [
        "table3['likelihood'] = Fraction(1, 2), 1, 0\n",
        "table3"
      ]
    },
    {
      "cell_type": "markdown",
      "metadata": {
        "id": "C68CQ8L3mQDm"
      },
      "source": [
        "Ahora que tenemos las probabilidades a priori y las verosimilitudes, podemos usar la actualización para calcular las probabilidades posteriores.\n"
      ]
    },
    {
      "cell_type": "code",
      "execution_count": 16,
      "metadata": {
        "colab": {
          "base_uri": "https://localhost:8080/",
          "height": 143
        },
        "id": "BJZjHlz7mOX9",
        "outputId": "908a2778-1423-4eea-cb49-4f7d3539d144"
      },
      "outputs": [
        {
          "data": {
            "text/html": [
              "<div>\n",
              "<style scoped>\n",
              "    .dataframe tbody tr th:only-of-type {\n",
              "        vertical-align: middle;\n",
              "    }\n",
              "\n",
              "    .dataframe tbody tr th {\n",
              "        vertical-align: top;\n",
              "    }\n",
              "\n",
              "    .dataframe thead th {\n",
              "        text-align: right;\n",
              "    }\n",
              "</style>\n",
              "<table border=\"1\" class=\"dataframe\">\n",
              "  <thead>\n",
              "    <tr style=\"text-align: right;\">\n",
              "      <th></th>\n",
              "      <th>prior</th>\n",
              "      <th>likelihood</th>\n",
              "      <th>unnorm</th>\n",
              "      <th>posterior</th>\n",
              "    </tr>\n",
              "  </thead>\n",
              "  <tbody>\n",
              "    <tr>\n",
              "      <th>Door 1</th>\n",
              "      <td>1/3</td>\n",
              "      <td>1/2</td>\n",
              "      <td>1/6</td>\n",
              "      <td>1/3</td>\n",
              "    </tr>\n",
              "    <tr>\n",
              "      <th>Door 2</th>\n",
              "      <td>1/3</td>\n",
              "      <td>1</td>\n",
              "      <td>1/3</td>\n",
              "      <td>2/3</td>\n",
              "    </tr>\n",
              "    <tr>\n",
              "      <th>Door 3</th>\n",
              "      <td>1/3</td>\n",
              "      <td>0</td>\n",
              "      <td>0</td>\n",
              "      <td>0</td>\n",
              "    </tr>\n",
              "  </tbody>\n",
              "</table>\n",
              "</div>"
            ],
            "text/plain": [
              "       prior likelihood unnorm posterior\n",
              "Door 1   1/3        1/2    1/6       1/3\n",
              "Door 2   1/3          1    1/3       2/3\n",
              "Door 3   1/3          0      0         0"
            ]
          },
          "execution_count": 16,
          "metadata": {},
          "output_type": "execute_result"
        }
      ],
      "source": [
        "update(table3)\n",
        "table3"
      ]
    },
    {
      "cell_type": "markdown",
      "metadata": {
        "id": "_t9QGXWKmV5i"
      },
      "source": [
        "Después de que Monty abre la Puerta 3, la probabilidad posterior de la Puerta 1 es $1/3$, y la probabilidad posterior de la Puerta 2 es $2/3$. Por lo tanto, es mejor cambiar de la Puerta 1 a la Puerta 2.\n",
        "\n",
        "Como este ejemplo muestra, nuestra intuición sobre la probabilidad no siempre es confiable. El Teorema de Bayes puede ayudar proporcionando una estrategia de divide y vencerás:\n",
        "\n",
        "- Primero, escribe las hipótesis y los datos.\n",
        "\n",
        "- Luego, determina las probabilidades a priori.\n",
        "\n",
        "- Finalmente, calcula la verosimilitud de los datos bajo cada hipótesis.\n",
        "\n",
        "La tabla de Bayes hace el resto del trabajo.\n"
      ]
    },
    {
      "cell_type": "markdown",
      "metadata": {
        "id": "xKuDXvOBmviw"
      },
      "source": [
        "## Ejercicios"
      ]
    },
    {
      "cell_type": "markdown",
      "metadata": {
        "id": "XmviebJimw3f"
      },
      "source": [
        "Ahora, supongamos que Monty siempre elige la Puerta 2 si puede, y solo elige la Puerta 3 si tiene que hacerlo (porque el coche está detrás de la Puerta 2).\n",
        "\n",
        "- Si eliges la Puerta 1 y Monty abre la Puerta 2, ¿cuál es la probabilidad de que el coche esté detrás de la Puerta 3?\n",
        "\n",
        "- Si eliges la Puerta 1 y Monty abre la Puerta 3, ¿cuál es la probabilidad de que el coche esté detrás de la Puerta 2?"
      ]
    },
    {
      "cell_type": "markdown",
      "metadata": {
        "id": "MMiDIYQum5oS"
      },
      "source": [
        "### Referencias"
      ]
    },
    {
      "cell_type": "markdown",
      "metadata": {
        "id": "RTbjKODHm7nb"
      },
      "source": [
        "https://allendowney.github.io/ThinkBayes2/chap02.html#the-cookie-problem"
      ]
    }
  ],
  "metadata": {
    "colab": {
      "provenance": []
    },
    "kernelspec": {
      "display_name": "Python 3",
      "name": "python3"
    },
    "language_info": {
      "codemirror_mode": {
        "name": "ipython",
        "version": 3
      },
      "file_extension": ".py",
      "mimetype": "text/x-python",
      "name": "python",
      "nbconvert_exporter": "python",
      "pygments_lexer": "ipython3",
      "version": "3.9.6"
    }
  },
  "nbformat": 4,
  "nbformat_minor": 0
}
