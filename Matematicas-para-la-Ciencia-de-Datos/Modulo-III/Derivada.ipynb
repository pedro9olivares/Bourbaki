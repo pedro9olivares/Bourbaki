{
  "nbformat": 4,
  "nbformat_minor": 0,
  "metadata": {
    "colab": {
      "provenance": [],
      "include_colab_link": true
    },
    "kernelspec": {
      "name": "python3",
      "display_name": "Python 3"
    },
    "language_info": {
      "name": "python"
    }
  },
  "cells": [
    {
      "cell_type": "markdown",
      "metadata": {
        "id": "view-in-github",
        "colab_type": "text"
      },
      "source": [
        "<a href=\"https://colab.research.google.com/github/anelglvz/Matematicas_Ciencia_Datos/blob/main/Optimizaci%C3%B3n/Calculo_Opt_Derivada.ipynb\" target=\"_parent\"><img src=\"https://colab.research.google.com/assets/colab-badge.svg\" alt=\"Open In Colab\"/></a>"
      ]
    },
    {
      "cell_type": "markdown",
      "metadata": {
        "id": "T_5475og8tE1"
      },
      "source": [
        "## Objetivo"
      ]
    },
    {
      "cell_type": "markdown",
      "metadata": {
        "id": "s6MULV_a8vJr"
      },
      "source": [
        "1. Derivar funciones en python usando la definición de límite.\n",
        "2. Dar una breve introducción a [sympy](https://www.sympy.org/en/index.html).\n",
        "3. Obtener la matriz Jacobiana con sympy\n",
        "4. Obtener la matriz Hessiana con sympy\n",
        "5. Obtener la solución de una ecuación diferencial parcial"
      ]
    },
    {
      "cell_type": "markdown",
      "metadata": {
        "id": "G6Gahdrx8s_q"
      },
      "source": [
        "# Introducción"
      ]
    },
    {
      "cell_type": "markdown",
      "metadata": {
        "id": "lWxVLQqS46IH"
      },
      "source": [
        "Definición: La función $f$ es **diferenciable en a** si el $$  lim_{h\\rightarrow 0} \\frac{f(a+ h) - f(a)}{h}.$$\n",
        "En este caso, dicho límite se representa mediante **$f'(a)$** y se denomina **la derivada de f en a**.\n",
        "\n",
        "También, $f$ es **diferenciable** si $f$ es diferenciable en $a$ para todo $a$ en el dominio de $f$. (Michael Spivak. (2012). Derivadas e integrales. En Calculus(151). Barcelona: Reverté.)"
      ]
    },
    {
      "cell_type": "code",
      "metadata": {
        "id": "n9CiM1zX4aUP"
      },
      "source": [
        "def derivada(func, a, h = 1e-7):\n",
        "    return (func(a + h) - func(a))/h"
      ],
      "execution_count": null,
      "outputs": []
    },
    {
      "cell_type": "markdown",
      "metadata": {
        "id": "G_RNoZjrBCTW"
      },
      "source": [
        "# Ejemplos\n",
        "\n",
        "Para cada ejemplo, se dará la función, $f$, y su derivada, $f'$, para evaluar la derivada en algún punto arbitrario en su soporte."
      ]
    },
    {
      "cell_type": "code",
      "metadata": {
        "id": "V72EJi5WCj-V"
      },
      "source": [
        "import numpy as np"
      ],
      "execution_count": null,
      "outputs": []
    },
    {
      "cell_type": "markdown",
      "metadata": {
        "id": "KH9loslZBFAs"
      },
      "source": [
        "1. Sea $f(x) = x^2$, su derivada es $f'(x) = 2x$.\n",
        "\n"
      ]
    },
    {
      "cell_type": "code",
      "metadata": {
        "id": "QGh53yhb86JY"
      },
      "source": [
        "a = 3\n",
        "aprox = derivada(lambda x: x**2, a)\n",
        "real = 2*a\n",
        "print(f'Aproximación: {aprox}')\n",
        "print(f\"Real: {real}\\n\")\n",
        "print(f'Diferencia: {np.abs(real - aprox)}')"
      ],
      "execution_count": null,
      "outputs": []
    },
    {
      "cell_type": "code",
      "metadata": {
        "id": "kCmdFSLHCghn"
      },
      "source": [
        "def compara_derivada(func, derivative, a):\n",
        "    aprox = derivada(func, a)\n",
        "    real = derivative(a)\n",
        "    print(f'Aproximación: {aprox}')\n",
        "    print(f\"Real: {real}\\n\")\n",
        "    print(f'Diferencia: {np.abs(real - aprox)}')"
      ],
      "execution_count": null,
      "outputs": []
    },
    {
      "cell_type": "markdown",
      "metadata": {
        "id": "IFfbrmNCBWUY"
      },
      "source": [
        "2. Sea $f(x) = x^3$, su derivada es $f'(x) = 3x^2$."
      ]
    },
    {
      "cell_type": "code",
      "metadata": {
        "id": "96FagbV9ESCa"
      },
      "source": [
        "compara_derivada(lambda x: x**3, lambda x: 3*x**2, 3)"
      ],
      "execution_count": null,
      "outputs": []
    },
    {
      "cell_type": "markdown",
      "metadata": {
        "id": "FgoqHzIWCUmG"
      },
      "source": [
        "3. Sea $f(x) = sin(x)$, su derivada es $f'(x) = cos(x)$."
      ]
    },
    {
      "cell_type": "code",
      "metadata": {
        "id": "po10m8_xCM0N"
      },
      "source": [
        "compara_derivada(lambda x: np.sin(x), lambda x: np.cos(x), np.pi)"
      ],
      "execution_count": null,
      "outputs": []
    },
    {
      "cell_type": "markdown",
      "metadata": {
        "id": "DDL-LPmdVg0b"
      },
      "source": [
        "# Sympy"
      ]
    },
    {
      "cell_type": "markdown",
      "metadata": {
        "id": "B9CRofk0Vi6X"
      },
      "source": [
        "Es una libreria para álgebra computacional escrita completamente en python."
      ]
    },
    {
      "cell_type": "markdown",
      "metadata": {
        "id": "9g2EI50hWnCL"
      },
      "source": [
        "Para los ejemplos que vimos en la sección pasada, podemos calcular su derivada y evaluarla en diferentes puntos porque el resultado que tendremos será una función, no un escalar."
      ]
    },
    {
      "cell_type": "code",
      "metadata": {
        "id": "r4H0UsMpX4g1"
      },
      "source": [
        "from sympy import symbols, diff, lambdify"
      ],
      "execution_count": null,
      "outputs": []
    },
    {
      "cell_type": "code",
      "metadata": {
        "id": "Ovu0Lw2OXbSu"
      },
      "source": [
        "# Definimos las variables que vamos a usar\n",
        "x = symbols('x')\n",
        "print(type(x))\n",
        "f = x**2\n",
        "f"
      ],
      "execution_count": null,
      "outputs": []
    },
    {
      "cell_type": "code",
      "metadata": {
        "id": "TSt00Pg3XusI"
      },
      "source": [
        "f_prima = diff(f)\n",
        "f_prima"
      ],
      "execution_count": null,
      "outputs": []
    },
    {
      "cell_type": "code",
      "source": [
        "# Error, no es una función normal, es un objeto de sympy\n",
        "f_prima(2)"
      ],
      "metadata": {
        "id": "drOtcP5vyodU"
      },
      "execution_count": null,
      "outputs": []
    },
    {
      "cell_type": "markdown",
      "metadata": {
        "id": "eGWpEO-hYGfv"
      },
      "source": [
        "Para evaluar las funciones (expresiones) usaremos los métodos [```subs```](https://docs.sympy.org/latest/tutorial/basic_operations.html#substitution) o la función [```evalf```](https://docs.sympy.org/latest/tutorial/basic_operations.html#evalf). La segunda es para que el resultado sea un valor de punto flotante."
      ]
    },
    {
      "cell_type": "code",
      "metadata": {
        "id": "nOAD3F40ZW2y"
      },
      "source": [
        "res = f_prima.subs(x, 0.5)\n",
        "print(type(res))\n",
        "res"
      ],
      "execution_count": null,
      "outputs": []
    },
    {
      "cell_type": "code",
      "source": [
        "int(res)"
      ],
      "metadata": {
        "id": "QCHbTle10T4w"
      },
      "execution_count": null,
      "outputs": []
    },
    {
      "cell_type": "code",
      "source": [
        "type(res)"
      ],
      "metadata": {
        "id": "fvJNHD9Iznfl"
      },
      "execution_count": null,
      "outputs": []
    },
    {
      "cell_type": "code",
      "metadata": {
        "id": "L7jsknwgZhUB"
      },
      "source": [
        "res = f_prima.evalf(subs = {x: 3})\n",
        "print(type(res))\n",
        "res"
      ],
      "execution_count": null,
      "outputs": []
    },
    {
      "cell_type": "code",
      "source": [
        "float(res)"
      ],
      "metadata": {
        "id": "h_MsQIm-0dwd"
      },
      "execution_count": null,
      "outputs": []
    },
    {
      "cell_type": "code",
      "metadata": {
        "id": "xIbRHJpSaD8p"
      },
      "source": [
        "func = lambdify(x, f_prima, \"math\")\n",
        "print(type(func(.5)))\n",
        "func(0.5)"
      ],
      "execution_count": null,
      "outputs": []
    },
    {
      "cell_type": "code",
      "source": [
        "func(5.23)"
      ],
      "metadata": {
        "id": "Qee3lCpgH4uF"
      },
      "execution_count": null,
      "outputs": []
    },
    {
      "cell_type": "markdown",
      "metadata": {
        "id": "ts-FJQmFfkzY"
      },
      "source": [
        "# Gradiente\n"
      ]
    },
    {
      "cell_type": "markdown",
      "metadata": {
        "id": "MPcvVVjPfn_d"
      },
      "source": [
        "Para $f : \\mathbb{R}^n \\to \\mathbb{R}$, su **gradiente**, $\\nabla f: \\mathbb{R}^n \\to \\mathbb{R}^n$, está definido en el punto $p = (x_1, \\dots, x_n)$ como el vector (columna):\n",
        "\n",
        "\\begin{align}\n",
        "\\nabla f(p) = \\left[\n",
        "    \\begin{matrix}\n",
        "    \\frac{\\partial f}{\\partial x_1}(p) \\\\\n",
        "    \\vdots \\\\\n",
        "    \\frac{\\partial f}{\\partial x_n}(p)\n",
        "    \\end{matrix}\n",
        "    \\right]\n",
        "\\end{align}"
      ]
    },
    {
      "cell_type": "markdown",
      "metadata": {
        "id": "-42x-6_PjhID"
      },
      "source": [
        "**Sea** $f(x, y) = \\frac{x}{y}$. Su gradiente es\n",
        "\n",
        "\\begin{align}\n",
        "    \\nabla f = \\left[\n",
        "        \\begin{matrix}\n",
        "        \\frac{\\partial g}{\\partial x} \\\\\n",
        "        \\frac{\\partial g}{\\partial y}\n",
        "        \\end{matrix}\n",
        "        \\right] = \\left[\n",
        "        \\begin{matrix}\n",
        "        \\frac{1}{y} \\\\\n",
        "        -\\frac{x}{y^2}\n",
        "        \\end{matrix}\n",
        "        \\right]\n",
        "\\end{align}"
      ]
    },
    {
      "cell_type": "code",
      "metadata": {
        "id": "PNj03dcqfqYd"
      },
      "source": [
        "f = lambda x, y: x/y"
      ],
      "execution_count": null,
      "outputs": []
    },
    {
      "cell_type": "markdown",
      "metadata": {
        "id": "uSU9TpAIm80h"
      },
      "source": [
        "Evaluaremos el gradiente en el punto $(1, 2)$."
      ]
    },
    {
      "cell_type": "code",
      "metadata": {
        "id": "tXild1m4l8v4"
      },
      "source": [
        "a = 1\n",
        "b = 2\n",
        "\n",
        "fx = lambda x: x/b\n",
        "fy = lambda y: a/y\n",
        "grad = np.zeros((2, 1))"
      ],
      "execution_count": null,
      "outputs": []
    },
    {
      "cell_type": "code",
      "metadata": {
        "id": "BSS-6RN9nfgK"
      },
      "source": [
        "grad[0] = derivada(fx, a)\n",
        "grad[1] = derivada(fy, b)\n",
        "grad"
      ],
      "execution_count": null,
      "outputs": []
    },
    {
      "cell_type": "markdown",
      "metadata": {
        "id": "Pw3OlJOvoxSx"
      },
      "source": [
        "Ahora, lo haremos con ```sympy```"
      ]
    },
    {
      "cell_type": "code",
      "metadata": {
        "id": "qs3EBppNozYI"
      },
      "source": [
        "from sympy import symbols\n",
        "x, y = symbols('x y')\n",
        "f = x/y\n",
        "f"
      ],
      "execution_count": null,
      "outputs": []
    },
    {
      "cell_type": "code",
      "metadata": {
        "id": "Zo36hSN2o7Dm"
      },
      "source": [
        "from sympy import Matrix\n",
        "grad = Matrix([f.diff(x), f.diff(y)])\n",
        "grad"
      ],
      "execution_count": null,
      "outputs": []
    },
    {
      "cell_type": "code",
      "metadata": {
        "id": "PMj2zqmzpd3-"
      },
      "source": [
        "grad.subs([(x, a), (y, b)])"
      ],
      "execution_count": null,
      "outputs": []
    },
    {
      "cell_type": "code",
      "metadata": {
        "id": "U1hcyG-mpv_T"
      },
      "source": [
        "grad.evalf(subs = {x: a, y: b})"
      ],
      "execution_count": null,
      "outputs": []
    },
    {
      "cell_type": "code",
      "metadata": {
        "id": "ZbcgKt_6wy_U"
      },
      "source": [
        "X = [x, y]\n",
        "Matrix([f.diff(var) for var in X])"
      ],
      "execution_count": null,
      "outputs": []
    },
    {
      "cell_type": "markdown",
      "metadata": {
        "id": "l9IRuNxZEKRS"
      },
      "source": [
        "# Matriz Jacobiana"
      ]
    },
    {
      "cell_type": "markdown",
      "metadata": {
        "id": "G1GgPXguEPTO"
      },
      "source": [
        "Suponga que $\\mathbf {F} :\\mathbb {R} ^{n}\\to \\mathbb {R} ^{m}$ es una función tal que sus derivadas parciales de primer orden existen en $\\mathbb {R} ^{n}$. La **matriz Jacobiana** de $\\mathbf {F} $, denotada por $\\mathbf {J}\n",
        "$, está definida como una matriz de tamaño $m\\times n$ cuya $(i,j)$-ésima entrada es $J_{i,j} = \\frac{\\partial f_i}{ \\partial x_j}$. O en su forma explícita,\n",
        "\n",
        "\\begin{align}\n",
        "J = \\left[ \\frac{\\partial \\mathbf{F}}{\\partial x_1} \\dots \\frac{\\partial \\mathbf{F}}{\\partial x_n} \\right] = \\left[\n",
        "    \\begin{matrix}\n",
        "    \\nabla^T f_1 \\\\\n",
        "    \\vdots \\\\\n",
        "    \\nabla^T f_m\n",
        "    \\end{matrix}\n",
        "    \\right] =\n",
        "    \\left[\n",
        "        \\begin{matrix}\n",
        "        \\frac{\\partial f_1}{\\partial x_1}& \\dots& \\frac{\\partial f_1}{\\partial x_n} \\\\\n",
        "        \\vdots& \\ddots&\\vdots\\\\\n",
        "        \\frac{\\partial f_m}{\\partial x_1} &\\dots& \\frac{\\partial f_m}{\\partial x_n} \\\\\n",
        "        \\end{matrix}\n",
        "    \\right]\n",
        "\\end{align}"
      ]
    },
    {
      "cell_type": "markdown",
      "metadata": {
        "id": "qiZt_JcPq_IY"
      },
      "source": [
        "Obtendremos la matriz Jacobiana de la función $h(x, y, z) = (x^2z, \\frac{x}{y}, 2x + 3y + 2z)$"
      ]
    },
    {
      "cell_type": "code",
      "metadata": {
        "id": "b-4osx70rQiI"
      },
      "source": [
        "x, y, z= symbols('x y z') # Ya no es necesario definirlos porque están definidos arriba\n",
        "A = Matrix([\n",
        "            z*x**2,\n",
        "            x/y,\n",
        "            2*x + 3*y + 2*z\n",
        "            ])\n",
        "jac = A.jacobian([x, y, z])\n",
        "jac"
      ],
      "execution_count": null,
      "outputs": []
    },
    {
      "cell_type": "code",
      "source": [
        "jac.subs([(x,1), (y,2), (z,4)])"
      ],
      "metadata": {
        "id": "z5BMk8S_8hXx"
      },
      "execution_count": null,
      "outputs": []
    },
    {
      "cell_type": "markdown",
      "metadata": {
        "id": "bF5YGpefyDhL"
      },
      "source": [
        "# Matriz Hessiana"
      ]
    },
    {
      "cell_type": "markdown",
      "metadata": {
        "id": "inBKsKgpyNAn"
      },
      "source": [
        "La matriz Hessiana es una matirz cuadrada con las derivadas parciales de segundo orden de una función.\n",
        "\n",
        "Sea $f : \\mathbb{R}^n \\to \\mathbb{R}$. Si todas las derivadas parciales de segundo orden existen y son continuas en el dominio de la función, entonces la matriz **Hessiana** de $f$ es una matriz cuadrada de $n\\times n$, de la siguiente manera:\n",
        "\n",
        "\\begin{align}\n",
        "H_f = \\left[\n",
        "    \\begin{matrix}\n",
        "    \\frac{\\partial^2 f}{\\partial x_1^2} & \\frac{\\partial^2 f}{\\partial x_1 \\partial x_2} & \\dots & \\frac{\\partial^2 f}{\\partial x_1 \\partial x_n} \\\\\n",
        "    \\frac{\\partial^2 f}{\\partial x_2 \\partial x_1} & \\frac{\\partial^2 f}{\\partial x_2^2} & \\dots & \\frac{\\partial^2 f}{\\partial x_2 \\partial x_n} \\\\\n",
        "    \\vdots & \\vdots & \\ddots & \\vdots \\\\\n",
        "    \\frac{\\partial^2 f}{\\partial x_n \\partial x_1} & \\frac{\\partial^2 f}{\\partial x_n \\partial x_2} & \\dots & \\frac{\\partial^2 f}{\\partial x_n^2} \\\\\n",
        "    \\end{matrix}\n",
        "    \\right]\n",
        "\\end{align}"
      ]
    },
    {
      "cell_type": "markdown",
      "metadata": {
        "id": "VeYC9kBwyGAs"
      },
      "source": [
        "Obtendremos la matriz hessiana de $f(x, y, z) = x^6y^4 + z^3$."
      ]
    },
    {
      "cell_type": "code",
      "metadata": {
        "id": "GRsIk32u1RXT"
      },
      "source": [
        "from sympy import hessian\n",
        "x, y, z = symbols(\"x y z\")\n",
        "f = x**6 * y**4 + z**3\n",
        "f"
      ],
      "execution_count": null,
      "outputs": []
    },
    {
      "cell_type": "code",
      "metadata": {
        "id": "RiZRAL8t1VT2"
      },
      "source": [
        "h = hessian(f, (x, y, z))\n",
        "h"
      ],
      "execution_count": null,
      "outputs": []
    },
    {
      "cell_type": "code",
      "source": [
        "h.subs([(x,1), (y,2), (z,3)])"
      ],
      "metadata": {
        "id": "KgwbOotc8cr9"
      },
      "execution_count": null,
      "outputs": []
    },
    {
      "cell_type": "markdown",
      "source": [
        "# Ecuaciones en derivadas parciales"
      ],
      "metadata": {
        "id": "LSCROFgL1SIM"
      }
    },
    {
      "cell_type": "code",
      "source": [
        "from sympy import Function, Eq, pdsolve\n",
        "x, y, u, z = symbols('x y u z')\n",
        "f = Function('f')"
      ],
      "metadata": {
        "id": "AFmmJmM4_Hyz"
      },
      "execution_count": null,
      "outputs": []
    },
    {
      "cell_type": "code",
      "source": [
        "u = f(x, y)\n",
        "u_x = u.diff(x)\n",
        "u_y = u.diff(y)\n",
        "eq = Eq(4*u_x - 3*u_y, 0)\n",
        "eq"
      ],
      "metadata": {
        "id": "UAp6Se-y_cHl"
      },
      "execution_count": null,
      "outputs": []
    },
    {
      "cell_type": "code",
      "source": [
        "pdsolve(eq)"
      ],
      "metadata": {
        "id": "_-ki38B8_t4i"
      },
      "execution_count": null,
      "outputs": []
    },
    {
      "cell_type": "markdown",
      "source": [
        "Otro ejemplo"
      ],
      "metadata": {
        "id": "eN4NZzn4ADhD"
      }
    },
    {
      "cell_type": "code",
      "source": [
        "u = f(x, y)\n",
        "u_x = u.diff(x)\n",
        "u_y = u.diff(y)\n",
        "eq2 = Eq(u_x + y*u_y, 0)\n",
        "eq2"
      ],
      "metadata": {
        "id": "c3nYTNkFAGOA"
      },
      "execution_count": null,
      "outputs": []
    },
    {
      "cell_type": "code",
      "source": [
        "res = pdsolve(eq2)\n",
        "res"
      ],
      "metadata": {
        "id": "mzenjSKTARYz"
      },
      "execution_count": null,
      "outputs": []
    },
    {
      "cell_type": "code",
      "source": [
        "res.subs([(x,1), (y,2)])"
      ],
      "metadata": {
        "id": "Uc7XDyWgAcJt"
      },
      "execution_count": null,
      "outputs": []
    },
    {
      "cell_type": "markdown",
      "source": [
        "¿Cuando puede ser útil esto?\n",
        "\n",
        "¿Cuando utilizarían una derivada numérica y cuando una derivada analítica?"
      ],
      "metadata": {
        "id": "MjgeqzTiN2xp"
      }
    }
  ]
}