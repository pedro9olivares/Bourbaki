{
  "cells": [
    {
      "cell_type": "markdown",
      "metadata": {
        "id": "NNSTgenqN-_f"
      },
      "source": [
        "#Introducción\n",
        "\n",
        "Este notebook entrena a un agente para navegar por un laberinto y llegar al destino deseado. Utiliza el entorno fourRoom-v0 del Gym-MiniGrid como laberinto. El agente se entrena utilizando el algoritmo de gradiente de política básico (REINFORCE) del aprendizaje por refuerzo."
      ]
    },
    {
      "cell_type": "code",
      "execution_count": null,
      "metadata": {
        "id": "I19gFM8lIsP7"
      },
      "outputs": [],
      "source": [
        "!pip install gym\n",
        "!pip install gym-minigrid"
      ]
    },
    {
      "cell_type": "code",
      "execution_count": null,
      "metadata": {
        "id": "X3y6ZJbLIzA4"
      },
      "outputs": [],
      "source": [
        "import gym, gym_minigrid\n",
        "\n",
        "import matplotlib.pyplot as plt\n",
        "from IPython.display import clear_output\n",
        "import numpy as np\n",
        "import base64\n",
        "import glob\n",
        "import io\n",
        "import time\n",
        "import copy\n",
        "#import utils\n",
        "\n",
        "import torch\n",
        "import torch.nn as nn\n",
        "from torch.utils.data.sampler import BatchSampler, SubsetRandomSampler\n",
        "import torch.optim as optim\n",
        "import torch.nn.functional as F\n",
        "from torch.distributions.categorical import Categorical"
      ]
    },
    {
      "cell_type": "code",
      "execution_count": null,
      "metadata": {
        "id": "6uKhObT1JYc0"
      },
      "outputs": [],
      "source": [
        "SEED = 2123"
      ]
    },
    {
      "cell_type": "markdown",
      "metadata": {
        "id": "VfizoyMEOWNI"
      },
      "source": [
        "# Definición de componentes de aprendizaje por refuerzo.\n",
        "\n",
        "Se espera que cualquier implementación de refuerzo tenga cuatro componentes:\n",
        "* Un entorno, es decir, donde reside el agente, tiene espacio de acción, es decir, qué acciones son posibles en este entorno y observaciones, es decir, el estado del medio ambiente en un momento dado (posición de las paredes, agente, comida, etc.)\n",
        "* El modelo que actúa como la mente del agente, es decir, toma decisiones sobre qué acciones debe realizar un agente en el entorno.\n",
        "* El rolloutbuffer: la estructura de datos que recopila y almacena datos de entrenamiento.\n",
        "* La política: algoritmos para actualizar los parámetros del modelo para que el modelo tome mejores decisiones."
      ]
    },
    {
      "cell_type": "code",
      "execution_count": null,
      "metadata": {
        "colab": {
          "base_uri": "https://localhost:8080/",
          "height": 853
        },
        "id": "ZlyTr73aL1PH",
        "outputId": "a3e0316d-03f5-4543-d33e-b014602e387f"
      },
      "outputs": [
        {
          "data": {
            "image/png": "[encoded data removed]",
            "text/plain": [
              "<Figure size 1000x1000 with 1 Axes>"
            ]
          },
          "metadata": {},
          "output_type": "display_data"
        }
      ],
      "source": [
        "def display_environment() -> None:\n",
        "    '''\n",
        "    Converts an environment to an image and displays it on the notebook.\n",
        "    '''\n",
        "    # Set the render mode when creating the environment\n",
        "    env = gym.make('MiniGrid-Empty-Random-6x6-v0', render_mode=\"rgb_array\")\n",
        "    env.reset()\n",
        "    # Call render without any arguments\n",
        "    img = env.render()\n",
        "    plt.figure(figsize=(10,10))\n",
        "    plt.imshow(img,cmap='gray')\n",
        "    plt.title(\"The gym-minigrid 4x4 environment\")\n",
        "    plt.show()\n",
        "\n",
        "# Call the function without any arguments\n",
        "display_environment()"
      ]
    },
    {
      "cell_type": "markdown",
      "metadata": {
        "id": "ItPYKZVXOnY-"
      },
      "source": [
        "No es eficiente trabajar con un entorno 3D, por lo que aplanamos el entorno a un vector 1D. Para hacer esto utilizamos el FlatObsWrapper definido a continuación."
      ]
    },
    {
      "cell_type": "code",
      "execution_count": null,
      "metadata": {
        "id": "1TQxhmbPMZoQ"
      },
      "outputs": [],
      "source": [
        "class FlatObsWrapper(gym.core.ObservationWrapper):\n",
        "    def __init__(self, env):\n",
        "        super().__init__(env)\n",
        "\n",
        "        # Since the outer walls are always present, we remove left, right, top, bottom walls\n",
        "        # from the observation space of the agent. There are 3 channels, but for simplicity\n",
        "        # in this assignment, we will deal with flattened version of state.\n",
        "\n",
        "        self.observation_space = gym.spaces.Box(\n",
        "            low=0,\n",
        "            high=255,\n",
        "            shape=((self.env.width-2) * (self.env.height-2) * 3,),  # number of cells\n",
        "            #dtype='uint8'\n",
        "            dtype = float\n",
        "        )\n",
        "        self.unwrapped.max_steps = 100\n",
        "\n",
        "    def observation(self, obs):\n",
        "        '''\n",
        "        This method is called in the reset() and step() functions to get the observation.\n",
        "        env.reset() returns the environment with the goal, walls and empty spaces in place but no agent in it.\n",
        "        This function places the agent into the environment and flattens the env.\n",
        "        '''\n",
        "        env = self.unwrapped\n",
        "        full_grid = env.grid.encode()\n",
        "\n",
        "        #places the agent in the grid\n",
        "        full_grid[env.agent_pos[0]][env.agent_pos[1]] = np.array([\n",
        "            gym_minigrid.minigrid.OBJECT_TO_IDX['agent'],\n",
        "            gym_minigrid.minigrid.COLOR_TO_IDX['red'],\n",
        "            env.agent_dir\n",
        "        ])\n",
        "\n",
        "        #remove outer walls of the environment (for efficiency)\n",
        "        full_grid = full_grid[1:-1, 1:-1]\n",
        "\n",
        "        flattened_grid = full_grid.ravel()\n",
        "        return flattened_grid\n",
        "\n",
        "    def render(self, *args, **kwargs):\n",
        "        \"\"\"\n",
        "        This removes the default visualization of the partially observable field of view.\n",
        "        \"\"\"\n",
        "        kwargs['highlight'] = False\n",
        "        return self.unwrapped.render(*args, **kwargs)"
      ]
    },
    {
      "cell_type": "code",
      "execution_count": null,
      "metadata": {
        "id": "9kyipOHnMdWJ"
      },
      "outputs": [],
      "source": [
        "env = FlatObsWrapper(env)"
      ]
    },
    {
      "cell_type": "markdown",
      "metadata": {
        "id": "ANgyz6CoOvE4"
      },
      "source": [
        "**Rollout buffer:** El aprendizaje reforzado funciona recopilando primero datos que luego serán utilizados por el usuario para capacitar al agente. El búfer de implementación es la estructura de datos para almacenar dichos datos. Una instancia en los datos recopilados consiste en una observación, una acción realizada, la recompensa obtenida\n",
        "y si la acción resultó en un estado terminal."
      ]
    },
    {
      "cell_type": "code",
      "execution_count": null,
      "metadata": {
        "id": "LgaBKWF9MfjZ"
      },
      "outputs": [],
      "source": [
        "class RolloutBuffer():\n",
        "    def __init__(self, rollout_size, obs_size):\n",
        "        '''\n",
        "        Initializes the size i.e. number of instances and of the rolloutbuffer\n",
        "        '''\n",
        "        self.rollout_size = rollout_size\n",
        "        self.obs_size = obs_size\n",
        "        self.reset()\n",
        "\n",
        "    def insert(self, step, done, action, log_prob, reward, obs):\n",
        "        '''\n",
        "        Inserts an instance i.e. a data example to the rolloutbuffer.\n",
        "        '''\n",
        "        self.done[step].copy_(done)\n",
        "        self.actions[step].copy_(action)\n",
        "        self.log_probs[step].copy_(log_prob)\n",
        "        self.rewards[step].copy_(reward)\n",
        "        self.obs[step].copy_(obs)\n",
        "\n",
        "    def reset(self):\n",
        "        '''\n",
        "        Clears the rollout buffer of any existing data.\n",
        "        '''\n",
        "        self.done = torch.zeros(self.rollout_size, 1)\n",
        "        self.returns = torch.zeros(self.rollout_size + 1, 1, requires_grad=False)\n",
        "        # Assuming Discrete Action Space\n",
        "        self.actions = torch.zeros(self.rollout_size, 1, dtype=torch.int64)\n",
        "        self.log_probs = torch.zeros(self.rollout_size, 1)\n",
        "        self.rewards = torch.zeros(self.rollout_size, 1)\n",
        "        self.obs = torch.zeros(self.rollout_size, self.obs_size)\n",
        "\n",
        "    def compute_returns(self, gamma):\n",
        "        '''\n",
        "        Computes the expected return of each instance.\n",
        "        Expected return computation for an instance uses a group of intances before the terminal state is used.\n",
        "        '''\n",
        "        self.last_done = (self.done == 1).nonzero().max()\n",
        "        self.returns[self.last_done + 1] = 0.\n",
        "\n",
        "        # Accumulate discounted returns\n",
        "        for step in reversed(range(self.last_done + 1)):\n",
        "            self.returns[step] = self.returns[step + 1] * \\\n",
        "                gamma * (1 - self.done[step]) + self.rewards[step]\n",
        "\n",
        "\n",
        "    def batch_sampler(self, batch_size, get_old_log_probs=False):\n",
        "        '''\n",
        "        Returns a small random amount of instances from the rolloutbuffer.\n",
        "        '''\n",
        "        sampler = BatchSampler(SubsetRandomSampler(range(self.last_done)), batch_size, drop_last=True)\n",
        "\n",
        "        for indices in sampler:\n",
        "            if get_old_log_probs:\n",
        "                yield self.actions[indices], self.returns[indices], self.obs[indices], self.log_probs[indices]\n",
        "            else:\n",
        "                yield self.actions[indices], self.returns[indices], self.obs[indices]"
      ]
    },
    {
      "cell_type": "markdown",
      "metadata": {
        "id": "22X6CLA8O5bZ"
      },
      "source": [
        "**El actor/agente/modelo:** Es la red neuronal que ordena qué acción debe realizar un agente dado el estado actual del entorno.\n"
      ]
    },
    {
      "cell_type": "code",
      "execution_count": null,
      "metadata": {
        "id": "HXIk_dlzMhdr"
      },
      "outputs": [],
      "source": [
        "class ActorNetwork(nn.Module):\n",
        "    def __init__(self, num_inputs, num_actions, hidden_dim):\n",
        "        super().__init__()\n",
        "        self.num_actions = num_actions\n",
        "\n",
        "        self.fc = nn.Sequential(\n",
        "            nn.Linear(num_inputs, hidden_dim),\n",
        "            nn.Tanh(),\n",
        "            nn.Linear(hidden_dim, hidden_dim),\n",
        "            nn.Tanh(),\n",
        "            nn.Linear(hidden_dim, num_actions)\n",
        "        )\n",
        "\n",
        "    def forward(self, state):\n",
        "        x = self.fc(state)\n",
        "        return x"
      ]
    },
    {
      "cell_type": "markdown",
      "metadata": {
        "id": "YUBrRhFhPBia"
      },
      "source": [
        "**La Política:** Equivale a un optimizador en el aprendizaje supervisado regular a través de redes neuronales. Le preocupa cómo actualizar los parámetros del modelo para que el modelo pueda hacer mejores recomendaciones de acción.\n"
      ]
    },
    {
      "cell_type": "code",
      "execution_count": null,
      "metadata": {
        "id": "zc5DtL5NMjm9"
      },
      "outputs": [],
      "source": [
        "class Policy():\n",
        "    def __init__(self, num_inputs, num_actions, hidden_dim, learning_rate, batch_size, policy_epochs, entropy_coef):\n",
        "        self.actor = ActorNetwork(num_inputs, num_actions, hidden_dim)\n",
        "        self.optimizer = optim.Adam(self.actor.parameters(), lr=learning_rate)\n",
        "        self.batch_size = batch_size\n",
        "        self.policy_epochs = policy_epochs\n",
        "        self.entropy_coef = entropy_coef\n",
        "\n",
        "    def act(self, state):\n",
        "        logits = self.actor(state)\n",
        "        dist = Categorical(logits=logits)\n",
        "        action = dist.sample()\n",
        "        log_prob = dist.log_prob(action)\n",
        "        return action, log_prob\n",
        "\n",
        "    def evaluate_actions(self, state, action):\n",
        "        logits = self.actor(state)\n",
        "        dist = Categorical(logits=logits)\n",
        "        log_prob = dist.log_prob(action.squeeze(-1)).view(-1, 1)\n",
        "        entropy = dist.entropy().view(-1, 1)\n",
        "        return log_prob, entropy\n",
        "\n",
        "    def update(self, rollouts):\n",
        "        for epoch in range(self.policy_epochs):\n",
        "            data = rollouts.batch_sampler(self.batch_size)\n",
        "\n",
        "            for sample in data:\n",
        "                actions_batch, returns_batch, obs_batch = sample\n",
        "\n",
        "                log_probs_batch, entropy_batch = self.evaluate_actions(obs_batch, actions_batch)\n",
        "\n",
        "                policy_loss = -(log_probs_batch * returns_batch).mean()\n",
        "                entropy_loss = -entropy_batch.mean()\n",
        "\n",
        "                loss = policy_loss + self.entropy_coef * entropy_loss\n",
        "\n",
        "                self.optimizer.zero_grad()\n",
        "                loss.backward(retain_graph=False)\n",
        "                self.optimizer.step()\n",
        "\n",
        "    @property\n",
        "    def num_params(self):\n",
        "        return sum(p.numel() for p in self.actor.parameters())"
      ]
    },
    {
      "cell_type": "code",
      "execution_count": null,
      "metadata": {
        "id": "N2A-ka4-MmOt"
      },
      "outputs": [],
      "source": [
        "hidden_dim = 32         # dimension of the hidden state in actor network\n",
        "learning_rate = 1e-3     # learning rate of policy update\n",
        "batch_size = 1024        # batch size for policy update\n",
        "policy_epochs = 4        # number of epochs per policy update\n",
        "entropy_coef = 0.001     # hyperparameter to vary the contribution of entropy loss\n",
        "\n",
        "rollout_size = 2050      # number of collected rollout steps per policy update\n",
        "num_updates = 50         # number of training policy iterations\n",
        "discount = 0.99          # discount factor\n",
        "plotting_iters = 10      # interval for logging graphs and policy rollouts\n",
        "\n",
        "\n",
        "obs_size = env.observation_space.shape[0]\n",
        "num_actions = env.action_space.n\n",
        "\n",
        "rollouts = RolloutBuffer(rollout_size, obs_size)\n",
        "policy = Policy(obs_size, num_actions,  hidden_dim, learning_rate, batch_size, policy_epochs, entropy_coef)"
      ]
    },
    {
      "cell_type": "code",
      "execution_count": null,
      "metadata": {
        "id": "ZWGTDIE8Plq0"
      },
      "outputs": [],
      "source": [
        "class AverageMeter(object):\n",
        "    \"\"\"Computes and stores the average and current value\"\"\"\n",
        "    def __init__(self):\n",
        "        self.reset()\n",
        "\n",
        "    def reset(self):\n",
        "        self.val = 0\n",
        "        self.avg = 0\n",
        "        self.sum = 0\n",
        "        self.count = 0\n",
        "\n",
        "    def update(self, val, n=1):\n",
        "        self.val = val\n",
        "        self.sum += val * n\n",
        "        self.count += n\n",
        "        self.avg = self.sum / self.count"
      ]
    },
    {
      "cell_type": "code",
      "execution_count": null,
      "metadata": {
        "id": "wUSzhix-Mopb"
      },
      "outputs": [],
      "source": [
        "def train(env, rollouts, policy, num_updates, discount, plotting_iters):\n",
        "    np.random.seed(SEED)\n",
        "    torch.manual_seed(SEED)\n",
        "\n",
        "    rollout_time, update_time = utils.AverageMeter(), utils.AverageMeter()  # Loggers\n",
        "    rewards, success_rate = [], []\n",
        "\n",
        "    print(\"Training model with {} parameters...\".format(policy.num_params))\n",
        "\n",
        "    # Training Loop\n",
        "    for j in range(num_updates):\n",
        "        ## Initialization\n",
        "        avg_eps_reward, avg_success_rate = utils.AverageMeter(), utils.AverageMeter()\n",
        "        done = False\n",
        "\n",
        "        env.seed(SEED)\n",
        "        prev_obs = env.reset()\n",
        "        prev_obs = torch.tensor(prev_obs, dtype=torch.float32)\n",
        "        eps_reward = 0.\n",
        "        start_time = time.time()\n",
        "\n",
        "        ## Collect rollouts\n",
        "        for step in range(rollouts.rollout_size):\n",
        "            if done:\n",
        "                # Store episode statistics\n",
        "                avg_eps_reward.update(eps_reward)\n",
        "                if 'success' in info:\n",
        "                    avg_success_rate.update(int(info['success']))\n",
        "\n",
        "                # Reset Environment\n",
        "                obs = env.reset()\n",
        "                obs = torch.tensor(obs, dtype=torch.float32)\n",
        "                eps_reward = 0.\n",
        "            else:\n",
        "                obs = prev_obs\n",
        "\n",
        "            action, log_prob = policy.act(obs)\n",
        "\n",
        "            obs, reward, done, info = env.step(action)\n",
        "\n",
        "            rollouts.insert(step, torch.tensor(done, dtype=torch.float32), action, log_prob, torch.tensor(reward, dtype=torch.float32), prev_obs)\n",
        "\n",
        "            prev_obs = torch.tensor(obs, dtype=torch.float32)\n",
        "            eps_reward += reward\n",
        "\n",
        "        # Use the rollout buffer's function to compute the returns for all stored rollout steps.\n",
        "        rollouts.compute_returns(discount)\n",
        "\n",
        "        rollout_done_time = time.time()\n",
        "\n",
        "\n",
        "        # Call the policy's update function using the collected rollouts\n",
        "        policy.update(rollouts)\n",
        "\n",
        "        update_done_time = time.time()\n",
        "        rollouts.reset()\n",
        "\n",
        "        ## log metrics\n",
        "        rewards.append(avg_eps_reward.avg)\n",
        "\n",
        "        if avg_success_rate.count > 0: success_rate.append(avg_success_rate.avg)\n",
        "\n",
        "        rollout_time.update(rollout_done_time - start_time)\n",
        "        update_time.update(update_done_time - rollout_done_time)\n",
        "        print('it {}: avgR: {:.3f} -- rollout_time: {:.3f}sec -- update_time: {:.3f}sec'.format(j, avg_eps_reward.avg, rollout_time.avg, update_time.avg))\n",
        "\n",
        "        if j % plotting_iters == 0 and j != 0:\n",
        "           utils.plot_learning_curve(rewards, success_rate, num_updates)\n",
        "           #log_policy_rollout(policy, params.env_name, pytorch_policy=True)\n",
        "\n",
        "    clear_output()   # this removes all training outputs to keep the notebook clean, DON'T REMOVE THIS LINE!\n",
        "    return rewards, success_rate #average rewards in each rollout"
      ]
    },
    {
      "cell_type": "code",
      "execution_count": null,
      "metadata": {
        "colab": {
          "base_uri": "https://localhost:8080/",
          "height": 269
        },
        "id": "CN3_BJfbMqfW",
        "outputId": "54ca3d09-d6f2-430f-9d96-119ff2559a7b"
      },
      "outputs": [
        {
          "ename": "NameError",
          "evalue": "name 'utils' is not defined",
          "output_type": "error",
          "traceback": [
            "\u001b[0;31m---------------------------------------------------------------------------\u001b[0m",
            "\u001b[0;31mNameError\u001b[0m                                 Traceback (most recent call last)",
            "\u001b[0;32m<ipython-input-51-5bb42a23334b>\u001b[0m in \u001b[0;36m<cell line: 1>\u001b[0;34m()\u001b[0m\n\u001b[0;32m----> 1\u001b[0;31m \u001b[0mavg_rollout_rewards\u001b[0m\u001b[0;34m,\u001b[0m \u001b[0msuccess_rate\u001b[0m \u001b[0;34m=\u001b[0m \u001b[0mtrain\u001b[0m\u001b[0;34m(\u001b[0m\u001b[0menv\u001b[0m\u001b[0;34m,\u001b[0m \u001b[0mrollouts\u001b[0m\u001b[0;34m,\u001b[0m \u001b[0mpolicy\u001b[0m\u001b[0;34m,\u001b[0m \u001b[0mnum_updates\u001b[0m\u001b[0;34m,\u001b[0m \u001b[0mdiscount\u001b[0m\u001b[0;34m,\u001b[0m \u001b[0mplotting_iters\u001b[0m\u001b[0;34m)\u001b[0m\u001b[0;34m\u001b[0m\u001b[0;34m\u001b[0m\u001b[0m\n\u001b[0m",
            "\u001b[0;32m<ipython-input-50-d8a0331dd40e>\u001b[0m in \u001b[0;36mtrain\u001b[0;34m(env, rollouts, policy, num_updates, discount, plotting_iters)\u001b[0m\n\u001b[1;32m      3\u001b[0m     \u001b[0mtorch\u001b[0m\u001b[0;34m.\u001b[0m\u001b[0mmanual_seed\u001b[0m\u001b[0;34m(\u001b[0m\u001b[0mSEED\u001b[0m\u001b[0;34m)\u001b[0m\u001b[0;34m\u001b[0m\u001b[0;34m\u001b[0m\u001b[0m\n\u001b[1;32m      4\u001b[0m \u001b[0;34m\u001b[0m\u001b[0m\n\u001b[0;32m----> 5\u001b[0;31m     \u001b[0mrollout_time\u001b[0m\u001b[0;34m,\u001b[0m \u001b[0mupdate_time\u001b[0m \u001b[0;34m=\u001b[0m \u001b[0mutils\u001b[0m\u001b[0;34m.\u001b[0m\u001b[0mAverageMeter\u001b[0m\u001b[0;34m(\u001b[0m\u001b[0;34m)\u001b[0m\u001b[0;34m,\u001b[0m \u001b[0mutils\u001b[0m\u001b[0;34m.\u001b[0m\u001b[0mAverageMeter\u001b[0m\u001b[0;34m(\u001b[0m\u001b[0;34m)\u001b[0m  \u001b[0;31m# Loggers\u001b[0m\u001b[0;34m\u001b[0m\u001b[0;34m\u001b[0m\u001b[0m\n\u001b[0m\u001b[1;32m      6\u001b[0m     \u001b[0mrewards\u001b[0m\u001b[0;34m,\u001b[0m \u001b[0msuccess_rate\u001b[0m \u001b[0;34m=\u001b[0m \u001b[0;34m[\u001b[0m\u001b[0;34m]\u001b[0m\u001b[0;34m,\u001b[0m \u001b[0;34m[\u001b[0m\u001b[0;34m]\u001b[0m\u001b[0;34m\u001b[0m\u001b[0;34m\u001b[0m\u001b[0m\n\u001b[1;32m      7\u001b[0m \u001b[0;34m\u001b[0m\u001b[0m\n",
            "\u001b[0;31mNameError\u001b[0m: name 'utils' is not defined"
          ]
        }
      ],
      "source": [
        "avg_rollout_rewards, success_rate = train(env, rollouts, policy, num_updates, discount, plotting_iters)"
      ]
    },
    {
      "cell_type": "markdown",
      "metadata": {
        "id": "iDWDjHqDPPbn"
      },
      "source": [
        "**Evaluación:** Reproduzca un solo episodio en un entorno siguiendo la política dada e informe los resultados.  gym.wrappers.Monitor envuelve un entorno de modo que registra todas las acciones que tienen lugar en el entorno antes de que se alcance un estado terminal. Una vez que se alcanza el estado terminal, la grabación se almacena. Si se inicia un nuevo eposido, el archivo grabado se sobrescribe"
      ]
    }
  ],
  "metadata": {
    "colab": {
      "provenance": []
    },
    "kernelspec": {
      "display_name": "Python 3",
      "name": "python3"
    },
    "language_info": {
      "name": "python"
    }
  },
  "nbformat": 4,
  "nbformat_minor": 0
}
