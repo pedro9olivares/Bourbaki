{
  "cells": [
    {
      "cell_type": "markdown",
      "metadata": {
        "colab_type": "text",
        "id": "view-in-github"
      },
      "source": [
        "<a href=\"https://colab.research.google.com/github/anelglvz/Matematicas_Ciencia_Datos/blob/main/Optimizaci%C3%B3n/Calculo_Opt_Problema_del_Viajante.ipynb\" target=\"_parent\"><img src=\"https://colab.research.google.com/assets/colab-badge.svg\" alt=\"Open In Colab\"/></a>"
      ]
    },
    {
      "cell_type": "markdown",
      "metadata": {
        "id": "mCVD1U5RG7fk"
      },
      "source": [
        "# Introducción"
      ]
    },
    {
      "cell_type": "markdown",
      "metadata": {
        "id": "mEH70AWcz_q4"
      },
      "source": [
        "Utilizaremos programación lineal para resolver el **Problema del Viajante** (Travel Salesman Problem).\n",
        "\n",
        "El problema es encontrar la **ruta más corta que conecta a todas las ciudades**, con las restricciones de que debe ser una única ruta (i.e. no puede haber sub rutas) y sólo se puede entrar y salir de cada ciudad una sola vez.\n",
        "\n",
        "Se crearán las \"coordenadas\" de ciudades ficticias y para medir su distancia se usará la distancia euclideana."
      ]
    },
    {
      "cell_type": "markdown",
      "metadata": {
        "id": "hDsNCo_xz-AN"
      },
      "source": [
        "# Dependencias"
      ]
    },
    {
      "cell_type": "markdown",
      "metadata": {},
      "source": [
        "La documentación de MIP se encuentra en: https://python-mip.readthedocs.io/en/latest/quickstart.html"
      ]
    },
    {
      "cell_type": "code",
      "execution_count": null,
      "metadata": {
        "colab": {
          "base_uri": "https://localhost:8080/"
        },
        "id": "K73usFBCU4Bt",
        "outputId": "1582e59d-90aa-47a3-f944-7cb482bde95d"
      },
      "outputs": [],
      "source": [
        "!pip3 install mip==1.16rc0 # Python-MIP’s latest release candidate version (1.16rc0) includes binaries compatible with M1/M2/M3 processors."
      ]
    },
    {
      "cell_type": "code",
      "execution_count": null,
      "metadata": {
        "colab": {
          "base_uri": "https://localhost:8080/"
        },
        "id": "XEmr366AXhWk",
        "outputId": "46b98ec8-7d60-4677-c680-e0c1ff117689"
      },
      "outputs": [],
      "source": [
        "!pip3 install -U plotly"
      ]
    },
    {
      "cell_type": "code",
      "execution_count": 2,
      "metadata": {
        "id": "tZajVv1NXSXl"
      },
      "outputs": [],
      "source": [
        "import pandas as pd\n",
        "import numpy as np\n",
        "import matplotlib.pyplot as plt\n",
        "\n",
        "\n",
        "from scipy.spatial import distance_matrix\n",
        "\n",
        "from itertools import product\n",
        "from mip import Model, xsum, minimize, BINARY\n",
        "\n",
        "import plotly.express as px\n",
        "import plotly.io as pio"
      ]
    },
    {
      "cell_type": "code",
      "execution_count": 3,
      "metadata": {},
      "outputs": [],
      "source": [
        "np.set_printoptions(legacy='1.25')"
      ]
    },
    {
      "cell_type": "code",
      "execution_count": 4,
      "metadata": {
        "id": "ybQYQteqaJ8e"
      },
      "outputs": [],
      "source": [
        "pio.templates.default = \"plotly_white\""
      ]
    },
    {
      "cell_type": "markdown",
      "metadata": {
        "id": "1IENwnBL2O2e"
      },
      "source": [
        "# Funciones para la visualización de los datos"
      ]
    },
    {
      "cell_type": "code",
      "execution_count": 5,
      "metadata": {
        "id": "lUN7M8d_Z67I"
      },
      "outputs": [],
      "source": [
        "def plot_cities(coords):\n",
        "    fig = px.scatter(coords.reset_index(), 'x', 'y', hover_name='index')\n",
        "    fig.update_traces(marker=dict(size=15,\n",
        "                                line=dict(width=2,\n",
        "                                            color='DarkSlateGrey')),\n",
        "                    selector=dict(mode='markers')\n",
        "                    )\n",
        "    return fig\n",
        "\n",
        "def plot_cities_and_route(points, edges):\n",
        "    fig = plot_cities(points)\n",
        "    for edge in edges:\n",
        "        fig.add_shape(\n",
        "            type = 'line',\n",
        "            x0 = points.loc[f'ciudad_{edge[0]}', 'x'],\n",
        "            x1 = points.loc[f'ciudad_{edge[1]}', 'x'],\n",
        "            y0 = points.loc[f'ciudad_{edge[0]}', 'y'],\n",
        "            y1 = points.loc[f'ciudad_{edge[1]}', 'y'],\n",
        "            line = dict(color = 'rgb(0, 0, 0)'),\n",
        "            opacity = .09,\n",
        "            )\n",
        "        fig.add_scatter(x = [mid_points[edge[0]][edge[1]][0]], y = [mid_points[edge[0]][edge[1]][1]], text = [d[edge[0]][edge[1]]], mode='text')\n",
        "    fig.update_traces(texttemplate='%{text:.2s}', textposition='top right')\n",
        "    fig.update_layout(uniformtext_minsize=8, uniformtext_mode='hide', showlegend=False)\n",
        "    fig.show()"
      ]
    },
    {
      "cell_type": "code",
      "execution_count": 6,
      "metadata": {
        "id": "zqYLNhWL3TKd"
      },
      "outputs": [],
      "source": [
        "def get_middle_points(coords):\n",
        "    return [[((x[0]+y[0])/2, (x[1]+y[1])/2) for _, y in coords.iterrows()] for _, x in coords.iterrows()]"
      ]
    },
    {
      "cell_type": "markdown",
      "metadata": {
        "id": "rzHE8IMz2AqW"
      },
      "source": [
        "# Datos"
      ]
    },
    {
      "cell_type": "markdown",
      "metadata": {
        "id": "YhQfYSMh5IAR"
      },
      "source": [
        "Primero crearemos las ciudades y sus coordenadas"
      ]
    },
    {
      "cell_type": "code",
      "execution_count": 7,
      "metadata": {
        "colab": {
          "base_uri": "https://localhost:8080/",
          "height": 363
        },
        "id": "SqomUA2cYbrb",
        "outputId": "691131c5-4cc6-4c38-88ce-2b0bf09255fa"
      },
      "outputs": [
        {
          "data": {
            "text/html": [
              "<div>\n",
              "<style scoped>\n",
              "    .dataframe tbody tr th:only-of-type {\n",
              "        vertical-align: middle;\n",
              "    }\n",
              "\n",
              "    .dataframe tbody tr th {\n",
              "        vertical-align: top;\n",
              "    }\n",
              "\n",
              "    .dataframe thead th {\n",
              "        text-align: right;\n",
              "    }\n",
              "</style>\n",
              "<table border=\"1\" class=\"dataframe\">\n",
              "  <thead>\n",
              "    <tr style=\"text-align: right;\">\n",
              "      <th></th>\n",
              "      <th>x</th>\n",
              "      <th>y</th>\n",
              "    </tr>\n",
              "  </thead>\n",
              "  <tbody>\n",
              "    <tr>\n",
              "      <th>ciudad_0</th>\n",
              "      <td>9</td>\n",
              "      <td>29</td>\n",
              "    </tr>\n",
              "    <tr>\n",
              "      <th>ciudad_1</th>\n",
              "      <td>4</td>\n",
              "      <td>15</td>\n",
              "    </tr>\n",
              "    <tr>\n",
              "      <th>ciudad_2</th>\n",
              "      <td>0</td>\n",
              "      <td>17</td>\n",
              "    </tr>\n",
              "    <tr>\n",
              "      <th>ciudad_3</th>\n",
              "      <td>27</td>\n",
              "      <td>28</td>\n",
              "    </tr>\n",
              "    <tr>\n",
              "      <th>ciudad_4</th>\n",
              "      <td>25</td>\n",
              "      <td>29</td>\n",
              "    </tr>\n",
              "    <tr>\n",
              "      <th>ciudad_5</th>\n",
              "      <td>16</td>\n",
              "      <td>29</td>\n",
              "    </tr>\n",
              "    <tr>\n",
              "      <th>ciudad_6</th>\n",
              "      <td>17</td>\n",
              "      <td>26</td>\n",
              "    </tr>\n",
              "    <tr>\n",
              "      <th>ciudad_7</th>\n",
              "      <td>8</td>\n",
              "      <td>9</td>\n",
              "    </tr>\n",
              "    <tr>\n",
              "      <th>ciudad_8</th>\n",
              "      <td>0</td>\n",
              "      <td>10</td>\n",
              "    </tr>\n",
              "    <tr>\n",
              "      <th>ciudad_9</th>\n",
              "      <td>8</td>\n",
              "      <td>22</td>\n",
              "    </tr>\n",
              "  </tbody>\n",
              "</table>\n",
              "</div>"
            ],
            "text/plain": [
              "           x   y\n",
              "ciudad_0   9  29\n",
              "ciudad_1   4  15\n",
              "ciudad_2   0  17\n",
              "ciudad_3  27  28\n",
              "ciudad_4  25  29\n",
              "ciudad_5  16  29\n",
              "ciudad_6  17  26\n",
              "ciudad_7   8   9\n",
              "ciudad_8   0  10\n",
              "ciudad_9   8  22"
            ]
          },
          "execution_count": 7,
          "metadata": {},
          "output_type": "execute_result"
        }
      ],
      "source": [
        "np.random.seed(10)\n",
        "\n",
        "n = 10 # número de ciudades\n",
        "\n",
        "points = pd.DataFrame(np.random.randint(0, 30, (n, 2)), columns = ['x', 'y'], index = [f'ciudad_{i}' for i in range(n)])  # coordenadas en el plano cartesiano de cada ciudad\n",
        "points"
      ]
    },
    {
      "cell_type": "markdown",
      "metadata": {
        "id": "JVSBoy055MXq"
      },
      "source": [
        "Obtenemos el punto medio entre cada ciudad"
      ]
    },
    {
      "cell_type": "code",
      "execution_count": 8,
      "metadata": {
        "id": "Op7Pz7Qk3V5M"
      },
      "outputs": [
        {
          "name": "stderr",
          "output_type": "stream",
          "text": [
            "/var/folders/_2/ssn9p4gn1zq96vptrk6db0940000gn/T/ipykernel_7318/2772611435.py:2: FutureWarning: Series.__getitem__ treating keys as positions is deprecated. In a future version, integer keys will always be treated as labels (consistent with DataFrame behavior). To access a value by position, use `ser.iloc[pos]`\n",
            "  return [[((x[0]+y[0])/2, (x[1]+y[1])/2) for _, y in coords.iterrows()] for _, x in coords.iterrows()]\n"
          ]
        }
      ],
      "source": [
        "mid_points = get_middle_points(points)"
      ]
    },
    {
      "cell_type": "code",
      "execution_count": 9,
      "metadata": {
        "colab": {
          "base_uri": "https://localhost:8080/"
        },
        "id": "JhxoKGEGroe5",
        "outputId": "37ed9e87-2159-43ad-f0c4-a551954728f8"
      },
      "outputs": [
        {
          "data": {
            "text/plain": [
              "[[(9.0, 29.0),\n",
              "  (6.5, 22.0),\n",
              "  (4.5, 23.0),\n",
              "  (18.0, 28.5),\n",
              "  (17.0, 29.0),\n",
              "  (12.5, 29.0),\n",
              "  (13.0, 27.5),\n",
              "  (8.5, 19.0),\n",
              "  (4.5, 19.5),\n",
              "  (8.5, 25.5)],\n",
              " [(6.5, 22.0),\n",
              "  (4.0, 15.0),\n",
              "  (2.0, 16.0),\n",
              "  (15.5, 21.5),\n",
              "  (14.5, 22.0),\n",
              "  (10.0, 22.0),\n",
              "  (10.5, 20.5),\n",
              "  (6.0, 12.0),\n",
              "  (2.0, 12.5),\n",
              "  (6.0, 18.5)],\n",
              " [(4.5, 23.0),\n",
              "  (2.0, 16.0),\n",
              "  (0.0, 17.0),\n",
              "  (13.5, 22.5),\n",
              "  (12.5, 23.0),\n",
              "  (8.0, 23.0),\n",
              "  (8.5, 21.5),\n",
              "  (4.0, 13.0),\n",
              "  (0.0, 13.5),\n",
              "  (4.0, 19.5)],\n",
              " [(18.0, 28.5),\n",
              "  (15.5, 21.5),\n",
              "  (13.5, 22.5),\n",
              "  (27.0, 28.0),\n",
              "  (26.0, 28.5),\n",
              "  (21.5, 28.5),\n",
              "  (22.0, 27.0),\n",
              "  (17.5, 18.5),\n",
              "  (13.5, 19.0),\n",
              "  (17.5, 25.0)],\n",
              " [(17.0, 29.0),\n",
              "  (14.5, 22.0),\n",
              "  (12.5, 23.0),\n",
              "  (26.0, 28.5),\n",
              "  (25.0, 29.0),\n",
              "  (20.5, 29.0),\n",
              "  (21.0, 27.5),\n",
              "  (16.5, 19.0),\n",
              "  (12.5, 19.5),\n",
              "  (16.5, 25.5)],\n",
              " [(12.5, 29.0),\n",
              "  (10.0, 22.0),\n",
              "  (8.0, 23.0),\n",
              "  (21.5, 28.5),\n",
              "  (20.5, 29.0),\n",
              "  (16.0, 29.0),\n",
              "  (16.5, 27.5),\n",
              "  (12.0, 19.0),\n",
              "  (8.0, 19.5),\n",
              "  (12.0, 25.5)],\n",
              " [(13.0, 27.5),\n",
              "  (10.5, 20.5),\n",
              "  (8.5, 21.5),\n",
              "  (22.0, 27.0),\n",
              "  (21.0, 27.5),\n",
              "  (16.5, 27.5),\n",
              "  (17.0, 26.0),\n",
              "  (12.5, 17.5),\n",
              "  (8.5, 18.0),\n",
              "  (12.5, 24.0)],\n",
              " [(8.5, 19.0),\n",
              "  (6.0, 12.0),\n",
              "  (4.0, 13.0),\n",
              "  (17.5, 18.5),\n",
              "  (16.5, 19.0),\n",
              "  (12.0, 19.0),\n",
              "  (12.5, 17.5),\n",
              "  (8.0, 9.0),\n",
              "  (4.0, 9.5),\n",
              "  (8.0, 15.5)],\n",
              " [(4.5, 19.5),\n",
              "  (2.0, 12.5),\n",
              "  (0.0, 13.5),\n",
              "  (13.5, 19.0),\n",
              "  (12.5, 19.5),\n",
              "  (8.0, 19.5),\n",
              "  (8.5, 18.0),\n",
              "  (4.0, 9.5),\n",
              "  (0.0, 10.0),\n",
              "  (4.0, 16.0)],\n",
              " [(8.5, 25.5),\n",
              "  (6.0, 18.5),\n",
              "  (4.0, 19.5),\n",
              "  (17.5, 25.0),\n",
              "  (16.5, 25.5),\n",
              "  (12.0, 25.5),\n",
              "  (12.5, 24.0),\n",
              "  (8.0, 15.5),\n",
              "  (4.0, 16.0),\n",
              "  (8.0, 22.0)]]"
            ]
          },
          "execution_count": 9,
          "metadata": {},
          "output_type": "execute_result"
        }
      ],
      "source": [
        "mid_points"
      ]
    },
    {
      "cell_type": "markdown",
      "metadata": {
        "id": "DBet8zI45QK8"
      },
      "source": [
        "Creamos la matriz de distancias"
      ]
    },
    {
      "cell_type": "code",
      "execution_count": 10,
      "metadata": {
        "colab": {
          "base_uri": "https://localhost:8080/"
        },
        "id": "rqEtFqajZ3VL",
        "outputId": "ff891135-0415-42d5-9ff7-b482188abce0"
      },
      "outputs": [
        {
          "data": {
            "text/plain": [
              "array([[ 0.        , 14.86606875, 15.        , 18.02775638, 16.        ,\n",
              "         7.        ,  8.54400375, 20.02498439, 21.02379604,  7.07106781],\n",
              "       [14.86606875,  0.        ,  4.47213595, 26.41968963, 25.23885893,\n",
              "        18.43908891, 17.02938637,  7.21110255,  6.40312424,  8.06225775],\n",
              "       [15.        ,  4.47213595,  0.        , 29.15475947, 27.73084925,\n",
              "        20.        , 19.23538406, 11.3137085 ,  7.        ,  9.43398113],\n",
              "       [18.02775638, 26.41968963, 29.15475947,  0.        ,  2.23606798,\n",
              "        11.04536102, 10.19803903, 26.87005769, 32.44996148, 19.92485885],\n",
              "       [16.        , 25.23885893, 27.73084925,  2.23606798,  0.        ,\n",
              "         9.        ,  8.54400375, 26.2488095 , 31.40063694, 18.38477631],\n",
              "       [ 7.        , 18.43908891, 20.        , 11.04536102,  9.        ,\n",
              "         0.        ,  3.16227766, 21.54065923, 24.8394847 , 10.63014581],\n",
              "       [ 8.54400375, 17.02938637, 19.23538406, 10.19803903,  8.54400375,\n",
              "         3.16227766,  0.        , 19.23538406, 23.34523506,  9.8488578 ],\n",
              "       [20.02498439,  7.21110255, 11.3137085 , 26.87005769, 26.2488095 ,\n",
              "        21.54065923, 19.23538406,  0.        ,  8.06225775, 13.        ],\n",
              "       [21.02379604,  6.40312424,  7.        , 32.44996148, 31.40063694,\n",
              "        24.8394847 , 23.34523506,  8.06225775,  0.        , 14.4222051 ],\n",
              "       [ 7.07106781,  8.06225775,  9.43398113, 19.92485885, 18.38477631,\n",
              "        10.63014581,  9.8488578 , 13.        , 14.4222051 ,  0.        ]])"
            ]
          },
          "execution_count": 10,
          "metadata": {},
          "output_type": "execute_result"
        }
      ],
      "source": [
        "d = distance_matrix(points, points)  # Distancia entre las ciudades\n",
        "d"
      ]
    },
    {
      "cell_type": "markdown",
      "metadata": {
        "id": "_HTrxK-V49WA"
      },
      "source": [
        "## Visualización de los datos"
      ]
    },
    {
      "cell_type": "code",
      "execution_count": 11,
      "metadata": {
        "colab": {
          "base_uri": "https://localhost:8080/",
          "height": 542
        },
        "id": "3zIfF-pE2d1R",
        "outputId": "f9b509ec-1434-45a4-b415-edfc38f665d6"
      },
      "outputs": [
        {
          "data": {
            "application/vnd.plotly.v1+json": {
              "config": {
                "plotlyServerURL": "https://plot.ly"
              },
              "data": [
                {
                  "hovertemplate": "<b>%{hovertext}</b><br><br>x=%{x}<br>y=%{y}<extra></extra>",
                  "hovertext": [
                    "ciudad_0",
                    "ciudad_1",
                    "ciudad_2",
                    "ciudad_3",
                    "ciudad_4",
                    "ciudad_5",
                    "ciudad_6",
                    "ciudad_7",
                    "ciudad_8",
                    "ciudad_9"
                  ],
                  "legendgroup": "",
                  "marker": {
                    "color": "#636efa",
                    "line": {
                      "color": "DarkSlateGrey",
                      "width": 2
                    },
                    "size": 15,
                    "symbol": "circle"
                  },
                  "mode": "markers",
                  "name": "",
                  "orientation": "v",
                  "showlegend": false,
                  "textposition": "top right",
                  "texttemplate": "%{text:.2s}",
                  "type": "scatter",
                  "x": [
                    9,
                    4,
                    0,
                    27,
                    25,
                    16,
                    17,
                    8,
                    0,
                    8
                  ],
                  "xaxis": "x",
                  "y": [
                    29,
                    15,
                    17,
                    28,
                    29,
                    29,
                    26,
                    9,
                    10,
                    22
                  ],
                  "yaxis": "y"
                },
                {
                  "mode": "text",
                  "text": [
                    "0.0"
                  ],
                  "textposition": "top right",
                  "texttemplate": "%{text:.2s}",
                  "type": "scatter",
                  "x": [
                    9
                  ],
                  "y": [
                    29
                  ]
                },
                {
                  "mode": "text",
                  "text": [
                    "14.866068747318506"
                  ],
                  "textposition": "top right",
                  "texttemplate": "%{text:.2s}",
                  "type": "scatter",
                  "x": [
                    6.5
                  ],
                  "y": [
                    22
                  ]
                },
                {
                  "mode": "text",
                  "text": [
                    "15.0"
                  ],
                  "textposition": "top right",
                  "texttemplate": "%{text:.2s}",
                  "type": "scatter",
                  "x": [
                    4.5
                  ],
                  "y": [
                    23
                  ]
                },
                {
                  "mode": "text",
                  "text": [
                    "18.027756377319946"
                  ],
                  "textposition": "top right",
                  "texttemplate": "%{text:.2s}",
                  "type": "scatter",
                  "x": [
                    18
                  ],
                  "y": [
                    28.5
                  ]
                },
                {
                  "mode": "text",
                  "text": [
                    "16.0"
                  ],
                  "textposition": "top right",
                  "texttemplate": "%{text:.2s}",
                  "type": "scatter",
                  "x": [
                    17
                  ],
                  "y": [
                    29
                  ]
                },
                {
                  "mode": "text",
                  "text": [
                    "7.0"
                  ],
                  "textposition": "top right",
                  "texttemplate": "%{text:.2s}",
                  "type": "scatter",
                  "x": [
                    12.5
                  ],
                  "y": [
                    29
                  ]
                },
                {
                  "mode": "text",
                  "text": [
                    "8.54400374531753"
                  ],
                  "textposition": "top right",
                  "texttemplate": "%{text:.2s}",
                  "type": "scatter",
                  "x": [
                    13
                  ],
                  "y": [
                    27.5
                  ]
                },
                {
                  "mode": "text",
                  "text": [
                    "20.024984394500787"
                  ],
                  "textposition": "top right",
                  "texttemplate": "%{text:.2s}",
                  "type": "scatter",
                  "x": [
                    8.5
                  ],
                  "y": [
                    19
                  ]
                },
                {
                  "mode": "text",
                  "text": [
                    "21.02379604162864"
                  ],
                  "textposition": "top right",
                  "texttemplate": "%{text:.2s}",
                  "type": "scatter",
                  "x": [
                    4.5
                  ],
                  "y": [
                    19.5
                  ]
                },
                {
                  "mode": "text",
                  "text": [
                    "7.0710678118654755"
                  ],
                  "textposition": "top right",
                  "texttemplate": "%{text:.2s}",
                  "type": "scatter",
                  "x": [
                    8.5
                  ],
                  "y": [
                    25.5
                  ]
                },
                {
                  "mode": "text",
                  "text": [
                    "14.866068747318506"
                  ],
                  "textposition": "top right",
                  "texttemplate": "%{text:.2s}",
                  "type": "scatter",
                  "x": [
                    6.5
                  ],
                  "y": [
                    22
                  ]
                },
                {
                  "mode": "text",
                  "text": [
                    "0.0"
                  ],
                  "textposition": "top right",
                  "texttemplate": "%{text:.2s}",
                  "type": "scatter",
                  "x": [
                    4
                  ],
                  "y": [
                    15
                  ]
                },
                {
                  "mode": "text",
                  "text": [
                    "4.47213595499958"
                  ],
                  "textposition": "top right",
                  "texttemplate": "%{text:.2s}",
                  "type": "scatter",
                  "x": [
                    2
                  ],
                  "y": [
                    16
                  ]
                },
                {
                  "mode": "text",
                  "text": [
                    "26.419689627245813"
                  ],
                  "textposition": "top right",
                  "texttemplate": "%{text:.2s}",
                  "type": "scatter",
                  "x": [
                    15.5
                  ],
                  "y": [
                    21.5
                  ]
                },
                {
                  "mode": "text",
                  "text": [
                    "25.238858928247925"
                  ],
                  "textposition": "top right",
                  "texttemplate": "%{text:.2s}",
                  "type": "scatter",
                  "x": [
                    14.5
                  ],
                  "y": [
                    22
                  ]
                },
                {
                  "mode": "text",
                  "text": [
                    "18.439088914585774"
                  ],
                  "textposition": "top right",
                  "texttemplate": "%{text:.2s}",
                  "type": "scatter",
                  "x": [
                    10
                  ],
                  "y": [
                    22
                  ]
                },
                {
                  "mode": "text",
                  "text": [
                    "17.029386365926403"
                  ],
                  "textposition": "top right",
                  "texttemplate": "%{text:.2s}",
                  "type": "scatter",
                  "x": [
                    10.5
                  ],
                  "y": [
                    20.5
                  ]
                },
                {
                  "mode": "text",
                  "text": [
                    "7.211102550927978"
                  ],
                  "textposition": "top right",
                  "texttemplate": "%{text:.2s}",
                  "type": "scatter",
                  "x": [
                    6
                  ],
                  "y": [
                    12
                  ]
                },
                {
                  "mode": "text",
                  "text": [
                    "6.4031242374328485"
                  ],
                  "textposition": "top right",
                  "texttemplate": "%{text:.2s}",
                  "type": "scatter",
                  "x": [
                    2
                  ],
                  "y": [
                    12.5
                  ]
                },
                {
                  "mode": "text",
                  "text": [
                    "8.06225774829855"
                  ],
                  "textposition": "top right",
                  "texttemplate": "%{text:.2s}",
                  "type": "scatter",
                  "x": [
                    6
                  ],
                  "y": [
                    18.5
                  ]
                },
                {
                  "mode": "text",
                  "text": [
                    "15.0"
                  ],
                  "textposition": "top right",
                  "texttemplate": "%{text:.2s}",
                  "type": "scatter",
                  "x": [
                    4.5
                  ],
                  "y": [
                    23
                  ]
                },
                {
                  "mode": "text",
                  "text": [
                    "4.47213595499958"
                  ],
                  "textposition": "top right",
                  "texttemplate": "%{text:.2s}",
                  "type": "scatter",
                  "x": [
                    2
                  ],
                  "y": [
                    16
                  ]
                },
                {
                  "mode": "text",
                  "text": [
                    "0.0"
                  ],
                  "textposition": "top right",
                  "texttemplate": "%{text:.2s}",
                  "type": "scatter",
                  "x": [
                    0
                  ],
                  "y": [
                    17
                  ]
                },
                {
                  "mode": "text",
                  "text": [
                    "29.154759474226502"
                  ],
                  "textposition": "top right",
                  "texttemplate": "%{text:.2s}",
                  "type": "scatter",
                  "x": [
                    13.5
                  ],
                  "y": [
                    22.5
                  ]
                },
                {
                  "mode": "text",
                  "text": [
                    "27.730849247724095"
                  ],
                  "textposition": "top right",
                  "texttemplate": "%{text:.2s}",
                  "type": "scatter",
                  "x": [
                    12.5
                  ],
                  "y": [
                    23
                  ]
                },
                {
                  "mode": "text",
                  "text": [
                    "20.0"
                  ],
                  "textposition": "top right",
                  "texttemplate": "%{text:.2s}",
                  "type": "scatter",
                  "x": [
                    8
                  ],
                  "y": [
                    23
                  ]
                },
                {
                  "mode": "text",
                  "text": [
                    "19.235384061671343"
                  ],
                  "textposition": "top right",
                  "texttemplate": "%{text:.2s}",
                  "type": "scatter",
                  "x": [
                    8.5
                  ],
                  "y": [
                    21.5
                  ]
                },
                {
                  "mode": "text",
                  "text": [
                    "11.313708498984761"
                  ],
                  "textposition": "top right",
                  "texttemplate": "%{text:.2s}",
                  "type": "scatter",
                  "x": [
                    4
                  ],
                  "y": [
                    13
                  ]
                },
                {
                  "mode": "text",
                  "text": [
                    "7.0"
                  ],
                  "textposition": "top right",
                  "texttemplate": "%{text:.2s}",
                  "type": "scatter",
                  "x": [
                    0
                  ],
                  "y": [
                    13.5
                  ]
                },
                {
                  "mode": "text",
                  "text": [
                    "9.433981132056603"
                  ],
                  "textposition": "top right",
                  "texttemplate": "%{text:.2s}",
                  "type": "scatter",
                  "x": [
                    4
                  ],
                  "y": [
                    19.5
                  ]
                },
                {
                  "mode": "text",
                  "text": [
                    "18.027756377319946"
                  ],
                  "textposition": "top right",
                  "texttemplate": "%{text:.2s}",
                  "type": "scatter",
                  "x": [
                    18
                  ],
                  "y": [
                    28.5
                  ]
                },
                {
                  "mode": "text",
                  "text": [
                    "26.419689627245813"
                  ],
                  "textposition": "top right",
                  "texttemplate": "%{text:.2s}",
                  "type": "scatter",
                  "x": [
                    15.5
                  ],
                  "y": [
                    21.5
                  ]
                },
                {
                  "mode": "text",
                  "text": [
                    "29.154759474226502"
                  ],
                  "textposition": "top right",
                  "texttemplate": "%{text:.2s}",
                  "type": "scatter",
                  "x": [
                    13.5
                  ],
                  "y": [
                    22.5
                  ]
                },
                {
                  "mode": "text",
                  "text": [
                    "0.0"
                  ],
                  "textposition": "top right",
                  "texttemplate": "%{text:.2s}",
                  "type": "scatter",
                  "x": [
                    27
                  ],
                  "y": [
                    28
                  ]
                },
                {
                  "mode": "text",
                  "text": [
                    "2.23606797749979"
                  ],
                  "textposition": "top right",
                  "texttemplate": "%{text:.2s}",
                  "type": "scatter",
                  "x": [
                    26
                  ],
                  "y": [
                    28.5
                  ]
                },
                {
                  "mode": "text",
                  "text": [
                    "11.045361017187261"
                  ],
                  "textposition": "top right",
                  "texttemplate": "%{text:.2s}",
                  "type": "scatter",
                  "x": [
                    21.5
                  ],
                  "y": [
                    28.5
                  ]
                },
                {
                  "mode": "text",
                  "text": [
                    "10.198039027185569"
                  ],
                  "textposition": "top right",
                  "texttemplate": "%{text:.2s}",
                  "type": "scatter",
                  "x": [
                    22
                  ],
                  "y": [
                    27
                  ]
                },
                {
                  "mode": "text",
                  "text": [
                    "26.870057685088806"
                  ],
                  "textposition": "top right",
                  "texttemplate": "%{text:.2s}",
                  "type": "scatter",
                  "x": [
                    17.5
                  ],
                  "y": [
                    18.5
                  ]
                },
                {
                  "mode": "text",
                  "text": [
                    "32.449961479175904"
                  ],
                  "textposition": "top right",
                  "texttemplate": "%{text:.2s}",
                  "type": "scatter",
                  "x": [
                    13.5
                  ],
                  "y": [
                    19
                  ]
                },
                {
                  "mode": "text",
                  "text": [
                    "19.924858845171276"
                  ],
                  "textposition": "top right",
                  "texttemplate": "%{text:.2s}",
                  "type": "scatter",
                  "x": [
                    17.5
                  ],
                  "y": [
                    25
                  ]
                },
                {
                  "mode": "text",
                  "text": [
                    "16.0"
                  ],
                  "textposition": "top right",
                  "texttemplate": "%{text:.2s}",
                  "type": "scatter",
                  "x": [
                    17
                  ],
                  "y": [
                    29
                  ]
                },
                {
                  "mode": "text",
                  "text": [
                    "25.238858928247925"
                  ],
                  "textposition": "top right",
                  "texttemplate": "%{text:.2s}",
                  "type": "scatter",
                  "x": [
                    14.5
                  ],
                  "y": [
                    22
                  ]
                },
                {
                  "mode": "text",
                  "text": [
                    "27.730849247724095"
                  ],
                  "textposition": "top right",
                  "texttemplate": "%{text:.2s}",
                  "type": "scatter",
                  "x": [
                    12.5
                  ],
                  "y": [
                    23
                  ]
                },
                {
                  "mode": "text",
                  "text": [
                    "2.23606797749979"
                  ],
                  "textposition": "top right",
                  "texttemplate": "%{text:.2s}",
                  "type": "scatter",
                  "x": [
                    26
                  ],
                  "y": [
                    28.5
                  ]
                },
                {
                  "mode": "text",
                  "text": [
                    "0.0"
                  ],
                  "textposition": "top right",
                  "texttemplate": "%{text:.2s}",
                  "type": "scatter",
                  "x": [
                    25
                  ],
                  "y": [
                    29
                  ]
                },
                {
                  "mode": "text",
                  "text": [
                    "9.0"
                  ],
                  "textposition": "top right",
                  "texttemplate": "%{text:.2s}",
                  "type": "scatter",
                  "x": [
                    20.5
                  ],
                  "y": [
                    29
                  ]
                },
                {
                  "mode": "text",
                  "text": [
                    "8.54400374531753"
                  ],
                  "textposition": "top right",
                  "texttemplate": "%{text:.2s}",
                  "type": "scatter",
                  "x": [
                    21
                  ],
                  "y": [
                    27.5
                  ]
                },
                {
                  "mode": "text",
                  "text": [
                    "26.248809496813376"
                  ],
                  "textposition": "top right",
                  "texttemplate": "%{text:.2s}",
                  "type": "scatter",
                  "x": [
                    16.5
                  ],
                  "y": [
                    19
                  ]
                },
                {
                  "mode": "text",
                  "text": [
                    "31.400636936215164"
                  ],
                  "textposition": "top right",
                  "texttemplate": "%{text:.2s}",
                  "type": "scatter",
                  "x": [
                    12.5
                  ],
                  "y": [
                    19.5
                  ]
                },
                {
                  "mode": "text",
                  "text": [
                    "18.384776310850235"
                  ],
                  "textposition": "top right",
                  "texttemplate": "%{text:.2s}",
                  "type": "scatter",
                  "x": [
                    16.5
                  ],
                  "y": [
                    25.5
                  ]
                },
                {
                  "mode": "text",
                  "text": [
                    "7.0"
                  ],
                  "textposition": "top right",
                  "texttemplate": "%{text:.2s}",
                  "type": "scatter",
                  "x": [
                    12.5
                  ],
                  "y": [
                    29
                  ]
                },
                {
                  "mode": "text",
                  "text": [
                    "18.439088914585774"
                  ],
                  "textposition": "top right",
                  "texttemplate": "%{text:.2s}",
                  "type": "scatter",
                  "x": [
                    10
                  ],
                  "y": [
                    22
                  ]
                },
                {
                  "mode": "text",
                  "text": [
                    "20.0"
                  ],
                  "textposition": "top right",
                  "texttemplate": "%{text:.2s}",
                  "type": "scatter",
                  "x": [
                    8
                  ],
                  "y": [
                    23
                  ]
                },
                {
                  "mode": "text",
                  "text": [
                    "11.045361017187261"
                  ],
                  "textposition": "top right",
                  "texttemplate": "%{text:.2s}",
                  "type": "scatter",
                  "x": [
                    21.5
                  ],
                  "y": [
                    28.5
                  ]
                },
                {
                  "mode": "text",
                  "text": [
                    "9.0"
                  ],
                  "textposition": "top right",
                  "texttemplate": "%{text:.2s}",
                  "type": "scatter",
                  "x": [
                    20.5
                  ],
                  "y": [
                    29
                  ]
                },
                {
                  "mode": "text",
                  "text": [
                    "0.0"
                  ],
                  "textposition": "top right",
                  "texttemplate": "%{text:.2s}",
                  "type": "scatter",
                  "x": [
                    16
                  ],
                  "y": [
                    29
                  ]
                },
                {
                  "mode": "text",
                  "text": [
                    "3.1622776601683795"
                  ],
                  "textposition": "top right",
                  "texttemplate": "%{text:.2s}",
                  "type": "scatter",
                  "x": [
                    16.5
                  ],
                  "y": [
                    27.5
                  ]
                },
                {
                  "mode": "text",
                  "text": [
                    "21.540659228538015"
                  ],
                  "textposition": "top right",
                  "texttemplate": "%{text:.2s}",
                  "type": "scatter",
                  "x": [
                    12
                  ],
                  "y": [
                    19
                  ]
                },
                {
                  "mode": "text",
                  "text": [
                    "24.839484696748443"
                  ],
                  "textposition": "top right",
                  "texttemplate": "%{text:.2s}",
                  "type": "scatter",
                  "x": [
                    8
                  ],
                  "y": [
                    19.5
                  ]
                },
                {
                  "mode": "text",
                  "text": [
                    "10.63014581273465"
                  ],
                  "textposition": "top right",
                  "texttemplate": "%{text:.2s}",
                  "type": "scatter",
                  "x": [
                    12
                  ],
                  "y": [
                    25.5
                  ]
                },
                {
                  "mode": "text",
                  "text": [
                    "8.54400374531753"
                  ],
                  "textposition": "top right",
                  "texttemplate": "%{text:.2s}",
                  "type": "scatter",
                  "x": [
                    13
                  ],
                  "y": [
                    27.5
                  ]
                },
                {
                  "mode": "text",
                  "text": [
                    "17.029386365926403"
                  ],
                  "textposition": "top right",
                  "texttemplate": "%{text:.2s}",
                  "type": "scatter",
                  "x": [
                    10.5
                  ],
                  "y": [
                    20.5
                  ]
                },
                {
                  "mode": "text",
                  "text": [
                    "19.235384061671343"
                  ],
                  "textposition": "top right",
                  "texttemplate": "%{text:.2s}",
                  "type": "scatter",
                  "x": [
                    8.5
                  ],
                  "y": [
                    21.5
                  ]
                },
                {
                  "mode": "text",
                  "text": [
                    "10.198039027185569"
                  ],
                  "textposition": "top right",
                  "texttemplate": "%{text:.2s}",
                  "type": "scatter",
                  "x": [
                    22
                  ],
                  "y": [
                    27
                  ]
                },
                {
                  "mode": "text",
                  "text": [
                    "8.54400374531753"
                  ],
                  "textposition": "top right",
                  "texttemplate": "%{text:.2s}",
                  "type": "scatter",
                  "x": [
                    21
                  ],
                  "y": [
                    27.5
                  ]
                },
                {
                  "mode": "text",
                  "text": [
                    "3.1622776601683795"
                  ],
                  "textposition": "top right",
                  "texttemplate": "%{text:.2s}",
                  "type": "scatter",
                  "x": [
                    16.5
                  ],
                  "y": [
                    27.5
                  ]
                },
                {
                  "mode": "text",
                  "text": [
                    "0.0"
                  ],
                  "textposition": "top right",
                  "texttemplate": "%{text:.2s}",
                  "type": "scatter",
                  "x": [
                    17
                  ],
                  "y": [
                    26
                  ]
                },
                {
                  "mode": "text",
                  "text": [
                    "19.235384061671343"
                  ],
                  "textposition": "top right",
                  "texttemplate": "%{text:.2s}",
                  "type": "scatter",
                  "x": [
                    12.5
                  ],
                  "y": [
                    17.5
                  ]
                },
                {
                  "mode": "text",
                  "text": [
                    "23.345235059857504"
                  ],
                  "textposition": "top right",
                  "texttemplate": "%{text:.2s}",
                  "type": "scatter",
                  "x": [
                    8.5
                  ],
                  "y": [
                    18
                  ]
                },
                {
                  "mode": "text",
                  "text": [
                    "9.848857801796104"
                  ],
                  "textposition": "top right",
                  "texttemplate": "%{text:.2s}",
                  "type": "scatter",
                  "x": [
                    12.5
                  ],
                  "y": [
                    24
                  ]
                },
                {
                  "mode": "text",
                  "text": [
                    "20.024984394500787"
                  ],
                  "textposition": "top right",
                  "texttemplate": "%{text:.2s}",
                  "type": "scatter",
                  "x": [
                    8.5
                  ],
                  "y": [
                    19
                  ]
                },
                {
                  "mode": "text",
                  "text": [
                    "7.211102550927978"
                  ],
                  "textposition": "top right",
                  "texttemplate": "%{text:.2s}",
                  "type": "scatter",
                  "x": [
                    6
                  ],
                  "y": [
                    12
                  ]
                },
                {
                  "mode": "text",
                  "text": [
                    "11.313708498984761"
                  ],
                  "textposition": "top right",
                  "texttemplate": "%{text:.2s}",
                  "type": "scatter",
                  "x": [
                    4
                  ],
                  "y": [
                    13
                  ]
                },
                {
                  "mode": "text",
                  "text": [
                    "26.870057685088806"
                  ],
                  "textposition": "top right",
                  "texttemplate": "%{text:.2s}",
                  "type": "scatter",
                  "x": [
                    17.5
                  ],
                  "y": [
                    18.5
                  ]
                },
                {
                  "mode": "text",
                  "text": [
                    "26.248809496813376"
                  ],
                  "textposition": "top right",
                  "texttemplate": "%{text:.2s}",
                  "type": "scatter",
                  "x": [
                    16.5
                  ],
                  "y": [
                    19
                  ]
                },
                {
                  "mode": "text",
                  "text": [
                    "21.540659228538015"
                  ],
                  "textposition": "top right",
                  "texttemplate": "%{text:.2s}",
                  "type": "scatter",
                  "x": [
                    12
                  ],
                  "y": [
                    19
                  ]
                },
                {
                  "mode": "text",
                  "text": [
                    "19.235384061671343"
                  ],
                  "textposition": "top right",
                  "texttemplate": "%{text:.2s}",
                  "type": "scatter",
                  "x": [
                    12.5
                  ],
                  "y": [
                    17.5
                  ]
                },
                {
                  "mode": "text",
                  "text": [
                    "0.0"
                  ],
                  "textposition": "top right",
                  "texttemplate": "%{text:.2s}",
                  "type": "scatter",
                  "x": [
                    8
                  ],
                  "y": [
                    9
                  ]
                },
                {
                  "mode": "text",
                  "text": [
                    "8.06225774829855"
                  ],
                  "textposition": "top right",
                  "texttemplate": "%{text:.2s}",
                  "type": "scatter",
                  "x": [
                    4
                  ],
                  "y": [
                    9.5
                  ]
                },
                {
                  "mode": "text",
                  "text": [
                    "13.0"
                  ],
                  "textposition": "top right",
                  "texttemplate": "%{text:.2s}",
                  "type": "scatter",
                  "x": [
                    8
                  ],
                  "y": [
                    15.5
                  ]
                },
                {
                  "mode": "text",
                  "text": [
                    "21.02379604162864"
                  ],
                  "textposition": "top right",
                  "texttemplate": "%{text:.2s}",
                  "type": "scatter",
                  "x": [
                    4.5
                  ],
                  "y": [
                    19.5
                  ]
                },
                {
                  "mode": "text",
                  "text": [
                    "6.4031242374328485"
                  ],
                  "textposition": "top right",
                  "texttemplate": "%{text:.2s}",
                  "type": "scatter",
                  "x": [
                    2
                  ],
                  "y": [
                    12.5
                  ]
                },
                {
                  "mode": "text",
                  "text": [
                    "7.0"
                  ],
                  "textposition": "top right",
                  "texttemplate": "%{text:.2s}",
                  "type": "scatter",
                  "x": [
                    0
                  ],
                  "y": [
                    13.5
                  ]
                },
                {
                  "mode": "text",
                  "text": [
                    "32.449961479175904"
                  ],
                  "textposition": "top right",
                  "texttemplate": "%{text:.2s}",
                  "type": "scatter",
                  "x": [
                    13.5
                  ],
                  "y": [
                    19
                  ]
                },
                {
                  "mode": "text",
                  "text": [
                    "31.400636936215164"
                  ],
                  "textposition": "top right",
                  "texttemplate": "%{text:.2s}",
                  "type": "scatter",
                  "x": [
                    12.5
                  ],
                  "y": [
                    19.5
                  ]
                },
                {
                  "mode": "text",
                  "text": [
                    "24.839484696748443"
                  ],
                  "textposition": "top right",
                  "texttemplate": "%{text:.2s}",
                  "type": "scatter",
                  "x": [
                    8
                  ],
                  "y": [
                    19.5
                  ]
                },
                {
                  "mode": "text",
                  "text": [
                    "23.345235059857504"
                  ],
                  "textposition": "top right",
                  "texttemplate": "%{text:.2s}",
                  "type": "scatter",
                  "x": [
                    8.5
                  ],
                  "y": [
                    18
                  ]
                },
                {
                  "mode": "text",
                  "text": [
                    "8.06225774829855"
                  ],
                  "textposition": "top right",
                  "texttemplate": "%{text:.2s}",
                  "type": "scatter",
                  "x": [
                    4
                  ],
                  "y": [
                    9.5
                  ]
                },
                {
                  "mode": "text",
                  "text": [
                    "0.0"
                  ],
                  "textposition": "top right",
                  "texttemplate": "%{text:.2s}",
                  "type": "scatter",
                  "x": [
                    0
                  ],
                  "y": [
                    10
                  ]
                },
                {
                  "mode": "text",
                  "text": [
                    "14.422205101855956"
                  ],
                  "textposition": "top right",
                  "texttemplate": "%{text:.2s}",
                  "type": "scatter",
                  "x": [
                    4
                  ],
                  "y": [
                    16
                  ]
                },
                {
                  "mode": "text",
                  "text": [
                    "7.0710678118654755"
                  ],
                  "textposition": "top right",
                  "texttemplate": "%{text:.2s}",
                  "type": "scatter",
                  "x": [
                    8.5
                  ],
                  "y": [
                    25.5
                  ]
                },
                {
                  "mode": "text",
                  "text": [
                    "8.06225774829855"
                  ],
                  "textposition": "top right",
                  "texttemplate": "%{text:.2s}",
                  "type": "scatter",
                  "x": [
                    6
                  ],
                  "y": [
                    18.5
                  ]
                },
                {
                  "mode": "text",
                  "text": [
                    "9.433981132056603"
                  ],
                  "textposition": "top right",
                  "texttemplate": "%{text:.2s}",
                  "type": "scatter",
                  "x": [
                    4
                  ],
                  "y": [
                    19.5
                  ]
                },
                {
                  "mode": "text",
                  "text": [
                    "19.924858845171276"
                  ],
                  "textposition": "top right",
                  "texttemplate": "%{text:.2s}",
                  "type": "scatter",
                  "x": [
                    17.5
                  ],
                  "y": [
                    25
                  ]
                },
                {
                  "mode": "text",
                  "text": [
                    "18.384776310850235"
                  ],
                  "textposition": "top right",
                  "texttemplate": "%{text:.2s}",
                  "type": "scatter",
                  "x": [
                    16.5
                  ],
                  "y": [
                    25.5
                  ]
                },
                {
                  "mode": "text",
                  "text": [
                    "10.63014581273465"
                  ],
                  "textposition": "top right",
                  "texttemplate": "%{text:.2s}",
                  "type": "scatter",
                  "x": [
                    12
                  ],
                  "y": [
                    25.5
                  ]
                },
                {
                  "mode": "text",
                  "text": [
                    "9.848857801796104"
                  ],
                  "textposition": "top right",
                  "texttemplate": "%{text:.2s}",
                  "type": "scatter",
                  "x": [
                    12.5
                  ],
                  "y": [
                    24
                  ]
                },
                {
                  "mode": "text",
                  "text": [
                    "13.0"
                  ],
                  "textposition": "top right",
                  "texttemplate": "%{text:.2s}",
                  "type": "scatter",
                  "x": [
                    8
                  ],
                  "y": [
                    15.5
                  ]
                },
                {
                  "mode": "text",
                  "text": [
                    "14.422205101855956"
                  ],
                  "textposition": "top right",
                  "texttemplate": "%{text:.2s}",
                  "type": "scatter",
                  "x": [
                    4
                  ],
                  "y": [
                    16
                  ]
                },
                {
                  "mode": "text",
                  "text": [
                    "0.0"
                  ],
                  "textposition": "top right",
                  "texttemplate": "%{text:.2s}",
                  "type": "scatter",
                  "x": [
                    8
                  ],
                  "y": [
                    22
                  ]
                }
              ],
              "layout": {
                "legend": {
                  "tracegroupgap": 0
                },
                "margin": {
                  "t": 60
                },
                "shapes": [
                  {
                    "line": {
                      "color": "rgb(0, 0, 0)"
                    },
                    "opacity": 0.09,
                    "type": "line",
                    "x0": 9,
                    "x1": 9,
                    "y0": 29,
                    "y1": 29
                  },
                  {
                    "line": {
                      "color": "rgb(0, 0, 0)"
                    },
                    "opacity": 0.09,
                    "type": "line",
                    "x0": 9,
                    "x1": 4,
                    "y0": 29,
                    "y1": 15
                  },
                  {
                    "line": {
                      "color": "rgb(0, 0, 0)"
                    },
                    "opacity": 0.09,
                    "type": "line",
                    "x0": 9,
                    "x1": 0,
                    "y0": 29,
                    "y1": 17
                  },
                  {
                    "line": {
                      "color": "rgb(0, 0, 0)"
                    },
                    "opacity": 0.09,
                    "type": "line",
                    "x0": 9,
                    "x1": 27,
                    "y0": 29,
                    "y1": 28
                  },
                  {
                    "line": {
                      "color": "rgb(0, 0, 0)"
                    },
                    "opacity": 0.09,
                    "type": "line",
                    "x0": 9,
                    "x1": 25,
                    "y0": 29,
                    "y1": 29
                  },
                  {
                    "line": {
                      "color": "rgb(0, 0, 0)"
                    },
                    "opacity": 0.09,
                    "type": "line",
                    "x0": 9,
                    "x1": 16,
                    "y0": 29,
                    "y1": 29
                  },
                  {
                    "line": {
                      "color": "rgb(0, 0, 0)"
                    },
                    "opacity": 0.09,
                    "type": "line",
                    "x0": 9,
                    "x1": 17,
                    "y0": 29,
                    "y1": 26
                  },
                  {
                    "line": {
                      "color": "rgb(0, 0, 0)"
                    },
                    "opacity": 0.09,
                    "type": "line",
                    "x0": 9,
                    "x1": 8,
                    "y0": 29,
                    "y1": 9
                  },
                  {
                    "line": {
                      "color": "rgb(0, 0, 0)"
                    },
                    "opacity": 0.09,
                    "type": "line",
                    "x0": 9,
                    "x1": 0,
                    "y0": 29,
                    "y1": 10
                  },
                  {
                    "line": {
                      "color": "rgb(0, 0, 0)"
                    },
                    "opacity": 0.09,
                    "type": "line",
                    "x0": 9,
                    "x1": 8,
                    "y0": 29,
                    "y1": 22
                  },
                  {
                    "line": {
                      "color": "rgb(0, 0, 0)"
                    },
                    "opacity": 0.09,
                    "type": "line",
                    "x0": 4,
                    "x1": 9,
                    "y0": 15,
                    "y1": 29
                  },
                  {
                    "line": {
                      "color": "rgb(0, 0, 0)"
                    },
                    "opacity": 0.09,
                    "type": "line",
                    "x0": 4,
                    "x1": 4,
                    "y0": 15,
                    "y1": 15
                  },
                  {
                    "line": {
                      "color": "rgb(0, 0, 0)"
                    },
                    "opacity": 0.09,
                    "type": "line",
                    "x0": 4,
                    "x1": 0,
                    "y0": 15,
                    "y1": 17
                  },
                  {
                    "line": {
                      "color": "rgb(0, 0, 0)"
                    },
                    "opacity": 0.09,
                    "type": "line",
                    "x0": 4,
                    "x1": 27,
                    "y0": 15,
                    "y1": 28
                  },
                  {
                    "line": {
                      "color": "rgb(0, 0, 0)"
                    },
                    "opacity": 0.09,
                    "type": "line",
                    "x0": 4,
                    "x1": 25,
                    "y0": 15,
                    "y1": 29
                  },
                  {
                    "line": {
                      "color": "rgb(0, 0, 0)"
                    },
                    "opacity": 0.09,
                    "type": "line",
                    "x0": 4,
                    "x1": 16,
                    "y0": 15,
                    "y1": 29
                  },
                  {
                    "line": {
                      "color": "rgb(0, 0, 0)"
                    },
                    "opacity": 0.09,
                    "type": "line",
                    "x0": 4,
                    "x1": 17,
                    "y0": 15,
                    "y1": 26
                  },
                  {
                    "line": {
                      "color": "rgb(0, 0, 0)"
                    },
                    "opacity": 0.09,
                    "type": "line",
                    "x0": 4,
                    "x1": 8,
                    "y0": 15,
                    "y1": 9
                  },
                  {
                    "line": {
                      "color": "rgb(0, 0, 0)"
                    },
                    "opacity": 0.09,
                    "type": "line",
                    "x0": 4,
                    "x1": 0,
                    "y0": 15,
                    "y1": 10
                  },
                  {
                    "line": {
                      "color": "rgb(0, 0, 0)"
                    },
                    "opacity": 0.09,
                    "type": "line",
                    "x0": 4,
                    "x1": 8,
                    "y0": 15,
                    "y1": 22
                  },
                  {
                    "line": {
                      "color": "rgb(0, 0, 0)"
                    },
                    "opacity": 0.09,
                    "type": "line",
                    "x0": 0,
                    "x1": 9,
                    "y0": 17,
                    "y1": 29
                  },
                  {
                    "line": {
                      "color": "rgb(0, 0, 0)"
                    },
                    "opacity": 0.09,
                    "type": "line",
                    "x0": 0,
                    "x1": 4,
                    "y0": 17,
                    "y1": 15
                  },
                  {
                    "line": {
                      "color": "rgb(0, 0, 0)"
                    },
                    "opacity": 0.09,
                    "type": "line",
                    "x0": 0,
                    "x1": 0,
                    "y0": 17,
                    "y1": 17
                  },
                  {
                    "line": {
                      "color": "rgb(0, 0, 0)"
                    },
                    "opacity": 0.09,
                    "type": "line",
                    "x0": 0,
                    "x1": 27,
                    "y0": 17,
                    "y1": 28
                  },
                  {
                    "line": {
                      "color": "rgb(0, 0, 0)"
                    },
                    "opacity": 0.09,
                    "type": "line",
                    "x0": 0,
                    "x1": 25,
                    "y0": 17,
                    "y1": 29
                  },
                  {
                    "line": {
                      "color": "rgb(0, 0, 0)"
                    },
                    "opacity": 0.09,
                    "type": "line",
                    "x0": 0,
                    "x1": 16,
                    "y0": 17,
                    "y1": 29
                  },
                  {
                    "line": {
                      "color": "rgb(0, 0, 0)"
                    },
                    "opacity": 0.09,
                    "type": "line",
                    "x0": 0,
                    "x1": 17,
                    "y0": 17,
                    "y1": 26
                  },
                  {
                    "line": {
                      "color": "rgb(0, 0, 0)"
                    },
                    "opacity": 0.09,
                    "type": "line",
                    "x0": 0,
                    "x1": 8,
                    "y0": 17,
                    "y1": 9
                  },
                  {
                    "line": {
                      "color": "rgb(0, 0, 0)"
                    },
                    "opacity": 0.09,
                    "type": "line",
                    "x0": 0,
                    "x1": 0,
                    "y0": 17,
                    "y1": 10
                  },
                  {
                    "line": {
                      "color": "rgb(0, 0, 0)"
                    },
                    "opacity": 0.09,
                    "type": "line",
                    "x0": 0,
                    "x1": 8,
                    "y0": 17,
                    "y1": 22
                  },
                  {
                    "line": {
                      "color": "rgb(0, 0, 0)"
                    },
                    "opacity": 0.09,
                    "type": "line",
                    "x0": 27,
                    "x1": 9,
                    "y0": 28,
                    "y1": 29
                  },
                  {
                    "line": {
                      "color": "rgb(0, 0, 0)"
                    },
                    "opacity": 0.09,
                    "type": "line",
                    "x0": 27,
                    "x1": 4,
                    "y0": 28,
                    "y1": 15
                  },
                  {
                    "line": {
                      "color": "rgb(0, 0, 0)"
                    },
                    "opacity": 0.09,
                    "type": "line",
                    "x0": 27,
                    "x1": 0,
                    "y0": 28,
                    "y1": 17
                  },
                  {
                    "line": {
                      "color": "rgb(0, 0, 0)"
                    },
                    "opacity": 0.09,
                    "type": "line",
                    "x0": 27,
                    "x1": 27,
                    "y0": 28,
                    "y1": 28
                  },
                  {
                    "line": {
                      "color": "rgb(0, 0, 0)"
                    },
                    "opacity": 0.09,
                    "type": "line",
                    "x0": 27,
                    "x1": 25,
                    "y0": 28,
                    "y1": 29
                  },
                  {
                    "line": {
                      "color": "rgb(0, 0, 0)"
                    },
                    "opacity": 0.09,
                    "type": "line",
                    "x0": 27,
                    "x1": 16,
                    "y0": 28,
                    "y1": 29
                  },
                  {
                    "line": {
                      "color": "rgb(0, 0, 0)"
                    },
                    "opacity": 0.09,
                    "type": "line",
                    "x0": 27,
                    "x1": 17,
                    "y0": 28,
                    "y1": 26
                  },
                  {
                    "line": {
                      "color": "rgb(0, 0, 0)"
                    },
                    "opacity": 0.09,
                    "type": "line",
                    "x0": 27,
                    "x1": 8,
                    "y0": 28,
                    "y1": 9
                  },
                  {
                    "line": {
                      "color": "rgb(0, 0, 0)"
                    },
                    "opacity": 0.09,
                    "type": "line",
                    "x0": 27,
                    "x1": 0,
                    "y0": 28,
                    "y1": 10
                  },
                  {
                    "line": {
                      "color": "rgb(0, 0, 0)"
                    },
                    "opacity": 0.09,
                    "type": "line",
                    "x0": 27,
                    "x1": 8,
                    "y0": 28,
                    "y1": 22
                  },
                  {
                    "line": {
                      "color": "rgb(0, 0, 0)"
                    },
                    "opacity": 0.09,
                    "type": "line",
                    "x0": 25,
                    "x1": 9,
                    "y0": 29,
                    "y1": 29
                  },
                  {
                    "line": {
                      "color": "rgb(0, 0, 0)"
                    },
                    "opacity": 0.09,
                    "type": "line",
                    "x0": 25,
                    "x1": 4,
                    "y0": 29,
                    "y1": 15
                  },
                  {
                    "line": {
                      "color": "rgb(0, 0, 0)"
                    },
                    "opacity": 0.09,
                    "type": "line",
                    "x0": 25,
                    "x1": 0,
                    "y0": 29,
                    "y1": 17
                  },
                  {
                    "line": {
                      "color": "rgb(0, 0, 0)"
                    },
                    "opacity": 0.09,
                    "type": "line",
                    "x0": 25,
                    "x1": 27,
                    "y0": 29,
                    "y1": 28
                  },
                  {
                    "line": {
                      "color": "rgb(0, 0, 0)"
                    },
                    "opacity": 0.09,
                    "type": "line",
                    "x0": 25,
                    "x1": 25,
                    "y0": 29,
                    "y1": 29
                  },
                  {
                    "line": {
                      "color": "rgb(0, 0, 0)"
                    },
                    "opacity": 0.09,
                    "type": "line",
                    "x0": 25,
                    "x1": 16,
                    "y0": 29,
                    "y1": 29
                  },
                  {
                    "line": {
                      "color": "rgb(0, 0, 0)"
                    },
                    "opacity": 0.09,
                    "type": "line",
                    "x0": 25,
                    "x1": 17,
                    "y0": 29,
                    "y1": 26
                  },
                  {
                    "line": {
                      "color": "rgb(0, 0, 0)"
                    },
                    "opacity": 0.09,
                    "type": "line",
                    "x0": 25,
                    "x1": 8,
                    "y0": 29,
                    "y1": 9
                  },
                  {
                    "line": {
                      "color": "rgb(0, 0, 0)"
                    },
                    "opacity": 0.09,
                    "type": "line",
                    "x0": 25,
                    "x1": 0,
                    "y0": 29,
                    "y1": 10
                  },
                  {
                    "line": {
                      "color": "rgb(0, 0, 0)"
                    },
                    "opacity": 0.09,
                    "type": "line",
                    "x0": 25,
                    "x1": 8,
                    "y0": 29,
                    "y1": 22
                  },
                  {
                    "line": {
                      "color": "rgb(0, 0, 0)"
                    },
                    "opacity": 0.09,
                    "type": "line",
                    "x0": 16,
                    "x1": 9,
                    "y0": 29,
                    "y1": 29
                  },
                  {
                    "line": {
                      "color": "rgb(0, 0, 0)"
                    },
                    "opacity": 0.09,
                    "type": "line",
                    "x0": 16,
                    "x1": 4,
                    "y0": 29,
                    "y1": 15
                  },
                  {
                    "line": {
                      "color": "rgb(0, 0, 0)"
                    },
                    "opacity": 0.09,
                    "type": "line",
                    "x0": 16,
                    "x1": 0,
                    "y0": 29,
                    "y1": 17
                  },
                  {
                    "line": {
                      "color": "rgb(0, 0, 0)"
                    },
                    "opacity": 0.09,
                    "type": "line",
                    "x0": 16,
                    "x1": 27,
                    "y0": 29,
                    "y1": 28
                  },
                  {
                    "line": {
                      "color": "rgb(0, 0, 0)"
                    },
                    "opacity": 0.09,
                    "type": "line",
                    "x0": 16,
                    "x1": 25,
                    "y0": 29,
                    "y1": 29
                  },
                  {
                    "line": {
                      "color": "rgb(0, 0, 0)"
                    },
                    "opacity": 0.09,
                    "type": "line",
                    "x0": 16,
                    "x1": 16,
                    "y0": 29,
                    "y1": 29
                  },
                  {
                    "line": {
                      "color": "rgb(0, 0, 0)"
                    },
                    "opacity": 0.09,
                    "type": "line",
                    "x0": 16,
                    "x1": 17,
                    "y0": 29,
                    "y1": 26
                  },
                  {
                    "line": {
                      "color": "rgb(0, 0, 0)"
                    },
                    "opacity": 0.09,
                    "type": "line",
                    "x0": 16,
                    "x1": 8,
                    "y0": 29,
                    "y1": 9
                  },
                  {
                    "line": {
                      "color": "rgb(0, 0, 0)"
                    },
                    "opacity": 0.09,
                    "type": "line",
                    "x0": 16,
                    "x1": 0,
                    "y0": 29,
                    "y1": 10
                  },
                  {
                    "line": {
                      "color": "rgb(0, 0, 0)"
                    },
                    "opacity": 0.09,
                    "type": "line",
                    "x0": 16,
                    "x1": 8,
                    "y0": 29,
                    "y1": 22
                  },
                  {
                    "line": {
                      "color": "rgb(0, 0, 0)"
                    },
                    "opacity": 0.09,
                    "type": "line",
                    "x0": 17,
                    "x1": 9,
                    "y0": 26,
                    "y1": 29
                  },
                  {
                    "line": {
                      "color": "rgb(0, 0, 0)"
                    },
                    "opacity": 0.09,
                    "type": "line",
                    "x0": 17,
                    "x1": 4,
                    "y0": 26,
                    "y1": 15
                  },
                  {
                    "line": {
                      "color": "rgb(0, 0, 0)"
                    },
                    "opacity": 0.09,
                    "type": "line",
                    "x0": 17,
                    "x1": 0,
                    "y0": 26,
                    "y1": 17
                  },
                  {
                    "line": {
                      "color": "rgb(0, 0, 0)"
                    },
                    "opacity": 0.09,
                    "type": "line",
                    "x0": 17,
                    "x1": 27,
                    "y0": 26,
                    "y1": 28
                  },
                  {
                    "line": {
                      "color": "rgb(0, 0, 0)"
                    },
                    "opacity": 0.09,
                    "type": "line",
                    "x0": 17,
                    "x1": 25,
                    "y0": 26,
                    "y1": 29
                  },
                  {
                    "line": {
                      "color": "rgb(0, 0, 0)"
                    },
                    "opacity": 0.09,
                    "type": "line",
                    "x0": 17,
                    "x1": 16,
                    "y0": 26,
                    "y1": 29
                  },
                  {
                    "line": {
                      "color": "rgb(0, 0, 0)"
                    },
                    "opacity": 0.09,
                    "type": "line",
                    "x0": 17,
                    "x1": 17,
                    "y0": 26,
                    "y1": 26
                  },
                  {
                    "line": {
                      "color": "rgb(0, 0, 0)"
                    },
                    "opacity": 0.09,
                    "type": "line",
                    "x0": 17,
                    "x1": 8,
                    "y0": 26,
                    "y1": 9
                  },
                  {
                    "line": {
                      "color": "rgb(0, 0, 0)"
                    },
                    "opacity": 0.09,
                    "type": "line",
                    "x0": 17,
                    "x1": 0,
                    "y0": 26,
                    "y1": 10
                  },
                  {
                    "line": {
                      "color": "rgb(0, 0, 0)"
                    },
                    "opacity": 0.09,
                    "type": "line",
                    "x0": 17,
                    "x1": 8,
                    "y0": 26,
                    "y1": 22
                  },
                  {
                    "line": {
                      "color": "rgb(0, 0, 0)"
                    },
                    "opacity": 0.09,
                    "type": "line",
                    "x0": 8,
                    "x1": 9,
                    "y0": 9,
                    "y1": 29
                  },
                  {
                    "line": {
                      "color": "rgb(0, 0, 0)"
                    },
                    "opacity": 0.09,
                    "type": "line",
                    "x0": 8,
                    "x1": 4,
                    "y0": 9,
                    "y1": 15
                  },
                  {
                    "line": {
                      "color": "rgb(0, 0, 0)"
                    },
                    "opacity": 0.09,
                    "type": "line",
                    "x0": 8,
                    "x1": 0,
                    "y0": 9,
                    "y1": 17
                  },
                  {
                    "line": {
                      "color": "rgb(0, 0, 0)"
                    },
                    "opacity": 0.09,
                    "type": "line",
                    "x0": 8,
                    "x1": 27,
                    "y0": 9,
                    "y1": 28
                  },
                  {
                    "line": {
                      "color": "rgb(0, 0, 0)"
                    },
                    "opacity": 0.09,
                    "type": "line",
                    "x0": 8,
                    "x1": 25,
                    "y0": 9,
                    "y1": 29
                  },
                  {
                    "line": {
                      "color": "rgb(0, 0, 0)"
                    },
                    "opacity": 0.09,
                    "type": "line",
                    "x0": 8,
                    "x1": 16,
                    "y0": 9,
                    "y1": 29
                  },
                  {
                    "line": {
                      "color": "rgb(0, 0, 0)"
                    },
                    "opacity": 0.09,
                    "type": "line",
                    "x0": 8,
                    "x1": 17,
                    "y0": 9,
                    "y1": 26
                  },
                  {
                    "line": {
                      "color": "rgb(0, 0, 0)"
                    },
                    "opacity": 0.09,
                    "type": "line",
                    "x0": 8,
                    "x1": 8,
                    "y0": 9,
                    "y1": 9
                  },
                  {
                    "line": {
                      "color": "rgb(0, 0, 0)"
                    },
                    "opacity": 0.09,
                    "type": "line",
                    "x0": 8,
                    "x1": 0,
                    "y0": 9,
                    "y1": 10
                  },
                  {
                    "line": {
                      "color": "rgb(0, 0, 0)"
                    },
                    "opacity": 0.09,
                    "type": "line",
                    "x0": 8,
                    "x1": 8,
                    "y0": 9,
                    "y1": 22
                  },
                  {
                    "line": {
                      "color": "rgb(0, 0, 0)"
                    },
                    "opacity": 0.09,
                    "type": "line",
                    "x0": 0,
                    "x1": 9,
                    "y0": 10,
                    "y1": 29
                  },
                  {
                    "line": {
                      "color": "rgb(0, 0, 0)"
                    },
                    "opacity": 0.09,
                    "type": "line",
                    "x0": 0,
                    "x1": 4,
                    "y0": 10,
                    "y1": 15
                  },
                  {
                    "line": {
                      "color": "rgb(0, 0, 0)"
                    },
                    "opacity": 0.09,
                    "type": "line",
                    "x0": 0,
                    "x1": 0,
                    "y0": 10,
                    "y1": 17
                  },
                  {
                    "line": {
                      "color": "rgb(0, 0, 0)"
                    },
                    "opacity": 0.09,
                    "type": "line",
                    "x0": 0,
                    "x1": 27,
                    "y0": 10,
                    "y1": 28
                  },
                  {
                    "line": {
                      "color": "rgb(0, 0, 0)"
                    },
                    "opacity": 0.09,
                    "type": "line",
                    "x0": 0,
                    "x1": 25,
                    "y0": 10,
                    "y1": 29
                  },
                  {
                    "line": {
                      "color": "rgb(0, 0, 0)"
                    },
                    "opacity": 0.09,
                    "type": "line",
                    "x0": 0,
                    "x1": 16,
                    "y0": 10,
                    "y1": 29
                  },
                  {
                    "line": {
                      "color": "rgb(0, 0, 0)"
                    },
                    "opacity": 0.09,
                    "type": "line",
                    "x0": 0,
                    "x1": 17,
                    "y0": 10,
                    "y1": 26
                  },
                  {
                    "line": {
                      "color": "rgb(0, 0, 0)"
                    },
                    "opacity": 0.09,
                    "type": "line",
                    "x0": 0,
                    "x1": 8,
                    "y0": 10,
                    "y1": 9
                  },
                  {
                    "line": {
                      "color": "rgb(0, 0, 0)"
                    },
                    "opacity": 0.09,
                    "type": "line",
                    "x0": 0,
                    "x1": 0,
                    "y0": 10,
                    "y1": 10
                  },
                  {
                    "line": {
                      "color": "rgb(0, 0, 0)"
                    },
                    "opacity": 0.09,
                    "type": "line",
                    "x0": 0,
                    "x1": 8,
                    "y0": 10,
                    "y1": 22
                  },
                  {
                    "line": {
                      "color": "rgb(0, 0, 0)"
                    },
                    "opacity": 0.09,
                    "type": "line",
                    "x0": 8,
                    "x1": 9,
                    "y0": 22,
                    "y1": 29
                  },
                  {
                    "line": {
                      "color": "rgb(0, 0, 0)"
                    },
                    "opacity": 0.09,
                    "type": "line",
                    "x0": 8,
                    "x1": 4,
                    "y0": 22,
                    "y1": 15
                  },
                  {
                    "line": {
                      "color": "rgb(0, 0, 0)"
                    },
                    "opacity": 0.09,
                    "type": "line",
                    "x0": 8,
                    "x1": 0,
                    "y0": 22,
                    "y1": 17
                  },
                  {
                    "line": {
                      "color": "rgb(0, 0, 0)"
                    },
                    "opacity": 0.09,
                    "type": "line",
                    "x0": 8,
                    "x1": 27,
                    "y0": 22,
                    "y1": 28
                  },
                  {
                    "line": {
                      "color": "rgb(0, 0, 0)"
                    },
                    "opacity": 0.09,
                    "type": "line",
                    "x0": 8,
                    "x1": 25,
                    "y0": 22,
                    "y1": 29
                  },
                  {
                    "line": {
                      "color": "rgb(0, 0, 0)"
                    },
                    "opacity": 0.09,
                    "type": "line",
                    "x0": 8,
                    "x1": 16,
                    "y0": 22,
                    "y1": 29
                  },
                  {
                    "line": {
                      "color": "rgb(0, 0, 0)"
                    },
                    "opacity": 0.09,
                    "type": "line",
                    "x0": 8,
                    "x1": 17,
                    "y0": 22,
                    "y1": 26
                  },
                  {
                    "line": {
                      "color": "rgb(0, 0, 0)"
                    },
                    "opacity": 0.09,
                    "type": "line",
                    "x0": 8,
                    "x1": 8,
                    "y0": 22,
                    "y1": 9
                  },
                  {
                    "line": {
                      "color": "rgb(0, 0, 0)"
                    },
                    "opacity": 0.09,
                    "type": "line",
                    "x0": 8,
                    "x1": 0,
                    "y0": 22,
                    "y1": 10
                  },
                  {
                    "line": {
                      "color": "rgb(0, 0, 0)"
                    },
                    "opacity": 0.09,
                    "type": "line",
                    "x0": 8,
                    "x1": 8,
                    "y0": 22,
                    "y1": 22
                  }
                ],
                "showlegend": false,
                "template": {
                  "data": {
                    "bar": [
                      {
                        "error_x": {
                          "color": "#2a3f5f"
                        },
                        "error_y": {
                          "color": "#2a3f5f"
                        },
                        "marker": {
                          "line": {
                            "color": "white",
                            "width": 0.5
                          },
                          "pattern": {
                            "fillmode": "overlay",
                            "size": 10,
                            "solidity": 0.2
                          }
                        },
                        "type": "bar"
                      }
                    ],
                    "barpolar": [
                      {
                        "marker": {
                          "line": {
                            "color": "white",
                            "width": 0.5
                          },
                          "pattern": {
                            "fillmode": "overlay",
                            "size": 10,
                            "solidity": 0.2
                          }
                        },
                        "type": "barpolar"
                      }
                    ],
                    "carpet": [
                      {
                        "aaxis": {
                          "endlinecolor": "#2a3f5f",
                          "gridcolor": "#C8D4E3",
                          "linecolor": "#C8D4E3",
                          "minorgridcolor": "#C8D4E3",
                          "startlinecolor": "#2a3f5f"
                        },
                        "baxis": {
                          "endlinecolor": "#2a3f5f",
                          "gridcolor": "#C8D4E3",
                          "linecolor": "#C8D4E3",
                          "minorgridcolor": "#C8D4E3",
                          "startlinecolor": "#2a3f5f"
                        },
                        "type": "carpet"
                      }
                    ],
                    "choropleth": [
                      {
                        "colorbar": {
                          "outlinewidth": 0,
                          "ticks": ""
                        },
                        "type": "choropleth"
                      }
                    ],
                    "contour": [
                      {
                        "colorbar": {
                          "outlinewidth": 0,
                          "ticks": ""
                        },
                        "colorscale": [
                          [
                            0,
                            "#0d0887"
                          ],
                          [
                            0.1111111111111111,
                            "#46039f"
                          ],
                          [
                            0.2222222222222222,
                            "#7201a8"
                          ],
                          [
                            0.3333333333333333,
                            "#9c179e"
                          ],
                          [
                            0.4444444444444444,
                            "#bd3786"
                          ],
                          [
                            0.5555555555555556,
                            "#d8576b"
                          ],
                          [
                            0.6666666666666666,
                            "#ed7953"
                          ],
                          [
                            0.7777777777777778,
                            "#fb9f3a"
                          ],
                          [
                            0.8888888888888888,
                            "#fdca26"
                          ],
                          [
                            1,
                            "#f0f921"
                          ]
                        ],
                        "type": "contour"
                      }
                    ],
                    "contourcarpet": [
                      {
                        "colorbar": {
                          "outlinewidth": 0,
                          "ticks": ""
                        },
                        "type": "contourcarpet"
                      }
                    ],
                    "heatmap": [
                      {
                        "colorbar": {
                          "outlinewidth": 0,
                          "ticks": ""
                        },
                        "colorscale": [
                          [
                            0,
                            "#0d0887"
                          ],
                          [
                            0.1111111111111111,
                            "#46039f"
                          ],
                          [
                            0.2222222222222222,
                            "#7201a8"
                          ],
                          [
                            0.3333333333333333,
                            "#9c179e"
                          ],
                          [
                            0.4444444444444444,
                            "#bd3786"
                          ],
                          [
                            0.5555555555555556,
                            "#d8576b"
                          ],
                          [
                            0.6666666666666666,
                            "#ed7953"
                          ],
                          [
                            0.7777777777777778,
                            "#fb9f3a"
                          ],
                          [
                            0.8888888888888888,
                            "#fdca26"
                          ],
                          [
                            1,
                            "#f0f921"
                          ]
                        ],
                        "type": "heatmap"
                      }
                    ],
                    "heatmapgl": [
                      {
                        "colorbar": {
                          "outlinewidth": 0,
                          "ticks": ""
                        },
                        "colorscale": [
                          [
                            0,
                            "#0d0887"
                          ],
                          [
                            0.1111111111111111,
                            "#46039f"
                          ],
                          [
                            0.2222222222222222,
                            "#7201a8"
                          ],
                          [
                            0.3333333333333333,
                            "#9c179e"
                          ],
                          [
                            0.4444444444444444,
                            "#bd3786"
                          ],
                          [
                            0.5555555555555556,
                            "#d8576b"
                          ],
                          [
                            0.6666666666666666,
                            "#ed7953"
                          ],
                          [
                            0.7777777777777778,
                            "#fb9f3a"
                          ],
                          [
                            0.8888888888888888,
                            "#fdca26"
                          ],
                          [
                            1,
                            "#f0f921"
                          ]
                        ],
                        "type": "heatmapgl"
                      }
                    ],
                    "histogram": [
                      {
                        "marker": {
                          "pattern": {
                            "fillmode": "overlay",
                            "size": 10,
                            "solidity": 0.2
                          }
                        },
                        "type": "histogram"
                      }
                    ],
                    "histogram2d": [
                      {
                        "colorbar": {
                          "outlinewidth": 0,
                          "ticks": ""
                        },
                        "colorscale": [
                          [
                            0,
                            "#0d0887"
                          ],
                          [
                            0.1111111111111111,
                            "#46039f"
                          ],
                          [
                            0.2222222222222222,
                            "#7201a8"
                          ],
                          [
                            0.3333333333333333,
                            "#9c179e"
                          ],
                          [
                            0.4444444444444444,
                            "#bd3786"
                          ],
                          [
                            0.5555555555555556,
                            "#d8576b"
                          ],
                          [
                            0.6666666666666666,
                            "#ed7953"
                          ],
                          [
                            0.7777777777777778,
                            "#fb9f3a"
                          ],
                          [
                            0.8888888888888888,
                            "#fdca26"
                          ],
                          [
                            1,
                            "#f0f921"
                          ]
                        ],
                        "type": "histogram2d"
                      }
                    ],
                    "histogram2dcontour": [
                      {
                        "colorbar": {
                          "outlinewidth": 0,
                          "ticks": ""
                        },
                        "colorscale": [
                          [
                            0,
                            "#0d0887"
                          ],
                          [
                            0.1111111111111111,
                            "#46039f"
                          ],
                          [
                            0.2222222222222222,
                            "#7201a8"
                          ],
                          [
                            0.3333333333333333,
                            "#9c179e"
                          ],
                          [
                            0.4444444444444444,
                            "#bd3786"
                          ],
                          [
                            0.5555555555555556,
                            "#d8576b"
                          ],
                          [
                            0.6666666666666666,
                            "#ed7953"
                          ],
                          [
                            0.7777777777777778,
                            "#fb9f3a"
                          ],
                          [
                            0.8888888888888888,
                            "#fdca26"
                          ],
                          [
                            1,
                            "#f0f921"
                          ]
                        ],
                        "type": "histogram2dcontour"
                      }
                    ],
                    "mesh3d": [
                      {
                        "colorbar": {
                          "outlinewidth": 0,
                          "ticks": ""
                        },
                        "type": "mesh3d"
                      }
                    ],
                    "parcoords": [
                      {
                        "line": {
                          "colorbar": {
                            "outlinewidth": 0,
                            "ticks": ""
                          }
                        },
                        "type": "parcoords"
                      }
                    ],
                    "pie": [
                      {
                        "automargin": true,
                        "type": "pie"
                      }
                    ],
                    "scatter": [
                      {
                        "fillpattern": {
                          "fillmode": "overlay",
                          "size": 10,
                          "solidity": 0.2
                        },
                        "type": "scatter"
                      }
                    ],
                    "scatter3d": [
                      {
                        "line": {
                          "colorbar": {
                            "outlinewidth": 0,
                            "ticks": ""
                          }
                        },
                        "marker": {
                          "colorbar": {
                            "outlinewidth": 0,
                            "ticks": ""
                          }
                        },
                        "type": "scatter3d"
                      }
                    ],
                    "scattercarpet": [
                      {
                        "marker": {
                          "colorbar": {
                            "outlinewidth": 0,
                            "ticks": ""
                          }
                        },
                        "type": "scattercarpet"
                      }
                    ],
                    "scattergeo": [
                      {
                        "marker": {
                          "colorbar": {
                            "outlinewidth": 0,
                            "ticks": ""
                          }
                        },
                        "type": "scattergeo"
                      }
                    ],
                    "scattergl": [
                      {
                        "marker": {
                          "colorbar": {
                            "outlinewidth": 0,
                            "ticks": ""
                          }
                        },
                        "type": "scattergl"
                      }
                    ],
                    "scattermapbox": [
                      {
                        "marker": {
                          "colorbar": {
                            "outlinewidth": 0,
                            "ticks": ""
                          }
                        },
                        "type": "scattermapbox"
                      }
                    ],
                    "scatterpolar": [
                      {
                        "marker": {
                          "colorbar": {
                            "outlinewidth": 0,
                            "ticks": ""
                          }
                        },
                        "type": "scatterpolar"
                      }
                    ],
                    "scatterpolargl": [
                      {
                        "marker": {
                          "colorbar": {
                            "outlinewidth": 0,
                            "ticks": ""
                          }
                        },
                        "type": "scatterpolargl"
                      }
                    ],
                    "scatterternary": [
                      {
                        "marker": {
                          "colorbar": {
                            "outlinewidth": 0,
                            "ticks": ""
                          }
                        },
                        "type": "scatterternary"
                      }
                    ],
                    "surface": [
                      {
                        "colorbar": {
                          "outlinewidth": 0,
                          "ticks": ""
                        },
                        "colorscale": [
                          [
                            0,
                            "#0d0887"
                          ],
                          [
                            0.1111111111111111,
                            "#46039f"
                          ],
                          [
                            0.2222222222222222,
                            "#7201a8"
                          ],
                          [
                            0.3333333333333333,
                            "#9c179e"
                          ],
                          [
                            0.4444444444444444,
                            "#bd3786"
                          ],
                          [
                            0.5555555555555556,
                            "#d8576b"
                          ],
                          [
                            0.6666666666666666,
                            "#ed7953"
                          ],
                          [
                            0.7777777777777778,
                            "#fb9f3a"
                          ],
                          [
                            0.8888888888888888,
                            "#fdca26"
                          ],
                          [
                            1,
                            "#f0f921"
                          ]
                        ],
                        "type": "surface"
                      }
                    ],
                    "table": [
                      {
                        "cells": {
                          "fill": {
                            "color": "#EBF0F8"
                          },
                          "line": {
                            "color": "white"
                          }
                        },
                        "header": {
                          "fill": {
                            "color": "#C8D4E3"
                          },
                          "line": {
                            "color": "white"
                          }
                        },
                        "type": "table"
                      }
                    ]
                  },
                  "layout": {
                    "annotationdefaults": {
                      "arrowcolor": "#2a3f5f",
                      "arrowhead": 0,
                      "arrowwidth": 1
                    },
                    "autotypenumbers": "strict",
                    "coloraxis": {
                      "colorbar": {
                        "outlinewidth": 0,
                        "ticks": ""
                      }
                    },
                    "colorscale": {
                      "diverging": [
                        [
                          0,
                          "#8e0152"
                        ],
                        [
                          0.1,
                          "#c51b7d"
                        ],
                        [
                          0.2,
                          "#de77ae"
                        ],
                        [
                          0.3,
                          "#f1b6da"
                        ],
                        [
                          0.4,
                          "#fde0ef"
                        ],
                        [
                          0.5,
                          "#f7f7f7"
                        ],
                        [
                          0.6,
                          "#e6f5d0"
                        ],
                        [
                          0.7,
                          "#b8e186"
                        ],
                        [
                          0.8,
                          "#7fbc41"
                        ],
                        [
                          0.9,
                          "#4d9221"
                        ],
                        [
                          1,
                          "#276419"
                        ]
                      ],
                      "sequential": [
                        [
                          0,
                          "#0d0887"
                        ],
                        [
                          0.1111111111111111,
                          "#46039f"
                        ],
                        [
                          0.2222222222222222,
                          "#7201a8"
                        ],
                        [
                          0.3333333333333333,
                          "#9c179e"
                        ],
                        [
                          0.4444444444444444,
                          "#bd3786"
                        ],
                        [
                          0.5555555555555556,
                          "#d8576b"
                        ],
                        [
                          0.6666666666666666,
                          "#ed7953"
                        ],
                        [
                          0.7777777777777778,
                          "#fb9f3a"
                        ],
                        [
                          0.8888888888888888,
                          "#fdca26"
                        ],
                        [
                          1,
                          "#f0f921"
                        ]
                      ],
                      "sequentialminus": [
                        [
                          0,
                          "#0d0887"
                        ],
                        [
                          0.1111111111111111,
                          "#46039f"
                        ],
                        [
                          0.2222222222222222,
                          "#7201a8"
                        ],
                        [
                          0.3333333333333333,
                          "#9c179e"
                        ],
                        [
                          0.4444444444444444,
                          "#bd3786"
                        ],
                        [
                          0.5555555555555556,
                          "#d8576b"
                        ],
                        [
                          0.6666666666666666,
                          "#ed7953"
                        ],
                        [
                          0.7777777777777778,
                          "#fb9f3a"
                        ],
                        [
                          0.8888888888888888,
                          "#fdca26"
                        ],
                        [
                          1,
                          "#f0f921"
                        ]
                      ]
                    },
                    "colorway": [
                      "#636efa",
                      "#EF553B",
                      "#00cc96",
                      "#ab63fa",
                      "#FFA15A",
                      "#19d3f3",
                      "#FF6692",
                      "#B6E880",
                      "#FF97FF",
                      "#FECB52"
                    ],
                    "font": {
                      "color": "#2a3f5f"
                    },
                    "geo": {
                      "bgcolor": "white",
                      "lakecolor": "white",
                      "landcolor": "white",
                      "showlakes": true,
                      "showland": true,
                      "subunitcolor": "#C8D4E3"
                    },
                    "hoverlabel": {
                      "align": "left"
                    },
                    "hovermode": "closest",
                    "mapbox": {
                      "style": "light"
                    },
                    "paper_bgcolor": "white",
                    "plot_bgcolor": "white",
                    "polar": {
                      "angularaxis": {
                        "gridcolor": "#EBF0F8",
                        "linecolor": "#EBF0F8",
                        "ticks": ""
                      },
                      "bgcolor": "white",
                      "radialaxis": {
                        "gridcolor": "#EBF0F8",
                        "linecolor": "#EBF0F8",
                        "ticks": ""
                      }
                    },
                    "scene": {
                      "xaxis": {
                        "backgroundcolor": "white",
                        "gridcolor": "#DFE8F3",
                        "gridwidth": 2,
                        "linecolor": "#EBF0F8",
                        "showbackground": true,
                        "ticks": "",
                        "zerolinecolor": "#EBF0F8"
                      },
                      "yaxis": {
                        "backgroundcolor": "white",
                        "gridcolor": "#DFE8F3",
                        "gridwidth": 2,
                        "linecolor": "#EBF0F8",
                        "showbackground": true,
                        "ticks": "",
                        "zerolinecolor": "#EBF0F8"
                      },
                      "zaxis": {
                        "backgroundcolor": "white",
                        "gridcolor": "#DFE8F3",
                        "gridwidth": 2,
                        "linecolor": "#EBF0F8",
                        "showbackground": true,
                        "ticks": "",
                        "zerolinecolor": "#EBF0F8"
                      }
                    },
                    "shapedefaults": {
                      "line": {
                        "color": "#2a3f5f"
                      }
                    },
                    "ternary": {
                      "aaxis": {
                        "gridcolor": "#DFE8F3",
                        "linecolor": "#A2B1C6",
                        "ticks": ""
                      },
                      "baxis": {
                        "gridcolor": "#DFE8F3",
                        "linecolor": "#A2B1C6",
                        "ticks": ""
                      },
                      "bgcolor": "white",
                      "caxis": {
                        "gridcolor": "#DFE8F3",
                        "linecolor": "#A2B1C6",
                        "ticks": ""
                      }
                    },
                    "title": {
                      "x": 0.05
                    },
                    "xaxis": {
                      "automargin": true,
                      "gridcolor": "#EBF0F8",
                      "linecolor": "#EBF0F8",
                      "ticks": "",
                      "title": {
                        "standoff": 15
                      },
                      "zerolinecolor": "#EBF0F8",
                      "zerolinewidth": 2
                    },
                    "yaxis": {
                      "automargin": true,
                      "gridcolor": "#EBF0F8",
                      "linecolor": "#EBF0F8",
                      "ticks": "",
                      "title": {
                        "standoff": 15
                      },
                      "zerolinecolor": "#EBF0F8",
                      "zerolinewidth": 2
                    }
                  }
                },
                "uniformtext": {
                  "minsize": 8,
                  "mode": "hide"
                },
                "xaxis": {
                  "anchor": "y",
                  "domain": [
                    0,
                    1
                  ],
                  "title": {
                    "text": "x"
                  }
                },
                "yaxis": {
                  "anchor": "x",
                  "domain": [
                    0,
                    1
                  ],
                  "title": {
                    "text": "y"
                  }
                }
              }
            }
          },
          "metadata": {},
          "output_type": "display_data"
        }
      ],
      "source": [
        "plot_cities_and_route(points, product(range(n), range(n))) # Visualización de las ciudades"
      ]
    },
    {
      "cell_type": "markdown",
      "metadata": {
        "id": "0Tn68uAaw47d"
      },
      "source": [
        "6 -> 5 -> 2 -> 1 -> ...."
      ]
    },
    {
      "cell_type": "markdown",
      "metadata": {
        "id": "0xRnmV6S5g6a"
      },
      "source": [
        "## TSP (Travelling salesman problem) con programación lineal"
      ]
    },
    {
      "cell_type": "markdown",
      "metadata": {
        "id": "r1W3Lf7G5loM"
      },
      "source": [
        "Considere $n$ puntos, $V = \\left\\{0, 1, \\dots, n-1 \\right\\}$, y la matriz de distancia $D_{n\\times n}$ con entradas $d_{i, j} \\in \\mathbb{R^+}$.\n",
        "\n",
        "La variable $x_{i,j}$ es tal que\n",
        "$$  x_{i,j} = \\begin{cases} 1 & \\text{ el camino va de la ciudad } i \\text{ a la ciudad } j\\text{,} \\\\ 0 & \\text{caso contrario.} \\end{cases} $$\n",
        "\n",
        "Tomando una variable dummy $y_i$ que guarda información del orden en que se visitan las ciudades, a partir de la ciudad $0$. Esto se escribe como $ y_i < y_j$ si la ciudad $i$ se visita antes que la ciudad $j$.\n",
        "\n",
        "Programación lineal favorece la desigualdades no-estrictas respecto a la estrictas, por lo que se puede imponer una condición parecida a la siguiente\n",
        "\n",
        "$$ y_j \\geqslant y_i + x_{i,j} $$\n",
        "\n",
        "cuando $x_{i,j} = 1$ (NOTESE que no es lo mismo que tomar solo $ y_j \\geqslant y_i + x_{i,j}$ en el caso general de $x_{i,j}$)\n"
      ]
    },
    {
      "cell_type": "markdown",
      "metadata": {
        "id": "O0CCd0M4M07T"
      },
      "source": [
        "La solución es un conjunto de $n$ pares de puntos indicando la ciudad de salida y ciudad de llegada. Considerando las restricciones que se mencionaron al inicio, tenemos que\n",
        "\n",
        "Minimizar:\n",
        "$$\\sum_{i\\in V, j\\in V} d_{i, j}x_{i, j}$$\n",
        "Sujeto a:\n",
        "\\begin{align}\n",
        "\\sum_{i\\in V\\setminus \\{j\\}} x_{i, j} = 1 && \\forall j \\in V \\\\\n",
        "\\sum_{j\\in V\\setminus \\{i\\}} x_{i, j} = 1 && \\forall i \\in V \\\\\n",
        "y_j - (n-1)x_{i, j} \\geq y_i - (n-2) && \\forall i \\in V \\setminus \\{0\\}, j\\in V\\setminus \\{0, i\\} \\\\\n",
        "x_{i, j} \\in \\{0, 1\\} && \\forall i\\in V, j \\in V \\\\\n",
        "y_i \\geq 0 && \\forall i \\in V\n",
        "\\end{align}"
      ]
    },
    {
      "cell_type": "code",
      "execution_count": 12,
      "metadata": {
        "colab": {
          "base_uri": "https://localhost:8080/"
        },
        "id": "qi7wIe6QXxN0",
        "outputId": "a84523ea-6018-4d7a-a101-7a515ee6a8b5"
      },
      "outputs": [
        {
          "name": "stdout",
          "output_type": "stream",
          "text": [
            "Número de nodos:\tn = 10\n",
            "Vértices:\tV = {0, 1, 2, 3, 4, 5, 6, 7, 8, 9}\n"
          ]
        }
      ],
      "source": [
        "# Número de nodos y vértices\n",
        "n, V = len(points), set(range(len(points)))\n",
        "print(f'Número de nodos:\\tn = {n}\\nVértices:\\tV = {V}')"
      ]
    },
    {
      "cell_type": "markdown",
      "metadata": {},
      "source": [
        "En MacOS, puede que se necesiten las siguientes dos líneas para que MIP funcione:"
      ]
    },
    {
      "cell_type": "code",
      "execution_count": null,
      "metadata": {},
      "outputs": [],
      "source": [
        "!brew tap coin-or-tools/coinor\n",
        "!brew install cbc"
      ]
    },
    {
      "cell_type": "code",
      "execution_count": 14,
      "metadata": {
        "id": "XAxDjOJZXzST"
      },
      "outputs": [],
      "source": [
        "model = Model()\n",
        "\n",
        "# Variables binarias que indican si se toma el camino de la ciudad i a la j\n",
        "x = [[model.add_var(var_type=BINARY) for j in V] for i in V]\n",
        "\n",
        "# Variables continuas para evitar subrutas\n",
        "y = [model.add_var() for i in V]"
      ]
    },
    {
      "cell_type": "markdown",
      "metadata": {
        "id": "FgF0eoZFAhDo"
      },
      "source": [
        "$$\\sum_{i\\in V, j\\in V} d_{i, j}x_{i, j}$$\n"
      ]
    },
    {
      "cell_type": "code",
      "execution_count": 15,
      "metadata": {
        "id": "pPC4JFo-_9B3"
      },
      "outputs": [],
      "source": [
        "# Función objetivo:\n",
        "model.objective = minimize(xsum(d[i][j]*x[i][j] for i in V for j in V))"
      ]
    },
    {
      "cell_type": "markdown",
      "metadata": {
        "id": "N6LNXjn8A3xj"
      },
      "source": [
        "$$\\sum_{j\\in V\\setminus \\{i\\}} x_{i, j} = 1 \\text{, } \\forall i \\in V$$"
      ]
    },
    {
      "cell_type": "code",
      "execution_count": 16,
      "metadata": {
        "id": "ROs_e4P9__Vv"
      },
      "outputs": [],
      "source": [
        "# Restricción : Sal de cada ciudad una única vez\n",
        "for i in V:\n",
        "    model += xsum(x[i][j] for j in V - {i}) == 1"
      ]
    },
    {
      "cell_type": "markdown",
      "metadata": {
        "id": "eyG_IucKAjLf"
      },
      "source": [
        "$$\\sum_{i\\in V\\setminus \\{j\\}} x_{i, j} = 1 \\text{, } \\forall j \\in V$$"
      ]
    },
    {
      "cell_type": "code",
      "execution_count": 17,
      "metadata": {
        "id": "OTaKu8GdAA9g"
      },
      "outputs": [],
      "source": [
        "# Restricción : Entra a cada ciudad una única vez\n",
        "for j in V:\n",
        "    model += xsum(x[i][j] for i in V - {j}) == 1"
      ]
    },
    {
      "cell_type": "markdown",
      "metadata": {
        "id": "sy6IPGajB22Z"
      },
      "source": [
        "$$y_j - (n-1)x_{i, j} \\geq y_i - (n-2) \\text{, } \\forall i \\in V \\setminus \\{0\\}, j\\in V\\setminus \\{0, i\\}$$"
      ]
    },
    {
      "cell_type": "code",
      "execution_count": 18,
      "metadata": {
        "id": "Iakx3SpIACpL"
      },
      "outputs": [],
      "source": [
        "# Elimina subrutas\n",
        "for (i, j) in product(V - {0}, V - {0}):\n",
        "    if i != j:\n",
        "        model += y[j] - (n-1)*x[i][j] >= y[i]-(n-2)"
      ]
    },
    {
      "cell_type": "code",
      "execution_count": 19,
      "metadata": {
        "colab": {
          "base_uri": "https://localhost:8080/"
        },
        "id": "s8FQC88QAECs",
        "outputId": "d5736f14-714d-4549-cffb-a9115a489ee5"
      },
      "outputs": [
        {
          "name": "stdout",
          "output_type": "stream",
          "text": [
            "Welcome to the CBC MILP Solver \n",
            "Version: Trunk\n",
            "Build Date: Jan 16 2024\n",
            "Starting solution of the Linear programming relaxation problem using Primal Simplex\n",
            "\n",
            "Coin0506I Presolve 92 (0) rows, 99 (-11) columns and 396 (0) elements\n",
            "Clp1000I sum of infeasibilities 0.000183017 - average 1.98932e-06, 51 fixed columns\n",
            "Coin0506I Presolve 92 (0) rows, 48 (-51) columns and 255 (-141) elements\n",
            "Clp0029I End of values pass after 48 iterations\n",
            "Clp0000I Optimal - objective value 53.446815\n",
            "Clp0000I Optimal - objective value 53.446815\n",
            "Coin0511I After Postsolve, objective 53.446815, infeasibilities - dual 0 (0), primal 0 (0)\n",
            "Clp0000I Optimal - objective value 53.446815\n",
            "Clp0000I Optimal - objective value 53.446815\n",
            "Clp0000I Optimal - objective value 53.446815\n",
            "Coin0511I After Postsolve, objective 53.446815, infeasibilities - dual 0 (0), primal 0 (0)\n",
            "Clp0032I Optimal objective 53.4468148 - 0 iterations time 0.012, Presolve 0.00, Idiot 0.01\n",
            "\n",
            "Starting MIP optimization\n",
            "maxSavedSolutions was changed from 1 to 10\n",
            "Continuous objective value is 53.4468 - 6.4e-05 seconds\n",
            "Cgl0004I processed model has 92 rows, 99 columns (90 integer (90 of which binary)) and 396 elements\n",
            "Coin3009W Conflict graph built in 0.000 seconds, density: 4.111%\n",
            "Cgl0015I Clique Strengthening extended 0 cliques, 0 were dominated\n",
            "Cbc0038I Initial state - 16 integers unsatisfied sum - 1.77778\n",
            "Cbc0038I Pass   1: suminf.    1.77778 (8) obj. 60.1346 iterations 21\n",
            "Cbc0038I Pass   2: suminf.    1.77778 (7) obj. 95.3558 iterations 18\n",
            "Cbc0038I Pass   3: suminf.    1.77778 (7) obj. 96.3625 iterations 15\n",
            "Cbc0038I Pass   4: suminf.    1.77778 (10) obj. 91.896 iterations 7\n",
            "Cbc0038I Pass   5: suminf.    1.77778 (6) obj. 82.5733 iterations 15\n",
            "Cbc0038I Pass   6: suminf.    0.00000 (0) obj. 165.633 iterations 37\n",
            "Cbc0038I Solution found of 165.633\n",
            "Cbc0038I Relaxing continuous gives 165.633\n",
            "Cbc0038I Before mini branch and bound, 60 integers at bound fixed and 1 continuous\n",
            "Cbc0038I Full problem 92 rows 99 columns, reduced to 43 rows 35 columns\n",
            "Cbc0038I Mini branch and bound improved solution from 165.633 to 122.142 (0.02 seconds)\n",
            "Cbc0038I Round again with cutoff of 115.272\n",
            "Cbc0038I Pass   7: suminf.    1.77778 (8) obj. 60.1346 iterations 0\n",
            "Cbc0038I Pass   8: suminf.    1.77778 (7) obj. 95.3558 iterations 20\n",
            "Cbc0038I Pass   9: suminf.    1.77778 (7) obj. 96.3625 iterations 13\n",
            "Cbc0038I Pass  10: suminf.    1.77778 (10) obj. 91.896 iterations 7\n",
            "Cbc0038I Pass  11: suminf.    1.77778 (6) obj. 82.5733 iterations 17\n",
            "Cbc0038I Pass  12: suminf.    1.55730 (4) obj. 115.272 iterations 39\n",
            "Cbc0038I Pass  13: suminf.    0.88889 (4) obj. 109.54 iterations 18\n",
            "Cbc0038I Pass  14: suminf.    0.00000 (0) obj. 108.281 iterations 23\n",
            "Cbc0038I Solution found of 108.281\n",
            "Cbc0038I Relaxing continuous gives 108.281\n",
            "Cbc0038I Before mini branch and bound, 61 integers at bound fixed and 0 continuous\n",
            "Cbc0038I Full problem 92 rows 99 columns, reduced to 82 rows 28 columns\n",
            "Cbc0038I Mini branch and bound did not improve solution (0.02 seconds)\n",
            "Cbc0038I Round again with cutoff of 97.3144\n",
            "Cbc0038I Pass  15: suminf.    1.77778 (8) obj. 60.1346 iterations 0\n",
            "Cbc0038I Pass  16: suminf.    1.77778 (7) obj. 95.3558 iterations 20\n",
            "Cbc0038I Pass  17: suminf.    1.77778 (7) obj. 96.3625 iterations 13\n",
            "Cbc0038I Pass  18: suminf.    1.77778 (10) obj. 91.896 iterations 7\n",
            "Cbc0038I Pass  19: suminf.    1.77778 (6) obj. 82.5733 iterations 17\n",
            "Cbc0038I Pass  20: suminf.    3.04924 (8) obj. 97.3144 iterations 21\n",
            "Cbc0038I Pass  21: suminf.    1.77778 (7) obj. 82.7786 iterations 22\n",
            "Cbc0038I Pass  22: suminf.    1.77778 (7) obj. 93.7376 iterations 26\n",
            "Cbc0038I Pass  23: suminf.    1.77778 (6) obj. 96.203 iterations 7\n",
            "Cbc0038I Pass  24: suminf.    1.77778 (9) obj. 97.3144 iterations 25\n",
            "Cbc0038I Pass  25: suminf.    1.77778 (7) obj. 82.7786 iterations 25\n",
            "Cbc0038I Pass  26: suminf.    1.77778 (7) obj. 82.7786 iterations 4\n",
            "Cbc0038I Pass  27: suminf.    1.77778 (7) obj. 93.7376 iterations 25\n",
            "Cbc0038I Pass  28: suminf.    1.77778 (6) obj. 96.203 iterations 7\n",
            "Cbc0038I Pass  29: suminf.    1.77778 (9) obj. 97.3144 iterations 24\n",
            "Cbc0038I Pass  30: suminf.    1.77778 (7) obj. 82.7786 iterations 23\n",
            "Cbc0038I Pass  31: suminf.    1.77778 (7) obj. 82.7786 iterations 7\n",
            "Cbc0038I Pass  32: suminf.    1.77778 (7) obj. 93.7376 iterations 24\n",
            "Cbc0038I Pass  33: suminf.    1.77778 (6) obj. 96.203 iterations 7\n",
            "Cbc0038I Pass  34: suminf.    1.77778 (9) obj. 97.3144 iterations 27\n",
            "Cbc0038I Pass  35: suminf.    1.77778 (7) obj. 82.7786 iterations 23\n",
            "Cbc0038I Pass  36: suminf.    1.77778 (7) obj. 82.7786 iterations 7\n",
            "Cbc0038I Pass  37: suminf.    1.77778 (7) obj. 93.7376 iterations 25\n",
            "Cbc0038I Pass  38: suminf.    1.77778 (6) obj. 96.203 iterations 7\n",
            "Cbc0038I Pass  39: suminf.    1.77778 (9) obj. 97.3144 iterations 25\n",
            "Cbc0038I Pass  40: suminf.    1.77778 (7) obj. 82.7786 iterations 23\n",
            "Cbc0038I Pass  41: suminf.    1.77778 (7) obj. 82.7786 iterations 7\n",
            "Cbc0038I Pass  42: suminf.    1.77778 (7) obj. 93.7376 iterations 24\n",
            "Cbc0038I Pass  43: suminf.    1.77778 (6) obj. 96.203 iterations 6\n",
            "Cbc0038I Pass  44: suminf.    1.77778 (9) obj. 97.3144 iterations 24\n",
            "Cbc0038I No solution found this major pass\n",
            "Cbc0038I Before mini branch and bound, 60 integers at bound fixed and 1 continuous\n",
            "Cbc0038I Full problem 92 rows 99 columns, reduced to 45 rows 37 columns\n",
            "Cbc0038I Mini branch and bound did not improve solution (0.04 seconds)\n",
            "Cbc0038I After 0.04 seconds - Feasibility pump exiting with objective of 108.281 - took 0.03 seconds\n",
            "Cbc0012I Integer solution of 108.28136 found by feasibility pump after 0 iterations and 0 nodes (0.04 seconds)\n",
            "Cbc0038I Full problem 92 rows 99 columns, reduced to 78 rows 19 columns\n",
            "Cbc0031I 12 added rows had average density of 40\n",
            "Cbc0013I At root node, 12 cuts changed objective from 53.446815 to 74.531158 in 100 passes\n",
            "Cbc0014I Cut generator 0 (Probing) - 52 row cuts average 44.6 elements, 0 column cuts (0 active)  in 0.020 seconds - new frequency is 1\n",
            "Cbc0014I Cut generator 1 (Gomory) - 471 row cuts average 58.3 elements, 0 column cuts (0 active)  in 0.010 seconds - new frequency is 1\n",
            "Cbc0014I Cut generator 2 (Knapsack) - 0 row cuts average 0.0 elements, 0 column cuts (0 active)  in 0.008 seconds - new frequency is -100\n",
            "Cbc0014I Cut generator 3 (Clique) - 0 row cuts average 0.0 elements, 0 column cuts (0 active)  in 0.001 seconds - new frequency is -100\n",
            "Cbc0014I Cut generator 4 (OddWheel) - 0 row cuts average 0.0 elements, 0 column cuts (0 active)  in 0.002 seconds - new frequency is -100\n",
            "Cbc0014I Cut generator 5 (MixedIntegerRounding2) - 100 row cuts average 16.4 elements, 0 column cuts (0 active)  in 0.005 seconds - new frequency is 1\n",
            "Cbc0014I Cut generator 6 (FlowCover) - 0 row cuts average 0.0 elements, 0 column cuts (0 active)  in 0.006 seconds - new frequency is -100\n",
            "Cbc0014I Cut generator 7 (TwoMirCuts) - 139 row cuts average 17.2 elements, 0 column cuts (0 active)  in 0.003 seconds - new frequency is 1\n",
            "Cbc0016I Integer solution of 83.512913 found by strong branching after 1169 iterations and 14 nodes (0.15 seconds)\n",
            "Cbc0016I Integer solution of 82.728536 found by strong branching after 1201 iterations and 17 nodes (0.15 seconds)\n",
            "Cbc0016I Integer solution of 82.33721 found by strong branching after 1621 iterations and 39 nodes (0.17 seconds)\n",
            "Cbc0038I Full problem 92 rows 99 columns, reduced to 92 rows 68 columns - too large\n",
            "Cbc0001I Search completed - best objective 82.33721032981886, took 4460 iterations and 192 nodes (0.22 seconds)\n",
            "Cbc0032I Strong branching done 1070 times (10687 iterations), fathomed 36 nodes and fixed 58 variables\n",
            "Cbc0035I Maximum depth 15, 230 variables fixed on reduced cost\n",
            "Cuts at root node changed objective from 53.4468 to 74.5312\n",
            "Probing was tried 127 times and created 74 cuts (0.021133 seconds)\n",
            "Gomory was tried 125 times and created 516 cuts (0.010854 seconds)\n",
            "Knapsack was tried 100 times and created 0 cuts (0.008192 seconds)\n",
            "Clique was tried 100 times and created 0 cuts (0.001101 seconds)\n",
            "OddWheel was tried 100 times and created 0 cuts (0.00164 seconds)\n",
            "MixedIntegerRounding2 was tried 125 times and created 150 cuts (0.006024 seconds)\n",
            "FlowCover was tried 100 times and created 0 cuts (0.005897 seconds)\n",
            "TwoMirCuts was tried 125 times and created 230 cuts (0.004445 seconds)\n",
            "ZeroHalf was tried 1 times and created 0 cuts (5.9e-05 seconds)\n",
            "\n",
            "Result - Optimal solution found\n",
            "Objective value:                82.3372103298\n",
            "Enumerated nodes:               192\n",
            "Total iterations:               4460\n",
            "Time (CPU seconds):             0.201051\n",
            "Time (Wallclock seconds):       0.226287\n",
            "Total time (CPU seconds):       0.201122   (Wallclock seconds):       0.226634\n",
            "Ruta con distancia total 82.3372 encontrada: ciudad_0\n",
            " -> ciudad_9\n",
            " -> ciudad_1\n",
            " -> ciudad_2\n",
            " -> ciudad_8\n",
            " -> ciudad_7\n",
            " -> ciudad_6\n",
            " -> ciudad_3\n",
            " -> ciudad_4\n",
            " -> ciudad_5\n",
            " -> ciudad_0\n",
            "\n",
            "\n"
          ]
        }
      ],
      "source": [
        "# Optimizar\n",
        "model.optimize()\n",
        "\n",
        "# Revisar si se encontró una solución\n",
        "edges = []\n",
        "if model.num_solutions:\n",
        "    print('Ruta con distancia total %g encontrada: %s'\n",
        "              % (model.objective_value, points.index[0]))\n",
        "    nc = 0 # Indice de la ciudad actual\n",
        "    while True:\n",
        "        oc = nc\n",
        "        nc = [i for i in V if x[nc][i].x >= 0.99][0] # Indice de la ciudad a la que se siguió\n",
        "        edges.append((oc, nc)) # Guardamos el camino a tomar\n",
        "        print(' -> %s' % points.index[nc]) # Imprimimos el siguiente paso de la ruta\n",
        "        if nc == 0:  # Si regresa al inicio terminamos el ciclo\n",
        "            break\n",
        "    print('\\n')"
      ]
    },
    {
      "cell_type": "code",
      "execution_count": 20,
      "metadata": {
        "colab": {
          "base_uri": "https://localhost:8080/"
        },
        "id": "KzwZgMywrTVH",
        "outputId": "238a8dac-8b27-4200-a74b-628d41dd2c1a"
      },
      "outputs": [
        {
          "data": {
            "text/plain": [
              "[(0, 9),\n",
              " (9, 1),\n",
              " (1, 2),\n",
              " (2, 8),\n",
              " (8, 7),\n",
              " (7, 6),\n",
              " (6, 3),\n",
              " (3, 4),\n",
              " (4, 5),\n",
              " (5, 0)]"
            ]
          },
          "execution_count": 20,
          "metadata": {},
          "output_type": "execute_result"
        }
      ],
      "source": [
        "edges"
      ]
    },
    {
      "cell_type": "code",
      "execution_count": 21,
      "metadata": {
        "colab": {
          "base_uri": "https://localhost:8080/",
          "height": 542
        },
        "id": "o1ZP922Azyrh",
        "outputId": "7c56ce61-5e47-4a27-9914-0edd82f77e40"
      },
      "outputs": [
        {
          "data": {
            "application/vnd.plotly.v1+json": {
              "config": {
                "plotlyServerURL": "https://plot.ly"
              },
              "data": [
                {
                  "hovertemplate": "<b>%{hovertext}</b><br><br>x=%{x}<br>y=%{y}<extra></extra>",
                  "hovertext": [
                    "ciudad_0",
                    "ciudad_1",
                    "ciudad_2",
                    "ciudad_3",
                    "ciudad_4",
                    "ciudad_5",
                    "ciudad_6",
                    "ciudad_7",
                    "ciudad_8",
                    "ciudad_9"
                  ],
                  "legendgroup": "",
                  "marker": {
                    "color": "#636efa",
                    "line": {
                      "color": "DarkSlateGrey",
                      "width": 2
                    },
                    "size": 15,
                    "symbol": "circle"
                  },
                  "mode": "markers",
                  "name": "",
                  "orientation": "v",
                  "showlegend": false,
                  "textposition": "top right",
                  "texttemplate": "%{text:.2s}",
                  "type": "scatter",
                  "x": [
                    9,
                    4,
                    0,
                    27,
                    25,
                    16,
                    17,
                    8,
                    0,
                    8
                  ],
                  "xaxis": "x",
                  "y": [
                    29,
                    15,
                    17,
                    28,
                    29,
                    29,
                    26,
                    9,
                    10,
                    22
                  ],
                  "yaxis": "y"
                },
                {
                  "mode": "text",
                  "text": [
                    "7.0710678118654755"
                  ],
                  "textposition": "top right",
                  "texttemplate": "%{text:.2s}",
                  "type": "scatter",
                  "x": [
                    8.5
                  ],
                  "y": [
                    25.5
                  ]
                },
                {
                  "mode": "text",
                  "text": [
                    "8.06225774829855"
                  ],
                  "textposition": "top right",
                  "texttemplate": "%{text:.2s}",
                  "type": "scatter",
                  "x": [
                    6
                  ],
                  "y": [
                    18.5
                  ]
                },
                {
                  "mode": "text",
                  "text": [
                    "4.47213595499958"
                  ],
                  "textposition": "top right",
                  "texttemplate": "%{text:.2s}",
                  "type": "scatter",
                  "x": [
                    2
                  ],
                  "y": [
                    16
                  ]
                },
                {
                  "mode": "text",
                  "text": [
                    "7.0"
                  ],
                  "textposition": "top right",
                  "texttemplate": "%{text:.2s}",
                  "type": "scatter",
                  "x": [
                    0
                  ],
                  "y": [
                    13.5
                  ]
                },
                {
                  "mode": "text",
                  "text": [
                    "8.06225774829855"
                  ],
                  "textposition": "top right",
                  "texttemplate": "%{text:.2s}",
                  "type": "scatter",
                  "x": [
                    4
                  ],
                  "y": [
                    9.5
                  ]
                },
                {
                  "mode": "text",
                  "text": [
                    "19.235384061671343"
                  ],
                  "textposition": "top right",
                  "texttemplate": "%{text:.2s}",
                  "type": "scatter",
                  "x": [
                    12.5
                  ],
                  "y": [
                    17.5
                  ]
                },
                {
                  "mode": "text",
                  "text": [
                    "10.198039027185569"
                  ],
                  "textposition": "top right",
                  "texttemplate": "%{text:.2s}",
                  "type": "scatter",
                  "x": [
                    22
                  ],
                  "y": [
                    27
                  ]
                },
                {
                  "mode": "text",
                  "text": [
                    "2.23606797749979"
                  ],
                  "textposition": "top right",
                  "texttemplate": "%{text:.2s}",
                  "type": "scatter",
                  "x": [
                    26
                  ],
                  "y": [
                    28.5
                  ]
                },
                {
                  "mode": "text",
                  "text": [
                    "9.0"
                  ],
                  "textposition": "top right",
                  "texttemplate": "%{text:.2s}",
                  "type": "scatter",
                  "x": [
                    20.5
                  ],
                  "y": [
                    29
                  ]
                },
                {
                  "mode": "text",
                  "text": [
                    "7.0"
                  ],
                  "textposition": "top right",
                  "texttemplate": "%{text:.2s}",
                  "type": "scatter",
                  "x": [
                    12.5
                  ],
                  "y": [
                    29
                  ]
                }
              ],
              "layout": {
                "legend": {
                  "tracegroupgap": 0
                },
                "margin": {
                  "t": 60
                },
                "shapes": [
                  {
                    "line": {
                      "color": "rgb(0, 0, 0)"
                    },
                    "opacity": 0.09,
                    "type": "line",
                    "x0": 9,
                    "x1": 8,
                    "y0": 29,
                    "y1": 22
                  },
                  {
                    "line": {
                      "color": "rgb(0, 0, 0)"
                    },
                    "opacity": 0.09,
                    "type": "line",
                    "x0": 8,
                    "x1": 4,
                    "y0": 22,
                    "y1": 15
                  },
                  {
                    "line": {
                      "color": "rgb(0, 0, 0)"
                    },
                    "opacity": 0.09,
                    "type": "line",
                    "x0": 4,
                    "x1": 0,
                    "y0": 15,
                    "y1": 17
                  },
                  {
                    "line": {
                      "color": "rgb(0, 0, 0)"
                    },
                    "opacity": 0.09,
                    "type": "line",
                    "x0": 0,
                    "x1": 0,
                    "y0": 17,
                    "y1": 10
                  },
                  {
                    "line": {
                      "color": "rgb(0, 0, 0)"
                    },
                    "opacity": 0.09,
                    "type": "line",
                    "x0": 0,
                    "x1": 8,
                    "y0": 10,
                    "y1": 9
                  },
                  {
                    "line": {
                      "color": "rgb(0, 0, 0)"
                    },
                    "opacity": 0.09,
                    "type": "line",
                    "x0": 8,
                    "x1": 17,
                    "y0": 9,
                    "y1": 26
                  },
                  {
                    "line": {
                      "color": "rgb(0, 0, 0)"
                    },
                    "opacity": 0.09,
                    "type": "line",
                    "x0": 17,
                    "x1": 27,
                    "y0": 26,
                    "y1": 28
                  },
                  {
                    "line": {
                      "color": "rgb(0, 0, 0)"
                    },
                    "opacity": 0.09,
                    "type": "line",
                    "x0": 27,
                    "x1": 25,
                    "y0": 28,
                    "y1": 29
                  },
                  {
                    "line": {
                      "color": "rgb(0, 0, 0)"
                    },
                    "opacity": 0.09,
                    "type": "line",
                    "x0": 25,
                    "x1": 16,
                    "y0": 29,
                    "y1": 29
                  },
                  {
                    "line": {
                      "color": "rgb(0, 0, 0)"
                    },
                    "opacity": 0.09,
                    "type": "line",
                    "x0": 16,
                    "x1": 9,
                    "y0": 29,
                    "y1": 29
                  }
                ],
                "showlegend": false,
                "template": {
                  "data": {
                    "bar": [
                      {
                        "error_x": {
                          "color": "#2a3f5f"
                        },
                        "error_y": {
                          "color": "#2a3f5f"
                        },
                        "marker": {
                          "line": {
                            "color": "white",
                            "width": 0.5
                          },
                          "pattern": {
                            "fillmode": "overlay",
                            "size": 10,
                            "solidity": 0.2
                          }
                        },
                        "type": "bar"
                      }
                    ],
                    "barpolar": [
                      {
                        "marker": {
                          "line": {
                            "color": "white",
                            "width": 0.5
                          },
                          "pattern": {
                            "fillmode": "overlay",
                            "size": 10,
                            "solidity": 0.2
                          }
                        },
                        "type": "barpolar"
                      }
                    ],
                    "carpet": [
                      {
                        "aaxis": {
                          "endlinecolor": "#2a3f5f",
                          "gridcolor": "#C8D4E3",
                          "linecolor": "#C8D4E3",
                          "minorgridcolor": "#C8D4E3",
                          "startlinecolor": "#2a3f5f"
                        },
                        "baxis": {
                          "endlinecolor": "#2a3f5f",
                          "gridcolor": "#C8D4E3",
                          "linecolor": "#C8D4E3",
                          "minorgridcolor": "#C8D4E3",
                          "startlinecolor": "#2a3f5f"
                        },
                        "type": "carpet"
                      }
                    ],
                    "choropleth": [
                      {
                        "colorbar": {
                          "outlinewidth": 0,
                          "ticks": ""
                        },
                        "type": "choropleth"
                      }
                    ],
                    "contour": [
                      {
                        "colorbar": {
                          "outlinewidth": 0,
                          "ticks": ""
                        },
                        "colorscale": [
                          [
                            0,
                            "#0d0887"
                          ],
                          [
                            0.1111111111111111,
                            "#46039f"
                          ],
                          [
                            0.2222222222222222,
                            "#7201a8"
                          ],
                          [
                            0.3333333333333333,
                            "#9c179e"
                          ],
                          [
                            0.4444444444444444,
                            "#bd3786"
                          ],
                          [
                            0.5555555555555556,
                            "#d8576b"
                          ],
                          [
                            0.6666666666666666,
                            "#ed7953"
                          ],
                          [
                            0.7777777777777778,
                            "#fb9f3a"
                          ],
                          [
                            0.8888888888888888,
                            "#fdca26"
                          ],
                          [
                            1,
                            "#f0f921"
                          ]
                        ],
                        "type": "contour"
                      }
                    ],
                    "contourcarpet": [
                      {
                        "colorbar": {
                          "outlinewidth": 0,
                          "ticks": ""
                        },
                        "type": "contourcarpet"
                      }
                    ],
                    "heatmap": [
                      {
                        "colorbar": {
                          "outlinewidth": 0,
                          "ticks": ""
                        },
                        "colorscale": [
                          [
                            0,
                            "#0d0887"
                          ],
                          [
                            0.1111111111111111,
                            "#46039f"
                          ],
                          [
                            0.2222222222222222,
                            "#7201a8"
                          ],
                          [
                            0.3333333333333333,
                            "#9c179e"
                          ],
                          [
                            0.4444444444444444,
                            "#bd3786"
                          ],
                          [
                            0.5555555555555556,
                            "#d8576b"
                          ],
                          [
                            0.6666666666666666,
                            "#ed7953"
                          ],
                          [
                            0.7777777777777778,
                            "#fb9f3a"
                          ],
                          [
                            0.8888888888888888,
                            "#fdca26"
                          ],
                          [
                            1,
                            "#f0f921"
                          ]
                        ],
                        "type": "heatmap"
                      }
                    ],
                    "heatmapgl": [
                      {
                        "colorbar": {
                          "outlinewidth": 0,
                          "ticks": ""
                        },
                        "colorscale": [
                          [
                            0,
                            "#0d0887"
                          ],
                          [
                            0.1111111111111111,
                            "#46039f"
                          ],
                          [
                            0.2222222222222222,
                            "#7201a8"
                          ],
                          [
                            0.3333333333333333,
                            "#9c179e"
                          ],
                          [
                            0.4444444444444444,
                            "#bd3786"
                          ],
                          [
                            0.5555555555555556,
                            "#d8576b"
                          ],
                          [
                            0.6666666666666666,
                            "#ed7953"
                          ],
                          [
                            0.7777777777777778,
                            "#fb9f3a"
                          ],
                          [
                            0.8888888888888888,
                            "#fdca26"
                          ],
                          [
                            1,
                            "#f0f921"
                          ]
                        ],
                        "type": "heatmapgl"
                      }
                    ],
                    "histogram": [
                      {
                        "marker": {
                          "pattern": {
                            "fillmode": "overlay",
                            "size": 10,
                            "solidity": 0.2
                          }
                        },
                        "type": "histogram"
                      }
                    ],
                    "histogram2d": [
                      {
                        "colorbar": {
                          "outlinewidth": 0,
                          "ticks": ""
                        },
                        "colorscale": [
                          [
                            0,
                            "#0d0887"
                          ],
                          [
                            0.1111111111111111,
                            "#46039f"
                          ],
                          [
                            0.2222222222222222,
                            "#7201a8"
                          ],
                          [
                            0.3333333333333333,
                            "#9c179e"
                          ],
                          [
                            0.4444444444444444,
                            "#bd3786"
                          ],
                          [
                            0.5555555555555556,
                            "#d8576b"
                          ],
                          [
                            0.6666666666666666,
                            "#ed7953"
                          ],
                          [
                            0.7777777777777778,
                            "#fb9f3a"
                          ],
                          [
                            0.8888888888888888,
                            "#fdca26"
                          ],
                          [
                            1,
                            "#f0f921"
                          ]
                        ],
                        "type": "histogram2d"
                      }
                    ],
                    "histogram2dcontour": [
                      {
                        "colorbar": {
                          "outlinewidth": 0,
                          "ticks": ""
                        },
                        "colorscale": [
                          [
                            0,
                            "#0d0887"
                          ],
                          [
                            0.1111111111111111,
                            "#46039f"
                          ],
                          [
                            0.2222222222222222,
                            "#7201a8"
                          ],
                          [
                            0.3333333333333333,
                            "#9c179e"
                          ],
                          [
                            0.4444444444444444,
                            "#bd3786"
                          ],
                          [
                            0.5555555555555556,
                            "#d8576b"
                          ],
                          [
                            0.6666666666666666,
                            "#ed7953"
                          ],
                          [
                            0.7777777777777778,
                            "#fb9f3a"
                          ],
                          [
                            0.8888888888888888,
                            "#fdca26"
                          ],
                          [
                            1,
                            "#f0f921"
                          ]
                        ],
                        "type": "histogram2dcontour"
                      }
                    ],
                    "mesh3d": [
                      {
                        "colorbar": {
                          "outlinewidth": 0,
                          "ticks": ""
                        },
                        "type": "mesh3d"
                      }
                    ],
                    "parcoords": [
                      {
                        "line": {
                          "colorbar": {
                            "outlinewidth": 0,
                            "ticks": ""
                          }
                        },
                        "type": "parcoords"
                      }
                    ],
                    "pie": [
                      {
                        "automargin": true,
                        "type": "pie"
                      }
                    ],
                    "scatter": [
                      {
                        "fillpattern": {
                          "fillmode": "overlay",
                          "size": 10,
                          "solidity": 0.2
                        },
                        "type": "scatter"
                      }
                    ],
                    "scatter3d": [
                      {
                        "line": {
                          "colorbar": {
                            "outlinewidth": 0,
                            "ticks": ""
                          }
                        },
                        "marker": {
                          "colorbar": {
                            "outlinewidth": 0,
                            "ticks": ""
                          }
                        },
                        "type": "scatter3d"
                      }
                    ],
                    "scattercarpet": [
                      {
                        "marker": {
                          "colorbar": {
                            "outlinewidth": 0,
                            "ticks": ""
                          }
                        },
                        "type": "scattercarpet"
                      }
                    ],
                    "scattergeo": [
                      {
                        "marker": {
                          "colorbar": {
                            "outlinewidth": 0,
                            "ticks": ""
                          }
                        },
                        "type": "scattergeo"
                      }
                    ],
                    "scattergl": [
                      {
                        "marker": {
                          "colorbar": {
                            "outlinewidth": 0,
                            "ticks": ""
                          }
                        },
                        "type": "scattergl"
                      }
                    ],
                    "scattermapbox": [
                      {
                        "marker": {
                          "colorbar": {
                            "outlinewidth": 0,
                            "ticks": ""
                          }
                        },
                        "type": "scattermapbox"
                      }
                    ],
                    "scatterpolar": [
                      {
                        "marker": {
                          "colorbar": {
                            "outlinewidth": 0,
                            "ticks": ""
                          }
                        },
                        "type": "scatterpolar"
                      }
                    ],
                    "scatterpolargl": [
                      {
                        "marker": {
                          "colorbar": {
                            "outlinewidth": 0,
                            "ticks": ""
                          }
                        },
                        "type": "scatterpolargl"
                      }
                    ],
                    "scatterternary": [
                      {
                        "marker": {
                          "colorbar": {
                            "outlinewidth": 0,
                            "ticks": ""
                          }
                        },
                        "type": "scatterternary"
                      }
                    ],
                    "surface": [
                      {
                        "colorbar": {
                          "outlinewidth": 0,
                          "ticks": ""
                        },
                        "colorscale": [
                          [
                            0,
                            "#0d0887"
                          ],
                          [
                            0.1111111111111111,
                            "#46039f"
                          ],
                          [
                            0.2222222222222222,
                            "#7201a8"
                          ],
                          [
                            0.3333333333333333,
                            "#9c179e"
                          ],
                          [
                            0.4444444444444444,
                            "#bd3786"
                          ],
                          [
                            0.5555555555555556,
                            "#d8576b"
                          ],
                          [
                            0.6666666666666666,
                            "#ed7953"
                          ],
                          [
                            0.7777777777777778,
                            "#fb9f3a"
                          ],
                          [
                            0.8888888888888888,
                            "#fdca26"
                          ],
                          [
                            1,
                            "#f0f921"
                          ]
                        ],
                        "type": "surface"
                      }
                    ],
                    "table": [
                      {
                        "cells": {
                          "fill": {
                            "color": "#EBF0F8"
                          },
                          "line": {
                            "color": "white"
                          }
                        },
                        "header": {
                          "fill": {
                            "color": "#C8D4E3"
                          },
                          "line": {
                            "color": "white"
                          }
                        },
                        "type": "table"
                      }
                    ]
                  },
                  "layout": {
                    "annotationdefaults": {
                      "arrowcolor": "#2a3f5f",
                      "arrowhead": 0,
                      "arrowwidth": 1
                    },
                    "autotypenumbers": "strict",
                    "coloraxis": {
                      "colorbar": {
                        "outlinewidth": 0,
                        "ticks": ""
                      }
                    },
                    "colorscale": {
                      "diverging": [
                        [
                          0,
                          "#8e0152"
                        ],
                        [
                          0.1,
                          "#c51b7d"
                        ],
                        [
                          0.2,
                          "#de77ae"
                        ],
                        [
                          0.3,
                          "#f1b6da"
                        ],
                        [
                          0.4,
                          "#fde0ef"
                        ],
                        [
                          0.5,
                          "#f7f7f7"
                        ],
                        [
                          0.6,
                          "#e6f5d0"
                        ],
                        [
                          0.7,
                          "#b8e186"
                        ],
                        [
                          0.8,
                          "#7fbc41"
                        ],
                        [
                          0.9,
                          "#4d9221"
                        ],
                        [
                          1,
                          "#276419"
                        ]
                      ],
                      "sequential": [
                        [
                          0,
                          "#0d0887"
                        ],
                        [
                          0.1111111111111111,
                          "#46039f"
                        ],
                        [
                          0.2222222222222222,
                          "#7201a8"
                        ],
                        [
                          0.3333333333333333,
                          "#9c179e"
                        ],
                        [
                          0.4444444444444444,
                          "#bd3786"
                        ],
                        [
                          0.5555555555555556,
                          "#d8576b"
                        ],
                        [
                          0.6666666666666666,
                          "#ed7953"
                        ],
                        [
                          0.7777777777777778,
                          "#fb9f3a"
                        ],
                        [
                          0.8888888888888888,
                          "#fdca26"
                        ],
                        [
                          1,
                          "#f0f921"
                        ]
                      ],
                      "sequentialminus": [
                        [
                          0,
                          "#0d0887"
                        ],
                        [
                          0.1111111111111111,
                          "#46039f"
                        ],
                        [
                          0.2222222222222222,
                          "#7201a8"
                        ],
                        [
                          0.3333333333333333,
                          "#9c179e"
                        ],
                        [
                          0.4444444444444444,
                          "#bd3786"
                        ],
                        [
                          0.5555555555555556,
                          "#d8576b"
                        ],
                        [
                          0.6666666666666666,
                          "#ed7953"
                        ],
                        [
                          0.7777777777777778,
                          "#fb9f3a"
                        ],
                        [
                          0.8888888888888888,
                          "#fdca26"
                        ],
                        [
                          1,
                          "#f0f921"
                        ]
                      ]
                    },
                    "colorway": [
                      "#636efa",
                      "#EF553B",
                      "#00cc96",
                      "#ab63fa",
                      "#FFA15A",
                      "#19d3f3",
                      "#FF6692",
                      "#B6E880",
                      "#FF97FF",
                      "#FECB52"
                    ],
                    "font": {
                      "color": "#2a3f5f"
                    },
                    "geo": {
                      "bgcolor": "white",
                      "lakecolor": "white",
                      "landcolor": "white",
                      "showlakes": true,
                      "showland": true,
                      "subunitcolor": "#C8D4E3"
                    },
                    "hoverlabel": {
                      "align": "left"
                    },
                    "hovermode": "closest",
                    "mapbox": {
                      "style": "light"
                    },
                    "paper_bgcolor": "white",
                    "plot_bgcolor": "white",
                    "polar": {
                      "angularaxis": {
                        "gridcolor": "#EBF0F8",
                        "linecolor": "#EBF0F8",
                        "ticks": ""
                      },
                      "bgcolor": "white",
                      "radialaxis": {
                        "gridcolor": "#EBF0F8",
                        "linecolor": "#EBF0F8",
                        "ticks": ""
                      }
                    },
                    "scene": {
                      "xaxis": {
                        "backgroundcolor": "white",
                        "gridcolor": "#DFE8F3",
                        "gridwidth": 2,
                        "linecolor": "#EBF0F8",
                        "showbackground": true,
                        "ticks": "",
                        "zerolinecolor": "#EBF0F8"
                      },
                      "yaxis": {
                        "backgroundcolor": "white",
                        "gridcolor": "#DFE8F3",
                        "gridwidth": 2,
                        "linecolor": "#EBF0F8",
                        "showbackground": true,
                        "ticks": "",
                        "zerolinecolor": "#EBF0F8"
                      },
                      "zaxis": {
                        "backgroundcolor": "white",
                        "gridcolor": "#DFE8F3",
                        "gridwidth": 2,
                        "linecolor": "#EBF0F8",
                        "showbackground": true,
                        "ticks": "",
                        "zerolinecolor": "#EBF0F8"
                      }
                    },
                    "shapedefaults": {
                      "line": {
                        "color": "#2a3f5f"
                      }
                    },
                    "ternary": {
                      "aaxis": {
                        "gridcolor": "#DFE8F3",
                        "linecolor": "#A2B1C6",
                        "ticks": ""
                      },
                      "baxis": {
                        "gridcolor": "#DFE8F3",
                        "linecolor": "#A2B1C6",
                        "ticks": ""
                      },
                      "bgcolor": "white",
                      "caxis": {
                        "gridcolor": "#DFE8F3",
                        "linecolor": "#A2B1C6",
                        "ticks": ""
                      }
                    },
                    "title": {
                      "x": 0.05
                    },
                    "xaxis": {
                      "automargin": true,
                      "gridcolor": "#EBF0F8",
                      "linecolor": "#EBF0F8",
                      "ticks": "",
                      "title": {
                        "standoff": 15
                      },
                      "zerolinecolor": "#EBF0F8",
                      "zerolinewidth": 2
                    },
                    "yaxis": {
                      "automargin": true,
                      "gridcolor": "#EBF0F8",
                      "linecolor": "#EBF0F8",
                      "ticks": "",
                      "title": {
                        "standoff": 15
                      },
                      "zerolinecolor": "#EBF0F8",
                      "zerolinewidth": 2
                    }
                  }
                },
                "uniformtext": {
                  "minsize": 8,
                  "mode": "hide"
                },
                "xaxis": {
                  "anchor": "y",
                  "domain": [
                    0,
                    1
                  ],
                  "title": {
                    "text": "x"
                  }
                },
                "yaxis": {
                  "anchor": "x",
                  "domain": [
                    0,
                    1
                  ],
                  "title": {
                    "text": "y"
                  }
                }
              }
            }
          },
          "metadata": {},
          "output_type": "display_data"
        }
      ],
      "source": [
        "plot_cities_and_route(points, edges)"
      ]
    },
    {
      "cell_type": "markdown",
      "metadata": {
        "id": "WPQbrkoQzQ8u"
      },
      "source": [
        "## Datos Reales"
      ]
    },
    {
      "cell_type": "markdown",
      "metadata": {},
      "source": [
        "Datos provenientes de: https://pmc.ncbi.nlm.nih.gov/articles/PMC5780421/"
      ]
    },
    {
      "cell_type": "code",
      "execution_count": null,
      "metadata": {
        "colab": {
          "base_uri": "https://localhost:8080/"
        },
        "id": "Wk8ETU_qzUyx",
        "outputId": "b3c4af38-4936-43bd-d085-be452546984d"
      },
      "outputs": [],
      "source": [
        "!pip3 install geopandas"
      ]
    },
    {
      "cell_type": "code",
      "execution_count": 24,
      "metadata": {
        "id": "-fbu8seXzgSR"
      },
      "outputs": [],
      "source": [
        "import geopandas as gpd\n",
        "from shapely.geometry import Point"
      ]
    },
    {
      "cell_type": "code",
      "execution_count": 25,
      "metadata": {
        "colab": {
          "base_uri": "https://localhost:8080/",
          "height": 223
        },
        "id": "Hv0oWmMgzjUi",
        "outputId": "f10d4981-5cda-4fb0-859c-f8745c2e8d49"
      },
      "outputs": [
        {
          "ename": "HTTPError",
          "evalue": "HTTP Error 403: Forbidden",
          "output_type": "error",
          "traceback": [
            "\u001b[0;31m---------------------------------------------------------------------------\u001b[0m",
            "\u001b[0;31mHTTPError\u001b[0m                                 Traceback (most recent call last)",
            "Cell \u001b[0;32mIn[25], line 3\u001b[0m\n\u001b[1;32m      1\u001b[0m \u001b[38;5;66;03m#import data from file\u001b[39;00m\n\u001b[1;32m      2\u001b[0m url \u001b[38;5;241m=\u001b[39m \u001b[38;5;124m'\u001b[39m\u001b[38;5;124mhttps://www.ncbi.nlm.nih.gov/pmc/articles/PMC5780421/bin/41598_2018_19772_MOESM3_ESM.xlsx\u001b[39m\u001b[38;5;124m'\u001b[39m\n\u001b[0;32m----> 3\u001b[0m data \u001b[38;5;241m=\u001b[39m \u001b[43mpd\u001b[49m\u001b[38;5;241;43m.\u001b[39;49m\u001b[43mread_excel\u001b[49m\u001b[43m(\u001b[49m\u001b[43murl\u001b[49m\u001b[43m)\u001b[49m\n\u001b[1;32m      4\u001b[0m \u001b[38;5;28mprint\u001b[39m(data\u001b[38;5;241m.\u001b[39mshape)\n\u001b[1;32m      5\u001b[0m data\u001b[38;5;241m.\u001b[39mhead()\n",
            "File \u001b[0;32m~/Library/Python/3.9/lib/python/site-packages/pandas/io/excel/_base.py:495\u001b[0m, in \u001b[0;36mread_excel\u001b[0;34m(io, sheet_name, header, names, index_col, usecols, dtype, engine, converters, true_values, false_values, skiprows, nrows, na_values, keep_default_na, na_filter, verbose, parse_dates, date_parser, date_format, thousands, decimal, comment, skipfooter, storage_options, dtype_backend, engine_kwargs)\u001b[0m\n\u001b[1;32m    493\u001b[0m \u001b[38;5;28;01mif\u001b[39;00m \u001b[38;5;129;01mnot\u001b[39;00m \u001b[38;5;28misinstance\u001b[39m(io, ExcelFile):\n\u001b[1;32m    494\u001b[0m     should_close \u001b[38;5;241m=\u001b[39m \u001b[38;5;28;01mTrue\u001b[39;00m\n\u001b[0;32m--> 495\u001b[0m     io \u001b[38;5;241m=\u001b[39m \u001b[43mExcelFile\u001b[49m\u001b[43m(\u001b[49m\n\u001b[1;32m    496\u001b[0m \u001b[43m        \u001b[49m\u001b[43mio\u001b[49m\u001b[43m,\u001b[49m\n\u001b[1;32m    497\u001b[0m \u001b[43m        \u001b[49m\u001b[43mstorage_options\u001b[49m\u001b[38;5;241;43m=\u001b[39;49m\u001b[43mstorage_options\u001b[49m\u001b[43m,\u001b[49m\n\u001b[1;32m    498\u001b[0m \u001b[43m        \u001b[49m\u001b[43mengine\u001b[49m\u001b[38;5;241;43m=\u001b[39;49m\u001b[43mengine\u001b[49m\u001b[43m,\u001b[49m\n\u001b[1;32m    499\u001b[0m \u001b[43m        \u001b[49m\u001b[43mengine_kwargs\u001b[49m\u001b[38;5;241;43m=\u001b[39;49m\u001b[43mengine_kwargs\u001b[49m\u001b[43m,\u001b[49m\n\u001b[1;32m    500\u001b[0m \u001b[43m    \u001b[49m\u001b[43m)\u001b[49m\n\u001b[1;32m    501\u001b[0m \u001b[38;5;28;01melif\u001b[39;00m engine \u001b[38;5;129;01mand\u001b[39;00m engine \u001b[38;5;241m!=\u001b[39m io\u001b[38;5;241m.\u001b[39mengine:\n\u001b[1;32m    502\u001b[0m     \u001b[38;5;28;01mraise\u001b[39;00m \u001b[38;5;167;01mValueError\u001b[39;00m(\n\u001b[1;32m    503\u001b[0m         \u001b[38;5;124m\"\u001b[39m\u001b[38;5;124mEngine should not be specified when passing \u001b[39m\u001b[38;5;124m\"\u001b[39m\n\u001b[1;32m    504\u001b[0m         \u001b[38;5;124m\"\u001b[39m\u001b[38;5;124man ExcelFile - ExcelFile already has the engine set\u001b[39m\u001b[38;5;124m\"\u001b[39m\n\u001b[1;32m    505\u001b[0m     )\n",
            "File \u001b[0;32m~/Library/Python/3.9/lib/python/site-packages/pandas/io/excel/_base.py:1550\u001b[0m, in \u001b[0;36mExcelFile.__init__\u001b[0;34m(self, path_or_buffer, engine, storage_options, engine_kwargs)\u001b[0m\n\u001b[1;32m   1548\u001b[0m     ext \u001b[38;5;241m=\u001b[39m \u001b[38;5;124m\"\u001b[39m\u001b[38;5;124mxls\u001b[39m\u001b[38;5;124m\"\u001b[39m\n\u001b[1;32m   1549\u001b[0m \u001b[38;5;28;01melse\u001b[39;00m:\n\u001b[0;32m-> 1550\u001b[0m     ext \u001b[38;5;241m=\u001b[39m \u001b[43minspect_excel_format\u001b[49m\u001b[43m(\u001b[49m\n\u001b[1;32m   1551\u001b[0m \u001b[43m        \u001b[49m\u001b[43mcontent_or_path\u001b[49m\u001b[38;5;241;43m=\u001b[39;49m\u001b[43mpath_or_buffer\u001b[49m\u001b[43m,\u001b[49m\u001b[43m \u001b[49m\u001b[43mstorage_options\u001b[49m\u001b[38;5;241;43m=\u001b[39;49m\u001b[43mstorage_options\u001b[49m\n\u001b[1;32m   1552\u001b[0m \u001b[43m    \u001b[49m\u001b[43m)\u001b[49m\n\u001b[1;32m   1553\u001b[0m     \u001b[38;5;28;01mif\u001b[39;00m ext \u001b[38;5;129;01mis\u001b[39;00m \u001b[38;5;28;01mNone\u001b[39;00m:\n\u001b[1;32m   1554\u001b[0m         \u001b[38;5;28;01mraise\u001b[39;00m \u001b[38;5;167;01mValueError\u001b[39;00m(\n\u001b[1;32m   1555\u001b[0m             \u001b[38;5;124m\"\u001b[39m\u001b[38;5;124mExcel file format cannot be determined, you must specify \u001b[39m\u001b[38;5;124m\"\u001b[39m\n\u001b[1;32m   1556\u001b[0m             \u001b[38;5;124m\"\u001b[39m\u001b[38;5;124man engine manually.\u001b[39m\u001b[38;5;124m\"\u001b[39m\n\u001b[1;32m   1557\u001b[0m         )\n",
            "File \u001b[0;32m~/Library/Python/3.9/lib/python/site-packages/pandas/io/excel/_base.py:1402\u001b[0m, in \u001b[0;36minspect_excel_format\u001b[0;34m(content_or_path, storage_options)\u001b[0m\n\u001b[1;32m   1399\u001b[0m \u001b[38;5;28;01mif\u001b[39;00m \u001b[38;5;28misinstance\u001b[39m(content_or_path, \u001b[38;5;28mbytes\u001b[39m):\n\u001b[1;32m   1400\u001b[0m     content_or_path \u001b[38;5;241m=\u001b[39m BytesIO(content_or_path)\n\u001b[0;32m-> 1402\u001b[0m \u001b[38;5;28;01mwith\u001b[39;00m \u001b[43mget_handle\u001b[49m\u001b[43m(\u001b[49m\n\u001b[1;32m   1403\u001b[0m \u001b[43m    \u001b[49m\u001b[43mcontent_or_path\u001b[49m\u001b[43m,\u001b[49m\u001b[43m \u001b[49m\u001b[38;5;124;43m\"\u001b[39;49m\u001b[38;5;124;43mrb\u001b[39;49m\u001b[38;5;124;43m\"\u001b[39;49m\u001b[43m,\u001b[49m\u001b[43m \u001b[49m\u001b[43mstorage_options\u001b[49m\u001b[38;5;241;43m=\u001b[39;49m\u001b[43mstorage_options\u001b[49m\u001b[43m,\u001b[49m\u001b[43m \u001b[49m\u001b[43mis_text\u001b[49m\u001b[38;5;241;43m=\u001b[39;49m\u001b[38;5;28;43;01mFalse\u001b[39;49;00m\n\u001b[1;32m   1404\u001b[0m \u001b[43m\u001b[49m\u001b[43m)\u001b[49m \u001b[38;5;28;01mas\u001b[39;00m handle:\n\u001b[1;32m   1405\u001b[0m     stream \u001b[38;5;241m=\u001b[39m handle\u001b[38;5;241m.\u001b[39mhandle\n\u001b[1;32m   1406\u001b[0m     stream\u001b[38;5;241m.\u001b[39mseek(\u001b[38;5;241m0\u001b[39m)\n",
            "File \u001b[0;32m~/Library/Python/3.9/lib/python/site-packages/pandas/io/common.py:728\u001b[0m, in \u001b[0;36mget_handle\u001b[0;34m(path_or_buf, mode, encoding, compression, memory_map, is_text, errors, storage_options)\u001b[0m\n\u001b[1;32m    725\u001b[0m     codecs\u001b[38;5;241m.\u001b[39mlookup_error(errors)\n\u001b[1;32m    727\u001b[0m \u001b[38;5;66;03m# open URLs\u001b[39;00m\n\u001b[0;32m--> 728\u001b[0m ioargs \u001b[38;5;241m=\u001b[39m \u001b[43m_get_filepath_or_buffer\u001b[49m\u001b[43m(\u001b[49m\n\u001b[1;32m    729\u001b[0m \u001b[43m    \u001b[49m\u001b[43mpath_or_buf\u001b[49m\u001b[43m,\u001b[49m\n\u001b[1;32m    730\u001b[0m \u001b[43m    \u001b[49m\u001b[43mencoding\u001b[49m\u001b[38;5;241;43m=\u001b[39;49m\u001b[43mencoding\u001b[49m\u001b[43m,\u001b[49m\n\u001b[1;32m    731\u001b[0m \u001b[43m    \u001b[49m\u001b[43mcompression\u001b[49m\u001b[38;5;241;43m=\u001b[39;49m\u001b[43mcompression\u001b[49m\u001b[43m,\u001b[49m\n\u001b[1;32m    732\u001b[0m \u001b[43m    \u001b[49m\u001b[43mmode\u001b[49m\u001b[38;5;241;43m=\u001b[39;49m\u001b[43mmode\u001b[49m\u001b[43m,\u001b[49m\n\u001b[1;32m    733\u001b[0m \u001b[43m    \u001b[49m\u001b[43mstorage_options\u001b[49m\u001b[38;5;241;43m=\u001b[39;49m\u001b[43mstorage_options\u001b[49m\u001b[43m,\u001b[49m\n\u001b[1;32m    734\u001b[0m \u001b[43m\u001b[49m\u001b[43m)\u001b[49m\n\u001b[1;32m    736\u001b[0m handle \u001b[38;5;241m=\u001b[39m ioargs\u001b[38;5;241m.\u001b[39mfilepath_or_buffer\n\u001b[1;32m    737\u001b[0m handles: \u001b[38;5;28mlist\u001b[39m[BaseBuffer]\n",
            "File \u001b[0;32m~/Library/Python/3.9/lib/python/site-packages/pandas/io/common.py:384\u001b[0m, in \u001b[0;36m_get_filepath_or_buffer\u001b[0;34m(filepath_or_buffer, encoding, compression, mode, storage_options)\u001b[0m\n\u001b[1;32m    382\u001b[0m \u001b[38;5;66;03m# assuming storage_options is to be interpreted as headers\u001b[39;00m\n\u001b[1;32m    383\u001b[0m req_info \u001b[38;5;241m=\u001b[39m urllib\u001b[38;5;241m.\u001b[39mrequest\u001b[38;5;241m.\u001b[39mRequest(filepath_or_buffer, headers\u001b[38;5;241m=\u001b[39mstorage_options)\n\u001b[0;32m--> 384\u001b[0m \u001b[38;5;28;01mwith\u001b[39;00m \u001b[43murlopen\u001b[49m\u001b[43m(\u001b[49m\u001b[43mreq_info\u001b[49m\u001b[43m)\u001b[49m \u001b[38;5;28;01mas\u001b[39;00m req:\n\u001b[1;32m    385\u001b[0m     content_encoding \u001b[38;5;241m=\u001b[39m req\u001b[38;5;241m.\u001b[39mheaders\u001b[38;5;241m.\u001b[39mget(\u001b[38;5;124m\"\u001b[39m\u001b[38;5;124mContent-Encoding\u001b[39m\u001b[38;5;124m\"\u001b[39m, \u001b[38;5;28;01mNone\u001b[39;00m)\n\u001b[1;32m    386\u001b[0m     \u001b[38;5;28;01mif\u001b[39;00m content_encoding \u001b[38;5;241m==\u001b[39m \u001b[38;5;124m\"\u001b[39m\u001b[38;5;124mgzip\u001b[39m\u001b[38;5;124m\"\u001b[39m:\n\u001b[1;32m    387\u001b[0m         \u001b[38;5;66;03m# Override compression based on Content-Encoding header\u001b[39;00m\n",
            "File \u001b[0;32m~/Library/Python/3.9/lib/python/site-packages/pandas/io/common.py:289\u001b[0m, in \u001b[0;36murlopen\u001b[0;34m(*args, **kwargs)\u001b[0m\n\u001b[1;32m    283\u001b[0m \u001b[38;5;250m\u001b[39m\u001b[38;5;124;03m\"\"\"\u001b[39;00m\n\u001b[1;32m    284\u001b[0m \u001b[38;5;124;03mLazy-import wrapper for stdlib urlopen, as that imports a big chunk of\u001b[39;00m\n\u001b[1;32m    285\u001b[0m \u001b[38;5;124;03mthe stdlib.\u001b[39;00m\n\u001b[1;32m    286\u001b[0m \u001b[38;5;124;03m\"\"\"\u001b[39;00m\n\u001b[1;32m    287\u001b[0m \u001b[38;5;28;01mimport\u001b[39;00m \u001b[38;5;21;01murllib\u001b[39;00m\u001b[38;5;21;01m.\u001b[39;00m\u001b[38;5;21;01mrequest\u001b[39;00m\n\u001b[0;32m--> 289\u001b[0m \u001b[38;5;28;01mreturn\u001b[39;00m \u001b[43murllib\u001b[49m\u001b[38;5;241;43m.\u001b[39;49m\u001b[43mrequest\u001b[49m\u001b[38;5;241;43m.\u001b[39;49m\u001b[43murlopen\u001b[49m\u001b[43m(\u001b[49m\u001b[38;5;241;43m*\u001b[39;49m\u001b[43margs\u001b[49m\u001b[43m,\u001b[49m\u001b[43m \u001b[49m\u001b[38;5;241;43m*\u001b[39;49m\u001b[38;5;241;43m*\u001b[39;49m\u001b[43mkwargs\u001b[49m\u001b[43m)\u001b[49m\n",
            "File \u001b[0;32m/Library/Developer/CommandLineTools/Library/Frameworks/Python3.framework/Versions/3.9/lib/python3.9/urllib/request.py:214\u001b[0m, in \u001b[0;36murlopen\u001b[0;34m(url, data, timeout, cafile, capath, cadefault, context)\u001b[0m\n\u001b[1;32m    212\u001b[0m \u001b[38;5;28;01melse\u001b[39;00m:\n\u001b[1;32m    213\u001b[0m     opener \u001b[38;5;241m=\u001b[39m _opener\n\u001b[0;32m--> 214\u001b[0m \u001b[38;5;28;01mreturn\u001b[39;00m \u001b[43mopener\u001b[49m\u001b[38;5;241;43m.\u001b[39;49m\u001b[43mopen\u001b[49m\u001b[43m(\u001b[49m\u001b[43murl\u001b[49m\u001b[43m,\u001b[49m\u001b[43m \u001b[49m\u001b[43mdata\u001b[49m\u001b[43m,\u001b[49m\u001b[43m \u001b[49m\u001b[43mtimeout\u001b[49m\u001b[43m)\u001b[49m\n",
            "File \u001b[0;32m/Library/Developer/CommandLineTools/Library/Frameworks/Python3.framework/Versions/3.9/lib/python3.9/urllib/request.py:523\u001b[0m, in \u001b[0;36mOpenerDirector.open\u001b[0;34m(self, fullurl, data, timeout)\u001b[0m\n\u001b[1;32m    521\u001b[0m \u001b[38;5;28;01mfor\u001b[39;00m processor \u001b[38;5;129;01min\u001b[39;00m \u001b[38;5;28mself\u001b[39m\u001b[38;5;241m.\u001b[39mprocess_response\u001b[38;5;241m.\u001b[39mget(protocol, []):\n\u001b[1;32m    522\u001b[0m     meth \u001b[38;5;241m=\u001b[39m \u001b[38;5;28mgetattr\u001b[39m(processor, meth_name)\n\u001b[0;32m--> 523\u001b[0m     response \u001b[38;5;241m=\u001b[39m \u001b[43mmeth\u001b[49m\u001b[43m(\u001b[49m\u001b[43mreq\u001b[49m\u001b[43m,\u001b[49m\u001b[43m \u001b[49m\u001b[43mresponse\u001b[49m\u001b[43m)\u001b[49m\n\u001b[1;32m    525\u001b[0m \u001b[38;5;28;01mreturn\u001b[39;00m response\n",
            "File \u001b[0;32m/Library/Developer/CommandLineTools/Library/Frameworks/Python3.framework/Versions/3.9/lib/python3.9/urllib/request.py:632\u001b[0m, in \u001b[0;36mHTTPErrorProcessor.http_response\u001b[0;34m(self, request, response)\u001b[0m\n\u001b[1;32m    629\u001b[0m \u001b[38;5;66;03m# According to RFC 2616, \"2xx\" code indicates that the client's\u001b[39;00m\n\u001b[1;32m    630\u001b[0m \u001b[38;5;66;03m# request was successfully received, understood, and accepted.\u001b[39;00m\n\u001b[1;32m    631\u001b[0m \u001b[38;5;28;01mif\u001b[39;00m \u001b[38;5;129;01mnot\u001b[39;00m (\u001b[38;5;241m200\u001b[39m \u001b[38;5;241m<\u001b[39m\u001b[38;5;241m=\u001b[39m code \u001b[38;5;241m<\u001b[39m \u001b[38;5;241m300\u001b[39m):\n\u001b[0;32m--> 632\u001b[0m     response \u001b[38;5;241m=\u001b[39m \u001b[38;5;28;43mself\u001b[39;49m\u001b[38;5;241;43m.\u001b[39;49m\u001b[43mparent\u001b[49m\u001b[38;5;241;43m.\u001b[39;49m\u001b[43merror\u001b[49m\u001b[43m(\u001b[49m\n\u001b[1;32m    633\u001b[0m \u001b[43m        \u001b[49m\u001b[38;5;124;43m'\u001b[39;49m\u001b[38;5;124;43mhttp\u001b[39;49m\u001b[38;5;124;43m'\u001b[39;49m\u001b[43m,\u001b[49m\u001b[43m \u001b[49m\u001b[43mrequest\u001b[49m\u001b[43m,\u001b[49m\u001b[43m \u001b[49m\u001b[43mresponse\u001b[49m\u001b[43m,\u001b[49m\u001b[43m \u001b[49m\u001b[43mcode\u001b[49m\u001b[43m,\u001b[49m\u001b[43m \u001b[49m\u001b[43mmsg\u001b[49m\u001b[43m,\u001b[49m\u001b[43m \u001b[49m\u001b[43mhdrs\u001b[49m\u001b[43m)\u001b[49m\n\u001b[1;32m    635\u001b[0m \u001b[38;5;28;01mreturn\u001b[39;00m response\n",
            "File \u001b[0;32m/Library/Developer/CommandLineTools/Library/Frameworks/Python3.framework/Versions/3.9/lib/python3.9/urllib/request.py:555\u001b[0m, in \u001b[0;36mOpenerDirector.error\u001b[0;34m(self, proto, *args)\u001b[0m\n\u001b[1;32m    553\u001b[0m     http_err \u001b[38;5;241m=\u001b[39m \u001b[38;5;241m0\u001b[39m\n\u001b[1;32m    554\u001b[0m args \u001b[38;5;241m=\u001b[39m (\u001b[38;5;28mdict\u001b[39m, proto, meth_name) \u001b[38;5;241m+\u001b[39m args\n\u001b[0;32m--> 555\u001b[0m result \u001b[38;5;241m=\u001b[39m \u001b[38;5;28;43mself\u001b[39;49m\u001b[38;5;241;43m.\u001b[39;49m\u001b[43m_call_chain\u001b[49m\u001b[43m(\u001b[49m\u001b[38;5;241;43m*\u001b[39;49m\u001b[43margs\u001b[49m\u001b[43m)\u001b[49m\n\u001b[1;32m    556\u001b[0m \u001b[38;5;28;01mif\u001b[39;00m result:\n\u001b[1;32m    557\u001b[0m     \u001b[38;5;28;01mreturn\u001b[39;00m result\n",
            "File \u001b[0;32m/Library/Developer/CommandLineTools/Library/Frameworks/Python3.framework/Versions/3.9/lib/python3.9/urllib/request.py:494\u001b[0m, in \u001b[0;36mOpenerDirector._call_chain\u001b[0;34m(self, chain, kind, meth_name, *args)\u001b[0m\n\u001b[1;32m    492\u001b[0m \u001b[38;5;28;01mfor\u001b[39;00m handler \u001b[38;5;129;01min\u001b[39;00m handlers:\n\u001b[1;32m    493\u001b[0m     func \u001b[38;5;241m=\u001b[39m \u001b[38;5;28mgetattr\u001b[39m(handler, meth_name)\n\u001b[0;32m--> 494\u001b[0m     result \u001b[38;5;241m=\u001b[39m \u001b[43mfunc\u001b[49m\u001b[43m(\u001b[49m\u001b[38;5;241;43m*\u001b[39;49m\u001b[43margs\u001b[49m\u001b[43m)\u001b[49m\n\u001b[1;32m    495\u001b[0m     \u001b[38;5;28;01mif\u001b[39;00m result \u001b[38;5;129;01mis\u001b[39;00m \u001b[38;5;129;01mnot\u001b[39;00m \u001b[38;5;28;01mNone\u001b[39;00m:\n\u001b[1;32m    496\u001b[0m         \u001b[38;5;28;01mreturn\u001b[39;00m result\n",
            "File \u001b[0;32m/Library/Developer/CommandLineTools/Library/Frameworks/Python3.framework/Versions/3.9/lib/python3.9/urllib/request.py:747\u001b[0m, in \u001b[0;36mHTTPRedirectHandler.http_error_302\u001b[0;34m(self, req, fp, code, msg, headers)\u001b[0m\n\u001b[1;32m    744\u001b[0m fp\u001b[38;5;241m.\u001b[39mread()\n\u001b[1;32m    745\u001b[0m fp\u001b[38;5;241m.\u001b[39mclose()\n\u001b[0;32m--> 747\u001b[0m \u001b[38;5;28;01mreturn\u001b[39;00m \u001b[38;5;28;43mself\u001b[39;49m\u001b[38;5;241;43m.\u001b[39;49m\u001b[43mparent\u001b[49m\u001b[38;5;241;43m.\u001b[39;49m\u001b[43mopen\u001b[49m\u001b[43m(\u001b[49m\u001b[43mnew\u001b[49m\u001b[43m,\u001b[49m\u001b[43m \u001b[49m\u001b[43mtimeout\u001b[49m\u001b[38;5;241;43m=\u001b[39;49m\u001b[43mreq\u001b[49m\u001b[38;5;241;43m.\u001b[39;49m\u001b[43mtimeout\u001b[49m\u001b[43m)\u001b[49m\n",
            "File \u001b[0;32m/Library/Developer/CommandLineTools/Library/Frameworks/Python3.framework/Versions/3.9/lib/python3.9/urllib/request.py:523\u001b[0m, in \u001b[0;36mOpenerDirector.open\u001b[0;34m(self, fullurl, data, timeout)\u001b[0m\n\u001b[1;32m    521\u001b[0m \u001b[38;5;28;01mfor\u001b[39;00m processor \u001b[38;5;129;01min\u001b[39;00m \u001b[38;5;28mself\u001b[39m\u001b[38;5;241m.\u001b[39mprocess_response\u001b[38;5;241m.\u001b[39mget(protocol, []):\n\u001b[1;32m    522\u001b[0m     meth \u001b[38;5;241m=\u001b[39m \u001b[38;5;28mgetattr\u001b[39m(processor, meth_name)\n\u001b[0;32m--> 523\u001b[0m     response \u001b[38;5;241m=\u001b[39m \u001b[43mmeth\u001b[49m\u001b[43m(\u001b[49m\u001b[43mreq\u001b[49m\u001b[43m,\u001b[49m\u001b[43m \u001b[49m\u001b[43mresponse\u001b[49m\u001b[43m)\u001b[49m\n\u001b[1;32m    525\u001b[0m \u001b[38;5;28;01mreturn\u001b[39;00m response\n",
            "File \u001b[0;32m/Library/Developer/CommandLineTools/Library/Frameworks/Python3.framework/Versions/3.9/lib/python3.9/urllib/request.py:632\u001b[0m, in \u001b[0;36mHTTPErrorProcessor.http_response\u001b[0;34m(self, request, response)\u001b[0m\n\u001b[1;32m    629\u001b[0m \u001b[38;5;66;03m# According to RFC 2616, \"2xx\" code indicates that the client's\u001b[39;00m\n\u001b[1;32m    630\u001b[0m \u001b[38;5;66;03m# request was successfully received, understood, and accepted.\u001b[39;00m\n\u001b[1;32m    631\u001b[0m \u001b[38;5;28;01mif\u001b[39;00m \u001b[38;5;129;01mnot\u001b[39;00m (\u001b[38;5;241m200\u001b[39m \u001b[38;5;241m<\u001b[39m\u001b[38;5;241m=\u001b[39m code \u001b[38;5;241m<\u001b[39m \u001b[38;5;241m300\u001b[39m):\n\u001b[0;32m--> 632\u001b[0m     response \u001b[38;5;241m=\u001b[39m \u001b[38;5;28;43mself\u001b[39;49m\u001b[38;5;241;43m.\u001b[39;49m\u001b[43mparent\u001b[49m\u001b[38;5;241;43m.\u001b[39;49m\u001b[43merror\u001b[49m\u001b[43m(\u001b[49m\n\u001b[1;32m    633\u001b[0m \u001b[43m        \u001b[49m\u001b[38;5;124;43m'\u001b[39;49m\u001b[38;5;124;43mhttp\u001b[39;49m\u001b[38;5;124;43m'\u001b[39;49m\u001b[43m,\u001b[49m\u001b[43m \u001b[49m\u001b[43mrequest\u001b[49m\u001b[43m,\u001b[49m\u001b[43m \u001b[49m\u001b[43mresponse\u001b[49m\u001b[43m,\u001b[49m\u001b[43m \u001b[49m\u001b[43mcode\u001b[49m\u001b[43m,\u001b[49m\u001b[43m \u001b[49m\u001b[43mmsg\u001b[49m\u001b[43m,\u001b[49m\u001b[43m \u001b[49m\u001b[43mhdrs\u001b[49m\u001b[43m)\u001b[49m\n\u001b[1;32m    635\u001b[0m \u001b[38;5;28;01mreturn\u001b[39;00m response\n",
            "File \u001b[0;32m/Library/Developer/CommandLineTools/Library/Frameworks/Python3.framework/Versions/3.9/lib/python3.9/urllib/request.py:561\u001b[0m, in \u001b[0;36mOpenerDirector.error\u001b[0;34m(self, proto, *args)\u001b[0m\n\u001b[1;32m    559\u001b[0m \u001b[38;5;28;01mif\u001b[39;00m http_err:\n\u001b[1;32m    560\u001b[0m     args \u001b[38;5;241m=\u001b[39m (\u001b[38;5;28mdict\u001b[39m, \u001b[38;5;124m'\u001b[39m\u001b[38;5;124mdefault\u001b[39m\u001b[38;5;124m'\u001b[39m, \u001b[38;5;124m'\u001b[39m\u001b[38;5;124mhttp_error_default\u001b[39m\u001b[38;5;124m'\u001b[39m) \u001b[38;5;241m+\u001b[39m orig_args\n\u001b[0;32m--> 561\u001b[0m     \u001b[38;5;28;01mreturn\u001b[39;00m \u001b[38;5;28;43mself\u001b[39;49m\u001b[38;5;241;43m.\u001b[39;49m\u001b[43m_call_chain\u001b[49m\u001b[43m(\u001b[49m\u001b[38;5;241;43m*\u001b[39;49m\u001b[43margs\u001b[49m\u001b[43m)\u001b[49m\n",
            "File \u001b[0;32m/Library/Developer/CommandLineTools/Library/Frameworks/Python3.framework/Versions/3.9/lib/python3.9/urllib/request.py:494\u001b[0m, in \u001b[0;36mOpenerDirector._call_chain\u001b[0;34m(self, chain, kind, meth_name, *args)\u001b[0m\n\u001b[1;32m    492\u001b[0m \u001b[38;5;28;01mfor\u001b[39;00m handler \u001b[38;5;129;01min\u001b[39;00m handlers:\n\u001b[1;32m    493\u001b[0m     func \u001b[38;5;241m=\u001b[39m \u001b[38;5;28mgetattr\u001b[39m(handler, meth_name)\n\u001b[0;32m--> 494\u001b[0m     result \u001b[38;5;241m=\u001b[39m \u001b[43mfunc\u001b[49m\u001b[43m(\u001b[49m\u001b[38;5;241;43m*\u001b[39;49m\u001b[43margs\u001b[49m\u001b[43m)\u001b[49m\n\u001b[1;32m    495\u001b[0m     \u001b[38;5;28;01mif\u001b[39;00m result \u001b[38;5;129;01mis\u001b[39;00m \u001b[38;5;129;01mnot\u001b[39;00m \u001b[38;5;28;01mNone\u001b[39;00m:\n\u001b[1;32m    496\u001b[0m         \u001b[38;5;28;01mreturn\u001b[39;00m result\n",
            "File \u001b[0;32m/Library/Developer/CommandLineTools/Library/Frameworks/Python3.framework/Versions/3.9/lib/python3.9/urllib/request.py:641\u001b[0m, in \u001b[0;36mHTTPDefaultErrorHandler.http_error_default\u001b[0;34m(self, req, fp, code, msg, hdrs)\u001b[0m\n\u001b[1;32m    640\u001b[0m \u001b[38;5;28;01mdef\u001b[39;00m \u001b[38;5;21mhttp_error_default\u001b[39m(\u001b[38;5;28mself\u001b[39m, req, fp, code, msg, hdrs):\n\u001b[0;32m--> 641\u001b[0m     \u001b[38;5;28;01mraise\u001b[39;00m HTTPError(req\u001b[38;5;241m.\u001b[39mfull_url, code, msg, hdrs, fp)\n",
            "\u001b[0;31mHTTPError\u001b[0m: HTTP Error 403: Forbidden"
          ]
        }
      ],
      "source": [
        "#import data from file\n",
        "url = 'https://www.ncbi.nlm.nih.gov/pmc/articles/PMC5780421/bin/41598_2018_19772_MOESM3_ESM.xlsx'\n",
        "data = pd.read_excel(url)\n",
        "print(data.shape)\n",
        "data.head()"
      ]
    },
    {
      "cell_type": "code",
      "execution_count": null,
      "metadata": {
        "colab": {
          "base_uri": "https://localhost:8080/",
          "height": 1000
        },
        "id": "fs4EJoaQzm_v",
        "outputId": "260262fb-cce7-474d-de99-4d92895f50fc"
      },
      "outputs": [
        {
          "name": "stderr",
          "output_type": "stream",
          "text": [
            "/usr/local/lib/python3.10/dist-packages/pyproj/crs/crs.py:141: FutureWarning:\n",
            "\n",
            "'+init=<authority>:<code>' syntax is deprecated. '<authority>:<code>' is the preferred initialization method. When making the change, be mindful of axis order changes: https://pyproj4.github.io/pyproj/stable/gotchas.html#axis-order-changes-in-proj-6\n",
            "\n",
            "<ipython-input-24-411e9fd0867e>:5: FutureWarning:\n",
            "\n",
            "The geopandas.dataset module is deprecated and will be removed in GeoPandas 1.0. You can get the original 'naturalearth_lowres' data from https://www.naturalearthdata.com/downloads/110m-cultural-vectors/.\n",
            "\n"
          ]
        },
        {
          "data": {
            "text/plain": [
              "(-25.0, 150.0)"
            ]
          },
          "execution_count": 24,
          "metadata": {},
          "output_type": "execute_result"
        },
        {
          "data": {
            "image/png": "[encoded data removed]",
            "text/plain": [
              "<Figure size 1500x1500 with 1 Axes>"
            ]
          },
          "metadata": {},
          "output_type": "display_data"
        }
      ],
      "source": [
        "geometry = [Point(xy) for xy in zip(data['Longitude'],data['Latitude'])]\n",
        "crs = {'init' : 'epsg:4326'}\n",
        "geo_df = gpd.GeoDataFrame(data, crs = crs, geometry = geometry)\n",
        "\n",
        "world = gpd.read_file(gpd.datasets.get_path('naturalearth_lowres'))\n",
        "conts = world.loc[world.continent.isin(['Asia','Europe'])]\n",
        "boundaries = conts['geometry']\n",
        "\n",
        "fig , ax = plt.subplots(figsize=(15,15))\n",
        "boundaries.plot(ax=ax, alpha=0.8)\n",
        "geo_df[geo_df['Longitude'] > 90 ].plot(ax=ax, marker='o', color='red', markersize=50);\n",
        "geo_df[geo_df['Longitude'] <= 90 ].plot(ax=ax, marker='o', color='green', markersize=50);\n",
        "plt.xlim(-25,150)"
      ]
    },
    {
      "cell_type": "code",
      "execution_count": null,
      "metadata": {
        "id": "3lYqrUGlz4x0"
      },
      "outputs": [],
      "source": [
        "def Haversine(A,B):\n",
        "    \"\"\"\n",
        "    This uses the ‘haversine’ formula to calculate the great-circle distance between two points – that is,\n",
        "    the shortest distance over the earth’s surface – giving an ‘as-the-crow-flies’ distance between the points\n",
        "    (ignoring any hills they fly over, of course!).\n",
        "    Haversine\n",
        "    formula:    a = sin²(Δφ/2) + cos φ1 ⋅ cos φ2 ⋅ sin²(Δλ/2)\n",
        "    c = 2 ⋅ atan2( √a, √(1−a) )\n",
        "    d = R ⋅ c\n",
        "    where   φ is latitude, λ is longitude, R is earth’s radius (mean radius = 6,371km);\n",
        "    note that angles need to be in radians to pass to trig functions!\n",
        "    \"\"\"\n",
        "    lat1,lon1,lat2,lon2 = A[0],A[1],B[0],B[1]\n",
        "\n",
        "    R = 6378.0088\n",
        "    lat1,lon1,lat2,lon2 = map(np.radians, [lat1,lon1,lat2,lon2])\n",
        "\n",
        "    dlat = lat2 - lat1\n",
        "    dlon = lon2 - lon1\n",
        "    a = np.sin(dlat/2)**2 + np.cos(lat1) * np.cos(lat2) * np.sin(dlon/2) **2\n",
        "    c = 2 * np.arctan2(a**0.5, (1-a)**0.5)\n",
        "    d = R * c\n",
        "    return round(d,4)"
      ]
    },
    {
      "cell_type": "code",
      "execution_count": null,
      "metadata": {
        "colab": {
          "base_uri": "https://localhost:8080/"
        },
        "id": "1lYDS9ir0Iy1",
        "outputId": "900c0214-8ef5-4fa7-e740-52829a54188c"
      },
      "outputs": [
        {
          "name": "stdout",
          "output_type": "stream",
          "text": [
            "16\n",
            "               x      y\n",
            "ciudad_0   46.12  14.82\n",
            "ciudad_1   48.67  19.50\n",
            "ciudad_2   52.00  20.00\n",
            "ciudad_3   47.33  13.33\n",
            "ciudad_4   50.83   4.00\n",
            "ciudad_5   44.00  18.00\n",
            "ciudad_6   51.00   9.00\n",
            "ciudad_7   46.00   2.00\n",
            "ciudad_8   52.50   5.75\n",
            "ciudad_9   49.75  15.50\n",
            "ciudad_10  45.17  15.50\n",
            "ciudad_11  49.75   6.17\n",
            "ciudad_12  46.00  25.00\n",
            "ciudad_13  47.00  20.00\n",
            "ciudad_14  42.83  12.83\n",
            "ciudad_15  54.00  -2.00\n"
          ]
        }
      ],
      "source": [
        "location = data[['Latitude','Longitude']].drop_duplicates(subset=['Latitude','Longitude'])\n",
        "location = location[location['Longitude'] <= 90].copy()\n",
        "location.columns = ['x', 'y']\n",
        "n = location.shape[0] #number of locations\n",
        "print(n)\n",
        "location.index = [f'ciudad_{i}' for i in range(n)]\n",
        "print(location)"
      ]
    },
    {
      "cell_type": "code",
      "execution_count": null,
      "metadata": {
        "colab": {
          "base_uri": "https://localhost:8080/"
        },
        "id": "kXrS_qzV1jT6",
        "outputId": "6ade94d0-db9a-45ef-8505-60b8435068ce"
      },
      "outputs": [
        {
          "data": {
            "text/plain": [
              "[[(46.12, 14.82),\n",
              "  (47.394999999999996, 17.16),\n",
              "  (49.06, 17.41),\n",
              "  (46.724999999999994, 14.075),\n",
              "  (48.474999999999994, 9.41),\n",
              "  (45.06, 16.41),\n",
              "  (48.56, 11.91),\n",
              "  (46.06, 8.41),\n",
              "  (49.31, 10.285),\n",
              "  (47.935, 15.16),\n",
              "  (45.644999999999996, 15.16),\n",
              "  (47.935, 10.495000000000001),\n",
              "  (46.06, 19.91),\n",
              "  (46.56, 17.41),\n",
              "  (44.474999999999994, 13.825),\n",
              "  (50.06, 6.41)],\n",
              " [(47.394999999999996, 17.16),\n",
              "  (48.67, 19.5),\n",
              "  (50.335, 19.75),\n",
              "  (48.0, 16.415),\n",
              "  (49.75, 11.75),\n",
              "  (46.335, 18.75),\n",
              "  (49.835, 14.25),\n",
              "  (47.335, 10.75),\n",
              "  (50.585, 12.625),\n",
              "  (49.21, 17.5),\n",
              "  (46.92, 17.5),\n",
              "  (49.21, 12.835),\n",
              "  (47.335, 22.25),\n",
              "  (47.835, 19.75),\n",
              "  (45.75, 16.165),\n",
              "  (51.335, 8.75)],\n",
              " [(49.06, 17.41),\n",
              "  (50.335, 19.75),\n",
              "  (52.0, 20.0),\n",
              "  (49.665, 16.665),\n",
              "  (51.415, 12.0),\n",
              "  (48.0, 19.0),\n",
              "  (51.5, 14.5),\n",
              "  (49.0, 11.0),\n",
              "  (52.25, 12.875),\n",
              "  (50.875, 17.75),\n",
              "  (48.585, 17.75),\n",
              "  (50.875, 13.085),\n",
              "  (49.0, 22.5),\n",
              "  (49.5, 20.0),\n",
              "  (47.415, 16.415),\n",
              "  (53.0, 9.0)],\n",
              " [(46.724999999999994, 14.075),\n",
              "  (48.0, 16.415),\n",
              "  (49.665, 16.665),\n",
              "  (47.33, 13.33),\n",
              "  (49.08, 8.665),\n",
              "  (45.665, 15.665),\n",
              "  (49.165, 11.165),\n",
              "  (46.665, 7.665),\n",
              "  (49.915, 9.54),\n",
              "  (48.54, 14.415),\n",
              "  (46.25, 14.415),\n",
              "  (48.54, 9.75),\n",
              "  (46.665, 19.165),\n",
              "  (47.165, 16.665),\n",
              "  (45.08, 13.08),\n",
              "  (50.665, 5.665)],\n",
              " [(48.474999999999994, 9.41),\n",
              "  (49.75, 11.75),\n",
              "  (51.415, 12.0),\n",
              "  (49.08, 8.665),\n",
              "  (50.83, 4.0),\n",
              "  (47.415, 11.0),\n",
              "  (50.915, 6.5),\n",
              "  (48.415, 3.0),\n",
              "  (51.665, 4.875),\n",
              "  (50.29, 9.75),\n",
              "  (48.0, 9.75),\n",
              "  (50.29, 5.085),\n",
              "  (48.415, 14.5),\n",
              "  (48.915, 12.0),\n",
              "  (46.83, 8.415),\n",
              "  (52.415, 1.0)],\n",
              " [(45.06, 16.41),\n",
              "  (46.335, 18.75),\n",
              "  (48.0, 19.0),\n",
              "  (45.665, 15.665),\n",
              "  (47.415, 11.0),\n",
              "  (44.0, 18.0),\n",
              "  (47.5, 13.5),\n",
              "  (45.0, 10.0),\n",
              "  (48.25, 11.875),\n",
              "  (46.875, 16.75),\n",
              "  (44.585, 16.75),\n",
              "  (46.875, 12.085),\n",
              "  (45.0, 21.5),\n",
              "  (45.5, 19.0),\n",
              "  (43.415, 15.415),\n",
              "  (49.0, 8.0)],\n",
              " [(48.56, 11.91),\n",
              "  (49.835, 14.25),\n",
              "  (51.5, 14.5),\n",
              "  (49.165, 11.165),\n",
              "  (50.915, 6.5),\n",
              "  (47.5, 13.5),\n",
              "  (51.0, 9.0),\n",
              "  (48.5, 5.5),\n",
              "  (51.75, 7.375),\n",
              "  (50.375, 12.25),\n",
              "  (48.085, 12.25),\n",
              "  (50.375, 7.585),\n",
              "  (48.5, 17.0),\n",
              "  (49.0, 14.5),\n",
              "  (46.915, 10.915),\n",
              "  (52.5, 3.5)],\n",
              " [(46.06, 8.41),\n",
              "  (47.335, 10.75),\n",
              "  (49.0, 11.0),\n",
              "  (46.665, 7.665),\n",
              "  (48.415, 3.0),\n",
              "  (45.0, 10.0),\n",
              "  (48.5, 5.5),\n",
              "  (46.0, 2.0),\n",
              "  (49.25, 3.875),\n",
              "  (47.875, 8.75),\n",
              "  (45.585, 8.75),\n",
              "  (47.875, 4.085),\n",
              "  (46.0, 13.5),\n",
              "  (46.5, 11.0),\n",
              "  (44.415, 7.415),\n",
              "  (50.0, 0.0)],\n",
              " [(49.31, 10.285),\n",
              "  (50.585, 12.625),\n",
              "  (52.25, 12.875),\n",
              "  (49.915, 9.54),\n",
              "  (51.665, 4.875),\n",
              "  (48.25, 11.875),\n",
              "  (51.75, 7.375),\n",
              "  (49.25, 3.875),\n",
              "  (52.5, 5.75),\n",
              "  (51.125, 10.625),\n",
              "  (48.835, 10.625),\n",
              "  (51.125, 5.96),\n",
              "  (49.25, 15.375),\n",
              "  (49.75, 12.875),\n",
              "  (47.665, 9.29),\n",
              "  (53.25, 1.875)],\n",
              " [(47.935, 15.16),\n",
              "  (49.21, 17.5),\n",
              "  (50.875, 17.75),\n",
              "  (48.54, 14.415),\n",
              "  (50.29, 9.75),\n",
              "  (46.875, 16.75),\n",
              "  (50.375, 12.25),\n",
              "  (47.875, 8.75),\n",
              "  (51.125, 10.625),\n",
              "  (49.75, 15.5),\n",
              "  (47.46, 15.5),\n",
              "  (49.75, 10.835),\n",
              "  (47.875, 20.25),\n",
              "  (48.375, 17.75),\n",
              "  (46.29, 14.165),\n",
              "  (51.875, 6.75)],\n",
              " [(45.644999999999996, 15.16),\n",
              "  (46.92, 17.5),\n",
              "  (48.585, 17.75),\n",
              "  (46.25, 14.415),\n",
              "  (48.0, 9.75),\n",
              "  (44.585, 16.75),\n",
              "  (48.085, 12.25),\n",
              "  (45.585, 8.75),\n",
              "  (48.835, 10.625),\n",
              "  (47.46, 15.5),\n",
              "  (45.17, 15.5),\n",
              "  (47.46, 10.835),\n",
              "  (45.585, 20.25),\n",
              "  (46.085, 17.75),\n",
              "  (44.0, 14.165),\n",
              "  (49.585, 6.75)],\n",
              " [(47.935, 10.495000000000001),\n",
              "  (49.21, 12.835),\n",
              "  (50.875, 13.085),\n",
              "  (48.54, 9.75),\n",
              "  (50.29, 5.085),\n",
              "  (46.875, 12.085),\n",
              "  (50.375, 7.585),\n",
              "  (47.875, 4.085),\n",
              "  (51.125, 5.96),\n",
              "  (49.75, 10.835),\n",
              "  (47.46, 10.835),\n",
              "  (49.75, 6.17),\n",
              "  (47.875, 15.585),\n",
              "  (48.375, 13.085),\n",
              "  (46.29, 9.5),\n",
              "  (51.875, 2.085)],\n",
              " [(46.06, 19.91),\n",
              "  (47.335, 22.25),\n",
              "  (49.0, 22.5),\n",
              "  (46.665, 19.165),\n",
              "  (48.415, 14.5),\n",
              "  (45.0, 21.5),\n",
              "  (48.5, 17.0),\n",
              "  (46.0, 13.5),\n",
              "  (49.25, 15.375),\n",
              "  (47.875, 20.25),\n",
              "  (45.585, 20.25),\n",
              "  (47.875, 15.585),\n",
              "  (46.0, 25.0),\n",
              "  (46.5, 22.5),\n",
              "  (44.415, 18.915),\n",
              "  (50.0, 11.5)],\n",
              " [(46.56, 17.41),\n",
              "  (47.835, 19.75),\n",
              "  (49.5, 20.0),\n",
              "  (47.165, 16.665),\n",
              "  (48.915, 12.0),\n",
              "  (45.5, 19.0),\n",
              "  (49.0, 14.5),\n",
              "  (46.5, 11.0),\n",
              "  (49.75, 12.875),\n",
              "  (48.375, 17.75),\n",
              "  (46.085, 17.75),\n",
              "  (48.375, 13.085),\n",
              "  (46.5, 22.5),\n",
              "  (47.0, 20.0),\n",
              "  (44.915, 16.415),\n",
              "  (50.5, 9.0)],\n",
              " [(44.474999999999994, 13.825),\n",
              "  (45.75, 16.165),\n",
              "  (47.415, 16.415),\n",
              "  (45.08, 13.08),\n",
              "  (46.83, 8.415),\n",
              "  (43.415, 15.415),\n",
              "  (46.915, 10.915),\n",
              "  (44.415, 7.415),\n",
              "  (47.665, 9.29),\n",
              "  (46.29, 14.165),\n",
              "  (44.0, 14.165),\n",
              "  (46.29, 9.5),\n",
              "  (44.415, 18.915),\n",
              "  (44.915, 16.415),\n",
              "  (42.83, 12.83),\n",
              "  (48.415, 5.415)],\n",
              " [(50.06, 6.41),\n",
              "  (51.335, 8.75),\n",
              "  (53.0, 9.0),\n",
              "  (50.665, 5.665),\n",
              "  (52.415, 1.0),\n",
              "  (49.0, 8.0),\n",
              "  (52.5, 3.5),\n",
              "  (50.0, 0.0),\n",
              "  (53.25, 1.875),\n",
              "  (51.875, 6.75),\n",
              "  (49.585, 6.75),\n",
              "  (51.875, 2.085),\n",
              "  (50.0, 11.5),\n",
              "  (50.5, 9.0),\n",
              "  (48.415, 5.415),\n",
              "  (54.0, -2.0)]]"
            ]
          },
          "execution_count": 27,
          "metadata": {},
          "output_type": "execute_result"
        }
      ],
      "source": [
        "mid_points = get_middle_points(location)\n",
        "mid_points"
      ]
    },
    {
      "cell_type": "code",
      "execution_count": null,
      "metadata": {
        "colab": {
          "base_uri": "https://localhost:8080/"
        },
        "id": "aP4pSvEd1plW",
        "outputId": "2dcfb783-c0f6-4c4d-9dc9-3c0c8a5a215e"
      },
      "outputs": [
        {
          "data": {
            "text/plain": [
              "array([[   0.    ,  452.5656,  755.324 ,  176.2595,  953.7728],\n",
              "       [ 452.5656,    0.    ,  372.3824,  483.015 , 1138.1928],\n",
              "       [ 755.324 ,  372.3824,    0.    ,  707.3821, 1116.1166],\n",
              "       [ 176.2595,  483.015 ,  707.3821,    0.    ,  783.1196],\n",
              "       [ 953.7728, 1138.1928, 1116.1166,  783.1196,    0.    ]])"
            ]
          },
          "execution_count": 28,
          "metadata": {},
          "output_type": "execute_result"
        }
      ],
      "source": [
        "d = np.zeros((n,n))  # Distancia entre las ciudades\n",
        "for i in range(n):\n",
        "  for j in range(n):\n",
        "    d[i,j] = Haversine(location.iloc[i], location.iloc[j])\n",
        "\n",
        "d[:5, :5]"
      ]
    },
    {
      "cell_type": "markdown",
      "metadata": {
        "id": "zApQ8Nj22npC"
      },
      "source": [
        "## Visualización de los datos"
      ]
    },
    {
      "cell_type": "code",
      "execution_count": null,
      "metadata": {
        "colab": {
          "base_uri": "https://localhost:8080/",
          "height": 542
        },
        "id": "Q-2iFhHq2vNi",
        "outputId": "6a267cd9-f7e4-436d-f123-3b5dcb1072b5"
      },
      "outputs": [
        {
          "data": {
            "text/html": [
              "<html>\n",
              "<head><meta charset=\"utf-8\" /></head>\n",
              "<body>\n",
              "    <div>            <script src=\"https://cdnjs.cloudflare.com/ajax/libs/mathjax/2.7.5/MathJax.js?config=TeX-AMS-MML_SVG\"></script><script type=\"text/javascript\">if (window.MathJax && window.MathJax.Hub && window.MathJax.Hub.Config) {window.MathJax.Hub.Config({SVG: {font: \"STIX-Web\"}});}</script>                <script type=\"text/javascript\">window.PlotlyConfig = {MathJaxConfig: 'local'};</script>\n",
              "        <script charset=\"utf-8\" src=\"https://cdn.plot.ly/plotly-2.24.1.min.js\"></script>                <div id=\"8ef2926e-48b4-4954-a9bc-110b4dd55b7e\" class=\"plotly-graph-div\" style=\"height:525px; width:100%;\"></div>            <script type=\"text/javascript\">                                    window.PLOTLYENV=window.PLOTLYENV || {};                                    if (document.getElementById(\"8ef2926e-48b4-4954-a9bc-110b4dd55b7e\")) {                    Plotly.newPlot(                        \"8ef2926e-48b4-4954-a9bc-110b4dd55b7e\",                        [{\"hovertemplate\":\"\\u003cb\\u003e%{hovertext}\\u003c\\u002fb\\u003e\\u003cbr\\u003e\\u003cbr\\u003ex=%{x}\\u003cbr\\u003ey=%{y}\\u003cextra\\u003e\\u003c\\u002fextra\\u003e\",\"hovertext\":[\"ciudad_0\",\"ciudad_1\",\"ciudad_2\",\"ciudad_3\",\"ciudad_4\",\"ciudad_5\",\"ciudad_6\",\"ciudad_7\",\"ciudad_8\",\"ciudad_9\",\"ciudad_10\",\"ciudad_11\",\"ciudad_12\",\"ciudad_13\",\"ciudad_14\",\"ciudad_15\"],\"legendgroup\":\"\",\"marker\":{\"color\":\"#636efa\",\"symbol\":\"circle\",\"line\":{\"color\":\"DarkSlateGrey\",\"width\":2},\"size\":15},\"mode\":\"markers\",\"name\":\"\",\"orientation\":\"v\",\"showlegend\":false,\"x\":[46.12,48.67,52.0,47.33,50.83,44.0,51.0,46.0,52.5,49.75,45.17,49.75,46.0,47.0,42.83,54.0],\"xaxis\":\"x\",\"y\":[14.82,19.5,20.0,13.33,4.0,18.0,9.0,2.0,5.75,15.5,15.5,6.17,25.0,20.0,12.83,-2.0],\"yaxis\":\"y\",\"type\":\"scatter\",\"textposition\":\"top right\",\"texttemplate\":\"%{text:.2s}\"},{\"mode\":\"text\",\"text\":[\"0.0\"],\"x\":[46.12],\"y\":[14.82],\"type\":\"scatter\",\"textposition\":\"top right\",\"texttemplate\":\"%{text:.2s}\"},{\"mode\":\"text\",\"text\":[\"452.5656\"],\"x\":[47.394999999999996],\"y\":[17.16],\"type\":\"scatter\",\"textposition\":\"top right\",\"texttemplate\":\"%{text:.2s}\"},{\"mode\":\"text\",\"text\":[\"755.324\"],\"x\":[49.06],\"y\":[17.41],\"type\":\"scatter\",\"textposition\":\"top right\",\"texttemplate\":\"%{text:.2s}\"},{\"mode\":\"text\",\"text\":[\"176.2595\"],\"x\":[46.724999999999994],\"y\":[14.075],\"type\":\"scatter\",\"textposition\":\"top right\",\"texttemplate\":\"%{text:.2s}\"},{\"mode\":\"text\",\"text\":[\"953.7728\"],\"x\":[48.474999999999994],\"y\":[9.41],\"type\":\"scatter\",\"textposition\":\"top right\",\"texttemplate\":\"%{text:.2s}\"},{\"mode\":\"text\",\"text\":[\"343.7712\"],\"x\":[45.06],\"y\":[16.41],\"type\":\"scatter\",\"textposition\":\"top right\",\"texttemplate\":\"%{text:.2s}\"},{\"mode\":\"text\",\"text\":[\"691.6083\"],\"x\":[48.56],\"y\":[11.91],\"type\":\"scatter\",\"textposition\":\"top right\",\"texttemplate\":\"%{text:.2s}\"},{\"mode\":\"text\",\"text\":[\"989.2786\"],\"x\":[46.06],\"y\":[8.41],\"type\":\"scatter\",\"textposition\":\"top right\",\"texttemplate\":\"%{text:.2s}\"},{\"mode\":\"text\",\"text\":[\"966.9047\"],\"x\":[49.31],\"y\":[10.285],\"type\":\"scatter\",\"textposition\":\"top right\",\"texttemplate\":\"%{text:.2s}\"},{\"mode\":\"text\",\"text\":[\"407.2467\"],\"x\":[47.935],\"y\":[15.16],\"type\":\"scatter\",\"textposition\":\"top right\",\"texttemplate\":\"%{text:.2s}\"},{\"mode\":\"text\",\"text\":[\"118.2518\"],\"x\":[45.644999999999996],\"y\":[15.16],\"type\":\"scatter\",\"textposition\":\"top right\",\"texttemplate\":\"%{text:.2s}\"},{\"mode\":\"text\",\"text\":[\"760.5034\"],\"x\":[47.935],\"y\":[10.495000000000001],\"type\":\"scatter\",\"textposition\":\"top right\",\"texttemplate\":\"%{text:.2s}\"},{\"mode\":\"text\",\"text\":[\"785.9154\"],\"x\":[46.06],\"y\":[19.91],\"type\":\"scatter\",\"textposition\":\"top right\",\"texttemplate\":\"%{text:.2s}\"},{\"mode\":\"text\",\"text\":[\"408.3197\"],\"x\":[46.56],\"y\":[17.41],\"type\":\"scatter\",\"textposition\":\"top right\",\"texttemplate\":\"%{text:.2s}\"},{\"mode\":\"text\",\"text\":[\"398.8542\"],\"x\":[44.474999999999994],\"y\":[13.825],\"type\":\"scatter\",\"textposition\":\"top right\",\"texttemplate\":\"%{text:.2s}\"},{\"mode\":\"text\",\"text\":[\"1481.9511\"],\"x\":[50.06],\"y\":[6.41],\"type\":\"scatter\",\"textposition\":\"top right\",\"texttemplate\":\"%{text:.2s}\"},{\"mode\":\"text\",\"text\":[\"452.5656\"],\"x\":[47.394999999999996],\"y\":[17.16],\"type\":\"scatter\",\"textposition\":\"top right\",\"texttemplate\":\"%{text:.2s}\"},{\"mode\":\"text\",\"text\":[\"0.0\"],\"x\":[48.67],\"y\":[19.5],\"type\":\"scatter\",\"textposition\":\"top right\",\"texttemplate\":\"%{text:.2s}\"},{\"mode\":\"text\",\"text\":[\"372.3824\"],\"x\":[50.335],\"y\":[19.75],\"type\":\"scatter\",\"textposition\":\"top right\",\"texttemplate\":\"%{text:.2s}\"},{\"mode\":\"text\",\"text\":[\"483.015\"],\"x\":[48.0],\"y\":[16.415],\"type\":\"scatter\",\"textposition\":\"top right\",\"texttemplate\":\"%{text:.2s}\"},{\"mode\":\"text\",\"text\":[\"1138.1928\"],\"x\":[49.75],\"y\":[11.75],\"type\":\"scatter\",\"textposition\":\"top right\",\"texttemplate\":\"%{text:.2s}\"},{\"mode\":\"text\",\"text\":[\"532.4516\"],\"x\":[46.335],\"y\":[18.75],\"type\":\"scatter\",\"textposition\":\"top right\",\"texttemplate\":\"%{text:.2s}\"},{\"mode\":\"text\",\"text\":[\"796.4159\"],\"x\":[49.835],\"y\":[14.25],\"type\":\"scatter\",\"textposition\":\"top right\",\"texttemplate\":\"%{text:.2s}\"},{\"mode\":\"text\",\"text\":[\"1350.0124\"],\"x\":[47.335],\"y\":[10.75],\"type\":\"scatter\",\"textposition\":\"top right\",\"texttemplate\":\"%{text:.2s}\"},{\"mode\":\"text\",\"text\":[\"1059.063\"],\"x\":[50.585],\"y\":[12.625],\"type\":\"scatter\",\"textposition\":\"top right\",\"texttemplate\":\"%{text:.2s}\"},{\"mode\":\"text\",\"text\":[\"314.7025\"],\"x\":[49.21],\"y\":[17.5],\"type\":\"scatter\",\"textposition\":\"top right\",\"texttemplate\":\"%{text:.2s}\"},{\"mode\":\"text\",\"text\":[\"494.1073\"],\"x\":[46.92],\"y\":[17.5],\"type\":\"scatter\",\"textposition\":\"top right\",\"texttemplate\":\"%{text:.2s}\"},{\"mode\":\"text\",\"text\":[\"975.4968\"],\"x\":[49.21],\"y\":[12.835],\"type\":\"scatter\",\"textposition\":\"top right\",\"texttemplate\":\"%{text:.2s}\"},{\"mode\":\"text\",\"text\":[\"510.1842\"],\"x\":[47.335],\"y\":[22.25],\"type\":\"scatter\",\"textposition\":\"top right\",\"texttemplate\":\"%{text:.2s}\"},{\"mode\":\"text\",\"text\":[\"189.6159\"],\"x\":[47.835],\"y\":[19.75],\"type\":\"scatter\",\"textposition\":\"top right\",\"texttemplate\":\"%{text:.2s}\"},{\"mode\":\"text\",\"text\":[\"830.6171\"],\"x\":[45.75],\"y\":[16.165],\"type\":\"scatter\",\"textposition\":\"top right\",\"texttemplate\":\"%{text:.2s}\"},{\"mode\":\"text\",\"text\":[\"1600.8334\"],\"x\":[51.335],\"y\":[8.75],\"type\":\"scatter\",\"textposition\":\"top right\",\"texttemplate\":\"%{text:.2s}\"},{\"mode\":\"text\",\"text\":[\"755.324\"],\"x\":[49.06],\"y\":[17.41],\"type\":\"scatter\",\"textposition\":\"top right\",\"texttemplate\":\"%{text:.2s}\"},{\"mode\":\"text\",\"text\":[\"372.3824\"],\"x\":[50.335],\"y\":[19.75],\"type\":\"scatter\",\"textposition\":\"top right\",\"texttemplate\":\"%{text:.2s}\"},{\"mode\":\"text\",\"text\":[\"0.0\"],\"x\":[52.0],\"y\":[20.0],\"type\":\"scatter\",\"textposition\":\"top right\",\"texttemplate\":\"%{text:.2s}\"},{\"mode\":\"text\",\"text\":[\"707.3821\"],\"x\":[49.665],\"y\":[16.665],\"type\":\"scatter\",\"textposition\":\"top right\",\"texttemplate\":\"%{text:.2s}\"},{\"mode\":\"text\",\"text\":[\"1116.1166\"],\"x\":[51.415],\"y\":[12.0],\"type\":\"scatter\",\"textposition\":\"top right\",\"texttemplate\":\"%{text:.2s}\"},{\"mode\":\"text\",\"text\":[\"902.8176\"],\"x\":[48.0],\"y\":[19.0],\"type\":\"scatter\",\"textposition\":\"top right\",\"texttemplate\":\"%{text:.2s}\"},{\"mode\":\"text\",\"text\":[\"769.5828\"],\"x\":[51.5],\"y\":[14.5],\"type\":\"scatter\",\"textposition\":\"top right\",\"texttemplate\":\"%{text:.2s}\"},{\"mode\":\"text\",\"text\":[\"1469.0772\"],\"x\":[49.0],\"y\":[11.0],\"type\":\"scatter\",\"textposition\":\"top right\",\"texttemplate\":\"%{text:.2s}\"},{\"mode\":\"text\",\"text\":[\"971.1525\"],\"x\":[52.25],\"y\":[12.875],\"type\":\"scatter\",\"textposition\":\"top right\",\"texttemplate\":\"%{text:.2s}\"},{\"mode\":\"text\",\"text\":[\"403.1683\"],\"x\":[50.875],\"y\":[17.75],\"type\":\"scatter\",\"textposition\":\"top right\",\"texttemplate\":\"%{text:.2s}\"},{\"mode\":\"text\",\"text\":[\"828.9706\"],\"x\":[48.585],\"y\":[17.75],\"type\":\"scatter\",\"textposition\":\"top right\",\"texttemplate\":\"%{text:.2s}\"},{\"mode\":\"text\",\"text\":[\"1001.5144\"],\"x\":[50.875],\"y\":[13.085],\"type\":\"scatter\",\"textposition\":\"top right\",\"texttemplate\":\"%{text:.2s}\"},{\"mode\":\"text\",\"text\":[\"760.7746\"],\"x\":[49.0],\"y\":[22.5],\"type\":\"scatter\",\"textposition\":\"top right\",\"texttemplate\":\"%{text:.2s}\"},{\"mode\":\"text\",\"text\":[\"556.5863\"],\"x\":[49.5],\"y\":[20.0],\"type\":\"scatter\",\"textposition\":\"top right\",\"texttemplate\":\"%{text:.2s}\"},{\"mode\":\"text\",\"text\":[\"1153.5353\"],\"x\":[47.415],\"y\":[16.415],\"type\":\"scatter\",\"textposition\":\"top right\",\"texttemplate\":\"%{text:.2s}\"},{\"mode\":\"text\",\"text\":[\"1484.3548\"],\"x\":[53.0],\"y\":[9.0],\"type\":\"scatter\",\"textposition\":\"top right\",\"texttemplate\":\"%{text:.2s}\"},{\"mode\":\"text\",\"text\":[\"176.2595\"],\"x\":[46.724999999999994],\"y\":[14.075],\"type\":\"scatter\",\"textposition\":\"top right\",\"texttemplate\":\"%{text:.2s}\"},{\"mode\":\"text\",\"text\":[\"483.015\"],\"x\":[48.0],\"y\":[16.415],\"type\":\"scatter\",\"textposition\":\"top right\",\"texttemplate\":\"%{text:.2s}\"},{\"mode\":\"text\",\"text\":[\"707.3821\"],\"x\":[49.665],\"y\":[16.665],\"type\":\"scatter\",\"textposition\":\"top right\",\"texttemplate\":\"%{text:.2s}\"},{\"mode\":\"text\",\"text\":[\"0.0\"],\"x\":[47.33],\"y\":[13.33],\"type\":\"scatter\",\"textposition\":\"top right\",\"texttemplate\":\"%{text:.2s}\"},{\"mode\":\"text\",\"text\":[\"783.1196\"],\"x\":[49.08],\"y\":[8.665],\"type\":\"scatter\",\"textposition\":\"top right\",\"texttemplate\":\"%{text:.2s}\"},{\"mode\":\"text\",\"text\":[\"518.8484\"],\"x\":[45.665],\"y\":[15.665],\"type\":\"scatter\",\"textposition\":\"top right\",\"texttemplate\":\"%{text:.2s}\"},{\"mode\":\"text\",\"text\":[\"515.7882\"],\"x\":[49.165],\"y\":[11.165],\"type\":\"scatter\",\"textposition\":\"top right\",\"texttemplate\":\"%{text:.2s}\"},{\"mode\":\"text\",\"text\":[\"877.2822\"],\"x\":[46.665],\"y\":[7.665],\"type\":\"scatter\",\"textposition\":\"top right\",\"texttemplate\":\"%{text:.2s}\"},{\"mode\":\"text\",\"text\":[\"790.6462\"],\"x\":[49.915],\"y\":[9.54],\"type\":\"scatter\",\"textposition\":\"top right\",\"texttemplate\":\"%{text:.2s}\"},{\"mode\":\"text\",\"text\":[\"313.2553\"],\"x\":[48.54],\"y\":[14.415],\"type\":\"scatter\",\"textposition\":\"top right\",\"texttemplate\":\"%{text:.2s}\"},{\"mode\":\"text\",\"text\":[\"292.7468\"],\"x\":[46.25],\"y\":[14.415],\"type\":\"scatter\",\"textposition\":\"top right\",\"texttemplate\":\"%{text:.2s}\"},{\"mode\":\"text\",\"text\":[\"592.1535\"],\"x\":[48.54],\"y\":[9.75],\"type\":\"scatter\",\"textposition\":\"top right\",\"texttemplate\":\"%{text:.2s}\"},{\"mode\":\"text\",\"text\":[\"902.823\"],\"x\":[46.665],\"y\":[19.165],\"type\":\"scatter\",\"textposition\":\"top right\",\"texttemplate\":\"%{text:.2s}\"},{\"mode\":\"text\",\"text\":[\"505.9871\"],\"x\":[47.165],\"y\":[16.665],\"type\":\"scatter\",\"textposition\":\"top right\",\"texttemplate\":\"%{text:.2s}\"},{\"mode\":\"text\",\"text\":[\"502.4639\"],\"x\":[45.08],\"y\":[13.08],\"type\":\"scatter\",\"textposition\":\"top right\",\"texttemplate\":\"%{text:.2s}\"},{\"mode\":\"text\",\"text\":[\"1307.6267\"],\"x\":[50.665],\"y\":[5.665],\"type\":\"scatter\",\"textposition\":\"top right\",\"texttemplate\":\"%{text:.2s}\"},{\"mode\":\"text\",\"text\":[\"953.7728\"],\"x\":[48.474999999999994],\"y\":[9.41],\"type\":\"scatter\",\"textposition\":\"top right\",\"texttemplate\":\"%{text:.2s}\"},{\"mode\":\"text\",\"text\":[\"1138.1928\"],\"x\":[49.75],\"y\":[11.75],\"type\":\"scatter\",\"textposition\":\"top right\",\"texttemplate\":\"%{text:.2s}\"},{\"mode\":\"text\",\"text\":[\"1116.1166\"],\"x\":[51.415],\"y\":[12.0],\"type\":\"scatter\",\"textposition\":\"top right\",\"texttemplate\":\"%{text:.2s}\"},{\"mode\":\"text\",\"text\":[\"783.1196\"],\"x\":[49.08],\"y\":[8.665],\"type\":\"scatter\",\"textposition\":\"top right\",\"texttemplate\":\"%{text:.2s}\"},{\"mode\":\"text\",\"text\":[\"0.0\"],\"x\":[50.83],\"y\":[4.0],\"type\":\"scatter\",\"textposition\":\"top right\",\"texttemplate\":\"%{text:.2s}\"},{\"mode\":\"text\",\"text\":[\"1296.6003\"],\"x\":[47.415],\"y\":[11.0],\"type\":\"scatter\",\"textposition\":\"top right\",\"texttemplate\":\"%{text:.2s}\"},{\"mode\":\"text\",\"text\":[\"351.3546\"],\"x\":[50.915],\"y\":[6.5],\"type\":\"scatter\",\"textposition\":\"top right\",\"texttemplate\":\"%{text:.2s}\"},{\"mode\":\"text\",\"text\":[\"557.542\"],\"x\":[48.415],\"y\":[3.0],\"type\":\"scatter\",\"textposition\":\"top right\",\"texttemplate\":\"%{text:.2s}\"},{\"mode\":\"text\",\"text\":[\"221.7021\"],\"x\":[51.665],\"y\":[4.875],\"type\":\"scatter\",\"textposition\":\"top right\",\"texttemplate\":\"%{text:.2s}\"},{\"mode\":\"text\",\"text\":[\"825.8091\"],\"x\":[50.29],\"y\":[9.75],\"type\":\"scatter\",\"textposition\":\"top right\",\"texttemplate\":\"%{text:.2s}\"},{\"mode\":\"text\",\"text\":[\"1061.3877\"],\"x\":[48.0],\"y\":[9.75],\"type\":\"scatter\",\"textposition\":\"top right\",\"texttemplate\":\"%{text:.2s}\"},{\"mode\":\"text\",\"text\":[\"195.6181\"],\"x\":[50.29],\"y\":[5.085],\"type\":\"scatter\",\"textposition\":\"top right\",\"texttemplate\":\"%{text:.2s}\"},{\"mode\":\"text\",\"text\":[\"1635.3897\"],\"x\":[48.415],\"y\":[14.5],\"type\":\"scatter\",\"textposition\":\"top right\",\"texttemplate\":\"%{text:.2s}\"},{\"mode\":\"text\",\"text\":[\"1242.6642\"],\"x\":[48.915],\"y\":[12.0],\"type\":\"scatter\",\"textposition\":\"top right\",\"texttemplate\":\"%{text:.2s}\"},{\"mode\":\"text\",\"text\":[\"1114.2613\"],\"x\":[46.83],\"y\":[8.415],\"type\":\"scatter\",\"textposition\":\"top right\",\"texttemplate\":\"%{text:.2s}\"},{\"mode\":\"text\",\"text\":[\"538.6348\"],\"x\":[52.415],\"y\":[1.0],\"type\":\"scatter\",\"textposition\":\"top right\",\"texttemplate\":\"%{text:.2s}\"},{\"mode\":\"text\",\"text\":[\"343.7712\"],\"x\":[45.06],\"y\":[16.41],\"type\":\"scatter\",\"textposition\":\"top right\",\"texttemplate\":\"%{text:.2s}\"},{\"mode\":\"text\",\"text\":[\"532.4516\"],\"x\":[46.335],\"y\":[18.75],\"type\":\"scatter\",\"textposition\":\"top right\",\"texttemplate\":\"%{text:.2s}\"},{\"mode\":\"text\",\"text\":[\"902.8176\"],\"x\":[48.0],\"y\":[19.0],\"type\":\"scatter\",\"textposition\":\"top right\",\"texttemplate\":\"%{text:.2s}\"},{\"mode\":\"text\",\"text\":[\"518.8484\"],\"x\":[45.665],\"y\":[15.665],\"type\":\"scatter\",\"textposition\":\"top right\",\"texttemplate\":\"%{text:.2s}\"},{\"mode\":\"text\",\"text\":[\"1296.6003\"],\"x\":[47.415],\"y\":[11.0],\"type\":\"scatter\",\"textposition\":\"top right\",\"texttemplate\":\"%{text:.2s}\"},{\"mode\":\"text\",\"text\":[\"0.0\"],\"x\":[44.0],\"y\":[18.0],\"type\":\"scatter\",\"textposition\":\"top right\",\"texttemplate\":\"%{text:.2s}\"},{\"mode\":\"text\",\"text\":[\"1030.6223\"],\"x\":[47.5],\"y\":[13.5],\"type\":\"scatter\",\"textposition\":\"top right\",\"texttemplate\":\"%{text:.2s}\"},{\"mode\":\"text\",\"text\":[\"1276.6641\"],\"x\":[45.0],\"y\":[10.0],\"type\":\"scatter\",\"textposition\":\"top right\",\"texttemplate\":\"%{text:.2s}\"},{\"mode\":\"text\",\"text\":[\"1307.9856\"],\"x\":[48.25],\"y\":[11.875],\"type\":\"scatter\",\"textposition\":\"top right\",\"texttemplate\":\"%{text:.2s}\"},{\"mode\":\"text\",\"text\":[\"667.644\"],\"x\":[46.875],\"y\":[16.75],\"type\":\"scatter\",\"textposition\":\"top right\",\"texttemplate\":\"%{text:.2s}\"},{\"mode\":\"text\",\"text\":[\"237.1473\"],\"x\":[44.585],\"y\":[16.75],\"type\":\"scatter\",\"textposition\":\"top right\",\"texttemplate\":\"%{text:.2s}\"},{\"mode\":\"text\",\"text\":[\"1102.5121\"],\"x\":[46.875],\"y\":[12.085],\"type\":\"scatter\",\"textposition\":\"top right\",\"texttemplate\":\"%{text:.2s}\"},{\"mode\":\"text\",\"text\":[\"594.0088\"],\"x\":[45.0],\"y\":[21.5],\"type\":\"scatter\",\"textposition\":\"top right\",\"texttemplate\":\"%{text:.2s}\"},{\"mode\":\"text\",\"text\":[\"368.5786\"],\"x\":[45.5],\"y\":[19.0],\"type\":\"scatter\",\"textposition\":\"top right\",\"texttemplate\":\"%{text:.2s}\"},{\"mode\":\"text\",\"text\":[\"437.7764\"],\"x\":[43.415],\"y\":[15.415],\"type\":\"scatter\",\"textposition\":\"top right\",\"texttemplate\":\"%{text:.2s}\"},{\"mode\":\"text\",\"text\":[\"1825.721\"],\"x\":[49.0],\"y\":[8.0],\"type\":\"scatter\",\"textposition\":\"top right\",\"texttemplate\":\"%{text:.2s}\"},{\"mode\":\"text\",\"text\":[\"691.6083\"],\"x\":[48.56],\"y\":[11.91],\"type\":\"scatter\",\"textposition\":\"top right\",\"texttemplate\":\"%{text:.2s}\"},{\"mode\":\"text\",\"text\":[\"796.4159\"],\"x\":[49.835],\"y\":[14.25],\"type\":\"scatter\",\"textposition\":\"top right\",\"texttemplate\":\"%{text:.2s}\"},{\"mode\":\"text\",\"text\":[\"769.5828\"],\"x\":[51.5],\"y\":[14.5],\"type\":\"scatter\",\"textposition\":\"top right\",\"texttemplate\":\"%{text:.2s}\"},{\"mode\":\"text\",\"text\":[\"515.7882\"],\"x\":[49.165],\"y\":[11.165],\"type\":\"scatter\",\"textposition\":\"top right\",\"texttemplate\":\"%{text:.2s}\"},{\"mode\":\"text\",\"text\":[\"351.3546\"],\"x\":[50.915],\"y\":[6.5],\"type\":\"scatter\",\"textposition\":\"top right\",\"texttemplate\":\"%{text:.2s}\"},{\"mode\":\"text\",\"text\":[\"1030.6223\"],\"x\":[47.5],\"y\":[13.5],\"type\":\"scatter\",\"textposition\":\"top right\",\"texttemplate\":\"%{text:.2s}\"},{\"mode\":\"text\",\"text\":[\"0.0\"],\"x\":[51.0],\"y\":[9.0],\"type\":\"scatter\",\"textposition\":\"top right\",\"texttemplate\":\"%{text:.2s}\"},{\"mode\":\"text\",\"text\":[\"758.5369\"],\"x\":[48.5],\"y\":[5.5],\"type\":\"scatter\",\"textposition\":\"top right\",\"texttemplate\":\"%{text:.2s}\"},{\"mode\":\"text\",\"text\":[\"279.3231\"],\"x\":[51.75],\"y\":[7.375],\"type\":\"scatter\",\"textposition\":\"top right\",\"texttemplate\":\"%{text:.2s}\"},{\"mode\":\"text\",\"text\":[\"481.7939\"],\"x\":[50.375],\"y\":[12.25],\"type\":\"scatter\",\"textposition\":\"top right\",\"texttemplate\":\"%{text:.2s}\"},{\"mode\":\"text\",\"text\":[\"808.5292\"],\"x\":[48.085],\"y\":[12.25],\"type\":\"scatter\",\"textposition\":\"top right\",\"texttemplate\":\"%{text:.2s}\"},{\"mode\":\"text\",\"text\":[\"244.3645\"],\"x\":[50.375],\"y\":[7.585],\"type\":\"scatter\",\"textposition\":\"top right\",\"texttemplate\":\"%{text:.2s}\"},{\"mode\":\"text\",\"text\":[\"1301.2493\"],\"x\":[48.5],\"y\":[17.0],\"type\":\"scatter\",\"textposition\":\"top right\",\"texttemplate\":\"%{text:.2s}\"},{\"mode\":\"text\",\"text\":[\"917.1605\"],\"x\":[49.0],\"y\":[14.5],\"type\":\"scatter\",\"textposition\":\"top right\",\"texttemplate\":\"%{text:.2s}\"},{\"mode\":\"text\",\"text\":[\"954.6104\"],\"x\":[46.915],\"y\":[10.915],\"type\":\"scatter\",\"textposition\":\"top right\",\"texttemplate\":\"%{text:.2s}\"},{\"mode\":\"text\",\"text\":[\"815.6776\"],\"x\":[52.5],\"y\":[3.5],\"type\":\"scatter\",\"textposition\":\"top right\",\"texttemplate\":\"%{text:.2s}\"},{\"mode\":\"text\",\"text\":[\"989.2786\"],\"x\":[46.06],\"y\":[8.41],\"type\":\"scatter\",\"textposition\":\"top right\",\"texttemplate\":\"%{text:.2s}\"},{\"mode\":\"text\",\"text\":[\"1350.0124\"],\"x\":[47.335],\"y\":[10.75],\"type\":\"scatter\",\"textposition\":\"top right\",\"texttemplate\":\"%{text:.2s}\"},{\"mode\":\"text\",\"text\":[\"1469.0772\"],\"x\":[49.0],\"y\":[11.0],\"type\":\"scatter\",\"textposition\":\"top right\",\"texttemplate\":\"%{text:.2s}\"},{\"mode\":\"text\",\"text\":[\"877.2822\"],\"x\":[46.665],\"y\":[7.665],\"type\":\"scatter\",\"textposition\":\"top right\",\"texttemplate\":\"%{text:.2s}\"},{\"mode\":\"text\",\"text\":[\"557.542\"],\"x\":[48.415],\"y\":[3.0],\"type\":\"scatter\",\"textposition\":\"top right\",\"texttemplate\":\"%{text:.2s}\"},{\"mode\":\"text\",\"text\":[\"1276.6641\"],\"x\":[45.0],\"y\":[10.0],\"type\":\"scatter\",\"textposition\":\"top right\",\"texttemplate\":\"%{text:.2s}\"},{\"mode\":\"text\",\"text\":[\"758.5369\"],\"x\":[48.5],\"y\":[5.5],\"type\":\"scatter\",\"textposition\":\"top right\",\"texttemplate\":\"%{text:.2s}\"},{\"mode\":\"text\",\"text\":[\"0.0\"],\"x\":[46.0],\"y\":[2.0],\"type\":\"scatter\",\"textposition\":\"top right\",\"texttemplate\":\"%{text:.2s}\"},{\"mode\":\"text\",\"text\":[\"772.9003\"],\"x\":[49.25],\"y\":[3.875],\"type\":\"scatter\",\"textposition\":\"top right\",\"texttemplate\":\"%{text:.2s}\"},{\"mode\":\"text\",\"text\":[\"1089.0464\"],\"x\":[47.875],\"y\":[8.75],\"type\":\"scatter\",\"textposition\":\"top right\",\"texttemplate\":\"%{text:.2s}\"},{\"mode\":\"text\",\"text\":[\"1054.4965\"],\"x\":[45.585],\"y\":[8.75],\"type\":\"scatter\",\"textposition\":\"top right\",\"texttemplate\":\"%{text:.2s}\"},{\"mode\":\"text\",\"text\":[\"520.5903\"],\"x\":[47.875],\"y\":[4.085],\"type\":\"scatter\",\"textposition\":\"top right\",\"texttemplate\":\"%{text:.2s}\"},{\"mode\":\"text\",\"text\":[\"1772.3107\"],\"x\":[46.0],\"y\":[13.5],\"type\":\"scatter\",\"textposition\":\"top right\",\"texttemplate\":\"%{text:.2s}\"},{\"mode\":\"text\",\"text\":[\"1380.6857\"],\"x\":[46.5],\"y\":[11.0],\"type\":\"scatter\",\"textposition\":\"top right\",\"texttemplate\":\"%{text:.2s}\"},{\"mode\":\"text\",\"text\":[\"929.6438\"],\"x\":[44.415],\"y\":[7.415],\"type\":\"scatter\",\"textposition\":\"top right\",\"texttemplate\":\"%{text:.2s}\"},{\"mode\":\"text\",\"text\":[\"935.0163\"],\"x\":[50.0],\"y\":[0.0],\"type\":\"scatter\",\"textposition\":\"top right\",\"texttemplate\":\"%{text:.2s}\"},{\"mode\":\"text\",\"text\":[\"966.9047\"],\"x\":[49.31],\"y\":[10.285],\"type\":\"scatter\",\"textposition\":\"top right\",\"texttemplate\":\"%{text:.2s}\"},{\"mode\":\"text\",\"text\":[\"1059.063\"],\"x\":[50.585],\"y\":[12.625],\"type\":\"scatter\",\"textposition\":\"top right\",\"texttemplate\":\"%{text:.2s}\"},{\"mode\":\"text\",\"text\":[\"971.1525\"],\"x\":[52.25],\"y\":[12.875],\"type\":\"scatter\",\"textposition\":\"top right\",\"texttemplate\":\"%{text:.2s}\"},{\"mode\":\"text\",\"text\":[\"790.6462\"],\"x\":[49.915],\"y\":[9.54],\"type\":\"scatter\",\"textposition\":\"top right\",\"texttemplate\":\"%{text:.2s}\"},{\"mode\":\"text\",\"text\":[\"221.7021\"],\"x\":[51.665],\"y\":[4.875],\"type\":\"scatter\",\"textposition\":\"top right\",\"texttemplate\":\"%{text:.2s}\"},{\"mode\":\"text\",\"text\":[\"1307.9856\"],\"x\":[48.25],\"y\":[11.875],\"type\":\"scatter\",\"textposition\":\"top right\",\"texttemplate\":\"%{text:.2s}\"},{\"mode\":\"text\",\"text\":[\"279.3231\"],\"x\":[51.75],\"y\":[7.375],\"type\":\"scatter\",\"textposition\":\"top right\",\"texttemplate\":\"%{text:.2s}\"},{\"mode\":\"text\",\"text\":[\"772.9003\"],\"x\":[49.25],\"y\":[3.875],\"type\":\"scatter\",\"textposition\":\"top right\",\"texttemplate\":\"%{text:.2s}\"},{\"mode\":\"text\",\"text\":[\"0.0\"],\"x\":[52.5],\"y\":[5.75],\"type\":\"scatter\",\"textposition\":\"top right\",\"texttemplate\":\"%{text:.2s}\"},{\"mode\":\"text\",\"text\":[\"746.021\"],\"x\":[51.125],\"y\":[10.625],\"type\":\"scatter\",\"textposition\":\"top right\",\"texttemplate\":\"%{text:.2s}\"},{\"mode\":\"text\",\"text\":[\"1082.6032\"],\"x\":[48.835],\"y\":[10.625],\"type\":\"scatter\",\"textposition\":\"top right\",\"texttemplate\":\"%{text:.2s}\"},{\"mode\":\"text\",\"text\":[\"307.5241\"],\"x\":[51.125],\"y\":[5.96],\"type\":\"scatter\",\"textposition\":\"top right\",\"texttemplate\":\"%{text:.2s}\"},{\"mode\":\"text\",\"text\":[\"1568.1029\"],\"x\":[49.25],\"y\":[15.375],\"type\":\"scatter\",\"textposition\":\"top right\",\"texttemplate\":\"%{text:.2s}\"},{\"mode\":\"text\",\"text\":[\"1190.79\"],\"x\":[49.75],\"y\":[12.875],\"type\":\"scatter\",\"textposition\":\"top right\",\"texttemplate\":\"%{text:.2s}\"},{\"mode\":\"text\",\"text\":[\"1198.8132\"],\"x\":[47.665],\"y\":[9.29],\"type\":\"scatter\",\"textposition\":\"top right\",\"texttemplate\":\"%{text:.2s}\"},{\"mode\":\"text\",\"text\":[\"542.1851\"],\"x\":[53.25],\"y\":[1.875],\"type\":\"scatter\",\"textposition\":\"top right\",\"texttemplate\":\"%{text:.2s}\"},{\"mode\":\"text\",\"text\":[\"407.2467\"],\"x\":[47.935],\"y\":[15.16],\"type\":\"scatter\",\"textposition\":\"top right\",\"texttemplate\":\"%{text:.2s}\"},{\"mode\":\"text\",\"text\":[\"314.7025\"],\"x\":[49.21],\"y\":[17.5],\"type\":\"scatter\",\"textposition\":\"top right\",\"texttemplate\":\"%{text:.2s}\"},{\"mode\":\"text\",\"text\":[\"403.1683\"],\"x\":[50.875],\"y\":[17.75],\"type\":\"scatter\",\"textposition\":\"top right\",\"texttemplate\":\"%{text:.2s}\"},{\"mode\":\"text\",\"text\":[\"313.2553\"],\"x\":[48.54],\"y\":[14.415],\"type\":\"scatter\",\"textposition\":\"top right\",\"texttemplate\":\"%{text:.2s}\"},{\"mode\":\"text\",\"text\":[\"825.8091\"],\"x\":[50.29],\"y\":[9.75],\"type\":\"scatter\",\"textposition\":\"top right\",\"texttemplate\":\"%{text:.2s}\"},{\"mode\":\"text\",\"text\":[\"667.644\"],\"x\":[46.875],\"y\":[16.75],\"type\":\"scatter\",\"textposition\":\"top right\",\"texttemplate\":\"%{text:.2s}\"},{\"mode\":\"text\",\"text\":[\"481.7939\"],\"x\":[50.375],\"y\":[12.25],\"type\":\"scatter\",\"textposition\":\"top right\",\"texttemplate\":\"%{text:.2s}\"},{\"mode\":\"text\",\"text\":[\"1089.0464\"],\"x\":[47.875],\"y\":[8.75],\"type\":\"scatter\",\"textposition\":\"top right\",\"texttemplate\":\"%{text:.2s}\"},{\"mode\":\"text\",\"text\":[\"746.021\"],\"x\":[51.125],\"y\":[10.625],\"type\":\"scatter\",\"textposition\":\"top right\",\"texttemplate\":\"%{text:.2s}\"},{\"mode\":\"text\",\"text\":[\"0.0\"],\"x\":[49.75],\"y\":[15.5],\"type\":\"scatter\",\"textposition\":\"top right\",\"texttemplate\":\"%{text:.2s}\"},{\"mode\":\"text\",\"text\":[\"509.833\"],\"x\":[47.46],\"y\":[15.5],\"type\":\"scatter\",\"textposition\":\"top right\",\"texttemplate\":\"%{text:.2s}\"},{\"mode\":\"text\",\"text\":[\"670.6256\"],\"x\":[49.75],\"y\":[10.835],\"type\":\"scatter\",\"textposition\":\"top right\",\"texttemplate\":\"%{text:.2s}\"},{\"mode\":\"text\",\"text\":[\"822.149\"],\"x\":[47.875],\"y\":[20.25],\"type\":\"scatter\",\"textposition\":\"top right\",\"texttemplate\":\"%{text:.2s}\"},{\"mode\":\"text\",\"text\":[\"451.9896\"],\"x\":[48.375],\"y\":[17.75],\"type\":\"scatter\",\"textposition\":\"top right\",\"texttemplate\":\"%{text:.2s}\"},{\"mode\":\"text\",\"text\":[\"797.0839\"],\"x\":[46.29],\"y\":[14.165],\"type\":\"scatter\",\"textposition\":\"top right\",\"texttemplate\":\"%{text:.2s}\"},{\"mode\":\"text\",\"text\":[\"1288.1851\"],\"x\":[51.875],\"y\":[6.75],\"type\":\"scatter\",\"textposition\":\"top right\",\"texttemplate\":\"%{text:.2s}\"},{\"mode\":\"text\",\"text\":[\"118.2518\"],\"x\":[45.644999999999996],\"y\":[15.16],\"type\":\"scatter\",\"textposition\":\"top right\",\"texttemplate\":\"%{text:.2s}\"},{\"mode\":\"text\",\"text\":[\"494.1073\"],\"x\":[46.92],\"y\":[17.5],\"type\":\"scatter\",\"textposition\":\"top right\",\"texttemplate\":\"%{text:.2s}\"},{\"mode\":\"text\",\"text\":[\"828.9706\"],\"x\":[48.585],\"y\":[17.75],\"type\":\"scatter\",\"textposition\":\"top right\",\"texttemplate\":\"%{text:.2s}\"},{\"mode\":\"text\",\"text\":[\"292.7468\"],\"x\":[46.25],\"y\":[14.415],\"type\":\"scatter\",\"textposition\":\"top right\",\"texttemplate\":\"%{text:.2s}\"},{\"mode\":\"text\",\"text\":[\"1061.3877\"],\"x\":[48.0],\"y\":[9.75],\"type\":\"scatter\",\"textposition\":\"top right\",\"texttemplate\":\"%{text:.2s}\"},{\"mode\":\"text\",\"text\":[\"237.1473\"],\"x\":[44.585],\"y\":[16.75],\"type\":\"scatter\",\"textposition\":\"top right\",\"texttemplate\":\"%{text:.2s}\"},{\"mode\":\"text\",\"text\":[\"808.5292\"],\"x\":[48.085],\"y\":[12.25],\"type\":\"scatter\",\"textposition\":\"top right\",\"texttemplate\":\"%{text:.2s}\"},{\"mode\":\"text\",\"text\":[\"1054.4965\"],\"x\":[45.585],\"y\":[8.75],\"type\":\"scatter\",\"textposition\":\"top right\",\"texttemplate\":\"%{text:.2s}\"},{\"mode\":\"text\",\"text\":[\"1082.6032\"],\"x\":[48.835],\"y\":[10.625],\"type\":\"scatter\",\"textposition\":\"top right\",\"texttemplate\":\"%{text:.2s}\"},{\"mode\":\"text\",\"text\":[\"509.833\"],\"x\":[47.46],\"y\":[15.5],\"type\":\"scatter\",\"textposition\":\"top right\",\"texttemplate\":\"%{text:.2s}\"},{\"mode\":\"text\",\"text\":[\"0.0\"],\"x\":[45.17],\"y\":[15.5],\"type\":\"scatter\",\"textposition\":\"top right\",\"texttemplate\":\"%{text:.2s}\"},{\"mode\":\"text\",\"text\":[\"866.7285\"],\"x\":[47.46],\"y\":[10.835],\"type\":\"scatter\",\"textposition\":\"top right\",\"texttemplate\":\"%{text:.2s}\"},{\"mode\":\"text\",\"text\":[\"745.3901\"],\"x\":[45.585],\"y\":[20.25],\"type\":\"scatter\",\"textposition\":\"top right\",\"texttemplate\":\"%{text:.2s}\"},{\"mode\":\"text\",\"text\":[\"402.661\"],\"x\":[46.085],\"y\":[17.75],\"type\":\"scatter\",\"textposition\":\"top right\",\"texttemplate\":\"%{text:.2s}\"},{\"mode\":\"text\",\"text\":[\"336.9472\"],\"x\":[44.0],\"y\":[14.165],\"type\":\"scatter\",\"textposition\":\"top right\",\"texttemplate\":\"%{text:.2s}\"},{\"mode\":\"text\",\"text\":[\"1593.0476\"],\"x\":[49.585],\"y\":[6.75],\"type\":\"scatter\",\"textposition\":\"top right\",\"texttemplate\":\"%{text:.2s}\"},{\"mode\":\"text\",\"text\":[\"760.5034\"],\"x\":[47.935],\"y\":[10.495000000000001],\"type\":\"scatter\",\"textposition\":\"top right\",\"texttemplate\":\"%{text:.2s}\"},{\"mode\":\"text\",\"text\":[\"975.4968\"],\"x\":[49.21],\"y\":[12.835],\"type\":\"scatter\",\"textposition\":\"top right\",\"texttemplate\":\"%{text:.2s}\"},{\"mode\":\"text\",\"text\":[\"1001.5144\"],\"x\":[50.875],\"y\":[13.085],\"type\":\"scatter\",\"textposition\":\"top right\",\"texttemplate\":\"%{text:.2s}\"},{\"mode\":\"text\",\"text\":[\"592.1535\"],\"x\":[48.54],\"y\":[9.75],\"type\":\"scatter\",\"textposition\":\"top right\",\"texttemplate\":\"%{text:.2s}\"},{\"mode\":\"text\",\"text\":[\"195.6181\"],\"x\":[50.29],\"y\":[5.085],\"type\":\"scatter\",\"textposition\":\"top right\",\"texttemplate\":\"%{text:.2s}\"},{\"mode\":\"text\",\"text\":[\"1102.5121\"],\"x\":[46.875],\"y\":[12.085],\"type\":\"scatter\",\"textposition\":\"top right\",\"texttemplate\":\"%{text:.2s}\"},{\"mode\":\"text\",\"text\":[\"244.3645\"],\"x\":[50.375],\"y\":[7.585],\"type\":\"scatter\",\"textposition\":\"top right\",\"texttemplate\":\"%{text:.2s}\"},{\"mode\":\"text\",\"text\":[\"520.5903\"],\"x\":[47.875],\"y\":[4.085],\"type\":\"scatter\",\"textposition\":\"top right\",\"texttemplate\":\"%{text:.2s}\"},{\"mode\":\"text\",\"text\":[\"307.5241\"],\"x\":[51.125],\"y\":[5.96],\"type\":\"scatter\",\"textposition\":\"top right\",\"texttemplate\":\"%{text:.2s}\"},{\"mode\":\"text\",\"text\":[\"670.6256\"],\"x\":[49.75],\"y\":[10.835],\"type\":\"scatter\",\"textposition\":\"top right\",\"texttemplate\":\"%{text:.2s}\"},{\"mode\":\"text\",\"text\":[\"866.7285\"],\"x\":[47.46],\"y\":[10.835],\"type\":\"scatter\",\"textposition\":\"top right\",\"texttemplate\":\"%{text:.2s}\"},{\"mode\":\"text\",\"text\":[\"0.0\"],\"x\":[49.75],\"y\":[6.17],\"type\":\"scatter\",\"textposition\":\"top right\",\"texttemplate\":\"%{text:.2s}\"},{\"mode\":\"text\",\"text\":[\"1462.1495\"],\"x\":[47.875],\"y\":[15.585],\"type\":\"scatter\",\"textposition\":\"top right\",\"texttemplate\":\"%{text:.2s}\"},{\"mode\":\"text\",\"text\":[\"1065.6808\"],\"x\":[48.375],\"y\":[13.085],\"type\":\"scatter\",\"textposition\":\"top right\",\"texttemplate\":\"%{text:.2s}\"},{\"mode\":\"text\",\"text\":[\"924.289\"],\"x\":[46.29],\"y\":[9.5],\"type\":\"scatter\",\"textposition\":\"top right\",\"texttemplate\":\"%{text:.2s}\"},{\"mode\":\"text\",\"text\":[\"733.4206\"],\"x\":[51.875],\"y\":[2.085],\"type\":\"scatter\",\"textposition\":\"top right\",\"texttemplate\":\"%{text:.2s}\"},{\"mode\":\"text\",\"text\":[\"785.9154\"],\"x\":[46.06],\"y\":[19.91],\"type\":\"scatter\",\"textposition\":\"top right\",\"texttemplate\":\"%{text:.2s}\"},{\"mode\":\"text\",\"text\":[\"510.1842\"],\"x\":[47.335],\"y\":[22.25],\"type\":\"scatter\",\"textposition\":\"top right\",\"texttemplate\":\"%{text:.2s}\"},{\"mode\":\"text\",\"text\":[\"760.7746\"],\"x\":[49.0],\"y\":[22.5],\"type\":\"scatter\",\"textposition\":\"top right\",\"texttemplate\":\"%{text:.2s}\"},{\"mode\":\"text\",\"text\":[\"902.823\"],\"x\":[46.665],\"y\":[19.165],\"type\":\"scatter\",\"textposition\":\"top right\",\"texttemplate\":\"%{text:.2s}\"},{\"mode\":\"text\",\"text\":[\"1635.3897\"],\"x\":[48.415],\"y\":[14.5],\"type\":\"scatter\",\"textposition\":\"top right\",\"texttemplate\":\"%{text:.2s}\"},{\"mode\":\"text\",\"text\":[\"594.0088\"],\"x\":[45.0],\"y\":[21.5],\"type\":\"scatter\",\"textposition\":\"top right\",\"texttemplate\":\"%{text:.2s}\"},{\"mode\":\"text\",\"text\":[\"1301.2493\"],\"x\":[48.5],\"y\":[17.0],\"type\":\"scatter\",\"textposition\":\"top right\",\"texttemplate\":\"%{text:.2s}\"},{\"mode\":\"text\",\"text\":[\"1772.3107\"],\"x\":[46.0],\"y\":[13.5],\"type\":\"scatter\",\"textposition\":\"top right\",\"texttemplate\":\"%{text:.2s}\"},{\"mode\":\"text\",\"text\":[\"1568.1029\"],\"x\":[49.25],\"y\":[15.375],\"type\":\"scatter\",\"textposition\":\"top right\",\"texttemplate\":\"%{text:.2s}\"},{\"mode\":\"text\",\"text\":[\"822.149\"],\"x\":[47.875],\"y\":[20.25],\"type\":\"scatter\",\"textposition\":\"top right\",\"texttemplate\":\"%{text:.2s}\"},{\"mode\":\"text\",\"text\":[\"745.3901\"],\"x\":[45.585],\"y\":[20.25],\"type\":\"scatter\",\"textposition\":\"top right\",\"texttemplate\":\"%{text:.2s}\"},{\"mode\":\"text\",\"text\":[\"1462.1495\"],\"x\":[47.875],\"y\":[15.585],\"type\":\"scatter\",\"textposition\":\"top right\",\"texttemplate\":\"%{text:.2s}\"},{\"mode\":\"text\",\"text\":[\"0.0\"],\"x\":[46.0],\"y\":[25.0],\"type\":\"scatter\",\"textposition\":\"top right\",\"texttemplate\":\"%{text:.2s}\"},{\"mode\":\"text\",\"text\":[\"398.8909\"],\"x\":[46.5],\"y\":[22.5],\"type\":\"scatter\",\"textposition\":\"top right\",\"texttemplate\":\"%{text:.2s}\"},{\"mode\":\"text\",\"text\":[\"1028.7142\"],\"x\":[44.415],\"y\":[18.915],\"type\":\"scatter\",\"textposition\":\"top right\",\"texttemplate\":\"%{text:.2s}\"},{\"mode\":\"text\",\"text\":[\"2110.196\"],\"x\":[50.0],\"y\":[11.5],\"type\":\"scatter\",\"textposition\":\"top right\",\"texttemplate\":\"%{text:.2s}\"},{\"mode\":\"text\",\"text\":[\"408.3197\"],\"x\":[46.56],\"y\":[17.41],\"type\":\"scatter\",\"textposition\":\"top right\",\"texttemplate\":\"%{text:.2s}\"},{\"mode\":\"text\",\"text\":[\"189.6159\"],\"x\":[47.835],\"y\":[19.75],\"type\":\"scatter\",\"textposition\":\"top right\",\"texttemplate\":\"%{text:.2s}\"},{\"mode\":\"text\",\"text\":[\"556.5863\"],\"x\":[49.5],\"y\":[20.0],\"type\":\"scatter\",\"textposition\":\"top right\",\"texttemplate\":\"%{text:.2s}\"},{\"mode\":\"text\",\"text\":[\"505.9871\"],\"x\":[47.165],\"y\":[16.665],\"type\":\"scatter\",\"textposition\":\"top right\",\"texttemplate\":\"%{text:.2s}\"},{\"mode\":\"text\",\"text\":[\"1242.6642\"],\"x\":[48.915],\"y\":[12.0],\"type\":\"scatter\",\"textposition\":\"top right\",\"texttemplate\":\"%{text:.2s}\"},{\"mode\":\"text\",\"text\":[\"368.5786\"],\"x\":[45.5],\"y\":[19.0],\"type\":\"scatter\",\"textposition\":\"top right\",\"texttemplate\":\"%{text:.2s}\"},{\"mode\":\"text\",\"text\":[\"917.1605\"],\"x\":[49.0],\"y\":[14.5],\"type\":\"scatter\",\"textposition\":\"top right\",\"texttemplate\":\"%{text:.2s}\"},{\"mode\":\"text\",\"text\":[\"1380.6857\"],\"x\":[46.5],\"y\":[11.0],\"type\":\"scatter\",\"textposition\":\"top right\",\"texttemplate\":\"%{text:.2s}\"},{\"mode\":\"text\",\"text\":[\"1190.79\"],\"x\":[49.75],\"y\":[12.875],\"type\":\"scatter\",\"textposition\":\"top right\",\"texttemplate\":\"%{text:.2s}\"},{\"mode\":\"text\",\"text\":[\"451.9896\"],\"x\":[48.375],\"y\":[17.75],\"type\":\"scatter\",\"textposition\":\"top right\",\"texttemplate\":\"%{text:.2s}\"},{\"mode\":\"text\",\"text\":[\"402.661\"],\"x\":[46.085],\"y\":[17.75],\"type\":\"scatter\",\"textposition\":\"top right\",\"texttemplate\":\"%{text:.2s}\"},{\"mode\":\"text\",\"text\":[\"1065.6808\"],\"x\":[48.375],\"y\":[13.085],\"type\":\"scatter\",\"textposition\":\"top right\",\"texttemplate\":\"%{text:.2s}\"},{\"mode\":\"text\",\"text\":[\"398.8909\"],\"x\":[46.5],\"y\":[22.5],\"type\":\"scatter\",\"textposition\":\"top right\",\"texttemplate\":\"%{text:.2s}\"},{\"mode\":\"text\",\"text\":[\"0.0\"],\"x\":[47.0],\"y\":[20.0],\"type\":\"scatter\",\"textposition\":\"top right\",\"texttemplate\":\"%{text:.2s}\"},{\"mode\":\"text\",\"text\":[\"730.868\"],\"x\":[44.915],\"y\":[16.415],\"type\":\"scatter\",\"textposition\":\"top right\",\"texttemplate\":\"%{text:.2s}\"},{\"mode\":\"text\",\"text\":[\"1731.9449\"],\"x\":[50.5],\"y\":[9.0],\"type\":\"scatter\",\"textposition\":\"top right\",\"texttemplate\":\"%{text:.2s}\"},{\"mode\":\"text\",\"text\":[\"398.8542\"],\"x\":[44.474999999999994],\"y\":[13.825],\"type\":\"scatter\",\"textposition\":\"top right\",\"texttemplate\":\"%{text:.2s}\"},{\"mode\":\"text\",\"text\":[\"830.6171\"],\"x\":[45.75],\"y\":[16.165],\"type\":\"scatter\",\"textposition\":\"top right\",\"texttemplate\":\"%{text:.2s}\"},{\"mode\":\"text\",\"text\":[\"1153.5353\"],\"x\":[47.415],\"y\":[16.415],\"type\":\"scatter\",\"textposition\":\"top right\",\"texttemplate\":\"%{text:.2s}\"},{\"mode\":\"text\",\"text\":[\"502.4639\"],\"x\":[45.08],\"y\":[13.08],\"type\":\"scatter\",\"textposition\":\"top right\",\"texttemplate\":\"%{text:.2s}\"},{\"mode\":\"text\",\"text\":[\"1114.2613\"],\"x\":[46.83],\"y\":[8.415],\"type\":\"scatter\",\"textposition\":\"top right\",\"texttemplate\":\"%{text:.2s}\"},{\"mode\":\"text\",\"text\":[\"437.7764\"],\"x\":[43.415],\"y\":[15.415],\"type\":\"scatter\",\"textposition\":\"top right\",\"texttemplate\":\"%{text:.2s}\"},{\"mode\":\"text\",\"text\":[\"954.6104\"],\"x\":[46.915],\"y\":[10.915],\"type\":\"scatter\",\"textposition\":\"top right\",\"texttemplate\":\"%{text:.2s}\"},{\"mode\":\"text\",\"text\":[\"929.6438\"],\"x\":[44.415],\"y\":[7.415],\"type\":\"scatter\",\"textposition\":\"top right\",\"texttemplate\":\"%{text:.2s}\"},{\"mode\":\"text\",\"text\":[\"1198.8132\"],\"x\":[47.665],\"y\":[9.29],\"type\":\"scatter\",\"textposition\":\"top right\",\"texttemplate\":\"%{text:.2s}\"},{\"mode\":\"text\",\"text\":[\"797.0839\"],\"x\":[46.29],\"y\":[14.165],\"type\":\"scatter\",\"textposition\":\"top right\",\"texttemplate\":\"%{text:.2s}\"},{\"mode\":\"text\",\"text\":[\"336.9472\"],\"x\":[44.0],\"y\":[14.165],\"type\":\"scatter\",\"textposition\":\"top right\",\"texttemplate\":\"%{text:.2s}\"},{\"mode\":\"text\",\"text\":[\"924.289\"],\"x\":[46.29],\"y\":[9.5],\"type\":\"scatter\",\"textposition\":\"top right\",\"texttemplate\":\"%{text:.2s}\"},{\"mode\":\"text\",\"text\":[\"1028.7142\"],\"x\":[44.415],\"y\":[18.915],\"type\":\"scatter\",\"textposition\":\"top right\",\"texttemplate\":\"%{text:.2s}\"},{\"mode\":\"text\",\"text\":[\"730.868\"],\"x\":[44.915],\"y\":[16.415],\"type\":\"scatter\",\"textposition\":\"top right\",\"texttemplate\":\"%{text:.2s}\"},{\"mode\":\"text\",\"text\":[\"0.0\"],\"x\":[42.83],\"y\":[12.83],\"type\":\"scatter\",\"textposition\":\"top right\",\"texttemplate\":\"%{text:.2s}\"},{\"mode\":\"text\",\"text\":[\"1650.631\"],\"x\":[48.415],\"y\":[5.415],\"type\":\"scatter\",\"textposition\":\"top right\",\"texttemplate\":\"%{text:.2s}\"},{\"mode\":\"text\",\"text\":[\"1481.9511\"],\"x\":[50.06],\"y\":[6.41],\"type\":\"scatter\",\"textposition\":\"top right\",\"texttemplate\":\"%{text:.2s}\"},{\"mode\":\"text\",\"text\":[\"1600.8334\"],\"x\":[51.335],\"y\":[8.75],\"type\":\"scatter\",\"textposition\":\"top right\",\"texttemplate\":\"%{text:.2s}\"},{\"mode\":\"text\",\"text\":[\"1484.3548\"],\"x\":[53.0],\"y\":[9.0],\"type\":\"scatter\",\"textposition\":\"top right\",\"texttemplate\":\"%{text:.2s}\"},{\"mode\":\"text\",\"text\":[\"1307.6267\"],\"x\":[50.665],\"y\":[5.665],\"type\":\"scatter\",\"textposition\":\"top right\",\"texttemplate\":\"%{text:.2s}\"},{\"mode\":\"text\",\"text\":[\"538.6348\"],\"x\":[52.415],\"y\":[1.0],\"type\":\"scatter\",\"textposition\":\"top right\",\"texttemplate\":\"%{text:.2s}\"},{\"mode\":\"text\",\"text\":[\"1825.721\"],\"x\":[49.0],\"y\":[8.0],\"type\":\"scatter\",\"textposition\":\"top right\",\"texttemplate\":\"%{text:.2s}\"},{\"mode\":\"text\",\"text\":[\"815.6776\"],\"x\":[52.5],\"y\":[3.5],\"type\":\"scatter\",\"textposition\":\"top right\",\"texttemplate\":\"%{text:.2s}\"},{\"mode\":\"text\",\"text\":[\"935.0163\"],\"x\":[50.0],\"y\":[0.0],\"type\":\"scatter\",\"textposition\":\"top right\",\"texttemplate\":\"%{text:.2s}\"},{\"mode\":\"text\",\"text\":[\"542.1851\"],\"x\":[53.25],\"y\":[1.875],\"type\":\"scatter\",\"textposition\":\"top right\",\"texttemplate\":\"%{text:.2s}\"},{\"mode\":\"text\",\"text\":[\"1288.1851\"],\"x\":[51.875],\"y\":[6.75],\"type\":\"scatter\",\"textposition\":\"top right\",\"texttemplate\":\"%{text:.2s}\"},{\"mode\":\"text\",\"text\":[\"1593.0476\"],\"x\":[49.585],\"y\":[6.75],\"type\":\"scatter\",\"textposition\":\"top right\",\"texttemplate\":\"%{text:.2s}\"},{\"mode\":\"text\",\"text\":[\"733.4206\"],\"x\":[51.875],\"y\":[2.085],\"type\":\"scatter\",\"textposition\":\"top right\",\"texttemplate\":\"%{text:.2s}\"},{\"mode\":\"text\",\"text\":[\"2110.196\"],\"x\":[50.0],\"y\":[11.5],\"type\":\"scatter\",\"textposition\":\"top right\",\"texttemplate\":\"%{text:.2s}\"},{\"mode\":\"text\",\"text\":[\"1731.9449\"],\"x\":[50.5],\"y\":[9.0],\"type\":\"scatter\",\"textposition\":\"top right\",\"texttemplate\":\"%{text:.2s}\"},{\"mode\":\"text\",\"text\":[\"1650.631\"],\"x\":[48.415],\"y\":[5.415],\"type\":\"scatter\",\"textposition\":\"top right\",\"texttemplate\":\"%{text:.2s}\"},{\"mode\":\"text\",\"text\":[\"0.0\"],\"x\":[54.0],\"y\":[-2.0],\"type\":\"scatter\",\"textposition\":\"top right\",\"texttemplate\":\"%{text:.2s}\"}],                        {\"template\":{\"data\":{\"histogram2dcontour\":[{\"type\":\"histogram2dcontour\",\"colorbar\":{\"outlinewidth\":0,\"ticks\":\"\"},\"colorscale\":[[0.0,\"#0d0887\"],[0.1111111111111111,\"#46039f\"],[0.2222222222222222,\"#7201a8\"],[0.3333333333333333,\"#9c179e\"],[0.4444444444444444,\"#bd3786\"],[0.5555555555555556,\"#d8576b\"],[0.6666666666666666,\"#ed7953\"],[0.7777777777777778,\"#fb9f3a\"],[0.8888888888888888,\"#fdca26\"],[1.0,\"#f0f921\"]]}],\"choropleth\":[{\"type\":\"choropleth\",\"colorbar\":{\"outlinewidth\":0,\"ticks\":\"\"}}],\"histogram2d\":[{\"type\":\"histogram2d\",\"colorbar\":{\"outlinewidth\":0,\"ticks\":\"\"},\"colorscale\":[[0.0,\"#0d0887\"],[0.1111111111111111,\"#46039f\"],[0.2222222222222222,\"#7201a8\"],[0.3333333333333333,\"#9c179e\"],[0.4444444444444444,\"#bd3786\"],[0.5555555555555556,\"#d8576b\"],[0.6666666666666666,\"#ed7953\"],[0.7777777777777778,\"#fb9f3a\"],[0.8888888888888888,\"#fdca26\"],[1.0,\"#f0f921\"]]}],\"heatmap\":[{\"type\":\"heatmap\",\"colorbar\":{\"outlinewidth\":0,\"ticks\":\"\"},\"colorscale\":[[0.0,\"#0d0887\"],[0.1111111111111111,\"#46039f\"],[0.2222222222222222,\"#7201a8\"],[0.3333333333333333,\"#9c179e\"],[0.4444444444444444,\"#bd3786\"],[0.5555555555555556,\"#d8576b\"],[0.6666666666666666,\"#ed7953\"],[0.7777777777777778,\"#fb9f3a\"],[0.8888888888888888,\"#fdca26\"],[1.0,\"#f0f921\"]]}],\"heatmapgl\":[{\"type\":\"heatmapgl\",\"colorbar\":{\"outlinewidth\":0,\"ticks\":\"\"},\"colorscale\":[[0.0,\"#0d0887\"],[0.1111111111111111,\"#46039f\"],[0.2222222222222222,\"#7201a8\"],[0.3333333333333333,\"#9c179e\"],[0.4444444444444444,\"#bd3786\"],[0.5555555555555556,\"#d8576b\"],[0.6666666666666666,\"#ed7953\"],[0.7777777777777778,\"#fb9f3a\"],[0.8888888888888888,\"#fdca26\"],[1.0,\"#f0f921\"]]}],\"contourcarpet\":[{\"type\":\"contourcarpet\",\"colorbar\":{\"outlinewidth\":0,\"ticks\":\"\"}}],\"contour\":[{\"type\":\"contour\",\"colorbar\":{\"outlinewidth\":0,\"ticks\":\"\"},\"colorscale\":[[0.0,\"#0d0887\"],[0.1111111111111111,\"#46039f\"],[0.2222222222222222,\"#7201a8\"],[0.3333333333333333,\"#9c179e\"],[0.4444444444444444,\"#bd3786\"],[0.5555555555555556,\"#d8576b\"],[0.6666666666666666,\"#ed7953\"],[0.7777777777777778,\"#fb9f3a\"],[0.8888888888888888,\"#fdca26\"],[1.0,\"#f0f921\"]]}],\"surface\":[{\"type\":\"surface\",\"colorbar\":{\"outlinewidth\":0,\"ticks\":\"\"},\"colorscale\":[[0.0,\"#0d0887\"],[0.1111111111111111,\"#46039f\"],[0.2222222222222222,\"#7201a8\"],[0.3333333333333333,\"#9c179e\"],[0.4444444444444444,\"#bd3786\"],[0.5555555555555556,\"#d8576b\"],[0.6666666666666666,\"#ed7953\"],[0.7777777777777778,\"#fb9f3a\"],[0.8888888888888888,\"#fdca26\"],[1.0,\"#f0f921\"]]}],\"mesh3d\":[{\"type\":\"mesh3d\",\"colorbar\":{\"outlinewidth\":0,\"ticks\":\"\"}}],\"scatter\":[{\"fillpattern\":{\"fillmode\":\"overlay\",\"size\":10,\"solidity\":0.2},\"type\":\"scatter\"}],\"parcoords\":[{\"type\":\"parcoords\",\"line\":{\"colorbar\":{\"outlinewidth\":0,\"ticks\":\"\"}}}],\"scatterpolargl\":[{\"type\":\"scatterpolargl\",\"marker\":{\"colorbar\":{\"outlinewidth\":0,\"ticks\":\"\"}}}],\"bar\":[{\"error_x\":{\"color\":\"#2a3f5f\"},\"error_y\":{\"color\":\"#2a3f5f\"},\"marker\":{\"line\":{\"color\":\"white\",\"width\":0.5},\"pattern\":{\"fillmode\":\"overlay\",\"size\":10,\"solidity\":0.2}},\"type\":\"bar\"}],\"scattergeo\":[{\"type\":\"scattergeo\",\"marker\":{\"colorbar\":{\"outlinewidth\":0,\"ticks\":\"\"}}}],\"scatterpolar\":[{\"type\":\"scatterpolar\",\"marker\":{\"colorbar\":{\"outlinewidth\":0,\"ticks\":\"\"}}}],\"histogram\":[{\"marker\":{\"pattern\":{\"fillmode\":\"overlay\",\"size\":10,\"solidity\":0.2}},\"type\":\"histogram\"}],\"scattergl\":[{\"type\":\"scattergl\",\"marker\":{\"colorbar\":{\"outlinewidth\":0,\"ticks\":\"\"}}}],\"scatter3d\":[{\"type\":\"scatter3d\",\"line\":{\"colorbar\":{\"outlinewidth\":0,\"ticks\":\"\"}},\"marker\":{\"colorbar\":{\"outlinewidth\":0,\"ticks\":\"\"}}}],\"scattermapbox\":[{\"type\":\"scattermapbox\",\"marker\":{\"colorbar\":{\"outlinewidth\":0,\"ticks\":\"\"}}}],\"scatterternary\":[{\"type\":\"scatterternary\",\"marker\":{\"colorbar\":{\"outlinewidth\":0,\"ticks\":\"\"}}}],\"scattercarpet\":[{\"type\":\"scattercarpet\",\"marker\":{\"colorbar\":{\"outlinewidth\":0,\"ticks\":\"\"}}}],\"carpet\":[{\"aaxis\":{\"endlinecolor\":\"#2a3f5f\",\"gridcolor\":\"#C8D4E3\",\"linecolor\":\"#C8D4E3\",\"minorgridcolor\":\"#C8D4E3\",\"startlinecolor\":\"#2a3f5f\"},\"baxis\":{\"endlinecolor\":\"#2a3f5f\",\"gridcolor\":\"#C8D4E3\",\"linecolor\":\"#C8D4E3\",\"minorgridcolor\":\"#C8D4E3\",\"startlinecolor\":\"#2a3f5f\"},\"type\":\"carpet\"}],\"table\":[{\"cells\":{\"fill\":{\"color\":\"#EBF0F8\"},\"line\":{\"color\":\"white\"}},\"header\":{\"fill\":{\"color\":\"#C8D4E3\"},\"line\":{\"color\":\"white\"}},\"type\":\"table\"}],\"barpolar\":[{\"marker\":{\"line\":{\"color\":\"white\",\"width\":0.5},\"pattern\":{\"fillmode\":\"overlay\",\"size\":10,\"solidity\":0.2}},\"type\":\"barpolar\"}],\"pie\":[{\"automargin\":true,\"type\":\"pie\"}]},\"layout\":{\"autotypenumbers\":\"strict\",\"colorway\":[\"#636efa\",\"#EF553B\",\"#00cc96\",\"#ab63fa\",\"#FFA15A\",\"#19d3f3\",\"#FF6692\",\"#B6E880\",\"#FF97FF\",\"#FECB52\"],\"font\":{\"color\":\"#2a3f5f\"},\"hovermode\":\"closest\",\"hoverlabel\":{\"align\":\"left\"},\"paper_bgcolor\":\"white\",\"plot_bgcolor\":\"white\",\"polar\":{\"bgcolor\":\"white\",\"angularaxis\":{\"gridcolor\":\"#EBF0F8\",\"linecolor\":\"#EBF0F8\",\"ticks\":\"\"},\"radialaxis\":{\"gridcolor\":\"#EBF0F8\",\"linecolor\":\"#EBF0F8\",\"ticks\":\"\"}},\"ternary\":{\"bgcolor\":\"white\",\"aaxis\":{\"gridcolor\":\"#DFE8F3\",\"linecolor\":\"#A2B1C6\",\"ticks\":\"\"},\"baxis\":{\"gridcolor\":\"#DFE8F3\",\"linecolor\":\"#A2B1C6\",\"ticks\":\"\"},\"caxis\":{\"gridcolor\":\"#DFE8F3\",\"linecolor\":\"#A2B1C6\",\"ticks\":\"\"}},\"coloraxis\":{\"colorbar\":{\"outlinewidth\":0,\"ticks\":\"\"}},\"colorscale\":{\"sequential\":[[0.0,\"#0d0887\"],[0.1111111111111111,\"#46039f\"],[0.2222222222222222,\"#7201a8\"],[0.3333333333333333,\"#9c179e\"],[0.4444444444444444,\"#bd3786\"],[0.5555555555555556,\"#d8576b\"],[0.6666666666666666,\"#ed7953\"],[0.7777777777777778,\"#fb9f3a\"],[0.8888888888888888,\"#fdca26\"],[1.0,\"#f0f921\"]],\"sequentialminus\":[[0.0,\"#0d0887\"],[0.1111111111111111,\"#46039f\"],[0.2222222222222222,\"#7201a8\"],[0.3333333333333333,\"#9c179e\"],[0.4444444444444444,\"#bd3786\"],[0.5555555555555556,\"#d8576b\"],[0.6666666666666666,\"#ed7953\"],[0.7777777777777778,\"#fb9f3a\"],[0.8888888888888888,\"#fdca26\"],[1.0,\"#f0f921\"]],\"diverging\":[[0,\"#8e0152\"],[0.1,\"#c51b7d\"],[0.2,\"#de77ae\"],[0.3,\"#f1b6da\"],[0.4,\"#fde0ef\"],[0.5,\"#f7f7f7\"],[0.6,\"#e6f5d0\"],[0.7,\"#b8e186\"],[0.8,\"#7fbc41\"],[0.9,\"#4d9221\"],[1,\"#276419\"]]},\"xaxis\":{\"gridcolor\":\"#EBF0F8\",\"linecolor\":\"#EBF0F8\",\"ticks\":\"\",\"title\":{\"standoff\":15},\"zerolinecolor\":\"#EBF0F8\",\"automargin\":true,\"zerolinewidth\":2},\"yaxis\":{\"gridcolor\":\"#EBF0F8\",\"linecolor\":\"#EBF0F8\",\"ticks\":\"\",\"title\":{\"standoff\":15},\"zerolinecolor\":\"#EBF0F8\",\"automargin\":true,\"zerolinewidth\":2},\"scene\":{\"xaxis\":{\"backgroundcolor\":\"white\",\"gridcolor\":\"#DFE8F3\",\"linecolor\":\"#EBF0F8\",\"showbackground\":true,\"ticks\":\"\",\"zerolinecolor\":\"#EBF0F8\",\"gridwidth\":2},\"yaxis\":{\"backgroundcolor\":\"white\",\"gridcolor\":\"#DFE8F3\",\"linecolor\":\"#EBF0F8\",\"showbackground\":true,\"ticks\":\"\",\"zerolinecolor\":\"#EBF0F8\",\"gridwidth\":2},\"zaxis\":{\"backgroundcolor\":\"white\",\"gridcolor\":\"#DFE8F3\",\"linecolor\":\"#EBF0F8\",\"showbackground\":true,\"ticks\":\"\",\"zerolinecolor\":\"#EBF0F8\",\"gridwidth\":2}},\"shapedefaults\":{\"line\":{\"color\":\"#2a3f5f\"}},\"annotationdefaults\":{\"arrowcolor\":\"#2a3f5f\",\"arrowhead\":0,\"arrowwidth\":1},\"geo\":{\"bgcolor\":\"white\",\"landcolor\":\"white\",\"subunitcolor\":\"#C8D4E3\",\"showland\":true,\"showlakes\":true,\"lakecolor\":\"white\"},\"title\":{\"x\":0.05},\"mapbox\":{\"style\":\"light\"}}},\"xaxis\":{\"anchor\":\"y\",\"domain\":[0.0,1.0],\"title\":{\"text\":\"x\"}},\"yaxis\":{\"anchor\":\"x\",\"domain\":[0.0,1.0],\"title\":{\"text\":\"y\"}},\"legend\":{\"tracegroupgap\":0},\"margin\":{\"t\":60},\"shapes\":[{\"line\":{\"color\":\"rgb(0, 0, 0)\"},\"opacity\":0.09,\"type\":\"line\",\"x0\":46.12,\"x1\":46.12,\"y0\":14.82,\"y1\":14.82},{\"line\":{\"color\":\"rgb(0, 0, 0)\"},\"opacity\":0.09,\"type\":\"line\",\"x0\":46.12,\"x1\":48.67,\"y0\":14.82,\"y1\":19.5},{\"line\":{\"color\":\"rgb(0, 0, 0)\"},\"opacity\":0.09,\"type\":\"line\",\"x0\":46.12,\"x1\":52.0,\"y0\":14.82,\"y1\":20.0},{\"line\":{\"color\":\"rgb(0, 0, 0)\"},\"opacity\":0.09,\"type\":\"line\",\"x0\":46.12,\"x1\":47.33,\"y0\":14.82,\"y1\":13.33},{\"line\":{\"color\":\"rgb(0, 0, 0)\"},\"opacity\":0.09,\"type\":\"line\",\"x0\":46.12,\"x1\":50.83,\"y0\":14.82,\"y1\":4.0},{\"line\":{\"color\":\"rgb(0, 0, 0)\"},\"opacity\":0.09,\"type\":\"line\",\"x0\":46.12,\"x1\":44.0,\"y0\":14.82,\"y1\":18.0},{\"line\":{\"color\":\"rgb(0, 0, 0)\"},\"opacity\":0.09,\"type\":\"line\",\"x0\":46.12,\"x1\":51.0,\"y0\":14.82,\"y1\":9.0},{\"line\":{\"color\":\"rgb(0, 0, 0)\"},\"opacity\":0.09,\"type\":\"line\",\"x0\":46.12,\"x1\":46.0,\"y0\":14.82,\"y1\":2.0},{\"line\":{\"color\":\"rgb(0, 0, 0)\"},\"opacity\":0.09,\"type\":\"line\",\"x0\":46.12,\"x1\":52.5,\"y0\":14.82,\"y1\":5.75},{\"line\":{\"color\":\"rgb(0, 0, 0)\"},\"opacity\":0.09,\"type\":\"line\",\"x0\":46.12,\"x1\":49.75,\"y0\":14.82,\"y1\":15.5},{\"line\":{\"color\":\"rgb(0, 0, 0)\"},\"opacity\":0.09,\"type\":\"line\",\"x0\":46.12,\"x1\":45.17,\"y0\":14.82,\"y1\":15.5},{\"line\":{\"color\":\"rgb(0, 0, 0)\"},\"opacity\":0.09,\"type\":\"line\",\"x0\":46.12,\"x1\":49.75,\"y0\":14.82,\"y1\":6.17},{\"line\":{\"color\":\"rgb(0, 0, 0)\"},\"opacity\":0.09,\"type\":\"line\",\"x0\":46.12,\"x1\":46.0,\"y0\":14.82,\"y1\":25.0},{\"line\":{\"color\":\"rgb(0, 0, 0)\"},\"opacity\":0.09,\"type\":\"line\",\"x0\":46.12,\"x1\":47.0,\"y0\":14.82,\"y1\":20.0},{\"line\":{\"color\":\"rgb(0, 0, 0)\"},\"opacity\":0.09,\"type\":\"line\",\"x0\":46.12,\"x1\":42.83,\"y0\":14.82,\"y1\":12.83},{\"line\":{\"color\":\"rgb(0, 0, 0)\"},\"opacity\":0.09,\"type\":\"line\",\"x0\":46.12,\"x1\":54.0,\"y0\":14.82,\"y1\":-2.0},{\"line\":{\"color\":\"rgb(0, 0, 0)\"},\"opacity\":0.09,\"type\":\"line\",\"x0\":48.67,\"x1\":46.12,\"y0\":19.5,\"y1\":14.82},{\"line\":{\"color\":\"rgb(0, 0, 0)\"},\"opacity\":0.09,\"type\":\"line\",\"x0\":48.67,\"x1\":48.67,\"y0\":19.5,\"y1\":19.5},{\"line\":{\"color\":\"rgb(0, 0, 0)\"},\"opacity\":0.09,\"type\":\"line\",\"x0\":48.67,\"x1\":52.0,\"y0\":19.5,\"y1\":20.0},{\"line\":{\"color\":\"rgb(0, 0, 0)\"},\"opacity\":0.09,\"type\":\"line\",\"x0\":48.67,\"x1\":47.33,\"y0\":19.5,\"y1\":13.33},{\"line\":{\"color\":\"rgb(0, 0, 0)\"},\"opacity\":0.09,\"type\":\"line\",\"x0\":48.67,\"x1\":50.83,\"y0\":19.5,\"y1\":4.0},{\"line\":{\"color\":\"rgb(0, 0, 0)\"},\"opacity\":0.09,\"type\":\"line\",\"x0\":48.67,\"x1\":44.0,\"y0\":19.5,\"y1\":18.0},{\"line\":{\"color\":\"rgb(0, 0, 0)\"},\"opacity\":0.09,\"type\":\"line\",\"x0\":48.67,\"x1\":51.0,\"y0\":19.5,\"y1\":9.0},{\"line\":{\"color\":\"rgb(0, 0, 0)\"},\"opacity\":0.09,\"type\":\"line\",\"x0\":48.67,\"x1\":46.0,\"y0\":19.5,\"y1\":2.0},{\"line\":{\"color\":\"rgb(0, 0, 0)\"},\"opacity\":0.09,\"type\":\"line\",\"x0\":48.67,\"x1\":52.5,\"y0\":19.5,\"y1\":5.75},{\"line\":{\"color\":\"rgb(0, 0, 0)\"},\"opacity\":0.09,\"type\":\"line\",\"x0\":48.67,\"x1\":49.75,\"y0\":19.5,\"y1\":15.5},{\"line\":{\"color\":\"rgb(0, 0, 0)\"},\"opacity\":0.09,\"type\":\"line\",\"x0\":48.67,\"x1\":45.17,\"y0\":19.5,\"y1\":15.5},{\"line\":{\"color\":\"rgb(0, 0, 0)\"},\"opacity\":0.09,\"type\":\"line\",\"x0\":48.67,\"x1\":49.75,\"y0\":19.5,\"y1\":6.17},{\"line\":{\"color\":\"rgb(0, 0, 0)\"},\"opacity\":0.09,\"type\":\"line\",\"x0\":48.67,\"x1\":46.0,\"y0\":19.5,\"y1\":25.0},{\"line\":{\"color\":\"rgb(0, 0, 0)\"},\"opacity\":0.09,\"type\":\"line\",\"x0\":48.67,\"x1\":47.0,\"y0\":19.5,\"y1\":20.0},{\"line\":{\"color\":\"rgb(0, 0, 0)\"},\"opacity\":0.09,\"type\":\"line\",\"x0\":48.67,\"x1\":42.83,\"y0\":19.5,\"y1\":12.83},{\"line\":{\"color\":\"rgb(0, 0, 0)\"},\"opacity\":0.09,\"type\":\"line\",\"x0\":48.67,\"x1\":54.0,\"y0\":19.5,\"y1\":-2.0},{\"line\":{\"color\":\"rgb(0, 0, 0)\"},\"opacity\":0.09,\"type\":\"line\",\"x0\":52.0,\"x1\":46.12,\"y0\":20.0,\"y1\":14.82},{\"line\":{\"color\":\"rgb(0, 0, 0)\"},\"opacity\":0.09,\"type\":\"line\",\"x0\":52.0,\"x1\":48.67,\"y0\":20.0,\"y1\":19.5},{\"line\":{\"color\":\"rgb(0, 0, 0)\"},\"opacity\":0.09,\"type\":\"line\",\"x0\":52.0,\"x1\":52.0,\"y0\":20.0,\"y1\":20.0},{\"line\":{\"color\":\"rgb(0, 0, 0)\"},\"opacity\":0.09,\"type\":\"line\",\"x0\":52.0,\"x1\":47.33,\"y0\":20.0,\"y1\":13.33},{\"line\":{\"color\":\"rgb(0, 0, 0)\"},\"opacity\":0.09,\"type\":\"line\",\"x0\":52.0,\"x1\":50.83,\"y0\":20.0,\"y1\":4.0},{\"line\":{\"color\":\"rgb(0, 0, 0)\"},\"opacity\":0.09,\"type\":\"line\",\"x0\":52.0,\"x1\":44.0,\"y0\":20.0,\"y1\":18.0},{\"line\":{\"color\":\"rgb(0, 0, 0)\"},\"opacity\":0.09,\"type\":\"line\",\"x0\":52.0,\"x1\":51.0,\"y0\":20.0,\"y1\":9.0},{\"line\":{\"color\":\"rgb(0, 0, 0)\"},\"opacity\":0.09,\"type\":\"line\",\"x0\":52.0,\"x1\":46.0,\"y0\":20.0,\"y1\":2.0},{\"line\":{\"color\":\"rgb(0, 0, 0)\"},\"opacity\":0.09,\"type\":\"line\",\"x0\":52.0,\"x1\":52.5,\"y0\":20.0,\"y1\":5.75},{\"line\":{\"color\":\"rgb(0, 0, 0)\"},\"opacity\":0.09,\"type\":\"line\",\"x0\":52.0,\"x1\":49.75,\"y0\":20.0,\"y1\":15.5},{\"line\":{\"color\":\"rgb(0, 0, 0)\"},\"opacity\":0.09,\"type\":\"line\",\"x0\":52.0,\"x1\":45.17,\"y0\":20.0,\"y1\":15.5},{\"line\":{\"color\":\"rgb(0, 0, 0)\"},\"opacity\":0.09,\"type\":\"line\",\"x0\":52.0,\"x1\":49.75,\"y0\":20.0,\"y1\":6.17},{\"line\":{\"color\":\"rgb(0, 0, 0)\"},\"opacity\":0.09,\"type\":\"line\",\"x0\":52.0,\"x1\":46.0,\"y0\":20.0,\"y1\":25.0},{\"line\":{\"color\":\"rgb(0, 0, 0)\"},\"opacity\":0.09,\"type\":\"line\",\"x0\":52.0,\"x1\":47.0,\"y0\":20.0,\"y1\":20.0},{\"line\":{\"color\":\"rgb(0, 0, 0)\"},\"opacity\":0.09,\"type\":\"line\",\"x0\":52.0,\"x1\":42.83,\"y0\":20.0,\"y1\":12.83},{\"line\":{\"color\":\"rgb(0, 0, 0)\"},\"opacity\":0.09,\"type\":\"line\",\"x0\":52.0,\"x1\":54.0,\"y0\":20.0,\"y1\":-2.0},{\"line\":{\"color\":\"rgb(0, 0, 0)\"},\"opacity\":0.09,\"type\":\"line\",\"x0\":47.33,\"x1\":46.12,\"y0\":13.33,\"y1\":14.82},{\"line\":{\"color\":\"rgb(0, 0, 0)\"},\"opacity\":0.09,\"type\":\"line\",\"x0\":47.33,\"x1\":48.67,\"y0\":13.33,\"y1\":19.5},{\"line\":{\"color\":\"rgb(0, 0, 0)\"},\"opacity\":0.09,\"type\":\"line\",\"x0\":47.33,\"x1\":52.0,\"y0\":13.33,\"y1\":20.0},{\"line\":{\"color\":\"rgb(0, 0, 0)\"},\"opacity\":0.09,\"type\":\"line\",\"x0\":47.33,\"x1\":47.33,\"y0\":13.33,\"y1\":13.33},{\"line\":{\"color\":\"rgb(0, 0, 0)\"},\"opacity\":0.09,\"type\":\"line\",\"x0\":47.33,\"x1\":50.83,\"y0\":13.33,\"y1\":4.0},{\"line\":{\"color\":\"rgb(0, 0, 0)\"},\"opacity\":0.09,\"type\":\"line\",\"x0\":47.33,\"x1\":44.0,\"y0\":13.33,\"y1\":18.0},{\"line\":{\"color\":\"rgb(0, 0, 0)\"},\"opacity\":0.09,\"type\":\"line\",\"x0\":47.33,\"x1\":51.0,\"y0\":13.33,\"y1\":9.0},{\"line\":{\"color\":\"rgb(0, 0, 0)\"},\"opacity\":0.09,\"type\":\"line\",\"x0\":47.33,\"x1\":46.0,\"y0\":13.33,\"y1\":2.0},{\"line\":{\"color\":\"rgb(0, 0, 0)\"},\"opacity\":0.09,\"type\":\"line\",\"x0\":47.33,\"x1\":52.5,\"y0\":13.33,\"y1\":5.75},{\"line\":{\"color\":\"rgb(0, 0, 0)\"},\"opacity\":0.09,\"type\":\"line\",\"x0\":47.33,\"x1\":49.75,\"y0\":13.33,\"y1\":15.5},{\"line\":{\"color\":\"rgb(0, 0, 0)\"},\"opacity\":0.09,\"type\":\"line\",\"x0\":47.33,\"x1\":45.17,\"y0\":13.33,\"y1\":15.5},{\"line\":{\"color\":\"rgb(0, 0, 0)\"},\"opacity\":0.09,\"type\":\"line\",\"x0\":47.33,\"x1\":49.75,\"y0\":13.33,\"y1\":6.17},{\"line\":{\"color\":\"rgb(0, 0, 0)\"},\"opacity\":0.09,\"type\":\"line\",\"x0\":47.33,\"x1\":46.0,\"y0\":13.33,\"y1\":25.0},{\"line\":{\"color\":\"rgb(0, 0, 0)\"},\"opacity\":0.09,\"type\":\"line\",\"x0\":47.33,\"x1\":47.0,\"y0\":13.33,\"y1\":20.0},{\"line\":{\"color\":\"rgb(0, 0, 0)\"},\"opacity\":0.09,\"type\":\"line\",\"x0\":47.33,\"x1\":42.83,\"y0\":13.33,\"y1\":12.83},{\"line\":{\"color\":\"rgb(0, 0, 0)\"},\"opacity\":0.09,\"type\":\"line\",\"x0\":47.33,\"x1\":54.0,\"y0\":13.33,\"y1\":-2.0},{\"line\":{\"color\":\"rgb(0, 0, 0)\"},\"opacity\":0.09,\"type\":\"line\",\"x0\":50.83,\"x1\":46.12,\"y0\":4.0,\"y1\":14.82},{\"line\":{\"color\":\"rgb(0, 0, 0)\"},\"opacity\":0.09,\"type\":\"line\",\"x0\":50.83,\"x1\":48.67,\"y0\":4.0,\"y1\":19.5},{\"line\":{\"color\":\"rgb(0, 0, 0)\"},\"opacity\":0.09,\"type\":\"line\",\"x0\":50.83,\"x1\":52.0,\"y0\":4.0,\"y1\":20.0},{\"line\":{\"color\":\"rgb(0, 0, 0)\"},\"opacity\":0.09,\"type\":\"line\",\"x0\":50.83,\"x1\":47.33,\"y0\":4.0,\"y1\":13.33},{\"line\":{\"color\":\"rgb(0, 0, 0)\"},\"opacity\":0.09,\"type\":\"line\",\"x0\":50.83,\"x1\":50.83,\"y0\":4.0,\"y1\":4.0},{\"line\":{\"color\":\"rgb(0, 0, 0)\"},\"opacity\":0.09,\"type\":\"line\",\"x0\":50.83,\"x1\":44.0,\"y0\":4.0,\"y1\":18.0},{\"line\":{\"color\":\"rgb(0, 0, 0)\"},\"opacity\":0.09,\"type\":\"line\",\"x0\":50.83,\"x1\":51.0,\"y0\":4.0,\"y1\":9.0},{\"line\":{\"color\":\"rgb(0, 0, 0)\"},\"opacity\":0.09,\"type\":\"line\",\"x0\":50.83,\"x1\":46.0,\"y0\":4.0,\"y1\":2.0},{\"line\":{\"color\":\"rgb(0, 0, 0)\"},\"opacity\":0.09,\"type\":\"line\",\"x0\":50.83,\"x1\":52.5,\"y0\":4.0,\"y1\":5.75},{\"line\":{\"color\":\"rgb(0, 0, 0)\"},\"opacity\":0.09,\"type\":\"line\",\"x0\":50.83,\"x1\":49.75,\"y0\":4.0,\"y1\":15.5},{\"line\":{\"color\":\"rgb(0, 0, 0)\"},\"opacity\":0.09,\"type\":\"line\",\"x0\":50.83,\"x1\":45.17,\"y0\":4.0,\"y1\":15.5},{\"line\":{\"color\":\"rgb(0, 0, 0)\"},\"opacity\":0.09,\"type\":\"line\",\"x0\":50.83,\"x1\":49.75,\"y0\":4.0,\"y1\":6.17},{\"line\":{\"color\":\"rgb(0, 0, 0)\"},\"opacity\":0.09,\"type\":\"line\",\"x0\":50.83,\"x1\":46.0,\"y0\":4.0,\"y1\":25.0},{\"line\":{\"color\":\"rgb(0, 0, 0)\"},\"opacity\":0.09,\"type\":\"line\",\"x0\":50.83,\"x1\":47.0,\"y0\":4.0,\"y1\":20.0},{\"line\":{\"color\":\"rgb(0, 0, 0)\"},\"opacity\":0.09,\"type\":\"line\",\"x0\":50.83,\"x1\":42.83,\"y0\":4.0,\"y1\":12.83},{\"line\":{\"color\":\"rgb(0, 0, 0)\"},\"opacity\":0.09,\"type\":\"line\",\"x0\":50.83,\"x1\":54.0,\"y0\":4.0,\"y1\":-2.0},{\"line\":{\"color\":\"rgb(0, 0, 0)\"},\"opacity\":0.09,\"type\":\"line\",\"x0\":44.0,\"x1\":46.12,\"y0\":18.0,\"y1\":14.82},{\"line\":{\"color\":\"rgb(0, 0, 0)\"},\"opacity\":0.09,\"type\":\"line\",\"x0\":44.0,\"x1\":48.67,\"y0\":18.0,\"y1\":19.5},{\"line\":{\"color\":\"rgb(0, 0, 0)\"},\"opacity\":0.09,\"type\":\"line\",\"x0\":44.0,\"x1\":52.0,\"y0\":18.0,\"y1\":20.0},{\"line\":{\"color\":\"rgb(0, 0, 0)\"},\"opacity\":0.09,\"type\":\"line\",\"x0\":44.0,\"x1\":47.33,\"y0\":18.0,\"y1\":13.33},{\"line\":{\"color\":\"rgb(0, 0, 0)\"},\"opacity\":0.09,\"type\":\"line\",\"x0\":44.0,\"x1\":50.83,\"y0\":18.0,\"y1\":4.0},{\"line\":{\"color\":\"rgb(0, 0, 0)\"},\"opacity\":0.09,\"type\":\"line\",\"x0\":44.0,\"x1\":44.0,\"y0\":18.0,\"y1\":18.0},{\"line\":{\"color\":\"rgb(0, 0, 0)\"},\"opacity\":0.09,\"type\":\"line\",\"x0\":44.0,\"x1\":51.0,\"y0\":18.0,\"y1\":9.0},{\"line\":{\"color\":\"rgb(0, 0, 0)\"},\"opacity\":0.09,\"type\":\"line\",\"x0\":44.0,\"x1\":46.0,\"y0\":18.0,\"y1\":2.0},{\"line\":{\"color\":\"rgb(0, 0, 0)\"},\"opacity\":0.09,\"type\":\"line\",\"x0\":44.0,\"x1\":52.5,\"y0\":18.0,\"y1\":5.75},{\"line\":{\"color\":\"rgb(0, 0, 0)\"},\"opacity\":0.09,\"type\":\"line\",\"x0\":44.0,\"x1\":49.75,\"y0\":18.0,\"y1\":15.5},{\"line\":{\"color\":\"rgb(0, 0, 0)\"},\"opacity\":0.09,\"type\":\"line\",\"x0\":44.0,\"x1\":45.17,\"y0\":18.0,\"y1\":15.5},{\"line\":{\"color\":\"rgb(0, 0, 0)\"},\"opacity\":0.09,\"type\":\"line\",\"x0\":44.0,\"x1\":49.75,\"y0\":18.0,\"y1\":6.17},{\"line\":{\"color\":\"rgb(0, 0, 0)\"},\"opacity\":0.09,\"type\":\"line\",\"x0\":44.0,\"x1\":46.0,\"y0\":18.0,\"y1\":25.0},{\"line\":{\"color\":\"rgb(0, 0, 0)\"},\"opacity\":0.09,\"type\":\"line\",\"x0\":44.0,\"x1\":47.0,\"y0\":18.0,\"y1\":20.0},{\"line\":{\"color\":\"rgb(0, 0, 0)\"},\"opacity\":0.09,\"type\":\"line\",\"x0\":44.0,\"x1\":42.83,\"y0\":18.0,\"y1\":12.83},{\"line\":{\"color\":\"rgb(0, 0, 0)\"},\"opacity\":0.09,\"type\":\"line\",\"x0\":44.0,\"x1\":54.0,\"y0\":18.0,\"y1\":-2.0},{\"line\":{\"color\":\"rgb(0, 0, 0)\"},\"opacity\":0.09,\"type\":\"line\",\"x0\":51.0,\"x1\":46.12,\"y0\":9.0,\"y1\":14.82},{\"line\":{\"color\":\"rgb(0, 0, 0)\"},\"opacity\":0.09,\"type\":\"line\",\"x0\":51.0,\"x1\":48.67,\"y0\":9.0,\"y1\":19.5},{\"line\":{\"color\":\"rgb(0, 0, 0)\"},\"opacity\":0.09,\"type\":\"line\",\"x0\":51.0,\"x1\":52.0,\"y0\":9.0,\"y1\":20.0},{\"line\":{\"color\":\"rgb(0, 0, 0)\"},\"opacity\":0.09,\"type\":\"line\",\"x0\":51.0,\"x1\":47.33,\"y0\":9.0,\"y1\":13.33},{\"line\":{\"color\":\"rgb(0, 0, 0)\"},\"opacity\":0.09,\"type\":\"line\",\"x0\":51.0,\"x1\":50.83,\"y0\":9.0,\"y1\":4.0},{\"line\":{\"color\":\"rgb(0, 0, 0)\"},\"opacity\":0.09,\"type\":\"line\",\"x0\":51.0,\"x1\":44.0,\"y0\":9.0,\"y1\":18.0},{\"line\":{\"color\":\"rgb(0, 0, 0)\"},\"opacity\":0.09,\"type\":\"line\",\"x0\":51.0,\"x1\":51.0,\"y0\":9.0,\"y1\":9.0},{\"line\":{\"color\":\"rgb(0, 0, 0)\"},\"opacity\":0.09,\"type\":\"line\",\"x0\":51.0,\"x1\":46.0,\"y0\":9.0,\"y1\":2.0},{\"line\":{\"color\":\"rgb(0, 0, 0)\"},\"opacity\":0.09,\"type\":\"line\",\"x0\":51.0,\"x1\":52.5,\"y0\":9.0,\"y1\":5.75},{\"line\":{\"color\":\"rgb(0, 0, 0)\"},\"opacity\":0.09,\"type\":\"line\",\"x0\":51.0,\"x1\":49.75,\"y0\":9.0,\"y1\":15.5},{\"line\":{\"color\":\"rgb(0, 0, 0)\"},\"opacity\":0.09,\"type\":\"line\",\"x0\":51.0,\"x1\":45.17,\"y0\":9.0,\"y1\":15.5},{\"line\":{\"color\":\"rgb(0, 0, 0)\"},\"opacity\":0.09,\"type\":\"line\",\"x0\":51.0,\"x1\":49.75,\"y0\":9.0,\"y1\":6.17},{\"line\":{\"color\":\"rgb(0, 0, 0)\"},\"opacity\":0.09,\"type\":\"line\",\"x0\":51.0,\"x1\":46.0,\"y0\":9.0,\"y1\":25.0},{\"line\":{\"color\":\"rgb(0, 0, 0)\"},\"opacity\":0.09,\"type\":\"line\",\"x0\":51.0,\"x1\":47.0,\"y0\":9.0,\"y1\":20.0},{\"line\":{\"color\":\"rgb(0, 0, 0)\"},\"opacity\":0.09,\"type\":\"line\",\"x0\":51.0,\"x1\":42.83,\"y0\":9.0,\"y1\":12.83},{\"line\":{\"color\":\"rgb(0, 0, 0)\"},\"opacity\":0.09,\"type\":\"line\",\"x0\":51.0,\"x1\":54.0,\"y0\":9.0,\"y1\":-2.0},{\"line\":{\"color\":\"rgb(0, 0, 0)\"},\"opacity\":0.09,\"type\":\"line\",\"x0\":46.0,\"x1\":46.12,\"y0\":2.0,\"y1\":14.82},{\"line\":{\"color\":\"rgb(0, 0, 0)\"},\"opacity\":0.09,\"type\":\"line\",\"x0\":46.0,\"x1\":48.67,\"y0\":2.0,\"y1\":19.5},{\"line\":{\"color\":\"rgb(0, 0, 0)\"},\"opacity\":0.09,\"type\":\"line\",\"x0\":46.0,\"x1\":52.0,\"y0\":2.0,\"y1\":20.0},{\"line\":{\"color\":\"rgb(0, 0, 0)\"},\"opacity\":0.09,\"type\":\"line\",\"x0\":46.0,\"x1\":47.33,\"y0\":2.0,\"y1\":13.33},{\"line\":{\"color\":\"rgb(0, 0, 0)\"},\"opacity\":0.09,\"type\":\"line\",\"x0\":46.0,\"x1\":50.83,\"y0\":2.0,\"y1\":4.0},{\"line\":{\"color\":\"rgb(0, 0, 0)\"},\"opacity\":0.09,\"type\":\"line\",\"x0\":46.0,\"x1\":44.0,\"y0\":2.0,\"y1\":18.0},{\"line\":{\"color\":\"rgb(0, 0, 0)\"},\"opacity\":0.09,\"type\":\"line\",\"x0\":46.0,\"x1\":51.0,\"y0\":2.0,\"y1\":9.0},{\"line\":{\"color\":\"rgb(0, 0, 0)\"},\"opacity\":0.09,\"type\":\"line\",\"x0\":46.0,\"x1\":46.0,\"y0\":2.0,\"y1\":2.0},{\"line\":{\"color\":\"rgb(0, 0, 0)\"},\"opacity\":0.09,\"type\":\"line\",\"x0\":46.0,\"x1\":52.5,\"y0\":2.0,\"y1\":5.75},{\"line\":{\"color\":\"rgb(0, 0, 0)\"},\"opacity\":0.09,\"type\":\"line\",\"x0\":46.0,\"x1\":49.75,\"y0\":2.0,\"y1\":15.5},{\"line\":{\"color\":\"rgb(0, 0, 0)\"},\"opacity\":0.09,\"type\":\"line\",\"x0\":46.0,\"x1\":45.17,\"y0\":2.0,\"y1\":15.5},{\"line\":{\"color\":\"rgb(0, 0, 0)\"},\"opacity\":0.09,\"type\":\"line\",\"x0\":46.0,\"x1\":49.75,\"y0\":2.0,\"y1\":6.17},{\"line\":{\"color\":\"rgb(0, 0, 0)\"},\"opacity\":0.09,\"type\":\"line\",\"x0\":46.0,\"x1\":46.0,\"y0\":2.0,\"y1\":25.0},{\"line\":{\"color\":\"rgb(0, 0, 0)\"},\"opacity\":0.09,\"type\":\"line\",\"x0\":46.0,\"x1\":47.0,\"y0\":2.0,\"y1\":20.0},{\"line\":{\"color\":\"rgb(0, 0, 0)\"},\"opacity\":0.09,\"type\":\"line\",\"x0\":46.0,\"x1\":42.83,\"y0\":2.0,\"y1\":12.83},{\"line\":{\"color\":\"rgb(0, 0, 0)\"},\"opacity\":0.09,\"type\":\"line\",\"x0\":46.0,\"x1\":54.0,\"y0\":2.0,\"y1\":-2.0},{\"line\":{\"color\":\"rgb(0, 0, 0)\"},\"opacity\":0.09,\"type\":\"line\",\"x0\":52.5,\"x1\":46.12,\"y0\":5.75,\"y1\":14.82},{\"line\":{\"color\":\"rgb(0, 0, 0)\"},\"opacity\":0.09,\"type\":\"line\",\"x0\":52.5,\"x1\":48.67,\"y0\":5.75,\"y1\":19.5},{\"line\":{\"color\":\"rgb(0, 0, 0)\"},\"opacity\":0.09,\"type\":\"line\",\"x0\":52.5,\"x1\":52.0,\"y0\":5.75,\"y1\":20.0},{\"line\":{\"color\":\"rgb(0, 0, 0)\"},\"opacity\":0.09,\"type\":\"line\",\"x0\":52.5,\"x1\":47.33,\"y0\":5.75,\"y1\":13.33},{\"line\":{\"color\":\"rgb(0, 0, 0)\"},\"opacity\":0.09,\"type\":\"line\",\"x0\":52.5,\"x1\":50.83,\"y0\":5.75,\"y1\":4.0},{\"line\":{\"color\":\"rgb(0, 0, 0)\"},\"opacity\":0.09,\"type\":\"line\",\"x0\":52.5,\"x1\":44.0,\"y0\":5.75,\"y1\":18.0},{\"line\":{\"color\":\"rgb(0, 0, 0)\"},\"opacity\":0.09,\"type\":\"line\",\"x0\":52.5,\"x1\":51.0,\"y0\":5.75,\"y1\":9.0},{\"line\":{\"color\":\"rgb(0, 0, 0)\"},\"opacity\":0.09,\"type\":\"line\",\"x0\":52.5,\"x1\":46.0,\"y0\":5.75,\"y1\":2.0},{\"line\":{\"color\":\"rgb(0, 0, 0)\"},\"opacity\":0.09,\"type\":\"line\",\"x0\":52.5,\"x1\":52.5,\"y0\":5.75,\"y1\":5.75},{\"line\":{\"color\":\"rgb(0, 0, 0)\"},\"opacity\":0.09,\"type\":\"line\",\"x0\":52.5,\"x1\":49.75,\"y0\":5.75,\"y1\":15.5},{\"line\":{\"color\":\"rgb(0, 0, 0)\"},\"opacity\":0.09,\"type\":\"line\",\"x0\":52.5,\"x1\":45.17,\"y0\":5.75,\"y1\":15.5},{\"line\":{\"color\":\"rgb(0, 0, 0)\"},\"opacity\":0.09,\"type\":\"line\",\"x0\":52.5,\"x1\":49.75,\"y0\":5.75,\"y1\":6.17},{\"line\":{\"color\":\"rgb(0, 0, 0)\"},\"opacity\":0.09,\"type\":\"line\",\"x0\":52.5,\"x1\":46.0,\"y0\":5.75,\"y1\":25.0},{\"line\":{\"color\":\"rgb(0, 0, 0)\"},\"opacity\":0.09,\"type\":\"line\",\"x0\":52.5,\"x1\":47.0,\"y0\":5.75,\"y1\":20.0},{\"line\":{\"color\":\"rgb(0, 0, 0)\"},\"opacity\":0.09,\"type\":\"line\",\"x0\":52.5,\"x1\":42.83,\"y0\":5.75,\"y1\":12.83},{\"line\":{\"color\":\"rgb(0, 0, 0)\"},\"opacity\":0.09,\"type\":\"line\",\"x0\":52.5,\"x1\":54.0,\"y0\":5.75,\"y1\":-2.0},{\"line\":{\"color\":\"rgb(0, 0, 0)\"},\"opacity\":0.09,\"type\":\"line\",\"x0\":49.75,\"x1\":46.12,\"y0\":15.5,\"y1\":14.82},{\"line\":{\"color\":\"rgb(0, 0, 0)\"},\"opacity\":0.09,\"type\":\"line\",\"x0\":49.75,\"x1\":48.67,\"y0\":15.5,\"y1\":19.5},{\"line\":{\"color\":\"rgb(0, 0, 0)\"},\"opacity\":0.09,\"type\":\"line\",\"x0\":49.75,\"x1\":52.0,\"y0\":15.5,\"y1\":20.0},{\"line\":{\"color\":\"rgb(0, 0, 0)\"},\"opacity\":0.09,\"type\":\"line\",\"x0\":49.75,\"x1\":47.33,\"y0\":15.5,\"y1\":13.33},{\"line\":{\"color\":\"rgb(0, 0, 0)\"},\"opacity\":0.09,\"type\":\"line\",\"x0\":49.75,\"x1\":50.83,\"y0\":15.5,\"y1\":4.0},{\"line\":{\"color\":\"rgb(0, 0, 0)\"},\"opacity\":0.09,\"type\":\"line\",\"x0\":49.75,\"x1\":44.0,\"y0\":15.5,\"y1\":18.0},{\"line\":{\"color\":\"rgb(0, 0, 0)\"},\"opacity\":0.09,\"type\":\"line\",\"x0\":49.75,\"x1\":51.0,\"y0\":15.5,\"y1\":9.0},{\"line\":{\"color\":\"rgb(0, 0, 0)\"},\"opacity\":0.09,\"type\":\"line\",\"x0\":49.75,\"x1\":46.0,\"y0\":15.5,\"y1\":2.0},{\"line\":{\"color\":\"rgb(0, 0, 0)\"},\"opacity\":0.09,\"type\":\"line\",\"x0\":49.75,\"x1\":52.5,\"y0\":15.5,\"y1\":5.75},{\"line\":{\"color\":\"rgb(0, 0, 0)\"},\"opacity\":0.09,\"type\":\"line\",\"x0\":49.75,\"x1\":49.75,\"y0\":15.5,\"y1\":15.5},{\"line\":{\"color\":\"rgb(0, 0, 0)\"},\"opacity\":0.09,\"type\":\"line\",\"x0\":49.75,\"x1\":45.17,\"y0\":15.5,\"y1\":15.5},{\"line\":{\"color\":\"rgb(0, 0, 0)\"},\"opacity\":0.09,\"type\":\"line\",\"x0\":49.75,\"x1\":49.75,\"y0\":15.5,\"y1\":6.17},{\"line\":{\"color\":\"rgb(0, 0, 0)\"},\"opacity\":0.09,\"type\":\"line\",\"x0\":49.75,\"x1\":46.0,\"y0\":15.5,\"y1\":25.0},{\"line\":{\"color\":\"rgb(0, 0, 0)\"},\"opacity\":0.09,\"type\":\"line\",\"x0\":49.75,\"x1\":47.0,\"y0\":15.5,\"y1\":20.0},{\"line\":{\"color\":\"rgb(0, 0, 0)\"},\"opacity\":0.09,\"type\":\"line\",\"x0\":49.75,\"x1\":42.83,\"y0\":15.5,\"y1\":12.83},{\"line\":{\"color\":\"rgb(0, 0, 0)\"},\"opacity\":0.09,\"type\":\"line\",\"x0\":49.75,\"x1\":54.0,\"y0\":15.5,\"y1\":-2.0},{\"line\":{\"color\":\"rgb(0, 0, 0)\"},\"opacity\":0.09,\"type\":\"line\",\"x0\":45.17,\"x1\":46.12,\"y0\":15.5,\"y1\":14.82},{\"line\":{\"color\":\"rgb(0, 0, 0)\"},\"opacity\":0.09,\"type\":\"line\",\"x0\":45.17,\"x1\":48.67,\"y0\":15.5,\"y1\":19.5},{\"line\":{\"color\":\"rgb(0, 0, 0)\"},\"opacity\":0.09,\"type\":\"line\",\"x0\":45.17,\"x1\":52.0,\"y0\":15.5,\"y1\":20.0},{\"line\":{\"color\":\"rgb(0, 0, 0)\"},\"opacity\":0.09,\"type\":\"line\",\"x0\":45.17,\"x1\":47.33,\"y0\":15.5,\"y1\":13.33},{\"line\":{\"color\":\"rgb(0, 0, 0)\"},\"opacity\":0.09,\"type\":\"line\",\"x0\":45.17,\"x1\":50.83,\"y0\":15.5,\"y1\":4.0},{\"line\":{\"color\":\"rgb(0, 0, 0)\"},\"opacity\":0.09,\"type\":\"line\",\"x0\":45.17,\"x1\":44.0,\"y0\":15.5,\"y1\":18.0},{\"line\":{\"color\":\"rgb(0, 0, 0)\"},\"opacity\":0.09,\"type\":\"line\",\"x0\":45.17,\"x1\":51.0,\"y0\":15.5,\"y1\":9.0},{\"line\":{\"color\":\"rgb(0, 0, 0)\"},\"opacity\":0.09,\"type\":\"line\",\"x0\":45.17,\"x1\":46.0,\"y0\":15.5,\"y1\":2.0},{\"line\":{\"color\":\"rgb(0, 0, 0)\"},\"opacity\":0.09,\"type\":\"line\",\"x0\":45.17,\"x1\":52.5,\"y0\":15.5,\"y1\":5.75},{\"line\":{\"color\":\"rgb(0, 0, 0)\"},\"opacity\":0.09,\"type\":\"line\",\"x0\":45.17,\"x1\":49.75,\"y0\":15.5,\"y1\":15.5},{\"line\":{\"color\":\"rgb(0, 0, 0)\"},\"opacity\":0.09,\"type\":\"line\",\"x0\":45.17,\"x1\":45.17,\"y0\":15.5,\"y1\":15.5},{\"line\":{\"color\":\"rgb(0, 0, 0)\"},\"opacity\":0.09,\"type\":\"line\",\"x0\":45.17,\"x1\":49.75,\"y0\":15.5,\"y1\":6.17},{\"line\":{\"color\":\"rgb(0, 0, 0)\"},\"opacity\":0.09,\"type\":\"line\",\"x0\":45.17,\"x1\":46.0,\"y0\":15.5,\"y1\":25.0},{\"line\":{\"color\":\"rgb(0, 0, 0)\"},\"opacity\":0.09,\"type\":\"line\",\"x0\":45.17,\"x1\":47.0,\"y0\":15.5,\"y1\":20.0},{\"line\":{\"color\":\"rgb(0, 0, 0)\"},\"opacity\":0.09,\"type\":\"line\",\"x0\":45.17,\"x1\":42.83,\"y0\":15.5,\"y1\":12.83},{\"line\":{\"color\":\"rgb(0, 0, 0)\"},\"opacity\":0.09,\"type\":\"line\",\"x0\":45.17,\"x1\":54.0,\"y0\":15.5,\"y1\":-2.0},{\"line\":{\"color\":\"rgb(0, 0, 0)\"},\"opacity\":0.09,\"type\":\"line\",\"x0\":49.75,\"x1\":46.12,\"y0\":6.17,\"y1\":14.82},{\"line\":{\"color\":\"rgb(0, 0, 0)\"},\"opacity\":0.09,\"type\":\"line\",\"x0\":49.75,\"x1\":48.67,\"y0\":6.17,\"y1\":19.5},{\"line\":{\"color\":\"rgb(0, 0, 0)\"},\"opacity\":0.09,\"type\":\"line\",\"x0\":49.75,\"x1\":52.0,\"y0\":6.17,\"y1\":20.0},{\"line\":{\"color\":\"rgb(0, 0, 0)\"},\"opacity\":0.09,\"type\":\"line\",\"x0\":49.75,\"x1\":47.33,\"y0\":6.17,\"y1\":13.33},{\"line\":{\"color\":\"rgb(0, 0, 0)\"},\"opacity\":0.09,\"type\":\"line\",\"x0\":49.75,\"x1\":50.83,\"y0\":6.17,\"y1\":4.0},{\"line\":{\"color\":\"rgb(0, 0, 0)\"},\"opacity\":0.09,\"type\":\"line\",\"x0\":49.75,\"x1\":44.0,\"y0\":6.17,\"y1\":18.0},{\"line\":{\"color\":\"rgb(0, 0, 0)\"},\"opacity\":0.09,\"type\":\"line\",\"x0\":49.75,\"x1\":51.0,\"y0\":6.17,\"y1\":9.0},{\"line\":{\"color\":\"rgb(0, 0, 0)\"},\"opacity\":0.09,\"type\":\"line\",\"x0\":49.75,\"x1\":46.0,\"y0\":6.17,\"y1\":2.0},{\"line\":{\"color\":\"rgb(0, 0, 0)\"},\"opacity\":0.09,\"type\":\"line\",\"x0\":49.75,\"x1\":52.5,\"y0\":6.17,\"y1\":5.75},{\"line\":{\"color\":\"rgb(0, 0, 0)\"},\"opacity\":0.09,\"type\":\"line\",\"x0\":49.75,\"x1\":49.75,\"y0\":6.17,\"y1\":15.5},{\"line\":{\"color\":\"rgb(0, 0, 0)\"},\"opacity\":0.09,\"type\":\"line\",\"x0\":49.75,\"x1\":45.17,\"y0\":6.17,\"y1\":15.5},{\"line\":{\"color\":\"rgb(0, 0, 0)\"},\"opacity\":0.09,\"type\":\"line\",\"x0\":49.75,\"x1\":49.75,\"y0\":6.17,\"y1\":6.17},{\"line\":{\"color\":\"rgb(0, 0, 0)\"},\"opacity\":0.09,\"type\":\"line\",\"x0\":49.75,\"x1\":46.0,\"y0\":6.17,\"y1\":25.0},{\"line\":{\"color\":\"rgb(0, 0, 0)\"},\"opacity\":0.09,\"type\":\"line\",\"x0\":49.75,\"x1\":47.0,\"y0\":6.17,\"y1\":20.0},{\"line\":{\"color\":\"rgb(0, 0, 0)\"},\"opacity\":0.09,\"type\":\"line\",\"x0\":49.75,\"x1\":42.83,\"y0\":6.17,\"y1\":12.83},{\"line\":{\"color\":\"rgb(0, 0, 0)\"},\"opacity\":0.09,\"type\":\"line\",\"x0\":49.75,\"x1\":54.0,\"y0\":6.17,\"y1\":-2.0},{\"line\":{\"color\":\"rgb(0, 0, 0)\"},\"opacity\":0.09,\"type\":\"line\",\"x0\":46.0,\"x1\":46.12,\"y0\":25.0,\"y1\":14.82},{\"line\":{\"color\":\"rgb(0, 0, 0)\"},\"opacity\":0.09,\"type\":\"line\",\"x0\":46.0,\"x1\":48.67,\"y0\":25.0,\"y1\":19.5},{\"line\":{\"color\":\"rgb(0, 0, 0)\"},\"opacity\":0.09,\"type\":\"line\",\"x0\":46.0,\"x1\":52.0,\"y0\":25.0,\"y1\":20.0},{\"line\":{\"color\":\"rgb(0, 0, 0)\"},\"opacity\":0.09,\"type\":\"line\",\"x0\":46.0,\"x1\":47.33,\"y0\":25.0,\"y1\":13.33},{\"line\":{\"color\":\"rgb(0, 0, 0)\"},\"opacity\":0.09,\"type\":\"line\",\"x0\":46.0,\"x1\":50.83,\"y0\":25.0,\"y1\":4.0},{\"line\":{\"color\":\"rgb(0, 0, 0)\"},\"opacity\":0.09,\"type\":\"line\",\"x0\":46.0,\"x1\":44.0,\"y0\":25.0,\"y1\":18.0},{\"line\":{\"color\":\"rgb(0, 0, 0)\"},\"opacity\":0.09,\"type\":\"line\",\"x0\":46.0,\"x1\":51.0,\"y0\":25.0,\"y1\":9.0},{\"line\":{\"color\":\"rgb(0, 0, 0)\"},\"opacity\":0.09,\"type\":\"line\",\"x0\":46.0,\"x1\":46.0,\"y0\":25.0,\"y1\":2.0},{\"line\":{\"color\":\"rgb(0, 0, 0)\"},\"opacity\":0.09,\"type\":\"line\",\"x0\":46.0,\"x1\":52.5,\"y0\":25.0,\"y1\":5.75},{\"line\":{\"color\":\"rgb(0, 0, 0)\"},\"opacity\":0.09,\"type\":\"line\",\"x0\":46.0,\"x1\":49.75,\"y0\":25.0,\"y1\":15.5},{\"line\":{\"color\":\"rgb(0, 0, 0)\"},\"opacity\":0.09,\"type\":\"line\",\"x0\":46.0,\"x1\":45.17,\"y0\":25.0,\"y1\":15.5},{\"line\":{\"color\":\"rgb(0, 0, 0)\"},\"opacity\":0.09,\"type\":\"line\",\"x0\":46.0,\"x1\":49.75,\"y0\":25.0,\"y1\":6.17},{\"line\":{\"color\":\"rgb(0, 0, 0)\"},\"opacity\":0.09,\"type\":\"line\",\"x0\":46.0,\"x1\":46.0,\"y0\":25.0,\"y1\":25.0},{\"line\":{\"color\":\"rgb(0, 0, 0)\"},\"opacity\":0.09,\"type\":\"line\",\"x0\":46.0,\"x1\":47.0,\"y0\":25.0,\"y1\":20.0},{\"line\":{\"color\":\"rgb(0, 0, 0)\"},\"opacity\":0.09,\"type\":\"line\",\"x0\":46.0,\"x1\":42.83,\"y0\":25.0,\"y1\":12.83},{\"line\":{\"color\":\"rgb(0, 0, 0)\"},\"opacity\":0.09,\"type\":\"line\",\"x0\":46.0,\"x1\":54.0,\"y0\":25.0,\"y1\":-2.0},{\"line\":{\"color\":\"rgb(0, 0, 0)\"},\"opacity\":0.09,\"type\":\"line\",\"x0\":47.0,\"x1\":46.12,\"y0\":20.0,\"y1\":14.82},{\"line\":{\"color\":\"rgb(0, 0, 0)\"},\"opacity\":0.09,\"type\":\"line\",\"x0\":47.0,\"x1\":48.67,\"y0\":20.0,\"y1\":19.5},{\"line\":{\"color\":\"rgb(0, 0, 0)\"},\"opacity\":0.09,\"type\":\"line\",\"x0\":47.0,\"x1\":52.0,\"y0\":20.0,\"y1\":20.0},{\"line\":{\"color\":\"rgb(0, 0, 0)\"},\"opacity\":0.09,\"type\":\"line\",\"x0\":47.0,\"x1\":47.33,\"y0\":20.0,\"y1\":13.33},{\"line\":{\"color\":\"rgb(0, 0, 0)\"},\"opacity\":0.09,\"type\":\"line\",\"x0\":47.0,\"x1\":50.83,\"y0\":20.0,\"y1\":4.0},{\"line\":{\"color\":\"rgb(0, 0, 0)\"},\"opacity\":0.09,\"type\":\"line\",\"x0\":47.0,\"x1\":44.0,\"y0\":20.0,\"y1\":18.0},{\"line\":{\"color\":\"rgb(0, 0, 0)\"},\"opacity\":0.09,\"type\":\"line\",\"x0\":47.0,\"x1\":51.0,\"y0\":20.0,\"y1\":9.0},{\"line\":{\"color\":\"rgb(0, 0, 0)\"},\"opacity\":0.09,\"type\":\"line\",\"x0\":47.0,\"x1\":46.0,\"y0\":20.0,\"y1\":2.0},{\"line\":{\"color\":\"rgb(0, 0, 0)\"},\"opacity\":0.09,\"type\":\"line\",\"x0\":47.0,\"x1\":52.5,\"y0\":20.0,\"y1\":5.75},{\"line\":{\"color\":\"rgb(0, 0, 0)\"},\"opacity\":0.09,\"type\":\"line\",\"x0\":47.0,\"x1\":49.75,\"y0\":20.0,\"y1\":15.5},{\"line\":{\"color\":\"rgb(0, 0, 0)\"},\"opacity\":0.09,\"type\":\"line\",\"x0\":47.0,\"x1\":45.17,\"y0\":20.0,\"y1\":15.5},{\"line\":{\"color\":\"rgb(0, 0, 0)\"},\"opacity\":0.09,\"type\":\"line\",\"x0\":47.0,\"x1\":49.75,\"y0\":20.0,\"y1\":6.17},{\"line\":{\"color\":\"rgb(0, 0, 0)\"},\"opacity\":0.09,\"type\":\"line\",\"x0\":47.0,\"x1\":46.0,\"y0\":20.0,\"y1\":25.0},{\"line\":{\"color\":\"rgb(0, 0, 0)\"},\"opacity\":0.09,\"type\":\"line\",\"x0\":47.0,\"x1\":47.0,\"y0\":20.0,\"y1\":20.0},{\"line\":{\"color\":\"rgb(0, 0, 0)\"},\"opacity\":0.09,\"type\":\"line\",\"x0\":47.0,\"x1\":42.83,\"y0\":20.0,\"y1\":12.83},{\"line\":{\"color\":\"rgb(0, 0, 0)\"},\"opacity\":0.09,\"type\":\"line\",\"x0\":47.0,\"x1\":54.0,\"y0\":20.0,\"y1\":-2.0},{\"line\":{\"color\":\"rgb(0, 0, 0)\"},\"opacity\":0.09,\"type\":\"line\",\"x0\":42.83,\"x1\":46.12,\"y0\":12.83,\"y1\":14.82},{\"line\":{\"color\":\"rgb(0, 0, 0)\"},\"opacity\":0.09,\"type\":\"line\",\"x0\":42.83,\"x1\":48.67,\"y0\":12.83,\"y1\":19.5},{\"line\":{\"color\":\"rgb(0, 0, 0)\"},\"opacity\":0.09,\"type\":\"line\",\"x0\":42.83,\"x1\":52.0,\"y0\":12.83,\"y1\":20.0},{\"line\":{\"color\":\"rgb(0, 0, 0)\"},\"opacity\":0.09,\"type\":\"line\",\"x0\":42.83,\"x1\":47.33,\"y0\":12.83,\"y1\":13.33},{\"line\":{\"color\":\"rgb(0, 0, 0)\"},\"opacity\":0.09,\"type\":\"line\",\"x0\":42.83,\"x1\":50.83,\"y0\":12.83,\"y1\":4.0},{\"line\":{\"color\":\"rgb(0, 0, 0)\"},\"opacity\":0.09,\"type\":\"line\",\"x0\":42.83,\"x1\":44.0,\"y0\":12.83,\"y1\":18.0},{\"line\":{\"color\":\"rgb(0, 0, 0)\"},\"opacity\":0.09,\"type\":\"line\",\"x0\":42.83,\"x1\":51.0,\"y0\":12.83,\"y1\":9.0},{\"line\":{\"color\":\"rgb(0, 0, 0)\"},\"opacity\":0.09,\"type\":\"line\",\"x0\":42.83,\"x1\":46.0,\"y0\":12.83,\"y1\":2.0},{\"line\":{\"color\":\"rgb(0, 0, 0)\"},\"opacity\":0.09,\"type\":\"line\",\"x0\":42.83,\"x1\":52.5,\"y0\":12.83,\"y1\":5.75},{\"line\":{\"color\":\"rgb(0, 0, 0)\"},\"opacity\":0.09,\"type\":\"line\",\"x0\":42.83,\"x1\":49.75,\"y0\":12.83,\"y1\":15.5},{\"line\":{\"color\":\"rgb(0, 0, 0)\"},\"opacity\":0.09,\"type\":\"line\",\"x0\":42.83,\"x1\":45.17,\"y0\":12.83,\"y1\":15.5},{\"line\":{\"color\":\"rgb(0, 0, 0)\"},\"opacity\":0.09,\"type\":\"line\",\"x0\":42.83,\"x1\":49.75,\"y0\":12.83,\"y1\":6.17},{\"line\":{\"color\":\"rgb(0, 0, 0)\"},\"opacity\":0.09,\"type\":\"line\",\"x0\":42.83,\"x1\":46.0,\"y0\":12.83,\"y1\":25.0},{\"line\":{\"color\":\"rgb(0, 0, 0)\"},\"opacity\":0.09,\"type\":\"line\",\"x0\":42.83,\"x1\":47.0,\"y0\":12.83,\"y1\":20.0},{\"line\":{\"color\":\"rgb(0, 0, 0)\"},\"opacity\":0.09,\"type\":\"line\",\"x0\":42.83,\"x1\":42.83,\"y0\":12.83,\"y1\":12.83},{\"line\":{\"color\":\"rgb(0, 0, 0)\"},\"opacity\":0.09,\"type\":\"line\",\"x0\":42.83,\"x1\":54.0,\"y0\":12.83,\"y1\":-2.0},{\"line\":{\"color\":\"rgb(0, 0, 0)\"},\"opacity\":0.09,\"type\":\"line\",\"x0\":54.0,\"x1\":46.12,\"y0\":-2.0,\"y1\":14.82},{\"line\":{\"color\":\"rgb(0, 0, 0)\"},\"opacity\":0.09,\"type\":\"line\",\"x0\":54.0,\"x1\":48.67,\"y0\":-2.0,\"y1\":19.5},{\"line\":{\"color\":\"rgb(0, 0, 0)\"},\"opacity\":0.09,\"type\":\"line\",\"x0\":54.0,\"x1\":52.0,\"y0\":-2.0,\"y1\":20.0},{\"line\":{\"color\":\"rgb(0, 0, 0)\"},\"opacity\":0.09,\"type\":\"line\",\"x0\":54.0,\"x1\":47.33,\"y0\":-2.0,\"y1\":13.33},{\"line\":{\"color\":\"rgb(0, 0, 0)\"},\"opacity\":0.09,\"type\":\"line\",\"x0\":54.0,\"x1\":50.83,\"y0\":-2.0,\"y1\":4.0},{\"line\":{\"color\":\"rgb(0, 0, 0)\"},\"opacity\":0.09,\"type\":\"line\",\"x0\":54.0,\"x1\":44.0,\"y0\":-2.0,\"y1\":18.0},{\"line\":{\"color\":\"rgb(0, 0, 0)\"},\"opacity\":0.09,\"type\":\"line\",\"x0\":54.0,\"x1\":51.0,\"y0\":-2.0,\"y1\":9.0},{\"line\":{\"color\":\"rgb(0, 0, 0)\"},\"opacity\":0.09,\"type\":\"line\",\"x0\":54.0,\"x1\":46.0,\"y0\":-2.0,\"y1\":2.0},{\"line\":{\"color\":\"rgb(0, 0, 0)\"},\"opacity\":0.09,\"type\":\"line\",\"x0\":54.0,\"x1\":52.5,\"y0\":-2.0,\"y1\":5.75},{\"line\":{\"color\":\"rgb(0, 0, 0)\"},\"opacity\":0.09,\"type\":\"line\",\"x0\":54.0,\"x1\":49.75,\"y0\":-2.0,\"y1\":15.5},{\"line\":{\"color\":\"rgb(0, 0, 0)\"},\"opacity\":0.09,\"type\":\"line\",\"x0\":54.0,\"x1\":45.17,\"y0\":-2.0,\"y1\":15.5},{\"line\":{\"color\":\"rgb(0, 0, 0)\"},\"opacity\":0.09,\"type\":\"line\",\"x0\":54.0,\"x1\":49.75,\"y0\":-2.0,\"y1\":6.17},{\"line\":{\"color\":\"rgb(0, 0, 0)\"},\"opacity\":0.09,\"type\":\"line\",\"x0\":54.0,\"x1\":46.0,\"y0\":-2.0,\"y1\":25.0},{\"line\":{\"color\":\"rgb(0, 0, 0)\"},\"opacity\":0.09,\"type\":\"line\",\"x0\":54.0,\"x1\":47.0,\"y0\":-2.0,\"y1\":20.0},{\"line\":{\"color\":\"rgb(0, 0, 0)\"},\"opacity\":0.09,\"type\":\"line\",\"x0\":54.0,\"x1\":42.83,\"y0\":-2.0,\"y1\":12.83},{\"line\":{\"color\":\"rgb(0, 0, 0)\"},\"opacity\":0.09,\"type\":\"line\",\"x0\":54.0,\"x1\":54.0,\"y0\":-2.0,\"y1\":-2.0}],\"uniformtext\":{\"minsize\":8,\"mode\":\"hide\"},\"showlegend\":false},                        {\"responsive\": true}                    ).then(function(){\n",
              "                            \n",
              "var gd = document.getElementById('8ef2926e-48b4-4954-a9bc-110b4dd55b7e');\n",
              "var x = new MutationObserver(function (mutations, observer) {{\n",
              "        var display = window.getComputedStyle(gd).display;\n",
              "        if (!display || display === 'none') {{\n",
              "            console.log([gd, 'removed!']);\n",
              "            Plotly.purge(gd);\n",
              "            observer.disconnect();\n",
              "        }}\n",
              "}});\n",
              "\n",
              "// Listen for the removal of the full notebook cells\n",
              "var notebookContainer = gd.closest('#notebook-container');\n",
              "if (notebookContainer) {{\n",
              "    x.observe(notebookContainer, {childList: true});\n",
              "}}\n",
              "\n",
              "// Listen for the clearing of the current output cell\n",
              "var outputEl = gd.closest('.output');\n",
              "if (outputEl) {{\n",
              "    x.observe(outputEl, {childList: true});\n",
              "}}\n",
              "\n",
              "                        })                };                            </script>        </div>\n",
              "</body>\n",
              "</html>"
            ]
          },
          "metadata": {},
          "output_type": "display_data"
        }
      ],
      "source": [
        "plot_cities_and_route(location, product(range(n), range(n))) # Visualización de las ciudades"
      ]
    },
    {
      "cell_type": "markdown",
      "metadata": {
        "id": "ddUsNvBc4bYy"
      },
      "source": [
        "## TSP (Travelling salesman problem) con programación lineal"
      ]
    },
    {
      "cell_type": "code",
      "execution_count": null,
      "metadata": {
        "colab": {
          "base_uri": "https://localhost:8080/"
        },
        "id": "G0qBpC4A4k9D",
        "outputId": "aaa7c9f5-f841-4811-8104-cb2cdb216c71"
      },
      "outputs": [
        {
          "name": "stdout",
          "output_type": "stream",
          "text": [
            "Número de nodos:\tn = 16\n",
            "Vértices:\tV = {0, 1, 2, 3, 4, 5, 6, 7, 8, 9, 10, 11, 12, 13, 14, 15}\n"
          ]
        }
      ],
      "source": [
        "# Número de nodos y vértices\n",
        "n, V = len(location), set(range(len(location)))\n",
        "print(f'Número de nodos:\\tn = {n}\\nVértices:\\tV = {V}')"
      ]
    },
    {
      "cell_type": "code",
      "execution_count": null,
      "metadata": {
        "id": "bD1GjEWa4qac"
      },
      "outputs": [],
      "source": [
        "model = Model()\n",
        "\n",
        "# Variables binarias que indican si se toma el camino de la ciudad i a la j\n",
        "x = [[model.add_var(var_type=BINARY) for j in V] for i in V]\n",
        "\n",
        "# Variables continuas para evitar subrutas\n",
        "y = [model.add_var() for i in V]"
      ]
    },
    {
      "cell_type": "code",
      "execution_count": null,
      "metadata": {
        "id": "aVLsv8zA4zAM"
      },
      "outputs": [],
      "source": [
        "# Función objetivo:\n",
        "model.objective = minimize(xsum(d[i][j]*x[i][j] for i in V for j in V))"
      ]
    },
    {
      "cell_type": "code",
      "execution_count": null,
      "metadata": {
        "id": "-LGQSUGk42Q6"
      },
      "outputs": [],
      "source": [
        "# Restricción : Sal de cada ciudad una única vez\n",
        "for i in V:\n",
        "    model += xsum(x[i][j] for j in V - {i}) == 1"
      ]
    },
    {
      "cell_type": "code",
      "execution_count": null,
      "metadata": {
        "id": "VYrV5A0Y46Po"
      },
      "outputs": [],
      "source": [
        "# Restricción : Entra a cada ciudad una única vez\n",
        "for j in V:\n",
        "    model += xsum(x[i][j] for i in V - {j}) == 1"
      ]
    },
    {
      "cell_type": "code",
      "execution_count": null,
      "metadata": {
        "id": "gZo-UWQV4-Zn"
      },
      "outputs": [],
      "source": [
        "# Elimina subrutas\n",
        "for (i, j) in product(V - {0}, V - {0}):\n",
        "    if i != j:\n",
        "        model += y[j] - (n-1)*x[i][j] >= y[i]-(n-2)"
      ]
    },
    {
      "cell_type": "code",
      "execution_count": null,
      "metadata": {
        "colab": {
          "base_uri": "https://localhost:8080/"
        },
        "id": "O9F6giTQ4_Zy",
        "outputId": "c70e3d1a-0486-4e7c-b616-65b3a32d8660"
      },
      "outputs": [
        {
          "name": "stdout",
          "output_type": "stream",
          "text": [
            "Ruta con distancia total 6462.73 encontrada: ciudad_0\n",
            " -> ciudad_3\n",
            " -> ciudad_7\n",
            " -> ciudad_11\n",
            " -> ciudad_4\n",
            " -> ciudad_15\n",
            " -> ciudad_8\n",
            " -> ciudad_6\n",
            " -> ciudad_9\n",
            " -> ciudad_2\n",
            " -> ciudad_1\n",
            " -> ciudad_13\n",
            " -> ciudad_12\n",
            " -> ciudad_5\n",
            " -> ciudad_14\n",
            " -> ciudad_10\n",
            " -> ciudad_0\n",
            "\n",
            "\n"
          ]
        }
      ],
      "source": [
        "# Optimizar\n",
        "model.optimize()\n",
        "\n",
        "# Revisar si se encontró una solución\n",
        "edges = []\n",
        "if model.num_solutions:\n",
        "    print('Ruta con distancia total %g encontrada: %s'\n",
        "              % (model.objective_value, location.index[0]))\n",
        "    nc = 0 # Indice de la ciudad actual\n",
        "    while True:\n",
        "        oc = nc\n",
        "        nc = [i for i in V if x[nc][i].x >= 0.99][0] # Indice de la ciudad a la que se siguió\n",
        "        edges.append((oc, nc)) # Guardamos el camino a tomar\n",
        "        print(' -> %s' % location.index[nc]) # Imprimimos el siguiente paso de la ruta\n",
        "        if nc == 0:  # Si regresa al inicio terminamos el ciclo\n",
        "            break\n",
        "    print('\\n')"
      ]
    },
    {
      "cell_type": "code",
      "execution_count": null,
      "metadata": {
        "colab": {
          "base_uri": "https://localhost:8080/",
          "height": 542
        },
        "id": "nFtwi7KT5HT9",
        "outputId": "b57857a2-6152-48e5-ad3d-1a56a6ba18f2"
      },
      "outputs": [
        {
          "data": {
            "text/html": [
              "<html>\n",
              "<head><meta charset=\"utf-8\" /></head>\n",
              "<body>\n",
              "    <div>            <script src=\"https://cdnjs.cloudflare.com/ajax/libs/mathjax/2.7.5/MathJax.js?config=TeX-AMS-MML_SVG\"></script><script type=\"text/javascript\">if (window.MathJax && window.MathJax.Hub && window.MathJax.Hub.Config) {window.MathJax.Hub.Config({SVG: {font: \"STIX-Web\"}});}</script>                <script type=\"text/javascript\">window.PlotlyConfig = {MathJaxConfig: 'local'};</script>\n",
              "        <script charset=\"utf-8\" src=\"https://cdn.plot.ly/plotly-2.24.1.min.js\"></script>                <div id=\"4d7c3c1c-424c-4f5b-ba3f-1e93158c7fc5\" class=\"plotly-graph-div\" style=\"height:525px; width:100%;\"></div>            <script type=\"text/javascript\">                                    window.PLOTLYENV=window.PLOTLYENV || {};                                    if (document.getElementById(\"4d7c3c1c-424c-4f5b-ba3f-1e93158c7fc5\")) {                    Plotly.newPlot(                        \"4d7c3c1c-424c-4f5b-ba3f-1e93158c7fc5\",                        [{\"hovertemplate\":\"\\u003cb\\u003e%{hovertext}\\u003c\\u002fb\\u003e\\u003cbr\\u003e\\u003cbr\\u003ex=%{x}\\u003cbr\\u003ey=%{y}\\u003cextra\\u003e\\u003c\\u002fextra\\u003e\",\"hovertext\":[\"ciudad_0\",\"ciudad_1\",\"ciudad_2\",\"ciudad_3\",\"ciudad_4\",\"ciudad_5\",\"ciudad_6\",\"ciudad_7\",\"ciudad_8\",\"ciudad_9\",\"ciudad_10\",\"ciudad_11\",\"ciudad_12\",\"ciudad_13\",\"ciudad_14\",\"ciudad_15\"],\"legendgroup\":\"\",\"marker\":{\"color\":\"#636efa\",\"symbol\":\"circle\",\"line\":{\"color\":\"DarkSlateGrey\",\"width\":2},\"size\":15},\"mode\":\"markers\",\"name\":\"\",\"orientation\":\"v\",\"showlegend\":false,\"x\":[46.12,48.67,52.0,47.33,50.83,44.0,51.0,46.0,52.5,49.75,45.17,49.75,46.0,47.0,42.83,54.0],\"xaxis\":\"x\",\"y\":[14.82,19.5,20.0,13.33,4.0,18.0,9.0,2.0,5.75,15.5,15.5,6.17,25.0,20.0,12.83,-2.0],\"yaxis\":\"y\",\"type\":\"scatter\",\"textposition\":\"top right\",\"texttemplate\":\"%{text:.2s}\"},{\"mode\":\"text\",\"text\":[\"176.2595\"],\"x\":[46.724999999999994],\"y\":[14.075],\"type\":\"scatter\",\"textposition\":\"top right\",\"texttemplate\":\"%{text:.2s}\"},{\"mode\":\"text\",\"text\":[\"877.2822\"],\"x\":[46.665],\"y\":[7.665],\"type\":\"scatter\",\"textposition\":\"top right\",\"texttemplate\":\"%{text:.2s}\"},{\"mode\":\"text\",\"text\":[\"520.5903\"],\"x\":[47.875],\"y\":[4.085],\"type\":\"scatter\",\"textposition\":\"top right\",\"texttemplate\":\"%{text:.2s}\"},{\"mode\":\"text\",\"text\":[\"195.6181\"],\"x\":[50.29],\"y\":[5.085],\"type\":\"scatter\",\"textposition\":\"top right\",\"texttemplate\":\"%{text:.2s}\"},{\"mode\":\"text\",\"text\":[\"538.6348\"],\"x\":[52.415],\"y\":[1.0],\"type\":\"scatter\",\"textposition\":\"top right\",\"texttemplate\":\"%{text:.2s}\"},{\"mode\":\"text\",\"text\":[\"542.1851\"],\"x\":[53.25],\"y\":[1.875],\"type\":\"scatter\",\"textposition\":\"top right\",\"texttemplate\":\"%{text:.2s}\"},{\"mode\":\"text\",\"text\":[\"279.3231\"],\"x\":[51.75],\"y\":[7.375],\"type\":\"scatter\",\"textposition\":\"top right\",\"texttemplate\":\"%{text:.2s}\"},{\"mode\":\"text\",\"text\":[\"481.7939\"],\"x\":[50.375],\"y\":[12.25],\"type\":\"scatter\",\"textposition\":\"top right\",\"texttemplate\":\"%{text:.2s}\"},{\"mode\":\"text\",\"text\":[\"403.1683\"],\"x\":[50.875],\"y\":[17.75],\"type\":\"scatter\",\"textposition\":\"top right\",\"texttemplate\":\"%{text:.2s}\"},{\"mode\":\"text\",\"text\":[\"372.3824\"],\"x\":[50.335],\"y\":[19.75],\"type\":\"scatter\",\"textposition\":\"top right\",\"texttemplate\":\"%{text:.2s}\"},{\"mode\":\"text\",\"text\":[\"189.6159\"],\"x\":[47.835],\"y\":[19.75],\"type\":\"scatter\",\"textposition\":\"top right\",\"texttemplate\":\"%{text:.2s}\"},{\"mode\":\"text\",\"text\":[\"398.8909\"],\"x\":[46.5],\"y\":[22.5],\"type\":\"scatter\",\"textposition\":\"top right\",\"texttemplate\":\"%{text:.2s}\"},{\"mode\":\"text\",\"text\":[\"594.0088\"],\"x\":[45.0],\"y\":[21.5],\"type\":\"scatter\",\"textposition\":\"top right\",\"texttemplate\":\"%{text:.2s}\"},{\"mode\":\"text\",\"text\":[\"437.7764\"],\"x\":[43.415],\"y\":[15.415],\"type\":\"scatter\",\"textposition\":\"top right\",\"texttemplate\":\"%{text:.2s}\"},{\"mode\":\"text\",\"text\":[\"336.9472\"],\"x\":[44.0],\"y\":[14.165],\"type\":\"scatter\",\"textposition\":\"top right\",\"texttemplate\":\"%{text:.2s}\"},{\"mode\":\"text\",\"text\":[\"118.2518\"],\"x\":[45.644999999999996],\"y\":[15.16],\"type\":\"scatter\",\"textposition\":\"top right\",\"texttemplate\":\"%{text:.2s}\"}],                        {\"template\":{\"data\":{\"histogram2dcontour\":[{\"type\":\"histogram2dcontour\",\"colorbar\":{\"outlinewidth\":0,\"ticks\":\"\"},\"colorscale\":[[0.0,\"#0d0887\"],[0.1111111111111111,\"#46039f\"],[0.2222222222222222,\"#7201a8\"],[0.3333333333333333,\"#9c179e\"],[0.4444444444444444,\"#bd3786\"],[0.5555555555555556,\"#d8576b\"],[0.6666666666666666,\"#ed7953\"],[0.7777777777777778,\"#fb9f3a\"],[0.8888888888888888,\"#fdca26\"],[1.0,\"#f0f921\"]]}],\"choropleth\":[{\"type\":\"choropleth\",\"colorbar\":{\"outlinewidth\":0,\"ticks\":\"\"}}],\"histogram2d\":[{\"type\":\"histogram2d\",\"colorbar\":{\"outlinewidth\":0,\"ticks\":\"\"},\"colorscale\":[[0.0,\"#0d0887\"],[0.1111111111111111,\"#46039f\"],[0.2222222222222222,\"#7201a8\"],[0.3333333333333333,\"#9c179e\"],[0.4444444444444444,\"#bd3786\"],[0.5555555555555556,\"#d8576b\"],[0.6666666666666666,\"#ed7953\"],[0.7777777777777778,\"#fb9f3a\"],[0.8888888888888888,\"#fdca26\"],[1.0,\"#f0f921\"]]}],\"heatmap\":[{\"type\":\"heatmap\",\"colorbar\":{\"outlinewidth\":0,\"ticks\":\"\"},\"colorscale\":[[0.0,\"#0d0887\"],[0.1111111111111111,\"#46039f\"],[0.2222222222222222,\"#7201a8\"],[0.3333333333333333,\"#9c179e\"],[0.4444444444444444,\"#bd3786\"],[0.5555555555555556,\"#d8576b\"],[0.6666666666666666,\"#ed7953\"],[0.7777777777777778,\"#fb9f3a\"],[0.8888888888888888,\"#fdca26\"],[1.0,\"#f0f921\"]]}],\"heatmapgl\":[{\"type\":\"heatmapgl\",\"colorbar\":{\"outlinewidth\":0,\"ticks\":\"\"},\"colorscale\":[[0.0,\"#0d0887\"],[0.1111111111111111,\"#46039f\"],[0.2222222222222222,\"#7201a8\"],[0.3333333333333333,\"#9c179e\"],[0.4444444444444444,\"#bd3786\"],[0.5555555555555556,\"#d8576b\"],[0.6666666666666666,\"#ed7953\"],[0.7777777777777778,\"#fb9f3a\"],[0.8888888888888888,\"#fdca26\"],[1.0,\"#f0f921\"]]}],\"contourcarpet\":[{\"type\":\"contourcarpet\",\"colorbar\":{\"outlinewidth\":0,\"ticks\":\"\"}}],\"contour\":[{\"type\":\"contour\",\"colorbar\":{\"outlinewidth\":0,\"ticks\":\"\"},\"colorscale\":[[0.0,\"#0d0887\"],[0.1111111111111111,\"#46039f\"],[0.2222222222222222,\"#7201a8\"],[0.3333333333333333,\"#9c179e\"],[0.4444444444444444,\"#bd3786\"],[0.5555555555555556,\"#d8576b\"],[0.6666666666666666,\"#ed7953\"],[0.7777777777777778,\"#fb9f3a\"],[0.8888888888888888,\"#fdca26\"],[1.0,\"#f0f921\"]]}],\"surface\":[{\"type\":\"surface\",\"colorbar\":{\"outlinewidth\":0,\"ticks\":\"\"},\"colorscale\":[[0.0,\"#0d0887\"],[0.1111111111111111,\"#46039f\"],[0.2222222222222222,\"#7201a8\"],[0.3333333333333333,\"#9c179e\"],[0.4444444444444444,\"#bd3786\"],[0.5555555555555556,\"#d8576b\"],[0.6666666666666666,\"#ed7953\"],[0.7777777777777778,\"#fb9f3a\"],[0.8888888888888888,\"#fdca26\"],[1.0,\"#f0f921\"]]}],\"mesh3d\":[{\"type\":\"mesh3d\",\"colorbar\":{\"outlinewidth\":0,\"ticks\":\"\"}}],\"scatter\":[{\"fillpattern\":{\"fillmode\":\"overlay\",\"size\":10,\"solidity\":0.2},\"type\":\"scatter\"}],\"parcoords\":[{\"type\":\"parcoords\",\"line\":{\"colorbar\":{\"outlinewidth\":0,\"ticks\":\"\"}}}],\"scatterpolargl\":[{\"type\":\"scatterpolargl\",\"marker\":{\"colorbar\":{\"outlinewidth\":0,\"ticks\":\"\"}}}],\"bar\":[{\"error_x\":{\"color\":\"#2a3f5f\"},\"error_y\":{\"color\":\"#2a3f5f\"},\"marker\":{\"line\":{\"color\":\"white\",\"width\":0.5},\"pattern\":{\"fillmode\":\"overlay\",\"size\":10,\"solidity\":0.2}},\"type\":\"bar\"}],\"scattergeo\":[{\"type\":\"scattergeo\",\"marker\":{\"colorbar\":{\"outlinewidth\":0,\"ticks\":\"\"}}}],\"scatterpolar\":[{\"type\":\"scatterpolar\",\"marker\":{\"colorbar\":{\"outlinewidth\":0,\"ticks\":\"\"}}}],\"histogram\":[{\"marker\":{\"pattern\":{\"fillmode\":\"overlay\",\"size\":10,\"solidity\":0.2}},\"type\":\"histogram\"}],\"scattergl\":[{\"type\":\"scattergl\",\"marker\":{\"colorbar\":{\"outlinewidth\":0,\"ticks\":\"\"}}}],\"scatter3d\":[{\"type\":\"scatter3d\",\"line\":{\"colorbar\":{\"outlinewidth\":0,\"ticks\":\"\"}},\"marker\":{\"colorbar\":{\"outlinewidth\":0,\"ticks\":\"\"}}}],\"scattermapbox\":[{\"type\":\"scattermapbox\",\"marker\":{\"colorbar\":{\"outlinewidth\":0,\"ticks\":\"\"}}}],\"scatterternary\":[{\"type\":\"scatterternary\",\"marker\":{\"colorbar\":{\"outlinewidth\":0,\"ticks\":\"\"}}}],\"scattercarpet\":[{\"type\":\"scattercarpet\",\"marker\":{\"colorbar\":{\"outlinewidth\":0,\"ticks\":\"\"}}}],\"carpet\":[{\"aaxis\":{\"endlinecolor\":\"#2a3f5f\",\"gridcolor\":\"#C8D4E3\",\"linecolor\":\"#C8D4E3\",\"minorgridcolor\":\"#C8D4E3\",\"startlinecolor\":\"#2a3f5f\"},\"baxis\":{\"endlinecolor\":\"#2a3f5f\",\"gridcolor\":\"#C8D4E3\",\"linecolor\":\"#C8D4E3\",\"minorgridcolor\":\"#C8D4E3\",\"startlinecolor\":\"#2a3f5f\"},\"type\":\"carpet\"}],\"table\":[{\"cells\":{\"fill\":{\"color\":\"#EBF0F8\"},\"line\":{\"color\":\"white\"}},\"header\":{\"fill\":{\"color\":\"#C8D4E3\"},\"line\":{\"color\":\"white\"}},\"type\":\"table\"}],\"barpolar\":[{\"marker\":{\"line\":{\"color\":\"white\",\"width\":0.5},\"pattern\":{\"fillmode\":\"overlay\",\"size\":10,\"solidity\":0.2}},\"type\":\"barpolar\"}],\"pie\":[{\"automargin\":true,\"type\":\"pie\"}]},\"layout\":{\"autotypenumbers\":\"strict\",\"colorway\":[\"#636efa\",\"#EF553B\",\"#00cc96\",\"#ab63fa\",\"#FFA15A\",\"#19d3f3\",\"#FF6692\",\"#B6E880\",\"#FF97FF\",\"#FECB52\"],\"font\":{\"color\":\"#2a3f5f\"},\"hovermode\":\"closest\",\"hoverlabel\":{\"align\":\"left\"},\"paper_bgcolor\":\"white\",\"plot_bgcolor\":\"white\",\"polar\":{\"bgcolor\":\"white\",\"angularaxis\":{\"gridcolor\":\"#EBF0F8\",\"linecolor\":\"#EBF0F8\",\"ticks\":\"\"},\"radialaxis\":{\"gridcolor\":\"#EBF0F8\",\"linecolor\":\"#EBF0F8\",\"ticks\":\"\"}},\"ternary\":{\"bgcolor\":\"white\",\"aaxis\":{\"gridcolor\":\"#DFE8F3\",\"linecolor\":\"#A2B1C6\",\"ticks\":\"\"},\"baxis\":{\"gridcolor\":\"#DFE8F3\",\"linecolor\":\"#A2B1C6\",\"ticks\":\"\"},\"caxis\":{\"gridcolor\":\"#DFE8F3\",\"linecolor\":\"#A2B1C6\",\"ticks\":\"\"}},\"coloraxis\":{\"colorbar\":{\"outlinewidth\":0,\"ticks\":\"\"}},\"colorscale\":{\"sequential\":[[0.0,\"#0d0887\"],[0.1111111111111111,\"#46039f\"],[0.2222222222222222,\"#7201a8\"],[0.3333333333333333,\"#9c179e\"],[0.4444444444444444,\"#bd3786\"],[0.5555555555555556,\"#d8576b\"],[0.6666666666666666,\"#ed7953\"],[0.7777777777777778,\"#fb9f3a\"],[0.8888888888888888,\"#fdca26\"],[1.0,\"#f0f921\"]],\"sequentialminus\":[[0.0,\"#0d0887\"],[0.1111111111111111,\"#46039f\"],[0.2222222222222222,\"#7201a8\"],[0.3333333333333333,\"#9c179e\"],[0.4444444444444444,\"#bd3786\"],[0.5555555555555556,\"#d8576b\"],[0.6666666666666666,\"#ed7953\"],[0.7777777777777778,\"#fb9f3a\"],[0.8888888888888888,\"#fdca26\"],[1.0,\"#f0f921\"]],\"diverging\":[[0,\"#8e0152\"],[0.1,\"#c51b7d\"],[0.2,\"#de77ae\"],[0.3,\"#f1b6da\"],[0.4,\"#fde0ef\"],[0.5,\"#f7f7f7\"],[0.6,\"#e6f5d0\"],[0.7,\"#b8e186\"],[0.8,\"#7fbc41\"],[0.9,\"#4d9221\"],[1,\"#276419\"]]},\"xaxis\":{\"gridcolor\":\"#EBF0F8\",\"linecolor\":\"#EBF0F8\",\"ticks\":\"\",\"title\":{\"standoff\":15},\"zerolinecolor\":\"#EBF0F8\",\"automargin\":true,\"zerolinewidth\":2},\"yaxis\":{\"gridcolor\":\"#EBF0F8\",\"linecolor\":\"#EBF0F8\",\"ticks\":\"\",\"title\":{\"standoff\":15},\"zerolinecolor\":\"#EBF0F8\",\"automargin\":true,\"zerolinewidth\":2},\"scene\":{\"xaxis\":{\"backgroundcolor\":\"white\",\"gridcolor\":\"#DFE8F3\",\"linecolor\":\"#EBF0F8\",\"showbackground\":true,\"ticks\":\"\",\"zerolinecolor\":\"#EBF0F8\",\"gridwidth\":2},\"yaxis\":{\"backgroundcolor\":\"white\",\"gridcolor\":\"#DFE8F3\",\"linecolor\":\"#EBF0F8\",\"showbackground\":true,\"ticks\":\"\",\"zerolinecolor\":\"#EBF0F8\",\"gridwidth\":2},\"zaxis\":{\"backgroundcolor\":\"white\",\"gridcolor\":\"#DFE8F3\",\"linecolor\":\"#EBF0F8\",\"showbackground\":true,\"ticks\":\"\",\"zerolinecolor\":\"#EBF0F8\",\"gridwidth\":2}},\"shapedefaults\":{\"line\":{\"color\":\"#2a3f5f\"}},\"annotationdefaults\":{\"arrowcolor\":\"#2a3f5f\",\"arrowhead\":0,\"arrowwidth\":1},\"geo\":{\"bgcolor\":\"white\",\"landcolor\":\"white\",\"subunitcolor\":\"#C8D4E3\",\"showland\":true,\"showlakes\":true,\"lakecolor\":\"white\"},\"title\":{\"x\":0.05},\"mapbox\":{\"style\":\"light\"}}},\"xaxis\":{\"anchor\":\"y\",\"domain\":[0.0,1.0],\"title\":{\"text\":\"x\"}},\"yaxis\":{\"anchor\":\"x\",\"domain\":[0.0,1.0],\"title\":{\"text\":\"y\"}},\"legend\":{\"tracegroupgap\":0},\"margin\":{\"t\":60},\"shapes\":[{\"line\":{\"color\":\"rgb(0, 0, 0)\"},\"opacity\":0.09,\"type\":\"line\",\"x0\":46.12,\"x1\":47.33,\"y0\":14.82,\"y1\":13.33},{\"line\":{\"color\":\"rgb(0, 0, 0)\"},\"opacity\":0.09,\"type\":\"line\",\"x0\":47.33,\"x1\":46.0,\"y0\":13.33,\"y1\":2.0},{\"line\":{\"color\":\"rgb(0, 0, 0)\"},\"opacity\":0.09,\"type\":\"line\",\"x0\":46.0,\"x1\":49.75,\"y0\":2.0,\"y1\":6.17},{\"line\":{\"color\":\"rgb(0, 0, 0)\"},\"opacity\":0.09,\"type\":\"line\",\"x0\":49.75,\"x1\":50.83,\"y0\":6.17,\"y1\":4.0},{\"line\":{\"color\":\"rgb(0, 0, 0)\"},\"opacity\":0.09,\"type\":\"line\",\"x0\":50.83,\"x1\":54.0,\"y0\":4.0,\"y1\":-2.0},{\"line\":{\"color\":\"rgb(0, 0, 0)\"},\"opacity\":0.09,\"type\":\"line\",\"x0\":54.0,\"x1\":52.5,\"y0\":-2.0,\"y1\":5.75},{\"line\":{\"color\":\"rgb(0, 0, 0)\"},\"opacity\":0.09,\"type\":\"line\",\"x0\":52.5,\"x1\":51.0,\"y0\":5.75,\"y1\":9.0},{\"line\":{\"color\":\"rgb(0, 0, 0)\"},\"opacity\":0.09,\"type\":\"line\",\"x0\":51.0,\"x1\":49.75,\"y0\":9.0,\"y1\":15.5},{\"line\":{\"color\":\"rgb(0, 0, 0)\"},\"opacity\":0.09,\"type\":\"line\",\"x0\":49.75,\"x1\":52.0,\"y0\":15.5,\"y1\":20.0},{\"line\":{\"color\":\"rgb(0, 0, 0)\"},\"opacity\":0.09,\"type\":\"line\",\"x0\":52.0,\"x1\":48.67,\"y0\":20.0,\"y1\":19.5},{\"line\":{\"color\":\"rgb(0, 0, 0)\"},\"opacity\":0.09,\"type\":\"line\",\"x0\":48.67,\"x1\":47.0,\"y0\":19.5,\"y1\":20.0},{\"line\":{\"color\":\"rgb(0, 0, 0)\"},\"opacity\":0.09,\"type\":\"line\",\"x0\":47.0,\"x1\":46.0,\"y0\":20.0,\"y1\":25.0},{\"line\":{\"color\":\"rgb(0, 0, 0)\"},\"opacity\":0.09,\"type\":\"line\",\"x0\":46.0,\"x1\":44.0,\"y0\":25.0,\"y1\":18.0},{\"line\":{\"color\":\"rgb(0, 0, 0)\"},\"opacity\":0.09,\"type\":\"line\",\"x0\":44.0,\"x1\":42.83,\"y0\":18.0,\"y1\":12.83},{\"line\":{\"color\":\"rgb(0, 0, 0)\"},\"opacity\":0.09,\"type\":\"line\",\"x0\":42.83,\"x1\":45.17,\"y0\":12.83,\"y1\":15.5},{\"line\":{\"color\":\"rgb(0, 0, 0)\"},\"opacity\":0.09,\"type\":\"line\",\"x0\":45.17,\"x1\":46.12,\"y0\":15.5,\"y1\":14.82}],\"uniformtext\":{\"minsize\":8,\"mode\":\"hide\"},\"showlegend\":false},                        {\"responsive\": true}                    ).then(function(){\n",
              "                            \n",
              "var gd = document.getElementById('4d7c3c1c-424c-4f5b-ba3f-1e93158c7fc5');\n",
              "var x = new MutationObserver(function (mutations, observer) {{\n",
              "        var display = window.getComputedStyle(gd).display;\n",
              "        if (!display || display === 'none') {{\n",
              "            console.log([gd, 'removed!']);\n",
              "            Plotly.purge(gd);\n",
              "            observer.disconnect();\n",
              "        }}\n",
              "}});\n",
              "\n",
              "// Listen for the removal of the full notebook cells\n",
              "var notebookContainer = gd.closest('#notebook-container');\n",
              "if (notebookContainer) {{\n",
              "    x.observe(notebookContainer, {childList: true});\n",
              "}}\n",
              "\n",
              "// Listen for the clearing of the current output cell\n",
              "var outputEl = gd.closest('.output');\n",
              "if (outputEl) {{\n",
              "    x.observe(outputEl, {childList: true});\n",
              "}}\n",
              "\n",
              "                        })                };                            </script>        </div>\n",
              "</body>\n",
              "</html>"
            ]
          },
          "metadata": {},
          "output_type": "display_data"
        }
      ],
      "source": [
        "plot_cities_and_route(location, edges)"
      ]
    },
    {
      "cell_type": "markdown",
      "metadata": {
        "id": "l-PitZhE50R2"
      },
      "source": [
        "# Tarea\n",
        "\n",
        "*   Hacer lo anterior en una sola función. El input es los puntos de localización y el output la ruta con distancia mínima\n",
        "\n",
        "*   Utilizar la función para obtener una ruta para los datos con longitud mayor a 90\n",
        "\n",
        "\n"
      ]
    }
  ],
  "metadata": {
    "colab": {
      "include_colab_link": true,
      "provenance": []
    },
    "kernelspec": {
      "display_name": "Python 3",
      "name": "python3"
    },
    "language_info": {
      "codemirror_mode": {
        "name": "ipython",
        "version": 3
      },
      "file_extension": ".py",
      "mimetype": "text/x-python",
      "name": "python",
      "nbconvert_exporter": "python",
      "pygments_lexer": "ipython3",
      "version": "3.9.6"
    }
  },
  "nbformat": 4,
  "nbformat_minor": 0
}
