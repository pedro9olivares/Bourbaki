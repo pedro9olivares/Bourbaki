{
  "cells": [
    {
      "cell_type": "markdown",
      "metadata": {
        "colab_type": "text",
        "id": "view-in-github"
      },
      "source": [
        "<a href=\"https://colab.research.google.com/github/anelglvz/Matematicas_Ciencia_Datos/blob/main/Optimizaci%C3%B3n/Calculo_Opt_Problema_del_Viajante.ipynb\" target=\"_parent\"><img src=\"https://colab.research.google.com/assets/colab-badge.svg\" alt=\"Open In Colab\"/></a>"
      ]
    },
    {
      "cell_type": "markdown",
      "metadata": {
        "id": "mCVD1U5RG7fk"
      },
      "source": [
        "# Introducción"
      ]
    },
    {
      "cell_type": "markdown",
      "metadata": {
        "id": "mEH70AWcz_q4"
      },
      "source": [
        "Utilizaremos programación lineal para resolver el **Problema del Viajante** (Travel Salesman Problem).\n",
        "\n",
        "El problema es encontrar la **ruta más corta que conecta a todas las ciudades**, con las restricciones de que debe ser una única ruta (i.e. no puede haber sub rutas) y sólo se puede entrar y salir de cada ciudad una sola vez.\n",
        "\n",
        "Se crearán las \"coordenadas\" de ciudades ficticias y para medir su distancia se usará la distancia euclideana."
      ]
    },
    {
      "cell_type": "markdown",
      "metadata": {
        "id": "hDsNCo_xz-AN"
      },
      "source": [
        "# Dependencias"
      ]
    },
    {
      "cell_type": "markdown",
      "metadata": {},
      "source": [
        "La documentación de MIP se encuentra en: https://python-mip.readthedocs.io/en/latest/quickstart.html"
      ]
    },
    {
      "cell_type": "code",
      "execution_count": null,
      "metadata": {
        "colab": {
          "base_uri": "https://localhost:8080/"
        },
        "id": "K73usFBCU4Bt",
        "outputId": "1582e59d-90aa-47a3-f944-7cb482bde95d"
      },
      "outputs": [],
      "source": [
        "!pip3 install mip==1.16rc0 # Python-MIP’s latest release candidate version (1.16rc0) includes binaries compatible with M1/M2/M3 processors."
      ]
    },
    {
      "cell_type": "code",
      "execution_count": null,
      "metadata": {
        "colab": {
          "base_uri": "https://localhost:8080/"
        },
        "id": "XEmr366AXhWk",
        "outputId": "46b98ec8-7d60-4677-c680-e0c1ff117689"
      },
      "outputs": [],
      "source": [
        "!pip3 install -U plotly"
      ]
    },
    {
      "cell_type": "code",
      "execution_count": 1,
      "metadata": {
        "id": "tZajVv1NXSXl"
      },
      "outputs": [],
      "source": [
        "import pandas as pd\n",
        "import numpy as np\n",
        "import matplotlib.pyplot as plt\n",
        "\n",
        "\n",
        "from scipy.spatial import distance_matrix\n",
        "\n",
        "from itertools import product\n",
        "from mip import Model, xsum, minimize, BINARY\n",
        "\n",
        "import plotly.express as px\n",
        "import plotly.io as pio"
      ]
    },
    {
      "cell_type": "code",
      "execution_count": 2,
      "metadata": {},
      "outputs": [],
      "source": [
        "np.set_printoptions(legacy='1.25')"
      ]
    },
    {
      "cell_type": "code",
      "execution_count": 3,
      "metadata": {
        "id": "ybQYQteqaJ8e"
      },
      "outputs": [],
      "source": [
        "pio.templates.default = \"plotly_white\""
      ]
    },
    {
      "cell_type": "markdown",
      "metadata": {
        "id": "1IENwnBL2O2e"
      },
      "source": [
        "# Funciones para la visualización de los datos"
      ]
    },
    {
      "cell_type": "code",
      "execution_count": 4,
      "metadata": {
        "id": "lUN7M8d_Z67I"
      },
      "outputs": [],
      "source": [
        "def plot_cities(coords):\n",
        "    fig = px.scatter(coords.reset_index(), 'x', 'y', hover_name='index')\n",
        "    fig.update_traces(marker=dict(size=15,\n",
        "                                line=dict(width=2,\n",
        "                                            color='DarkSlateGrey')),\n",
        "                    selector=dict(mode='markers')\n",
        "                    )\n",
        "    return fig\n",
        "\n",
        "def plot_cities_and_route(points, edges):\n",
        "    fig = plot_cities(points)\n",
        "    for edge in edges:\n",
        "        fig.add_shape(\n",
        "            type = 'line',\n",
        "            x0 = points.loc[f'ciudad_{edge[0]}', 'x'],\n",
        "            x1 = points.loc[f'ciudad_{edge[1]}', 'x'],\n",
        "            y0 = points.loc[f'ciudad_{edge[0]}', 'y'],\n",
        "            y1 = points.loc[f'ciudad_{edge[1]}', 'y'],\n",
        "            line = dict(color = 'rgb(0, 0, 0)'),\n",
        "            opacity = .09,\n",
        "            )\n",
        "        fig.add_scatter(x = [mid_points[edge[0]][edge[1]][0]], y = [mid_points[edge[0]][edge[1]][1]], text = [d[edge[0]][edge[1]]], mode='text')\n",
        "    fig.update_traces(texttemplate='%{text:.2s}', textposition='top right')\n",
        "    fig.update_layout(uniformtext_minsize=8, uniformtext_mode='hide', showlegend=False)\n",
        "    fig.show()"
      ]
    },
    {
      "cell_type": "code",
      "execution_count": 5,
      "metadata": {
        "id": "zqYLNhWL3TKd"
      },
      "outputs": [],
      "source": [
        "def get_middle_points(coords):\n",
        "    return [[((x[0]+y[0])/2, (x[1]+y[1])/2) for _, y in coords.iterrows()] for _, x in coords.iterrows()]"
      ]
    },
    {
      "cell_type": "markdown",
      "metadata": {
        "id": "rzHE8IMz2AqW"
      },
      "source": [
        "# Datos"
      ]
    },
    {
      "cell_type": "markdown",
      "metadata": {
        "id": "YhQfYSMh5IAR"
      },
      "source": [
        "Primero crearemos las ciudades y sus coordenadas"
      ]
    },
    {
      "cell_type": "code",
      "execution_count": 6,
      "metadata": {
        "colab": {
          "base_uri": "https://localhost:8080/",
          "height": 363
        },
        "id": "SqomUA2cYbrb",
        "outputId": "691131c5-4cc6-4c38-88ce-2b0bf09255fa"
      },
      "outputs": [
        {
          "data": {
            "text/html": [
              "<div>\n",
              "<style scoped>\n",
              "    .dataframe tbody tr th:only-of-type {\n",
              "        vertical-align: middle;\n",
              "    }\n",
              "\n",
              "    .dataframe tbody tr th {\n",
              "        vertical-align: top;\n",
              "    }\n",
              "\n",
              "    .dataframe thead th {\n",
              "        text-align: right;\n",
              "    }\n",
              "</style>\n",
              "<table border=\"1\" class=\"dataframe\">\n",
              "  <thead>\n",
              "    <tr style=\"text-align: right;\">\n",
              "      <th></th>\n",
              "      <th>x</th>\n",
              "      <th>y</th>\n",
              "    </tr>\n",
              "  </thead>\n",
              "  <tbody>\n",
              "    <tr>\n",
              "      <th>ciudad_0</th>\n",
              "      <td>9</td>\n",
              "      <td>29</td>\n",
              "    </tr>\n",
              "    <tr>\n",
              "      <th>ciudad_1</th>\n",
              "      <td>4</td>\n",
              "      <td>15</td>\n",
              "    </tr>\n",
              "    <tr>\n",
              "      <th>ciudad_2</th>\n",
              "      <td>0</td>\n",
              "      <td>17</td>\n",
              "    </tr>\n",
              "    <tr>\n",
              "      <th>ciudad_3</th>\n",
              "      <td>27</td>\n",
              "      <td>28</td>\n",
              "    </tr>\n",
              "    <tr>\n",
              "      <th>ciudad_4</th>\n",
              "      <td>25</td>\n",
              "      <td>29</td>\n",
              "    </tr>\n",
              "    <tr>\n",
              "      <th>ciudad_5</th>\n",
              "      <td>16</td>\n",
              "      <td>29</td>\n",
              "    </tr>\n",
              "    <tr>\n",
              "      <th>ciudad_6</th>\n",
              "      <td>17</td>\n",
              "      <td>26</td>\n",
              "    </tr>\n",
              "    <tr>\n",
              "      <th>ciudad_7</th>\n",
              "      <td>8</td>\n",
              "      <td>9</td>\n",
              "    </tr>\n",
              "    <tr>\n",
              "      <th>ciudad_8</th>\n",
              "      <td>0</td>\n",
              "      <td>10</td>\n",
              "    </tr>\n",
              "    <tr>\n",
              "      <th>ciudad_9</th>\n",
              "      <td>8</td>\n",
              "      <td>22</td>\n",
              "    </tr>\n",
              "  </tbody>\n",
              "</table>\n",
              "</div>"
            ],
            "text/plain": [
              "           x   y\n",
              "ciudad_0   9  29\n",
              "ciudad_1   4  15\n",
              "ciudad_2   0  17\n",
              "ciudad_3  27  28\n",
              "ciudad_4  25  29\n",
              "ciudad_5  16  29\n",
              "ciudad_6  17  26\n",
              "ciudad_7   8   9\n",
              "ciudad_8   0  10\n",
              "ciudad_9   8  22"
            ]
          },
          "execution_count": 6,
          "metadata": {},
          "output_type": "execute_result"
        }
      ],
      "source": [
        "np.random.seed(10)\n",
        "\n",
        "n = 10 # número de ciudades\n",
        "\n",
        "points = pd.DataFrame(np.random.randint(0, 30, (n, 2)), columns = ['x', 'y'], index = [f'ciudad_{i}' for i in range(n)])  # coordenadas en el plano cartesiano de cada ciudad\n",
        "points"
      ]
    },
    {
      "cell_type": "markdown",
      "metadata": {
        "id": "JVSBoy055MXq"
      },
      "source": [
        "Obtenemos el punto medio entre cada ciudad"
      ]
    },
    {
      "cell_type": "code",
      "execution_count": 7,
      "metadata": {
        "id": "Op7Pz7Qk3V5M"
      },
      "outputs": [
        {
          "name": "stderr",
          "output_type": "stream",
          "text": [
            "/var/folders/_2/ssn9p4gn1zq96vptrk6db0940000gn/T/ipykernel_9476/2772611435.py:2: FutureWarning: Series.__getitem__ treating keys as positions is deprecated. In a future version, integer keys will always be treated as labels (consistent with DataFrame behavior). To access a value by position, use `ser.iloc[pos]`\n",
            "  return [[((x[0]+y[0])/2, (x[1]+y[1])/2) for _, y in coords.iterrows()] for _, x in coords.iterrows()]\n"
          ]
        }
      ],
      "source": [
        "mid_points = get_middle_points(points)"
      ]
    },
    {
      "cell_type": "code",
      "execution_count": 9,
      "metadata": {
        "colab": {
          "base_uri": "https://localhost:8080/"
        },
        "id": "JhxoKGEGroe5",
        "outputId": "37ed9e87-2159-43ad-f0c4-a551954728f8"
      },
      "outputs": [
        {
          "data": {
            "text/plain": [
              "[[(9.0, 29.0),\n",
              "  (6.5, 22.0),\n",
              "  (4.5, 23.0),\n",
              "  (18.0, 28.5),\n",
              "  (17.0, 29.0),\n",
              "  (12.5, 29.0),\n",
              "  (13.0, 27.5),\n",
              "  (8.5, 19.0),\n",
              "  (4.5, 19.5),\n",
              "  (8.5, 25.5)],\n",
              " [(6.5, 22.0),\n",
              "  (4.0, 15.0),\n",
              "  (2.0, 16.0),\n",
              "  (15.5, 21.5),\n",
              "  (14.5, 22.0),\n",
              "  (10.0, 22.0),\n",
              "  (10.5, 20.5),\n",
              "  (6.0, 12.0),\n",
              "  (2.0, 12.5),\n",
              "  (6.0, 18.5)],\n",
              " [(4.5, 23.0),\n",
              "  (2.0, 16.0),\n",
              "  (0.0, 17.0),\n",
              "  (13.5, 22.5),\n",
              "  (12.5, 23.0),\n",
              "  (8.0, 23.0),\n",
              "  (8.5, 21.5),\n",
              "  (4.0, 13.0),\n",
              "  (0.0, 13.5),\n",
              "  (4.0, 19.5)],\n",
              " [(18.0, 28.5),\n",
              "  (15.5, 21.5),\n",
              "  (13.5, 22.5),\n",
              "  (27.0, 28.0),\n",
              "  (26.0, 28.5),\n",
              "  (21.5, 28.5),\n",
              "  (22.0, 27.0),\n",
              "  (17.5, 18.5),\n",
              "  (13.5, 19.0),\n",
              "  (17.5, 25.0)],\n",
              " [(17.0, 29.0),\n",
              "  (14.5, 22.0),\n",
              "  (12.5, 23.0),\n",
              "  (26.0, 28.5),\n",
              "  (25.0, 29.0),\n",
              "  (20.5, 29.0),\n",
              "  (21.0, 27.5),\n",
              "  (16.5, 19.0),\n",
              "  (12.5, 19.5),\n",
              "  (16.5, 25.5)],\n",
              " [(12.5, 29.0),\n",
              "  (10.0, 22.0),\n",
              "  (8.0, 23.0),\n",
              "  (21.5, 28.5),\n",
              "  (20.5, 29.0),\n",
              "  (16.0, 29.0),\n",
              "  (16.5, 27.5),\n",
              "  (12.0, 19.0),\n",
              "  (8.0, 19.5),\n",
              "  (12.0, 25.5)],\n",
              " [(13.0, 27.5),\n",
              "  (10.5, 20.5),\n",
              "  (8.5, 21.5),\n",
              "  (22.0, 27.0),\n",
              "  (21.0, 27.5),\n",
              "  (16.5, 27.5),\n",
              "  (17.0, 26.0),\n",
              "  (12.5, 17.5),\n",
              "  (8.5, 18.0),\n",
              "  (12.5, 24.0)],\n",
              " [(8.5, 19.0),\n",
              "  (6.0, 12.0),\n",
              "  (4.0, 13.0),\n",
              "  (17.5, 18.5),\n",
              "  (16.5, 19.0),\n",
              "  (12.0, 19.0),\n",
              "  (12.5, 17.5),\n",
              "  (8.0, 9.0),\n",
              "  (4.0, 9.5),\n",
              "  (8.0, 15.5)],\n",
              " [(4.5, 19.5),\n",
              "  (2.0, 12.5),\n",
              "  (0.0, 13.5),\n",
              "  (13.5, 19.0),\n",
              "  (12.5, 19.5),\n",
              "  (8.0, 19.5),\n",
              "  (8.5, 18.0),\n",
              "  (4.0, 9.5),\n",
              "  (0.0, 10.0),\n",
              "  (4.0, 16.0)],\n",
              " [(8.5, 25.5),\n",
              "  (6.0, 18.5),\n",
              "  (4.0, 19.5),\n",
              "  (17.5, 25.0),\n",
              "  (16.5, 25.5),\n",
              "  (12.0, 25.5),\n",
              "  (12.5, 24.0),\n",
              "  (8.0, 15.5),\n",
              "  (4.0, 16.0),\n",
              "  (8.0, 22.0)]]"
            ]
          },
          "execution_count": 9,
          "metadata": {},
          "output_type": "execute_result"
        }
      ],
      "source": [
        "mid_points"
      ]
    },
    {
      "cell_type": "markdown",
      "metadata": {
        "id": "DBet8zI45QK8"
      },
      "source": [
        "Creamos la matriz de distancias"
      ]
    },
    {
      "cell_type": "code",
      "execution_count": 10,
      "metadata": {
        "colab": {
          "base_uri": "https://localhost:8080/"
        },
        "id": "rqEtFqajZ3VL",
        "outputId": "ff891135-0415-42d5-9ff7-b482188abce0"
      },
      "outputs": [
        {
          "data": {
            "text/plain": [
              "array([[ 0.        , 14.86606875, 15.        , 18.02775638, 16.        ,\n",
              "         7.        ,  8.54400375, 20.02498439, 21.02379604,  7.07106781],\n",
              "       [14.86606875,  0.        ,  4.47213595, 26.41968963, 25.23885893,\n",
              "        18.43908891, 17.02938637,  7.21110255,  6.40312424,  8.06225775],\n",
              "       [15.        ,  4.47213595,  0.        , 29.15475947, 27.73084925,\n",
              "        20.        , 19.23538406, 11.3137085 ,  7.        ,  9.43398113],\n",
              "       [18.02775638, 26.41968963, 29.15475947,  0.        ,  2.23606798,\n",
              "        11.04536102, 10.19803903, 26.87005769, 32.44996148, 19.92485885],\n",
              "       [16.        , 25.23885893, 27.73084925,  2.23606798,  0.        ,\n",
              "         9.        ,  8.54400375, 26.2488095 , 31.40063694, 18.38477631],\n",
              "       [ 7.        , 18.43908891, 20.        , 11.04536102,  9.        ,\n",
              "         0.        ,  3.16227766, 21.54065923, 24.8394847 , 10.63014581],\n",
              "       [ 8.54400375, 17.02938637, 19.23538406, 10.19803903,  8.54400375,\n",
              "         3.16227766,  0.        , 19.23538406, 23.34523506,  9.8488578 ],\n",
              "       [20.02498439,  7.21110255, 11.3137085 , 26.87005769, 26.2488095 ,\n",
              "        21.54065923, 19.23538406,  0.        ,  8.06225775, 13.        ],\n",
              "       [21.02379604,  6.40312424,  7.        , 32.44996148, 31.40063694,\n",
              "        24.8394847 , 23.34523506,  8.06225775,  0.        , 14.4222051 ],\n",
              "       [ 7.07106781,  8.06225775,  9.43398113, 19.92485885, 18.38477631,\n",
              "        10.63014581,  9.8488578 , 13.        , 14.4222051 ,  0.        ]])"
            ]
          },
          "execution_count": 10,
          "metadata": {},
          "output_type": "execute_result"
        }
      ],
      "source": [
        "d = distance_matrix(points, points)  # Distancia entre las ciudades\n",
        "d"
      ]
    },
    {
      "cell_type": "markdown",
      "metadata": {
        "id": "_HTrxK-V49WA"
      },
      "source": [
        "## Visualización de los datos"
      ]
    },
    {
      "cell_type": "code",
      "execution_count": 11,
      "metadata": {
        "colab": {
          "base_uri": "https://localhost:8080/",
          "height": 542
        },
        "id": "3zIfF-pE2d1R",
        "outputId": "f9b509ec-1434-45a4-b415-edfc38f665d6"
      },
      "outputs": [
        {
          "data": {
            "application/vnd.plotly.v1+json": {
              "config": {
                "plotlyServerURL": "https://plot.ly"
              },
              "data": [
                {
                  "hovertemplate": "<b>%{hovertext}</b><br><br>x=%{x}<br>y=%{y}<extra></extra>",
                  "hovertext": [
                    "ciudad_0",
                    "ciudad_1",
                    "ciudad_2",
                    "ciudad_3",
                    "ciudad_4",
                    "ciudad_5",
                    "ciudad_6",
                    "ciudad_7",
                    "ciudad_8",
                    "ciudad_9"
                  ],
                  "legendgroup": "",
                  "marker": {
                    "color": "#636efa",
                    "line": {
                      "color": "DarkSlateGrey",
                      "width": 2
                    },
                    "size": 15,
                    "symbol": "circle"
                  },
                  "mode": "markers",
                  "name": "",
                  "orientation": "v",
                  "showlegend": false,
                  "textposition": "top right",
                  "texttemplate": "%{text:.2s}",
                  "type": "scatter",
                  "x": [
                    9,
                    4,
                    0,
                    27,
                    25,
                    16,
                    17,
                    8,
                    0,
                    8
                  ],
                  "xaxis": "x",
                  "y": [
                    29,
                    15,
                    17,
                    28,
                    29,
                    29,
                    26,
                    9,
                    10,
                    22
                  ],
                  "yaxis": "y"
                },
                {
                  "mode": "text",
                  "text": [
                    "0.0"
                  ],
                  "textposition": "top right",
                  "texttemplate": "%{text:.2s}",
                  "type": "scatter",
                  "x": [
                    9
                  ],
                  "y": [
                    29
                  ]
                },
                {
                  "mode": "text",
                  "text": [
                    "14.866068747318506"
                  ],
                  "textposition": "top right",
                  "texttemplate": "%{text:.2s}",
                  "type": "scatter",
                  "x": [
                    6.5
                  ],
                  "y": [
                    22
                  ]
                },
                {
                  "mode": "text",
                  "text": [
                    "15.0"
                  ],
                  "textposition": "top right",
                  "texttemplate": "%{text:.2s}",
                  "type": "scatter",
                  "x": [
                    4.5
                  ],
                  "y": [
                    23
                  ]
                },
                {
                  "mode": "text",
                  "text": [
                    "18.027756377319946"
                  ],
                  "textposition": "top right",
                  "texttemplate": "%{text:.2s}",
                  "type": "scatter",
                  "x": [
                    18
                  ],
                  "y": [
                    28.5
                  ]
                },
                {
                  "mode": "text",
                  "text": [
                    "16.0"
                  ],
                  "textposition": "top right",
                  "texttemplate": "%{text:.2s}",
                  "type": "scatter",
                  "x": [
                    17
                  ],
                  "y": [
                    29
                  ]
                },
                {
                  "mode": "text",
                  "text": [
                    "7.0"
                  ],
                  "textposition": "top right",
                  "texttemplate": "%{text:.2s}",
                  "type": "scatter",
                  "x": [
                    12.5
                  ],
                  "y": [
                    29
                  ]
                },
                {
                  "mode": "text",
                  "text": [
                    "8.54400374531753"
                  ],
                  "textposition": "top right",
                  "texttemplate": "%{text:.2s}",
                  "type": "scatter",
                  "x": [
                    13
                  ],
                  "y": [
                    27.5
                  ]
                },
                {
                  "mode": "text",
                  "text": [
                    "20.024984394500787"
                  ],
                  "textposition": "top right",
                  "texttemplate": "%{text:.2s}",
                  "type": "scatter",
                  "x": [
                    8.5
                  ],
                  "y": [
                    19
                  ]
                },
                {
                  "mode": "text",
                  "text": [
                    "21.02379604162864"
                  ],
                  "textposition": "top right",
                  "texttemplate": "%{text:.2s}",
                  "type": "scatter",
                  "x": [
                    4.5
                  ],
                  "y": [
                    19.5
                  ]
                },
                {
                  "mode": "text",
                  "text": [
                    "7.0710678118654755"
                  ],
                  "textposition": "top right",
                  "texttemplate": "%{text:.2s}",
                  "type": "scatter",
                  "x": [
                    8.5
                  ],
                  "y": [
                    25.5
                  ]
                },
                {
                  "mode": "text",
                  "text": [
                    "14.866068747318506"
                  ],
                  "textposition": "top right",
                  "texttemplate": "%{text:.2s}",
                  "type": "scatter",
                  "x": [
                    6.5
                  ],
                  "y": [
                    22
                  ]
                },
                {
                  "mode": "text",
                  "text": [
                    "0.0"
                  ],
                  "textposition": "top right",
                  "texttemplate": "%{text:.2s}",
                  "type": "scatter",
                  "x": [
                    4
                  ],
                  "y": [
                    15
                  ]
                },
                {
                  "mode": "text",
                  "text": [
                    "4.47213595499958"
                  ],
                  "textposition": "top right",
                  "texttemplate": "%{text:.2s}",
                  "type": "scatter",
                  "x": [
                    2
                  ],
                  "y": [
                    16
                  ]
                },
                {
                  "mode": "text",
                  "text": [
                    "26.419689627245813"
                  ],
                  "textposition": "top right",
                  "texttemplate": "%{text:.2s}",
                  "type": "scatter",
                  "x": [
                    15.5
                  ],
                  "y": [
                    21.5
                  ]
                },
                {
                  "mode": "text",
                  "text": [
                    "25.238858928247925"
                  ],
                  "textposition": "top right",
                  "texttemplate": "%{text:.2s}",
                  "type": "scatter",
                  "x": [
                    14.5
                  ],
                  "y": [
                    22
                  ]
                },
                {
                  "mode": "text",
                  "text": [
                    "18.439088914585774"
                  ],
                  "textposition": "top right",
                  "texttemplate": "%{text:.2s}",
                  "type": "scatter",
                  "x": [
                    10
                  ],
                  "y": [
                    22
                  ]
                },
                {
                  "mode": "text",
                  "text": [
                    "17.029386365926403"
                  ],
                  "textposition": "top right",
                  "texttemplate": "%{text:.2s}",
                  "type": "scatter",
                  "x": [
                    10.5
                  ],
                  "y": [
                    20.5
                  ]
                },
                {
                  "mode": "text",
                  "text": [
                    "7.211102550927978"
                  ],
                  "textposition": "top right",
                  "texttemplate": "%{text:.2s}",
                  "type": "scatter",
                  "x": [
                    6
                  ],
                  "y": [
                    12
                  ]
                },
                {
                  "mode": "text",
                  "text": [
                    "6.4031242374328485"
                  ],
                  "textposition": "top right",
                  "texttemplate": "%{text:.2s}",
                  "type": "scatter",
                  "x": [
                    2
                  ],
                  "y": [
                    12.5
                  ]
                },
                {
                  "mode": "text",
                  "text": [
                    "8.06225774829855"
                  ],
                  "textposition": "top right",
                  "texttemplate": "%{text:.2s}",
                  "type": "scatter",
                  "x": [
                    6
                  ],
                  "y": [
                    18.5
                  ]
                },
                {
                  "mode": "text",
                  "text": [
                    "15.0"
                  ],
                  "textposition": "top right",
                  "texttemplate": "%{text:.2s}",
                  "type": "scatter",
                  "x": [
                    4.5
                  ],
                  "y": [
                    23
                  ]
                },
                {
                  "mode": "text",
                  "text": [
                    "4.47213595499958"
                  ],
                  "textposition": "top right",
                  "texttemplate": "%{text:.2s}",
                  "type": "scatter",
                  "x": [
                    2
                  ],
                  "y": [
                    16
                  ]
                },
                {
                  "mode": "text",
                  "text": [
                    "0.0"
                  ],
                  "textposition": "top right",
                  "texttemplate": "%{text:.2s}",
                  "type": "scatter",
                  "x": [
                    0
                  ],
                  "y": [
                    17
                  ]
                },
                {
                  "mode": "text",
                  "text": [
                    "29.154759474226502"
                  ],
                  "textposition": "top right",
                  "texttemplate": "%{text:.2s}",
                  "type": "scatter",
                  "x": [
                    13.5
                  ],
                  "y": [
                    22.5
                  ]
                },
                {
                  "mode": "text",
                  "text": [
                    "27.730849247724095"
                  ],
                  "textposition": "top right",
                  "texttemplate": "%{text:.2s}",
                  "type": "scatter",
                  "x": [
                    12.5
                  ],
                  "y": [
                    23
                  ]
                },
                {
                  "mode": "text",
                  "text": [
                    "20.0"
                  ],
                  "textposition": "top right",
                  "texttemplate": "%{text:.2s}",
                  "type": "scatter",
                  "x": [
                    8
                  ],
                  "y": [
                    23
                  ]
                },
                {
                  "mode": "text",
                  "text": [
                    "19.235384061671343"
                  ],
                  "textposition": "top right",
                  "texttemplate": "%{text:.2s}",
                  "type": "scatter",
                  "x": [
                    8.5
                  ],
                  "y": [
                    21.5
                  ]
                },
                {
                  "mode": "text",
                  "text": [
                    "11.313708498984761"
                  ],
                  "textposition": "top right",
                  "texttemplate": "%{text:.2s}",
                  "type": "scatter",
                  "x": [
                    4
                  ],
                  "y": [
                    13
                  ]
                },
                {
                  "mode": "text",
                  "text": [
                    "7.0"
                  ],
                  "textposition": "top right",
                  "texttemplate": "%{text:.2s}",
                  "type": "scatter",
                  "x": [
                    0
                  ],
                  "y": [
                    13.5
                  ]
                },
                {
                  "mode": "text",
                  "text": [
                    "9.433981132056603"
                  ],
                  "textposition": "top right",
                  "texttemplate": "%{text:.2s}",
                  "type": "scatter",
                  "x": [
                    4
                  ],
                  "y": [
                    19.5
                  ]
                },
                {
                  "mode": "text",
                  "text": [
                    "18.027756377319946"
                  ],
                  "textposition": "top right",
                  "texttemplate": "%{text:.2s}",
                  "type": "scatter",
                  "x": [
                    18
                  ],
                  "y": [
                    28.5
                  ]
                },
                {
                  "mode": "text",
                  "text": [
                    "26.419689627245813"
                  ],
                  "textposition": "top right",
                  "texttemplate": "%{text:.2s}",
                  "type": "scatter",
                  "x": [
                    15.5
                  ],
                  "y": [
                    21.5
                  ]
                },
                {
                  "mode": "text",
                  "text": [
                    "29.154759474226502"
                  ],
                  "textposition": "top right",
                  "texttemplate": "%{text:.2s}",
                  "type": "scatter",
                  "x": [
                    13.5
                  ],
                  "y": [
                    22.5
                  ]
                },
                {
                  "mode": "text",
                  "text": [
                    "0.0"
                  ],
                  "textposition": "top right",
                  "texttemplate": "%{text:.2s}",
                  "type": "scatter",
                  "x": [
                    27
                  ],
                  "y": [
                    28
                  ]
                },
                {
                  "mode": "text",
                  "text": [
                    "2.23606797749979"
                  ],
                  "textposition": "top right",
                  "texttemplate": "%{text:.2s}",
                  "type": "scatter",
                  "x": [
                    26
                  ],
                  "y": [
                    28.5
                  ]
                },
                {
                  "mode": "text",
                  "text": [
                    "11.045361017187261"
                  ],
                  "textposition": "top right",
                  "texttemplate": "%{text:.2s}",
                  "type": "scatter",
                  "x": [
                    21.5
                  ],
                  "y": [
                    28.5
                  ]
                },
                {
                  "mode": "text",
                  "text": [
                    "10.198039027185569"
                  ],
                  "textposition": "top right",
                  "texttemplate": "%{text:.2s}",
                  "type": "scatter",
                  "x": [
                    22
                  ],
                  "y": [
                    27
                  ]
                },
                {
                  "mode": "text",
                  "text": [
                    "26.870057685088806"
                  ],
                  "textposition": "top right",
                  "texttemplate": "%{text:.2s}",
                  "type": "scatter",
                  "x": [
                    17.5
                  ],
                  "y": [
                    18.5
                  ]
                },
                {
                  "mode": "text",
                  "text": [
                    "32.449961479175904"
                  ],
                  "textposition": "top right",
                  "texttemplate": "%{text:.2s}",
                  "type": "scatter",
                  "x": [
                    13.5
                  ],
                  "y": [
                    19
                  ]
                },
                {
                  "mode": "text",
                  "text": [
                    "19.924858845171276"
                  ],
                  "textposition": "top right",
                  "texttemplate": "%{text:.2s}",
                  "type": "scatter",
                  "x": [
                    17.5
                  ],
                  "y": [
                    25
                  ]
                },
                {
                  "mode": "text",
                  "text": [
                    "16.0"
                  ],
                  "textposition": "top right",
                  "texttemplate": "%{text:.2s}",
                  "type": "scatter",
                  "x": [
                    17
                  ],
                  "y": [
                    29
                  ]
                },
                {
                  "mode": "text",
                  "text": [
                    "25.238858928247925"
                  ],
                  "textposition": "top right",
                  "texttemplate": "%{text:.2s}",
                  "type": "scatter",
                  "x": [
                    14.5
                  ],
                  "y": [
                    22
                  ]
                },
                {
                  "mode": "text",
                  "text": [
                    "27.730849247724095"
                  ],
                  "textposition": "top right",
                  "texttemplate": "%{text:.2s}",
                  "type": "scatter",
                  "x": [
                    12.5
                  ],
                  "y": [
                    23
                  ]
                },
                {
                  "mode": "text",
                  "text": [
                    "2.23606797749979"
                  ],
                  "textposition": "top right",
                  "texttemplate": "%{text:.2s}",
                  "type": "scatter",
                  "x": [
                    26
                  ],
                  "y": [
                    28.5
                  ]
                },
                {
                  "mode": "text",
                  "text": [
                    "0.0"
                  ],
                  "textposition": "top right",
                  "texttemplate": "%{text:.2s}",
                  "type": "scatter",
                  "x": [
                    25
                  ],
                  "y": [
                    29
                  ]
                },
                {
                  "mode": "text",
                  "text": [
                    "9.0"
                  ],
                  "textposition": "top right",
                  "texttemplate": "%{text:.2s}",
                  "type": "scatter",
                  "x": [
                    20.5
                  ],
                  "y": [
                    29
                  ]
                },
                {
                  "mode": "text",
                  "text": [
                    "8.54400374531753"
                  ],
                  "textposition": "top right",
                  "texttemplate": "%{text:.2s}",
                  "type": "scatter",
                  "x": [
                    21
                  ],
                  "y": [
                    27.5
                  ]
                },
                {
                  "mode": "text",
                  "text": [
                    "26.248809496813376"
                  ],
                  "textposition": "top right",
                  "texttemplate": "%{text:.2s}",
                  "type": "scatter",
                  "x": [
                    16.5
                  ],
                  "y": [
                    19
                  ]
                },
                {
                  "mode": "text",
                  "text": [
                    "31.400636936215164"
                  ],
                  "textposition": "top right",
                  "texttemplate": "%{text:.2s}",
                  "type": "scatter",
                  "x": [
                    12.5
                  ],
                  "y": [
                    19.5
                  ]
                },
                {
                  "mode": "text",
                  "text": [
                    "18.384776310850235"
                  ],
                  "textposition": "top right",
                  "texttemplate": "%{text:.2s}",
                  "type": "scatter",
                  "x": [
                    16.5
                  ],
                  "y": [
                    25.5
                  ]
                },
                {
                  "mode": "text",
                  "text": [
                    "7.0"
                  ],
                  "textposition": "top right",
                  "texttemplate": "%{text:.2s}",
                  "type": "scatter",
                  "x": [
                    12.5
                  ],
                  "y": [
                    29
                  ]
                },
                {
                  "mode": "text",
                  "text": [
                    "18.439088914585774"
                  ],
                  "textposition": "top right",
                  "texttemplate": "%{text:.2s}",
                  "type": "scatter",
                  "x": [
                    10
                  ],
                  "y": [
                    22
                  ]
                },
                {
                  "mode": "text",
                  "text": [
                    "20.0"
                  ],
                  "textposition": "top right",
                  "texttemplate": "%{text:.2s}",
                  "type": "scatter",
                  "x": [
                    8
                  ],
                  "y": [
                    23
                  ]
                },
                {
                  "mode": "text",
                  "text": [
                    "11.045361017187261"
                  ],
                  "textposition": "top right",
                  "texttemplate": "%{text:.2s}",
                  "type": "scatter",
                  "x": [
                    21.5
                  ],
                  "y": [
                    28.5
                  ]
                },
                {
                  "mode": "text",
                  "text": [
                    "9.0"
                  ],
                  "textposition": "top right",
                  "texttemplate": "%{text:.2s}",
                  "type": "scatter",
                  "x": [
                    20.5
                  ],
                  "y": [
                    29
                  ]
                },
                {
                  "mode": "text",
                  "text": [
                    "0.0"
                  ],
                  "textposition": "top right",
                  "texttemplate": "%{text:.2s}",
                  "type": "scatter",
                  "x": [
                    16
                  ],
                  "y": [
                    29
                  ]
                },
                {
                  "mode": "text",
                  "text": [
                    "3.1622776601683795"
                  ],
                  "textposition": "top right",
                  "texttemplate": "%{text:.2s}",
                  "type": "scatter",
                  "x": [
                    16.5
                  ],
                  "y": [
                    27.5
                  ]
                },
                {
                  "mode": "text",
                  "text": [
                    "21.540659228538015"
                  ],
                  "textposition": "top right",
                  "texttemplate": "%{text:.2s}",
                  "type": "scatter",
                  "x": [
                    12
                  ],
                  "y": [
                    19
                  ]
                },
                {
                  "mode": "text",
                  "text": [
                    "24.839484696748443"
                  ],
                  "textposition": "top right",
                  "texttemplate": "%{text:.2s}",
                  "type": "scatter",
                  "x": [
                    8
                  ],
                  "y": [
                    19.5
                  ]
                },
                {
                  "mode": "text",
                  "text": [
                    "10.63014581273465"
                  ],
                  "textposition": "top right",
                  "texttemplate": "%{text:.2s}",
                  "type": "scatter",
                  "x": [
                    12
                  ],
                  "y": [
                    25.5
                  ]
                },
                {
                  "mode": "text",
                  "text": [
                    "8.54400374531753"
                  ],
                  "textposition": "top right",
                  "texttemplate": "%{text:.2s}",
                  "type": "scatter",
                  "x": [
                    13
                  ],
                  "y": [
                    27.5
                  ]
                },
                {
                  "mode": "text",
                  "text": [
                    "17.029386365926403"
                  ],
                  "textposition": "top right",
                  "texttemplate": "%{text:.2s}",
                  "type": "scatter",
                  "x": [
                    10.5
                  ],
                  "y": [
                    20.5
                  ]
                },
                {
                  "mode": "text",
                  "text": [
                    "19.235384061671343"
                  ],
                  "textposition": "top right",
                  "texttemplate": "%{text:.2s}",
                  "type": "scatter",
                  "x": [
                    8.5
                  ],
                  "y": [
                    21.5
                  ]
                },
                {
                  "mode": "text",
                  "text": [
                    "10.198039027185569"
                  ],
                  "textposition": "top right",
                  "texttemplate": "%{text:.2s}",
                  "type": "scatter",
                  "x": [
                    22
                  ],
                  "y": [
                    27
                  ]
                },
                {
                  "mode": "text",
                  "text": [
                    "8.54400374531753"
                  ],
                  "textposition": "top right",
                  "texttemplate": "%{text:.2s}",
                  "type": "scatter",
                  "x": [
                    21
                  ],
                  "y": [
                    27.5
                  ]
                },
                {
                  "mode": "text",
                  "text": [
                    "3.1622776601683795"
                  ],
                  "textposition": "top right",
                  "texttemplate": "%{text:.2s}",
                  "type": "scatter",
                  "x": [
                    16.5
                  ],
                  "y": [
                    27.5
                  ]
                },
                {
                  "mode": "text",
                  "text": [
                    "0.0"
                  ],
                  "textposition": "top right",
                  "texttemplate": "%{text:.2s}",
                  "type": "scatter",
                  "x": [
                    17
                  ],
                  "y": [
                    26
                  ]
                },
                {
                  "mode": "text",
                  "text": [
                    "19.235384061671343"
                  ],
                  "textposition": "top right",
                  "texttemplate": "%{text:.2s}",
                  "type": "scatter",
                  "x": [
                    12.5
                  ],
                  "y": [
                    17.5
                  ]
                },
                {
                  "mode": "text",
                  "text": [
                    "23.345235059857504"
                  ],
                  "textposition": "top right",
                  "texttemplate": "%{text:.2s}",
                  "type": "scatter",
                  "x": [
                    8.5
                  ],
                  "y": [
                    18
                  ]
                },
                {
                  "mode": "text",
                  "text": [
                    "9.848857801796104"
                  ],
                  "textposition": "top right",
                  "texttemplate": "%{text:.2s}",
                  "type": "scatter",
                  "x": [
                    12.5
                  ],
                  "y": [
                    24
                  ]
                },
                {
                  "mode": "text",
                  "text": [
                    "20.024984394500787"
                  ],
                  "textposition": "top right",
                  "texttemplate": "%{text:.2s}",
                  "type": "scatter",
                  "x": [
                    8.5
                  ],
                  "y": [
                    19
                  ]
                },
                {
                  "mode": "text",
                  "text": [
                    "7.211102550927978"
                  ],
                  "textposition": "top right",
                  "texttemplate": "%{text:.2s}",
                  "type": "scatter",
                  "x": [
                    6
                  ],
                  "y": [
                    12
                  ]
                },
                {
                  "mode": "text",
                  "text": [
                    "11.313708498984761"
                  ],
                  "textposition": "top right",
                  "texttemplate": "%{text:.2s}",
                  "type": "scatter",
                  "x": [
                    4
                  ],
                  "y": [
                    13
                  ]
                },
                {
                  "mode": "text",
                  "text": [
                    "26.870057685088806"
                  ],
                  "textposition": "top right",
                  "texttemplate": "%{text:.2s}",
                  "type": "scatter",
                  "x": [
                    17.5
                  ],
                  "y": [
                    18.5
                  ]
                },
                {
                  "mode": "text",
                  "text": [
                    "26.248809496813376"
                  ],
                  "textposition": "top right",
                  "texttemplate": "%{text:.2s}",
                  "type": "scatter",
                  "x": [
                    16.5
                  ],
                  "y": [
                    19
                  ]
                },
                {
                  "mode": "text",
                  "text": [
                    "21.540659228538015"
                  ],
                  "textposition": "top right",
                  "texttemplate": "%{text:.2s}",
                  "type": "scatter",
                  "x": [
                    12
                  ],
                  "y": [
                    19
                  ]
                },
                {
                  "mode": "text",
                  "text": [
                    "19.235384061671343"
                  ],
                  "textposition": "top right",
                  "texttemplate": "%{text:.2s}",
                  "type": "scatter",
                  "x": [
                    12.5
                  ],
                  "y": [
                    17.5
                  ]
                },
                {
                  "mode": "text",
                  "text": [
                    "0.0"
                  ],
                  "textposition": "top right",
                  "texttemplate": "%{text:.2s}",
                  "type": "scatter",
                  "x": [
                    8
                  ],
                  "y": [
                    9
                  ]
                },
                {
                  "mode": "text",
                  "text": [
                    "8.06225774829855"
                  ],
                  "textposition": "top right",
                  "texttemplate": "%{text:.2s}",
                  "type": "scatter",
                  "x": [
                    4
                  ],
                  "y": [
                    9.5
                  ]
                },
                {
                  "mode": "text",
                  "text": [
                    "13.0"
                  ],
                  "textposition": "top right",
                  "texttemplate": "%{text:.2s}",
                  "type": "scatter",
                  "x": [
                    8
                  ],
                  "y": [
                    15.5
                  ]
                },
                {
                  "mode": "text",
                  "text": [
                    "21.02379604162864"
                  ],
                  "textposition": "top right",
                  "texttemplate": "%{text:.2s}",
                  "type": "scatter",
                  "x": [
                    4.5
                  ],
                  "y": [
                    19.5
                  ]
                },
                {
                  "mode": "text",
                  "text": [
                    "6.4031242374328485"
                  ],
                  "textposition": "top right",
                  "texttemplate": "%{text:.2s}",
                  "type": "scatter",
                  "x": [
                    2
                  ],
                  "y": [
                    12.5
                  ]
                },
                {
                  "mode": "text",
                  "text": [
                    "7.0"
                  ],
                  "textposition": "top right",
                  "texttemplate": "%{text:.2s}",
                  "type": "scatter",
                  "x": [
                    0
                  ],
                  "y": [
                    13.5
                  ]
                },
                {
                  "mode": "text",
                  "text": [
                    "32.449961479175904"
                  ],
                  "textposition": "top right",
                  "texttemplate": "%{text:.2s}",
                  "type": "scatter",
                  "x": [
                    13.5
                  ],
                  "y": [
                    19
                  ]
                },
                {
                  "mode": "text",
                  "text": [
                    "31.400636936215164"
                  ],
                  "textposition": "top right",
                  "texttemplate": "%{text:.2s}",
                  "type": "scatter",
                  "x": [
                    12.5
                  ],
                  "y": [
                    19.5
                  ]
                },
                {
                  "mode": "text",
                  "text": [
                    "24.839484696748443"
                  ],
                  "textposition": "top right",
                  "texttemplate": "%{text:.2s}",
                  "type": "scatter",
                  "x": [
                    8
                  ],
                  "y": [
                    19.5
                  ]
                },
                {
                  "mode": "text",
                  "text": [
                    "23.345235059857504"
                  ],
                  "textposition": "top right",
                  "texttemplate": "%{text:.2s}",
                  "type": "scatter",
                  "x": [
                    8.5
                  ],
                  "y": [
                    18
                  ]
                },
                {
                  "mode": "text",
                  "text": [
                    "8.06225774829855"
                  ],
                  "textposition": "top right",
                  "texttemplate": "%{text:.2s}",
                  "type": "scatter",
                  "x": [
                    4
                  ],
                  "y": [
                    9.5
                  ]
                },
                {
                  "mode": "text",
                  "text": [
                    "0.0"
                  ],
                  "textposition": "top right",
                  "texttemplate": "%{text:.2s}",
                  "type": "scatter",
                  "x": [
                    0
                  ],
                  "y": [
                    10
                  ]
                },
                {
                  "mode": "text",
                  "text": [
                    "14.422205101855956"
                  ],
                  "textposition": "top right",
                  "texttemplate": "%{text:.2s}",
                  "type": "scatter",
                  "x": [
                    4
                  ],
                  "y": [
                    16
                  ]
                },
                {
                  "mode": "text",
                  "text": [
                    "7.0710678118654755"
                  ],
                  "textposition": "top right",
                  "texttemplate": "%{text:.2s}",
                  "type": "scatter",
                  "x": [
                    8.5
                  ],
                  "y": [
                    25.5
                  ]
                },
                {
                  "mode": "text",
                  "text": [
                    "8.06225774829855"
                  ],
                  "textposition": "top right",
                  "texttemplate": "%{text:.2s}",
                  "type": "scatter",
                  "x": [
                    6
                  ],
                  "y": [
                    18.5
                  ]
                },
                {
                  "mode": "text",
                  "text": [
                    "9.433981132056603"
                  ],
                  "textposition": "top right",
                  "texttemplate": "%{text:.2s}",
                  "type": "scatter",
                  "x": [
                    4
                  ],
                  "y": [
                    19.5
                  ]
                },
                {
                  "mode": "text",
                  "text": [
                    "19.924858845171276"
                  ],
                  "textposition": "top right",
                  "texttemplate": "%{text:.2s}",
                  "type": "scatter",
                  "x": [
                    17.5
                  ],
                  "y": [
                    25
                  ]
                },
                {
                  "mode": "text",
                  "text": [
                    "18.384776310850235"
                  ],
                  "textposition": "top right",
                  "texttemplate": "%{text:.2s}",
                  "type": "scatter",
                  "x": [
                    16.5
                  ],
                  "y": [
                    25.5
                  ]
                },
                {
                  "mode": "text",
                  "text": [
                    "10.63014581273465"
                  ],
                  "textposition": "top right",
                  "texttemplate": "%{text:.2s}",
                  "type": "scatter",
                  "x": [
                    12
                  ],
                  "y": [
                    25.5
                  ]
                },
                {
                  "mode": "text",
                  "text": [
                    "9.848857801796104"
                  ],
                  "textposition": "top right",
                  "texttemplate": "%{text:.2s}",
                  "type": "scatter",
                  "x": [
                    12.5
                  ],
                  "y": [
                    24
                  ]
                },
                {
                  "mode": "text",
                  "text": [
                    "13.0"
                  ],
                  "textposition": "top right",
                  "texttemplate": "%{text:.2s}",
                  "type": "scatter",
                  "x": [
                    8
                  ],
                  "y": [
                    15.5
                  ]
                },
                {
                  "mode": "text",
                  "text": [
                    "14.422205101855956"
                  ],
                  "textposition": "top right",
                  "texttemplate": "%{text:.2s}",
                  "type": "scatter",
                  "x": [
                    4
                  ],
                  "y": [
                    16
                  ]
                },
                {
                  "mode": "text",
                  "text": [
                    "0.0"
                  ],
                  "textposition": "top right",
                  "texttemplate": "%{text:.2s}",
                  "type": "scatter",
                  "x": [
                    8
                  ],
                  "y": [
                    22
                  ]
                }
              ],
              "layout": {
                "legend": {
                  "tracegroupgap": 0
                },
                "margin": {
                  "t": 60
                },
                "shapes": [
                  {
                    "line": {
                      "color": "rgb(0, 0, 0)"
                    },
                    "opacity": 0.09,
                    "type": "line",
                    "x0": 9,
                    "x1": 9,
                    "y0": 29,
                    "y1": 29
                  },
                  {
                    "line": {
                      "color": "rgb(0, 0, 0)"
                    },
                    "opacity": 0.09,
                    "type": "line",
                    "x0": 9,
                    "x1": 4,
                    "y0": 29,
                    "y1": 15
                  },
                  {
                    "line": {
                      "color": "rgb(0, 0, 0)"
                    },
                    "opacity": 0.09,
                    "type": "line",
                    "x0": 9,
                    "x1": 0,
                    "y0": 29,
                    "y1": 17
                  },
                  {
                    "line": {
                      "color": "rgb(0, 0, 0)"
                    },
                    "opacity": 0.09,
                    "type": "line",
                    "x0": 9,
                    "x1": 27,
                    "y0": 29,
                    "y1": 28
                  },
                  {
                    "line": {
                      "color": "rgb(0, 0, 0)"
                    },
                    "opacity": 0.09,
                    "type": "line",
                    "x0": 9,
                    "x1": 25,
                    "y0": 29,
                    "y1": 29
                  },
                  {
                    "line": {
                      "color": "rgb(0, 0, 0)"
                    },
                    "opacity": 0.09,
                    "type": "line",
                    "x0": 9,
                    "x1": 16,
                    "y0": 29,
                    "y1": 29
                  },
                  {
                    "line": {
                      "color": "rgb(0, 0, 0)"
                    },
                    "opacity": 0.09,
                    "type": "line",
                    "x0": 9,
                    "x1": 17,
                    "y0": 29,
                    "y1": 26
                  },
                  {
                    "line": {
                      "color": "rgb(0, 0, 0)"
                    },
                    "opacity": 0.09,
                    "type": "line",
                    "x0": 9,
                    "x1": 8,
                    "y0": 29,
                    "y1": 9
                  },
                  {
                    "line": {
                      "color": "rgb(0, 0, 0)"
                    },
                    "opacity": 0.09,
                    "type": "line",
                    "x0": 9,
                    "x1": 0,
                    "y0": 29,
                    "y1": 10
                  },
                  {
                    "line": {
                      "color": "rgb(0, 0, 0)"
                    },
                    "opacity": 0.09,
                    "type": "line",
                    "x0": 9,
                    "x1": 8,
                    "y0": 29,
                    "y1": 22
                  },
                  {
                    "line": {
                      "color": "rgb(0, 0, 0)"
                    },
                    "opacity": 0.09,
                    "type": "line",
                    "x0": 4,
                    "x1": 9,
                    "y0": 15,
                    "y1": 29
                  },
                  {
                    "line": {
                      "color": "rgb(0, 0, 0)"
                    },
                    "opacity": 0.09,
                    "type": "line",
                    "x0": 4,
                    "x1": 4,
                    "y0": 15,
                    "y1": 15
                  },
                  {
                    "line": {
                      "color": "rgb(0, 0, 0)"
                    },
                    "opacity": 0.09,
                    "type": "line",
                    "x0": 4,
                    "x1": 0,
                    "y0": 15,
                    "y1": 17
                  },
                  {
                    "line": {
                      "color": "rgb(0, 0, 0)"
                    },
                    "opacity": 0.09,
                    "type": "line",
                    "x0": 4,
                    "x1": 27,
                    "y0": 15,
                    "y1": 28
                  },
                  {
                    "line": {
                      "color": "rgb(0, 0, 0)"
                    },
                    "opacity": 0.09,
                    "type": "line",
                    "x0": 4,
                    "x1": 25,
                    "y0": 15,
                    "y1": 29
                  },
                  {
                    "line": {
                      "color": "rgb(0, 0, 0)"
                    },
                    "opacity": 0.09,
                    "type": "line",
                    "x0": 4,
                    "x1": 16,
                    "y0": 15,
                    "y1": 29
                  },
                  {
                    "line": {
                      "color": "rgb(0, 0, 0)"
                    },
                    "opacity": 0.09,
                    "type": "line",
                    "x0": 4,
                    "x1": 17,
                    "y0": 15,
                    "y1": 26
                  },
                  {
                    "line": {
                      "color": "rgb(0, 0, 0)"
                    },
                    "opacity": 0.09,
                    "type": "line",
                    "x0": 4,
                    "x1": 8,
                    "y0": 15,
                    "y1": 9
                  },
                  {
                    "line": {
                      "color": "rgb(0, 0, 0)"
                    },
                    "opacity": 0.09,
                    "type": "line",
                    "x0": 4,
                    "x1": 0,
                    "y0": 15,
                    "y1": 10
                  },
                  {
                    "line": {
                      "color": "rgb(0, 0, 0)"
                    },
                    "opacity": 0.09,
                    "type": "line",
                    "x0": 4,
                    "x1": 8,
                    "y0": 15,
                    "y1": 22
                  },
                  {
                    "line": {
                      "color": "rgb(0, 0, 0)"
                    },
                    "opacity": 0.09,
                    "type": "line",
                    "x0": 0,
                    "x1": 9,
                    "y0": 17,
                    "y1": 29
                  },
                  {
                    "line": {
                      "color": "rgb(0, 0, 0)"
                    },
                    "opacity": 0.09,
                    "type": "line",
                    "x0": 0,
                    "x1": 4,
                    "y0": 17,
                    "y1": 15
                  },
                  {
                    "line": {
                      "color": "rgb(0, 0, 0)"
                    },
                    "opacity": 0.09,
                    "type": "line",
                    "x0": 0,
                    "x1": 0,
                    "y0": 17,
                    "y1": 17
                  },
                  {
                    "line": {
                      "color": "rgb(0, 0, 0)"
                    },
                    "opacity": 0.09,
                    "type": "line",
                    "x0": 0,
                    "x1": 27,
                    "y0": 17,
                    "y1": 28
                  },
                  {
                    "line": {
                      "color": "rgb(0, 0, 0)"
                    },
                    "opacity": 0.09,
                    "type": "line",
                    "x0": 0,
                    "x1": 25,
                    "y0": 17,
                    "y1": 29
                  },
                  {
                    "line": {
                      "color": "rgb(0, 0, 0)"
                    },
                    "opacity": 0.09,
                    "type": "line",
                    "x0": 0,
                    "x1": 16,
                    "y0": 17,
                    "y1": 29
                  },
                  {
                    "line": {
                      "color": "rgb(0, 0, 0)"
                    },
                    "opacity": 0.09,
                    "type": "line",
                    "x0": 0,
                    "x1": 17,
                    "y0": 17,
                    "y1": 26
                  },
                  {
                    "line": {
                      "color": "rgb(0, 0, 0)"
                    },
                    "opacity": 0.09,
                    "type": "line",
                    "x0": 0,
                    "x1": 8,
                    "y0": 17,
                    "y1": 9
                  },
                  {
                    "line": {
                      "color": "rgb(0, 0, 0)"
                    },
                    "opacity": 0.09,
                    "type": "line",
                    "x0": 0,
                    "x1": 0,
                    "y0": 17,
                    "y1": 10
                  },
                  {
                    "line": {
                      "color": "rgb(0, 0, 0)"
                    },
                    "opacity": 0.09,
                    "type": "line",
                    "x0": 0,
                    "x1": 8,
                    "y0": 17,
                    "y1": 22
                  },
                  {
                    "line": {
                      "color": "rgb(0, 0, 0)"
                    },
                    "opacity": 0.09,
                    "type": "line",
                    "x0": 27,
                    "x1": 9,
                    "y0": 28,
                    "y1": 29
                  },
                  {
                    "line": {
                      "color": "rgb(0, 0, 0)"
                    },
                    "opacity": 0.09,
                    "type": "line",
                    "x0": 27,
                    "x1": 4,
                    "y0": 28,
                    "y1": 15
                  },
                  {
                    "line": {
                      "color": "rgb(0, 0, 0)"
                    },
                    "opacity": 0.09,
                    "type": "line",
                    "x0": 27,
                    "x1": 0,
                    "y0": 28,
                    "y1": 17
                  },
                  {
                    "line": {
                      "color": "rgb(0, 0, 0)"
                    },
                    "opacity": 0.09,
                    "type": "line",
                    "x0": 27,
                    "x1": 27,
                    "y0": 28,
                    "y1": 28
                  },
                  {
                    "line": {
                      "color": "rgb(0, 0, 0)"
                    },
                    "opacity": 0.09,
                    "type": "line",
                    "x0": 27,
                    "x1": 25,
                    "y0": 28,
                    "y1": 29
                  },
                  {
                    "line": {
                      "color": "rgb(0, 0, 0)"
                    },
                    "opacity": 0.09,
                    "type": "line",
                    "x0": 27,
                    "x1": 16,
                    "y0": 28,
                    "y1": 29
                  },
                  {
                    "line": {
                      "color": "rgb(0, 0, 0)"
                    },
                    "opacity": 0.09,
                    "type": "line",
                    "x0": 27,
                    "x1": 17,
                    "y0": 28,
                    "y1": 26
                  },
                  {
                    "line": {
                      "color": "rgb(0, 0, 0)"
                    },
                    "opacity": 0.09,
                    "type": "line",
                    "x0": 27,
                    "x1": 8,
                    "y0": 28,
                    "y1": 9
                  },
                  {
                    "line": {
                      "color": "rgb(0, 0, 0)"
                    },
                    "opacity": 0.09,
                    "type": "line",
                    "x0": 27,
                    "x1": 0,
                    "y0": 28,
                    "y1": 10
                  },
                  {
                    "line": {
                      "color": "rgb(0, 0, 0)"
                    },
                    "opacity": 0.09,
                    "type": "line",
                    "x0": 27,
                    "x1": 8,
                    "y0": 28,
                    "y1": 22
                  },
                  {
                    "line": {
                      "color": "rgb(0, 0, 0)"
                    },
                    "opacity": 0.09,
                    "type": "line",
                    "x0": 25,
                    "x1": 9,
                    "y0": 29,
                    "y1": 29
                  },
                  {
                    "line": {
                      "color": "rgb(0, 0, 0)"
                    },
                    "opacity": 0.09,
                    "type": "line",
                    "x0": 25,
                    "x1": 4,
                    "y0": 29,
                    "y1": 15
                  },
                  {
                    "line": {
                      "color": "rgb(0, 0, 0)"
                    },
                    "opacity": 0.09,
                    "type": "line",
                    "x0": 25,
                    "x1": 0,
                    "y0": 29,
                    "y1": 17
                  },
                  {
                    "line": {
                      "color": "rgb(0, 0, 0)"
                    },
                    "opacity": 0.09,
                    "type": "line",
                    "x0": 25,
                    "x1": 27,
                    "y0": 29,
                    "y1": 28
                  },
                  {
                    "line": {
                      "color": "rgb(0, 0, 0)"
                    },
                    "opacity": 0.09,
                    "type": "line",
                    "x0": 25,
                    "x1": 25,
                    "y0": 29,
                    "y1": 29
                  },
                  {
                    "line": {
                      "color": "rgb(0, 0, 0)"
                    },
                    "opacity": 0.09,
                    "type": "line",
                    "x0": 25,
                    "x1": 16,
                    "y0": 29,
                    "y1": 29
                  },
                  {
                    "line": {
                      "color": "rgb(0, 0, 0)"
                    },
                    "opacity": 0.09,
                    "type": "line",
                    "x0": 25,
                    "x1": 17,
                    "y0": 29,
                    "y1": 26
                  },
                  {
                    "line": {
                      "color": "rgb(0, 0, 0)"
                    },
                    "opacity": 0.09,
                    "type": "line",
                    "x0": 25,
                    "x1": 8,
                    "y0": 29,
                    "y1": 9
                  },
                  {
                    "line": {
                      "color": "rgb(0, 0, 0)"
                    },
                    "opacity": 0.09,
                    "type": "line",
                    "x0": 25,
                    "x1": 0,
                    "y0": 29,
                    "y1": 10
                  },
                  {
                    "line": {
                      "color": "rgb(0, 0, 0)"
                    },
                    "opacity": 0.09,
                    "type": "line",
                    "x0": 25,
                    "x1": 8,
                    "y0": 29,
                    "y1": 22
                  },
                  {
                    "line": {
                      "color": "rgb(0, 0, 0)"
                    },
                    "opacity": 0.09,
                    "type": "line",
                    "x0": 16,
                    "x1": 9,
                    "y0": 29,
                    "y1": 29
                  },
                  {
                    "line": {
                      "color": "rgb(0, 0, 0)"
                    },
                    "opacity": 0.09,
                    "type": "line",
                    "x0": 16,
                    "x1": 4,
                    "y0": 29,
                    "y1": 15
                  },
                  {
                    "line": {
                      "color": "rgb(0, 0, 0)"
                    },
                    "opacity": 0.09,
                    "type": "line",
                    "x0": 16,
                    "x1": 0,
                    "y0": 29,
                    "y1": 17
                  },
                  {
                    "line": {
                      "color": "rgb(0, 0, 0)"
                    },
                    "opacity": 0.09,
                    "type": "line",
                    "x0": 16,
                    "x1": 27,
                    "y0": 29,
                    "y1": 28
                  },
                  {
                    "line": {
                      "color": "rgb(0, 0, 0)"
                    },
                    "opacity": 0.09,
                    "type": "line",
                    "x0": 16,
                    "x1": 25,
                    "y0": 29,
                    "y1": 29
                  },
                  {
                    "line": {
                      "color": "rgb(0, 0, 0)"
                    },
                    "opacity": 0.09,
                    "type": "line",
                    "x0": 16,
                    "x1": 16,
                    "y0": 29,
                    "y1": 29
                  },
                  {
                    "line": {
                      "color": "rgb(0, 0, 0)"
                    },
                    "opacity": 0.09,
                    "type": "line",
                    "x0": 16,
                    "x1": 17,
                    "y0": 29,
                    "y1": 26
                  },
                  {
                    "line": {
                      "color": "rgb(0, 0, 0)"
                    },
                    "opacity": 0.09,
                    "type": "line",
                    "x0": 16,
                    "x1": 8,
                    "y0": 29,
                    "y1": 9
                  },
                  {
                    "line": {
                      "color": "rgb(0, 0, 0)"
                    },
                    "opacity": 0.09,
                    "type": "line",
                    "x0": 16,
                    "x1": 0,
                    "y0": 29,
                    "y1": 10
                  },
                  {
                    "line": {
                      "color": "rgb(0, 0, 0)"
                    },
                    "opacity": 0.09,
                    "type": "line",
                    "x0": 16,
                    "x1": 8,
                    "y0": 29,
                    "y1": 22
                  },
                  {
                    "line": {
                      "color": "rgb(0, 0, 0)"
                    },
                    "opacity": 0.09,
                    "type": "line",
                    "x0": 17,
                    "x1": 9,
                    "y0": 26,
                    "y1": 29
                  },
                  {
                    "line": {
                      "color": "rgb(0, 0, 0)"
                    },
                    "opacity": 0.09,
                    "type": "line",
                    "x0": 17,
                    "x1": 4,
                    "y0": 26,
                    "y1": 15
                  },
                  {
                    "line": {
                      "color": "rgb(0, 0, 0)"
                    },
                    "opacity": 0.09,
                    "type": "line",
                    "x0": 17,
                    "x1": 0,
                    "y0": 26,
                    "y1": 17
                  },
                  {
                    "line": {
                      "color": "rgb(0, 0, 0)"
                    },
                    "opacity": 0.09,
                    "type": "line",
                    "x0": 17,
                    "x1": 27,
                    "y0": 26,
                    "y1": 28
                  },
                  {
                    "line": {
                      "color": "rgb(0, 0, 0)"
                    },
                    "opacity": 0.09,
                    "type": "line",
                    "x0": 17,
                    "x1": 25,
                    "y0": 26,
                    "y1": 29
                  },
                  {
                    "line": {
                      "color": "rgb(0, 0, 0)"
                    },
                    "opacity": 0.09,
                    "type": "line",
                    "x0": 17,
                    "x1": 16,
                    "y0": 26,
                    "y1": 29
                  },
                  {
                    "line": {
                      "color": "rgb(0, 0, 0)"
                    },
                    "opacity": 0.09,
                    "type": "line",
                    "x0": 17,
                    "x1": 17,
                    "y0": 26,
                    "y1": 26
                  },
                  {
                    "line": {
                      "color": "rgb(0, 0, 0)"
                    },
                    "opacity": 0.09,
                    "type": "line",
                    "x0": 17,
                    "x1": 8,
                    "y0": 26,
                    "y1": 9
                  },
                  {
                    "line": {
                      "color": "rgb(0, 0, 0)"
                    },
                    "opacity": 0.09,
                    "type": "line",
                    "x0": 17,
                    "x1": 0,
                    "y0": 26,
                    "y1": 10
                  },
                  {
                    "line": {
                      "color": "rgb(0, 0, 0)"
                    },
                    "opacity": 0.09,
                    "type": "line",
                    "x0": 17,
                    "x1": 8,
                    "y0": 26,
                    "y1": 22
                  },
                  {
                    "line": {
                      "color": "rgb(0, 0, 0)"
                    },
                    "opacity": 0.09,
                    "type": "line",
                    "x0": 8,
                    "x1": 9,
                    "y0": 9,
                    "y1": 29
                  },
                  {
                    "line": {
                      "color": "rgb(0, 0, 0)"
                    },
                    "opacity": 0.09,
                    "type": "line",
                    "x0": 8,
                    "x1": 4,
                    "y0": 9,
                    "y1": 15
                  },
                  {
                    "line": {
                      "color": "rgb(0, 0, 0)"
                    },
                    "opacity": 0.09,
                    "type": "line",
                    "x0": 8,
                    "x1": 0,
                    "y0": 9,
                    "y1": 17
                  },
                  {
                    "line": {
                      "color": "rgb(0, 0, 0)"
                    },
                    "opacity": 0.09,
                    "type": "line",
                    "x0": 8,
                    "x1": 27,
                    "y0": 9,
                    "y1": 28
                  },
                  {
                    "line": {
                      "color": "rgb(0, 0, 0)"
                    },
                    "opacity": 0.09,
                    "type": "line",
                    "x0": 8,
                    "x1": 25,
                    "y0": 9,
                    "y1": 29
                  },
                  {
                    "line": {
                      "color": "rgb(0, 0, 0)"
                    },
                    "opacity": 0.09,
                    "type": "line",
                    "x0": 8,
                    "x1": 16,
                    "y0": 9,
                    "y1": 29
                  },
                  {
                    "line": {
                      "color": "rgb(0, 0, 0)"
                    },
                    "opacity": 0.09,
                    "type": "line",
                    "x0": 8,
                    "x1": 17,
                    "y0": 9,
                    "y1": 26
                  },
                  {
                    "line": {
                      "color": "rgb(0, 0, 0)"
                    },
                    "opacity": 0.09,
                    "type": "line",
                    "x0": 8,
                    "x1": 8,
                    "y0": 9,
                    "y1": 9
                  },
                  {
                    "line": {
                      "color": "rgb(0, 0, 0)"
                    },
                    "opacity": 0.09,
                    "type": "line",
                    "x0": 8,
                    "x1": 0,
                    "y0": 9,
                    "y1": 10
                  },
                  {
                    "line": {
                      "color": "rgb(0, 0, 0)"
                    },
                    "opacity": 0.09,
                    "type": "line",
                    "x0": 8,
                    "x1": 8,
                    "y0": 9,
                    "y1": 22
                  },
                  {
                    "line": {
                      "color": "rgb(0, 0, 0)"
                    },
                    "opacity": 0.09,
                    "type": "line",
                    "x0": 0,
                    "x1": 9,
                    "y0": 10,
                    "y1": 29
                  },
                  {
                    "line": {
                      "color": "rgb(0, 0, 0)"
                    },
                    "opacity": 0.09,
                    "type": "line",
                    "x0": 0,
                    "x1": 4,
                    "y0": 10,
                    "y1": 15
                  },
                  {
                    "line": {
                      "color": "rgb(0, 0, 0)"
                    },
                    "opacity": 0.09,
                    "type": "line",
                    "x0": 0,
                    "x1": 0,
                    "y0": 10,
                    "y1": 17
                  },
                  {
                    "line": {
                      "color": "rgb(0, 0, 0)"
                    },
                    "opacity": 0.09,
                    "type": "line",
                    "x0": 0,
                    "x1": 27,
                    "y0": 10,
                    "y1": 28
                  },
                  {
                    "line": {
                      "color": "rgb(0, 0, 0)"
                    },
                    "opacity": 0.09,
                    "type": "line",
                    "x0": 0,
                    "x1": 25,
                    "y0": 10,
                    "y1": 29
                  },
                  {
                    "line": {
                      "color": "rgb(0, 0, 0)"
                    },
                    "opacity": 0.09,
                    "type": "line",
                    "x0": 0,
                    "x1": 16,
                    "y0": 10,
                    "y1": 29
                  },
                  {
                    "line": {
                      "color": "rgb(0, 0, 0)"
                    },
                    "opacity": 0.09,
                    "type": "line",
                    "x0": 0,
                    "x1": 17,
                    "y0": 10,
                    "y1": 26
                  },
                  {
                    "line": {
                      "color": "rgb(0, 0, 0)"
                    },
                    "opacity": 0.09,
                    "type": "line",
                    "x0": 0,
                    "x1": 8,
                    "y0": 10,
                    "y1": 9
                  },
                  {
                    "line": {
                      "color": "rgb(0, 0, 0)"
                    },
                    "opacity": 0.09,
                    "type": "line",
                    "x0": 0,
                    "x1": 0,
                    "y0": 10,
                    "y1": 10
                  },
                  {
                    "line": {
                      "color": "rgb(0, 0, 0)"
                    },
                    "opacity": 0.09,
                    "type": "line",
                    "x0": 0,
                    "x1": 8,
                    "y0": 10,
                    "y1": 22
                  },
                  {
                    "line": {
                      "color": "rgb(0, 0, 0)"
                    },
                    "opacity": 0.09,
                    "type": "line",
                    "x0": 8,
                    "x1": 9,
                    "y0": 22,
                    "y1": 29
                  },
                  {
                    "line": {
                      "color": "rgb(0, 0, 0)"
                    },
                    "opacity": 0.09,
                    "type": "line",
                    "x0": 8,
                    "x1": 4,
                    "y0": 22,
                    "y1": 15
                  },
                  {
                    "line": {
                      "color": "rgb(0, 0, 0)"
                    },
                    "opacity": 0.09,
                    "type": "line",
                    "x0": 8,
                    "x1": 0,
                    "y0": 22,
                    "y1": 17
                  },
                  {
                    "line": {
                      "color": "rgb(0, 0, 0)"
                    },
                    "opacity": 0.09,
                    "type": "line",
                    "x0": 8,
                    "x1": 27,
                    "y0": 22,
                    "y1": 28
                  },
                  {
                    "line": {
                      "color": "rgb(0, 0, 0)"
                    },
                    "opacity": 0.09,
                    "type": "line",
                    "x0": 8,
                    "x1": 25,
                    "y0": 22,
                    "y1": 29
                  },
                  {
                    "line": {
                      "color": "rgb(0, 0, 0)"
                    },
                    "opacity": 0.09,
                    "type": "line",
                    "x0": 8,
                    "x1": 16,
                    "y0": 22,
                    "y1": 29
                  },
                  {
                    "line": {
                      "color": "rgb(0, 0, 0)"
                    },
                    "opacity": 0.09,
                    "type": "line",
                    "x0": 8,
                    "x1": 17,
                    "y0": 22,
                    "y1": 26
                  },
                  {
                    "line": {
                      "color": "rgb(0, 0, 0)"
                    },
                    "opacity": 0.09,
                    "type": "line",
                    "x0": 8,
                    "x1": 8,
                    "y0": 22,
                    "y1": 9
                  },
                  {
                    "line": {
                      "color": "rgb(0, 0, 0)"
                    },
                    "opacity": 0.09,
                    "type": "line",
                    "x0": 8,
                    "x1": 0,
                    "y0": 22,
                    "y1": 10
                  },
                  {
                    "line": {
                      "color": "rgb(0, 0, 0)"
                    },
                    "opacity": 0.09,
                    "type": "line",
                    "x0": 8,
                    "x1": 8,
                    "y0": 22,
                    "y1": 22
                  }
                ],
                "showlegend": false,
                "template": {
                  "data": {
                    "bar": [
                      {
                        "error_x": {
                          "color": "#2a3f5f"
                        },
                        "error_y": {
                          "color": "#2a3f5f"
                        },
                        "marker": {
                          "line": {
                            "color": "white",
                            "width": 0.5
                          },
                          "pattern": {
                            "fillmode": "overlay",
                            "size": 10,
                            "solidity": 0.2
                          }
                        },
                        "type": "bar"
                      }
                    ],
                    "barpolar": [
                      {
                        "marker": {
                          "line": {
                            "color": "white",
                            "width": 0.5
                          },
                          "pattern": {
                            "fillmode": "overlay",
                            "size": 10,
                            "solidity": 0.2
                          }
                        },
                        "type": "barpolar"
                      }
                    ],
                    "carpet": [
                      {
                        "aaxis": {
                          "endlinecolor": "#2a3f5f",
                          "gridcolor": "#C8D4E3",
                          "linecolor": "#C8D4E3",
                          "minorgridcolor": "#C8D4E3",
                          "startlinecolor": "#2a3f5f"
                        },
                        "baxis": {
                          "endlinecolor": "#2a3f5f",
                          "gridcolor": "#C8D4E3",
                          "linecolor": "#C8D4E3",
                          "minorgridcolor": "#C8D4E3",
                          "startlinecolor": "#2a3f5f"
                        },
                        "type": "carpet"
                      }
                    ],
                    "choropleth": [
                      {
                        "colorbar": {
                          "outlinewidth": 0,
                          "ticks": ""
                        },
                        "type": "choropleth"
                      }
                    ],
                    "contour": [
                      {
                        "colorbar": {
                          "outlinewidth": 0,
                          "ticks": ""
                        },
                        "colorscale": [
                          [
                            0,
                            "#0d0887"
                          ],
                          [
                            0.1111111111111111,
                            "#46039f"
                          ],
                          [
                            0.2222222222222222,
                            "#7201a8"
                          ],
                          [
                            0.3333333333333333,
                            "#9c179e"
                          ],
                          [
                            0.4444444444444444,
                            "#bd3786"
                          ],
                          [
                            0.5555555555555556,
                            "#d8576b"
                          ],
                          [
                            0.6666666666666666,
                            "#ed7953"
                          ],
                          [
                            0.7777777777777778,
                            "#fb9f3a"
                          ],
                          [
                            0.8888888888888888,
                            "#fdca26"
                          ],
                          [
                            1,
                            "#f0f921"
                          ]
                        ],
                        "type": "contour"
                      }
                    ],
                    "contourcarpet": [
                      {
                        "colorbar": {
                          "outlinewidth": 0,
                          "ticks": ""
                        },
                        "type": "contourcarpet"
                      }
                    ],
                    "heatmap": [
                      {
                        "colorbar": {
                          "outlinewidth": 0,
                          "ticks": ""
                        },
                        "colorscale": [
                          [
                            0,
                            "#0d0887"
                          ],
                          [
                            0.1111111111111111,
                            "#46039f"
                          ],
                          [
                            0.2222222222222222,
                            "#7201a8"
                          ],
                          [
                            0.3333333333333333,
                            "#9c179e"
                          ],
                          [
                            0.4444444444444444,
                            "#bd3786"
                          ],
                          [
                            0.5555555555555556,
                            "#d8576b"
                          ],
                          [
                            0.6666666666666666,
                            "#ed7953"
                          ],
                          [
                            0.7777777777777778,
                            "#fb9f3a"
                          ],
                          [
                            0.8888888888888888,
                            "#fdca26"
                          ],
                          [
                            1,
                            "#f0f921"
                          ]
                        ],
                        "type": "heatmap"
                      }
                    ],
                    "heatmapgl": [
                      {
                        "colorbar": {
                          "outlinewidth": 0,
                          "ticks": ""
                        },
                        "colorscale": [
                          [
                            0,
                            "#0d0887"
                          ],
                          [
                            0.1111111111111111,
                            "#46039f"
                          ],
                          [
                            0.2222222222222222,
                            "#7201a8"
                          ],
                          [
                            0.3333333333333333,
                            "#9c179e"
                          ],
                          [
                            0.4444444444444444,
                            "#bd3786"
                          ],
                          [
                            0.5555555555555556,
                            "#d8576b"
                          ],
                          [
                            0.6666666666666666,
                            "#ed7953"
                          ],
                          [
                            0.7777777777777778,
                            "#fb9f3a"
                          ],
                          [
                            0.8888888888888888,
                            "#fdca26"
                          ],
                          [
                            1,
                            "#f0f921"
                          ]
                        ],
                        "type": "heatmapgl"
                      }
                    ],
                    "histogram": [
                      {
                        "marker": {
                          "pattern": {
                            "fillmode": "overlay",
                            "size": 10,
                            "solidity": 0.2
                          }
                        },
                        "type": "histogram"
                      }
                    ],
                    "histogram2d": [
                      {
                        "colorbar": {
                          "outlinewidth": 0,
                          "ticks": ""
                        },
                        "colorscale": [
                          [
                            0,
                            "#0d0887"
                          ],
                          [
                            0.1111111111111111,
                            "#46039f"
                          ],
                          [
                            0.2222222222222222,
                            "#7201a8"
                          ],
                          [
                            0.3333333333333333,
                            "#9c179e"
                          ],
                          [
                            0.4444444444444444,
                            "#bd3786"
                          ],
                          [
                            0.5555555555555556,
                            "#d8576b"
                          ],
                          [
                            0.6666666666666666,
                            "#ed7953"
                          ],
                          [
                            0.7777777777777778,
                            "#fb9f3a"
                          ],
                          [
                            0.8888888888888888,
                            "#fdca26"
                          ],
                          [
                            1,
                            "#f0f921"
                          ]
                        ],
                        "type": "histogram2d"
                      }
                    ],
                    "histogram2dcontour": [
                      {
                        "colorbar": {
                          "outlinewidth": 0,
                          "ticks": ""
                        },
                        "colorscale": [
                          [
                            0,
                            "#0d0887"
                          ],
                          [
                            0.1111111111111111,
                            "#46039f"
                          ],
                          [
                            0.2222222222222222,
                            "#7201a8"
                          ],
                          [
                            0.3333333333333333,
                            "#9c179e"
                          ],
                          [
                            0.4444444444444444,
                            "#bd3786"
                          ],
                          [
                            0.5555555555555556,
                            "#d8576b"
                          ],
                          [
                            0.6666666666666666,
                            "#ed7953"
                          ],
                          [
                            0.7777777777777778,
                            "#fb9f3a"
                          ],
                          [
                            0.8888888888888888,
                            "#fdca26"
                          ],
                          [
                            1,
                            "#f0f921"
                          ]
                        ],
                        "type": "histogram2dcontour"
                      }
                    ],
                    "mesh3d": [
                      {
                        "colorbar": {
                          "outlinewidth": 0,
                          "ticks": ""
                        },
                        "type": "mesh3d"
                      }
                    ],
                    "parcoords": [
                      {
                        "line": {
                          "colorbar": {
                            "outlinewidth": 0,
                            "ticks": ""
                          }
                        },
                        "type": "parcoords"
                      }
                    ],
                    "pie": [
                      {
                        "automargin": true,
                        "type": "pie"
                      }
                    ],
                    "scatter": [
                      {
                        "fillpattern": {
                          "fillmode": "overlay",
                          "size": 10,
                          "solidity": 0.2
                        },
                        "type": "scatter"
                      }
                    ],
                    "scatter3d": [
                      {
                        "line": {
                          "colorbar": {
                            "outlinewidth": 0,
                            "ticks": ""
                          }
                        },
                        "marker": {
                          "colorbar": {
                            "outlinewidth": 0,
                            "ticks": ""
                          }
                        },
                        "type": "scatter3d"
                      }
                    ],
                    "scattercarpet": [
                      {
                        "marker": {
                          "colorbar": {
                            "outlinewidth": 0,
                            "ticks": ""
                          }
                        },
                        "type": "scattercarpet"
                      }
                    ],
                    "scattergeo": [
                      {
                        "marker": {
                          "colorbar": {
                            "outlinewidth": 0,
                            "ticks": ""
                          }
                        },
                        "type": "scattergeo"
                      }
                    ],
                    "scattergl": [
                      {
                        "marker": {
                          "colorbar": {
                            "outlinewidth": 0,
                            "ticks": ""
                          }
                        },
                        "type": "scattergl"
                      }
                    ],
                    "scattermapbox": [
                      {
                        "marker": {
                          "colorbar": {
                            "outlinewidth": 0,
                            "ticks": ""
                          }
                        },
                        "type": "scattermapbox"
                      }
                    ],
                    "scatterpolar": [
                      {
                        "marker": {
                          "colorbar": {
                            "outlinewidth": 0,
                            "ticks": ""
                          }
                        },
                        "type": "scatterpolar"
                      }
                    ],
                    "scatterpolargl": [
                      {
                        "marker": {
                          "colorbar": {
                            "outlinewidth": 0,
                            "ticks": ""
                          }
                        },
                        "type": "scatterpolargl"
                      }
                    ],
                    "scatterternary": [
                      {
                        "marker": {
                          "colorbar": {
                            "outlinewidth": 0,
                            "ticks": ""
                          }
                        },
                        "type": "scatterternary"
                      }
                    ],
                    "surface": [
                      {
                        "colorbar": {
                          "outlinewidth": 0,
                          "ticks": ""
                        },
                        "colorscale": [
                          [
                            0,
                            "#0d0887"
                          ],
                          [
                            0.1111111111111111,
                            "#46039f"
                          ],
                          [
                            0.2222222222222222,
                            "#7201a8"
                          ],
                          [
                            0.3333333333333333,
                            "#9c179e"
                          ],
                          [
                            0.4444444444444444,
                            "#bd3786"
                          ],
                          [
                            0.5555555555555556,
                            "#d8576b"
                          ],
                          [
                            0.6666666666666666,
                            "#ed7953"
                          ],
                          [
                            0.7777777777777778,
                            "#fb9f3a"
                          ],
                          [
                            0.8888888888888888,
                            "#fdca26"
                          ],
                          [
                            1,
                            "#f0f921"
                          ]
                        ],
                        "type": "surface"
                      }
                    ],
                    "table": [
                      {
                        "cells": {
                          "fill": {
                            "color": "#EBF0F8"
                          },
                          "line": {
                            "color": "white"
                          }
                        },
                        "header": {
                          "fill": {
                            "color": "#C8D4E3"
                          },
                          "line": {
                            "color": "white"
                          }
                        },
                        "type": "table"
                      }
                    ]
                  },
                  "layout": {
                    "annotationdefaults": {
                      "arrowcolor": "#2a3f5f",
                      "arrowhead": 0,
                      "arrowwidth": 1
                    },
                    "autotypenumbers": "strict",
                    "coloraxis": {
                      "colorbar": {
                        "outlinewidth": 0,
                        "ticks": ""
                      }
                    },
                    "colorscale": {
                      "diverging": [
                        [
                          0,
                          "#8e0152"
                        ],
                        [
                          0.1,
                          "#c51b7d"
                        ],
                        [
                          0.2,
                          "#de77ae"
                        ],
                        [
                          0.3,
                          "#f1b6da"
                        ],
                        [
                          0.4,
                          "#fde0ef"
                        ],
                        [
                          0.5,
                          "#f7f7f7"
                        ],
                        [
                          0.6,
                          "#e6f5d0"
                        ],
                        [
                          0.7,
                          "#b8e186"
                        ],
                        [
                          0.8,
                          "#7fbc41"
                        ],
                        [
                          0.9,
                          "#4d9221"
                        ],
                        [
                          1,
                          "#276419"
                        ]
                      ],
                      "sequential": [
                        [
                          0,
                          "#0d0887"
                        ],
                        [
                          0.1111111111111111,
                          "#46039f"
                        ],
                        [
                          0.2222222222222222,
                          "#7201a8"
                        ],
                        [
                          0.3333333333333333,
                          "#9c179e"
                        ],
                        [
                          0.4444444444444444,
                          "#bd3786"
                        ],
                        [
                          0.5555555555555556,
                          "#d8576b"
                        ],
                        [
                          0.6666666666666666,
                          "#ed7953"
                        ],
                        [
                          0.7777777777777778,
                          "#fb9f3a"
                        ],
                        [
                          0.8888888888888888,
                          "#fdca26"
                        ],
                        [
                          1,
                          "#f0f921"
                        ]
                      ],
                      "sequentialminus": [
                        [
                          0,
                          "#0d0887"
                        ],
                        [
                          0.1111111111111111,
                          "#46039f"
                        ],
                        [
                          0.2222222222222222,
                          "#7201a8"
                        ],
                        [
                          0.3333333333333333,
                          "#9c179e"
                        ],
                        [
                          0.4444444444444444,
                          "#bd3786"
                        ],
                        [
                          0.5555555555555556,
                          "#d8576b"
                        ],
                        [
                          0.6666666666666666,
                          "#ed7953"
                        ],
                        [
                          0.7777777777777778,
                          "#fb9f3a"
                        ],
                        [
                          0.8888888888888888,
                          "#fdca26"
                        ],
                        [
                          1,
                          "#f0f921"
                        ]
                      ]
                    },
                    "colorway": [
                      "#636efa",
                      "#EF553B",
                      "#00cc96",
                      "#ab63fa",
                      "#FFA15A",
                      "#19d3f3",
                      "#FF6692",
                      "#B6E880",
                      "#FF97FF",
                      "#FECB52"
                    ],
                    "font": {
                      "color": "#2a3f5f"
                    },
                    "geo": {
                      "bgcolor": "white",
                      "lakecolor": "white",
                      "landcolor": "white",
                      "showlakes": true,
                      "showland": true,
                      "subunitcolor": "#C8D4E3"
                    },
                    "hoverlabel": {
                      "align": "left"
                    },
                    "hovermode": "closest",
                    "mapbox": {
                      "style": "light"
                    },
                    "paper_bgcolor": "white",
                    "plot_bgcolor": "white",
                    "polar": {
                      "angularaxis": {
                        "gridcolor": "#EBF0F8",
                        "linecolor": "#EBF0F8",
                        "ticks": ""
                      },
                      "bgcolor": "white",
                      "radialaxis": {
                        "gridcolor": "#EBF0F8",
                        "linecolor": "#EBF0F8",
                        "ticks": ""
                      }
                    },
                    "scene": {
                      "xaxis": {
                        "backgroundcolor": "white",
                        "gridcolor": "#DFE8F3",
                        "gridwidth": 2,
                        "linecolor": "#EBF0F8",
                        "showbackground": true,
                        "ticks": "",
                        "zerolinecolor": "#EBF0F8"
                      },
                      "yaxis": {
                        "backgroundcolor": "white",
                        "gridcolor": "#DFE8F3",
                        "gridwidth": 2,
                        "linecolor": "#EBF0F8",
                        "showbackground": true,
                        "ticks": "",
                        "zerolinecolor": "#EBF0F8"
                      },
                      "zaxis": {
                        "backgroundcolor": "white",
                        "gridcolor": "#DFE8F3",
                        "gridwidth": 2,
                        "linecolor": "#EBF0F8",
                        "showbackground": true,
                        "ticks": "",
                        "zerolinecolor": "#EBF0F8"
                      }
                    },
                    "shapedefaults": {
                      "line": {
                        "color": "#2a3f5f"
                      }
                    },
                    "ternary": {
                      "aaxis": {
                        "gridcolor": "#DFE8F3",
                        "linecolor": "#A2B1C6",
                        "ticks": ""
                      },
                      "baxis": {
                        "gridcolor": "#DFE8F3",
                        "linecolor": "#A2B1C6",
                        "ticks": ""
                      },
                      "bgcolor": "white",
                      "caxis": {
                        "gridcolor": "#DFE8F3",
                        "linecolor": "#A2B1C6",
                        "ticks": ""
                      }
                    },
                    "title": {
                      "x": 0.05
                    },
                    "xaxis": {
                      "automargin": true,
                      "gridcolor": "#EBF0F8",
                      "linecolor": "#EBF0F8",
                      "ticks": "",
                      "title": {
                        "standoff": 15
                      },
                      "zerolinecolor": "#EBF0F8",
                      "zerolinewidth": 2
                    },
                    "yaxis": {
                      "automargin": true,
                      "gridcolor": "#EBF0F8",
                      "linecolor": "#EBF0F8",
                      "ticks": "",
                      "title": {
                        "standoff": 15
                      },
                      "zerolinecolor": "#EBF0F8",
                      "zerolinewidth": 2
                    }
                  }
                },
                "uniformtext": {
                  "minsize": 8,
                  "mode": "hide"
                },
                "xaxis": {
                  "anchor": "y",
                  "domain": [
                    0,
                    1
                  ],
                  "title": {
                    "text": "x"
                  }
                },
                "yaxis": {
                  "anchor": "x",
                  "domain": [
                    0,
                    1
                  ],
                  "title": {
                    "text": "y"
                  }
                }
              }
            }
          },
          "metadata": {},
          "output_type": "display_data"
        }
      ],
      "source": [
        "plot_cities_and_route(points, product(range(n), range(n))) # Visualización de las ciudades"
      ]
    },
    {
      "cell_type": "markdown",
      "metadata": {
        "id": "0Tn68uAaw47d"
      },
      "source": [
        "6 -> 5 -> 2 -> 1 -> ...."
      ]
    },
    {
      "cell_type": "markdown",
      "metadata": {
        "id": "0xRnmV6S5g6a"
      },
      "source": [
        "## TSP (Travelling salesman problem) con programación lineal"
      ]
    },
    {
      "cell_type": "markdown",
      "metadata": {
        "id": "r1W3Lf7G5loM"
      },
      "source": [
        "Considere $n$ puntos, $V = \\left\\{0, 1, \\dots, n-1 \\right\\}$, y la matriz de distancia $D_{n\\times n}$ con entradas $d_{i, j} \\in \\mathbb{R^+}$.\n",
        "\n",
        "La variable $x_{i,j}$ es tal que\n",
        "$$  x_{i,j} = \\begin{cases} 1 & \\text{ el camino va de la ciudad } i \\text{ a la ciudad } j\\text{,} \\\\ 0 & \\text{caso contrario.} \\end{cases} $$\n",
        "\n",
        "Tomando una variable dummy $y_i$ que guarda información del orden en que se visitan las ciudades, a partir de la ciudad $0$. Esto se escribe como $ y_i < y_j$ si la ciudad $i$ se visita antes que la ciudad $j$.\n",
        "\n",
        "Programación lineal favorece la desigualdades no-estrictas respecto a la estrictas, por lo que se puede imponer una condición parecida a la siguiente\n",
        "\n",
        "$$ y_j \\geqslant y_i + x_{i,j} $$\n",
        "\n",
        "cuando $x_{i,j} = 1$ (NOTESE que no es lo mismo que tomar solo $ y_j \\geqslant y_i + x_{i,j}$ en el caso general de $x_{i,j}$)\n"
      ]
    },
    {
      "cell_type": "markdown",
      "metadata": {
        "id": "O0CCd0M4M07T"
      },
      "source": [
        "La solución es un conjunto de $n$ pares de puntos indicando la ciudad de salida y ciudad de llegada. Considerando las restricciones que se mencionaron al inicio, tenemos que\n",
        "\n",
        "Minimizar:\n",
        "$$\\sum_{i\\in V, j\\in V} d_{i, j}x_{i, j}$$\n",
        "Sujeto a:\n",
        "\\begin{align}\n",
        "\\sum_{i\\in V\\setminus \\{j\\}} x_{i, j} = 1 && \\forall j \\in V \\\\\n",
        "\\sum_{j\\in V\\setminus \\{i\\}} x_{i, j} = 1 && \\forall i \\in V \\\\\n",
        "y_j - (n-1)x_{i, j} \\geq y_i - (n-2) && \\forall i \\in V \\setminus \\{0\\}, j\\in V\\setminus \\{0, i\\} \\\\\n",
        "x_{i, j} \\in \\{0, 1\\} && \\forall i\\in V, j \\in V \\\\\n",
        "y_i \\geq 0 && \\forall i \\in V\n",
        "\\end{align}"
      ]
    },
    {
      "cell_type": "code",
      "execution_count": 12,
      "metadata": {
        "colab": {
          "base_uri": "https://localhost:8080/"
        },
        "id": "qi7wIe6QXxN0",
        "outputId": "a84523ea-6018-4d7a-a101-7a515ee6a8b5"
      },
      "outputs": [
        {
          "name": "stdout",
          "output_type": "stream",
          "text": [
            "Número de nodos:\tn = 10\n",
            "Vértices:\tV = {0, 1, 2, 3, 4, 5, 6, 7, 8, 9}\n"
          ]
        }
      ],
      "source": [
        "# Número de nodos y vértices\n",
        "n, V = len(points), set(range(len(points)))\n",
        "print(f'Número de nodos:\\tn = {n}\\nVértices:\\tV = {V}')"
      ]
    },
    {
      "cell_type": "markdown",
      "metadata": {},
      "source": [
        "En MacOS, puede que se necesiten las siguientes dos líneas para que MIP funcione:"
      ]
    },
    {
      "cell_type": "code",
      "execution_count": null,
      "metadata": {},
      "outputs": [],
      "source": [
        "!brew tap coin-or-tools/coinor\n",
        "!brew install cbc"
      ]
    },
    {
      "cell_type": "code",
      "execution_count": 13,
      "metadata": {
        "id": "XAxDjOJZXzST"
      },
      "outputs": [],
      "source": [
        "model = Model()\n",
        "\n",
        "# Variables binarias que indican si se toma el camino de la ciudad i a la j\n",
        "x = [[model.add_var(var_type=BINARY) for j in V] for i in V]\n",
        "\n",
        "# Variables continuas para evitar subrutas\n",
        "y = [model.add_var() for i in V]"
      ]
    },
    {
      "cell_type": "markdown",
      "metadata": {
        "id": "FgF0eoZFAhDo"
      },
      "source": [
        "$$\\sum_{i\\in V, j\\in V} d_{i, j}x_{i, j}$$\n"
      ]
    },
    {
      "cell_type": "code",
      "execution_count": 14,
      "metadata": {
        "id": "pPC4JFo-_9B3"
      },
      "outputs": [],
      "source": [
        "# Función objetivo:\n",
        "model.objective = minimize(xsum(d[i][j]*x[i][j] for i in V for j in V))"
      ]
    },
    {
      "cell_type": "markdown",
      "metadata": {
        "id": "N6LNXjn8A3xj"
      },
      "source": [
        "$$\\sum_{j\\in V\\setminus \\{i\\}} x_{i, j} = 1 \\text{, } \\forall i \\in V$$"
      ]
    },
    {
      "cell_type": "code",
      "execution_count": 15,
      "metadata": {
        "id": "ROs_e4P9__Vv"
      },
      "outputs": [],
      "source": [
        "# Restricción : Sal de cada ciudad una única vez\n",
        "for i in V:\n",
        "    model += xsum(x[i][j] for j in V - {i}) == 1"
      ]
    },
    {
      "cell_type": "markdown",
      "metadata": {
        "id": "eyG_IucKAjLf"
      },
      "source": [
        "$$\\sum_{i\\in V\\setminus \\{j\\}} x_{i, j} = 1 \\text{, } \\forall j \\in V$$"
      ]
    },
    {
      "cell_type": "code",
      "execution_count": 16,
      "metadata": {
        "id": "OTaKu8GdAA9g"
      },
      "outputs": [],
      "source": [
        "# Restricción : Entra a cada ciudad una única vez\n",
        "for j in V:\n",
        "    model += xsum(x[i][j] for i in V - {j}) == 1"
      ]
    },
    {
      "cell_type": "markdown",
      "metadata": {
        "id": "sy6IPGajB22Z"
      },
      "source": [
        "$$y_j - (n-1)x_{i, j} \\geq y_i - (n-2) \\text{, } \\forall i \\in V \\setminus \\{0\\}, j\\in V\\setminus \\{0, i\\}$$"
      ]
    },
    {
      "cell_type": "code",
      "execution_count": 17,
      "metadata": {
        "id": "Iakx3SpIACpL"
      },
      "outputs": [],
      "source": [
        "# Elimina subrutas\n",
        "for (i, j) in product(V - {0}, V - {0}):\n",
        "    if i != j:\n",
        "        model += y[j] - (n-1)*x[i][j] >= y[i]-(n-2)"
      ]
    },
    {
      "cell_type": "code",
      "execution_count": 18,
      "metadata": {
        "colab": {
          "base_uri": "https://localhost:8080/"
        },
        "id": "s8FQC88QAECs",
        "outputId": "d5736f14-714d-4549-cffb-a9115a489ee5"
      },
      "outputs": [
        {
          "name": "stdout",
          "output_type": "stream",
          "text": [
            "Welcome to the CBC MILP Solver \n",
            "Version: Trunk\n",
            "Build Date: Jan 16 2024\n",
            "Starting solution of the Linear programming relaxation problem using Primal Simplex\n",
            "\n",
            "Coin0506I Presolve 92 (0) rows, 99 (-11) columns and 396 (0) elements\n",
            "Clp1000I sum of infeasibilities 0.000183017 - average 1.98932e-06, 51 fixed columns\n",
            "Coin0506I Presolve 92 (0) rows, 48 (-51) columns and 255 (-141) elements\n",
            "Clp0029I End of values pass after 48 iterations\n",
            "Clp0000I Optimal - objective value 53.446815\n",
            "Clp0000I Optimal - objective value 53.446815\n",
            "Coin0511I After Postsolve, objective 53.446815, infeasibilities - dual 0 (0), primal 0 (0)\n",
            "Clp0000I Optimal - objective value 53.446815\n",
            "Clp0000I Optimal - objective value 53.446815\n",
            "Clp0000I Optimal - objective value 53.446815\n",
            "Coin0511I After Postsolve, objective 53.446815, infeasibilities - dual 0 (0), primal 0 (0)\n",
            "Clp0032I Optimal objective 53.4468148 - 0 iterations time 0.012, Presolve 0.00, Idiot 0.01\n",
            "\n",
            "Starting MIP optimization\n",
            "maxSavedSolutions was changed from 1 to 10\n",
            "Continuous objective value is 53.4468 - 8e-05 seconds\n",
            "Cgl0004I processed model has 92 rows, 99 columns (90 integer (90 of which binary)) and 396 elements\n",
            "Coin3009W Conflict graph built in 0.000 seconds, density: 4.111%\n",
            "Cgl0015I Clique Strengthening extended 0 cliques, 0 were dominated\n",
            "Cbc0038I Initial state - 16 integers unsatisfied sum - 1.77778\n",
            "Cbc0038I Pass   1: suminf.    1.77778 (8) obj. 60.1346 iterations 21\n",
            "Cbc0038I Pass   2: suminf.    1.77778 (7) obj. 95.3558 iterations 18\n",
            "Cbc0038I Pass   3: suminf.    1.77778 (7) obj. 96.3625 iterations 15\n",
            "Cbc0038I Pass   4: suminf.    1.77778 (10) obj. 91.896 iterations 7\n",
            "Cbc0038I Pass   5: suminf.    1.77778 (6) obj. 82.5733 iterations 15\n",
            "Cbc0038I Pass   6: suminf.    0.00000 (0) obj. 165.633 iterations 37\n",
            "Cbc0038I Solution found of 165.633\n",
            "Cbc0038I Relaxing continuous gives 165.633\n",
            "Cbc0038I Before mini branch and bound, 60 integers at bound fixed and 1 continuous\n",
            "Cbc0038I Full problem 92 rows 99 columns, reduced to 43 rows 35 columns\n",
            "Cbc0038I Mini branch and bound improved solution from 165.633 to 122.142 (0.02 seconds)\n",
            "Cbc0038I Round again with cutoff of 115.272\n",
            "Cbc0038I Pass   7: suminf.    1.77778 (8) obj. 60.1346 iterations 0\n",
            "Cbc0038I Pass   8: suminf.    1.77778 (7) obj. 95.3558 iterations 20\n",
            "Cbc0038I Pass   9: suminf.    1.77778 (7) obj. 96.3625 iterations 13\n",
            "Cbc0038I Pass  10: suminf.    1.77778 (10) obj. 91.896 iterations 7\n",
            "Cbc0038I Pass  11: suminf.    1.77778 (6) obj. 82.5733 iterations 17\n",
            "Cbc0038I Pass  12: suminf.    1.55730 (4) obj. 115.272 iterations 39\n",
            "Cbc0038I Pass  13: suminf.    0.88889 (4) obj. 109.54 iterations 18\n",
            "Cbc0038I Pass  14: suminf.    0.00000 (0) obj. 108.281 iterations 23\n",
            "Cbc0038I Solution found of 108.281\n",
            "Cbc0038I Relaxing continuous gives 108.281\n",
            "Cbc0038I Before mini branch and bound, 61 integers at bound fixed and 0 continuous\n",
            "Cbc0038I Full problem 92 rows 99 columns, reduced to 82 rows 28 columns\n",
            "Cbc0038I Mini branch and bound did not improve solution (0.02 seconds)\n",
            "Cbc0038I Round again with cutoff of 97.3144\n",
            "Cbc0038I Pass  15: suminf.    1.77778 (8) obj. 60.1346 iterations 0\n",
            "Cbc0038I Pass  16: suminf.    1.77778 (7) obj. 95.3558 iterations 20\n",
            "Cbc0038I Pass  17: suminf.    1.77778 (7) obj. 96.3625 iterations 13\n",
            "Cbc0038I Pass  18: suminf.    1.77778 (10) obj. 91.896 iterations 7\n",
            "Cbc0038I Pass  19: suminf.    1.77778 (6) obj. 82.5733 iterations 17\n",
            "Cbc0038I Pass  20: suminf.    3.04924 (8) obj. 97.3144 iterations 21\n",
            "Cbc0038I Pass  21: suminf.    1.77778 (7) obj. 82.7786 iterations 22\n",
            "Cbc0038I Pass  22: suminf.    1.77778 (7) obj. 93.7376 iterations 26\n",
            "Cbc0038I Pass  23: suminf.    1.77778 (6) obj. 96.203 iterations 7\n",
            "Cbc0038I Pass  24: suminf.    1.77778 (9) obj. 97.3144 iterations 25\n",
            "Cbc0038I Pass  25: suminf.    1.77778 (7) obj. 82.7786 iterations 25\n",
            "Cbc0038I Pass  26: suminf.    1.77778 (7) obj. 82.7786 iterations 4\n",
            "Cbc0038I Pass  27: suminf.    1.77778 (7) obj. 93.7376 iterations 25\n",
            "Cbc0038I Pass  28: suminf.    1.77778 (6) obj. 96.203 iterations 7\n",
            "Cbc0038I Pass  29: suminf.    1.77778 (9) obj. 97.3144 iterations 24\n",
            "Cbc0038I Pass  30: suminf.    1.77778 (7) obj. 82.7786 iterations 23\n",
            "Cbc0038I Pass  31: suminf.    1.77778 (7) obj. 82.7786 iterations 7\n",
            "Cbc0038I Pass  32: suminf.    1.77778 (7) obj. 93.7376 iterations 24\n",
            "Cbc0038I Pass  33: suminf.    1.77778 (6) obj. 96.203 iterations 7\n",
            "Cbc0038I Pass  34: suminf.    1.77778 (9) obj. 97.3144 iterations 27\n",
            "Cbc0038I Pass  35: suminf.    1.77778 (7) obj. 82.7786 iterations 23\n",
            "Cbc0038I Pass  36: suminf.    1.77778 (7) obj. 82.7786 iterations 7\n",
            "Cbc0038I Pass  37: suminf.    1.77778 (7) obj. 93.7376 iterations 25\n",
            "Cbc0038I Pass  38: suminf.    1.77778 (6) obj. 96.203 iterations 7\n",
            "Cbc0038I Pass  39: suminf.    1.77778 (9) obj. 97.3144 iterations 25\n",
            "Cbc0038I Pass  40: suminf.    1.77778 (7) obj. 82.7786 iterations 23\n",
            "Cbc0038I Pass  41: suminf.    1.77778 (7) obj. 82.7786 iterations 7\n",
            "Cbc0038I Pass  42: suminf.    1.77778 (7) obj. 93.7376 iterations 24\n",
            "Cbc0038I Pass  43: suminf.    1.77778 (6) obj. 96.203 iterations 6\n",
            "Cbc0038I Pass  44: suminf.    1.77778 (9) obj. 97.3144 iterations 24\n",
            "Cbc0038I No solution found this major pass\n",
            "Cbc0038I Before mini branch and bound, 60 integers at bound fixed and 1 continuous\n",
            "Cbc0038I Full problem 92 rows 99 columns, reduced to 45 rows 37 columns\n",
            "Cbc0038I Mini branch and bound did not improve solution (0.04 seconds)\n",
            "Cbc0038I After 0.04 seconds - Feasibility pump exiting with objective of 108.281 - took 0.03 seconds\n",
            "Cbc0012I Integer solution of 108.28136 found by feasibility pump after 0 iterations and 0 nodes (0.04 seconds)\n",
            "Cbc0038I Full problem 92 rows 99 columns, reduced to 78 rows 19 columns\n",
            "Cbc0031I 12 added rows had average density of 40\n",
            "Cbc0013I At root node, 12 cuts changed objective from 53.446815 to 74.531158 in 100 passes\n",
            "Cbc0014I Cut generator 0 (Probing) - 52 row cuts average 44.6 elements, 0 column cuts (0 active)  in 0.019 seconds - new frequency is 1\n",
            "Cbc0014I Cut generator 1 (Gomory) - 471 row cuts average 58.3 elements, 0 column cuts (0 active)  in 0.009 seconds - new frequency is 1\n",
            "Cbc0014I Cut generator 2 (Knapsack) - 0 row cuts average 0.0 elements, 0 column cuts (0 active)  in 0.008 seconds - new frequency is -100\n",
            "Cbc0014I Cut generator 3 (Clique) - 0 row cuts average 0.0 elements, 0 column cuts (0 active)  in 0.001 seconds - new frequency is -100\n",
            "Cbc0014I Cut generator 4 (OddWheel) - 0 row cuts average 0.0 elements, 0 column cuts (0 active)  in 0.002 seconds - new frequency is -100\n",
            "Cbc0014I Cut generator 5 (MixedIntegerRounding2) - 100 row cuts average 16.4 elements, 0 column cuts (0 active)  in 0.005 seconds - new frequency is 1\n",
            "Cbc0014I Cut generator 6 (FlowCover) - 0 row cuts average 0.0 elements, 0 column cuts (0 active)  in 0.006 seconds - new frequency is -100\n",
            "Cbc0014I Cut generator 7 (TwoMirCuts) - 139 row cuts average 17.2 elements, 0 column cuts (0 active)  in 0.003 seconds - new frequency is 1\n",
            "Cbc0016I Integer solution of 83.512913 found by strong branching after 1169 iterations and 14 nodes (0.15 seconds)\n",
            "Cbc0016I Integer solution of 82.728536 found by strong branching after 1201 iterations and 17 nodes (0.15 seconds)\n",
            "Cbc0016I Integer solution of 82.33721 found by strong branching after 1621 iterations and 39 nodes (0.17 seconds)\n",
            "Cbc0038I Full problem 92 rows 99 columns, reduced to 92 rows 68 columns - too large\n",
            "Cbc0001I Search completed - best objective 82.33721032981886, took 4460 iterations and 192 nodes (0.22 seconds)\n",
            "Cbc0032I Strong branching done 1070 times (10687 iterations), fathomed 36 nodes and fixed 58 variables\n",
            "Cbc0035I Maximum depth 15, 230 variables fixed on reduced cost\n",
            "Cuts at root node changed objective from 53.4468 to 74.5312\n",
            "Probing was tried 127 times and created 74 cuts (0.020211 seconds)\n",
            "Gomory was tried 125 times and created 516 cuts (0.010677 seconds)\n",
            "Knapsack was tried 100 times and created 0 cuts (0.007504 seconds)\n",
            "Clique was tried 100 times and created 0 cuts (0.00104 seconds)\n",
            "OddWheel was tried 100 times and created 0 cuts (0.001559 seconds)\n",
            "MixedIntegerRounding2 was tried 125 times and created 150 cuts (0.005727 seconds)\n",
            "FlowCover was tried 100 times and created 0 cuts (0.005669 seconds)\n",
            "TwoMirCuts was tried 125 times and created 230 cuts (0.004394 seconds)\n",
            "ZeroHalf was tried 1 times and created 0 cuts (6.2e-05 seconds)\n",
            "\n",
            "Result - Optimal solution found\n",
            "Objective value:                82.3372103298\n",
            "Enumerated nodes:               192\n",
            "Total iterations:               4460\n",
            "Time (CPU seconds):             0.198903\n",
            "Time (Wallclock seconds):       0.222387\n",
            "Total time (CPU seconds):       0.199002   (Wallclock seconds):       0.222521\n",
            "Ruta con distancia total 82.3372 encontrada: ciudad_0\n",
            " -> ciudad_9\n",
            " -> ciudad_1\n",
            " -> ciudad_2\n",
            " -> ciudad_8\n",
            " -> ciudad_7\n",
            " -> ciudad_6\n",
            " -> ciudad_3\n",
            " -> ciudad_4\n",
            " -> ciudad_5\n",
            " -> ciudad_0\n",
            "\n",
            "\n"
          ]
        }
      ],
      "source": [
        "# Optimizar\n",
        "model.optimize()\n",
        "\n",
        "# Revisar si se encontró una solución\n",
        "edges = []\n",
        "if model.num_solutions:\n",
        "    print('Ruta con distancia total %g encontrada: %s'\n",
        "              % (model.objective_value, points.index[0]))\n",
        "    nc = 0 # Indice de la ciudad actual\n",
        "    while True:\n",
        "        oc = nc\n",
        "        nc = [i for i in V if x[nc][i].x >= 0.99][0] # Indice de la ciudad a la que se siguió\n",
        "        edges.append((oc, nc)) # Guardamos el camino a tomar\n",
        "        print(' -> %s' % points.index[nc]) # Imprimimos el siguiente paso de la ruta\n",
        "        if nc == 0:  # Si regresa al inicio terminamos el ciclo\n",
        "            break\n",
        "    print('\\n')"
      ]
    },
    {
      "cell_type": "code",
      "execution_count": 19,
      "metadata": {
        "colab": {
          "base_uri": "https://localhost:8080/"
        },
        "id": "KzwZgMywrTVH",
        "outputId": "238a8dac-8b27-4200-a74b-628d41dd2c1a"
      },
      "outputs": [
        {
          "data": {
            "text/plain": [
              "[(0, 9),\n",
              " (9, 1),\n",
              " (1, 2),\n",
              " (2, 8),\n",
              " (8, 7),\n",
              " (7, 6),\n",
              " (6, 3),\n",
              " (3, 4),\n",
              " (4, 5),\n",
              " (5, 0)]"
            ]
          },
          "execution_count": 19,
          "metadata": {},
          "output_type": "execute_result"
        }
      ],
      "source": [
        "edges"
      ]
    },
    {
      "cell_type": "code",
      "execution_count": 20,
      "metadata": {
        "colab": {
          "base_uri": "https://localhost:8080/",
          "height": 542
        },
        "id": "o1ZP922Azyrh",
        "outputId": "7c56ce61-5e47-4a27-9914-0edd82f77e40"
      },
      "outputs": [
        {
          "data": {
            "application/vnd.plotly.v1+json": {
              "config": {
                "plotlyServerURL": "https://plot.ly"
              },
              "data": [
                {
                  "hovertemplate": "<b>%{hovertext}</b><br><br>x=%{x}<br>y=%{y}<extra></extra>",
                  "hovertext": [
                    "ciudad_0",
                    "ciudad_1",
                    "ciudad_2",
                    "ciudad_3",
                    "ciudad_4",
                    "ciudad_5",
                    "ciudad_6",
                    "ciudad_7",
                    "ciudad_8",
                    "ciudad_9"
                  ],
                  "legendgroup": "",
                  "marker": {
                    "color": "#636efa",
                    "line": {
                      "color": "DarkSlateGrey",
                      "width": 2
                    },
                    "size": 15,
                    "symbol": "circle"
                  },
                  "mode": "markers",
                  "name": "",
                  "orientation": "v",
                  "showlegend": false,
                  "textposition": "top right",
                  "texttemplate": "%{text:.2s}",
                  "type": "scatter",
                  "x": [
                    9,
                    4,
                    0,
                    27,
                    25,
                    16,
                    17,
                    8,
                    0,
                    8
                  ],
                  "xaxis": "x",
                  "y": [
                    29,
                    15,
                    17,
                    28,
                    29,
                    29,
                    26,
                    9,
                    10,
                    22
                  ],
                  "yaxis": "y"
                },
                {
                  "mode": "text",
                  "text": [
                    "7.0710678118654755"
                  ],
                  "textposition": "top right",
                  "texttemplate": "%{text:.2s}",
                  "type": "scatter",
                  "x": [
                    8.5
                  ],
                  "y": [
                    25.5
                  ]
                },
                {
                  "mode": "text",
                  "text": [
                    "8.06225774829855"
                  ],
                  "textposition": "top right",
                  "texttemplate": "%{text:.2s}",
                  "type": "scatter",
                  "x": [
                    6
                  ],
                  "y": [
                    18.5
                  ]
                },
                {
                  "mode": "text",
                  "text": [
                    "4.47213595499958"
                  ],
                  "textposition": "top right",
                  "texttemplate": "%{text:.2s}",
                  "type": "scatter",
                  "x": [
                    2
                  ],
                  "y": [
                    16
                  ]
                },
                {
                  "mode": "text",
                  "text": [
                    "7.0"
                  ],
                  "textposition": "top right",
                  "texttemplate": "%{text:.2s}",
                  "type": "scatter",
                  "x": [
                    0
                  ],
                  "y": [
                    13.5
                  ]
                },
                {
                  "mode": "text",
                  "text": [
                    "8.06225774829855"
                  ],
                  "textposition": "top right",
                  "texttemplate": "%{text:.2s}",
                  "type": "scatter",
                  "x": [
                    4
                  ],
                  "y": [
                    9.5
                  ]
                },
                {
                  "mode": "text",
                  "text": [
                    "19.235384061671343"
                  ],
                  "textposition": "top right",
                  "texttemplate": "%{text:.2s}",
                  "type": "scatter",
                  "x": [
                    12.5
                  ],
                  "y": [
                    17.5
                  ]
                },
                {
                  "mode": "text",
                  "text": [
                    "10.198039027185569"
                  ],
                  "textposition": "top right",
                  "texttemplate": "%{text:.2s}",
                  "type": "scatter",
                  "x": [
                    22
                  ],
                  "y": [
                    27
                  ]
                },
                {
                  "mode": "text",
                  "text": [
                    "2.23606797749979"
                  ],
                  "textposition": "top right",
                  "texttemplate": "%{text:.2s}",
                  "type": "scatter",
                  "x": [
                    26
                  ],
                  "y": [
                    28.5
                  ]
                },
                {
                  "mode": "text",
                  "text": [
                    "9.0"
                  ],
                  "textposition": "top right",
                  "texttemplate": "%{text:.2s}",
                  "type": "scatter",
                  "x": [
                    20.5
                  ],
                  "y": [
                    29
                  ]
                },
                {
                  "mode": "text",
                  "text": [
                    "7.0"
                  ],
                  "textposition": "top right",
                  "texttemplate": "%{text:.2s}",
                  "type": "scatter",
                  "x": [
                    12.5
                  ],
                  "y": [
                    29
                  ]
                }
              ],
              "layout": {
                "legend": {
                  "tracegroupgap": 0
                },
                "margin": {
                  "t": 60
                },
                "shapes": [
                  {
                    "line": {
                      "color": "rgb(0, 0, 0)"
                    },
                    "opacity": 0.09,
                    "type": "line",
                    "x0": 9,
                    "x1": 8,
                    "y0": 29,
                    "y1": 22
                  },
                  {
                    "line": {
                      "color": "rgb(0, 0, 0)"
                    },
                    "opacity": 0.09,
                    "type": "line",
                    "x0": 8,
                    "x1": 4,
                    "y0": 22,
                    "y1": 15
                  },
                  {
                    "line": {
                      "color": "rgb(0, 0, 0)"
                    },
                    "opacity": 0.09,
                    "type": "line",
                    "x0": 4,
                    "x1": 0,
                    "y0": 15,
                    "y1": 17
                  },
                  {
                    "line": {
                      "color": "rgb(0, 0, 0)"
                    },
                    "opacity": 0.09,
                    "type": "line",
                    "x0": 0,
                    "x1": 0,
                    "y0": 17,
                    "y1": 10
                  },
                  {
                    "line": {
                      "color": "rgb(0, 0, 0)"
                    },
                    "opacity": 0.09,
                    "type": "line",
                    "x0": 0,
                    "x1": 8,
                    "y0": 10,
                    "y1": 9
                  },
                  {
                    "line": {
                      "color": "rgb(0, 0, 0)"
                    },
                    "opacity": 0.09,
                    "type": "line",
                    "x0": 8,
                    "x1": 17,
                    "y0": 9,
                    "y1": 26
                  },
                  {
                    "line": {
                      "color": "rgb(0, 0, 0)"
                    },
                    "opacity": 0.09,
                    "type": "line",
                    "x0": 17,
                    "x1": 27,
                    "y0": 26,
                    "y1": 28
                  },
                  {
                    "line": {
                      "color": "rgb(0, 0, 0)"
                    },
                    "opacity": 0.09,
                    "type": "line",
                    "x0": 27,
                    "x1": 25,
                    "y0": 28,
                    "y1": 29
                  },
                  {
                    "line": {
                      "color": "rgb(0, 0, 0)"
                    },
                    "opacity": 0.09,
                    "type": "line",
                    "x0": 25,
                    "x1": 16,
                    "y0": 29,
                    "y1": 29
                  },
                  {
                    "line": {
                      "color": "rgb(0, 0, 0)"
                    },
                    "opacity": 0.09,
                    "type": "line",
                    "x0": 16,
                    "x1": 9,
                    "y0": 29,
                    "y1": 29
                  }
                ],
                "showlegend": false,
                "template": {
                  "data": {
                    "bar": [
                      {
                        "error_x": {
                          "color": "#2a3f5f"
                        },
                        "error_y": {
                          "color": "#2a3f5f"
                        },
                        "marker": {
                          "line": {
                            "color": "white",
                            "width": 0.5
                          },
                          "pattern": {
                            "fillmode": "overlay",
                            "size": 10,
                            "solidity": 0.2
                          }
                        },
                        "type": "bar"
                      }
                    ],
                    "barpolar": [
                      {
                        "marker": {
                          "line": {
                            "color": "white",
                            "width": 0.5
                          },
                          "pattern": {
                            "fillmode": "overlay",
                            "size": 10,
                            "solidity": 0.2
                          }
                        },
                        "type": "barpolar"
                      }
                    ],
                    "carpet": [
                      {
                        "aaxis": {
                          "endlinecolor": "#2a3f5f",
                          "gridcolor": "#C8D4E3",
                          "linecolor": "#C8D4E3",
                          "minorgridcolor": "#C8D4E3",
                          "startlinecolor": "#2a3f5f"
                        },
                        "baxis": {
                          "endlinecolor": "#2a3f5f",
                          "gridcolor": "#C8D4E3",
                          "linecolor": "#C8D4E3",
                          "minorgridcolor": "#C8D4E3",
                          "startlinecolor": "#2a3f5f"
                        },
                        "type": "carpet"
                      }
                    ],
                    "choropleth": [
                      {
                        "colorbar": {
                          "outlinewidth": 0,
                          "ticks": ""
                        },
                        "type": "choropleth"
                      }
                    ],
                    "contour": [
                      {
                        "colorbar": {
                          "outlinewidth": 0,
                          "ticks": ""
                        },
                        "colorscale": [
                          [
                            0,
                            "#0d0887"
                          ],
                          [
                            0.1111111111111111,
                            "#46039f"
                          ],
                          [
                            0.2222222222222222,
                            "#7201a8"
                          ],
                          [
                            0.3333333333333333,
                            "#9c179e"
                          ],
                          [
                            0.4444444444444444,
                            "#bd3786"
                          ],
                          [
                            0.5555555555555556,
                            "#d8576b"
                          ],
                          [
                            0.6666666666666666,
                            "#ed7953"
                          ],
                          [
                            0.7777777777777778,
                            "#fb9f3a"
                          ],
                          [
                            0.8888888888888888,
                            "#fdca26"
                          ],
                          [
                            1,
                            "#f0f921"
                          ]
                        ],
                        "type": "contour"
                      }
                    ],
                    "contourcarpet": [
                      {
                        "colorbar": {
                          "outlinewidth": 0,
                          "ticks": ""
                        },
                        "type": "contourcarpet"
                      }
                    ],
                    "heatmap": [
                      {
                        "colorbar": {
                          "outlinewidth": 0,
                          "ticks": ""
                        },
                        "colorscale": [
                          [
                            0,
                            "#0d0887"
                          ],
                          [
                            0.1111111111111111,
                            "#46039f"
                          ],
                          [
                            0.2222222222222222,
                            "#7201a8"
                          ],
                          [
                            0.3333333333333333,
                            "#9c179e"
                          ],
                          [
                            0.4444444444444444,
                            "#bd3786"
                          ],
                          [
                            0.5555555555555556,
                            "#d8576b"
                          ],
                          [
                            0.6666666666666666,
                            "#ed7953"
                          ],
                          [
                            0.7777777777777778,
                            "#fb9f3a"
                          ],
                          [
                            0.8888888888888888,
                            "#fdca26"
                          ],
                          [
                            1,
                            "#f0f921"
                          ]
                        ],
                        "type": "heatmap"
                      }
                    ],
                    "heatmapgl": [
                      {
                        "colorbar": {
                          "outlinewidth": 0,
                          "ticks": ""
                        },
                        "colorscale": [
                          [
                            0,
                            "#0d0887"
                          ],
                          [
                            0.1111111111111111,
                            "#46039f"
                          ],
                          [
                            0.2222222222222222,
                            "#7201a8"
                          ],
                          [
                            0.3333333333333333,
                            "#9c179e"
                          ],
                          [
                            0.4444444444444444,
                            "#bd3786"
                          ],
                          [
                            0.5555555555555556,
                            "#d8576b"
                          ],
                          [
                            0.6666666666666666,
                            "#ed7953"
                          ],
                          [
                            0.7777777777777778,
                            "#fb9f3a"
                          ],
                          [
                            0.8888888888888888,
                            "#fdca26"
                          ],
                          [
                            1,
                            "#f0f921"
                          ]
                        ],
                        "type": "heatmapgl"
                      }
                    ],
                    "histogram": [
                      {
                        "marker": {
                          "pattern": {
                            "fillmode": "overlay",
                            "size": 10,
                            "solidity": 0.2
                          }
                        },
                        "type": "histogram"
                      }
                    ],
                    "histogram2d": [
                      {
                        "colorbar": {
                          "outlinewidth": 0,
                          "ticks": ""
                        },
                        "colorscale": [
                          [
                            0,
                            "#0d0887"
                          ],
                          [
                            0.1111111111111111,
                            "#46039f"
                          ],
                          [
                            0.2222222222222222,
                            "#7201a8"
                          ],
                          [
                            0.3333333333333333,
                            "#9c179e"
                          ],
                          [
                            0.4444444444444444,
                            "#bd3786"
                          ],
                          [
                            0.5555555555555556,
                            "#d8576b"
                          ],
                          [
                            0.6666666666666666,
                            "#ed7953"
                          ],
                          [
                            0.7777777777777778,
                            "#fb9f3a"
                          ],
                          [
                            0.8888888888888888,
                            "#fdca26"
                          ],
                          [
                            1,
                            "#f0f921"
                          ]
                        ],
                        "type": "histogram2d"
                      }
                    ],
                    "histogram2dcontour": [
                      {
                        "colorbar": {
                          "outlinewidth": 0,
                          "ticks": ""
                        },
                        "colorscale": [
                          [
                            0,
                            "#0d0887"
                          ],
                          [
                            0.1111111111111111,
                            "#46039f"
                          ],
                          [
                            0.2222222222222222,
                            "#7201a8"
                          ],
                          [
                            0.3333333333333333,
                            "#9c179e"
                          ],
                          [
                            0.4444444444444444,
                            "#bd3786"
                          ],
                          [
                            0.5555555555555556,
                            "#d8576b"
                          ],
                          [
                            0.6666666666666666,
                            "#ed7953"
                          ],
                          [
                            0.7777777777777778,
                            "#fb9f3a"
                          ],
                          [
                            0.8888888888888888,
                            "#fdca26"
                          ],
                          [
                            1,
                            "#f0f921"
                          ]
                        ],
                        "type": "histogram2dcontour"
                      }
                    ],
                    "mesh3d": [
                      {
                        "colorbar": {
                          "outlinewidth": 0,
                          "ticks": ""
                        },
                        "type": "mesh3d"
                      }
                    ],
                    "parcoords": [
                      {
                        "line": {
                          "colorbar": {
                            "outlinewidth": 0,
                            "ticks": ""
                          }
                        },
                        "type": "parcoords"
                      }
                    ],
                    "pie": [
                      {
                        "automargin": true,
                        "type": "pie"
                      }
                    ],
                    "scatter": [
                      {
                        "fillpattern": {
                          "fillmode": "overlay",
                          "size": 10,
                          "solidity": 0.2
                        },
                        "type": "scatter"
                      }
                    ],
                    "scatter3d": [
                      {
                        "line": {
                          "colorbar": {
                            "outlinewidth": 0,
                            "ticks": ""
                          }
                        },
                        "marker": {
                          "colorbar": {
                            "outlinewidth": 0,
                            "ticks": ""
                          }
                        },
                        "type": "scatter3d"
                      }
                    ],
                    "scattercarpet": [
                      {
                        "marker": {
                          "colorbar": {
                            "outlinewidth": 0,
                            "ticks": ""
                          }
                        },
                        "type": "scattercarpet"
                      }
                    ],
                    "scattergeo": [
                      {
                        "marker": {
                          "colorbar": {
                            "outlinewidth": 0,
                            "ticks": ""
                          }
                        },
                        "type": "scattergeo"
                      }
                    ],
                    "scattergl": [
                      {
                        "marker": {
                          "colorbar": {
                            "outlinewidth": 0,
                            "ticks": ""
                          }
                        },
                        "type": "scattergl"
                      }
                    ],
                    "scattermapbox": [
                      {
                        "marker": {
                          "colorbar": {
                            "outlinewidth": 0,
                            "ticks": ""
                          }
                        },
                        "type": "scattermapbox"
                      }
                    ],
                    "scatterpolar": [
                      {
                        "marker": {
                          "colorbar": {
                            "outlinewidth": 0,
                            "ticks": ""
                          }
                        },
                        "type": "scatterpolar"
                      }
                    ],
                    "scatterpolargl": [
                      {
                        "marker": {
                          "colorbar": {
                            "outlinewidth": 0,
                            "ticks": ""
                          }
                        },
                        "type": "scatterpolargl"
                      }
                    ],
                    "scatterternary": [
                      {
                        "marker": {
                          "colorbar": {
                            "outlinewidth": 0,
                            "ticks": ""
                          }
                        },
                        "type": "scatterternary"
                      }
                    ],
                    "surface": [
                      {
                        "colorbar": {
                          "outlinewidth": 0,
                          "ticks": ""
                        },
                        "colorscale": [
                          [
                            0,
                            "#0d0887"
                          ],
                          [
                            0.1111111111111111,
                            "#46039f"
                          ],
                          [
                            0.2222222222222222,
                            "#7201a8"
                          ],
                          [
                            0.3333333333333333,
                            "#9c179e"
                          ],
                          [
                            0.4444444444444444,
                            "#bd3786"
                          ],
                          [
                            0.5555555555555556,
                            "#d8576b"
                          ],
                          [
                            0.6666666666666666,
                            "#ed7953"
                          ],
                          [
                            0.7777777777777778,
                            "#fb9f3a"
                          ],
                          [
                            0.8888888888888888,
                            "#fdca26"
                          ],
                          [
                            1,
                            "#f0f921"
                          ]
                        ],
                        "type": "surface"
                      }
                    ],
                    "table": [
                      {
                        "cells": {
                          "fill": {
                            "color": "#EBF0F8"
                          },
                          "line": {
                            "color": "white"
                          }
                        },
                        "header": {
                          "fill": {
                            "color": "#C8D4E3"
                          },
                          "line": {
                            "color": "white"
                          }
                        },
                        "type": "table"
                      }
                    ]
                  },
                  "layout": {
                    "annotationdefaults": {
                      "arrowcolor": "#2a3f5f",
                      "arrowhead": 0,
                      "arrowwidth": 1
                    },
                    "autotypenumbers": "strict",
                    "coloraxis": {
                      "colorbar": {
                        "outlinewidth": 0,
                        "ticks": ""
                      }
                    },
                    "colorscale": {
                      "diverging": [
                        [
                          0,
                          "#8e0152"
                        ],
                        [
                          0.1,
                          "#c51b7d"
                        ],
                        [
                          0.2,
                          "#de77ae"
                        ],
                        [
                          0.3,
                          "#f1b6da"
                        ],
                        [
                          0.4,
                          "#fde0ef"
                        ],
                        [
                          0.5,
                          "#f7f7f7"
                        ],
                        [
                          0.6,
                          "#e6f5d0"
                        ],
                        [
                          0.7,
                          "#b8e186"
                        ],
                        [
                          0.8,
                          "#7fbc41"
                        ],
                        [
                          0.9,
                          "#4d9221"
                        ],
                        [
                          1,
                          "#276419"
                        ]
                      ],
                      "sequential": [
                        [
                          0,
                          "#0d0887"
                        ],
                        [
                          0.1111111111111111,
                          "#46039f"
                        ],
                        [
                          0.2222222222222222,
                          "#7201a8"
                        ],
                        [
                          0.3333333333333333,
                          "#9c179e"
                        ],
                        [
                          0.4444444444444444,
                          "#bd3786"
                        ],
                        [
                          0.5555555555555556,
                          "#d8576b"
                        ],
                        [
                          0.6666666666666666,
                          "#ed7953"
                        ],
                        [
                          0.7777777777777778,
                          "#fb9f3a"
                        ],
                        [
                          0.8888888888888888,
                          "#fdca26"
                        ],
                        [
                          1,
                          "#f0f921"
                        ]
                      ],
                      "sequentialminus": [
                        [
                          0,
                          "#0d0887"
                        ],
                        [
                          0.1111111111111111,
                          "#46039f"
                        ],
                        [
                          0.2222222222222222,
                          "#7201a8"
                        ],
                        [
                          0.3333333333333333,
                          "#9c179e"
                        ],
                        [
                          0.4444444444444444,
                          "#bd3786"
                        ],
                        [
                          0.5555555555555556,
                          "#d8576b"
                        ],
                        [
                          0.6666666666666666,
                          "#ed7953"
                        ],
                        [
                          0.7777777777777778,
                          "#fb9f3a"
                        ],
                        [
                          0.8888888888888888,
                          "#fdca26"
                        ],
                        [
                          1,
                          "#f0f921"
                        ]
                      ]
                    },
                    "colorway": [
                      "#636efa",
                      "#EF553B",
                      "#00cc96",
                      "#ab63fa",
                      "#FFA15A",
                      "#19d3f3",
                      "#FF6692",
                      "#B6E880",
                      "#FF97FF",
                      "#FECB52"
                    ],
                    "font": {
                      "color": "#2a3f5f"
                    },
                    "geo": {
                      "bgcolor": "white",
                      "lakecolor": "white",
                      "landcolor": "white",
                      "showlakes": true,
                      "showland": true,
                      "subunitcolor": "#C8D4E3"
                    },
                    "hoverlabel": {
                      "align": "left"
                    },
                    "hovermode": "closest",
                    "mapbox": {
                      "style": "light"
                    },
                    "paper_bgcolor": "white",
                    "plot_bgcolor": "white",
                    "polar": {
                      "angularaxis": {
                        "gridcolor": "#EBF0F8",
                        "linecolor": "#EBF0F8",
                        "ticks": ""
                      },
                      "bgcolor": "white",
                      "radialaxis": {
                        "gridcolor": "#EBF0F8",
                        "linecolor": "#EBF0F8",
                        "ticks": ""
                      }
                    },
                    "scene": {
                      "xaxis": {
                        "backgroundcolor": "white",
                        "gridcolor": "#DFE8F3",
                        "gridwidth": 2,
                        "linecolor": "#EBF0F8",
                        "showbackground": true,
                        "ticks": "",
                        "zerolinecolor": "#EBF0F8"
                      },
                      "yaxis": {
                        "backgroundcolor": "white",
                        "gridcolor": "#DFE8F3",
                        "gridwidth": 2,
                        "linecolor": "#EBF0F8",
                        "showbackground": true,
                        "ticks": "",
                        "zerolinecolor": "#EBF0F8"
                      },
                      "zaxis": {
                        "backgroundcolor": "white",
                        "gridcolor": "#DFE8F3",
                        "gridwidth": 2,
                        "linecolor": "#EBF0F8",
                        "showbackground": true,
                        "ticks": "",
                        "zerolinecolor": "#EBF0F8"
                      }
                    },
                    "shapedefaults": {
                      "line": {
                        "color": "#2a3f5f"
                      }
                    },
                    "ternary": {
                      "aaxis": {
                        "gridcolor": "#DFE8F3",
                        "linecolor": "#A2B1C6",
                        "ticks": ""
                      },
                      "baxis": {
                        "gridcolor": "#DFE8F3",
                        "linecolor": "#A2B1C6",
                        "ticks": ""
                      },
                      "bgcolor": "white",
                      "caxis": {
                        "gridcolor": "#DFE8F3",
                        "linecolor": "#A2B1C6",
                        "ticks": ""
                      }
                    },
                    "title": {
                      "x": 0.05
                    },
                    "xaxis": {
                      "automargin": true,
                      "gridcolor": "#EBF0F8",
                      "linecolor": "#EBF0F8",
                      "ticks": "",
                      "title": {
                        "standoff": 15
                      },
                      "zerolinecolor": "#EBF0F8",
                      "zerolinewidth": 2
                    },
                    "yaxis": {
                      "automargin": true,
                      "gridcolor": "#EBF0F8",
                      "linecolor": "#EBF0F8",
                      "ticks": "",
                      "title": {
                        "standoff": 15
                      },
                      "zerolinecolor": "#EBF0F8",
                      "zerolinewidth": 2
                    }
                  }
                },
                "uniformtext": {
                  "minsize": 8,
                  "mode": "hide"
                },
                "xaxis": {
                  "anchor": "y",
                  "domain": [
                    0,
                    1
                  ],
                  "title": {
                    "text": "x"
                  }
                },
                "yaxis": {
                  "anchor": "x",
                  "domain": [
                    0,
                    1
                  ],
                  "title": {
                    "text": "y"
                  }
                }
              }
            }
          },
          "metadata": {},
          "output_type": "display_data"
        }
      ],
      "source": [
        "plot_cities_and_route(points, edges)"
      ]
    },
    {
      "cell_type": "markdown",
      "metadata": {
        "id": "WPQbrkoQzQ8u"
      },
      "source": [
        "## Datos Reales"
      ]
    },
    {
      "cell_type": "markdown",
      "metadata": {},
      "source": [
        "Datos provenientes de: https://pmc.ncbi.nlm.nih.gov/articles/PMC5780421/"
      ]
    },
    {
      "cell_type": "code",
      "execution_count": null,
      "metadata": {
        "colab": {
          "base_uri": "https://localhost:8080/"
        },
        "id": "Wk8ETU_qzUyx",
        "outputId": "b3c4af38-4936-43bd-d085-be452546984d"
      },
      "outputs": [],
      "source": [
        "!pip3 install geopandas==1.0\n",
        "!pip3 install openpyxl"
      ]
    },
    {
      "cell_type": "code",
      "execution_count": 22,
      "metadata": {
        "id": "-fbu8seXzgSR"
      },
      "outputs": [],
      "source": [
        "import geopandas as gpd\n",
        "from shapely.geometry import Point"
      ]
    },
    {
      "cell_type": "code",
      "execution_count": 23,
      "metadata": {
        "colab": {
          "base_uri": "https://localhost:8080/",
          "height": 223
        },
        "id": "Hv0oWmMgzjUi",
        "outputId": "f10d4981-5cda-4fb0-859c-f8745c2e8d49"
      },
      "outputs": [
        {
          "name": "stdout",
          "output_type": "stream",
          "text": [
            "(593, 9)\n"
          ]
        },
        {
          "data": {
            "text/html": [
              "<div>\n",
              "<style scoped>\n",
              "    .dataframe tbody tr th:only-of-type {\n",
              "        vertical-align: middle;\n",
              "    }\n",
              "\n",
              "    .dataframe tbody tr th {\n",
              "        vertical-align: top;\n",
              "    }\n",
              "\n",
              "    .dataframe thead th {\n",
              "        text-align: right;\n",
              "    }\n",
              "</style>\n",
              "<table border=\"1\" class=\"dataframe\">\n",
              "  <thead>\n",
              "    <tr style=\"text-align: right;\">\n",
              "      <th></th>\n",
              "      <th>Number of positive case</th>\n",
              "      <th>Total number of sample</th>\n",
              "      <th>Latitude</th>\n",
              "      <th>Longitude</th>\n",
              "      <th>Time index</th>\n",
              "      <th>Intercept</th>\n",
              "      <th>Temperature</th>\n",
              "      <th>Precipitation</th>\n",
              "      <th>Relative humidity</th>\n",
              "    </tr>\n",
              "  </thead>\n",
              "  <tbody>\n",
              "    <tr>\n",
              "      <th>0</th>\n",
              "      <td>0</td>\n",
              "      <td>136</td>\n",
              "      <td>46.12</td>\n",
              "      <td>14.82</td>\n",
              "      <td>22</td>\n",
              "      <td>1</td>\n",
              "      <td>9.8</td>\n",
              "      <td>133.0</td>\n",
              "      <td>0.833607</td>\n",
              "    </tr>\n",
              "    <tr>\n",
              "      <th>1</th>\n",
              "      <td>0</td>\n",
              "      <td>143</td>\n",
              "      <td>46.12</td>\n",
              "      <td>14.82</td>\n",
              "      <td>23</td>\n",
              "      <td>1</td>\n",
              "      <td>2.9</td>\n",
              "      <td>1.0</td>\n",
              "      <td>0.917059</td>\n",
              "    </tr>\n",
              "    <tr>\n",
              "      <th>2</th>\n",
              "      <td>3</td>\n",
              "      <td>185</td>\n",
              "      <td>46.12</td>\n",
              "      <td>14.82</td>\n",
              "      <td>24</td>\n",
              "      <td>1</td>\n",
              "      <td>1.9</td>\n",
              "      <td>56.7</td>\n",
              "      <td>0.856400</td>\n",
              "    </tr>\n",
              "    <tr>\n",
              "      <th>3</th>\n",
              "      <td>27</td>\n",
              "      <td>170</td>\n",
              "      <td>46.12</td>\n",
              "      <td>14.82</td>\n",
              "      <td>25</td>\n",
              "      <td>1</td>\n",
              "      <td>0.8</td>\n",
              "      <td>26.5</td>\n",
              "      <td>0.679756</td>\n",
              "    </tr>\n",
              "    <tr>\n",
              "      <th>4</th>\n",
              "      <td>135</td>\n",
              "      <td>283</td>\n",
              "      <td>46.12</td>\n",
              "      <td>14.82</td>\n",
              "      <td>26</td>\n",
              "      <td>1</td>\n",
              "      <td>-2.5</td>\n",
              "      <td>35.4</td>\n",
              "      <td>0.767403</td>\n",
              "    </tr>\n",
              "  </tbody>\n",
              "</table>\n",
              "</div>"
            ],
            "text/plain": [
              "   Number of positive case  Total number of sample  Latitude  Longitude  \\\n",
              "0                        0                     136     46.12      14.82   \n",
              "1                        0                     143     46.12      14.82   \n",
              "2                        3                     185     46.12      14.82   \n",
              "3                       27                     170     46.12      14.82   \n",
              "4                      135                     283     46.12      14.82   \n",
              "\n",
              "   Time index  Intercept  Temperature  Precipitation  Relative humidity  \n",
              "0          22          1          9.8          133.0           0.833607  \n",
              "1          23          1          2.9            1.0           0.917059  \n",
              "2          24          1          1.9           56.7           0.856400  \n",
              "3          25          1          0.8           26.5           0.679756  \n",
              "4          26          1         -2.5           35.4           0.767403  "
            ]
          },
          "execution_count": 23,
          "metadata": {},
          "output_type": "execute_result"
        }
      ],
      "source": [
        "#import data from file\n",
        "ruta = '41598_2018_19772_MOESM3_ESM.xlsx'\n",
        "data = pd.read_excel(ruta)\n",
        "print(data.shape)\n",
        "data.head()"
      ]
    },
    {
      "cell_type": "code",
      "execution_count": 39,
      "metadata": {
        "colab": {
          "base_uri": "https://localhost:8080/",
          "height": 1000
        },
        "id": "fs4EJoaQzm_v",
        "outputId": "260262fb-cce7-474d-de99-4d92895f50fc"
      },
      "outputs": [
        {
          "name": "stderr",
          "output_type": "stream",
          "text": [
            "/Users/pedrom2/Library/Python/3.9/lib/python/site-packages/pyproj/crs/crs.py:141: FutureWarning:\n",
            "\n",
            "'+init=<authority>:<code>' syntax is deprecated. '<authority>:<code>' is the preferred initialization method. When making the change, be mindful of axis order changes: https://pyproj4.github.io/pyproj/stable/gotchas.html#axis-order-changes-in-proj-6\n",
            "\n"
          ]
        },
        {
          "data": {
            "text/plain": [
              "(-25.0, 150.0)"
            ]
          },
          "execution_count": 39,
          "metadata": {},
          "output_type": "execute_result"
        },
        {
          "data": {
            "image/png": "[encoded data removed]",
            "text/plain": [
              "<Figure size 1500x1500 with 1 Axes>"
            ]
          },
          "metadata": {},
          "output_type": "display_data"
        }
      ],
      "source": [
        "geometry = [Point(xy) for xy in zip(data['Longitude'],data['Latitude'])]\n",
        "crs = {'init' : 'epsg:4326'}\n",
        "geo_df = gpd.GeoDataFrame(data, crs = crs, geometry = geometry)\n",
        "\n",
        "url = \"https://naciscdn.org/naturalearth/110m/cultural/ne_110m_admin_0_countries.zip\"\n",
        "world = gpd.read_file(url)\n",
        "\n",
        "fig , ax = plt.subplots(figsize=(15,15))\n",
        "world.plot(ax=ax, alpha=0.8)\n",
        "geo_df[geo_df['Longitude'] > 90 ].plot(ax=ax, marker='o', color='red', markersize=50);\n",
        "geo_df[geo_df['Longitude'] <= 90 ].plot(ax=ax, marker='o', color='green', markersize=50);\n",
        "plt.xlim(-25,150)"
      ]
    },
    {
      "cell_type": "code",
      "execution_count": 25,
      "metadata": {
        "id": "3lYqrUGlz4x0"
      },
      "outputs": [],
      "source": [
        "def Haversine(A,B):\n",
        "    \"\"\"\n",
        "    This uses the ‘haversine’ formula to calculate the great-circle distance between two points – that is,\n",
        "    the shortest distance over the earth’s surface – giving an ‘as-the-crow-flies’ distance between the points\n",
        "    (ignoring any hills they fly over, of course!).\n",
        "    Haversine\n",
        "    formula:    a = sin²(Δφ/2) + cos φ1 ⋅ cos φ2 ⋅ sin²(Δλ/2)\n",
        "    c = 2 ⋅ atan2( √a, √(1−a) )\n",
        "    d = R ⋅ c\n",
        "    where   φ is latitude, λ is longitude, R is earth’s radius (mean radius = 6,371km);\n",
        "    note that angles need to be in radians to pass to trig functions!\n",
        "    \"\"\"\n",
        "    lat1,lon1,lat2,lon2 = A[0],A[1],B[0],B[1]\n",
        "\n",
        "    R = 6378.0088\n",
        "    lat1,lon1,lat2,lon2 = map(np.radians, [lat1,lon1,lat2,lon2])\n",
        "\n",
        "    dlat = lat2 - lat1\n",
        "    dlon = lon2 - lon1\n",
        "    a = np.sin(dlat/2)**2 + np.cos(lat1) * np.cos(lat2) * np.sin(dlon/2) **2\n",
        "    c = 2 * np.arctan2(a**0.5, (1-a)**0.5)\n",
        "    d = R * c\n",
        "    return round(d,4)"
      ]
    },
    {
      "cell_type": "code",
      "execution_count": 26,
      "metadata": {
        "colab": {
          "base_uri": "https://localhost:8080/"
        },
        "id": "1lYDS9ir0Iy1",
        "outputId": "900c0214-8ef5-4fa7-e740-52829a54188c"
      },
      "outputs": [
        {
          "name": "stdout",
          "output_type": "stream",
          "text": [
            "16\n",
            "               x      y\n",
            "ciudad_0   46.12  14.82\n",
            "ciudad_1   48.67  19.50\n",
            "ciudad_2   52.00  20.00\n",
            "ciudad_3   47.33  13.33\n",
            "ciudad_4   50.83   4.00\n",
            "ciudad_5   44.00  18.00\n",
            "ciudad_6   51.00   9.00\n",
            "ciudad_7   46.00   2.00\n",
            "ciudad_8   52.50   5.75\n",
            "ciudad_9   49.75  15.50\n",
            "ciudad_10  45.17  15.50\n",
            "ciudad_11  49.75   6.17\n",
            "ciudad_12  46.00  25.00\n",
            "ciudad_13  47.00  20.00\n",
            "ciudad_14  42.83  12.83\n",
            "ciudad_15  54.00  -2.00\n"
          ]
        }
      ],
      "source": [
        "location = data[['Latitude','Longitude']].drop_duplicates(subset=['Latitude','Longitude'])\n",
        "location = location[location['Longitude'] <= 90].copy()\n",
        "location.columns = ['x', 'y']\n",
        "n = location.shape[0] #number of locations\n",
        "print(n)\n",
        "location.index = [f'ciudad_{i}' for i in range(n)]\n",
        "print(location)"
      ]
    },
    {
      "cell_type": "code",
      "execution_count": 27,
      "metadata": {
        "colab": {
          "base_uri": "https://localhost:8080/"
        },
        "id": "kXrS_qzV1jT6",
        "outputId": "6ade94d0-db9a-45ef-8505-60b8435068ce"
      },
      "outputs": [
        {
          "name": "stderr",
          "output_type": "stream",
          "text": [
            "/var/folders/_2/ssn9p4gn1zq96vptrk6db0940000gn/T/ipykernel_9476/2772611435.py:2: FutureWarning:\n",
            "\n",
            "Series.__getitem__ treating keys as positions is deprecated. In a future version, integer keys will always be treated as labels (consistent with DataFrame behavior). To access a value by position, use `ser.iloc[pos]`\n",
            "\n"
          ]
        },
        {
          "data": {
            "text/plain": [
              "[[(46.12, 14.82),\n",
              "  (47.394999999999996, 17.16),\n",
              "  (49.06, 17.41),\n",
              "  (46.724999999999994, 14.075),\n",
              "  (48.474999999999994, 9.41),\n",
              "  (45.06, 16.41),\n",
              "  (48.56, 11.91),\n",
              "  (46.06, 8.41),\n",
              "  (49.31, 10.285),\n",
              "  (47.935, 15.16),\n",
              "  (45.644999999999996, 15.16),\n",
              "  (47.935, 10.495000000000001),\n",
              "  (46.06, 19.91),\n",
              "  (46.56, 17.41),\n",
              "  (44.474999999999994, 13.825),\n",
              "  (50.06, 6.41)],\n",
              " [(47.394999999999996, 17.16),\n",
              "  (48.67, 19.5),\n",
              "  (50.335, 19.75),\n",
              "  (48.0, 16.415),\n",
              "  (49.75, 11.75),\n",
              "  (46.335, 18.75),\n",
              "  (49.835, 14.25),\n",
              "  (47.335, 10.75),\n",
              "  (50.585, 12.625),\n",
              "  (49.21, 17.5),\n",
              "  (46.92, 17.5),\n",
              "  (49.21, 12.835),\n",
              "  (47.335, 22.25),\n",
              "  (47.835, 19.75),\n",
              "  (45.75, 16.165),\n",
              "  (51.335, 8.75)],\n",
              " [(49.06, 17.41),\n",
              "  (50.335, 19.75),\n",
              "  (52.0, 20.0),\n",
              "  (49.665, 16.665),\n",
              "  (51.415, 12.0),\n",
              "  (48.0, 19.0),\n",
              "  (51.5, 14.5),\n",
              "  (49.0, 11.0),\n",
              "  (52.25, 12.875),\n",
              "  (50.875, 17.75),\n",
              "  (48.585, 17.75),\n",
              "  (50.875, 13.085),\n",
              "  (49.0, 22.5),\n",
              "  (49.5, 20.0),\n",
              "  (47.415, 16.415),\n",
              "  (53.0, 9.0)],\n",
              " [(46.724999999999994, 14.075),\n",
              "  (48.0, 16.415),\n",
              "  (49.665, 16.665),\n",
              "  (47.33, 13.33),\n",
              "  (49.08, 8.665),\n",
              "  (45.665, 15.665),\n",
              "  (49.165, 11.165),\n",
              "  (46.665, 7.665),\n",
              "  (49.915, 9.54),\n",
              "  (48.54, 14.415),\n",
              "  (46.25, 14.415),\n",
              "  (48.54, 9.75),\n",
              "  (46.665, 19.165),\n",
              "  (47.165, 16.665),\n",
              "  (45.08, 13.08),\n",
              "  (50.665, 5.665)],\n",
              " [(48.474999999999994, 9.41),\n",
              "  (49.75, 11.75),\n",
              "  (51.415, 12.0),\n",
              "  (49.08, 8.665),\n",
              "  (50.83, 4.0),\n",
              "  (47.415, 11.0),\n",
              "  (50.915, 6.5),\n",
              "  (48.415, 3.0),\n",
              "  (51.665, 4.875),\n",
              "  (50.29, 9.75),\n",
              "  (48.0, 9.75),\n",
              "  (50.29, 5.085),\n",
              "  (48.415, 14.5),\n",
              "  (48.915, 12.0),\n",
              "  (46.83, 8.415),\n",
              "  (52.415, 1.0)],\n",
              " [(45.06, 16.41),\n",
              "  (46.335, 18.75),\n",
              "  (48.0, 19.0),\n",
              "  (45.665, 15.665),\n",
              "  (47.415, 11.0),\n",
              "  (44.0, 18.0),\n",
              "  (47.5, 13.5),\n",
              "  (45.0, 10.0),\n",
              "  (48.25, 11.875),\n",
              "  (46.875, 16.75),\n",
              "  (44.585, 16.75),\n",
              "  (46.875, 12.085),\n",
              "  (45.0, 21.5),\n",
              "  (45.5, 19.0),\n",
              "  (43.415, 15.415),\n",
              "  (49.0, 8.0)],\n",
              " [(48.56, 11.91),\n",
              "  (49.835, 14.25),\n",
              "  (51.5, 14.5),\n",
              "  (49.165, 11.165),\n",
              "  (50.915, 6.5),\n",
              "  (47.5, 13.5),\n",
              "  (51.0, 9.0),\n",
              "  (48.5, 5.5),\n",
              "  (51.75, 7.375),\n",
              "  (50.375, 12.25),\n",
              "  (48.085, 12.25),\n",
              "  (50.375, 7.585),\n",
              "  (48.5, 17.0),\n",
              "  (49.0, 14.5),\n",
              "  (46.915, 10.915),\n",
              "  (52.5, 3.5)],\n",
              " [(46.06, 8.41),\n",
              "  (47.335, 10.75),\n",
              "  (49.0, 11.0),\n",
              "  (46.665, 7.665),\n",
              "  (48.415, 3.0),\n",
              "  (45.0, 10.0),\n",
              "  (48.5, 5.5),\n",
              "  (46.0, 2.0),\n",
              "  (49.25, 3.875),\n",
              "  (47.875, 8.75),\n",
              "  (45.585, 8.75),\n",
              "  (47.875, 4.085),\n",
              "  (46.0, 13.5),\n",
              "  (46.5, 11.0),\n",
              "  (44.415, 7.415),\n",
              "  (50.0, 0.0)],\n",
              " [(49.31, 10.285),\n",
              "  (50.585, 12.625),\n",
              "  (52.25, 12.875),\n",
              "  (49.915, 9.54),\n",
              "  (51.665, 4.875),\n",
              "  (48.25, 11.875),\n",
              "  (51.75, 7.375),\n",
              "  (49.25, 3.875),\n",
              "  (52.5, 5.75),\n",
              "  (51.125, 10.625),\n",
              "  (48.835, 10.625),\n",
              "  (51.125, 5.96),\n",
              "  (49.25, 15.375),\n",
              "  (49.75, 12.875),\n",
              "  (47.665, 9.29),\n",
              "  (53.25, 1.875)],\n",
              " [(47.935, 15.16),\n",
              "  (49.21, 17.5),\n",
              "  (50.875, 17.75),\n",
              "  (48.54, 14.415),\n",
              "  (50.29, 9.75),\n",
              "  (46.875, 16.75),\n",
              "  (50.375, 12.25),\n",
              "  (47.875, 8.75),\n",
              "  (51.125, 10.625),\n",
              "  (49.75, 15.5),\n",
              "  (47.46, 15.5),\n",
              "  (49.75, 10.835),\n",
              "  (47.875, 20.25),\n",
              "  (48.375, 17.75),\n",
              "  (46.29, 14.165),\n",
              "  (51.875, 6.75)],\n",
              " [(45.644999999999996, 15.16),\n",
              "  (46.92, 17.5),\n",
              "  (48.585, 17.75),\n",
              "  (46.25, 14.415),\n",
              "  (48.0, 9.75),\n",
              "  (44.585, 16.75),\n",
              "  (48.085, 12.25),\n",
              "  (45.585, 8.75),\n",
              "  (48.835, 10.625),\n",
              "  (47.46, 15.5),\n",
              "  (45.17, 15.5),\n",
              "  (47.46, 10.835),\n",
              "  (45.585, 20.25),\n",
              "  (46.085, 17.75),\n",
              "  (44.0, 14.165),\n",
              "  (49.585, 6.75)],\n",
              " [(47.935, 10.495000000000001),\n",
              "  (49.21, 12.835),\n",
              "  (50.875, 13.085),\n",
              "  (48.54, 9.75),\n",
              "  (50.29, 5.085),\n",
              "  (46.875, 12.085),\n",
              "  (50.375, 7.585),\n",
              "  (47.875, 4.085),\n",
              "  (51.125, 5.96),\n",
              "  (49.75, 10.835),\n",
              "  (47.46, 10.835),\n",
              "  (49.75, 6.17),\n",
              "  (47.875, 15.585),\n",
              "  (48.375, 13.085),\n",
              "  (46.29, 9.5),\n",
              "  (51.875, 2.085)],\n",
              " [(46.06, 19.91),\n",
              "  (47.335, 22.25),\n",
              "  (49.0, 22.5),\n",
              "  (46.665, 19.165),\n",
              "  (48.415, 14.5),\n",
              "  (45.0, 21.5),\n",
              "  (48.5, 17.0),\n",
              "  (46.0, 13.5),\n",
              "  (49.25, 15.375),\n",
              "  (47.875, 20.25),\n",
              "  (45.585, 20.25),\n",
              "  (47.875, 15.585),\n",
              "  (46.0, 25.0),\n",
              "  (46.5, 22.5),\n",
              "  (44.415, 18.915),\n",
              "  (50.0, 11.5)],\n",
              " [(46.56, 17.41),\n",
              "  (47.835, 19.75),\n",
              "  (49.5, 20.0),\n",
              "  (47.165, 16.665),\n",
              "  (48.915, 12.0),\n",
              "  (45.5, 19.0),\n",
              "  (49.0, 14.5),\n",
              "  (46.5, 11.0),\n",
              "  (49.75, 12.875),\n",
              "  (48.375, 17.75),\n",
              "  (46.085, 17.75),\n",
              "  (48.375, 13.085),\n",
              "  (46.5, 22.5),\n",
              "  (47.0, 20.0),\n",
              "  (44.915, 16.415),\n",
              "  (50.5, 9.0)],\n",
              " [(44.474999999999994, 13.825),\n",
              "  (45.75, 16.165),\n",
              "  (47.415, 16.415),\n",
              "  (45.08, 13.08),\n",
              "  (46.83, 8.415),\n",
              "  (43.415, 15.415),\n",
              "  (46.915, 10.915),\n",
              "  (44.415, 7.415),\n",
              "  (47.665, 9.29),\n",
              "  (46.29, 14.165),\n",
              "  (44.0, 14.165),\n",
              "  (46.29, 9.5),\n",
              "  (44.415, 18.915),\n",
              "  (44.915, 16.415),\n",
              "  (42.83, 12.83),\n",
              "  (48.415, 5.415)],\n",
              " [(50.06, 6.41),\n",
              "  (51.335, 8.75),\n",
              "  (53.0, 9.0),\n",
              "  (50.665, 5.665),\n",
              "  (52.415, 1.0),\n",
              "  (49.0, 8.0),\n",
              "  (52.5, 3.5),\n",
              "  (50.0, 0.0),\n",
              "  (53.25, 1.875),\n",
              "  (51.875, 6.75),\n",
              "  (49.585, 6.75),\n",
              "  (51.875, 2.085),\n",
              "  (50.0, 11.5),\n",
              "  (50.5, 9.0),\n",
              "  (48.415, 5.415),\n",
              "  (54.0, -2.0)]]"
            ]
          },
          "execution_count": 27,
          "metadata": {},
          "output_type": "execute_result"
        }
      ],
      "source": [
        "mid_points = get_middle_points(location)\n",
        "mid_points"
      ]
    },
    {
      "cell_type": "code",
      "execution_count": 28,
      "metadata": {
        "colab": {
          "base_uri": "https://localhost:8080/"
        },
        "id": "aP4pSvEd1plW",
        "outputId": "2dcfb783-c0f6-4c4d-9dc9-3c0c8a5a215e"
      },
      "outputs": [
        {
          "name": "stderr",
          "output_type": "stream",
          "text": [
            "/var/folders/_2/ssn9p4gn1zq96vptrk6db0940000gn/T/ipykernel_9476/4227549280.py:13: FutureWarning:\n",
            "\n",
            "Series.__getitem__ treating keys as positions is deprecated. In a future version, integer keys will always be treated as labels (consistent with DataFrame behavior). To access a value by position, use `ser.iloc[pos]`\n",
            "\n"
          ]
        },
        {
          "data": {
            "text/plain": [
              "array([[   0.    ,  452.5656,  755.324 ,  176.2595,  953.7728],\n",
              "       [ 452.5656,    0.    ,  372.3824,  483.015 , 1138.1928],\n",
              "       [ 755.324 ,  372.3824,    0.    ,  707.3821, 1116.1166],\n",
              "       [ 176.2595,  483.015 ,  707.3821,    0.    ,  783.1196],\n",
              "       [ 953.7728, 1138.1928, 1116.1166,  783.1196,    0.    ]])"
            ]
          },
          "execution_count": 28,
          "metadata": {},
          "output_type": "execute_result"
        }
      ],
      "source": [
        "d = np.zeros((n,n))  # Distancia entre las ciudades\n",
        "for i in range(n):\n",
        "  for j in range(n):\n",
        "    d[i,j] = Haversine(location.iloc[i], location.iloc[j])\n",
        "\n",
        "d[:5, :5]"
      ]
    },
    {
      "cell_type": "markdown",
      "metadata": {
        "id": "zApQ8Nj22npC"
      },
      "source": [
        "## Visualización de los datos"
      ]
    },
    {
      "cell_type": "code",
      "execution_count": 29,
      "metadata": {
        "colab": {
          "base_uri": "https://localhost:8080/",
          "height": 542
        },
        "id": "Q-2iFhHq2vNi",
        "outputId": "6a267cd9-f7e4-436d-f123-3b5dcb1072b5"
      },
      "outputs": [
        {
          "data": {
            "application/vnd.plotly.v1+json": {
              "config": {
                "plotlyServerURL": "https://plot.ly"
              },
              "data": [
                {
                  "hovertemplate": "<b>%{hovertext}</b><br><br>x=%{x}<br>y=%{y}<extra></extra>",
                  "hovertext": [
                    "ciudad_0",
                    "ciudad_1",
                    "ciudad_2",
                    "ciudad_3",
                    "ciudad_4",
                    "ciudad_5",
                    "ciudad_6",
                    "ciudad_7",
                    "ciudad_8",
                    "ciudad_9",
                    "ciudad_10",
                    "ciudad_11",
                    "ciudad_12",
                    "ciudad_13",
                    "ciudad_14",
                    "ciudad_15"
                  ],
                  "legendgroup": "",
                  "marker": {
                    "color": "#636efa",
                    "line": {
                      "color": "DarkSlateGrey",
                      "width": 2
                    },
                    "size": 15,
                    "symbol": "circle"
                  },
                  "mode": "markers",
                  "name": "",
                  "orientation": "v",
                  "showlegend": false,
                  "textposition": "top right",
                  "texttemplate": "%{text:.2s}",
                  "type": "scatter",
                  "x": [
                    46.12,
                    48.67,
                    52,
                    47.33,
                    50.83,
                    44,
                    51,
                    46,
                    52.5,
                    49.75,
                    45.17,
                    49.75,
                    46,
                    47,
                    42.83,
                    54
                  ],
                  "xaxis": "x",
                  "y": [
                    14.82,
                    19.5,
                    20,
                    13.33,
                    4,
                    18,
                    9,
                    2,
                    5.75,
                    15.5,
                    15.5,
                    6.17,
                    25,
                    20,
                    12.83,
                    -2
                  ],
                  "yaxis": "y"
                },
                {
                  "mode": "text",
                  "text": [
                    "0.0"
                  ],
                  "textposition": "top right",
                  "texttemplate": "%{text:.2s}",
                  "type": "scatter",
                  "x": [
                    46.12
                  ],
                  "y": [
                    14.82
                  ]
                },
                {
                  "mode": "text",
                  "text": [
                    "452.5656"
                  ],
                  "textposition": "top right",
                  "texttemplate": "%{text:.2s}",
                  "type": "scatter",
                  "x": [
                    47.394999999999996
                  ],
                  "y": [
                    17.16
                  ]
                },
                {
                  "mode": "text",
                  "text": [
                    "755.324"
                  ],
                  "textposition": "top right",
                  "texttemplate": "%{text:.2s}",
                  "type": "scatter",
                  "x": [
                    49.06
                  ],
                  "y": [
                    17.41
                  ]
                },
                {
                  "mode": "text",
                  "text": [
                    "176.2595"
                  ],
                  "textposition": "top right",
                  "texttemplate": "%{text:.2s}",
                  "type": "scatter",
                  "x": [
                    46.724999999999994
                  ],
                  "y": [
                    14.075
                  ]
                },
                {
                  "mode": "text",
                  "text": [
                    "953.7728"
                  ],
                  "textposition": "top right",
                  "texttemplate": "%{text:.2s}",
                  "type": "scatter",
                  "x": [
                    48.474999999999994
                  ],
                  "y": [
                    9.41
                  ]
                },
                {
                  "mode": "text",
                  "text": [
                    "343.7712"
                  ],
                  "textposition": "top right",
                  "texttemplate": "%{text:.2s}",
                  "type": "scatter",
                  "x": [
                    45.06
                  ],
                  "y": [
                    16.41
                  ]
                },
                {
                  "mode": "text",
                  "text": [
                    "691.6083"
                  ],
                  "textposition": "top right",
                  "texttemplate": "%{text:.2s}",
                  "type": "scatter",
                  "x": [
                    48.56
                  ],
                  "y": [
                    11.91
                  ]
                },
                {
                  "mode": "text",
                  "text": [
                    "989.2786"
                  ],
                  "textposition": "top right",
                  "texttemplate": "%{text:.2s}",
                  "type": "scatter",
                  "x": [
                    46.06
                  ],
                  "y": [
                    8.41
                  ]
                },
                {
                  "mode": "text",
                  "text": [
                    "966.9047"
                  ],
                  "textposition": "top right",
                  "texttemplate": "%{text:.2s}",
                  "type": "scatter",
                  "x": [
                    49.31
                  ],
                  "y": [
                    10.285
                  ]
                },
                {
                  "mode": "text",
                  "text": [
                    "407.2467"
                  ],
                  "textposition": "top right",
                  "texttemplate": "%{text:.2s}",
                  "type": "scatter",
                  "x": [
                    47.935
                  ],
                  "y": [
                    15.16
                  ]
                },
                {
                  "mode": "text",
                  "text": [
                    "118.2518"
                  ],
                  "textposition": "top right",
                  "texttemplate": "%{text:.2s}",
                  "type": "scatter",
                  "x": [
                    45.644999999999996
                  ],
                  "y": [
                    15.16
                  ]
                },
                {
                  "mode": "text",
                  "text": [
                    "760.5034"
                  ],
                  "textposition": "top right",
                  "texttemplate": "%{text:.2s}",
                  "type": "scatter",
                  "x": [
                    47.935
                  ],
                  "y": [
                    10.495000000000001
                  ]
                },
                {
                  "mode": "text",
                  "text": [
                    "785.9154"
                  ],
                  "textposition": "top right",
                  "texttemplate": "%{text:.2s}",
                  "type": "scatter",
                  "x": [
                    46.06
                  ],
                  "y": [
                    19.91
                  ]
                },
                {
                  "mode": "text",
                  "text": [
                    "408.3197"
                  ],
                  "textposition": "top right",
                  "texttemplate": "%{text:.2s}",
                  "type": "scatter",
                  "x": [
                    46.56
                  ],
                  "y": [
                    17.41
                  ]
                },
                {
                  "mode": "text",
                  "text": [
                    "398.8542"
                  ],
                  "textposition": "top right",
                  "texttemplate": "%{text:.2s}",
                  "type": "scatter",
                  "x": [
                    44.474999999999994
                  ],
                  "y": [
                    13.825
                  ]
                },
                {
                  "mode": "text",
                  "text": [
                    "1481.9511"
                  ],
                  "textposition": "top right",
                  "texttemplate": "%{text:.2s}",
                  "type": "scatter",
                  "x": [
                    50.06
                  ],
                  "y": [
                    6.41
                  ]
                },
                {
                  "mode": "text",
                  "text": [
                    "452.5656"
                  ],
                  "textposition": "top right",
                  "texttemplate": "%{text:.2s}",
                  "type": "scatter",
                  "x": [
                    47.394999999999996
                  ],
                  "y": [
                    17.16
                  ]
                },
                {
                  "mode": "text",
                  "text": [
                    "0.0"
                  ],
                  "textposition": "top right",
                  "texttemplate": "%{text:.2s}",
                  "type": "scatter",
                  "x": [
                    48.67
                  ],
                  "y": [
                    19.5
                  ]
                },
                {
                  "mode": "text",
                  "text": [
                    "372.3824"
                  ],
                  "textposition": "top right",
                  "texttemplate": "%{text:.2s}",
                  "type": "scatter",
                  "x": [
                    50.335
                  ],
                  "y": [
                    19.75
                  ]
                },
                {
                  "mode": "text",
                  "text": [
                    "483.015"
                  ],
                  "textposition": "top right",
                  "texttemplate": "%{text:.2s}",
                  "type": "scatter",
                  "x": [
                    48
                  ],
                  "y": [
                    16.415
                  ]
                },
                {
                  "mode": "text",
                  "text": [
                    "1138.1928"
                  ],
                  "textposition": "top right",
                  "texttemplate": "%{text:.2s}",
                  "type": "scatter",
                  "x": [
                    49.75
                  ],
                  "y": [
                    11.75
                  ]
                },
                {
                  "mode": "text",
                  "text": [
                    "532.4516"
                  ],
                  "textposition": "top right",
                  "texttemplate": "%{text:.2s}",
                  "type": "scatter",
                  "x": [
                    46.335
                  ],
                  "y": [
                    18.75
                  ]
                },
                {
                  "mode": "text",
                  "text": [
                    "796.4159"
                  ],
                  "textposition": "top right",
                  "texttemplate": "%{text:.2s}",
                  "type": "scatter",
                  "x": [
                    49.835
                  ],
                  "y": [
                    14.25
                  ]
                },
                {
                  "mode": "text",
                  "text": [
                    "1350.0124"
                  ],
                  "textposition": "top right",
                  "texttemplate": "%{text:.2s}",
                  "type": "scatter",
                  "x": [
                    47.335
                  ],
                  "y": [
                    10.75
                  ]
                },
                {
                  "mode": "text",
                  "text": [
                    "1059.063"
                  ],
                  "textposition": "top right",
                  "texttemplate": "%{text:.2s}",
                  "type": "scatter",
                  "x": [
                    50.585
                  ],
                  "y": [
                    12.625
                  ]
                },
                {
                  "mode": "text",
                  "text": [
                    "314.7025"
                  ],
                  "textposition": "top right",
                  "texttemplate": "%{text:.2s}",
                  "type": "scatter",
                  "x": [
                    49.21
                  ],
                  "y": [
                    17.5
                  ]
                },
                {
                  "mode": "text",
                  "text": [
                    "494.1073"
                  ],
                  "textposition": "top right",
                  "texttemplate": "%{text:.2s}",
                  "type": "scatter",
                  "x": [
                    46.92
                  ],
                  "y": [
                    17.5
                  ]
                },
                {
                  "mode": "text",
                  "text": [
                    "975.4968"
                  ],
                  "textposition": "top right",
                  "texttemplate": "%{text:.2s}",
                  "type": "scatter",
                  "x": [
                    49.21
                  ],
                  "y": [
                    12.835
                  ]
                },
                {
                  "mode": "text",
                  "text": [
                    "510.1842"
                  ],
                  "textposition": "top right",
                  "texttemplate": "%{text:.2s}",
                  "type": "scatter",
                  "x": [
                    47.335
                  ],
                  "y": [
                    22.25
                  ]
                },
                {
                  "mode": "text",
                  "text": [
                    "189.6159"
                  ],
                  "textposition": "top right",
                  "texttemplate": "%{text:.2s}",
                  "type": "scatter",
                  "x": [
                    47.835
                  ],
                  "y": [
                    19.75
                  ]
                },
                {
                  "mode": "text",
                  "text": [
                    "830.6171"
                  ],
                  "textposition": "top right",
                  "texttemplate": "%{text:.2s}",
                  "type": "scatter",
                  "x": [
                    45.75
                  ],
                  "y": [
                    16.165
                  ]
                },
                {
                  "mode": "text",
                  "text": [
                    "1600.8334"
                  ],
                  "textposition": "top right",
                  "texttemplate": "%{text:.2s}",
                  "type": "scatter",
                  "x": [
                    51.335
                  ],
                  "y": [
                    8.75
                  ]
                },
                {
                  "mode": "text",
                  "text": [
                    "755.324"
                  ],
                  "textposition": "top right",
                  "texttemplate": "%{text:.2s}",
                  "type": "scatter",
                  "x": [
                    49.06
                  ],
                  "y": [
                    17.41
                  ]
                },
                {
                  "mode": "text",
                  "text": [
                    "372.3824"
                  ],
                  "textposition": "top right",
                  "texttemplate": "%{text:.2s}",
                  "type": "scatter",
                  "x": [
                    50.335
                  ],
                  "y": [
                    19.75
                  ]
                },
                {
                  "mode": "text",
                  "text": [
                    "0.0"
                  ],
                  "textposition": "top right",
                  "texttemplate": "%{text:.2s}",
                  "type": "scatter",
                  "x": [
                    52
                  ],
                  "y": [
                    20
                  ]
                },
                {
                  "mode": "text",
                  "text": [
                    "707.3821"
                  ],
                  "textposition": "top right",
                  "texttemplate": "%{text:.2s}",
                  "type": "scatter",
                  "x": [
                    49.665
                  ],
                  "y": [
                    16.665
                  ]
                },
                {
                  "mode": "text",
                  "text": [
                    "1116.1166"
                  ],
                  "textposition": "top right",
                  "texttemplate": "%{text:.2s}",
                  "type": "scatter",
                  "x": [
                    51.415
                  ],
                  "y": [
                    12
                  ]
                },
                {
                  "mode": "text",
                  "text": [
                    "902.8176"
                  ],
                  "textposition": "top right",
                  "texttemplate": "%{text:.2s}",
                  "type": "scatter",
                  "x": [
                    48
                  ],
                  "y": [
                    19
                  ]
                },
                {
                  "mode": "text",
                  "text": [
                    "769.5828"
                  ],
                  "textposition": "top right",
                  "texttemplate": "%{text:.2s}",
                  "type": "scatter",
                  "x": [
                    51.5
                  ],
                  "y": [
                    14.5
                  ]
                },
                {
                  "mode": "text",
                  "text": [
                    "1469.0772"
                  ],
                  "textposition": "top right",
                  "texttemplate": "%{text:.2s}",
                  "type": "scatter",
                  "x": [
                    49
                  ],
                  "y": [
                    11
                  ]
                },
                {
                  "mode": "text",
                  "text": [
                    "971.1525"
                  ],
                  "textposition": "top right",
                  "texttemplate": "%{text:.2s}",
                  "type": "scatter",
                  "x": [
                    52.25
                  ],
                  "y": [
                    12.875
                  ]
                },
                {
                  "mode": "text",
                  "text": [
                    "403.1683"
                  ],
                  "textposition": "top right",
                  "texttemplate": "%{text:.2s}",
                  "type": "scatter",
                  "x": [
                    50.875
                  ],
                  "y": [
                    17.75
                  ]
                },
                {
                  "mode": "text",
                  "text": [
                    "828.9706"
                  ],
                  "textposition": "top right",
                  "texttemplate": "%{text:.2s}",
                  "type": "scatter",
                  "x": [
                    48.585
                  ],
                  "y": [
                    17.75
                  ]
                },
                {
                  "mode": "text",
                  "text": [
                    "1001.5144"
                  ],
                  "textposition": "top right",
                  "texttemplate": "%{text:.2s}",
                  "type": "scatter",
                  "x": [
                    50.875
                  ],
                  "y": [
                    13.085
                  ]
                },
                {
                  "mode": "text",
                  "text": [
                    "760.7746"
                  ],
                  "textposition": "top right",
                  "texttemplate": "%{text:.2s}",
                  "type": "scatter",
                  "x": [
                    49
                  ],
                  "y": [
                    22.5
                  ]
                },
                {
                  "mode": "text",
                  "text": [
                    "556.5863"
                  ],
                  "textposition": "top right",
                  "texttemplate": "%{text:.2s}",
                  "type": "scatter",
                  "x": [
                    49.5
                  ],
                  "y": [
                    20
                  ]
                },
                {
                  "mode": "text",
                  "text": [
                    "1153.5353"
                  ],
                  "textposition": "top right",
                  "texttemplate": "%{text:.2s}",
                  "type": "scatter",
                  "x": [
                    47.415
                  ],
                  "y": [
                    16.415
                  ]
                },
                {
                  "mode": "text",
                  "text": [
                    "1484.3548"
                  ],
                  "textposition": "top right",
                  "texttemplate": "%{text:.2s}",
                  "type": "scatter",
                  "x": [
                    53
                  ],
                  "y": [
                    9
                  ]
                },
                {
                  "mode": "text",
                  "text": [
                    "176.2595"
                  ],
                  "textposition": "top right",
                  "texttemplate": "%{text:.2s}",
                  "type": "scatter",
                  "x": [
                    46.724999999999994
                  ],
                  "y": [
                    14.075
                  ]
                },
                {
                  "mode": "text",
                  "text": [
                    "483.015"
                  ],
                  "textposition": "top right",
                  "texttemplate": "%{text:.2s}",
                  "type": "scatter",
                  "x": [
                    48
                  ],
                  "y": [
                    16.415
                  ]
                },
                {
                  "mode": "text",
                  "text": [
                    "707.3821"
                  ],
                  "textposition": "top right",
                  "texttemplate": "%{text:.2s}",
                  "type": "scatter",
                  "x": [
                    49.665
                  ],
                  "y": [
                    16.665
                  ]
                },
                {
                  "mode": "text",
                  "text": [
                    "0.0"
                  ],
                  "textposition": "top right",
                  "texttemplate": "%{text:.2s}",
                  "type": "scatter",
                  "x": [
                    47.33
                  ],
                  "y": [
                    13.33
                  ]
                },
                {
                  "mode": "text",
                  "text": [
                    "783.1196"
                  ],
                  "textposition": "top right",
                  "texttemplate": "%{text:.2s}",
                  "type": "scatter",
                  "x": [
                    49.08
                  ],
                  "y": [
                    8.665
                  ]
                },
                {
                  "mode": "text",
                  "text": [
                    "518.8484"
                  ],
                  "textposition": "top right",
                  "texttemplate": "%{text:.2s}",
                  "type": "scatter",
                  "x": [
                    45.665
                  ],
                  "y": [
                    15.665
                  ]
                },
                {
                  "mode": "text",
                  "text": [
                    "515.7882"
                  ],
                  "textposition": "top right",
                  "texttemplate": "%{text:.2s}",
                  "type": "scatter",
                  "x": [
                    49.165
                  ],
                  "y": [
                    11.165
                  ]
                },
                {
                  "mode": "text",
                  "text": [
                    "877.2822"
                  ],
                  "textposition": "top right",
                  "texttemplate": "%{text:.2s}",
                  "type": "scatter",
                  "x": [
                    46.665
                  ],
                  "y": [
                    7.665
                  ]
                },
                {
                  "mode": "text",
                  "text": [
                    "790.6462"
                  ],
                  "textposition": "top right",
                  "texttemplate": "%{text:.2s}",
                  "type": "scatter",
                  "x": [
                    49.915
                  ],
                  "y": [
                    9.54
                  ]
                },
                {
                  "mode": "text",
                  "text": [
                    "313.2553"
                  ],
                  "textposition": "top right",
                  "texttemplate": "%{text:.2s}",
                  "type": "scatter",
                  "x": [
                    48.54
                  ],
                  "y": [
                    14.415
                  ]
                },
                {
                  "mode": "text",
                  "text": [
                    "292.7468"
                  ],
                  "textposition": "top right",
                  "texttemplate": "%{text:.2s}",
                  "type": "scatter",
                  "x": [
                    46.25
                  ],
                  "y": [
                    14.415
                  ]
                },
                {
                  "mode": "text",
                  "text": [
                    "592.1535"
                  ],
                  "textposition": "top right",
                  "texttemplate": "%{text:.2s}",
                  "type": "scatter",
                  "x": [
                    48.54
                  ],
                  "y": [
                    9.75
                  ]
                },
                {
                  "mode": "text",
                  "text": [
                    "902.823"
                  ],
                  "textposition": "top right",
                  "texttemplate": "%{text:.2s}",
                  "type": "scatter",
                  "x": [
                    46.665
                  ],
                  "y": [
                    19.165
                  ]
                },
                {
                  "mode": "text",
                  "text": [
                    "505.9871"
                  ],
                  "textposition": "top right",
                  "texttemplate": "%{text:.2s}",
                  "type": "scatter",
                  "x": [
                    47.165
                  ],
                  "y": [
                    16.665
                  ]
                },
                {
                  "mode": "text",
                  "text": [
                    "502.4639"
                  ],
                  "textposition": "top right",
                  "texttemplate": "%{text:.2s}",
                  "type": "scatter",
                  "x": [
                    45.08
                  ],
                  "y": [
                    13.08
                  ]
                },
                {
                  "mode": "text",
                  "text": [
                    "1307.6267"
                  ],
                  "textposition": "top right",
                  "texttemplate": "%{text:.2s}",
                  "type": "scatter",
                  "x": [
                    50.665
                  ],
                  "y": [
                    5.665
                  ]
                },
                {
                  "mode": "text",
                  "text": [
                    "953.7728"
                  ],
                  "textposition": "top right",
                  "texttemplate": "%{text:.2s}",
                  "type": "scatter",
                  "x": [
                    48.474999999999994
                  ],
                  "y": [
                    9.41
                  ]
                },
                {
                  "mode": "text",
                  "text": [
                    "1138.1928"
                  ],
                  "textposition": "top right",
                  "texttemplate": "%{text:.2s}",
                  "type": "scatter",
                  "x": [
                    49.75
                  ],
                  "y": [
                    11.75
                  ]
                },
                {
                  "mode": "text",
                  "text": [
                    "1116.1166"
                  ],
                  "textposition": "top right",
                  "texttemplate": "%{text:.2s}",
                  "type": "scatter",
                  "x": [
                    51.415
                  ],
                  "y": [
                    12
                  ]
                },
                {
                  "mode": "text",
                  "text": [
                    "783.1196"
                  ],
                  "textposition": "top right",
                  "texttemplate": "%{text:.2s}",
                  "type": "scatter",
                  "x": [
                    49.08
                  ],
                  "y": [
                    8.665
                  ]
                },
                {
                  "mode": "text",
                  "text": [
                    "0.0"
                  ],
                  "textposition": "top right",
                  "texttemplate": "%{text:.2s}",
                  "type": "scatter",
                  "x": [
                    50.83
                  ],
                  "y": [
                    4
                  ]
                },
                {
                  "mode": "text",
                  "text": [
                    "1296.6003"
                  ],
                  "textposition": "top right",
                  "texttemplate": "%{text:.2s}",
                  "type": "scatter",
                  "x": [
                    47.415
                  ],
                  "y": [
                    11
                  ]
                },
                {
                  "mode": "text",
                  "text": [
                    "351.3546"
                  ],
                  "textposition": "top right",
                  "texttemplate": "%{text:.2s}",
                  "type": "scatter",
                  "x": [
                    50.915
                  ],
                  "y": [
                    6.5
                  ]
                },
                {
                  "mode": "text",
                  "text": [
                    "557.542"
                  ],
                  "textposition": "top right",
                  "texttemplate": "%{text:.2s}",
                  "type": "scatter",
                  "x": [
                    48.415
                  ],
                  "y": [
                    3
                  ]
                },
                {
                  "mode": "text",
                  "text": [
                    "221.7021"
                  ],
                  "textposition": "top right",
                  "texttemplate": "%{text:.2s}",
                  "type": "scatter",
                  "x": [
                    51.665
                  ],
                  "y": [
                    4.875
                  ]
                },
                {
                  "mode": "text",
                  "text": [
                    "825.8091"
                  ],
                  "textposition": "top right",
                  "texttemplate": "%{text:.2s}",
                  "type": "scatter",
                  "x": [
                    50.29
                  ],
                  "y": [
                    9.75
                  ]
                },
                {
                  "mode": "text",
                  "text": [
                    "1061.3877"
                  ],
                  "textposition": "top right",
                  "texttemplate": "%{text:.2s}",
                  "type": "scatter",
                  "x": [
                    48
                  ],
                  "y": [
                    9.75
                  ]
                },
                {
                  "mode": "text",
                  "text": [
                    "195.6181"
                  ],
                  "textposition": "top right",
                  "texttemplate": "%{text:.2s}",
                  "type": "scatter",
                  "x": [
                    50.29
                  ],
                  "y": [
                    5.085
                  ]
                },
                {
                  "mode": "text",
                  "text": [
                    "1635.3897"
                  ],
                  "textposition": "top right",
                  "texttemplate": "%{text:.2s}",
                  "type": "scatter",
                  "x": [
                    48.415
                  ],
                  "y": [
                    14.5
                  ]
                },
                {
                  "mode": "text",
                  "text": [
                    "1242.6642"
                  ],
                  "textposition": "top right",
                  "texttemplate": "%{text:.2s}",
                  "type": "scatter",
                  "x": [
                    48.915
                  ],
                  "y": [
                    12
                  ]
                },
                {
                  "mode": "text",
                  "text": [
                    "1114.2613"
                  ],
                  "textposition": "top right",
                  "texttemplate": "%{text:.2s}",
                  "type": "scatter",
                  "x": [
                    46.83
                  ],
                  "y": [
                    8.415
                  ]
                },
                {
                  "mode": "text",
                  "text": [
                    "538.6348"
                  ],
                  "textposition": "top right",
                  "texttemplate": "%{text:.2s}",
                  "type": "scatter",
                  "x": [
                    52.415
                  ],
                  "y": [
                    1
                  ]
                },
                {
                  "mode": "text",
                  "text": [
                    "343.7712"
                  ],
                  "textposition": "top right",
                  "texttemplate": "%{text:.2s}",
                  "type": "scatter",
                  "x": [
                    45.06
                  ],
                  "y": [
                    16.41
                  ]
                },
                {
                  "mode": "text",
                  "text": [
                    "532.4516"
                  ],
                  "textposition": "top right",
                  "texttemplate": "%{text:.2s}",
                  "type": "scatter",
                  "x": [
                    46.335
                  ],
                  "y": [
                    18.75
                  ]
                },
                {
                  "mode": "text",
                  "text": [
                    "902.8176"
                  ],
                  "textposition": "top right",
                  "texttemplate": "%{text:.2s}",
                  "type": "scatter",
                  "x": [
                    48
                  ],
                  "y": [
                    19
                  ]
                },
                {
                  "mode": "text",
                  "text": [
                    "518.8484"
                  ],
                  "textposition": "top right",
                  "texttemplate": "%{text:.2s}",
                  "type": "scatter",
                  "x": [
                    45.665
                  ],
                  "y": [
                    15.665
                  ]
                },
                {
                  "mode": "text",
                  "text": [
                    "1296.6003"
                  ],
                  "textposition": "top right",
                  "texttemplate": "%{text:.2s}",
                  "type": "scatter",
                  "x": [
                    47.415
                  ],
                  "y": [
                    11
                  ]
                },
                {
                  "mode": "text",
                  "text": [
                    "0.0"
                  ],
                  "textposition": "top right",
                  "texttemplate": "%{text:.2s}",
                  "type": "scatter",
                  "x": [
                    44
                  ],
                  "y": [
                    18
                  ]
                },
                {
                  "mode": "text",
                  "text": [
                    "1030.6223"
                  ],
                  "textposition": "top right",
                  "texttemplate": "%{text:.2s}",
                  "type": "scatter",
                  "x": [
                    47.5
                  ],
                  "y": [
                    13.5
                  ]
                },
                {
                  "mode": "text",
                  "text": [
                    "1276.6641"
                  ],
                  "textposition": "top right",
                  "texttemplate": "%{text:.2s}",
                  "type": "scatter",
                  "x": [
                    45
                  ],
                  "y": [
                    10
                  ]
                },
                {
                  "mode": "text",
                  "text": [
                    "1307.9856"
                  ],
                  "textposition": "top right",
                  "texttemplate": "%{text:.2s}",
                  "type": "scatter",
                  "x": [
                    48.25
                  ],
                  "y": [
                    11.875
                  ]
                },
                {
                  "mode": "text",
                  "text": [
                    "667.644"
                  ],
                  "textposition": "top right",
                  "texttemplate": "%{text:.2s}",
                  "type": "scatter",
                  "x": [
                    46.875
                  ],
                  "y": [
                    16.75
                  ]
                },
                {
                  "mode": "text",
                  "text": [
                    "237.1473"
                  ],
                  "textposition": "top right",
                  "texttemplate": "%{text:.2s}",
                  "type": "scatter",
                  "x": [
                    44.585
                  ],
                  "y": [
                    16.75
                  ]
                },
                {
                  "mode": "text",
                  "text": [
                    "1102.5121"
                  ],
                  "textposition": "top right",
                  "texttemplate": "%{text:.2s}",
                  "type": "scatter",
                  "x": [
                    46.875
                  ],
                  "y": [
                    12.085
                  ]
                },
                {
                  "mode": "text",
                  "text": [
                    "594.0088"
                  ],
                  "textposition": "top right",
                  "texttemplate": "%{text:.2s}",
                  "type": "scatter",
                  "x": [
                    45
                  ],
                  "y": [
                    21.5
                  ]
                },
                {
                  "mode": "text",
                  "text": [
                    "368.5786"
                  ],
                  "textposition": "top right",
                  "texttemplate": "%{text:.2s}",
                  "type": "scatter",
                  "x": [
                    45.5
                  ],
                  "y": [
                    19
                  ]
                },
                {
                  "mode": "text",
                  "text": [
                    "437.7764"
                  ],
                  "textposition": "top right",
                  "texttemplate": "%{text:.2s}",
                  "type": "scatter",
                  "x": [
                    43.415
                  ],
                  "y": [
                    15.415
                  ]
                },
                {
                  "mode": "text",
                  "text": [
                    "1825.721"
                  ],
                  "textposition": "top right",
                  "texttemplate": "%{text:.2s}",
                  "type": "scatter",
                  "x": [
                    49
                  ],
                  "y": [
                    8
                  ]
                },
                {
                  "mode": "text",
                  "text": [
                    "691.6083"
                  ],
                  "textposition": "top right",
                  "texttemplate": "%{text:.2s}",
                  "type": "scatter",
                  "x": [
                    48.56
                  ],
                  "y": [
                    11.91
                  ]
                },
                {
                  "mode": "text",
                  "text": [
                    "796.4159"
                  ],
                  "textposition": "top right",
                  "texttemplate": "%{text:.2s}",
                  "type": "scatter",
                  "x": [
                    49.835
                  ],
                  "y": [
                    14.25
                  ]
                },
                {
                  "mode": "text",
                  "text": [
                    "769.5828"
                  ],
                  "textposition": "top right",
                  "texttemplate": "%{text:.2s}",
                  "type": "scatter",
                  "x": [
                    51.5
                  ],
                  "y": [
                    14.5
                  ]
                },
                {
                  "mode": "text",
                  "text": [
                    "515.7882"
                  ],
                  "textposition": "top right",
                  "texttemplate": "%{text:.2s}",
                  "type": "scatter",
                  "x": [
                    49.165
                  ],
                  "y": [
                    11.165
                  ]
                },
                {
                  "mode": "text",
                  "text": [
                    "351.3546"
                  ],
                  "textposition": "top right",
                  "texttemplate": "%{text:.2s}",
                  "type": "scatter",
                  "x": [
                    50.915
                  ],
                  "y": [
                    6.5
                  ]
                },
                {
                  "mode": "text",
                  "text": [
                    "1030.6223"
                  ],
                  "textposition": "top right",
                  "texttemplate": "%{text:.2s}",
                  "type": "scatter",
                  "x": [
                    47.5
                  ],
                  "y": [
                    13.5
                  ]
                },
                {
                  "mode": "text",
                  "text": [
                    "0.0"
                  ],
                  "textposition": "top right",
                  "texttemplate": "%{text:.2s}",
                  "type": "scatter",
                  "x": [
                    51
                  ],
                  "y": [
                    9
                  ]
                },
                {
                  "mode": "text",
                  "text": [
                    "758.5369"
                  ],
                  "textposition": "top right",
                  "texttemplate": "%{text:.2s}",
                  "type": "scatter",
                  "x": [
                    48.5
                  ],
                  "y": [
                    5.5
                  ]
                },
                {
                  "mode": "text",
                  "text": [
                    "279.3231"
                  ],
                  "textposition": "top right",
                  "texttemplate": "%{text:.2s}",
                  "type": "scatter",
                  "x": [
                    51.75
                  ],
                  "y": [
                    7.375
                  ]
                },
                {
                  "mode": "text",
                  "text": [
                    "481.7939"
                  ],
                  "textposition": "top right",
                  "texttemplate": "%{text:.2s}",
                  "type": "scatter",
                  "x": [
                    50.375
                  ],
                  "y": [
                    12.25
                  ]
                },
                {
                  "mode": "text",
                  "text": [
                    "808.5292"
                  ],
                  "textposition": "top right",
                  "texttemplate": "%{text:.2s}",
                  "type": "scatter",
                  "x": [
                    48.085
                  ],
                  "y": [
                    12.25
                  ]
                },
                {
                  "mode": "text",
                  "text": [
                    "244.3645"
                  ],
                  "textposition": "top right",
                  "texttemplate": "%{text:.2s}",
                  "type": "scatter",
                  "x": [
                    50.375
                  ],
                  "y": [
                    7.585
                  ]
                },
                {
                  "mode": "text",
                  "text": [
                    "1301.2493"
                  ],
                  "textposition": "top right",
                  "texttemplate": "%{text:.2s}",
                  "type": "scatter",
                  "x": [
                    48.5
                  ],
                  "y": [
                    17
                  ]
                },
                {
                  "mode": "text",
                  "text": [
                    "917.1605"
                  ],
                  "textposition": "top right",
                  "texttemplate": "%{text:.2s}",
                  "type": "scatter",
                  "x": [
                    49
                  ],
                  "y": [
                    14.5
                  ]
                },
                {
                  "mode": "text",
                  "text": [
                    "954.6104"
                  ],
                  "textposition": "top right",
                  "texttemplate": "%{text:.2s}",
                  "type": "scatter",
                  "x": [
                    46.915
                  ],
                  "y": [
                    10.915
                  ]
                },
                {
                  "mode": "text",
                  "text": [
                    "815.6776"
                  ],
                  "textposition": "top right",
                  "texttemplate": "%{text:.2s}",
                  "type": "scatter",
                  "x": [
                    52.5
                  ],
                  "y": [
                    3.5
                  ]
                },
                {
                  "mode": "text",
                  "text": [
                    "989.2786"
                  ],
                  "textposition": "top right",
                  "texttemplate": "%{text:.2s}",
                  "type": "scatter",
                  "x": [
                    46.06
                  ],
                  "y": [
                    8.41
                  ]
                },
                {
                  "mode": "text",
                  "text": [
                    "1350.0124"
                  ],
                  "textposition": "top right",
                  "texttemplate": "%{text:.2s}",
                  "type": "scatter",
                  "x": [
                    47.335
                  ],
                  "y": [
                    10.75
                  ]
                },
                {
                  "mode": "text",
                  "text": [
                    "1469.0772"
                  ],
                  "textposition": "top right",
                  "texttemplate": "%{text:.2s}",
                  "type": "scatter",
                  "x": [
                    49
                  ],
                  "y": [
                    11
                  ]
                },
                {
                  "mode": "text",
                  "text": [
                    "877.2822"
                  ],
                  "textposition": "top right",
                  "texttemplate": "%{text:.2s}",
                  "type": "scatter",
                  "x": [
                    46.665
                  ],
                  "y": [
                    7.665
                  ]
                },
                {
                  "mode": "text",
                  "text": [
                    "557.542"
                  ],
                  "textposition": "top right",
                  "texttemplate": "%{text:.2s}",
                  "type": "scatter",
                  "x": [
                    48.415
                  ],
                  "y": [
                    3
                  ]
                },
                {
                  "mode": "text",
                  "text": [
                    "1276.6641"
                  ],
                  "textposition": "top right",
                  "texttemplate": "%{text:.2s}",
                  "type": "scatter",
                  "x": [
                    45
                  ],
                  "y": [
                    10
                  ]
                },
                {
                  "mode": "text",
                  "text": [
                    "758.5369"
                  ],
                  "textposition": "top right",
                  "texttemplate": "%{text:.2s}",
                  "type": "scatter",
                  "x": [
                    48.5
                  ],
                  "y": [
                    5.5
                  ]
                },
                {
                  "mode": "text",
                  "text": [
                    "0.0"
                  ],
                  "textposition": "top right",
                  "texttemplate": "%{text:.2s}",
                  "type": "scatter",
                  "x": [
                    46
                  ],
                  "y": [
                    2
                  ]
                },
                {
                  "mode": "text",
                  "text": [
                    "772.9003"
                  ],
                  "textposition": "top right",
                  "texttemplate": "%{text:.2s}",
                  "type": "scatter",
                  "x": [
                    49.25
                  ],
                  "y": [
                    3.875
                  ]
                },
                {
                  "mode": "text",
                  "text": [
                    "1089.0464"
                  ],
                  "textposition": "top right",
                  "texttemplate": "%{text:.2s}",
                  "type": "scatter",
                  "x": [
                    47.875
                  ],
                  "y": [
                    8.75
                  ]
                },
                {
                  "mode": "text",
                  "text": [
                    "1054.4965"
                  ],
                  "textposition": "top right",
                  "texttemplate": "%{text:.2s}",
                  "type": "scatter",
                  "x": [
                    45.585
                  ],
                  "y": [
                    8.75
                  ]
                },
                {
                  "mode": "text",
                  "text": [
                    "520.5903"
                  ],
                  "textposition": "top right",
                  "texttemplate": "%{text:.2s}",
                  "type": "scatter",
                  "x": [
                    47.875
                  ],
                  "y": [
                    4.085
                  ]
                },
                {
                  "mode": "text",
                  "text": [
                    "1772.3107"
                  ],
                  "textposition": "top right",
                  "texttemplate": "%{text:.2s}",
                  "type": "scatter",
                  "x": [
                    46
                  ],
                  "y": [
                    13.5
                  ]
                },
                {
                  "mode": "text",
                  "text": [
                    "1380.6857"
                  ],
                  "textposition": "top right",
                  "texttemplate": "%{text:.2s}",
                  "type": "scatter",
                  "x": [
                    46.5
                  ],
                  "y": [
                    11
                  ]
                },
                {
                  "mode": "text",
                  "text": [
                    "929.6438"
                  ],
                  "textposition": "top right",
                  "texttemplate": "%{text:.2s}",
                  "type": "scatter",
                  "x": [
                    44.415
                  ],
                  "y": [
                    7.415
                  ]
                },
                {
                  "mode": "text",
                  "text": [
                    "935.0163"
                  ],
                  "textposition": "top right",
                  "texttemplate": "%{text:.2s}",
                  "type": "scatter",
                  "x": [
                    50
                  ],
                  "y": [
                    0
                  ]
                },
                {
                  "mode": "text",
                  "text": [
                    "966.9047"
                  ],
                  "textposition": "top right",
                  "texttemplate": "%{text:.2s}",
                  "type": "scatter",
                  "x": [
                    49.31
                  ],
                  "y": [
                    10.285
                  ]
                },
                {
                  "mode": "text",
                  "text": [
                    "1059.063"
                  ],
                  "textposition": "top right",
                  "texttemplate": "%{text:.2s}",
                  "type": "scatter",
                  "x": [
                    50.585
                  ],
                  "y": [
                    12.625
                  ]
                },
                {
                  "mode": "text",
                  "text": [
                    "971.1525"
                  ],
                  "textposition": "top right",
                  "texttemplate": "%{text:.2s}",
                  "type": "scatter",
                  "x": [
                    52.25
                  ],
                  "y": [
                    12.875
                  ]
                },
                {
                  "mode": "text",
                  "text": [
                    "790.6462"
                  ],
                  "textposition": "top right",
                  "texttemplate": "%{text:.2s}",
                  "type": "scatter",
                  "x": [
                    49.915
                  ],
                  "y": [
                    9.54
                  ]
                },
                {
                  "mode": "text",
                  "text": [
                    "221.7021"
                  ],
                  "textposition": "top right",
                  "texttemplate": "%{text:.2s}",
                  "type": "scatter",
                  "x": [
                    51.665
                  ],
                  "y": [
                    4.875
                  ]
                },
                {
                  "mode": "text",
                  "text": [
                    "1307.9856"
                  ],
                  "textposition": "top right",
                  "texttemplate": "%{text:.2s}",
                  "type": "scatter",
                  "x": [
                    48.25
                  ],
                  "y": [
                    11.875
                  ]
                },
                {
                  "mode": "text",
                  "text": [
                    "279.3231"
                  ],
                  "textposition": "top right",
                  "texttemplate": "%{text:.2s}",
                  "type": "scatter",
                  "x": [
                    51.75
                  ],
                  "y": [
                    7.375
                  ]
                },
                {
                  "mode": "text",
                  "text": [
                    "772.9003"
                  ],
                  "textposition": "top right",
                  "texttemplate": "%{text:.2s}",
                  "type": "scatter",
                  "x": [
                    49.25
                  ],
                  "y": [
                    3.875
                  ]
                },
                {
                  "mode": "text",
                  "text": [
                    "0.0"
                  ],
                  "textposition": "top right",
                  "texttemplate": "%{text:.2s}",
                  "type": "scatter",
                  "x": [
                    52.5
                  ],
                  "y": [
                    5.75
                  ]
                },
                {
                  "mode": "text",
                  "text": [
                    "746.021"
                  ],
                  "textposition": "top right",
                  "texttemplate": "%{text:.2s}",
                  "type": "scatter",
                  "x": [
                    51.125
                  ],
                  "y": [
                    10.625
                  ]
                },
                {
                  "mode": "text",
                  "text": [
                    "1082.6032"
                  ],
                  "textposition": "top right",
                  "texttemplate": "%{text:.2s}",
                  "type": "scatter",
                  "x": [
                    48.835
                  ],
                  "y": [
                    10.625
                  ]
                },
                {
                  "mode": "text",
                  "text": [
                    "307.5241"
                  ],
                  "textposition": "top right",
                  "texttemplate": "%{text:.2s}",
                  "type": "scatter",
                  "x": [
                    51.125
                  ],
                  "y": [
                    5.96
                  ]
                },
                {
                  "mode": "text",
                  "text": [
                    "1568.1029"
                  ],
                  "textposition": "top right",
                  "texttemplate": "%{text:.2s}",
                  "type": "scatter",
                  "x": [
                    49.25
                  ],
                  "y": [
                    15.375
                  ]
                },
                {
                  "mode": "text",
                  "text": [
                    "1190.79"
                  ],
                  "textposition": "top right",
                  "texttemplate": "%{text:.2s}",
                  "type": "scatter",
                  "x": [
                    49.75
                  ],
                  "y": [
                    12.875
                  ]
                },
                {
                  "mode": "text",
                  "text": [
                    "1198.8132"
                  ],
                  "textposition": "top right",
                  "texttemplate": "%{text:.2s}",
                  "type": "scatter",
                  "x": [
                    47.665
                  ],
                  "y": [
                    9.29
                  ]
                },
                {
                  "mode": "text",
                  "text": [
                    "542.1851"
                  ],
                  "textposition": "top right",
                  "texttemplate": "%{text:.2s}",
                  "type": "scatter",
                  "x": [
                    53.25
                  ],
                  "y": [
                    1.875
                  ]
                },
                {
                  "mode": "text",
                  "text": [
                    "407.2467"
                  ],
                  "textposition": "top right",
                  "texttemplate": "%{text:.2s}",
                  "type": "scatter",
                  "x": [
                    47.935
                  ],
                  "y": [
                    15.16
                  ]
                },
                {
                  "mode": "text",
                  "text": [
                    "314.7025"
                  ],
                  "textposition": "top right",
                  "texttemplate": "%{text:.2s}",
                  "type": "scatter",
                  "x": [
                    49.21
                  ],
                  "y": [
                    17.5
                  ]
                },
                {
                  "mode": "text",
                  "text": [
                    "403.1683"
                  ],
                  "textposition": "top right",
                  "texttemplate": "%{text:.2s}",
                  "type": "scatter",
                  "x": [
                    50.875
                  ],
                  "y": [
                    17.75
                  ]
                },
                {
                  "mode": "text",
                  "text": [
                    "313.2553"
                  ],
                  "textposition": "top right",
                  "texttemplate": "%{text:.2s}",
                  "type": "scatter",
                  "x": [
                    48.54
                  ],
                  "y": [
                    14.415
                  ]
                },
                {
                  "mode": "text",
                  "text": [
                    "825.8091"
                  ],
                  "textposition": "top right",
                  "texttemplate": "%{text:.2s}",
                  "type": "scatter",
                  "x": [
                    50.29
                  ],
                  "y": [
                    9.75
                  ]
                },
                {
                  "mode": "text",
                  "text": [
                    "667.644"
                  ],
                  "textposition": "top right",
                  "texttemplate": "%{text:.2s}",
                  "type": "scatter",
                  "x": [
                    46.875
                  ],
                  "y": [
                    16.75
                  ]
                },
                {
                  "mode": "text",
                  "text": [
                    "481.7939"
                  ],
                  "textposition": "top right",
                  "texttemplate": "%{text:.2s}",
                  "type": "scatter",
                  "x": [
                    50.375
                  ],
                  "y": [
                    12.25
                  ]
                },
                {
                  "mode": "text",
                  "text": [
                    "1089.0464"
                  ],
                  "textposition": "top right",
                  "texttemplate": "%{text:.2s}",
                  "type": "scatter",
                  "x": [
                    47.875
                  ],
                  "y": [
                    8.75
                  ]
                },
                {
                  "mode": "text",
                  "text": [
                    "746.021"
                  ],
                  "textposition": "top right",
                  "texttemplate": "%{text:.2s}",
                  "type": "scatter",
                  "x": [
                    51.125
                  ],
                  "y": [
                    10.625
                  ]
                },
                {
                  "mode": "text",
                  "text": [
                    "0.0"
                  ],
                  "textposition": "top right",
                  "texttemplate": "%{text:.2s}",
                  "type": "scatter",
                  "x": [
                    49.75
                  ],
                  "y": [
                    15.5
                  ]
                },
                {
                  "mode": "text",
                  "text": [
                    "509.833"
                  ],
                  "textposition": "top right",
                  "texttemplate": "%{text:.2s}",
                  "type": "scatter",
                  "x": [
                    47.46
                  ],
                  "y": [
                    15.5
                  ]
                },
                {
                  "mode": "text",
                  "text": [
                    "670.6256"
                  ],
                  "textposition": "top right",
                  "texttemplate": "%{text:.2s}",
                  "type": "scatter",
                  "x": [
                    49.75
                  ],
                  "y": [
                    10.835
                  ]
                },
                {
                  "mode": "text",
                  "text": [
                    "822.149"
                  ],
                  "textposition": "top right",
                  "texttemplate": "%{text:.2s}",
                  "type": "scatter",
                  "x": [
                    47.875
                  ],
                  "y": [
                    20.25
                  ]
                },
                {
                  "mode": "text",
                  "text": [
                    "451.9896"
                  ],
                  "textposition": "top right",
                  "texttemplate": "%{text:.2s}",
                  "type": "scatter",
                  "x": [
                    48.375
                  ],
                  "y": [
                    17.75
                  ]
                },
                {
                  "mode": "text",
                  "text": [
                    "797.0839"
                  ],
                  "textposition": "top right",
                  "texttemplate": "%{text:.2s}",
                  "type": "scatter",
                  "x": [
                    46.29
                  ],
                  "y": [
                    14.165
                  ]
                },
                {
                  "mode": "text",
                  "text": [
                    "1288.1851"
                  ],
                  "textposition": "top right",
                  "texttemplate": "%{text:.2s}",
                  "type": "scatter",
                  "x": [
                    51.875
                  ],
                  "y": [
                    6.75
                  ]
                },
                {
                  "mode": "text",
                  "text": [
                    "118.2518"
                  ],
                  "textposition": "top right",
                  "texttemplate": "%{text:.2s}",
                  "type": "scatter",
                  "x": [
                    45.644999999999996
                  ],
                  "y": [
                    15.16
                  ]
                },
                {
                  "mode": "text",
                  "text": [
                    "494.1073"
                  ],
                  "textposition": "top right",
                  "texttemplate": "%{text:.2s}",
                  "type": "scatter",
                  "x": [
                    46.92
                  ],
                  "y": [
                    17.5
                  ]
                },
                {
                  "mode": "text",
                  "text": [
                    "828.9706"
                  ],
                  "textposition": "top right",
                  "texttemplate": "%{text:.2s}",
                  "type": "scatter",
                  "x": [
                    48.585
                  ],
                  "y": [
                    17.75
                  ]
                },
                {
                  "mode": "text",
                  "text": [
                    "292.7468"
                  ],
                  "textposition": "top right",
                  "texttemplate": "%{text:.2s}",
                  "type": "scatter",
                  "x": [
                    46.25
                  ],
                  "y": [
                    14.415
                  ]
                },
                {
                  "mode": "text",
                  "text": [
                    "1061.3877"
                  ],
                  "textposition": "top right",
                  "texttemplate": "%{text:.2s}",
                  "type": "scatter",
                  "x": [
                    48
                  ],
                  "y": [
                    9.75
                  ]
                },
                {
                  "mode": "text",
                  "text": [
                    "237.1473"
                  ],
                  "textposition": "top right",
                  "texttemplate": "%{text:.2s}",
                  "type": "scatter",
                  "x": [
                    44.585
                  ],
                  "y": [
                    16.75
                  ]
                },
                {
                  "mode": "text",
                  "text": [
                    "808.5292"
                  ],
                  "textposition": "top right",
                  "texttemplate": "%{text:.2s}",
                  "type": "scatter",
                  "x": [
                    48.085
                  ],
                  "y": [
                    12.25
                  ]
                },
                {
                  "mode": "text",
                  "text": [
                    "1054.4965"
                  ],
                  "textposition": "top right",
                  "texttemplate": "%{text:.2s}",
                  "type": "scatter",
                  "x": [
                    45.585
                  ],
                  "y": [
                    8.75
                  ]
                },
                {
                  "mode": "text",
                  "text": [
                    "1082.6032"
                  ],
                  "textposition": "top right",
                  "texttemplate": "%{text:.2s}",
                  "type": "scatter",
                  "x": [
                    48.835
                  ],
                  "y": [
                    10.625
                  ]
                },
                {
                  "mode": "text",
                  "text": [
                    "509.833"
                  ],
                  "textposition": "top right",
                  "texttemplate": "%{text:.2s}",
                  "type": "scatter",
                  "x": [
                    47.46
                  ],
                  "y": [
                    15.5
                  ]
                },
                {
                  "mode": "text",
                  "text": [
                    "0.0"
                  ],
                  "textposition": "top right",
                  "texttemplate": "%{text:.2s}",
                  "type": "scatter",
                  "x": [
                    45.17
                  ],
                  "y": [
                    15.5
                  ]
                },
                {
                  "mode": "text",
                  "text": [
                    "866.7285"
                  ],
                  "textposition": "top right",
                  "texttemplate": "%{text:.2s}",
                  "type": "scatter",
                  "x": [
                    47.46
                  ],
                  "y": [
                    10.835
                  ]
                },
                {
                  "mode": "text",
                  "text": [
                    "745.3901"
                  ],
                  "textposition": "top right",
                  "texttemplate": "%{text:.2s}",
                  "type": "scatter",
                  "x": [
                    45.585
                  ],
                  "y": [
                    20.25
                  ]
                },
                {
                  "mode": "text",
                  "text": [
                    "402.661"
                  ],
                  "textposition": "top right",
                  "texttemplate": "%{text:.2s}",
                  "type": "scatter",
                  "x": [
                    46.085
                  ],
                  "y": [
                    17.75
                  ]
                },
                {
                  "mode": "text",
                  "text": [
                    "336.9472"
                  ],
                  "textposition": "top right",
                  "texttemplate": "%{text:.2s}",
                  "type": "scatter",
                  "x": [
                    44
                  ],
                  "y": [
                    14.165
                  ]
                },
                {
                  "mode": "text",
                  "text": [
                    "1593.0476"
                  ],
                  "textposition": "top right",
                  "texttemplate": "%{text:.2s}",
                  "type": "scatter",
                  "x": [
                    49.585
                  ],
                  "y": [
                    6.75
                  ]
                },
                {
                  "mode": "text",
                  "text": [
                    "760.5034"
                  ],
                  "textposition": "top right",
                  "texttemplate": "%{text:.2s}",
                  "type": "scatter",
                  "x": [
                    47.935
                  ],
                  "y": [
                    10.495000000000001
                  ]
                },
                {
                  "mode": "text",
                  "text": [
                    "975.4968"
                  ],
                  "textposition": "top right",
                  "texttemplate": "%{text:.2s}",
                  "type": "scatter",
                  "x": [
                    49.21
                  ],
                  "y": [
                    12.835
                  ]
                },
                {
                  "mode": "text",
                  "text": [
                    "1001.5144"
                  ],
                  "textposition": "top right",
                  "texttemplate": "%{text:.2s}",
                  "type": "scatter",
                  "x": [
                    50.875
                  ],
                  "y": [
                    13.085
                  ]
                },
                {
                  "mode": "text",
                  "text": [
                    "592.1535"
                  ],
                  "textposition": "top right",
                  "texttemplate": "%{text:.2s}",
                  "type": "scatter",
                  "x": [
                    48.54
                  ],
                  "y": [
                    9.75
                  ]
                },
                {
                  "mode": "text",
                  "text": [
                    "195.6181"
                  ],
                  "textposition": "top right",
                  "texttemplate": "%{text:.2s}",
                  "type": "scatter",
                  "x": [
                    50.29
                  ],
                  "y": [
                    5.085
                  ]
                },
                {
                  "mode": "text",
                  "text": [
                    "1102.5121"
                  ],
                  "textposition": "top right",
                  "texttemplate": "%{text:.2s}",
                  "type": "scatter",
                  "x": [
                    46.875
                  ],
                  "y": [
                    12.085
                  ]
                },
                {
                  "mode": "text",
                  "text": [
                    "244.3645"
                  ],
                  "textposition": "top right",
                  "texttemplate": "%{text:.2s}",
                  "type": "scatter",
                  "x": [
                    50.375
                  ],
                  "y": [
                    7.585
                  ]
                },
                {
                  "mode": "text",
                  "text": [
                    "520.5903"
                  ],
                  "textposition": "top right",
                  "texttemplate": "%{text:.2s}",
                  "type": "scatter",
                  "x": [
                    47.875
                  ],
                  "y": [
                    4.085
                  ]
                },
                {
                  "mode": "text",
                  "text": [
                    "307.5241"
                  ],
                  "textposition": "top right",
                  "texttemplate": "%{text:.2s}",
                  "type": "scatter",
                  "x": [
                    51.125
                  ],
                  "y": [
                    5.96
                  ]
                },
                {
                  "mode": "text",
                  "text": [
                    "670.6256"
                  ],
                  "textposition": "top right",
                  "texttemplate": "%{text:.2s}",
                  "type": "scatter",
                  "x": [
                    49.75
                  ],
                  "y": [
                    10.835
                  ]
                },
                {
                  "mode": "text",
                  "text": [
                    "866.7285"
                  ],
                  "textposition": "top right",
                  "texttemplate": "%{text:.2s}",
                  "type": "scatter",
                  "x": [
                    47.46
                  ],
                  "y": [
                    10.835
                  ]
                },
                {
                  "mode": "text",
                  "text": [
                    "0.0"
                  ],
                  "textposition": "top right",
                  "texttemplate": "%{text:.2s}",
                  "type": "scatter",
                  "x": [
                    49.75
                  ],
                  "y": [
                    6.17
                  ]
                },
                {
                  "mode": "text",
                  "text": [
                    "1462.1495"
                  ],
                  "textposition": "top right",
                  "texttemplate": "%{text:.2s}",
                  "type": "scatter",
                  "x": [
                    47.875
                  ],
                  "y": [
                    15.585
                  ]
                },
                {
                  "mode": "text",
                  "text": [
                    "1065.6808"
                  ],
                  "textposition": "top right",
                  "texttemplate": "%{text:.2s}",
                  "type": "scatter",
                  "x": [
                    48.375
                  ],
                  "y": [
                    13.085
                  ]
                },
                {
                  "mode": "text",
                  "text": [
                    "924.289"
                  ],
                  "textposition": "top right",
                  "texttemplate": "%{text:.2s}",
                  "type": "scatter",
                  "x": [
                    46.29
                  ],
                  "y": [
                    9.5
                  ]
                },
                {
                  "mode": "text",
                  "text": [
                    "733.4206"
                  ],
                  "textposition": "top right",
                  "texttemplate": "%{text:.2s}",
                  "type": "scatter",
                  "x": [
                    51.875
                  ],
                  "y": [
                    2.085
                  ]
                },
                {
                  "mode": "text",
                  "text": [
                    "785.9154"
                  ],
                  "textposition": "top right",
                  "texttemplate": "%{text:.2s}",
                  "type": "scatter",
                  "x": [
                    46.06
                  ],
                  "y": [
                    19.91
                  ]
                },
                {
                  "mode": "text",
                  "text": [
                    "510.1842"
                  ],
                  "textposition": "top right",
                  "texttemplate": "%{text:.2s}",
                  "type": "scatter",
                  "x": [
                    47.335
                  ],
                  "y": [
                    22.25
                  ]
                },
                {
                  "mode": "text",
                  "text": [
                    "760.7746"
                  ],
                  "textposition": "top right",
                  "texttemplate": "%{text:.2s}",
                  "type": "scatter",
                  "x": [
                    49
                  ],
                  "y": [
                    22.5
                  ]
                },
                {
                  "mode": "text",
                  "text": [
                    "902.823"
                  ],
                  "textposition": "top right",
                  "texttemplate": "%{text:.2s}",
                  "type": "scatter",
                  "x": [
                    46.665
                  ],
                  "y": [
                    19.165
                  ]
                },
                {
                  "mode": "text",
                  "text": [
                    "1635.3897"
                  ],
                  "textposition": "top right",
                  "texttemplate": "%{text:.2s}",
                  "type": "scatter",
                  "x": [
                    48.415
                  ],
                  "y": [
                    14.5
                  ]
                },
                {
                  "mode": "text",
                  "text": [
                    "594.0088"
                  ],
                  "textposition": "top right",
                  "texttemplate": "%{text:.2s}",
                  "type": "scatter",
                  "x": [
                    45
                  ],
                  "y": [
                    21.5
                  ]
                },
                {
                  "mode": "text",
                  "text": [
                    "1301.2493"
                  ],
                  "textposition": "top right",
                  "texttemplate": "%{text:.2s}",
                  "type": "scatter",
                  "x": [
                    48.5
                  ],
                  "y": [
                    17
                  ]
                },
                {
                  "mode": "text",
                  "text": [
                    "1772.3107"
                  ],
                  "textposition": "top right",
                  "texttemplate": "%{text:.2s}",
                  "type": "scatter",
                  "x": [
                    46
                  ],
                  "y": [
                    13.5
                  ]
                },
                {
                  "mode": "text",
                  "text": [
                    "1568.1029"
                  ],
                  "textposition": "top right",
                  "texttemplate": "%{text:.2s}",
                  "type": "scatter",
                  "x": [
                    49.25
                  ],
                  "y": [
                    15.375
                  ]
                },
                {
                  "mode": "text",
                  "text": [
                    "822.149"
                  ],
                  "textposition": "top right",
                  "texttemplate": "%{text:.2s}",
                  "type": "scatter",
                  "x": [
                    47.875
                  ],
                  "y": [
                    20.25
                  ]
                },
                {
                  "mode": "text",
                  "text": [
                    "745.3901"
                  ],
                  "textposition": "top right",
                  "texttemplate": "%{text:.2s}",
                  "type": "scatter",
                  "x": [
                    45.585
                  ],
                  "y": [
                    20.25
                  ]
                },
                {
                  "mode": "text",
                  "text": [
                    "1462.1495"
                  ],
                  "textposition": "top right",
                  "texttemplate": "%{text:.2s}",
                  "type": "scatter",
                  "x": [
                    47.875
                  ],
                  "y": [
                    15.585
                  ]
                },
                {
                  "mode": "text",
                  "text": [
                    "0.0"
                  ],
                  "textposition": "top right",
                  "texttemplate": "%{text:.2s}",
                  "type": "scatter",
                  "x": [
                    46
                  ],
                  "y": [
                    25
                  ]
                },
                {
                  "mode": "text",
                  "text": [
                    "398.8909"
                  ],
                  "textposition": "top right",
                  "texttemplate": "%{text:.2s}",
                  "type": "scatter",
                  "x": [
                    46.5
                  ],
                  "y": [
                    22.5
                  ]
                },
                {
                  "mode": "text",
                  "text": [
                    "1028.7142"
                  ],
                  "textposition": "top right",
                  "texttemplate": "%{text:.2s}",
                  "type": "scatter",
                  "x": [
                    44.415
                  ],
                  "y": [
                    18.915
                  ]
                },
                {
                  "mode": "text",
                  "text": [
                    "2110.196"
                  ],
                  "textposition": "top right",
                  "texttemplate": "%{text:.2s}",
                  "type": "scatter",
                  "x": [
                    50
                  ],
                  "y": [
                    11.5
                  ]
                },
                {
                  "mode": "text",
                  "text": [
                    "408.3197"
                  ],
                  "textposition": "top right",
                  "texttemplate": "%{text:.2s}",
                  "type": "scatter",
                  "x": [
                    46.56
                  ],
                  "y": [
                    17.41
                  ]
                },
                {
                  "mode": "text",
                  "text": [
                    "189.6159"
                  ],
                  "textposition": "top right",
                  "texttemplate": "%{text:.2s}",
                  "type": "scatter",
                  "x": [
                    47.835
                  ],
                  "y": [
                    19.75
                  ]
                },
                {
                  "mode": "text",
                  "text": [
                    "556.5863"
                  ],
                  "textposition": "top right",
                  "texttemplate": "%{text:.2s}",
                  "type": "scatter",
                  "x": [
                    49.5
                  ],
                  "y": [
                    20
                  ]
                },
                {
                  "mode": "text",
                  "text": [
                    "505.9871"
                  ],
                  "textposition": "top right",
                  "texttemplate": "%{text:.2s}",
                  "type": "scatter",
                  "x": [
                    47.165
                  ],
                  "y": [
                    16.665
                  ]
                },
                {
                  "mode": "text",
                  "text": [
                    "1242.6642"
                  ],
                  "textposition": "top right",
                  "texttemplate": "%{text:.2s}",
                  "type": "scatter",
                  "x": [
                    48.915
                  ],
                  "y": [
                    12
                  ]
                },
                {
                  "mode": "text",
                  "text": [
                    "368.5786"
                  ],
                  "textposition": "top right",
                  "texttemplate": "%{text:.2s}",
                  "type": "scatter",
                  "x": [
                    45.5
                  ],
                  "y": [
                    19
                  ]
                },
                {
                  "mode": "text",
                  "text": [
                    "917.1605"
                  ],
                  "textposition": "top right",
                  "texttemplate": "%{text:.2s}",
                  "type": "scatter",
                  "x": [
                    49
                  ],
                  "y": [
                    14.5
                  ]
                },
                {
                  "mode": "text",
                  "text": [
                    "1380.6857"
                  ],
                  "textposition": "top right",
                  "texttemplate": "%{text:.2s}",
                  "type": "scatter",
                  "x": [
                    46.5
                  ],
                  "y": [
                    11
                  ]
                },
                {
                  "mode": "text",
                  "text": [
                    "1190.79"
                  ],
                  "textposition": "top right",
                  "texttemplate": "%{text:.2s}",
                  "type": "scatter",
                  "x": [
                    49.75
                  ],
                  "y": [
                    12.875
                  ]
                },
                {
                  "mode": "text",
                  "text": [
                    "451.9896"
                  ],
                  "textposition": "top right",
                  "texttemplate": "%{text:.2s}",
                  "type": "scatter",
                  "x": [
                    48.375
                  ],
                  "y": [
                    17.75
                  ]
                },
                {
                  "mode": "text",
                  "text": [
                    "402.661"
                  ],
                  "textposition": "top right",
                  "texttemplate": "%{text:.2s}",
                  "type": "scatter",
                  "x": [
                    46.085
                  ],
                  "y": [
                    17.75
                  ]
                },
                {
                  "mode": "text",
                  "text": [
                    "1065.6808"
                  ],
                  "textposition": "top right",
                  "texttemplate": "%{text:.2s}",
                  "type": "scatter",
                  "x": [
                    48.375
                  ],
                  "y": [
                    13.085
                  ]
                },
                {
                  "mode": "text",
                  "text": [
                    "398.8909"
                  ],
                  "textposition": "top right",
                  "texttemplate": "%{text:.2s}",
                  "type": "scatter",
                  "x": [
                    46.5
                  ],
                  "y": [
                    22.5
                  ]
                },
                {
                  "mode": "text",
                  "text": [
                    "0.0"
                  ],
                  "textposition": "top right",
                  "texttemplate": "%{text:.2s}",
                  "type": "scatter",
                  "x": [
                    47
                  ],
                  "y": [
                    20
                  ]
                },
                {
                  "mode": "text",
                  "text": [
                    "730.868"
                  ],
                  "textposition": "top right",
                  "texttemplate": "%{text:.2s}",
                  "type": "scatter",
                  "x": [
                    44.915
                  ],
                  "y": [
                    16.415
                  ]
                },
                {
                  "mode": "text",
                  "text": [
                    "1731.9449"
                  ],
                  "textposition": "top right",
                  "texttemplate": "%{text:.2s}",
                  "type": "scatter",
                  "x": [
                    50.5
                  ],
                  "y": [
                    9
                  ]
                },
                {
                  "mode": "text",
                  "text": [
                    "398.8542"
                  ],
                  "textposition": "top right",
                  "texttemplate": "%{text:.2s}",
                  "type": "scatter",
                  "x": [
                    44.474999999999994
                  ],
                  "y": [
                    13.825
                  ]
                },
                {
                  "mode": "text",
                  "text": [
                    "830.6171"
                  ],
                  "textposition": "top right",
                  "texttemplate": "%{text:.2s}",
                  "type": "scatter",
                  "x": [
                    45.75
                  ],
                  "y": [
                    16.165
                  ]
                },
                {
                  "mode": "text",
                  "text": [
                    "1153.5353"
                  ],
                  "textposition": "top right",
                  "texttemplate": "%{text:.2s}",
                  "type": "scatter",
                  "x": [
                    47.415
                  ],
                  "y": [
                    16.415
                  ]
                },
                {
                  "mode": "text",
                  "text": [
                    "502.4639"
                  ],
                  "textposition": "top right",
                  "texttemplate": "%{text:.2s}",
                  "type": "scatter",
                  "x": [
                    45.08
                  ],
                  "y": [
                    13.08
                  ]
                },
                {
                  "mode": "text",
                  "text": [
                    "1114.2613"
                  ],
                  "textposition": "top right",
                  "texttemplate": "%{text:.2s}",
                  "type": "scatter",
                  "x": [
                    46.83
                  ],
                  "y": [
                    8.415
                  ]
                },
                {
                  "mode": "text",
                  "text": [
                    "437.7764"
                  ],
                  "textposition": "top right",
                  "texttemplate": "%{text:.2s}",
                  "type": "scatter",
                  "x": [
                    43.415
                  ],
                  "y": [
                    15.415
                  ]
                },
                {
                  "mode": "text",
                  "text": [
                    "954.6104"
                  ],
                  "textposition": "top right",
                  "texttemplate": "%{text:.2s}",
                  "type": "scatter",
                  "x": [
                    46.915
                  ],
                  "y": [
                    10.915
                  ]
                },
                {
                  "mode": "text",
                  "text": [
                    "929.6438"
                  ],
                  "textposition": "top right",
                  "texttemplate": "%{text:.2s}",
                  "type": "scatter",
                  "x": [
                    44.415
                  ],
                  "y": [
                    7.415
                  ]
                },
                {
                  "mode": "text",
                  "text": [
                    "1198.8132"
                  ],
                  "textposition": "top right",
                  "texttemplate": "%{text:.2s}",
                  "type": "scatter",
                  "x": [
                    47.665
                  ],
                  "y": [
                    9.29
                  ]
                },
                {
                  "mode": "text",
                  "text": [
                    "797.0839"
                  ],
                  "textposition": "top right",
                  "texttemplate": "%{text:.2s}",
                  "type": "scatter",
                  "x": [
                    46.29
                  ],
                  "y": [
                    14.165
                  ]
                },
                {
                  "mode": "text",
                  "text": [
                    "336.9472"
                  ],
                  "textposition": "top right",
                  "texttemplate": "%{text:.2s}",
                  "type": "scatter",
                  "x": [
                    44
                  ],
                  "y": [
                    14.165
                  ]
                },
                {
                  "mode": "text",
                  "text": [
                    "924.289"
                  ],
                  "textposition": "top right",
                  "texttemplate": "%{text:.2s}",
                  "type": "scatter",
                  "x": [
                    46.29
                  ],
                  "y": [
                    9.5
                  ]
                },
                {
                  "mode": "text",
                  "text": [
                    "1028.7142"
                  ],
                  "textposition": "top right",
                  "texttemplate": "%{text:.2s}",
                  "type": "scatter",
                  "x": [
                    44.415
                  ],
                  "y": [
                    18.915
                  ]
                },
                {
                  "mode": "text",
                  "text": [
                    "730.868"
                  ],
                  "textposition": "top right",
                  "texttemplate": "%{text:.2s}",
                  "type": "scatter",
                  "x": [
                    44.915
                  ],
                  "y": [
                    16.415
                  ]
                },
                {
                  "mode": "text",
                  "text": [
                    "0.0"
                  ],
                  "textposition": "top right",
                  "texttemplate": "%{text:.2s}",
                  "type": "scatter",
                  "x": [
                    42.83
                  ],
                  "y": [
                    12.83
                  ]
                },
                {
                  "mode": "text",
                  "text": [
                    "1650.631"
                  ],
                  "textposition": "top right",
                  "texttemplate": "%{text:.2s}",
                  "type": "scatter",
                  "x": [
                    48.415
                  ],
                  "y": [
                    5.415
                  ]
                },
                {
                  "mode": "text",
                  "text": [
                    "1481.9511"
                  ],
                  "textposition": "top right",
                  "texttemplate": "%{text:.2s}",
                  "type": "scatter",
                  "x": [
                    50.06
                  ],
                  "y": [
                    6.41
                  ]
                },
                {
                  "mode": "text",
                  "text": [
                    "1600.8334"
                  ],
                  "textposition": "top right",
                  "texttemplate": "%{text:.2s}",
                  "type": "scatter",
                  "x": [
                    51.335
                  ],
                  "y": [
                    8.75
                  ]
                },
                {
                  "mode": "text",
                  "text": [
                    "1484.3548"
                  ],
                  "textposition": "top right",
                  "texttemplate": "%{text:.2s}",
                  "type": "scatter",
                  "x": [
                    53
                  ],
                  "y": [
                    9
                  ]
                },
                {
                  "mode": "text",
                  "text": [
                    "1307.6267"
                  ],
                  "textposition": "top right",
                  "texttemplate": "%{text:.2s}",
                  "type": "scatter",
                  "x": [
                    50.665
                  ],
                  "y": [
                    5.665
                  ]
                },
                {
                  "mode": "text",
                  "text": [
                    "538.6348"
                  ],
                  "textposition": "top right",
                  "texttemplate": "%{text:.2s}",
                  "type": "scatter",
                  "x": [
                    52.415
                  ],
                  "y": [
                    1
                  ]
                },
                {
                  "mode": "text",
                  "text": [
                    "1825.721"
                  ],
                  "textposition": "top right",
                  "texttemplate": "%{text:.2s}",
                  "type": "scatter",
                  "x": [
                    49
                  ],
                  "y": [
                    8
                  ]
                },
                {
                  "mode": "text",
                  "text": [
                    "815.6776"
                  ],
                  "textposition": "top right",
                  "texttemplate": "%{text:.2s}",
                  "type": "scatter",
                  "x": [
                    52.5
                  ],
                  "y": [
                    3.5
                  ]
                },
                {
                  "mode": "text",
                  "text": [
                    "935.0163"
                  ],
                  "textposition": "top right",
                  "texttemplate": "%{text:.2s}",
                  "type": "scatter",
                  "x": [
                    50
                  ],
                  "y": [
                    0
                  ]
                },
                {
                  "mode": "text",
                  "text": [
                    "542.1851"
                  ],
                  "textposition": "top right",
                  "texttemplate": "%{text:.2s}",
                  "type": "scatter",
                  "x": [
                    53.25
                  ],
                  "y": [
                    1.875
                  ]
                },
                {
                  "mode": "text",
                  "text": [
                    "1288.1851"
                  ],
                  "textposition": "top right",
                  "texttemplate": "%{text:.2s}",
                  "type": "scatter",
                  "x": [
                    51.875
                  ],
                  "y": [
                    6.75
                  ]
                },
                {
                  "mode": "text",
                  "text": [
                    "1593.0476"
                  ],
                  "textposition": "top right",
                  "texttemplate": "%{text:.2s}",
                  "type": "scatter",
                  "x": [
                    49.585
                  ],
                  "y": [
                    6.75
                  ]
                },
                {
                  "mode": "text",
                  "text": [
                    "733.4206"
                  ],
                  "textposition": "top right",
                  "texttemplate": "%{text:.2s}",
                  "type": "scatter",
                  "x": [
                    51.875
                  ],
                  "y": [
                    2.085
                  ]
                },
                {
                  "mode": "text",
                  "text": [
                    "2110.196"
                  ],
                  "textposition": "top right",
                  "texttemplate": "%{text:.2s}",
                  "type": "scatter",
                  "x": [
                    50
                  ],
                  "y": [
                    11.5
                  ]
                },
                {
                  "mode": "text",
                  "text": [
                    "1731.9449"
                  ],
                  "textposition": "top right",
                  "texttemplate": "%{text:.2s}",
                  "type": "scatter",
                  "x": [
                    50.5
                  ],
                  "y": [
                    9
                  ]
                },
                {
                  "mode": "text",
                  "text": [
                    "1650.631"
                  ],
                  "textposition": "top right",
                  "texttemplate": "%{text:.2s}",
                  "type": "scatter",
                  "x": [
                    48.415
                  ],
                  "y": [
                    5.415
                  ]
                },
                {
                  "mode": "text",
                  "text": [
                    "0.0"
                  ],
                  "textposition": "top right",
                  "texttemplate": "%{text:.2s}",
                  "type": "scatter",
                  "x": [
                    54
                  ],
                  "y": [
                    -2
                  ]
                }
              ],
              "layout": {
                "legend": {
                  "tracegroupgap": 0
                },
                "margin": {
                  "t": 60
                },
                "shapes": [
                  {
                    "line": {
                      "color": "rgb(0, 0, 0)"
                    },
                    "opacity": 0.09,
                    "type": "line",
                    "x0": 46.12,
                    "x1": 46.12,
                    "y0": 14.82,
                    "y1": 14.82
                  },
                  {
                    "line": {
                      "color": "rgb(0, 0, 0)"
                    },
                    "opacity": 0.09,
                    "type": "line",
                    "x0": 46.12,
                    "x1": 48.67,
                    "y0": 14.82,
                    "y1": 19.5
                  },
                  {
                    "line": {
                      "color": "rgb(0, 0, 0)"
                    },
                    "opacity": 0.09,
                    "type": "line",
                    "x0": 46.12,
                    "x1": 52,
                    "y0": 14.82,
                    "y1": 20
                  },
                  {
                    "line": {
                      "color": "rgb(0, 0, 0)"
                    },
                    "opacity": 0.09,
                    "type": "line",
                    "x0": 46.12,
                    "x1": 47.33,
                    "y0": 14.82,
                    "y1": 13.33
                  },
                  {
                    "line": {
                      "color": "rgb(0, 0, 0)"
                    },
                    "opacity": 0.09,
                    "type": "line",
                    "x0": 46.12,
                    "x1": 50.83,
                    "y0": 14.82,
                    "y1": 4
                  },
                  {
                    "line": {
                      "color": "rgb(0, 0, 0)"
                    },
                    "opacity": 0.09,
                    "type": "line",
                    "x0": 46.12,
                    "x1": 44,
                    "y0": 14.82,
                    "y1": 18
                  },
                  {
                    "line": {
                      "color": "rgb(0, 0, 0)"
                    },
                    "opacity": 0.09,
                    "type": "line",
                    "x0": 46.12,
                    "x1": 51,
                    "y0": 14.82,
                    "y1": 9
                  },
                  {
                    "line": {
                      "color": "rgb(0, 0, 0)"
                    },
                    "opacity": 0.09,
                    "type": "line",
                    "x0": 46.12,
                    "x1": 46,
                    "y0": 14.82,
                    "y1": 2
                  },
                  {
                    "line": {
                      "color": "rgb(0, 0, 0)"
                    },
                    "opacity": 0.09,
                    "type": "line",
                    "x0": 46.12,
                    "x1": 52.5,
                    "y0": 14.82,
                    "y1": 5.75
                  },
                  {
                    "line": {
                      "color": "rgb(0, 0, 0)"
                    },
                    "opacity": 0.09,
                    "type": "line",
                    "x0": 46.12,
                    "x1": 49.75,
                    "y0": 14.82,
                    "y1": 15.5
                  },
                  {
                    "line": {
                      "color": "rgb(0, 0, 0)"
                    },
                    "opacity": 0.09,
                    "type": "line",
                    "x0": 46.12,
                    "x1": 45.17,
                    "y0": 14.82,
                    "y1": 15.5
                  },
                  {
                    "line": {
                      "color": "rgb(0, 0, 0)"
                    },
                    "opacity": 0.09,
                    "type": "line",
                    "x0": 46.12,
                    "x1": 49.75,
                    "y0": 14.82,
                    "y1": 6.17
                  },
                  {
                    "line": {
                      "color": "rgb(0, 0, 0)"
                    },
                    "opacity": 0.09,
                    "type": "line",
                    "x0": 46.12,
                    "x1": 46,
                    "y0": 14.82,
                    "y1": 25
                  },
                  {
                    "line": {
                      "color": "rgb(0, 0, 0)"
                    },
                    "opacity": 0.09,
                    "type": "line",
                    "x0": 46.12,
                    "x1": 47,
                    "y0": 14.82,
                    "y1": 20
                  },
                  {
                    "line": {
                      "color": "rgb(0, 0, 0)"
                    },
                    "opacity": 0.09,
                    "type": "line",
                    "x0": 46.12,
                    "x1": 42.83,
                    "y0": 14.82,
                    "y1": 12.83
                  },
                  {
                    "line": {
                      "color": "rgb(0, 0, 0)"
                    },
                    "opacity": 0.09,
                    "type": "line",
                    "x0": 46.12,
                    "x1": 54,
                    "y0": 14.82,
                    "y1": -2
                  },
                  {
                    "line": {
                      "color": "rgb(0, 0, 0)"
                    },
                    "opacity": 0.09,
                    "type": "line",
                    "x0": 48.67,
                    "x1": 46.12,
                    "y0": 19.5,
                    "y1": 14.82
                  },
                  {
                    "line": {
                      "color": "rgb(0, 0, 0)"
                    },
                    "opacity": 0.09,
                    "type": "line",
                    "x0": 48.67,
                    "x1": 48.67,
                    "y0": 19.5,
                    "y1": 19.5
                  },
                  {
                    "line": {
                      "color": "rgb(0, 0, 0)"
                    },
                    "opacity": 0.09,
                    "type": "line",
                    "x0": 48.67,
                    "x1": 52,
                    "y0": 19.5,
                    "y1": 20
                  },
                  {
                    "line": {
                      "color": "rgb(0, 0, 0)"
                    },
                    "opacity": 0.09,
                    "type": "line",
                    "x0": 48.67,
                    "x1": 47.33,
                    "y0": 19.5,
                    "y1": 13.33
                  },
                  {
                    "line": {
                      "color": "rgb(0, 0, 0)"
                    },
                    "opacity": 0.09,
                    "type": "line",
                    "x0": 48.67,
                    "x1": 50.83,
                    "y0": 19.5,
                    "y1": 4
                  },
                  {
                    "line": {
                      "color": "rgb(0, 0, 0)"
                    },
                    "opacity": 0.09,
                    "type": "line",
                    "x0": 48.67,
                    "x1": 44,
                    "y0": 19.5,
                    "y1": 18
                  },
                  {
                    "line": {
                      "color": "rgb(0, 0, 0)"
                    },
                    "opacity": 0.09,
                    "type": "line",
                    "x0": 48.67,
                    "x1": 51,
                    "y0": 19.5,
                    "y1": 9
                  },
                  {
                    "line": {
                      "color": "rgb(0, 0, 0)"
                    },
                    "opacity": 0.09,
                    "type": "line",
                    "x0": 48.67,
                    "x1": 46,
                    "y0": 19.5,
                    "y1": 2
                  },
                  {
                    "line": {
                      "color": "rgb(0, 0, 0)"
                    },
                    "opacity": 0.09,
                    "type": "line",
                    "x0": 48.67,
                    "x1": 52.5,
                    "y0": 19.5,
                    "y1": 5.75
                  },
                  {
                    "line": {
                      "color": "rgb(0, 0, 0)"
                    },
                    "opacity": 0.09,
                    "type": "line",
                    "x0": 48.67,
                    "x1": 49.75,
                    "y0": 19.5,
                    "y1": 15.5
                  },
                  {
                    "line": {
                      "color": "rgb(0, 0, 0)"
                    },
                    "opacity": 0.09,
                    "type": "line",
                    "x0": 48.67,
                    "x1": 45.17,
                    "y0": 19.5,
                    "y1": 15.5
                  },
                  {
                    "line": {
                      "color": "rgb(0, 0, 0)"
                    },
                    "opacity": 0.09,
                    "type": "line",
                    "x0": 48.67,
                    "x1": 49.75,
                    "y0": 19.5,
                    "y1": 6.17
                  },
                  {
                    "line": {
                      "color": "rgb(0, 0, 0)"
                    },
                    "opacity": 0.09,
                    "type": "line",
                    "x0": 48.67,
                    "x1": 46,
                    "y0": 19.5,
                    "y1": 25
                  },
                  {
                    "line": {
                      "color": "rgb(0, 0, 0)"
                    },
                    "opacity": 0.09,
                    "type": "line",
                    "x0": 48.67,
                    "x1": 47,
                    "y0": 19.5,
                    "y1": 20
                  },
                  {
                    "line": {
                      "color": "rgb(0, 0, 0)"
                    },
                    "opacity": 0.09,
                    "type": "line",
                    "x0": 48.67,
                    "x1": 42.83,
                    "y0": 19.5,
                    "y1": 12.83
                  },
                  {
                    "line": {
                      "color": "rgb(0, 0, 0)"
                    },
                    "opacity": 0.09,
                    "type": "line",
                    "x0": 48.67,
                    "x1": 54,
                    "y0": 19.5,
                    "y1": -2
                  },
                  {
                    "line": {
                      "color": "rgb(0, 0, 0)"
                    },
                    "opacity": 0.09,
                    "type": "line",
                    "x0": 52,
                    "x1": 46.12,
                    "y0": 20,
                    "y1": 14.82
                  },
                  {
                    "line": {
                      "color": "rgb(0, 0, 0)"
                    },
                    "opacity": 0.09,
                    "type": "line",
                    "x0": 52,
                    "x1": 48.67,
                    "y0": 20,
                    "y1": 19.5
                  },
                  {
                    "line": {
                      "color": "rgb(0, 0, 0)"
                    },
                    "opacity": 0.09,
                    "type": "line",
                    "x0": 52,
                    "x1": 52,
                    "y0": 20,
                    "y1": 20
                  },
                  {
                    "line": {
                      "color": "rgb(0, 0, 0)"
                    },
                    "opacity": 0.09,
                    "type": "line",
                    "x0": 52,
                    "x1": 47.33,
                    "y0": 20,
                    "y1": 13.33
                  },
                  {
                    "line": {
                      "color": "rgb(0, 0, 0)"
                    },
                    "opacity": 0.09,
                    "type": "line",
                    "x0": 52,
                    "x1": 50.83,
                    "y0": 20,
                    "y1": 4
                  },
                  {
                    "line": {
                      "color": "rgb(0, 0, 0)"
                    },
                    "opacity": 0.09,
                    "type": "line",
                    "x0": 52,
                    "x1": 44,
                    "y0": 20,
                    "y1": 18
                  },
                  {
                    "line": {
                      "color": "rgb(0, 0, 0)"
                    },
                    "opacity": 0.09,
                    "type": "line",
                    "x0": 52,
                    "x1": 51,
                    "y0": 20,
                    "y1": 9
                  },
                  {
                    "line": {
                      "color": "rgb(0, 0, 0)"
                    },
                    "opacity": 0.09,
                    "type": "line",
                    "x0": 52,
                    "x1": 46,
                    "y0": 20,
                    "y1": 2
                  },
                  {
                    "line": {
                      "color": "rgb(0, 0, 0)"
                    },
                    "opacity": 0.09,
                    "type": "line",
                    "x0": 52,
                    "x1": 52.5,
                    "y0": 20,
                    "y1": 5.75
                  },
                  {
                    "line": {
                      "color": "rgb(0, 0, 0)"
                    },
                    "opacity": 0.09,
                    "type": "line",
                    "x0": 52,
                    "x1": 49.75,
                    "y0": 20,
                    "y1": 15.5
                  },
                  {
                    "line": {
                      "color": "rgb(0, 0, 0)"
                    },
                    "opacity": 0.09,
                    "type": "line",
                    "x0": 52,
                    "x1": 45.17,
                    "y0": 20,
                    "y1": 15.5
                  },
                  {
                    "line": {
                      "color": "rgb(0, 0, 0)"
                    },
                    "opacity": 0.09,
                    "type": "line",
                    "x0": 52,
                    "x1": 49.75,
                    "y0": 20,
                    "y1": 6.17
                  },
                  {
                    "line": {
                      "color": "rgb(0, 0, 0)"
                    },
                    "opacity": 0.09,
                    "type": "line",
                    "x0": 52,
                    "x1": 46,
                    "y0": 20,
                    "y1": 25
                  },
                  {
                    "line": {
                      "color": "rgb(0, 0, 0)"
                    },
                    "opacity": 0.09,
                    "type": "line",
                    "x0": 52,
                    "x1": 47,
                    "y0": 20,
                    "y1": 20
                  },
                  {
                    "line": {
                      "color": "rgb(0, 0, 0)"
                    },
                    "opacity": 0.09,
                    "type": "line",
                    "x0": 52,
                    "x1": 42.83,
                    "y0": 20,
                    "y1": 12.83
                  },
                  {
                    "line": {
                      "color": "rgb(0, 0, 0)"
                    },
                    "opacity": 0.09,
                    "type": "line",
                    "x0": 52,
                    "x1": 54,
                    "y0": 20,
                    "y1": -2
                  },
                  {
                    "line": {
                      "color": "rgb(0, 0, 0)"
                    },
                    "opacity": 0.09,
                    "type": "line",
                    "x0": 47.33,
                    "x1": 46.12,
                    "y0": 13.33,
                    "y1": 14.82
                  },
                  {
                    "line": {
                      "color": "rgb(0, 0, 0)"
                    },
                    "opacity": 0.09,
                    "type": "line",
                    "x0": 47.33,
                    "x1": 48.67,
                    "y0": 13.33,
                    "y1": 19.5
                  },
                  {
                    "line": {
                      "color": "rgb(0, 0, 0)"
                    },
                    "opacity": 0.09,
                    "type": "line",
                    "x0": 47.33,
                    "x1": 52,
                    "y0": 13.33,
                    "y1": 20
                  },
                  {
                    "line": {
                      "color": "rgb(0, 0, 0)"
                    },
                    "opacity": 0.09,
                    "type": "line",
                    "x0": 47.33,
                    "x1": 47.33,
                    "y0": 13.33,
                    "y1": 13.33
                  },
                  {
                    "line": {
                      "color": "rgb(0, 0, 0)"
                    },
                    "opacity": 0.09,
                    "type": "line",
                    "x0": 47.33,
                    "x1": 50.83,
                    "y0": 13.33,
                    "y1": 4
                  },
                  {
                    "line": {
                      "color": "rgb(0, 0, 0)"
                    },
                    "opacity": 0.09,
                    "type": "line",
                    "x0": 47.33,
                    "x1": 44,
                    "y0": 13.33,
                    "y1": 18
                  },
                  {
                    "line": {
                      "color": "rgb(0, 0, 0)"
                    },
                    "opacity": 0.09,
                    "type": "line",
                    "x0": 47.33,
                    "x1": 51,
                    "y0": 13.33,
                    "y1": 9
                  },
                  {
                    "line": {
                      "color": "rgb(0, 0, 0)"
                    },
                    "opacity": 0.09,
                    "type": "line",
                    "x0": 47.33,
                    "x1": 46,
                    "y0": 13.33,
                    "y1": 2
                  },
                  {
                    "line": {
                      "color": "rgb(0, 0, 0)"
                    },
                    "opacity": 0.09,
                    "type": "line",
                    "x0": 47.33,
                    "x1": 52.5,
                    "y0": 13.33,
                    "y1": 5.75
                  },
                  {
                    "line": {
                      "color": "rgb(0, 0, 0)"
                    },
                    "opacity": 0.09,
                    "type": "line",
                    "x0": 47.33,
                    "x1": 49.75,
                    "y0": 13.33,
                    "y1": 15.5
                  },
                  {
                    "line": {
                      "color": "rgb(0, 0, 0)"
                    },
                    "opacity": 0.09,
                    "type": "line",
                    "x0": 47.33,
                    "x1": 45.17,
                    "y0": 13.33,
                    "y1": 15.5
                  },
                  {
                    "line": {
                      "color": "rgb(0, 0, 0)"
                    },
                    "opacity": 0.09,
                    "type": "line",
                    "x0": 47.33,
                    "x1": 49.75,
                    "y0": 13.33,
                    "y1": 6.17
                  },
                  {
                    "line": {
                      "color": "rgb(0, 0, 0)"
                    },
                    "opacity": 0.09,
                    "type": "line",
                    "x0": 47.33,
                    "x1": 46,
                    "y0": 13.33,
                    "y1": 25
                  },
                  {
                    "line": {
                      "color": "rgb(0, 0, 0)"
                    },
                    "opacity": 0.09,
                    "type": "line",
                    "x0": 47.33,
                    "x1": 47,
                    "y0": 13.33,
                    "y1": 20
                  },
                  {
                    "line": {
                      "color": "rgb(0, 0, 0)"
                    },
                    "opacity": 0.09,
                    "type": "line",
                    "x0": 47.33,
                    "x1": 42.83,
                    "y0": 13.33,
                    "y1": 12.83
                  },
                  {
                    "line": {
                      "color": "rgb(0, 0, 0)"
                    },
                    "opacity": 0.09,
                    "type": "line",
                    "x0": 47.33,
                    "x1": 54,
                    "y0": 13.33,
                    "y1": -2
                  },
                  {
                    "line": {
                      "color": "rgb(0, 0, 0)"
                    },
                    "opacity": 0.09,
                    "type": "line",
                    "x0": 50.83,
                    "x1": 46.12,
                    "y0": 4,
                    "y1": 14.82
                  },
                  {
                    "line": {
                      "color": "rgb(0, 0, 0)"
                    },
                    "opacity": 0.09,
                    "type": "line",
                    "x0": 50.83,
                    "x1": 48.67,
                    "y0": 4,
                    "y1": 19.5
                  },
                  {
                    "line": {
                      "color": "rgb(0, 0, 0)"
                    },
                    "opacity": 0.09,
                    "type": "line",
                    "x0": 50.83,
                    "x1": 52,
                    "y0": 4,
                    "y1": 20
                  },
                  {
                    "line": {
                      "color": "rgb(0, 0, 0)"
                    },
                    "opacity": 0.09,
                    "type": "line",
                    "x0": 50.83,
                    "x1": 47.33,
                    "y0": 4,
                    "y1": 13.33
                  },
                  {
                    "line": {
                      "color": "rgb(0, 0, 0)"
                    },
                    "opacity": 0.09,
                    "type": "line",
                    "x0": 50.83,
                    "x1": 50.83,
                    "y0": 4,
                    "y1": 4
                  },
                  {
                    "line": {
                      "color": "rgb(0, 0, 0)"
                    },
                    "opacity": 0.09,
                    "type": "line",
                    "x0": 50.83,
                    "x1": 44,
                    "y0": 4,
                    "y1": 18
                  },
                  {
                    "line": {
                      "color": "rgb(0, 0, 0)"
                    },
                    "opacity": 0.09,
                    "type": "line",
                    "x0": 50.83,
                    "x1": 51,
                    "y0": 4,
                    "y1": 9
                  },
                  {
                    "line": {
                      "color": "rgb(0, 0, 0)"
                    },
                    "opacity": 0.09,
                    "type": "line",
                    "x0": 50.83,
                    "x1": 46,
                    "y0": 4,
                    "y1": 2
                  },
                  {
                    "line": {
                      "color": "rgb(0, 0, 0)"
                    },
                    "opacity": 0.09,
                    "type": "line",
                    "x0": 50.83,
                    "x1": 52.5,
                    "y0": 4,
                    "y1": 5.75
                  },
                  {
                    "line": {
                      "color": "rgb(0, 0, 0)"
                    },
                    "opacity": 0.09,
                    "type": "line",
                    "x0": 50.83,
                    "x1": 49.75,
                    "y0": 4,
                    "y1": 15.5
                  },
                  {
                    "line": {
                      "color": "rgb(0, 0, 0)"
                    },
                    "opacity": 0.09,
                    "type": "line",
                    "x0": 50.83,
                    "x1": 45.17,
                    "y0": 4,
                    "y1": 15.5
                  },
                  {
                    "line": {
                      "color": "rgb(0, 0, 0)"
                    },
                    "opacity": 0.09,
                    "type": "line",
                    "x0": 50.83,
                    "x1": 49.75,
                    "y0": 4,
                    "y1": 6.17
                  },
                  {
                    "line": {
                      "color": "rgb(0, 0, 0)"
                    },
                    "opacity": 0.09,
                    "type": "line",
                    "x0": 50.83,
                    "x1": 46,
                    "y0": 4,
                    "y1": 25
                  },
                  {
                    "line": {
                      "color": "rgb(0, 0, 0)"
                    },
                    "opacity": 0.09,
                    "type": "line",
                    "x0": 50.83,
                    "x1": 47,
                    "y0": 4,
                    "y1": 20
                  },
                  {
                    "line": {
                      "color": "rgb(0, 0, 0)"
                    },
                    "opacity": 0.09,
                    "type": "line",
                    "x0": 50.83,
                    "x1": 42.83,
                    "y0": 4,
                    "y1": 12.83
                  },
                  {
                    "line": {
                      "color": "rgb(0, 0, 0)"
                    },
                    "opacity": 0.09,
                    "type": "line",
                    "x0": 50.83,
                    "x1": 54,
                    "y0": 4,
                    "y1": -2
                  },
                  {
                    "line": {
                      "color": "rgb(0, 0, 0)"
                    },
                    "opacity": 0.09,
                    "type": "line",
                    "x0": 44,
                    "x1": 46.12,
                    "y0": 18,
                    "y1": 14.82
                  },
                  {
                    "line": {
                      "color": "rgb(0, 0, 0)"
                    },
                    "opacity": 0.09,
                    "type": "line",
                    "x0": 44,
                    "x1": 48.67,
                    "y0": 18,
                    "y1": 19.5
                  },
                  {
                    "line": {
                      "color": "rgb(0, 0, 0)"
                    },
                    "opacity": 0.09,
                    "type": "line",
                    "x0": 44,
                    "x1": 52,
                    "y0": 18,
                    "y1": 20
                  },
                  {
                    "line": {
                      "color": "rgb(0, 0, 0)"
                    },
                    "opacity": 0.09,
                    "type": "line",
                    "x0": 44,
                    "x1": 47.33,
                    "y0": 18,
                    "y1": 13.33
                  },
                  {
                    "line": {
                      "color": "rgb(0, 0, 0)"
                    },
                    "opacity": 0.09,
                    "type": "line",
                    "x0": 44,
                    "x1": 50.83,
                    "y0": 18,
                    "y1": 4
                  },
                  {
                    "line": {
                      "color": "rgb(0, 0, 0)"
                    },
                    "opacity": 0.09,
                    "type": "line",
                    "x0": 44,
                    "x1": 44,
                    "y0": 18,
                    "y1": 18
                  },
                  {
                    "line": {
                      "color": "rgb(0, 0, 0)"
                    },
                    "opacity": 0.09,
                    "type": "line",
                    "x0": 44,
                    "x1": 51,
                    "y0": 18,
                    "y1": 9
                  },
                  {
                    "line": {
                      "color": "rgb(0, 0, 0)"
                    },
                    "opacity": 0.09,
                    "type": "line",
                    "x0": 44,
                    "x1": 46,
                    "y0": 18,
                    "y1": 2
                  },
                  {
                    "line": {
                      "color": "rgb(0, 0, 0)"
                    },
                    "opacity": 0.09,
                    "type": "line",
                    "x0": 44,
                    "x1": 52.5,
                    "y0": 18,
                    "y1": 5.75
                  },
                  {
                    "line": {
                      "color": "rgb(0, 0, 0)"
                    },
                    "opacity": 0.09,
                    "type": "line",
                    "x0": 44,
                    "x1": 49.75,
                    "y0": 18,
                    "y1": 15.5
                  },
                  {
                    "line": {
                      "color": "rgb(0, 0, 0)"
                    },
                    "opacity": 0.09,
                    "type": "line",
                    "x0": 44,
                    "x1": 45.17,
                    "y0": 18,
                    "y1": 15.5
                  },
                  {
                    "line": {
                      "color": "rgb(0, 0, 0)"
                    },
                    "opacity": 0.09,
                    "type": "line",
                    "x0": 44,
                    "x1": 49.75,
                    "y0": 18,
                    "y1": 6.17
                  },
                  {
                    "line": {
                      "color": "rgb(0, 0, 0)"
                    },
                    "opacity": 0.09,
                    "type": "line",
                    "x0": 44,
                    "x1": 46,
                    "y0": 18,
                    "y1": 25
                  },
                  {
                    "line": {
                      "color": "rgb(0, 0, 0)"
                    },
                    "opacity": 0.09,
                    "type": "line",
                    "x0": 44,
                    "x1": 47,
                    "y0": 18,
                    "y1": 20
                  },
                  {
                    "line": {
                      "color": "rgb(0, 0, 0)"
                    },
                    "opacity": 0.09,
                    "type": "line",
                    "x0": 44,
                    "x1": 42.83,
                    "y0": 18,
                    "y1": 12.83
                  },
                  {
                    "line": {
                      "color": "rgb(0, 0, 0)"
                    },
                    "opacity": 0.09,
                    "type": "line",
                    "x0": 44,
                    "x1": 54,
                    "y0": 18,
                    "y1": -2
                  },
                  {
                    "line": {
                      "color": "rgb(0, 0, 0)"
                    },
                    "opacity": 0.09,
                    "type": "line",
                    "x0": 51,
                    "x1": 46.12,
                    "y0": 9,
                    "y1": 14.82
                  },
                  {
                    "line": {
                      "color": "rgb(0, 0, 0)"
                    },
                    "opacity": 0.09,
                    "type": "line",
                    "x0": 51,
                    "x1": 48.67,
                    "y0": 9,
                    "y1": 19.5
                  },
                  {
                    "line": {
                      "color": "rgb(0, 0, 0)"
                    },
                    "opacity": 0.09,
                    "type": "line",
                    "x0": 51,
                    "x1": 52,
                    "y0": 9,
                    "y1": 20
                  },
                  {
                    "line": {
                      "color": "rgb(0, 0, 0)"
                    },
                    "opacity": 0.09,
                    "type": "line",
                    "x0": 51,
                    "x1": 47.33,
                    "y0": 9,
                    "y1": 13.33
                  },
                  {
                    "line": {
                      "color": "rgb(0, 0, 0)"
                    },
                    "opacity": 0.09,
                    "type": "line",
                    "x0": 51,
                    "x1": 50.83,
                    "y0": 9,
                    "y1": 4
                  },
                  {
                    "line": {
                      "color": "rgb(0, 0, 0)"
                    },
                    "opacity": 0.09,
                    "type": "line",
                    "x0": 51,
                    "x1": 44,
                    "y0": 9,
                    "y1": 18
                  },
                  {
                    "line": {
                      "color": "rgb(0, 0, 0)"
                    },
                    "opacity": 0.09,
                    "type": "line",
                    "x0": 51,
                    "x1": 51,
                    "y0": 9,
                    "y1": 9
                  },
                  {
                    "line": {
                      "color": "rgb(0, 0, 0)"
                    },
                    "opacity": 0.09,
                    "type": "line",
                    "x0": 51,
                    "x1": 46,
                    "y0": 9,
                    "y1": 2
                  },
                  {
                    "line": {
                      "color": "rgb(0, 0, 0)"
                    },
                    "opacity": 0.09,
                    "type": "line",
                    "x0": 51,
                    "x1": 52.5,
                    "y0": 9,
                    "y1": 5.75
                  },
                  {
                    "line": {
                      "color": "rgb(0, 0, 0)"
                    },
                    "opacity": 0.09,
                    "type": "line",
                    "x0": 51,
                    "x1": 49.75,
                    "y0": 9,
                    "y1": 15.5
                  },
                  {
                    "line": {
                      "color": "rgb(0, 0, 0)"
                    },
                    "opacity": 0.09,
                    "type": "line",
                    "x0": 51,
                    "x1": 45.17,
                    "y0": 9,
                    "y1": 15.5
                  },
                  {
                    "line": {
                      "color": "rgb(0, 0, 0)"
                    },
                    "opacity": 0.09,
                    "type": "line",
                    "x0": 51,
                    "x1": 49.75,
                    "y0": 9,
                    "y1": 6.17
                  },
                  {
                    "line": {
                      "color": "rgb(0, 0, 0)"
                    },
                    "opacity": 0.09,
                    "type": "line",
                    "x0": 51,
                    "x1": 46,
                    "y0": 9,
                    "y1": 25
                  },
                  {
                    "line": {
                      "color": "rgb(0, 0, 0)"
                    },
                    "opacity": 0.09,
                    "type": "line",
                    "x0": 51,
                    "x1": 47,
                    "y0": 9,
                    "y1": 20
                  },
                  {
                    "line": {
                      "color": "rgb(0, 0, 0)"
                    },
                    "opacity": 0.09,
                    "type": "line",
                    "x0": 51,
                    "x1": 42.83,
                    "y0": 9,
                    "y1": 12.83
                  },
                  {
                    "line": {
                      "color": "rgb(0, 0, 0)"
                    },
                    "opacity": 0.09,
                    "type": "line",
                    "x0": 51,
                    "x1": 54,
                    "y0": 9,
                    "y1": -2
                  },
                  {
                    "line": {
                      "color": "rgb(0, 0, 0)"
                    },
                    "opacity": 0.09,
                    "type": "line",
                    "x0": 46,
                    "x1": 46.12,
                    "y0": 2,
                    "y1": 14.82
                  },
                  {
                    "line": {
                      "color": "rgb(0, 0, 0)"
                    },
                    "opacity": 0.09,
                    "type": "line",
                    "x0": 46,
                    "x1": 48.67,
                    "y0": 2,
                    "y1": 19.5
                  },
                  {
                    "line": {
                      "color": "rgb(0, 0, 0)"
                    },
                    "opacity": 0.09,
                    "type": "line",
                    "x0": 46,
                    "x1": 52,
                    "y0": 2,
                    "y1": 20
                  },
                  {
                    "line": {
                      "color": "rgb(0, 0, 0)"
                    },
                    "opacity": 0.09,
                    "type": "line",
                    "x0": 46,
                    "x1": 47.33,
                    "y0": 2,
                    "y1": 13.33
                  },
                  {
                    "line": {
                      "color": "rgb(0, 0, 0)"
                    },
                    "opacity": 0.09,
                    "type": "line",
                    "x0": 46,
                    "x1": 50.83,
                    "y0": 2,
                    "y1": 4
                  },
                  {
                    "line": {
                      "color": "rgb(0, 0, 0)"
                    },
                    "opacity": 0.09,
                    "type": "line",
                    "x0": 46,
                    "x1": 44,
                    "y0": 2,
                    "y1": 18
                  },
                  {
                    "line": {
                      "color": "rgb(0, 0, 0)"
                    },
                    "opacity": 0.09,
                    "type": "line",
                    "x0": 46,
                    "x1": 51,
                    "y0": 2,
                    "y1": 9
                  },
                  {
                    "line": {
                      "color": "rgb(0, 0, 0)"
                    },
                    "opacity": 0.09,
                    "type": "line",
                    "x0": 46,
                    "x1": 46,
                    "y0": 2,
                    "y1": 2
                  },
                  {
                    "line": {
                      "color": "rgb(0, 0, 0)"
                    },
                    "opacity": 0.09,
                    "type": "line",
                    "x0": 46,
                    "x1": 52.5,
                    "y0": 2,
                    "y1": 5.75
                  },
                  {
                    "line": {
                      "color": "rgb(0, 0, 0)"
                    },
                    "opacity": 0.09,
                    "type": "line",
                    "x0": 46,
                    "x1": 49.75,
                    "y0": 2,
                    "y1": 15.5
                  },
                  {
                    "line": {
                      "color": "rgb(0, 0, 0)"
                    },
                    "opacity": 0.09,
                    "type": "line",
                    "x0": 46,
                    "x1": 45.17,
                    "y0": 2,
                    "y1": 15.5
                  },
                  {
                    "line": {
                      "color": "rgb(0, 0, 0)"
                    },
                    "opacity": 0.09,
                    "type": "line",
                    "x0": 46,
                    "x1": 49.75,
                    "y0": 2,
                    "y1": 6.17
                  },
                  {
                    "line": {
                      "color": "rgb(0, 0, 0)"
                    },
                    "opacity": 0.09,
                    "type": "line",
                    "x0": 46,
                    "x1": 46,
                    "y0": 2,
                    "y1": 25
                  },
                  {
                    "line": {
                      "color": "rgb(0, 0, 0)"
                    },
                    "opacity": 0.09,
                    "type": "line",
                    "x0": 46,
                    "x1": 47,
                    "y0": 2,
                    "y1": 20
                  },
                  {
                    "line": {
                      "color": "rgb(0, 0, 0)"
                    },
                    "opacity": 0.09,
                    "type": "line",
                    "x0": 46,
                    "x1": 42.83,
                    "y0": 2,
                    "y1": 12.83
                  },
                  {
                    "line": {
                      "color": "rgb(0, 0, 0)"
                    },
                    "opacity": 0.09,
                    "type": "line",
                    "x0": 46,
                    "x1": 54,
                    "y0": 2,
                    "y1": -2
                  },
                  {
                    "line": {
                      "color": "rgb(0, 0, 0)"
                    },
                    "opacity": 0.09,
                    "type": "line",
                    "x0": 52.5,
                    "x1": 46.12,
                    "y0": 5.75,
                    "y1": 14.82
                  },
                  {
                    "line": {
                      "color": "rgb(0, 0, 0)"
                    },
                    "opacity": 0.09,
                    "type": "line",
                    "x0": 52.5,
                    "x1": 48.67,
                    "y0": 5.75,
                    "y1": 19.5
                  },
                  {
                    "line": {
                      "color": "rgb(0, 0, 0)"
                    },
                    "opacity": 0.09,
                    "type": "line",
                    "x0": 52.5,
                    "x1": 52,
                    "y0": 5.75,
                    "y1": 20
                  },
                  {
                    "line": {
                      "color": "rgb(0, 0, 0)"
                    },
                    "opacity": 0.09,
                    "type": "line",
                    "x0": 52.5,
                    "x1": 47.33,
                    "y0": 5.75,
                    "y1": 13.33
                  },
                  {
                    "line": {
                      "color": "rgb(0, 0, 0)"
                    },
                    "opacity": 0.09,
                    "type": "line",
                    "x0": 52.5,
                    "x1": 50.83,
                    "y0": 5.75,
                    "y1": 4
                  },
                  {
                    "line": {
                      "color": "rgb(0, 0, 0)"
                    },
                    "opacity": 0.09,
                    "type": "line",
                    "x0": 52.5,
                    "x1": 44,
                    "y0": 5.75,
                    "y1": 18
                  },
                  {
                    "line": {
                      "color": "rgb(0, 0, 0)"
                    },
                    "opacity": 0.09,
                    "type": "line",
                    "x0": 52.5,
                    "x1": 51,
                    "y0": 5.75,
                    "y1": 9
                  },
                  {
                    "line": {
                      "color": "rgb(0, 0, 0)"
                    },
                    "opacity": 0.09,
                    "type": "line",
                    "x0": 52.5,
                    "x1": 46,
                    "y0": 5.75,
                    "y1": 2
                  },
                  {
                    "line": {
                      "color": "rgb(0, 0, 0)"
                    },
                    "opacity": 0.09,
                    "type": "line",
                    "x0": 52.5,
                    "x1": 52.5,
                    "y0": 5.75,
                    "y1": 5.75
                  },
                  {
                    "line": {
                      "color": "rgb(0, 0, 0)"
                    },
                    "opacity": 0.09,
                    "type": "line",
                    "x0": 52.5,
                    "x1": 49.75,
                    "y0": 5.75,
                    "y1": 15.5
                  },
                  {
                    "line": {
                      "color": "rgb(0, 0, 0)"
                    },
                    "opacity": 0.09,
                    "type": "line",
                    "x0": 52.5,
                    "x1": 45.17,
                    "y0": 5.75,
                    "y1": 15.5
                  },
                  {
                    "line": {
                      "color": "rgb(0, 0, 0)"
                    },
                    "opacity": 0.09,
                    "type": "line",
                    "x0": 52.5,
                    "x1": 49.75,
                    "y0": 5.75,
                    "y1": 6.17
                  },
                  {
                    "line": {
                      "color": "rgb(0, 0, 0)"
                    },
                    "opacity": 0.09,
                    "type": "line",
                    "x0": 52.5,
                    "x1": 46,
                    "y0": 5.75,
                    "y1": 25
                  },
                  {
                    "line": {
                      "color": "rgb(0, 0, 0)"
                    },
                    "opacity": 0.09,
                    "type": "line",
                    "x0": 52.5,
                    "x1": 47,
                    "y0": 5.75,
                    "y1": 20
                  },
                  {
                    "line": {
                      "color": "rgb(0, 0, 0)"
                    },
                    "opacity": 0.09,
                    "type": "line",
                    "x0": 52.5,
                    "x1": 42.83,
                    "y0": 5.75,
                    "y1": 12.83
                  },
                  {
                    "line": {
                      "color": "rgb(0, 0, 0)"
                    },
                    "opacity": 0.09,
                    "type": "line",
                    "x0": 52.5,
                    "x1": 54,
                    "y0": 5.75,
                    "y1": -2
                  },
                  {
                    "line": {
                      "color": "rgb(0, 0, 0)"
                    },
                    "opacity": 0.09,
                    "type": "line",
                    "x0": 49.75,
                    "x1": 46.12,
                    "y0": 15.5,
                    "y1": 14.82
                  },
                  {
                    "line": {
                      "color": "rgb(0, 0, 0)"
                    },
                    "opacity": 0.09,
                    "type": "line",
                    "x0": 49.75,
                    "x1": 48.67,
                    "y0": 15.5,
                    "y1": 19.5
                  },
                  {
                    "line": {
                      "color": "rgb(0, 0, 0)"
                    },
                    "opacity": 0.09,
                    "type": "line",
                    "x0": 49.75,
                    "x1": 52,
                    "y0": 15.5,
                    "y1": 20
                  },
                  {
                    "line": {
                      "color": "rgb(0, 0, 0)"
                    },
                    "opacity": 0.09,
                    "type": "line",
                    "x0": 49.75,
                    "x1": 47.33,
                    "y0": 15.5,
                    "y1": 13.33
                  },
                  {
                    "line": {
                      "color": "rgb(0, 0, 0)"
                    },
                    "opacity": 0.09,
                    "type": "line",
                    "x0": 49.75,
                    "x1": 50.83,
                    "y0": 15.5,
                    "y1": 4
                  },
                  {
                    "line": {
                      "color": "rgb(0, 0, 0)"
                    },
                    "opacity": 0.09,
                    "type": "line",
                    "x0": 49.75,
                    "x1": 44,
                    "y0": 15.5,
                    "y1": 18
                  },
                  {
                    "line": {
                      "color": "rgb(0, 0, 0)"
                    },
                    "opacity": 0.09,
                    "type": "line",
                    "x0": 49.75,
                    "x1": 51,
                    "y0": 15.5,
                    "y1": 9
                  },
                  {
                    "line": {
                      "color": "rgb(0, 0, 0)"
                    },
                    "opacity": 0.09,
                    "type": "line",
                    "x0": 49.75,
                    "x1": 46,
                    "y0": 15.5,
                    "y1": 2
                  },
                  {
                    "line": {
                      "color": "rgb(0, 0, 0)"
                    },
                    "opacity": 0.09,
                    "type": "line",
                    "x0": 49.75,
                    "x1": 52.5,
                    "y0": 15.5,
                    "y1": 5.75
                  },
                  {
                    "line": {
                      "color": "rgb(0, 0, 0)"
                    },
                    "opacity": 0.09,
                    "type": "line",
                    "x0": 49.75,
                    "x1": 49.75,
                    "y0": 15.5,
                    "y1": 15.5
                  },
                  {
                    "line": {
                      "color": "rgb(0, 0, 0)"
                    },
                    "opacity": 0.09,
                    "type": "line",
                    "x0": 49.75,
                    "x1": 45.17,
                    "y0": 15.5,
                    "y1": 15.5
                  },
                  {
                    "line": {
                      "color": "rgb(0, 0, 0)"
                    },
                    "opacity": 0.09,
                    "type": "line",
                    "x0": 49.75,
                    "x1": 49.75,
                    "y0": 15.5,
                    "y1": 6.17
                  },
                  {
                    "line": {
                      "color": "rgb(0, 0, 0)"
                    },
                    "opacity": 0.09,
                    "type": "line",
                    "x0": 49.75,
                    "x1": 46,
                    "y0": 15.5,
                    "y1": 25
                  },
                  {
                    "line": {
                      "color": "rgb(0, 0, 0)"
                    },
                    "opacity": 0.09,
                    "type": "line",
                    "x0": 49.75,
                    "x1": 47,
                    "y0": 15.5,
                    "y1": 20
                  },
                  {
                    "line": {
                      "color": "rgb(0, 0, 0)"
                    },
                    "opacity": 0.09,
                    "type": "line",
                    "x0": 49.75,
                    "x1": 42.83,
                    "y0": 15.5,
                    "y1": 12.83
                  },
                  {
                    "line": {
                      "color": "rgb(0, 0, 0)"
                    },
                    "opacity": 0.09,
                    "type": "line",
                    "x0": 49.75,
                    "x1": 54,
                    "y0": 15.5,
                    "y1": -2
                  },
                  {
                    "line": {
                      "color": "rgb(0, 0, 0)"
                    },
                    "opacity": 0.09,
                    "type": "line",
                    "x0": 45.17,
                    "x1": 46.12,
                    "y0": 15.5,
                    "y1": 14.82
                  },
                  {
                    "line": {
                      "color": "rgb(0, 0, 0)"
                    },
                    "opacity": 0.09,
                    "type": "line",
                    "x0": 45.17,
                    "x1": 48.67,
                    "y0": 15.5,
                    "y1": 19.5
                  },
                  {
                    "line": {
                      "color": "rgb(0, 0, 0)"
                    },
                    "opacity": 0.09,
                    "type": "line",
                    "x0": 45.17,
                    "x1": 52,
                    "y0": 15.5,
                    "y1": 20
                  },
                  {
                    "line": {
                      "color": "rgb(0, 0, 0)"
                    },
                    "opacity": 0.09,
                    "type": "line",
                    "x0": 45.17,
                    "x1": 47.33,
                    "y0": 15.5,
                    "y1": 13.33
                  },
                  {
                    "line": {
                      "color": "rgb(0, 0, 0)"
                    },
                    "opacity": 0.09,
                    "type": "line",
                    "x0": 45.17,
                    "x1": 50.83,
                    "y0": 15.5,
                    "y1": 4
                  },
                  {
                    "line": {
                      "color": "rgb(0, 0, 0)"
                    },
                    "opacity": 0.09,
                    "type": "line",
                    "x0": 45.17,
                    "x1": 44,
                    "y0": 15.5,
                    "y1": 18
                  },
                  {
                    "line": {
                      "color": "rgb(0, 0, 0)"
                    },
                    "opacity": 0.09,
                    "type": "line",
                    "x0": 45.17,
                    "x1": 51,
                    "y0": 15.5,
                    "y1": 9
                  },
                  {
                    "line": {
                      "color": "rgb(0, 0, 0)"
                    },
                    "opacity": 0.09,
                    "type": "line",
                    "x0": 45.17,
                    "x1": 46,
                    "y0": 15.5,
                    "y1": 2
                  },
                  {
                    "line": {
                      "color": "rgb(0, 0, 0)"
                    },
                    "opacity": 0.09,
                    "type": "line",
                    "x0": 45.17,
                    "x1": 52.5,
                    "y0": 15.5,
                    "y1": 5.75
                  },
                  {
                    "line": {
                      "color": "rgb(0, 0, 0)"
                    },
                    "opacity": 0.09,
                    "type": "line",
                    "x0": 45.17,
                    "x1": 49.75,
                    "y0": 15.5,
                    "y1": 15.5
                  },
                  {
                    "line": {
                      "color": "rgb(0, 0, 0)"
                    },
                    "opacity": 0.09,
                    "type": "line",
                    "x0": 45.17,
                    "x1": 45.17,
                    "y0": 15.5,
                    "y1": 15.5
                  },
                  {
                    "line": {
                      "color": "rgb(0, 0, 0)"
                    },
                    "opacity": 0.09,
                    "type": "line",
                    "x0": 45.17,
                    "x1": 49.75,
                    "y0": 15.5,
                    "y1": 6.17
                  },
                  {
                    "line": {
                      "color": "rgb(0, 0, 0)"
                    },
                    "opacity": 0.09,
                    "type": "line",
                    "x0": 45.17,
                    "x1": 46,
                    "y0": 15.5,
                    "y1": 25
                  },
                  {
                    "line": {
                      "color": "rgb(0, 0, 0)"
                    },
                    "opacity": 0.09,
                    "type": "line",
                    "x0": 45.17,
                    "x1": 47,
                    "y0": 15.5,
                    "y1": 20
                  },
                  {
                    "line": {
                      "color": "rgb(0, 0, 0)"
                    },
                    "opacity": 0.09,
                    "type": "line",
                    "x0": 45.17,
                    "x1": 42.83,
                    "y0": 15.5,
                    "y1": 12.83
                  },
                  {
                    "line": {
                      "color": "rgb(0, 0, 0)"
                    },
                    "opacity": 0.09,
                    "type": "line",
                    "x0": 45.17,
                    "x1": 54,
                    "y0": 15.5,
                    "y1": -2
                  },
                  {
                    "line": {
                      "color": "rgb(0, 0, 0)"
                    },
                    "opacity": 0.09,
                    "type": "line",
                    "x0": 49.75,
                    "x1": 46.12,
                    "y0": 6.17,
                    "y1": 14.82
                  },
                  {
                    "line": {
                      "color": "rgb(0, 0, 0)"
                    },
                    "opacity": 0.09,
                    "type": "line",
                    "x0": 49.75,
                    "x1": 48.67,
                    "y0": 6.17,
                    "y1": 19.5
                  },
                  {
                    "line": {
                      "color": "rgb(0, 0, 0)"
                    },
                    "opacity": 0.09,
                    "type": "line",
                    "x0": 49.75,
                    "x1": 52,
                    "y0": 6.17,
                    "y1": 20
                  },
                  {
                    "line": {
                      "color": "rgb(0, 0, 0)"
                    },
                    "opacity": 0.09,
                    "type": "line",
                    "x0": 49.75,
                    "x1": 47.33,
                    "y0": 6.17,
                    "y1": 13.33
                  },
                  {
                    "line": {
                      "color": "rgb(0, 0, 0)"
                    },
                    "opacity": 0.09,
                    "type": "line",
                    "x0": 49.75,
                    "x1": 50.83,
                    "y0": 6.17,
                    "y1": 4
                  },
                  {
                    "line": {
                      "color": "rgb(0, 0, 0)"
                    },
                    "opacity": 0.09,
                    "type": "line",
                    "x0": 49.75,
                    "x1": 44,
                    "y0": 6.17,
                    "y1": 18
                  },
                  {
                    "line": {
                      "color": "rgb(0, 0, 0)"
                    },
                    "opacity": 0.09,
                    "type": "line",
                    "x0": 49.75,
                    "x1": 51,
                    "y0": 6.17,
                    "y1": 9
                  },
                  {
                    "line": {
                      "color": "rgb(0, 0, 0)"
                    },
                    "opacity": 0.09,
                    "type": "line",
                    "x0": 49.75,
                    "x1": 46,
                    "y0": 6.17,
                    "y1": 2
                  },
                  {
                    "line": {
                      "color": "rgb(0, 0, 0)"
                    },
                    "opacity": 0.09,
                    "type": "line",
                    "x0": 49.75,
                    "x1": 52.5,
                    "y0": 6.17,
                    "y1": 5.75
                  },
                  {
                    "line": {
                      "color": "rgb(0, 0, 0)"
                    },
                    "opacity": 0.09,
                    "type": "line",
                    "x0": 49.75,
                    "x1": 49.75,
                    "y0": 6.17,
                    "y1": 15.5
                  },
                  {
                    "line": {
                      "color": "rgb(0, 0, 0)"
                    },
                    "opacity": 0.09,
                    "type": "line",
                    "x0": 49.75,
                    "x1": 45.17,
                    "y0": 6.17,
                    "y1": 15.5
                  },
                  {
                    "line": {
                      "color": "rgb(0, 0, 0)"
                    },
                    "opacity": 0.09,
                    "type": "line",
                    "x0": 49.75,
                    "x1": 49.75,
                    "y0": 6.17,
                    "y1": 6.17
                  },
                  {
                    "line": {
                      "color": "rgb(0, 0, 0)"
                    },
                    "opacity": 0.09,
                    "type": "line",
                    "x0": 49.75,
                    "x1": 46,
                    "y0": 6.17,
                    "y1": 25
                  },
                  {
                    "line": {
                      "color": "rgb(0, 0, 0)"
                    },
                    "opacity": 0.09,
                    "type": "line",
                    "x0": 49.75,
                    "x1": 47,
                    "y0": 6.17,
                    "y1": 20
                  },
                  {
                    "line": {
                      "color": "rgb(0, 0, 0)"
                    },
                    "opacity": 0.09,
                    "type": "line",
                    "x0": 49.75,
                    "x1": 42.83,
                    "y0": 6.17,
                    "y1": 12.83
                  },
                  {
                    "line": {
                      "color": "rgb(0, 0, 0)"
                    },
                    "opacity": 0.09,
                    "type": "line",
                    "x0": 49.75,
                    "x1": 54,
                    "y0": 6.17,
                    "y1": -2
                  },
                  {
                    "line": {
                      "color": "rgb(0, 0, 0)"
                    },
                    "opacity": 0.09,
                    "type": "line",
                    "x0": 46,
                    "x1": 46.12,
                    "y0": 25,
                    "y1": 14.82
                  },
                  {
                    "line": {
                      "color": "rgb(0, 0, 0)"
                    },
                    "opacity": 0.09,
                    "type": "line",
                    "x0": 46,
                    "x1": 48.67,
                    "y0": 25,
                    "y1": 19.5
                  },
                  {
                    "line": {
                      "color": "rgb(0, 0, 0)"
                    },
                    "opacity": 0.09,
                    "type": "line",
                    "x0": 46,
                    "x1": 52,
                    "y0": 25,
                    "y1": 20
                  },
                  {
                    "line": {
                      "color": "rgb(0, 0, 0)"
                    },
                    "opacity": 0.09,
                    "type": "line",
                    "x0": 46,
                    "x1": 47.33,
                    "y0": 25,
                    "y1": 13.33
                  },
                  {
                    "line": {
                      "color": "rgb(0, 0, 0)"
                    },
                    "opacity": 0.09,
                    "type": "line",
                    "x0": 46,
                    "x1": 50.83,
                    "y0": 25,
                    "y1": 4
                  },
                  {
                    "line": {
                      "color": "rgb(0, 0, 0)"
                    },
                    "opacity": 0.09,
                    "type": "line",
                    "x0": 46,
                    "x1": 44,
                    "y0": 25,
                    "y1": 18
                  },
                  {
                    "line": {
                      "color": "rgb(0, 0, 0)"
                    },
                    "opacity": 0.09,
                    "type": "line",
                    "x0": 46,
                    "x1": 51,
                    "y0": 25,
                    "y1": 9
                  },
                  {
                    "line": {
                      "color": "rgb(0, 0, 0)"
                    },
                    "opacity": 0.09,
                    "type": "line",
                    "x0": 46,
                    "x1": 46,
                    "y0": 25,
                    "y1": 2
                  },
                  {
                    "line": {
                      "color": "rgb(0, 0, 0)"
                    },
                    "opacity": 0.09,
                    "type": "line",
                    "x0": 46,
                    "x1": 52.5,
                    "y0": 25,
                    "y1": 5.75
                  },
                  {
                    "line": {
                      "color": "rgb(0, 0, 0)"
                    },
                    "opacity": 0.09,
                    "type": "line",
                    "x0": 46,
                    "x1": 49.75,
                    "y0": 25,
                    "y1": 15.5
                  },
                  {
                    "line": {
                      "color": "rgb(0, 0, 0)"
                    },
                    "opacity": 0.09,
                    "type": "line",
                    "x0": 46,
                    "x1": 45.17,
                    "y0": 25,
                    "y1": 15.5
                  },
                  {
                    "line": {
                      "color": "rgb(0, 0, 0)"
                    },
                    "opacity": 0.09,
                    "type": "line",
                    "x0": 46,
                    "x1": 49.75,
                    "y0": 25,
                    "y1": 6.17
                  },
                  {
                    "line": {
                      "color": "rgb(0, 0, 0)"
                    },
                    "opacity": 0.09,
                    "type": "line",
                    "x0": 46,
                    "x1": 46,
                    "y0": 25,
                    "y1": 25
                  },
                  {
                    "line": {
                      "color": "rgb(0, 0, 0)"
                    },
                    "opacity": 0.09,
                    "type": "line",
                    "x0": 46,
                    "x1": 47,
                    "y0": 25,
                    "y1": 20
                  },
                  {
                    "line": {
                      "color": "rgb(0, 0, 0)"
                    },
                    "opacity": 0.09,
                    "type": "line",
                    "x0": 46,
                    "x1": 42.83,
                    "y0": 25,
                    "y1": 12.83
                  },
                  {
                    "line": {
                      "color": "rgb(0, 0, 0)"
                    },
                    "opacity": 0.09,
                    "type": "line",
                    "x0": 46,
                    "x1": 54,
                    "y0": 25,
                    "y1": -2
                  },
                  {
                    "line": {
                      "color": "rgb(0, 0, 0)"
                    },
                    "opacity": 0.09,
                    "type": "line",
                    "x0": 47,
                    "x1": 46.12,
                    "y0": 20,
                    "y1": 14.82
                  },
                  {
                    "line": {
                      "color": "rgb(0, 0, 0)"
                    },
                    "opacity": 0.09,
                    "type": "line",
                    "x0": 47,
                    "x1": 48.67,
                    "y0": 20,
                    "y1": 19.5
                  },
                  {
                    "line": {
                      "color": "rgb(0, 0, 0)"
                    },
                    "opacity": 0.09,
                    "type": "line",
                    "x0": 47,
                    "x1": 52,
                    "y0": 20,
                    "y1": 20
                  },
                  {
                    "line": {
                      "color": "rgb(0, 0, 0)"
                    },
                    "opacity": 0.09,
                    "type": "line",
                    "x0": 47,
                    "x1": 47.33,
                    "y0": 20,
                    "y1": 13.33
                  },
                  {
                    "line": {
                      "color": "rgb(0, 0, 0)"
                    },
                    "opacity": 0.09,
                    "type": "line",
                    "x0": 47,
                    "x1": 50.83,
                    "y0": 20,
                    "y1": 4
                  },
                  {
                    "line": {
                      "color": "rgb(0, 0, 0)"
                    },
                    "opacity": 0.09,
                    "type": "line",
                    "x0": 47,
                    "x1": 44,
                    "y0": 20,
                    "y1": 18
                  },
                  {
                    "line": {
                      "color": "rgb(0, 0, 0)"
                    },
                    "opacity": 0.09,
                    "type": "line",
                    "x0": 47,
                    "x1": 51,
                    "y0": 20,
                    "y1": 9
                  },
                  {
                    "line": {
                      "color": "rgb(0, 0, 0)"
                    },
                    "opacity": 0.09,
                    "type": "line",
                    "x0": 47,
                    "x1": 46,
                    "y0": 20,
                    "y1": 2
                  },
                  {
                    "line": {
                      "color": "rgb(0, 0, 0)"
                    },
                    "opacity": 0.09,
                    "type": "line",
                    "x0": 47,
                    "x1": 52.5,
                    "y0": 20,
                    "y1": 5.75
                  },
                  {
                    "line": {
                      "color": "rgb(0, 0, 0)"
                    },
                    "opacity": 0.09,
                    "type": "line",
                    "x0": 47,
                    "x1": 49.75,
                    "y0": 20,
                    "y1": 15.5
                  },
                  {
                    "line": {
                      "color": "rgb(0, 0, 0)"
                    },
                    "opacity": 0.09,
                    "type": "line",
                    "x0": 47,
                    "x1": 45.17,
                    "y0": 20,
                    "y1": 15.5
                  },
                  {
                    "line": {
                      "color": "rgb(0, 0, 0)"
                    },
                    "opacity": 0.09,
                    "type": "line",
                    "x0": 47,
                    "x1": 49.75,
                    "y0": 20,
                    "y1": 6.17
                  },
                  {
                    "line": {
                      "color": "rgb(0, 0, 0)"
                    },
                    "opacity": 0.09,
                    "type": "line",
                    "x0": 47,
                    "x1": 46,
                    "y0": 20,
                    "y1": 25
                  },
                  {
                    "line": {
                      "color": "rgb(0, 0, 0)"
                    },
                    "opacity": 0.09,
                    "type": "line",
                    "x0": 47,
                    "x1": 47,
                    "y0": 20,
                    "y1": 20
                  },
                  {
                    "line": {
                      "color": "rgb(0, 0, 0)"
                    },
                    "opacity": 0.09,
                    "type": "line",
                    "x0": 47,
                    "x1": 42.83,
                    "y0": 20,
                    "y1": 12.83
                  },
                  {
                    "line": {
                      "color": "rgb(0, 0, 0)"
                    },
                    "opacity": 0.09,
                    "type": "line",
                    "x0": 47,
                    "x1": 54,
                    "y0": 20,
                    "y1": -2
                  },
                  {
                    "line": {
                      "color": "rgb(0, 0, 0)"
                    },
                    "opacity": 0.09,
                    "type": "line",
                    "x0": 42.83,
                    "x1": 46.12,
                    "y0": 12.83,
                    "y1": 14.82
                  },
                  {
                    "line": {
                      "color": "rgb(0, 0, 0)"
                    },
                    "opacity": 0.09,
                    "type": "line",
                    "x0": 42.83,
                    "x1": 48.67,
                    "y0": 12.83,
                    "y1": 19.5
                  },
                  {
                    "line": {
                      "color": "rgb(0, 0, 0)"
                    },
                    "opacity": 0.09,
                    "type": "line",
                    "x0": 42.83,
                    "x1": 52,
                    "y0": 12.83,
                    "y1": 20
                  },
                  {
                    "line": {
                      "color": "rgb(0, 0, 0)"
                    },
                    "opacity": 0.09,
                    "type": "line",
                    "x0": 42.83,
                    "x1": 47.33,
                    "y0": 12.83,
                    "y1": 13.33
                  },
                  {
                    "line": {
                      "color": "rgb(0, 0, 0)"
                    },
                    "opacity": 0.09,
                    "type": "line",
                    "x0": 42.83,
                    "x1": 50.83,
                    "y0": 12.83,
                    "y1": 4
                  },
                  {
                    "line": {
                      "color": "rgb(0, 0, 0)"
                    },
                    "opacity": 0.09,
                    "type": "line",
                    "x0": 42.83,
                    "x1": 44,
                    "y0": 12.83,
                    "y1": 18
                  },
                  {
                    "line": {
                      "color": "rgb(0, 0, 0)"
                    },
                    "opacity": 0.09,
                    "type": "line",
                    "x0": 42.83,
                    "x1": 51,
                    "y0": 12.83,
                    "y1": 9
                  },
                  {
                    "line": {
                      "color": "rgb(0, 0, 0)"
                    },
                    "opacity": 0.09,
                    "type": "line",
                    "x0": 42.83,
                    "x1": 46,
                    "y0": 12.83,
                    "y1": 2
                  },
                  {
                    "line": {
                      "color": "rgb(0, 0, 0)"
                    },
                    "opacity": 0.09,
                    "type": "line",
                    "x0": 42.83,
                    "x1": 52.5,
                    "y0": 12.83,
                    "y1": 5.75
                  },
                  {
                    "line": {
                      "color": "rgb(0, 0, 0)"
                    },
                    "opacity": 0.09,
                    "type": "line",
                    "x0": 42.83,
                    "x1": 49.75,
                    "y0": 12.83,
                    "y1": 15.5
                  },
                  {
                    "line": {
                      "color": "rgb(0, 0, 0)"
                    },
                    "opacity": 0.09,
                    "type": "line",
                    "x0": 42.83,
                    "x1": 45.17,
                    "y0": 12.83,
                    "y1": 15.5
                  },
                  {
                    "line": {
                      "color": "rgb(0, 0, 0)"
                    },
                    "opacity": 0.09,
                    "type": "line",
                    "x0": 42.83,
                    "x1": 49.75,
                    "y0": 12.83,
                    "y1": 6.17
                  },
                  {
                    "line": {
                      "color": "rgb(0, 0, 0)"
                    },
                    "opacity": 0.09,
                    "type": "line",
                    "x0": 42.83,
                    "x1": 46,
                    "y0": 12.83,
                    "y1": 25
                  },
                  {
                    "line": {
                      "color": "rgb(0, 0, 0)"
                    },
                    "opacity": 0.09,
                    "type": "line",
                    "x0": 42.83,
                    "x1": 47,
                    "y0": 12.83,
                    "y1": 20
                  },
                  {
                    "line": {
                      "color": "rgb(0, 0, 0)"
                    },
                    "opacity": 0.09,
                    "type": "line",
                    "x0": 42.83,
                    "x1": 42.83,
                    "y0": 12.83,
                    "y1": 12.83
                  },
                  {
                    "line": {
                      "color": "rgb(0, 0, 0)"
                    },
                    "opacity": 0.09,
                    "type": "line",
                    "x0": 42.83,
                    "x1": 54,
                    "y0": 12.83,
                    "y1": -2
                  },
                  {
                    "line": {
                      "color": "rgb(0, 0, 0)"
                    },
                    "opacity": 0.09,
                    "type": "line",
                    "x0": 54,
                    "x1": 46.12,
                    "y0": -2,
                    "y1": 14.82
                  },
                  {
                    "line": {
                      "color": "rgb(0, 0, 0)"
                    },
                    "opacity": 0.09,
                    "type": "line",
                    "x0": 54,
                    "x1": 48.67,
                    "y0": -2,
                    "y1": 19.5
                  },
                  {
                    "line": {
                      "color": "rgb(0, 0, 0)"
                    },
                    "opacity": 0.09,
                    "type": "line",
                    "x0": 54,
                    "x1": 52,
                    "y0": -2,
                    "y1": 20
                  },
                  {
                    "line": {
                      "color": "rgb(0, 0, 0)"
                    },
                    "opacity": 0.09,
                    "type": "line",
                    "x0": 54,
                    "x1": 47.33,
                    "y0": -2,
                    "y1": 13.33
                  },
                  {
                    "line": {
                      "color": "rgb(0, 0, 0)"
                    },
                    "opacity": 0.09,
                    "type": "line",
                    "x0": 54,
                    "x1": 50.83,
                    "y0": -2,
                    "y1": 4
                  },
                  {
                    "line": {
                      "color": "rgb(0, 0, 0)"
                    },
                    "opacity": 0.09,
                    "type": "line",
                    "x0": 54,
                    "x1": 44,
                    "y0": -2,
                    "y1": 18
                  },
                  {
                    "line": {
                      "color": "rgb(0, 0, 0)"
                    },
                    "opacity": 0.09,
                    "type": "line",
                    "x0": 54,
                    "x1": 51,
                    "y0": -2,
                    "y1": 9
                  },
                  {
                    "line": {
                      "color": "rgb(0, 0, 0)"
                    },
                    "opacity": 0.09,
                    "type": "line",
                    "x0": 54,
                    "x1": 46,
                    "y0": -2,
                    "y1": 2
                  },
                  {
                    "line": {
                      "color": "rgb(0, 0, 0)"
                    },
                    "opacity": 0.09,
                    "type": "line",
                    "x0": 54,
                    "x1": 52.5,
                    "y0": -2,
                    "y1": 5.75
                  },
                  {
                    "line": {
                      "color": "rgb(0, 0, 0)"
                    },
                    "opacity": 0.09,
                    "type": "line",
                    "x0": 54,
                    "x1": 49.75,
                    "y0": -2,
                    "y1": 15.5
                  },
                  {
                    "line": {
                      "color": "rgb(0, 0, 0)"
                    },
                    "opacity": 0.09,
                    "type": "line",
                    "x0": 54,
                    "x1": 45.17,
                    "y0": -2,
                    "y1": 15.5
                  },
                  {
                    "line": {
                      "color": "rgb(0, 0, 0)"
                    },
                    "opacity": 0.09,
                    "type": "line",
                    "x0": 54,
                    "x1": 49.75,
                    "y0": -2,
                    "y1": 6.17
                  },
                  {
                    "line": {
                      "color": "rgb(0, 0, 0)"
                    },
                    "opacity": 0.09,
                    "type": "line",
                    "x0": 54,
                    "x1": 46,
                    "y0": -2,
                    "y1": 25
                  },
                  {
                    "line": {
                      "color": "rgb(0, 0, 0)"
                    },
                    "opacity": 0.09,
                    "type": "line",
                    "x0": 54,
                    "x1": 47,
                    "y0": -2,
                    "y1": 20
                  },
                  {
                    "line": {
                      "color": "rgb(0, 0, 0)"
                    },
                    "opacity": 0.09,
                    "type": "line",
                    "x0": 54,
                    "x1": 42.83,
                    "y0": -2,
                    "y1": 12.83
                  },
                  {
                    "line": {
                      "color": "rgb(0, 0, 0)"
                    },
                    "opacity": 0.09,
                    "type": "line",
                    "x0": 54,
                    "x1": 54,
                    "y0": -2,
                    "y1": -2
                  }
                ],
                "showlegend": false,
                "template": {
                  "data": {
                    "bar": [
                      {
                        "error_x": {
                          "color": "#2a3f5f"
                        },
                        "error_y": {
                          "color": "#2a3f5f"
                        },
                        "marker": {
                          "line": {
                            "color": "white",
                            "width": 0.5
                          },
                          "pattern": {
                            "fillmode": "overlay",
                            "size": 10,
                            "solidity": 0.2
                          }
                        },
                        "type": "bar"
                      }
                    ],
                    "barpolar": [
                      {
                        "marker": {
                          "line": {
                            "color": "white",
                            "width": 0.5
                          },
                          "pattern": {
                            "fillmode": "overlay",
                            "size": 10,
                            "solidity": 0.2
                          }
                        },
                        "type": "barpolar"
                      }
                    ],
                    "carpet": [
                      {
                        "aaxis": {
                          "endlinecolor": "#2a3f5f",
                          "gridcolor": "#C8D4E3",
                          "linecolor": "#C8D4E3",
                          "minorgridcolor": "#C8D4E3",
                          "startlinecolor": "#2a3f5f"
                        },
                        "baxis": {
                          "endlinecolor": "#2a3f5f",
                          "gridcolor": "#C8D4E3",
                          "linecolor": "#C8D4E3",
                          "minorgridcolor": "#C8D4E3",
                          "startlinecolor": "#2a3f5f"
                        },
                        "type": "carpet"
                      }
                    ],
                    "choropleth": [
                      {
                        "colorbar": {
                          "outlinewidth": 0,
                          "ticks": ""
                        },
                        "type": "choropleth"
                      }
                    ],
                    "contour": [
                      {
                        "colorbar": {
                          "outlinewidth": 0,
                          "ticks": ""
                        },
                        "colorscale": [
                          [
                            0,
                            "#0d0887"
                          ],
                          [
                            0.1111111111111111,
                            "#46039f"
                          ],
                          [
                            0.2222222222222222,
                            "#7201a8"
                          ],
                          [
                            0.3333333333333333,
                            "#9c179e"
                          ],
                          [
                            0.4444444444444444,
                            "#bd3786"
                          ],
                          [
                            0.5555555555555556,
                            "#d8576b"
                          ],
                          [
                            0.6666666666666666,
                            "#ed7953"
                          ],
                          [
                            0.7777777777777778,
                            "#fb9f3a"
                          ],
                          [
                            0.8888888888888888,
                            "#fdca26"
                          ],
                          [
                            1,
                            "#f0f921"
                          ]
                        ],
                        "type": "contour"
                      }
                    ],
                    "contourcarpet": [
                      {
                        "colorbar": {
                          "outlinewidth": 0,
                          "ticks": ""
                        },
                        "type": "contourcarpet"
                      }
                    ],
                    "heatmap": [
                      {
                        "colorbar": {
                          "outlinewidth": 0,
                          "ticks": ""
                        },
                        "colorscale": [
                          [
                            0,
                            "#0d0887"
                          ],
                          [
                            0.1111111111111111,
                            "#46039f"
                          ],
                          [
                            0.2222222222222222,
                            "#7201a8"
                          ],
                          [
                            0.3333333333333333,
                            "#9c179e"
                          ],
                          [
                            0.4444444444444444,
                            "#bd3786"
                          ],
                          [
                            0.5555555555555556,
                            "#d8576b"
                          ],
                          [
                            0.6666666666666666,
                            "#ed7953"
                          ],
                          [
                            0.7777777777777778,
                            "#fb9f3a"
                          ],
                          [
                            0.8888888888888888,
                            "#fdca26"
                          ],
                          [
                            1,
                            "#f0f921"
                          ]
                        ],
                        "type": "heatmap"
                      }
                    ],
                    "heatmapgl": [
                      {
                        "colorbar": {
                          "outlinewidth": 0,
                          "ticks": ""
                        },
                        "colorscale": [
                          [
                            0,
                            "#0d0887"
                          ],
                          [
                            0.1111111111111111,
                            "#46039f"
                          ],
                          [
                            0.2222222222222222,
                            "#7201a8"
                          ],
                          [
                            0.3333333333333333,
                            "#9c179e"
                          ],
                          [
                            0.4444444444444444,
                            "#bd3786"
                          ],
                          [
                            0.5555555555555556,
                            "#d8576b"
                          ],
                          [
                            0.6666666666666666,
                            "#ed7953"
                          ],
                          [
                            0.7777777777777778,
                            "#fb9f3a"
                          ],
                          [
                            0.8888888888888888,
                            "#fdca26"
                          ],
                          [
                            1,
                            "#f0f921"
                          ]
                        ],
                        "type": "heatmapgl"
                      }
                    ],
                    "histogram": [
                      {
                        "marker": {
                          "pattern": {
                            "fillmode": "overlay",
                            "size": 10,
                            "solidity": 0.2
                          }
                        },
                        "type": "histogram"
                      }
                    ],
                    "histogram2d": [
                      {
                        "colorbar": {
                          "outlinewidth": 0,
                          "ticks": ""
                        },
                        "colorscale": [
                          [
                            0,
                            "#0d0887"
                          ],
                          [
                            0.1111111111111111,
                            "#46039f"
                          ],
                          [
                            0.2222222222222222,
                            "#7201a8"
                          ],
                          [
                            0.3333333333333333,
                            "#9c179e"
                          ],
                          [
                            0.4444444444444444,
                            "#bd3786"
                          ],
                          [
                            0.5555555555555556,
                            "#d8576b"
                          ],
                          [
                            0.6666666666666666,
                            "#ed7953"
                          ],
                          [
                            0.7777777777777778,
                            "#fb9f3a"
                          ],
                          [
                            0.8888888888888888,
                            "#fdca26"
                          ],
                          [
                            1,
                            "#f0f921"
                          ]
                        ],
                        "type": "histogram2d"
                      }
                    ],
                    "histogram2dcontour": [
                      {
                        "colorbar": {
                          "outlinewidth": 0,
                          "ticks": ""
                        },
                        "colorscale": [
                          [
                            0,
                            "#0d0887"
                          ],
                          [
                            0.1111111111111111,
                            "#46039f"
                          ],
                          [
                            0.2222222222222222,
                            "#7201a8"
                          ],
                          [
                            0.3333333333333333,
                            "#9c179e"
                          ],
                          [
                            0.4444444444444444,
                            "#bd3786"
                          ],
                          [
                            0.5555555555555556,
                            "#d8576b"
                          ],
                          [
                            0.6666666666666666,
                            "#ed7953"
                          ],
                          [
                            0.7777777777777778,
                            "#fb9f3a"
                          ],
                          [
                            0.8888888888888888,
                            "#fdca26"
                          ],
                          [
                            1,
                            "#f0f921"
                          ]
                        ],
                        "type": "histogram2dcontour"
                      }
                    ],
                    "mesh3d": [
                      {
                        "colorbar": {
                          "outlinewidth": 0,
                          "ticks": ""
                        },
                        "type": "mesh3d"
                      }
                    ],
                    "parcoords": [
                      {
                        "line": {
                          "colorbar": {
                            "outlinewidth": 0,
                            "ticks": ""
                          }
                        },
                        "type": "parcoords"
                      }
                    ],
                    "pie": [
                      {
                        "automargin": true,
                        "type": "pie"
                      }
                    ],
                    "scatter": [
                      {
                        "fillpattern": {
                          "fillmode": "overlay",
                          "size": 10,
                          "solidity": 0.2
                        },
                        "type": "scatter"
                      }
                    ],
                    "scatter3d": [
                      {
                        "line": {
                          "colorbar": {
                            "outlinewidth": 0,
                            "ticks": ""
                          }
                        },
                        "marker": {
                          "colorbar": {
                            "outlinewidth": 0,
                            "ticks": ""
                          }
                        },
                        "type": "scatter3d"
                      }
                    ],
                    "scattercarpet": [
                      {
                        "marker": {
                          "colorbar": {
                            "outlinewidth": 0,
                            "ticks": ""
                          }
                        },
                        "type": "scattercarpet"
                      }
                    ],
                    "scattergeo": [
                      {
                        "marker": {
                          "colorbar": {
                            "outlinewidth": 0,
                            "ticks": ""
                          }
                        },
                        "type": "scattergeo"
                      }
                    ],
                    "scattergl": [
                      {
                        "marker": {
                          "colorbar": {
                            "outlinewidth": 0,
                            "ticks": ""
                          }
                        },
                        "type": "scattergl"
                      }
                    ],
                    "scattermapbox": [
                      {
                        "marker": {
                          "colorbar": {
                            "outlinewidth": 0,
                            "ticks": ""
                          }
                        },
                        "type": "scattermapbox"
                      }
                    ],
                    "scatterpolar": [
                      {
                        "marker": {
                          "colorbar": {
                            "outlinewidth": 0,
                            "ticks": ""
                          }
                        },
                        "type": "scatterpolar"
                      }
                    ],
                    "scatterpolargl": [
                      {
                        "marker": {
                          "colorbar": {
                            "outlinewidth": 0,
                            "ticks": ""
                          }
                        },
                        "type": "scatterpolargl"
                      }
                    ],
                    "scatterternary": [
                      {
                        "marker": {
                          "colorbar": {
                            "outlinewidth": 0,
                            "ticks": ""
                          }
                        },
                        "type": "scatterternary"
                      }
                    ],
                    "surface": [
                      {
                        "colorbar": {
                          "outlinewidth": 0,
                          "ticks": ""
                        },
                        "colorscale": [
                          [
                            0,
                            "#0d0887"
                          ],
                          [
                            0.1111111111111111,
                            "#46039f"
                          ],
                          [
                            0.2222222222222222,
                            "#7201a8"
                          ],
                          [
                            0.3333333333333333,
                            "#9c179e"
                          ],
                          [
                            0.4444444444444444,
                            "#bd3786"
                          ],
                          [
                            0.5555555555555556,
                            "#d8576b"
                          ],
                          [
                            0.6666666666666666,
                            "#ed7953"
                          ],
                          [
                            0.7777777777777778,
                            "#fb9f3a"
                          ],
                          [
                            0.8888888888888888,
                            "#fdca26"
                          ],
                          [
                            1,
                            "#f0f921"
                          ]
                        ],
                        "type": "surface"
                      }
                    ],
                    "table": [
                      {
                        "cells": {
                          "fill": {
                            "color": "#EBF0F8"
                          },
                          "line": {
                            "color": "white"
                          }
                        },
                        "header": {
                          "fill": {
                            "color": "#C8D4E3"
                          },
                          "line": {
                            "color": "white"
                          }
                        },
                        "type": "table"
                      }
                    ]
                  },
                  "layout": {
                    "annotationdefaults": {
                      "arrowcolor": "#2a3f5f",
                      "arrowhead": 0,
                      "arrowwidth": 1
                    },
                    "autotypenumbers": "strict",
                    "coloraxis": {
                      "colorbar": {
                        "outlinewidth": 0,
                        "ticks": ""
                      }
                    },
                    "colorscale": {
                      "diverging": [
                        [
                          0,
                          "#8e0152"
                        ],
                        [
                          0.1,
                          "#c51b7d"
                        ],
                        [
                          0.2,
                          "#de77ae"
                        ],
                        [
                          0.3,
                          "#f1b6da"
                        ],
                        [
                          0.4,
                          "#fde0ef"
                        ],
                        [
                          0.5,
                          "#f7f7f7"
                        ],
                        [
                          0.6,
                          "#e6f5d0"
                        ],
                        [
                          0.7,
                          "#b8e186"
                        ],
                        [
                          0.8,
                          "#7fbc41"
                        ],
                        [
                          0.9,
                          "#4d9221"
                        ],
                        [
                          1,
                          "#276419"
                        ]
                      ],
                      "sequential": [
                        [
                          0,
                          "#0d0887"
                        ],
                        [
                          0.1111111111111111,
                          "#46039f"
                        ],
                        [
                          0.2222222222222222,
                          "#7201a8"
                        ],
                        [
                          0.3333333333333333,
                          "#9c179e"
                        ],
                        [
                          0.4444444444444444,
                          "#bd3786"
                        ],
                        [
                          0.5555555555555556,
                          "#d8576b"
                        ],
                        [
                          0.6666666666666666,
                          "#ed7953"
                        ],
                        [
                          0.7777777777777778,
                          "#fb9f3a"
                        ],
                        [
                          0.8888888888888888,
                          "#fdca26"
                        ],
                        [
                          1,
                          "#f0f921"
                        ]
                      ],
                      "sequentialminus": [
                        [
                          0,
                          "#0d0887"
                        ],
                        [
                          0.1111111111111111,
                          "#46039f"
                        ],
                        [
                          0.2222222222222222,
                          "#7201a8"
                        ],
                        [
                          0.3333333333333333,
                          "#9c179e"
                        ],
                        [
                          0.4444444444444444,
                          "#bd3786"
                        ],
                        [
                          0.5555555555555556,
                          "#d8576b"
                        ],
                        [
                          0.6666666666666666,
                          "#ed7953"
                        ],
                        [
                          0.7777777777777778,
                          "#fb9f3a"
                        ],
                        [
                          0.8888888888888888,
                          "#fdca26"
                        ],
                        [
                          1,
                          "#f0f921"
                        ]
                      ]
                    },
                    "colorway": [
                      "#636efa",
                      "#EF553B",
                      "#00cc96",
                      "#ab63fa",
                      "#FFA15A",
                      "#19d3f3",
                      "#FF6692",
                      "#B6E880",
                      "#FF97FF",
                      "#FECB52"
                    ],
                    "font": {
                      "color": "#2a3f5f"
                    },
                    "geo": {
                      "bgcolor": "white",
                      "lakecolor": "white",
                      "landcolor": "white",
                      "showlakes": true,
                      "showland": true,
                      "subunitcolor": "#C8D4E3"
                    },
                    "hoverlabel": {
                      "align": "left"
                    },
                    "hovermode": "closest",
                    "mapbox": {
                      "style": "light"
                    },
                    "paper_bgcolor": "white",
                    "plot_bgcolor": "white",
                    "polar": {
                      "angularaxis": {
                        "gridcolor": "#EBF0F8",
                        "linecolor": "#EBF0F8",
                        "ticks": ""
                      },
                      "bgcolor": "white",
                      "radialaxis": {
                        "gridcolor": "#EBF0F8",
                        "linecolor": "#EBF0F8",
                        "ticks": ""
                      }
                    },
                    "scene": {
                      "xaxis": {
                        "backgroundcolor": "white",
                        "gridcolor": "#DFE8F3",
                        "gridwidth": 2,
                        "linecolor": "#EBF0F8",
                        "showbackground": true,
                        "ticks": "",
                        "zerolinecolor": "#EBF0F8"
                      },
                      "yaxis": {
                        "backgroundcolor": "white",
                        "gridcolor": "#DFE8F3",
                        "gridwidth": 2,
                        "linecolor": "#EBF0F8",
                        "showbackground": true,
                        "ticks": "",
                        "zerolinecolor": "#EBF0F8"
                      },
                      "zaxis": {
                        "backgroundcolor": "white",
                        "gridcolor": "#DFE8F3",
                        "gridwidth": 2,
                        "linecolor": "#EBF0F8",
                        "showbackground": true,
                        "ticks": "",
                        "zerolinecolor": "#EBF0F8"
                      }
                    },
                    "shapedefaults": {
                      "line": {
                        "color": "#2a3f5f"
                      }
                    },
                    "ternary": {
                      "aaxis": {
                        "gridcolor": "#DFE8F3",
                        "linecolor": "#A2B1C6",
                        "ticks": ""
                      },
                      "baxis": {
                        "gridcolor": "#DFE8F3",
                        "linecolor": "#A2B1C6",
                        "ticks": ""
                      },
                      "bgcolor": "white",
                      "caxis": {
                        "gridcolor": "#DFE8F3",
                        "linecolor": "#A2B1C6",
                        "ticks": ""
                      }
                    },
                    "title": {
                      "x": 0.05
                    },
                    "xaxis": {
                      "automargin": true,
                      "gridcolor": "#EBF0F8",
                      "linecolor": "#EBF0F8",
                      "ticks": "",
                      "title": {
                        "standoff": 15
                      },
                      "zerolinecolor": "#EBF0F8",
                      "zerolinewidth": 2
                    },
                    "yaxis": {
                      "automargin": true,
                      "gridcolor": "#EBF0F8",
                      "linecolor": "#EBF0F8",
                      "ticks": "",
                      "title": {
                        "standoff": 15
                      },
                      "zerolinecolor": "#EBF0F8",
                      "zerolinewidth": 2
                    }
                  }
                },
                "uniformtext": {
                  "minsize": 8,
                  "mode": "hide"
                },
                "xaxis": {
                  "anchor": "y",
                  "domain": [
                    0,
                    1
                  ],
                  "title": {
                    "text": "x"
                  }
                },
                "yaxis": {
                  "anchor": "x",
                  "domain": [
                    0,
                    1
                  ],
                  "title": {
                    "text": "y"
                  }
                }
              }
            }
          },
          "metadata": {},
          "output_type": "display_data"
        }
      ],
      "source": [
        "plot_cities_and_route(location, product(range(n), range(n))) # Visualización de las ciudades"
      ]
    },
    {
      "cell_type": "markdown",
      "metadata": {
        "id": "ddUsNvBc4bYy"
      },
      "source": [
        "## TSP (Travelling salesman problem) con programación lineal"
      ]
    },
    {
      "cell_type": "code",
      "execution_count": 30,
      "metadata": {
        "colab": {
          "base_uri": "https://localhost:8080/"
        },
        "id": "G0qBpC4A4k9D",
        "outputId": "aaa7c9f5-f841-4811-8104-cb2cdb216c71"
      },
      "outputs": [
        {
          "name": "stdout",
          "output_type": "stream",
          "text": [
            "Número de nodos:\tn = 16\n",
            "Vértices:\tV = {0, 1, 2, 3, 4, 5, 6, 7, 8, 9, 10, 11, 12, 13, 14, 15}\n"
          ]
        }
      ],
      "source": [
        "# Número de nodos y vértices\n",
        "n, V = len(location), set(range(len(location)))\n",
        "print(f'Número de nodos:\\tn = {n}\\nVértices:\\tV = {V}')"
      ]
    },
    {
      "cell_type": "code",
      "execution_count": 31,
      "metadata": {
        "id": "bD1GjEWa4qac"
      },
      "outputs": [],
      "source": [
        "model = Model()\n",
        "\n",
        "# Variables binarias que indican si se toma el camino de la ciudad i a la j\n",
        "x = [[model.add_var(var_type=BINARY) for j in V] for i in V]\n",
        "\n",
        "# Variables continuas para evitar subrutas\n",
        "y = [model.add_var() for i in V]"
      ]
    },
    {
      "cell_type": "code",
      "execution_count": 32,
      "metadata": {
        "id": "aVLsv8zA4zAM"
      },
      "outputs": [],
      "source": [
        "# Función objetivo:\n",
        "model.objective = minimize(xsum(d[i][j]*x[i][j] for i in V for j in V))"
      ]
    },
    {
      "cell_type": "code",
      "execution_count": 33,
      "metadata": {
        "id": "-LGQSUGk42Q6"
      },
      "outputs": [],
      "source": [
        "# Restricción : Sal de cada ciudad una única vez\n",
        "for i in V:\n",
        "    model += xsum(x[i][j] for j in V - {i}) == 1"
      ]
    },
    {
      "cell_type": "code",
      "execution_count": 34,
      "metadata": {
        "id": "VYrV5A0Y46Po"
      },
      "outputs": [],
      "source": [
        "# Restricción : Entra a cada ciudad una única vez\n",
        "for j in V:\n",
        "    model += xsum(x[i][j] for i in V - {j}) == 1"
      ]
    },
    {
      "cell_type": "code",
      "execution_count": 35,
      "metadata": {
        "id": "gZo-UWQV4-Zn"
      },
      "outputs": [],
      "source": [
        "# Elimina subrutas\n",
        "for (i, j) in product(V - {0}, V - {0}):\n",
        "    if i != j:\n",
        "        model += y[j] - (n-1)*x[i][j] >= y[i]-(n-2)"
      ]
    },
    {
      "cell_type": "code",
      "execution_count": 36,
      "metadata": {
        "colab": {
          "base_uri": "https://localhost:8080/"
        },
        "id": "O9F6giTQ4_Zy",
        "outputId": "c70e3d1a-0486-4e7c-b616-65b3a32d8660"
      },
      "outputs": [
        {
          "name": "stdout",
          "output_type": "stream",
          "text": [
            "Starting solution of the Linear programming relaxation problem using Primal Simplex\n",
            "\n",
            "Coin0506I Presolve 242 (0) rows, 255 (-17) columns and 1110 (0) elements\n",
            "Clp1000I sum of infeasibilities 1.38146e-05 - average 5.7085e-08, 207 fixed columns\n",
            "Coin0506I Presolve 211 (-31) rows, 22 (-233) columns and 454 (-656) elements\n",
            "Clp0006I 0  Obj 5932.5256 Primal inf 2.5532902e-06 (1) Dual inf 2.032531e+12 (6)\n",
            "Clp0029I End of values pass after 22 iterations\n",
            "Clp0000I Optimal - objective value 5932.5261\n",
            "Clp0000I Optimal - objective value 5932.5261\n",
            "Coin0511I After Postsolve, objective 5932.5261, infeasibilities - dual 0 (0), primal 0 (0)\n",
            "Clp0006I 0  Obj 5932.5261 Dual inf 2400.5465 (10)\n",
            "Clp0014I Perturbing problem by 0.001% of 0.96888911 - largest nonzero change 1.435255e-05 ( 0.0007423733%) - largest zero change 1.9472032e-05\n",
            "Clp0000I Optimal - objective value 5932.5261\n",
            "Clp0000I Optimal - objective value 5932.5261\n",
            "Clp0000I Optimal - objective value 5932.5261\n",
            "Coin0511I After Postsolve, objective 5932.5261, infeasibilities - dual 0 (0), primal 0 (0)\n",
            "Clp0032I Optimal objective 5932.5261 - 0 iterations time 0.022, Presolve 0.00, Idiot 0.02\n",
            "\n",
            "Starting MIP optimization\n",
            "maxSavedSolutions was changed from 1 to 10\n",
            "Continuous objective value is 5932.53 - 0.000146 seconds\n",
            "Cgl0004I processed model has 242 rows, 255 columns (240 integer (240 of which binary)) and 1110 elements\n",
            "Coin3009W Conflict graph built in 0.000 seconds, density: 2.763%\n",
            "Cgl0015I Clique Strengthening extended 0 cliques, 0 were dominated\n",
            "Cbc0038I Initial state - 30 integers unsatisfied sum - 2.4\n",
            "Cbc0038I Pass   1: suminf.    1.86667 (18) obj. 6501.73 iterations 53\n",
            "Cbc0038I Pass   2: suminf.    1.86667 (11) obj. 10318.3 iterations 46\n",
            "Cbc0038I Pass   3: suminf.    1.86667 (11) obj. 10318.3 iterations 7\n",
            "Cbc0038I Pass   4: suminf.    1.86667 (7) obj. 9938.96 iterations 28\n",
            "Cbc0038I Pass   5: suminf.    1.86667 (11) obj. 10274.5 iterations 33\n",
            "Cbc0038I Pass   6: suminf.    1.86667 (10) obj. 10745.4 iterations 28\n",
            "Cbc0038I Pass   7: suminf.    4.00000 (15) obj. 10977.5 iterations 77\n",
            "Cbc0038I Pass   8: suminf.    1.33333 (10) obj. 11707.7 iterations 44\n",
            "Cbc0038I Pass   9: suminf.    1.33333 (4) obj. 12318.1 iterations 27\n",
            "Cbc0038I Pass  10: suminf.    1.33333 (9) obj. 12440.3 iterations 20\n",
            "Cbc0038I Pass  11: suminf.    1.60000 (4) obj. 12332.5 iterations 36\n",
            "Cbc0038I Pass  12: suminf.    1.33333 (9) obj. 12355.4 iterations 16\n",
            "Cbc0038I Pass  13: suminf.    1.33333 (6) obj. 12505.6 iterations 31\n",
            "Cbc0038I Pass  14: suminf.    1.33333 (4) obj. 12318.1 iterations 13\n",
            "Cbc0038I Pass  15: suminf.    1.33333 (9) obj. 12440.3 iterations 18\n",
            "Cbc0038I Pass  16: suminf.    1.60000 (4) obj. 12332.5 iterations 34\n",
            "Cbc0038I Pass  17: suminf.    1.33333 (9) obj. 12355.4 iterations 14\n",
            "Cbc0038I Pass  18: suminf.    1.33333 (6) obj. 12505.6 iterations 38\n",
            "Cbc0038I Pass  19: suminf.    1.33333 (4) obj. 12318.1 iterations 16\n",
            "Cbc0038I Pass  20: suminf.    1.33333 (9) obj. 12440.3 iterations 18\n",
            "Cbc0038I Pass  21: suminf.    1.60000 (4) obj. 12332.5 iterations 31\n",
            "Cbc0038I Pass  22: suminf.    1.33333 (9) obj. 12355.4 iterations 15\n",
            "Cbc0038I Pass  23: suminf.    1.33333 (6) obj. 12505.6 iterations 38\n",
            "Cbc0038I Pass  24: suminf.    1.33333 (4) obj. 12318.1 iterations 15\n",
            "Cbc0038I Pass  25: suminf.    1.33333 (9) obj. 12440.3 iterations 13\n",
            "Cbc0038I Pass  26: suminf.    1.60000 (4) obj. 12332.5 iterations 34\n",
            "Cbc0038I Pass  27: suminf.    1.33333 (9) obj. 12355.4 iterations 16\n",
            "Cbc0038I Pass  28: suminf.    1.33333 (6) obj. 12505.6 iterations 30\n",
            "Cbc0038I Pass  29: suminf.    1.33333 (4) obj. 12318.1 iterations 16\n",
            "Cbc0038I Pass  30: suminf.    1.33333 (9) obj. 12440.3 iterations 17\n",
            "Cbc0038I No solution found this major pass\n",
            "Cbc0038I Before mini branch and bound, 170 integers at bound fixed and 0 continuous\n",
            "Cbc0038I Full problem 242 rows 255 columns, reduced to 230 rows 73 columns - too large\n",
            "Cbc0038I Mini branch and bound did not improve solution (0.02 seconds)\n",
            "Cbc0038I Full problem 243 rows 255 columns, reduced to 243 rows 255 columns - too large\n",
            "Cbc0038I After 0.03 seconds - Feasibility pump exiting - took 0.02 seconds\n",
            "Cbc0031I 17 added rows had average density of 152.94118\n",
            "Cbc0013I At root node, 17 cuts changed objective from 5932.5261 to 6018.6923 in 100 passes\n",
            "Cbc0014I Cut generator 0 (Probing) - 9 row cuts average 69.1 elements, 0 column cuts (0 active)  in 0.107 seconds - new frequency is -100\n",
            "Cbc0014I Cut generator 1 (Gomory) - 288 row cuts average 168.4 elements, 0 column cuts (0 active)  in 0.031 seconds - new frequency is 1\n",
            "Cbc0014I Cut generator 2 (Knapsack) - 0 row cuts average 0.0 elements, 0 column cuts (0 active)  in 0.015 seconds - new frequency is -100\n",
            "Cbc0014I Cut generator 3 (Clique) - 0 row cuts average 0.0 elements, 0 column cuts (0 active)  in 0.002 seconds - new frequency is -100\n",
            "Cbc0014I Cut generator 4 (OddWheel) - 0 row cuts average 0.0 elements, 0 column cuts (0 active)  in 0.003 seconds - new frequency is -100\n",
            "Cbc0014I Cut generator 5 (MixedIntegerRounding2) - 51 row cuts average 15.0 elements, 0 column cuts (0 active)  in 0.025 seconds - new frequency is 1\n",
            "Cbc0014I Cut generator 6 (FlowCover) - 0 row cuts average 0.0 elements, 0 column cuts (0 active)  in 0.022 seconds - new frequency is -100\n",
            "Cbc0014I Cut generator 7 (TwoMirCuts) - 170 row cuts average 72.7 elements, 0 column cuts (0 active)  in 0.009 seconds - new frequency is 1\n",
            "Cbc0010I After 0 nodes, 1 on tree, 1e+50 best solution, best possible 6018.6923 (0.32 seconds)\n",
            "Cbc0004I Integer solution of 7138.3411 found after 512 iterations and 9 nodes (0.37 seconds)\n",
            "Cbc0016I Integer solution of 7123.7884 found by strong branching after 540 iterations and 10 nodes (0.37 seconds)\n",
            "Cbc0016I Integer solution of 6997.3833 found by strong branching after 753 iterations and 17 nodes (0.38 seconds)\n",
            "Cbc0004I Integer solution of 6596.5152 found after 1216 iterations and 31 nodes (0.40 seconds)\n",
            "Cbc0016I Integer solution of 6539.5239 found by strong branching after 1963 iterations and 48 nodes (0.44 seconds)\n",
            "Cbc0038I Full problem 242 rows 255 columns, reduced to 242 rows 162 columns - too large\n",
            "Cbc0016I Integer solution of 6479.9779 found by strong branching after 2732 iterations and 78 nodes (0.47 seconds)\n",
            "Cbc0004I Integer solution of 6462.7287 found after 2823 iterations and 81 nodes (0.47 seconds)\n",
            "Cbc0001I Search completed - best objective 6462.728699999999, took 10635 iterations and 396 nodes (0.62 seconds)\n",
            "Cbc0032I Strong branching done 1614 times (20048 iterations), fathomed 80 nodes and fixed 46 variables\n",
            "Cbc0035I Maximum depth 19, 1093 variables fixed on reduced cost\n",
            "Cuts at root node changed objective from 5932.53 to 6018.69\n",
            "Probing was tried 100 times and created 9 cuts (0.107188 seconds)\n",
            "Gomory was tried 151 times and created 400 cuts (0.035991 seconds)\n",
            "Knapsack was tried 100 times and created 0 cuts (0.014716 seconds)\n",
            "Clique was tried 100 times and created 0 cuts (0.001944 seconds)\n",
            "OddWheel was tried 100 times and created 0 cuts (0.002664 seconds)\n",
            "MixedIntegerRounding2 was tried 151 times and created 148 cuts (0.029775 seconds)\n",
            "FlowCover was tried 100 times and created 0 cuts (0.022324 seconds)\n",
            "TwoMirCuts was tried 151 times and created 327 cuts (0.014183 seconds)\n",
            "ZeroHalf was tried 1 times and created 0 cuts (0.001662 seconds)\n",
            "\n",
            "Result - Optimal solution found\n",
            "Objective value:                6462.7287\n",
            "Enumerated nodes:               396\n",
            "Total iterations:               10635\n",
            "Time (CPU seconds):             0.568005\n",
            "Time (Wallclock seconds):       0.62315\n",
            "Total time (CPU seconds):       0.568093   (Wallclock seconds):       0.623258\n",
            "Ruta con distancia total 6462.73 encontrada: ciudad_0\n",
            " -> ciudad_3\n",
            " -> ciudad_7\n",
            " -> ciudad_11\n",
            " -> ciudad_4\n",
            " -> ciudad_15\n",
            " -> ciudad_8\n",
            " -> ciudad_6\n",
            " -> ciudad_9\n",
            " -> ciudad_2\n",
            " -> ciudad_1\n",
            " -> ciudad_13\n",
            " -> ciudad_12\n",
            " -> ciudad_5\n",
            " -> ciudad_14\n",
            " -> ciudad_10\n",
            " -> ciudad_0\n",
            "\n",
            "\n"
          ]
        }
      ],
      "source": [
        "# Optimizar\n",
        "model.optimize()\n",
        "\n",
        "# Revisar si se encontró una solución\n",
        "edges = []\n",
        "if model.num_solutions:\n",
        "    print('Ruta con distancia total %g encontrada: %s'\n",
        "              % (model.objective_value, location.index[0]))\n",
        "    nc = 0 # Indice de la ciudad actual\n",
        "    while True:\n",
        "        oc = nc\n",
        "        nc = [i for i in V if x[nc][i].x >= 0.99][0] # Indice de la ciudad a la que se siguió\n",
        "        edges.append((oc, nc)) # Guardamos el camino a tomar\n",
        "        print(' -> %s' % location.index[nc]) # Imprimimos el siguiente paso de la ruta\n",
        "        if nc == 0:  # Si regresa al inicio terminamos el ciclo\n",
        "            break\n",
        "    print('\\n')"
      ]
    },
    {
      "cell_type": "code",
      "execution_count": 37,
      "metadata": {
        "colab": {
          "base_uri": "https://localhost:8080/",
          "height": 542
        },
        "id": "nFtwi7KT5HT9",
        "outputId": "b57857a2-6152-48e5-ad3d-1a56a6ba18f2"
      },
      "outputs": [
        {
          "data": {
            "application/vnd.plotly.v1+json": {
              "config": {
                "plotlyServerURL": "https://plot.ly"
              },
              "data": [
                {
                  "hovertemplate": "<b>%{hovertext}</b><br><br>x=%{x}<br>y=%{y}<extra></extra>",
                  "hovertext": [
                    "ciudad_0",
                    "ciudad_1",
                    "ciudad_2",
                    "ciudad_3",
                    "ciudad_4",
                    "ciudad_5",
                    "ciudad_6",
                    "ciudad_7",
                    "ciudad_8",
                    "ciudad_9",
                    "ciudad_10",
                    "ciudad_11",
                    "ciudad_12",
                    "ciudad_13",
                    "ciudad_14",
                    "ciudad_15"
                  ],
                  "legendgroup": "",
                  "marker": {
                    "color": "#636efa",
                    "line": {
                      "color": "DarkSlateGrey",
                      "width": 2
                    },
                    "size": 15,
                    "symbol": "circle"
                  },
                  "mode": "markers",
                  "name": "",
                  "orientation": "v",
                  "showlegend": false,
                  "textposition": "top right",
                  "texttemplate": "%{text:.2s}",
                  "type": "scatter",
                  "x": [
                    46.12,
                    48.67,
                    52,
                    47.33,
                    50.83,
                    44,
                    51,
                    46,
                    52.5,
                    49.75,
                    45.17,
                    49.75,
                    46,
                    47,
                    42.83,
                    54
                  ],
                  "xaxis": "x",
                  "y": [
                    14.82,
                    19.5,
                    20,
                    13.33,
                    4,
                    18,
                    9,
                    2,
                    5.75,
                    15.5,
                    15.5,
                    6.17,
                    25,
                    20,
                    12.83,
                    -2
                  ],
                  "yaxis": "y"
                },
                {
                  "mode": "text",
                  "text": [
                    "176.2595"
                  ],
                  "textposition": "top right",
                  "texttemplate": "%{text:.2s}",
                  "type": "scatter",
                  "x": [
                    46.724999999999994
                  ],
                  "y": [
                    14.075
                  ]
                },
                {
                  "mode": "text",
                  "text": [
                    "877.2822"
                  ],
                  "textposition": "top right",
                  "texttemplate": "%{text:.2s}",
                  "type": "scatter",
                  "x": [
                    46.665
                  ],
                  "y": [
                    7.665
                  ]
                },
                {
                  "mode": "text",
                  "text": [
                    "520.5903"
                  ],
                  "textposition": "top right",
                  "texttemplate": "%{text:.2s}",
                  "type": "scatter",
                  "x": [
                    47.875
                  ],
                  "y": [
                    4.085
                  ]
                },
                {
                  "mode": "text",
                  "text": [
                    "195.6181"
                  ],
                  "textposition": "top right",
                  "texttemplate": "%{text:.2s}",
                  "type": "scatter",
                  "x": [
                    50.29
                  ],
                  "y": [
                    5.085
                  ]
                },
                {
                  "mode": "text",
                  "text": [
                    "538.6348"
                  ],
                  "textposition": "top right",
                  "texttemplate": "%{text:.2s}",
                  "type": "scatter",
                  "x": [
                    52.415
                  ],
                  "y": [
                    1
                  ]
                },
                {
                  "mode": "text",
                  "text": [
                    "542.1851"
                  ],
                  "textposition": "top right",
                  "texttemplate": "%{text:.2s}",
                  "type": "scatter",
                  "x": [
                    53.25
                  ],
                  "y": [
                    1.875
                  ]
                },
                {
                  "mode": "text",
                  "text": [
                    "279.3231"
                  ],
                  "textposition": "top right",
                  "texttemplate": "%{text:.2s}",
                  "type": "scatter",
                  "x": [
                    51.75
                  ],
                  "y": [
                    7.375
                  ]
                },
                {
                  "mode": "text",
                  "text": [
                    "481.7939"
                  ],
                  "textposition": "top right",
                  "texttemplate": "%{text:.2s}",
                  "type": "scatter",
                  "x": [
                    50.375
                  ],
                  "y": [
                    12.25
                  ]
                },
                {
                  "mode": "text",
                  "text": [
                    "403.1683"
                  ],
                  "textposition": "top right",
                  "texttemplate": "%{text:.2s}",
                  "type": "scatter",
                  "x": [
                    50.875
                  ],
                  "y": [
                    17.75
                  ]
                },
                {
                  "mode": "text",
                  "text": [
                    "372.3824"
                  ],
                  "textposition": "top right",
                  "texttemplate": "%{text:.2s}",
                  "type": "scatter",
                  "x": [
                    50.335
                  ],
                  "y": [
                    19.75
                  ]
                },
                {
                  "mode": "text",
                  "text": [
                    "189.6159"
                  ],
                  "textposition": "top right",
                  "texttemplate": "%{text:.2s}",
                  "type": "scatter",
                  "x": [
                    47.835
                  ],
                  "y": [
                    19.75
                  ]
                },
                {
                  "mode": "text",
                  "text": [
                    "398.8909"
                  ],
                  "textposition": "top right",
                  "texttemplate": "%{text:.2s}",
                  "type": "scatter",
                  "x": [
                    46.5
                  ],
                  "y": [
                    22.5
                  ]
                },
                {
                  "mode": "text",
                  "text": [
                    "594.0088"
                  ],
                  "textposition": "top right",
                  "texttemplate": "%{text:.2s}",
                  "type": "scatter",
                  "x": [
                    45
                  ],
                  "y": [
                    21.5
                  ]
                },
                {
                  "mode": "text",
                  "text": [
                    "437.7764"
                  ],
                  "textposition": "top right",
                  "texttemplate": "%{text:.2s}",
                  "type": "scatter",
                  "x": [
                    43.415
                  ],
                  "y": [
                    15.415
                  ]
                },
                {
                  "mode": "text",
                  "text": [
                    "336.9472"
                  ],
                  "textposition": "top right",
                  "texttemplate": "%{text:.2s}",
                  "type": "scatter",
                  "x": [
                    44
                  ],
                  "y": [
                    14.165
                  ]
                },
                {
                  "mode": "text",
                  "text": [
                    "118.2518"
                  ],
                  "textposition": "top right",
                  "texttemplate": "%{text:.2s}",
                  "type": "scatter",
                  "x": [
                    45.644999999999996
                  ],
                  "y": [
                    15.16
                  ]
                }
              ],
              "layout": {
                "legend": {
                  "tracegroupgap": 0
                },
                "margin": {
                  "t": 60
                },
                "shapes": [
                  {
                    "line": {
                      "color": "rgb(0, 0, 0)"
                    },
                    "opacity": 0.09,
                    "type": "line",
                    "x0": 46.12,
                    "x1": 47.33,
                    "y0": 14.82,
                    "y1": 13.33
                  },
                  {
                    "line": {
                      "color": "rgb(0, 0, 0)"
                    },
                    "opacity": 0.09,
                    "type": "line",
                    "x0": 47.33,
                    "x1": 46,
                    "y0": 13.33,
                    "y1": 2
                  },
                  {
                    "line": {
                      "color": "rgb(0, 0, 0)"
                    },
                    "opacity": 0.09,
                    "type": "line",
                    "x0": 46,
                    "x1": 49.75,
                    "y0": 2,
                    "y1": 6.17
                  },
                  {
                    "line": {
                      "color": "rgb(0, 0, 0)"
                    },
                    "opacity": 0.09,
                    "type": "line",
                    "x0": 49.75,
                    "x1": 50.83,
                    "y0": 6.17,
                    "y1": 4
                  },
                  {
                    "line": {
                      "color": "rgb(0, 0, 0)"
                    },
                    "opacity": 0.09,
                    "type": "line",
                    "x0": 50.83,
                    "x1": 54,
                    "y0": 4,
                    "y1": -2
                  },
                  {
                    "line": {
                      "color": "rgb(0, 0, 0)"
                    },
                    "opacity": 0.09,
                    "type": "line",
                    "x0": 54,
                    "x1": 52.5,
                    "y0": -2,
                    "y1": 5.75
                  },
                  {
                    "line": {
                      "color": "rgb(0, 0, 0)"
                    },
                    "opacity": 0.09,
                    "type": "line",
                    "x0": 52.5,
                    "x1": 51,
                    "y0": 5.75,
                    "y1": 9
                  },
                  {
                    "line": {
                      "color": "rgb(0, 0, 0)"
                    },
                    "opacity": 0.09,
                    "type": "line",
                    "x0": 51,
                    "x1": 49.75,
                    "y0": 9,
                    "y1": 15.5
                  },
                  {
                    "line": {
                      "color": "rgb(0, 0, 0)"
                    },
                    "opacity": 0.09,
                    "type": "line",
                    "x0": 49.75,
                    "x1": 52,
                    "y0": 15.5,
                    "y1": 20
                  },
                  {
                    "line": {
                      "color": "rgb(0, 0, 0)"
                    },
                    "opacity": 0.09,
                    "type": "line",
                    "x0": 52,
                    "x1": 48.67,
                    "y0": 20,
                    "y1": 19.5
                  },
                  {
                    "line": {
                      "color": "rgb(0, 0, 0)"
                    },
                    "opacity": 0.09,
                    "type": "line",
                    "x0": 48.67,
                    "x1": 47,
                    "y0": 19.5,
                    "y1": 20
                  },
                  {
                    "line": {
                      "color": "rgb(0, 0, 0)"
                    },
                    "opacity": 0.09,
                    "type": "line",
                    "x0": 47,
                    "x1": 46,
                    "y0": 20,
                    "y1": 25
                  },
                  {
                    "line": {
                      "color": "rgb(0, 0, 0)"
                    },
                    "opacity": 0.09,
                    "type": "line",
                    "x0": 46,
                    "x1": 44,
                    "y0": 25,
                    "y1": 18
                  },
                  {
                    "line": {
                      "color": "rgb(0, 0, 0)"
                    },
                    "opacity": 0.09,
                    "type": "line",
                    "x0": 44,
                    "x1": 42.83,
                    "y0": 18,
                    "y1": 12.83
                  },
                  {
                    "line": {
                      "color": "rgb(0, 0, 0)"
                    },
                    "opacity": 0.09,
                    "type": "line",
                    "x0": 42.83,
                    "x1": 45.17,
                    "y0": 12.83,
                    "y1": 15.5
                  },
                  {
                    "line": {
                      "color": "rgb(0, 0, 0)"
                    },
                    "opacity": 0.09,
                    "type": "line",
                    "x0": 45.17,
                    "x1": 46.12,
                    "y0": 15.5,
                    "y1": 14.82
                  }
                ],
                "showlegend": false,
                "template": {
                  "data": {
                    "bar": [
                      {
                        "error_x": {
                          "color": "#2a3f5f"
                        },
                        "error_y": {
                          "color": "#2a3f5f"
                        },
                        "marker": {
                          "line": {
                            "color": "white",
                            "width": 0.5
                          },
                          "pattern": {
                            "fillmode": "overlay",
                            "size": 10,
                            "solidity": 0.2
                          }
                        },
                        "type": "bar"
                      }
                    ],
                    "barpolar": [
                      {
                        "marker": {
                          "line": {
                            "color": "white",
                            "width": 0.5
                          },
                          "pattern": {
                            "fillmode": "overlay",
                            "size": 10,
                            "solidity": 0.2
                          }
                        },
                        "type": "barpolar"
                      }
                    ],
                    "carpet": [
                      {
                        "aaxis": {
                          "endlinecolor": "#2a3f5f",
                          "gridcolor": "#C8D4E3",
                          "linecolor": "#C8D4E3",
                          "minorgridcolor": "#C8D4E3",
                          "startlinecolor": "#2a3f5f"
                        },
                        "baxis": {
                          "endlinecolor": "#2a3f5f",
                          "gridcolor": "#C8D4E3",
                          "linecolor": "#C8D4E3",
                          "minorgridcolor": "#C8D4E3",
                          "startlinecolor": "#2a3f5f"
                        },
                        "type": "carpet"
                      }
                    ],
                    "choropleth": [
                      {
                        "colorbar": {
                          "outlinewidth": 0,
                          "ticks": ""
                        },
                        "type": "choropleth"
                      }
                    ],
                    "contour": [
                      {
                        "colorbar": {
                          "outlinewidth": 0,
                          "ticks": ""
                        },
                        "colorscale": [
                          [
                            0,
                            "#0d0887"
                          ],
                          [
                            0.1111111111111111,
                            "#46039f"
                          ],
                          [
                            0.2222222222222222,
                            "#7201a8"
                          ],
                          [
                            0.3333333333333333,
                            "#9c179e"
                          ],
                          [
                            0.4444444444444444,
                            "#bd3786"
                          ],
                          [
                            0.5555555555555556,
                            "#d8576b"
                          ],
                          [
                            0.6666666666666666,
                            "#ed7953"
                          ],
                          [
                            0.7777777777777778,
                            "#fb9f3a"
                          ],
                          [
                            0.8888888888888888,
                            "#fdca26"
                          ],
                          [
                            1,
                            "#f0f921"
                          ]
                        ],
                        "type": "contour"
                      }
                    ],
                    "contourcarpet": [
                      {
                        "colorbar": {
                          "outlinewidth": 0,
                          "ticks": ""
                        },
                        "type": "contourcarpet"
                      }
                    ],
                    "heatmap": [
                      {
                        "colorbar": {
                          "outlinewidth": 0,
                          "ticks": ""
                        },
                        "colorscale": [
                          [
                            0,
                            "#0d0887"
                          ],
                          [
                            0.1111111111111111,
                            "#46039f"
                          ],
                          [
                            0.2222222222222222,
                            "#7201a8"
                          ],
                          [
                            0.3333333333333333,
                            "#9c179e"
                          ],
                          [
                            0.4444444444444444,
                            "#bd3786"
                          ],
                          [
                            0.5555555555555556,
                            "#d8576b"
                          ],
                          [
                            0.6666666666666666,
                            "#ed7953"
                          ],
                          [
                            0.7777777777777778,
                            "#fb9f3a"
                          ],
                          [
                            0.8888888888888888,
                            "#fdca26"
                          ],
                          [
                            1,
                            "#f0f921"
                          ]
                        ],
                        "type": "heatmap"
                      }
                    ],
                    "heatmapgl": [
                      {
                        "colorbar": {
                          "outlinewidth": 0,
                          "ticks": ""
                        },
                        "colorscale": [
                          [
                            0,
                            "#0d0887"
                          ],
                          [
                            0.1111111111111111,
                            "#46039f"
                          ],
                          [
                            0.2222222222222222,
                            "#7201a8"
                          ],
                          [
                            0.3333333333333333,
                            "#9c179e"
                          ],
                          [
                            0.4444444444444444,
                            "#bd3786"
                          ],
                          [
                            0.5555555555555556,
                            "#d8576b"
                          ],
                          [
                            0.6666666666666666,
                            "#ed7953"
                          ],
                          [
                            0.7777777777777778,
                            "#fb9f3a"
                          ],
                          [
                            0.8888888888888888,
                            "#fdca26"
                          ],
                          [
                            1,
                            "#f0f921"
                          ]
                        ],
                        "type": "heatmapgl"
                      }
                    ],
                    "histogram": [
                      {
                        "marker": {
                          "pattern": {
                            "fillmode": "overlay",
                            "size": 10,
                            "solidity": 0.2
                          }
                        },
                        "type": "histogram"
                      }
                    ],
                    "histogram2d": [
                      {
                        "colorbar": {
                          "outlinewidth": 0,
                          "ticks": ""
                        },
                        "colorscale": [
                          [
                            0,
                            "#0d0887"
                          ],
                          [
                            0.1111111111111111,
                            "#46039f"
                          ],
                          [
                            0.2222222222222222,
                            "#7201a8"
                          ],
                          [
                            0.3333333333333333,
                            "#9c179e"
                          ],
                          [
                            0.4444444444444444,
                            "#bd3786"
                          ],
                          [
                            0.5555555555555556,
                            "#d8576b"
                          ],
                          [
                            0.6666666666666666,
                            "#ed7953"
                          ],
                          [
                            0.7777777777777778,
                            "#fb9f3a"
                          ],
                          [
                            0.8888888888888888,
                            "#fdca26"
                          ],
                          [
                            1,
                            "#f0f921"
                          ]
                        ],
                        "type": "histogram2d"
                      }
                    ],
                    "histogram2dcontour": [
                      {
                        "colorbar": {
                          "outlinewidth": 0,
                          "ticks": ""
                        },
                        "colorscale": [
                          [
                            0,
                            "#0d0887"
                          ],
                          [
                            0.1111111111111111,
                            "#46039f"
                          ],
                          [
                            0.2222222222222222,
                            "#7201a8"
                          ],
                          [
                            0.3333333333333333,
                            "#9c179e"
                          ],
                          [
                            0.4444444444444444,
                            "#bd3786"
                          ],
                          [
                            0.5555555555555556,
                            "#d8576b"
                          ],
                          [
                            0.6666666666666666,
                            "#ed7953"
                          ],
                          [
                            0.7777777777777778,
                            "#fb9f3a"
                          ],
                          [
                            0.8888888888888888,
                            "#fdca26"
                          ],
                          [
                            1,
                            "#f0f921"
                          ]
                        ],
                        "type": "histogram2dcontour"
                      }
                    ],
                    "mesh3d": [
                      {
                        "colorbar": {
                          "outlinewidth": 0,
                          "ticks": ""
                        },
                        "type": "mesh3d"
                      }
                    ],
                    "parcoords": [
                      {
                        "line": {
                          "colorbar": {
                            "outlinewidth": 0,
                            "ticks": ""
                          }
                        },
                        "type": "parcoords"
                      }
                    ],
                    "pie": [
                      {
                        "automargin": true,
                        "type": "pie"
                      }
                    ],
                    "scatter": [
                      {
                        "fillpattern": {
                          "fillmode": "overlay",
                          "size": 10,
                          "solidity": 0.2
                        },
                        "type": "scatter"
                      }
                    ],
                    "scatter3d": [
                      {
                        "line": {
                          "colorbar": {
                            "outlinewidth": 0,
                            "ticks": ""
                          }
                        },
                        "marker": {
                          "colorbar": {
                            "outlinewidth": 0,
                            "ticks": ""
                          }
                        },
                        "type": "scatter3d"
                      }
                    ],
                    "scattercarpet": [
                      {
                        "marker": {
                          "colorbar": {
                            "outlinewidth": 0,
                            "ticks": ""
                          }
                        },
                        "type": "scattercarpet"
                      }
                    ],
                    "scattergeo": [
                      {
                        "marker": {
                          "colorbar": {
                            "outlinewidth": 0,
                            "ticks": ""
                          }
                        },
                        "type": "scattergeo"
                      }
                    ],
                    "scattergl": [
                      {
                        "marker": {
                          "colorbar": {
                            "outlinewidth": 0,
                            "ticks": ""
                          }
                        },
                        "type": "scattergl"
                      }
                    ],
                    "scattermapbox": [
                      {
                        "marker": {
                          "colorbar": {
                            "outlinewidth": 0,
                            "ticks": ""
                          }
                        },
                        "type": "scattermapbox"
                      }
                    ],
                    "scatterpolar": [
                      {
                        "marker": {
                          "colorbar": {
                            "outlinewidth": 0,
                            "ticks": ""
                          }
                        },
                        "type": "scatterpolar"
                      }
                    ],
                    "scatterpolargl": [
                      {
                        "marker": {
                          "colorbar": {
                            "outlinewidth": 0,
                            "ticks": ""
                          }
                        },
                        "type": "scatterpolargl"
                      }
                    ],
                    "scatterternary": [
                      {
                        "marker": {
                          "colorbar": {
                            "outlinewidth": 0,
                            "ticks": ""
                          }
                        },
                        "type": "scatterternary"
                      }
                    ],
                    "surface": [
                      {
                        "colorbar": {
                          "outlinewidth": 0,
                          "ticks": ""
                        },
                        "colorscale": [
                          [
                            0,
                            "#0d0887"
                          ],
                          [
                            0.1111111111111111,
                            "#46039f"
                          ],
                          [
                            0.2222222222222222,
                            "#7201a8"
                          ],
                          [
                            0.3333333333333333,
                            "#9c179e"
                          ],
                          [
                            0.4444444444444444,
                            "#bd3786"
                          ],
                          [
                            0.5555555555555556,
                            "#d8576b"
                          ],
                          [
                            0.6666666666666666,
                            "#ed7953"
                          ],
                          [
                            0.7777777777777778,
                            "#fb9f3a"
                          ],
                          [
                            0.8888888888888888,
                            "#fdca26"
                          ],
                          [
                            1,
                            "#f0f921"
                          ]
                        ],
                        "type": "surface"
                      }
                    ],
                    "table": [
                      {
                        "cells": {
                          "fill": {
                            "color": "#EBF0F8"
                          },
                          "line": {
                            "color": "white"
                          }
                        },
                        "header": {
                          "fill": {
                            "color": "#C8D4E3"
                          },
                          "line": {
                            "color": "white"
                          }
                        },
                        "type": "table"
                      }
                    ]
                  },
                  "layout": {
                    "annotationdefaults": {
                      "arrowcolor": "#2a3f5f",
                      "arrowhead": 0,
                      "arrowwidth": 1
                    },
                    "autotypenumbers": "strict",
                    "coloraxis": {
                      "colorbar": {
                        "outlinewidth": 0,
                        "ticks": ""
                      }
                    },
                    "colorscale": {
                      "diverging": [
                        [
                          0,
                          "#8e0152"
                        ],
                        [
                          0.1,
                          "#c51b7d"
                        ],
                        [
                          0.2,
                          "#de77ae"
                        ],
                        [
                          0.3,
                          "#f1b6da"
                        ],
                        [
                          0.4,
                          "#fde0ef"
                        ],
                        [
                          0.5,
                          "#f7f7f7"
                        ],
                        [
                          0.6,
                          "#e6f5d0"
                        ],
                        [
                          0.7,
                          "#b8e186"
                        ],
                        [
                          0.8,
                          "#7fbc41"
                        ],
                        [
                          0.9,
                          "#4d9221"
                        ],
                        [
                          1,
                          "#276419"
                        ]
                      ],
                      "sequential": [
                        [
                          0,
                          "#0d0887"
                        ],
                        [
                          0.1111111111111111,
                          "#46039f"
                        ],
                        [
                          0.2222222222222222,
                          "#7201a8"
                        ],
                        [
                          0.3333333333333333,
                          "#9c179e"
                        ],
                        [
                          0.4444444444444444,
                          "#bd3786"
                        ],
                        [
                          0.5555555555555556,
                          "#d8576b"
                        ],
                        [
                          0.6666666666666666,
                          "#ed7953"
                        ],
                        [
                          0.7777777777777778,
                          "#fb9f3a"
                        ],
                        [
                          0.8888888888888888,
                          "#fdca26"
                        ],
                        [
                          1,
                          "#f0f921"
                        ]
                      ],
                      "sequentialminus": [
                        [
                          0,
                          "#0d0887"
                        ],
                        [
                          0.1111111111111111,
                          "#46039f"
                        ],
                        [
                          0.2222222222222222,
                          "#7201a8"
                        ],
                        [
                          0.3333333333333333,
                          "#9c179e"
                        ],
                        [
                          0.4444444444444444,
                          "#bd3786"
                        ],
                        [
                          0.5555555555555556,
                          "#d8576b"
                        ],
                        [
                          0.6666666666666666,
                          "#ed7953"
                        ],
                        [
                          0.7777777777777778,
                          "#fb9f3a"
                        ],
                        [
                          0.8888888888888888,
                          "#fdca26"
                        ],
                        [
                          1,
                          "#f0f921"
                        ]
                      ]
                    },
                    "colorway": [
                      "#636efa",
                      "#EF553B",
                      "#00cc96",
                      "#ab63fa",
                      "#FFA15A",
                      "#19d3f3",
                      "#FF6692",
                      "#B6E880",
                      "#FF97FF",
                      "#FECB52"
                    ],
                    "font": {
                      "color": "#2a3f5f"
                    },
                    "geo": {
                      "bgcolor": "white",
                      "lakecolor": "white",
                      "landcolor": "white",
                      "showlakes": true,
                      "showland": true,
                      "subunitcolor": "#C8D4E3"
                    },
                    "hoverlabel": {
                      "align": "left"
                    },
                    "hovermode": "closest",
                    "mapbox": {
                      "style": "light"
                    },
                    "paper_bgcolor": "white",
                    "plot_bgcolor": "white",
                    "polar": {
                      "angularaxis": {
                        "gridcolor": "#EBF0F8",
                        "linecolor": "#EBF0F8",
                        "ticks": ""
                      },
                      "bgcolor": "white",
                      "radialaxis": {
                        "gridcolor": "#EBF0F8",
                        "linecolor": "#EBF0F8",
                        "ticks": ""
                      }
                    },
                    "scene": {
                      "xaxis": {
                        "backgroundcolor": "white",
                        "gridcolor": "#DFE8F3",
                        "gridwidth": 2,
                        "linecolor": "#EBF0F8",
                        "showbackground": true,
                        "ticks": "",
                        "zerolinecolor": "#EBF0F8"
                      },
                      "yaxis": {
                        "backgroundcolor": "white",
                        "gridcolor": "#DFE8F3",
                        "gridwidth": 2,
                        "linecolor": "#EBF0F8",
                        "showbackground": true,
                        "ticks": "",
                        "zerolinecolor": "#EBF0F8"
                      },
                      "zaxis": {
                        "backgroundcolor": "white",
                        "gridcolor": "#DFE8F3",
                        "gridwidth": 2,
                        "linecolor": "#EBF0F8",
                        "showbackground": true,
                        "ticks": "",
                        "zerolinecolor": "#EBF0F8"
                      }
                    },
                    "shapedefaults": {
                      "line": {
                        "color": "#2a3f5f"
                      }
                    },
                    "ternary": {
                      "aaxis": {
                        "gridcolor": "#DFE8F3",
                        "linecolor": "#A2B1C6",
                        "ticks": ""
                      },
                      "baxis": {
                        "gridcolor": "#DFE8F3",
                        "linecolor": "#A2B1C6",
                        "ticks": ""
                      },
                      "bgcolor": "white",
                      "caxis": {
                        "gridcolor": "#DFE8F3",
                        "linecolor": "#A2B1C6",
                        "ticks": ""
                      }
                    },
                    "title": {
                      "x": 0.05
                    },
                    "xaxis": {
                      "automargin": true,
                      "gridcolor": "#EBF0F8",
                      "linecolor": "#EBF0F8",
                      "ticks": "",
                      "title": {
                        "standoff": 15
                      },
                      "zerolinecolor": "#EBF0F8",
                      "zerolinewidth": 2
                    },
                    "yaxis": {
                      "automargin": true,
                      "gridcolor": "#EBF0F8",
                      "linecolor": "#EBF0F8",
                      "ticks": "",
                      "title": {
                        "standoff": 15
                      },
                      "zerolinecolor": "#EBF0F8",
                      "zerolinewidth": 2
                    }
                  }
                },
                "uniformtext": {
                  "minsize": 8,
                  "mode": "hide"
                },
                "xaxis": {
                  "anchor": "y",
                  "domain": [
                    0,
                    1
                  ],
                  "title": {
                    "text": "x"
                  }
                },
                "yaxis": {
                  "anchor": "x",
                  "domain": [
                    0,
                    1
                  ],
                  "title": {
                    "text": "y"
                  }
                }
              }
            }
          },
          "metadata": {},
          "output_type": "display_data"
        }
      ],
      "source": [
        "plot_cities_and_route(location, edges)"
      ]
    }
  ],
  "metadata": {
    "colab": {
      "include_colab_link": true,
      "provenance": []
    },
    "kernelspec": {
      "display_name": "Python 3",
      "name": "python3"
    },
    "language_info": {
      "codemirror_mode": {
        "name": "ipython",
        "version": 3
      },
      "file_extension": ".py",
      "mimetype": "text/x-python",
      "name": "python",
      "nbconvert_exporter": "python",
      "pygments_lexer": "ipython3",
      "version": "3.9.6"
    }
  },
  "nbformat": 4,
  "nbformat_minor": 0
}
