{
  "cells": [
    {
      "cell_type": "markdown",
      "metadata": {
        "id": "4oifWcjIiD7g"
      },
      "source": [
        "# Gradient Descent\n",
        "\n",
        "Se verá como funciona el algoritmo de Gradiente Descendiente aplicado a una regresión logística (softmax, en realidad). Esta regresión asignará probabilidades de ser un High-Frequency-Trader (HFT)."
      ]
    },
    {
      "cell_type": "markdown",
      "metadata": {},
      "source": [
        "<img src='gd.jpeg' height='300'>"
      ]
    },
    {
      "cell_type": "code",
      "execution_count": null,
      "metadata": {
        "id": "PBpjrBycDrRq"
      },
      "outputs": [],
      "source": [
        "import numpy as np\n",
        "import pandas as pd\n",
        "import matplotlib.pyplot as plt\n",
        "\n",
        "np.set_printoptions(legacy=125)"
      ]
    },
    {
      "cell_type": "markdown",
      "metadata": {
        "id": "oXC7fZc5UCdu"
      },
      "source": [
        "## Carga de datos\n"
      ]
    },
    {
      "cell_type": "code",
      "execution_count": 2,
      "metadata": {
        "id": "iHs4VEOGT90s"
      },
      "outputs": [],
      "source": [
        "df = pd.read_csv('pruebas_datos.csv')"
      ]
    },
    {
      "cell_type": "code",
      "execution_count": 3,
      "metadata": {
        "colab": {
          "base_uri": "https://localhost:8080/",
          "height": 487
        },
        "id": "FK5Uw7BZU8s4",
        "outputId": "aa9f4f7c-ce08-4aec-ba76-eb410ba214d7"
      },
      "outputs": [
        {
          "data": {
            "text/html": [
              "<div>\n",
              "<style scoped>\n",
              "    .dataframe tbody tr th:only-of-type {\n",
              "        vertical-align: middle;\n",
              "    }\n",
              "\n",
              "    .dataframe tbody tr th {\n",
              "        vertical-align: top;\n",
              "    }\n",
              "\n",
              "    .dataframe thead th {\n",
              "        text-align: right;\n",
              "    }\n",
              "</style>\n",
              "<table border=\"1\" class=\"dataframe\">\n",
              "  <thead>\n",
              "    <tr style=\"text-align: right;\">\n",
              "      <th></th>\n",
              "      <th>OTR</th>\n",
              "      <th>OCR</th>\n",
              "      <th>min_time_two_events</th>\n",
              "      <th>mean_time_two_events</th>\n",
              "      <th>10_p_time_two_events</th>\n",
              "      <th>med_time_two_events</th>\n",
              "      <th>25_p_time_two_events</th>\n",
              "      <th>75_p_time_two_events</th>\n",
              "      <th>90_p_time_two_events</th>\n",
              "      <th>max_time_two_events</th>\n",
              "      <th>...</th>\n",
              "      <th>90_p_lifetime_cancel</th>\n",
              "      <th>max_lifetime_cancel</th>\n",
              "      <th>NbTradeVenueMic</th>\n",
              "      <th>MaxNbTradesBySecond</th>\n",
              "      <th>MeanNbTradesBySecond</th>\n",
              "      <th>min_dt_TV1</th>\n",
              "      <th>mean_dt_TV1</th>\n",
              "      <th>med_dt_TV1</th>\n",
              "      <th>NbSecondWithAtLeatOneTrade</th>\n",
              "      <th>type</th>\n",
              "    </tr>\n",
              "  </thead>\n",
              "  <tbody>\n",
              "    <tr>\n",
              "      <th>0</th>\n",
              "      <td>-0.264140</td>\n",
              "      <td>-0.171596</td>\n",
              "      <td>-0.034334</td>\n",
              "      <td>0.173848</td>\n",
              "      <td>-0.051861</td>\n",
              "      <td>-0.194635</td>\n",
              "      <td>-0.103174</td>\n",
              "      <td>-0.493894</td>\n",
              "      <td>0.669772</td>\n",
              "      <td>0.113391</td>\n",
              "      <td>...</td>\n",
              "      <td>0.446317</td>\n",
              "      <td>0.159271</td>\n",
              "      <td>-0.989267</td>\n",
              "      <td>-0.459192</td>\n",
              "      <td>0.414463</td>\n",
              "      <td>-0.068166</td>\n",
              "      <td>2.257305</td>\n",
              "      <td>0.215650</td>\n",
              "      <td>-0.430203</td>\n",
              "      <td>1</td>\n",
              "    </tr>\n",
              "    <tr>\n",
              "      <th>1</th>\n",
              "      <td>-0.267371</td>\n",
              "      <td>0.071957</td>\n",
              "      <td>-0.034334</td>\n",
              "      <td>-0.394632</td>\n",
              "      <td>-0.051861</td>\n",
              "      <td>-0.261262</td>\n",
              "      <td>-0.107967</td>\n",
              "      <td>-0.578826</td>\n",
              "      <td>-0.714095</td>\n",
              "      <td>0.478099</td>\n",
              "      <td>...</td>\n",
              "      <td>0.341803</td>\n",
              "      <td>0.053125</td>\n",
              "      <td>-0.989267</td>\n",
              "      <td>0.065955</td>\n",
              "      <td>2.493944</td>\n",
              "      <td>-0.174906</td>\n",
              "      <td>-0.259542</td>\n",
              "      <td>-0.257432</td>\n",
              "      <td>-0.415533</td>\n",
              "      <td>1</td>\n",
              "    </tr>\n",
              "    <tr>\n",
              "      <th>2</th>\n",
              "      <td>-0.268571</td>\n",
              "      <td>0.392193</td>\n",
              "      <td>-0.034334</td>\n",
              "      <td>-0.596358</td>\n",
              "      <td>-0.051861</td>\n",
              "      <td>-0.261262</td>\n",
              "      <td>-0.107967</td>\n",
              "      <td>-0.579091</td>\n",
              "      <td>-0.864277</td>\n",
              "      <td>0.449648</td>\n",
              "      <td>...</td>\n",
              "      <td>-0.843156</td>\n",
              "      <td>-0.601191</td>\n",
              "      <td>-0.989267</td>\n",
              "      <td>0.223500</td>\n",
              "      <td>1.925729</td>\n",
              "      <td>-0.174906</td>\n",
              "      <td>-0.350248</td>\n",
              "      <td>-0.257432</td>\n",
              "      <td>-0.351515</td>\n",
              "      <td>1</td>\n",
              "    </tr>\n",
              "    <tr>\n",
              "      <th>3</th>\n",
              "      <td>-0.267320</td>\n",
              "      <td>-0.082373</td>\n",
              "      <td>-0.034334</td>\n",
              "      <td>-0.337735</td>\n",
              "      <td>-0.051861</td>\n",
              "      <td>-0.260286</td>\n",
              "      <td>-0.107966</td>\n",
              "      <td>-0.574153</td>\n",
              "      <td>0.401915</td>\n",
              "      <td>-0.240214</td>\n",
              "      <td>...</td>\n",
              "      <td>0.205183</td>\n",
              "      <td>-0.085628</td>\n",
              "      <td>-0.989267</td>\n",
              "      <td>-0.406677</td>\n",
              "      <td>1.394323</td>\n",
              "      <td>-0.174906</td>\n",
              "      <td>-0.056171</td>\n",
              "      <td>-0.257431</td>\n",
              "      <td>-0.430203</td>\n",
              "      <td>1</td>\n",
              "    </tr>\n",
              "    <tr>\n",
              "      <th>4</th>\n",
              "      <td>-0.268375</td>\n",
              "      <td>0.094866</td>\n",
              "      <td>-0.034334</td>\n",
              "      <td>-0.551568</td>\n",
              "      <td>-0.051861</td>\n",
              "      <td>-0.261262</td>\n",
              "      <td>-0.107967</td>\n",
              "      <td>-0.579396</td>\n",
              "      <td>-0.876131</td>\n",
              "      <td>-0.003950</td>\n",
              "      <td>...</td>\n",
              "      <td>0.447088</td>\n",
              "      <td>0.160054</td>\n",
              "      <td>-0.989267</td>\n",
              "      <td>0.170985</td>\n",
              "      <td>1.041917</td>\n",
              "      <td>-0.174906</td>\n",
              "      <td>-0.327099</td>\n",
              "      <td>-0.257432</td>\n",
              "      <td>-0.384858</td>\n",
              "      <td>1</td>\n",
              "    </tr>\n",
              "    <tr>\n",
              "      <th>...</th>\n",
              "      <td>...</td>\n",
              "      <td>...</td>\n",
              "      <td>...</td>\n",
              "      <td>...</td>\n",
              "      <td>...</td>\n",
              "      <td>...</td>\n",
              "      <td>...</td>\n",
              "      <td>...</td>\n",
              "      <td>...</td>\n",
              "      <td>...</td>\n",
              "      <td>...</td>\n",
              "      <td>...</td>\n",
              "      <td>...</td>\n",
              "      <td>...</td>\n",
              "      <td>...</td>\n",
              "      <td>...</td>\n",
              "      <td>...</td>\n",
              "      <td>...</td>\n",
              "      <td>...</td>\n",
              "      <td>...</td>\n",
              "      <td>...</td>\n",
              "    </tr>\n",
              "    <tr>\n",
              "      <th>50577</th>\n",
              "      <td>-0.270438</td>\n",
              "      <td>0.040609</td>\n",
              "      <td>-0.034334</td>\n",
              "      <td>-0.587633</td>\n",
              "      <td>-0.051861</td>\n",
              "      <td>-0.261262</td>\n",
              "      <td>-0.107967</td>\n",
              "      <td>-0.579589</td>\n",
              "      <td>-0.811629</td>\n",
              "      <td>-0.928057</td>\n",
              "      <td>...</td>\n",
              "      <td>-0.499086</td>\n",
              "      <td>-0.800893</td>\n",
              "      <td>-0.989267</td>\n",
              "      <td>-0.039074</td>\n",
              "      <td>2.972986</td>\n",
              "      <td>-0.174905</td>\n",
              "      <td>-0.139995</td>\n",
              "      <td>-0.257431</td>\n",
              "      <td>-0.431537</td>\n",
              "      <td>1</td>\n",
              "    </tr>\n",
              "    <tr>\n",
              "      <th>50578</th>\n",
              "      <td>-0.269299</td>\n",
              "      <td>0.040609</td>\n",
              "      <td>-0.034334</td>\n",
              "      <td>-0.704571</td>\n",
              "      <td>-0.051861</td>\n",
              "      <td>-0.261262</td>\n",
              "      <td>-0.107967</td>\n",
              "      <td>-0.573424</td>\n",
              "      <td>-0.873859</td>\n",
              "      <td>-1.356834</td>\n",
              "      <td>...</td>\n",
              "      <td>-0.927494</td>\n",
              "      <td>-1.235990</td>\n",
              "      <td>-0.989267</td>\n",
              "      <td>-0.616736</td>\n",
              "      <td>0.204493</td>\n",
              "      <td>-0.174905</td>\n",
              "      <td>-0.355996</td>\n",
              "      <td>-0.257262</td>\n",
              "      <td>-0.426202</td>\n",
              "      <td>1</td>\n",
              "    </tr>\n",
              "    <tr>\n",
              "      <th>50579</th>\n",
              "      <td>-0.270456</td>\n",
              "      <td>0.952123</td>\n",
              "      <td>-0.034334</td>\n",
              "      <td>-0.592510</td>\n",
              "      <td>-0.051861</td>\n",
              "      <td>-0.261262</td>\n",
              "      <td>-0.107967</td>\n",
              "      <td>-0.579500</td>\n",
              "      <td>-0.894274</td>\n",
              "      <td>0.012924</td>\n",
              "      <td>...</td>\n",
              "      <td>0.464365</td>\n",
              "      <td>0.177600</td>\n",
              "      <td>-0.989267</td>\n",
              "      <td>0.276014</td>\n",
              "      <td>1.680116</td>\n",
              "      <td>-0.174905</td>\n",
              "      <td>-0.076802</td>\n",
              "      <td>-0.256689</td>\n",
              "      <td>-0.414199</td>\n",
              "      <td>1</td>\n",
              "    </tr>\n",
              "    <tr>\n",
              "      <th>50580</th>\n",
              "      <td>-0.270274</td>\n",
              "      <td>2.659404</td>\n",
              "      <td>-0.034334</td>\n",
              "      <td>-0.648742</td>\n",
              "      <td>-0.051861</td>\n",
              "      <td>-0.261262</td>\n",
              "      <td>-0.107967</td>\n",
              "      <td>-0.579477</td>\n",
              "      <td>-0.886564</td>\n",
              "      <td>-0.241991</td>\n",
              "      <td>...</td>\n",
              "      <td>0.203363</td>\n",
              "      <td>-0.087476</td>\n",
              "      <td>-0.989267</td>\n",
              "      <td>0.748647</td>\n",
              "      <td>1.846925</td>\n",
              "      <td>-0.174905</td>\n",
              "      <td>-0.275480</td>\n",
              "      <td>-0.257133</td>\n",
              "      <td>-0.388859</td>\n",
              "      <td>1</td>\n",
              "    </tr>\n",
              "    <tr>\n",
              "      <th>50581</th>\n",
              "      <td>-0.270277</td>\n",
              "      <td>0.662754</td>\n",
              "      <td>-0.034334</td>\n",
              "      <td>-0.694323</td>\n",
              "      <td>-0.051861</td>\n",
              "      <td>-0.261262</td>\n",
              "      <td>-0.107967</td>\n",
              "      <td>-0.578331</td>\n",
              "      <td>-0.879211</td>\n",
              "      <td>-1.284239</td>\n",
              "      <td>...</td>\n",
              "      <td>-0.921142</td>\n",
              "      <td>-1.229538</td>\n",
              "      <td>-0.989267</td>\n",
              "      <td>0.696132</td>\n",
              "      <td>2.682657</td>\n",
              "      <td>-0.174905</td>\n",
              "      <td>0.289331</td>\n",
              "      <td>-0.253120</td>\n",
              "      <td>-0.423535</td>\n",
              "      <td>1</td>\n",
              "    </tr>\n",
              "  </tbody>\n",
              "</table>\n",
              "<p>50582 rows × 26 columns</p>\n",
              "</div>"
            ],
            "text/plain": [
              "            OTR       OCR  min_time_two_events  mean_time_two_events  \\\n",
              "0     -0.264140 -0.171596            -0.034334              0.173848   \n",
              "1     -0.267371  0.071957            -0.034334             -0.394632   \n",
              "2     -0.268571  0.392193            -0.034334             -0.596358   \n",
              "3     -0.267320 -0.082373            -0.034334             -0.337735   \n",
              "4     -0.268375  0.094866            -0.034334             -0.551568   \n",
              "...         ...       ...                  ...                   ...   \n",
              "50577 -0.270438  0.040609            -0.034334             -0.587633   \n",
              "50578 -0.269299  0.040609            -0.034334             -0.704571   \n",
              "50579 -0.270456  0.952123            -0.034334             -0.592510   \n",
              "50580 -0.270274  2.659404            -0.034334             -0.648742   \n",
              "50581 -0.270277  0.662754            -0.034334             -0.694323   \n",
              "\n",
              "       10_p_time_two_events  med_time_two_events  25_p_time_two_events  \\\n",
              "0                 -0.051861            -0.194635             -0.103174   \n",
              "1                 -0.051861            -0.261262             -0.107967   \n",
              "2                 -0.051861            -0.261262             -0.107967   \n",
              "3                 -0.051861            -0.260286             -0.107966   \n",
              "4                 -0.051861            -0.261262             -0.107967   \n",
              "...                     ...                  ...                   ...   \n",
              "50577             -0.051861            -0.261262             -0.107967   \n",
              "50578             -0.051861            -0.261262             -0.107967   \n",
              "50579             -0.051861            -0.261262             -0.107967   \n",
              "50580             -0.051861            -0.261262             -0.107967   \n",
              "50581             -0.051861            -0.261262             -0.107967   \n",
              "\n",
              "       75_p_time_two_events  90_p_time_two_events  max_time_two_events  ...  \\\n",
              "0                 -0.493894              0.669772             0.113391  ...   \n",
              "1                 -0.578826             -0.714095             0.478099  ...   \n",
              "2                 -0.579091             -0.864277             0.449648  ...   \n",
              "3                 -0.574153              0.401915            -0.240214  ...   \n",
              "4                 -0.579396             -0.876131            -0.003950  ...   \n",
              "...                     ...                   ...                  ...  ...   \n",
              "50577             -0.579589             -0.811629            -0.928057  ...   \n",
              "50578             -0.573424             -0.873859            -1.356834  ...   \n",
              "50579             -0.579500             -0.894274             0.012924  ...   \n",
              "50580             -0.579477             -0.886564            -0.241991  ...   \n",
              "50581             -0.578331             -0.879211            -1.284239  ...   \n",
              "\n",
              "       90_p_lifetime_cancel  max_lifetime_cancel  NbTradeVenueMic  \\\n",
              "0                  0.446317             0.159271        -0.989267   \n",
              "1                  0.341803             0.053125        -0.989267   \n",
              "2                 -0.843156            -0.601191        -0.989267   \n",
              "3                  0.205183            -0.085628        -0.989267   \n",
              "4                  0.447088             0.160054        -0.989267   \n",
              "...                     ...                  ...              ...   \n",
              "50577             -0.499086            -0.800893        -0.989267   \n",
              "50578             -0.927494            -1.235990        -0.989267   \n",
              "50579              0.464365             0.177600        -0.989267   \n",
              "50580              0.203363            -0.087476        -0.989267   \n",
              "50581             -0.921142            -1.229538        -0.989267   \n",
              "\n",
              "       MaxNbTradesBySecond  MeanNbTradesBySecond  min_dt_TV1  mean_dt_TV1  \\\n",
              "0                -0.459192              0.414463   -0.068166     2.257305   \n",
              "1                 0.065955              2.493944   -0.174906    -0.259542   \n",
              "2                 0.223500              1.925729   -0.174906    -0.350248   \n",
              "3                -0.406677              1.394323   -0.174906    -0.056171   \n",
              "4                 0.170985              1.041917   -0.174906    -0.327099   \n",
              "...                    ...                   ...         ...          ...   \n",
              "50577            -0.039074              2.972986   -0.174905    -0.139995   \n",
              "50578            -0.616736              0.204493   -0.174905    -0.355996   \n",
              "50579             0.276014              1.680116   -0.174905    -0.076802   \n",
              "50580             0.748647              1.846925   -0.174905    -0.275480   \n",
              "50581             0.696132              2.682657   -0.174905     0.289331   \n",
              "\n",
              "       med_dt_TV1  NbSecondWithAtLeatOneTrade  type  \n",
              "0        0.215650                   -0.430203     1  \n",
              "1       -0.257432                   -0.415533     1  \n",
              "2       -0.257432                   -0.351515     1  \n",
              "3       -0.257431                   -0.430203     1  \n",
              "4       -0.257432                   -0.384858     1  \n",
              "...           ...                         ...   ...  \n",
              "50577   -0.257431                   -0.431537     1  \n",
              "50578   -0.257262                   -0.426202     1  \n",
              "50579   -0.256689                   -0.414199     1  \n",
              "50580   -0.257133                   -0.388859     1  \n",
              "50581   -0.253120                   -0.423535     1  \n",
              "\n",
              "[50582 rows x 26 columns]"
            ]
          },
          "execution_count": 3,
          "metadata": {},
          "output_type": "execute_result"
        }
      ],
      "source": [
        "df"
      ]
    },
    {
      "cell_type": "code",
      "execution_count": 4,
      "metadata": {
        "colab": {
          "base_uri": "https://localhost:8080/"
        },
        "id": "iU7IEu3FVEjn",
        "outputId": "7ac7c8a9-d2fe-4f9f-b6f6-5a40142faa86"
      },
      "outputs": [
        {
          "data": {
            "text/plain": [
              "type\n",
              "0    30522\n",
              "1    20060\n",
              "Name: count, dtype: int64"
            ]
          },
          "execution_count": 4,
          "metadata": {},
          "output_type": "execute_result"
        }
      ],
      "source": [
        "# Los valores 1 son NON-HFT y los 0 son HFT\n",
        "df.type.value_counts()"
      ]
    },
    {
      "cell_type": "code",
      "execution_count": 7,
      "metadata": {
        "colab": {
          "base_uri": "https://localhost:8080/"
        },
        "id": "jU9HDQM8VTfo",
        "outputId": "11a14d23-4598-4811-817f-e78b507ceb30"
      },
      "outputs": [
        {
          "data": {
            "text/plain": [
              "(50582, 26)"
            ]
          },
          "execution_count": 7,
          "metadata": {},
          "output_type": "execute_result"
        }
      ],
      "source": [
        "df.shape"
      ]
    },
    {
      "cell_type": "markdown",
      "metadata": {
        "id": "SCtqgR4MZsTv"
      },
      "source": [
        "\n",
        "Los datos fueron utilizados en una competencia que pueden consultar [aquí](https://challengedata.ens.fr/participants/challenges/50/).\n",
        "\n",
        "Es de gran interés tratar de estudiar el impacto que tienen los HFT en los mercados, ya que lo que hacen es realizar intercambios dando ordenes de intercambio a un mecanismo llamado Limit Order Book (LOB), al cual le ordenan realizar compras o ventas a precios que ellos deseen."
      ]
    },
    {
      "cell_type": "markdown",
      "metadata": {},
      "source": [
        "#### Diccionario de datos\n",
        "\n"
      ]
    },
    {
      "cell_type": "markdown",
      "metadata": {},
      "source": [
        "1. NbTradeVenueMic (23) : Número de centros de negociación en los que opera el jugador del mercado\n",
        "\n",
        "De todos los centros de negociación, estadísticas sobre el número de operaciones observadas por segundo\n",
        "\n",
        "2. MaxNbTradesBySecond (24)\n",
        "3. MeanNbTradesBySecond (25)\n",
        "\n",
        "Estadísticas sobre el delta de tiempo observado entre dos operaciones en la plataforma de negociación TV_1[1]:\n",
        "\n",
        "4. min_dt_TV1 (26)\n",
        "5. med_dt_TV1 (28)\n",
        "6. mean_dt_TV1 (27)\n",
        "\n",
        "Estadísticas sobre el delta de tiempo observado entre dos operaciones que se producen en la plataforma de negociación TV_1 y luego en la plataforma de negociación TV_2:\n",
        "\n",
        "7. min_dt_TV1_TV2 (29)\n",
        "8. med_dt_TV1_TV2 (31)\n",
        "9. mean_dt_TV1_TV2 (30)\n",
        "\n",
        "Estadísticas sobre el delta de tiempo observado entre dos operaciones que se producen en la plataforma de negociación TV_1 y luego en la plataforma de negociación TV_3:\n",
        "\n",
        "10. min_dt_TV1_TV3 (32)\n",
        "11. med_dt_TV1_TV3 (34)\n",
        "12. mean_dt_TV1_TV3 (33)\n",
        "\n",
        "Estadísticas sobre el delta de tiempo observado entre dos operaciones que se producen en la plataforma de negociación TV_1 y luego en la plataforma de negociación TV_4 :\n",
        "\n",
        "13. min_dt_TV1_TV4 (35)\n",
        "14. med_dt_TV1_TV4 (37)\n",
        "15. mean_dt_TV1_TV4(36)\n",
        "\n",
        "De todos los centros de negociación, número de segundos durante el día de negociación donde se observa al menos una operación del jugador del mercado i\n",
        "\n",
        "16. NbSecondWithAtLeatOneTrade(38)\n",
        "\n",
        "En la plataforma de negociación TV_1, tres proporciones entre el número de todo tipo de eventos[2] enviados a la LOB y:\n",
        "\n",
        "17. el número de operaciones (OTR) (4)\n",
        "18. el número de eventos de tipo cancelación (OCR) (5)\n",
        "19. el número de eventos de tipo de modificación (OMR) (6)\n",
        "\n",
        "En el centro de negociación TV_1, estadísticas durante el delta de tiempo observado entre dos eventos de todo tipo enviados:\n",
        "\n",
        "20. min_time_two_events (7)\n",
        "21. mean_time_two_events (8)\n",
        "22. 10_p_time_two_events (9)\n",
        "23. med_time_two_events (10)\n",
        "24. 25_p_time_two_events (11)\n",
        "25. 75_p_time_two_events (12)\n",
        "26. 90_p_time_two_events (13)\n",
        "27. max_time_two_events (14)\n",
        "\n",
        "En la plataforma de negociación TV_1, estadísticas a lo largo de la vida útil observada de las órdenes canceladas:\n",
        "\n",
        "28. min_lifetime_cancel (15)\n",
        "29. mean_lifetime_cancel (16)\n",
        "30. 10_p_lifetime_cancel (17)\n",
        "31. med_lifetime_cancel (18)\n",
        "32. 25_p_lifetime_cancel (19)\n",
        "33. 75_p_lifetime_cancel (20)\n",
        "34. 90_p_lifetime_cancel (21)\n",
        "35. max_lifetime_cancel (22)\n",
        "\n",
        "Extra variables\n",
        "\n",
        "36. Type: HF, Non HFT (39)\n",
        "37. Day\n",
        "38. Share\n",
        "39. Trader\n",
        "40. Index"
      ]
    },
    {
      "cell_type": "markdown",
      "metadata": {},
      "source": [
        "## Regresión lineal vs. regresión logística"
      ]
    },
    {
      "cell_type": "markdown",
      "metadata": {},
      "source": [
        "**Regresión Lineal**\n",
        "$$\n",
        "y = \\beta_0 + \\beta_1x_1 + \\beta_2x_2 + \\cdots + \\beta_nx_n + \\epsilon\n",
        "$$\n",
        "\n",
        "**Regresión logística**\n",
        "$$\n",
        "\\frac{1}{1 + e^{-(\\beta_0 + \\beta_1x_1 + \\beta_2x_2 + \\cdots + \\beta_nx_n)}}\n",
        "$$\n",
        "note la función sigmoide:\n",
        "$$\n",
        "\\sigma(z) = \\frac{1}{1 + e^{-z}}\n",
        "$$"
      ]
    },
    {
      "cell_type": "markdown",
      "metadata": {},
      "source": [
        "<img src='lrlr.png'>"
      ]
    },
    {
      "cell_type": "code",
      "execution_count": 5,
      "metadata": {
        "colab": {
          "base_uri": "https://localhost:8080/"
        },
        "id": "FIcEwUB_WMlG",
        "outputId": "5f5de895-dbdf-48e7-ae4d-fdac079c57a0"
      },
      "outputs": [
        {
          "data": {
            "text/plain": [
              "array([[-0.26413997, -0.17159563, -0.03433358, ...,  2.25730527,\n",
              "         0.21564981, -0.43020348],\n",
              "       [-0.26737141,  0.07195718, -0.03433358, ..., -0.25954205,\n",
              "        -0.25743172, -0.41553282],\n",
              "       [-0.26857105,  0.39219296, -0.03433358, ..., -0.35024783,\n",
              "        -0.25743176, -0.35151541],\n",
              "       ...,\n",
              "       [-0.27045626,  0.9521233 , -0.03433358, ..., -0.07680184,\n",
              "        -0.25668942, -0.41419912],\n",
              "       [-0.27027382,  2.65940442, -0.03433358, ..., -0.27547952,\n",
              "        -0.25713323, -0.3888589 ],\n",
              "       [-0.2702773 ,  0.66275362, -0.03433358, ...,  0.28933079,\n",
              "        -0.25311955, -0.423535  ]])"
            ]
          },
          "execution_count": 5,
          "metadata": {},
          "output_type": "execute_result"
        }
      ],
      "source": [
        "X_prob = np.array(df.drop(['type'], axis=1))\n",
        "X_prob"
      ]
    },
    {
      "cell_type": "code",
      "execution_count": 6,
      "metadata": {
        "colab": {
          "base_uri": "https://localhost:8080/"
        },
        "id": "ysTvZku2ILgN",
        "outputId": "2be4148f-276c-4892-f98f-b28346e60589"
      },
      "outputs": [
        {
          "data": {
            "text/plain": [
              "(50582, 25)"
            ]
          },
          "execution_count": 6,
          "metadata": {},
          "output_type": "execute_result"
        }
      ],
      "source": [
        "X_prob.shape"
      ]
    },
    {
      "cell_type": "code",
      "execution_count": 7,
      "metadata": {
        "colab": {
          "base_uri": "https://localhost:8080/"
        },
        "id": "UpZPlZlnWARR",
        "outputId": "e646d94c-6132-4db8-e7f5-4233ce05a38a"
      },
      "outputs": [
        {
          "data": {
            "text/plain": [
              "array([1, 1, 1, ..., 1, 1, 1])"
            ]
          },
          "execution_count": 7,
          "metadata": {},
          "output_type": "execute_result"
        }
      ],
      "source": [
        "Y_prob = np.array(df['type'])\n",
        "Y_prob"
      ]
    },
    {
      "cell_type": "code",
      "execution_count": 8,
      "metadata": {
        "colab": {
          "base_uri": "https://localhost:8080/"
        },
        "id": "GyU40YXb0dIy",
        "outputId": "df875a16-54fb-4eea-a476-2d57803796aa"
      },
      "outputs": [
        {
          "data": {
            "text/plain": [
              "(50582,)"
            ]
          },
          "execution_count": 8,
          "metadata": {},
          "output_type": "execute_result"
        }
      ],
      "source": [
        "Y_prob.shape"
      ]
    },
    {
      "cell_type": "code",
      "execution_count": 9,
      "metadata": {
        "id": "HgYtgbebimh0"
      },
      "outputs": [],
      "source": [
        "num_inputs = 25\n",
        "num_outputs = 2\n",
        "\n",
        "W = np.random.normal(0, 0.1, (num_inputs, num_outputs)) # Jugaremos con este parametro\n",
        "B = np.zeros(num_outputs) # Jugaremos con este parametro"
      ]
    },
    {
      "cell_type": "code",
      "execution_count": 10,
      "metadata": {
        "colab": {
          "base_uri": "https://localhost:8080/"
        },
        "id": "gDLgt_L3VZNa",
        "outputId": "cbbef093-b621-4d98-f315-2c7943a3235a"
      },
      "outputs": [
        {
          "name": "stdout",
          "output_type": "stream",
          "text": [
            "[[-0.08400075 -0.02064972]\n",
            " [ 0.13524204 -0.03956967]\n",
            " [-0.07461321  0.02229592]\n",
            " [ 0.17761585 -0.10635687]\n",
            " [-0.08400589  0.0277731 ]\n",
            " [-0.02204329  0.02089238]\n",
            " [ 0.01416012  0.05541595]\n",
            " [ 0.01297323 -0.04231165]\n",
            " [-0.06729369 -0.05734633]\n",
            " [-0.22384171 -0.13162099]\n",
            " [ 0.18203782  0.12593531]\n",
            " [ 0.05405428  0.04456667]\n",
            " [ 0.07500393 -0.08992801]\n",
            " [ 0.05678476 -0.13546022]\n",
            " [-0.17074971  0.01171912]\n",
            " [-0.02769348  0.04112305]\n",
            " [-0.09281582 -0.0684631 ]\n",
            " [-0.00462511 -0.22234836]\n",
            " [ 0.05840956 -0.09925124]\n",
            " [-0.03262413  0.07340556]\n",
            " [ 0.06198691 -0.26265141]\n",
            " [ 0.04500348  0.05202561]\n",
            " [-0.01743194 -0.02181816]\n",
            " [-0.05048849  0.00669088]\n",
            " [ 0.00813274  0.06027373]]\n",
            "[0. 0.]\n"
          ]
        }
      ],
      "source": [
        "print(W)\n",
        "print(B)"
      ]
    },
    {
      "cell_type": "markdown",
      "metadata": {
        "id": "yLTx9XpmoPuA"
      },
      "source": [
        "## Regresión softmax\n",
        "La función softmax generaliza a la función sigmoide.\n",
        "\n",
        "Antes, notemos que dado un arreglo de numpy, nosotros podemos realizar sumas de diferentes formas utilizando el método \"sum()\".\n",
        "\n",
        "Si no pasamos ningún parámetro a \"sum()\", lo que obtendremos será la suma de todas las entradas de nuestra matriz (o arreglo o tensor).\n",
        "\n",
        "Si damos como parámetro el \"0\", lo que nos regresará será la suma por columnas (es decir, en el eje 0)\n",
        "\n",
        "Si damos como parámetro el \"1\", nos regresará la suma por filas (es decir, en el eje 1)"
      ]
    },
    {
      "cell_type": "code",
      "execution_count": 11,
      "metadata": {
        "colab": {
          "base_uri": "https://localhost:8080/"
        },
        "id": "c1tKKzybKRFB",
        "outputId": "b04c3a87-2199-4ebc-8665-f933df60ef21"
      },
      "outputs": [
        {
          "data": {
            "text/plain": [
              "array([[1., 2., 3.],\n",
              "       [4., 5., 6.]])"
            ]
          },
          "execution_count": 11,
          "metadata": {},
          "output_type": "execute_result"
        }
      ],
      "source": [
        "X = np.array([[1.0, 2.0, 3.0], [4.0, 5.0, 6.0]])\n",
        "X"
      ]
    },
    {
      "cell_type": "code",
      "execution_count": 12,
      "metadata": {
        "colab": {
          "base_uri": "https://localhost:8080/"
        },
        "id": "0prrE4B7ixOn",
        "outputId": "e1748516-8c01-4bcb-8c8f-fa23d9a0e6ea"
      },
      "outputs": [
        {
          "data": {
            "text/plain": [
              "(array([[21.]]),\n",
              " array([[5., 7., 9.]]),\n",
              " array([[ 6.],\n",
              "        [15.]]))"
            ]
          },
          "execution_count": 12,
          "metadata": {},
          "output_type": "execute_result"
        }
      ],
      "source": [
        "X.sum(keepdims=True), X.sum(0, keepdims=True), X.sum(1, keepdims=True)"
      ]
    },
    {
      "cell_type": "markdown",
      "metadata": {
        "id": "1qKW7Pn2C55P"
      },
      "source": [
        "Con esto podemos implementar de modo vectorizado la función softmax:\n",
        "\n",
        "1. Obtenemos la exponencial evaluada en cada uno de nuestros elementos\n",
        "2. Tomamos la suma de los elementos de su fila y normalizamos\n",
        "\n",
        "La expresión matemática de la función SoftMax es la siguiente:\n",
        "\n",
        "\n",
        "$$ \\mathrm{softmax}(\\mathbf{X})_{ij} = \\frac{\\exp(\\mathbf{X}_{ij})}{\\sum_k \\exp(\\mathbf{X}_{ik})}. $$"
      ]
    },
    {
      "cell_type": "code",
      "execution_count": 18,
      "metadata": {
        "id": "nPCYu0LHnqxi"
      },
      "outputs": [],
      "source": [
        "def softmax(X):\n",
        "    X_exp = np.exp(X)\n",
        "    partition = X_exp.sum(1, keepdims=True)\n",
        "    return X_exp / partition"
      ]
    },
    {
      "cell_type": "markdown",
      "metadata": {
        "id": "qNDcmahzEwGH"
      },
      "source": [
        "Veamos un ejemplo con la matriz de 2X3 creada anteriormente."
      ]
    },
    {
      "cell_type": "code",
      "execution_count": 14,
      "metadata": {
        "id": "TSArEtp4tKOg"
      },
      "outputs": [
        {
          "data": {
            "text/plain": [
              "(array([[ 0.15904813,  0.15383779,  0.02624004, -0.0477585 ],\n",
              "        [-0.04351622,  0.0592601 ,  0.13946836, -0.07899897],\n",
              "        [-0.00635907,  0.02248948, -0.02752244, -0.07568251]]),\n",
              " array([0., 0., 0., 0.]))"
            ]
          },
          "execution_count": 14,
          "metadata": {},
          "output_type": "execute_result"
        }
      ],
      "source": [
        "# Supongamos que tenemos 4 clases\n",
        "W_p_X = np.random.normal(0, 0.1, (3, 4)) # Jugaremos con este parametro\n",
        "B_p_X = np.zeros(4) # Jugaremos con este parametro\n",
        "\n",
        "W_p_X, B_p_X"
      ]
    },
    {
      "cell_type": "code",
      "execution_count": 15,
      "metadata": {
        "colab": {
          "base_uri": "https://localhost:8080/"
        },
        "id": "5GKWNzOptgyO",
        "outputId": "02a7f635-55e7-4dc5-99e2-a5e447a2e760"
      },
      "outputs": [
        {
          "data": {
            "text/plain": [
              "array([[ 0.05293847,  0.33982642,  0.22260943, -0.43280397],\n",
              "       [ 0.38045699,  1.04658852,  0.63716729, -1.0401239 ]])"
            ]
          },
          "execution_count": 15,
          "metadata": {},
          "output_type": "execute_result"
        }
      ],
      "source": [
        "X @ W_p_X + B_p_X"
      ]
    },
    {
      "cell_type": "code",
      "execution_count": 16,
      "metadata": {
        "colab": {
          "base_uri": "https://localhost:8080/"
        },
        "id": "0fL_0uvtntuS",
        "outputId": "78290266-74d3-44c8-9359-552838167e7c"
      },
      "outputs": [
        {
          "data": {
            "text/plain": [
              "array([[0.24198837, 0.32239503, 0.28673562, 0.14888098],\n",
              "       [0.22316765, 0.43443868, 0.28848225, 0.05391142]])"
            ]
          },
          "execution_count": 16,
          "metadata": {},
          "output_type": "execute_result"
        }
      ],
      "source": [
        "softmax(X @ W_p_X + B_p_X)"
      ]
    },
    {
      "cell_type": "markdown",
      "metadata": {
        "id": "CqHlJW4-E71h"
      },
      "source": [
        "Si observamos con cuidado, podemos ver que con esta operación estamos transformando todas nuestras entradas en números positivos. Mas aún, cada fila suma 1, es decir, la convertimos en una distribución de probabilidad."
      ]
    },
    {
      "cell_type": "code",
      "execution_count": 17,
      "metadata": {
        "colab": {
          "base_uri": "https://localhost:8080/"
        },
        "id": "27w0BqwBpPm2",
        "outputId": "4eaacb77-2f6c-45c6-cb90-c3c94da72632"
      },
      "outputs": [
        {
          "data": {
            "text/plain": [
              "(array([[0.24198837, 0.32239503, 0.28673562, 0.14888098],\n",
              "        [0.22316765, 0.43443868, 0.28848225, 0.05391142]]),\n",
              " array([1., 1.]))"
            ]
          },
          "execution_count": 17,
          "metadata": {},
          "output_type": "execute_result"
        }
      ],
      "source": [
        "x_prob = softmax(X @ W_p_X + B_p_X)\n",
        "x_prob, x_prob.sum(1)"
      ]
    },
    {
      "cell_type": "markdown",
      "metadata": {},
      "source": [
        "### Softmax estable"
      ]
    },
    {
      "cell_type": "code",
      "execution_count": null,
      "metadata": {},
      "outputs": [
        {
          "name": "stderr",
          "output_type": "stream",
          "text": [
            "/var/folders/_2/ssn9p4gn1zq96vptrk6db0940000gn/T/ipykernel_14862/406658106.py:3: RuntimeWarning: overflow encountered in exp\n",
            "  X_exp = np.exp(X)\n",
            "/var/folders/_2/ssn9p4gn1zq96vptrk6db0940000gn/T/ipykernel_14862/406658106.py:5: RuntimeWarning: invalid value encountered in divide\n",
            "  return X_exp / partition\n"
          ]
        },
        {
          "data": {
            "text/plain": [
              "array([[0.97962921, 0.01794253, 0.00242826],\n",
              "       [0.97962921, 0.01794253, 0.00242826]])"
            ]
          },
          "execution_count": 49,
          "metadata": {},
          "output_type": "execute_result"
        }
      ],
      "source": [
        "# Softmax Estable\n",
        "def stable_softmax(X):\n",
        "    X_exp = np.exp(X - np.max(X, axis=1, keepdims=True))\n",
        "    partition = X_exp.sum(1, keepdims=True)\n",
        "    return X_exp / partition\n",
        "\n",
        "\n",
        "prueba = np.array([[99999, 99995, 99993],[9, 5, 3]])"
      ]
    },
    {
      "cell_type": "code",
      "execution_count": 50,
      "metadata": {},
      "outputs": [
        {
          "name": "stderr",
          "output_type": "stream",
          "text": [
            "/var/folders/_2/ssn9p4gn1zq96vptrk6db0940000gn/T/ipykernel_14862/406658106.py:3: RuntimeWarning: overflow encountered in exp\n",
            "  X_exp = np.exp(X)\n",
            "/var/folders/_2/ssn9p4gn1zq96vptrk6db0940000gn/T/ipykernel_14862/406658106.py:5: RuntimeWarning: invalid value encountered in divide\n",
            "  return X_exp / partition\n"
          ]
        },
        {
          "data": {
            "text/plain": [
              "array([[       nan,        nan,        nan],\n",
              "       [0.97962921, 0.01794253, 0.00242826]])"
            ]
          },
          "execution_count": 50,
          "metadata": {},
          "output_type": "execute_result"
        }
      ],
      "source": [
        "softmax(prueba)"
      ]
    },
    {
      "cell_type": "code",
      "execution_count": 51,
      "metadata": {},
      "outputs": [
        {
          "data": {
            "text/plain": [
              "array([[0.97962921, 0.01794253, 0.00242826],\n",
              "       [0.97962921, 0.01794253, 0.00242826]])"
            ]
          },
          "execution_count": 51,
          "metadata": {},
          "output_type": "execute_result"
        }
      ],
      "source": [
        "\n",
        "stable_softmax(prueba)"
      ]
    },
    {
      "cell_type": "markdown",
      "metadata": {
        "id": "cyDAzg-TplBX"
      },
      "source": [
        "## Definiendo el modelo\n",
        "\n",
        "Implementemos una regresión softmax."
      ]
    },
    {
      "cell_type": "code",
      "execution_count": null,
      "metadata": {
        "id": "Xt5hs-R5pmzH"
      },
      "outputs": [],
      "source": [
        "def net(X, W, b):\n",
        "    return softmax(np.dot(X.reshape((-1, W.shape[0])), W) + b)\n",
        "\n",
        "def net_s(X,W,b):\n",
        "    return stable_softmax(np.dot(X.reshape((-1, W.shape[0])), W) + b)"
      ]
    },
    {
      "cell_type": "markdown",
      "metadata": {
        "id": "v-lGeJHLptUV"
      },
      "source": [
        "## Función de pérdida"
      ]
    },
    {
      "cell_type": "markdown",
      "metadata": {
        "id": "-aIVnMDipv8z"
      },
      "source": [
        "Usaremos la función Cross-Entropy, una de las más populares para problemas de clasficación."
      ]
    },
    {
      "cell_type": "markdown",
      "metadata": {
        "id": "5W2-3hHaHLOb"
      },
      "source": [
        "La función, para una sola observación, es la siguiente:\n",
        "$$ -\\sum_{c=1}^My_{c}\\log(p_{c}), $$\n",
        "\n",
        "donde $M$ es la cantidad de clases que tenemos, $log$ la función de logaritmo natural, $y$ es $0$ o $1$ dependiendo de la etiqueta real de la clase $c$ y por último $p_{c}$ es la probabilidad predicha de que la observación pertenezca a la clase $c$."
      ]
    },
    {
      "cell_type": "markdown",
      "metadata": {
        "id": "p8VFVTHVHKCS"
      },
      "source": [
        "Para calcular esto, en lugar de utilizar un ciclo \"for\", utilizaremos funciones de numpy."
      ]
    },
    {
      "cell_type": "code",
      "execution_count": null,
      "metadata": {
        "id": "pHEEjhW3qqgJ"
      },
      "outputs": [],
      "source": [
        "def cross_entropy(y_hat, y):\n",
        "    return np.sum( - np.log(y_hat[range(len(y_hat)), y]) ) / y.shape[0]"
      ]
    },
    {
      "cell_type": "code",
      "execution_count": null,
      "metadata": {
        "colab": {
          "base_uri": "https://localhost:8080/"
        },
        "id": "VSkWQRm1p1h6",
        "outputId": "7924be8b-6da6-4619-8abc-e4bd2dc1cc38"
      },
      "outputs": [
        {
          "data": {
            "text/plain": [
              "array([0.1, 0.5])"
            ]
          },
          "execution_count": 23,
          "metadata": {},
          "output_type": "execute_result"
        }
      ],
      "source": [
        "y = np.array([0, \n",
        "              2])\n",
        "\n",
        "y_hat = np.array([[0.1, 0.3, 0.6], \n",
        "                  [0.3, 0.2, 0.5]])\n",
        "\n",
        "y_hat[[0, 1], y]"
      ]
    },
    {
      "cell_type": "code",
      "execution_count": 25,
      "metadata": {
        "colab": {
          "base_uri": "https://localhost:8080/"
        },
        "id": "-C9idG4Lsk3W",
        "outputId": "ce748f58-3258-43f9-e4ea-7b29c7b5052e"
      },
      "outputs": [
        {
          "data": {
            "text/plain": [
              "1.4978661367769954"
            ]
          },
          "execution_count": 25,
          "metadata": {},
          "output_type": "execute_result"
        }
      ],
      "source": [
        "cross_entropy(y_hat, y)"
      ]
    },
    {
      "cell_type": "markdown",
      "metadata": {
        "id": "y0C0Wio7s5Mh"
      },
      "source": [
        "## Precisión de la clasificación"
      ]
    },
    {
      "cell_type": "markdown",
      "metadata": {
        "id": "kST4BHoWMH4b"
      },
      "source": [
        "Este es un problema de clasificación multi-clase, es decir, un problema en el que observemos varias caracteristicas de un elemento y decidamos a que clase pertenece dicho elemento.\n",
        "\n",
        "Por ejemplo: Un algoritmo de clasificación de imagenes que intente saber si algo es un perro, un gato o un ratón. Si introdujeramos características y al final diera un vector $(0.2, 0.38, 0.42)$, el algoritmo lo clasificaría como un ratón (lo marcaría como perteneciente a la tercer clase)\n",
        "\n",
        "Cuando las predicciones son consistentes con las etiquetas verdaderas, decimos que son correctas. La precisión de la clasificación son la cantidad de predicciones correctas entre todas las predicciones. Sin embargo, es muy difícil optimizar esto directamente (pues no es una función diferenciable), pero será útil para ver el rendimiento de nuestro modelo."
      ]
    },
    {
      "cell_type": "markdown",
      "metadata": {
        "id": "AbMsjaRTMHNQ"
      },
      "source": [
        "Lo que hacemos para ver la precisión es encontrar el valor mas grande en el vector de probabilidades, convertirlo en entero (porque muy probablemente sea un valor entr 0 y 1) y compararlo con las etiquetas verdaderas de nuestros datos."
      ]
    },
    {
      "cell_type": "code",
      "execution_count": 28,
      "metadata": {
        "colab": {
          "base_uri": "https://localhost:8080/"
        },
        "id": "ULYR_9RjPljp",
        "outputId": "4295b428-80f4-420d-f2dd-c3137facbe2a"
      },
      "outputs": [
        {
          "data": {
            "text/plain": [
              "array([2])"
            ]
          },
          "execution_count": 28,
          "metadata": {},
          "output_type": "execute_result"
        }
      ],
      "source": [
        "# ARGMAX regresa la posicion del elemento con mayor valor\n",
        "np.array([[0.2,0.38, 0.42]]).argmax(axis=1)"
      ]
    },
    {
      "cell_type": "code",
      "execution_count": 35,
      "metadata": {
        "id": "6WRt_0Ics488"
      },
      "outputs": [],
      "source": [
        "def accuracy(y_hat, y):\n",
        "    \"\"\"Calcula la cantidad de predicciones correctas.\"\"\"\n",
        "    if len(y_hat.shape) > 1 and y_hat.shape[1] > 1:\n",
        "        y_hat = y_hat.argmax(axis=1)\n",
        "    cmp = y_hat.astype(y.dtype) == y\n",
        "    return float(cmp.sum())/ len(y)"
      ]
    },
    {
      "cell_type": "code",
      "execution_count": 36,
      "metadata": {
        "colab": {
          "base_uri": "https://localhost:8080/"
        },
        "id": "ZMF7OSNCtGVC",
        "outputId": "6b122c87-c286-4c73-cbe6-4c4fbfe8aadd"
      },
      "outputs": [
        {
          "data": {
            "text/plain": [
              "0.5"
            ]
          },
          "execution_count": 36,
          "metadata": {},
          "output_type": "execute_result"
        }
      ],
      "source": [
        "accuracy(y_hat, y)"
      ]
    },
    {
      "cell_type": "markdown",
      "metadata": {
        "id": "vx7hIiLYYy6l"
      },
      "source": [
        "### Accuracy en nuestro modelo con pesos al azar"
      ]
    },
    {
      "cell_type": "code",
      "execution_count": 37,
      "metadata": {
        "colab": {
          "base_uri": "https://localhost:8080/"
        },
        "id": "1Bx9EcuoQT10",
        "outputId": "69663691-c9c0-45c1-eec4-b82bb13f483e"
      },
      "outputs": [
        {
          "data": {
            "text/plain": [
              "array([[-0.26413997, -0.17159563, -0.03433358, ...,  2.25730527,\n",
              "         0.21564981, -0.43020348],\n",
              "       [-0.26737141,  0.07195718, -0.03433358, ..., -0.25954205,\n",
              "        -0.25743172, -0.41553282],\n",
              "       [-0.26857105,  0.39219296, -0.03433358, ..., -0.35024783,\n",
              "        -0.25743176, -0.35151541],\n",
              "       ...,\n",
              "       [-0.27045626,  0.9521233 , -0.03433358, ..., -0.07680184,\n",
              "        -0.25668942, -0.41419912],\n",
              "       [-0.27027382,  2.65940442, -0.03433358, ..., -0.27547952,\n",
              "        -0.25713323, -0.3888589 ],\n",
              "       [-0.2702773 ,  0.66275362, -0.03433358, ...,  0.28933079,\n",
              "        -0.25311955, -0.423535  ]])"
            ]
          },
          "execution_count": 37,
          "metadata": {},
          "output_type": "execute_result"
        }
      ],
      "source": [
        "X_prob"
      ]
    },
    {
      "cell_type": "code",
      "execution_count": 38,
      "metadata": {
        "colab": {
          "base_uri": "https://localhost:8080/"
        },
        "id": "Jxzc1dXTYoaL",
        "outputId": "766daa4d-6360-4516-fe54-62220bdb7e36"
      },
      "outputs": [
        {
          "data": {
            "text/plain": [
              "0.3657625242181013"
            ]
          },
          "execution_count": 38,
          "metadata": {},
          "output_type": "execute_result"
        }
      ],
      "source": [
        "accuracy(net(X_prob, W, B), Y_prob)"
      ]
    },
    {
      "cell_type": "code",
      "execution_count": 39,
      "metadata": {
        "id": "BWjrsx5tZEFf"
      },
      "outputs": [],
      "source": [
        "W = np.random.normal(0, 0.1, (num_inputs, num_outputs)) # Jugaremos con este parametro\n",
        "B = np.zeros(num_outputs) # Jugaremos con este parametro"
      ]
    },
    {
      "cell_type": "code",
      "execution_count": 40,
      "metadata": {
        "colab": {
          "base_uri": "https://localhost:8080/"
        },
        "id": "1p1t9fb0YNxG",
        "outputId": "f1304124-945e-46d1-81ef-b2770c09a276"
      },
      "outputs": [
        {
          "data": {
            "text/plain": [
              "array([[0.4740627 , 0.5259373 ],\n",
              "       [0.49729998, 0.50270002],\n",
              "       [0.5045218 , 0.4954782 ],\n",
              "       ...,\n",
              "       [0.26841303, 0.73158697],\n",
              "       [0.27150191, 0.72849809],\n",
              "       [0.51902496, 0.48097504]])"
            ]
          },
          "execution_count": 40,
          "metadata": {},
          "output_type": "execute_result"
        }
      ],
      "source": [
        "# Las probabilidades que predecimos para cada fila de nuestros datos\n",
        "net(X_prob, W, B)"
      ]
    },
    {
      "cell_type": "code",
      "execution_count": 41,
      "metadata": {
        "colab": {
          "base_uri": "https://localhost:8080/"
        },
        "id": "WlBh3aN-Y4GG",
        "outputId": "75034eaa-8331-4cdf-9de7-ef6b1c170113"
      },
      "outputs": [
        {
          "data": {
            "text/plain": [
              "array([1, 1, 1, ..., 1, 1, 1])"
            ]
          },
          "execution_count": 41,
          "metadata": {},
          "output_type": "execute_result"
        }
      ],
      "source": [
        "# La etiqueta verdadera de nuestros datos\n",
        "Y_prob"
      ]
    },
    {
      "cell_type": "markdown",
      "metadata": {},
      "source": [
        "## Descenso por gradiente"
      ]
    },
    {
      "cell_type": "code",
      "execution_count": 96,
      "metadata": {
        "id": "bdaasRLfu3cI"
      },
      "outputs": [],
      "source": [
        "def grad_for_w(X, y_true, w, b):\n",
        "    pred = net_s(X,w,b)\n",
        "\n",
        "    ones_true_class = np.zeros_like(pred) # Matriz de ceros que tiene la forma de las probabilidades\n",
        "\n",
        "    ones_true_class[np.arange(len(pred)), y_true] = 1 # Genera 1 si está en la clasificacion correcta\n",
        "\n",
        "    aux = pred - ones_true_class\n",
        "\n",
        "    return X.T @ aux / X.shape[0]"
      ]
    },
    {
      "cell_type": "code",
      "execution_count": 98,
      "metadata": {
        "id": "vPmuEewJvWyR"
      },
      "outputs": [],
      "source": [
        "def grad_for_b(X, y_true, w, b):\n",
        "    pred = net_s(X,w,b)\n",
        "\n",
        "    ones_true_class = np.zeros_like(pred) # Matriz de ceros que tiene la forma de las probabilidades (logits.shape), si alimento todos los datos es 50000X2\n",
        "\n",
        "    ones_true_class[np.arange(len(pred)),y_true] = 1 # Genera 1 si está en la clasificacion correcta\n",
        "\n",
        "    aux = pred - ones_true_class\n",
        "\n",
        "    return aux.sum(axis=0, keepdims=True) / X.shape[0]"
      ]
    },
    {
      "cell_type": "markdown",
      "metadata": {
        "id": "Iqm6FZHOv5kh"
      },
      "source": [
        "Ahora podemos implementar Gradient Descent"
      ]
    },
    {
      "cell_type": "code",
      "execution_count": 99,
      "metadata": {
        "id": "xaj_uBU4LxfB"
      },
      "outputs": [],
      "source": [
        "def gradient_descent(x, y, w, b, learning_rate=0.1, num_epochs=10):\n",
        "\t# La función de pérdida suele ser denotada por J(.)\n",
        "\tJ_all = []\n",
        "\n",
        "\tfor _ in range(num_epochs):\n",
        "\t\ty_probs = net_s(x, w, b)\n",
        "\n",
        "\t\tgradient_w = grad_for_w(x,y,w,b)\n",
        "\t\tgradient_b = grad_for_b(x,y,w,b)\n",
        "\n",
        "\t    # Actualización de los parámetros\n",
        "\t\tw = w - (learning_rate) * gradient_w\n",
        "\t\tb = b - (learning_rate) * gradient_b\n",
        "\n",
        "\t\tJ_all.append(cross_entropy(y_probs, y))\n",
        "\n",
        "\treturn J_all, w, b"
      ]
    },
    {
      "cell_type": "code",
      "execution_count": 92,
      "metadata": {
        "id": "VyLdbdMdNmAp"
      },
      "outputs": [],
      "source": [
        "W = np.random.normal(0, 0.1, (num_inputs, num_outputs)) # Jugaremos con este parametro\n",
        "B = np.zeros(num_outputs) # Jugaremos con este parametro"
      ]
    },
    {
      "cell_type": "code",
      "execution_count": 93,
      "metadata": {
        "id": "fdtOu8Gv4phz"
      },
      "outputs": [],
      "source": [
        "learning_rate = 0.01\n",
        "num_epochs = 1000"
      ]
    },
    {
      "cell_type": "code",
      "execution_count": 100,
      "metadata": {
        "colab": {
          "base_uri": "https://localhost:8080/"
        },
        "id": "TWTzZZQcBSEb",
        "outputId": "ad9001cf-0bce-4535-ba40-958d93aa9e08"
      },
      "outputs": [
        {
          "name": "stdout",
          "output_type": "stream",
          "text": [
            "Cost:  0.2464365586816072\n",
            "Parameters:  [[ 1.96005646e-01 -3.46928454e-01]\n",
            " [-4.08977106e-02  8.27483170e-02]\n",
            " [-1.36267426e-01 -1.13378033e-01]\n",
            " [-1.65002548e-02  7.80961451e-02]\n",
            " [-4.87635005e-04  1.33974078e-01]\n",
            " [-6.37403586e-02 -9.09092291e-02]\n",
            " [-1.05106413e-01  2.88225539e-02]\n",
            " [ 2.75014201e-01 -5.85666814e-02]\n",
            " [-7.88505688e-02  1.54750855e-01]\n",
            " [-3.82915878e-01  4.65450325e-01]\n",
            " [-2.56983338e-01 -1.57424084e-02]\n",
            " [-1.82452853e-01 -3.78341329e-03]\n",
            " [-9.22179301e-02  4.97159350e-02]\n",
            " [ 1.30060596e-01 -1.65974545e-01]\n",
            " [-9.41384215e-03 -7.45473412e-02]\n",
            " [ 1.23021712e-01  3.47896743e-02]\n",
            " [-1.75788953e-01  1.02818967e-01]\n",
            " [ 2.76078119e-02 -1.03011328e-01]\n",
            " [ 7.52897424e-01 -9.31205409e-01]\n",
            " [-9.73884900e-02  3.65046212e-02]\n",
            " [ 1.05536290e-01 -4.52742148e-03]\n",
            " [-2.42427825e-02 -1.85128608e-01]\n",
            " [-1.15927402e-01 -1.52168475e-02]\n",
            " [-7.06622655e-02 -6.73742313e-02]\n",
            " [ 1.96925053e-01 -5.50585783e-02]]\n",
            "Intercepto:  [[ 0.4008851 -0.4008851]]\n"
          ]
        }
      ],
      "source": [
        "J_all, W, B = gradient_descent(X_prob, Y_prob, W, B, learning_rate, num_epochs)\n",
        "Y_hat = net(X_prob, W, B)\n",
        "J = cross_entropy(Y_hat, Y_prob)\n",
        "print(\"Cost: \", J)\n",
        "print(\"Parameters: \", W)\n",
        "print(\"Intercepto: \", B)"
      ]
    },
    {
      "cell_type": "code",
      "execution_count": 75,
      "metadata": {
        "colab": {
          "base_uri": "https://localhost:8080/",
          "height": 430
        },
        "id": "hvlLiqkyQOXF",
        "outputId": "77266dca-a558-46e1-daf7-115396d370d9"
      },
      "outputs": [
        {
          "data": {
            "image/png": "[encoded data removed]",
            "text/plain": [
              "<Figure size 1000x600 with 1 Axes>"
            ]
          },
          "metadata": {},
          "output_type": "display_data"
        }
      ],
      "source": [
        "perdida_por_epoca = np.array(J_all)\n",
        "\n",
        "# Flatten for plotting\n",
        "y_vals = perdida_por_epoca.flatten()\n",
        "x_vals = np.arange(1, len(y_vals) + 1)\n",
        "\n",
        "# Choose a nice color\n",
        "color = '#598D9F'\n",
        "\n",
        "plt.figure(figsize=(10, 6))\n",
        "plt.plot(x_vals, y_vals, color=color, label='Pérdida por época')\n",
        "\n",
        "# Annotate first and last points\n",
        "for i in [0, -1]:\n",
        "    plt.annotate(f'{y_vals[i]:.4f}',\n",
        "                 (x_vals[i], y_vals[i]),\n",
        "                 textcoords=\"offset points\",\n",
        "                 xytext=(0, 10 if i == 0 else -15),\n",
        "                 ha='center',\n",
        "                 color='white',\n",
        "                 bbox=dict(boxstyle=\"round,pad=0.3\", edgecolor=color, facecolor=color))\n",
        "\n",
        "# Decorate\n",
        "plt.xlabel(\"Épocas\")\n",
        "plt.ylabel(\"Pérdida (Loss)\")\n",
        "plt.title(\"Evolución de la pérdida\")\n",
        "plt.grid(True)\n",
        "plt.legend()\n",
        "plt.tight_layout()\n",
        "plt.show()"
      ]
    },
    {
      "cell_type": "code",
      "execution_count": null,
      "metadata": {
        "colab": {
          "base_uri": "https://localhost:8080/"
        },
        "id": "ipkiKHVyNZ8y",
        "outputId": "7f0cd506-2503-4b6b-cde0-4da4385a7a4c"
      },
      "outputs": [
        {
          "data": {
            "text/plain": [
              "0.9148906725712704"
            ]
          },
          "execution_count": 72,
          "metadata": {},
          "output_type": "execute_result"
        }
      ],
      "source": [
        "accuracy(net(X_prob, W, B), Y_prob)"
      ]
    },
    {
      "cell_type": "markdown",
      "metadata": {
        "id": "ABi5C3Kg4kkj"
      },
      "source": [
        "## SGD: Stochastic Gradient Descent\n",
        "\n",
        "En este caso, el algoritmo entrenara de modo un poco distinto, tomando muestras al azar de nuestros datos."
      ]
    },
    {
      "cell_type": "code",
      "execution_count": 76,
      "metadata": {
        "id": "t2x4Fyr16myj"
      },
      "outputs": [],
      "source": [
        "# Tamaño de la muestra o batch\n",
        "batch_size = 200"
      ]
    },
    {
      "cell_type": "code",
      "execution_count": null,
      "metadata": {
        "id": "a1pc7Mns468G"
      },
      "outputs": [],
      "source": [
        "number_of_rows = X_prob.shape[0]\n",
        "random_indices = np.random.choice(number_of_rows, size=batch_size, replace=False)\n",
        "X_prima = X_prob[random_indices, :].copy()"
      ]
    },
    {
      "cell_type": "code",
      "execution_count": 78,
      "metadata": {
        "colab": {
          "base_uri": "https://localhost:8080/"
        },
        "id": "mS-sbE2r8Oul",
        "outputId": "c84b8e6c-2d18-49a5-a0fa-17471a9fefd5"
      },
      "outputs": [
        {
          "data": {
            "text/plain": [
              "array([[-0.26566975, -0.17641846, -0.03433358, ...,  0.52178892,\n",
              "         0.06356836, -0.43020348],\n",
              "       [-0.07702932, -0.26101617, -0.03433358, ..., -0.35511923,\n",
              "        -0.256903  , -0.25282189],\n",
              "       [-0.10019879,  0.31551   , -0.03433354, ...,  0.38053917,\n",
              "        -0.25743169, -0.43287087],\n",
              "       ...,\n",
              "       [-0.2460376 , -0.02691079, -0.03433358, ...,  0.40266186,\n",
              "         0.17456634, -0.4222013 ],\n",
              "       [-0.26196298, -0.06746192, -0.03433358, ..., -0.33588626,\n",
              "        -0.22817909, -0.25815668],\n",
              "       [ 0.00105668, -0.26218622, -0.03433358, ..., -0.28408008,\n",
              "        -0.20050831, -0.35018171]])"
            ]
          },
          "execution_count": 78,
          "metadata": {},
          "output_type": "execute_result"
        }
      ],
      "source": [
        "X_prima"
      ]
    },
    {
      "cell_type": "code",
      "execution_count": 79,
      "metadata": {
        "id": "9hmnUV6W5aBQ"
      },
      "outputs": [],
      "source": [
        "Y_prima = Y_prob[random_indices].copy()"
      ]
    },
    {
      "cell_type": "code",
      "execution_count": 80,
      "metadata": {
        "colab": {
          "base_uri": "https://localhost:8080/"
        },
        "id": "uS3OZYk_8Sbv",
        "outputId": "7ba07d34-73ed-4e58-cbbf-34a257542188"
      },
      "outputs": [
        {
          "data": {
            "text/plain": [
              "array([0, 0, 1, 1, 1, 0, 1, 1, 0, 0, 0, 1, 0, 1, 0, 0, 1, 0, 0, 0, 1, 0,\n",
              "       1, 1, 0, 0, 0, 1, 0, 0, 1, 1, 0, 0, 0, 1, 0, 0, 0, 1, 0, 0, 0, 1,\n",
              "       0, 0, 1, 1, 1, 1, 0, 1, 1, 0, 1, 0, 1, 0, 0, 0, 1, 1, 1, 0, 1, 1,\n",
              "       1, 0, 0, 0, 0, 0, 1, 1, 0, 0, 0, 0, 1, 1, 1, 1, 1, 0, 0, 0, 1, 0,\n",
              "       0, 0, 1, 1, 0, 1, 0, 0, 1, 0, 0, 0, 0, 1, 1, 1, 1, 0, 1, 1, 0, 1,\n",
              "       1, 1, 1, 0, 0, 1, 1, 0, 1, 1, 1, 0, 1, 1, 0, 0, 0, 1, 1, 0, 0, 1,\n",
              "       0, 1, 0, 0, 0, 0, 0, 1, 0, 1, 0, 1, 0, 1, 0, 0, 1, 1, 0, 0, 0, 1,\n",
              "       0, 0, 0, 1, 0, 0, 0, 0, 0, 1, 0, 1, 1, 0, 1, 1, 1, 0, 1, 1, 1, 1,\n",
              "       0, 1, 0, 0, 0, 0, 0, 0, 0, 0, 0, 0, 0, 1, 0, 0, 1, 0, 0, 0, 0, 1,\n",
              "       1, 0])"
            ]
          },
          "execution_count": 80,
          "metadata": {},
          "output_type": "execute_result"
        }
      ],
      "source": [
        "Y_prima"
      ]
    },
    {
      "cell_type": "code",
      "execution_count": 101,
      "metadata": {
        "id": "wkEVafDv6zSS"
      },
      "outputs": [],
      "source": [
        "def batch_gradient_descent(x, y, w, b, batch_size, learning_rate=0.1, num_epochs=10):\n",
        "  m = x.shape[0]\n",
        "  J_all = []\n",
        "\n",
        "  for _ in range(num_epochs):\n",
        "    random_indices = np.random.choice(m, size=batch_size, replace=False)\n",
        "    x_batch = x[random_indices, :].copy()\n",
        "    y_batch = y[random_indices].copy()\n",
        "\n",
        "    y_probs = net_s(x_batch, w, b)\n",
        "\n",
        "    gradient_w = grad_for_w(x_batch,y_batch,w,b)\n",
        "    gradient_b = grad_for_b(x_batch,y_batch,w,b)\n",
        "\n",
        "    #Actualizamos los paramentros\n",
        "    w = w - (learning_rate) * gradient_w\n",
        "    b = b - (learning_rate) * gradient_b\n",
        "\n",
        "    J_all.append(cross_entropy(y_probs, y_batch))\n",
        "\n",
        "  return J_all, w, b"
      ]
    },
    {
      "cell_type": "code",
      "execution_count": 102,
      "metadata": {
        "id": "tCHpmpEL76dJ"
      },
      "outputs": [],
      "source": [
        "W = np.random.normal(0, 0.1, (num_inputs, num_outputs)) # Jugaremos con este parametro\n",
        "B = np.zeros(num_outputs) # Jugaremos con este parametro"
      ]
    },
    {
      "cell_type": "code",
      "execution_count": 103,
      "metadata": {
        "id": "577ys26F8ECc"
      },
      "outputs": [],
      "source": [
        "learning_rate = 0.01\n",
        "num_epochs = 1000"
      ]
    },
    {
      "cell_type": "code",
      "execution_count": 104,
      "metadata": {
        "colab": {
          "base_uri": "https://localhost:8080/"
        },
        "id": "mI0orbzN8ECc",
        "outputId": "8b23c97c-c709-46a3-c0a6-3ae5f617fd4d"
      },
      "outputs": [
        {
          "name": "stdout",
          "output_type": "stream",
          "text": [
            "Cost:  0.24534072762125794\n",
            "Parameters:  [[ 2.12239391e-01 -1.68000988e-01]\n",
            " [-3.34968429e-02  6.27398935e-02]\n",
            " [-1.05062871e-01  1.85402105e-01]\n",
            " [-1.88440235e-01 -1.82402050e-01]\n",
            " [-1.08548787e-01  7.14133937e-02]\n",
            " [ 2.15262262e-01  1.42575644e-01]\n",
            " [-5.40870058e-03  1.60211170e-01]\n",
            " [-7.36924361e-02 -2.19466135e-01]\n",
            " [-1.62253543e-01  3.49806451e-02]\n",
            " [-4.69941241e-01  3.14511652e-01]\n",
            " [-1.60488689e-01  2.49388920e-01]\n",
            " [-8.68786480e-02  2.95583971e-01]\n",
            " [ 4.21338942e-03 -7.05321824e-02]\n",
            " [ 1.57033397e-01 -1.78192806e-01]\n",
            " [-2.66579796e-02 -1.16226156e-01]\n",
            " [ 1.40248914e-01  1.65339210e-02]\n",
            " [-1.41231178e-01  4.70846050e-02]\n",
            " [ 2.52840495e-02 -4.05576403e-03]\n",
            " [ 8.79760085e-01 -9.25910952e-01]\n",
            " [-6.85827681e-02  2.56398167e-02]\n",
            " [ 5.57396164e-02 -1.37932718e-02]\n",
            " [ 2.09990805e-01 -4.20674594e-02]\n",
            " [-4.32195100e-02 -1.97709195e-02]\n",
            " [ 2.82422678e-04  1.49304038e-01]\n",
            " [ 1.22425431e-01  4.52830232e-02]]\n",
            "Intercepto:  [[ 0.39427798 -0.39427798]]\n"
          ]
        }
      ],
      "source": [
        "J_all, W, B = batch_gradient_descent(X_prob, Y_prob, W, B, batch_size, learning_rate, num_epochs)\n",
        "Y_hat = net(X_prob, W, B)\n",
        "J = cross_entropy(Y_hat, Y_prob)\n",
        "print(\"Cost: \", J)\n",
        "print(\"Parameters: \", W)\n",
        "print(\"Intercepto: \", B)"
      ]
    },
    {
      "cell_type": "code",
      "execution_count": 105,
      "metadata": {
        "colab": {
          "base_uri": "https://localhost:8080/"
        },
        "id": "FM4kNcrD8ECd",
        "outputId": "bcde8699-7847-434d-8baf-9781bb38a42e"
      },
      "outputs": [
        {
          "name": "stdout",
          "output_type": "stream",
          "text": [
            "[0.5790262007673267, 0.5588964802792531, 0.5917058038962767, 0.5707412798742435, 0.6827852444191979, 0.5385853436852325, 0.6126615989605468, 0.5606507644846594, 0.5653831084159918, 0.5242150415716725, 0.5917503768383044, 0.5478748098164687, 0.5487259863369329, 0.5643244084403214, 0.5182058042163579, 0.5343702426088942, 0.5923693921535164, 0.5652917637343498, 0.5451388714917627, 0.6108245745838792, 0.5261117095385924, 0.5316927795716656, 0.5569042269034409, 0.4992287887920289, 0.5349111274255165, 0.471260510524384, 0.5584858906299872, 0.5133759945041628, 0.47697357479366154, 0.5409334991961938, 0.4544180559610935, 0.5157193387790217, 0.5550077174629736, 0.5000034248586097, 0.483530697645364, 0.5192553585322506, 0.4909506669580196, 0.5222368641540207, 0.47845014934747043, 0.4343979320309084, 0.5417556063139662, 0.4813019243304633, 0.5298844202039731, 0.48398114576861656, 0.48253789180896006, 0.573501506573536, 0.48360825133808005, 0.5472934168404857, 0.5467099548345365, 0.48369988904705996, 0.5743208800108051, 0.4953933559642431, 0.49512105688675845, 0.463352797337934, 0.4942094795268332, 0.5110518870793485, 0.5024500699841603, 0.3998163351569577, 0.45094956435017197, 0.5153436809939045, 0.5112470370392243, 0.47621454849501066, 0.4655226368591859, 0.4763083079146092, 0.4819454611960422, 0.5042978713904515, 0.4620225089245469, 0.4621765378919644, 0.41545109951686826, 0.49427482347611135, 0.4844705246323049, 0.4964932165905928, 0.424868253020291, 0.4450628215150353, 0.44335560482848707, 0.44399683176061777, 0.43666274791430004, 0.4746885678238513, 0.4502194356581125, 0.4680170632861425, 0.4407042890379049, 0.44111067023388345, 0.4281244847500386, 0.49183805859186897, 0.39813199520600656, 0.4830138502114768, 0.47999883990638537, 0.4427359321246716, 0.4177408575044096, 0.4564270990275011, 0.4590462190962073, 0.4246546231751085, 0.4342416538195104, 0.4435539950094385, 0.4834214071231443, 0.4754091080305638, 0.3982135493581599, 0.41161130997780787, 0.4139246283236022, 0.4432896956497248, 0.4686459860756905, 0.41532193772596576, 0.3894780291452551, 0.46510108160757824, 0.4273428925175912, 0.41159721097201685, 0.5367931226149572, 0.471356289505232, 0.4116423419953985, 0.3774189279205767, 0.4284565912854214, 0.38456054187069894, 0.4670996781137549, 0.47358814571657987, 0.41608234116509224, 0.40885742507477824, 0.3840433436778087, 0.3678640129728447, 0.44137971350385613, 0.40538037661696125, 0.4312014073288337, 0.386188041406077, 0.41172685606287585, 0.3711657165324857, 0.4504295915761905, 0.4980390359218853, 0.3998969231396785, 0.4273220044287547, 0.4228147760954485, 0.4396669156363693, 0.4125338625737945, 0.4014045252254874, 0.3897071055559456, 0.4038522403340592, 0.39923528334903524, 0.4222945153645304, 0.3564849625282748, 0.3880586779286571, 0.32612639983625513, 0.43765737765265966, 0.3861869117357016, 0.3939434237256772, 0.39773927281021365, 0.3857149586164315, 0.4324886932674791, 0.5051188899059321, 0.42297674131649193, 0.4027509380523584, 0.4304218200659254, 0.3445922111601508, 0.37321664069064653, 0.38126311021121745, 0.3600607283460184, 0.3921701462620925, 0.3916456680415938, 0.3793961217550165, 0.41313496013256534, 0.3871592672908728, 0.3481174585771324, 0.361078722734592, 0.4088675218974626, 0.34537162964462537, 0.41461131923520256, 0.3628625098601155, 0.3829274521476565, 0.41794397749781437, 0.36871479769958926, 0.33259852145537133, 0.36079685572356796, 0.3674596887707896, 0.3840030806498153, 0.3936082423035067, 0.38725897452504476, 0.4298720724452977, 0.3651910169380079, 0.39719322013164293, 0.3416410496084336, 0.44236691474414713, 0.40255712153317225, 0.38679692010594324, 0.3952801658220065, 0.39494309560031793, 0.4417073996265899, 0.37737123152950836, 0.34749135941785503, 0.39996017198900513, 0.36301562316733604, 0.461720149379239, 0.4131644130025998, 0.3462511817420615, 0.4638202929423511, 0.3406617842720749, 0.3913782172010697, 0.3806034903230895, 0.3680514964759065, 0.4198774058096464, 0.3644255415659076, 0.3752120774355558, 0.35537822765669796, 0.3676286971120302, 0.4421968818043879, 0.3478986429732133, 0.37380205581332093, 0.384966674886275, 0.3718744290691271, 0.300135258508943, 0.3550093811425836, 0.42201101830184357, 0.38884368939883707, 0.38550101212205967, 0.37369789023051025, 0.4296563235937314, 0.36324510634311247, 0.32039300956005407, 0.39671388294657184, 0.3892796773041081, 0.3986024133366503, 0.37132004589256334, 0.3185857075425944, 0.31685246535249123, 0.37373103326893997, 0.3778346002750774, 0.37307369737592494, 0.37917037882798355, 0.40151599471930843, 0.384500032571619, 0.38366148201173206, 0.3594642013104894, 0.33448455109838776, 0.37274085913677857, 0.33458049552072433, 0.44240104269844316, 0.35218727818600515, 0.34424394442776757, 0.334241829675529, 0.39058647573426486, 0.35952853895566506, 0.343846514954502, 0.2748956264951212, 0.4756604446251314, 0.3349596407402244, 0.3459090026741951, 0.31915858479077874, 0.3797534057534314, 0.3453245337260048, 0.3419456975464479, 0.32780413122459257, 0.34510687910140175, 0.35686191306231974, 0.43802566380675034, 0.3635499264315425, 0.30839241140461354, 0.36300577777784004, 0.32611179337491547, 0.42747421900523264, 0.35515729606173907, 0.32770683817053337, 0.29854992692063304, 0.3503436550029174, 0.3611483280879847, 0.38155880832234673, 0.3659606106977703, 0.36845928538856954, 0.37390743929890946, 0.3942812782763262, 0.30351314065715296, 0.3107185929234078, 0.38076277699433164, 0.3398768388838785, 0.38544952129425936, 0.3208195892539497, 0.3558088087261768, 0.41482025278469775, 0.3372758320434437, 0.3424789654653687, 0.3446887925428521, 0.35652368313355276, 0.312298618343208, 0.3323260199801463, 0.38243148283995426, 0.3563844732822208, 0.41260222148947306, 0.38389393862826965, 0.36299990812960986, 0.3308202510844645, 0.3615731341075735, 0.3665556802659532, 0.34527353424900137, 0.362073561080212, 0.34676174404591514, 0.31919946419513234, 0.31568068475120264, 0.41409484079964565, 0.32075661866575444, 0.3321676029216823, 0.31287382080153775, 0.3595672888468233, 0.3136121416687173, 0.34070344012122744, 0.32256703130925657, 0.3252498871373607, 0.3180420396883888, 0.3583830676280527, 0.35811515850915304, 0.3382310251110936, 0.33777330935305444, 0.30942891767975067, 0.33114040498912006, 0.3573619021395592, 0.3245812875282127, 0.335192142273099, 0.31139409804140383, 0.3539698432192938, 0.3177306204020002, 0.3592094630768745, 0.36638561017697385, 0.3572315741546517, 0.3376282835053155, 0.34581256565259066, 0.327403829610748, 0.3368373063231621, 0.3035419157498399, 0.3139902490716947, 0.311773975517895, 0.3040810447894674, 0.33733053827829534, 0.29635967569260446, 0.34400710054524125, 0.31890536822622195, 0.30807640118707474, 0.3260028621535929, 0.3226353403012091, 0.31962359842887406, 0.34837486225047376, 0.32597838622987924, 0.2601249101743077, 0.3189304731591176, 0.2982305109862817, 0.388808623473967, 0.32020651528728294, 0.34746447460343843, 0.29192944859459935, 0.33916708577460064, 0.29473187645058696, 0.33657845249559865, 0.34512819066284295, 0.28546953758903254, 0.35501169929611065, 0.3593036832753117, 0.28786935401597624, 0.3414077034286406, 0.3651146816103728, 0.3022597569130382, 0.3486427691868063, 0.33297969847715114, 0.349847318640459, 0.30195945146729913, 0.31825720090376697, 0.2923005764960302, 0.316803095671184, 0.30896984129303023, 0.2847228758819128, 0.3126731755987462, 0.24896871742139315, 0.31668050759193767, 0.3072332272346792, 0.2710406128628547, 0.30942200956005445, 0.3100511069308635, 0.3469469388812226, 0.30623128789827514, 0.2959019722933548, 0.2953927176338926, 0.31743028773260135, 0.30638508550072624, 0.3148698629895392, 0.33963431921124027, 0.324707000651549, 0.2910791629046928, 0.358533416926024, 0.3245455548231531, 0.2893772291371946, 0.32865487800089327, 0.31956423709050313, 0.29374031233860154, 0.28877049767655294, 0.3042581132324928, 0.2789624707429096, 0.2971780592307505, 0.2825881111028523, 0.32660320275956084, 0.31722930220366075, 0.3351989909206815, 0.2965958885760634, 0.3206483704461107, 0.30739862804095774, 0.3195582703009646, 0.36470321232298814, 0.28666382198775575, 0.3268517221376207, 0.27330733806019336, 0.3027013959912322, 0.3289067962741783, 0.3026384358210095, 0.350368193472482, 0.34122707529042046, 0.274005511160902, 0.29943734270180183, 0.37321532580192945, 0.30424433901919284, 0.2747944131176023, 0.3385006036318625, 0.2797649249040002, 0.32813921613417085, 0.3298583504941704, 0.2930712855489087, 0.31679649173994795, 0.346141819469133, 0.3394111662217199, 0.329162208980588, 0.26987527255235266, 0.31162148969486797, 0.2966610277776217, 0.3051675144637455, 0.3010567003402965, 0.29028044902730543, 0.29735727400358164, 0.28280965894322263, 0.2573725399727663, 0.2967317570870999, 0.26188284391810773, 0.3393974058487042, 0.2563733042683847, 0.31350891942509296, 0.2732799709156517, 0.3428062160533542, 0.34387919183294213, 0.36294330170486355, 0.2745435279405119, 0.3037383395236125, 0.34501254779783946, 0.2888347385264697, 0.27253051814818363, 0.28072312210850475, 0.28560198721339775, 0.3027140916635529, 0.3194130486175635, 0.25535995796523375, 0.305576850634152, 0.34466340858589667, 0.3151375601724426, 0.32510336925198, 0.33511133938980686, 0.3002129221485956, 0.2680928544841025, 0.27417046046626564, 0.31918052026005206, 0.2607658958502309, 0.30047439159320816, 0.2740399379478432, 0.3284763253249956, 0.3103171656292877, 0.27321281026850497, 0.3098327504648459, 0.32601975848922876, 0.3460931336970472, 0.3202262236979254, 0.3351375153068206, 0.2647813305700757, 0.319424399507689, 0.28900630900932583, 0.28621453399784597, 0.34019476262064074, 0.3419544529728629, 0.29455879713668487, 0.3213680654409117, 0.2963274019795838, 0.3122034349105853, 0.26675141120518847, 0.29326631205679027, 0.3338240714320379, 0.3055185562310991, 0.3380662839794239, 0.3107034038208208, 0.2708512655844816, 0.28871483774162343, 0.29624179047878163, 0.3213036739466948, 0.30914052349717563, 0.31900812556475333, 0.28648138177005494, 0.35924585749063714, 0.291506004144001, 0.31301821730164725, 0.31103572280628183, 0.28328707762912414, 0.3117530196831739, 0.27486626504573736, 0.29067350652316726, 0.26342951222873834, 0.2944392297466315, 0.28548744814699406, 0.25128805245605434, 0.30508105703045163, 0.23959887417379616, 0.2976895676651332, 0.3112387948114921, 0.3226817074974227, 0.29080550776484726, 0.2925770898449807, 0.2773356590192136, 0.30700776998556406, 0.3144663135473483, 0.26096625356931213, 0.3021622561580197, 0.3106082160793396, 0.2856815790817724, 0.2993413906670845, 0.31458445803040996, 0.2909198377472883, 0.29185744924541973, 0.2859877012427358, 0.26470415404155573, 0.3119882478327484, 0.2657681151363854, 0.2578260318245814, 0.3092873184892813, 0.2963698148329969, 0.260893070689584, 0.3198003553593273, 0.33644380989252226, 0.3114853032446731, 0.2899395703427609, 0.3005794349686829, 0.3143398914242676, 0.2879890338637403, 0.33974688641785616, 0.2786032630983807, 0.31520211041412327, 0.2800241375762706, 0.24784855221544028, 0.2747788306392238, 0.2622630082290186, 0.2940668726954943, 0.3223031781722206, 0.28224751382609087, 0.24765535094862698, 0.2683396962401505, 0.2603987762284584, 0.27409548890955454, 0.28427017478216554, 0.24738830007938245, 0.30856522049566165, 0.31922915246234845, 0.25613020955535876, 0.25656488841920905, 0.2607882615674809, 0.3169442861077912, 0.2921656448339513, 0.2903743598917255, 0.28235219958466773, 0.3299826775092724, 0.2762088391311538, 0.27831118514054304, 0.2711092832168786, 0.266229904326179, 0.32636286537007086, 0.3065022989722534, 0.31653409611520134, 0.2730064726098238, 0.29373468686898485, 0.27285987353907243, 0.2632830886094711, 0.2562440674155435, 0.28074839645316874, 0.2587442259986156, 0.32433881738567977, 0.23100595886481254, 0.25865895438387754, 0.26986591656862496, 0.27833072656194824, 0.25990207826615824, 0.3448352628109652, 0.2744651744303717, 0.25150613532592125, 0.27369568953070667, 0.2940239254091612, 0.295468242876799, 0.25885677058915896, 0.2669220691508155, 0.2894195490726385, 0.23571405878055976, 0.2763111133710671, 0.33162224517048067, 0.2313727887009032, 0.256093334967574, 0.2322864279997802, 0.21784429981695694, 0.2624614619291352, 0.2785530840439532, 0.24038639101431972, 0.2834866519136614, 0.2694602622197214, 0.2381974957365391, 0.2501880587141853, 0.2594630451403858, 0.32613610623711553, 0.22835842925539282, 0.31605075365502794, 0.2627396267614877, 0.32359787098738735, 0.2736968325022615, 0.24992857732067275, 0.24574920492241858, 0.22608808500028396, 0.3079398953072943, 0.2640286324370798, 0.27400543625662954, 0.28504488243718534, 0.26408269099609066, 0.2620656624314109, 0.23511151909669514, 0.2836106195721665, 0.2929770422327751, 0.2968921588673765, 0.2955578404389585, 0.2739368460556399, 0.2936076570184359, 0.24766584674996672, 0.23828291679467223, 0.27419119625525556, 0.2525855600304823, 0.2581645608880031, 0.2422055706375026, 0.29801697408478156, 0.2603259396185645, 0.2759429032421546, 0.2760510126301764, 0.28381198883716796, 0.2705183604457238, 0.24834950659843336, 0.22735473054995836, 0.3256280417159772, 0.30626001573159745, 0.27638139649693616, 0.24196153401797646, 0.2880716416196326, 0.27535412112333446, 0.24249216444376426, 0.27088498380216963, 0.2477271068032482, 0.26461181415906426, 0.2440990451657769, 0.2366960855575691, 0.27240154553489354, 0.24425951884021388, 0.265540621131655, 0.26680158731680836, 0.2872290430710568, 0.3002413898397359, 0.3437527764323589, 0.2915858634889809, 0.27777647711757736, 0.26134039348603066, 0.2784766403517879, 0.22947551549244402, 0.2756161512971121, 0.309167179857663, 0.2877021853013201, 0.2647610551997079, 0.2640706172705031, 0.27154574558874195, 0.26303150958804516, 0.2746153310501869, 0.3078409479886889, 0.30502209018831455, 0.26389744543369126, 0.30896961189996824, 0.318521864795739, 0.2616252550651218, 0.32440313058491976, 0.23421766411747524, 0.21940186804838113, 0.24441191402763507, 0.30578963981818996, 0.27589131950370743, 0.2732937778066775, 0.23467788824560254, 0.305685958812688, 0.29290968363849673, 0.26676592388944154, 0.30088956328290783, 0.273616390038849, 0.24837109093367793, 0.25365422634960133, 0.2801868449490215, 0.2691269598429582, 0.27447814806127996, 0.3232313471581514, 0.26815069307350065, 0.28035845721949726, 0.2708858040634774, 0.2611704443656728, 0.2633813732268738, 0.2825916212283514, 0.24310418278993118, 0.2794044872214585, 0.31281038236464925, 0.22172254534518412, 0.25781834265566783, 0.2731052513217469, 0.24819213515973906, 0.25665401936064947, 0.24870559396471684, 0.29071066379815913, 0.25617851919182727, 0.2421534504970843, 0.2354610373130264, 0.26310789305910026, 0.2638164248016823, 0.2591851205382369, 0.24354865473226156, 0.2666198658886383, 0.25103287430904486, 0.25959291299424064, 0.2844120334174228, 0.27132648040755086, 0.26369548664125453, 0.32123610152615883, 0.2267135209110097, 0.25476588054678506, 0.26642582282780614, 0.2804819727978212, 0.3005350055657204, 0.28668546318233995, 0.22335495868539035, 0.29562769030449515, 0.2527594475095111, 0.27898191235803943, 0.24568612890303235, 0.25359941561244403, 0.3070069073616214, 0.23169848368567428, 0.23940624503617677, 0.21808776483178727, 0.2727475804595808, 0.23620128655669326, 0.2182765376844444, 0.2894862709888572, 0.22699841259948678, 0.27703783956530065, 0.32038370668833466, 0.23569037613375962, 0.2994376520064313, 0.2676667915631318, 0.24182124748818118, 0.2890836428168503, 0.2431157809237642, 0.2866660071868573, 0.2903436800971314, 0.26715176579241273, 0.22498208439495707, 0.3238144347178087, 0.26618534788953924, 0.2371867609099534, 0.2532180607874734, 0.3016290499250701, 0.29577662508082775, 0.22914908039287377, 0.2471828318060291, 0.22875502121827146, 0.25064944488965635, 0.2513297551553524, 0.2649054953459664, 0.27285249408617757, 0.2492169943355082, 0.266251797869219, 0.3052598703932206, 0.21124166574612033, 0.26056428460846925, 0.2433632867012209, 0.2670666996601367, 0.2821560910740558, 0.2629738637038833, 0.2854739159115988, 0.2013375391300472, 0.2600264353280408, 0.2830582598022496, 0.254067194491044, 0.28575169961784797, 0.2639882038021561, 0.31906006339873116, 0.3097850372893353, 0.2202478631111829, 0.23825567243041704, 0.23754456277061364, 0.28930394489403466, 0.2862225430774096, 0.2592261511971405, 0.23565485886514786, 0.2972665131248064, 0.2687609821175924, 0.2856170942409805, 0.2587854680194311, 0.22776702347307443, 0.27702934545085944, 0.2582848533582225, 0.30878018423148845, 0.3216614675812747, 0.2696460438475728, 0.2787575968172715, 0.31600849331345443, 0.2791856577441314, 0.21396714911062212, 0.24756528778927384, 0.3003411714600063, 0.24229058788437408, 0.2535448042555773, 0.2921268924985629, 0.2647232503772425, 0.23348366937949766, 0.28263577954733654, 0.25702550572412414, 0.26342823657036535, 0.3092252000765201, 0.2637399891765474, 0.2893541152502599, 0.236961116722773, 0.25443300315931416, 0.2634731444966843, 0.24250746715171712, 0.23965527510943457, 0.2574959109071042, 0.22777847834127754, 0.2775887816507595, 0.27446758341427935, 0.23374474459338107, 0.3014331849125076, 0.27289550227334286, 0.22102765179980488, 0.2720073786509697, 0.28106904246102427, 0.2616023825600542, 0.22448253086604658, 0.2496819612763121, 0.25135353912078084, 0.24671859121621167, 0.2403796700298588, 0.29127188205519927, 0.23356440175399767, 0.29347697096098835, 0.25935580962424426, 0.2973251967673994, 0.23873359486726226, 0.2602558734129595, 0.21543515362476306, 0.2755564430425328, 0.23769029720185336, 0.2218026675038867, 0.2569672463218368, 0.30539577734213597, 0.26460037025237204, 0.28879480271117464, 0.2751806925903985, 0.28731346581579537, 0.2611997128046821, 0.22181067391061476, 0.21519088324125857, 0.3168284503206938, 0.2743862103257529, 0.21468787219795746, 0.2529765437000934, 0.29220758147999304, 0.2116151949635404, 0.2519389410214791, 0.22343903755117198, 0.2501052092716474, 0.23831436946569023, 0.21399246040855183, 0.23679753872761947, 0.3236240246969882, 0.3076259702473711, 0.23657817632276226, 0.2322239436341379, 0.3017547930622852, 0.24164907890371823, 0.2308232107267159, 0.22574281768030738, 0.2372110239460155, 0.23029971356805048, 0.2324396113382574, 0.22598704519064491, 0.2608500010942104, 0.2927636801472114, 0.2305872857120913, 0.2299575323274282, 0.23557677698073268, 0.23737058450079915, 0.2337984482207236, 0.23457638395083802, 0.2622596123906207, 0.2590218451427821, 0.2094414681146958, 0.24510932108649242, 0.226163090755665, 0.2588975498990262, 0.21886762233223953, 0.20237431567887343, 0.24075978427251624, 0.2547757947503879, 0.2689487038330518, 0.2477501206799094, 0.28853285297961107, 0.22762507440125712, 0.237703279868663, 0.2245303984933042, 0.24649794732146088, 0.25267255047454734, 0.26683948268940294, 0.2987998055611609, 0.2776766691115063, 0.21952178514924256, 0.248849317032195, 0.26192626202184455, 0.25083902600635444, 0.26236361463485414, 0.2591741819585703, 0.27850442132736786, 0.21955830703782467, 0.24244137840191765, 0.21708585675777997, 0.23150488915079218, 0.27808271313570204, 0.24865390071082719, 0.24897931866951942, 0.21732446785300408, 0.25109449813492585, 0.2830252045017028, 0.2245910754973422, 0.2451106531686663, 0.2569349075878845, 0.2779235969417022, 0.19817745853333707, 0.2405343949614524, 0.2613089596196349, 0.24641324080152077, 0.22307757690009603, 0.24739483835352616, 0.24714655591091206, 0.22094341601230455, 0.26165991904218117, 0.20543583921524572, 0.21567283471741455, 0.2586973497897545, 0.2163313982578096, 0.2285723222807362, 0.29593851208679595, 0.2541575794969227, 0.22919014806797364, 0.274853322074383, 0.2491877657204585, 0.21394215885210235, 0.2822739028525898, 0.22144530660614897, 0.25070149575450207, 0.22002614778141238, 0.24627887007193588, 0.2539468033561588, 0.2150369152866737, 0.24653539037883185, 0.217340584544092, 0.23087821957765517, 0.25273957356926474, 0.25073410400275825, 0.2843870125275903, 0.2770878554789798, 0.25861514473707425, 0.20706023601260776, 0.23346420705561427, 0.27655349156452774, 0.212322421188222, 0.2231365912804001, 0.27304941300901736, 0.2581018770505619, 0.23845608919098743, 0.22086939330119293, 0.24944201839473512, 0.24479155469833302, 0.23917900186105215, 0.26046374505809694, 0.26413197615460543, 0.30486812634451205, 0.24312886660473162, 0.22234805982348368, 0.22887164068775878, 0.2100825625178034, 0.23655311214201716, 0.22881809419441773, 0.2125488093168955, 0.2212219013620508]\n"
          ]
        }
      ],
      "source": [
        "print(J_all)"
      ]
    },
    {
      "cell_type": "code",
      "execution_count": 106,
      "metadata": {
        "colab": {
          "base_uri": "https://localhost:8080/",
          "height": 430
        },
        "id": "B7WbR8pv8ECd",
        "outputId": "8924ae65-f658-4724-a84d-c93471d6f1ac"
      },
      "outputs": [
        {
          "data": {
            "image/png": "[encoded data removed]",
            "text/plain": [
              "<Figure size 1000x600 with 1 Axes>"
            ]
          },
          "metadata": {},
          "output_type": "display_data"
        }
      ],
      "source": [
        "perdida_por_epoca = np.array(J_all)\n",
        "\n",
        "# Define x and y values\n",
        "y_vals = perdida_por_epoca\n",
        "x_vals = np.arange(1, len(y_vals) + 1)\n",
        "\n",
        "# Choose color\n",
        "color = '#205781'\n",
        "\n",
        "plt.figure(figsize=(10, 6))\n",
        "plt.plot(x_vals, y_vals, color=color, label='Pérdida por época')\n",
        "\n",
        "# Annotate first and last epochs\n",
        "for i in [0, -1]:\n",
        "    plt.annotate(f'{y_vals[i]:.4f}',\n",
        "                 (x_vals[i], y_vals[i]),\n",
        "                 textcoords=\"offset points\",\n",
        "                 xytext=(0, 10 if i == 0 else -15),\n",
        "                 ha='center',\n",
        "                 color='white',\n",
        "                 bbox=dict(boxstyle=\"round,pad=0.3\", edgecolor=color, facecolor=color))\n",
        "\n",
        "# Labels and grid\n",
        "plt.xlabel(\"Épocas\")\n",
        "plt.ylabel(\"Pérdida\")\n",
        "plt.title(\"Evolución de la pérdida por época\")\n",
        "plt.grid(True)\n",
        "plt.legend()\n",
        "plt.tight_layout()\n",
        "plt.show()"
      ]
    },
    {
      "cell_type": "code",
      "execution_count": 108,
      "metadata": {
        "colab": {
          "base_uri": "https://localhost:8080/"
        },
        "id": "8jsZGmHu8ECd",
        "outputId": "3a99cf65-c8ab-4b40-dc3d-20d32cbe8a80"
      },
      "outputs": [
        {
          "data": {
            "text/plain": [
              "0.9161954845597248"
            ]
          },
          "execution_count": 108,
          "metadata": {},
          "output_type": "execute_result"
        }
      ],
      "source": [
        "accuracy(net(X_prob, W, B),Y_prob)"
      ]
    }
  ],
  "metadata": {
    "colab": {
      "include_colab_link": true,
      "provenance": []
    },
    "kernelspec": {
      "display_name": "Python 3",
      "name": "python3"
    },
    "language_info": {
      "codemirror_mode": {
        "name": "ipython",
        "version": 3
      },
      "file_extension": ".py",
      "mimetype": "text/x-python",
      "name": "python",
      "nbconvert_exporter": "python",
      "pygments_lexer": "ipython3",
      "version": "3.9.6"
    }
  },
  "nbformat": 4,
  "nbformat_minor": 0
}
