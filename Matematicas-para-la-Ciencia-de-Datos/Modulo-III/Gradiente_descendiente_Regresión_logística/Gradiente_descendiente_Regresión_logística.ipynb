{
  "nbformat": 4,
  "nbformat_minor": 0,
  "metadata": {
    "colab": {
      "provenance": [],
      "include_colab_link": true
    },
    "kernelspec": {
      "name": "python3",
      "display_name": "Python 3"
    },
    "language_info": {
      "name": "python"
    }
  },
  "cells": [
    {
      "cell_type": "markdown",
      "metadata": {
        "id": "view-in-github",
        "colab_type": "text"
      },
      "source": [
        "<a href=\"https://colab.research.google.com/github/anelglvz/Matematicas_Ciencia_Datos/blob/main/Optimizaci%C3%B3n/GradienteDescendiente_Regresi%C3%B3nLog%C3%ADstica/GradienteDescendiente_Regresi%C3%B3nLog%C3%ADstica.ipynb\" target=\"_parent\"><img src=\"https://colab.research.google.com/assets/colab-badge.svg\" alt=\"Open In Colab\"/></a>"
      ]
    },
    {
      "cell_type": "markdown",
      "source": [
        "# Introducción\n",
        "\n",
        "Se verá como funciona el algoritmo de Gradiente Descendiente aplicado a una regresión logística que asignará las probabilidades utilizando la función softmax."
      ],
      "metadata": {
        "id": "4oifWcjIiD7g"
      }
    },
    {
      "cell_type": "markdown",
      "source": [
        "# Dependencias"
      ],
      "metadata": {
        "id": "Nyex2mbhUAYd"
      }
    },
    {
      "cell_type": "code",
      "source": [
        "import numpy as np\n",
        "import pandas as pd\n",
        "import matplotlib.pyplot as plt"
      ],
      "metadata": {
        "id": "PBpjrBycDrRq"
      },
      "execution_count": null,
      "outputs": []
    },
    {
      "cell_type": "code",
      "source": [
        "# Solo para que al mostrarnos los arreglos no nos de los valores grandes en notación científica\n",
        "np.set_printoptions(suppress=True)"
      ],
      "metadata": {
        "id": "e6EHiIOTVg8f"
      },
      "execution_count": null,
      "outputs": []
    },
    {
      "cell_type": "markdown",
      "source": [
        "# Carga de datos e interpretación\n"
      ],
      "metadata": {
        "id": "oXC7fZc5UCdu"
      }
    },
    {
      "cell_type": "code",
      "source": [
        "from google.colab import drive\n",
        "drive.mount('/content/drive')"
      ],
      "metadata": {
        "id": "f4hILff7UzDM",
        "colab": {
          "base_uri": "https://localhost:8080/"
        },
        "outputId": "40c643f5-f5f1-411e-f0f7-830f2c57c244"
      },
      "execution_count": null,
      "outputs": [
        {
          "output_type": "stream",
          "name": "stdout",
          "text": [
            "Mounted at /content/drive\n"
          ]
        }
      ]
    },
    {
      "cell_type": "code",
      "source": [
        "df = pd.read_csv('/content/drive/MyDrive/Curso-Algebra/semana10/pruebas_datos.csv')"
      ],
      "metadata": {
        "id": "iHs4VEOGT90s"
      },
      "execution_count": null,
      "outputs": []
    },
    {
      "cell_type": "code",
      "source": [
        "df"
      ],
      "metadata": {
        "id": "FK5Uw7BZU8s4",
        "colab": {
          "base_uri": "https://localhost:8080/",
          "height": 487
        },
        "outputId": "aa9f4f7c-ce08-4aec-ba76-eb410ba214d7"
      },
      "execution_count": null,
      "outputs": [
        {
          "output_type": "execute_result",
          "data": {
            "text/plain": [
              "            OTR       OCR  min_time_two_events  mean_time_two_events  \\\n",
              "0     -0.264140 -0.171596            -0.034334              0.173848   \n",
              "1     -0.267371  0.071957            -0.034334             -0.394632   \n",
              "2     -0.268571  0.392193            -0.034334             -0.596358   \n",
              "3     -0.267320 -0.082373            -0.034334             -0.337735   \n",
              "4     -0.268375  0.094866            -0.034334             -0.551568   \n",
              "...         ...       ...                  ...                   ...   \n",
              "50577 -0.270438  0.040609            -0.034334             -0.587633   \n",
              "50578 -0.269299  0.040609            -0.034334             -0.704571   \n",
              "50579 -0.270456  0.952123            -0.034334             -0.592510   \n",
              "50580 -0.270274  2.659404            -0.034334             -0.648742   \n",
              "50581 -0.270277  0.662754            -0.034334             -0.694323   \n",
              "\n",
              "       10_p_time_two_events  med_time_two_events  25_p_time_two_events  \\\n",
              "0                 -0.051861            -0.194635             -0.103174   \n",
              "1                 -0.051861            -0.261262             -0.107967   \n",
              "2                 -0.051861            -0.261262             -0.107967   \n",
              "3                 -0.051861            -0.260286             -0.107966   \n",
              "4                 -0.051861            -0.261262             -0.107967   \n",
              "...                     ...                  ...                   ...   \n",
              "50577             -0.051861            -0.261262             -0.107967   \n",
              "50578             -0.051861            -0.261262             -0.107967   \n",
              "50579             -0.051861            -0.261262             -0.107967   \n",
              "50580             -0.051861            -0.261262             -0.107967   \n",
              "50581             -0.051861            -0.261262             -0.107967   \n",
              "\n",
              "       75_p_time_two_events  90_p_time_two_events  max_time_two_events  ...  \\\n",
              "0                 -0.493894              0.669772             0.113391  ...   \n",
              "1                 -0.578826             -0.714095             0.478099  ...   \n",
              "2                 -0.579091             -0.864277             0.449648  ...   \n",
              "3                 -0.574153              0.401915            -0.240214  ...   \n",
              "4                 -0.579396             -0.876131            -0.003950  ...   \n",
              "...                     ...                   ...                  ...  ...   \n",
              "50577             -0.579589             -0.811629            -0.928057  ...   \n",
              "50578             -0.573424             -0.873859            -1.356834  ...   \n",
              "50579             -0.579500             -0.894274             0.012924  ...   \n",
              "50580             -0.579477             -0.886564            -0.241991  ...   \n",
              "50581             -0.578331             -0.879211            -1.284239  ...   \n",
              "\n",
              "       90_p_lifetime_cancel  max_lifetime_cancel  NbTradeVenueMic  \\\n",
              "0                  0.446317             0.159271        -0.989267   \n",
              "1                  0.341803             0.053125        -0.989267   \n",
              "2                 -0.843156            -0.601191        -0.989267   \n",
              "3                  0.205183            -0.085628        -0.989267   \n",
              "4                  0.447088             0.160054        -0.989267   \n",
              "...                     ...                  ...              ...   \n",
              "50577             -0.499086            -0.800893        -0.989267   \n",
              "50578             -0.927494            -1.235990        -0.989267   \n",
              "50579              0.464365             0.177600        -0.989267   \n",
              "50580              0.203363            -0.087476        -0.989267   \n",
              "50581             -0.921142            -1.229538        -0.989267   \n",
              "\n",
              "       MaxNbTradesBySecond  MeanNbTradesBySecond  min_dt_TV1  mean_dt_TV1  \\\n",
              "0                -0.459192              0.414463   -0.068166     2.257305   \n",
              "1                 0.065955              2.493944   -0.174906    -0.259542   \n",
              "2                 0.223500              1.925729   -0.174906    -0.350248   \n",
              "3                -0.406677              1.394323   -0.174906    -0.056171   \n",
              "4                 0.170985              1.041917   -0.174906    -0.327099   \n",
              "...                    ...                   ...         ...          ...   \n",
              "50577            -0.039074              2.972986   -0.174905    -0.139995   \n",
              "50578            -0.616736              0.204493   -0.174905    -0.355996   \n",
              "50579             0.276014              1.680116   -0.174905    -0.076802   \n",
              "50580             0.748647              1.846925   -0.174905    -0.275480   \n",
              "50581             0.696132              2.682657   -0.174905     0.289331   \n",
              "\n",
              "       med_dt_TV1  NbSecondWithAtLeatOneTrade  type  \n",
              "0        0.215650                   -0.430203     1  \n",
              "1       -0.257432                   -0.415533     1  \n",
              "2       -0.257432                   -0.351515     1  \n",
              "3       -0.257431                   -0.430203     1  \n",
              "4       -0.257432                   -0.384858     1  \n",
              "...           ...                         ...   ...  \n",
              "50577   -0.257431                   -0.431537     1  \n",
              "50578   -0.257262                   -0.426202     1  \n",
              "50579   -0.256689                   -0.414199     1  \n",
              "50580   -0.257133                   -0.388859     1  \n",
              "50581   -0.253120                   -0.423535     1  \n",
              "\n",
              "[50582 rows x 26 columns]"
            ],
            "text/html": [
              "\n",
              "\n",
              "  <div id=\"df-dccff980-5e03-4c63-83e0-4fe5a68934f6\">\n",
              "    <div class=\"colab-df-container\">\n",
              "      <div>\n",
              "<style scoped>\n",
              "    .dataframe tbody tr th:only-of-type {\n",
              "        vertical-align: middle;\n",
              "    }\n",
              "\n",
              "    .dataframe tbody tr th {\n",
              "        vertical-align: top;\n",
              "    }\n",
              "\n",
              "    .dataframe thead th {\n",
              "        text-align: right;\n",
              "    }\n",
              "</style>\n",
              "<table border=\"1\" class=\"dataframe\">\n",
              "  <thead>\n",
              "    <tr style=\"text-align: right;\">\n",
              "      <th></th>\n",
              "      <th>OTR</th>\n",
              "      <th>OCR</th>\n",
              "      <th>min_time_two_events</th>\n",
              "      <th>mean_time_two_events</th>\n",
              "      <th>10_p_time_two_events</th>\n",
              "      <th>med_time_two_events</th>\n",
              "      <th>25_p_time_two_events</th>\n",
              "      <th>75_p_time_two_events</th>\n",
              "      <th>90_p_time_two_events</th>\n",
              "      <th>max_time_two_events</th>\n",
              "      <th>...</th>\n",
              "      <th>90_p_lifetime_cancel</th>\n",
              "      <th>max_lifetime_cancel</th>\n",
              "      <th>NbTradeVenueMic</th>\n",
              "      <th>MaxNbTradesBySecond</th>\n",
              "      <th>MeanNbTradesBySecond</th>\n",
              "      <th>min_dt_TV1</th>\n",
              "      <th>mean_dt_TV1</th>\n",
              "      <th>med_dt_TV1</th>\n",
              "      <th>NbSecondWithAtLeatOneTrade</th>\n",
              "      <th>type</th>\n",
              "    </tr>\n",
              "  </thead>\n",
              "  <tbody>\n",
              "    <tr>\n",
              "      <th>0</th>\n",
              "      <td>-0.264140</td>\n",
              "      <td>-0.171596</td>\n",
              "      <td>-0.034334</td>\n",
              "      <td>0.173848</td>\n",
              "      <td>-0.051861</td>\n",
              "      <td>-0.194635</td>\n",
              "      <td>-0.103174</td>\n",
              "      <td>-0.493894</td>\n",
              "      <td>0.669772</td>\n",
              "      <td>0.113391</td>\n",
              "      <td>...</td>\n",
              "      <td>0.446317</td>\n",
              "      <td>0.159271</td>\n",
              "      <td>-0.989267</td>\n",
              "      <td>-0.459192</td>\n",
              "      <td>0.414463</td>\n",
              "      <td>-0.068166</td>\n",
              "      <td>2.257305</td>\n",
              "      <td>0.215650</td>\n",
              "      <td>-0.430203</td>\n",
              "      <td>1</td>\n",
              "    </tr>\n",
              "    <tr>\n",
              "      <th>1</th>\n",
              "      <td>-0.267371</td>\n",
              "      <td>0.071957</td>\n",
              "      <td>-0.034334</td>\n",
              "      <td>-0.394632</td>\n",
              "      <td>-0.051861</td>\n",
              "      <td>-0.261262</td>\n",
              "      <td>-0.107967</td>\n",
              "      <td>-0.578826</td>\n",
              "      <td>-0.714095</td>\n",
              "      <td>0.478099</td>\n",
              "      <td>...</td>\n",
              "      <td>0.341803</td>\n",
              "      <td>0.053125</td>\n",
              "      <td>-0.989267</td>\n",
              "      <td>0.065955</td>\n",
              "      <td>2.493944</td>\n",
              "      <td>-0.174906</td>\n",
              "      <td>-0.259542</td>\n",
              "      <td>-0.257432</td>\n",
              "      <td>-0.415533</td>\n",
              "      <td>1</td>\n",
              "    </tr>\n",
              "    <tr>\n",
              "      <th>2</th>\n",
              "      <td>-0.268571</td>\n",
              "      <td>0.392193</td>\n",
              "      <td>-0.034334</td>\n",
              "      <td>-0.596358</td>\n",
              "      <td>-0.051861</td>\n",
              "      <td>-0.261262</td>\n",
              "      <td>-0.107967</td>\n",
              "      <td>-0.579091</td>\n",
              "      <td>-0.864277</td>\n",
              "      <td>0.449648</td>\n",
              "      <td>...</td>\n",
              "      <td>-0.843156</td>\n",
              "      <td>-0.601191</td>\n",
              "      <td>-0.989267</td>\n",
              "      <td>0.223500</td>\n",
              "      <td>1.925729</td>\n",
              "      <td>-0.174906</td>\n",
              "      <td>-0.350248</td>\n",
              "      <td>-0.257432</td>\n",
              "      <td>-0.351515</td>\n",
              "      <td>1</td>\n",
              "    </tr>\n",
              "    <tr>\n",
              "      <th>3</th>\n",
              "      <td>-0.267320</td>\n",
              "      <td>-0.082373</td>\n",
              "      <td>-0.034334</td>\n",
              "      <td>-0.337735</td>\n",
              "      <td>-0.051861</td>\n",
              "      <td>-0.260286</td>\n",
              "      <td>-0.107966</td>\n",
              "      <td>-0.574153</td>\n",
              "      <td>0.401915</td>\n",
              "      <td>-0.240214</td>\n",
              "      <td>...</td>\n",
              "      <td>0.205183</td>\n",
              "      <td>-0.085628</td>\n",
              "      <td>-0.989267</td>\n",
              "      <td>-0.406677</td>\n",
              "      <td>1.394323</td>\n",
              "      <td>-0.174906</td>\n",
              "      <td>-0.056171</td>\n",
              "      <td>-0.257431</td>\n",
              "      <td>-0.430203</td>\n",
              "      <td>1</td>\n",
              "    </tr>\n",
              "    <tr>\n",
              "      <th>4</th>\n",
              "      <td>-0.268375</td>\n",
              "      <td>0.094866</td>\n",
              "      <td>-0.034334</td>\n",
              "      <td>-0.551568</td>\n",
              "      <td>-0.051861</td>\n",
              "      <td>-0.261262</td>\n",
              "      <td>-0.107967</td>\n",
              "      <td>-0.579396</td>\n",
              "      <td>-0.876131</td>\n",
              "      <td>-0.003950</td>\n",
              "      <td>...</td>\n",
              "      <td>0.447088</td>\n",
              "      <td>0.160054</td>\n",
              "      <td>-0.989267</td>\n",
              "      <td>0.170985</td>\n",
              "      <td>1.041917</td>\n",
              "      <td>-0.174906</td>\n",
              "      <td>-0.327099</td>\n",
              "      <td>-0.257432</td>\n",
              "      <td>-0.384858</td>\n",
              "      <td>1</td>\n",
              "    </tr>\n",
              "    <tr>\n",
              "      <th>...</th>\n",
              "      <td>...</td>\n",
              "      <td>...</td>\n",
              "      <td>...</td>\n",
              "      <td>...</td>\n",
              "      <td>...</td>\n",
              "      <td>...</td>\n",
              "      <td>...</td>\n",
              "      <td>...</td>\n",
              "      <td>...</td>\n",
              "      <td>...</td>\n",
              "      <td>...</td>\n",
              "      <td>...</td>\n",
              "      <td>...</td>\n",
              "      <td>...</td>\n",
              "      <td>...</td>\n",
              "      <td>...</td>\n",
              "      <td>...</td>\n",
              "      <td>...</td>\n",
              "      <td>...</td>\n",
              "      <td>...</td>\n",
              "      <td>...</td>\n",
              "    </tr>\n",
              "    <tr>\n",
              "      <th>50577</th>\n",
              "      <td>-0.270438</td>\n",
              "      <td>0.040609</td>\n",
              "      <td>-0.034334</td>\n",
              "      <td>-0.587633</td>\n",
              "      <td>-0.051861</td>\n",
              "      <td>-0.261262</td>\n",
              "      <td>-0.107967</td>\n",
              "      <td>-0.579589</td>\n",
              "      <td>-0.811629</td>\n",
              "      <td>-0.928057</td>\n",
              "      <td>...</td>\n",
              "      <td>-0.499086</td>\n",
              "      <td>-0.800893</td>\n",
              "      <td>-0.989267</td>\n",
              "      <td>-0.039074</td>\n",
              "      <td>2.972986</td>\n",
              "      <td>-0.174905</td>\n",
              "      <td>-0.139995</td>\n",
              "      <td>-0.257431</td>\n",
              "      <td>-0.431537</td>\n",
              "      <td>1</td>\n",
              "    </tr>\n",
              "    <tr>\n",
              "      <th>50578</th>\n",
              "      <td>-0.269299</td>\n",
              "      <td>0.040609</td>\n",
              "      <td>-0.034334</td>\n",
              "      <td>-0.704571</td>\n",
              "      <td>-0.051861</td>\n",
              "      <td>-0.261262</td>\n",
              "      <td>-0.107967</td>\n",
              "      <td>-0.573424</td>\n",
              "      <td>-0.873859</td>\n",
              "      <td>-1.356834</td>\n",
              "      <td>...</td>\n",
              "      <td>-0.927494</td>\n",
              "      <td>-1.235990</td>\n",
              "      <td>-0.989267</td>\n",
              "      <td>-0.616736</td>\n",
              "      <td>0.204493</td>\n",
              "      <td>-0.174905</td>\n",
              "      <td>-0.355996</td>\n",
              "      <td>-0.257262</td>\n",
              "      <td>-0.426202</td>\n",
              "      <td>1</td>\n",
              "    </tr>\n",
              "    <tr>\n",
              "      <th>50579</th>\n",
              "      <td>-0.270456</td>\n",
              "      <td>0.952123</td>\n",
              "      <td>-0.034334</td>\n",
              "      <td>-0.592510</td>\n",
              "      <td>-0.051861</td>\n",
              "      <td>-0.261262</td>\n",
              "      <td>-0.107967</td>\n",
              "      <td>-0.579500</td>\n",
              "      <td>-0.894274</td>\n",
              "      <td>0.012924</td>\n",
              "      <td>...</td>\n",
              "      <td>0.464365</td>\n",
              "      <td>0.177600</td>\n",
              "      <td>-0.989267</td>\n",
              "      <td>0.276014</td>\n",
              "      <td>1.680116</td>\n",
              "      <td>-0.174905</td>\n",
              "      <td>-0.076802</td>\n",
              "      <td>-0.256689</td>\n",
              "      <td>-0.414199</td>\n",
              "      <td>1</td>\n",
              "    </tr>\n",
              "    <tr>\n",
              "      <th>50580</th>\n",
              "      <td>-0.270274</td>\n",
              "      <td>2.659404</td>\n",
              "      <td>-0.034334</td>\n",
              "      <td>-0.648742</td>\n",
              "      <td>-0.051861</td>\n",
              "      <td>-0.261262</td>\n",
              "      <td>-0.107967</td>\n",
              "      <td>-0.579477</td>\n",
              "      <td>-0.886564</td>\n",
              "      <td>-0.241991</td>\n",
              "      <td>...</td>\n",
              "      <td>0.203363</td>\n",
              "      <td>-0.087476</td>\n",
              "      <td>-0.989267</td>\n",
              "      <td>0.748647</td>\n",
              "      <td>1.846925</td>\n",
              "      <td>-0.174905</td>\n",
              "      <td>-0.275480</td>\n",
              "      <td>-0.257133</td>\n",
              "      <td>-0.388859</td>\n",
              "      <td>1</td>\n",
              "    </tr>\n",
              "    <tr>\n",
              "      <th>50581</th>\n",
              "      <td>-0.270277</td>\n",
              "      <td>0.662754</td>\n",
              "      <td>-0.034334</td>\n",
              "      <td>-0.694323</td>\n",
              "      <td>-0.051861</td>\n",
              "      <td>-0.261262</td>\n",
              "      <td>-0.107967</td>\n",
              "      <td>-0.578331</td>\n",
              "      <td>-0.879211</td>\n",
              "      <td>-1.284239</td>\n",
              "      <td>...</td>\n",
              "      <td>-0.921142</td>\n",
              "      <td>-1.229538</td>\n",
              "      <td>-0.989267</td>\n",
              "      <td>0.696132</td>\n",
              "      <td>2.682657</td>\n",
              "      <td>-0.174905</td>\n",
              "      <td>0.289331</td>\n",
              "      <td>-0.253120</td>\n",
              "      <td>-0.423535</td>\n",
              "      <td>1</td>\n",
              "    </tr>\n",
              "  </tbody>\n",
              "</table>\n",
              "<p>50582 rows × 26 columns</p>\n",
              "</div>\n",
              "      <button class=\"colab-df-convert\" onclick=\"convertToInteractive('df-dccff980-5e03-4c63-83e0-4fe5a68934f6')\"\n",
              "              title=\"Convert this dataframe to an interactive table.\"\n",
              "              style=\"display:none;\">\n",
              "\n",
              "  <svg xmlns=\"http://www.w3.org/2000/svg\" height=\"24px\"viewBox=\"0 0 24 24\"\n",
              "       width=\"24px\">\n",
              "    <path d=\"M0 0h24v24H0V0z\" fill=\"none\"/>\n",
              "    <path d=\"M18.56 5.44l.94 2.06.94-2.06 2.06-.94-2.06-.94-.94-2.06-.94 2.06-2.06.94zm-11 1L8.5 8.5l.94-2.06 2.06-.94-2.06-.94L8.5 2.5l-.94 2.06-2.06.94zm10 10l.94 2.06.94-2.06 2.06-.94-2.06-.94-.94-2.06-.94 2.06-2.06.94z\"/><path d=\"M17.41 7.96l-1.37-1.37c-.4-.4-.92-.59-1.43-.59-.52 0-1.04.2-1.43.59L10.3 9.45l-7.72 7.72c-.78.78-.78 2.05 0 2.83L4 21.41c.39.39.9.59 1.41.59.51 0 1.02-.2 1.41-.59l7.78-7.78 2.81-2.81c.8-.78.8-2.07 0-2.86zM5.41 20L4 18.59l7.72-7.72 1.47 1.35L5.41 20z\"/>\n",
              "  </svg>\n",
              "      </button>\n",
              "\n",
              "\n",
              "\n",
              "    <div id=\"df-72dc7401-c321-497b-8b91-b79672b164a9\">\n",
              "      <button class=\"colab-df-quickchart\" onclick=\"quickchart('df-72dc7401-c321-497b-8b91-b79672b164a9')\"\n",
              "              title=\"Suggest charts.\"\n",
              "              style=\"display:none;\">\n",
              "\n",
              "<svg xmlns=\"http://www.w3.org/2000/svg\" height=\"24px\"viewBox=\"0 0 24 24\"\n",
              "     width=\"24px\">\n",
              "    <g>\n",
              "        <path d=\"M19 3H5c-1.1 0-2 .9-2 2v14c0 1.1.9 2 2 2h14c1.1 0 2-.9 2-2V5c0-1.1-.9-2-2-2zM9 17H7v-7h2v7zm4 0h-2V7h2v10zm4 0h-2v-4h2v4z\"/>\n",
              "    </g>\n",
              "</svg>\n",
              "      </button>\n",
              "    </div>\n",
              "\n",
              "<style>\n",
              "  .colab-df-quickchart {\n",
              "    background-color: #E8F0FE;\n",
              "    border: none;\n",
              "    border-radius: 50%;\n",
              "    cursor: pointer;\n",
              "    display: none;\n",
              "    fill: #1967D2;\n",
              "    height: 32px;\n",
              "    padding: 0 0 0 0;\n",
              "    width: 32px;\n",
              "  }\n",
              "\n",
              "  .colab-df-quickchart:hover {\n",
              "    background-color: #E2EBFA;\n",
              "    box-shadow: 0px 1px 2px rgba(60, 64, 67, 0.3), 0px 1px 3px 1px rgba(60, 64, 67, 0.15);\n",
              "    fill: #174EA6;\n",
              "  }\n",
              "\n",
              "  [theme=dark] .colab-df-quickchart {\n",
              "    background-color: #3B4455;\n",
              "    fill: #D2E3FC;\n",
              "  }\n",
              "\n",
              "  [theme=dark] .colab-df-quickchart:hover {\n",
              "    background-color: #434B5C;\n",
              "    box-shadow: 0px 1px 3px 1px rgba(0, 0, 0, 0.15);\n",
              "    filter: drop-shadow(0px 1px 2px rgba(0, 0, 0, 0.3));\n",
              "    fill: #FFFFFF;\n",
              "  }\n",
              "</style>\n",
              "\n",
              "    <script>\n",
              "      async function quickchart(key) {\n",
              "        const containerElement = document.querySelector('#' + key);\n",
              "        const charts = await google.colab.kernel.invokeFunction(\n",
              "            'suggestCharts', [key], {});\n",
              "      }\n",
              "    </script>\n",
              "\n",
              "      <script>\n",
              "\n",
              "function displayQuickchartButton(domScope) {\n",
              "  let quickchartButtonEl =\n",
              "    domScope.querySelector('#df-72dc7401-c321-497b-8b91-b79672b164a9 button.colab-df-quickchart');\n",
              "  quickchartButtonEl.style.display =\n",
              "    google.colab.kernel.accessAllowed ? 'block' : 'none';\n",
              "}\n",
              "\n",
              "        displayQuickchartButton(document);\n",
              "      </script>\n",
              "      <style>\n",
              "    .colab-df-container {\n",
              "      display:flex;\n",
              "      flex-wrap:wrap;\n",
              "      gap: 12px;\n",
              "    }\n",
              "\n",
              "    .colab-df-convert {\n",
              "      background-color: #E8F0FE;\n",
              "      border: none;\n",
              "      border-radius: 50%;\n",
              "      cursor: pointer;\n",
              "      display: none;\n",
              "      fill: #1967D2;\n",
              "      height: 32px;\n",
              "      padding: 0 0 0 0;\n",
              "      width: 32px;\n",
              "    }\n",
              "\n",
              "    .colab-df-convert:hover {\n",
              "      background-color: #E2EBFA;\n",
              "      box-shadow: 0px 1px 2px rgba(60, 64, 67, 0.3), 0px 1px 3px 1px rgba(60, 64, 67, 0.15);\n",
              "      fill: #174EA6;\n",
              "    }\n",
              "\n",
              "    [theme=dark] .colab-df-convert {\n",
              "      background-color: #3B4455;\n",
              "      fill: #D2E3FC;\n",
              "    }\n",
              "\n",
              "    [theme=dark] .colab-df-convert:hover {\n",
              "      background-color: #434B5C;\n",
              "      box-shadow: 0px 1px 3px 1px rgba(0, 0, 0, 0.15);\n",
              "      filter: drop-shadow(0px 1px 2px rgba(0, 0, 0, 0.3));\n",
              "      fill: #FFFFFF;\n",
              "    }\n",
              "  </style>\n",
              "\n",
              "      <script>\n",
              "        const buttonEl =\n",
              "          document.querySelector('#df-dccff980-5e03-4c63-83e0-4fe5a68934f6 button.colab-df-convert');\n",
              "        buttonEl.style.display =\n",
              "          google.colab.kernel.accessAllowed ? 'block' : 'none';\n",
              "\n",
              "        async function convertToInteractive(key) {\n",
              "          const element = document.querySelector('#df-dccff980-5e03-4c63-83e0-4fe5a68934f6');\n",
              "          const dataTable =\n",
              "            await google.colab.kernel.invokeFunction('convertToInteractive',\n",
              "                                                     [key], {});\n",
              "          if (!dataTable) return;\n",
              "\n",
              "          const docLinkHtml = 'Like what you see? Visit the ' +\n",
              "            '<a target=\"_blank\" href=https://colab.research.google.com/notebooks/data_table.ipynb>data table notebook</a>'\n",
              "            + ' to learn more about interactive tables.';\n",
              "          element.innerHTML = '';\n",
              "          dataTable['output_type'] = 'display_data';\n",
              "          await google.colab.output.renderOutput(dataTable, element);\n",
              "          const docLink = document.createElement('div');\n",
              "          docLink.innerHTML = docLinkHtml;\n",
              "          element.appendChild(docLink);\n",
              "        }\n",
              "      </script>\n",
              "    </div>\n",
              "  </div>\n"
            ]
          },
          "metadata": {},
          "execution_count": 5
        }
      ]
    },
    {
      "cell_type": "code",
      "source": [
        "# Los valores 1 son NON-HFT y los 0 son HFT\n",
        "df.type.value_counts()"
      ],
      "metadata": {
        "id": "iU7IEu3FVEjn",
        "colab": {
          "base_uri": "https://localhost:8080/"
        },
        "outputId": "7ac7c8a9-d2fe-4f9f-b6f6-5a40142faa86"
      },
      "execution_count": null,
      "outputs": [
        {
          "output_type": "execute_result",
          "data": {
            "text/plain": [
              "0    30522\n",
              "1    20060\n",
              "Name: type, dtype: int64"
            ]
          },
          "metadata": {},
          "execution_count": 6
        }
      ]
    },
    {
      "cell_type": "markdown",
      "source": [
        "## Agregando descripción a los datos\n",
        "\n",
        "Los datos son públicos, fueron utilizados en una competencia que pueden consultar [AQUÍ](https://challengedata.ens.fr/participants/challenges/50/) (para poder ingresar necesitarán registrarse y luego copiar la dirección en su navegador). En esta competencia registraron muchas características de \"traders\", para tratar de clasificarlos en HFT (High Frequency Traders) o NON-HFT, esto porque es de gran interes tratar de estudiar el impacto que tienen los HFT en los mercados, ya que lo que hacen es realizar intercambios dando ordenes de intercambio a un mecanismo llamado Limit Order Book (LOB), al cual le ordenan realizar compras o ventas a precios que ellos deseen.\n",
        "\n",
        "## Descripción de las variables\n",
        "1. NbTradeVenueMic (23) : Número de centros de negociación en los que opera el jugador del mercado\n",
        "\n",
        "De todos los centros de negociación, estadísticas sobre el número de operaciones observadas por segundo\n",
        "\n",
        "2. MaxNbTradesBySecond (24)\n",
        "3. MeanNbTradesBySecond (25)\n",
        "\n",
        "Estadísticas sobre el delta de tiempo observado entre dos operaciones en la plataforma de negociación TV_1[1]:\n",
        "\n",
        "4. min_dt_TV1 (26)\n",
        "5. med_dt_TV1 (28)\n",
        "6. mean_dt_TV1 (27)\n",
        "\n",
        "Estadísticas sobre el delta de tiempo observado entre dos operaciones que se producen en la plataforma de negociación TV_1 y luego en la plataforma de negociación TV_2:\n",
        "\n",
        "7. min_dt_TV1_TV2 (29)\n",
        "8. med_dt_TV1_TV2 (31)\n",
        "9. mean_dt_TV1_TV2 (30)\n",
        "\n",
        "Estadísticas sobre el delta de tiempo observado entre dos operaciones que se producen en la plataforma de negociación TV_1 y luego en la plataforma de negociación TV_3:\n",
        "\n",
        "10. min_dt_TV1_TV3 (32)\n",
        "11. med_dt_TV1_TV3 (34)\n",
        "12. mean_dt_TV1_TV3 (33)\n",
        "\n",
        "Estadísticas sobre el delta de tiempo observado entre dos operaciones que se producen en la plataforma de negociación TV_1 y luego en la plataforma de negociación TV_4 :\n",
        "\n",
        "13. min_dt_TV1_TV4 (35)\n",
        "14. med_dt_TV1_TV4 (37)\n",
        "15. mean_dt_TV1_TV4(36)\n",
        "\n",
        "De todos los centros de negociación, número de segundos durante el día de negociación donde se observa al menos una operación del jugador del mercado i\n",
        "\n",
        "16. NbSecondWithAtLeatOneTrade(38)\n",
        "\n",
        "En la plataforma de negociación TV_1, tres proporciones entre el número de todo tipo de eventos[2] enviados a la LOB y:\n",
        "\n",
        "17. el número de operaciones (OTR) (4)\n",
        "18. el número de eventos de tipo cancelación (OCR) (5)\n",
        "19. el número de eventos de tipo de modificación (OMR) (6)\n",
        "\n",
        "En el centro de negociación TV_1, estadísticas durante el delta de tiempo observado entre dos eventos de todo tipo enviados:\n",
        "\n",
        "20. min_time_two_events (7)\n",
        "21. mean_time_two_events (8)\n",
        "22. 10_p_time_two_events (9)\n",
        "23. med_time_two_events (10)\n",
        "24. 25_p_time_two_events (11)\n",
        "25. 75_p_time_two_events (12)\n",
        "26. 90_p_time_two_events (13)\n",
        "27. max_time_two_events (14)\n",
        "\n",
        "En la plataforma de negociación TV_1, estadísticas a lo largo de la vida útil observada de las órdenes canceladas:\n",
        "\n",
        "28. min_lifetime_cancel (15)\n",
        "29. mean_lifetime_cancel (16)\n",
        "30. 10_p_lifetime_cancel (17)\n",
        "31. med_lifetime_cancel (18)\n",
        "32. 25_p_lifetime_cancel (19)\n",
        "33. 75_p_lifetime_cancel (20)\n",
        "34. 90_p_lifetime_cancel (21)\n",
        "35. max_lifetime_cancel (22)\n",
        "\n",
        "Extra variables\n",
        "\n",
        "36. Type: HF, Non HFT (39)\n",
        "37. Day\n",
        "38. Share\n",
        "39. Trader\n",
        "40. Index\n"
      ],
      "metadata": {
        "id": "SCtqgR4MZsTv"
      }
    },
    {
      "cell_type": "code",
      "source": [
        "df.shape"
      ],
      "metadata": {
        "id": "jU9HDQM8VTfo",
        "colab": {
          "base_uri": "https://localhost:8080/"
        },
        "outputId": "11a14d23-4598-4811-817f-e78b507ceb30"
      },
      "execution_count": null,
      "outputs": [
        {
          "output_type": "execute_result",
          "data": {
            "text/plain": [
              "(50582, 26)"
            ]
          },
          "metadata": {},
          "execution_count": 7
        }
      ]
    },
    {
      "cell_type": "code",
      "source": [
        "X_prob = np.array(df.drop(['type'], axis=1))\n",
        "X_prob"
      ],
      "metadata": {
        "id": "FIcEwUB_WMlG",
        "colab": {
          "base_uri": "https://localhost:8080/"
        },
        "outputId": "5f5de895-dbdf-48e7-ae4d-fdac079c57a0"
      },
      "execution_count": null,
      "outputs": [
        {
          "output_type": "execute_result",
          "data": {
            "text/plain": [
              "array([[-0.26413997, -0.17159563, -0.03433358, ...,  2.25730527,\n",
              "         0.21564981, -0.43020348],\n",
              "       [-0.26737141,  0.07195718, -0.03433358, ..., -0.25954205,\n",
              "        -0.25743172, -0.41553282],\n",
              "       [-0.26857105,  0.39219296, -0.03433358, ..., -0.35024783,\n",
              "        -0.25743176, -0.35151541],\n",
              "       ...,\n",
              "       [-0.27045626,  0.9521233 , -0.03433358, ..., -0.07680184,\n",
              "        -0.25668942, -0.41419912],\n",
              "       [-0.27027382,  2.65940442, -0.03433358, ..., -0.27547952,\n",
              "        -0.25713323, -0.3888589 ],\n",
              "       [-0.2702773 ,  0.66275362, -0.03433358, ...,  0.28933079,\n",
              "        -0.25311955, -0.423535  ]])"
            ]
          },
          "metadata": {},
          "execution_count": 8
        }
      ]
    },
    {
      "cell_type": "code",
      "source": [
        "X_prob.shape"
      ],
      "metadata": {
        "id": "ysTvZku2ILgN",
        "colab": {
          "base_uri": "https://localhost:8080/"
        },
        "outputId": "2be4148f-276c-4892-f98f-b28346e60589"
      },
      "execution_count": null,
      "outputs": [
        {
          "output_type": "execute_result",
          "data": {
            "text/plain": [
              "(50582, 25)"
            ]
          },
          "metadata": {},
          "execution_count": 9
        }
      ]
    },
    {
      "cell_type": "code",
      "source": [
        "Y_prob = np.array(df['type'])\n",
        "Y_prob"
      ],
      "metadata": {
        "id": "UpZPlZlnWARR",
        "colab": {
          "base_uri": "https://localhost:8080/"
        },
        "outputId": "e646d94c-6132-4db8-e7f5-4233ce05a38a"
      },
      "execution_count": null,
      "outputs": [
        {
          "output_type": "execute_result",
          "data": {
            "text/plain": [
              "array([1, 1, 1, ..., 1, 1, 1])"
            ]
          },
          "metadata": {},
          "execution_count": 10
        }
      ]
    },
    {
      "cell_type": "code",
      "source": [
        "Y_prob.shape"
      ],
      "metadata": {
        "id": "GyU40YXb0dIy",
        "colab": {
          "base_uri": "https://localhost:8080/"
        },
        "outputId": "df875a16-54fb-4eea-a476-2d57803796aa"
      },
      "execution_count": null,
      "outputs": [
        {
          "output_type": "execute_result",
          "data": {
            "text/plain": [
              "(50582,)"
            ]
          },
          "metadata": {},
          "execution_count": 11
        }
      ]
    },
    {
      "cell_type": "code",
      "source": [
        "num_inputs = 25\n",
        "num_outputs = 2\n",
        "\n",
        "W = np.random.normal(0, 0.1, (num_inputs, num_outputs)) # Jugaremos con este parametro\n",
        "B = np.zeros(num_outputs) # Jugaremos con este parametro"
      ],
      "metadata": {
        "id": "HgYtgbebimh0"
      },
      "execution_count": null,
      "outputs": []
    },
    {
      "cell_type": "code",
      "source": [
        "print(W)\n",
        "print(B)"
      ],
      "metadata": {
        "id": "gDLgt_L3VZNa",
        "colab": {
          "base_uri": "https://localhost:8080/"
        },
        "outputId": "cbbef093-b621-4d98-f315-2c7943a3235a"
      },
      "execution_count": null,
      "outputs": [
        {
          "output_type": "stream",
          "name": "stdout",
          "text": [
            "[[-0.14701994 -0.04094986]\n",
            " [-0.00885756  0.08398238]\n",
            " [-0.15002119  0.0297695 ]\n",
            " [ 0.05006163  0.06141401]\n",
            " [ 0.04647521 -0.06248618]\n",
            " [ 0.05506294 -0.06582476]\n",
            " [ 0.11142613 -0.06349265]\n",
            " [ 0.00753087  0.0034958 ]\n",
            " [-0.04162694  0.10996812]\n",
            " [ 0.06187859  0.01112487]\n",
            " [ 0.08750414 -0.17718447]\n",
            " [-0.02432434  0.02149761]\n",
            " [-0.09734177  0.01578014]\n",
            " [-0.00504711 -0.0853355 ]\n",
            " [ 0.0550418  -0.08433614]\n",
            " [ 0.00050792 -0.13852381]\n",
            " [ 0.22564523  0.05124701]\n",
            " [ 0.01607887  0.16984546]\n",
            " [ 0.11051054  0.00108678]\n",
            " [-0.03162346  0.0663226 ]\n",
            " [-0.04365418  0.12275587]\n",
            " [-0.12234298 -0.00855457]\n",
            " [ 0.01357022 -0.11111163]\n",
            " [-0.03892005  0.0344927 ]\n",
            " [ 0.10311242 -0.09961015]]\n",
            "[0. 0.]\n"
          ]
        }
      ]
    },
    {
      "cell_type": "markdown",
      "source": [
        "# Definición de la operación SoftMax\n",
        "\n",
        "Primero, notemos que dado un arreglo de numpy, nosotros podemos relizar sumas de diferentes formas utilizando el método \"sum()\". Al daro distintos argumentos se reliza de distintos modos.\n",
        "\n",
        "Si no pasamos ningún parámetro a \"sum()\", lo que obtendremos será la suma de todas las entradas de nuestra matriz (o arreglo o tensor).\n",
        "\n",
        "Si damos como parámetro el \"0\", lo que nos regresará será la suma por columnas (es decir, en el eje 0)\n",
        "\n",
        "Si damos como parámetro el \"1\", nos regresará la suma por filas (es decir, en el eje 1)"
      ],
      "metadata": {
        "id": "yLTx9XpmoPuA"
      }
    },
    {
      "cell_type": "code",
      "source": [
        "X = np.array([[1.0, 2.0, 3.0], [4.0, 5.0, 6.0]])\n",
        "X"
      ],
      "metadata": {
        "id": "c1tKKzybKRFB",
        "colab": {
          "base_uri": "https://localhost:8080/"
        },
        "outputId": "b04c3a87-2199-4ebc-8665-f933df60ef21"
      },
      "execution_count": null,
      "outputs": [
        {
          "output_type": "execute_result",
          "data": {
            "text/plain": [
              "array([[1., 2., 3.],\n",
              "       [4., 5., 6.]])"
            ]
          },
          "metadata": {},
          "execution_count": 14
        }
      ]
    },
    {
      "cell_type": "code",
      "source": [
        "X.sum(keepdims=True), X.sum(0, keepdims=True), X.sum(1, keepdims=True)"
      ],
      "metadata": {
        "id": "0prrE4B7ixOn",
        "colab": {
          "base_uri": "https://localhost:8080/"
        },
        "outputId": "e1748516-8c01-4bcb-8c8f-fa23d9a0e6ea"
      },
      "execution_count": null,
      "outputs": [
        {
          "output_type": "execute_result",
          "data": {
            "text/plain": [
              "(array([[21.]]),\n",
              " array([[5., 7., 9.]]),\n",
              " array([[ 6.],\n",
              "        [15.]]))"
            ]
          },
          "metadata": {},
          "execution_count": 15
        }
      ]
    },
    {
      "cell_type": "markdown",
      "source": [
        "Con esto podemos implementar de modo muy sencillo la función SoftMax, que consiste de 3 pasos:\n",
        "\n",
        "1. Obtener el exponenete de cda uno de nuestros elementos.\n",
        "2. Tomamos la suma de los elementos de su fila\n",
        "3. Dividimos cada fila por su constante de normalización (sería una suma de exponenciales)\n",
        "\n",
        "La expresión matemática de la función SoftMax es la siguiente:\n",
        "\n",
        "\n",
        "$$ \\mathrm{softmax}(\\mathbf{X})_{ij} = \\frac{\\exp(\\mathbf{X}_{ij})}{\\sum_k \\exp(\\mathbf{X}_{ik})}. $$"
      ],
      "metadata": {
        "id": "1qKW7Pn2C55P"
      }
    },
    {
      "cell_type": "code",
      "source": [
        "def softmax(X):\n",
        "    X_exp = np.exp(X)\n",
        "    partition = X_exp.sum(1, keepdims=True)\n",
        "    return X_exp / partition"
      ],
      "metadata": {
        "id": "nPCYu0LHnqxi"
      },
      "execution_count": null,
      "outputs": []
    },
    {
      "cell_type": "markdown",
      "source": [
        "Veamos un ejemplo con la matriz de 2X3 creada anteriormente."
      ],
      "metadata": {
        "id": "qNDcmahzEwGH"
      }
    },
    {
      "cell_type": "code",
      "source": [
        "# 4 clases\n",
        "W_p_X = np.random.normal(0, 0.1, (3, 4)) # Jugaremos con este parametro\n",
        "B_p_X = np.zeros(4) # Jugaremos con este parametro"
      ],
      "metadata": {
        "id": "TSArEtp4tKOg"
      },
      "execution_count": null,
      "outputs": []
    },
    {
      "cell_type": "code",
      "source": [
        "X @ W_p_X + B_p_X"
      ],
      "metadata": {
        "colab": {
          "base_uri": "https://localhost:8080/"
        },
        "id": "5GKWNzOptgyO",
        "outputId": "02a7f635-55e7-4dc5-99e2-a5e447a2e760"
      },
      "execution_count": null,
      "outputs": [
        {
          "output_type": "execute_result",
          "data": {
            "text/plain": [
              "array([[-0.07458081,  0.47518583, -0.24548083,  0.87470287],\n",
              "       [-0.3731358 ,  1.1553399 , -0.02663742,  2.12053343]])"
            ]
          },
          "metadata": {},
          "execution_count": 18
        }
      ]
    },
    {
      "cell_type": "code",
      "source": [
        "softmax(X @ W_p_X + B_p_X)"
      ],
      "metadata": {
        "id": "0fL_0uvtntuS",
        "colab": {
          "base_uri": "https://localhost:8080/"
        },
        "outputId": "78290266-74d3-44c8-9359-552838167e7c"
      },
      "execution_count": null,
      "outputs": [
        {
          "output_type": "execute_result",
          "data": {
            "text/plain": [
              "array([[0.16234787, 0.28132428, 0.13684397, 0.41948387],\n",
              "       [0.05227156, 0.24103161, 0.07391759, 0.63277925]])"
            ]
          },
          "metadata": {},
          "execution_count": 19
        }
      ]
    },
    {
      "cell_type": "markdown",
      "source": [
        "Si observan con cuidado, pueden ver que con esta operación estamos transformando todas nuestras entradas en números positivos. Mas aún, cada fila suma 1, es decir, la convertimos en una distribución de probabilidad."
      ],
      "metadata": {
        "id": "CqHlJW4-E71h"
      }
    },
    {
      "cell_type": "code",
      "source": [
        "x_prob = softmax(X @ W_p_X + B_p_X)\n",
        "x_prob, x_prob.sum(1)"
      ],
      "metadata": {
        "id": "27w0BqwBpPm2",
        "colab": {
          "base_uri": "https://localhost:8080/"
        },
        "outputId": "4eaacb77-2f6c-45c6-cb90-c3c94da72632"
      },
      "execution_count": null,
      "outputs": [
        {
          "output_type": "execute_result",
          "data": {
            "text/plain": [
              "(array([[0.16234787, 0.28132428, 0.13684397, 0.41948387],\n",
              "        [0.05227156, 0.24103161, 0.07391759, 0.63277925]]),\n",
              " array([1., 1.]))"
            ]
          },
          "metadata": {},
          "execution_count": 20
        }
      ]
    },
    {
      "cell_type": "markdown",
      "source": [
        "# Definiendo el modelo\n",
        "\n",
        "Aquí pueden ver que tipo de modelo vamos a implementar. En este caso es una regresión softmax."
      ],
      "metadata": {
        "id": "cyDAzg-TplBX"
      }
    },
    {
      "cell_type": "code",
      "source": [
        "def net(X,W,b):\n",
        "    return softmax(np.dot(X.reshape((-1, W.shape[0])), W) + b)"
      ],
      "metadata": {
        "id": "Xt5hs-R5pmzH"
      },
      "execution_count": null,
      "outputs": []
    },
    {
      "cell_type": "markdown",
      "source": [
        "1. ¿Que nos dará como salida ésta operación?\n",
        "\n",
        "2. ¿Porqué?"
      ],
      "metadata": {
        "id": "y5Lg62VfGcnj"
      }
    },
    {
      "cell_type": "markdown",
      "source": [
        "# Definiendo la función de perdida"
      ],
      "metadata": {
        "id": "v-lGeJHLptUV"
      }
    },
    {
      "cell_type": "markdown",
      "source": [
        "Usaremos la función Cross-Entropy, una de las mas populares dado que es buena para problemas de clasficación y en la actualidad, en machine learning son mas los problemas de clasificación que los de regresión."
      ],
      "metadata": {
        "id": "-aIVnMDipv8z"
      }
    },
    {
      "cell_type": "markdown",
      "source": [
        "La función es la siguiente:\n",
        "$$ -\\sum_{c=1}^My_{o,c}\\log(p_{o,c}), $$\n",
        "\n",
        "donde $M$ es la cantidad de clases que tenemos, $log$ la función de logaritmo natural, $y$ es $0$ o $1$ dependiendo de la etiqueta real de la clase $c$ y por último $p_{o,c}$ es la probabilidad predicha de que la observación $o$ pertenezca a la clase $c$."
      ],
      "metadata": {
        "id": "5W2-3hHaHLOb"
      }
    },
    {
      "cell_type": "markdown",
      "source": [
        "Para calcular esto, en lugar de utilizar un ciclo \"for\" (que a veces termina siendo menos optimizado), utilizaremos funciones de numpy."
      ],
      "metadata": {
        "id": "p8VFVTHVHKCS"
      }
    },
    {
      "cell_type": "code",
      "source": [
        "def cross_entropy(y_hat, y):\n",
        "    return np.sum(- np.log(y_hat[range(len(y_hat)), y])) / y.shape[0]"
      ],
      "metadata": {
        "id": "pHEEjhW3qqgJ"
      },
      "execution_count": null,
      "outputs": []
    },
    {
      "cell_type": "code",
      "source": [
        "# El resultado final es lo que alimentará a la cross-entropy, es decir etiqueta\n",
        "# de que pertenece a la clase 1 por la probabilidad de pertenecer a la clase 1\n",
        "y = np.array([0, 2])\n",
        "y_hat = np.array([[0.1, 0.3, 0.6], [0.3, 0.2, 0.5]])\n",
        "y_hat[[0, 1], y]"
      ],
      "metadata": {
        "id": "VSkWQRm1p1h6",
        "colab": {
          "base_uri": "https://localhost:8080/"
        },
        "outputId": "7924be8b-6da6-4619-8abc-e4bd2dc1cc38"
      },
      "execution_count": null,
      "outputs": [
        {
          "output_type": "execute_result",
          "data": {
            "text/plain": [
              "array([0.1, 0.5])"
            ]
          },
          "metadata": {},
          "execution_count": 23
        }
      ]
    },
    {
      "cell_type": "code",
      "source": [
        "cross_entropy(y_hat, y)"
      ],
      "metadata": {
        "id": "-C9idG4Lsk3W",
        "colab": {
          "base_uri": "https://localhost:8080/"
        },
        "outputId": "ce748f58-3258-43f9-e4ea-7b29c7b5052e"
      },
      "execution_count": null,
      "outputs": [
        {
          "output_type": "execute_result",
          "data": {
            "text/plain": [
              "1.4978661367769954"
            ]
          },
          "metadata": {},
          "execution_count": 24
        }
      ]
    },
    {
      "cell_type": "markdown",
      "source": [
        "# Precisión de la clasificación"
      ],
      "metadata": {
        "id": "y0C0Wio7s5Mh"
      }
    },
    {
      "cell_type": "markdown",
      "source": [
        "En un problema de clasificación multi-clase, es decir, un problema en el que observemos varias caracteristicas de un elemento y decidamos a que clase pertenece dicho elemento.\n",
        "\n",
        "Por ejemplo: Un algoritmo de clasificación de imagenes que intente saber si algo es un perro, un gato o un ratón. Si introdujeramos características y al final diera un vector $(0.2, 0.38, 0.42)$, el algoritmo lo clasificaría como un ratón (lo marcaría como perteneciente a la tercer clase)\n",
        "\n",
        "Cuando las predicciones son consistentes con las etiquetas verdaderas, decimos que son correctas. La presición de la clasificación son la cantidad de predicciones correctas entre todas las predicciones. Sin embargo, es muy difícil optimizar esto directamente (no es una función diferenciable), pero será muy importante para ver el rendimiento de nuestro modelo."
      ],
      "metadata": {
        "id": "kST4BHoWMH4b"
      }
    },
    {
      "cell_type": "markdown",
      "source": [
        "Lo que hacemos para ver la precisión es encontrar el valor mas grande en el vector de probabilidades, convertirlo en entero (porque muy probablemente sea un valor entr 0 y 1) y compararlo con las etiquetas verdaderas de nuestros datos."
      ],
      "metadata": {
        "id": "AbMsjaRTMHNQ"
      }
    },
    {
      "cell_type": "code",
      "source": [
        "# ARGMAX regresa la posicion del elemento con mayor valor\n",
        "np.array([[0.2,0.38, 0.42]]).argmax(axis=1)"
      ],
      "metadata": {
        "id": "ULYR_9RjPljp",
        "colab": {
          "base_uri": "https://localhost:8080/"
        },
        "outputId": "4295b428-80f4-420d-f2dd-c3137facbe2a"
      },
      "execution_count": null,
      "outputs": [
        {
          "output_type": "execute_result",
          "data": {
            "text/plain": [
              "array([2])"
            ]
          },
          "metadata": {},
          "execution_count": 25
        }
      ]
    },
    {
      "cell_type": "code",
      "source": [
        "def accuracy(y_hat, y):\n",
        "    \"\"\"Calcula la cantidad de predicciones correctas.\"\"\"\n",
        "    if len(y_hat.shape) > 1 and y_hat.shape[1] > 1:\n",
        "        y_hat = y_hat.argmax(axis=1)\n",
        "    cmp = y_hat.astype(y.dtype) == y\n",
        "    return float(cmp.astype(y.dtype).sum())/ len(y)"
      ],
      "metadata": {
        "id": "6WRt_0Ics488"
      },
      "execution_count": null,
      "outputs": []
    },
    {
      "cell_type": "code",
      "source": [
        "accuracy(y_hat, y)"
      ],
      "metadata": {
        "id": "ZMF7OSNCtGVC",
        "colab": {
          "base_uri": "https://localhost:8080/"
        },
        "outputId": "6b122c87-c286-4c73-cbe6-4c4fbfe8aadd"
      },
      "execution_count": null,
      "outputs": [
        {
          "output_type": "execute_result",
          "data": {
            "text/plain": [
              "0.5"
            ]
          },
          "metadata": {},
          "execution_count": 27
        }
      ]
    },
    {
      "cell_type": "markdown",
      "source": [
        "## Veamos como sería el accuracy para nuestro modelo con pesos al azar"
      ],
      "metadata": {
        "id": "vx7hIiLYYy6l"
      }
    },
    {
      "cell_type": "code",
      "source": [
        "X_prob"
      ],
      "metadata": {
        "id": "1Bx9EcuoQT10",
        "colab": {
          "base_uri": "https://localhost:8080/"
        },
        "outputId": "69663691-c9c0-45c1-eec4-b82bb13f483e"
      },
      "execution_count": null,
      "outputs": [
        {
          "output_type": "execute_result",
          "data": {
            "text/plain": [
              "array([[-0.26413997, -0.17159563, -0.03433358, ...,  2.25730527,\n",
              "         0.21564981, -0.43020348],\n",
              "       [-0.26737141,  0.07195718, -0.03433358, ..., -0.25954205,\n",
              "        -0.25743172, -0.41553282],\n",
              "       [-0.26857105,  0.39219296, -0.03433358, ..., -0.35024783,\n",
              "        -0.25743176, -0.35151541],\n",
              "       ...,\n",
              "       [-0.27045626,  0.9521233 , -0.03433358, ..., -0.07680184,\n",
              "        -0.25668942, -0.41419912],\n",
              "       [-0.27027382,  2.65940442, -0.03433358, ..., -0.27547952,\n",
              "        -0.25713323, -0.3888589 ],\n",
              "       [-0.2702773 ,  0.66275362, -0.03433358, ...,  0.28933079,\n",
              "        -0.25311955, -0.423535  ]])"
            ]
          },
          "metadata": {},
          "execution_count": 28
        }
      ]
    },
    {
      "cell_type": "code",
      "source": [
        "accuracy(net(X_prob, W, B),Y_prob)"
      ],
      "metadata": {
        "id": "Jxzc1dXTYoaL",
        "colab": {
          "base_uri": "https://localhost:8080/"
        },
        "outputId": "766daa4d-6360-4516-fe54-62220bdb7e36"
      },
      "execution_count": null,
      "outputs": [
        {
          "output_type": "execute_result",
          "data": {
            "text/plain": [
              "0.40294966588905146"
            ]
          },
          "metadata": {},
          "execution_count": 37
        }
      ]
    },
    {
      "cell_type": "code",
      "source": [
        "W = np.random.normal(0, 0.1, (num_inputs, num_outputs)) # Jugaremos con este parametro\n",
        "B = np.zeros(num_outputs) # Jugaremos con este parametro"
      ],
      "metadata": {
        "id": "BWjrsx5tZEFf"
      },
      "execution_count": null,
      "outputs": []
    },
    {
      "cell_type": "code",
      "source": [
        "# Las probabilidades que predecimos para cada fila de nuestros datos\n",
        "net(X_prob, W, B)"
      ],
      "metadata": {
        "id": "1p1t9fb0YNxG",
        "colab": {
          "base_uri": "https://localhost:8080/"
        },
        "outputId": "f1304124-945e-46d1-81ef-b2770c09a276"
      },
      "execution_count": null,
      "outputs": [
        {
          "output_type": "execute_result",
          "data": {
            "text/plain": [
              "array([[0.74792146, 0.25207854],\n",
              "       [0.30861018, 0.69138982],\n",
              "       [0.29965494, 0.70034506],\n",
              "       ...,\n",
              "       [0.267211  , 0.732789  ],\n",
              "       [0.25133541, 0.74866459],\n",
              "       [0.45924477, 0.54075523]])"
            ]
          },
          "metadata": {},
          "execution_count": 39
        }
      ]
    },
    {
      "cell_type": "code",
      "source": [
        "# La etiqueta verdadera de nuestros datos\n",
        "Y_prob"
      ],
      "metadata": {
        "id": "WlBh3aN-Y4GG",
        "colab": {
          "base_uri": "https://localhost:8080/"
        },
        "outputId": "75034eaa-8331-4cdf-9de7-ef6b1c170113"
      },
      "execution_count": null,
      "outputs": [
        {
          "output_type": "execute_result",
          "data": {
            "text/plain": [
              "array([1, 1, 1, ..., 1, 1, 1])"
            ]
          },
          "metadata": {},
          "execution_count": 40
        }
      ]
    },
    {
      "cell_type": "markdown",
      "source": [
        "# SoftMax Estable\n"
      ],
      "metadata": {
        "id": "HMbRIr47vHUi"
      }
    },
    {
      "cell_type": "code",
      "source": [
        "# El resultado final es lo que alimentará a la cross-entropy, es decir etiqueta\n",
        "# de que pertenece a la clase 1 por la probabilidad de pertenecer a la clase 1\n",
        "y = np.array([0, 2])\n",
        "y_hat = np.array([[0.1, 0.3, 0.6], [0.3, 0.2, 0.5]])\n",
        "y_hat[[0, 1], y]"
      ],
      "metadata": {
        "id": "kkI2X7gYvGWX",
        "colab": {
          "base_uri": "https://localhost:8080/"
        },
        "outputId": "d9664fa4-3ec6-4831-da8a-a6518fbde3bf"
      },
      "execution_count": null,
      "outputs": [
        {
          "output_type": "execute_result",
          "data": {
            "text/plain": [
              "array([0.1, 0.5])"
            ]
          },
          "metadata": {},
          "execution_count": 41
        }
      ]
    },
    {
      "cell_type": "code",
      "source": [
        "# Función softmax (Repetida de arriba solo para ejemplificar)\n",
        "def softmax(X):\n",
        "    X_exp = np.exp(X)\n",
        "    partition = X_exp.sum(1, keepdims=True)\n",
        "    return X_exp / partition"
      ],
      "metadata": {
        "id": "Ki01nLOMu8af"
      },
      "execution_count": null,
      "outputs": []
    },
    {
      "cell_type": "code",
      "source": [
        "# Softmax Estable\n",
        "def stable_softmax(X):\n",
        "    X_exp = np.exp(X - np.max(X, axis=1, keepdims=True))\n",
        "    partition = X_exp.sum(1, keepdims=True)\n",
        "    return X_exp / partition"
      ],
      "metadata": {
        "id": "fWGnq6Fvzlkw"
      },
      "execution_count": null,
      "outputs": []
    },
    {
      "cell_type": "code",
      "source": [
        "def net_s(X,W,b):\n",
        "    return stable_softmax(np.dot(X.reshape((-1, W.shape[0])), W) + b)"
      ],
      "metadata": {
        "id": "IAjDVD6xvRRE"
      },
      "execution_count": null,
      "outputs": []
    },
    {
      "cell_type": "markdown",
      "source": [
        "# Demostración de SoftMax estable"
      ],
      "metadata": {
        "id": "tP8jPUi-2fhP"
      }
    },
    {
      "cell_type": "code",
      "source": [
        "prueba = np.array([[99999, 99995, 99993],[9, 5, 3]])"
      ],
      "metadata": {
        "id": "A0ztJCHDz2iT"
      },
      "execution_count": null,
      "outputs": []
    },
    {
      "cell_type": "code",
      "source": [
        "softmax(prueba)"
      ],
      "metadata": {
        "id": "7NAUCE4bzq9D",
        "colab": {
          "base_uri": "https://localhost:8080/"
        },
        "outputId": "ece82ea5-12ce-4a1b-eef0-c78d1676e6bf"
      },
      "execution_count": null,
      "outputs": [
        {
          "output_type": "stream",
          "name": "stderr",
          "text": [
            "<ipython-input-42-edb56ab81491>:3: RuntimeWarning: overflow encountered in exp\n",
            "  X_exp = np.exp(X)\n",
            "<ipython-input-42-edb56ab81491>:5: RuntimeWarning: invalid value encountered in true_divide\n",
            "  return X_exp / partition\n"
          ]
        },
        {
          "output_type": "execute_result",
          "data": {
            "text/plain": [
              "array([[       nan,        nan,        nan],\n",
              "       [0.97962921, 0.01794253, 0.00242826]])"
            ]
          },
          "metadata": {},
          "execution_count": 46
        }
      ]
    },
    {
      "cell_type": "code",
      "source": [
        "stable_softmax(prueba)"
      ],
      "metadata": {
        "id": "w3Fxqeucz4aN",
        "colab": {
          "base_uri": "https://localhost:8080/"
        },
        "outputId": "68ccbc61-7ab6-43d3-8c3e-6355d43dd8d8"
      },
      "execution_count": null,
      "outputs": [
        {
          "output_type": "execute_result",
          "data": {
            "text/plain": [
              "array([[0.97962921, 0.01794253, 0.00242826],\n",
              "       [0.97962921, 0.01794253, 0.00242826]])"
            ]
          },
          "metadata": {},
          "execution_count": 47
        }
      ]
    },
    {
      "cell_type": "code",
      "source": [
        "# Si está repetida, es solo para recordar su estructura\n",
        "def cross_entropy(y_hat, y):\n",
        "    return np.sum(- np.log(y_hat[range(len(y_hat)), y])) / y.shape[0]"
      ],
      "metadata": {
        "id": "1QhptRqMu8ag"
      },
      "execution_count": null,
      "outputs": []
    },
    {
      "cell_type": "code",
      "source": [
        "cross_entropy(y_hat, y)"
      ],
      "metadata": {
        "id": "iOSGd-A2vRsv",
        "colab": {
          "base_uri": "https://localhost:8080/"
        },
        "outputId": "86b2b03e-ee10-4910-e829-2ecc4bd0f04e"
      },
      "execution_count": null,
      "outputs": [
        {
          "output_type": "execute_result",
          "data": {
            "text/plain": [
              "1.4978661367769954"
            ]
          },
          "metadata": {},
          "execution_count": 49
        }
      ]
    },
    {
      "cell_type": "markdown",
      "source": [
        "¿Como seria el gradiente de mi función compuesta?\n",
        "\n",
        "Sea\n",
        "$$z_i = b + ω_1*x_1+ \\ldots + \\omega_k * x_k $$\n",
        "para mis datos i-esimos $\\{ x_1,\\ldots,x_k\\} \\in X$. Tenemos que\n",
        "$$ \\frac{\\partial L}{\\partial ω} = \\frac{\\partial L}{\\partial z} \\frac{∂ z}{\\partial \\omega} $$\n",
        "así\n",
        "$$ \\require{cancel}\n",
        "\\begin{align}\n",
        "\\frac{dL}{dz_i} &= \\frac{d}{dz_i} \\bigg[  – \\sum_{k=1}^c y_k log (a_k) \\bigg] \\\\\n",
        "&= – \\sum_{k=1}^c y_k \\frac{d \\big( log (a_k) \\big)}{dz_i} \\\\\n",
        "&= – \\sum_{k=1}^c y_k \\frac{d \\big( log (a_k) \\big)}{da_k} . \\frac{da_k}{dz_i} \\\\\n",
        "&= – \\sum_{k=1}^c\\frac{y_k}{a_k} . \\frac{da_k}{dz_i} \\\\\n",
        "&= – \\bigg[ \\frac{y_i}{a_i} . \\frac{da_i}{dz_i}  + \\sum_{k=1, k \\not=i}^c \\frac{y_k}{a_k}  \\frac{da_k}{dz_i} \\bigg] \\\\\n",
        "&= – \\frac{y_i}{\\cancel{a_i}} . \\cancel{a_i}(1-a_i) \\text{ } – \\sum_{k=1, k \\not=i}^c \\frac{y_k}{\\cancel{a_k}} . (\\cancel{a_k}a_i) \\\\\n",
        "&= – y_i +y_ia_i + \\sum_{k=1, k \\not=i}^c y_ka_i \\\\\n",
        "&= a_i \\big( y_i + \\sum_{k=1, k \\not=i}^c y_k \\big) – y_i \\\\\n",
        "&= a_i + \\sum_{k=1}^c y_k -y_i \\\\\n",
        "&= a_i . 1 – y_i \\text{ , since } \\sum_{k=1}^c y_k =1 \\\\\n",
        "&= a_i – y_i\n",
        "\\end{align} $$\n",
        "además\n",
        "$$ \\frac{\\partial z_i}{\\partial \\omega_i} = x_i $$"
      ],
      "metadata": {
        "id": "tnvttqxF-HpF"
      }
    },
    {
      "cell_type": "code",
      "source": [
        "def grad_softmax_cross_entropy_for_w(X, y_true, w, b):\n",
        "    netaux = net_s(X,w,b)\n",
        "\n",
        "    ones_true_class = np.zeros_like(netaux) # Matriz de ceros que tiene la forma de las probabilidades (logits.shape), si alimento todos los datos es 50000X2\n",
        "\n",
        "    ones_true_class[np.arange(len(netaux)),y_true] = 1 # Genera 1 o cero si esta en la clasificacion correcta\n",
        "\n",
        "    softmax_ = netaux # softmax aplicado a mis probabilidades\n",
        "\n",
        "    aux1 = softmax_ - ones_true_class\n",
        "\n",
        "    return X.T @ aux1/X.shape[0]"
      ],
      "metadata": {
        "id": "bdaasRLfu3cI"
      },
      "execution_count": null,
      "outputs": []
    },
    {
      "cell_type": "code",
      "source": [
        "def grad_softmax_cross_entropy_for_b(X, y_true, w, b):\n",
        "    netaux = net_s(X,w,b)\n",
        "\n",
        "    ones_true_class = np.zeros_like(netaux) # Matriz de ceros que tiene la forma de las probabilidades (logits.shape), si alimento todos los datos es 50000X2\n",
        "\n",
        "    ones_true_class[np.arange(len(netaux)),y_true] = 1 # Genera 1 o cero si esta en la clasificacion correcta\n",
        "\n",
        "    softmax_ = netaux # softmax aplicado a mis probabilidades\n",
        "\n",
        "    aux1 = softmax_ - ones_true_class\n",
        "\n",
        "    return aux1.sum(axis=0, keepdims=True)/X.shape[0]"
      ],
      "metadata": {
        "id": "vPmuEewJvWyR"
      },
      "execution_count": null,
      "outputs": []
    },
    {
      "cell_type": "markdown",
      "source": [
        "Ahora podemos implementar Gradient Descent"
      ],
      "metadata": {
        "id": "Iqm6FZHOv5kh"
      }
    },
    {
      "cell_type": "code",
      "source": [
        "def gradient_descent(x, y, w, b, net, learning_rate=0.1, num_epochs=10):\n",
        "\tm = x.shape[0]\n",
        "\tJ_all = []\n",
        "\n",
        "\tfor _ in range(num_epochs):\n",
        "\t\ty_probs = net_s(x, w, b)\n",
        "\t\ty_hat = y_probs.argmax(axis=1)\n",
        "\n",
        "\t\tgradient_w = grad_softmax_cross_entropy_for_w(x,y,w,b)\n",
        "\t\tgradient_b = grad_softmax_cross_entropy_for_b(x,y,w,b)\n",
        "\n",
        "\t #Actualización de los parámetros\n",
        "\t\tw = w - (learning_rate)*gradient_w\n",
        "\t\tb = b - (learning_rate)*gradient_b\n",
        "\n",
        "\t\tJ_all.append(cross_entropy(y_probs, y))\n",
        "\n",
        "\treturn J_all, w, b"
      ],
      "metadata": {
        "id": "xaj_uBU4LxfB"
      },
      "execution_count": null,
      "outputs": []
    },
    {
      "cell_type": "code",
      "source": [
        "W = np.random.normal(0, 0.1, (num_inputs, num_outputs)) # Jugaremos con este parametro\n",
        "B = np.zeros(num_outputs) # Jugaremos con este parametro"
      ],
      "metadata": {
        "id": "VyLdbdMdNmAp"
      },
      "execution_count": null,
      "outputs": []
    },
    {
      "cell_type": "code",
      "source": [
        "learning_rate = 0.01\n",
        "num_epochs = 1000"
      ],
      "metadata": {
        "id": "fdtOu8Gv4phz"
      },
      "execution_count": null,
      "outputs": []
    },
    {
      "cell_type": "code",
      "source": [
        "J_all, W, B = gradient_descent(X_prob, Y_prob, W, B, net, learning_rate, num_epochs)\n",
        "Y_hat = net(X_prob, W, B)\n",
        "J = cross_entropy(Y_hat, Y_prob)\n",
        "print(\"Cost: \", J)\n",
        "print(\"Parameters: \", W)\n",
        "print(\"Intercepto: \", B)"
      ],
      "metadata": {
        "id": "TWTzZZQcBSEb",
        "colab": {
          "base_uri": "https://localhost:8080/"
        },
        "outputId": "ad9001cf-0bce-4535-ba40-958d93aa9e08"
      },
      "execution_count": null,
      "outputs": [
        {
          "output_type": "stream",
          "name": "stdout",
          "text": [
            "Cost:  0.24521519613811377\n",
            "Parameters:  [[ 0.22786768 -0.30761128]\n",
            " [-0.01338495  0.07010689]\n",
            " [-0.00496571  0.05560423]\n",
            " [-0.08604168  0.16192671]\n",
            " [-0.11054185 -0.03367718]\n",
            " [ 0.04048813 -0.07022645]\n",
            " [-0.14257807  0.01757742]\n",
            " [ 0.05306334 -0.17260838]\n",
            " [ 0.06535131  0.109001  ]\n",
            " [-0.30545414  0.48469584]\n",
            " [-0.25150381  0.13750209]\n",
            " [-0.101451    0.02030017]\n",
            " [-0.08026472  0.08564301]\n",
            " [ 0.19541269 -0.11776034]\n",
            " [ 0.07139129 -0.13262994]\n",
            " [-0.02759201 -0.08138656]\n",
            " [-0.19926657  0.03128378]\n",
            " [ 0.06206418  0.1195068 ]\n",
            " [ 0.83273995 -0.93060986]\n",
            " [-0.08262976 -0.0614814 ]\n",
            " [-0.02427434 -0.08175861]\n",
            " [ 0.01722933  0.00322149]\n",
            " [ 0.13915634  0.12024048]\n",
            " [ 0.02018462 -0.02417518]\n",
            " [ 0.04546876 -0.04810749]]\n",
            "Intercepto:  [[ 0.39562701 -0.39562701]]\n"
          ]
        }
      ]
    },
    {
      "cell_type": "code",
      "source": [
        "print(J_all)"
      ],
      "metadata": {
        "id": "idROj5bqPLSL",
        "colab": {
          "base_uri": "https://localhost:8080/"
        },
        "outputId": "072fc7b4-fb64-496d-e2fb-54cad73a0f69"
      },
      "execution_count": null,
      "outputs": [
        {
          "output_type": "stream",
          "name": "stdout",
          "text": [
            "[0.607920314004663, 0.5999614904160738, 0.5924944201066237, 0.5854808534462348, 0.5788856484195732, 0.5726765539453762, 0.5668239942413671, 0.5613008591887416, 0.5560823039734497, 0.551145560013999, 0.5464697582513396, 0.542035765205554, 0.5378260317362312, 0.5338244541287596, 0.5300162469275543, 0.5263878268184754, 0.5229267068026986, 0.5196213998853129, 0.5164613315107479, 0.5134367600041794, 0.510538704316383, 0.5077588784141877, 0.5050896317062833, 0.5025238949423227, 0.500055131070433, 0.49767729058346205, 0.495384770926898, 0.4931723795811042, 0.49103530046720606, 0.4889690633596164, 0.48696951601892924, 0.4850327987868489, 0.48315532141015854, 0.481333741883644, 0.4795649471225702, 0.4778460352939517, 0.4761742996526496, 0.47454721374343617, 0.4729624178437506, 0.4714177065340929, 0.4699110172939799, 0.46844042003125547, 0.46700410746142834, 0.46560038626167916, 0.4642276689313615, 0.4628844662972741, 0.4615693806077847, 0.4602810991651251, 0.45901838844988346, 0.45778008869596276, 0.4565651088781096, 0.4553724220775629, 0.4542010611944994, 0.45305011497875963, 0.4519187243528894, 0.45080607900383146, 0.44971141422168626, 0.4486340079658439, 0.44757317814050224, 0.446528280063134, 0.44549870411086967, 0.4444838735310437, 0.44348324240330755, 0.4424962937417675, 0.441522537726568, 0.4405615100552074, 0.4396127704046749, 0.4386759009962191, 0.43775050525521714, 0.43683620655922284, 0.43593264706781765, 0.4350394866283933, 0.4341564017524582, 0.43328308465747617, 0.43241924236963514, 0.4315645958832971, 0.4307188793732013, 0.4298818394557927, 0.42905323449632116, 0.4282328339586027, 0.4274204177945704, 0.42661577587095034, 0.42581870743059147, 0.42502902058616393, 0.4242465318440969, 0.42347106565678666, 0.4227024540012413, 0.42194053598245973, 0.421185157459963, 0.4204361706960031, 0.41969343402408127, 0.4189568115364976, 0.4182261727897448, 0.4175013925266356, 0.4167823504141342, 0.4160689307959231, 0.4153610224588111, 0.4146585184121378, 0.4139613156793924, 0.41326931510131415, 0.41258242114978627, 0.41190054175188523, 0.41122358812348353, 0.41055147461184494, 0.40988411854668644, 0.4092214400992145, 0.40856336214867345, 0.40790981015597416, 0.4072607120439956, 0.40661599808418036, 0.40597560078906525, 0.4053394548104117, 0.4047074968426224, 0.40407966553114627, 0.4034559013855932, 0.4028361466972999, 0.4022203454610981, 0.4016084433010539, 0.40100038739996285, 0.40039612643239336, 0.39979561050108603, 0.3991987910765288, 0.3986056209395335, 0.3980160541266566, 0.3974300458783082, 0.3968475525894078, 0.39626853176245225, 0.39569294196286514, 0.3951207427765127, 0.3945518947692659, 0.3939863594485068, 0.3934240992264757, 0.3928650773853628, 0.39230925804405553, 0.3917566061264549, 0.39120708733128007, 0.3906606681032865, 0.3901173156058233, 0.3895769976946619, 0.3890396828930336, 0.3885053403678118, 0.38797393990678364, 0.3874454518969539, 0.38691984730383205, 0.3863970976516512, 0.38587717500447305, 0.38536005194813605, 0.3848457015730023, 0.38433409745746705, 0.38382521365219097, 0.3833190246650199, 0.38281550544655957, 0.3823146313763729, 0.3818163782497684, 0.3813207222651527, 0.38082764001191977, 0.3803371084588487, 0.37984910494298924, 0.37936360715900874, 0.37888059314898, 0.378400041292588, 0.377921930297737, 0.3774462391915381, 0.37697294731165915, 0.37650203429802026, 0.37603348008481946, 0.37556726489287257, 0.37510336922225074, 0.3746417738452061, 0.37418245979936793, 0.3737254083811995, 0.37327060113970234, 0.37281801987035773, 0.37236764660929317, 0.37191946362766487, 0.37147345342624566, 0.3710295987302098, 0.3705878824841053, 0.3701482878470049, 0.36971079818782926, 0.3692753970808334, 0.36884206830124944, 0.3684107958210787, 0.3679815638050276, 0.36755435660657954, 0.3671291587641982, 0.3667059549976549, 0.3662847302044774, 0.3658654694565119, 0.3654481579965952, 0.36503278123533284, 0.3646193247479761, 0.3642077742713974, 0.3637981157011566, 0.36339033508865687, 0.36298441863838465, 0.3625803527052317, 0.3621781237918949, 0.3617777185463513, 0.3613791237594046, 0.36098232636230104, 0.36058731342441114, 0.3601940721509759, 0.3598025898809131, 0.3594128540846834, 0.3590248523622118, 0.35863857244086467, 0.35825400217347797, 0.35787112953643574, 0.35748994262779815, 0.35711042966547457, 0.35673257898544236, 0.3563563790400084, 0.35598181839611276, 0.3556088857336718, 0.3552375698439601, 0.3548678596280305, 0.35449974409516805, 0.35413321236138134, 0.353768253647925, 0.35340485727985604, 0.35304301268462096, 0.352682709390672, 0.352323937026115, 0.3519666853173829, 0.35161094408793864, 0.35125670325700226, 0.35090395283830594, 0.35055268293887226, 0.3502028837578167, 0.3498545455851736, 0.3495076588007444, 0.3491622138729684, 0.3488182013578133, 0.3484756118976879, 0.3481344362203732, 0.3477946651379748, 0.34745628954589136, 0.3471193004218042, 0.3467836888246829, 0.3464494458938083, 0.3461165628478131, 0.34578503098373803, 0.3454548416761042, 0.3451259863760011, 0.34479845661018893, 0.34447224398021675, 0.3441473401615543, 0.34382373690273715, 0.3435014260245268, 0.343180399419083, 0.34286064904914926, 0.3425421669472513, 0.3422249452149073, 0.3419089760218508, 0.3415942516052645, 0.34128076426902676, 0.34096850638296805, 0.3406574703821393, 0.34034764876609025, 0.3400390340981591, 0.33973161900477195, 0.33942539617475215, 0.33912035835863985, 0.33881649836802075, 0.3385138090748652, 0.3382122834108754, 0.33791191436684204, 0.33761269499201035, 0.33731461839345445, 0.33701767773545976, 0.33672186623891476, 0.3364271771807098, 0.3361336038931456, 0.3358411397633476, 0.3355497782326897, 0.3352595127962252, 0.3349703370021241, 0.33468224445112, 0.3343952287959619, 0.33410928374087445, 0.333824403041025, 0.3335405805019968, 0.33325780997926957, 0.3329760853777069, 0.3326954006510496, 0.3324157498014148, 0.33213712687880365, 0.33185952598061225, 0.33158294125115123, 0.331307366881169, 0.3310327971073835, 0.33075922621201714, 0.330486648522339, 0.33021505841021254, 0.3299444502916483, 0.3296748186263623, 0.3294061579173396, 0.3291384627104038, 0.32887172759379124, 0.3286059471977299, 0.328341116194024, 0.32807722929564365, 0.3278142812563186, 0.32755226687013794, 0.3272911809711533, 0.3270310184329879, 0.3267717741684493, 0.3265134431291474, 0.3262560203051163, 0.32599950072444106, 0.3257438794528889, 0.3254891515935442, 0.32523531228644753, 0.3249823567082406, 0.3247302800718126, 0.32447907762595307, 0.3242287446550076, 0.32397927647853714, 0.3237306684509825, 0.3234829159613312, 0.3232360144327897, 0.3229899593224577, 0.3227447461210072, 0.3225003703523653, 0.3222568275734001, 0.32201411337360997, 0.3217722233748173, 0.32153115323086473, 0.321290898627315, 0.32105145528115464, 0.3208128189405003, 0.3205749853843091, 0.3203379504220919, 0.3201017098936289, 0.3198662596686902, 0.31963159564675797, 0.31939771375675213, 0.31916460995675944, 0.318932280233765, 0.3187007206033872, 0.3184699271096152, 0.3182398958245496, 0.31801062284814585, 0.3177821043079603, 0.31755433635889924, 0.31732731518297086, 0.3171010369890396, 0.31687549801258247, 0.31665069451545025, 0.3164266227856287, 0.3162032791370039, 0.31598065990912966, 0.3157587614669976, 0.3155375802008093, 0.3153171125257516, 0.31509735488177393, 0.31487830373336756, 0.3146599555693482, 0.31444230690264025, 0.3142253542700632, 0.3140090942321213, 0.31379352337279437, 0.31357863829933097, 0.3133644356420446, 0.31315091205411144, 0.31293806421137005, 0.31272588881212365, 0.31251438257694425, 0.3123035422484789, 0.31209336459125764, 0.31188384639150446, 0.3116749844569488, 0.3114667756166407, 0.311259216720766, 0.31105230464046507, 0.3108460362676526, 0.31064040851483965, 0.3104354183149573, 0.31023106262118183, 0.3100273384067628, 0.30982424266485153, 0.3096217724083326, 0.3094199246696562, 0.3092186965006721, 0.3090180849724667, 0.30881808717520015, 0.30861870021794585, 0.30841992122853185, 0.30822174735338287, 0.3080241757573656, 0.3078272036236337, 0.3076308281534758, 0.3074350465661643, 0.30723985609880616, 0.3070452540061945, 0.3068512375606627, 0.3066578040519392, 0.30646495078700386, 0.30627267508994616, 0.30608097430182446, 0.30588984578052675, 0.3056992869006332, 0.305509295053279, 0.30531986764602, 0.30513100210269856, 0.3049426958633114, 0.3047549463838784, 0.3045677511363129, 0.30438110760829323, 0.30419501330313525, 0.3040094657396667, 0.3038244624521026, 0.3036400009899212, 0.30345607891774234, 0.303272693815206, 0.30308984327685257, 0.3029075249120042, 0.30272573634464706, 0.3025444752133151, 0.3023637391709749, 0.3021835258849114, 0.30200383303661454, 0.30182465832166805, 0.30164599944963816, 0.3014678541439636, 0.30129022014184764, 0.3011130951941495, 0.3009364770652786, 0.3007603635330883, 0.3005847523887716, 0.30040964143675747, 0.30023502849460854, 0.30006091139291896, 0.29988728797521413, 0.2997141560978512, 0.29954151362991965, 0.299369358453144, 0.29919768846178707, 0.29902650156255345, 0.29885579567449505, 0.2986855687289167, 0.29851581866928256, 0.2983465434511243, 0.29817774104194933, 0.2980094094211499, 0.2978415465799137, 0.2976741505211345, 0.29750721925932433, 0.29734075082052597, 0.2971747432422264, 0.2970091945732714, 0.29684410287378005, 0.29667946621506114, 0.2965152826795296, 0.2963515503606238, 0.2961882673627243, 0.2960254318010716, 0.2958630418016871, 0.29570109550129275, 0.29553959104723243, 0.2953785265973939, 0.29521790032013095, 0.2950577103941871, 0.2948979550086196, 0.2947386323627236, 0.29457974066595793, 0.2944212781378712, 0.29426324300802803, 0.2941056335159367, 0.2939484479109773, 0.29379168445233006, 0.2936353414089047, 0.29347941705927044, 0.2933239096915867, 0.293168817603534, 0.2930141391022459, 0.29285987250424117, 0.29270601613535707, 0.292552568330683, 0.2923995274344942, 0.2922468918001868, 0.29209465979021343, 0.2919428297760187, 0.2917914001379758, 0.2916403692653234, 0.29148973555610347, 0.2913394974170995, 0.29118965326377483, 0.2910402015202118, 0.29089114061905175, 0.2907424690014354, 0.29059418511694307, 0.29044628742353656, 0.2902987743875007, 0.29015164448338543, 0.290004896193949, 0.28985852801010087, 0.2897125384308459, 0.28956692596322814, 0.289421689122276, 0.28927682643094726, 0.2891323364200748, 0.28898821762831234, 0.2888444686020819, 0.2887010878955202, 0.288558074070426, 0.28841542569620865, 0.2882731413498363, 0.2881312196157845, 0.28798965908598534, 0.28784845835977774, 0.287707616043857, 0.2875671307522254, 0.28742700110614355, 0.2872872257340813, 0.2871478032716693, 0.28700873236165214, 0.2868700116538397, 0.28673163980506083, 0.2865936154791168, 0.28645593734673425, 0.2863186040855202, 0.28618161437991585, 0.2860449669211521, 0.2859086604072039, 0.2857726935427468, 0.2856370650391123, 0.28550177361424445, 0.2853668179926564, 0.28523219690538726, 0.2850979090899602, 0.28496395329033947, 0.2848303282568885, 0.2846970327463288, 0.2845640655216982, 0.2844314253523106, 0.2842991110137145, 0.2841671212876534, 0.284035454962026, 0.2839041108308456, 0.28377308769420206, 0.283642384358222, 0.2835119996350304, 0.28338193234271225, 0.28325218130527446, 0.2831227453526081, 0.28299362332045097, 0.28286481405035063, 0.282736316389627, 0.2826081291913364, 0.2824802513142349, 0.28235268162274246, 0.28222541898690745, 0.28209846228237057, 0.28197181039033026, 0.2818454621975079, 0.2817194165961125, 0.2815936724838074, 0.2814682287636751, 0.28134308434418437, 0.28121823813915603, 0.2810936890677304, 0.28096943605433333, 0.28084547802864435, 0.28072181392556356, 0.28059844268517964, 0.28047536325273764, 0.28035257457860757, 0.2802300756182524, 0.28010786533219717, 0.27998594268599747, 0.2798643066502093, 0.2797429562003581, 0.279621890316908, 0.27950110798523264, 0.2793806081955847, 0.27926038994306607, 0.279140452227599, 0.27902079405389624, 0.2789014144314326, 0.2787823123744161, 0.2786634869017587, 0.278544937037049, 0.2784266618085237, 0.27830866024903916, 0.27819093139604445, 0.2780734742915533, 0.27795628798211747, 0.27783937151879856, 0.2777227239571423, 0.27760634435715087, 0.2774902317832572, 0.2773743853042981, 0.2772588039934883, 0.27714348692839474, 0.27702843319091053, 0.27691364186722944, 0.27679911204782104, 0.2766848428274047, 0.2765708333049253, 0.27645708258352814, 0.2763435897705342, 0.2762303539774161, 0.27611737431977335, 0.27600464991730855, 0.27589217989380355, 0.2757799633770954, 0.2756679994990529, 0.2755562873955533, 0.27544482620645916, 0.2753336150755949, 0.2752226531507242, 0.27511193958352714, 0.2750014735295777, 0.27489125414832144, 0.27478128060305274, 0.2746715520608934, 0.2745620676927702, 0.27445282667339344, 0.274343828181235, 0.274235071398507, 0.27412655551114057, 0.27401827970876447, 0.2739102431846843, 0.27380244513586155, 0.27369488476289244, 0.27358756126998823, 0.2734804738649537, 0.27337362175916774, 0.2732670041675629, 0.2731606203086049, 0.27305446940427347, 0.27294855068004226, 0.27284286336485924, 0.2727374066911271, 0.27263217989468436, 0.2725271822147855, 0.2724224128940825, 0.2723178711786056, 0.2722135563177446, 0.2721094675642299, 0.2720056041741143, 0.27190196540675454, 0.2717985505247926, 0.27169535879413825, 0.2715923894839502, 0.2714896418666184, 0.2713871152177468, 0.271284808816135, 0.27118272194376075, 0.2710808538857629, 0.27097920393042363, 0.2708777713691514, 0.27077655549646407, 0.27067555560997136, 0.27057477101035865, 0.27047420100136965, 0.2703738448897901, 0.2702737019854311, 0.2701737716011126, 0.2700740530526473, 0.26997454565882434, 0.2698752487413929, 0.26977616162504686, 0.2696772836374084, 0.26957861410901207, 0.2694801523732896, 0.2693818977665541, 0.26928384962798446, 0.2691860072996103, 0.26908837012629616, 0.2689909374557269, 0.2688937086383922, 0.2687966830275718, 0.2686998599793207, 0.268603238852454, 0.26850681900853246, 0.2684105998118481, 0.26831458062940927, 0.26821876083092655, 0.2681231397887983, 0.26802771687809657, 0.26793249147655274, 0.26783746296454364, 0.2677426307250778, 0.267647994143781, 0.26755355260888297, 0.2674593055112038, 0.2673652522441398, 0.26727139220365076, 0.26717772478824536, 0.26708424939896935, 0.2669909654393908, 0.2668978723155882, 0.26680496943613624, 0.2667122562120935, 0.26661973205698963, 0.2665273963868118, 0.26643524861999274, 0.26634328817739716, 0.26625151448231027, 0.26615992696042406, 0.2660685250398257, 0.2659773081509849, 0.2658862757267413, 0.2657954272022928, 0.2657047620151831, 0.2656142796052896, 0.26552397941481126, 0.26543386088825727, 0.2653439234724344, 0.26525416661643597, 0.2651645897716295, 0.26507519239164545, 0.26498597393236567, 0.2648969338519117, 0.2648080716106333, 0.2647193866710974, 0.26463087849807654, 0.26454254655853787, 0.2644543903216314, 0.2643664092586801, 0.26427860284316773, 0.26419097055072804, 0.26410351185913467, 0.26401622624828947, 0.26392911320021206, 0.26384217219902945, 0.2637554027309646, 0.26366880428432665, 0.26358237634950005, 0.263496118418934, 0.26341002998713253, 0.2633241105506435, 0.26323835960804887, 0.2631527766599544, 0.26306736120897917, 0.26298211275974603, 0.2628970308188711, 0.26281211489495415, 0.26272736449856826, 0.2626427791422504, 0.2625583583404915, 0.2624741016097267, 0.2623900084683252, 0.26230607843658166, 0.2622223110367056, 0.2621387057928125, 0.2620552622309141, 0.26197197987890886, 0.26188885826657304, 0.26180589692555084, 0.2617230953893455, 0.26164045319331014, 0.2615579698746383, 0.2614756449723551, 0.26139347802730806, 0.26131146858215826, 0.26122961618137125, 0.2611479203712081, 0.2610663806997167, 0.26098499671672304, 0.2609037679738219, 0.2608226940243692, 0.2607417744234721, 0.26066100872798137, 0.2605803964964824, 0.26049993728928666, 0.26041963066842344, 0.26033947619763126, 0.26025947344234945, 0.26017962196971034, 0.26009992134853005, 0.2600203711493009, 0.2599409709441833, 0.25986172030699717, 0.25978261881321435, 0.2597036660399497, 0.25962486156595416, 0.2595462049716058, 0.25946769583890267, 0.25938933375145434, 0.25931111829447434, 0.25923304905477224, 0.25915512562074594, 0.2590773475823739, 0.2589997145312077, 0.2589222260603638, 0.25884488176451664, 0.25876768123989063, 0.25869062408425275, 0.2586137098969051, 0.2585369382786774, 0.25846030883191956, 0.2583838211604946, 0.2583074748697706, 0.25823126956661446, 0.25815520485938376, 0.2580792803579197, 0.25800349567354064, 0.25792785041903377, 0.25785234420864905, 0.2577769766580916, 0.25770174738451473, 0.25762665600651313, 0.2575517021441158, 0.25747688541877906, 0.2574022054533796, 0.25732766187220807, 0.25725325430096163, 0.2571789823667376, 0.25710484569802666, 0.2570308439247058, 0.25695697667803225, 0.25688324359063625, 0.2568096442965147, 0.25673617843102464, 0.25666284563087643, 0.2565896455341277, 0.2565165777801764, 0.2564436420097544, 0.25637083786492165, 0.25629816498905894, 0.2562256230268621, 0.2561532116243355, 0.2560809304287862, 0.25600877908881664, 0.25593675725431964, 0.25586486457647145, 0.25579310070772565, 0.2557214653018074, 0.2556499580137068, 0.2555785784996736, 0.2555073264172101, 0.25543620142506607, 0.2553652031832323, 0.25529433135293483, 0.2552235855966289, 0.2551529655779931, 0.2550824709619237, 0.2550121014145285, 0.2549418566031211, 0.2548717361962155, 0.25480173986351984, 0.25473186727593095, 0.2546621181055285, 0.2545924920255699, 0.2545229887104836, 0.2544536078358648, 0.2543843490784687, 0.2543152121162055, 0.25424619662813525, 0.25417730229446145, 0.2541085287965264, 0.25403987581680537, 0.2539713430389013, 0.25390293014753934, 0.25383463682856144, 0.2537664627689217, 0.2536984076566797, 0.2536304711809969, 0.2535626530321299, 0.25349495290142604, 0.2534273704813182, 0.2533599054653194, 0.2532925575480177, 0.2532253264250711, 0.2531582117932027, 0.25309121335019524, 0.25302433079488623, 0.25295756382716306, 0.2528909121479579, 0.25282437545924297, 0.2527579534640252, 0.2526916458663416, 0.2526254523712543, 0.2525593726848459, 0.2524934065142144, 0.2524275535674686, 0.25236181355372295, 0.2522961861830933, 0.25223067116669184, 0.25216526821662255, 0.25209997704597653, 0.2520347973688272, 0.2519697289002259, 0.2519047713561971, 0.25183992445373393, 0.2517751879107937, 0.251710561446293, 0.25164604478010394, 0.25158163763304886, 0.2515173397268965, 0.25145315078435704, 0.2513890705290782, 0.25132509868564074, 0.2512612349795536, 0.25119747913725055, 0.25113383088608493, 0.251070289954326, 0.25100685607115425, 0.25094352896665756, 0.2508803083718268, 0.2508171940185514, 0.2507541856396159, 0.25069128296869514, 0.25062848574035024, 0.2505657936900248, 0.25050320655404085, 0.25044072406959433, 0.2503783459747516, 0.25031607200844536, 0.25025390191047014, 0.2501918354214792, 0.2501298722829801, 0.2500680122373306, 0.2500062550277356, 0.24994460039824223, 0.2498830480937368, 0.24982159785994087, 0.24976024944340702, 0.24969900259151573, 0.24963785705247107, 0.24957681257529737, 0.24951586890983546, 0.24945502580673876, 0.24939428301746985, 0.24933364029429692, 0.24927309739028988, 0.24921265405931717, 0.24915231005604174, 0.249092065135918, 0.24903191905518773, 0.24897187157087738, 0.24891192244079358, 0.24885207142352073, 0.2487923182784169, 0.24873266276561068, 0.24867310464599762, 0.24861364368123717, 0.24855427963374896, 0.24849501226670975, 0.24843584134405022, 0.24837676663045136, 0.24831778789134135, 0.24825890489289265, 0.24820011740201817, 0.24814142518636872, 0.24808282801432918, 0.24802432565501617, 0.24796591787827393, 0.2479076044546722, 0.24784938515550248, 0.24779125975277497, 0.24773322801921613, 0.24767528972826477, 0.24761744465406976, 0.24755969257148686, 0.24750203325607534, 0.24744446648409574, 0.24738699203250622, 0.24732960967896028, 0.24727231920180334, 0.2472151203800704, 0.2471580129934826, 0.24710099682244502, 0.24704407164804318, 0.2469872372520409, 0.246930493416877, 0.246873839925663, 0.24681727656217992, 0.24676080311087603, 0.24670441935686369, 0.24664812508591705, 0.2465919200844691, 0.2465358041396093, 0.24647977703908056, 0.24642383857127717, 0.24636798852524158, 0.24631222669066238, 0.24625655285787135, 0.24620096681784115, 0.24614546836218273, 0.24609005728314273, 0.24603473337360107, 0.24597949642706848, 0.24592434623768417, 0.24586928260021298, 0.2458143053100434, 0.24575941416318486, 0.24570460895626575, 0.24564988948653027, 0.2455952555518369, 0.24554070695065558, 0.24548624348206557, 0.24543186494575298, 0.24537757114200853, 0.24532336187172546, 0.24526923693639685]\n"
          ]
        }
      ]
    },
    {
      "cell_type": "code",
      "source": [
        "perdida_por_epoca = np.array(J_all).reshape(-1,1)\n",
        "plt.plot(perdida_por_epoca)\n",
        "plt.show()"
      ],
      "metadata": {
        "id": "hvlLiqkyQOXF",
        "colab": {
          "base_uri": "https://localhost:8080/",
          "height": 430
        },
        "outputId": "77266dca-a558-46e1-daf7-115396d370d9"
      },
      "execution_count": null,
      "outputs": [
        {
          "output_type": "display_data",
          "data": {
            "text/plain": [
              "<Figure size 640x480 with 1 Axes>"
            ],
            "image/png": "[encoded data removed]"
          },
          "metadata": {}
        }
      ]
    },
    {
      "cell_type": "code",
      "source": [
        "# Las probabilidades que predecimos para cada fila de nuestros datos\n",
        "net(X_prob, W, B)"
      ],
      "metadata": {
        "id": "FhTSxna-NKqK",
        "colab": {
          "base_uri": "https://localhost:8080/"
        },
        "outputId": "7ea5e7d5-d062-49e6-a632-7c11c2af6e67"
      },
      "execution_count": null,
      "outputs": [
        {
          "output_type": "execute_result",
          "data": {
            "text/plain": [
              "array([[0.18683067, 0.81316933],\n",
              "       [0.17455308, 0.82544692],\n",
              "       [0.23215176, 0.76784824],\n",
              "       ...,\n",
              "       [0.124426  , 0.875574  ],\n",
              "       [0.15750406, 0.84249594],\n",
              "       [0.56414283, 0.43585717]])"
            ]
          },
          "metadata": {},
          "execution_count": 58
        }
      ]
    },
    {
      "cell_type": "code",
      "source": [
        "# La etiqueta verdadera de nuestros datos\n",
        "Y_prob"
      ],
      "metadata": {
        "id": "YYmxh4cRNKqL",
        "colab": {
          "base_uri": "https://localhost:8080/"
        },
        "outputId": "bc3c343a-17c3-4dc8-9f60-78cd0b52f401"
      },
      "execution_count": null,
      "outputs": [
        {
          "output_type": "execute_result",
          "data": {
            "text/plain": [
              "array([1, 1, 1, ..., 1, 1, 1])"
            ]
          },
          "metadata": {},
          "execution_count": 59
        }
      ]
    },
    {
      "cell_type": "code",
      "source": [
        "accuracy(net(X_prob, W, B),Y_prob)"
      ],
      "metadata": {
        "id": "ipkiKHVyNZ8y",
        "colab": {
          "base_uri": "https://localhost:8080/"
        },
        "outputId": "7f0cd506-2503-4b6b-cde0-4da4385a7a4c"
      },
      "execution_count": null,
      "outputs": [
        {
          "output_type": "execute_result",
          "data": {
            "text/plain": [
              "0.9166699616464354"
            ]
          },
          "metadata": {},
          "execution_count": 60
        }
      ]
    },
    {
      "cell_type": "markdown",
      "source": [
        "# SGD: Stochastic Gradient Descent\n",
        "\n",
        "En este caso, el algoritmo entrenara de modo un poco distinto, tomando muestras al azar de mis datos, dicha muestra será del tamaño que yo la pida."
      ],
      "metadata": {
        "id": "ABi5C3Kg4kkj"
      }
    },
    {
      "cell_type": "code",
      "source": [
        "batch_size = 200"
      ],
      "metadata": {
        "id": "t2x4Fyr16myj"
      },
      "execution_count": null,
      "outputs": []
    },
    {
      "cell_type": "code",
      "source": [
        "number_of_rows = X_prob.shape[0]  # En nuestro caso, son 50,000\n",
        "random_indices = np.random.choice(number_of_rows, size=batch_size, replace=False)\n",
        "X_prima = X_prob[random_indices, :].copy()"
      ],
      "metadata": {
        "id": "a1pc7Mns468G"
      },
      "execution_count": null,
      "outputs": []
    },
    {
      "cell_type": "code",
      "source": [
        "X_prima"
      ],
      "metadata": {
        "id": "mS-sbE2r8Oul",
        "colab": {
          "base_uri": "https://localhost:8080/"
        },
        "outputId": "c84b8e6c-2d18-49a5-a0fa-17471a9fefd5"
      },
      "execution_count": null,
      "outputs": [
        {
          "output_type": "execute_result",
          "data": {
            "text/plain": [
              "array([[-0.26132605,  0.04543163, -0.03433358, ..., -0.3853923 ,\n",
              "        -0.2533609 ,  0.5353925 ],\n",
              "       [-0.23858466, -0.25343491, -0.03433358, ..., -0.37803653,\n",
              "        -0.24925631,  0.04859342],\n",
              "       [ 0.06756482, -0.26227517, -0.03433358, ..., -0.38076577,\n",
              "        -0.25391315,  0.06193038],\n",
              "       ...,\n",
              "       [-0.26389351, -0.12457306, -0.03433358, ..., -0.38171568,\n",
              "        -0.25326385,  0.39135332],\n",
              "       [-0.25318931,  0.05714421, -0.03433358, ..., -0.23231955,\n",
              "        -0.16348827, -0.36618606],\n",
              "       [-0.25304908, -0.23067528, -0.03433358, ..., -0.3953675 ,\n",
              "        -0.25743198, -0.43420456]])"
            ]
          },
          "metadata": {},
          "execution_count": 63
        }
      ]
    },
    {
      "cell_type": "code",
      "source": [
        "Y_prima = Y_prob[random_indices].copy()"
      ],
      "metadata": {
        "id": "9hmnUV6W5aBQ"
      },
      "execution_count": null,
      "outputs": []
    },
    {
      "cell_type": "code",
      "source": [
        "Y_prima"
      ],
      "metadata": {
        "id": "uS3OZYk_8Sbv",
        "colab": {
          "base_uri": "https://localhost:8080/"
        },
        "outputId": "7ba07d34-73ed-4e58-cbbf-34a257542188"
      },
      "execution_count": null,
      "outputs": [
        {
          "output_type": "execute_result",
          "data": {
            "text/plain": [
              "array([1, 0, 0, 1, 1, 0, 0, 1, 1, 0, 1, 0, 0, 0, 1, 0, 1, 1, 0, 1, 0, 1,\n",
              "       0, 1, 1, 0, 1, 0, 1, 1, 1, 1, 0, 1, 0, 1, 0, 0, 1, 0, 0, 0, 0, 0,\n",
              "       0, 1, 0, 0, 0, 0, 0, 1, 1, 1, 0, 0, 0, 1, 1, 0, 1, 0, 1, 0, 0, 0,\n",
              "       0, 0, 0, 0, 1, 1, 0, 0, 0, 1, 0, 0, 0, 1, 1, 0, 0, 0, 0, 0, 0, 1,\n",
              "       0, 0, 0, 0, 1, 0, 0, 0, 1, 0, 0, 1, 1, 0, 0, 0, 0, 1, 1, 0, 1, 0,\n",
              "       0, 0, 1, 0, 0, 1, 1, 0, 1, 0, 1, 1, 1, 0, 1, 1, 1, 1, 0, 1, 0, 0,\n",
              "       1, 0, 0, 0, 0, 0, 0, 0, 1, 1, 0, 1, 0, 1, 0, 0, 1, 1, 1, 0, 0, 0,\n",
              "       0, 1, 0, 0, 0, 0, 0, 0, 1, 1, 0, 0, 0, 0, 0, 0, 0, 1, 0, 0, 0, 0,\n",
              "       1, 0, 1, 1, 0, 0, 1, 0, 0, 0, 0, 1, 0, 1, 1, 1, 0, 0, 1, 1, 0, 1,\n",
              "       1, 0])"
            ]
          },
          "metadata": {},
          "execution_count": 65
        }
      ]
    },
    {
      "cell_type": "code",
      "source": [
        "def batch_gradient_descent(x, y, w, b, net, batch_size, learning_rate=0.1, num_epochs=10):\n",
        "  m = x.shape[0]\n",
        "  J_all = []\n",
        "\n",
        "  for _ in range(num_epochs):\n",
        "    random_indices = np.random.choice(m, size=batch_size, replace=False)\n",
        "    x_batch = x[random_indices, :].copy()\n",
        "    y_batch = y[random_indices].copy()\n",
        "\n",
        "    y_probs = net_s(x_batch, w, b)\n",
        "    #y_hat = y_probs.argmax(axis=1)\n",
        "\n",
        "    gradient_w = grad_softmax_cross_entropy_for_w(x_batch,y_batch,w,b)\n",
        "    gradient_b = grad_softmax_cross_entropy_for_b(x_batch,y_batch,w,b)\n",
        "\n",
        "    #Actualizamos los paramentros\n",
        "    w = w - (learning_rate)*gradient_w\n",
        "    b = b - (learning_rate)*gradient_b\n",
        "\n",
        "    J_all.append(cross_entropy(y_probs, y_batch))\n",
        "\n",
        "  return J_all, w, b"
      ],
      "metadata": {
        "id": "wkEVafDv6zSS"
      },
      "execution_count": null,
      "outputs": []
    },
    {
      "cell_type": "code",
      "source": [
        "W = np.random.normal(0, 0.1, (num_inputs, num_outputs)) # Jugaremos con este parametro\n",
        "B = np.zeros(num_outputs) # Jugaremos con este parametro"
      ],
      "metadata": {
        "id": "tCHpmpEL76dJ"
      },
      "execution_count": null,
      "outputs": []
    },
    {
      "cell_type": "code",
      "source": [
        "learning_rate = 0.01\n",
        "num_epochs = 1000"
      ],
      "metadata": {
        "id": "577ys26F8ECc"
      },
      "execution_count": null,
      "outputs": []
    },
    {
      "cell_type": "code",
      "source": [
        "J_all, W, B = batch_gradient_descent(X_prob, Y_prob, W, B, net, batch_size, learning_rate, num_epochs)\n",
        "Y_hat = net(X_prob, W, B)\n",
        "J = cross_entropy(Y_hat, Y_prob)\n",
        "print(\"Cost: \", J)\n",
        "print(\"Parameters: \", W)\n",
        "print(\"Intercepto: \", B)"
      ],
      "metadata": {
        "id": "mI0orbzN8ECc",
        "colab": {
          "base_uri": "https://localhost:8080/"
        },
        "outputId": "8b23c97c-c709-46a3-c0a6-3ae5f617fd4d"
      },
      "execution_count": null,
      "outputs": [
        {
          "output_type": "stream",
          "name": "stdout",
          "text": [
            "Cost:  0.24699192508028464\n",
            "Parameters:  [[ 0.36792775 -0.11418736]\n",
            " [-0.00260185  0.08088264]\n",
            " [-0.02202015  0.08638321]\n",
            " [-0.16875288  0.14694031]\n",
            " [-0.04349239  0.14393833]\n",
            " [ 0.03964508 -0.07411707]\n",
            " [-0.00619895  0.08669318]\n",
            " [ 0.21674074 -0.09639134]\n",
            " [-0.09319954 -0.02112607]\n",
            " [-0.33342868  0.39109991]\n",
            " [-0.10404543  0.13604017]\n",
            " [-0.14528143 -0.08272081]\n",
            " [-0.01868538  0.17235437]\n",
            " [ 0.10761031 -0.12440231]\n",
            " [ 0.0919415  -0.05112602]\n",
            " [-0.07727264 -0.01620426]\n",
            " [-0.05993008  0.07100935]\n",
            " [ 0.01767912  0.06489971]\n",
            " [ 0.92839595 -0.81751302]\n",
            " [ 0.0407989   0.17228846]\n",
            " [ 0.02318545 -0.06559132]\n",
            " [ 0.1803565  -0.04602344]\n",
            " [-0.0274646   0.02379493]\n",
            " [-0.06048355  0.04252887]\n",
            " [ 0.00892161 -0.17266957]]\n",
            "Intercepto:  [[ 0.40247672 -0.40247672]]\n"
          ]
        }
      ]
    },
    {
      "cell_type": "code",
      "source": [
        "print(J_all)"
      ],
      "metadata": {
        "id": "FM4kNcrD8ECd",
        "colab": {
          "base_uri": "https://localhost:8080/"
        },
        "outputId": "bcde8699-7847-434d-8baf-9781bb38a42e"
      },
      "execution_count": null,
      "outputs": [
        {
          "output_type": "stream",
          "name": "stdout",
          "text": [
            "[1.0537248174465728, 1.0839307629731212, 1.0803376225519958, 1.0227489249988428, 0.9904257499358604, 0.9532362990977071, 0.9119247443733627, 0.8907588434466414, 0.8454060405864888, 0.8184507740312671, 0.8340394224543011, 0.8274637501865381, 0.7978853599008766, 0.7552812140772974, 0.7813015011045068, 0.7286971903398731, 0.7344619424037291, 0.72641536339293, 0.7190000045693773, 0.6982376839253905, 0.7122923656237055, 0.680230326625233, 0.6687477024884305, 0.6492480977275352, 0.6674700711642815, 0.6316168330493014, 0.6408961431888335, 0.6092651363293233, 0.6189643526156163, 0.6358410804504753, 0.6053696806071313, 0.6063987833052105, 0.611754686527152, 0.592632338718132, 0.6026461044004141, 0.6038255840495469, 0.5851375335261255, 0.5536146282787058, 0.5610932111274122, 0.610556480323154, 0.5621467240044855, 0.5432003403675751, 0.5416400022976678, 0.5291171942977753, 0.5550526639259391, 0.5542103444807248, 0.5294980104994653, 0.5575640308617847, 0.5166857725308168, 0.5202618113728117, 0.5430769523817317, 0.5537278101089121, 0.5128457241362908, 0.5116966446944635, 0.5235657611310629, 0.5492329792289968, 0.5124324192379026, 0.5390686411480067, 0.5288992861208685, 0.5506659952427633, 0.5028167068645595, 0.45953550684444067, 0.5134649389172665, 0.49379452585709777, 0.4981493005653455, 0.48722288189648005, 0.49705799198973305, 0.5268357907236028, 0.48987281282927575, 0.53657303413016, 0.512071273459543, 0.506862987884174, 0.4695502610423492, 0.5040358861692865, 0.49683713357833625, 0.4982400374154525, 0.4920105293739806, 0.4711958315515371, 0.4803575057914915, 0.47831468593357485, 0.519351281709059, 0.4969205762937507, 0.4938542296635461, 0.46614851729300183, 0.4858362154705712, 0.43616320156920074, 0.4779527775641149, 0.4585231998507527, 0.4852083351892331, 0.4697014558533988, 0.4533127143135263, 0.4969618213370638, 0.48899352810890434, 0.426788148564967, 0.45545546075152565, 0.4862127494235058, 0.4741668960970015, 0.4207674562896362, 0.5126203782931414, 0.5193276930328714, 0.5206537264970212, 0.45524926179797104, 0.4789127078232662, 0.49276725794413145, 0.439042252193759, 0.4509759907957313, 0.492438406071156, 0.45772986846372743, 0.4799605886612385, 0.45347313996820476, 0.4743831530459594, 0.4184340693933079, 0.4271911641562411, 0.45516735088683397, 0.42627423425362343, 0.4322534878285253, 0.4233427542822521, 0.4842841984185641, 0.44224190320764734, 0.4346939577347488, 0.4196924628791158, 0.4541698294634587, 0.4181505181469686, 0.42888634386975627, 0.4389452186574603, 0.3794539782938196, 0.461308202934896, 0.4310049508748213, 0.4431168004261808, 0.47066636545634, 0.4495585514156215, 0.40705420217864696, 0.42261965604894836, 0.40273340474400704, 0.3798838016044982, 0.40914896717307264, 0.40938233199242985, 0.4184963578150548, 0.42775484971040123, 0.3916528098106882, 0.399825884659664, 0.40132278598894133, 0.43083098814467463, 0.3886198209127189, 0.43217416716717894, 0.4395844576853795, 0.44661952344397504, 0.4041636075730214, 0.35887172632838016, 0.41987579893284294, 0.42700132433483806, 0.41471596957863177, 0.44945706678893704, 0.41523566678184265, 0.4446009296582191, 0.40633092034293383, 0.42901983355482687, 0.4364079492994552, 0.36399585043785776, 0.36665594064714196, 0.3887589132408149, 0.36764934450005143, 0.40750741333986384, 0.4108969017950044, 0.3954342699252198, 0.426390740251846, 0.4416346775261232, 0.3460645281276868, 0.3715215779507136, 0.4048296986898354, 0.359356207952964, 0.4298247292050291, 0.3392649191879765, 0.41530052703243103, 0.40649782729236766, 0.42844650537441753, 0.48524257268232884, 0.36378617456047424, 0.4025140678164243, 0.3945520094265045, 0.3828440945579053, 0.38936664451886754, 0.42121823340723114, 0.40282583819996537, 0.3540323501065724, 0.4266017983741719, 0.4090983611253134, 0.3872359453494218, 0.44156456964969953, 0.38098254839502815, 0.3721490513036446, 0.36249186277482537, 0.38587763555200766, 0.34251461770736796, 0.3651111453896633, 0.37438290336630303, 0.4626693335508719, 0.34760332679997563, 0.3987249933216937, 0.3711816166892356, 0.38229826181207455, 0.39081519327007136, 0.38339309698721763, 0.440963997308111, 0.32909615856074426, 0.3860640318076911, 0.37620541695584786, 0.3894134088986355, 0.34961235547631114, 0.3593723455012687, 0.4247973684039556, 0.36102857869394067, 0.36929787565370026, 0.3551051931459167, 0.3681194284680375, 0.38876694317064553, 0.39517489339682044, 0.3658156082432541, 0.3923732233239475, 0.3897854211189835, 0.41041197022821513, 0.35070818259627246, 0.39599444635615605, 0.3613148831620992, 0.34706868699679533, 0.3381468131974239, 0.4001541842834612, 0.3099790946307029, 0.4275501427403603, 0.3654971499061196, 0.3477775150350987, 0.3538464598607037, 0.3969822904632029, 0.32861354663486414, 0.34087680329049347, 0.31116968456210997, 0.38822561854405746, 0.31421124800039574, 0.39644516117657846, 0.36482879455441647, 0.3325558516119074, 0.38111102429893196, 0.3655289507892941, 0.3564322373784178, 0.3584225243421734, 0.318673011130335, 0.36019398374594025, 0.34960716092354166, 0.3625734571105938, 0.3541424074411361, 0.343777412889995, 0.36719871648305075, 0.3198627779289085, 0.3684534090240812, 0.340436377503574, 0.3140779085110246, 0.3548383406443271, 0.3598548977610217, 0.3634660780352318, 0.38455249885525716, 0.3058218281018015, 0.3535135777615917, 0.3637167313026615, 0.3435034753775341, 0.31101874238522864, 0.39138660261390557, 0.3881547171080338, 0.3602064565680861, 0.3463762789294265, 0.3822148393883635, 0.3772019696588647, 0.32369257065547186, 0.3733878261098819, 0.363443656965554, 0.3343968624160386, 0.3667809067070622, 0.36378431121847066, 0.34928860579442966, 0.36845394193990544, 0.31374565240585195, 0.35806127014493483, 0.38521689580835855, 0.3394947238373375, 0.3924986703329989, 0.3163876573224372, 0.33749611456745443, 0.32981558488726387, 0.2978158231466622, 0.37508406206501876, 0.3837650946314301, 0.3686713063310013, 0.3669037535710015, 0.35589950781547736, 0.3706793926583413, 0.3431607394568056, 0.37319647462998623, 0.32831001178134345, 0.27832007650042867, 0.3300861248155165, 0.33860938865795426, 0.3201781701129931, 0.36110556715055503, 0.29652050200877245, 0.29522805364134597, 0.34301057490654185, 0.3459161771597891, 0.33764650575384947, 0.33787410866592943, 0.3348624092279124, 0.3454726187716107, 0.34671749291287524, 0.34212868345231934, 0.34094603129226203, 0.33333237806968263, 0.32648833050965825, 0.3226406876605855, 0.31091059165266544, 0.3335170070018886, 0.3569601672584403, 0.33525552366293965, 0.33541366029582675, 0.3376462278831836, 0.31269885796619945, 0.320525956717327, 0.3785551793158518, 0.29135714151383757, 0.35471799611221594, 0.27801274872645654, 0.33461793448834554, 0.3609804728715805, 0.3234336266343291, 0.31977985710310297, 0.3279951740589839, 0.33725618418660275, 0.35442194431363633, 0.30178627499418836, 0.31332795735255725, 0.3088056411659889, 0.31080635537284845, 0.3560939356102048, 0.32466748927823247, 0.32271742054760183, 0.36287111857320853, 0.3285400985072143, 0.3360870998230887, 0.3018308185015092, 0.33843048568423806, 0.2949384657341981, 0.3431518867654812, 0.31776243434831075, 0.3280905100822622, 0.3151359968439608, 0.2922903599258753, 0.2984175410100469, 0.2856647344714053, 0.3312295829080081, 0.30677218702227527, 0.29709514989388325, 0.326713670857643, 0.3296836545031242, 0.32551205908419206, 0.3179862548317158, 0.3568835727854714, 0.3127218072184771, 0.3224494157737359, 0.3274537290979266, 0.3065942962963325, 0.32696113341329436, 0.3358503686189752, 0.2756000529293545, 0.3342191189094416, 0.3067176627947185, 0.3040173559789038, 0.34777873737232684, 0.28194333074620087, 0.3744496869939436, 0.32592070943320306, 0.32688490406250603, 0.3252734026435003, 0.31487348602810467, 0.3725045775806275, 0.27306674114407936, 0.34108772231507895, 0.3153550113974485, 0.3460119275882236, 0.2717680158211751, 0.3417788009677999, 0.306747731355371, 0.2846986330251088, 0.2902945351980253, 0.3190135182531777, 0.29356009256780036, 0.33592680748580916, 0.3209643929700819, 0.3120704800515898, 0.345484201187451, 0.3051864571364439, 0.34435502068989754, 0.32725397697956526, 0.2795868419438031, 0.3146222822147986, 0.30631530139683916, 0.34362178654816206, 0.33416697813477986, 0.32541430059442916, 0.2930776196540489, 0.3442901158779902, 0.297997061288413, 0.2552913330525999, 0.2998588655983023, 0.2699616068308198, 0.2641444811874492, 0.2953192771686043, 0.32753835744038057, 0.3063888749807765, 0.3032043869559359, 0.3180265525305728, 0.27513638751071373, 0.3079305767083905, 0.3372336275929693, 0.3300363785923436, 0.33608808124606043, 0.26188457409299765, 0.31758469359525066, 0.29171380758827625, 0.32636525386676807, 0.3039664068989836, 0.3838779795446672, 0.32115983125124686, 0.279645251733717, 0.3014590671469029, 0.32625601790806624, 0.3094055658528932, 0.3157154503535671, 0.3237726834175622, 0.28107425990995644, 0.369132444706603, 0.30600982001515886, 0.2720799890317883, 0.2783494595738894, 0.3120752857206856, 0.3335830582993944, 0.3442365577037879, 0.310348208243439, 0.28617188228960816, 0.29369186343942866, 0.23371119181779704, 0.30894650583747946, 0.300430420907311, 0.2733271432308539, 0.3666799334531506, 0.28111366897731, 0.280603034591483, 0.2839825504353967, 0.3273423866196989, 0.2907102798281147, 0.2807797487050234, 0.2392902141946383, 0.29147670002242765, 0.3220403984500425, 0.33469026692374726, 0.3211704934104684, 0.353956231369517, 0.29739598008603224, 0.2985551758101886, 0.322184320126138, 0.28492284451614014, 0.33649234365237435, 0.29519560685641616, 0.29051253735916566, 0.3020800819920871, 0.25074691095753926, 0.3075705817199865, 0.28345375997981115, 0.30876783409107966, 0.3388695064754545, 0.3174021553027586, 0.30935817449350006, 0.28812640380635157, 0.29448248886660816, 0.2860169626417739, 0.3122840779204392, 0.284821179204523, 0.2813850452644735, 0.2595632521543102, 0.33603195661416124, 0.27189473203639075, 0.2759386869319688, 0.284550776220309, 0.30965097283557375, 0.27977730246173593, 0.2693980299311443, 0.2344742139010164, 0.2905465391462444, 0.30538701189106077, 0.2726094915237723, 0.27931036072111176, 0.29535412388613147, 0.2877278400199884, 0.3066772875657228, 0.30682570388382613, 0.32415568949840984, 0.2937817587806774, 0.29781878681200624, 0.3261087086469911, 0.2466483937040344, 0.3334452857735052, 0.3219505721252821, 0.2653604502104671, 0.28459417387816766, 0.31273326987030664, 0.25898898845193064, 0.30166899931648294, 0.3078519981557584, 0.2906692384725873, 0.24972167535643344, 0.2792526760353719, 0.3328188858920565, 0.2585578917590186, 0.2815728956071695, 0.29766096043187157, 0.27289241432463085, 0.2901271630558672, 0.28854612010561037, 0.2751897888693494, 0.29767104947915124, 0.28460671288824374, 0.2940638036007314, 0.25527122122724266, 0.2436131860232476, 0.3147931772622372, 0.2944204751419259, 0.28235918857505427, 0.3009684428291451, 0.2796471117984417, 0.3047862635431512, 0.24106803141548727, 0.25595161147835, 0.3032345394937794, 0.2674716339551071, 0.29801197769089177, 0.2569396403023934, 0.3027209113643588, 0.30125400959122106, 0.24526548602807186, 0.2651732194861032, 0.2908543858578179, 0.2855117785907172, 0.27517769740245174, 0.25963672842415286, 0.27539488238834237, 0.30185317926579686, 0.28500209546857375, 0.27288110241996366, 0.2615187272996902, 0.27222605810835104, 0.2735899850503193, 0.2680755845642623, 0.28488091754478095, 0.26699691095710976, 0.2791343726426854, 0.31779698387450567, 0.271559591421868, 0.3071199533927493, 0.29791255195407396, 0.3572270610670525, 0.2533895357132262, 0.27489584923596744, 0.25609498171186074, 0.27666277625296964, 0.27524878082326615, 0.3280470393765064, 0.2916291118615852, 0.30142034510630233, 0.29469988154722937, 0.2510374345562514, 0.2612166826523887, 0.27398411940282236, 0.2957464931695453, 0.2673212150159947, 0.30390312138472453, 0.2894016425353881, 0.3242873208581048, 0.22662051178756554, 0.2450388572450594, 0.26122725379276307, 0.2803706140991103, 0.2610233060921789, 0.2960033516376618, 0.23675866900188422, 0.2619358815991761, 0.2509755817097491, 0.2695893817483285, 0.2548035649649959, 0.303318764955401, 0.2825297954547252, 0.2934578668261097, 0.3330557471560539, 0.2912720968241207, 0.29094952145325204, 0.2898271995141252, 0.28797764665014974, 0.2768476172606119, 0.2560705543820419, 0.27547577880972546, 0.28600336172581164, 0.2806216060523086, 0.30111307218910494, 0.23583078487100045, 0.3240053659954026, 0.2666650053952718, 0.30671406467753326, 0.31731823252171837, 0.30010297236993777, 0.3635969158105094, 0.3059291203669804, 0.26915670876160463, 0.2644814585589681, 0.3090246702197997, 0.26387714792789246, 0.2924523487193814, 0.24109131503220405, 0.3104380152747686, 0.25086329643460153, 0.30741368743479947, 0.24009690194440103, 0.288117003594249, 0.25189525000855445, 0.26554298956024164, 0.28297316884285534, 0.29014924815801274, 0.24335194912634187, 0.2562134818466756, 0.25265333386898897, 0.24801290763292413, 0.29253981776785204, 0.2664091211375613, 0.24914620503814475, 0.2732389244304553, 0.2533813912069178, 0.2742935532707355, 0.27182203997182647, 0.27761481444604424, 0.2865505636780192, 0.2977623046305105, 0.26992893864348183, 0.246939438261706, 0.2547347689472823, 0.26046411285869175, 0.2719360223422, 0.2884618140116943, 0.2834400875313721, 0.29053711290762907, 0.30603552476811907, 0.2576119324401834, 0.2689359963915809, 0.23206492139932458, 0.2556449689868505, 0.2742979680689156, 0.2982487874491005, 0.2451015358175488, 0.30442186566522494, 0.2651399477011893, 0.26041997859545857, 0.27125941810792653, 0.2655618772487287, 0.28620074798812645, 0.2875153351826704, 0.2952495406714444, 0.24991265903146043, 0.2590039793416868, 0.2382788561969296, 0.2567498698005774, 0.26781549011938105, 0.271509608641631, 0.2342366966246575, 0.26004797990273076, 0.24485032900186854, 0.2797971461164963, 0.3238721840716042, 0.2812772885997048, 0.2823300990565913, 0.23444490614587898, 0.26864333327193685, 0.27690912454184885, 0.2548771221710605, 0.29364777236424555, 0.22727987546548942, 0.2588554119769858, 0.2651861215505873, 0.2554107291012579, 0.2821778127126613, 0.2668554919246661, 0.3015946213670165, 0.27946117133605786, 0.3273934476996026, 0.248369214954998, 0.271676594487275, 0.2785007723463691, 0.28858721381039104, 0.24204158450564456, 0.25439606103055107, 0.2561469203993644, 0.2834749259957195, 0.2896528938314061, 0.2654993834535183, 0.3032628302124245, 0.2846809117560916, 0.28207557603992217, 0.28329853920914166, 0.25836531226633236, 0.20402588827989596, 0.2738807326235097, 0.28799398979062274, 0.2645431651337863, 0.2298114497836879, 0.30452367456837065, 0.2866731606214035, 0.22921956954146425, 0.24743116065107132, 0.3082473194358442, 0.32242090891045566, 0.29772796490217274, 0.25881618274594237, 0.2632754262263542, 0.2531104094706701, 0.27429936254985593, 0.3282233583432901, 0.28953998500832745, 0.3011521219271522, 0.24532749682976435, 0.2433539388641177, 0.28502953259262276, 0.3008149973930787, 0.20204932766826264, 0.22267982313492587, 0.26221937058028305, 0.2850190139125122, 0.22985895840616513, 0.24056071888231143, 0.265145216516401, 0.24992512660074936, 0.26695360655223654, 0.2926391553181609, 0.27280714061037287, 0.25391697500777677, 0.27039457737215494, 0.269230209917043, 0.2638619107768579, 0.2662770843379395, 0.2536455369992266, 0.2729737845963821, 0.23291684543366784, 0.2618102022827637, 0.2406148095313986, 0.2498285806763378, 0.26269455387486085, 0.2265569636282194, 0.2746252768855026, 0.25742634890829375, 0.2909563683546535, 0.2793058195968816, 0.23638650082611826, 0.25282082482736, 0.3046780820556427, 0.24828734135079547, 0.28890382541492576, 0.23189275612035443, 0.25349097673176746, 0.25507919693213527, 0.22729039317483823, 0.3229252991273489, 0.25075355341930045, 0.2628532652230308, 0.2867580908779729, 0.2790758921860177, 0.3054272169836008, 0.31807239333148, 0.2584981301312303, 0.2153509068423387, 0.2442554422237118, 0.22733627591699737, 0.27585021365437834, 0.28952662599223816, 0.28062510652578215, 0.2579556171322481, 0.26953450891645625, 0.24158838055727777, 0.26760510666863924, 0.24043957254768064, 0.2688940730996465, 0.2490198579964674, 0.308936308940857, 0.2900192848165867, 0.24879614969507335, 0.2687667945934183, 0.2597710585118241, 0.26374289877929125, 0.2591473004625374, 0.26246514642786334, 0.2824496224700556, 0.2435719202942096, 0.2402983489211903, 0.2223180840838885, 0.2583551930089958, 0.22266285437968011, 0.25189263902744424, 0.24587711572958626, 0.23745165489563433, 0.2808847907565471, 0.25127530689456373, 0.28257318902119555, 0.23745796189417118, 0.24793893243371323, 0.26243352615141646, 0.2758855769078859, 0.22415146809818226, 0.24934437899912454, 0.2940948984957911, 0.25120771887413396, 0.26848645563003115, 0.29171919310724326, 0.22401299546182143, 0.2750508095923332, 0.2658749689787287, 0.25972421110906363, 0.2606980704205482, 0.24605030378842066, 0.24393254247587698, 0.2705690423575647, 0.2872584695382907, 0.25411250232526955, 0.2697771825561634, 0.2928479923899915, 0.23541856660925822, 0.260726594627145, 0.33579843133366594, 0.2817682332128301, 0.2644308681092939, 0.32840408423815093, 0.23548014532120007, 0.28838514024334366, 0.2669605058073501, 0.22632207019356954, 0.2757670762600523, 0.3134767677525104, 0.2774893532857609, 0.2694298343868047, 0.2905072474480777, 0.24255055801910064, 0.26159328230558926, 0.2387292451411269, 0.24623657112120206, 0.28081395908847306, 0.24450615441971174, 0.2494112100657864, 0.23452610944937938, 0.24636402565756946, 0.23112766165466286, 0.27218981377165546, 0.22710033349045738, 0.30245609452547756, 0.2661596562215604, 0.2770485958120609, 0.2209161520420916, 0.3253626675707808, 0.26171758538822276, 0.22550383821855988, 0.25151128566516, 0.2440491947430784, 0.256795031429351, 0.24840220300436797, 0.22765994732698944, 0.25644182376382063, 0.2808062639028091, 0.25921324098692206, 0.2805667935650229, 0.24111693688872754, 0.31266840713188493, 0.23889080321638645, 0.2609733611404574, 0.2353048796307367, 0.2328850224853002, 0.2675480403132892, 0.24865400623627643, 0.2712620177044698, 0.28852727964788544, 0.2424482992792865, 0.2640027503151603, 0.24091566196439987, 0.20404988120612258, 0.29202064503838626, 0.22475768044869882, 0.2862882378727647, 0.2519137786905982, 0.2547259622862267, 0.2814660081255267, 0.22072743424771127, 0.2636245874261149, 0.25813781382628204, 0.25137198647403763, 0.29401816274528686, 0.2521417101321337, 0.25261334148914427, 0.26102137013436966, 0.23483207117467003, 0.24426620452521322, 0.2641130541585157, 0.22866278838631607, 0.24469821445677106, 0.2205019488007388, 0.28363594450620644, 0.24694206469898716, 0.2746147257601901, 0.2614586854976942, 0.24782647709980818, 0.23351624310818672, 0.25601136477042014, 0.2940499488513857, 0.23401206419391038, 0.20359502301867308, 0.2563869569814526, 0.2666075664662156, 0.22560024028932738, 0.23879852215920822, 0.25403775899574926, 0.20256531855249954, 0.26361923718560865, 0.2754521952493467, 0.21724606304733363, 0.33602440220485247, 0.22671365592489173, 0.2783975832716167, 0.2336727237710272, 0.25383676119744075, 0.23564799045294077, 0.23971622537752374, 0.2508471249510375, 0.20909472477923022, 0.2881300453483484, 0.24022886734560217, 0.25356059177507395, 0.27021960585815175, 0.22469559597927052, 0.2586786033203034, 0.21181415611251836, 0.21542387596746645, 0.2310478309525744, 0.27339431835015626, 0.2616882690842754, 0.2583894234410514, 0.22242708953662219, 0.24613170089936923, 0.23036578934052404, 0.27986184805397907, 0.214562679406787, 0.2452051585646122, 0.25372708919638576, 0.22244293049580569, 0.2726530887721794, 0.25871929627379325, 0.23986647124143606, 0.27534080238977926, 0.25912635774969645, 0.20620871573421382, 0.24709129923848144, 0.2734683557075273, 0.2759773309978764, 0.2642281922237915, 0.23839896324155022, 0.23109142008082603, 0.2524819965200729, 0.2539588024184611, 0.2147699924946992, 0.24730730860727212, 0.24508596755514078, 0.24652184486958034, 0.266941370827886, 0.24115365030043276, 0.22996540275324365, 0.24662006872193706, 0.2618352781333352, 0.21330052848885286, 0.2404608547515015, 0.22846137642845699, 0.24441029030065706, 0.2686063085743504, 0.25318693913040297, 0.2894007126278767, 0.2334892220614721, 0.263556479384838, 0.24572775118078907, 0.23638942918288502, 0.2304862296940989, 0.26613924351855234, 0.2835843073994378, 0.2829266019236383, 0.32602711951600094, 0.23119452218037032, 0.2437015187501865]\n"
          ]
        }
      ]
    },
    {
      "cell_type": "code",
      "source": [
        "perdida_por_epoca = np.array(J_all).reshape(-1,1)\n",
        "plt.plot(perdida_por_epoca)\n",
        "plt.show()"
      ],
      "metadata": {
        "id": "B7WbR8pv8ECd",
        "colab": {
          "base_uri": "https://localhost:8080/",
          "height": 430
        },
        "outputId": "8924ae65-f658-4724-a84d-c93471d6f1ac"
      },
      "execution_count": null,
      "outputs": [
        {
          "output_type": "display_data",
          "data": {
            "text/plain": [
              "<Figure size 640x480 with 1 Axes>"
            ],
            "image/png": "[encoded data removed]"
          },
          "metadata": {}
        }
      ]
    },
    {
      "cell_type": "code",
      "source": [
        "# Las probabilidades que predecimos para cada fila de nuestros datos\n",
        "net(X_prob, W, B)"
      ],
      "metadata": {
        "id": "kLhi1JnF8ECd",
        "colab": {
          "base_uri": "https://localhost:8080/"
        },
        "outputId": "01983e16-2022-4176-81d5-e896811f680c"
      },
      "execution_count": null,
      "outputs": [
        {
          "output_type": "execute_result",
          "data": {
            "text/plain": [
              "array([[0.15693163, 0.84306837],\n",
              "       [0.21453157, 0.78546843],\n",
              "       [0.25298833, 0.74701167],\n",
              "       ...,\n",
              "       [0.14573211, 0.85426789],\n",
              "       [0.17266361, 0.82733639],\n",
              "       [0.54168603, 0.45831397]])"
            ]
          },
          "metadata": {},
          "execution_count": 74
        }
      ]
    },
    {
      "cell_type": "code",
      "source": [
        "# La etiqueta verdadera de nuestros datos\n",
        "Y_prob"
      ],
      "metadata": {
        "id": "nQu21Iv_8ECd",
        "colab": {
          "base_uri": "https://localhost:8080/"
        },
        "outputId": "4b30fcc8-060a-4255-dfe6-5dfa10a4b859"
      },
      "execution_count": null,
      "outputs": [
        {
          "output_type": "execute_result",
          "data": {
            "text/plain": [
              "array([1, 1, 1, ..., 1, 1, 1])"
            ]
          },
          "metadata": {},
          "execution_count": 75
        }
      ]
    },
    {
      "cell_type": "code",
      "source": [
        "accuracy(net(X_prob, W, B),Y_prob)"
      ],
      "metadata": {
        "id": "8jsZGmHu8ECd",
        "colab": {
          "base_uri": "https://localhost:8080/"
        },
        "outputId": "3a99cf65-c8ab-4b40-dc3d-20d32cbe8a80"
      },
      "execution_count": null,
      "outputs": [
        {
          "output_type": "execute_result",
          "data": {
            "text/plain": [
              "0.9178759242418252"
            ]
          },
          "metadata": {},
          "execution_count": 76
        }
      ]
    }
  ]
}