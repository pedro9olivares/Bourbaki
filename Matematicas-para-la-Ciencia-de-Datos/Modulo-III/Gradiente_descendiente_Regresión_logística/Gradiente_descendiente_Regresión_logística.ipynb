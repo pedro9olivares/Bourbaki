{
  "cells": [
    {
      "cell_type": "markdown",
      "metadata": {
        "colab_type": "text",
        "id": "view-in-github"
      },
      "source": [
        "<a href=\"https://colab.research.google.com/github/anelglvz/Matematicas_Ciencia_Datos/blob/main/Optimizaci%C3%B3n/GradienteDescendiente_Regresi%C3%B3nLog%C3%ADstica/GradienteDescendiente_Regresi%C3%B3nLog%C3%ADstica.ipynb\" target=\"_parent\"><img src=\"https://colab.research.google.com/assets/colab-badge.svg\" alt=\"Open In Colab\"/></a>"
      ]
    },
    {
      "cell_type": "markdown",
      "metadata": {
        "id": "4oifWcjIiD7g"
      },
      "source": [
        "# Introducción\n",
        "\n",
        "Se verá como funciona el algoritmo de Gradiente Descendiente aplicado a una regresión logística que asignará probabilidades de ser HFT o no."
      ]
    },
    {
      "cell_type": "markdown",
      "metadata": {},
      "source": [
        "<img src='gd.jpeg' height='300'>"
      ]
    },
    {
      "cell_type": "markdown",
      "metadata": {
        "id": "Nyex2mbhUAYd"
      },
      "source": [
        "# Dependencias"
      ]
    },
    {
      "cell_type": "code",
      "execution_count": 1,
      "metadata": {
        "id": "PBpjrBycDrRq"
      },
      "outputs": [],
      "source": [
        "import numpy as np\n",
        "import pandas as pd\n",
        "import matplotlib.pyplot as plt"
      ]
    },
    {
      "cell_type": "code",
      "execution_count": 2,
      "metadata": {
        "id": "e6EHiIOTVg8f"
      },
      "outputs": [],
      "source": [
        "np.set_printoptions(legacy='1.25')"
      ]
    },
    {
      "cell_type": "markdown",
      "metadata": {
        "id": "oXC7fZc5UCdu"
      },
      "source": [
        "# Carga de datos e interpretación\n"
      ]
    },
    {
      "cell_type": "code",
      "execution_count": 3,
      "metadata": {
        "id": "iHs4VEOGT90s"
      },
      "outputs": [],
      "source": [
        "df = pd.read_csv('pruebas_datos.csv')"
      ]
    },
    {
      "cell_type": "code",
      "execution_count": 5,
      "metadata": {
        "colab": {
          "base_uri": "https://localhost:8080/",
          "height": 487
        },
        "id": "FK5Uw7BZU8s4",
        "outputId": "aa9f4f7c-ce08-4aec-ba76-eb410ba214d7"
      },
      "outputs": [
        {
          "data": {
            "text/html": [
              "<div>\n",
              "<style scoped>\n",
              "    .dataframe tbody tr th:only-of-type {\n",
              "        vertical-align: middle;\n",
              "    }\n",
              "\n",
              "    .dataframe tbody tr th {\n",
              "        vertical-align: top;\n",
              "    }\n",
              "\n",
              "    .dataframe thead th {\n",
              "        text-align: right;\n",
              "    }\n",
              "</style>\n",
              "<table border=\"1\" class=\"dataframe\">\n",
              "  <thead>\n",
              "    <tr style=\"text-align: right;\">\n",
              "      <th></th>\n",
              "      <th>OTR</th>\n",
              "      <th>OCR</th>\n",
              "      <th>min_time_two_events</th>\n",
              "      <th>mean_time_two_events</th>\n",
              "      <th>10_p_time_two_events</th>\n",
              "      <th>med_time_two_events</th>\n",
              "      <th>25_p_time_two_events</th>\n",
              "      <th>75_p_time_two_events</th>\n",
              "      <th>90_p_time_two_events</th>\n",
              "      <th>max_time_two_events</th>\n",
              "      <th>...</th>\n",
              "      <th>90_p_lifetime_cancel</th>\n",
              "      <th>max_lifetime_cancel</th>\n",
              "      <th>NbTradeVenueMic</th>\n",
              "      <th>MaxNbTradesBySecond</th>\n",
              "      <th>MeanNbTradesBySecond</th>\n",
              "      <th>min_dt_TV1</th>\n",
              "      <th>mean_dt_TV1</th>\n",
              "      <th>med_dt_TV1</th>\n",
              "      <th>NbSecondWithAtLeatOneTrade</th>\n",
              "      <th>type</th>\n",
              "    </tr>\n",
              "  </thead>\n",
              "  <tbody>\n",
              "    <tr>\n",
              "      <th>0</th>\n",
              "      <td>-0.264140</td>\n",
              "      <td>-0.171596</td>\n",
              "      <td>-0.034334</td>\n",
              "      <td>0.173848</td>\n",
              "      <td>-0.051861</td>\n",
              "      <td>-0.194635</td>\n",
              "      <td>-0.103174</td>\n",
              "      <td>-0.493894</td>\n",
              "      <td>0.669772</td>\n",
              "      <td>0.113391</td>\n",
              "      <td>...</td>\n",
              "      <td>0.446317</td>\n",
              "      <td>0.159271</td>\n",
              "      <td>-0.989267</td>\n",
              "      <td>-0.459192</td>\n",
              "      <td>0.414463</td>\n",
              "      <td>-0.068166</td>\n",
              "      <td>2.257305</td>\n",
              "      <td>0.215650</td>\n",
              "      <td>-0.430203</td>\n",
              "      <td>1</td>\n",
              "    </tr>\n",
              "    <tr>\n",
              "      <th>1</th>\n",
              "      <td>-0.267371</td>\n",
              "      <td>0.071957</td>\n",
              "      <td>-0.034334</td>\n",
              "      <td>-0.394632</td>\n",
              "      <td>-0.051861</td>\n",
              "      <td>-0.261262</td>\n",
              "      <td>-0.107967</td>\n",
              "      <td>-0.578826</td>\n",
              "      <td>-0.714095</td>\n",
              "      <td>0.478099</td>\n",
              "      <td>...</td>\n",
              "      <td>0.341803</td>\n",
              "      <td>0.053125</td>\n",
              "      <td>-0.989267</td>\n",
              "      <td>0.065955</td>\n",
              "      <td>2.493944</td>\n",
              "      <td>-0.174906</td>\n",
              "      <td>-0.259542</td>\n",
              "      <td>-0.257432</td>\n",
              "      <td>-0.415533</td>\n",
              "      <td>1</td>\n",
              "    </tr>\n",
              "    <tr>\n",
              "      <th>2</th>\n",
              "      <td>-0.268571</td>\n",
              "      <td>0.392193</td>\n",
              "      <td>-0.034334</td>\n",
              "      <td>-0.596358</td>\n",
              "      <td>-0.051861</td>\n",
              "      <td>-0.261262</td>\n",
              "      <td>-0.107967</td>\n",
              "      <td>-0.579091</td>\n",
              "      <td>-0.864277</td>\n",
              "      <td>0.449648</td>\n",
              "      <td>...</td>\n",
              "      <td>-0.843156</td>\n",
              "      <td>-0.601191</td>\n",
              "      <td>-0.989267</td>\n",
              "      <td>0.223500</td>\n",
              "      <td>1.925729</td>\n",
              "      <td>-0.174906</td>\n",
              "      <td>-0.350248</td>\n",
              "      <td>-0.257432</td>\n",
              "      <td>-0.351515</td>\n",
              "      <td>1</td>\n",
              "    </tr>\n",
              "    <tr>\n",
              "      <th>3</th>\n",
              "      <td>-0.267320</td>\n",
              "      <td>-0.082373</td>\n",
              "      <td>-0.034334</td>\n",
              "      <td>-0.337735</td>\n",
              "      <td>-0.051861</td>\n",
              "      <td>-0.260286</td>\n",
              "      <td>-0.107966</td>\n",
              "      <td>-0.574153</td>\n",
              "      <td>0.401915</td>\n",
              "      <td>-0.240214</td>\n",
              "      <td>...</td>\n",
              "      <td>0.205183</td>\n",
              "      <td>-0.085628</td>\n",
              "      <td>-0.989267</td>\n",
              "      <td>-0.406677</td>\n",
              "      <td>1.394323</td>\n",
              "      <td>-0.174906</td>\n",
              "      <td>-0.056171</td>\n",
              "      <td>-0.257431</td>\n",
              "      <td>-0.430203</td>\n",
              "      <td>1</td>\n",
              "    </tr>\n",
              "    <tr>\n",
              "      <th>4</th>\n",
              "      <td>-0.268375</td>\n",
              "      <td>0.094866</td>\n",
              "      <td>-0.034334</td>\n",
              "      <td>-0.551568</td>\n",
              "      <td>-0.051861</td>\n",
              "      <td>-0.261262</td>\n",
              "      <td>-0.107967</td>\n",
              "      <td>-0.579396</td>\n",
              "      <td>-0.876131</td>\n",
              "      <td>-0.003950</td>\n",
              "      <td>...</td>\n",
              "      <td>0.447088</td>\n",
              "      <td>0.160054</td>\n",
              "      <td>-0.989267</td>\n",
              "      <td>0.170985</td>\n",
              "      <td>1.041917</td>\n",
              "      <td>-0.174906</td>\n",
              "      <td>-0.327099</td>\n",
              "      <td>-0.257432</td>\n",
              "      <td>-0.384858</td>\n",
              "      <td>1</td>\n",
              "    </tr>\n",
              "    <tr>\n",
              "      <th>...</th>\n",
              "      <td>...</td>\n",
              "      <td>...</td>\n",
              "      <td>...</td>\n",
              "      <td>...</td>\n",
              "      <td>...</td>\n",
              "      <td>...</td>\n",
              "      <td>...</td>\n",
              "      <td>...</td>\n",
              "      <td>...</td>\n",
              "      <td>...</td>\n",
              "      <td>...</td>\n",
              "      <td>...</td>\n",
              "      <td>...</td>\n",
              "      <td>...</td>\n",
              "      <td>...</td>\n",
              "      <td>...</td>\n",
              "      <td>...</td>\n",
              "      <td>...</td>\n",
              "      <td>...</td>\n",
              "      <td>...</td>\n",
              "      <td>...</td>\n",
              "    </tr>\n",
              "    <tr>\n",
              "      <th>50577</th>\n",
              "      <td>-0.270438</td>\n",
              "      <td>0.040609</td>\n",
              "      <td>-0.034334</td>\n",
              "      <td>-0.587633</td>\n",
              "      <td>-0.051861</td>\n",
              "      <td>-0.261262</td>\n",
              "      <td>-0.107967</td>\n",
              "      <td>-0.579589</td>\n",
              "      <td>-0.811629</td>\n",
              "      <td>-0.928057</td>\n",
              "      <td>...</td>\n",
              "      <td>-0.499086</td>\n",
              "      <td>-0.800893</td>\n",
              "      <td>-0.989267</td>\n",
              "      <td>-0.039074</td>\n",
              "      <td>2.972986</td>\n",
              "      <td>-0.174905</td>\n",
              "      <td>-0.139995</td>\n",
              "      <td>-0.257431</td>\n",
              "      <td>-0.431537</td>\n",
              "      <td>1</td>\n",
              "    </tr>\n",
              "    <tr>\n",
              "      <th>50578</th>\n",
              "      <td>-0.269299</td>\n",
              "      <td>0.040609</td>\n",
              "      <td>-0.034334</td>\n",
              "      <td>-0.704571</td>\n",
              "      <td>-0.051861</td>\n",
              "      <td>-0.261262</td>\n",
              "      <td>-0.107967</td>\n",
              "      <td>-0.573424</td>\n",
              "      <td>-0.873859</td>\n",
              "      <td>-1.356834</td>\n",
              "      <td>...</td>\n",
              "      <td>-0.927494</td>\n",
              "      <td>-1.235990</td>\n",
              "      <td>-0.989267</td>\n",
              "      <td>-0.616736</td>\n",
              "      <td>0.204493</td>\n",
              "      <td>-0.174905</td>\n",
              "      <td>-0.355996</td>\n",
              "      <td>-0.257262</td>\n",
              "      <td>-0.426202</td>\n",
              "      <td>1</td>\n",
              "    </tr>\n",
              "    <tr>\n",
              "      <th>50579</th>\n",
              "      <td>-0.270456</td>\n",
              "      <td>0.952123</td>\n",
              "      <td>-0.034334</td>\n",
              "      <td>-0.592510</td>\n",
              "      <td>-0.051861</td>\n",
              "      <td>-0.261262</td>\n",
              "      <td>-0.107967</td>\n",
              "      <td>-0.579500</td>\n",
              "      <td>-0.894274</td>\n",
              "      <td>0.012924</td>\n",
              "      <td>...</td>\n",
              "      <td>0.464365</td>\n",
              "      <td>0.177600</td>\n",
              "      <td>-0.989267</td>\n",
              "      <td>0.276014</td>\n",
              "      <td>1.680116</td>\n",
              "      <td>-0.174905</td>\n",
              "      <td>-0.076802</td>\n",
              "      <td>-0.256689</td>\n",
              "      <td>-0.414199</td>\n",
              "      <td>1</td>\n",
              "    </tr>\n",
              "    <tr>\n",
              "      <th>50580</th>\n",
              "      <td>-0.270274</td>\n",
              "      <td>2.659404</td>\n",
              "      <td>-0.034334</td>\n",
              "      <td>-0.648742</td>\n",
              "      <td>-0.051861</td>\n",
              "      <td>-0.261262</td>\n",
              "      <td>-0.107967</td>\n",
              "      <td>-0.579477</td>\n",
              "      <td>-0.886564</td>\n",
              "      <td>-0.241991</td>\n",
              "      <td>...</td>\n",
              "      <td>0.203363</td>\n",
              "      <td>-0.087476</td>\n",
              "      <td>-0.989267</td>\n",
              "      <td>0.748647</td>\n",
              "      <td>1.846925</td>\n",
              "      <td>-0.174905</td>\n",
              "      <td>-0.275480</td>\n",
              "      <td>-0.257133</td>\n",
              "      <td>-0.388859</td>\n",
              "      <td>1</td>\n",
              "    </tr>\n",
              "    <tr>\n",
              "      <th>50581</th>\n",
              "      <td>-0.270277</td>\n",
              "      <td>0.662754</td>\n",
              "      <td>-0.034334</td>\n",
              "      <td>-0.694323</td>\n",
              "      <td>-0.051861</td>\n",
              "      <td>-0.261262</td>\n",
              "      <td>-0.107967</td>\n",
              "      <td>-0.578331</td>\n",
              "      <td>-0.879211</td>\n",
              "      <td>-1.284239</td>\n",
              "      <td>...</td>\n",
              "      <td>-0.921142</td>\n",
              "      <td>-1.229538</td>\n",
              "      <td>-0.989267</td>\n",
              "      <td>0.696132</td>\n",
              "      <td>2.682657</td>\n",
              "      <td>-0.174905</td>\n",
              "      <td>0.289331</td>\n",
              "      <td>-0.253120</td>\n",
              "      <td>-0.423535</td>\n",
              "      <td>1</td>\n",
              "    </tr>\n",
              "  </tbody>\n",
              "</table>\n",
              "<p>50582 rows × 26 columns</p>\n",
              "</div>"
            ],
            "text/plain": [
              "            OTR       OCR  min_time_two_events  mean_time_two_events  \\\n",
              "0     -0.264140 -0.171596            -0.034334              0.173848   \n",
              "1     -0.267371  0.071957            -0.034334             -0.394632   \n",
              "2     -0.268571  0.392193            -0.034334             -0.596358   \n",
              "3     -0.267320 -0.082373            -0.034334             -0.337735   \n",
              "4     -0.268375  0.094866            -0.034334             -0.551568   \n",
              "...         ...       ...                  ...                   ...   \n",
              "50577 -0.270438  0.040609            -0.034334             -0.587633   \n",
              "50578 -0.269299  0.040609            -0.034334             -0.704571   \n",
              "50579 -0.270456  0.952123            -0.034334             -0.592510   \n",
              "50580 -0.270274  2.659404            -0.034334             -0.648742   \n",
              "50581 -0.270277  0.662754            -0.034334             -0.694323   \n",
              "\n",
              "       10_p_time_two_events  med_time_two_events  25_p_time_two_events  \\\n",
              "0                 -0.051861            -0.194635             -0.103174   \n",
              "1                 -0.051861            -0.261262             -0.107967   \n",
              "2                 -0.051861            -0.261262             -0.107967   \n",
              "3                 -0.051861            -0.260286             -0.107966   \n",
              "4                 -0.051861            -0.261262             -0.107967   \n",
              "...                     ...                  ...                   ...   \n",
              "50577             -0.051861            -0.261262             -0.107967   \n",
              "50578             -0.051861            -0.261262             -0.107967   \n",
              "50579             -0.051861            -0.261262             -0.107967   \n",
              "50580             -0.051861            -0.261262             -0.107967   \n",
              "50581             -0.051861            -0.261262             -0.107967   \n",
              "\n",
              "       75_p_time_two_events  90_p_time_two_events  max_time_two_events  ...  \\\n",
              "0                 -0.493894              0.669772             0.113391  ...   \n",
              "1                 -0.578826             -0.714095             0.478099  ...   \n",
              "2                 -0.579091             -0.864277             0.449648  ...   \n",
              "3                 -0.574153              0.401915            -0.240214  ...   \n",
              "4                 -0.579396             -0.876131            -0.003950  ...   \n",
              "...                     ...                   ...                  ...  ...   \n",
              "50577             -0.579589             -0.811629            -0.928057  ...   \n",
              "50578             -0.573424             -0.873859            -1.356834  ...   \n",
              "50579             -0.579500             -0.894274             0.012924  ...   \n",
              "50580             -0.579477             -0.886564            -0.241991  ...   \n",
              "50581             -0.578331             -0.879211            -1.284239  ...   \n",
              "\n",
              "       90_p_lifetime_cancel  max_lifetime_cancel  NbTradeVenueMic  \\\n",
              "0                  0.446317             0.159271        -0.989267   \n",
              "1                  0.341803             0.053125        -0.989267   \n",
              "2                 -0.843156            -0.601191        -0.989267   \n",
              "3                  0.205183            -0.085628        -0.989267   \n",
              "4                  0.447088             0.160054        -0.989267   \n",
              "...                     ...                  ...              ...   \n",
              "50577             -0.499086            -0.800893        -0.989267   \n",
              "50578             -0.927494            -1.235990        -0.989267   \n",
              "50579              0.464365             0.177600        -0.989267   \n",
              "50580              0.203363            -0.087476        -0.989267   \n",
              "50581             -0.921142            -1.229538        -0.989267   \n",
              "\n",
              "       MaxNbTradesBySecond  MeanNbTradesBySecond  min_dt_TV1  mean_dt_TV1  \\\n",
              "0                -0.459192              0.414463   -0.068166     2.257305   \n",
              "1                 0.065955              2.493944   -0.174906    -0.259542   \n",
              "2                 0.223500              1.925729   -0.174906    -0.350248   \n",
              "3                -0.406677              1.394323   -0.174906    -0.056171   \n",
              "4                 0.170985              1.041917   -0.174906    -0.327099   \n",
              "...                    ...                   ...         ...          ...   \n",
              "50577            -0.039074              2.972986   -0.174905    -0.139995   \n",
              "50578            -0.616736              0.204493   -0.174905    -0.355996   \n",
              "50579             0.276014              1.680116   -0.174905    -0.076802   \n",
              "50580             0.748647              1.846925   -0.174905    -0.275480   \n",
              "50581             0.696132              2.682657   -0.174905     0.289331   \n",
              "\n",
              "       med_dt_TV1  NbSecondWithAtLeatOneTrade  type  \n",
              "0        0.215650                   -0.430203     1  \n",
              "1       -0.257432                   -0.415533     1  \n",
              "2       -0.257432                   -0.351515     1  \n",
              "3       -0.257431                   -0.430203     1  \n",
              "4       -0.257432                   -0.384858     1  \n",
              "...           ...                         ...   ...  \n",
              "50577   -0.257431                   -0.431537     1  \n",
              "50578   -0.257262                   -0.426202     1  \n",
              "50579   -0.256689                   -0.414199     1  \n",
              "50580   -0.257133                   -0.388859     1  \n",
              "50581   -0.253120                   -0.423535     1  \n",
              "\n",
              "[50582 rows x 26 columns]"
            ]
          },
          "execution_count": 5,
          "metadata": {},
          "output_type": "execute_result"
        }
      ],
      "source": [
        "df"
      ]
    },
    {
      "cell_type": "code",
      "execution_count": 6,
      "metadata": {
        "colab": {
          "base_uri": "https://localhost:8080/"
        },
        "id": "iU7IEu3FVEjn",
        "outputId": "7ac7c8a9-d2fe-4f9f-b6f6-5a40142faa86"
      },
      "outputs": [
        {
          "data": {
            "text/plain": [
              "type\n",
              "0    30522\n",
              "1    20060\n",
              "Name: count, dtype: int64"
            ]
          },
          "execution_count": 6,
          "metadata": {},
          "output_type": "execute_result"
        }
      ],
      "source": [
        "# Los valores 1 son NON-HFT y los 0 son HFT\n",
        "df.type.value_counts()"
      ]
    },
    {
      "cell_type": "markdown",
      "metadata": {
        "id": "SCtqgR4MZsTv"
      },
      "source": [
        "## Datos\n",
        "\n",
        "Los datos son públicos, fueron utilizados en una competencia que pueden consultar [AQUÍ](https://challengedata.ens.fr/participants/challenges/50/). En esta competencia registraron muchas características de \"traders\", para tratar de clasificarlos en HFT (High Frequency Traders) o NON-HFT. Es de gran interés tratar de estudiar el impacto que tienen los HFT en los mercados, ya que lo que hacen es realizar intercambios dando ordenes de intercambio a un mecanismo llamado Limit Order Book (LOB), al cual le ordenan realizar compras o ventas a precios que ellos deseen."
      ]
    },
    {
      "cell_type": "markdown",
      "metadata": {},
      "source": [
        "#### Diccionario de datos\n",
        "\n"
      ]
    },
    {
      "cell_type": "markdown",
      "metadata": {},
      "source": [
        "1. NbTradeVenueMic (23) : Número de centros de negociación en los que opera el jugador del mercado\n",
        "\n",
        "De todos los centros de negociación, estadísticas sobre el número de operaciones observadas por segundo\n",
        "\n",
        "2. MaxNbTradesBySecond (24)\n",
        "3. MeanNbTradesBySecond (25)\n",
        "\n",
        "Estadísticas sobre el delta de tiempo observado entre dos operaciones en la plataforma de negociación TV_1[1]:\n",
        "\n",
        "4. min_dt_TV1 (26)\n",
        "5. med_dt_TV1 (28)\n",
        "6. mean_dt_TV1 (27)\n",
        "\n",
        "Estadísticas sobre el delta de tiempo observado entre dos operaciones que se producen en la plataforma de negociación TV_1 y luego en la plataforma de negociación TV_2:\n",
        "\n",
        "7. min_dt_TV1_TV2 (29)\n",
        "8. med_dt_TV1_TV2 (31)\n",
        "9. mean_dt_TV1_TV2 (30)\n",
        "\n",
        "Estadísticas sobre el delta de tiempo observado entre dos operaciones que se producen en la plataforma de negociación TV_1 y luego en la plataforma de negociación TV_3:\n",
        "\n",
        "10. min_dt_TV1_TV3 (32)\n",
        "11. med_dt_TV1_TV3 (34)\n",
        "12. mean_dt_TV1_TV3 (33)\n",
        "\n",
        "Estadísticas sobre el delta de tiempo observado entre dos operaciones que se producen en la plataforma de negociación TV_1 y luego en la plataforma de negociación TV_4 :\n",
        "\n",
        "13. min_dt_TV1_TV4 (35)\n",
        "14. med_dt_TV1_TV4 (37)\n",
        "15. mean_dt_TV1_TV4(36)\n",
        "\n",
        "De todos los centros de negociación, número de segundos durante el día de negociación donde se observa al menos una operación del jugador del mercado i\n",
        "\n",
        "16. NbSecondWithAtLeatOneTrade(38)\n",
        "\n",
        "En la plataforma de negociación TV_1, tres proporciones entre el número de todo tipo de eventos[2] enviados a la LOB y:\n",
        "\n",
        "17. el número de operaciones (OTR) (4)\n",
        "18. el número de eventos de tipo cancelación (OCR) (5)\n",
        "19. el número de eventos de tipo de modificación (OMR) (6)\n",
        "\n",
        "En el centro de negociación TV_1, estadísticas durante el delta de tiempo observado entre dos eventos de todo tipo enviados:\n",
        "\n",
        "20. min_time_two_events (7)\n",
        "21. mean_time_two_events (8)\n",
        "22. 10_p_time_two_events (9)\n",
        "23. med_time_two_events (10)\n",
        "24. 25_p_time_two_events (11)\n",
        "25. 75_p_time_two_events (12)\n",
        "26. 90_p_time_two_events (13)\n",
        "27. max_time_two_events (14)\n",
        "\n",
        "En la plataforma de negociación TV_1, estadísticas a lo largo de la vida útil observada de las órdenes canceladas:\n",
        "\n",
        "28. min_lifetime_cancel (15)\n",
        "29. mean_lifetime_cancel (16)\n",
        "30. 10_p_lifetime_cancel (17)\n",
        "31. med_lifetime_cancel (18)\n",
        "32. 25_p_lifetime_cancel (19)\n",
        "33. 75_p_lifetime_cancel (20)\n",
        "34. 90_p_lifetime_cancel (21)\n",
        "35. max_lifetime_cancel (22)\n",
        "\n",
        "Extra variables\n",
        "\n",
        "36. Type: HF, Non HFT (39)\n",
        "37. Day\n",
        "38. Share\n",
        "39. Trader\n",
        "40. Index"
      ]
    },
    {
      "cell_type": "markdown",
      "metadata": {},
      "source": [
        "## Regresión lineal vs. regresión logística"
      ]
    },
    {
      "cell_type": "markdown",
      "metadata": {},
      "source": [
        "**Regresión Lineal**\n",
        "$$\n",
        "y = \\beta_0 + \\beta_1x_1 + \\beta_2x_2 + \\cdots + \\beta_nx_n + \\epsilon\n",
        "$$\n",
        "\n",
        "**Regresión logística**\n",
        "$$\n",
        "\\frac{1}{1 + e^{-(\\beta_0 + \\beta_1x_1 + \\beta_2x_2 + \\cdots + \\beta_nx_n)}}\n",
        "$$\n",
        "note la función sigmoide:\n",
        "$$\n",
        "\\sigma(z) = \\frac{1}{1 + e^{-z}}\n",
        "$$"
      ]
    },
    {
      "cell_type": "markdown",
      "metadata": {},
      "source": [
        "<img src='lrlr.png'>"
      ]
    },
    {
      "cell_type": "code",
      "execution_count": 7,
      "metadata": {
        "colab": {
          "base_uri": "https://localhost:8080/"
        },
        "id": "jU9HDQM8VTfo",
        "outputId": "11a14d23-4598-4811-817f-e78b507ceb30"
      },
      "outputs": [
        {
          "data": {
            "text/plain": [
              "(50582, 26)"
            ]
          },
          "execution_count": 7,
          "metadata": {},
          "output_type": "execute_result"
        }
      ],
      "source": [
        "df.shape"
      ]
    },
    {
      "cell_type": "code",
      "execution_count": 8,
      "metadata": {
        "colab": {
          "base_uri": "https://localhost:8080/"
        },
        "id": "FIcEwUB_WMlG",
        "outputId": "5f5de895-dbdf-48e7-ae4d-fdac079c57a0"
      },
      "outputs": [
        {
          "data": {
            "text/plain": [
              "array([[-0.26413997, -0.17159563, -0.03433358, ...,  2.25730527,\n",
              "         0.21564981, -0.43020348],\n",
              "       [-0.26737141,  0.07195718, -0.03433358, ..., -0.25954205,\n",
              "        -0.25743172, -0.41553282],\n",
              "       [-0.26857105,  0.39219296, -0.03433358, ..., -0.35024783,\n",
              "        -0.25743176, -0.35151541],\n",
              "       ...,\n",
              "       [-0.27045626,  0.9521233 , -0.03433358, ..., -0.07680184,\n",
              "        -0.25668942, -0.41419912],\n",
              "       [-0.27027382,  2.65940442, -0.03433358, ..., -0.27547952,\n",
              "        -0.25713323, -0.3888589 ],\n",
              "       [-0.2702773 ,  0.66275362, -0.03433358, ...,  0.28933079,\n",
              "        -0.25311955, -0.423535  ]])"
            ]
          },
          "execution_count": 8,
          "metadata": {},
          "output_type": "execute_result"
        }
      ],
      "source": [
        "X_prob = np.array(df.drop(['type'], axis=1))\n",
        "X_prob"
      ]
    },
    {
      "cell_type": "code",
      "execution_count": 9,
      "metadata": {
        "colab": {
          "base_uri": "https://localhost:8080/"
        },
        "id": "ysTvZku2ILgN",
        "outputId": "2be4148f-276c-4892-f98f-b28346e60589"
      },
      "outputs": [
        {
          "data": {
            "text/plain": [
              "(50582, 25)"
            ]
          },
          "execution_count": 9,
          "metadata": {},
          "output_type": "execute_result"
        }
      ],
      "source": [
        "X_prob.shape"
      ]
    },
    {
      "cell_type": "code",
      "execution_count": 10,
      "metadata": {
        "colab": {
          "base_uri": "https://localhost:8080/"
        },
        "id": "UpZPlZlnWARR",
        "outputId": "e646d94c-6132-4db8-e7f5-4233ce05a38a"
      },
      "outputs": [
        {
          "data": {
            "text/plain": [
              "array([1, 1, 1, ..., 1, 1, 1])"
            ]
          },
          "execution_count": 10,
          "metadata": {},
          "output_type": "execute_result"
        }
      ],
      "source": [
        "Y_prob = np.array(df['type'])\n",
        "Y_prob"
      ]
    },
    {
      "cell_type": "code",
      "execution_count": 11,
      "metadata": {
        "colab": {
          "base_uri": "https://localhost:8080/"
        },
        "id": "GyU40YXb0dIy",
        "outputId": "df875a16-54fb-4eea-a476-2d57803796aa"
      },
      "outputs": [
        {
          "data": {
            "text/plain": [
              "(50582,)"
            ]
          },
          "execution_count": 11,
          "metadata": {},
          "output_type": "execute_result"
        }
      ],
      "source": [
        "Y_prob.shape"
      ]
    },
    {
      "cell_type": "code",
      "execution_count": 12,
      "metadata": {
        "id": "HgYtgbebimh0"
      },
      "outputs": [],
      "source": [
        "num_inputs = 25\n",
        "num_outputs = 2\n",
        "\n",
        "W = np.random.normal(0, 0.1, (num_inputs, num_outputs)) # Jugaremos con este parametro\n",
        "B = np.zeros(num_outputs) # Jugaremos con este parametro"
      ]
    },
    {
      "cell_type": "code",
      "execution_count": 13,
      "metadata": {
        "colab": {
          "base_uri": "https://localhost:8080/"
        },
        "id": "gDLgt_L3VZNa",
        "outputId": "cbbef093-b621-4d98-f315-2c7943a3235a"
      },
      "outputs": [
        {
          "name": "stdout",
          "output_type": "stream",
          "text": [
            "[[-0.07336142 -0.12722393]\n",
            " [-0.10743015  0.02456634]\n",
            " [-0.14609871 -0.14251357]\n",
            " [ 0.03163193  0.03614482]\n",
            " [ 0.0271089  -0.04485533]\n",
            " [-0.14285336 -0.06584624]\n",
            " [ 0.07186906 -0.03349055]\n",
            " [-0.15584247  0.1442413 ]\n",
            " [-0.13595301 -0.14774107]\n",
            " [-0.00468219 -0.05855979]\n",
            " [-0.00274357  0.09736059]\n",
            " [-0.01326131  0.07778589]\n",
            " [-0.08207493 -0.05525214]\n",
            " [ 0.00597548  0.00106166]\n",
            " [-0.03354282 -0.12496763]\n",
            " [-0.08216455  0.01397401]\n",
            " [ 0.16357681  0.13631283]\n",
            " [-0.06976944 -0.12895353]\n",
            " [ 0.11034716  0.04019238]\n",
            " [-0.14529438  0.24809813]\n",
            " [ 0.29665235  0.11387773]\n",
            " [ 0.0127373  -0.02037582]\n",
            " [-0.10276661 -0.00441687]\n",
            " [ 0.03750897  0.19334031]\n",
            " [ 0.02290804 -0.02497653]]\n",
            "[0. 0.]\n"
          ]
        }
      ],
      "source": [
        "print(W)\n",
        "print(B)"
      ]
    },
    {
      "cell_type": "markdown",
      "metadata": {
        "id": "yLTx9XpmoPuA"
      },
      "source": [
        "# Definición de la función softmax\n",
        "La función softmax generaliza a la función sigmoide.\n",
        "\n",
        "Antes, notemos que dado un arreglo de numpy, nosotros podemos realizar sumas de diferentes formas utilizando el método \"sum()\".\n",
        "\n",
        "Si no pasamos ningún parámetro a \"sum()\", lo que obtendremos será la suma de todas las entradas de nuestra matriz (o arreglo o tensor).\n",
        "\n",
        "Si damos como parámetro el \"0\", lo que nos regresará será la suma por columnas (es decir, en el eje 0)\n",
        "\n",
        "Si damos como parámetro el \"1\", nos regresará la suma por filas (es decir, en el eje 1)"
      ]
    },
    {
      "cell_type": "code",
      "execution_count": 14,
      "metadata": {
        "colab": {
          "base_uri": "https://localhost:8080/"
        },
        "id": "c1tKKzybKRFB",
        "outputId": "b04c3a87-2199-4ebc-8665-f933df60ef21"
      },
      "outputs": [
        {
          "data": {
            "text/plain": [
              "array([[1., 2., 3.],\n",
              "       [4., 5., 6.]])"
            ]
          },
          "execution_count": 14,
          "metadata": {},
          "output_type": "execute_result"
        }
      ],
      "source": [
        "X = np.array([[1.0, 2.0, 3.0], [4.0, 5.0, 6.0]])\n",
        "X"
      ]
    },
    {
      "cell_type": "code",
      "execution_count": 15,
      "metadata": {
        "colab": {
          "base_uri": "https://localhost:8080/"
        },
        "id": "0prrE4B7ixOn",
        "outputId": "e1748516-8c01-4bcb-8c8f-fa23d9a0e6ea"
      },
      "outputs": [
        {
          "data": {
            "text/plain": [
              "(array([[21.]]),\n",
              " array([[5., 7., 9.]]),\n",
              " array([[ 6.],\n",
              "        [15.]]))"
            ]
          },
          "execution_count": 15,
          "metadata": {},
          "output_type": "execute_result"
        }
      ],
      "source": [
        "X.sum(keepdims=True), X.sum(0, keepdims=True), X.sum(1, keepdims=True)"
      ]
    },
    {
      "cell_type": "markdown",
      "metadata": {
        "id": "1qKW7Pn2C55P"
      },
      "source": [
        "Con esto podemos implementar de modo muy sencillo la función softmax:\n",
        "\n",
        "1. Obtener el exponenete de cada uno de nuestros elementos.\n",
        "2. Tomamos la suma de los elementos de su fila y normalizamos\n",
        "\n",
        "La expresión matemática de la función SoftMax es la siguiente:\n",
        "\n",
        "\n",
        "$$ \\mathrm{softmax}(\\mathbf{X})_{ij} = \\frac{\\exp(\\mathbf{X}_{ij})}{\\sum_k \\exp(\\mathbf{X}_{ik})}. $$"
      ]
    },
    {
      "cell_type": "code",
      "execution_count": 16,
      "metadata": {
        "id": "nPCYu0LHnqxi"
      },
      "outputs": [],
      "source": [
        "def softmax(X):\n",
        "    X_exp = np.exp(X)\n",
        "    partition = X_exp.sum(1, keepdims=True)\n",
        "    return X_exp / partition"
      ]
    },
    {
      "cell_type": "markdown",
      "metadata": {
        "id": "qNDcmahzEwGH"
      },
      "source": [
        "Veamos un ejemplo con la matriz de 2X3 creada anteriormente."
      ]
    },
    {
      "cell_type": "code",
      "execution_count": 17,
      "metadata": {
        "id": "TSArEtp4tKOg"
      },
      "outputs": [],
      "source": [
        "# 4 clases\n",
        "W_p_X = np.random.normal(0, 0.1, (3, 4)) # Jugaremos con este parametro\n",
        "B_p_X = np.zeros(4) # Jugaremos con este parametro"
      ]
    },
    {
      "cell_type": "code",
      "execution_count": 18,
      "metadata": {},
      "outputs": [
        {
          "name": "stdout",
          "output_type": "stream",
          "text": [
            "[[-0.04610086 -0.06113379 -0.11800802 -0.00499342]\n",
            " [ 0.12225484  0.05710045 -0.01495935 -0.15047633]\n",
            " [-0.17940787 -0.02965812 -0.10919626  0.07339429]] [0. 0. 0. 0.]\n"
          ]
        }
      ],
      "source": [
        "print(W_p_X, B_p_X)"
      ]
    },
    {
      "cell_type": "code",
      "execution_count": 19,
      "metadata": {
        "colab": {
          "base_uri": "https://localhost:8080/"
        },
        "id": "5GKWNzOptgyO",
        "outputId": "02a7f635-55e7-4dc5-99e2-a5e447a2e760"
      },
      "outputs": [
        {
          "data": {
            "text/plain": [
              "array([[-0.33981481, -0.03590725, -0.47551551, -0.0857632 ],\n",
              "       [-0.6495765 , -0.13698163, -1.20200643, -0.33198956]])"
            ]
          },
          "execution_count": 19,
          "metadata": {},
          "output_type": "execute_result"
        }
      ],
      "source": [
        "X @ W_p_X + B_p_X"
      ]
    },
    {
      "cell_type": "code",
      "execution_count": 20,
      "metadata": {
        "colab": {
          "base_uri": "https://localhost:8080/"
        },
        "id": "0fL_0uvtntuS",
        "outputId": "78290266-74d3-44c8-9359-552838167e7c"
      },
      "outputs": [
        {
          "data": {
            "text/plain": [
              "array([[0.22136206, 0.29997741, 0.19327208, 0.28538845],\n",
              "       [0.21649819, 0.36146928, 0.12460544, 0.29742709]])"
            ]
          },
          "execution_count": 20,
          "metadata": {},
          "output_type": "execute_result"
        }
      ],
      "source": [
        "softmax(X @ W_p_X + B_p_X)"
      ]
    },
    {
      "cell_type": "markdown",
      "metadata": {
        "id": "CqHlJW4-E71h"
      },
      "source": [
        "Si observamos con cuidado, podemos ver que con esta operación estamos transformando todas nuestras entradas en números positivos. Mas aún, cada fila suma 1, es decir, la convertimos en una distribución de probabilidad."
      ]
    },
    {
      "cell_type": "code",
      "execution_count": 21,
      "metadata": {
        "colab": {
          "base_uri": "https://localhost:8080/"
        },
        "id": "27w0BqwBpPm2",
        "outputId": "4eaacb77-2f6c-45c6-cb90-c3c94da72632"
      },
      "outputs": [
        {
          "data": {
            "text/plain": [
              "(array([[0.22136206, 0.29997741, 0.19327208, 0.28538845],\n",
              "        [0.21649819, 0.36146928, 0.12460544, 0.29742709]]),\n",
              " array([1., 1.]))"
            ]
          },
          "execution_count": 21,
          "metadata": {},
          "output_type": "execute_result"
        }
      ],
      "source": [
        "x_prob = softmax(X @ W_p_X + B_p_X)\n",
        "x_prob, x_prob.sum(1)"
      ]
    },
    {
      "cell_type": "markdown",
      "metadata": {
        "id": "cyDAzg-TplBX"
      },
      "source": [
        "# Definiendo el modelo\n",
        "\n",
        "Aquí pueden ver que tipo de modelo vamos a implementar. En este caso es una regresión softmax."
      ]
    },
    {
      "cell_type": "code",
      "execution_count": 22,
      "metadata": {
        "id": "Xt5hs-R5pmzH"
      },
      "outputs": [],
      "source": [
        "def net(X,W,b):\n",
        "    return softmax(np.dot(X.reshape((-1, W.shape[0])), W) + b)"
      ]
    },
    {
      "cell_type": "markdown",
      "metadata": {
        "id": "v-lGeJHLptUV"
      },
      "source": [
        "# Definiendo la función de pérdida"
      ]
    },
    {
      "cell_type": "markdown",
      "metadata": {
        "id": "-aIVnMDipv8z"
      },
      "source": [
        "Usaremos la función Cross-Entropy, una de las mas populares dado que es buena para problemas de clasficación."
      ]
    },
    {
      "cell_type": "markdown",
      "metadata": {
        "id": "5W2-3hHaHLOb"
      },
      "source": [
        "La función es la siguiente:\n",
        "$$ -\\sum_{c=1}^My_{o,c}\\log(p_{o,c}), $$\n",
        "\n",
        "donde $M$ es la cantidad de clases que tenemos, $log$ la función de logaritmo natural, $y$ es $0$ o $1$ dependiendo de la etiqueta real de la clase $c$ y por último $p_{o,c}$ es la probabilidad predicha de que la observación $o$ pertenezca a la clase $c$."
      ]
    },
    {
      "cell_type": "markdown",
      "metadata": {
        "id": "p8VFVTHVHKCS"
      },
      "source": [
        "Para calcular esto, en lugar de utilizar un ciclo \"for\", utilizaremos funciones de numpy."
      ]
    },
    {
      "cell_type": "code",
      "execution_count": 23,
      "metadata": {
        "id": "pHEEjhW3qqgJ"
      },
      "outputs": [],
      "source": [
        "def cross_entropy(y_hat, y):\n",
        "    return np.sum(- np.log(y_hat[range(len(y_hat)), y])) / y.shape[0]"
      ]
    },
    {
      "cell_type": "code",
      "execution_count": 24,
      "metadata": {
        "colab": {
          "base_uri": "https://localhost:8080/"
        },
        "id": "VSkWQRm1p1h6",
        "outputId": "7924be8b-6da6-4619-8abc-e4bd2dc1cc38"
      },
      "outputs": [
        {
          "data": {
            "text/plain": [
              "array([0.1, 0.5])"
            ]
          },
          "execution_count": 24,
          "metadata": {},
          "output_type": "execute_result"
        }
      ],
      "source": [
        "# El resultado final es lo que alimentará a la cross-entropy, es decir etiqueta\n",
        "# de que pertenece a la clase 1 por la probabilidad de pertenecer a la clase 1\n",
        "y = np.array([0, 2])\n",
        "y_hat = np.array([[0.1, 0.3, 0.6], [0.3, 0.2, 0.5]])\n",
        "y_hat[[0, 1], y]"
      ]
    },
    {
      "cell_type": "code",
      "execution_count": 25,
      "metadata": {
        "colab": {
          "base_uri": "https://localhost:8080/"
        },
        "id": "-C9idG4Lsk3W",
        "outputId": "ce748f58-3258-43f9-e4ea-7b29c7b5052e"
      },
      "outputs": [
        {
          "data": {
            "text/plain": [
              "1.4978661367769954"
            ]
          },
          "execution_count": 25,
          "metadata": {},
          "output_type": "execute_result"
        }
      ],
      "source": [
        "cross_entropy(y_hat, y)"
      ]
    },
    {
      "cell_type": "markdown",
      "metadata": {
        "id": "y0C0Wio7s5Mh"
      },
      "source": [
        "# Precisión de la clasificación"
      ]
    },
    {
      "cell_type": "markdown",
      "metadata": {
        "id": "kST4BHoWMH4b"
      },
      "source": [
        "En un problema de clasificación multi-clase, es decir, un problema en el que observemos varias caracteristicas de un elemento y decidamos a que clase pertenece dicho elemento.\n",
        "\n",
        "Por ejemplo: Un algoritmo de clasificación de imagenes que intente saber si algo es un perro, un gato o un ratón. Si introdujeramos características y al final diera un vector $(0.2, 0.38, 0.42)$, el algoritmo lo clasificaría como un ratón (lo marcaría como perteneciente a la tercer clase)\n",
        "\n",
        "Cuando las predicciones son consistentes con las etiquetas verdaderas, decimos que son correctas. La precisión de la clasificación son la cantidad de predicciones correctas entre todas las predicciones. Sin embargo, es muy difícil optimizar esto directamente (no es una función diferenciable), pero será muy importante para ver el rendimiento de nuestro modelo."
      ]
    },
    {
      "cell_type": "markdown",
      "metadata": {
        "id": "AbMsjaRTMHNQ"
      },
      "source": [
        "Lo que hacemos para ver la precisión es encontrar el valor mas grande en el vector de probabilidades, convertirlo en entero (porque muy probablemente sea un valor entr 0 y 1) y compararlo con las etiquetas verdaderas de nuestros datos."
      ]
    },
    {
      "cell_type": "code",
      "execution_count": 26,
      "metadata": {
        "colab": {
          "base_uri": "https://localhost:8080/"
        },
        "id": "ULYR_9RjPljp",
        "outputId": "4295b428-80f4-420d-f2dd-c3137facbe2a"
      },
      "outputs": [
        {
          "data": {
            "text/plain": [
              "array([2])"
            ]
          },
          "execution_count": 26,
          "metadata": {},
          "output_type": "execute_result"
        }
      ],
      "source": [
        "# ARGMAX regresa la posicion del elemento con mayor valor\n",
        "np.array([[0.2,0.38, 0.42]]).argmax(axis=1)"
      ]
    },
    {
      "cell_type": "code",
      "execution_count": 27,
      "metadata": {
        "id": "6WRt_0Ics488"
      },
      "outputs": [],
      "source": [
        "def accuracy(y_hat, y):\n",
        "    \"\"\"Calcula la cantidad de predicciones correctas.\"\"\"\n",
        "    if len(y_hat.shape) > 1 and y_hat.shape[1] > 1:\n",
        "        y_hat = y_hat.argmax(axis=1)\n",
        "    cmp = y_hat.astype(y.dtype) == y\n",
        "    return float(cmp.astype(y.dtype).sum())/ len(y)"
      ]
    },
    {
      "cell_type": "code",
      "execution_count": 28,
      "metadata": {
        "colab": {
          "base_uri": "https://localhost:8080/"
        },
        "id": "ZMF7OSNCtGVC",
        "outputId": "6b122c87-c286-4c73-cbe6-4c4fbfe8aadd"
      },
      "outputs": [
        {
          "data": {
            "text/plain": [
              "0.5"
            ]
          },
          "execution_count": 28,
          "metadata": {},
          "output_type": "execute_result"
        }
      ],
      "source": [
        "accuracy(y_hat, y)"
      ]
    },
    {
      "cell_type": "markdown",
      "metadata": {
        "id": "vx7hIiLYYy6l"
      },
      "source": [
        "## Veamos como sería el accuracy para nuestro modelo con pesos al azar"
      ]
    },
    {
      "cell_type": "code",
      "execution_count": 33,
      "metadata": {
        "colab": {
          "base_uri": "https://localhost:8080/"
        },
        "id": "1Bx9EcuoQT10",
        "outputId": "69663691-c9c0-45c1-eec4-b82bb13f483e"
      },
      "outputs": [
        {
          "data": {
            "text/plain": [
              "array([[-0.26413997, -0.17159563, -0.03433358, ...,  2.25730527,\n",
              "         0.21564981, -0.43020348],\n",
              "       [-0.26737141,  0.07195718, -0.03433358, ..., -0.25954205,\n",
              "        -0.25743172, -0.41553282],\n",
              "       [-0.26857105,  0.39219296, -0.03433358, ..., -0.35024783,\n",
              "        -0.25743176, -0.35151541],\n",
              "       ...,\n",
              "       [-0.27045626,  0.9521233 , -0.03433358, ..., -0.07680184,\n",
              "        -0.25668942, -0.41419912],\n",
              "       [-0.27027382,  2.65940442, -0.03433358, ..., -0.27547952,\n",
              "        -0.25713323, -0.3888589 ],\n",
              "       [-0.2702773 ,  0.66275362, -0.03433358, ...,  0.28933079,\n",
              "        -0.25311955, -0.423535  ]])"
            ]
          },
          "execution_count": 33,
          "metadata": {},
          "output_type": "execute_result"
        }
      ],
      "source": [
        "X_prob"
      ]
    },
    {
      "cell_type": "code",
      "execution_count": 34,
      "metadata": {
        "colab": {
          "base_uri": "https://localhost:8080/"
        },
        "id": "Jxzc1dXTYoaL",
        "outputId": "766daa4d-6360-4516-fe54-62220bdb7e36"
      },
      "outputs": [
        {
          "data": {
            "text/plain": [
              "0.6804989917361908"
            ]
          },
          "execution_count": 34,
          "metadata": {},
          "output_type": "execute_result"
        }
      ],
      "source": [
        "accuracy(net(X_prob, W, B),Y_prob)"
      ]
    },
    {
      "cell_type": "code",
      "execution_count": 35,
      "metadata": {
        "id": "BWjrsx5tZEFf"
      },
      "outputs": [],
      "source": [
        "W = np.random.normal(0, 0.1, (num_inputs, num_outputs)) # Jugaremos con este parametro\n",
        "B = np.zeros(num_outputs) # Jugaremos con este parametro"
      ]
    },
    {
      "cell_type": "code",
      "execution_count": 36,
      "metadata": {
        "colab": {
          "base_uri": "https://localhost:8080/"
        },
        "id": "1p1t9fb0YNxG",
        "outputId": "f1304124-945e-46d1-81ef-b2770c09a276"
      },
      "outputs": [
        {
          "data": {
            "text/plain": [
              "array([[0.3216505 , 0.6783495 ],\n",
              "       [0.52245611, 0.47754389],\n",
              "       [0.56882164, 0.43117836],\n",
              "       ...,\n",
              "       [0.81838667, 0.18161333],\n",
              "       [0.7374839 , 0.2625161 ],\n",
              "       [0.42246019, 0.57753981]])"
            ]
          },
          "execution_count": 36,
          "metadata": {},
          "output_type": "execute_result"
        }
      ],
      "source": [
        "# Las probabilidades que predecimos para cada fila de nuestros datos\n",
        "net(X_prob, W, B)"
      ]
    },
    {
      "cell_type": "code",
      "execution_count": 37,
      "metadata": {
        "colab": {
          "base_uri": "https://localhost:8080/"
        },
        "id": "WlBh3aN-Y4GG",
        "outputId": "75034eaa-8331-4cdf-9de7-ef6b1c170113"
      },
      "outputs": [
        {
          "data": {
            "text/plain": [
              "array([1, 1, 1, ..., 1, 1, 1])"
            ]
          },
          "execution_count": 37,
          "metadata": {},
          "output_type": "execute_result"
        }
      ],
      "source": [
        "# La etiqueta verdadera de nuestros datos\n",
        "Y_prob"
      ]
    },
    {
      "cell_type": "markdown",
      "metadata": {
        "id": "HMbRIr47vHUi"
      },
      "source": [
        "# Softmax Estable\n"
      ]
    },
    {
      "cell_type": "code",
      "execution_count": 38,
      "metadata": {
        "id": "Ki01nLOMu8af"
      },
      "outputs": [],
      "source": [
        "# Función softmax (Repetida de arriba solo para ejemplificar)\n",
        "def softmax(X):\n",
        "    X_exp = np.exp(X)\n",
        "    partition = X_exp.sum(1, keepdims=True)\n",
        "    return X_exp / partition"
      ]
    },
    {
      "cell_type": "code",
      "execution_count": 39,
      "metadata": {
        "id": "fWGnq6Fvzlkw"
      },
      "outputs": [],
      "source": [
        "# Softmax Estable\n",
        "def stable_softmax(X):\n",
        "    X_exp = np.exp(X - np.max(X, axis=1, keepdims=True))\n",
        "    partition = X_exp.sum(1, keepdims=True)\n",
        "    return X_exp / partition"
      ]
    },
    {
      "cell_type": "code",
      "execution_count": 40,
      "metadata": {
        "id": "IAjDVD6xvRRE"
      },
      "outputs": [],
      "source": [
        "def net_s(X,W,b):\n",
        "    return stable_softmax(np.dot(X.reshape((-1, W.shape[0])), W) + b)"
      ]
    },
    {
      "cell_type": "markdown",
      "metadata": {
        "id": "tP8jPUi-2fhP"
      },
      "source": [
        "# Demostración de Softmax estable"
      ]
    },
    {
      "cell_type": "code",
      "execution_count": 41,
      "metadata": {
        "id": "A0ztJCHDz2iT"
      },
      "outputs": [],
      "source": [
        "prueba = np.array([[99999, 99995, 99993],[9, 5, 3]])"
      ]
    },
    {
      "cell_type": "code",
      "execution_count": 42,
      "metadata": {
        "colab": {
          "base_uri": "https://localhost:8080/"
        },
        "id": "7NAUCE4bzq9D",
        "outputId": "ece82ea5-12ce-4a1b-eef0-c78d1676e6bf"
      },
      "outputs": [
        {
          "name": "stderr",
          "output_type": "stream",
          "text": [
            "/var/folders/_2/ssn9p4gn1zq96vptrk6db0940000gn/T/ipykernel_10494/406658106.py:3: RuntimeWarning: overflow encountered in exp\n",
            "  X_exp = np.exp(X)\n",
            "/var/folders/_2/ssn9p4gn1zq96vptrk6db0940000gn/T/ipykernel_10494/406658106.py:5: RuntimeWarning: invalid value encountered in divide\n",
            "  return X_exp / partition\n"
          ]
        },
        {
          "data": {
            "text/plain": [
              "array([[       nan,        nan,        nan],\n",
              "       [0.97962921, 0.01794253, 0.00242826]])"
            ]
          },
          "execution_count": 42,
          "metadata": {},
          "output_type": "execute_result"
        }
      ],
      "source": [
        "softmax(prueba)"
      ]
    },
    {
      "cell_type": "code",
      "execution_count": 43,
      "metadata": {
        "colab": {
          "base_uri": "https://localhost:8080/"
        },
        "id": "w3Fxqeucz4aN",
        "outputId": "68ccbc61-7ab6-43d3-8c3e-6355d43dd8d8"
      },
      "outputs": [
        {
          "data": {
            "text/plain": [
              "array([[0.97962921, 0.01794253, 0.00242826],\n",
              "       [0.97962921, 0.01794253, 0.00242826]])"
            ]
          },
          "execution_count": 43,
          "metadata": {},
          "output_type": "execute_result"
        }
      ],
      "source": [
        "stable_softmax(prueba)"
      ]
    },
    {
      "cell_type": "code",
      "execution_count": 44,
      "metadata": {
        "colab": {
          "base_uri": "https://localhost:8080/"
        },
        "id": "iOSGd-A2vRsv",
        "outputId": "86b2b03e-ee10-4910-e829-2ecc4bd0f04e"
      },
      "outputs": [
        {
          "data": {
            "text/plain": [
              "1.4978661367769954"
            ]
          },
          "execution_count": 44,
          "metadata": {},
          "output_type": "execute_result"
        }
      ],
      "source": [
        "cross_entropy(y_hat, y)"
      ]
    },
    {
      "cell_type": "markdown",
      "metadata": {},
      "source": [
        "¿Cómo sería el gradiente de nuestra función de pérdida?\n",
        "\n",
        "Sea\n",
        "$$\n",
        "z_i = b + \\omega_1 x_1 + \\ldots + \\omega_k x_k\n",
        "$$\n",
        "para nuestros datos i-ésimos $\\{ x_1, \\ldots, x_k \\} \\in X$. Tenemos que\n",
        "$$\n",
        "\\frac{\\partial L}{\\partial \\omega} = \\frac{\\partial L}{\\partial z} \\frac{\\partial z}{\\partial \\omega}\n",
        "$$\n",
        "así\n",
        "$$\n",
        "\\frac{dL}{dz_i} = \\frac{d}{dz_i} \\left[  - \\sum_{k=1}^c y_k \\log (a_k) \\right]\n",
        "$$\n",
        "$$\n",
        "= - \\sum_{k=1}^c y_k \\frac{d \\left( \\log (a_k) \\right)}{dz_i}\n",
        "$$\n",
        "$$\n",
        "= - \\sum_{k=1}^c y_k \\frac{d \\left( \\log (a_k) \\right)}{da_k} \\cdot \\frac{da_k}{dz_i}\n",
        "$$\n",
        "$$\n",
        "= - \\sum_{k=1}^c \\frac{y_k}{a_k} \\cdot \\frac{da_k}{dz_i}\n",
        "$$\n",
        "$$\n",
        "= - \\left[ \\frac{y_i}{a_i} \\cdot \\frac{da_i}{dz_i} + \\sum_{k=1, k \\neq i}^c \\frac{y_k}{a_k} \\frac{da_k}{dz_i} \\right]\n",
        "$$\n",
        "$$\n",
        "= - \\frac{y_i}{\\cancel{a_i}} \\cdot \\cancel{a_i} (1 - a_i) - \\sum_{k=1, k \\neq i}^c \\frac{y_k}{\\cancel{a_k}} \\cdot (\\cancel{a_k} a_i)\n",
        "$$\n",
        "$$\n",
        "= - y_i + y_i a_i + \\sum_{k=1, k \\neq i}^c y_k a_i\n",
        "$$\n",
        "$$\n",
        "= a_i \\left( y_i + \\sum_{k=1, k \\neq i}^c y_k \\right) - y_i\n",
        "$$\n",
        "$$\n",
        "= a_i + \\sum_{k=1}^c y_k - y_i\n",
        "$$\n",
        "$$\n",
        "= a_i \\cdot 1 - y_i \\quad \\text{since} \\quad \\sum_{k=1}^c y_k = 1\n",
        "$$\n",
        "$$\n",
        "= a_i - y_i\n",
        "$$\n",
        "además\n",
        "$$\n",
        "\\frac{\\partial z_i}{\\partial \\omega_i} = x_i\n",
        "$$\n"
      ]
    },
    {
      "cell_type": "code",
      "execution_count": 45,
      "metadata": {
        "id": "bdaasRLfu3cI"
      },
      "outputs": [],
      "source": [
        "def grad_softmax_cross_entropy_for_w(X, y_true, w, b):\n",
        "    netaux = net_s(X,w,b)\n",
        "\n",
        "    ones_true_class = np.zeros_like(netaux) # Matriz de ceros que tiene la forma de las probabilidades, si alimentamos todos los datos es 50000X2\n",
        "\n",
        "    ones_true_class[np.arange(len(netaux)),y_true] = 1 # Genera 1 o cero si esta en la clasificacion correcta\n",
        "\n",
        "    softmax_ = netaux # softmax aplicado a mis probabilidades\n",
        "\n",
        "    aux1 = softmax_ - ones_true_class\n",
        "\n",
        "    return X.T @ aux1/X.shape[0]"
      ]
    },
    {
      "cell_type": "code",
      "execution_count": 46,
      "metadata": {
        "id": "vPmuEewJvWyR"
      },
      "outputs": [],
      "source": [
        "def grad_softmax_cross_entropy_for_b(X, y_true, w, b):\n",
        "    netaux = net_s(X,w,b)\n",
        "\n",
        "    ones_true_class = np.zeros_like(netaux) # Matriz de ceros que tiene la forma de las probabilidades (logits.shape), si alimento todos los datos es 50000X2\n",
        "\n",
        "    ones_true_class[np.arange(len(netaux)),y_true] = 1 # Genera 1 o cero si esta en la clasificacion correcta\n",
        "\n",
        "    softmax_ = netaux # softmax aplicado a mis probabilidades\n",
        "\n",
        "    aux1 = softmax_ - ones_true_class\n",
        "\n",
        "    return aux1.sum(axis=0, keepdims=True)/X.shape[0]"
      ]
    },
    {
      "cell_type": "markdown",
      "metadata": {
        "id": "Iqm6FZHOv5kh"
      },
      "source": [
        "Ahora podemos implementar Gradient Descent"
      ]
    },
    {
      "cell_type": "code",
      "execution_count": 47,
      "metadata": {
        "id": "xaj_uBU4LxfB"
      },
      "outputs": [],
      "source": [
        "def gradient_descent(x, y, w, b, net, learning_rate=0.1, num_epochs=10):\n",
        "\tm = x.shape[0]\n",
        "\tJ_all = []\n",
        "\n",
        "\tfor _ in range(num_epochs):\n",
        "\t\ty_probs = net_s(x, w, b)\n",
        "\n",
        "\t\tgradient_w = grad_softmax_cross_entropy_for_w(x,y,w,b)\n",
        "\t\tgradient_b = grad_softmax_cross_entropy_for_b(x,y,w,b)\n",
        "\n",
        "\t #Actualización de los parámetros\n",
        "\t\tw = w - (learning_rate)*gradient_w\n",
        "\t\tb = b - (learning_rate)*gradient_b\n",
        "\n",
        "\t\tJ_all.append(cross_entropy(y_probs, y))\n",
        "\n",
        "\treturn J_all, w, b"
      ]
    },
    {
      "cell_type": "code",
      "execution_count": 48,
      "metadata": {
        "id": "VyLdbdMdNmAp"
      },
      "outputs": [],
      "source": [
        "W = np.random.normal(0, 0.1, (num_inputs, num_outputs)) # Jugaremos con este parametro\n",
        "B = np.zeros(num_outputs) # Jugaremos con este parametro"
      ]
    },
    {
      "cell_type": "code",
      "execution_count": 49,
      "metadata": {
        "id": "fdtOu8Gv4phz"
      },
      "outputs": [],
      "source": [
        "learning_rate = 0.01\n",
        "num_epochs = 1000"
      ]
    },
    {
      "cell_type": "code",
      "execution_count": 50,
      "metadata": {
        "colab": {
          "base_uri": "https://localhost:8080/"
        },
        "id": "TWTzZZQcBSEb",
        "outputId": "ad9001cf-0bce-4535-ba40-958d93aa9e08"
      },
      "outputs": [
        {
          "name": "stdout",
          "output_type": "stream",
          "text": [
            "Cost:  0.24293480868260442\n",
            "Parameters:  [[ 0.39335421 -0.2311388 ]\n",
            " [-0.26676697 -0.18437606]\n",
            " [-0.16585777  0.11725553]\n",
            " [-0.0473998   0.02122745]\n",
            " [-0.01948092  0.02795025]\n",
            " [-0.06272606 -0.06348384]\n",
            " [-0.06877592  0.0132776 ]\n",
            " [ 0.09601284 -0.14886862]\n",
            " [-0.10109867  0.05726233]\n",
            " [-0.43028107  0.33212183]\n",
            " [-0.10554724  0.19333717]\n",
            " [-0.20324482 -0.03107103]\n",
            " [-0.07571916  0.04709109]\n",
            " [ 0.11847566 -0.08794992]\n",
            " [ 0.04810644 -0.10035331]\n",
            " [ 0.14945677 -0.0709922 ]\n",
            " [-0.21865768  0.09133098]\n",
            " [ 0.08961255  0.10831036]\n",
            " [ 0.89764612 -0.84417545]\n",
            " [ 0.00774678  0.13376164]\n",
            " [-0.03378854 -0.12511797]\n",
            " [ 0.18723218 -0.14849103]\n",
            " [-0.00214404  0.11424328]\n",
            " [-0.17516282 -0.01428661]\n",
            " [ 0.12943736 -0.16693244]]\n",
            "Intercepto:  [[ 0.42224222 -0.42224222]]\n"
          ]
        }
      ],
      "source": [
        "J_all, W, B = gradient_descent(X_prob, Y_prob, W, B, net, learning_rate, num_epochs)\n",
        "Y_hat = net(X_prob, W, B)\n",
        "J = cross_entropy(Y_hat, Y_prob)\n",
        "print(\"Cost: \", J)\n",
        "print(\"Parameters: \", W)\n",
        "print(\"Intercepto: \", B)"
      ]
    },
    {
      "cell_type": "code",
      "execution_count": 82,
      "metadata": {
        "colab": {
          "base_uri": "https://localhost:8080/"
        },
        "id": "idROj5bqPLSL",
        "outputId": "072fc7b4-fb64-496d-e2fb-54cad73a0f69"
      },
      "outputs": [
        {
          "name": "stdout",
          "output_type": "stream",
          "text": [
            "[0.6955279993967503, 0.6833349602846674, 0.6719427675785542, 0.6612943986380477, 0.6513356145844893, 0.6420151439744824, 0.6332847905714779, 0.6250994732431392, 0.6174172075988159, 0.6101990397325399, 0.6034089424312721, 0.597013683603343, 0.590982675666742, 0.5852878133931403, 0.5799033063836597, 0.5748055110695864, 0.5699727659594067, 0.565385232833227, 0.561024745731632, 0.556874668895574, 0.5529197642733092, 0.5491460688005236, 0.5455407813595242, 0.5420921591121677, 0.538789422760329, 0.5356226702010399, 0.5325827979973952, 0.529661430070039, 0.526850853018807, 0.5241439575032462, 0.5215341851391769, 0.5190154804024179, 0.5165822470675426, 0.5142293087471149, 0.5119518731339076, 0.509745499584293, 0.5076060697146954, 0.5055297607144563, 0.5035130211075028, 0.5015525487218158, 0.49964527064994463, 0.4977883250057747, 0.49597904430260914, 0.4942149402955, 0.49249369014682026, 0.4908131237884912, 0.4891712123671838, 0.4875660576703821, 0.48599588244153824, 0.48445902150180437, 0.4829539136041048, 0.4814790939527123, 0.4800331873281169, 0.47861490176289995, 0.4772230227196338, 0.47585640772657756, 0.47451398143119533, 0.4731947310353482, 0.4718977020794304, 0.4706219945457987, 0.4693667592546123, 0.4681311945276789, 0.4669145430981491, 0.4657160892459066, 0.46453515614032564, 0.4633711033737027, 0.4622233246701472, 0.46109124575605887, 0.45997432237951896, 0.45887203846702845, 0.45778390440700517, 0.45670945545036457, 0.4556482502193094, 0.45459986931620733, 0.4535639140250993, 0.452540005099, 0.45152778162670404, 0.45052689997332185, 0.4495370327892329, 0.4485578680825632, 0.4475891083506821, 0.44663046976656495, 0.4456816814161891, 0.4447424845834289, 0.4438126320791818, 0.44289188761170556, 0.4419800251953775, 0.441076828595288, 0.4401820908052799, 0.43929561355721297, 0.4384172068594005, 0.43754668856231177, 0.4366838839497682, 0.435828625353993, 0.4349807517929851, 0.43414010862879754, 0.43330654724540046, 0.43247992474489955, 0.4316601036609629, 0.43084695168839315, 0.4300403414278479, 0.42924015014478206, 0.42844625954174814, 0.42765855554324383, 0.42687692809235567, 0.42610127095849204, 0.4253314815555472, 0.424567460769879, 0.4238091127975254, 0.42305634499011874, 0.4223090677089915, 0.4215671941870024, 0.4208306403976369, 0.42009932493096563, 0.4193731688760728, 0.4186520957095852, 0.4179360311899606, 0.41722490325721023, 0.41651864193775434, 0.41581717925412337, 0.4151204491392389, 0.41442838735502113, 0.4137409314150857, 0.413058020511307, 0.4123795954440389, 0.41170559855579353, 0.411035973668192, 0.4103706660220137, 0.4097096222201758, 0.40905279017348867, 0.40840011904903956, 0.40775155922106654, 0.40710706222419096, 0.406466580708885, 0.40583006839905783, 0.40519748005165007, 0.4045687714181333, 0.40394389920781426, 0.4033228210528533, 0.40270549547490775, 0.40209188185331746, 0.4014819403947538, 0.40087563210425875, 0.4002729187576025, 0.39967376287489387, 0.3990781276953811, 0.3984859771533813, 0.3978972758552854, 0.3973119890575816, 0.39673008264585, 0.39615152311467783, 0.3955762775484516, 0.3950043136029816, 0.3944355994879203, 0.39387010394993244, 0.3933077962565838, 0.39274864618091127, 0.3921926239866418, 0.39163970041403007, 0.3910898466662836, 0.3905430343965483, 0.3899992356954264, 0.38945842307900264, 0.3889205694773546, 0.3883856482235227, 0.38785363304292003, 0.38732449804316005, 0.3867982177042834, 0.38627476686936435, 0.38575412073548054, 0.3852362548450271, 0.384721145077361, 0.3842087676407602, 0.38369909906468214, 0.38319211619230836, 0.3826877961733632, 0.38218611645719186, 0.3816870547860895, 0.38119058918886545, 0.380696697974637, 0.38020535972683855, 0.3797165532974383, 0.3792302578013537, 0.37874645261105555, 0.3782651173513531, 0.37778623189435245, 0.37730977635458096, 0.37683573108426865, 0.37636407666878285, 0.37589479392220654, 0.37542786388305643, 0.374963267810133, 0.37450098717849906, 0.3740410036755789, 0.37358329919737593, 0.3731278558448006, 0.37267465592010723, 0.3722236819234322, 0.371774916549433, 0.37132834268402, 0.37088394340117997, 0.3704417019598874, 0.37000160180109903, 0.36956362654482866, 0.36912775998730035, 0.36869398609817444, 0.36826228901784686, 0.3678326530548155, 0.36740506268311374, 0.36697950253980705, 0.3665559574225513, 0.3661344122872096, 0.36571485224552613, 0.3652972625628546, 0.36488162865593987, 0.3644679360907493, 0.36405617058035467, 0.3636463179828602, 0.3632383642993768, 0.36283229567203984, 0.362428098382071, 0.3620257588478788, 0.3616252636232012, 0.3612265993952854, 0.36082975298310516, 0.3604347113356138, 0.3600414615300326, 0.3596499907701725, 0.35926028638478796, 0.358872335825964, 0.3584861266675318, 0.35810164660351623, 0.35771888344660974, 0.3573378251266771, 0.3569584596892848, 0.356580775294258, 0.3562047602142633, 0.3558304028334154, 0.35545769164590935, 0.355086615254675, 0.354717162370055, 0.3543493218085052, 0.3539830824913164, 0.3536184334433575, 0.3532553637918385, 0.3528938627650948, 0.35253391969139003, 0.352175523997738, 0.35181866520874394, 0.35146333294546306, 0.35110951692427705, 0.35075720695578827, 0.3504063929437302, 0.3500570648838949, 0.3497092128630757, 0.34936282705802696, 0.34901789773443836, 0.3486744152459239, 0.34833237003302664, 0.34799175262223714, 0.34765255362502595, 0.3473147637368905, 0.34697837373641505, 0.34664337448434357, 0.34630975692266674, 0.34597751207372046, 0.3456466310392971, 0.34531710499977, 0.34498892521322816, 0.3446620830146244, 0.34433656981493393, 0.34401237710032495, 0.3436894964313397, 0.34336791944208717, 0.3430476378394456, 0.3427286434022766, 0.3424109279806488, 0.3420944834950716, 0.34177930193573985, 0.3414653753617869, 0.3411526959005483, 0.34084125574683544, 0.3405310471622165, 0.340222062474309, 0.3399142940760794, 0.33960773442515313, 0.3393023760431315, 0.33899821151491977, 0.3386952334880605, 0.3383934346720782, 0.3380928078378303, 0.33779334581686604, 0.3374950415007955, 0.33719788784066324, 0.3369018778463325, 0.3366070045858747, 0.3363132611849684, 0.3360206408263037, 0.3357291367489954, 0.3354387422480025, 0.3351494506735548, 0.33486125543058687, 0.3345741499781778, 0.3342881278289991, 0.334003182548768, 0.3337193077557079, 0.3334364971200153, 0.3331547443633323, 0.3328740432582268, 0.332594387627677, 0.332315771344564, 0.33203818833116866, 0.3317616325586756, 0.3314860980466815, 0.33121157886271185, 0.33093806912174045, 0.3306655629857158, 0.3303940546630937, 0.33012353840837383, 0.32985400852164304, 0.32958545934812256, 0.329317885277722, 0.3290512807445975, 0.3287856402267147, 0.3285209582454178, 0.3282572293650031, 0.32799444819229656, 0.3277326093762379, 0.3274717076074676, 0.32721173761792044, 0.3269526941804223, 0.3266945721082918, 0.326437366254947, 0.3261810715135162, 0.3259256828164533, 0.325671195135157, 0.3254176034795948, 0.32516490289793154, 0.3249130884761611, 0.3246621553377434, 0.32441209864324433, 0.32416291358998084, 0.323914595411669, 0.32366713937807673, 0.32342054079468024, 0.3231747950023237, 0.32292989737688327, 0.3226858433289354, 0.3224426283034273, 0.3222002477793525, 0.3219586972694291, 0.32171797231978205, 0.32147806850962873, 0.3212389814509682, 0.32100070678827325, 0.32076324019818686, 0.320526577389221, 0.3202907141014596, 0.3200556461062636, 0.3198213692059804, 0.31958787923365645, 0.3193551720527514, 0.31912324355685745, 0.31889208966942056, 0.31866170634346486, 0.31843208956131985, 0.31820323533435124, 0.31797513970269414, 0.317747798734989, 0.3175212085281211, 0.31729536520696183, 0.317070264924114, 0.3168459038596585, 0.3166222782209051, 0.3163993842421444, 0.31617721818440414, 0.3159557763352063, 0.31573505500832827, 0.3155150505435661, 0.31529575930649967, 0.31507717768826093, 0.314859302105305, 0.314642128999183, 0.3144256548363169, 0.31420987610777834, 0.3139947893290682, 0.3137803910398991, 0.31356667780398034, 0.313353646208805, 0.31314129286543924, 0.31292961440831335, 0.3127186074950163, 0.31250826880609045, 0.3122985950448308, 0.3120895829370841, 0.31188122923105144, 0.31167353069709247, 0.3114664841275316, 0.31126008633646635, 0.31105433415957756, 0.31084922445394175, 0.3106447540978453, 0.3104409199906006, 0.31023771905236347, 0.3100351482239542, 0.30983320446667856, 0.309631884762151, 0.30943118611212106, 0.3092311055383, 0.30903164008218964, 0.30883278680491316, 0.3086345427870479, 0.30843690512845906, 0.30823987094813593, 0.30804343738402906, 0.30784760159288965, 0.3076523607501104, 0.3074577120495678, 0.3072636527034663, 0.3070701799421839, 0.30687729101411926, 0.3066849831855403, 0.3064932537404349, 0.30630209998036206, 0.3061115192243055, 0.3059215088085286, 0.3057320660864301, 0.3055431884284019, 0.3053548732216882, 0.3051671178702462, 0.3049799197946073, 0.30479327643174114, 0.30460718523491953, 0.3044216436735827, 0.3042366492332068, 0.3040521994151722, 0.30386829173663316, 0.30368492373039, 0.30350209294476044, 0.303319796943454, 0.3031380333054468, 0.302956799624858, 0.3027760935108267, 0.30259591258739116, 0.30241625449336845, 0.30223711688223526, 0.30205849742201035, 0.30188039379513776, 0.30170280369837127, 0.30152572484266005, 0.3013491549530356, 0.301173091768499, 0.3009975330419104, 0.30082247653987865, 0.30064792004265267, 0.3004738613440134, 0.30030029825116655, 0.3001272285846378, 0.299954650178167, 0.2997825608786052, 0.299610958545811, 0.29943984105254956, 0.2992692062843915, 0.29909905213961296, 0.2989293765290968, 0.2987601773762344, 0.2985914526168295, 0.29842320019900104, 0.2982554180830884, 0.2980881042415576, 0.2979212566589074, 0.2977548733315767, 0.29758895226785353, 0.2974234914877838, 0.29725848902308166, 0.29709394291704033, 0.296929851224444, 0.29676621201148046, 0.2966030233556545, 0.29644028334570227, 0.29627799008150624, 0.296116141674011, 0.2959547362451401, 0.29579377192771333, 0.29563324686536524, 0.29547315921246314, 0.2953135071340283, 0.2951542888056549, 0.2949955024134325, 0.29483714615386686, 0.29467921823380316, 0.29452171687034934, 0.2943646402908001, 0.2942079867325615, 0.2940517544430765, 0.2938959416797513, 0.29374054670988137, 0.2935855678105801, 0.29343100326870597, 0.2932768513807915, 0.29312311045297323, 0.2929697788009209, 0.292816854749769, 0.2926643366340475, 0.292512222797614, 0.29236051159358656, 0.2922092013842762, 0.29205829054112126, 0.29190777744462165, 0.29175766048427354, 0.29160793805850516, 0.29145860857461264, 0.291309670448697, 0.29116112210560097, 0.29101296197884735, 0.2908651885105768, 0.2907178001514869, 0.2905707953607719, 0.290424172606062, 0.29027793036336463, 0.29013206711700484, 0.2899865813595671, 0.2898414715918374, 0.28969673632274545, 0.28955237406930845, 0.28940838335657354, 0.289264762717563, 0.28912151069321784, 0.2889786258323434, 0.2888361066915546, 0.2886939518352218, 0.2885521598354174, 0.28841072927186256, 0.28826965873187466, 0.28812894681031515, 0.28798859210953714, 0.2878485932393354, 0.28770894881689385, 0.2875696574667363, 0.287430717820676, 0.2872921285177661, 0.2871538882042502, 0.28701599553351403, 0.2868784491660367, 0.2867412477693432, 0.286604390017956, 0.2864678745933491, 0.28633170018390036, 0.2861958654848452, 0.2860603691982312, 0.28592521003287197, 0.2857903867043021, 0.28565589793473256, 0.2855217424530057, 0.2853879189945515, 0.28525442630134396, 0.2851212631218574, 0.28498842821102377, 0.2848559203301896, 0.2847237382470739, 0.28459188073572655, 0.28446034657648567, 0.28432913455593756, 0.28419824346687483, 0.2840676721082562, 0.283937419285166, 0.28380748380877446, 0.283677864496298, 0.28354856017095964, 0.28341956966195025, 0.2832908918043899, 0.28316252543928905, 0.2830344694135114, 0.28290672257973487, 0.28277928379641526, 0.2826521519277484, 0.2825253258436333, 0.2823988044196362, 0.28227258653695353, 0.28214667108237607, 0.2820210569482536, 0.2818957430324592, 0.28177072823835386, 0.28164601147475204, 0.2815215916558869, 0.28139746770137586, 0.2812736385361865, 0.2811501030906027, 0.2810268603001916, 0.28090390910576957, 0.28078124845337005, 0.28065887729420963, 0.2805367945846567, 0.28041499928619845, 0.2802934903654091, 0.2801722667939182, 0.280051327548379, 0.27993067161043705, 0.2798102979666992, 0.27969020560870334, 0.2795703935328867, 0.2794508607405567, 0.2793316062378601, 0.2792126290357532, 0.2790939281499726, 0.278975502601005, 0.27885735141405904, 0.27873947361903534, 0.2786218682504983, 0.2785045343476471, 0.2783874709542881, 0.27827067711880576, 0.2781541518941356, 0.27803789433773574, 0.27792190351155993, 0.27780617848203015, 0.2776907183200092, 0.2775755221007743, 0.27746058890398995, 0.2773459178136815, 0.2772315079182094, 0.2771173583102422, 0.2770034680867313, 0.27688983634888503, 0.27677646220214297, 0.2766633447561508, 0.276550483124735, 0.2764378764258782, 0.27632552378169356, 0.27621342431840123, 0.2761015771663031, 0.2759899814597589, 0.27587863633716203, 0.27576754094091555, 0.27565669441740875, 0.27554609591699314, 0.27543574459395953, 0.27532563960651424, 0.2752157801167567, 0.2751061652906559, 0.27499679429802815, 0.2748876663125143, 0.27477878051155735, 0.2746701360763801, 0.27456173219196334, 0.2744535680470235, 0.2743456428339914, 0.27423795574899007, 0.2741305059918137, 0.2740232927659062, 0.27391631527833993, 0.27380957273979467, 0.273703064364537, 0.27359678937039933, 0.2734907469787594, 0.2733849364145197, 0.27327935690608773, 0.273174007685355, 0.27306888798767776, 0.27296399705185664, 0.27285933412011726, 0.27275489843809053, 0.272650689254793, 0.2725467058226078, 0.27244294739726543, 0.27233941323782435, 0.2722361026066528, 0.27213301476940904, 0.27203014899502354, 0.27192750455568, 0.27182508072679684, 0.2717228767870095, 0.27162089201815154, 0.27151912570523723, 0.27141757713644327, 0.2713162456030912, 0.2712151303996294, 0.2711142308236162, 0.27101354617570184, 0.2709130757596112, 0.2708128188821272, 0.2707127748530732, 0.270612942985296, 0.2705133225946491, 0.27041391299997647, 0.27031471352309516, 0.27021572348877915, 0.2701169422247432, 0.2700183690616262, 0.26992000333297483, 0.2698218443752282, 0.2697238915277015, 0.26962614413256963, 0.2695286015348526, 0.2694312630823988, 0.2693341281258701, 0.2692371960187263, 0.26914046611720954, 0.26904393778032953, 0.26894761036984793, 0.2688514832502637, 0.26875555578879806, 0.26865982735537963, 0.26856429732262965, 0.26846896506584755, 0.26837382996299625, 0.2682788913946875, 0.2681841487441681, 0.2680896013973053, 0.26799524874257263, 0.26790109017103597, 0.26780712507633914, 0.26771335285469083, 0.2676197729048502, 0.2675263846281133, 0.2674331874282995, 0.26734018071173793, 0.26724736388725423, 0.267154736366157, 0.2670622975622245, 0.2669700468916915, 0.2668779837732367, 0.2667861076279686, 0.26669441787941384, 0.26660291395350366, 0.26651159527856105, 0.2664204612852885, 0.26632951140675515, 0.26623874507838435, 0.26614816173794115, 0.2660577608255203, 0.26596754178353327, 0.26587750405669675, 0.2657876470920202, 0.2656979703387939, 0.265608473248577, 0.2655191552751855, 0.2654300158746806, 0.26534105450535705, 0.26525227062773105, 0.26516366370452915, 0.26507523320067666, 0.26498697858328585, 0.264898899321645, 0.26481099488720683, 0.26472326475357744, 0.26463570839650513, 0.26454832529386924, 0.26446111492566915, 0.2643740767740134, 0.2642872103231087, 0.2642005150592494, 0.2641139904708063, 0.2640276360482164, 0.2639414512839719, 0.26385543567261016, 0.26376958871070266, 0.263683909896845, 0.2635983987316465, 0.2635130547177197, 0.2634278773596703, 0.2633428661640871, 0.2632580206395315, 0.2631733402965283, 0.2630888246475545, 0.26300447320703074, 0.26292028549131036, 0.26283626101867036, 0.2627523993093011, 0.2626686998852972, 0.2625851622706473, 0.26250178599122537, 0.26241857057478013, 0.2623355155509267, 0.2622526204511365, 0.2621698848087281, 0.2620873081588583, 0.2620048900385122, 0.26192262998649507, 0.2618405275434223, 0.26175858225171095, 0.2616767936555706, 0.2615951613009943, 0.2615136847357499, 0.26143236350937105, 0.26135119717314864, 0.261270185280122, 0.26118932738507017, 0.2611086230445033, 0.26102807181665405, 0.26094767326146945, 0.260867426940602, 0.26078733241740143, 0.2607073892569064, 0.2606275970258361, 0.2605479552925822, 0.26046846362720033, 0.26038912160140204, 0.2603099287885472, 0.260230884763635, 0.26015198910329657, 0.26007324138578714, 0.2599946411909775, 0.25991618810034667, 0.259837881696974, 0.25975972156553123, 0.2596817072922748, 0.2596038384650383, 0.2595261146732248, 0.25944853550779895, 0.25937110056128, 0.25929380942773367, 0.2592166617027653, 0.25913965698351193, 0.2590627948686352, 0.258986074958314, 0.25890949685423714, 0.2588330601595959, 0.2587567644790775, 0.2586806094188569, 0.2586045945865908, 0.25852871959140983, 0.2584529840439113, 0.25837738755615336, 0.25830192974164695, 0.25822661021534904, 0.25815142859365625, 0.2580763844943978, 0.2580014775368284, 0.2579267073416217, 0.257852073530864, 0.2577775757280468, 0.2577032135580609, 0.25762898664718914, 0.25755489462310033, 0.25748093711484243, 0.2574071137528365, 0.2573334241688696, 0.25725986799608885, 0.25718644486899483, 0.2571131544234356, 0.25703999629659974, 0.25696697012701075, 0.2568940755545204, 0.2568213122203028, 0.25674867976684806, 0.2566761778379562, 0.256603806078731, 0.2565315641355743, 0.2564594516561794, 0.25638746828952536, 0.25631561368587136, 0.2562438874967502, 0.25617228937496295, 0.2561008189745725, 0.25602947595089826, 0.25595825996051025, 0.25588717066122335, 0.25581620771209124, 0.2557453707734011, 0.2556746595066678, 0.25560407357462855, 0.2555336126412367, 0.25546327637165683, 0.2553930644322587, 0.255322976490612, 0.25525301221548097, 0.25518317127681867, 0.2551134533457619, 0.25504385809462543, 0.25497438519689714, 0.25490503432723227, 0.25483580516144827, 0.25476669737651936, 0.25469771065057206, 0.2546288446628788, 0.25456009909385363, 0.25449147362504676, 0.25442296793913954, 0.2543545817199392, 0.254286314652374, 0.2542181664224878, 0.2541501367174358, 0.2540822252254787, 0.25401443163597826, 0.25394675563939245, 0.25387919692727, 0.25381175519224614, 0.2537444301280375, 0.2536772214294371, 0.25361012879230993, 0.2535431519135878, 0.2534762904912651, 0.2534095442243935, 0.2533429128130776, 0.2532763959584703, 0.2532099933627679, 0.2531437047292058, 0.2530775297620538, 0.25301146816661124, 0.2529455196492029, 0.25287968391717436, 0.25281396067888723, 0.2527483496437151, 0.2526828505220388, 0.25261746302524213, 0.2525521868657072, 0.25248702175681065, 0.2524219674129185, 0.25235702354938255, 0.2522921898825357, 0.2522274661296875, 0.2521628520091206, 0.25209834724008545, 0.25203395154279706, 0.2519696646384307, 0.25190548624911663, 0.25184141609793775, 0.25177745390892387, 0.25171359940704846, 0.25164985231822434, 0.2515862123692997, 0.25152267928805394, 0.2514592528031938, 0.25139593264434923, 0.2513327185420695, 0.2512696102278192, 0.2512066074339744, 0.2511437098938187, 0.251080917341539, 0.2510182295122224, 0.2509556461418514, 0.25089316696730113, 0.25083079172633455, 0.2507685201575991, 0.250706352000623, 0.25064428699581154, 0.250582324884443, 0.2505204654086652, 0.25045870831149175, 0.2503970533367985, 0.2503355002293198, 0.2502740487346446, 0.25021269859921325, 0.2501514495703136, 0.25009030139607774, 0.2500292538254782, 0.24996830660832417, 0.24990745949525853, 0.24984671223775398, 0.24978606458810967, 0.24972551629944778, 0.24966506712570974, 0.24960471682165325, 0.24954446514284853, 0.24948431184567516, 0.2494242566873185, 0.24936429942576643, 0.24930443981980596, 0.24924467762901986, 0.2491850126137835, 0.24912544453526148, 0.24906597315540424, 0.24900659823694482, 0.2489473195433958, 0.24888813683904587, 0.2488290498889567, 0.24877005845895964, 0.24871116231565285, 0.2486523612263977, 0.24859365495931587, 0.24853504328328616, 0.24847652596794154, 0.24841810278366563, 0.24835977350159008, 0.24830153789359113, 0.2482433957322869, 0.24818534679103402, 0.24812739084392485, 0.24806952766578425, 0.24801175703216682, 0.24795407871935365, 0.24789649250434956, 0.24783899816488023, 0.247781595479389, 0.24772428422703402, 0.2476670641876855, 0.24760993514192264, 0.24755289687103096, 0.24749594915699905, 0.2474390917825162, 0.24738232453096917, 0.24732564718643968, 0.2472690595337014, 0.247212561358217, 0.24715615244613603, 0.24709983258429122, 0.24704360156019647, 0.24698745916204373, 0.2469314051787005]\n"
          ]
        }
      ],
      "source": [
        "print(J_all)"
      ]
    },
    {
      "cell_type": "code",
      "execution_count": 83,
      "metadata": {
        "colab": {
          "base_uri": "https://localhost:8080/",
          "height": 430
        },
        "id": "hvlLiqkyQOXF",
        "outputId": "77266dca-a558-46e1-daf7-115396d370d9"
      },
      "outputs": [
        {
          "data": {
            "image/png": "[encoded data removed]",
            "text/plain": [
              "<Figure size 640x480 with 1 Axes>"
            ]
          },
          "metadata": {},
          "output_type": "display_data"
        }
      ],
      "source": [
        "perdida_por_epoca = np.array(J_all).reshape(-1,1)\n",
        "plt.plot(perdida_por_epoca)\n",
        "plt.show()"
      ]
    },
    {
      "cell_type": "code",
      "execution_count": 84,
      "metadata": {
        "colab": {
          "base_uri": "https://localhost:8080/"
        },
        "id": "FhTSxna-NKqK",
        "outputId": "7ea5e7d5-d062-49e6-a632-7c11c2af6e67"
      },
      "outputs": [
        {
          "data": {
            "text/plain": [
              "array([[0.13510325, 0.86489675],\n",
              "       [0.23094691, 0.76905309],\n",
              "       [0.25790055, 0.74209945],\n",
              "       ...,\n",
              "       [0.1484388 , 0.8515612 ],\n",
              "       [0.17090578, 0.82909422],\n",
              "       [0.55233702, 0.44766298]])"
            ]
          },
          "execution_count": 84,
          "metadata": {},
          "output_type": "execute_result"
        }
      ],
      "source": [
        "# Las probabilidades que predecimos para cada fila de nuestros datos\n",
        "net(X_prob, W, B)"
      ]
    },
    {
      "cell_type": "code",
      "execution_count": 85,
      "metadata": {
        "colab": {
          "base_uri": "https://localhost:8080/"
        },
        "id": "YYmxh4cRNKqL",
        "outputId": "bc3c343a-17c3-4dc8-9f60-78cd0b52f401"
      },
      "outputs": [
        {
          "data": {
            "text/plain": [
              "array([1, 1, 1, ..., 1, 1, 1])"
            ]
          },
          "execution_count": 85,
          "metadata": {},
          "output_type": "execute_result"
        }
      ],
      "source": [
        "# La etiqueta verdadera de nuestros datos\n",
        "Y_prob"
      ]
    },
    {
      "cell_type": "code",
      "execution_count": 86,
      "metadata": {
        "colab": {
          "base_uri": "https://localhost:8080/"
        },
        "id": "ipkiKHVyNZ8y",
        "outputId": "7f0cd506-2503-4b6b-cde0-4da4385a7a4c"
      },
      "outputs": [
        {
          "data": {
            "text/plain": [
              "0.9147522834209798"
            ]
          },
          "execution_count": 86,
          "metadata": {},
          "output_type": "execute_result"
        }
      ],
      "source": [
        "accuracy(net(X_prob, W, B),Y_prob)"
      ]
    },
    {
      "cell_type": "markdown",
      "metadata": {
        "id": "ABi5C3Kg4kkj"
      },
      "source": [
        "# SGD: Stochastic Gradient Descent\n",
        "\n",
        "En este caso, el algoritmo entrenara de modo un poco distinto, tomando muestras al azar de nuestros datos."
      ]
    },
    {
      "cell_type": "code",
      "execution_count": 64,
      "metadata": {
        "id": "t2x4Fyr16myj"
      },
      "outputs": [],
      "source": [
        "# Tamaño de la muestra o batch\n",
        "batch_size = 200"
      ]
    },
    {
      "cell_type": "code",
      "execution_count": 65,
      "metadata": {
        "id": "a1pc7Mns468G"
      },
      "outputs": [],
      "source": [
        "number_of_rows = X_prob.shape[0]  # En nuestro caso, son 50,000\n",
        "random_indices = np.random.choice(number_of_rows, size=batch_size, replace=False)\n",
        "X_prima = X_prob[random_indices, :].copy()"
      ]
    },
    {
      "cell_type": "code",
      "execution_count": 66,
      "metadata": {
        "colab": {
          "base_uri": "https://localhost:8080/"
        },
        "id": "mS-sbE2r8Oul",
        "outputId": "c84b8e6c-2d18-49a5-a0fa-17471a9fefd5"
      },
      "outputs": [
        {
          "data": {
            "text/plain": [
              "array([[-0.03101884, -0.04928051, -0.03433358, ..., -0.3039389 ,\n",
              "        -0.20403147, -0.40886434],\n",
              "       [-0.25725597,  0.06231153, -0.03433358, ...,  0.5433508 ,\n",
              "        -0.0269187 , -0.423535  ],\n",
              "       [-0.24325255, -0.25114449, -0.03433358, ..., -0.37266392,\n",
              "        -0.25129256, -0.08477619],\n",
              "       ...,\n",
              "       [-0.0622378 , -0.26165589, -0.03433358, ..., -0.37533513,\n",
              "        -0.25670875, -0.13545664],\n",
              "       [-0.25384402,  0.55621296, -0.03433358, ..., -0.31734151,\n",
              "        -0.2573344 , -0.35551649],\n",
              "       [-0.21881656, -0.25415957, -0.03433358, ..., -0.05926799,\n",
              "        -0.11827759, -0.40753064]])"
            ]
          },
          "execution_count": 66,
          "metadata": {},
          "output_type": "execute_result"
        }
      ],
      "source": [
        "X_prima"
      ]
    },
    {
      "cell_type": "code",
      "execution_count": 67,
      "metadata": {
        "id": "9hmnUV6W5aBQ"
      },
      "outputs": [],
      "source": [
        "Y_prima = Y_prob[random_indices].copy()"
      ]
    },
    {
      "cell_type": "code",
      "execution_count": 68,
      "metadata": {
        "colab": {
          "base_uri": "https://localhost:8080/"
        },
        "id": "uS3OZYk_8Sbv",
        "outputId": "7ba07d34-73ed-4e58-cbbf-34a257542188"
      },
      "outputs": [
        {
          "data": {
            "text/plain": [
              "array([0, 1, 0, 0, 0, 0, 1, 1, 0, 0, 0, 0, 0, 0, 1, 0, 0, 1, 1, 1, 1, 0,\n",
              "       0, 1, 0, 0, 1, 0, 0, 1, 0, 0, 0, 0, 0, 1, 0, 0, 1, 1, 1, 0, 0, 0,\n",
              "       0, 0, 0, 0, 0, 0, 1, 1, 0, 0, 0, 0, 1, 0, 1, 1, 0, 0, 0, 0, 1, 1,\n",
              "       0, 0, 0, 0, 1, 1, 0, 1, 0, 1, 0, 1, 0, 0, 1, 1, 0, 1, 0, 1, 0, 0,\n",
              "       0, 0, 0, 0, 1, 1, 0, 0, 1, 0, 0, 0, 0, 1, 0, 0, 0, 1, 0, 1, 1, 0,\n",
              "       0, 0, 0, 0, 1, 0, 0, 0, 0, 0, 1, 0, 1, 0, 0, 0, 0, 1, 1, 1, 1, 0,\n",
              "       0, 1, 1, 1, 0, 1, 0, 0, 0, 0, 0, 1, 0, 1, 0, 1, 0, 0, 0, 1, 1, 1,\n",
              "       0, 1, 1, 1, 1, 0, 0, 1, 0, 1, 1, 0, 0, 0, 0, 0, 0, 1, 1, 1, 1, 0,\n",
              "       0, 0, 1, 1, 1, 0, 0, 1, 0, 0, 0, 0, 0, 1, 1, 0, 0, 1, 1, 0, 1, 0,\n",
              "       1, 0])"
            ]
          },
          "execution_count": 68,
          "metadata": {},
          "output_type": "execute_result"
        }
      ],
      "source": [
        "Y_prima"
      ]
    },
    {
      "cell_type": "code",
      "execution_count": 69,
      "metadata": {
        "id": "wkEVafDv6zSS"
      },
      "outputs": [],
      "source": [
        "def batch_gradient_descent(x, y, w, b, net, batch_size, learning_rate=0.1, num_epochs=10):\n",
        "  m = x.shape[0]\n",
        "  J_all = []\n",
        "\n",
        "  for _ in range(num_epochs):\n",
        "    random_indices = np.random.choice(m, size=batch_size, replace=False)\n",
        "    x_batch = x[random_indices, :].copy()\n",
        "    y_batch = y[random_indices].copy()\n",
        "\n",
        "    y_probs = net_s(x_batch, w, b)\n",
        "\n",
        "    gradient_w = grad_softmax_cross_entropy_for_w(x_batch,y_batch,w,b)\n",
        "    gradient_b = grad_softmax_cross_entropy_for_b(x_batch,y_batch,w,b)\n",
        "\n",
        "    #Actualizamos los paramentros\n",
        "    w = w - (learning_rate)*gradient_w\n",
        "    b = b - (learning_rate)*gradient_b\n",
        "\n",
        "    J_all.append(cross_entropy(y_probs, y_batch))\n",
        "\n",
        "  return J_all, w, b"
      ]
    },
    {
      "cell_type": "code",
      "execution_count": 70,
      "metadata": {
        "id": "tCHpmpEL76dJ"
      },
      "outputs": [],
      "source": [
        "W = np.random.normal(0, 0.1, (num_inputs, num_outputs)) # Jugaremos con este parametro\n",
        "B = np.zeros(num_outputs) # Jugaremos con este parametro"
      ]
    },
    {
      "cell_type": "code",
      "execution_count": 71,
      "metadata": {
        "id": "577ys26F8ECc"
      },
      "outputs": [],
      "source": [
        "learning_rate = 0.01\n",
        "num_epochs = 1000"
      ]
    },
    {
      "cell_type": "code",
      "execution_count": 72,
      "metadata": {
        "colab": {
          "base_uri": "https://localhost:8080/"
        },
        "id": "mI0orbzN8ECc",
        "outputId": "8b23c97c-c709-46a3-c0a6-3ae5f617fd4d"
      },
      "outputs": [
        {
          "name": "stdout",
          "output_type": "stream",
          "text": [
            "Cost:  0.25096102633805584\n",
            "Parameters:  [[ 0.06474235 -0.33569061]\n",
            " [-0.02128136  0.08790205]\n",
            " [-0.1816528  -0.04137419]\n",
            " [-0.07023042  0.06287841]\n",
            " [-0.05430394  0.00770453]\n",
            " [-0.056722   -0.14577419]\n",
            " [-0.09780578  0.02579382]\n",
            " [ 0.07442624 -0.11638211]\n",
            " [ 0.04119595  0.16290797]\n",
            " [-0.4099604   0.35849248]\n",
            " [-0.21504532  0.16575198]\n",
            " [-0.0507377   0.03873348]\n",
            " [-0.0843507  -0.04593781]\n",
            " [-0.02571639 -0.21358222]\n",
            " [ 0.12696982  0.00949013]\n",
            " [-0.0350024  -0.11213438]\n",
            " [-0.0886639   0.00820174]\n",
            " [-0.18812977 -0.02580961]\n",
            " [ 0.82610066 -0.87882204]\n",
            " [ 0.05075958  0.10737947]\n",
            " [ 0.0303155  -0.02792889]\n",
            " [ 0.09666474 -0.04482789]\n",
            " [ 0.01132736  0.05264803]\n",
            " [-0.03367474 -0.0093878 ]\n",
            " [ 0.19693298 -0.11226002]]\n",
            "Intercepto:  [[ 0.41137747 -0.41137747]]\n"
          ]
        }
      ],
      "source": [
        "J_all, W, B = batch_gradient_descent(X_prob, Y_prob, W, B, net, batch_size, learning_rate, num_epochs)\n",
        "Y_hat = net(X_prob, W, B)\n",
        "J = cross_entropy(Y_hat, Y_prob)\n",
        "print(\"Cost: \", J)\n",
        "print(\"Parameters: \", W)\n",
        "print(\"Intercepto: \", B)"
      ]
    },
    {
      "cell_type": "code",
      "execution_count": 73,
      "metadata": {
        "colab": {
          "base_uri": "https://localhost:8080/"
        },
        "id": "FM4kNcrD8ECd",
        "outputId": "bcde8699-7847-434d-8baf-9781bb38a42e"
      },
      "outputs": [
        {
          "name": "stdout",
          "output_type": "stream",
          "text": [
            "[0.9679128379223702, 0.9448829134941006, 0.9577621738669683, 0.9009108792516483, 0.8776674213396473, 0.8349726047436455, 0.8666832149961272, 0.7762349820497069, 0.7782859384940248, 0.8092382508620198, 0.7704283543159488, 0.7194836770776429, 0.7606536883382649, 0.723657664313518, 0.7798225427336747, 0.7006938779915606, 0.7353274829442814, 0.7097077204675383, 0.6545540070407747, 0.6877406910351738, 0.7175619143186538, 0.6806177625172853, 0.7144197505145329, 0.6639357946537604, 0.656126870486993, 0.6060999846903823, 0.7498210697412228, 0.6007433412495896, 0.6181068883927872, 0.6111607396000474, 0.5984985083307179, 0.6116187474764493, 0.5791660684079711, 0.5833755123817123, 0.6000938598298421, 0.6172054007767933, 0.5938033889125104, 0.6036275819830342, 0.5681701640004371, 0.5928725470028927, 0.5307654813094718, 0.570021660476624, 0.6171653147883889, 0.5689304386708148, 0.6153034279282669, 0.6109496134647793, 0.5720993498277567, 0.5774167720784671, 0.5370020238021889, 0.5658346775962839, 0.48811458288006976, 0.570495377541804, 0.5865505195055887, 0.544678268084967, 0.4794427018331004, 0.5490510661598041, 0.6304156921624892, 0.5334762130406081, 0.5892007537770277, 0.5545023483084373, 0.5373273804979812, 0.5447259802628805, 0.5557480688896945, 0.5526313304707717, 0.5013984258369256, 0.5472493949254399, 0.518998744316562, 0.562385382847619, 0.5521072342164364, 0.481454348902739, 0.5156180179604937, 0.5606991148996164, 0.5527073372398297, 0.4946509873966633, 0.5840577340806703, 0.5730744176227581, 0.4933664821491625, 0.5797240188850502, 0.5181577562474385, 0.4930260805021639, 0.553267571128798, 0.5178093649698754, 0.5304558575168086, 0.4808552621980489, 0.4999086626105182, 0.5033374246533804, 0.4864613818679303, 0.4897477982469698, 0.5630098906805655, 0.5014700580562408, 0.4866348682146429, 0.4611592177646708, 0.5037774918365312, 0.4959495710800165, 0.46071649305874035, 0.5172181099233011, 0.5269867526267944, 0.4911651961260185, 0.4854282271166953, 0.42556755358500153, 0.47789594281940223, 0.4565448375613627, 0.5045609668987241, 0.49111037361713306, 0.5403892063585468, 0.5325537233677304, 0.4927381128362886, 0.5240869102232878, 0.5188640672243424, 0.45144855568856795, 0.4636139552959308, 0.43868432242977745, 0.4176116913595844, 0.4692471095405339, 0.4072559572234548, 0.46899433919327466, 0.49119683648320106, 0.4354893452667845, 0.455878033197038, 0.43856270089829086, 0.5040735303318559, 0.42979619389315943, 0.472406252736139, 0.43332404531383373, 0.41878746951164103, 0.4845919343694672, 0.46445588398733156, 0.4225893927088454, 0.43323284951972474, 0.4947242546368467, 0.4262916939616217, 0.4305530641513394, 0.47282079085075934, 0.46293583876826616, 0.4245355735950577, 0.4408280213957964, 0.45492062822942103, 0.48841119223493584, 0.48099782926360135, 0.4603302421701887, 0.534185455414086, 0.41594487368140176, 0.4758196783507315, 0.426694533368372, 0.438301339634076, 0.41013629000256785, 0.43718970102605104, 0.424513185640037, 0.4700634952447726, 0.3827002754933351, 0.45499002117136206, 0.39294181983943594, 0.4329311988323238, 0.395032185345779, 0.4322634199041206, 0.4100218481514928, 0.4409693493458835, 0.4336163990330198, 0.40843941622897345, 0.3957810479221391, 0.42066066297362964, 0.3848671589814275, 0.4596139247649954, 0.3851432282020124, 0.4294328525435893, 0.38891731384539424, 0.42713963803365784, 0.45015777350535124, 0.3831975812031698, 0.39252543276535623, 0.41216090558953467, 0.45625477857271707, 0.44294471744114544, 0.42236066696581487, 0.3930346217802102, 0.4192436074676915, 0.406622433271707, 0.45951898373578104, 0.3840531011884775, 0.37178550103191327, 0.43420472399396554, 0.44387962731056857, 0.3864753913457726, 0.3938171939781665, 0.40866558625308874, 0.414272905068689, 0.415231664064928, 0.389748564883001, 0.38221651647271654, 0.40109869725755687, 0.41452080378157613, 0.3863865143611045, 0.4024621034710117, 0.44059994832115607, 0.37578404284425515, 0.36335936178768546, 0.4396539259829463, 0.3858569915039928, 0.4069134592794363, 0.42877169702417517, 0.3843993099178935, 0.39727936972429034, 0.3825178791226891, 0.4022118991016837, 0.3583232857363705, 0.3972454735051359, 0.4135238875150374, 0.42039540445868684, 0.4113156414925683, 0.3267814453559106, 0.36452674250046757, 0.39829657538788377, 0.3348022252190886, 0.4126997985796051, 0.40629711681999936, 0.3926736680713128, 0.4165082907428422, 0.45183804878510003, 0.429034892292321, 0.38285928271757813, 0.36522769554750845, 0.34823981540159843, 0.36668060189524254, 0.38214565611532536, 0.30825288277610985, 0.3963779092437056, 0.404175446714964, 0.38810933778309176, 0.3828092929594814, 0.35468506720163645, 0.40828675022879984, 0.39142435909964973, 0.37642421900116646, 0.36693910752485165, 0.35951262183383526, 0.3870904373954016, 0.39578021304530997, 0.47700935422334967, 0.36012315902323266, 0.39130244766302025, 0.32903856541188153, 0.35786562586259785, 0.33241736040087244, 0.3769137620967901, 0.3216231212308102, 0.35463718781564396, 0.37773939258475103, 0.3604026736189993, 0.410932522294695, 0.3568719716520977, 0.34633371148295194, 0.3844957724253579, 0.37402371175582666, 0.3868564325484762, 0.38305793709550445, 0.3947710760068498, 0.3761079005927609, 0.3729388879838567, 0.3739022789157654, 0.3730631257913877, 0.39256333362496704, 0.33350656706110854, 0.35314937034128663, 0.3943606500752867, 0.3307269717679063, 0.3534807847730107, 0.36615835677969444, 0.38187591951291255, 0.36493386478799605, 0.33945099050449534, 0.36567573980646484, 0.33505031806328217, 0.3610018927684642, 0.39256982600366747, 0.3819595659633341, 0.3743871953784847, 0.39574797443865944, 0.36225604915467824, 0.3775635090279724, 0.34798589399294755, 0.32410789371989596, 0.34630985232171724, 0.36340795505488915, 0.383469400345476, 0.4062222676257282, 0.32837742061290187, 0.40054354050792074, 0.37079059953714855, 0.3652248417123514, 0.36644945302497134, 0.37774990256665725, 0.36361015452520795, 0.38146072244438156, 0.3534237492243374, 0.33943274471407753, 0.34753153382060226, 0.34784966673468776, 0.34852967290695036, 0.3685010360481061, 0.3471931400340621, 0.321787166882238, 0.3627034779451756, 0.35698664884455056, 0.3192019376363413, 0.3721937361289976, 0.36723170910189123, 0.3364770048002474, 0.3409033598810723, 0.3274185396498515, 0.38690417378110653, 0.30027691889594427, 0.34711063199933506, 0.30757634636738024, 0.3466437114873599, 0.3807157467465469, 0.3461270948381027, 0.36423872246085, 0.33852947485873613, 0.3254299368610244, 0.36720203315632544, 0.34639330187932715, 0.3336326998703717, 0.351032879583413, 0.31471602363075024, 0.31233359645332404, 0.3016478398664903, 0.33171178137202745, 0.3092255620928588, 0.3541572675970875, 0.34004755415808474, 0.2943949421301339, 0.32656217137022453, 0.3593037317038535, 0.3446784016665655, 0.3707122811286214, 0.3483040110866212, 0.29420837774135167, 0.32051720867884725, 0.3759852045212949, 0.3170484661766429, 0.33823751198778224, 0.325968514294108, 0.30965018804516226, 0.2779622108270516, 0.33830949614106115, 0.343855370643248, 0.3460472262434591, 0.3549316180155108, 0.30864307831367077, 0.33795802024712485, 0.2951357385942851, 0.29804772506248606, 0.30356261402186113, 0.32001820049261714, 0.37599800547365203, 0.3671619824191389, 0.36471163156401376, 0.3163720056512792, 0.3343899426040439, 0.2946685508699827, 0.36272144012351915, 0.30862978012021924, 0.37979409784266266, 0.2927618056393459, 0.32434664392875356, 0.3065551937874735, 0.2940681392859173, 0.3335705688960095, 0.34166671033486845, 0.36361676360945916, 0.30828797738049435, 0.35144768076419575, 0.33455477165038194, 0.29831556033715145, 0.32773057484172796, 0.3258662388978905, 0.32523525227130384, 0.34666736971035456, 0.2949980950426411, 0.3768963520260722, 0.32952260206903844, 0.35854737920478685, 0.31301146683065023, 0.336130664451036, 0.3274618267845485, 0.3285004280247372, 0.30200169943794114, 0.36527847310085404, 0.2727351311229517, 0.2939072466331216, 0.34688079358867463, 0.3406000359418219, 0.28065826572256886, 0.30955145013379187, 0.3410448480451748, 0.35217264715817465, 0.31930190613345727, 0.32968867125770146, 0.30096148838867826, 0.3429077730482017, 0.27785944519579425, 0.32810726837025994, 0.3284332031709328, 0.31481148105730555, 0.3719945053378136, 0.294132914410708, 0.37799485582169223, 0.32641451552658407, 0.31501721613561606, 0.3004004699991789, 0.33577845879850793, 0.2853203347625607, 0.3568312086680858, 0.3197909593620678, 0.353075709192358, 0.3204632603548905, 0.3112140929759456, 0.2991849410901776, 0.36236895619806103, 0.3621265715886389, 0.36314751278821134, 0.3263127221524374, 0.31836822601216047, 0.3196150423882551, 0.29382259559066154, 0.34186985854079066, 0.34017984580983635, 0.3079935370877124, 0.26511129415805945, 0.26252638008848656, 0.2735072959495075, 0.3816519975398877, 0.31185093483171555, 0.30793564793904876, 0.3186214215662232, 0.35601444784939285, 0.2986502750467933, 0.32076992961548384, 0.395868353998752, 0.28156459865226074, 0.30120973784860067, 0.33351772692542814, 0.3077359130505107, 0.29095252683457234, 0.30473336628906306, 0.3199934521186821, 0.30744793659988273, 0.30528703669457974, 0.28122658444919546, 0.2882674658340095, 0.30524149882539325, 0.31897943749439384, 0.389451992881758, 0.3420659533431394, 0.31272461867015816, 0.32051752590440186, 0.34728212861767327, 0.27825337676559586, 0.2916679050704866, 0.3676771073022503, 0.33151149931667484, 0.31425366629284923, 0.3260677638037803, 0.2937511513541574, 0.3111313972183656, 0.251338167081797, 0.30813750559941727, 0.28022775841653064, 0.2977781189249923, 0.2801447841767519, 0.35895107651452124, 0.32470373912333383, 0.28423397949255774, 0.30405581040314167, 0.31274663094810295, 0.31731436141566194, 0.30156025454797203, 0.2844452529938792, 0.30277835319640845, 0.34565842487088083, 0.3681924935463376, 0.3617728659490519, 0.2614765088754216, 0.30119127529087075, 0.3196678132362265, 0.36187660429029933, 0.31443988968276526, 0.3034473420540315, 0.30836701520127147, 0.3307440814615353, 0.3622313759291728, 0.33458971973537266, 0.28103888431041296, 0.2571032155001457, 0.3222635126694894, 0.31934795217876455, 0.29571285614261106, 0.3305637903121385, 0.276432222139966, 0.31269271748941263, 0.28914833931459677, 0.31243855750746435, 0.2822981253641913, 0.2991947866809307, 0.34433818216519485, 0.2816854978746138, 0.2399763573769391, 0.34592796318268865, 0.31728722453324315, 0.3252345914546102, 0.28132086975412945, 0.322619893606162, 0.3161799664299517, 0.29338175110086284, 0.29545405085482507, 0.3152203170944776, 0.2993513872087533, 0.29166163787210553, 0.30211395440539063, 0.30788850280233215, 0.29554467451781463, 0.2784827444904917, 0.29935677742737204, 0.27237421506128373, 0.28159562689765827, 0.2529756603984422, 0.31384783223703133, 0.2531271082332292, 0.3130291608056073, 0.2932386505543906, 0.31018985362006324, 0.2950468355448666, 0.348199810107363, 0.2909149254245162, 0.2749115821235908, 0.22845473698747035, 0.2871284667362079, 0.3182849044869797, 0.2774157984919973, 0.248341133854542, 0.2871780099954638, 0.2858113715525334, 0.3239610609081079, 0.285160587054763, 0.3045926650036044, 0.3249068060081952, 0.2610729104351993, 0.28768351543272574, 0.34716060168330365, 0.328166461420933, 0.28267837125187484, 0.2932131420545222, 0.27373471785707154, 0.34451315591664794, 0.2662336229395536, 0.2873276954468807, 0.30608378761944416, 0.3008462365335875, 0.2541767097443317, 0.28261882642476455, 0.27161113476803317, 0.23786894136512143, 0.3358503509937738, 0.24992875251449584, 0.3187952129754154, 0.2870824079764973, 0.3656759385544761, 0.29148901277428346, 0.3056033338715647, 0.27546910118564627, 0.2785922496515885, 0.3173096948751485, 0.2929320938322376, 0.31660778895063585, 0.29783241561988055, 0.3286546039541134, 0.3212212815962804, 0.29050729412253756, 0.29709995608220857, 0.25854113473683, 0.33246752876033925, 0.2955308454686479, 0.27405472872171266, 0.3071545873146593, 0.29825804969280945, 0.2760936360033615, 0.2788178692558007, 0.2830287039757292, 0.3106935137284634, 0.2708622786982479, 0.27445006161783153, 0.3072402088198001, 0.2732273156777527, 0.26054877526539644, 0.2990206049258639, 0.3218309778370231, 0.2807168982561245, 0.29391141053740866, 0.2554326464597522, 0.2392315738513539, 0.30880043118700345, 0.2758578321255104, 0.2764615344004376, 0.2563640038855495, 0.280806696039748, 0.2973751376298295, 0.3113058717142419, 0.2718985619730637, 0.2560450899184365, 0.28164367329587814, 0.2867702877342191, 0.3060086222270409, 0.29194757497943286, 0.2737503882539211, 0.35804862504547913, 0.26324427225031627, 0.31583889335378734, 0.2518382456823467, 0.2732917286762781, 0.2863370817580351, 0.28796828918816425, 0.2811735363669648, 0.2854178461490379, 0.28845618952762064, 0.27692500225880096, 0.3049883550460647, 0.23821951854217296, 0.2802127519472623, 0.2979104874241244, 0.32101395461378956, 0.269294185451362, 0.2620387134282572, 0.295985484300617, 0.2375280093820694, 0.2638224299497459, 0.3100153553073096, 0.30694971134892984, 0.2972124861601865, 0.29101344566229775, 0.31216520156931116, 0.2527911355593711, 0.3006336717062316, 0.2734257425003696, 0.26898307183067993, 0.27280713604197027, 0.27765225689312556, 0.286717809424017, 0.29106232935162457, 0.29385778488042363, 0.2935256693424501, 0.25695622417195385, 0.24469445824497857, 0.24643889506282565, 0.2520704817413443, 0.3134799179814657, 0.2579585483402586, 0.2641428718612378, 0.27327866390884464, 0.2364288813452032, 0.25676431716842546, 0.25152988094865486, 0.27357904794148047, 0.2880985033888212, 0.3098666184976274, 0.30313564466583076, 0.2557877573102782, 0.22814739136718953, 0.26402333818641405, 0.29549660116523063, 0.2695143993931144, 0.26069002287026793, 0.29494104303811597, 0.2622226048527924, 0.27297855293955053, 0.2872057713758279, 0.26604559899168395, 0.25422005736268305, 0.302404081356088, 0.301117925298906, 0.266468327436348, 0.2505601842008282, 0.24605199226096588, 0.28193681779492097, 0.2711461178284894, 0.31121186917519195, 0.27654577091337484, 0.21865108807594463, 0.2966778068101213, 0.2777868408155828, 0.2904989313321971, 0.2904341441061444, 0.277618269752957, 0.249997466076717, 0.3104415576450025, 0.24044771878381993, 0.27784951335653024, 0.2762345158028042, 0.2512535794476453, 0.2508638103796405, 0.2708040774875379, 0.2993925094860812, 0.2607637565483309, 0.2525717495470012, 0.25263978557506883, 0.28250088434671583, 0.28500662723844267, 0.24065530622745435, 0.2650291679339352, 0.2883926902042936, 0.3220981663198637, 0.26994609804564573, 0.23707242339043874, 0.29884640577550853, 0.3416839952617622, 0.2866731019300681, 0.2572089214389668, 0.26192331406449976, 0.30516695185894227, 0.2533123274597525, 0.2746226734352381, 0.27220467867013215, 0.2836664967563384, 0.29478822240375435, 0.2644297130704622, 0.2780487581115957, 0.2740816052123447, 0.28844181369806954, 0.31782070310260024, 0.24665017620873073, 0.2954366667257682, 0.3193065428482895, 0.25580323575896624, 0.27869839540130015, 0.2963159592212786, 0.2780967039222417, 0.2770720595602902, 0.2823209973486792, 0.25596226779882164, 0.3042657774961853, 0.25603039182029175, 0.27401558973461504, 0.300292338518411, 0.26621750000306704, 0.2750716904782595, 0.2470595288614904, 0.2697814805754414, 0.27941598209209045, 0.24798456923363957, 0.3116266820807332, 0.27349139635439507, 0.25240042560553866, 0.22364075457822266, 0.2764259498083073, 0.2562685486712573, 0.2478548495159226, 0.29119003117490444, 0.2822925421526177, 0.32088268835901546, 0.2868394569282976, 0.2613702999405783, 0.2774072166747076, 0.29879518464445837, 0.3107357384713792, 0.2587898312599132, 0.2577391170438458, 0.2767655189508597, 0.2578819225021399, 0.2926820428483719, 0.27025694762095415, 0.23860305035767876, 0.27872642726715857, 0.3012102189701018, 0.2703170083420926, 0.27670905275002494, 0.2998530933084723, 0.28793896458291884, 0.2752480372261251, 0.23269698569854122, 0.23577795285998598, 0.22881860996057107, 0.23053300908359803, 0.26325149709519663, 0.27605114752727655, 0.24660676435652842, 0.25985528494039944, 0.2658903075871567, 0.25469892450948856, 0.23282202947982678, 0.30045127606003647, 0.2407733990893945, 0.3100870338973809, 0.2703055183022468, 0.24427864964561863, 0.29998779906198303, 0.22554641189377375, 0.2646700837688384, 0.26888225536141064, 0.2623382290097075, 0.25187772683734144, 0.26869750659638647, 0.26963159058478214, 0.28004236667802823, 0.24195731437645876, 0.25098376732599614, 0.2959394805433249, 0.30559587483892814, 0.27414239130111484, 0.2006398468108685, 0.27025985537086156, 0.26399362780894914, 0.2641372456882138, 0.29293931804833445, 0.24368073383150388, 0.27135731073690933, 0.2687045344694375, 0.23934154147088468, 0.24122194215145545, 0.2997169478878998, 0.2928970092591106, 0.24002472613317657, 0.2671574649750708, 0.3018825736520278, 0.22400357113682062, 0.27099093149640924, 0.27191186164842174, 0.2641444249440745, 0.2540522587450096, 0.25069753852017695, 0.2788011197168956, 0.2240306694861037, 0.31530685819287935, 0.2904821599935616, 0.22913569453508814, 0.2536110225070685, 0.2899988805268665, 0.3181022936345834, 0.24215493440232483, 0.20705155890003485, 0.23809043249631265, 0.28305544220070855, 0.2610059053527356, 0.27376993123744553, 0.2596781929871622, 0.26536687095866995, 0.24108961750106275, 0.31596520804326034, 0.26261757824370285, 0.24656374848180818, 0.3057388104852003, 0.23518844179771692, 0.27594944579580527, 0.275300594190671, 0.28115071626329174, 0.24550771543234906, 0.2694326933196582, 0.21179394704235263, 0.2730135067563579, 0.2944626004562301, 0.2587671162892851, 0.24505452672736502, 0.26257255882599784, 0.28636543827831784, 0.2885917923995809, 0.23001201601390356, 0.2647201681606304, 0.24496310910898053, 0.27157502837225084, 0.27419035083235416, 0.2544143944190458, 0.25919182956985365, 0.2757265453374753, 0.24819316236836067, 0.26434145408875104, 0.2600840263877674, 0.25752344028982654, 0.2652526964162418, 0.26156343484016953, 0.22157706782354414, 0.22845641916662734, 0.256746199099428, 0.2664716449869161, 0.2424718700688885, 0.2619901329254349, 0.2484096119412642, 0.22812192787769145, 0.24009940707346686, 0.2627507424250071, 0.2551056072679827, 0.24257009965068144, 0.24624772949651225, 0.23605535090103455, 0.2483252420414657, 0.25179539765964054, 0.2990488068472871, 0.262053915754411, 0.2770377475958086, 0.2608594515740835, 0.258049000313467, 0.2722150431412332, 0.2526703648785166, 0.25302675237718814, 0.22487983066818745, 0.22814843328728873, 0.3230400088069157, 0.27985915568353553, 0.25906556521489177, 0.26878514206108156, 0.29166714674308514, 0.2500931325741154, 0.23980198215676551, 0.2701001555774458, 0.2679496804497264, 0.25992981916662855, 0.28296529803203296, 0.25214353326323524, 0.19371586174348374, 0.247521581530333, 0.27269137675004, 0.26143308829911194, 0.23534886933466737, 0.2408809172574326, 0.24117032187801699, 0.2855637646351138, 0.24774482842272932, 0.23802684969907792, 0.2715168108120385, 0.22785456439518767, 0.2683695398831943, 0.23235434434485755, 0.3214805245278039, 0.25506470402613113, 0.22643462948132131, 0.21464330354944663, 0.2933018325315928, 0.3470390044805317, 0.1948187583927887, 0.33943295118633776, 0.2415657352049844, 0.2641405838120644, 0.2353934146651396, 0.28112352661531786, 0.2661754902298916, 0.2417588333487538, 0.21976328030932094, 0.23066813385972396, 0.2570867897565775, 0.2733054052447262, 0.2608556066183226, 0.25560761630894147, 0.2433356084855262, 0.2560661181033889, 0.22081305208975807, 0.26539536877980646, 0.25324200117770096, 0.2515396343654631, 0.2436489540348414, 0.2497361838648623, 0.26982619307291117, 0.24858913730338308, 0.22706513344933155, 0.2828848972664769, 0.20958686883743105, 0.24789324792860262, 0.2840580758943041, 0.22066891030514602, 0.24357221218733166, 0.20769933840452903, 0.2555587621603886, 0.29397992023832054, 0.2547492414277445, 0.25899553090129696, 0.32008448047461485, 0.23001867686169708, 0.22883888230989785, 0.23294886564570386, 0.25048064424537175, 0.23035494326073241, 0.26386691110953003, 0.251007924634705, 0.2449709701624206, 0.23265897861995233, 0.21459450643775788, 0.2413964374950747, 0.2620545437452709, 0.25488874533975964, 0.3130848185700648, 0.2297847006156089, 0.24565453414501287, 0.25887998984651434, 0.22455015313180302, 0.23774786347144505, 0.18987259479862417, 0.22201098302586664, 0.23203861448303997, 0.2357559550435096, 0.27378845533708485, 0.22984730408910128, 0.26121184581515783, 0.23097389771035418, 0.26113978106120017]\n"
          ]
        }
      ],
      "source": [
        "print(J_all)"
      ]
    },
    {
      "cell_type": "code",
      "execution_count": 74,
      "metadata": {
        "colab": {
          "base_uri": "https://localhost:8080/",
          "height": 430
        },
        "id": "B7WbR8pv8ECd",
        "outputId": "8924ae65-f658-4724-a84d-c93471d6f1ac"
      },
      "outputs": [
        {
          "data": {
            "image/png": "[encoded data removed]",
            "text/plain": [
              "<Figure size 640x480 with 1 Axes>"
            ]
          },
          "metadata": {},
          "output_type": "display_data"
        }
      ],
      "source": [
        "perdida_por_epoca = np.array(J_all).reshape(-1,1)\n",
        "plt.plot(perdida_por_epoca)\n",
        "plt.show()"
      ]
    },
    {
      "cell_type": "code",
      "execution_count": 75,
      "metadata": {
        "colab": {
          "base_uri": "https://localhost:8080/"
        },
        "id": "kLhi1JnF8ECd",
        "outputId": "01983e16-2022-4176-81d5-e896811f680c"
      },
      "outputs": [
        {
          "data": {
            "text/plain": [
              "array([[0.18745427, 0.81254573],\n",
              "       [0.19879392, 0.80120608],\n",
              "       [0.2421429 , 0.7578571 ],\n",
              "       ...,\n",
              "       [0.13801447, 0.86198553],\n",
              "       [0.16448213, 0.83551787],\n",
              "       [0.56012516, 0.43987484]])"
            ]
          },
          "execution_count": 75,
          "metadata": {},
          "output_type": "execute_result"
        }
      ],
      "source": [
        "# Las probabilidades que predecimos para cada fila de nuestros datos\n",
        "net(X_prob, W, B)"
      ]
    },
    {
      "cell_type": "code",
      "execution_count": 76,
      "metadata": {
        "colab": {
          "base_uri": "https://localhost:8080/"
        },
        "id": "nQu21Iv_8ECd",
        "outputId": "4b30fcc8-060a-4255-dfe6-5dfa10a4b859"
      },
      "outputs": [
        {
          "data": {
            "text/plain": [
              "array([1, 1, 1, ..., 1, 1, 1])"
            ]
          },
          "execution_count": 76,
          "metadata": {},
          "output_type": "execute_result"
        }
      ],
      "source": [
        "# La etiqueta verdadera de nuestros datos\n",
        "Y_prob"
      ]
    },
    {
      "cell_type": "code",
      "execution_count": 77,
      "metadata": {
        "colab": {
          "base_uri": "https://localhost:8080/"
        },
        "id": "8jsZGmHu8ECd",
        "outputId": "3a99cf65-c8ab-4b40-dc3d-20d32cbe8a80"
      },
      "outputs": [
        {
          "data": {
            "text/plain": [
              "0.9147918231782057"
            ]
          },
          "execution_count": 77,
          "metadata": {},
          "output_type": "execute_result"
        }
      ],
      "source": [
        "accuracy(net(X_prob, W, B),Y_prob)"
      ]
    }
  ],
  "metadata": {
    "colab": {
      "include_colab_link": true,
      "provenance": []
    },
    "kernelspec": {
      "display_name": "Python 3",
      "name": "python3"
    },
    "language_info": {
      "codemirror_mode": {
        "name": "ipython",
        "version": 3
      },
      "file_extension": ".py",
      "mimetype": "text/x-python",
      "name": "python",
      "nbconvert_exporter": "python",
      "pygments_lexer": "ipython3",
      "version": "3.9.6"
    }
  },
  "nbformat": 4,
  "nbformat_minor": 0
}
