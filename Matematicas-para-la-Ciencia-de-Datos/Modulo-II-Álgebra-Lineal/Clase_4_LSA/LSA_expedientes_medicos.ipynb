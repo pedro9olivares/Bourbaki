{
  "cells": [
    {
      "cell_type": "markdown",
      "metadata": {
        "id": "OJofLsOdsCI0"
      },
      "source": [
        "# Búsqueda de Expedientes Médicos usando Latent Semantic Analysis (LSA)"
      ]
    },
    {
      "cell_type": "code",
      "execution_count": null,
      "metadata": {},
      "outputs": [],
      "source": [
        "!pip3 install nltk"
      ]
    },
    {
      "cell_type": "code",
      "execution_count": 1,
      "metadata": {
        "colab": {
          "base_uri": "https://localhost:8080/"
        },
        "id": "nXKOejTBvV-t",
        "outputId": "3d28e131-c03f-43d2-a467-e4f4573574a3"
      },
      "outputs": [
        {
          "name": "stderr",
          "output_type": "stream",
          "text": [
            "[nltk_data] Downloading package stopwords to\n",
            "[nltk_data]     /Users/pedrom2/nltk_data...\n",
            "[nltk_data]   Package stopwords is already up-to-date!\n",
            "[nltk_data] Downloading package wordnet to /Users/pedrom2/nltk_data...\n",
            "[nltk_data]   Package wordnet is already up-to-date!\n"
          ]
        }
      ],
      "source": [
        "import pandas as pd\n",
        "import numpy as np\n",
        "\n",
        "from scipy.linalg import sqrtm\n",
        "\n",
        "# Para preprocesar texto...\n",
        "import nltk\n",
        "from nltk.corpus import stopwords\n",
        "from nltk.stem import WordNetLemmatizer, PorterStemmer\n",
        "import re\n",
        "\n",
        "nltk.download('stopwords')\n",
        "nltk.download('wordnet')  # WordNetLemmatizer\n",
        "\n",
        "# Para construcción de bolsa de palabras ...\n",
        "from sklearn.feature_extraction.text import TfidfVectorizer\n",
        "import matplotlib.pyplot as plt"
      ]
    },
    {
      "cell_type": "code",
      "execution_count": 2,
      "metadata": {
        "colab": {
          "base_uri": "https://localhost:8080/"
        },
        "id": "FSrT8UPQD7c6",
        "outputId": "8ffe24fa-5a38-4127-b63a-05e8348f71fb"
      },
      "outputs": [
        {
          "data": {
            "text/plain": [
              "['a',\n",
              " 'about',\n",
              " 'above',\n",
              " 'after',\n",
              " 'again',\n",
              " 'against',\n",
              " 'ain',\n",
              " 'all',\n",
              " 'am',\n",
              " 'an',\n",
              " 'and',\n",
              " 'any',\n",
              " 'are',\n",
              " 'aren',\n",
              " \"aren't\",\n",
              " 'as',\n",
              " 'at',\n",
              " 'be',\n",
              " 'because',\n",
              " 'been',\n",
              " 'before',\n",
              " 'being',\n",
              " 'below',\n",
              " 'between',\n",
              " 'both',\n",
              " 'but',\n",
              " 'by',\n",
              " 'can',\n",
              " 'couldn',\n",
              " \"couldn't\",\n",
              " 'd',\n",
              " 'did',\n",
              " 'didn',\n",
              " \"didn't\",\n",
              " 'do',\n",
              " 'does',\n",
              " 'doesn',\n",
              " \"doesn't\",\n",
              " 'doing',\n",
              " 'don',\n",
              " \"don't\",\n",
              " 'down',\n",
              " 'during',\n",
              " 'each',\n",
              " 'few',\n",
              " 'for',\n",
              " 'from',\n",
              " 'further',\n",
              " 'had',\n",
              " 'hadn',\n",
              " \"hadn't\",\n",
              " 'has',\n",
              " 'hasn',\n",
              " \"hasn't\",\n",
              " 'have',\n",
              " 'haven',\n",
              " \"haven't\",\n",
              " 'having',\n",
              " 'he',\n",
              " \"he'd\",\n",
              " \"he'll\",\n",
              " 'her',\n",
              " 'here',\n",
              " 'hers',\n",
              " 'herself',\n",
              " \"he's\",\n",
              " 'him',\n",
              " 'himself',\n",
              " 'his',\n",
              " 'how',\n",
              " 'i',\n",
              " \"i'd\",\n",
              " 'if',\n",
              " \"i'll\",\n",
              " \"i'm\",\n",
              " 'in',\n",
              " 'into',\n",
              " 'is',\n",
              " 'isn',\n",
              " \"isn't\",\n",
              " 'it',\n",
              " \"it'd\",\n",
              " \"it'll\",\n",
              " \"it's\",\n",
              " 'its',\n",
              " 'itself',\n",
              " \"i've\",\n",
              " 'just',\n",
              " 'll',\n",
              " 'm',\n",
              " 'ma',\n",
              " 'me',\n",
              " 'mightn',\n",
              " \"mightn't\",\n",
              " 'more',\n",
              " 'most',\n",
              " 'mustn',\n",
              " \"mustn't\",\n",
              " 'my',\n",
              " 'myself',\n",
              " 'needn',\n",
              " \"needn't\",\n",
              " 'no',\n",
              " 'nor',\n",
              " 'not',\n",
              " 'now',\n",
              " 'o',\n",
              " 'of',\n",
              " 'off',\n",
              " 'on',\n",
              " 'once',\n",
              " 'only',\n",
              " 'or',\n",
              " 'other',\n",
              " 'our',\n",
              " 'ours',\n",
              " 'ourselves',\n",
              " 'out',\n",
              " 'over',\n",
              " 'own',\n",
              " 're',\n",
              " 's',\n",
              " 'same',\n",
              " 'shan',\n",
              " \"shan't\",\n",
              " 'she',\n",
              " \"she'd\",\n",
              " \"she'll\",\n",
              " \"she's\",\n",
              " 'should',\n",
              " 'shouldn',\n",
              " \"shouldn't\",\n",
              " \"should've\",\n",
              " 'so',\n",
              " 'some',\n",
              " 'such',\n",
              " 't',\n",
              " 'than',\n",
              " 'that',\n",
              " \"that'll\",\n",
              " 'the',\n",
              " 'their',\n",
              " 'theirs',\n",
              " 'them',\n",
              " 'themselves',\n",
              " 'then',\n",
              " 'there',\n",
              " 'these',\n",
              " 'they',\n",
              " \"they'd\",\n",
              " \"they'll\",\n",
              " \"they're\",\n",
              " \"they've\",\n",
              " 'this',\n",
              " 'those',\n",
              " 'through',\n",
              " 'to',\n",
              " 'too',\n",
              " 'under',\n",
              " 'until',\n",
              " 'up',\n",
              " 've',\n",
              " 'very',\n",
              " 'was',\n",
              " 'wasn',\n",
              " \"wasn't\",\n",
              " 'we',\n",
              " \"we'd\",\n",
              " \"we'll\",\n",
              " \"we're\",\n",
              " 'were',\n",
              " 'weren',\n",
              " \"weren't\",\n",
              " \"we've\",\n",
              " 'what',\n",
              " 'when',\n",
              " 'where',\n",
              " 'which',\n",
              " 'while',\n",
              " 'who',\n",
              " 'whom',\n",
              " 'why',\n",
              " 'will',\n",
              " 'with',\n",
              " 'won',\n",
              " \"won't\",\n",
              " 'wouldn',\n",
              " \"wouldn't\",\n",
              " 'y',\n",
              " 'you',\n",
              " \"you'd\",\n",
              " \"you'll\",\n",
              " 'your',\n",
              " \"you're\",\n",
              " 'yours',\n",
              " 'yourself',\n",
              " 'yourselves',\n",
              " \"you've\"]"
            ]
          },
          "execution_count": 2,
          "metadata": {},
          "output_type": "execute_result"
        }
      ],
      "source": [
        "stopwords.words('english')"
      ]
    },
    {
      "cell_type": "markdown",
      "metadata": {
        "id": "Ll2bfLPwg_As"
      },
      "source": [
        "## Funciones auxiliares"
      ]
    },
    {
      "cell_type": "code",
      "execution_count": 3,
      "metadata": {
        "id": "h2oSh9rG5UAG"
      },
      "outputs": [],
      "source": [
        "def elimina_stopwords(texto):\n",
        "  stop = re.compile(r'\\b(' + r'|'.join(stopwords.words('english')) + r')\\b\\s*')\n",
        "  nuevo_texto = stop.sub('', texto)\n",
        "  return nuevo_texto"
      ]
    },
    {
      "cell_type": "code",
      "execution_count": 4,
      "metadata": {
        "id": "C7d8p7LSRpmB"
      },
      "outputs": [],
      "source": [
        "def elimina_puntuacion(texto):\n",
        "  nuevo_texto = re.sub('[^A-ZÜÖÄa-z]+', ' ', texto)  # Puntuación y todo lo que no sea letra ni números\n",
        "  return nuevo_texto"
      ]
    },
    {
      "cell_type": "code",
      "execution_count": 5,
      "metadata": {
        "id": "fa0Srj3VEz5c"
      },
      "outputs": [],
      "source": [
        "lemmatizer = WordNetLemmatizer()\n",
        "\n",
        "def lematizar(texto):\n",
        "  texto=texto.split()\n",
        "  nuevo_texto = \" \".join([lemmatizer.lemmatize(i) for i in texto])\n",
        "  return nuevo_texto"
      ]
    },
    {
      "cell_type": "code",
      "execution_count": 6,
      "metadata": {
        "id": "lZGlyjk2E8ot"
      },
      "outputs": [],
      "source": [
        "st = PorterStemmer()\n",
        "\n",
        "def stemmer(texto):\n",
        "  texto=texto.split()\n",
        "  nuevo_texto =\" \".join([st.stem(i) for i in texto])\n",
        "  return nuevo_texto"
      ]
    },
    {
      "cell_type": "code",
      "execution_count": 7,
      "metadata": {
        "id": "AJYwX4CPOT4P"
      },
      "outputs": [],
      "source": [
        "def preprocesar(texto):\n",
        "  texto = texto.lower()\n",
        "  texto = elimina_stopwords(texto)\n",
        "  texto = elimina_puntuacion(texto)\n",
        "  texto = stemmer(texto)\n",
        "  return(texto)"
      ]
    },
    {
      "cell_type": "code",
      "execution_count": 8,
      "metadata": {
        "id": "zqirKL1jq37q"
      },
      "outputs": [],
      "source": [
        "def vectorizar_consulta(texto):\n",
        "  ''' Regresa la consulta vectorizada con el mismo vocabulario que el corpus,\n",
        "  y pesos tfidf en relación al corpus '''\n",
        "  q = preprocesar(texto)\n",
        "  q = tfidf.transform([q])\n",
        "  q = q.toarray()\n",
        "  return q\n"
      ]
    },
    {
      "cell_type": "code",
      "execution_count": 9,
      "metadata": {
        "id": "yE65PdHXnkpn"
      },
      "outputs": [],
      "source": [
        "def reducir_vec_consulta (q):\n",
        "  q_k = (q @ np.transpose(Vt_k)) @ (D_k)\n",
        "  return q_k"
      ]
    },
    {
      "cell_type": "code",
      "execution_count": 10,
      "metadata": {
        "id": "jv7_xAwcvrT1"
      },
      "outputs": [],
      "source": [
        "def descomposicion_k(U_k, D_k, Vt_k):\n",
        "  ''' A partir de las tres matrices correspondientes a la  descomposición\n",
        "  truncada en  valores singulares (donde k << r), devuelve dos matrices:\n",
        "  la primera de tamaño n por k, y la segunda de dimensión k por d  '''\n",
        "  MDT_n_k = np.matmul(U_k, sqrtm(D_k))\n",
        "  MDT_k_d =  np.matmul(sqrtm(D_k), Vt_k)\n",
        "  return MDT_n_k, MDT_k_d"
      ]
    },
    {
      "cell_type": "code",
      "execution_count": 11,
      "metadata": {
        "id": "dWbXjvDIdim_"
      },
      "outputs": [],
      "source": [
        "def documentos_similares(q_vec, M, lim = 0):\n",
        "  q_vec = q_vec.flatten()\n",
        "  n = M.shape[0]\n",
        "  sim_coseno = {}\n",
        "  relevantes = {}\n",
        "  # Calcular similitud coseno\n",
        "  for i in range(n):\n",
        "    sim_coseno[i] = np.dot(M[i,:], q_vec) / (np.linalg.norm(M[i,:]) * np.linalg.norm(q_vec))\n",
        "    if sim_coseno[i] > lim:\n",
        "      relevantes[i] = sim_coseno[i]\n",
        "  if not relevantes:\n",
        "    raise Exception( \"No existen documentos similares\", lim)\n",
        "\n",
        "  # Ordenar valores\n",
        "  relevantes_ordenados = {k:v for k, v in sorted(relevantes.items(),\n",
        "                                                 key=lambda x: x[1],\n",
        "                                                 reverse=True)}\n",
        "  indices = list(relevantes_ordenados.keys())\n",
        "\n",
        "  return corpus.loc[indices, :]"
      ]
    },
    {
      "cell_type": "code",
      "execution_count": 13,
      "metadata": {
        "id": "oNHUePJa2A1i"
      },
      "outputs": [],
      "source": [
        "def precision_sensibilidad(q, M, limites):\n",
        "  doc_sim_dic = {}\n",
        "  precision_dic = {}\n",
        "  sensibilidad_dic = {}\n",
        "  tolerancias_dic = {}\n",
        "\n",
        "  for tol in limites:\n",
        "    tolerancias_dic[tol] = tol\n",
        "    df_similares = documentos_similares(q, M, lim = tol)\n",
        "    doc_sim_dic[tol] =df_similares\n",
        "    Dt = len(df_similares)                       # Documentos encontrados\n",
        "    Dr = (df_similares['label']==clase_q).sum()  # Documentos relevantes encontrados\n",
        "    Nr = (corpus['label']==clase_q).sum()   # Documentos relevantes en todo el corps\n",
        "\n",
        "    # Documentos relevantes encontrados, entre todos los doc encontrados similares\n",
        "    precision_dic[tol] = Dr / Dt\n",
        "\n",
        "    # Documentos relevantes encontrados, entre todos los documentos en el corpus\n",
        "    sensibilidad_dic[tol] = Dr / Nr   # (Recall)\n",
        "\n",
        "  evaluacion = pd.DataFrame({'precision': precision_dic,\n",
        "                           'sensibilidad': sensibilidad_dic\n",
        "                           })\n",
        "  evaluacion.plot.line(x= 'sensibilidad', y= 'precision',\n",
        "                       title ='Precisión vs Sensibilidad',\n",
        "                       xlim=(0,1), ylim=(0,1))\n",
        "\n",
        "  plt.grid(alpha=.8, linestyle='--')\n",
        "  plt.show()\n",
        "  return evaluacion"
      ]
    },
    {
      "cell_type": "markdown",
      "metadata": {
        "id": "gbqBJWu6_9dq"
      },
      "source": [
        "## Lectura de datos\n",
        "\n",
        "El conjunto completo de datos se encuentra en [OHSUMED dataset](https://www.mat.unical.it/OlexSuite/Datasets/SampleDataSets-about.htm). El dataset que utilizaremos está un poco preprocesado para quedarnos con resumenes textuales de enfermedades que están catalogadas en **23 categorías.**"
      ]
    },
    {
      "cell_type": "code",
      "execution_count": 14,
      "metadata": {
        "colab": {
          "base_uri": "https://localhost:8080/",
          "height": 578
        },
        "id": "adKq9HP1bihz",
        "outputId": "ef156173-d371-413e-9a73-1703c926f966"
      },
      "outputs": [
        {
          "name": "stdout",
          "output_type": "stream",
          "text": [
            "(13924, 2)\n"
          ]
        },
        {
          "data": {
            "text/html": [
              "<div>\n",
              "<style scoped>\n",
              "    .dataframe tbody tr th:only-of-type {\n",
              "        vertical-align: middle;\n",
              "    }\n",
              "\n",
              "    .dataframe tbody tr th {\n",
              "        vertical-align: top;\n",
              "    }\n",
              "\n",
              "    .dataframe thead th {\n",
              "        text-align: right;\n",
              "    }\n",
              "</style>\n",
              "<table border=\"1\" class=\"dataframe\">\n",
              "  <thead>\n",
              "    <tr style=\"text-align: right;\">\n",
              "      <th></th>\n",
              "      <th>label</th>\n",
              "      <th>doc</th>\n",
              "    </tr>\n",
              "  </thead>\n",
              "  <tbody>\n",
              "    <tr>\n",
              "      <th>0</th>\n",
              "      <td>16</td>\n",
              "      <td>Improved outcome at 28 days of age for very l...</td>\n",
              "    </tr>\n",
              "    <tr>\n",
              "      <th>1</th>\n",
              "      <td>5</td>\n",
              "      <td>Chylothorax after posterior spinal instrument...</td>\n",
              "    </tr>\n",
              "    <tr>\n",
              "      <th>2</th>\n",
              "      <td>16</td>\n",
              "      <td>Childhood pulmonary function following hyalin...</td>\n",
              "    </tr>\n",
              "    <tr>\n",
              "      <th>3</th>\n",
              "      <td>8</td>\n",
              "      <td>Treatment of atelectasis of upper lung lobes....</td>\n",
              "    </tr>\n",
              "    <tr>\n",
              "      <th>4</th>\n",
              "      <td>21</td>\n",
              "      <td>Decision analysis, public health policy, and ...</td>\n",
              "    </tr>\n",
              "  </tbody>\n",
              "</table>\n",
              "</div>"
            ],
            "text/plain": [
              "   label                                                doc\n",
              "0     16   Improved outcome at 28 days of age for very l...\n",
              "1      5   Chylothorax after posterior spinal instrument...\n",
              "2     16   Childhood pulmonary function following hyalin...\n",
              "3      8   Treatment of atelectasis of upper lung lobes....\n",
              "4     21   Decision analysis, public health policy, and ..."
            ]
          },
          "execution_count": 14,
          "metadata": {},
          "output_type": "execute_result"
        }
      ],
      "source": [
        "datos = pd.read_csv('./ohsumed_abstracts.csv',\n",
        "                    usecols=[0,1,2], index_col = 0)\n",
        "\n",
        "print(datos.shape)\n",
        "datos.head()"
      ]
    },
    {
      "cell_type": "code",
      "execution_count": 15,
      "metadata": {
        "colab": {
          "base_uri": "https://localhost:8080/",
          "height": 105
        },
        "id": "D36qJwNkXbMm",
        "outputId": "4d4f8841-d2bd-47c9-ef17-f7a3832897f0"
      },
      "outputs": [
        {
          "data": {
            "text/plain": [
              "' Childhood pulmonary function following hyaline membrane disease, Hyaline membrane disease per se is not associated with abnormal lung function or increased nonspecific airway reactivity in childhood or adulthood. Very-low-birth-weight infants who survive almost routinely in neonatal ICUs are at risk. however. for developing airflow obstruction and having airway hyperreactivity as children. and for having recurrent bouts of wheezing. cough. and respiratory infections. Neonates who develop BPD have the greatest risk of abnormal pulmonary function as children. Continued research into the prevention of premature birth and into the causes of neonatal lung injury. combined with improvements in the neonatal ICU and follow-up treatment. will undoubtedly contribute to improvement in the clinical course of premature infants.'"
            ]
          },
          "execution_count": 15,
          "metadata": {},
          "output_type": "execute_result"
        }
      ],
      "source": [
        "datos.loc[2,'doc']"
      ]
    },
    {
      "cell_type": "code",
      "execution_count": 16,
      "metadata": {
        "colab": {
          "base_uri": "https://localhost:8080/",
          "height": 123
        },
        "id": "8iBP719MXmDm",
        "outputId": "7068f097-2575-4b20-8901-77bb53e5740b"
      },
      "outputs": [
        {
          "data": {
            "text/plain": [
              "' Chylothorax after posterior spinal instrumentation and fusion, Chylothorax occurred in a 16-year-old girl after posterior spinal fusion and instrumentation for idiopathic scoliosis. Nonoperative management. including chest tube drainage for 26 days and total parenteral nutrition. successfully treated this unusual complication after a posterior spinal fusion.'"
            ]
          },
          "execution_count": 16,
          "metadata": {},
          "output_type": "execute_result"
        }
      ],
      "source": [
        "datos.loc[1,'doc']"
      ]
    },
    {
      "cell_type": "code",
      "execution_count": 17,
      "metadata": {
        "colab": {
          "base_uri": "https://localhost:8080/"
        },
        "id": "01e4afoYrXjV",
        "outputId": "f699c6e5-2c08-4995-a662-2c89ac4717cd"
      },
      "outputs": [
        {
          "data": {
            "text/plain": [
              "23"
            ]
          },
          "execution_count": 17,
          "metadata": {},
          "output_type": "execute_result"
        }
      ],
      "source": [
        "len(datos['label'].value_counts())"
      ]
    },
    {
      "cell_type": "markdown",
      "metadata": {
        "id": "7Uc41Rik5TAY"
      },
      "source": [
        "Los documentos están catalogados en **23 categorías**."
      ]
    },
    {
      "cell_type": "code",
      "execution_count": 18,
      "metadata": {
        "colab": {
          "base_uri": "https://localhost:8080/",
          "height": 363
        },
        "id": "FrnC-kc7f-Uw",
        "outputId": "b2b7cc3a-b9a6-4117-c89f-1cfc1f082073"
      },
      "outputs": [
        {
          "data": {
            "text/html": [
              "<div>\n",
              "<style scoped>\n",
              "    .dataframe tbody tr th:only-of-type {\n",
              "        vertical-align: middle;\n",
              "    }\n",
              "\n",
              "    .dataframe tbody tr th {\n",
              "        vertical-align: top;\n",
              "    }\n",
              "\n",
              "    .dataframe thead th {\n",
              "        text-align: right;\n",
              "    }\n",
              "</style>\n",
              "<table border=\"1\" class=\"dataframe\">\n",
              "  <thead>\n",
              "    <tr style=\"text-align: right;\">\n",
              "      <th></th>\n",
              "      <th>label</th>\n",
              "      <th>doc</th>\n",
              "    </tr>\n",
              "  </thead>\n",
              "  <tbody>\n",
              "    <tr>\n",
              "      <th>5832</th>\n",
              "      <td>18</td>\n",
              "      <td>Alkaline phosphatase (tissue-nonspecific isoe...</td>\n",
              "    </tr>\n",
              "    <tr>\n",
              "      <th>12535</th>\n",
              "      <td>10</td>\n",
              "      <td>The community hospital-based stroke programs ...</td>\n",
              "    </tr>\n",
              "    <tr>\n",
              "      <th>151</th>\n",
              "      <td>23</td>\n",
              "      <td>Surgery in patients on long-term steroid ther...</td>\n",
              "    </tr>\n",
              "    <tr>\n",
              "      <th>11997</th>\n",
              "      <td>4</td>\n",
              "      <td>Primary Ewing sarcoma: follow-up with Ga-67 s...</td>\n",
              "    </tr>\n",
              "    <tr>\n",
              "      <th>13010</th>\n",
              "      <td>21</td>\n",
              "      <td>Psychiatric diagnoses of treatment-seeking co...</td>\n",
              "    </tr>\n",
              "    <tr>\n",
              "      <th>3077</th>\n",
              "      <td>21</td>\n",
              "      <td>Clinical experience with the benzodiazepine a...</td>\n",
              "    </tr>\n",
              "    <tr>\n",
              "      <th>10659</th>\n",
              "      <td>23</td>\n",
              "      <td>The validity of canine platelet aggregometry ...</td>\n",
              "    </tr>\n",
              "    <tr>\n",
              "      <th>965</th>\n",
              "      <td>6</td>\n",
              "      <td>Evaluation of women with possible appendiciti...</td>\n",
              "    </tr>\n",
              "    <tr>\n",
              "      <th>8664</th>\n",
              "      <td>14</td>\n",
              "      <td>Heart rate adjustment of exercise-induced ST ...</td>\n",
              "    </tr>\n",
              "    <tr>\n",
              "      <th>6687</th>\n",
              "      <td>14</td>\n",
              "      <td>Auto-PEEP during CPR. An \"occult\" cause of el...</td>\n",
              "    </tr>\n",
              "  </tbody>\n",
              "</table>\n",
              "</div>"
            ],
            "text/plain": [
              "       label                                                doc\n",
              "5832      18   Alkaline phosphatase (tissue-nonspecific isoe...\n",
              "12535     10   The community hospital-based stroke programs ...\n",
              "151       23   Surgery in patients on long-term steroid ther...\n",
              "11997      4   Primary Ewing sarcoma: follow-up with Ga-67 s...\n",
              "13010     21   Psychiatric diagnoses of treatment-seeking co...\n",
              "3077      21   Clinical experience with the benzodiazepine a...\n",
              "10659     23   The validity of canine platelet aggregometry ...\n",
              "965        6   Evaluation of women with possible appendiciti...\n",
              "8664      14   Heart rate adjustment of exercise-induced ST ...\n",
              "6687      14   Auto-PEEP during CPR. An \"occult\" cause of el..."
            ]
          },
          "execution_count": 18,
          "metadata": {},
          "output_type": "execute_result"
        }
      ],
      "source": [
        "datos.sample(10, random_state=3)"
      ]
    },
    {
      "cell_type": "code",
      "execution_count": 19,
      "metadata": {
        "colab": {
          "base_uri": "https://localhost:8080/",
          "height": 363
        },
        "id": "wmCOWzYjqIuu",
        "outputId": "6676ff12-c391-4316-c8a8-b71fc03c594b"
      },
      "outputs": [
        {
          "data": {
            "text/html": [
              "<div>\n",
              "<style scoped>\n",
              "    .dataframe tbody tr th:only-of-type {\n",
              "        vertical-align: middle;\n",
              "    }\n",
              "\n",
              "    .dataframe tbody tr th {\n",
              "        vertical-align: top;\n",
              "    }\n",
              "\n",
              "    .dataframe thead th {\n",
              "        text-align: right;\n",
              "    }\n",
              "</style>\n",
              "<table border=\"1\" class=\"dataframe\">\n",
              "  <thead>\n",
              "    <tr style=\"text-align: right;\">\n",
              "      <th></th>\n",
              "      <th>label</th>\n",
              "      <th>doc</th>\n",
              "    </tr>\n",
              "  </thead>\n",
              "  <tbody>\n",
              "    <tr>\n",
              "      <th>5832</th>\n",
              "      <td>18</td>\n",
              "      <td>Alkaline phosphatase (tissue-nonspecific isoe...</td>\n",
              "    </tr>\n",
              "    <tr>\n",
              "      <th>12535</th>\n",
              "      <td>10</td>\n",
              "      <td>The community hospital-based stroke programs ...</td>\n",
              "    </tr>\n",
              "    <tr>\n",
              "      <th>151</th>\n",
              "      <td>23</td>\n",
              "      <td>Surgery in patients on long-term steroid ther...</td>\n",
              "    </tr>\n",
              "    <tr>\n",
              "      <th>11997</th>\n",
              "      <td>4</td>\n",
              "      <td>Primary Ewing sarcoma: follow-up with Ga-67 s...</td>\n",
              "    </tr>\n",
              "    <tr>\n",
              "      <th>13010</th>\n",
              "      <td>21</td>\n",
              "      <td>Psychiatric diagnoses of treatment-seeking co...</td>\n",
              "    </tr>\n",
              "    <tr>\n",
              "      <th>3077</th>\n",
              "      <td>21</td>\n",
              "      <td>Clinical experience with the benzodiazepine a...</td>\n",
              "    </tr>\n",
              "    <tr>\n",
              "      <th>10659</th>\n",
              "      <td>23</td>\n",
              "      <td>The validity of canine platelet aggregometry ...</td>\n",
              "    </tr>\n",
              "    <tr>\n",
              "      <th>965</th>\n",
              "      <td>6</td>\n",
              "      <td>Evaluation of women with possible appendiciti...</td>\n",
              "    </tr>\n",
              "    <tr>\n",
              "      <th>8664</th>\n",
              "      <td>14</td>\n",
              "      <td>Heart rate adjustment of exercise-induced ST ...</td>\n",
              "    </tr>\n",
              "    <tr>\n",
              "      <th>6687</th>\n",
              "      <td>14</td>\n",
              "      <td>Auto-PEEP during CPR. An \"occult\" cause of el...</td>\n",
              "    </tr>\n",
              "  </tbody>\n",
              "</table>\n",
              "</div>"
            ],
            "text/plain": [
              "       label                                                doc\n",
              "5832      18   Alkaline phosphatase (tissue-nonspecific isoe...\n",
              "12535     10   The community hospital-based stroke programs ...\n",
              "151       23   Surgery in patients on long-term steroid ther...\n",
              "11997      4   Primary Ewing sarcoma: follow-up with Ga-67 s...\n",
              "13010     21   Psychiatric diagnoses of treatment-seeking co...\n",
              "3077      21   Clinical experience with the benzodiazepine a...\n",
              "10659     23   The validity of canine platelet aggregometry ...\n",
              "965        6   Evaluation of women with possible appendiciti...\n",
              "8664      14   Heart rate adjustment of exercise-induced ST ...\n",
              "6687      14   Auto-PEEP during CPR. An \"occult\" cause of el..."
            ]
          },
          "execution_count": 19,
          "metadata": {},
          "output_type": "execute_result"
        }
      ],
      "source": [
        "# Separamos una muestra aleatoria de 10 documentos, que serán nuestras consultas\n",
        "consultas_idx = datos.sample(10, random_state=3).index\n",
        "consultas = datos.iloc[consultas_idx,:].copy()\n",
        "consultas"
      ]
    },
    {
      "cell_type": "code",
      "execution_count": 20,
      "metadata": {
        "colab": {
          "base_uri": "https://localhost:8080/",
          "height": 441
        },
        "id": "btWRCRJDqY4t",
        "outputId": "dfbb7885-9298-4fe9-b752-4ce4fdbefa49"
      },
      "outputs": [
        {
          "name": "stdout",
          "output_type": "stream",
          "text": [
            "(13914, 2)\n"
          ]
        },
        {
          "data": {
            "text/html": [
              "<div>\n",
              "<style scoped>\n",
              "    .dataframe tbody tr th:only-of-type {\n",
              "        vertical-align: middle;\n",
              "    }\n",
              "\n",
              "    .dataframe tbody tr th {\n",
              "        vertical-align: top;\n",
              "    }\n",
              "\n",
              "    .dataframe thead th {\n",
              "        text-align: right;\n",
              "    }\n",
              "</style>\n",
              "<table border=\"1\" class=\"dataframe\">\n",
              "  <thead>\n",
              "    <tr style=\"text-align: right;\">\n",
              "      <th></th>\n",
              "      <th>label</th>\n",
              "      <th>doc</th>\n",
              "    </tr>\n",
              "  </thead>\n",
              "  <tbody>\n",
              "    <tr>\n",
              "      <th>0</th>\n",
              "      <td>16</td>\n",
              "      <td>Improved outcome at 28 days of age for very l...</td>\n",
              "    </tr>\n",
              "    <tr>\n",
              "      <th>1</th>\n",
              "      <td>5</td>\n",
              "      <td>Chylothorax after posterior spinal instrument...</td>\n",
              "    </tr>\n",
              "    <tr>\n",
              "      <th>2</th>\n",
              "      <td>16</td>\n",
              "      <td>Childhood pulmonary function following hyalin...</td>\n",
              "    </tr>\n",
              "    <tr>\n",
              "      <th>3</th>\n",
              "      <td>8</td>\n",
              "      <td>Treatment of atelectasis of upper lung lobes....</td>\n",
              "    </tr>\n",
              "    <tr>\n",
              "      <th>4</th>\n",
              "      <td>21</td>\n",
              "      <td>Decision analysis, public health policy, and ...</td>\n",
              "    </tr>\n",
              "    <tr>\n",
              "      <th>...</th>\n",
              "      <td>...</td>\n",
              "      <td>...</td>\n",
              "    </tr>\n",
              "    <tr>\n",
              "      <th>13909</th>\n",
              "      <td>11</td>\n",
              "      <td>Results of blepharoptosis surgery with early ...</td>\n",
              "    </tr>\n",
              "    <tr>\n",
              "      <th>13910</th>\n",
              "      <td>11</td>\n",
              "      <td>A century of cerebral achromatopsia, This rev...</td>\n",
              "    </tr>\n",
              "    <tr>\n",
              "      <th>13911</th>\n",
              "      <td>11</td>\n",
              "      <td>Intraocular lens implantation after penetrati...</td>\n",
              "    </tr>\n",
              "    <tr>\n",
              "      <th>13912</th>\n",
              "      <td>11</td>\n",
              "      <td>Reproducibility of topographic measurements o...</td>\n",
              "    </tr>\n",
              "    <tr>\n",
              "      <th>13913</th>\n",
              "      <td>11</td>\n",
              "      <td>Cyclocryotherapy in selected cases of congeni...</td>\n",
              "    </tr>\n",
              "  </tbody>\n",
              "</table>\n",
              "<p>13914 rows × 2 columns</p>\n",
              "</div>"
            ],
            "text/plain": [
              "       label                                                doc\n",
              "0         16   Improved outcome at 28 days of age for very l...\n",
              "1          5   Chylothorax after posterior spinal instrument...\n",
              "2         16   Childhood pulmonary function following hyalin...\n",
              "3          8   Treatment of atelectasis of upper lung lobes....\n",
              "4         21   Decision analysis, public health policy, and ...\n",
              "...      ...                                                ...\n",
              "13909     11   Results of blepharoptosis surgery with early ...\n",
              "13910     11   A century of cerebral achromatopsia, This rev...\n",
              "13911     11   Intraocular lens implantation after penetrati...\n",
              "13912     11   Reproducibility of topographic measurements o...\n",
              "13913     11   Cyclocryotherapy in selected cases of congeni...\n",
              "\n",
              "[13914 rows x 2 columns]"
            ]
          },
          "execution_count": 20,
          "metadata": {},
          "output_type": "execute_result"
        }
      ],
      "source": [
        "# Dejamos el resto de documentos como nuestro corpus\n",
        "corpus = pd.concat([datos,consultas]).drop_duplicates(keep=False).reset_index(drop=True)\n",
        "consultas = consultas.reset_index(drop=True)\n",
        "print(corpus.shape)\n",
        "corpus"
      ]
    },
    {
      "cell_type": "code",
      "execution_count": 21,
      "metadata": {
        "colab": {
          "base_uri": "https://localhost:8080/",
          "height": 363
        },
        "id": "3g9iFXtrapbL",
        "outputId": "69761980-e5e4-40da-9e11-52a4c988b8bd"
      },
      "outputs": [
        {
          "data": {
            "text/html": [
              "<div>\n",
              "<style scoped>\n",
              "    .dataframe tbody tr th:only-of-type {\n",
              "        vertical-align: middle;\n",
              "    }\n",
              "\n",
              "    .dataframe tbody tr th {\n",
              "        vertical-align: top;\n",
              "    }\n",
              "\n",
              "    .dataframe thead th {\n",
              "        text-align: right;\n",
              "    }\n",
              "</style>\n",
              "<table border=\"1\" class=\"dataframe\">\n",
              "  <thead>\n",
              "    <tr style=\"text-align: right;\">\n",
              "      <th></th>\n",
              "      <th>label</th>\n",
              "      <th>doc</th>\n",
              "    </tr>\n",
              "  </thead>\n",
              "  <tbody>\n",
              "    <tr>\n",
              "      <th>0</th>\n",
              "      <td>18</td>\n",
              "      <td>Alkaline phosphatase (tissue-nonspecific isoe...</td>\n",
              "    </tr>\n",
              "    <tr>\n",
              "      <th>1</th>\n",
              "      <td>10</td>\n",
              "      <td>The community hospital-based stroke programs ...</td>\n",
              "    </tr>\n",
              "    <tr>\n",
              "      <th>2</th>\n",
              "      <td>23</td>\n",
              "      <td>Surgery in patients on long-term steroid ther...</td>\n",
              "    </tr>\n",
              "    <tr>\n",
              "      <th>3</th>\n",
              "      <td>4</td>\n",
              "      <td>Primary Ewing sarcoma: follow-up with Ga-67 s...</td>\n",
              "    </tr>\n",
              "    <tr>\n",
              "      <th>4</th>\n",
              "      <td>21</td>\n",
              "      <td>Psychiatric diagnoses of treatment-seeking co...</td>\n",
              "    </tr>\n",
              "    <tr>\n",
              "      <th>5</th>\n",
              "      <td>21</td>\n",
              "      <td>Clinical experience with the benzodiazepine a...</td>\n",
              "    </tr>\n",
              "    <tr>\n",
              "      <th>6</th>\n",
              "      <td>23</td>\n",
              "      <td>The validity of canine platelet aggregometry ...</td>\n",
              "    </tr>\n",
              "    <tr>\n",
              "      <th>7</th>\n",
              "      <td>6</td>\n",
              "      <td>Evaluation of women with possible appendiciti...</td>\n",
              "    </tr>\n",
              "    <tr>\n",
              "      <th>8</th>\n",
              "      <td>14</td>\n",
              "      <td>Heart rate adjustment of exercise-induced ST ...</td>\n",
              "    </tr>\n",
              "    <tr>\n",
              "      <th>9</th>\n",
              "      <td>14</td>\n",
              "      <td>Auto-PEEP during CPR. An \"occult\" cause of el...</td>\n",
              "    </tr>\n",
              "  </tbody>\n",
              "</table>\n",
              "</div>"
            ],
            "text/plain": [
              "   label                                                doc\n",
              "0     18   Alkaline phosphatase (tissue-nonspecific isoe...\n",
              "1     10   The community hospital-based stroke programs ...\n",
              "2     23   Surgery in patients on long-term steroid ther...\n",
              "3      4   Primary Ewing sarcoma: follow-up with Ga-67 s...\n",
              "4     21   Psychiatric diagnoses of treatment-seeking co...\n",
              "5     21   Clinical experience with the benzodiazepine a...\n",
              "6     23   The validity of canine platelet aggregometry ...\n",
              "7      6   Evaluation of women with possible appendiciti...\n",
              "8     14   Heart rate adjustment of exercise-induced ST ...\n",
              "9     14   Auto-PEEP during CPR. An \"occult\" cause of el..."
            ]
          },
          "execution_count": 21,
          "metadata": {},
          "output_type": "execute_result"
        }
      ],
      "source": [
        "consultas"
      ]
    },
    {
      "cell_type": "markdown",
      "metadata": {
        "id": "Z2pI7oH5tAH9"
      },
      "source": [
        "## Preprocesamiento de texto"
      ]
    },
    {
      "cell_type": "code",
      "execution_count": 22,
      "metadata": {
        "colab": {
          "base_uri": "https://localhost:8080/",
          "height": 140
        },
        "id": "_0gF4PanN61o",
        "outputId": "6f43d4e0-0ddb-4887-c7a2-1474a718883a"
      },
      "outputs": [
        {
          "name": "stdout",
          "output_type": "stream",
          "text": [
            "1244\n"
          ]
        },
        {
          "data": {
            "text/plain": [
              "' Prolonged continuous acyclovir treatment of normal adults with frequently recurring genital herpes simplex virus infection. The Acyclovir Study Group, In this 3-year study of suppressive acyclovir for recurrent genital herpes. patients with more than six recurrences per year were randomized initially to 400 mg of acyclovir or placebo orally two times per day. with recurrences treated with 200 mg of acyclovir five times per day for 5 days. In the second year of the study. all patients received acyclovir as a daily suppressive or intermittent acute therapy; in the third year. all received daily acyclovir. Among 525 patients completing 3 study years. 289 received 3 years of suppressive therapy and 236 received 1 year of acute therapy followed by 2 years of suppressive therapy. Of those who completed the third year. 61% were recurrence free that year; 25% of the suppressive therapy-only group were recurrence free for all 3 years. The annual recurrence rate dropped from more than 12 recurrences per year at baseline to 1.0 (suppressive therapy) and 1.4 (acute and suppressive therapy) recurrences during the third year. No significant toxic effects were detected. Daily suppressive acyclovir therapy was effective and well tolerated.'"
            ]
          },
          "execution_count": 22,
          "metadata": {},
          "output_type": "execute_result"
        }
      ],
      "source": [
        "ejemplo = np.random.choice(corpus['doc'])\n",
        "print(len(ejemplo))\n",
        "ejemplo"
      ]
    },
    {
      "cell_type": "markdown",
      "metadata": {
        "id": "CYZO4qz9tDdD"
      },
      "source": [
        "**Transformarmos el texto a minúsculas...**"
      ]
    },
    {
      "cell_type": "code",
      "execution_count": 23,
      "metadata": {
        "colab": {
          "base_uri": "https://localhost:8080/",
          "height": 140
        },
        "id": "l9_may3QtHpT",
        "outputId": "2c7a44d1-f7fb-484b-9f12-779a5ad7e6f0"
      },
      "outputs": [
        {
          "name": "stdout",
          "output_type": "stream",
          "text": [
            "1244\n"
          ]
        },
        {
          "data": {
            "text/plain": [
              "' prolonged continuous acyclovir treatment of normal adults with frequently recurring genital herpes simplex virus infection. the acyclovir study group, in this 3-year study of suppressive acyclovir for recurrent genital herpes. patients with more than six recurrences per year were randomized initially to 400 mg of acyclovir or placebo orally two times per day. with recurrences treated with 200 mg of acyclovir five times per day for 5 days. in the second year of the study. all patients received acyclovir as a daily suppressive or intermittent acute therapy; in the third year. all received daily acyclovir. among 525 patients completing 3 study years. 289 received 3 years of suppressive therapy and 236 received 1 year of acute therapy followed by 2 years of suppressive therapy. of those who completed the third year. 61% were recurrence free that year; 25% of the suppressive therapy-only group were recurrence free for all 3 years. the annual recurrence rate dropped from more than 12 recurrences per year at baseline to 1.0 (suppressive therapy) and 1.4 (acute and suppressive therapy) recurrences during the third year. no significant toxic effects were detected. daily suppressive acyclovir therapy was effective and well tolerated.'"
            ]
          },
          "execution_count": 23,
          "metadata": {},
          "output_type": "execute_result"
        }
      ],
      "source": [
        "ejemplo = ejemplo.lower()\n",
        "print(len(ejemplo))\n",
        "ejemplo"
      ]
    },
    {
      "cell_type": "markdown",
      "metadata": {
        "id": "FJfeT1uwtIHT"
      },
      "source": [
        "**Quitamos puntuación...**"
      ]
    },
    {
      "cell_type": "code",
      "execution_count": 24,
      "metadata": {
        "colab": {
          "base_uri": "https://localhost:8080/",
          "height": 140
        },
        "id": "3dYvCI1ntQWc",
        "outputId": "16ce9128-167d-4177-e4b3-68be41d5aa24"
      },
      "outputs": [
        {
          "name": "stdout",
          "output_type": "stream",
          "text": [
            "1171\n"
          ]
        },
        {
          "data": {
            "text/plain": [
              "' prolonged continuous acyclovir treatment of normal adults with frequently recurring genital herpes simplex virus infection the acyclovir study group in this year study of suppressive acyclovir for recurrent genital herpes patients with more than six recurrences per year were randomized initially to mg of acyclovir or placebo orally two times per day with recurrences treated with mg of acyclovir five times per day for days in the second year of the study all patients received acyclovir as a daily suppressive or intermittent acute therapy in the third year all received daily acyclovir among patients completing study years received years of suppressive therapy and received year of acute therapy followed by years of suppressive therapy of those who completed the third year were recurrence free that year of the suppressive therapy only group were recurrence free for all years the annual recurrence rate dropped from more than recurrences per year at baseline to suppressive therapy and acute and suppressive therapy recurrences during the third year no significant toxic effects were detected daily suppressive acyclovir therapy was effective and well tolerated '"
            ]
          },
          "execution_count": 24,
          "metadata": {},
          "output_type": "execute_result"
        }
      ],
      "source": [
        "ejemplo = elimina_puntuacion(ejemplo)\n",
        "print(len(ejemplo))\n",
        "ejemplo"
      ]
    },
    {
      "cell_type": "markdown",
      "metadata": {
        "id": "RWpEiJcDtTHO"
      },
      "source": [
        "**Quitamos palabras irrelevantes (_stopwords_)...**"
      ]
    },
    {
      "cell_type": "code",
      "execution_count": 25,
      "metadata": {
        "colab": {
          "base_uri": "https://localhost:8080/",
          "height": 140
        },
        "id": "5Rt-PGKdtTmN",
        "outputId": "50830bab-a163-4a1a-8b9f-e2cd16ad7c6d"
      },
      "outputs": [
        {
          "name": "stdout",
          "output_type": "stream",
          "text": [
            "933\n"
          ]
        },
        {
          "data": {
            "text/plain": [
              "' prolonged continuous acyclovir treatment normal adults frequently recurring genital herpes simplex virus infection acyclovir study group year study suppressive acyclovir recurrent genital herpes patients six recurrences per year randomized initially mg acyclovir placebo orally two times per day recurrences treated mg acyclovir five times per day days second year study patients received acyclovir daily suppressive intermittent acute therapy third year received daily acyclovir among patients completing study years received years suppressive therapy received year acute therapy followed years suppressive therapy completed third year recurrence free year suppressive therapy group recurrence free years annual recurrence rate dropped recurrences per year baseline suppressive therapy acute suppressive therapy recurrences third year significant toxic effects detected daily suppressive acyclovir therapy effective well tolerated '"
            ]
          },
          "execution_count": 25,
          "metadata": {},
          "output_type": "execute_result"
        }
      ],
      "source": [
        "ejemplo = elimina_stopwords(ejemplo)\n",
        "print(len(ejemplo))\n",
        "ejemplo"
      ]
    },
    {
      "cell_type": "markdown",
      "metadata": {
        "id": "FqT5lRXW585j"
      },
      "source": [
        "**Normalización del texto...**\n",
        "\n",
        "Existen dos principales técnicas para normalizar el texto, la lematización y \"radicalización\" o stemming, que consiste en la conversión de palabras en sus raíces."
      ]
    },
    {
      "cell_type": "code",
      "execution_count": 26,
      "metadata": {
        "colab": {
          "base_uri": "https://localhost:8080/"
        },
        "id": "oaIVXNMNZ25G",
        "outputId": "99144724-df8a-4e6a-e9a6-5f6de6c99d77"
      },
      "outputs": [
        {
          "name": "stderr",
          "output_type": "stream",
          "text": [
            "[nltk_data] Downloading package omw-1.4 to /Users/pedrom2/nltk_data...\n",
            "[nltk_data]   Package omw-1.4 is already up-to-date!\n"
          ]
        },
        {
          "data": {
            "text/plain": [
              "True"
            ]
          },
          "execution_count": 26,
          "metadata": {},
          "output_type": "execute_result"
        }
      ],
      "source": [
        "nltk.download('omw-1.4')"
      ]
    },
    {
      "cell_type": "code",
      "execution_count": 28,
      "metadata": {
        "colab": {
          "base_uri": "https://localhost:8080/"
        },
        "id": "sdzBsX1UPDS3",
        "outputId": "7d588163-1dc4-45db-9215-47969694942d"
      },
      "outputs": [
        {
          "name": "stdout",
          "output_type": "stream",
          "text": [
            "i have one foot and two foot constitutional\n",
            "i have one foot and two feet constitut\n"
          ]
        }
      ],
      "source": [
        "# Ejemplo de diferencia entre lematización y stemización (radicalización)\n",
        "oracion = 'i have one foot and two feet constitutional'\n",
        "print(lematizar(oracion)) # lemmatization uses a dictionary and morphological analysis\n",
        "print(stemmer(oracion)) # stemming chops via heuristic, which can result in non-dictionary words"
      ]
    },
    {
      "cell_type": "code",
      "execution_count": 29,
      "metadata": {
        "colab": {
          "base_uri": "https://localhost:8080/",
          "height": 140
        },
        "id": "WIFwWnuQCrH2",
        "outputId": "e69c8080-ca26-40a5-dc64-f09a1abd08e0"
      },
      "outputs": [
        {
          "name": "stdout",
          "output_type": "stream",
          "text": [
            "915\n"
          ]
        },
        {
          "data": {
            "text/plain": [
              "'prolonged continuous acyclovir treatment normal adult frequently recurring genital herpes simplex virus infection acyclovir study group year study suppressive acyclovir recurrent genital herpes patient six recurrence per year randomized initially mg acyclovir placebo orally two time per day recurrence treated mg acyclovir five time per day day second year study patient received acyclovir daily suppressive intermittent acute therapy third year received daily acyclovir among patient completing study year received year suppressive therapy received year acute therapy followed year suppressive therapy completed third year recurrence free year suppressive therapy group recurrence free year annual recurrence rate dropped recurrence per year baseline suppressive therapy acute suppressive therapy recurrence third year significant toxic effect detected daily suppressive acyclovir therapy effective well tolerated'"
            ]
          },
          "execution_count": 29,
          "metadata": {},
          "output_type": "execute_result"
        }
      ],
      "source": [
        "ejemplo_lema = lematizar(ejemplo)\n",
        "print(len(ejemplo_lema))\n",
        "ejemplo_lema"
      ]
    },
    {
      "cell_type": "code",
      "execution_count": 30,
      "metadata": {
        "colab": {
          "base_uri": "https://localhost:8080/",
          "height": 140
        },
        "id": "vaNcLBVtFrpG",
        "outputId": "a1c4ed0b-5719-4e0a-8965-70bb22683c51"
      },
      "outputs": [
        {
          "name": "stdout",
          "output_type": "stream",
          "text": [
            "788\n"
          ]
        },
        {
          "data": {
            "text/plain": [
              "'prolong continu acyclovir treatment normal adult frequent recur genit herp simplex viru infect acyclovir studi group year studi suppress acyclovir recurr genit herp patient six recurr per year random initi mg acyclovir placebo oral two time per day recurr treat mg acyclovir five time per day day second year studi patient receiv acyclovir daili suppress intermitt acut therapi third year receiv daili acyclovir among patient complet studi year receiv year suppress therapi receiv year acut therapi follow year suppress therapi complet third year recurr free year suppress therapi group recurr free year annual recurr rate drop recurr per year baselin suppress therapi acut suppress therapi recurr third year signific toxic effect detect daili suppress acyclovir therapi effect well toler'"
            ]
          },
          "execution_count": 30,
          "metadata": {},
          "output_type": "execute_result"
        }
      ],
      "source": [
        "ejemplo_stem = stemmer(ejemplo)\n",
        "print(len(ejemplo_stem))\n",
        "ejemplo_stem"
      ]
    },
    {
      "cell_type": "markdown",
      "metadata": {
        "id": "ANZQqWl2QkCx"
      },
      "source": [
        "Juntamos todos estos pasos en la función auxiliar preprocesar."
      ]
    },
    {
      "cell_type": "code",
      "execution_count": 31,
      "metadata": {
        "colab": {
          "base_uri": "https://localhost:8080/"
        },
        "id": "ExtHv1pNQhj8",
        "outputId": "06b9a51a-6e97-4e34-fb43-ea58292e839a"
      },
      "outputs": [
        {
          "name": "stdout",
          "output_type": "stream",
          "text": [
            "CPU times: user 20 s, sys: 323 ms, total: 20.3 s\n",
            "Wall time: 20.4 s\n"
          ]
        }
      ],
      "source": [
        "%%time\n",
        "corpus['doc_pp'] = corpus['doc'].apply(preprocesar)"
      ]
    },
    {
      "cell_type": "code",
      "execution_count": 32,
      "metadata": {
        "colab": {
          "base_uri": "https://localhost:8080/",
          "height": 206
        },
        "id": "oy1U9kqIZBtC",
        "outputId": "ec3ffbe9-bbf6-43ce-b552-812da033ff6a"
      },
      "outputs": [
        {
          "data": {
            "text/html": [
              "<div>\n",
              "<style scoped>\n",
              "    .dataframe tbody tr th:only-of-type {\n",
              "        vertical-align: middle;\n",
              "    }\n",
              "\n",
              "    .dataframe tbody tr th {\n",
              "        vertical-align: top;\n",
              "    }\n",
              "\n",
              "    .dataframe thead th {\n",
              "        text-align: right;\n",
              "    }\n",
              "</style>\n",
              "<table border=\"1\" class=\"dataframe\">\n",
              "  <thead>\n",
              "    <tr style=\"text-align: right;\">\n",
              "      <th></th>\n",
              "      <th>label</th>\n",
              "      <th>doc</th>\n",
              "      <th>doc_pp</th>\n",
              "    </tr>\n",
              "  </thead>\n",
              "  <tbody>\n",
              "    <tr>\n",
              "      <th>0</th>\n",
              "      <td>16</td>\n",
              "      <td>Improved outcome at 28 days of age for very l...</td>\n",
              "      <td>improv outcom day age low birth weight infant ...</td>\n",
              "    </tr>\n",
              "    <tr>\n",
              "      <th>1</th>\n",
              "      <td>5</td>\n",
              "      <td>Chylothorax after posterior spinal instrument...</td>\n",
              "      <td>chylothorax posterior spinal instrument fusion...</td>\n",
              "    </tr>\n",
              "    <tr>\n",
              "      <th>2</th>\n",
              "      <td>16</td>\n",
              "      <td>Childhood pulmonary function following hyalin...</td>\n",
              "      <td>childhood pulmonari function follow hyalin mem...</td>\n",
              "    </tr>\n",
              "    <tr>\n",
              "      <th>3</th>\n",
              "      <td>8</td>\n",
              "      <td>Treatment of atelectasis of upper lung lobes....</td>\n",
              "      <td>treatment atelectasi upper lung lobe select br...</td>\n",
              "    </tr>\n",
              "    <tr>\n",
              "      <th>4</th>\n",
              "      <td>21</td>\n",
              "      <td>Decision analysis, public health policy, and ...</td>\n",
              "      <td>decis analysi public health polici isoniazid c...</td>\n",
              "    </tr>\n",
              "  </tbody>\n",
              "</table>\n",
              "</div>"
            ],
            "text/plain": [
              "   label                                                doc  \\\n",
              "0     16   Improved outcome at 28 days of age for very l...   \n",
              "1      5   Chylothorax after posterior spinal instrument...   \n",
              "2     16   Childhood pulmonary function following hyalin...   \n",
              "3      8   Treatment of atelectasis of upper lung lobes....   \n",
              "4     21   Decision analysis, public health policy, and ...   \n",
              "\n",
              "                                              doc_pp  \n",
              "0  improv outcom day age low birth weight infant ...  \n",
              "1  chylothorax posterior spinal instrument fusion...  \n",
              "2  childhood pulmonari function follow hyalin mem...  \n",
              "3  treatment atelectasi upper lung lobe select br...  \n",
              "4  decis analysi public health polici isoniazid c...  "
            ]
          },
          "execution_count": 32,
          "metadata": {},
          "output_type": "execute_result"
        }
      ],
      "source": [
        "corpus.head()"
      ]
    },
    {
      "cell_type": "markdown",
      "metadata": {
        "id": "3q4-_0F50VTz"
      },
      "source": [
        "## Vectorización vía TF-IDF con scikit-learn"
      ]
    },
    {
      "cell_type": "markdown",
      "metadata": {
        "id": "kKBvYcyQ0n38"
      },
      "source": [
        "Usaremos la funcion **```TFidfVectorizer```** de sklearn.\n",
        "Notar que el paramentro **```min_df```** hace la función \"cut-off\" para no considerar los términos con poca frecuencia en el documento.\n",
        "En este ejercio se ha establecido una frecuencia de al menos 70 documentos que contengan el término que corresponde a cerca del 0.5% de todos los documentos\n"
      ]
    },
    {
      "cell_type": "code",
      "execution_count": 33,
      "metadata": {
        "colab": {
          "base_uri": "https://localhost:8080/",
          "height": 441
        },
        "id": "xxo__kupoJtY",
        "outputId": "1bf6f988-a85c-462f-9cc9-b4cb6d106452"
      },
      "outputs": [
        {
          "name": "stdout",
          "output_type": "stream",
          "text": [
            "(13914, 3408)\n"
          ]
        },
        {
          "data": {
            "text/html": [
              "<div>\n",
              "<style scoped>\n",
              "    .dataframe tbody tr th:only-of-type {\n",
              "        vertical-align: middle;\n",
              "    }\n",
              "\n",
              "    .dataframe tbody tr th {\n",
              "        vertical-align: top;\n",
              "    }\n",
              "\n",
              "    .dataframe thead th {\n",
              "        text-align: right;\n",
              "    }\n",
              "</style>\n",
              "<table border=\"1\" class=\"dataframe\">\n",
              "  <thead>\n",
              "    <tr style=\"text-align: right;\">\n",
              "      <th></th>\n",
              "      <th>ab</th>\n",
              "      <th>abdomen</th>\n",
              "      <th>abdomin</th>\n",
              "      <th>aberr</th>\n",
              "      <th>abil</th>\n",
              "      <th>abl</th>\n",
              "      <th>ablat</th>\n",
              "      <th>abnorm</th>\n",
              "      <th>abolish</th>\n",
              "      <th>abort</th>\n",
              "      <th>...</th>\n",
              "      <th>year</th>\n",
              "      <th>yet</th>\n",
              "      <th>yield</th>\n",
              "      <th>york</th>\n",
              "      <th>young</th>\n",
              "      <th>younger</th>\n",
              "      <th>yr</th>\n",
              "      <th>zero</th>\n",
              "      <th>zidovudin</th>\n",
              "      <th>zone</th>\n",
              "    </tr>\n",
              "  </thead>\n",
              "  <tbody>\n",
              "    <tr>\n",
              "      <th>0</th>\n",
              "      <td>0.0</td>\n",
              "      <td>0.0</td>\n",
              "      <td>0.0</td>\n",
              "      <td>0.0</td>\n",
              "      <td>0.0</td>\n",
              "      <td>0.0</td>\n",
              "      <td>0.0</td>\n",
              "      <td>0.00000</td>\n",
              "      <td>0.0</td>\n",
              "      <td>0.0</td>\n",
              "      <td>...</td>\n",
              "      <td>0.000000</td>\n",
              "      <td>0.0</td>\n",
              "      <td>0.0</td>\n",
              "      <td>0.0</td>\n",
              "      <td>0.000000</td>\n",
              "      <td>0.0</td>\n",
              "      <td>0.0</td>\n",
              "      <td>0.0</td>\n",
              "      <td>0.0</td>\n",
              "      <td>0.0</td>\n",
              "    </tr>\n",
              "    <tr>\n",
              "      <th>1</th>\n",
              "      <td>0.0</td>\n",
              "      <td>0.0</td>\n",
              "      <td>0.0</td>\n",
              "      <td>0.0</td>\n",
              "      <td>0.0</td>\n",
              "      <td>0.0</td>\n",
              "      <td>0.0</td>\n",
              "      <td>0.00000</td>\n",
              "      <td>0.0</td>\n",
              "      <td>0.0</td>\n",
              "      <td>...</td>\n",
              "      <td>0.068062</td>\n",
              "      <td>0.0</td>\n",
              "      <td>0.0</td>\n",
              "      <td>0.0</td>\n",
              "      <td>0.000000</td>\n",
              "      <td>0.0</td>\n",
              "      <td>0.0</td>\n",
              "      <td>0.0</td>\n",
              "      <td>0.0</td>\n",
              "      <td>0.0</td>\n",
              "    </tr>\n",
              "    <tr>\n",
              "      <th>2</th>\n",
              "      <td>0.0</td>\n",
              "      <td>0.0</td>\n",
              "      <td>0.0</td>\n",
              "      <td>0.0</td>\n",
              "      <td>0.0</td>\n",
              "      <td>0.0</td>\n",
              "      <td>0.0</td>\n",
              "      <td>0.14475</td>\n",
              "      <td>0.0</td>\n",
              "      <td>0.0</td>\n",
              "      <td>...</td>\n",
              "      <td>0.000000</td>\n",
              "      <td>0.0</td>\n",
              "      <td>0.0</td>\n",
              "      <td>0.0</td>\n",
              "      <td>0.000000</td>\n",
              "      <td>0.0</td>\n",
              "      <td>0.0</td>\n",
              "      <td>0.0</td>\n",
              "      <td>0.0</td>\n",
              "      <td>0.0</td>\n",
              "    </tr>\n",
              "    <tr>\n",
              "      <th>3</th>\n",
              "      <td>0.0</td>\n",
              "      <td>0.0</td>\n",
              "      <td>0.0</td>\n",
              "      <td>0.0</td>\n",
              "      <td>0.0</td>\n",
              "      <td>0.0</td>\n",
              "      <td>0.0</td>\n",
              "      <td>0.00000</td>\n",
              "      <td>0.0</td>\n",
              "      <td>0.0</td>\n",
              "      <td>...</td>\n",
              "      <td>0.000000</td>\n",
              "      <td>0.0</td>\n",
              "      <td>0.0</td>\n",
              "      <td>0.0</td>\n",
              "      <td>0.000000</td>\n",
              "      <td>0.0</td>\n",
              "      <td>0.0</td>\n",
              "      <td>0.0</td>\n",
              "      <td>0.0</td>\n",
              "      <td>0.0</td>\n",
              "    </tr>\n",
              "    <tr>\n",
              "      <th>4</th>\n",
              "      <td>0.0</td>\n",
              "      <td>0.0</td>\n",
              "      <td>0.0</td>\n",
              "      <td>0.0</td>\n",
              "      <td>0.0</td>\n",
              "      <td>0.0</td>\n",
              "      <td>0.0</td>\n",
              "      <td>0.00000</td>\n",
              "      <td>0.0</td>\n",
              "      <td>0.0</td>\n",
              "      <td>...</td>\n",
              "      <td>0.041414</td>\n",
              "      <td>0.0</td>\n",
              "      <td>0.0</td>\n",
              "      <td>0.0</td>\n",
              "      <td>0.079649</td>\n",
              "      <td>0.0</td>\n",
              "      <td>0.0</td>\n",
              "      <td>0.0</td>\n",
              "      <td>0.0</td>\n",
              "      <td>0.0</td>\n",
              "    </tr>\n",
              "    <tr>\n",
              "      <th>...</th>\n",
              "      <td>...</td>\n",
              "      <td>...</td>\n",
              "      <td>...</td>\n",
              "      <td>...</td>\n",
              "      <td>...</td>\n",
              "      <td>...</td>\n",
              "      <td>...</td>\n",
              "      <td>...</td>\n",
              "      <td>...</td>\n",
              "      <td>...</td>\n",
              "      <td>...</td>\n",
              "      <td>...</td>\n",
              "      <td>...</td>\n",
              "      <td>...</td>\n",
              "      <td>...</td>\n",
              "      <td>...</td>\n",
              "      <td>...</td>\n",
              "      <td>...</td>\n",
              "      <td>...</td>\n",
              "      <td>...</td>\n",
              "      <td>...</td>\n",
              "    </tr>\n",
              "    <tr>\n",
              "      <th>13909</th>\n",
              "      <td>0.0</td>\n",
              "      <td>0.0</td>\n",
              "      <td>0.0</td>\n",
              "      <td>0.0</td>\n",
              "      <td>0.0</td>\n",
              "      <td>0.0</td>\n",
              "      <td>0.0</td>\n",
              "      <td>0.00000</td>\n",
              "      <td>0.0</td>\n",
              "      <td>0.0</td>\n",
              "      <td>...</td>\n",
              "      <td>0.000000</td>\n",
              "      <td>0.0</td>\n",
              "      <td>0.0</td>\n",
              "      <td>0.0</td>\n",
              "      <td>0.000000</td>\n",
              "      <td>0.0</td>\n",
              "      <td>0.0</td>\n",
              "      <td>0.0</td>\n",
              "      <td>0.0</td>\n",
              "      <td>0.0</td>\n",
              "    </tr>\n",
              "    <tr>\n",
              "      <th>13910</th>\n",
              "      <td>0.0</td>\n",
              "      <td>0.0</td>\n",
              "      <td>0.0</td>\n",
              "      <td>0.0</td>\n",
              "      <td>0.0</td>\n",
              "      <td>0.0</td>\n",
              "      <td>0.0</td>\n",
              "      <td>0.00000</td>\n",
              "      <td>0.0</td>\n",
              "      <td>0.0</td>\n",
              "      <td>...</td>\n",
              "      <td>0.000000</td>\n",
              "      <td>0.0</td>\n",
              "      <td>0.0</td>\n",
              "      <td>0.0</td>\n",
              "      <td>0.000000</td>\n",
              "      <td>0.0</td>\n",
              "      <td>0.0</td>\n",
              "      <td>0.0</td>\n",
              "      <td>0.0</td>\n",
              "      <td>0.0</td>\n",
              "    </tr>\n",
              "    <tr>\n",
              "      <th>13911</th>\n",
              "      <td>0.0</td>\n",
              "      <td>0.0</td>\n",
              "      <td>0.0</td>\n",
              "      <td>0.0</td>\n",
              "      <td>0.0</td>\n",
              "      <td>0.0</td>\n",
              "      <td>0.0</td>\n",
              "      <td>0.00000</td>\n",
              "      <td>0.0</td>\n",
              "      <td>0.0</td>\n",
              "      <td>...</td>\n",
              "      <td>0.000000</td>\n",
              "      <td>0.0</td>\n",
              "      <td>0.0</td>\n",
              "      <td>0.0</td>\n",
              "      <td>0.000000</td>\n",
              "      <td>0.0</td>\n",
              "      <td>0.0</td>\n",
              "      <td>0.0</td>\n",
              "      <td>0.0</td>\n",
              "      <td>0.0</td>\n",
              "    </tr>\n",
              "    <tr>\n",
              "      <th>13912</th>\n",
              "      <td>0.0</td>\n",
              "      <td>0.0</td>\n",
              "      <td>0.0</td>\n",
              "      <td>0.0</td>\n",
              "      <td>0.0</td>\n",
              "      <td>0.0</td>\n",
              "      <td>0.0</td>\n",
              "      <td>0.00000</td>\n",
              "      <td>0.0</td>\n",
              "      <td>0.0</td>\n",
              "      <td>...</td>\n",
              "      <td>0.000000</td>\n",
              "      <td>0.0</td>\n",
              "      <td>0.0</td>\n",
              "      <td>0.0</td>\n",
              "      <td>0.000000</td>\n",
              "      <td>0.0</td>\n",
              "      <td>0.0</td>\n",
              "      <td>0.0</td>\n",
              "      <td>0.0</td>\n",
              "      <td>0.0</td>\n",
              "    </tr>\n",
              "    <tr>\n",
              "      <th>13913</th>\n",
              "      <td>0.0</td>\n",
              "      <td>0.0</td>\n",
              "      <td>0.0</td>\n",
              "      <td>0.0</td>\n",
              "      <td>0.0</td>\n",
              "      <td>0.0</td>\n",
              "      <td>0.0</td>\n",
              "      <td>0.00000</td>\n",
              "      <td>0.0</td>\n",
              "      <td>0.0</td>\n",
              "      <td>...</td>\n",
              "      <td>0.000000</td>\n",
              "      <td>0.0</td>\n",
              "      <td>0.0</td>\n",
              "      <td>0.0</td>\n",
              "      <td>0.000000</td>\n",
              "      <td>0.0</td>\n",
              "      <td>0.0</td>\n",
              "      <td>0.0</td>\n",
              "      <td>0.0</td>\n",
              "      <td>0.0</td>\n",
              "    </tr>\n",
              "  </tbody>\n",
              "</table>\n",
              "<p>13914 rows × 3408 columns</p>\n",
              "</div>"
            ],
            "text/plain": [
              "        ab  abdomen  abdomin  aberr  abil  abl  ablat   abnorm  abolish  \\\n",
              "0      0.0      0.0      0.0    0.0   0.0  0.0    0.0  0.00000      0.0   \n",
              "1      0.0      0.0      0.0    0.0   0.0  0.0    0.0  0.00000      0.0   \n",
              "2      0.0      0.0      0.0    0.0   0.0  0.0    0.0  0.14475      0.0   \n",
              "3      0.0      0.0      0.0    0.0   0.0  0.0    0.0  0.00000      0.0   \n",
              "4      0.0      0.0      0.0    0.0   0.0  0.0    0.0  0.00000      0.0   \n",
              "...    ...      ...      ...    ...   ...  ...    ...      ...      ...   \n",
              "13909  0.0      0.0      0.0    0.0   0.0  0.0    0.0  0.00000      0.0   \n",
              "13910  0.0      0.0      0.0    0.0   0.0  0.0    0.0  0.00000      0.0   \n",
              "13911  0.0      0.0      0.0    0.0   0.0  0.0    0.0  0.00000      0.0   \n",
              "13912  0.0      0.0      0.0    0.0   0.0  0.0    0.0  0.00000      0.0   \n",
              "13913  0.0      0.0      0.0    0.0   0.0  0.0    0.0  0.00000      0.0   \n",
              "\n",
              "       abort  ...      year  yet  yield  york     young  younger   yr  zero  \\\n",
              "0        0.0  ...  0.000000  0.0    0.0   0.0  0.000000      0.0  0.0   0.0   \n",
              "1        0.0  ...  0.068062  0.0    0.0   0.0  0.000000      0.0  0.0   0.0   \n",
              "2        0.0  ...  0.000000  0.0    0.0   0.0  0.000000      0.0  0.0   0.0   \n",
              "3        0.0  ...  0.000000  0.0    0.0   0.0  0.000000      0.0  0.0   0.0   \n",
              "4        0.0  ...  0.041414  0.0    0.0   0.0  0.079649      0.0  0.0   0.0   \n",
              "...      ...  ...       ...  ...    ...   ...       ...      ...  ...   ...   \n",
              "13909    0.0  ...  0.000000  0.0    0.0   0.0  0.000000      0.0  0.0   0.0   \n",
              "13910    0.0  ...  0.000000  0.0    0.0   0.0  0.000000      0.0  0.0   0.0   \n",
              "13911    0.0  ...  0.000000  0.0    0.0   0.0  0.000000      0.0  0.0   0.0   \n",
              "13912    0.0  ...  0.000000  0.0    0.0   0.0  0.000000      0.0  0.0   0.0   \n",
              "13913    0.0  ...  0.000000  0.0    0.0   0.0  0.000000      0.0  0.0   0.0   \n",
              "\n",
              "       zidovudin  zone  \n",
              "0            0.0   0.0  \n",
              "1            0.0   0.0  \n",
              "2            0.0   0.0  \n",
              "3            0.0   0.0  \n",
              "4            0.0   0.0  \n",
              "...          ...   ...  \n",
              "13909        0.0   0.0  \n",
              "13910        0.0   0.0  \n",
              "13911        0.0   0.0  \n",
              "13912        0.0   0.0  \n",
              "13913        0.0   0.0  \n",
              "\n",
              "[13914 rows x 3408 columns]"
            ]
          },
          "execution_count": 33,
          "metadata": {},
          "output_type": "execute_result"
        }
      ],
      "source": [
        "tfidf = TfidfVectorizer(min_df=30)\n",
        "mdt_tfidf = tfidf.fit_transform(corpus['doc_pp'])\n",
        "palabras = tfidf.get_feature_names_out()\n",
        "MDT = pd.DataFrame(mdt_tfidf.todense(),\n",
        "                              index=corpus.index,\n",
        "                              columns=palabras)\n",
        "print(MDT.shape)\n",
        "MDT"
      ]
    },
    {
      "cell_type": "code",
      "execution_count": 34,
      "metadata": {
        "colab": {
          "base_uri": "https://localhost:8080/"
        },
        "id": "2qEwu_1hfuRv",
        "outputId": "ef4d4096-c596-4bbf-c722-683549bbb118"
      },
      "outputs": [
        {
          "data": {
            "text/plain": [
              "98.26726307005947"
            ]
          },
          "execution_count": 34,
          "metadata": {},
          "output_type": "execute_result"
        }
      ],
      "source": [
        "# ¿ Qué porcentaje de celdas tienen cero?\n",
        "\n",
        "no_ceros = MDT.astype(bool).sum().sum()  # Cantidad de ceros en todo el dataframe\n",
        "total = MDT.shape[0] * MDT.shape[1]\n",
        "\n",
        "(1 - no_ceros/total) * 100"
      ]
    },
    {
      "cell_type": "markdown",
      "metadata": {
        "id": "Yyikiv431m1V"
      },
      "source": [
        "## Descomposición en valores singulares (SVD) con numpy\n",
        "\n",
        "$~~ M = U~D~V^{T}$\n",
        "\n",
        "$~~ M =\n",
        "\\sum_{i=1}^{min(m, n)}s_{i}\\cdot u_{i}v_{i}^{T}\n",
        "$\n",
        "\n",
        "\n",
        "\n",
        "\n"
      ]
    },
    {
      "cell_type": "code",
      "execution_count": 35,
      "metadata": {
        "colab": {
          "base_uri": "https://localhost:8080/"
        },
        "id": "tTumfmbHXolY",
        "outputId": "351210e6-dec1-460e-b476-2f8b15c94dc0"
      },
      "outputs": [
        {
          "name": "stdout",
          "output_type": "stream",
          "text": [
            "(13914, 13914) (3408, 3408) (3408, 3408)\n",
            "CPU times: user 7min 7s, sys: 7.11 s, total: 7min 14s\n",
            "Wall time: 1min 1s\n"
          ]
        }
      ],
      "source": [
        "%%time\n",
        "# Vemos las dimensiones de las tres matrices\n",
        "# Descomposición Matriz Documento Término  (3 min)\n",
        "U_, sigma_, Vt_ = np.linalg.svd(MDT)\n",
        "\n",
        "# Obtener con los valores singulares (sigma) la matriz D\n",
        "D_ = np.diag(sigma_)\n",
        "\n",
        "print(U_.shape, D_.shape, Vt_.shape)"
      ]
    },
    {
      "cell_type": "code",
      "execution_count": 36,
      "metadata": {},
      "outputs": [
        {
          "data": {
            "text/plain": [
              "array([[2.05133821e+01, 0.00000000e+00, 0.00000000e+00, ...,\n",
              "        0.00000000e+00, 0.00000000e+00, 0.00000000e+00],\n",
              "       [0.00000000e+00, 1.08698582e+01, 0.00000000e+00, ...,\n",
              "        0.00000000e+00, 0.00000000e+00, 0.00000000e+00],\n",
              "       [0.00000000e+00, 0.00000000e+00, 1.00211141e+01, ...,\n",
              "        0.00000000e+00, 0.00000000e+00, 0.00000000e+00],\n",
              "       ...,\n",
              "       [0.00000000e+00, 0.00000000e+00, 0.00000000e+00, ...,\n",
              "        3.50061123e-01, 0.00000000e+00, 0.00000000e+00],\n",
              "       [0.00000000e+00, 0.00000000e+00, 0.00000000e+00, ...,\n",
              "        0.00000000e+00, 3.30627431e-01, 0.00000000e+00],\n",
              "       [0.00000000e+00, 0.00000000e+00, 0.00000000e+00, ...,\n",
              "        0.00000000e+00, 0.00000000e+00, 2.81904737e-15]])"
            ]
          },
          "execution_count": 36,
          "metadata": {},
          "output_type": "execute_result"
        }
      ],
      "source": [
        "D_"
      ]
    },
    {
      "cell_type": "code",
      "execution_count": 37,
      "metadata": {
        "colab": {
          "base_uri": "https://localhost:8080/"
        },
        "id": "VdALkmg6ywfx",
        "outputId": "2cc03cc3-e087-4e0f-c5ca-f75dacabcfc7"
      },
      "outputs": [
        {
          "data": {
            "text/plain": [
              "(3408,)"
            ]
          },
          "execution_count": 37,
          "metadata": {},
          "output_type": "execute_result"
        }
      ],
      "source": [
        "sigma_.shape"
      ]
    },
    {
      "cell_type": "code",
      "execution_count": 38,
      "metadata": {
        "colab": {
          "base_uri": "https://localhost:8080/"
        },
        "id": "ytAPPLIeJ0d4",
        "outputId": "db7ffbca-d26e-4e4e-cc55-09d818fb51c6"
      },
      "outputs": [
        {
          "data": {
            "text/plain": [
              "3408"
            ]
          },
          "execution_count": 38,
          "metadata": {},
          "output_type": "execute_result"
        }
      ],
      "source": [
        "# ¿Cuántos valores de sigma son distintos de cero?\n",
        "sigmas = sigma_[np.nonzero(sigma_)]\n",
        "len(sigmas)"
      ]
    },
    {
      "cell_type": "code",
      "execution_count": 39,
      "metadata": {
        "colab": {
          "base_uri": "https://localhost:8080/"
        },
        "id": "zUWtleGhNdj6",
        "outputId": "5412999c-3225-4fd0-a82a-a20ed5c77631"
      },
      "outputs": [
        {
          "name": "stdout",
          "output_type": "stream",
          "text": [
            "2.819047372744054e-15\n"
          ]
        }
      ],
      "source": [
        "print(min(sigma_))"
      ]
    },
    {
      "cell_type": "code",
      "execution_count": 40,
      "metadata": {
        "colab": {
          "base_uri": "https://localhost:8080/"
        },
        "id": "1P687lFeTP_U",
        "outputId": "8233ab19-5e31-452e-b698-8f6952d972bd"
      },
      "outputs": [
        {
          "data": {
            "text/plain": [
              "array([2.05133821e+01, 1.08698582e+01, 1.00211141e+01, ...,\n",
              "       3.50061123e-01, 3.30627431e-01, 2.81904737e-15])"
            ]
          },
          "execution_count": 40,
          "metadata": {},
          "output_type": "execute_result"
        }
      ],
      "source": [
        "# En el vector sigma estan ordenados los eigenvalores\n",
        "sigma_"
      ]
    },
    {
      "cell_type": "code",
      "execution_count": 41,
      "metadata": {
        "colab": {
          "base_uri": "https://localhost:8080/",
          "height": 449
        },
        "id": "Dx8DRsXuCvMx",
        "outputId": "19aca4e4-e437-43ab-94d9-78dfccd199ee"
      },
      "outputs": [
        {
          "data": {
            "image/png": "[encoded data removed]",
            "text/plain": [
              "<Figure size 640x480 with 1 Axes>"
            ]
          },
          "metadata": {},
          "output_type": "display_data"
        }
      ],
      "source": [
        "import seaborn as sns\n",
        "import matplotlib.pyplot as plt\n",
        "\n",
        "k = 2049\n",
        "sns.lineplot(x=list(range(len(sigma_[0:k]))), y = sigma_[0:k])\n",
        "plt.ylabel('Importancia relativa de cada componente')\n",
        "plt.xlabel('Componentes latentes')\n",
        "plt.show()"
      ]
    },
    {
      "cell_type": "markdown",
      "metadata": {
        "id": "Iwtp0QqVrKVZ"
      },
      "source": [
        "## Análisis Semántico Latente\n",
        " SVD especificando $k<r$ con scipy\n",
        "\n",
        "\n",
        "$ ~~~~~~~~~~~~~~~~~~~~~~~~~~~~~~~~~~~~~~~~~~~~~~~~~~~~~~~~~~~~~~~~~~~~~~\\hat{M} = U_{k}~~D_{k}~~V_{k}^{T}\n",
        "$"
      ]
    },
    {
      "cell_type": "code",
      "execution_count": 42,
      "metadata": {
        "colab": {
          "base_uri": "https://localhost:8080/"
        },
        "id": "yygLNwBVLCbh",
        "outputId": "efc627ee-1f5c-4e4d-9b99-512fabbd5ce4"
      },
      "outputs": [
        {
          "name": "stdout",
          "output_type": "stream",
          "text": [
            "CPU times: user 3min 47s, sys: 5.16 s, total: 3min 52s\n",
            "Wall time: 31.3 s\n"
          ]
        }
      ],
      "source": [
        "%%time\n",
        "from scipy.sparse.linalg import svds\n",
        "U_k, sigmas_k, Vt_k = svds(np.array(MDT), k=100)\n",
        "D_k = np.diag(sigmas_k)"
      ]
    },
    {
      "cell_type": "code",
      "execution_count": 43,
      "metadata": {
        "colab": {
          "base_uri": "https://localhost:8080/"
        },
        "id": "y3iVpQB6xUNh",
        "outputId": "fd053ca7-1aca-4cb8-fa6c-462de3143dc1"
      },
      "outputs": [
        {
          "data": {
            "text/plain": [
              "((13914, 100), (100, 100), (100, 3408))"
            ]
          },
          "execution_count": 43,
          "metadata": {},
          "output_type": "execute_result"
        }
      ],
      "source": [
        "# docs-temas / relevancia temas / temas-palabras\n",
        "\n",
        "U_k.shape, D_k.shape, Vt_k.shape"
      ]
    },
    {
      "cell_type": "markdown",
      "metadata": {
        "id": "j1Y9JE72qJc2"
      },
      "source": [
        "\n",
        "### Obtener la matriz reducida que representa a cada documento con k términos\n",
        "\n",
        "$ M_{n\\times{k}} = U_{k}~~\\sqrt{D_{k}} $"
      ]
    },
    {
      "cell_type": "code",
      "execution_count": 44,
      "metadata": {
        "colab": {
          "base_uri": "https://localhost:8080/"
        },
        "id": "wnThiwvj6LNn",
        "outputId": "bcf2578a-8a52-4a94-e9c1-ce8e4e3597e3"
      },
      "outputs": [
        {
          "data": {
            "text/plain": [
              "(13914, 100)"
            ]
          },
          "execution_count": 44,
          "metadata": {},
          "output_type": "execute_result"
        }
      ],
      "source": [
        "M1 = np.matmul(U_k, sqrtm(D_k))\n",
        "M1.shape"
      ]
    },
    {
      "cell_type": "markdown",
      "metadata": {
        "id": "MBeKX7-x0EMh"
      },
      "source": [
        "### Obtener la matriz reducida que representa a cada palabra con k términos\n",
        "$ M_{k\\times{d}} = \\sqrt{D_{k}}~~{V_{k}}^T~~ $"
      ]
    },
    {
      "cell_type": "code",
      "execution_count": 45,
      "metadata": {
        "colab": {
          "base_uri": "https://localhost:8080/"
        },
        "id": "HJOw_cEv0BW2",
        "outputId": "f981fc55-502e-45de-e841-adba8fa08331"
      },
      "outputs": [
        {
          "data": {
            "text/plain": [
              "(100, 3408)"
            ]
          },
          "execution_count": 45,
          "metadata": {},
          "output_type": "execute_result"
        }
      ],
      "source": [
        "M2 =  np.matmul(sqrtm(D_k), Vt_k)\n",
        "M2.shape"
      ]
    },
    {
      "cell_type": "markdown",
      "metadata": {
        "id": "pQMENpxVv54U"
      },
      "source": [
        "Por facilidad la función auxiliar **```descomposicion_k()```** regresa las dos matrices obtenidas en las líneas anteriores\n",
        "\n"
      ]
    },
    {
      "cell_type": "code",
      "execution_count": 46,
      "metadata": {
        "colab": {
          "base_uri": "https://localhost:8080/"
        },
        "id": "f6UTG7vYtiAJ",
        "outputId": "462c7cff-1850-4cf6-ada3-8cd3fefb7550"
      },
      "outputs": [
        {
          "name": "stdout",
          "output_type": "stream",
          "text": [
            "(13914, 100) (100, 3408)\n"
          ]
        }
      ],
      "source": [
        "MDT_nk, MDT_kd = descomposicion_k(U_k, D_k, Vt_k )\n",
        "\n",
        "print(MDT_nk.shape, MDT_kd.shape)"
      ]
    },
    {
      "cell_type": "code",
      "execution_count": 47,
      "metadata": {
        "colab": {
          "base_uri": "https://localhost:8080/"
        },
        "id": "2DnkswG4fJWN",
        "outputId": "d3d8cf55-69e8-4720-d871-4b06e3dfc745"
      },
      "outputs": [
        {
          "data": {
            "text/plain": [
              "((13914, 100), (3408, 100))"
            ]
          },
          "execution_count": 47,
          "metadata": {},
          "output_type": "execute_result"
        }
      ],
      "source": [
        "# Dimensiones de las matrices reducidas\n",
        "(M1).shape, np.transpose(M2).shape"
      ]
    },
    {
      "cell_type": "markdown",
      "metadata": {
        "id": "JVUuySPAn6MO"
      },
      "source": [
        "## Vectorización de consultas\n"
      ]
    },
    {
      "cell_type": "markdown",
      "metadata": {
        "id": "SfD1H4dKoYiP"
      },
      "source": [
        "Debemos ahora vectorizar nuestra consulta utilizando el mismo vocabulario que el corpus"
      ]
    },
    {
      "cell_type": "code",
      "execution_count": 48,
      "metadata": {
        "colab": {
          "base_uri": "https://localhost:8080/"
        },
        "id": "sEi5YMftlW7W",
        "outputId": "8f5121e4-eda7-48b6-da69-c22de881801e"
      },
      "outputs": [
        {
          "data": {
            "text/plain": [
              "(1, 3408)"
            ]
          },
          "execution_count": 48,
          "metadata": {},
          "output_type": "execute_result"
        }
      ],
      "source": [
        "# Podemos usar cualquier texto\n",
        "q = vectorizar_consulta('heart disease')\n",
        "q.shape"
      ]
    },
    {
      "cell_type": "code",
      "execution_count": 49,
      "metadata": {
        "colab": {
          "base_uri": "https://localhost:8080/"
        },
        "id": "Iq6Yk47AVAfB",
        "outputId": "119caad8-82b1-4b46-8b6f-01a3c3eaa21a"
      },
      "outputs": [
        {
          "data": {
            "text/plain": [
              "array([[0., 0., 0., ..., 0., 0., 0.]])"
            ]
          },
          "execution_count": 49,
          "metadata": {},
          "output_type": "execute_result"
        }
      ],
      "source": [
        "q"
      ]
    },
    {
      "cell_type": "markdown",
      "metadata": {
        "id": "gU94qtI9quWr"
      },
      "source": [
        "Como vemos, tenemos ahora la consulta con las d dimensiones que corresponden al vocabulario del corpus.\n",
        "\n"
      ]
    },
    {
      "cell_type": "code",
      "execution_count": 50,
      "metadata": {
        "colab": {
          "base_uri": "https://localhost:8080/"
        },
        "id": "cNsLECuGgzWy",
        "outputId": "f7eb78bd-1123-4528-bbf3-b796ec6635b6"
      },
      "outputs": [
        {
          "data": {
            "text/plain": [
              "array([[ 4.21313102,  0.        ,  0.        , ...,  0.        ,\n",
              "         0.        ,  0.        ],\n",
              "       [ 0.        ,  4.21878693,  0.        , ...,  0.        ,\n",
              "         0.        ,  0.        ],\n",
              "       [ 0.        ,  0.        ,  4.22660336, ...,  0.        ,\n",
              "         0.        ,  0.        ],\n",
              "       ...,\n",
              "       [ 0.        ,  0.        ,  0.        , ..., 10.02111407,\n",
              "         0.        ,  0.        ],\n",
              "       [ 0.        ,  0.        ,  0.        , ...,  0.        ,\n",
              "        10.86985825,  0.        ],\n",
              "       [ 0.        ,  0.        ,  0.        , ...,  0.        ,\n",
              "         0.        , 20.51338214]])"
            ]
          },
          "execution_count": 50,
          "metadata": {},
          "output_type": "execute_result"
        }
      ],
      "source": [
        "D_k"
      ]
    },
    {
      "cell_type": "markdown",
      "metadata": {
        "id": "Tx9nr9PbpIzu"
      },
      "source": [
        "**Ahora es necesario reducir el vector, usando nuestras matrices**\n",
        "\n",
        "$\\hat{q} =\n",
        "q~V_{k}~D\n",
        "$"
      ]
    },
    {
      "cell_type": "code",
      "execution_count": 51,
      "metadata": {
        "colab": {
          "base_uri": "https://localhost:8080/"
        },
        "id": "P-mV7Woa7LJC",
        "outputId": "22866bcc-bee9-4d45-f939-977dce18ed7a"
      },
      "outputs": [
        {
          "name": "stdout",
          "output_type": "stream",
          "text": [
            "(1, 3408) (3408, 100) (100, 100)\n",
            "(1, 100)\n"
          ]
        }
      ],
      "source": [
        "q_k = (q @ np.transpose(Vt_k)) @ (D_k)\n",
        "print(q.shape, np.transpose(Vt_k).shape, D_k.shape )\n",
        "print(q_k.shape)"
      ]
    },
    {
      "cell_type": "code",
      "execution_count": 52,
      "metadata": {
        "colab": {
          "base_uri": "https://localhost:8080/"
        },
        "id": "0R3ASfswgMBg",
        "outputId": "b59d714e-630e-4843-8772-c07ec95c405a"
      },
      "outputs": [
        {
          "data": {
            "text/plain": [
              "array([[ 3.04830233e-01,  2.13989021e-01, -8.13034574e-02,\n",
              "        -1.26587223e-01, -2.14646564e-01, -7.52801044e-03,\n",
              "         1.79490149e-01, -9.27830213e-02, -3.76554463e-01,\n",
              "         2.41269673e-01,  2.65420696e-01,  2.93325628e-02,\n",
              "        -1.51069829e-01, -3.05375711e-01,  1.56509876e-01,\n",
              "        -3.00059686e-01, -2.05583298e-02,  3.21530427e-01,\n",
              "         2.29464970e-01,  1.97999837e-01,  6.96176514e-02,\n",
              "        -4.14270889e-01,  3.85368158e-01,  3.69601862e-02,\n",
              "        -1.90744690e-01,  1.06927357e-02,  3.18735646e-01,\n",
              "        -4.71419952e-01, -1.24391937e-01, -7.96706592e-02,\n",
              "        -8.25847589e-02,  1.89774174e-01,  3.62993451e-01,\n",
              "        -2.36311639e-01,  4.65896411e-01,  1.70952318e-02,\n",
              "         4.51143977e-01,  2.45309993e-01, -1.36223856e-01,\n",
              "         1.63096961e-02,  1.63143048e-01,  2.11891443e-02,\n",
              "        -9.66609750e-02,  4.32360571e-01,  7.36401384e-01,\n",
              "         4.58657210e-01,  4.90787407e-01, -3.14605053e-01,\n",
              "         2.60866654e-01,  1.51826569e-01,  3.15330337e-01,\n",
              "        -3.38723380e-02, -3.27381331e-01, -4.56493199e-01,\n",
              "        -3.11542553e-01,  2.04388532e-01,  5.67300810e-01,\n",
              "         1.44921771e-01, -3.73956935e-01, -1.30577391e-01,\n",
              "        -6.33435005e-01, -1.29961157e-01,  1.03599411e-01,\n",
              "         3.71362777e-02,  2.44907439e-01,  4.25645597e-01,\n",
              "        -1.33896319e-03,  9.23137299e-01,  5.32211238e-01,\n",
              "        -1.19364301e-01,  5.32723211e-01, -3.91584894e-01,\n",
              "        -8.57978789e-02, -4.25419433e-02,  3.03714680e-02,\n",
              "         1.13815760e+00, -9.09907240e-01,  1.10894255e-01,\n",
              "        -7.18670422e-01, -5.94716851e-02, -4.51154357e-01,\n",
              "        -5.48843382e-01, -1.75729141e-01, -1.40056551e-01,\n",
              "         4.94641155e-01, -2.58896752e-01, -5.85430427e-02,\n",
              "         4.23869505e-01,  5.75059678e-01,  4.96443433e-01,\n",
              "         1.52414393e+00, -4.38914399e-01,  4.93951461e-01,\n",
              "         7.46550578e-01,  3.45227484e-02,  5.99097300e-01,\n",
              "         3.67946935e-02, -2.59481583e-01, -5.84136216e-01,\n",
              "        -2.22967827e+00]])"
            ]
          },
          "execution_count": 52,
          "metadata": {},
          "output_type": "execute_result"
        }
      ],
      "source": [
        "q_k"
      ]
    },
    {
      "cell_type": "markdown",
      "metadata": {
        "id": "VeggL9v9rUI5"
      },
      "source": [
        "Por facilidad guardamos el código anterior en la función auxiliar **```reducir_vec_consulta()```**\n",
        "\n"
      ]
    },
    {
      "cell_type": "code",
      "execution_count": 53,
      "metadata": {
        "colab": {
          "base_uri": "https://localhost:8080/"
        },
        "id": "Al_kVl0Vo1n5",
        "outputId": "1074989d-4570-4e55-d603-4e13900ca971"
      },
      "outputs": [
        {
          "data": {
            "text/plain": [
              "(1, 100)"
            ]
          },
          "execution_count": 53,
          "metadata": {},
          "output_type": "execute_result"
        }
      ],
      "source": [
        "q_k = reducir_vec_consulta(q)\n",
        "q_k.shape"
      ]
    },
    {
      "cell_type": "code",
      "execution_count": 54,
      "metadata": {
        "colab": {
          "base_uri": "https://localhost:8080/",
          "height": 363
        },
        "id": "F4N3ST-5hfoQ",
        "outputId": "daf4b63c-910f-4b3c-8856-71b212683589"
      },
      "outputs": [
        {
          "data": {
            "text/html": [
              "<div>\n",
              "<style scoped>\n",
              "    .dataframe tbody tr th:only-of-type {\n",
              "        vertical-align: middle;\n",
              "    }\n",
              "\n",
              "    .dataframe tbody tr th {\n",
              "        vertical-align: top;\n",
              "    }\n",
              "\n",
              "    .dataframe thead th {\n",
              "        text-align: right;\n",
              "    }\n",
              "</style>\n",
              "<table border=\"1\" class=\"dataframe\">\n",
              "  <thead>\n",
              "    <tr style=\"text-align: right;\">\n",
              "      <th></th>\n",
              "      <th>label</th>\n",
              "      <th>doc</th>\n",
              "    </tr>\n",
              "  </thead>\n",
              "  <tbody>\n",
              "    <tr>\n",
              "      <th>0</th>\n",
              "      <td>18</td>\n",
              "      <td>Alkaline phosphatase (tissue-nonspecific isoe...</td>\n",
              "    </tr>\n",
              "    <tr>\n",
              "      <th>1</th>\n",
              "      <td>10</td>\n",
              "      <td>The community hospital-based stroke programs ...</td>\n",
              "    </tr>\n",
              "    <tr>\n",
              "      <th>2</th>\n",
              "      <td>23</td>\n",
              "      <td>Surgery in patients on long-term steroid ther...</td>\n",
              "    </tr>\n",
              "    <tr>\n",
              "      <th>3</th>\n",
              "      <td>4</td>\n",
              "      <td>Primary Ewing sarcoma: follow-up with Ga-67 s...</td>\n",
              "    </tr>\n",
              "    <tr>\n",
              "      <th>4</th>\n",
              "      <td>21</td>\n",
              "      <td>Psychiatric diagnoses of treatment-seeking co...</td>\n",
              "    </tr>\n",
              "    <tr>\n",
              "      <th>5</th>\n",
              "      <td>21</td>\n",
              "      <td>Clinical experience with the benzodiazepine a...</td>\n",
              "    </tr>\n",
              "    <tr>\n",
              "      <th>6</th>\n",
              "      <td>23</td>\n",
              "      <td>The validity of canine platelet aggregometry ...</td>\n",
              "    </tr>\n",
              "    <tr>\n",
              "      <th>7</th>\n",
              "      <td>6</td>\n",
              "      <td>Evaluation of women with possible appendiciti...</td>\n",
              "    </tr>\n",
              "    <tr>\n",
              "      <th>8</th>\n",
              "      <td>14</td>\n",
              "      <td>Heart rate adjustment of exercise-induced ST ...</td>\n",
              "    </tr>\n",
              "    <tr>\n",
              "      <th>9</th>\n",
              "      <td>14</td>\n",
              "      <td>Auto-PEEP during CPR. An \"occult\" cause of el...</td>\n",
              "    </tr>\n",
              "  </tbody>\n",
              "</table>\n",
              "</div>"
            ],
            "text/plain": [
              "   label                                                doc\n",
              "0     18   Alkaline phosphatase (tissue-nonspecific isoe...\n",
              "1     10   The community hospital-based stroke programs ...\n",
              "2     23   Surgery in patients on long-term steroid ther...\n",
              "3      4   Primary Ewing sarcoma: follow-up with Ga-67 s...\n",
              "4     21   Psychiatric diagnoses of treatment-seeking co...\n",
              "5     21   Clinical experience with the benzodiazepine a...\n",
              "6     23   The validity of canine platelet aggregometry ...\n",
              "7      6   Evaluation of women with possible appendiciti...\n",
              "8     14   Heart rate adjustment of exercise-induced ST ...\n",
              "9     14   Auto-PEEP during CPR. An \"occult\" cause of el..."
            ]
          },
          "execution_count": 54,
          "metadata": {},
          "output_type": "execute_result"
        }
      ],
      "source": [
        "consultas"
      ]
    },
    {
      "cell_type": "code",
      "execution_count": 55,
      "metadata": {
        "colab": {
          "base_uri": "https://localhost:8080/",
          "height": 157
        },
        "id": "ABZTWcG6_7VO",
        "outputId": "8b912376-bbee-40a5-eb6c-23a2df64ae39"
      },
      "outputs": [
        {
          "name": "stdout",
          "output_type": "stream",
          "text": [
            "Clase de la consulta: 10 \n",
            "\n"
          ]
        },
        {
          "data": {
            "text/plain": [
              "' The community hospital-based stroke programs in North Carolina, Oregon and New York--V. Stroke diagnosis: factors influencing the diagnostic evaluation of patients following acute stroke, Among the 4129 patients of the Community Hospital-based Stroke Program. 30% had an unspecified stroke diagnosis. Since specific diagnosis and. perhaps. eventual treatment. derives in part from diagnostic testing. we examined the effect of clinical condition. geographic and demographic factors on the incidence of certain diagnostic tests after acute stroke. In this multivariable analysis. race. sex. history of hypertension and history of diabetes did not influence the chance of having any test. but older age strongly reduced the chances of receiving extensive evaluation. When CT scanning was available. the utilization of a CT as well as other diagnostic studies including cerebral angiography. radionuclide brain scan. EEG and EKG was increased. The odds of receiving a CT scan increased if the patient was married. and decreased with a history of previous stroke. A history of previous TIA increased the chance of having a cerebral angiogram while a history of cardiac disease decreased the chance. There were striking regional geographic differences in the use of CT. radionuclide brain scanning and cerebral angiography which may. in part. reflect differences between the availability of these technologies in urban and rural hospitals. These results indicate that evaluation of stroke patients remains heterogenous.'"
            ]
          },
          "execution_count": 55,
          "metadata": {},
          "output_type": "execute_result"
        }
      ],
      "source": [
        "# Elegimos uno de los diagnósticos como consulta,\n",
        "# guardamos la clase y el texto\n",
        "q_idx = 1\n",
        "clase_q =consultas.loc[q_idx,'label']\n",
        "Q = consultas.loc[q_idx,'doc']\n",
        "\n",
        "print('Clase de la consulta:' , clase_q,'\\n')\n",
        "Q"
      ]
    },
    {
      "cell_type": "code",
      "execution_count": 56,
      "metadata": {
        "colab": {
          "base_uri": "https://localhost:8080/"
        },
        "id": "f8KNA8wPs-zf",
        "outputId": "5b023e3d-03c4-46d5-e355-ec2aa87739a7"
      },
      "outputs": [
        {
          "name": "stdout",
          "output_type": "stream",
          "text": [
            "Dimensión vector q  : (1, 3408)\n",
            "Dimensión vector q_k: (1, 100)\n"
          ]
        }
      ],
      "source": [
        "q = vectorizar_consulta(Q)  # Preprocesamos y vectorizamos\n",
        "q_k = reducir_vec_consulta(q)  # Reducimos a k dimensiones\n",
        "print ('Dimensión vector q  :', q.shape)\n",
        "print ('Dimensión vector q_k:', q_k.shape)"
      ]
    },
    {
      "cell_type": "markdown",
      "metadata": {
        "id": "9fReog-udoOx"
      },
      "source": [
        "## Búsqueda de documentos relevantes a la consulta"
      ]
    },
    {
      "cell_type": "code",
      "execution_count": 57,
      "metadata": {
        "colab": {
          "base_uri": "https://localhost:8080/"
        },
        "id": "_1rz7UWmpcls",
        "outputId": "543c2a69-2940-4f1a-f710-d181c34e7c65"
      },
      "outputs": [
        {
          "name": "stdout",
          "output_type": "stream",
          "text": [
            "                 Documentos encontrados:  4798\n",
            "      Documentos relevantes encontrados:  703\n",
            "Documentos relevantes en todo el corpus:  1221 \n",
            "\n",
            "                              Precisión: 0.15\n",
            "                           Sensibilidad: 0.58\n"
          ]
        }
      ],
      "source": [
        "tol = .2  # Valor a partir del que se considera un doc similar a la consulta, el limite o threshold\n",
        "\n",
        "doc_sim = documentos_similares(q_k, MDT_nk, lim = tol)\n",
        "\n",
        "\n",
        "Dt = len(doc_sim)                       # Documentos encontrados\n",
        "Dr = (doc_sim['label']==clase_q).sum()  # Documentos relevantes encontrados\n",
        "Nr = (corpus['label']==clase_q).sum()   # Documentos relevantes en todo el corps\n",
        "\n",
        "# Documentos relevantes encontrados, entre todos los doc encontrados similares\n",
        "precision = Dr / Dt\n",
        "\n",
        "# Documentos relevantes encontrados, entre todos los doc relevantes en el corpus\n",
        "sensibilidad = Dr / Nr   # Recall\n",
        "\n",
        "print ('                 Documentos encontrados: ', Dt)\n",
        "print ('      Documentos relevantes encontrados: ', Dr)\n",
        "print ('Documentos relevantes en todo el corpus: ', Nr, '\\n')\n",
        "\n",
        "print ('                              Precisión: {:1.2f}'.format(precision))\n",
        "print ('                           Sensibilidad: {:1.2f}'.format(sensibilidad))"
      ]
    },
    {
      "cell_type": "code",
      "execution_count": 58,
      "metadata": {
        "colab": {
          "base_uri": "https://localhost:8080/"
        },
        "id": "OSycLIVqPzhz",
        "outputId": "e4d92c98-7644-4e03-dd9a-ee9767bf5eec"
      },
      "outputs": [
        {
          "name": "stdout",
          "output_type": "stream",
          "text": [
            "                 Documentos encontrados:  43\n",
            "      Documentos relevantes encontrados:  30\n",
            "Documentos relevantes en todo el corpus:  1221 \n",
            "\n",
            "                              Precisión: 0.70\n",
            "                           Sensibilidad: 0.02\n"
          ]
        }
      ],
      "source": [
        "tol = .2  # Valor a partir del que se considera un doc similar a la consulta\n",
        "\n",
        "doc_sim = documentos_similares(q, MDT.to_numpy(), lim = tol)\n",
        "\n",
        "\n",
        "Dt = len(doc_sim)                       # Documentos encontrados\n",
        "Dr = (doc_sim['label']==clase_q).sum()  # Documentos relevantes encontrados\n",
        "Nr = (corpus['label']==clase_q).sum()   # Documentos relevantes en todo el corps\n",
        "\n",
        "# Documentos relevantes encontrados, entre todos los doc encontrados similares\n",
        "precision = Dr / Dt\n",
        "\n",
        "# Documentos relevantes encontrados, entre todos los docrelevantes en el corpus\n",
        "sensibilidad = Dr / Nr   # Recall\n",
        "\n",
        "print ('                 Documentos encontrados: ', Dt)\n",
        "print ('      Documentos relevantes encontrados: ', Dr)\n",
        "print ('Documentos relevantes en todo el corpus: ', Nr, '\\n')\n",
        "\n",
        "print ('                              Precisión: {:1.2f}'.format(precision))\n",
        "print ('                           Sensibilidad: {:1.2f}'.format(sensibilidad))"
      ]
    },
    {
      "cell_type": "markdown",
      "metadata": {
        "id": "Te7vW6MOc4fG"
      },
      "source": [
        "## Evaluación de la recuperación de información"
      ]
    },
    {
      "cell_type": "code",
      "execution_count": 59,
      "metadata": {
        "colab": {
          "base_uri": "https://localhost:8080/",
          "height": 472
        },
        "id": "7r0q5-ktSXtn",
        "outputId": "508777f3-33e0-4b78-fc6c-f17cf57570fc"
      },
      "outputs": [
        {
          "data": {
            "image/png": "[encoded data removed]",
            "text/plain": [
              "<Figure size 640x480 with 1 Axes>"
            ]
          },
          "metadata": {},
          "output_type": "display_data"
        }
      ],
      "source": [
        "tols = np.linspace(0.01, 0.3, 50)\n",
        "evaluacion = precision_sensibilidad(q, MDT.to_numpy(),tols)"
      ]
    },
    {
      "cell_type": "code",
      "execution_count": 60,
      "metadata": {
        "colab": {
          "base_uri": "https://localhost:8080/",
          "height": 472
        },
        "id": "ebjBYUcFSFRI",
        "outputId": "9cc5d66b-ab01-4ca3-fada-58ecc3061ec6"
      },
      "outputs": [
        {
          "data": {
            "image/png": "[encoded data removed]",
            "text/plain": [
              "<Figure size 640x480 with 1 Axes>"
            ]
          },
          "metadata": {},
          "output_type": "display_data"
        }
      ],
      "source": [
        "tols = np.linspace(0.15, 0.49, 50)\n",
        "evaluacion_k = precision_sensibilidad(q_k, MDT_nk, tols)"
      ]
    },
    {
      "cell_type": "code",
      "execution_count": 61,
      "metadata": {
        "colab": {
          "base_uri": "https://localhost:8080/",
          "height": 1000
        },
        "id": "2rtu2qGFU3zo",
        "outputId": "2a9096f1-38bd-470a-f420-ecca9d569213"
      },
      "outputs": [
        {
          "data": {
            "text/html": [
              "<div>\n",
              "<style scoped>\n",
              "    .dataframe tbody tr th:only-of-type {\n",
              "        vertical-align: middle;\n",
              "    }\n",
              "\n",
              "    .dataframe tbody tr th {\n",
              "        vertical-align: top;\n",
              "    }\n",
              "\n",
              "    .dataframe thead th {\n",
              "        text-align: right;\n",
              "    }\n",
              "</style>\n",
              "<table border=\"1\" class=\"dataframe\">\n",
              "  <thead>\n",
              "    <tr style=\"text-align: right;\">\n",
              "      <th></th>\n",
              "      <th>key_0</th>\n",
              "      <th>precision_k</th>\n",
              "      <th>sensibilidad_k</th>\n",
              "      <th>precision</th>\n",
              "      <th>sensibilidad</th>\n",
              "    </tr>\n",
              "  </thead>\n",
              "  <tbody>\n",
              "    <tr>\n",
              "      <th>0</th>\n",
              "      <td>0.010000</td>\n",
              "      <td>0.112746</td>\n",
              "      <td>0.740377</td>\n",
              "      <td>0.090142</td>\n",
              "      <td>0.891892</td>\n",
              "    </tr>\n",
              "    <tr>\n",
              "      <th>1</th>\n",
              "      <td>0.015918</td>\n",
              "      <td>0.117498</td>\n",
              "      <td>0.721540</td>\n",
              "      <td>0.093744</td>\n",
              "      <td>0.780508</td>\n",
              "    </tr>\n",
              "    <tr>\n",
              "      <th>2</th>\n",
              "      <td>0.021837</td>\n",
              "      <td>0.121718</td>\n",
              "      <td>0.698608</td>\n",
              "      <td>0.100575</td>\n",
              "      <td>0.673219</td>\n",
              "    </tr>\n",
              "    <tr>\n",
              "      <th>3</th>\n",
              "      <td>0.027755</td>\n",
              "      <td>0.127085</td>\n",
              "      <td>0.686323</td>\n",
              "      <td>0.109920</td>\n",
              "      <td>0.570844</td>\n",
              "    </tr>\n",
              "    <tr>\n",
              "      <th>4</th>\n",
              "      <td>0.033673</td>\n",
              "      <td>0.130272</td>\n",
              "      <td>0.655201</td>\n",
              "      <td>0.118651</td>\n",
              "      <td>0.466830</td>\n",
              "    </tr>\n",
              "    <tr>\n",
              "      <th>5</th>\n",
              "      <td>0.039592</td>\n",
              "      <td>0.134236</td>\n",
              "      <td>0.624898</td>\n",
              "      <td>0.130613</td>\n",
              "      <td>0.390663</td>\n",
              "    </tr>\n",
              "    <tr>\n",
              "      <th>6</th>\n",
              "      <td>0.045510</td>\n",
              "      <td>0.138278</td>\n",
              "      <td>0.597052</td>\n",
              "      <td>0.139377</td>\n",
              "      <td>0.318591</td>\n",
              "    </tr>\n",
              "    <tr>\n",
              "      <th>7</th>\n",
              "      <td>0.051429</td>\n",
              "      <td>0.145320</td>\n",
              "      <td>0.579853</td>\n",
              "      <td>0.146882</td>\n",
              "      <td>0.260442</td>\n",
              "    </tr>\n",
              "    <tr>\n",
              "      <th>8</th>\n",
              "      <td>0.057347</td>\n",
              "      <td>0.151294</td>\n",
              "      <td>0.560197</td>\n",
              "      <td>0.161984</td>\n",
              "      <td>0.221949</td>\n",
              "    </tr>\n",
              "    <tr>\n",
              "      <th>9</th>\n",
              "      <td>0.063265</td>\n",
              "      <td>0.157615</td>\n",
              "      <td>0.534808</td>\n",
              "      <td>0.183183</td>\n",
              "      <td>0.199836</td>\n",
              "    </tr>\n",
              "    <tr>\n",
              "      <th>10</th>\n",
              "      <td>0.069184</td>\n",
              "      <td>0.165437</td>\n",
              "      <td>0.514333</td>\n",
              "      <td>0.203422</td>\n",
              "      <td>0.175266</td>\n",
              "    </tr>\n",
              "    <tr>\n",
              "      <th>11</th>\n",
              "      <td>0.075102</td>\n",
              "      <td>0.171312</td>\n",
              "      <td>0.483210</td>\n",
              "      <td>0.222884</td>\n",
              "      <td>0.153153</td>\n",
              "    </tr>\n",
              "    <tr>\n",
              "      <th>12</th>\n",
              "      <td>0.081020</td>\n",
              "      <td>0.176789</td>\n",
              "      <td>0.455364</td>\n",
              "      <td>0.255443</td>\n",
              "      <td>0.144144</td>\n",
              "    </tr>\n",
              "    <tr>\n",
              "      <th>13</th>\n",
              "      <td>0.086939</td>\n",
              "      <td>0.182008</td>\n",
              "      <td>0.429156</td>\n",
              "      <td>0.288256</td>\n",
              "      <td>0.132678</td>\n",
              "    </tr>\n",
              "    <tr>\n",
              "      <th>14</th>\n",
              "      <td>0.092857</td>\n",
              "      <td>0.188528</td>\n",
              "      <td>0.403767</td>\n",
              "      <td>0.315678</td>\n",
              "      <td>0.122031</td>\n",
              "    </tr>\n",
              "    <tr>\n",
              "      <th>15</th>\n",
              "      <td>0.098776</td>\n",
              "      <td>0.193942</td>\n",
              "      <td>0.377559</td>\n",
              "      <td>0.325521</td>\n",
              "      <td>0.102375</td>\n",
              "    </tr>\n",
              "    <tr>\n",
              "      <th>16</th>\n",
              "      <td>0.104694</td>\n",
              "      <td>0.201968</td>\n",
              "      <td>0.352989</td>\n",
              "      <td>0.343653</td>\n",
              "      <td>0.090909</td>\n",
              "    </tr>\n",
              "    <tr>\n",
              "      <th>17</th>\n",
              "      <td>0.110612</td>\n",
              "      <td>0.208901</td>\n",
              "      <td>0.326781</td>\n",
              "      <td>0.358974</td>\n",
              "      <td>0.080262</td>\n",
              "    </tr>\n",
              "    <tr>\n",
              "      <th>18</th>\n",
              "      <td>0.116531</td>\n",
              "      <td>0.215348</td>\n",
              "      <td>0.296478</td>\n",
              "      <td>0.373391</td>\n",
              "      <td>0.071253</td>\n",
              "    </tr>\n",
              "    <tr>\n",
              "      <th>19</th>\n",
              "      <td>0.122449</td>\n",
              "      <td>0.220013</td>\n",
              "      <td>0.271908</td>\n",
              "      <td>0.417910</td>\n",
              "      <td>0.068796</td>\n",
              "    </tr>\n",
              "    <tr>\n",
              "      <th>20</th>\n",
              "      <td>0.128367</td>\n",
              "      <td>0.233457</td>\n",
              "      <td>0.257166</td>\n",
              "      <td>0.456647</td>\n",
              "      <td>0.064701</td>\n",
              "    </tr>\n",
              "    <tr>\n",
              "      <th>21</th>\n",
              "      <td>0.134286</td>\n",
              "      <td>0.236123</td>\n",
              "      <td>0.233415</td>\n",
              "      <td>0.487179</td>\n",
              "      <td>0.062244</td>\n",
              "    </tr>\n",
              "    <tr>\n",
              "      <th>22</th>\n",
              "      <td>0.140204</td>\n",
              "      <td>0.241411</td>\n",
              "      <td>0.212940</td>\n",
              "      <td>0.496403</td>\n",
              "      <td>0.056511</td>\n",
              "    </tr>\n",
              "    <tr>\n",
              "      <th>23</th>\n",
              "      <td>0.146122</td>\n",
              "      <td>0.250518</td>\n",
              "      <td>0.198198</td>\n",
              "      <td>0.515873</td>\n",
              "      <td>0.053235</td>\n",
              "    </tr>\n",
              "    <tr>\n",
              "      <th>24</th>\n",
              "      <td>0.152041</td>\n",
              "      <td>0.258324</td>\n",
              "      <td>0.184275</td>\n",
              "      <td>0.543860</td>\n",
              "      <td>0.050778</td>\n",
              "    </tr>\n",
              "    <tr>\n",
              "      <th>25</th>\n",
              "      <td>0.157959</td>\n",
              "      <td>0.275817</td>\n",
              "      <td>0.172809</td>\n",
              "      <td>0.577320</td>\n",
              "      <td>0.045864</td>\n",
              "    </tr>\n",
              "    <tr>\n",
              "      <th>26</th>\n",
              "      <td>0.163878</td>\n",
              "      <td>0.281669</td>\n",
              "      <td>0.154791</td>\n",
              "      <td>0.600000</td>\n",
              "      <td>0.041769</td>\n",
              "    </tr>\n",
              "    <tr>\n",
              "      <th>27</th>\n",
              "      <td>0.169796</td>\n",
              "      <td>0.296173</td>\n",
              "      <td>0.145782</td>\n",
              "      <td>0.625000</td>\n",
              "      <td>0.036855</td>\n",
              "    </tr>\n",
              "    <tr>\n",
              "      <th>28</th>\n",
              "      <td>0.175714</td>\n",
              "      <td>0.309751</td>\n",
              "      <td>0.132678</td>\n",
              "      <td>0.625000</td>\n",
              "      <td>0.032760</td>\n",
              "    </tr>\n",
              "    <tr>\n",
              "      <th>29</th>\n",
              "      <td>0.181633</td>\n",
              "      <td>0.320000</td>\n",
              "      <td>0.117936</td>\n",
              "      <td>0.634615</td>\n",
              "      <td>0.027027</td>\n",
              "    </tr>\n",
              "    <tr>\n",
              "      <th>30</th>\n",
              "      <td>0.187551</td>\n",
              "      <td>0.330729</td>\n",
              "      <td>0.104013</td>\n",
              "      <td>0.673469</td>\n",
              "      <td>0.027027</td>\n",
              "    </tr>\n",
              "    <tr>\n",
              "      <th>31</th>\n",
              "      <td>0.193469</td>\n",
              "      <td>0.342508</td>\n",
              "      <td>0.091728</td>\n",
              "      <td>0.688889</td>\n",
              "      <td>0.025389</td>\n",
              "    </tr>\n",
              "    <tr>\n",
              "      <th>32</th>\n",
              "      <td>0.199388</td>\n",
              "      <td>0.363958</td>\n",
              "      <td>0.084357</td>\n",
              "      <td>0.697674</td>\n",
              "      <td>0.024570</td>\n",
              "    </tr>\n",
              "    <tr>\n",
              "      <th>33</th>\n",
              "      <td>0.205306</td>\n",
              "      <td>0.378151</td>\n",
              "      <td>0.073710</td>\n",
              "      <td>0.697674</td>\n",
              "      <td>0.024570</td>\n",
              "    </tr>\n",
              "    <tr>\n",
              "      <th>34</th>\n",
              "      <td>0.211224</td>\n",
              "      <td>0.392157</td>\n",
              "      <td>0.065520</td>\n",
              "      <td>0.700000</td>\n",
              "      <td>0.022932</td>\n",
              "    </tr>\n",
              "    <tr>\n",
              "      <th>35</th>\n",
              "      <td>0.217143</td>\n",
              "      <td>0.396552</td>\n",
              "      <td>0.056511</td>\n",
              "      <td>0.714286</td>\n",
              "      <td>0.020475</td>\n",
              "    </tr>\n",
              "    <tr>\n",
              "      <th>36</th>\n",
              "      <td>0.223061</td>\n",
              "      <td>0.406667</td>\n",
              "      <td>0.049959</td>\n",
              "      <td>0.718750</td>\n",
              "      <td>0.018837</td>\n",
              "    </tr>\n",
              "    <tr>\n",
              "      <th>37</th>\n",
              "      <td>0.228980</td>\n",
              "      <td>0.421053</td>\n",
              "      <td>0.045864</td>\n",
              "      <td>0.733333</td>\n",
              "      <td>0.018018</td>\n",
              "    </tr>\n",
              "    <tr>\n",
              "      <th>38</th>\n",
              "      <td>0.234898</td>\n",
              "      <td>0.440367</td>\n",
              "      <td>0.039312</td>\n",
              "      <td>0.730769</td>\n",
              "      <td>0.015561</td>\n",
              "    </tr>\n",
              "    <tr>\n",
              "      <th>39</th>\n",
              "      <td>0.240816</td>\n",
              "      <td>0.434783</td>\n",
              "      <td>0.032760</td>\n",
              "      <td>0.714286</td>\n",
              "      <td>0.012285</td>\n",
              "    </tr>\n",
              "    <tr>\n",
              "      <th>40</th>\n",
              "      <td>0.246735</td>\n",
              "      <td>0.468354</td>\n",
              "      <td>0.030303</td>\n",
              "      <td>0.684211</td>\n",
              "      <td>0.010647</td>\n",
              "    </tr>\n",
              "    <tr>\n",
              "      <th>41</th>\n",
              "      <td>0.252653</td>\n",
              "      <td>0.483871</td>\n",
              "      <td>0.024570</td>\n",
              "      <td>0.684211</td>\n",
              "      <td>0.010647</td>\n",
              "    </tr>\n",
              "    <tr>\n",
              "      <th>42</th>\n",
              "      <td>0.258571</td>\n",
              "      <td>0.491228</td>\n",
              "      <td>0.022932</td>\n",
              "      <td>0.705882</td>\n",
              "      <td>0.009828</td>\n",
              "    </tr>\n",
              "    <tr>\n",
              "      <th>43</th>\n",
              "      <td>0.264490</td>\n",
              "      <td>0.510204</td>\n",
              "      <td>0.020475</td>\n",
              "      <td>0.733333</td>\n",
              "      <td>0.009009</td>\n",
              "    </tr>\n",
              "    <tr>\n",
              "      <th>44</th>\n",
              "      <td>0.270408</td>\n",
              "      <td>0.484848</td>\n",
              "      <td>0.013104</td>\n",
              "      <td>0.714286</td>\n",
              "      <td>0.008190</td>\n",
              "    </tr>\n",
              "    <tr>\n",
              "      <th>45</th>\n",
              "      <td>0.276327</td>\n",
              "      <td>0.480000</td>\n",
              "      <td>0.009828</td>\n",
              "      <td>0.727273</td>\n",
              "      <td>0.006552</td>\n",
              "    </tr>\n",
              "    <tr>\n",
              "      <th>46</th>\n",
              "      <td>0.282245</td>\n",
              "      <td>0.578947</td>\n",
              "      <td>0.009009</td>\n",
              "      <td>0.777778</td>\n",
              "      <td>0.005733</td>\n",
              "    </tr>\n",
              "    <tr>\n",
              "      <th>47</th>\n",
              "      <td>0.288163</td>\n",
              "      <td>0.500000</td>\n",
              "      <td>0.005733</td>\n",
              "      <td>0.777778</td>\n",
              "      <td>0.005733</td>\n",
              "    </tr>\n",
              "    <tr>\n",
              "      <th>48</th>\n",
              "      <td>0.294082</td>\n",
              "      <td>0.600000</td>\n",
              "      <td>0.004914</td>\n",
              "      <td>0.750000</td>\n",
              "      <td>0.004914</td>\n",
              "    </tr>\n",
              "    <tr>\n",
              "      <th>49</th>\n",
              "      <td>0.300000</td>\n",
              "      <td>0.600000</td>\n",
              "      <td>0.002457</td>\n",
              "      <td>0.714286</td>\n",
              "      <td>0.004095</td>\n",
              "    </tr>\n",
              "  </tbody>\n",
              "</table>\n",
              "</div>"
            ],
            "text/plain": [
              "       key_0  precision_k  sensibilidad_k  precision  sensibilidad\n",
              "0   0.010000     0.112746        0.740377   0.090142      0.891892\n",
              "1   0.015918     0.117498        0.721540   0.093744      0.780508\n",
              "2   0.021837     0.121718        0.698608   0.100575      0.673219\n",
              "3   0.027755     0.127085        0.686323   0.109920      0.570844\n",
              "4   0.033673     0.130272        0.655201   0.118651      0.466830\n",
              "5   0.039592     0.134236        0.624898   0.130613      0.390663\n",
              "6   0.045510     0.138278        0.597052   0.139377      0.318591\n",
              "7   0.051429     0.145320        0.579853   0.146882      0.260442\n",
              "8   0.057347     0.151294        0.560197   0.161984      0.221949\n",
              "9   0.063265     0.157615        0.534808   0.183183      0.199836\n",
              "10  0.069184     0.165437        0.514333   0.203422      0.175266\n",
              "11  0.075102     0.171312        0.483210   0.222884      0.153153\n",
              "12  0.081020     0.176789        0.455364   0.255443      0.144144\n",
              "13  0.086939     0.182008        0.429156   0.288256      0.132678\n",
              "14  0.092857     0.188528        0.403767   0.315678      0.122031\n",
              "15  0.098776     0.193942        0.377559   0.325521      0.102375\n",
              "16  0.104694     0.201968        0.352989   0.343653      0.090909\n",
              "17  0.110612     0.208901        0.326781   0.358974      0.080262\n",
              "18  0.116531     0.215348        0.296478   0.373391      0.071253\n",
              "19  0.122449     0.220013        0.271908   0.417910      0.068796\n",
              "20  0.128367     0.233457        0.257166   0.456647      0.064701\n",
              "21  0.134286     0.236123        0.233415   0.487179      0.062244\n",
              "22  0.140204     0.241411        0.212940   0.496403      0.056511\n",
              "23  0.146122     0.250518        0.198198   0.515873      0.053235\n",
              "24  0.152041     0.258324        0.184275   0.543860      0.050778\n",
              "25  0.157959     0.275817        0.172809   0.577320      0.045864\n",
              "26  0.163878     0.281669        0.154791   0.600000      0.041769\n",
              "27  0.169796     0.296173        0.145782   0.625000      0.036855\n",
              "28  0.175714     0.309751        0.132678   0.625000      0.032760\n",
              "29  0.181633     0.320000        0.117936   0.634615      0.027027\n",
              "30  0.187551     0.330729        0.104013   0.673469      0.027027\n",
              "31  0.193469     0.342508        0.091728   0.688889      0.025389\n",
              "32  0.199388     0.363958        0.084357   0.697674      0.024570\n",
              "33  0.205306     0.378151        0.073710   0.697674      0.024570\n",
              "34  0.211224     0.392157        0.065520   0.700000      0.022932\n",
              "35  0.217143     0.396552        0.056511   0.714286      0.020475\n",
              "36  0.223061     0.406667        0.049959   0.718750      0.018837\n",
              "37  0.228980     0.421053        0.045864   0.733333      0.018018\n",
              "38  0.234898     0.440367        0.039312   0.730769      0.015561\n",
              "39  0.240816     0.434783        0.032760   0.714286      0.012285\n",
              "40  0.246735     0.468354        0.030303   0.684211      0.010647\n",
              "41  0.252653     0.483871        0.024570   0.684211      0.010647\n",
              "42  0.258571     0.491228        0.022932   0.705882      0.009828\n",
              "43  0.264490     0.510204        0.020475   0.733333      0.009009\n",
              "44  0.270408     0.484848        0.013104   0.714286      0.008190\n",
              "45  0.276327     0.480000        0.009828   0.727273      0.006552\n",
              "46  0.282245     0.578947        0.009009   0.777778      0.005733\n",
              "47  0.288163     0.500000        0.005733   0.777778      0.005733\n",
              "48  0.294082     0.600000        0.004914   0.750000      0.004914\n",
              "49  0.300000     0.600000        0.002457   0.714286      0.004095"
            ]
          },
          "execution_count": 61,
          "metadata": {},
          "output_type": "execute_result"
        }
      ],
      "source": [
        "eval = pd.merge(evaluacion_k, evaluacion, how='left', on= evaluacion.index, suffixes  = ('_k',''))\n",
        "eval"
      ]
    },
    {
      "cell_type": "code",
      "execution_count": 62,
      "metadata": {
        "colab": {
          "base_uri": "https://localhost:8080/",
          "height": 430
        },
        "id": "r6toOviDYFKY",
        "outputId": "2a72e7e9-2ced-4333-d8bd-816f838e3e42"
      },
      "outputs": [
        {
          "data": {
            "image/png": "[encoded data removed]",
            "text/plain": [
              "<Figure size 640x480 with 1 Axes>"
            ]
          },
          "metadata": {},
          "output_type": "display_data"
        }
      ],
      "source": [
        "figsize =(4,4)\n",
        "plt.plot(eval['sensibilidad_k'], eval['precision_k'], label='Forma truncada')\n",
        "plt.plot(eval['sensibilidad'],  eval['precision'], label='Forma entera')\n",
        "\n",
        "plt.xlim=(.15,1)\n",
        "plt.xlabel('sensibilidad')\n",
        "plt.ylabel('precisión')\n",
        "\n",
        "plt.legend()\n",
        "plt.grid(alpha=.8, linestyle='--')\n",
        "plt.show()"
      ]
    }
  ],
  "metadata": {
    "colab": {
      "include_colab_link": true,
      "provenance": []
    },
    "kernelspec": {
      "display_name": "Python 3",
      "name": "python3"
    },
    "language_info": {
      "codemirror_mode": {
        "name": "ipython",
        "version": 3
      },
      "file_extension": ".py",
      "mimetype": "text/x-python",
      "name": "python",
      "nbconvert_exporter": "python",
      "pygments_lexer": "ipython3",
      "version": "3.9.6"
    }
  },
  "nbformat": 4,
  "nbformat_minor": 0
}
